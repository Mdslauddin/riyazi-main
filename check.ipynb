{
 "cells": [
  {
   "cell_type": "markdown",
   "id": "28e440aa",
   "metadata": {},
   "source": [
    "- version function issue"
   ]
  },
  {
   "cell_type": "code",
   "execution_count": null,
   "id": "74fa0e86",
   "metadata": {},
   "outputs": [],
   "source": [
    "import riyazi"
   ]
  },
  {
   "cell_type": "code",
   "execution_count": null,
   "id": "b34f6f0a",
   "metadata": {},
   "outputs": [],
   "source": [
    "riyazi.__version__"
   ]
  },
  {
   "cell_type": "code",
   "execution_count": null,
   "id": "3970c48f",
   "metadata": {},
   "outputs": [],
   "source": [
    "riyazi.sin(90)"
   ]
  },
  {
   "cell_type": "code",
   "execution_count": null,
   "id": "051ea0d4",
   "metadata": {},
   "outputs": [],
   "source": [
    "riyazi.cos(90)"
   ]
  },
  {
   "cell_type": "code",
   "execution_count": null,
   "id": "06d616eb",
   "metadata": {},
   "outputs": [],
   "source": []
  },
  {
   "cell_type": "code",
   "execution_count": null,
   "id": "bf63f6f0",
   "metadata": {},
   "outputs": [],
   "source": [
    "import pandas as pd "
   ]
  },
  {
   "cell_type": "code",
   "execution_count": null,
   "id": "a3dce9c6",
   "metadata": {},
   "outputs": [],
   "source": [
    "pd.__version__"
   ]
  },
  {
   "cell_type": "code",
   "execution_count": null,
   "id": "1e09a5e0",
   "metadata": {},
   "outputs": [],
   "source": []
  },
  {
   "cell_type": "code",
   "execution_count": null,
   "id": "fc9dbda7",
   "metadata": {
    "scrolled": true
   },
   "outputs": [],
   "source": [
    "riyazi.__version__()"
   ]
  },
  {
   "cell_type": "code",
   "execution_count": null,
   "id": "f20996a3",
   "metadata": {},
   "outputs": [],
   "source": [
    "def __version__ ():\n",
    "    return \"0.01\""
   ]
  },
  {
   "cell_type": "code",
   "execution_count": null,
   "id": "c5f7d710",
   "metadata": {},
   "outputs": [],
   "source": [
    "__version__()"
   ]
  },
  {
   "cell_type": "code",
   "execution_count": null,
   "id": "e73e1301",
   "metadata": {},
   "outputs": [],
   "source": []
  }
 ],
 "metadata": {
  "kernelspec": {
   "display_name": "Python 3 (ipykernel)",
   "language": "python",
   "name": "python3"
  },
  "language_info": {
   "codemirror_mode": {
    "name": "ipython",
    "version": 3
   },
   "file_extension": ".py",
   "mimetype": "text/x-python",
   "name": "python",
   "nbconvert_exporter": "python",
   "pygments_lexer": "ipython3",
   "version": "3.9.12"
  }
 },
 "nbformat": 4,
 "nbformat_minor": 5
}
