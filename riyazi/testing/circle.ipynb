{
 "cells": [
  {
   "cell_type": "code",
   "execution_count": 1,
   "id": "429208a2",
   "metadata": {},
   "outputs": [
    {
     "ename": "ModuleNotFoundError",
     "evalue": "No module named 'nympy'",
     "output_type": "error",
     "traceback": [
      "\u001b[1;31m---------------------------------------------------------------------------\u001b[0m",
      "\u001b[1;31mModuleNotFoundError\u001b[0m                       Traceback (most recent call last)",
      "Input \u001b[1;32mIn [1]\u001b[0m, in \u001b[0;36m<cell line: 1>\u001b[1;34m()\u001b[0m\n\u001b[1;32m----> 1\u001b[0m \u001b[38;5;28;01mimport\u001b[39;00m \u001b[38;5;21;01mnympy\u001b[39;00m \u001b[38;5;28;01mas\u001b[39;00m \u001b[38;5;21;01mnp\u001b[39;00m\n",
      "\u001b[1;31mModuleNotFoundError\u001b[0m: No module named 'nympy'"
     ]
    }
   ],
   "source": [
    "import nympy as np"
   ]
  },
  {
   "cell_type": "code",
   "execution_count": null,
   "id": "967b7871",
   "metadata": {},
   "outputs": [],
   "source": [
    "import numpy as np "
   ]
  },
  {
   "cell_type": "code",
   "execution_count": null,
   "id": "ebd194fd",
   "metadata": {},
   "outputs": [],
   "source": [
    "np.array([12,12,12][12,3])"
   ]
  },
  {
   "cell_type": "code",
   "execution_count": null,
   "id": "3fe55874",
   "metadata": {},
   "outputs": [],
   "source": [
    "np.array()"
   ]
  },
  {
   "cell_type": "code",
   "execution_count": null,
   "id": "89035418",
   "metadata": {},
   "outputs": [],
   "source": [
    "def array(object, dtype=None, * , copy=True, order='k', ndimn=0 , like=None):\n",
    "    "
   ]
  },
  {
   "cell_type": "code",
   "execution_count": null,
   "id": "719d268e",
   "metadata": {},
   "outputs": [],
   "source": []
  },
  {
   "cell_type": "code",
   "execution_count": null,
   "id": "54eec25f",
   "metadata": {},
   "outputs": [],
   "source": [
    "from cmath import pi \n",
    "def circle(r):\n",
    "    A = pi*r*r \n",
    "    c = 2*pi*r \n",
    "    d = 2* r \n",
    "    \n",
    "    \n",
    " \n",
    "    return print(f\"Area : {A}  , Circumference : {c} , Diametre : {d}\")"
   ]
  },
  {
   "cell_type": "code",
   "execution_count": null,
   "id": "c0982cc4",
   "metadata": {},
   "outputs": [],
   "source": [
    "circle(r=5)"
   ]
  },
  {
   "cell_type": "code",
   "execution_count": null,
   "id": "b3c09ad7",
   "metadata": {},
   "outputs": [],
   "source": [
    "def circle(area):\n",
    "    radius = (area/pi)**0.5\n",
    "    circum = 2*pi*radius \n",
    "    d = 2*radius\n",
    "    \n",
    "    return radius, circum , d"
   ]
  },
  {
   "cell_type": "code",
   "execution_count": null,
   "id": "e8d5ba5b",
   "metadata": {},
   "outputs": [],
   "source": [
    "circle(78.5398)"
   ]
  },
  {
   "cell_type": "code",
   "execution_count": null,
   "id": "6640c83c",
   "metadata": {},
   "outputs": [],
   "source": [
    "def circle(c): \n",
    "    radius = c/(2*pi)\n",
    "    a  = pi*radius*radius \n",
    "    d = 2*radius\n",
    "    \n",
    "    return radius , a , d "
   ]
  },
  {
   "cell_type": "code",
   "execution_count": null,
   "id": "92260afc",
   "metadata": {
    "scrolled": true
   },
   "outputs": [],
   "source": [
    "circle(31.41)"
   ]
  },
  {
   "cell_type": "code",
   "execution_count": null,
   "id": "15743c1c",
   "metadata": {},
   "outputs": [],
   "source": [
    "def circle(d): \n",
    "    radius = d/2 \n",
    "    a = pi*radius*radius\n",
    "    circum = 2*pi*radius\n",
    "    return radius, a , circum\n",
    "    "
   ]
  },
  {
   "cell_type": "code",
   "execution_count": null,
   "id": "0a4f4890",
   "metadata": {},
   "outputs": [],
   "source": [
    "circle(10)"
   ]
  },
  {
   "cell_type": "code",
   "execution_count": null,
   "id": "1d9911b0",
   "metadata": {},
   "outputs": [],
   "source": [
    "a = None"
   ]
  },
  {
   "cell_type": "code",
   "execution_count": null,
   "id": "d5605768",
   "metadata": {},
   "outputs": [],
   "source": [
    "a == a"
   ]
  },
  {
   "cell_type": "code",
   "execution_count": 15,
   "id": "99b2be06",
   "metadata": {},
   "outputs": [],
   "source": [
    "from cmath import pi \n",
    "def circle(area=None, r=None, c=None , d=None):\n",
    "    if(area !=None):\n",
    "        \n",
    "        radius = (area/pi)**0.5\n",
    "        circum = 2*pi*radius \n",
    "        d = 2*radius\n",
    "    \n",
    "        return radius, circum , d\n",
    "    if(r !=None):\n",
    "        \n",
    "        A = pi*r*r \n",
    "        c = 2*pi*r \n",
    "        d = 2* r \n",
    "    \n",
    "    \n",
    " \n",
    "        return print(f\"Area : {A}  , Circumference : {c} , Diametre : {d}\")\n",
    "\n",
    "    if(c !=None):\n",
    "        \n",
    "        radius = (c/(2*pi))\n",
    "        a  = pi*radius*radius \n",
    "        d = 2*radius\n",
    "    \n",
    "        return radius , a , d \n",
    "    \n",
    "    if(d != None):\n",
    "        \n",
    "        radius = d/2 \n",
    "        a = pi*radius*radius\n",
    "        circum = 2*pi*radius\n",
    "        return radius, a , circum\n",
    "        \n",
    "        \n",
    "        "
   ]
  },
  {
   "cell_type": "code",
   "execution_count": 16,
   "id": "6dcae0ea",
   "metadata": {},
   "outputs": [
    {
     "data": {
      "text/plain": [
       "(4.999687526437335, 31.413963206600116, 9.99937505287467)"
      ]
     },
     "execution_count": 16,
     "metadata": {},
     "output_type": "execute_result"
    }
   ],
   "source": [
    "circle(area=78.53)"
   ]
  },
  {
   "cell_type": "code",
   "execution_count": 17,
   "id": "2d2ea57b",
   "metadata": {},
   "outputs": [
    {
     "name": "stdout",
     "output_type": "stream",
     "text": [
      "Area : 78.53981633974483  , Circumference : 31.41592653589793 , Diametre : 10\n"
     ]
    }
   ],
   "source": [
    "circle(r=5)"
   ]
  },
  {
   "cell_type": "code",
   "execution_count": 19,
   "id": "c60ad177",
   "metadata": {},
   "outputs": [
    {
     "data": {
      "text/plain": [
       "(4.999056762516433, 78.51018645532058, 9.998113525032865)"
      ]
     },
     "execution_count": 19,
     "metadata": {},
     "output_type": "execute_result"
    }
   ],
   "source": [
    "circle(c=31.41)"
   ]
  },
  {
   "cell_type": "code",
   "execution_count": 20,
   "id": "3853fc63",
   "metadata": {},
   "outputs": [
    {
     "data": {
      "text/plain": [
       "(5.0, 78.53981633974483, 31.41592653589793)"
      ]
     },
     "execution_count": 20,
     "metadata": {},
     "output_type": "execute_result"
    }
   ],
   "source": [
    "circle(d=10)"
   ]
  },
  {
   "cell_type": "code",
   "execution_count": 21,
   "id": "ee575894",
   "metadata": {},
   "outputs": [],
   "source": [
    "from cmath import pi \n",
    "def circle(area=None, r=None, c=None , d=None):\n",
    "    if(area !=None):\n",
    "        \n",
    "        radius = (area/pi)**0.5\n",
    "        circum = 2*pi*radius \n",
    "        d = 2*radius\n",
    "    \n",
    "        return print(f\" Radius : {radius} , Circumference : {circum} , Diametre : {d}\")\n",
    "    if(r !=None):\n",
    "        \n",
    "        A = pi*r*r \n",
    "        c = 2*pi*r \n",
    "        d = 2* r \n",
    "    \n",
    "    \n",
    " \n",
    "        return print(f\"Area : {A}  , Circumference : {c} , Diametre : {d}\")\n",
    "\n",
    "    if(c !=None):\n",
    "        \n",
    "        radius = (c/(2*pi))\n",
    "        a  = pi*radius*radius \n",
    "        d = 2*radius\n",
    "    \n",
    "        return print(f\"Radius : {radius} , Area :  {a} , Diamterer  {d}\") \n",
    "    \n",
    "    if(d != None):\n",
    "        \n",
    "        radius = d/2 \n",
    "        a = pi*radius*radius\n",
    "        circum = 2*pi*radius\n",
    "        return print(f\" Radius : {radius} , Area :  {a} , Circumference : {circum}\")\n",
    "        \n",
    "        \n",
    "        "
   ]
  },
  {
   "cell_type": "code",
   "execution_count": 22,
   "id": "4e8657bb",
   "metadata": {},
   "outputs": [
    {
     "name": "stdout",
     "output_type": "stream",
     "text": [
      "Area : 78.53981633974483  , Circumference : 31.41592653589793 , Diametre : 10\n"
     ]
    }
   ],
   "source": [
    "circle(r=5)"
   ]
  },
  {
   "cell_type": "markdown",
   "id": "1a3bd978",
   "metadata": {},
   "source": [
    " \"\"\"from cmath import pi\n",
    "\n",
    "def circle(c,r):\n",
    "    r = c/2*pi\n",
    "    d = 2*r\n",
    "    Area = pi*r*r\n",
    "    c= 2*pi*r*r \n",
    "\n",
    "    return print(\"Radius is : \",r) , print(\"Diametre is : \" , d) ,print(\"Area is : \", Area),  print(\"Circumference is : \",c)\n",
    "     \n",
    "\"\"\""
   ]
  },
  {
   "cell_type": "code",
   "execution_count": null,
   "id": "35585b8b",
   "metadata": {},
   "outputs": [],
   "source": []
  },
  {
   "cell_type": "code",
   "execution_count": 23,
   "id": "f90a58b6",
   "metadata": {},
   "outputs": [],
   "source": [
    "import Riyazi.Geo.two_dim.circle as rgt"
   ]
  },
  {
   "cell_type": "code",
   "execution_count": 31,
   "id": "5d270f77",
   "metadata": {},
   "outputs": [
    {
     "name": "stdout",
     "output_type": "stream",
     "text": [
      " Radius : 5.000005846084075 , Circumference : 31.415963267927495 , Diametre : 10.00001169216815\n"
     ]
    }
   ],
   "source": [
    "rgt.circle(78.54,)"
   ]
  },
  {
   "cell_type": "code",
   "execution_count": 25,
   "id": "aade15b6",
   "metadata": {},
   "outputs": [],
   "source": [
    "import numpy as np\n"
   ]
  },
  {
   "cell_type": "code",
   "execution_count": 26,
   "id": "51ca4883",
   "metadata": {},
   "outputs": [
    {
     "data": {
      "text/plain": [
       "<function numpy.array>"
      ]
     },
     "execution_count": 26,
     "metadata": {},
     "output_type": "execute_result"
    }
   ],
   "source": [
    "np.array"
   ]
  },
  {
   "cell_type": "code",
   "execution_count": null,
   "id": "e37cb5b1",
   "metadata": {},
   "outputs": [],
   "source": []
  },
  {
   "cell_type": "code",
   "execution_count": 32,
   "id": "7c2661d3",
   "metadata": {},
   "outputs": [],
   "source": [
    "from cmath import pi \n",
    "def circle(area=None, r=None, c=None , d=None):\n",
    "    if(area !=None):\n",
    "        \n",
    "        radius = (area/pi)**0.5\n",
    "        circum = 2*pi*radius \n",
    "        d = 2*radius\n",
    "    \n",
    "        print(f\" Radius : {radius} , Circumference : {circum} , Diametre : {d}\")\n",
    "    \n",
    "    \n",
    "    elif(r !=None):\n",
    "        \n",
    "        A = pi*r*r \n",
    "        c = 2*pi*r \n",
    "        d = 2* r \n",
    "    \n",
    "    \n",
    "        print(f\"Area : {A}  , Circumference : {c} , Diametre : {d}\")\n",
    "\n",
    "    elif(c !=None):\n",
    "        \n",
    "        radius = (c/(2*pi))\n",
    "        a  = pi*radius*radius \n",
    "        d = 2*radius\n",
    "    \n",
    "        return print(f\"Radius : {radius} , Area :  {a} , Diamterer  {d}\") \n",
    "    \n",
    "    elif(d != None):\n",
    "        \n",
    "        radius = d/2 \n",
    "        a = pi*radius*radius\n",
    "        circum = 2*pi*radius\n",
    "        return print(f\" Radius : {radius} , Area :  {a} , Circumference : {circum}\")\n",
    "    else:\n",
    "        print(error)\n",
    "        \n",
    "        "
   ]
  },
  {
   "cell_type": "code",
   "execution_count": 40,
   "id": "9830bbeb",
   "metadata": {},
   "outputs": [
    {
     "name": "stdout",
     "output_type": "stream",
     "text": [
      " Radius : 4.999687526437335 , Circumference : 31.413963206600116 , Diametre : 9.99937505287467\n"
     ]
    }
   ],
   "source": [
    "circle(78.53, 10)"
   ]
  },
  {
   "cell_type": "code",
   "execution_count": null,
   "id": "2104efd0",
   "metadata": {},
   "outputs": [],
   "source": []
  },
  {
   "cell_type": "code",
   "execution_count": null,
   "id": "1c385f66",
   "metadata": {},
   "outputs": [],
   "source": []
  },
  {
   "cell_type": "code",
   "execution_count": null,
   "id": "feaaec87",
   "metadata": {},
   "outputs": [],
   "source": []
  },
  {
   "cell_type": "code",
   "execution_count": null,
   "id": "b0817fb1",
   "metadata": {},
   "outputs": [],
   "source": []
  },
  {
   "cell_type": "code",
   "execution_count": null,
   "id": "e0d7e4ed",
   "metadata": {},
   "outputs": [],
   "source": []
  },
  {
   "cell_type": "code",
   "execution_count": null,
   "id": "837d8356",
   "metadata": {},
   "outputs": [],
   "source": []
  },
  {
   "cell_type": "code",
   "execution_count": null,
   "id": "778f68ed",
   "metadata": {},
   "outputs": [],
   "source": []
  }
 ],
 "metadata": {
  "kernelspec": {
   "display_name": "Python 3 (ipykernel)",
   "language": "python",
   "name": "python3"
  },
  "language_info": {
   "codemirror_mode": {
    "name": "ipython",
    "version": 3
   },
   "file_extension": ".py",
   "mimetype": "text/x-python",
   "name": "python",
   "nbconvert_exporter": "python",
   "pygments_lexer": "ipython3",
   "version": "3.9.12"
  }
 },
 "nbformat": 4,
 "nbformat_minor": 5
}
