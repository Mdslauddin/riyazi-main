{
 "cells": [
  {
   "cell_type": "code",
   "execution_count": 1,
   "id": "6bc642f6",
   "metadata": {},
   "outputs": [],
   "source": [
    "import Riyazi.constant as rc "
   ]
  },
  {
   "cell_type": "code",
   "execution_count": 1,
   "id": "034cbd91",
   "metadata": {},
   "outputs": [],
   "source": [
    "__version__ ='0.01'"
   ]
  },
  {
   "cell_type": "code",
   "execution_count": 2,
   "id": "83c1b7b5",
   "metadata": {},
   "outputs": [
    {
     "data": {
      "text/plain": [
       "'0.01'"
      ]
     },
     "execution_count": 2,
     "metadata": {},
     "output_type": "execute_result"
    }
   ],
   "source": [
    "__version__"
   ]
  },
  {
   "cell_type": "code",
   "execution_count": 5,
   "id": "6fa810ba",
   "metadata": {},
   "outputs": [
    {
     "ename": "ModuleNotFoundError",
     "evalue": "No module named 'Riyazi.__version__'",
     "output_type": "error",
     "traceback": [
      "\u001b[1;31m---------------------------------------------------------------------------\u001b[0m",
      "\u001b[1;31mModuleNotFoundError\u001b[0m                       Traceback (most recent call last)",
      "Input \u001b[1;32mIn [5]\u001b[0m, in \u001b[0;36m<cell line: 1>\u001b[1;34m()\u001b[0m\n\u001b[1;32m----> 1\u001b[0m \u001b[38;5;28;01mimport\u001b[39;00m \u001b[38;5;21;01mRiyazi\u001b[39;00m\u001b[38;5;21;01m.\u001b[39;00m\u001b[38;5;21;01m__version__\u001b[39;00m\n",
      "\u001b[1;31mModuleNotFoundError\u001b[0m: No module named 'Riyazi.__version__'"
     ]
    }
   ],
   "source": [
    "import Riyazi.__version__"
   ]
  },
  {
   "cell_type": "code",
   "execution_count": null,
   "id": "88e76456",
   "metadata": {},
   "outputs": [],
   "source": []
  },
  {
   "cell_type": "code",
   "execution_count": null,
   "id": "09cbc80c",
   "metadata": {},
   "outputs": [],
   "source": []
  },
  {
   "cell_type": "code",
   "execution_count": 2,
   "id": "fb35a31e",
   "metadata": {},
   "outputs": [],
   "source": [
    "from Riyazi import Module as rm\n"
   ]
  },
  {
   "cell_type": "code",
   "execution_count": 3,
   "id": "1b04d8c7",
   "metadata": {},
   "outputs": [
    {
     "ename": "AttributeError",
     "evalue": "module 'Riyazi.Module' has no attribute 'constant'",
     "output_type": "error",
     "traceback": [
      "\u001b[1;31m---------------------------------------------------------------------------\u001b[0m",
      "\u001b[1;31mAttributeError\u001b[0m                            Traceback (most recent call last)",
      "Input \u001b[1;32mIn [3]\u001b[0m, in \u001b[0;36m<cell line: 1>\u001b[1;34m()\u001b[0m\n\u001b[1;32m----> 1\u001b[0m \u001b[43mrm\u001b[49m\u001b[38;5;241;43m.\u001b[39;49m\u001b[43mconstant\u001b[49m\n",
      "\u001b[1;31mAttributeError\u001b[0m: module 'Riyazi.Module' has no attribute 'constant'"
     ]
    }
   ],
   "source": [
    "rm.constant"
   ]
  },
  {
   "cell_type": "code",
   "execution_count": null,
   "id": "5642545b",
   "metadata": {},
   "outputs": [],
   "source": [
    "rm.fab()"
   ]
  },
  {
   "cell_type": "code",
   "execution_count": null,
   "id": "823a2024",
   "metadata": {},
   "outputs": [],
   "source": [
    "rm.table(7)"
   ]
  },
  {
   "cell_type": "code",
   "execution_count": null,
   "id": "dc33bc8b",
   "metadata": {},
   "outputs": [],
   "source": [
    "rm.tue"
   ]
  },
  {
   "cell_type": "code",
   "execution_count": null,
   "id": "48b6bba8",
   "metadata": {},
   "outputs": [],
   "source": [
    "import Riyazi.constant.calculation as rcc "
   ]
  },
  {
   "cell_type": "code",
   "execution_count": null,
   "id": "f3722023",
   "metadata": {},
   "outputs": [],
   "source": [
    "rcc.atto"
   ]
  },
  {
   "cell_type": "code",
   "execution_count": null,
   "id": "f7822360",
   "metadata": {},
   "outputs": [],
   "source": [
    "rcc.deka"
   ]
  },
  {
   "cell_type": "code",
   "execution_count": null,
   "id": "e9abf2ea",
   "metadata": {},
   "outputs": [],
   "source": [
    "1e1"
   ]
  },
  {
   "cell_type": "code",
   "execution_count": null,
   "id": "7ca9daf5",
   "metadata": {},
   "outputs": [],
   "source": [
    "1e3 -100"
   ]
  },
  {
   "cell_type": "code",
   "execution_count": null,
   "id": "11607767",
   "metadata": {},
   "outputs": [],
   "source": [
    "rcc.mega"
   ]
  },
  {
   "cell_type": "code",
   "execution_count": null,
   "id": "687c97b9",
   "metadata": {},
   "outputs": [],
   "source": [
    "rcc.kibi"
   ]
  },
  {
   "cell_type": "code",
   "execution_count": null,
   "id": "dc08869d",
   "metadata": {},
   "outputs": [],
   "source": [
    "import Riyazi.Algebra as ra "
   ]
  },
  {
   "cell_type": "code",
   "execution_count": null,
   "id": "2dea0886",
   "metadata": {},
   "outputs": [],
   "source": [
    "ra.a2minusb2(2,3)"
   ]
  },
  {
   "cell_type": "code",
   "execution_count": null,
   "id": "a14b3566",
   "metadata": {},
   "outputs": [],
   "source": [
    "ra.factoring"
   ]
  },
  {
   "cell_type": "code",
   "execution_count": null,
   "id": "510b9930",
   "metadata": {},
   "outputs": [],
   "source": [
    "import Riyazi.Algebra.product as rap "
   ]
  },
  {
   "cell_type": "code",
   "execution_count": null,
   "id": "b7b9f8ba",
   "metadata": {},
   "outputs": [],
   "source": [
    "rap.a_minus_b2(4,5)"
   ]
  },
  {
   "cell_type": "code",
   "execution_count": null,
   "id": "7e110b1c",
   "metadata": {},
   "outputs": [],
   "source": [
    "rap.a_plus_b2(2,3)"
   ]
  },
  {
   "cell_type": "code",
   "execution_count": null,
   "id": "7add7fbc",
   "metadata": {},
   "outputs": [],
   "source": [
    "rap."
   ]
  },
  {
   "cell_type": "code",
   "execution_count": null,
   "id": "5796735a",
   "metadata": {},
   "outputs": [],
   "source": [
    "import Riyazi.Algebra.factoring as rac"
   ]
  },
  {
   "cell_type": "code",
   "execution_count": null,
   "id": "66906a43",
   "metadata": {},
   "outputs": [],
   "source": [
    "rac.a2minusb2(3,4)"
   ]
  },
  {
   "cell_type": "code",
   "execution_count": 14,
   "id": "f57e6671",
   "metadata": {},
   "outputs": [],
   "source": [
    "import Riyazi.Geo.two_dim.circle as rg"
   ]
  },
  {
   "cell_type": "code",
   "execution_count": 15,
   "id": "13ae07a8",
   "metadata": {},
   "outputs": [
    {
     "data": {
      "text/plain": [
       "3.141592653589793"
      ]
     },
     "execution_count": 15,
     "metadata": {},
     "output_type": "execute_result"
    }
   ],
   "source": [
    "rg.pi"
   ]
  },
  {
   "cell_type": "code",
   "execution_count": 18,
   "id": "beaf26ae",
   "metadata": {},
   "outputs": [
    {
     "name": "stdout",
     "output_type": "stream",
     "text": [
      "Radius is :  6.283185307179586\n",
      "Diametre is :  12.566370614359172\n",
      "Area is :  124.02510672119926\n",
      "Circumference is :  248.05021344239853\n"
     ]
    },
    {
     "data": {
      "text/plain": [
       "(None, None, None, None)"
      ]
     },
     "execution_count": 18,
     "metadata": {},
     "output_type": "execute_result"
    }
   ],
   "source": [
    "rg.circle(4,5)"
   ]
  },
  {
   "cell_type": "code",
   "execution_count": 10,
   "id": "53b7f7fc",
   "metadata": {},
   "outputs": [
    {
     "name": "stdout",
     "output_type": "stream",
     "text": [
      "Radius is :  6.283185307179586\n",
      "Diametre is :  12.566370614359172\n",
      "Area is :  124.02510672119926\n",
      "Circumference is :  248.05021344239853\n"
     ]
    },
    {
     "data": {
      "text/plain": [
       "(None, None, None, None)"
      ]
     },
     "execution_count": 10,
     "metadata": {},
     "output_type": "execute_result"
    }
   ],
   "source": [
    "rg.circle(4,5)"
   ]
  },
  {
   "cell_type": "code",
   "execution_count": null,
   "id": "bcfefa99",
   "metadata": {},
   "outputs": [],
   "source": []
  },
  {
   "cell_type": "code",
   "execution_count": null,
   "id": "0a36123f",
   "metadata": {},
   "outputs": [],
   "source": []
  },
  {
   "cell_type": "code",
   "execution_count": 61,
   "id": "939d45d0",
   "metadata": {},
   "outputs": [],
   "source": [
    "from cmath import pi\n",
    "\n",
    "def circle (c,r):\n",
    "    radius = c/2*pi\n",
    "    diameter = 2*r\n",
    "    Area = pi*r*r\n",
    "    circumference = 2*pi*r*r \n",
    "\n",
    "    return radius , diameter , Area, circumference\n",
    "     "
   ]
  },
  {
   "cell_type": "code",
   "execution_count": 62,
   "id": "7390770d",
   "metadata": {},
   "outputs": [
    {
     "data": {
      "text/plain": [
       "(6.283185307179586, 10, 78.53981633974483, 157.07963267948966)"
      ]
     },
     "execution_count": 62,
     "metadata": {},
     "output_type": "execute_result"
    }
   ],
   "source": [
    "circle(4,5)"
   ]
  },
  {
   "cell_type": "code",
   "execution_count": 57,
   "id": "a9138ba7",
   "metadata": {},
   "outputs": [],
   "source": [
    "from cmath import pi\n",
    "\n",
    "def circle(c,r):\n",
    "    r = c/2*pi\n",
    "    d = 2*r\n",
    "    Area = pi*r*r\n",
    "    c= 2*pi*r*r \n",
    "\n",
    "    return  Area\n",
    "     \n",
    "\n"
   ]
  },
  {
   "cell_type": "code",
   "execution_count": 58,
   "id": "f6cfdc59",
   "metadata": {},
   "outputs": [
    {
     "data": {
      "text/plain": [
       "124.02510672119926"
      ]
     },
     "execution_count": 58,
     "metadata": {},
     "output_type": "execute_result"
    }
   ],
   "source": [
    "circle(4,5)"
   ]
  },
  {
   "cell_type": "code",
   "execution_count": null,
   "id": "11885757",
   "metadata": {},
   "outputs": [],
   "source": []
  },
  {
   "cell_type": "code",
   "execution_count": null,
   "id": "550da72f",
   "metadata": {},
   "outputs": [],
   "source": []
  },
  {
   "cell_type": "code",
   "execution_count": null,
   "id": "23993293",
   "metadata": {},
   "outputs": [],
   "source": [
    "def abc(a,b):\n",
    "    r = a+b \n",
    "    s= a-b\n",
    "    \n",
    "    return print(\"r is sum: \",r), print(\"s is miniss :\",s)"
   ]
  },
  {
   "cell_type": "code",
   "execution_count": null,
   "id": "b17508fc",
   "metadata": {},
   "outputs": [],
   "source": []
  },
  {
   "cell_type": "code",
   "execution_count": null,
   "id": "7eb73c99",
   "metadata": {},
   "outputs": [],
   "source": [
    "abc(2,3)"
   ]
  },
  {
   "cell_type": "code",
   "execution_count": 69,
   "id": "4064ae9f",
   "metadata": {},
   "outputs": [],
   "source": [
    "from cmath import pi\n",
    "\n",
    "def circle (c,r):\n",
    "    r = c/2*pi\n",
    "    d = 2*r\n",
    "    Area = pi*r*r\n",
    "    c = 2*pi*r*r \n",
    "\n",
    "    return print(f\"Radius : {r} , Diametre: {d} , Area : {Area}\")\n",
    "     "
   ]
  },
  {
   "cell_type": "code",
   "execution_count": 70,
   "id": "0c43bb52",
   "metadata": {},
   "outputs": [
    {
     "name": "stdout",
     "output_type": "stream",
     "text": [
      "Radius : 6.283185307179586 , Diametre: 12.566370614359172 , Area : 124.02510672119926\n"
     ]
    }
   ],
   "source": [
    "circle(4,5)"
   ]
  },
  {
   "cell_type": "code",
   "execution_count": 77,
   "id": "e59e3c81",
   "metadata": {},
   "outputs": [],
   "source": [
    "from cmath import pi\n",
    "\n",
    "def circle (c,r):\n",
    "    radius = c/2*pi\n",
    "    diameter = 2*r\n",
    "    Area = pi*r*r\n",
    "    circumference = 2*pi*r*r \n",
    "    \n",
    "    return print(f\"Area {Area} , Radius : {radius} , Diametre : {diameter} , Circumference {circumference}\")\n",
    "    return radius , diameter , circumference\n",
    "     "
   ]
  },
  {
   "cell_type": "code",
   "execution_count": 78,
   "id": "8da49454",
   "metadata": {},
   "outputs": [
    {
     "name": "stdout",
     "output_type": "stream",
     "text": [
      "Area 78.53981633974483 , Radius : 6.283185307179586 , Diametre : 10 , Circumference 157.07963267948966\n"
     ]
    }
   ],
   "source": [
    "circle(4,5)"
   ]
  },
  {
   "cell_type": "code",
   "execution_count": null,
   "id": "f2bd11a0",
   "metadata": {},
   "outputs": [],
   "source": []
  },
  {
   "cell_type": "code",
   "execution_count": 79,
   "id": "056bf3d9",
   "metadata": {},
   "outputs": [],
   "source": [
    "from cmath import pi\n",
    "def circle(r):\n",
    "    Area = pi*r*r\n",
    "    Radius = (Area/pi)**0.5\n",
    "    \n",
    "    \n",
    "    \n",
    "    return Area, Radius\n",
    "    \n",
    "    "
   ]
  },
  {
   "cell_type": "code",
   "execution_count": 81,
   "id": "df87559a",
   "metadata": {},
   "outputs": [
    {
     "data": {
      "text/plain": [
       "(78.53981633974483, 5.0)"
      ]
     },
     "execution_count": 81,
     "metadata": {},
     "output_type": "execute_result"
    }
   ],
   "source": [
    "circle(5)"
   ]
  },
  {
   "cell_type": "code",
   "execution_count": null,
   "id": "a4e62633",
   "metadata": {},
   "outputs": [],
   "source": []
  },
  {
   "cell_type": "code",
   "execution_count": 87,
   "id": "9c7bca16",
   "metadata": {},
   "outputs": [],
   "source": [
    "from cmath import pi\n",
    "def circle(r):\n",
    "     \n",
    "    circumference = 2*pi*r\n",
    "    Radius = (circumference/(2*pi))\n",
    "    \n",
    "    return circumference , Radius"
   ]
  },
  {
   "cell_type": "code",
   "execution_count": 88,
   "id": "107bbe94",
   "metadata": {},
   "outputs": [
    {
     "data": {
      "text/plain": [
       "(31.41592653589793, 5.0)"
      ]
     },
     "execution_count": 88,
     "metadata": {},
     "output_type": "execute_result"
    }
   ],
   "source": [
    "circle(5)"
   ]
  },
  {
   "cell_type": "code",
   "execution_count": 92,
   "id": "74b75c58",
   "metadata": {},
   "outputs": [],
   "source": [
    "from cmath import pi \n",
    "def circle(r):\n",
    "    Diameter = 2*r\n",
    "    Radius = Diameter/2 \n",
    "    \n",
    "    return Diameter, Radius"
   ]
  },
  {
   "cell_type": "code",
   "execution_count": 93,
   "id": "1c118320",
   "metadata": {},
   "outputs": [
    {
     "data": {
      "text/plain": [
       "(10, 5.0)"
      ]
     },
     "execution_count": 93,
     "metadata": {},
     "output_type": "execute_result"
    }
   ],
   "source": [
    "circle(5)"
   ]
  },
  {
   "cell_type": "code",
   "execution_count": null,
   "id": "db50431f",
   "metadata": {},
   "outputs": [],
   "source": []
  },
  {
   "cell_type": "code",
   "execution_count": 1,
   "id": "8fbb9d60",
   "metadata": {},
   "outputs": [],
   "source": [
    "import Riyazi"
   ]
  },
  {
   "cell_type": "code",
   "execution_count": 3,
   "id": "fb3865a3",
   "metadata": {},
   "outputs": [
    {
     "ename": "TypeError",
     "evalue": "'module' object is not callable",
     "output_type": "error",
     "traceback": [
      "\u001b[1;31m---------------------------------------------------------------------------\u001b[0m",
      "\u001b[1;31mTypeError\u001b[0m                                 Traceback (most recent call last)",
      "Input \u001b[1;32mIn [3]\u001b[0m, in \u001b[0;36m<cell line: 1>\u001b[1;34m()\u001b[0m\n\u001b[1;32m----> 1\u001b[0m \u001b[43mRiyazi\u001b[49m\u001b[38;5;241;43m.\u001b[39;49m\u001b[43mversion\u001b[49m\u001b[43m(\u001b[49m\u001b[43m)\u001b[49m\n",
      "\u001b[1;31mTypeError\u001b[0m: 'module' object is not callable"
     ]
    }
   ],
   "source": [
    "Riyazi.version()"
   ]
  },
  {
   "cell_type": "code",
   "execution_count": null,
   "id": "ebca20bd",
   "metadata": {},
   "outputs": [],
   "source": []
  },
  {
   "cell_type": "code",
   "execution_count": null,
   "id": "dea9ccef",
   "metadata": {},
   "outputs": [],
   "source": []
  },
  {
   "cell_type": "code",
   "execution_count": null,
   "id": "887bac1e",
   "metadata": {},
   "outputs": [],
   "source": []
  }
 ],
 "metadata": {
  "kernelspec": {
   "display_name": "Python 3 (ipykernel)",
   "language": "python",
   "name": "python3"
  },
  "language_info": {
   "codemirror_mode": {
    "name": "ipython",
    "version": 3
   },
   "file_extension": ".py",
   "mimetype": "text/x-python",
   "name": "python",
   "nbconvert_exporter": "python",
   "pygments_lexer": "ipython3",
   "version": "3.9.12"
  }
 },
 "nbformat": 4,
 "nbformat_minor": 5
}
