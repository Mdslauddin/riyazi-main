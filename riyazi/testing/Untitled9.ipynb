{
 "cells": [
  {
   "cell_type": "code",
   "execution_count": null,
   "id": "a87d5e02",
   "metadata": {},
   "outputs": [],
   "source": [
    "import Riyazi.constant as rc "
   ]
  },
  {
   "cell_type": "code",
   "execution_count": null,
   "id": "52888164",
   "metadata": {},
   "outputs": [],
   "source": [
    "rc."
   ]
  },
  {
   "cell_type": "code",
   "execution_count": 1,
   "id": "4fafc04e",
   "metadata": {},
   "outputs": [],
   "source": [
    "import Riyazi.Module.mymodule as rmm"
   ]
  },
  {
   "cell_type": "code",
   "execution_count": 2,
   "id": "918ef883",
   "metadata": {},
   "outputs": [
    {
     "data": {
      "text/plain": [
       "2205.0"
      ]
     },
     "execution_count": 2,
     "metadata": {},
     "output_type": "execute_result"
    }
   ],
   "source": [
    "rmm.compound_interest(2000,5,2)"
   ]
  },
  {
   "cell_type": "code",
   "execution_count": 3,
   "id": "30025560",
   "metadata": {},
   "outputs": [
    {
     "data": {
      "text/plain": [
       "(1.7320508075688772+0j)"
      ]
     },
     "execution_count": 3,
     "metadata": {},
     "output_type": "execute_result"
    }
   ],
   "source": [
    "rmm.csqrt(3)"
   ]
  },
  {
   "cell_type": "code",
   "execution_count": 19,
   "id": "0aa0c782",
   "metadata": {},
   "outputs": [],
   "source": [
    "import Riyazi.Module as rm"
   ]
  },
  {
   "cell_type": "code",
   "execution_count": 21,
   "id": "2e321aed",
   "metadata": {},
   "outputs": [
    {
     "data": {
      "text/plain": [
       "(1.0605752387249068e-16+1.7320508075688772j)"
      ]
     },
     "execution_count": 21,
     "metadata": {},
     "output_type": "execute_result"
    }
   ],
   "source": [
    "rm.sqrt(-3)"
   ]
  },
  {
   "cell_type": "code",
   "execution_count": 4,
   "id": "f5534d20",
   "metadata": {},
   "outputs": [
    {
     "data": {
      "text/plain": [
       "9.921567416492215"
      ]
     },
     "execution_count": 4,
     "metadata": {},
     "output_type": "execute_result"
    }
   ],
   "source": [
    "rmm.Heron(5,4,6)"
   ]
  },
  {
   "cell_type": "code",
   "execution_count": 7,
   "id": "2e05ae12",
   "metadata": {},
   "outputs": [
    {
     "data": {
      "text/plain": [
       "False"
      ]
     },
     "execution_count": 7,
     "metadata": {},
     "output_type": "execute_result"
    }
   ],
   "source": [
    "rmm.is_triangle(2,3,6)"
   ]
  },
  {
   "cell_type": "code",
   "execution_count": 10,
   "id": "ba683879",
   "metadata": {},
   "outputs": [
    {
     "data": {
      "text/plain": [
       "True"
      ]
     },
     "execution_count": 10,
     "metadata": {},
     "output_type": "execute_result"
    }
   ],
   "source": [
    "rmm.isPrime(37)"
   ]
  },
  {
   "cell_type": "code",
   "execution_count": 12,
   "id": "63dcd5f9",
   "metadata": {},
   "outputs": [
    {
     "data": {
      "text/plain": [
       "1"
      ]
     },
     "execution_count": 12,
     "metadata": {},
     "output_type": "execute_result"
    }
   ],
   "source": [
    "rmm.mygcd(5,3)"
   ]
  },
  {
   "cell_type": "code",
   "execution_count": 17,
   "id": "d02cc08c",
   "metadata": {},
   "outputs": [
    {
     "ename": "TypeError",
     "evalue": "'int' object is not callable",
     "output_type": "error",
     "traceback": [
      "\u001b[1;31m---------------------------------------------------------------------------\u001b[0m",
      "\u001b[1;31mTypeError\u001b[0m                                 Traceback (most recent call last)",
      "Input \u001b[1;32mIn [17]\u001b[0m, in \u001b[0;36m<cell line: 1>\u001b[1;34m()\u001b[0m\n\u001b[1;32m----> 1\u001b[0m \u001b[43mrmm\u001b[49m\u001b[38;5;241;43m.\u001b[39;49m\u001b[43mNewton_raphson\u001b[49m\u001b[43m(\u001b[49m\u001b[38;5;241;43m4\u001b[39;49m\u001b[43m,\u001b[49m\u001b[38;5;241;43m5\u001b[39;49m\u001b[43m,\u001b[49m\u001b[38;5;241;43m0\u001b[39;49m\u001b[43m)\u001b[49m\n",
      "File \u001b[1;32mH:\\Riyazi\\Module\\mymodule.py:80\u001b[0m, in \u001b[0;36mNewton_raphson\u001b[1;34m(f, df, x0, max_it, tol)\u001b[0m\n\u001b[0;32m     79\u001b[0m \u001b[38;5;28;01mdef\u001b[39;00m \u001b[38;5;21mNewton_raphson\u001b[39m(f, df ,x0, max_it\u001b[38;5;241m=\u001b[39m\u001b[38;5;241m20\u001b[39m, tol\u001b[38;5;241m=\u001b[39m\u001b[38;5;241m1e-5\u001b[39m):\n\u001b[1;32m---> 80\u001b[0m     f0 \u001b[38;5;241m=\u001b[39m \u001b[43mf\u001b[49m\u001b[43m(\u001b[49m\u001b[43mx0\u001b[49m\u001b[43m)\u001b[49m\n\u001b[0;32m     81\u001b[0m     itr \u001b[38;5;241m=\u001b[39m \u001b[38;5;241m0\u001b[39m\n\u001b[0;32m     82\u001b[0m     \u001b[38;5;28;01mwhile\u001b[39;00m(\u001b[38;5;28mabs\u001b[39m(f(x0))\u001b[38;5;241m>\u001b[39m\u001b[38;5;241m=\u001b[39mtol \u001b[38;5;129;01mand\u001b[39;00m itr\u001b[38;5;241m<\u001b[39m\u001b[38;5;241m=\u001b[39mmax_it):\n",
      "\u001b[1;31mTypeError\u001b[0m: 'int' object is not callable"
     ]
    }
   ],
   "source": [
    "rmm.Newton_raphson(4,5,0)"
   ]
  },
  {
   "cell_type": "code",
   "execution_count": 18,
   "id": "b4356807",
   "metadata": {},
   "outputs": [],
   "source": [
    "rmm.solve_quad(5,4,3)"
   ]
  },
  {
   "cell_type": "code",
   "execution_count": null,
   "id": "a553452b",
   "metadata": {},
   "outputs": [],
   "source": []
  }
 ],
 "metadata": {
  "kernelspec": {
   "display_name": "Python 3 (ipykernel)",
   "language": "python",
   "name": "python3"
  },
  "language_info": {
   "codemirror_mode": {
    "name": "ipython",
    "version": 3
   },
   "file_extension": ".py",
   "mimetype": "text/x-python",
   "name": "python",
   "nbconvert_exporter": "python",
   "pygments_lexer": "ipython3",
   "version": "3.9.12"
  }
 },
 "nbformat": 4,
 "nbformat_minor": 5
}
