{
 "cells": [
  {
   "cell_type": "code",
   "execution_count": 6,
   "id": "cb9ba48e",
   "metadata": {},
   "outputs": [],
   "source": [
    "def square(area= None, diagonal=None , perimeter= None, side=None):\n",
    "    side = area**0.5\n",
    "    d = 2**0.5 * side \n",
    "    p = 4*side\n",
    "    \n",
    "    return side, d , p "
   ]
  },
  {
   "cell_type": "code",
   "execution_count": 7,
   "id": "f733464b",
   "metadata": {},
   "outputs": [
    {
     "data": {
      "text/plain": [
       "(2.0, 2.8284271247461903, 8.0)"
      ]
     },
     "execution_count": 7,
     "metadata": {},
     "output_type": "execute_result"
    }
   ],
   "source": [
    "square(area=4)"
   ]
  },
  {
   "cell_type": "code",
   "execution_count": 13,
   "id": "0b47fb6b",
   "metadata": {},
   "outputs": [],
   "source": [
    "def square(Area= None, diagonal=None , perimeter= None, side=None):\n",
    "    s = ((2**0.5)*diagonal/2)\n",
    "    p = 4*s\n",
    "    A = s**2\n",
    "    \n",
    "    \n",
    "    return s , p , A\n",
    " \n",
    "    \n",
    "     "
   ]
  },
  {
   "cell_type": "code",
   "execution_count": 15,
   "id": "61871482",
   "metadata": {},
   "outputs": [
    {
     "data": {
      "text/plain": [
       "(1.9999808199080311, 7.9999232796321245, 3.9999232800000004)"
      ]
     },
     "execution_count": 15,
     "metadata": {},
     "output_type": "execute_result"
    }
   ],
   "source": [
    "square(diagonal = 2.8284)"
   ]
  },
  {
   "cell_type": "code",
   "execution_count": 19,
   "id": "4cf4a002",
   "metadata": {},
   "outputs": [],
   "source": [
    "def square(Area= None, diagonal=None , perimeter= None, side=None):\n",
    "    s = perimeter/4\n",
    "    A = s**2 \n",
    "    d = 2**0.5 *s\n",
    "    \n",
    "    return s, A, d\n",
    "\n",
    "     "
   ]
  },
  {
   "cell_type": "code",
   "execution_count": 20,
   "id": "60cb37ce",
   "metadata": {},
   "outputs": [
    {
     "data": {
      "text/plain": [
       "(2.0, 4.0, 2.8284271247461903)"
      ]
     },
     "execution_count": 20,
     "metadata": {},
     "output_type": "execute_result"
    }
   ],
   "source": [
    "square(perimeter=8)"
   ]
  },
  {
   "cell_type": "code",
   "execution_count": 21,
   "id": "5962a345",
   "metadata": {},
   "outputs": [],
   "source": [
    "def square(Area= None, diagonal=None , perimeter= None, side=None):\n",
    "    A = side*side\n",
    "    d = 2**0.5*side \n",
    "    p = 4*side\n",
    "    \n",
    "    return A , d , p \n",
    "     "
   ]
  },
  {
   "cell_type": "code",
   "execution_count": 22,
   "id": "e64a6ef9",
   "metadata": {},
   "outputs": [
    {
     "data": {
      "text/plain": [
       "(4, 2.8284271247461903, 8)"
      ]
     },
     "execution_count": 22,
     "metadata": {},
     "output_type": "execute_result"
    }
   ],
   "source": [
    "square(side=2)"
   ]
  },
  {
   "cell_type": "code",
   "execution_count": null,
   "id": "146bba01",
   "metadata": {},
   "outputs": [],
   "source": []
  },
  {
   "cell_type": "code",
   "execution_count": 23,
   "id": "93459546",
   "metadata": {},
   "outputs": [],
   "source": [
    "def square(area= None, diagonal=None , perimeter= None, side=None):\n",
    "    if(area !=None):\n",
    "        \n",
    "        side = area**0.5\n",
    "        d = 2**0.5 * side \n",
    "        p = 4*side\n",
    "    \n",
    "        \n",
    "        return print(f\"Side : {side} , Diagonal : {d} , perimeter  {p}\")\n",
    "\n",
    "    \n",
    "    elif(diagonal !=None):\n",
    "        s = ((2**0.5)*diagonal/2)\n",
    "        p = 4*s\n",
    "        A = s**2\n",
    "    \n",
    "    \n",
    "        return print(f\"side : {s} , perimeter : {p} , Area : {A}\")\n",
    "    \n",
    "    elif(perimeter !=None):\n",
    "        s = perimeter/4\n",
    "        A = s**2 \n",
    "        d = 2**0.5 *s\n",
    "    \n",
    "        return print(f\"Side : {s} , Area : {A} , Diagonal : {d}\")\n",
    "    \n",
    "    elif(side !=None):\n",
    "        \n",
    "        A = side*side\n",
    "        d = 2**0.5*side \n",
    "        p = 4*side\n",
    "    \n",
    "        return print(f\"Area : {A} , Diagonal :  {d} , perimeter : {p}\")\n",
    "        \n",
    "        \n",
    " \n",
    "    \n",
    "        \n",
    "        \n"
   ]
  },
  {
   "cell_type": "code",
   "execution_count": 24,
   "id": "9fcee956",
   "metadata": {},
   "outputs": [
    {
     "name": "stdout",
     "output_type": "stream",
     "text": [
      "Side : 2.0 , Diagonal : 2.8284271247461903 , perimeter  8.0\n"
     ]
    }
   ],
   "source": [
    "square(area=4)"
   ]
  },
  {
   "cell_type": "code",
   "execution_count": 25,
   "id": "120ec680",
   "metadata": {},
   "outputs": [
    {
     "name": "stdout",
     "output_type": "stream",
     "text": [
      "side : 1.9999808199080311 , perimeter : 7.9999232796321245 , Area : 3.9999232800000004\n"
     ]
    }
   ],
   "source": [
    "square(diagonal=2.8284)"
   ]
  },
  {
   "cell_type": "code",
   "execution_count": 26,
   "id": "7a6c5b79",
   "metadata": {},
   "outputs": [
    {
     "name": "stdout",
     "output_type": "stream",
     "text": [
      "Side : 2.0 , Area : 4.0 , Diagonal : 2.8284271247461903\n"
     ]
    }
   ],
   "source": [
    "square(perimeter=8)"
   ]
  },
  {
   "cell_type": "code",
   "execution_count": 27,
   "id": "7e7ad19e",
   "metadata": {},
   "outputs": [
    {
     "name": "stdout",
     "output_type": "stream",
     "text": [
      "Area : 4 , Diagonal :  2.8284271247461903 , perimeter : 8\n"
     ]
    }
   ],
   "source": [
    "square(side=2)"
   ]
  },
  {
   "cell_type": "code",
   "execution_count": null,
   "id": "cbc5621d",
   "metadata": {},
   "outputs": [],
   "source": []
  },
  {
   "cell_type": "code",
   "execution_count": null,
   "id": "8203a1c6",
   "metadata": {},
   "outputs": [],
   "source": []
  },
  {
   "cell_type": "code",
   "execution_count": null,
   "id": "6bd48bb9",
   "metadata": {},
   "outputs": [],
   "source": []
  },
  {
   "cell_type": "code",
   "execution_count": null,
   "id": "e4d4d958",
   "metadata": {},
   "outputs": [],
   "source": []
  },
  {
   "cell_type": "code",
   "execution_count": null,
   "id": "8645427b",
   "metadata": {},
   "outputs": [],
   "source": []
  },
  {
   "cell_type": "code",
   "execution_count": null,
   "id": "f150b171",
   "metadata": {},
   "outputs": [],
   "source": []
  },
  {
   "cell_type": "code",
   "execution_count": null,
   "id": "bf883953",
   "metadata": {},
   "outputs": [],
   "source": []
  },
  {
   "cell_type": "code",
   "execution_count": 1,
   "id": "9ce835e6",
   "metadata": {
    "scrolled": true
   },
   "outputs": [
    {
     "data": {
      "text/plain": [
       "1.4142135623730951"
      ]
     },
     "execution_count": 1,
     "metadata": {},
     "output_type": "execute_result"
    }
   ],
   "source": [
    "2**0.5"
   ]
  },
  {
   "cell_type": "code",
   "execution_count": 2,
   "id": "8173874f",
   "metadata": {},
   "outputs": [
    {
     "data": {
      "text/plain": [
       "2.0"
      ]
     },
     "execution_count": 2,
     "metadata": {},
     "output_type": "execute_result"
    }
   ],
   "source": [
    "4**0.5"
   ]
  },
  {
   "cell_type": "code",
   "execution_count": 3,
   "id": "3e869088",
   "metadata": {},
   "outputs": [
    {
     "data": {
      "text/plain": [
       "2.0"
      ]
     },
     "execution_count": 3,
     "metadata": {},
     "output_type": "execute_result"
    }
   ],
   "source": [
    "4*0.5"
   ]
  },
  {
   "cell_type": "code",
   "execution_count": 5,
   "id": "b9a09d49",
   "metadata": {},
   "outputs": [
    {
     "data": {
      "text/plain": [
       "2.449489742783178"
      ]
     },
     "execution_count": 5,
     "metadata": {},
     "output_type": "execute_result"
    }
   ],
   "source": [
    "6**0.5"
   ]
  },
  {
   "cell_type": "code",
   "execution_count": null,
   "id": "0ef9aef4",
   "metadata": {},
   "outputs": [],
   "source": []
  }
 ],
 "metadata": {
  "kernelspec": {
   "display_name": "Python 3 (ipykernel)",
   "language": "python",
   "name": "python3"
  },
  "language_info": {
   "codemirror_mode": {
    "name": "ipython",
    "version": 3
   },
   "file_extension": ".py",
   "mimetype": "text/x-python",
   "name": "python",
   "nbconvert_exporter": "python",
   "pygments_lexer": "ipython3",
   "version": "3.9.12"
  }
 },
 "nbformat": 4,
 "nbformat_minor": 5
}
