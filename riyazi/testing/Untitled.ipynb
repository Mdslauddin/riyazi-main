{
 "cells": [
  {
   "cell_type": "markdown",
   "id": "94146e9f",
   "metadata": {},
   "source": [
    "# Course Overview\n",
    "\n",
    "- python installation \n",
    "- Anaconda Installation \n",
    "- Jupyter notebook Interface\n",
    "- Our first code in python \n",
    "- Basic Mathematical Operations\n",
    "- Variable \n",
    "- Data Types\n",
    "- Assignment Operator \n",
    "- Input from user formatting\n",
    "- Relation Operator Boolean values\n",
    "- Indentation \n",
    "- flow control statements\n",
    "- if-else\n",
    "- Data Structure List\n",
    "- Loop statements \n",
    "- for loop \n",
    "- while loop \n",
    "- break and continues\n",
    "- strings \n",
    "- function \n",
    "- Recursion \n",
    "- Data Structure - set\n",
    "- Data Structure - Tuple\n",
    "- Data Structue - Dictionary \n",
    "- Lambda function \n",
    "- Map fucntion \n",
    "- Exception Handling "
   ]
  },
  {
   "cell_type": "code",
   "execution_count": 1,
   "id": "bfbf25fa",
   "metadata": {},
   "outputs": [
    {
     "name": "stdout",
     "output_type": "stream",
     "text": [
      "Hello\n"
     ]
    }
   ],
   "source": [
    "print(\"Hello\")"
   ]
  },
  {
   "cell_type": "code",
   "execution_count": 2,
   "id": "1186dc30",
   "metadata": {},
   "outputs": [
    {
     "name": "stdout",
     "output_type": "stream",
     "text": [
      "This is my first program\n"
     ]
    }
   ],
   "source": [
    "print(\"This is my first program\")"
   ]
  },
  {
   "cell_type": "code",
   "execution_count": null,
   "id": "32095397",
   "metadata": {},
   "outputs": [],
   "source": []
  },
  {
   "cell_type": "code",
   "execution_count": null,
   "id": "acc4c395",
   "metadata": {},
   "outputs": [],
   "source": []
  },
  {
   "cell_type": "code",
   "execution_count": 2,
   "id": "19f931c8",
   "metadata": {},
   "outputs": [],
   "source": [
    "import EasyMath as em"
   ]
  },
  {
   "cell_type": "code",
   "execution_count": null,
   "id": "031f6963",
   "metadata": {},
   "outputs": [],
   "source": [
    "em."
   ]
  },
  {
   "cell_type": "code",
   "execution_count": null,
   "id": "29f1f471",
   "metadata": {},
   "outputs": [],
   "source": []
  },
  {
   "cell_type": "code",
   "execution_count": null,
   "id": "e26cb9cb",
   "metadata": {},
   "outputs": [],
   "source": []
  },
  {
   "cell_type": "code",
   "execution_count": null,
   "id": "cc0b6b01",
   "metadata": {},
   "outputs": [],
   "source": []
  },
  {
   "cell_type": "code",
   "execution_count": null,
   "id": "9f100384",
   "metadata": {},
   "outputs": [],
   "source": []
  },
  {
   "cell_type": "code",
   "execution_count": null,
   "id": "1952472e",
   "metadata": {},
   "outputs": [],
   "source": []
  },
  {
   "cell_type": "code",
   "execution_count": null,
   "id": "76d23e69",
   "metadata": {},
   "outputs": [],
   "source": []
  },
  {
   "cell_type": "code",
   "execution_count": null,
   "id": "76318889",
   "metadata": {},
   "outputs": [],
   "source": []
  },
  {
   "cell_type": "code",
   "execution_count": null,
   "id": "e7323686",
   "metadata": {},
   "outputs": [],
   "source": []
  },
  {
   "cell_type": "code",
   "execution_count": null,
   "id": "111af55c",
   "metadata": {},
   "outputs": [],
   "source": []
  },
  {
   "cell_type": "code",
   "execution_count": null,
   "id": "4877fc5f",
   "metadata": {},
   "outputs": [],
   "source": []
  },
  {
   "cell_type": "code",
   "execution_count": null,
   "id": "adc1d358",
   "metadata": {},
   "outputs": [],
   "source": []
  },
  {
   "cell_type": "code",
   "execution_count": null,
   "id": "a6a132ed",
   "metadata": {},
   "outputs": [],
   "source": []
  },
  {
   "cell_type": "code",
   "execution_count": null,
   "id": "461c9a4e",
   "metadata": {},
   "outputs": [],
   "source": []
  },
  {
   "cell_type": "code",
   "execution_count": null,
   "id": "4a0a6044",
   "metadata": {},
   "outputs": [],
   "source": []
  },
  {
   "cell_type": "code",
   "execution_count": null,
   "id": "1e9fbfa5",
   "metadata": {},
   "outputs": [],
   "source": []
  }
 ],
 "metadata": {
  "kernelspec": {
   "display_name": "Python 3 (ipykernel)",
   "language": "python",
   "name": "python3"
  },
  "language_info": {
   "codemirror_mode": {
    "name": "ipython",
    "version": 3
   },
   "file_extension": ".py",
   "mimetype": "text/x-python",
   "name": "python",
   "nbconvert_exporter": "python",
   "pygments_lexer": "ipython3",
   "version": "3.9.12"
  }
 },
 "nbformat": 4,
 "nbformat_minor": 5
}
