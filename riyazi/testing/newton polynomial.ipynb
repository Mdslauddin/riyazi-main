{
 "cells": [
  {
   "cell_type": "code",
   "execution_count": 1,
   "id": "11803ea3",
   "metadata": {},
   "outputs": [],
   "source": [
    "from numpy import diagonal\n",
    "from numpy import zeros\n",
    "from sympy import simplify\n",
    "from sympy import symbols\n",
    "\n",
    "\n",
    "def coefficients(x, y):\n",
    "    assert len(x) == len(y), \"arguments must have the same size\"\n",
    "    size = len(x)\n",
    "    result = zeros((size, size))\n",
    "    result[:, 0] = y\n",
    "    for column in range(1, size):\n",
    "        result[column:, column] = (\n",
    "            (result[column:, column-1] - result[column-1:-1, column-1])\n",
    "            / (x[column:] - x[:-column])\n",
    "        )\n",
    "    return diagonal(result)\n",
    "\n",
    "\n",
    "def expression(a, x):\n",
    "    assert len(a) == len(x), \"arguments must have the same size\"\n",
    "    size = len(a)\n",
    "\n",
    "    x_ = symbols('x')\n",
    "    xs = [1 for i in range(size)]\n",
    "    result = [a[0] for i in range(size)]\n",
    "    for i, x_i in enumerate(x[:-1], start=1):\n",
    "        xs[i] = xs[i-1] * (x_ - x_i)\n",
    "        result[i] = a[i] * xs[i]\n",
    "\n",
    "    return simplify(sum(result))\n",
    "\n",
    "\n",
    "def polynomial(x, y):\n",
    "    a = coefficients(x, y)\n",
    "    return expression(a, x)\n"
   ]
  },
  {
   "cell_type": "code",
   "execution_count": null,
   "id": "f522c976",
   "metadata": {},
   "outputs": [],
   "source": []
  },
  {
   "cell_type": "code",
   "execution_count": null,
   "id": "052870f9",
   "metadata": {},
   "outputs": [],
   "source": []
  },
  {
   "cell_type": "code",
   "execution_count": null,
   "id": "31d93ff5",
   "metadata": {},
   "outputs": [],
   "source": []
  },
  {
   "cell_type": "code",
   "execution_count": null,
   "id": "5679f7a0",
   "metadata": {},
   "outputs": [],
   "source": []
  },
  {
   "cell_type": "code",
   "execution_count": null,
   "id": "936ee7a4",
   "metadata": {},
   "outputs": [],
   "source": []
  },
  {
   "cell_type": "code",
   "execution_count": null,
   "id": "aa1bdf15",
   "metadata": {},
   "outputs": [],
   "source": []
  },
  {
   "cell_type": "markdown",
   "id": "7c646169",
   "metadata": {},
   "source": [
    "https://en.wikipedia.org/wiki/Newton_polynomial#:~:text=In%20the%20mathematical%20field%20of%20numerical%20analysis%2C%20a,polynomial%20for%20a%20given%20set%20of%20data%20points."
   ]
  },
  {
   "cell_type": "markdown",
   "id": "6b6108c7",
   "metadata": {},
   "source": [
    "https://en.wikipedia.org/wiki/Newton_polynomial"
   ]
  },
  {
   "cell_type": "markdown",
   "id": "38173ce2",
   "metadata": {},
   "source": [
    "https://en.wikipedia.org/wiki/Newton%27s_identities"
   ]
  },
  {
   "cell_type": "code",
   "execution_count": 2,
   "id": "441a6b36",
   "metadata": {},
   "outputs": [],
   "source": [
    "import numpy as np \n",
    "\n",
    "def divided_diff(x, y):\n",
    "    '''\n",
    "    function to calculate the divided\n",
    "    differences table\n",
    "    '''\n",
    "    n = len(y)\n",
    "    coef = np.zeros([n, n])\n",
    "    # the first column is y\n",
    "    coef[:,0] = y\n",
    "    \n",
    "    for j in range(1,n):\n",
    "        for i in range(n-j):\n",
    "            coef[i][j] = \\\n",
    "           (coef[i+1][j-1] - coef[i][j-1]) / (x[i+j]-x[i])\n",
    "            \n",
    "    return coef\n",
    "\n",
    "def newton_poly(coef, x_data, x):\n",
    "    '''\n",
    "    evaluate the newton polynomial \n",
    "    at x\n",
    "    '''\n",
    "    n = len(x_data) - 1 \n",
    "    p = coef[n]\n",
    "    for k in range(1,n+1):\n",
    "        p = coef[n-k] + (x -x_data[n-k])*p\n",
    "    return p"
   ]
  }
 ],
 "metadata": {
  "kernelspec": {
   "display_name": "Python 3 (ipykernel)",
   "language": "python",
   "name": "python3"
  },
  "language_info": {
   "codemirror_mode": {
    "name": "ipython",
    "version": 3
   },
   "file_extension": ".py",
   "mimetype": "text/x-python",
   "name": "python",
   "nbconvert_exporter": "python",
   "pygments_lexer": "ipython3",
   "version": "3.9.12"
  }
 },
 "nbformat": 4,
 "nbformat_minor": 5
}
