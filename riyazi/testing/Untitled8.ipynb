{
 "cells": [
  {
   "cell_type": "code",
   "execution_count": 1,
   "id": "bbb2084d",
   "metadata": {},
   "outputs": [],
   "source": [
    "import cmath as c"
   ]
  },
  {
   "cell_type": "code",
   "execution_count": 2,
   "id": "fc31f430",
   "metadata": {
    "scrolled": true
   },
   "outputs": [
    {
     "data": {
      "text/plain": [
       "(1.5707963267948966+2.7686593833135738j)"
      ]
     },
     "execution_count": 2,
     "metadata": {},
     "output_type": "execute_result"
    }
   ],
   "source": [
    "c.asin(8)"
   ]
  },
  {
   "cell_type": "code",
   "execution_count": 3,
   "id": "e6ad7187",
   "metadata": {},
   "outputs": [],
   "source": [
    "import math "
   ]
  },
  {
   "cell_type": "code",
   "execution_count": 80,
   "id": "099dc5b7",
   "metadata": {},
   "outputs": [
    {
     "data": {
      "text/plain": [
       "0.694498265626556"
      ]
     },
     "execution_count": 80,
     "metadata": {},
     "output_type": "execute_result"
    }
   ],
   "source": [
    "math.asin(0.64)"
   ]
  },
  {
   "cell_type": "code",
   "execution_count": 8,
   "id": "03fbc525",
   "metadata": {},
   "outputs": [
    {
     "data": {
      "text/plain": [
       "3.141592653589793"
      ]
     },
     "execution_count": 8,
     "metadata": {},
     "output_type": "execute_result"
    }
   ],
   "source": [
    "math.pi"
   ]
  },
  {
   "cell_type": "code",
   "execution_count": 74,
   "id": "8f3c8ce9",
   "metadata": {},
   "outputs": [],
   "source": [
    "pi = 3.141592653589793\n",
    "def asin(x,/):\n",
    "    \"\"\"\n",
    "    Return the arc sine (measured in radians) of x.\n",
    "    \"\"\"\n",
    "    if(x == 0 ):\n",
    "        return float(x) \n",
    "    elif(x == 1):\n",
    "        x = pi/2\n",
    "        return x\n",
    "    elif (x == -1):\n",
    "        x = -pi/2\n",
    "        return x\n",
    "    elif(x >= -1 and x<= 1):\n",
    "        x = (pi/2)*x\n",
    "        return x \n",
    "    else:\n",
    "        print(\"math Domain error\")\n",
    "    "
   ]
  },
  {
   "cell_type": "code",
   "execution_count": 75,
   "id": "ea1b2969",
   "metadata": {},
   "outputs": [
    {
     "data": {
      "text/plain": [
       "0.0"
      ]
     },
     "execution_count": 75,
     "metadata": {},
     "output_type": "execute_result"
    }
   ],
   "source": [
    "asin(0)"
   ]
  },
  {
   "cell_type": "code",
   "execution_count": 76,
   "id": "28494e6c",
   "metadata": {},
   "outputs": [
    {
     "data": {
      "text/plain": [
       "1.5707963267948966"
      ]
     },
     "execution_count": 76,
     "metadata": {},
     "output_type": "execute_result"
    }
   ],
   "source": [
    "asin(1)"
   ]
  },
  {
   "cell_type": "code",
   "execution_count": 77,
   "id": "e3cf2d51",
   "metadata": {},
   "outputs": [
    {
     "data": {
      "text/plain": [
       "-1.5707963267948966"
      ]
     },
     "execution_count": 77,
     "metadata": {},
     "output_type": "execute_result"
    }
   ],
   "source": [
    "asin(-1)"
   ]
  },
  {
   "cell_type": "code",
   "execution_count": 78,
   "id": "ef4a23f4",
   "metadata": {},
   "outputs": [
    {
     "data": {
      "text/plain": [
       "1.0053096491487339"
      ]
     },
     "execution_count": 78,
     "metadata": {},
     "output_type": "execute_result"
    }
   ],
   "source": [
    "asin(0.64)"
   ]
  },
  {
   "cell_type": "code",
   "execution_count": 81,
   "id": "6dc808ab",
   "metadata": {},
   "outputs": [
    {
     "data": {
      "text/plain": [
       "0.9472"
      ]
     },
     "execution_count": 81,
     "metadata": {},
     "output_type": "execute_result"
    }
   ],
   "source": []
  },
  {
   "cell_type": "code",
   "execution_count": null,
   "id": "355fc988",
   "metadata": {},
   "outputs": [],
   "source": []
  },
  {
   "cell_type": "code",
   "execution_count": null,
   "id": "c468bc1c",
   "metadata": {},
   "outputs": [],
   "source": []
  },
  {
   "cell_type": "code",
   "execution_count": null,
   "id": "bf112406",
   "metadata": {},
   "outputs": [],
   "source": []
  },
  {
   "cell_type": "code",
   "execution_count": 66,
   "id": "70014c33",
   "metadata": {},
   "outputs": [
    {
     "data": {
      "text/plain": [
       "0.15707963267948966"
      ]
     },
     "execution_count": 66,
     "metadata": {},
     "output_type": "execute_result"
    }
   ],
   "source": [
    "pi/2*0.1"
   ]
  },
  {
   "cell_type": "code",
   "execution_count": 65,
   "id": "ff9f8dca",
   "metadata": {},
   "outputs": [
    {
     "data": {
      "text/plain": [
       "0.1001674211615598"
      ]
     },
     "execution_count": 65,
     "metadata": {},
     "output_type": "execute_result"
    }
   ],
   "source": [
    "asin(0.1)"
   ]
  },
  {
   "cell_type": "code",
   "execution_count": 49,
   "id": "39336e82",
   "metadata": {},
   "outputs": [
    {
     "data": {
      "text/plain": [
       "0.3003348423231196"
      ]
     },
     "execution_count": 49,
     "metadata": {},
     "output_type": "execute_result"
    }
   ],
   "source": [
    "0.1001674211615598 *2 +0.1"
   ]
  },
  {
   "cell_type": "code",
   "execution_count": null,
   "id": "9a3d80ef",
   "metadata": {},
   "outputs": [],
   "source": []
  }
 ],
 "metadata": {
  "kernelspec": {
   "display_name": "Python 3 (ipykernel)",
   "language": "python",
   "name": "python3"
  },
  "language_info": {
   "codemirror_mode": {
    "name": "ipython",
    "version": 3
   },
   "file_extension": ".py",
   "mimetype": "text/x-python",
   "name": "python",
   "nbconvert_exporter": "python",
   "pygments_lexer": "ipython3",
   "version": "3.9.12"
  }
 },
 "nbformat": 4,
 "nbformat_minor": 5
}
