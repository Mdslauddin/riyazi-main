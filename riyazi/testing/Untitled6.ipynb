{
 "cells": [
  {
   "cell_type": "code",
   "execution_count": 1,
   "id": "ff7442f5",
   "metadata": {},
   "outputs": [],
   "source": [
    "import Riyazi.stats.testing"
   ]
  },
  {
   "cell_type": "code",
   "execution_count": null,
   "id": "ddc614b0",
   "metadata": {},
   "outputs": [],
   "source": []
  },
  {
   "cell_type": "code",
   "execution_count": 2,
   "id": "bc3dcb1e",
   "metadata": {},
   "outputs": [
    {
     "data": {
      "text/plain": [
       "'0.01'"
      ]
     },
     "execution_count": 2,
     "metadata": {},
     "output_type": "execute_result"
    }
   ],
   "source": [
    "Riyazi.__version__"
   ]
  },
  {
   "cell_type": "code",
   "execution_count": 3,
   "id": "de2b2a58",
   "metadata": {},
   "outputs": [
    {
     "data": {
      "text/plain": [
       "5.0"
      ]
     },
     "execution_count": 3,
     "metadata": {},
     "output_type": "execute_result"
    }
   ],
   "source": [
    "Riyazi.stats.testing.combination(5,4)"
   ]
  },
  {
   "cell_type": "code",
   "execution_count": 4,
   "id": "f9831661",
   "metadata": {},
   "outputs": [
    {
     "data": {
      "text/plain": [
       "120.0"
      ]
     },
     "execution_count": 4,
     "metadata": {},
     "output_type": "execute_result"
    }
   ],
   "source": [
    "Riyazi.stats.testing.permutations(5,4)"
   ]
  },
  {
   "cell_type": "code",
   "execution_count": 5,
   "id": "1c842848",
   "metadata": {},
   "outputs": [
    {
     "data": {
      "text/plain": [
       "0"
      ]
     },
     "execution_count": 5,
     "metadata": {},
     "output_type": "execute_result"
    }
   ],
   "source": [
    "Riyazi.sub(5,5)"
   ]
  },
  {
   "cell_type": "code",
   "execution_count": 6,
   "id": "973d8c8d",
   "metadata": {},
   "outputs": [
    {
     "data": {
      "text/plain": [
       "(1.0605752387249068e-16+1.7320508075688772j)"
      ]
     },
     "execution_count": 6,
     "metadata": {},
     "output_type": "execute_result"
    }
   ],
   "source": [
    "Riyazi.sqrt(-3)"
   ]
  },
  {
   "cell_type": "code",
   "execution_count": 7,
   "id": "0aeed056",
   "metadata": {},
   "outputs": [
    {
     "data": {
      "text/plain": [
       "32"
      ]
     },
     "execution_count": 7,
     "metadata": {},
     "output_type": "execute_result"
    }
   ],
   "source": [
    "Riyazi.pow(2,5)"
   ]
  },
  {
   "cell_type": "code",
   "execution_count": null,
   "id": "4d72a5fc",
   "metadata": {},
   "outputs": [],
   "source": [
    "import Riyazi.polynomial.testing as rpt"
   ]
  },
  {
   "cell_type": "code",
   "execution_count": null,
   "id": "a39d5f58",
   "metadata": {},
   "outputs": [],
   "source": [
    "rpt.quadratic(5,3,4)"
   ]
  },
  {
   "cell_type": "code",
   "execution_count": null,
   "id": "ea5ebc92",
   "metadata": {},
   "outputs": [],
   "source": [
    "import math "
   ]
  },
  {
   "cell_type": "code",
   "execution_count": null,
   "id": "bc62a522",
   "metadata": {},
   "outputs": [],
   "source": [
    "math.log(0)"
   ]
  },
  {
   "cell_type": "markdown",
   "id": "c6279136",
   "metadata": {},
   "source": [
    "dir(math"
   ]
  },
  {
   "cell_type": "code",
   "execution_count": null,
   "id": "dea8482a",
   "metadata": {
    "scrolled": false
   },
   "outputs": [],
   "source": [
    "dir(math)"
   ]
  },
  {
   "cell_type": "code",
   "execution_count": null,
   "id": "ea98931f",
   "metadata": {},
   "outputs": [],
   "source": [
    "math.sqrt(-1)"
   ]
  },
  {
   "cell_type": "code",
   "execution_count": null,
   "id": "a76ec508",
   "metadata": {},
   "outputs": [],
   "source": [
    "math.sqrt(1)"
   ]
  },
  {
   "cell_type": "code",
   "execution_count": null,
   "id": "e4b4ad23",
   "metadata": {},
   "outputs": [],
   "source": [
    "from cmath import sqrt"
   ]
  },
  {
   "cell_type": "code",
   "execution_count": null,
   "id": "f70602c2",
   "metadata": {},
   "outputs": [],
   "source": [
    "a = sqrt(-4)\n",
    "a"
   ]
  },
  {
   "cell_type": "code",
   "execution_count": null,
   "id": "e82ab13b",
   "metadata": {},
   "outputs": [],
   "source": [
    "type(a)"
   ]
  },
  {
   "cell_type": "code",
   "execution_count": null,
   "id": "60a258eb",
   "metadata": {},
   "outputs": [],
   "source": [
    "a*5"
   ]
  },
  {
   "cell_type": "code",
   "execution_count": null,
   "id": "c14775db",
   "metadata": {},
   "outputs": [],
   "source": [
    "sqrt(-1)"
   ]
  },
  {
   "cell_type": "code",
   "execution_count": null,
   "id": "945ec2d3",
   "metadata": {},
   "outputs": [],
   "source": [
    "sqrt(1)"
   ]
  },
  {
   "cell_type": "code",
   "execution_count": null,
   "id": "4474090e",
   "metadata": {},
   "outputs": [],
   "source": [
    "sqrt(2)"
   ]
  },
  {
   "cell_type": "code",
   "execution_count": null,
   "id": "3d417d8d",
   "metadata": {},
   "outputs": [],
   "source": [
    "\n",
    "def sqrt(x):\n",
    "    if(x >= 0):\n",
    "        x = x**0.5\n",
    "        return x \n",
    "    elif(x < 0):\n",
    "        x = -1*(x)\n",
    "        x =(x**0.5)\n",
    "        x = complex (x)\n",
    "    return x"
   ]
  },
  {
   "cell_type": "code",
   "execution_count": null,
   "id": "876cba4c",
   "metadata": {},
   "outputs": [],
   "source": [
    "sqrt(4)"
   ]
  },
  {
   "cell_type": "code",
   "execution_count": null,
   "id": "f5c7360d",
   "metadata": {},
   "outputs": [],
   "source": [
    "sqrt(1)"
   ]
  },
  {
   "cell_type": "code",
   "execution_count": null,
   "id": "6251322a",
   "metadata": {},
   "outputs": [],
   "source": [
    "a =sqrt(-4)\n",
    "a"
   ]
  },
  {
   "cell_type": "code",
   "execution_count": null,
   "id": "57b7dd61",
   "metadata": {},
   "outputs": [],
   "source": [
    "type(a)"
   ]
  },
  {
   "cell_type": "code",
   "execution_count": null,
   "id": "76ae40e8",
   "metadata": {},
   "outputs": [],
   "source": [
    "a*5"
   ]
  },
  {
   "cell_type": "code",
   "execution_count": null,
   "id": "3020a5ee",
   "metadata": {},
   "outputs": [],
   "source": [
    "x = -6\n",
    "x**0.5"
   ]
  },
  {
   "cell_type": "code",
   "execution_count": 1,
   "id": "0ce97b0c",
   "metadata": {},
   "outputs": [],
   "source": [
    "def sqrt(x):\n",
    "    \"\"\"\n",
    "    square root \n",
    "    >>> sqrt(5)\n",
    "    \"\"\"\n",
    "    return x**0.5"
   ]
  },
  {
   "cell_type": "code",
   "execution_count": 2,
   "id": "8eda8877",
   "metadata": {},
   "outputs": [
    {
     "data": {
      "text/plain": [
       "(1.0605752387249068e-16+1.7320508075688772j)"
      ]
     },
     "execution_count": 2,
     "metadata": {},
     "output_type": "execute_result"
    }
   ],
   "source": [
    "sqrt(-3)"
   ]
  },
  {
   "cell_type": "code",
   "execution_count": null,
   "id": "f903d589",
   "metadata": {},
   "outputs": [],
   "source": []
  }
 ],
 "metadata": {
  "kernelspec": {
   "display_name": "Python 3 (ipykernel)",
   "language": "python",
   "name": "python3"
  },
  "language_info": {
   "codemirror_mode": {
    "name": "ipython",
    "version": 3
   },
   "file_extension": ".py",
   "mimetype": "text/x-python",
   "name": "python",
   "nbconvert_exporter": "python",
   "pygments_lexer": "ipython3",
   "version": "3.9.12"
  }
 },
 "nbformat": 4,
 "nbformat_minor": 5
}
