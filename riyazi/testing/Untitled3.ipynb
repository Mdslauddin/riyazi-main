{
 "cells": [
  {
   "cell_type": "code",
   "execution_count": 12,
   "id": "add09900",
   "metadata": {},
   "outputs": [],
   "source": [
    "import Riyazi "
   ]
  },
  {
   "cell_type": "code",
   "execution_count": 13,
   "id": "45f237ed",
   "metadata": {},
   "outputs": [
    {
     "data": {
      "text/plain": [
       "<module 'Riyazi.version' from 'H:\\\\Riyazi\\\\version.py'>"
      ]
     },
     "execution_count": 13,
     "metadata": {},
     "output_type": "execute_result"
    }
   ],
   "source": [
    "Riyazi.version"
   ]
  },
  {
   "cell_type": "code",
   "execution_count": 14,
   "id": "dc9b7436",
   "metadata": {},
   "outputs": [
    {
     "data": {
      "text/plain": [
       "'0.01'"
      ]
     },
     "execution_count": 14,
     "metadata": {},
     "output_type": "execute_result"
    }
   ],
   "source": [
    "Riyazi.version.__version__"
   ]
  },
  {
   "cell_type": "code",
   "execution_count": 15,
   "id": "092c1d47",
   "metadata": {},
   "outputs": [],
   "source": [
    "import Riyazi"
   ]
  },
  {
   "cell_type": "code",
   "execution_count": 16,
   "id": "5e39662a",
   "metadata": {},
   "outputs": [
    {
     "data": {
      "text/plain": [
       "<module 'Riyazi.version' from 'H:\\\\Riyazi\\\\version.py'>"
      ]
     },
     "execution_count": 16,
     "metadata": {},
     "output_type": "execute_result"
    }
   ],
   "source": [
    "Riyazi.version"
   ]
  },
  {
   "cell_type": "code",
   "execution_count": 19,
   "id": "92dda10e",
   "metadata": {},
   "outputs": [],
   "source": [
    "import Riyazi"
   ]
  },
  {
   "cell_type": "code",
   "execution_count": 20,
   "id": "19d0256a",
   "metadata": {},
   "outputs": [
    {
     "data": {
      "text/plain": [
       "'0.01'"
      ]
     },
     "execution_count": 20,
     "metadata": {},
     "output_type": "execute_result"
    }
   ],
   "source": [
    "Riyazi.version.__version__"
   ]
  },
  {
   "cell_type": "code",
   "execution_count": 21,
   "id": "1daf885b",
   "metadata": {},
   "outputs": [],
   "source": [
    "import scipy "
   ]
  },
  {
   "cell_type": "code",
   "execution_count": 22,
   "id": "f6e9ed6d",
   "metadata": {},
   "outputs": [
    {
     "data": {
      "text/plain": [
       "<scipy._lib._testutils.PytestTester at 0x16a42e568b0>"
      ]
     },
     "execution_count": 22,
     "metadata": {},
     "output_type": "execute_result"
    }
   ],
   "source": [
    "scipy.test"
   ]
  },
  {
   "cell_type": "code",
   "execution_count": 23,
   "id": "d42e5c5c",
   "metadata": {},
   "outputs": [],
   "source": [
    "import pandas as pd "
   ]
  },
  {
   "cell_type": "code",
   "execution_count": 24,
   "id": "bb9a848e",
   "metadata": {},
   "outputs": [
    {
     "data": {
      "text/plain": [
       "'1.4.2'"
      ]
     },
     "execution_count": 24,
     "metadata": {},
     "output_type": "execute_result"
    }
   ],
   "source": [
    "pd.__version__"
   ]
  },
  {
   "cell_type": "code",
   "execution_count": 25,
   "id": "de9dbec0",
   "metadata": {},
   "outputs": [],
   "source": [
    "import numpy as np "
   ]
  },
  {
   "cell_type": "code",
   "execution_count": 26,
   "id": "74cf6f9b",
   "metadata": {},
   "outputs": [
    {
     "data": {
      "text/plain": [
       "'1.21.5'"
      ]
     },
     "execution_count": 26,
     "metadata": {},
     "output_type": "execute_result"
    }
   ],
   "source": [
    "np.__version__"
   ]
  },
  {
   "cell_type": "code",
   "execution_count": 27,
   "id": "e9d62bab",
   "metadata": {},
   "outputs": [],
   "source": [
    "from __future__ import annotations"
   ]
  },
  {
   "cell_type": "code",
   "execution_count": 28,
   "id": "d4c72914",
   "metadata": {},
   "outputs": [
    {
     "ename": "ImportError",
     "evalue": "attempted relative import with no known parent package",
     "output_type": "error",
     "traceback": [
      "\u001b[1;31m---------------------------------------------------------------------------\u001b[0m",
      "\u001b[1;31mImportError\u001b[0m                               Traceback (most recent call last)",
      "Input \u001b[1;32mIn [28]\u001b[0m, in \u001b[0;36m<cell line: 3>\u001b[1;34m()\u001b[0m\n\u001b[0;32m      1\u001b[0m \u001b[38;5;28;01mfrom\u001b[39;00m \u001b[38;5;21;01m__future__\u001b[39;00m \u001b[38;5;28;01mimport\u001b[39;00m annotations\n\u001b[1;32m----> 3\u001b[0m \u001b[38;5;28;01mfrom\u001b[39;00m \u001b[38;5;21;01m.\u001b[39;00m\u001b[38;5;21;01m_version\u001b[39;00m \u001b[38;5;28;01mimport\u001b[39;00m get_versions\n\u001b[0;32m      5\u001b[0m __ALL__ \u001b[38;5;241m=\u001b[39m [\u001b[38;5;124m'\u001b[39m\u001b[38;5;124mversion\u001b[39m\u001b[38;5;124m'\u001b[39m, \u001b[38;5;124m'\u001b[39m\u001b[38;5;124m__version__\u001b[39m\u001b[38;5;124m'\u001b[39m, \u001b[38;5;124m'\u001b[39m\u001b[38;5;124mfull_version\u001b[39m\u001b[38;5;124m'\u001b[39m, \u001b[38;5;124m'\u001b[39m\u001b[38;5;124mgit_revision\u001b[39m\u001b[38;5;124m'\u001b[39m, \u001b[38;5;124m'\u001b[39m\u001b[38;5;124mrelease\u001b[39m\u001b[38;5;124m'\u001b[39m]\n\u001b[0;32m      7\u001b[0m vinfo: \u001b[38;5;28mdict\u001b[39m[\u001b[38;5;28mstr\u001b[39m, \u001b[38;5;28mstr\u001b[39m] \u001b[38;5;241m=\u001b[39m get_versions()\n",
      "\u001b[1;31mImportError\u001b[0m: attempted relative import with no known parent package"
     ]
    }
   ],
   "source": [
    "from __future__ import annotations\n",
    "\n",
    "from ._version import get_versions\n",
    "\n",
    "__ALL__ = ['version', '__version__', 'full_version', 'git_revision', 'release']\n",
    "\n",
    "vinfo: dict[str, str] = get_versions()\n",
    "version = vinfo[\"version\"]\n",
    "__version__ = vinfo.get(\"closest-tag\", vinfo[\"version\"])\n",
    "full_version = vinfo['version']\n",
    "git_revision = vinfo['full-revisionid']\n",
    "release = 'dev0' not in version and '+' not in version\n",
    "short_version = vinfo['version'].split(\"+\")[0]\n",
    "\n",
    "del get_versions, vinfo\n"
   ]
  },
  {
   "cell_type": "code",
   "execution_count": 32,
   "id": "17415c9a",
   "metadata": {},
   "outputs": [],
   "source": [
    "def mean(data):\n",
    "    \"\"\"Return the sample arithmetic mean of data.\n",
    "\n",
    "    >>> mean([1, 2, 3, 4, 4])\n",
    "    2.8\n",
    "\n",
    "    >>> from fractions import Fraction as F\n",
    "    >>> mean([F(3, 7), F(1, 21), F(5, 3), F(1, 3)])\n",
    "    Fraction(13, 21)\n",
    "\n",
    "    >>> from decimal import Decimal as D\n",
    "    >>> mean([D(\"0.5\"), D(\"0.75\"), D(\"0.625\"), D(\"0.375\")])\n",
    "    Decimal('0.5625')\n",
    "\n",
    "    If ``data`` is empty, StatisticsError will be raised.\n",
    "    \"\"\"\n",
    "    if iter(data) is data:\n",
    "        data = list(data)\n",
    "    n = len(data)\n",
    "    if n < 1:\n",
    "        raise StatisticsError('mean requires at least one data point')\n",
    "    T, total, count = _sum(data)\n",
    "    assert count == n\n",
    "    return _convert(total / n, T)"
   ]
  },
  {
   "cell_type": "code",
   "execution_count": 33,
   "id": "396caa5e",
   "metadata": {},
   "outputs": [
    {
     "ename": "NameError",
     "evalue": "name '_sum' is not defined",
     "output_type": "error",
     "traceback": [
      "\u001b[1;31m---------------------------------------------------------------------------\u001b[0m",
      "\u001b[1;31mNameError\u001b[0m                                 Traceback (most recent call last)",
      "Input \u001b[1;32mIn [33]\u001b[0m, in \u001b[0;36m<cell line: 1>\u001b[1;34m()\u001b[0m\n\u001b[1;32m----> 1\u001b[0m \u001b[43mmean\u001b[49m\u001b[43m(\u001b[49m\u001b[43m[\u001b[49m\u001b[38;5;241;43m1\u001b[39;49m\u001b[43m,\u001b[49m\u001b[38;5;241;43m2\u001b[39;49m\u001b[43m,\u001b[49m\u001b[38;5;241;43m3\u001b[39;49m\u001b[43m]\u001b[49m\u001b[43m)\u001b[49m\n",
      "Input \u001b[1;32mIn [32]\u001b[0m, in \u001b[0;36mmean\u001b[1;34m(data)\u001b[0m\n\u001b[0;32m     20\u001b[0m \u001b[38;5;28;01mif\u001b[39;00m n \u001b[38;5;241m<\u001b[39m \u001b[38;5;241m1\u001b[39m:\n\u001b[0;32m     21\u001b[0m     \u001b[38;5;28;01mraise\u001b[39;00m StatisticsError(\u001b[38;5;124m'\u001b[39m\u001b[38;5;124mmean requires at least one data point\u001b[39m\u001b[38;5;124m'\u001b[39m)\n\u001b[1;32m---> 22\u001b[0m T, total, count \u001b[38;5;241m=\u001b[39m \u001b[43m_sum\u001b[49m(data)\n\u001b[0;32m     23\u001b[0m \u001b[38;5;28;01massert\u001b[39;00m count \u001b[38;5;241m==\u001b[39m n\n\u001b[0;32m     24\u001b[0m \u001b[38;5;28;01mreturn\u001b[39;00m _convert(total \u001b[38;5;241m/\u001b[39m n, T)\n",
      "\u001b[1;31mNameError\u001b[0m: name '_sum' is not defined"
     ]
    }
   ],
   "source": [
    "mean([1,2,3])"
   ]
  },
  {
   "cell_type": "code",
   "execution_count": 31,
   "id": "0d8d38a3",
   "metadata": {},
   "outputs": [],
   "source": [
    "import math\n",
    "import numbers\n",
    "import random\n",
    "\n",
    "from fractions import Fraction\n",
    "from decimal import Decimal\n",
    "from itertools import groupby, repeat\n",
    "from bisect import bisect_left, bisect_right\n",
    "from math import hypot, sqrt, fabs, exp, erf, tau, log, fsum\n",
    "from operator import itemgetter\n",
    "from collections import Counter, namedtuple\n"
   ]
  },
  {
   "cell_type": "code",
   "execution_count": null,
   "id": "af4cc0bb",
   "metadata": {},
   "outputs": [],
   "source": []
  }
 ],
 "metadata": {
  "kernelspec": {
   "display_name": "Python 3 (ipykernel)",
   "language": "python",
   "name": "python3"
  },
  "language_info": {
   "codemirror_mode": {
    "name": "ipython",
    "version": 3
   },
   "file_extension": ".py",
   "mimetype": "text/x-python",
   "name": "python",
   "nbconvert_exporter": "python",
   "pygments_lexer": "ipython3",
   "version": "3.9.12"
  }
 },
 "nbformat": 4,
 "nbformat_minor": 5
}
