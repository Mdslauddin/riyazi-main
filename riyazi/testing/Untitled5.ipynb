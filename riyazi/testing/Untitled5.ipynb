{
 "cells": [
  {
   "cell_type": "code",
   "execution_count": null,
   "id": "53db5259",
   "metadata": {},
   "outputs": [],
   "source": [
    "import Riyazi.Geo.three_dim as rgt "
   ]
  },
  {
   "cell_type": "code",
   "execution_count": null,
   "id": "c26f6b32",
   "metadata": {},
   "outputs": [],
   "source": [
    "rgt.cone"
   ]
  },
  {
   "cell_type": "code",
   "execution_count": null,
   "id": "3f8869ac",
   "metadata": {},
   "outputs": [],
   "source": [
    "rgt.cube"
   ]
  },
  {
   "cell_type": "code",
   "execution_count": null,
   "id": "ed6c61c0",
   "metadata": {},
   "outputs": [],
   "source": [
    "import Riyazi.Geo.three_dim as rgt"
   ]
  },
  {
   "cell_type": "code",
   "execution_count": null,
   "id": "2f731afb",
   "metadata": {},
   "outputs": [],
   "source": [
    "rgt."
   ]
  },
  {
   "cell_type": "code",
   "execution_count": null,
   "id": "a9374def",
   "metadata": {},
   "outputs": [],
   "source": [
    "import Riyazi.version."
   ]
  },
  {
   "cell_type": "code",
   "execution_count": null,
   "id": "d86fb1a9",
   "metadata": {},
   "outputs": [],
   "source": [
    "Riyazi.version.__version__"
   ]
  },
  {
   "cell_type": "code",
   "execution_count": 1,
   "id": "6ea14331",
   "metadata": {},
   "outputs": [
    {
     "ename": "ImportError",
     "evalue": "cannot import name 'version' from 'Riyazi.version' (H:\\Riyazi\\version.py)",
     "output_type": "error",
     "traceback": [
      "\u001b[1;31m---------------------------------------------------------------------------\u001b[0m",
      "\u001b[1;31mImportError\u001b[0m                               Traceback (most recent call last)",
      "Input \u001b[1;32mIn [1]\u001b[0m, in \u001b[0;36m<cell line: 1>\u001b[1;34m()\u001b[0m\n\u001b[1;32m----> 1\u001b[0m \u001b[38;5;28;01mimport\u001b[39;00m \u001b[38;5;21;01mRiyazi\u001b[39;00m\n",
      "File \u001b[1;32mH:\\Riyazi\\__init__.py:3\u001b[0m, in \u001b[0;36m<module>\u001b[1;34m\u001b[0m\n\u001b[0;32m      1\u001b[0m \u001b[38;5;28;01mfrom\u001b[39;00m \u001b[38;5;21;01m.\u001b[39;00m\u001b[38;5;21;01mversion\u001b[39;00m \u001b[38;5;28;01mimport\u001b[39;00m \u001b[38;5;241m*\u001b[39m\n\u001b[1;32m----> 3\u001b[0m \u001b[38;5;28;01mfrom\u001b[39;00m \u001b[38;5;21;01m.\u001b[39;00m\u001b[38;5;21;01mversion\u001b[39;00m \u001b[38;5;28;01mimport\u001b[39;00m version \u001b[38;5;28;01mas\u001b[39;00m __version__\n",
      "\u001b[1;31mImportError\u001b[0m: cannot import name 'version' from 'Riyazi.version' (H:\\Riyazi\\version.py)"
     ]
    }
   ],
   "source": [
    "import Riyazi"
   ]
  },
  {
   "cell_type": "code",
   "execution_count": null,
   "id": "eb56c34e",
   "metadata": {},
   "outputs": [],
   "source": []
  },
  {
   "cell_type": "code",
   "execution_count": null,
   "id": "6c764b8a",
   "metadata": {},
   "outputs": [],
   "source": []
  },
  {
   "cell_type": "code",
   "execution_count": null,
   "id": "5a858b8d",
   "metadata": {},
   "outputs": [],
   "source": []
  },
  {
   "cell_type": "code",
   "execution_count": null,
   "id": "8f79a66f",
   "metadata": {},
   "outputs": [],
   "source": []
  },
  {
   "cell_type": "code",
   "execution_count": null,
   "id": "2c96e333",
   "metadata": {},
   "outputs": [],
   "source": []
  }
 ],
 "metadata": {
  "kernelspec": {
   "display_name": "Python 3 (ipykernel)",
   "language": "python",
   "name": "python3"
  },
  "language_info": {
   "codemirror_mode": {
    "name": "ipython",
    "version": 3
   },
   "file_extension": ".py",
   "mimetype": "text/x-python",
   "name": "python",
   "nbconvert_exporter": "python",
   "pygments_lexer": "ipython3",
   "version": "3.9.12"
  }
 },
 "nbformat": 4,
 "nbformat_minor": 5
}
