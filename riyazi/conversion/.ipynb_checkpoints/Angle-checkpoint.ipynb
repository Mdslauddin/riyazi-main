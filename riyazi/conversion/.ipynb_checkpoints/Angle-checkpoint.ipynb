{
 "cells": [
  {
   "cell_type": "markdown",
   "id": "b57e45c7",
   "metadata": {},
   "source": [
    "`Degree`\n",
    "\n",
    "`Radian`\n",
    "\n",
    "`Milliradian`\n",
    "\n",
    "`Microradian`\n",
    "\n",
    "`Gradian`\n",
    "\n",
    "`Revolution`\n",
    "\n",
    "`Arc minute`\n",
    "\n",
    "`Arc second`\n",
    "\n",
    "`Milliarcsecond`\n",
    "\n",
    "`Microarcsecond`"
   ]
  },
  {
   "cell_type": "code",
   "execution_count": 1,
   "id": "665f12d9",
   "metadata": {},
   "outputs": [],
   "source": [
    "import math "
   ]
  },
  {
   "cell_type": "code",
   "execution_count": 3,
   "id": "8b09efb7",
   "metadata": {},
   "outputs": [
    {
     "data": {
      "text/plain": [
       "57.29577951308232"
      ]
     },
     "execution_count": 3,
     "metadata": {},
     "output_type": "execute_result"
    }
   ],
   "source": [
    "math.degrees(1)"
   ]
  },
  {
   "cell_type": "code",
   "execution_count": 4,
   "id": "d3c800fa",
   "metadata": {},
   "outputs": [],
   "source": [
    "def degree(x):\n",
    "    return (x*180) /math.pi"
   ]
  },
  {
   "cell_type": "code",
   "execution_count": 5,
   "id": "e0fda37a",
   "metadata": {},
   "outputs": [
    {
     "data": {
      "text/plain": [
       "57.29577951308232"
      ]
     },
     "execution_count": 5,
     "metadata": {},
     "output_type": "execute_result"
    }
   ],
   "source": [
    "degree(1)"
   ]
  },
  {
   "cell_type": "code",
   "execution_count": 6,
   "id": "87c3c27a",
   "metadata": {},
   "outputs": [],
   "source": [
    "def radian(x):\n",
    "    return (x*math.pi) /180"
   ]
  },
  {
   "cell_type": "code",
   "execution_count": 7,
   "id": "c1055179",
   "metadata": {},
   "outputs": [
    {
     "data": {
      "text/plain": [
       "0.03490658503988659"
      ]
     },
     "execution_count": 7,
     "metadata": {},
     "output_type": "execute_result"
    }
   ],
   "source": [
    "math.radians(2)"
   ]
  },
  {
   "cell_type": "code",
   "execution_count": 8,
   "id": "90f95606",
   "metadata": {},
   "outputs": [
    {
     "data": {
      "text/plain": [
       "0.03490658503988659"
      ]
     },
     "execution_count": 8,
     "metadata": {},
     "output_type": "execute_result"
    }
   ],
   "source": [
    "radian(2)"
   ]
  },
  {
   "cell_type": "code",
   "execution_count": null,
   "id": "8800b14a",
   "metadata": {},
   "outputs": [],
   "source": []
  }
 ],
 "metadata": {
  "kernelspec": {
   "display_name": "Python 3 (ipykernel)",
   "language": "python",
   "name": "python3"
  },
  "language_info": {
   "codemirror_mode": {
    "name": "ipython",
    "version": 3
   },
   "file_extension": ".py",
   "mimetype": "text/x-python",
   "name": "python",
   "nbconvert_exporter": "python",
   "pygments_lexer": "ipython3",
   "version": "3.9.12"
  }
 },
 "nbformat": 4,
 "nbformat_minor": 5
}
