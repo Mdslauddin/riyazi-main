{
 "cells": [
  {
   "cell_type": "code",
   "execution_count": 1,
   "id": "14e8cd02",
   "metadata": {},
   "outputs": [],
   "source": [
    "def decimal_to_binary(n):\n",
    "    return bin(n).replace(\"0b\", \"\")"
   ]
  },
  {
   "cell_type": "code",
   "execution_count": 7,
   "id": "69965e07",
   "metadata": {},
   "outputs": [
    {
     "data": {
      "text/plain": [
       "'110100100111010111101011101001010'"
      ]
     },
     "execution_count": 7,
     "metadata": {},
     "output_type": "execute_result"
    }
   ],
   "source": [
    "decimal_to_binary(7061886794)"
   ]
  },
  {
   "cell_type": "code",
   "execution_count": 8,
   "id": "6479a920",
   "metadata": {},
   "outputs": [
    {
     "data": {
      "text/plain": [
       "'0b1010'"
      ]
     },
     "execution_count": 8,
     "metadata": {},
     "output_type": "execute_result"
    }
   ],
   "source": [
    "bin(10)"
   ]
  },
  {
   "cell_type": "code",
   "execution_count": 9,
   "id": "2ddea351",
   "metadata": {},
   "outputs": [],
   "source": [
    "def binary_to_decimal(n):\n",
    "    stingn = str(n)\n",
    "    for character in stingn:\n",
    "        if character == '.':\n",
    "            return 'Invalid'\n",
    "        if character != 0 and character != 1:\n",
    "            return 'Invalid'\n",
    "    num = n\n",
    "    dec_value = 0\n",
    "\n",
    "    base = 1\n",
    "\n",
    "    temp = num\n",
    "    while temp:\n",
    "        last_digit = temp % 10\n",
    "        temp = int(temp / 10)\n",
    "\n",
    "        dec_value += last_digit * base\n",
    "        base = base * 2\n",
    "    return dec_value\n"
   ]
  },
  {
   "cell_type": "code",
   "execution_count": 13,
   "id": "57872113",
   "metadata": {},
   "outputs": [
    {
     "data": {
      "text/plain": [
       "'Invalid'"
      ]
     },
     "execution_count": 13,
     "metadata": {},
     "output_type": "execute_result"
    }
   ],
   "source": [
    "binary_to_decimal(12)"
   ]
  },
  {
   "cell_type": "code",
   "execution_count": 14,
   "id": "815caad6",
   "metadata": {},
   "outputs": [],
   "source": [
    "def deciamal_to_octadecimal(n):\n",
    "    return oct(n)"
   ]
  },
  {
   "cell_type": "code",
   "execution_count": 15,
   "id": "4195fda1",
   "metadata": {},
   "outputs": [],
   "source": [
    "def octadecimal_to_decimal(n):\n",
    "    decimal_value = 0\n",
    "    base = 1\n",
    "\n",
    "    while (n):\n",
    "        last_digit = n % 10\n",
    "        n = int(n / 10)\n",
    "        decimal_value += last_digit * base\n",
    "        base = base * 8\n",
    "    return decimal_value\n",
    "\n",
    "\n",
    "def decimal_to_hexadecimal(n):\n",
    "    return hex(n)"
   ]
  },
  {
   "cell_type": "code",
   "execution_count": null,
   "id": "b102d809",
   "metadata": {},
   "outputs": [],
   "source": []
  }
 ],
 "metadata": {
  "kernelspec": {
   "display_name": "Python 3 (ipykernel)",
   "language": "python",
   "name": "python3"
  },
  "language_info": {
   "codemirror_mode": {
    "name": "ipython",
    "version": 3
   },
   "file_extension": ".py",
   "mimetype": "text/x-python",
   "name": "python",
   "nbconvert_exporter": "python",
   "pygments_lexer": "ipython3",
   "version": "3.9.12"
  }
 },
 "nbformat": 4,
 "nbformat_minor": 5
}
