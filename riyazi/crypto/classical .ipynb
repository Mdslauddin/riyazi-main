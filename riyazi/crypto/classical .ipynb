{
 "cells": [
  {
   "cell_type": "markdown",
   "id": "3cbad6e5",
   "metadata": {},
   "source": [
    "Classical Cryptosystems\n",
    "\n",
    "A convenient user interface to various classical ciphers. These include:\n",
    "\n",
    "- affine cipher; see :class:`AffineCryptosystem`\n",
    "- Hill or matrix cipher; see :class:`HillCryptosystem`\n",
    "- shift cipher; see :class:`ShiftCryptosystem`\n",
    "- substitution cipher; see :class:`SubstitutionCryptosystem`\n",
    "- transposition cipher; see :class:`TranspositionCryptosystem`\n",
    "- Vigenere cipher; see :class:`VigenereCryptosystem`\n"
   ]
  },
  {
   "cell_type": "code",
   "execution_count": null,
   "id": "4eeaf158",
   "metadata": {},
   "outputs": [],
   "source": []
  }
 ],
 "metadata": {
  "kernelspec": {
   "display_name": "Python 3 (ipykernel)",
   "language": "python",
   "name": "python3"
  },
  "language_info": {
   "codemirror_mode": {
    "name": "ipython",
    "version": 3
   },
   "file_extension": ".py",
   "mimetype": "text/x-python",
   "name": "python",
   "nbconvert_exporter": "python",
   "pygments_lexer": "ipython3",
   "version": "3.9.12"
  }
 },
 "nbformat": 4,
 "nbformat_minor": 5
}
