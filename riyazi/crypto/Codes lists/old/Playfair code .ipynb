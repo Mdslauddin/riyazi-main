{
 "cells": [
  {
   "cell_type": "markdown",
   "id": "d481753c",
   "metadata": {},
   "source": [
    "**Author- Charles wheastone**\n",
    "\n",
    "**invetion: 1854**\n",
    "\n",
    "**Type: Substitution**\n",
    "\n",
    "**Difficulty : Hard**"
   ]
  },
  {
   "cell_type": "markdown",
   "id": "027f9986",
   "metadata": {},
   "source": [
    "### [Link](https://en.wikipedia.org/wiki/Playfair_cipher)\n"
   ]
  },
  {
   "cell_type": "code",
   "execution_count": null,
   "id": "e898949d",
   "metadata": {},
   "outputs": [],
   "source": []
  }
 ],
 "metadata": {
  "kernelspec": {
   "display_name": "Python 3 (ipykernel)",
   "language": "python",
   "name": "python3"
  },
  "language_info": {
   "codemirror_mode": {
    "name": "ipython",
    "version": 3
   },
   "file_extension": ".py",
   "mimetype": "text/x-python",
   "name": "python",
   "nbconvert_exporter": "python",
   "pygments_lexer": "ipython3",
   "version": "3.9.12"
  }
 },
 "nbformat": 4,
 "nbformat_minor": 5
}
