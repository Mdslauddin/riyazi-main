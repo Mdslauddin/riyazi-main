{
 "cells": [
  {
   "cell_type": "markdown",
   "id": "bb59e82c",
   "metadata": {},
   "source": [
    "**Author - Templars**\n",
    "\n",
    "**invention: 11th century**\n",
    "\n",
    "**Type : Substitution**\n",
    "\n",
    "**Difficulty : Easy**\n"
   ]
  },
  {
   "cell_type": "markdown",
   "id": "753320fe",
   "metadata": {},
   "source": [
    "### [ADFGVX](https://en.wikipedia.org/wiki/ADFGVX_cipher)"
   ]
  },
  {
   "cell_type": "code",
   "execution_count": null,
   "id": "73a64496",
   "metadata": {},
   "outputs": [],
   "source": []
  }
 ],
 "metadata": {
  "kernelspec": {
   "display_name": "Python 3 (ipykernel)",
   "language": "python",
   "name": "python3"
  },
  "language_info": {
   "codemirror_mode": {
    "name": "ipython",
    "version": 3
   },
   "file_extension": ".py",
   "mimetype": "text/x-python",
   "name": "python",
   "nbconvert_exporter": "python",
   "pygments_lexer": "ipython3",
   "version": "3.9.12"
  }
 },
 "nbformat": 4,
 "nbformat_minor": 5
}
