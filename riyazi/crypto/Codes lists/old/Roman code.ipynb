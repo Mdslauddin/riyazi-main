{
 "cells": [
  {
   "cell_type": "markdown",
   "id": "9ddd3fbc",
   "metadata": {},
   "source": [
    "**Author- Roman civilization**\n",
    "\n",
    "**invetion: Roman period**\n",
    "\n",
    "**Type: Numbers**\n",
    "\n",
    "**Difficulty : Medium**"
   ]
  },
  {
   "cell_type": "markdown",
   "id": "7b023a30",
   "metadata": {},
   "source": [
    "### [Llink](https://en.wikipedia.org/wiki/Roman_numerals)"
   ]
  },
  {
   "cell_type": "code",
   "execution_count": null,
   "id": "6f54d006",
   "metadata": {},
   "outputs": [],
   "source": []
  }
 ],
 "metadata": {
  "kernelspec": {
   "display_name": "Python 3 (ipykernel)",
   "language": "python",
   "name": "python3"
  },
  "language_info": {
   "codemirror_mode": {
    "name": "ipython",
    "version": 3
   },
   "file_extension": ".py",
   "mimetype": "text/x-python",
   "name": "python",
   "nbconvert_exporter": "python",
   "pygments_lexer": "ipython3",
   "version": "3.9.12"
  }
 },
 "nbformat": 4,
 "nbformat_minor": 5
}
