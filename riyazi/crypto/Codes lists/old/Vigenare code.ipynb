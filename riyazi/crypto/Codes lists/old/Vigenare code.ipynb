{
 "cells": [
  {
   "cell_type": "markdown",
   "id": "ee9b9a2c",
   "metadata": {},
   "source": [
    "**Author- Giovan Battisa Bellaso**\n",
    "\n",
    "**invetion: 1553**\n",
    "\n",
    "**Type: Substitution**\n",
    "\n",
    "**Difficulty : Hard**"
   ]
  },
  {
   "cell_type": "markdown",
   "id": "bee916bb",
   "metadata": {},
   "source": [
    "### [Link](https://en.wikipedia.org/wiki/Vigen%C3%A8re_cipher)"
   ]
  },
  {
   "cell_type": "code",
   "execution_count": null,
   "id": "50f8cc5a",
   "metadata": {},
   "outputs": [],
   "source": []
  }
 ],
 "metadata": {
  "kernelspec": {
   "display_name": "Python 3 (ipykernel)",
   "language": "python",
   "name": "python3"
  },
  "language_info": {
   "codemirror_mode": {
    "name": "ipython",
    "version": 3
   },
   "file_extension": ".py",
   "mimetype": "text/x-python",
   "name": "python",
   "nbconvert_exporter": "python",
   "pygments_lexer": "ipython3",
   "version": "3.9.12"
  }
 },
 "nbformat": 4,
 "nbformat_minor": 5
}
