{
 "cells": [
  {
   "cell_type": "markdown",
   "id": "e958e4b8",
   "metadata": {},
   "source": [
    "**Author- Hebrew people**\n",
    "\n",
    "**invetion: Fifth century BC.**\n",
    "\n",
    "**Type: Substitution**\n",
    "\n",
    "**Difficulty : Easy**"
   ]
  },
  {
   "cell_type": "markdown",
   "id": "ace5ec69",
   "metadata": {},
   "source": [
    "### [Link](https://en.wikipedia.org/wiki/Atbash)"
   ]
  },
  {
   "cell_type": "code",
   "execution_count": 5,
   "id": "a9af8268",
   "metadata": {},
   "outputs": [
    {
     "ename": "KeyError",
     "evalue": "'t'",
     "output_type": "error",
     "traceback": [
      "\u001b[1;31m---------------------------------------------------------------------------\u001b[0m",
      "\u001b[1;31mKeyError\u001b[0m                                  Traceback (most recent call last)",
      "Input \u001b[1;32mIn [5]\u001b[0m, in \u001b[0;36m<cell line: 10>\u001b[1;34m()\u001b[0m\n\u001b[0;32m      7\u001b[0m         s[i] \u001b[38;5;241m=\u001b[39m mapped[val]\n\u001b[0;32m      8\u001b[0m     \u001b[38;5;28;01mreturn\u001b[39;00m \u001b[38;5;124m'\u001b[39m\u001b[38;5;124m'\u001b[39m\u001b[38;5;241m.\u001b[39mjoin(s)\n\u001b[1;32m---> 10\u001b[0m \u001b[43mcipher\u001b[49m\u001b[43m(\u001b[49m\u001b[38;5;124;43m'\u001b[39;49m\u001b[38;5;124;43mtest\u001b[39;49m\u001b[38;5;124;43m'\u001b[39;49m\u001b[43m)\u001b[49m\n",
      "Input \u001b[1;32mIn [5]\u001b[0m, in \u001b[0;36mcipher\u001b[1;34m(s)\u001b[0m\n\u001b[0;32m      5\u001b[0m s \u001b[38;5;241m=\u001b[39m \u001b[38;5;28mlist\u001b[39m(s)\n\u001b[0;32m      6\u001b[0m \u001b[38;5;28;01mfor\u001b[39;00m i, val \u001b[38;5;129;01min\u001b[39;00m \u001b[38;5;28menumerate\u001b[39m(s):\n\u001b[1;32m----> 7\u001b[0m     s[i] \u001b[38;5;241m=\u001b[39m \u001b[43mmapped\u001b[49m\u001b[43m[\u001b[49m\u001b[43mval\u001b[49m\u001b[43m]\u001b[49m\n\u001b[0;32m      8\u001b[0m \u001b[38;5;28;01mreturn\u001b[39;00m \u001b[38;5;124m'\u001b[39m\u001b[38;5;124m'\u001b[39m\u001b[38;5;241m.\u001b[39mjoin(s)\n",
      "\u001b[1;31mKeyError\u001b[0m: 't'"
     ]
    }
   ],
   "source": [
    "def cipher(s):\n",
    "    a_z = map(chr, range(ord('a'), ord('z')+1))\n",
    "    z_a = sorted(a_z, reverse=True)\n",
    "    mapped = dict(zip(a_z, z_a))\n",
    "    s = list(s)\n",
    "    for i, val in enumerate(s):\n",
    "        s[i] = mapped[val]\n",
    "    return ''.join(s)\n",
    "\n",
    "cipher('test')"
   ]
  },
  {
   "cell_type": "code",
   "execution_count": null,
   "id": "b744a058",
   "metadata": {},
   "outputs": [],
   "source": []
  }
 ],
 "metadata": {
  "kernelspec": {
   "display_name": "Python 3 (ipykernel)",
   "language": "python",
   "name": "python3"
  },
  "language_info": {
   "codemirror_mode": {
    "name": "ipython",
    "version": 3
   },
   "file_extension": ".py",
   "mimetype": "text/x-python",
   "name": "python",
   "nbconvert_exporter": "python",
   "pygments_lexer": "ipython3",
   "version": "3.9.12"
  }
 },
 "nbformat": 4,
 "nbformat_minor": 5
}
