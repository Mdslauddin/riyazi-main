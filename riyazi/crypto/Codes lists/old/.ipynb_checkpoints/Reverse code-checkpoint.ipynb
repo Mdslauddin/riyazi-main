{
 "cells": [
  {
   "cell_type": "markdown",
   "id": "0296ad49",
   "metadata": {},
   "source": [
    "**Author- Unknown**\n",
    "\n",
    "**invetion: Unknown**\n",
    "\n",
    "**Type: Transposition,words**\n",
    "\n",
    "**Difficulty : Easy**"
   ]
  },
  {
   "cell_type": "markdown",
   "id": "2e949657",
   "metadata": {},
   "source": [
    "### [Link](https://en.wikipedia.org/wiki/Morse_code)"
   ]
  },
  {
   "cell_type": "code",
   "execution_count": null,
   "id": "19f5370a",
   "metadata": {},
   "outputs": [],
   "source": []
  }
 ],
 "metadata": {
  "kernelspec": {
   "display_name": "Python 3 (ipykernel)",
   "language": "python",
   "name": "python3"
  },
  "language_info": {
   "codemirror_mode": {
    "name": "ipython",
    "version": 3
   },
   "file_extension": ".py",
   "mimetype": "text/x-python",
   "name": "python",
   "nbconvert_exporter": "python",
   "pygments_lexer": "ipython3",
   "version": "3.9.12"
  }
 },
 "nbformat": 4,
 "nbformat_minor": 5
}
