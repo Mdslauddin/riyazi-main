{
 "cells": [
  {
   "cell_type": "markdown",
   "id": "9e6e8568",
   "metadata": {},
   "source": [
    "**Author- Julius Cesar**\n",
    "\n",
    "**invetion: 1st century BC**\n",
    "\n",
    "**Type: Substitution**\n",
    "\n",
    "**Difficulty : Easy**\n",
    "\n",
    "### [Link](https://en.wikipedia.org/wiki/Caesar_cipher)"
   ]
  },
  {
   "cell_type": "markdown",
   "id": "809ed4a7",
   "metadata": {},
   "source": [
    "# [Tabula-recta](https://en.wikipedia.org/wiki/Tabula_recta)"
   ]
  },
  {
   "cell_type": "code",
   "execution_count": null,
   "id": "753b6e91",
   "metadata": {},
   "outputs": [],
   "source": []
  }
 ],
 "metadata": {
  "kernelspec": {
   "display_name": "Python 3 (ipykernel)",
   "language": "python",
   "name": "python3"
  },
  "language_info": {
   "codemirror_mode": {
    "name": "ipython",
    "version": 3
   },
   "file_extension": ".py",
   "mimetype": "text/x-python",
   "name": "python",
   "nbconvert_exporter": "python",
   "pygments_lexer": "ipython3",
   "version": "3.9.12"
  }
 },
 "nbformat": 4,
 "nbformat_minor": 5
}
