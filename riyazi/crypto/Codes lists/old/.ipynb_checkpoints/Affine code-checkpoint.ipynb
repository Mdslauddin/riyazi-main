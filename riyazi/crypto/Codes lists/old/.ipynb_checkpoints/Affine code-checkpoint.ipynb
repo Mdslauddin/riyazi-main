{
 "cells": [
  {
   "cell_type": "markdown",
   "id": "7e1495dc",
   "metadata": {},
   "source": [
    "**Author- Unknown**\n",
    "\n",
    "**invetion: Unknown**\n",
    "\n",
    "**Type: Substitution**\n",
    "\n",
    "**Difficulty : Easy**"
   ]
  },
  {
   "cell_type": "markdown",
   "id": "21d8ea3e",
   "metadata": {},
   "source": [
    "### [Link](https://en.wikipedia.org/wiki/Affine_cipher)"
   ]
  },
  {
   "cell_type": "code",
   "execution_count": 4,
   "id": "5fcc1286",
   "metadata": {},
   "outputs": [
    {
     "name": "stdout",
     "output_type": "stream",
     "text": [
      "JMMb\u0005FcXb\u0013[F!\n",
      "Affine Cipher\n"
     ]
    }
   ],
   "source": [
    "class Affine(object):\n",
    "    \n",
    "    DIE = 128\n",
    "    KEY = (7, 3, 55)\n",
    "    def __init__(self):\n",
    "        pass\n",
    "    def encryptChar(self, char):\n",
    "        K1, K2, kI = self.KEY\n",
    "        return chr((K1 * ord(char) + K2) % self.DIE)\n",
    "\t\t\n",
    "    def encrypt(self, string):\n",
    "        \n",
    "        return \"\".join(map(self.encryptChar, string))\n",
    "   \n",
    "    def decryptChar(self, char):\n",
    "        K1, K2, KI = self.KEY\n",
    "        return chr(KI * (ord(char) - K2) % self.DIE)\n",
    "   \n",
    "    def decrypt(self, string):\n",
    "        return \"\".join(map(self.decryptChar, string))\n",
    "\t\t\n",
    "        \n",
    "affine = Affine()       \n",
    "print (affine.encrypt('Affine Cipher'))\n",
    "print (affine.decrypt('JMMb\u0005FcXb\u0013[F!'))"
   ]
  },
  {
   "cell_type": "code",
   "execution_count": 5,
   "id": "bde42542",
   "metadata": {},
   "outputs": [
    {
     "ename": "NameError",
     "evalue": "name 'encrypt' is not defined",
     "output_type": "error",
     "traceback": [
      "\u001b[1;31m---------------------------------------------------------------------------\u001b[0m",
      "\u001b[1;31mNameError\u001b[0m                                 Traceback (most recent call last)",
      "Input \u001b[1;32mIn [5]\u001b[0m, in \u001b[0;36m<cell line: 1>\u001b[1;34m()\u001b[0m\n\u001b[1;32m----> 1\u001b[0m \u001b[38;5;28mprint\u001b[39m (\u001b[43mencrypt\u001b[49m(\u001b[38;5;124m'\u001b[39m\u001b[38;5;124mAffine Cipher\u001b[39m\u001b[38;5;124m'\u001b[39m))\n",
      "\u001b[1;31mNameError\u001b[0m: name 'encrypt' is not defined"
     ]
    }
   ],
   "source": [
    "print (encrypt('Affine Cipher'))"
   ]
  },
  {
   "cell_type": "code",
   "execution_count": null,
   "id": "6da7a358",
   "metadata": {},
   "outputs": [],
   "source": []
  },
  {
   "cell_type": "code",
   "execution_count": null,
   "id": "1eaddd1e",
   "metadata": {},
   "outputs": [],
   "source": []
  }
 ],
 "metadata": {
  "kernelspec": {
   "display_name": "Python 3 (ipykernel)",
   "language": "python",
   "name": "python3"
  },
  "language_info": {
   "codemirror_mode": {
    "name": "ipython",
    "version": 3
   },
   "file_extension": ".py",
   "mimetype": "text/x-python",
   "name": "python",
   "nbconvert_exporter": "python",
   "pygments_lexer": "ipython3",
   "version": "3.9.12"
  }
 },
 "nbformat": 4,
 "nbformat_minor": 5
}
