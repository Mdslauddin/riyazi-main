{
 "cells": [
  {
   "cell_type": "markdown",
   "id": "1343aad6",
   "metadata": {},
   "source": [
    "**Author- Ron Raviest Adi Shamir**\n",
    "\n",
    "**invetion: 1977**\n",
    "\n",
    "**Type: ASymmetric key, sustitution**\n",
    "\n",
    "**Difficulty : Hard**"
   ]
  },
  {
   "cell_type": "markdown",
   "id": "25ce147d",
   "metadata": {},
   "source": [
    "### [Link](https://en.wikipedia.org/wiki/RSA_(cryptosystem)"
   ]
  },
  {
   "cell_type": "code",
   "execution_count": null,
   "id": "ad5ca8c5",
   "metadata": {},
   "outputs": [],
   "source": []
  }
 ],
 "metadata": {
  "kernelspec": {
   "display_name": "Python 3 (ipykernel)",
   "language": "python",
   "name": "python3"
  },
  "language_info": {
   "codemirror_mode": {
    "name": "ipython",
    "version": 3
   },
   "file_extension": ".py",
   "mimetype": "text/x-python",
   "name": "python",
   "nbconvert_exporter": "python",
   "pygments_lexer": "ipython3",
   "version": "3.9.12"
  }
 },
 "nbformat": 4,
 "nbformat_minor": 5
}
