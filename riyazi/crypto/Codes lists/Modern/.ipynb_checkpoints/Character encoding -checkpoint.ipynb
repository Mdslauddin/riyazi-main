{
 "cells": [
  {
   "cell_type": "markdown",
   "id": "03f3f7ff",
   "metadata": {},
   "source": [
    "**Author- Not relevant**\n",
    "\n",
    "**invetion: Not relevant**\n",
    "\n",
    "**Type: Transposition,words**\n",
    "\n",
    "**Difficulty : Medium**"
   ]
  },
  {
   "cell_type": "markdown",
   "id": "c4627812",
   "metadata": {},
   "source": [
    "### [LInk](https://en.wikipedia.org/wiki/Character_encoding)"
   ]
  },
  {
   "cell_type": "code",
   "execution_count": null,
   "id": "d7bf9023",
   "metadata": {},
   "outputs": [],
   "source": []
  }
 ],
 "metadata": {
  "kernelspec": {
   "display_name": "Python 3 (ipykernel)",
   "language": "python",
   "name": "python3"
  },
  "language_info": {
   "codemirror_mode": {
    "name": "ipython",
    "version": 3
   },
   "file_extension": ".py",
   "mimetype": "text/x-python",
   "name": "python",
   "nbconvert_exporter": "python",
   "pygments_lexer": "ipython3",
   "version": "3.9.12"
  }
 },
 "nbformat": 4,
 "nbformat_minor": 5
}
