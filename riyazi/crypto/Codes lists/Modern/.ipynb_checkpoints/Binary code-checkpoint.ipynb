{
 "cells": [
  {
   "cell_type": "markdown",
   "id": "e7ebc618",
   "metadata": {},
   "source": [
    "**Author- Gottfried Leibniz**\n",
    "\n",
    "**invetion: 1679**\n",
    "\n",
    "**Type: Numbers**\n",
    "\n",
    "**Difficulty : Medium**"
   ]
  },
  {
   "cell_type": "markdown",
   "id": "5957eeea",
   "metadata": {},
   "source": [
    "### [link](https://en.wikipedia.org/wiki/Binary_number)"
   ]
  },
  {
   "cell_type": "code",
   "execution_count": null,
   "id": "b06f2e80",
   "metadata": {},
   "outputs": [],
   "source": []
  }
 ],
 "metadata": {
  "kernelspec": {
   "display_name": "Python 3 (ipykernel)",
   "language": "python",
   "name": "python3"
  },
  "language_info": {
   "codemirror_mode": {
    "name": "ipython",
    "version": 3
   },
   "file_extension": ".py",
   "mimetype": "text/x-python",
   "name": "python",
   "nbconvert_exporter": "python",
   "pygments_lexer": "ipython3",
   "version": "3.9.12"
  }
 },
 "nbformat": 4,
 "nbformat_minor": 5
}
