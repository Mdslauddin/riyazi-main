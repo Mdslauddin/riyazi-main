{
 "cells": [
  {
   "cell_type": "markdown",
   "id": "82aad527",
   "metadata": {},
   "source": [
    "**Author- Bruce schneier**\n",
    "\n",
    "**invetion: 1993**\n",
    "\n",
    "**Type: Symmetric key, sustitution**\n",
    "\n",
    "**Difficulty : Hard**"
   ]
  },
  {
   "cell_type": "markdown",
   "id": "5d1e15e8",
   "metadata": {},
   "source": [
    "### [Link](https://en.wikipedia.org/wiki/Blowfish_(cipher)"
   ]
  },
  {
   "cell_type": "code",
   "execution_count": null,
   "id": "2e6479c8",
   "metadata": {},
   "outputs": [],
   "source": []
  }
 ],
 "metadata": {
  "kernelspec": {
   "display_name": "Python 3 (ipykernel)",
   "language": "python",
   "name": "python3"
  },
  "language_info": {
   "codemirror_mode": {
    "name": "ipython",
    "version": 3
   },
   "file_extension": ".py",
   "mimetype": "text/x-python",
   "name": "python",
   "nbconvert_exporter": "python",
   "pygments_lexer": "ipython3",
   "version": "3.9.12"
  }
 },
 "nbformat": 4,
 "nbformat_minor": 5
}
