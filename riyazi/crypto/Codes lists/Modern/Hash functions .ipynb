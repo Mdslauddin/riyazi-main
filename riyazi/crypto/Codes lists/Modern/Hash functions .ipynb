{
 "cells": [
  {
   "cell_type": "markdown",
   "id": "f44497ce",
   "metadata": {},
   "source": [
    "**Author- Unknown**\n",
    "\n",
    "**invetion: 20th centeury**\n",
    "\n",
    "**Type: sustitution**\n",
    "\n",
    "**Difficulty : Hard**"
   ]
  },
  {
   "cell_type": "markdown",
   "id": "452de7fe",
   "metadata": {},
   "source": [
    "### [Link](https://en.wikipedia.org/wiki/Cryptographic_hash_function)"
   ]
  },
  {
   "cell_type": "code",
   "execution_count": null,
   "id": "06779b96",
   "metadata": {},
   "outputs": [],
   "source": []
  }
 ],
 "metadata": {
  "kernelspec": {
   "display_name": "Python 3 (ipykernel)",
   "language": "python",
   "name": "python3"
  },
  "language_info": {
   "codemirror_mode": {
    "name": "ipython",
    "version": 3
   },
   "file_extension": ".py",
   "mimetype": "text/x-python",
   "name": "python",
   "nbconvert_exporter": "python",
   "pygments_lexer": "ipython3",
   "version": "3.9.12"
  }
 },
 "nbformat": 4,
 "nbformat_minor": 5
}
