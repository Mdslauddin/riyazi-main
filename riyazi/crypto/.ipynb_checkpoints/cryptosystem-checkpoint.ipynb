{
 "cells": [
  {
   "cell_type": "markdown",
   "id": "3ddbd322",
   "metadata": {},
   "source": [
    "Cryptosystems\n",
    "\n",
    "This module contains base classes for various cryptosystems, including\n",
    "symmetric key and public-key cryptosystems. The classes defined in this\n",
    "module should not be called directly. It is the responsibility of child\n",
    "classes to implement specific cryptosystems. Take for example the\n",
    "Hill or matrix cryptosystem as implemented in\n",
    ":class:`HillCryptosystem <sage.crypto.classical.HillCryptosystem>`. It is a\n",
    "symmetric key cipher so\n",
    ":class:`HillCryptosystem <sage.crypto.classical.HillCryptosystem>` is a child\n",
    "class of\n",
    ":class:`SymmetricKeyCryptosystem <sage.crypto.cryptosystem.SymmetricKeyCryptosystem>`,\n",
    "which in turn is a child class of\n",
    ":class:`Cryptosystem <sage.crypto.cryptosystem.Cryptosystem>`. The following\n",
    "diagram shows the inheritance relationship of particular cryptosystems::\n",
    "\n",
    "    Cryptosystem\n",
    "    + SymmetricKeyCryptosystem\n",
    "    | + HillCryptosystem\n",
    "    | + LFSRCryptosystem\n",
    "    | + ShiftCryptosystem\n",
    "    | + ShrinkingGeneratorCryptosystem\n",
    "    | + SubstitutionCryptosystem\n",
    "    | + TranspositionCryptosystem\n",
    "    | + VigenereCryptosystem\n",
    "    + PublicKeyCryptosystem"
   ]
  },
  {
   "cell_type": "code",
   "execution_count": null,
   "id": "0bd574b6",
   "metadata": {},
   "outputs": [],
   "source": []
  }
 ],
 "metadata": {
  "kernelspec": {
   "display_name": "Python 3 (ipykernel)",
   "language": "python",
   "name": "python3"
  },
  "language_info": {
   "codemirror_mode": {
    "name": "ipython",
    "version": 3
   },
   "file_extension": ".py",
   "mimetype": "text/x-python",
   "name": "python",
   "nbconvert_exporter": "python",
   "pygments_lexer": "ipython3",
   "version": "3.9.12"
  }
 },
 "nbformat": 4,
 "nbformat_minor": 5
}
