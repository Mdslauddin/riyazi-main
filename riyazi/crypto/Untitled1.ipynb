{
 "cells": [
  {
   "cell_type": "code",
   "execution_count": 1,
   "id": "7c86eb5d",
   "metadata": {},
   "outputs": [
    {
     "name": "stdout",
     "output_type": "stream",
     "text": [
      "The cipher text is :  .rehpic esrever nialpxe ot margorp si sihT\n"
     ]
    }
   ],
   "source": [
    "message = 'This is program to explain reverse cipher.'\n",
    "translated = '' #cipher text is stored in this variable\n",
    "i = len(message) - 1\n",
    "\n",
    "while i >= 0:\n",
    "    \n",
    "    translated = translated + message[i]\n",
    "    i = i - 1\n",
    "print(\"The cipher text is : \", translated)"
   ]
  },
  {
   "cell_type": "code",
   "execution_count": 4,
   "id": "2c76cbe1",
   "metadata": {},
   "outputs": [],
   "source": [
    "def reverse(message):\n",
    "    \"\"\"\n",
    "    This is program to explain reverse cipher.\n",
    "    \n",
    "    \"\"\"\n",
    "    translated = ''\n",
    "    i = len(message) -1\n",
    "    \n",
    "    while i>=0:\n",
    "        translated = translated +message[i]\n",
    "        i = i-1\n",
    "    return translated"
   ]
  },
  {
   "cell_type": "code",
   "execution_count": 5,
   "id": "bf0291df",
   "metadata": {},
   "outputs": [
    {
     "data": {
      "text/plain": [
       "'.rehpic esrever nialpxe ot margorp si sihT'"
      ]
     },
     "execution_count": 5,
     "metadata": {},
     "output_type": "execute_result"
    }
   ],
   "source": [
    "reverse(message)"
   ]
  },
  {
   "cell_type": "code",
   "execution_count": null,
   "id": "fc9b1627",
   "metadata": {},
   "outputs": [],
   "source": []
  }
 ],
 "metadata": {
  "kernelspec": {
   "display_name": "Python 3 (ipykernel)",
   "language": "python",
   "name": "python3"
  },
  "language_info": {
   "codemirror_mode": {
    "name": "ipython",
    "version": 3
   },
   "file_extension": ".py",
   "mimetype": "text/x-python",
   "name": "python",
   "nbconvert_exporter": "python",
   "pygments_lexer": "ipython3",
   "version": "3.9.12"
  }
 },
 "nbformat": 4,
 "nbformat_minor": 5
}
