{
 "cells": [
  {
   "cell_type": "markdown",
   "id": "34c141b1",
   "metadata": {},
   "source": [
    "### SHA HASHES \n",
    "\n",
    "###  CRAZY HASH MODE \n",
    "\n",
    "### SHA-1 (1993)\n",
    "\n",
    "### SHA-2 (2001) \n",
    "\n",
    "### SHA-3 (2015) \n",
    "\n",
    "### WHIRLPOOL (2000)\n",
    "\n",
    "### HMAC SHA1/256/512\n",
    "\n",
    "### BCRYPT (1999)\n",
    "\n",
    "### PBKDF2 (2000)\n",
    "\n",
    "### SIPHASH (2012) \n",
    "\n",
    "### SKEIN (2010) \n",
    "\n",
    "### KECCAK (2015) \n",
    "\n",
    "### ARGON (2015) \n",
    "\n",
    "###  BLAKE2B (2012)\n",
    "\n",
    "### SM3 (2010) \n",
    "\n",
    "###  KUPYNA | DSTU7564 (2014) \n",
    "\n"
   ]
  },
  {
   "cell_type": "code",
   "execution_count": null,
   "id": "e3d9a688",
   "metadata": {},
   "outputs": [],
   "source": []
  }
 ],
 "metadata": {
  "kernelspec": {
   "display_name": "Python 3 (ipykernel)",
   "language": "python",
   "name": "python3"
  },
  "language_info": {
   "codemirror_mode": {
    "name": "ipython",
    "version": 3
   },
   "file_extension": ".py",
   "mimetype": "text/x-python",
   "name": "python",
   "nbconvert_exporter": "python",
   "pygments_lexer": "ipython3",
   "version": "3.9.12"
  }
 },
 "nbformat": 4,
 "nbformat_minor": 5
}
