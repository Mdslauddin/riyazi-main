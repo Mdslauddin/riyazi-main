{
 "cells": [
  {
   "cell_type": "markdown",
   "id": "c04008c7",
   "metadata": {},
   "source": [
    "https://www.geeksforgeeks.org/classical-cryptography-and-quantum-cryptography/?ref=rp"
   ]
  },
  {
   "cell_type": "markdown",
   "id": "9240567d",
   "metadata": {},
   "source": [
    "https://www.nist.gov/cryptography"
   ]
  },
  {
   "cell_type": "markdown",
   "id": "e1ee0bd1",
   "metadata": {},
   "source": [
    "https://phdservices.org/latest-research-topics-in-cryptography-and-network-security/"
   ]
  },
  {
   "cell_type": "code",
   "execution_count": null,
   "id": "491dfdcc",
   "metadata": {},
   "outputs": [],
   "source": []
  }
 ],
 "metadata": {
  "kernelspec": {
   "display_name": "Python 3 (ipykernel)",
   "language": "python",
   "name": "python3"
  },
  "language_info": {
   "codemirror_mode": {
    "name": "ipython",
    "version": 3
   },
   "file_extension": ".py",
   "mimetype": "text/x-python",
   "name": "python",
   "nbconvert_exporter": "python",
   "pygments_lexer": "ipython3",
   "version": "3.9.12"
  }
 },
 "nbformat": 4,
 "nbformat_minor": 5
}
