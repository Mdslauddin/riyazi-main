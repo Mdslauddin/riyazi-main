{
 "cells": [
  {
   "cell_type": "code",
   "execution_count": 6,
   "id": "074d0428",
   "metadata": {},
   "outputs": [
    {
     "name": "stdout",
     "output_type": "stream",
     "text": [
      "enter a string: Z\n"
     ]
    },
    {
     "ename": "IndexError",
     "evalue": "string index out of range",
     "output_type": "error",
     "traceback": [
      "\u001b[1;31m---------------------------------------------------------------------------\u001b[0m",
      "\u001b[1;31mIndexError\u001b[0m                                Traceback (most recent call last)",
      "Input \u001b[1;32mIn [6]\u001b[0m, in \u001b[0;36m<cell line: 7>\u001b[1;34m()\u001b[0m\n\u001b[0;32m      9\u001b[0m     location_of_character \u001b[38;5;241m=\u001b[39m alpha\u001b[38;5;241m.\u001b[39mfind(character)\n\u001b[0;32m     10\u001b[0m     new_location \u001b[38;5;241m=\u001b[39m location_of_character \u001b[38;5;241m+\u001b[39m\u001b[38;5;241m3\u001b[39m\n\u001b[1;32m---> 11\u001b[0m     string_output \u001b[38;5;241m+\u001b[39m\u001b[38;5;241m=\u001b[39m \u001b[43malpha\u001b[49m\u001b[43m[\u001b[49m\u001b[43mnew_location\u001b[49m\u001b[43m]\u001b[49m\n\u001b[0;32m     13\u001b[0m \u001b[38;5;28mprint\u001b[39m(\u001b[38;5;124m\"\u001b[39m\u001b[38;5;124mEncrypted text is :\u001b[39m\u001b[38;5;124m\"\u001b[39m, string_output)\n",
      "\u001b[1;31mIndexError\u001b[0m: string index out of range"
     ]
    }
   ],
   "source": [
    "alpha =  'ABCDEFGHIJKLMNOPQRSTUVWXYZ'\n",
    "string_input = input(\"enter a string: \")\n",
    "\n",
    "input_length= len(string_input)\n",
    "\n",
    "string_output = \"\"\n",
    "for i in range(input_length):\n",
    "    character = string_input[i]\n",
    "    location_of_character = alpha.find(character)\n",
    "    new_location = location_of_character +3\n",
    "    string_output += alpha[new_location]\n",
    "\n",
    "print(\"Encrypted text is :\", string_output)"
   ]
  },
  {
   "cell_type": "code",
   "execution_count": null,
   "id": "9dd521be",
   "metadata": {},
   "outputs": [],
   "source": []
  }
 ],
 "metadata": {
  "kernelspec": {
   "display_name": "Python 3 (ipykernel)",
   "language": "python",
   "name": "python3"
  },
  "language_info": {
   "codemirror_mode": {
    "name": "ipython",
    "version": 3
   },
   "file_extension": ".py",
   "mimetype": "text/x-python",
   "name": "python",
   "nbconvert_exporter": "python",
   "pygments_lexer": "ipython3",
   "version": "3.9.12"
  }
 },
 "nbformat": 4,
 "nbformat_minor": 5
}
