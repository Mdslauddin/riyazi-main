{
 "cells": [
  {
   "cell_type": "markdown",
   "id": "6d989a8a",
   "metadata": {},
   "source": [
    "`MD2`\n",
    "\n",
    "`MD4`\n",
    "\n",
    "`MD5`\n",
    "\n",
    "`RIPEMD-160`\n",
    "\n",
    "`RIPEMD-320`\n",
    "\n",
    "`Tiger`\n",
    "\n",
    "`Whirlpool`\n",
    "\n",
    "`GOST3411`"
   ]
  },
  {
   "cell_type": "code",
   "execution_count": null,
   "id": "fe21ab1f",
   "metadata": {},
   "outputs": [],
   "source": [
    "S"
   ]
  }
 ],
 "metadata": {
  "kernelspec": {
   "display_name": "Python 3 (ipykernel)",
   "language": "python",
   "name": "python3"
  },
  "language_info": {
   "codemirror_mode": {
    "name": "ipython",
    "version": 3
   },
   "file_extension": ".py",
   "mimetype": "text/x-python",
   "name": "python",
   "nbconvert_exporter": "python",
   "pygments_lexer": "ipython3",
   "version": "3.9.12"
  }
 },
 "nbformat": 4,
 "nbformat_minor": 5
}
