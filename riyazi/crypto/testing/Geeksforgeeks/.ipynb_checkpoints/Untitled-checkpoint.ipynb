{
 "cells": [
  {
   "cell_type": "markdown",
   "id": "546326cc",
   "metadata": {},
   "source": [
    "# [Cryptography](https://www.geeksforgeeks.org/classical-cryptography-and-quantum-cryptography/?ref=rp)"
   ]
  },
  {
   "cell_type": "markdown",
   "id": "2ef9a48b",
   "metadata": {},
   "source": [
    "**Description**\n",
    "Advanced Advance Cryptography Concepts, deep dive explanation into to the advantages, disadvantages, use case, constraints, limitations of symmetric, asymmetric, Hashing, algorithms, Public Key Infrastructure, Certificate Authority, Secure Channels, TLS, and standards. Course covers through explains of Applications of Cryptography, Private and public key pairs, and Binary math, the good bad and ugly for all symmetric and asymmetric algorithms with practical use cases for how algorithms are uses today and how their weakness are discovered and broke, such as with WEP and DES. Cryptographic Secure Channels and cybersecurity defense counter measures, Cryptanalysis attacks, Cryptography standards, to include VPS, IPSEC, AH, ESP, and major attacks against crypto systems.\n",
    "\n",
    "This Course covers all major systemic and asymmetric algorithms and the entire encryption system with the application of the CIA triad to cryptography to include a discussion on how Blockchain works as a security solution. Course resources included with all videos.   \n",
    "\n",
    "Course is broken down in 5 areas with over 13 symmetric algorithms"
   ]
  },
  {
   "cell_type": "markdown",
   "id": "a1a5ee4c",
   "metadata": {},
   "source": [
    "Symmetric\n",
    "\n",
    "· Substitution\n",
    "\n",
    "· Transposition\n",
    "\n",
    "· Major concepts and definitions\n",
    "\n",
    "· Keys\n",
    "\n",
    "· Advantages and disadvantages of symmetric\n",
    "\n",
    "· Binary Math\n",
    "\n",
    "· Key Management\n",
    "\n",
    "· DES Operations\n",
    "\n",
    "· DES Modes\n",
    "\n",
    "· AES Operations\n",
    "\n",
    "\n",
    "\n",
    "\n",
    "\n",
    "Asymmetric\n",
    "\n",
    "· Private and public key pair- deep dive\n",
    "\n",
    "· Algorithms – deep dive\n",
    "\n",
    "· Advantages and disadvantages of symmetric\n",
    "\n",
    "· Authenticity\n",
    "\n",
    "· Non-Repudiation\n",
    "\n",
    "· Application of asymmetric\n",
    "\n",
    "· Key agreement and key exchange\n",
    "\n",
    "· Digital Signature\n",
    "\n",
    "· TLS Secure channel\n",
    "\n",
    "Hashing Algorithms\n",
    "\n",
    "· Hash algorithms and concepts\n",
    "\n",
    "· Integrity\n",
    "\n",
    "· Birthday attack\n",
    "\n",
    "· Collisions\n",
    "\n",
    "· Application with PKI\n",
    "\n",
    "· HMAC\n",
    "\n",
    "· Demo\n",
    "\n",
    "\n",
    "\n",
    "PKI\n",
    "\n",
    "· Certificate Authorities (CA)\n",
    "\n",
    "· Certificate Management\n",
    "\n",
    "· Public Key Generation\n",
    "\n",
    "· Public Key Distribution\n",
    "\n",
    "· X509v3\n",
    "\n",
    "· Certificate classes\n",
    "\n",
    "· Registration Authorities\n",
    "\n",
    "· Certificate Policy Statement\n",
    "\n",
    "· CRL\n",
    "\n",
    "· OCSP\n",
    "\n",
    "· Certificate Pinning\n",
    "\n",
    "· Certificate Revocation\n",
    "\n",
    "· Trust Models\n",
    "\n",
    "· Certificate Life Cycle\n",
    "\n",
    "\n",
    "\n",
    "Cryptography Standards and Agencies\n",
    "\n",
    "NIST\n",
    "\n",
    "NIST SP \n",
    "\n",
    "NSA\n",
    "\n",
    "SUITE A and B Algorithms\n",
    "\n",
    "Types\n",
    "\n",
    "RFC\n",
    "\n",
    "PKCS\n",
    "\n",
    "FIPS\n",
    "\n",
    "CNSS\n",
    "\n",
    "IETF\n",
    "\n",
    "PKI\n",
    "\n",
    "Key Management "
   ]
  },
  {
   "cell_type": "markdown",
   "id": "a48c53fe",
   "metadata": {},
   "source": [
    "### [crypto](https://www.udemy.com/course/advance-cryptography-concepts/) "
   ]
  },
  {
   "cell_type": "markdown",
   "id": "86c6eb50",
   "metadata": {},
   "source": [
    "\n",
    "1. Introduction: Computation Model, P-Class, NP-Class, NP-Complete Class, Probabilisitic Turing Machine, BPP Class, P=NP implies no one-way function exists, Amplification Lemma, Non-Uniform Polynomial Machines, P/Poly-Class, P is a subset of P/Poly.\n",
    "\n",
    "2. One-way Function: One-way Functions, Strong and Weak One way Function, One-way Function exists implies Weak One way Function exists, Weak One-way Function exists implies Strong One-way Function exists, Hardness Amplification Lemma, One-way Function defined only for some lengths, Length Regular and Length Preserving One-way Function, Non-Uniform One-way Function, Collections of One-way Function, Candidates of Collection of One-way Functions, Collections of Trapdoor Permutations, RSA Trapdoor Permutations.\n",
    "\n",
    "3. Hard-Core Predicate: Motivation of Hard-Core Predicate, Definition of Hard-Core Predicate, Proof of Goldreich-Levin Theorem, Hard-Core Functions, Candidates of Hard-Core Predicates and Functions.\n",
    "\n",
    "4. Pseudorandom Generators: Definition of PRG, Construction of PRG from Hard-Core Predicate, Computational XOR Lemma, Computational Indistinguishablity, Statistical Distance, Ensemble, Hybrid Random Variables, Proof using Hybrid Game, Unpredictability vs Indistinguishability, PRG Implies Strong One way function\n",
    "\n",
    "5. Pseudorandom Functions and Permutations: Definition of PRF, Security notion of PRF, GGM Construction of PRF, Proof of GGM Algorithm, Definition of PRP, SPRP, Security notion of PRP, Luby-Rackoff Design, SPRP attack on 3-round Luby-Rackoff Design.\n",
    "\n",
    "6. Zero Knowledge Proofs: Interactive Turing Machines, Definition of Interactive Proof System, Interactive Proof Class, Interactive Proof of Graph-Non-Isomorphism, Relation between NP, Co-NP, PSPACE and IP, Definition of Zero Knowledge Proofs, Perfect Zero Knowledge Proof, Statistical Zero Knowledge Proof, Computational Zero Knowledge Proof and their relation, Notion of Simulation, Zero Knowledge Proof of Graph-Isomorphism, Zero Knowledge Proof with Auxiliary Input, Sequential Composition of Zero Knowledge Proof, Bit Commitment Scheme, Construction of Bit Commitment from One way function, Zero Knowledge Proof for 3-Coloring, Zero Knowledge Proof for any NP language.\n",
    "\n",
    "7. Secret Sharing Scheme: Definition of Secret Sharing Scheme, Access Structure, Threshold Secret Sharing Scheme, Benaloh-Leichter Scheme, Ito-Saito-Nishizeki Scheme, Lagranage Interpolation, Shamir Secret Sharing Scheme, Linear Secret Sharing Scheme and Its Properties, General (non-threshold) Secret Sharing Scheme.\n",
    "\n",
    "8. Elliptic Curve Cryptogrphy: Group law, Point at Infinity, j-invariant, Elliptic curve over a finite field, Endomorphism, The Frobenius endomorphism, Torsion points, The Weil pairing, The Tate-Lichtenbaum pairing, Discrete logarithm problem, Diffie-Hellman key exchange, ElGamal public key encryption, ElGamal digital signatures, Digital signature algorithm, A public key scheme based on factoring, A cryptosystem based on Weil pairing"
   ]
  },
  {
   "cell_type": "markdown",
   "id": "dc8b9058",
   "metadata": {},
   "source": [
    "https://www.tcgcrest.org/advanced-cryptography-2021-2022/"
   ]
  },
  {
   "cell_type": "markdown",
   "id": "34e2ce9e",
   "metadata": {},
   "source": [
    "**Fully Homomorphic Encryption Part One: A Gentle Intro**\n",
    "\n",
    "\n",
    "**Epfl cryptography**\n"
   ]
  },
  {
   "cell_type": "markdown",
   "id": "f3f8850e",
   "metadata": {},
   "source": [
    "## [Latest Research Topics in Cryptography and Network Security](https://phdservices.org/latest-research-topics-in-cryptography-and-network-security/) "
   ]
  },
  {
   "cell_type": "markdown",
   "id": "4f3889c0",
   "metadata": {},
   "source": [
    "**[crypto reseacrch topic](https://t4tutorials.com/cryptography-research-topics-ideas/)**"
   ]
  },
  {
   "cell_type": "markdown",
   "id": "f74bd7d6",
   "metadata": {},
   "source": [
    "### [CRYPTOGRAPHY BASED PROJECTS](https://phdtopic.com/cryptography-based-projects/)"
   ]
  },
  {
   "cell_type": "markdown",
   "id": "f78ec666",
   "metadata": {},
   "source": [
    "### [Topics in Cryptography](http://www.cs.cornell.edu/courses/cs787/2007sp/)"
   ]
  },
  {
   "cell_type": "markdown",
   "id": "405d5903",
   "metadata": {},
   "source": [
    "### [https://www.geeksforgeeks.org/8-best-topics-for-research-and-thesis-in-artificial-intelligence/]"
   ]
  },
  {
   "cell_type": "code",
   "execution_count": null,
   "id": "4e8779f6",
   "metadata": {},
   "outputs": [],
   "source": []
  }
 ],
 "metadata": {
  "kernelspec": {
   "display_name": "Python 3 (ipykernel)",
   "language": "python",
   "name": "python3"
  },
  "language_info": {
   "codemirror_mode": {
    "name": "ipython",
    "version": 3
   },
   "file_extension": ".py",
   "mimetype": "text/x-python",
   "name": "python",
   "nbconvert_exporter": "python",
   "pygments_lexer": "ipython3",
   "version": "3.9.12"
  }
 },
 "nbformat": 4,
 "nbformat_minor": 5
}
