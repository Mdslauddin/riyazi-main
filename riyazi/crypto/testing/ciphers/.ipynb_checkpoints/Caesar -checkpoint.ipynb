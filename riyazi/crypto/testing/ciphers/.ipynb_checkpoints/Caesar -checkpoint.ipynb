{
 "cells": [
  {
   "cell_type": "markdown",
   "id": "26d62d74",
   "metadata": {},
   "source": [
    "**Monoalphabetic substitution cipher, named after user by julius Caesar**"
   ]
  },
  {
   "cell_type": "code",
   "execution_count": null,
   "id": "d52ff779",
   "metadata": {},
   "outputs": [],
   "source": []
  }
 ],
 "metadata": {
  "kernelspec": {
   "display_name": "Python 3 (ipykernel)",
   "language": "python",
   "name": "python3"
  },
  "language_info": {
   "codemirror_mode": {
    "name": "ipython",
    "version": 3
   },
   "file_extension": ".py",
   "mimetype": "text/x-python",
   "name": "python",
   "nbconvert_exporter": "python",
   "pygments_lexer": "ipython3",
   "version": "3.9.12"
  }
 },
 "nbformat": 4,
 "nbformat_minor": 5
}
