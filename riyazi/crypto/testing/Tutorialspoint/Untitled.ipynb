{
 "cells": [
  {
   "cell_type": "markdown",
   "id": "1da057de",
   "metadata": {},
   "source": [
    "## `Terminologies of Cryptography`\n",
    "\n",
    "- The frequently used terms in cryptography are explained here −\n",
    "\n",
    "### `Plain Text`\n",
    "- The plain text message is the text which is readable and can be understood by all users. The plain text is the message which undergoes cryptography.\n",
    "\n",
    "### `Cipher Text`\n",
    "Cipher text is the message obtained after applying cryptography on plain text.\n",
    "\n",
    "### `Encryption`\n",
    "- The process of converting plain text to cipher text is called encryption. It is also called as encoding.\n",
    "\n",
    "### `Decryption`\n",
    "- The process of converting cipher text to plain text is called decryption. It is also termed as decoding.\n",
    "\n",
    "- The diagram given below shows an illustration of the complete process of cryptography −"
   ]
  },
  {
   "cell_type": "markdown",
   "id": "3bf290a8",
   "metadata": {},
   "source": [
    "### Cryptography with Python - Reverse Cipher "
   ]
  },
  {
   "cell_type": "code",
   "execution_count": null,
   "id": "5e5c164d",
   "metadata": {},
   "outputs": [],
   "source": [
    "message = 'This is program to explain reverse cipher.'\n",
    "translated = '' #cipher text is stored in this variable\n",
    "i = len(message) - 1\n",
    "\n",
    "while i >= 0:\n",
    "    \n",
    "    translated = translated + message[i]\n",
    "    i = i - 1\n",
    "print(\"The cipher text is : \", translated)"
   ]
  },
  {
   "cell_type": "markdown",
   "id": "3c5bc21d",
   "metadata": {},
   "source": [
    "# `Double Strength Encryption`\n",
    "\n",
    "Double strength encryption, also called as multiple encryption, is the process of encrypting an already encrypted text one or more times, either with the same or different algorithm/pattern.\n",
    "\n",
    "The other names for double strength encryption include cascade encryption or cascade ciphering.\n",
    "\n",
    "Levels of Double Strength Encryption\n",
    "Double strength encryption includes various levels of encryption that are explained here under −\n",
    "\n",
    "### `First layer of encryption`\n",
    "The cipher text is generated from the original readable message using hash algorithms and symmetric keys. Later symmetric keys are encrypted with the help of asymmetric keys. The best illustration for this pattern is combining the hash digest of the cipher text into a capsule. The receiver will compute the digest first and later decrypt the text in order to verify that text is not tampered in between.\n",
    "\n",
    "### `Second layer of encryption`\n",
    "Second layer of encryption is the process of adding one more layer to cipher text with same or different algorithm. Usually, a 32-bit character long symmetric password is used for the same.\n",
    "\n",
    "### `Third layer of encryption`\n",
    "In this process, the encrypted capsule is transmitted via SSL/TLS connection to the communication partner.\n",
    "\n",
    "The following diagram shows double encryption process pictorially −"
   ]
  },
  {
   "cell_type": "markdown",
   "id": "4835bb4d",
   "metadata": {},
   "source": [
    "**Algorithm of Caesar Cipher**\n",
    "\n",
    "- The algorithm of Caesar cipher holds the following features −\n",
    "\n",
    "- Caesar Cipher Technique is the simple and easy method of encryption technique.\n",
    "\n",
    "- It is simple type of substitution cipher.\n",
    "\n",
    "- Each letter of plain text is replaced by a letter with some fixed number of positions down with alphabet."
   ]
  },
  {
   "cell_type": "markdown",
   "id": "0faec3a1",
   "metadata": {},
   "source": [
    "### Cryptography with Python - Caesar Cipher"
   ]
  },
  {
   "cell_type": "code",
   "execution_count": null,
   "id": "77301a36",
   "metadata": {},
   "outputs": [],
   "source": [
    "def encrypt(text,s):\n",
    "    \n",
    "    result = \"\"\n",
    "    # transverse the plain text\n",
    "    for i in range(len(text)):\n",
    "        char = text[i]\n",
    "        # Encrypt uppercase characters in plain text\n",
    "      \n",
    "        if (char.isupper()):\n",
    "             result += chr((ord(char) + s-65) % 26 + 65)\n",
    "             # Encrypt lowercase characters in plain text\n",
    "        else:\n",
    "            \n",
    "            result += chr((ord(char) + s - 97) % 26 + 97)\n",
    "        return result\n",
    "#check the above function\n",
    "text = \"CEASER CIPHER DEMO\"\n",
    "s = 4\n",
    "\n",
    "print (\"Plain Text : \" + text)\n",
    "print (\"Shift pattern : \" + str(s))\n",
    "print (\"Cipher: \" + encrypt(text,s))"
   ]
  },
  {
   "cell_type": "markdown",
   "id": "d7209b62",
   "metadata": {},
   "source": [
    "### Hacking of Caesar Cipher Algorithm\n",
    "The cipher text can be hacked with various possibilities. One of such possibility is Brute Force Technique, which involves trying every possible decryption key. This technique does not demand much effort and is relatively simple for a hacker.\n",
    "\n",
    "The program implementation for hacking Caesar cipher algorithm is as follows −"
   ]
  },
  {
   "cell_type": "code",
   "execution_count": null,
   "id": "1ff21a83",
   "metadata": {},
   "outputs": [],
   "source": [
    "message = 'GIEWIVrGMTLIVrHIQS' #encrypted message\n",
    "LETTERS = 'ABCDEFGHIJKLMNOPQRSTUVWXYZ'\n",
    "\n",
    "for key in range(len(LETTERS)):\n",
    "    translated = ''\n",
    "    for symbol in message:\n",
    "        if symbol in LETTERS:\n",
    "            num = LETTERS.find(symbol)\n",
    "            num = num - key\n",
    "            if num < 0:\n",
    "                num = num + len(LETTERS)\n",
    "            translated = translated + LETTERS[num]\n",
    "        else:\n",
    "            translated = translated + symbol\n",
    "print('Hacking key #%s: %s' % (key, translated))"
   ]
  },
  {
   "cell_type": "markdown",
   "id": "58b64238",
   "metadata": {},
   "source": [
    "### Cryptography with Python - ROT13 Algorithm\n"
   ]
  },
  {
   "cell_type": "markdown",
   "id": "24cf9e05",
   "metadata": {},
   "source": [
    "**Explanation of ROT13 Algorithm**\n",
    "ROT13 cipher refers to the abbreviated form Rotate by 13 places. It is a special case of Caesar Cipher in which shift is always 13. Every letter is shifted by 13 places to encrypt or decrypt the message.\n",
    "\n",
    "**Example**\n",
    "The following diagram explains the ROT13 algorithm process pictorially −"
   ]
  },
  {
   "cell_type": "code",
   "execution_count": null,
   "id": "bc8498d4",
   "metadata": {},
   "outputs": [],
   "source": [
    "from string import*\n",
    "# from string import maketrans\n",
    "\n",
    "rot13trans = maketrans('ABCDEFGHIJKLMNOPQRSTUVWXYZabcdefghijklmnopqrstuvwxyz', \n",
    "   'NOPQRSTUVWXYZABCDEFGHIJKLMnopqrstuvwxyzabcdefghijklm')\n",
    "\n",
    "# Function to translate plain text\n",
    "def rot13(text):\n",
    "    return text.translate(rot13trans)\n",
    "def main():\n",
    "    txt = \"ROT13 Algorithm\"\n",
    "    print (rot13(txt))\n",
    "\t\n",
    "if __name__ == \"__main__\":\n",
    "    main()"
   ]
  },
  {
   "cell_type": "markdown",
   "id": "e4b585b0",
   "metadata": {},
   "source": [
    "### Transposition Cipher"
   ]
  },
  {
   "cell_type": "code",
   "execution_count": null,
   "id": "3e63bb9e",
   "metadata": {},
   "outputs": [],
   "source": [
    "\n",
    "def split_len(seq, length):\n",
    "    \n",
    "    return [seq[i:i + length] for i in range(0, len(seq), length)]\n",
    "\n",
    "def encode(key, plaintext):\n",
    "    \n",
    "    \n",
    "    order = {\n",
    "      int(val): num for num, val in enumerate(key)\n",
    "             }\n",
    "ciphertext = ''\n",
    "\n",
    "for index in sorted(order.keys()):\n",
    "    \n",
    "    for part in split_len(plaintext, len(key)):\n",
    "        \n",
    "        try:ciphertext += part[order[index]]\n",
    "            \n",
    "            except IndexError:\n",
    "                \n",
    "                continue\n",
    "    return ciphertext\n",
    "print(encode('3214', 'HELLO'))"
   ]
  },
  {
   "cell_type": "markdown",
   "id": "21573944",
   "metadata": {},
   "source": [
    "### Encryption of Transposition Cipher"
   ]
  },
  {
   "cell_type": "code",
   "execution_count": 1,
   "id": "16fd01bb",
   "metadata": {},
   "outputs": [
    {
     "name": "stdout",
     "output_type": "stream",
     "text": [
      "Cipher Text is\n",
      "T|\n"
     ]
    }
   ],
   "source": [
    "import pyperclip\n",
    "def main():\n",
    "    myMessage = 'Transposition Cipher'\n",
    "    myKey = 10\n",
    "    ciphertext = encryptMessage(myKey, myMessage)\n",
    "   \n",
    "    print(\"Cipher Text is\")\n",
    "    print(ciphertext + '|')\n",
    "    pyperclip.copy(ciphertext)\n",
    "\n",
    "def encryptMessage(key, message):\n",
    "    ciphertext = [''] * key\n",
    "   \n",
    "    for col in range(key):\n",
    "        position = col\n",
    "        while position < len(message):\n",
    "            \n",
    "            ciphertext[col] += message[position]\n",
    "            position += key\n",
    "            return ''.join(ciphertext) #Cipher text\n",
    "if __name__ == '__main__':\n",
    "    main()"
   ]
  },
  {
   "cell_type": "markdown",
   "id": "1fd965b9",
   "metadata": {},
   "source": [
    "### Decryption of Transposition Cipher"
   ]
  },
  {
   "cell_type": "code",
   "execution_count": 3,
   "id": "dd7df1f8",
   "metadata": {},
   "outputs": [
    {
     "ename": "IndentationError",
     "evalue": "unindent does not match any outer indentation level (<tokenize>, line 18)",
     "output_type": "error",
     "traceback": [
      "\u001b[1;36m  File \u001b[1;32m<tokenize>:18\u001b[1;36m\u001b[0m\n\u001b[1;33m    for symbol in message:\u001b[0m\n\u001b[1;37m    ^\u001b[0m\n\u001b[1;31mIndentationError\u001b[0m\u001b[1;31m:\u001b[0m unindent does not match any outer indentation level\n"
     ]
    }
   ],
   "source": [
    "import math, pyperclip\n",
    "def main():\n",
    "    myMessage= 'Toners raiCntisippoh'\n",
    "    myKey = 6\n",
    "    plaintext = decryptMessage(myKey, myMessage)\n",
    "   \n",
    "    print(\"The plain text is\")\n",
    "    print('Transposition Cipher')\n",
    "\n",
    "def decryptMessage(key, message):\n",
    "    numOfColumns = math.ceil(len(message) / key)\n",
    "    numOfRows = key\n",
    "    numOfShadedBoxes = (numOfColumns * numOfRows) - len(message)\n",
    "    plaintext = float('') * numOfColumns\n",
    "    col = 0\n",
    "    row = 0\n",
    "   \n",
    "   for symbol in message:\n",
    "        plaintext[col] += symbol\n",
    "        col += 1\n",
    "        if (col == numOfColumns) or (col == numOfColumns - 1 and row >= numOfRows - numOfShadedBoxes):\n",
    "            col = 0 row += 1 return ''.join(plaintext)\n",
    "if __name__ == '__main__':\n",
    "    main()"
   ]
  },
  {
   "cell_type": "code",
   "execution_count": 4,
   "id": "2034832f",
   "metadata": {},
   "outputs": [
    {
     "ename": "NameError",
     "evalue": "name 'message' is not defined",
     "output_type": "error",
     "traceback": [
      "\u001b[1;31m---------------------------------------------------------------------------\u001b[0m",
      "\u001b[1;31mNameError\u001b[0m                                 Traceback (most recent call last)",
      "Input \u001b[1;32mIn [4]\u001b[0m, in \u001b[0;36m<cell line: 1>\u001b[1;34m()\u001b[0m\n\u001b[1;32m----> 1\u001b[0m \u001b[38;5;28;01mfor\u001b[39;00m symbol \u001b[38;5;129;01min\u001b[39;00m \u001b[43mmessage\u001b[49m:\n\u001b[0;32m      2\u001b[0m     plaintext[col] \u001b[38;5;241m+\u001b[39m\u001b[38;5;241m=\u001b[39m symbol\n\u001b[0;32m      3\u001b[0m     col \u001b[38;5;241m+\u001b[39m\u001b[38;5;241m=\u001b[39m \u001b[38;5;241m1\u001b[39m\n",
      "\u001b[1;31mNameError\u001b[0m: name 'message' is not defined"
     ]
    }
   ],
   "source": [
    "for symbol in message:\n",
    "    plaintext[col] += symbol\n",
    "    col += 1\n",
    "   \n",
    "    if (col == numOfColumns) or (col == numOfColumns - 1 and row >= numOfRows - numOfShadedBoxes):\n",
    "        col = 0\n",
    "        row += 1\n",
    "return ''.join(plaintext)"
   ]
  },
  {
   "cell_type": "markdown",
   "id": "e173e43d",
   "metadata": {},
   "source": [
    "### Encryption of files\n"
   ]
  },
  {
   "cell_type": "markdown",
   "id": "a5d68932",
   "metadata": {},
   "source": [
    "### Decryption of files"
   ]
  },
  {
   "cell_type": "markdown",
   "id": "9dbf7ad4",
   "metadata": {},
   "source": [
    "### Base64 Encoding and Decoding"
   ]
  },
  {
   "cell_type": "markdown",
   "id": "ba2f4730",
   "metadata": {},
   "source": [
    "### Cryptography with Python - XOR Process"
   ]
  },
  {
   "cell_type": "markdown",
   "id": "6986686f",
   "metadata": {},
   "source": [
    "### Multiplicative Cipher"
   ]
  },
  {
   "cell_type": "markdown",
   "id": "fb9dfb92",
   "metadata": {},
   "source": [
    "### Cryptography with Python - Affine Cipher"
   ]
  },
  {
   "cell_type": "markdown",
   "id": "cf8c0bc8",
   "metadata": {},
   "source": [
    "### Hacking Monoalphabetic Cipher"
   ]
  },
  {
   "cell_type": "markdown",
   "id": "7c0c4b13",
   "metadata": {},
   "source": [
    "### Simple Substitution Cipher"
   ]
  },
  {
   "cell_type": "markdown",
   "id": "6b8dfe8a",
   "metadata": {},
   "source": [
    "### Testing of Simple Substitution Cipher"
   ]
  },
  {
   "cell_type": "markdown",
   "id": "bcb57ae0",
   "metadata": {},
   "source": [
    "### Decryption of Simple Substitution Cipher"
   ]
  },
  {
   "cell_type": "markdown",
   "id": "c818fea2",
   "metadata": {},
   "source": [
    "### Python Modules of Cryptography"
   ]
  },
  {
   "cell_type": "markdown",
   "id": "851b9ec1",
   "metadata": {},
   "source": [
    "### Understanding Vignere Cipher"
   ]
  },
  {
   "cell_type": "markdown",
   "id": "b6261405",
   "metadata": {},
   "source": [
    "### Understanding Vignere Cipher"
   ]
  },
  {
   "cell_type": "markdown",
   "id": "761bc8f8",
   "metadata": {},
   "source": [
    "### One Time Pad Cipher"
   ]
  },
  {
   "cell_type": "markdown",
   "id": "f1890c24",
   "metadata": {},
   "source": [
    "### Implementation of One Time Pad Cipher"
   ]
  },
  {
   "cell_type": "markdown",
   "id": "89581474",
   "metadata": {},
   "source": [
    "### Symmetric and Asymmetric Cryptography"
   ]
  },
  {
   "cell_type": "markdown",
   "id": "36a7e49d",
   "metadata": {},
   "source": [
    "# [Tutorialspoint Algorithm](https://www.tutorialspoint.com/cryptography_with_python/cryptography_with_python_symmetric_and_asymmetric_cryptography.htm)"
   ]
  },
  {
   "cell_type": "code",
   "execution_count": null,
   "id": "c3990834",
   "metadata": {},
   "outputs": [],
   "source": []
  }
 ],
 "metadata": {
  "kernelspec": {
   "display_name": "Python 3 (ipykernel)",
   "language": "python",
   "name": "python3"
  },
  "language_info": {
   "codemirror_mode": {
    "name": "ipython",
    "version": 3
   },
   "file_extension": ".py",
   "mimetype": "text/x-python",
   "name": "python",
   "nbconvert_exporter": "python",
   "pygments_lexer": "ipython3",
   "version": "3.9.12"
  }
 },
 "nbformat": 4,
 "nbformat_minor": 5
}
