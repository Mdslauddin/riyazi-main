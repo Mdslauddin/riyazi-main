{
 "cells": [
  {
   "cell_type": "code",
   "execution_count": 1,
   "id": "721556e4",
   "metadata": {},
   "outputs": [
    {
     "name": "stdout",
     "output_type": "stream",
     "text": [
      "Enter message: arzoo\n",
      "Enter key [alphanumeric]: lph\n",
      "Encrypt/Decrypt [e/d]: 2ed\n",
      "\n",
      "2Eded message:\n"
     ]
    },
    {
     "ename": "UnboundLocalError",
     "evalue": "local variable 'translated' referenced before assignment",
     "output_type": "error",
     "traceback": [
      "\u001b[1;31m---------------------------------------------------------------------------\u001b[0m",
      "\u001b[1;31mUnboundLocalError\u001b[0m                         Traceback (most recent call last)",
      "Input \u001b[1;32mIn [1]\u001b[0m, in \u001b[0;36m<cell line: 64>\u001b[1;34m()\u001b[0m\n\u001b[0;32m     61\u001b[0m     \u001b[38;5;28;01mreturn\u001b[39;00m \u001b[38;5;124m\"\u001b[39m\u001b[38;5;124m\"\u001b[39m\u001b[38;5;241m.\u001b[39mjoin(translated)\n\u001b[0;32m     64\u001b[0m \u001b[38;5;28;01mif\u001b[39;00m \u001b[38;5;18m__name__\u001b[39m \u001b[38;5;241m==\u001b[39m \u001b[38;5;124m\"\u001b[39m\u001b[38;5;124m__main__\u001b[39m\u001b[38;5;124m\"\u001b[39m:\n\u001b[1;32m---> 65\u001b[0m     \u001b[43mmain\u001b[49m\u001b[43m(\u001b[49m\u001b[43m)\u001b[49m\n",
      "Input \u001b[1;32mIn [1]\u001b[0m, in \u001b[0;36mmain\u001b[1;34m()\u001b[0m\n\u001b[0;32m     14\u001b[0m     translated \u001b[38;5;241m=\u001b[39m decryptMessage(key, message)\n\u001b[0;32m     16\u001b[0m \u001b[38;5;28mprint\u001b[39m(\u001b[38;5;124mf\u001b[39m\u001b[38;5;124m\"\u001b[39m\u001b[38;5;130;01m\\n\u001b[39;00m\u001b[38;5;132;01m{\u001b[39;00mmode\u001b[38;5;241m.\u001b[39mtitle()\u001b[38;5;132;01m}\u001b[39;00m\u001b[38;5;124med message:\u001b[39m\u001b[38;5;124m\"\u001b[39m)\n\u001b[1;32m---> 17\u001b[0m \u001b[38;5;28mprint\u001b[39m(\u001b[43mtranslated\u001b[49m)\n",
      "\u001b[1;31mUnboundLocalError\u001b[0m: local variable 'translated' referenced before assignment"
     ]
    }
   ],
   "source": [
    "LETTERS = \"ABCDEFGHIJKLMNOPQRSTUVWXYZ\"\n",
    "\n",
    "\n",
    "def main() -> None:\n",
    "    message = input(\"Enter message: \")\n",
    "    key = input(\"Enter key [alphanumeric]: \")\n",
    "    mode = input(\"Encrypt/Decrypt [e/d]: \")\n",
    "\n",
    "    if mode.lower().startswith(\"e\"):\n",
    "        mode = \"encrypt\"\n",
    "        translated = encryptMessage(key, message)\n",
    "    elif mode.lower().startswith(\"d\"):\n",
    "        mode = \"decrypt\"\n",
    "        translated = decryptMessage(key, message)\n",
    "\n",
    "    print(f\"\\n{mode.title()}ed message:\")\n",
    "    print(translated)\n",
    "\n",
    "\n",
    "def encryptMessage(key: str, message: str) -> str:\n",
    "    \"\"\"\n",
    "    >>> encryptMessage('HDarji', 'This is Harshil Darji from Dharmaj.')\n",
    "    'Akij ra Odrjqqs Gaisq muod Mphumrs.'\n",
    "    \"\"\"\n",
    "    return translateMessage(key, message, \"encrypt\")\n",
    "\n",
    "\n",
    "def decryptMessage(key: str, message: str) -> str:\n",
    "    \"\"\"\n",
    "    >>> decryptMessage('HDarji', 'Akij ra Odrjqqs Gaisq muod Mphumrs.')\n",
    "    'This is Harshil Darji from Dharmaj.'\n",
    "    \"\"\"\n",
    "    return translateMessage(key, message, \"decrypt\")\n",
    "\n",
    "\n",
    "def translateMessage(key: str, message: str, mode: str) -> str:\n",
    "    translated = []\n",
    "    keyIndex = 0\n",
    "    key = key.upper()\n",
    "\n",
    "    for symbol in message:\n",
    "        num = LETTERS.find(symbol.upper())\n",
    "        if num != -1:\n",
    "            if mode == \"encrypt\":\n",
    "                num += LETTERS.find(key[keyIndex])\n",
    "            elif mode == \"decrypt\":\n",
    "                num -= LETTERS.find(key[keyIndex])\n",
    "\n",
    "            num %= len(LETTERS)\n",
    "\n",
    "            if symbol.isupper():\n",
    "                translated.append(LETTERS[num])\n",
    "            elif symbol.islower():\n",
    "                translated.append(LETTERS[num].lower())\n",
    "\n",
    "            keyIndex += 1\n",
    "            if keyIndex == len(key):\n",
    "                keyIndex = 0\n",
    "        else:\n",
    "            translated.append(symbol)\n",
    "    return \"\".join(translated)\n",
    "\n",
    "\n",
    "if __name__ == \"__main__\":\n",
    "    main()\n"
   ]
  },
  {
   "cell_type": "code",
   "execution_count": null,
   "id": "e6d03cc5",
   "metadata": {},
   "outputs": [],
   "source": []
  }
 ],
 "metadata": {
  "kernelspec": {
   "display_name": "Python 3 (ipykernel)",
   "language": "python",
   "name": "python3"
  },
  "language_info": {
   "codemirror_mode": {
    "name": "ipython",
    "version": 3
   },
   "file_extension": ".py",
   "mimetype": "text/x-python",
   "name": "python",
   "nbconvert_exporter": "python",
   "pygments_lexer": "ipython3",
   "version": "3.9.12"
  }
 },
 "nbformat": 4,
 "nbformat_minor": 5
}
