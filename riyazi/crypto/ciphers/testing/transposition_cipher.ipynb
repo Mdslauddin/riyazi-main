{
 "cells": [
  {
   "cell_type": "code",
   "execution_count": 1,
   "id": "be7a4b52",
   "metadata": {},
   "outputs": [
    {
     "name": "stdout",
     "output_type": "stream",
     "text": [
      "Enter message: arzoo\n",
      "Enter key [2-4]: ses\n"
     ]
    },
    {
     "ename": "ValueError",
     "evalue": "invalid literal for int() with base 10: 'ses'",
     "output_type": "error",
     "traceback": [
      "\u001b[1;31m---------------------------------------------------------------------------\u001b[0m",
      "\u001b[1;31mValueError\u001b[0m                                Traceback (most recent call last)",
      "Input \u001b[1;32mIn [1]\u001b[0m, in \u001b[0;36m<cell line: 66>\u001b[1;34m()\u001b[0m\n\u001b[0;32m     67\u001b[0m \u001b[38;5;28;01mimport\u001b[39;00m \u001b[38;5;21;01mdoctest\u001b[39;00m\n\u001b[0;32m     69\u001b[0m doctest\u001b[38;5;241m.\u001b[39mtestmod()\n\u001b[1;32m---> 70\u001b[0m \u001b[43mmain\u001b[49m\u001b[43m(\u001b[49m\u001b[43m)\u001b[49m\n",
      "Input \u001b[1;32mIn [1]\u001b[0m, in \u001b[0;36mmain\u001b[1;34m()\u001b[0m\n\u001b[0;32m     11\u001b[0m \u001b[38;5;28;01mdef\u001b[39;00m \u001b[38;5;21mmain\u001b[39m() \u001b[38;5;241m-\u001b[39m\u001b[38;5;241m>\u001b[39m \u001b[38;5;28;01mNone\u001b[39;00m:\n\u001b[0;32m     12\u001b[0m     message \u001b[38;5;241m=\u001b[39m \u001b[38;5;28minput\u001b[39m(\u001b[38;5;124m\"\u001b[39m\u001b[38;5;124mEnter message: \u001b[39m\u001b[38;5;124m\"\u001b[39m)\n\u001b[1;32m---> 13\u001b[0m     key \u001b[38;5;241m=\u001b[39m \u001b[38;5;28;43mint\u001b[39;49m\u001b[43m(\u001b[49m\u001b[38;5;28;43minput\u001b[39;49m\u001b[43m(\u001b[49m\u001b[38;5;124;43mf\u001b[39;49m\u001b[38;5;124;43m\"\u001b[39;49m\u001b[38;5;124;43mEnter key [2-\u001b[39;49m\u001b[38;5;132;43;01m{\u001b[39;49;00m\u001b[38;5;28;43mlen\u001b[39;49m\u001b[43m(\u001b[49m\u001b[43mmessage\u001b[49m\u001b[43m)\u001b[49m\u001b[43m \u001b[49m\u001b[38;5;241;43m-\u001b[39;49m\u001b[43m \u001b[49m\u001b[38;5;241;43m1\u001b[39;49m\u001b[38;5;132;43;01m}\u001b[39;49;00m\u001b[38;5;124;43m]: \u001b[39;49m\u001b[38;5;124;43m\"\u001b[39;49m\u001b[43m)\u001b[49m\u001b[43m)\u001b[49m\n\u001b[0;32m     14\u001b[0m     mode \u001b[38;5;241m=\u001b[39m \u001b[38;5;28minput\u001b[39m(\u001b[38;5;124m\"\u001b[39m\u001b[38;5;124mEncryption/Decryption [e/d]: \u001b[39m\u001b[38;5;124m\"\u001b[39m)\n\u001b[0;32m     16\u001b[0m     \u001b[38;5;28;01mif\u001b[39;00m mode\u001b[38;5;241m.\u001b[39mlower()\u001b[38;5;241m.\u001b[39mstartswith(\u001b[38;5;124m\"\u001b[39m\u001b[38;5;124me\u001b[39m\u001b[38;5;124m\"\u001b[39m):\n",
      "\u001b[1;31mValueError\u001b[0m: invalid literal for int() with base 10: 'ses'"
     ]
    }
   ],
   "source": [
    "import math\n",
    "\n",
    "\"\"\"\n",
    "In cryptography, the TRANSPOSITION cipher is a method of encryption where the\n",
    "positions of plaintext are shifted a certain number(determined by the key) that\n",
    "follows a regular system that results in the permuted text, known as the encrypted\n",
    "text. The type of transposition cipher demonstrated under is the ROUTE cipher.\n",
    "\"\"\"\n",
    "\n",
    "\n",
    "def main() -> None:\n",
    "    message = input(\"Enter message: \")\n",
    "    key = int(input(f\"Enter key [2-{len(message) - 1}]: \"))\n",
    "    mode = input(\"Encryption/Decryption [e/d]: \")\n",
    "\n",
    "    if mode.lower().startswith(\"e\"):\n",
    "        text = encryptMessage(key, message)\n",
    "    elif mode.lower().startswith(\"d\"):\n",
    "        text = decryptMessage(key, message)\n",
    "\n",
    "    # Append pipe symbol (vertical bar) to identify spaces at the end.\n",
    "    print(f\"Output:\\n{text + '|'}\")\n",
    "\n",
    "\n",
    "def encryptMessage(key: int, message: str) -> str:\n",
    "    \"\"\"\n",
    "    >>> encryptMessage(6, 'Harshil Darji')\n",
    "    'Hlia rDsahrij'\n",
    "    \"\"\"\n",
    "    cipherText = [\"\"] * key\n",
    "    for col in range(key):\n",
    "        pointer = col\n",
    "        while pointer < len(message):\n",
    "            cipherText[col] += message[pointer]\n",
    "            pointer += key\n",
    "    return \"\".join(cipherText)\n",
    "\n",
    "\n",
    "def decryptMessage(key: int, message: str) -> str:\n",
    "    \"\"\"\n",
    "    >>> decryptMessage(6, 'Hlia rDsahrij')\n",
    "    'Harshil Darji'\n",
    "    \"\"\"\n",
    "    numCols = math.ceil(len(message) / key)\n",
    "    numRows = key\n",
    "    numShadedBoxes = (numCols * numRows) - len(message)\n",
    "    plainText = [\"\"] * numCols\n",
    "    col = 0\n",
    "    row = 0\n",
    "\n",
    "    for symbol in message:\n",
    "        plainText[col] += symbol\n",
    "        col += 1\n",
    "\n",
    "        if (\n",
    "            (col == numCols)\n",
    "            or (col == numCols - 1)\n",
    "            and (row >= numRows - numShadedBoxes)\n",
    "        ):\n",
    "            col = 0\n",
    "            row += 1\n",
    "\n",
    "    return \"\".join(plainText)\n",
    "\n",
    "\n",
    "if __name__ == \"__main__\":\n",
    "    import doctest\n",
    "\n",
    "    doctest.testmod()\n",
    "    main()\n"
   ]
  },
  {
   "cell_type": "code",
   "execution_count": null,
   "id": "d8210b43",
   "metadata": {},
   "outputs": [],
   "source": []
  }
 ],
 "metadata": {
  "kernelspec": {
   "display_name": "Python 3 (ipykernel)",
   "language": "python",
   "name": "python3"
  },
  "language_info": {
   "codemirror_mode": {
    "name": "ipython",
    "version": 3
   },
   "file_extension": ".py",
   "mimetype": "text/x-python",
   "name": "python",
   "nbconvert_exporter": "python",
   "pygments_lexer": "ipython3",
   "version": "3.9.12"
  }
 },
 "nbformat": 4,
 "nbformat_minor": 5
}
