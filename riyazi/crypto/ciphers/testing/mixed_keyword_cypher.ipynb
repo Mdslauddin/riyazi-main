{
 "cells": [
  {
   "cell_type": "code",
   "execution_count": 1,
   "id": "64ed4858",
   "metadata": {},
   "outputs": [
    {
     "name": "stdout",
     "output_type": "stream",
     "text": [
      "{'A': 'C', 'B': 'A', 'C': 'I', 'D': 'P', 'E': 'U', 'F': 'Z', 'G': 'O', 'H': 'B', 'I': 'J', 'J': 'Q', 'K': 'V', 'L': 'L', 'M': 'D', 'N': 'K', 'O': 'R', 'P': 'W', 'Q': 'E', 'R': 'F', 'S': 'M', 'T': 'S', 'U': 'X', 'V': 'G', 'W': 'H', 'X': 'N', 'Y': 'T', 'Z': 'Y'}\n",
      "XKJGUFMJST\n"
     ]
    }
   ],
   "source": [
    "def mixed_keyword(key: str = \"college\", pt: str = \"UNIVERSITY\") -> str:\n",
    "    \"\"\"\n",
    "\n",
    "    For key:hello\n",
    "\n",
    "    H E L O\n",
    "    A B C D\n",
    "    F G I J\n",
    "    K M N P\n",
    "    Q R S T\n",
    "    U V W X\n",
    "    Y Z\n",
    "    and map vertically\n",
    "\n",
    "    >>> mixed_keyword(\"college\", \"UNIVERSITY\")  # doctest: +NORMALIZE_WHITESPACE\n",
    "    {'A': 'C', 'B': 'A', 'C': 'I', 'D': 'P', 'E': 'U', 'F': 'Z', 'G': 'O', 'H': 'B',\n",
    "     'I': 'J', 'J': 'Q', 'K': 'V', 'L': 'L', 'M': 'D', 'N': 'K', 'O': 'R', 'P': 'W',\n",
    "     'Q': 'E', 'R': 'F', 'S': 'M', 'T': 'S', 'U': 'X', 'V': 'G', 'W': 'H', 'X': 'N',\n",
    "     'Y': 'T', 'Z': 'Y'}\n",
    "    'XKJGUFMJST'\n",
    "    \"\"\"\n",
    "    key = key.upper()\n",
    "    pt = pt.upper()\n",
    "    temp = []\n",
    "    for i in key:\n",
    "        if i not in temp:\n",
    "            temp.append(i)\n",
    "    len_temp = len(temp)\n",
    "    # print(temp)\n",
    "    alpha = []\n",
    "    modalpha = []\n",
    "    for j in range(65, 91):\n",
    "        t = chr(j)\n",
    "        alpha.append(t)\n",
    "        if t not in temp:\n",
    "            temp.append(t)\n",
    "    # print(temp)\n",
    "    r = int(26 / 4)\n",
    "    # print(r)\n",
    "    k = 0\n",
    "    for _ in range(r):\n",
    "        s = []\n",
    "        for j in range(len_temp):\n",
    "            s.append(temp[k])\n",
    "            if not (k < 25):\n",
    "                break\n",
    "            k += 1\n",
    "        modalpha.append(s)\n",
    "    # print(modalpha)\n",
    "    d = {}\n",
    "    j = 0\n",
    "    k = 0\n",
    "    for j in range(len_temp):\n",
    "        for m in modalpha:\n",
    "            if not (len(m) - 1 >= j):\n",
    "                break\n",
    "            d[alpha[k]] = m[j]\n",
    "            if not k < 25:\n",
    "                break\n",
    "            k += 1\n",
    "    print(d)\n",
    "    cypher = \"\"\n",
    "    for i in pt:\n",
    "        cypher += d[i]\n",
    "    return cypher\n",
    "\n",
    "\n",
    "print(mixed_keyword(\"college\", \"UNIVERSITY\"))\n"
   ]
  },
  {
   "cell_type": "code",
   "execution_count": null,
   "id": "264e2930",
   "metadata": {},
   "outputs": [],
   "source": []
  }
 ],
 "metadata": {
  "kernelspec": {
   "display_name": "Python 3 (ipykernel)",
   "language": "python",
   "name": "python3"
  },
  "language_info": {
   "codemirror_mode": {
    "name": "ipython",
    "version": 3
   },
   "file_extension": ".py",
   "mimetype": "text/x-python",
   "name": "python",
   "nbconvert_exporter": "python",
   "pygments_lexer": "ipython3",
   "version": "3.9.12"
  }
 },
 "nbformat": 4,
 "nbformat_minor": 5
}
