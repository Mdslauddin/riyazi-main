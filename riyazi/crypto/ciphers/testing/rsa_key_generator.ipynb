{
 "cells": [
  {
   "cell_type": "code",
   "execution_count": 1,
   "id": "7531635f",
   "metadata": {},
   "outputs": [
    {
     "ename": "ImportError",
     "evalue": "attempted relative import with no known parent package",
     "output_type": "error",
     "traceback": [
      "\u001b[1;31m---------------------------------------------------------------------------\u001b[0m",
      "\u001b[1;31mImportError\u001b[0m                               Traceback (most recent call last)",
      "Input \u001b[1;32mIn [1]\u001b[0m, in \u001b[0;36m<cell line: 5>\u001b[1;34m()\u001b[0m\n\u001b[0;32m      2\u001b[0m \u001b[38;5;28;01mimport\u001b[39;00m \u001b[38;5;21;01mrandom\u001b[39;00m\n\u001b[0;32m      3\u001b[0m \u001b[38;5;28;01mimport\u001b[39;00m \u001b[38;5;21;01msys\u001b[39;00m\n\u001b[1;32m----> 5\u001b[0m \u001b[38;5;28;01mfrom\u001b[39;00m \u001b[38;5;21;01m.\u001b[39;00m \u001b[38;5;28;01mimport\u001b[39;00m cryptomath_module \u001b[38;5;28;01mas\u001b[39;00m cryptoMath\n\u001b[0;32m      6\u001b[0m \u001b[38;5;28;01mfrom\u001b[39;00m \u001b[38;5;21;01m.\u001b[39;00m \u001b[38;5;28;01mimport\u001b[39;00m rabin_miller \u001b[38;5;28;01mas\u001b[39;00m rabinMiller\n\u001b[0;32m      9\u001b[0m \u001b[38;5;28;01mdef\u001b[39;00m \u001b[38;5;21mmain\u001b[39m() \u001b[38;5;241m-\u001b[39m\u001b[38;5;241m>\u001b[39m \u001b[38;5;28;01mNone\u001b[39;00m:\n",
      "\u001b[1;31mImportError\u001b[0m: attempted relative import with no known parent package"
     ]
    }
   ],
   "source": [
    "import os\n",
    "import random\n",
    "import sys\n",
    "\n",
    "from . import cryptomath_module as cryptoMath\n",
    "from . import rabin_miller as rabinMiller\n",
    "\n",
    "\n",
    "def main() -> None:\n",
    "    print(\"Making key files...\")\n",
    "    makeKeyFiles(\"rsa\", 1024)\n",
    "    print(\"Key files generation successful.\")\n",
    "\n",
    "\n",
    "def generateKey(keySize: int) -> tuple[tuple[int, int], tuple[int, int]]:\n",
    "    print(\"Generating prime p...\")\n",
    "    p = rabinMiller.generateLargePrime(keySize)\n",
    "    print(\"Generating prime q...\")\n",
    "    q = rabinMiller.generateLargePrime(keySize)\n",
    "    n = p * q\n",
    "\n",
    "    print(\"Generating e that is relatively prime to (p - 1) * (q - 1)...\")\n",
    "    while True:\n",
    "        e = random.randrange(2 ** (keySize - 1), 2 ** (keySize))\n",
    "        if cryptoMath.gcd(e, (p - 1) * (q - 1)) == 1:\n",
    "            break\n",
    "\n",
    "    print(\"Calculating d that is mod inverse of e...\")\n",
    "    d = cryptoMath.find_mod_inverse(e, (p - 1) * (q - 1))\n",
    "\n",
    "    publicKey = (n, e)\n",
    "    privateKey = (n, d)\n",
    "    return (publicKey, privateKey)\n",
    "\n",
    "\n",
    "def makeKeyFiles(name: str, keySize: int) -> None:\n",
    "    if os.path.exists(f\"{name}_pubkey.txt\") or os.path.exists(f\"{name}_privkey.txt\"):\n",
    "        print(\"\\nWARNING:\")\n",
    "        print(\n",
    "            '\"%s_pubkey.txt\" or \"%s_privkey.txt\" already exists. \\n'\n",
    "            \"Use a different name or delete these files and re-run this program.\"\n",
    "            % (name, name)\n",
    "        )\n",
    "        sys.exit()\n",
    "\n",
    "    publicKey, privateKey = generateKey(keySize)\n",
    "    print(f\"\\nWriting public key to file {name}_pubkey.txt...\")\n",
    "    with open(f\"{name}_pubkey.txt\", \"w\") as out_file:\n",
    "        out_file.write(f\"{keySize},{publicKey[0]},{publicKey[1]}\")\n",
    "\n",
    "    print(f\"Writing private key to file {name}_privkey.txt...\")\n",
    "    with open(f\"{name}_privkey.txt\", \"w\") as out_file:\n",
    "        out_file.write(f\"{keySize},{privateKey[0]},{privateKey[1]}\")\n",
    "\n",
    "\n",
    "if __name__ == \"__main__\":\n",
    "    main()\n"
   ]
  },
  {
   "cell_type": "code",
   "execution_count": null,
   "id": "3f63d633",
   "metadata": {},
   "outputs": [],
   "source": []
  }
 ],
 "metadata": {
  "kernelspec": {
   "display_name": "Python 3 (ipykernel)",
   "language": "python",
   "name": "python3"
  },
  "language_info": {
   "codemirror_mode": {
    "name": "ipython",
    "version": 3
   },
   "file_extension": ".py",
   "mimetype": "text/x-python",
   "name": "python",
   "nbconvert_exporter": "python",
   "pygments_lexer": "ipython3",
   "version": "3.9.12"
  }
 },
 "nbformat": 4,
 "nbformat_minor": 5
}
