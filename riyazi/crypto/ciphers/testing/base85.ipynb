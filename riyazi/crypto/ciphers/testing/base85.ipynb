{
 "cells": [
  {
   "cell_type": "code",
   "execution_count": 1,
   "id": "60407711",
   "metadata": {},
   "outputs": [],
   "source": [
    "import base64\n",
    "\n",
    "\n",
    "def base85_encode(string: str) -> bytes:\n",
    "    \"\"\"\n",
    "    >>> base85_encode(\"\")\n",
    "    b''\n",
    "    >>> base85_encode(\"12345\")\n",
    "    b'0etOA2#'\n",
    "    >>> base85_encode(\"base 85\")\n",
    "    b'@UX=h+?24'\n",
    "    \"\"\"\n",
    "    # encoded the input to a bytes-like object and then a85encode that\n",
    "    return base64.a85encode(string.encode(\"utf-8\"))\n",
    "\n",
    "\n",
    "def base85_decode(a85encoded: bytes) -> str:\n",
    "    \"\"\"\n",
    "    >>> base85_decode(b\"\")\n",
    "    ''\n",
    "    >>> base85_decode(b\"0etOA2#\")\n",
    "    '12345'\n",
    "    >>> base85_decode(b\"@UX=h+?24\")\n",
    "    'base 85'\n",
    "    \"\"\"\n",
    "    # a85decode the input into bytes and decode that into a human readable string\n",
    "    return base64.a85decode(a85encoded).decode(\"utf-8\")\n",
    "\n",
    "\n",
    "if __name__ == \"__main__\":\n",
    "    import doctest\n",
    "\n",
    "    doctest.testmod()\n"
   ]
  },
  {
   "cell_type": "code",
   "execution_count": null,
   "id": "20a0314b",
   "metadata": {},
   "outputs": [],
   "source": []
  }
 ],
 "metadata": {
  "kernelspec": {
   "display_name": "Python 3 (ipykernel)",
   "language": "python",
   "name": "python3"
  },
  "language_info": {
   "codemirror_mode": {
    "name": "ipython",
    "version": 3
   },
   "file_extension": ".py",
   "mimetype": "text/x-python",
   "name": "python",
   "nbconvert_exporter": "python",
   "pygments_lexer": "ipython3",
   "version": "3.9.12"
  }
 },
 "nbformat": 4,
 "nbformat_minor": 5
}
