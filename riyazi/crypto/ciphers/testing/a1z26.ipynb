{
 "cells": [
  {
   "cell_type": "code",
   "execution_count": 1,
   "id": "118800c5",
   "metadata": {},
   "outputs": [
    {
     "name": "stdout",
     "output_type": "stream",
     "text": [
      "-> Arzoo\n",
      "Encoded:  [1, 18, 26, 15, 15]\n",
      "Decoded: arzoo\n"
     ]
    }
   ],
   "source": [
    "\"\"\"\n",
    "Convert a string of characters to a sequence of numbers\n",
    "corresponding to the character's position in the alphabet.\n",
    "\n",
    "https://www.dcode.fr/letter-number-cipher\n",
    "http://bestcodes.weebly.com/a1z26.html\n",
    "\"\"\"\n",
    "from __future__ import annotations\n",
    "\n",
    "\n",
    "def encode(plain: str) -> list[int]:\n",
    "    \"\"\"\n",
    "    >>> encode(\"myname\")\n",
    "    [13, 25, 14, 1, 13, 5]\n",
    "    \"\"\"\n",
    "    return [ord(elem) - 96 for elem in plain]\n",
    "\n",
    "\n",
    "def decode(encoded: list[int]) -> str:\n",
    "    \"\"\"\n",
    "    >>> decode([13, 25, 14, 1, 13, 5])\n",
    "    'myname'\n",
    "    \"\"\"\n",
    "    return \"\".join(chr(elem + 96) for elem in encoded)\n",
    "\n",
    "\n",
    "def main() -> None:\n",
    "    encoded = encode(input(\"-> \").strip().lower())\n",
    "    print(\"Encoded: \", encoded)\n",
    "    print(\"Decoded:\", decode(encoded))\n",
    "\n",
    "\n",
    "if __name__ == \"__main__\":\n",
    "    main()\n"
   ]
  },
  {
   "cell_type": "code",
   "execution_count": null,
   "id": "2b7bb95c",
   "metadata": {},
   "outputs": [],
   "source": []
  }
 ],
 "metadata": {
  "kernelspec": {
   "display_name": "Python 3 (ipykernel)",
   "language": "python",
   "name": "python3"
  },
  "language_info": {
   "codemirror_mode": {
    "name": "ipython",
    "version": 3
   },
   "file_extension": ".py",
   "mimetype": "text/x-python",
   "name": "python",
   "nbconvert_exporter": "python",
   "pygments_lexer": "ipython3",
   "version": "3.9.12"
  }
 },
 "nbformat": 4,
 "nbformat_minor": 5
}
