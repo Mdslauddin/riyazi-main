{
 "cells": [
  {
   "cell_type": "code",
   "execution_count": 1,
   "id": "0552447f",
   "metadata": {},
   "outputs": [
    {
     "name": "stdout",
     "output_type": "stream",
     "text": [
      "Using the key QWERTYUIOPASDFGHJKLZXCVBNM, the decrypted message is: Itssg Vgksr\n"
     ]
    }
   ],
   "source": [
    "from typing import Literal\n",
    "\n",
    "LETTERS = \"ABCDEFGHIJKLMNOPQRSTUVWXYZ\"\n",
    "\n",
    "\n",
    "def translate_message(\n",
    "    key: str, message: str, mode: Literal[\"encrypt\", \"decrypt\"]\n",
    ") -> str:\n",
    "    \"\"\"\n",
    "    >>> translate_message(\"QWERTYUIOPASDFGHJKLZXCVBNM\",\"Hello World\",\"encrypt\")\n",
    "    'Pcssi Bidsm'\n",
    "    \"\"\"\n",
    "    chars_a = LETTERS if mode == \"decrypt\" else key\n",
    "    chars_b = key if mode == \"decrypt\" else LETTERS\n",
    "    translated = \"\"\n",
    "    # loop through each symbol in the message\n",
    "    for symbol in message:\n",
    "        if symbol.upper() in chars_a:\n",
    "            # encrypt/decrypt the symbol\n",
    "            sym_index = chars_a.find(symbol.upper())\n",
    "            if symbol.isupper():\n",
    "                translated += chars_b[sym_index].upper()\n",
    "            else:\n",
    "                translated += chars_b[sym_index].lower()\n",
    "        else:\n",
    "            # symbol is not in LETTERS, just add it\n",
    "            translated += symbol\n",
    "    return translated\n",
    "\n",
    "\n",
    "def encrypt_message(key: str, message: str) -> str:\n",
    "    \"\"\"\n",
    "    >>> encrypt_message(\"QWERTYUIOPASDFGHJKLZXCVBNM\", \"Hello World\")\n",
    "    'Pcssi Bidsm'\n",
    "    \"\"\"\n",
    "    return translate_message(key, message, \"encrypt\")\n",
    "\n",
    "\n",
    "def decrypt_message(key: str, message: str) -> str:\n",
    "    \"\"\"\n",
    "    >>> decrypt_message(\"QWERTYUIOPASDFGHJKLZXCVBNM\", \"Hello World\")\n",
    "    'Itssg Vgksr'\n",
    "    \"\"\"\n",
    "    return translate_message(key, message, \"decrypt\")\n",
    "\n",
    "\n",
    "def main() -> None:\n",
    "    message = \"Hello World\"\n",
    "    key = \"QWERTYUIOPASDFGHJKLZXCVBNM\"\n",
    "    mode = \"decrypt\"  # set to 'encrypt' or 'decrypt'\n",
    "\n",
    "    if mode == \"encrypt\":\n",
    "        translated = encrypt_message(key, message)\n",
    "    elif mode == \"decrypt\":\n",
    "        translated = decrypt_message(key, message)\n",
    "    print(f\"Using the key {key}, the {mode}ed message is: {translated}\")\n",
    "\n",
    "\n",
    "if __name__ == \"__main__\":\n",
    "    import doctest\n",
    "\n",
    "    doctest.testmod()\n",
    "    main()\n"
   ]
  },
  {
   "cell_type": "code",
   "execution_count": null,
   "id": "acf48d9f",
   "metadata": {},
   "outputs": [],
   "source": []
  }
 ],
 "metadata": {
  "kernelspec": {
   "display_name": "Python 3 (ipykernel)",
   "language": "python",
   "name": "python3"
  },
  "language_info": {
   "codemirror_mode": {
    "name": "ipython",
    "version": 3
   },
   "file_extension": ".py",
   "mimetype": "text/x-python",
   "name": "python",
   "nbconvert_exporter": "python",
   "pygments_lexer": "ipython3",
   "version": "3.9.12"
  }
 },
 "nbformat": 4,
 "nbformat_minor": 5
}
