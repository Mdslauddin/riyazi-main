{
 "cells": [
  {
   "cell_type": "code",
   "execution_count": 1,
   "id": "d937544d",
   "metadata": {},
   "outputs": [],
   "source": [
    "import base64\n",
    "\n",
    "\n",
    "def base16_encode(inp: str) -> bytes:\n",
    "    \"\"\"\n",
    "    Encodes a given utf-8 string into base-16.\n",
    "\n",
    "    >>> base16_encode('Hello World!')\n",
    "    b'48656C6C6F20576F726C6421'\n",
    "    >>> base16_encode('HELLO WORLD!')\n",
    "    b'48454C4C4F20574F524C4421'\n",
    "    >>> base16_encode('')\n",
    "    b''\n",
    "    \"\"\"\n",
    "    # encode the input into a bytes-like object and then encode b16encode that\n",
    "    return base64.b16encode(inp.encode(\"utf-8\"))\n",
    "\n",
    "\n",
    "def base16_decode(b16encoded: bytes) -> str:\n",
    "    \"\"\"\n",
    "    Decodes from base-16 to a utf-8 string.\n",
    "\n",
    "    >>> base16_decode(b'48656C6C6F20576F726C6421')\n",
    "    'Hello World!'\n",
    "    >>> base16_decode(b'48454C4C4F20574F524C4421')\n",
    "    'HELLO WORLD!'\n",
    "    >>> base16_decode(b'')\n",
    "    ''\n",
    "    \"\"\"\n",
    "    # b16decode the input into bytes and decode that into a human readable string\n",
    "    return base64.b16decode(b16encoded).decode(\"utf-8\")\n",
    "\n",
    "\n",
    "if __name__ == \"__main__\":\n",
    "    import doctest\n",
    "\n",
    "    doctest.testmod()\n"
   ]
  },
  {
   "cell_type": "code",
   "execution_count": null,
   "id": "9e1b7c16",
   "metadata": {},
   "outputs": [],
   "source": []
  }
 ],
 "metadata": {
  "kernelspec": {
   "display_name": "Python 3 (ipykernel)",
   "language": "python",
   "name": "python3"
  },
  "language_info": {
   "codemirror_mode": {
    "name": "ipython",
    "version": 3
   },
   "file_extension": ".py",
   "mimetype": "text/x-python",
   "name": "python",
   "nbconvert_exporter": "python",
   "pygments_lexer": "ipython3",
   "version": "3.9.12"
  }
 },
 "nbformat": 4,
 "nbformat_minor": 5
}
