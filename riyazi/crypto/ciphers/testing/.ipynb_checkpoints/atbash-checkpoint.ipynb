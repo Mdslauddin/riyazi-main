{
 "cells": [
  {
   "cell_type": "code",
   "execution_count": 1,
   "id": "a9518a73",
   "metadata": {},
   "outputs": [
    {
     "name": "stdout",
     "output_type": "stream",
     "text": [
      "ABCDEFGH encrypted in atbash: ZYXWVUTS\n",
      "123GGjj encrypted in atbash: 123TTqq\n",
      "testStringtest encrypted in atbash: gvhgHgirmtgvhg\n",
      "with space encrypted in atbash: drgs hkzxv\n",
      "Running performance benchmarks...\n",
      "> atbash_slow() 15.053708100000001 seconds\n",
      ">      atbash() 14.327349899999998 seconds\n"
     ]
    }
   ],
   "source": [
    "\"\"\" https://en.wikipedia.org/wiki/Atbash \"\"\"\n",
    "import string\n",
    "\n",
    "\n",
    "def atbash_slow(sequence: str) -> str:\n",
    "    \"\"\"\n",
    "    >>> atbash_slow(\"ABCDEFG\")\n",
    "    'ZYXWVUT'\n",
    "\n",
    "    >>> atbash_slow(\"aW;;123BX\")\n",
    "    'zD;;123YC'\n",
    "    \"\"\"\n",
    "    output = \"\"\n",
    "    for i in sequence:\n",
    "        extract = ord(i)\n",
    "        if 65 <= extract <= 90:\n",
    "            output += chr(155 - extract)\n",
    "        elif 97 <= extract <= 122:\n",
    "            output += chr(219 - extract)\n",
    "        else:\n",
    "            output += i\n",
    "    return output\n",
    "\n",
    "\n",
    "def atbash(sequence: str) -> str:\n",
    "    \"\"\"\n",
    "    >>> atbash(\"ABCDEFG\")\n",
    "    'ZYXWVUT'\n",
    "\n",
    "    >>> atbash(\"aW;;123BX\")\n",
    "    'zD;;123YC'\n",
    "    \"\"\"\n",
    "    letters = string.ascii_letters\n",
    "    letters_reversed = string.ascii_lowercase[::-1] + string.ascii_uppercase[::-1]\n",
    "    return \"\".join(\n",
    "        letters_reversed[letters.index(c)] if c in letters else c for c in sequence\n",
    "    )\n",
    "\n",
    "\n",
    "def benchmark() -> None:\n",
    "    \"\"\"Let's benchmark them side-by-side...\"\"\"\n",
    "    from timeit import timeit\n",
    "\n",
    "    print(\"Running performance benchmarks...\")\n",
    "    print(\n",
    "        \"> atbash_slow()\",\n",
    "        timeit(\n",
    "            \"atbash_slow(printable)\",\n",
    "            setup=\"from string import printable ; from __main__ import atbash_slow\",\n",
    "        ),\n",
    "        \"seconds\",\n",
    "    )\n",
    "    print(\n",
    "        \">      atbash()\",\n",
    "        timeit(\n",
    "            \"atbash(printable)\",\n",
    "            setup=\"from string import printable ; from __main__ import atbash\",\n",
    "        ),\n",
    "        \"seconds\",\n",
    "    )\n",
    "\n",
    "\n",
    "if __name__ == \"__main__\":\n",
    "    for example in (\"ABCDEFGH\", \"123GGjj\", \"testStringtest\", \"with space\"):\n",
    "        print(f\"{example} encrypted in atbash: {atbash(example)}\")\n",
    "    benchmark()\n"
   ]
  },
  {
   "cell_type": "code",
   "execution_count": null,
   "id": "705a1df9",
   "metadata": {},
   "outputs": [],
   "source": []
  }
 ],
 "metadata": {
  "kernelspec": {
   "display_name": "Python 3 (ipykernel)",
   "language": "python",
   "name": "python3"
  },
  "language_info": {
   "codemirror_mode": {
    "name": "ipython",
    "version": 3
   },
   "file_extension": ".py",
   "mimetype": "text/x-python",
   "name": "python",
   "nbconvert_exporter": "python",
   "pygments_lexer": "ipython3",
   "version": "3.9.12"
  }
 },
 "nbformat": 4,
 "nbformat_minor": 5
}
