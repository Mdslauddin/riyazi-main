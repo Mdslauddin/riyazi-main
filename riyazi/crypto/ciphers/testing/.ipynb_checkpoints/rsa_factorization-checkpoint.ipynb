{
 "cells": [
  {
   "cell_type": "code",
   "execution_count": 1,
   "id": "14d2fba4",
   "metadata": {},
   "outputs": [],
   "source": [
    "\"\"\"\n",
    "An RSA prime factor algorithm.\n",
    "\n",
    "The program can efficiently factor RSA prime number given the private key d and\n",
    "public key e.\n",
    "Source: on page 3 of https://crypto.stanford.edu/~dabo/papers/RSA-survey.pdf\n",
    "More readable source: https://www.di-mgt.com.au/rsa_factorize_n.html\n",
    "large number can take minutes to factor, therefore are not included in doctest.\n",
    "\"\"\"\n",
    "from __future__ import annotations\n",
    "\n",
    "import math\n",
    "import random\n",
    "\n",
    "\n",
    "def rsafactor(d: int, e: int, N: int) -> list[int]:\n",
    "    \"\"\"\n",
    "    This function returns the factors of N, where p*q=N\n",
    "      Return: [p, q]\n",
    "\n",
    "    We call N the RSA modulus, e the encryption exponent, and d the decryption exponent.\n",
    "    The pair (N, e) is the public key. As its name suggests, it is public and is used to\n",
    "        encrypt messages.\n",
    "    The pair (N, d) is the secret key or private key and is known only to the recipient\n",
    "        of encrypted messages.\n",
    "\n",
    "    >>> rsafactor(3, 16971, 25777)\n",
    "    [149, 173]\n",
    "    >>> rsafactor(7331, 11, 27233)\n",
    "    [113, 241]\n",
    "    >>> rsafactor(4021, 13, 17711)\n",
    "    [89, 199]\n",
    "    \"\"\"\n",
    "    k = d * e - 1\n",
    "    p = 0\n",
    "    q = 0\n",
    "    while p == 0:\n",
    "        g = random.randint(2, N - 1)\n",
    "        t = k\n",
    "        while True:\n",
    "            if t % 2 == 0:\n",
    "                t = t // 2\n",
    "                x = (g**t) % N\n",
    "                y = math.gcd(x - 1, N)\n",
    "                if x > 1 and y > 1:\n",
    "                    p = y\n",
    "                    q = N // y\n",
    "                    break  # find the correct factors\n",
    "            else:\n",
    "                break  # t is not divisible by 2, break and choose another g\n",
    "    return sorted([p, q])\n",
    "\n",
    "\n",
    "if __name__ == \"__main__\":\n",
    "    import doctest\n",
    "\n",
    "    doctest.testmod()\n"
   ]
  },
  {
   "cell_type": "code",
   "execution_count": null,
   "id": "f9ec1192",
   "metadata": {},
   "outputs": [],
   "source": []
  }
 ],
 "metadata": {
  "kernelspec": {
   "display_name": "Python 3 (ipykernel)",
   "language": "python",
   "name": "python3"
  },
  "language_info": {
   "codemirror_mode": {
    "name": "ipython",
    "version": 3
   },
   "file_extension": ".py",
   "mimetype": "text/x-python",
   "name": "python",
   "nbconvert_exporter": "python",
   "pygments_lexer": "ipython3",
   "version": "3.9.12"
  }
 },
 "nbformat": 4,
 "nbformat_minor": 5
}
