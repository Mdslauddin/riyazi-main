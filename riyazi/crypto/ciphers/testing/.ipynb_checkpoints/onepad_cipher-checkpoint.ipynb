{
 "cells": [
  {
   "cell_type": "code",
   "execution_count": 1,
   "id": "d4b336bb",
   "metadata": {},
   "outputs": [
    {
     "name": "stdout",
     "output_type": "stream",
     "text": [
      "[2185, 7956, 64165, 805, 67942] [23, 52, 205, 7, 211]\n",
      "Hello\n"
     ]
    }
   ],
   "source": [
    "import random\n",
    "\n",
    "\n",
    "class Onepad:\n",
    "    @staticmethod\n",
    "    def encrypt(text: str) -> tuple[list[int], list[int]]:\n",
    "        \"\"\"Function to encrypt text using pseudo-random numbers\"\"\"\n",
    "        plain = [ord(i) for i in text]\n",
    "        key = []\n",
    "        cipher = []\n",
    "        for i in plain:\n",
    "            k = random.randint(1, 300)\n",
    "            c = (i + k) * k\n",
    "            cipher.append(c)\n",
    "            key.append(k)\n",
    "        return cipher, key\n",
    "\n",
    "    @staticmethod\n",
    "    def decrypt(cipher: list[int], key: list[int]) -> str:\n",
    "        \"\"\"Function to decrypt text using pseudo-random numbers.\"\"\"\n",
    "        plain = []\n",
    "        for i in range(len(key)):\n",
    "            p = int((cipher[i] - (key[i]) ** 2) / key[i])\n",
    "            plain.append(chr(p))\n",
    "        return \"\".join([i for i in plain])\n",
    "\n",
    "\n",
    "if __name__ == \"__main__\":\n",
    "    c, k = Onepad().encrypt(\"Hello\")\n",
    "    print(c, k)\n",
    "    print(Onepad().decrypt(c, k))\n"
   ]
  },
  {
   "cell_type": "code",
   "execution_count": null,
   "id": "7d4a59fc",
   "metadata": {},
   "outputs": [],
   "source": []
  }
 ],
 "metadata": {
  "kernelspec": {
   "display_name": "Python 3 (ipykernel)",
   "language": "python",
   "name": "python3"
  },
  "language_info": {
   "codemirror_mode": {
    "name": "ipython",
    "version": 3
   },
   "file_extension": ".py",
   "mimetype": "text/x-python",
   "name": "python",
   "nbconvert_exporter": "python",
   "pygments_lexer": "ipython3",
   "version": "3.9.12"
  }
 },
 "nbformat": 4,
 "nbformat_minor": 5
}
