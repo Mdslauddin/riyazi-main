{
 "cells": [
  {
   "cell_type": "code",
   "execution_count": 1,
   "id": "fc2dd01c",
   "metadata": {},
   "outputs": [
    {
     "ename": "ImportError",
     "evalue": "attempted relative import with no known parent package",
     "output_type": "error",
     "traceback": [
      "\u001b[1;31m---------------------------------------------------------------------------\u001b[0m",
      "\u001b[1;31mImportError\u001b[0m                               Traceback (most recent call last)",
      "Input \u001b[1;32mIn [1]\u001b[0m, in \u001b[0;36m<cell line: 5>\u001b[1;34m()\u001b[0m\n\u001b[0;32m      2\u001b[0m \u001b[38;5;28;01mimport\u001b[39;00m \u001b[38;5;21;01msys\u001b[39;00m\n\u001b[0;32m      3\u001b[0m \u001b[38;5;28;01mimport\u001b[39;00m \u001b[38;5;21;01mtime\u001b[39;00m\n\u001b[1;32m----> 5\u001b[0m \u001b[38;5;28;01mfrom\u001b[39;00m \u001b[38;5;21;01m.\u001b[39;00m \u001b[38;5;28;01mimport\u001b[39;00m transposition_cipher \u001b[38;5;28;01mas\u001b[39;00m transCipher\n\u001b[0;32m      8\u001b[0m \u001b[38;5;28;01mdef\u001b[39;00m \u001b[38;5;21mmain\u001b[39m() \u001b[38;5;241m-\u001b[39m\u001b[38;5;241m>\u001b[39m \u001b[38;5;28;01mNone\u001b[39;00m:\n\u001b[0;32m      9\u001b[0m     inputFile \u001b[38;5;241m=\u001b[39m \u001b[38;5;124m\"\u001b[39m\u001b[38;5;124mPrehistoric Men.txt\u001b[39m\u001b[38;5;124m\"\u001b[39m\n",
      "\u001b[1;31mImportError\u001b[0m: attempted relative import with no known parent package"
     ]
    }
   ],
   "source": [
    "import os\n",
    "import sys\n",
    "import time\n",
    "\n",
    "from . import transposition_cipher as transCipher\n",
    "\n",
    "\n",
    "def main() -> None:\n",
    "    inputFile = \"Prehistoric Men.txt\"\n",
    "    outputFile = \"Output.txt\"\n",
    "    key = int(input(\"Enter key: \"))\n",
    "    mode = input(\"Encrypt/Decrypt [e/d]: \")\n",
    "\n",
    "    if not os.path.exists(inputFile):\n",
    "        print(f\"File {inputFile} does not exist. Quitting...\")\n",
    "        sys.exit()\n",
    "    if os.path.exists(outputFile):\n",
    "        print(f\"Overwrite {outputFile}? [y/n]\")\n",
    "        response = input(\"> \")\n",
    "        if not response.lower().startswith(\"y\"):\n",
    "            sys.exit()\n",
    "\n",
    "    startTime = time.time()\n",
    "    if mode.lower().startswith(\"e\"):\n",
    "        with open(inputFile) as f:\n",
    "            content = f.read()\n",
    "        translated = transCipher.encryptMessage(key, content)\n",
    "    elif mode.lower().startswith(\"d\"):\n",
    "        with open(outputFile) as f:\n",
    "            content = f.read()\n",
    "        translated = transCipher.decryptMessage(key, content)\n",
    "\n",
    "    with open(outputFile, \"w\") as outputObj:\n",
    "        outputObj.write(translated)\n",
    "\n",
    "    totalTime = round(time.time() - startTime, 2)\n",
    "    print((\"Done (\", totalTime, \"seconds )\"))\n",
    "\n",
    "\n",
    "if __name__ == \"__main__\":\n",
    "    main()\n"
   ]
  },
  {
   "cell_type": "code",
   "execution_count": null,
   "id": "bf634ef5",
   "metadata": {},
   "outputs": [],
   "source": []
  }
 ],
 "metadata": {
  "kernelspec": {
   "display_name": "Python 3 (ipykernel)",
   "language": "python",
   "name": "python3"
  },
  "language_info": {
   "codemirror_mode": {
    "name": "ipython",
    "version": 3
   },
   "file_extension": ".py",
   "mimetype": "text/x-python",
   "name": "python",
   "nbconvert_exporter": "python",
   "pygments_lexer": "ipython3",
   "version": "3.9.12"
  }
 },
 "nbformat": 4,
 "nbformat_minor": 5
}
