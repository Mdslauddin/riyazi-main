{
 "cells": [
  {
   "cell_type": "code",
   "execution_count": 1,
   "id": "37c11b88",
   "metadata": {},
   "outputs": [
    {
     "name": "stdout",
     "output_type": "stream",
     "text": [
      "Enter message: arzoo\n",
      "Encrypt/Decrypt [e/d]: ad\n"
     ]
    },
    {
     "ename": "UnboundLocalError",
     "evalue": "local variable 'mode' referenced before assignment",
     "output_type": "error",
     "traceback": [
      "\u001b[1;31m---------------------------------------------------------------------------\u001b[0m",
      "\u001b[1;31mUnboundLocalError\u001b[0m                         Traceback (most recent call last)",
      "Input \u001b[1;32mIn [1]\u001b[0m, in \u001b[0;36m<cell line: 77>\u001b[1;34m()\u001b[0m\n\u001b[0;32m     74\u001b[0m     \u001b[38;5;28;01mreturn\u001b[39;00m \u001b[38;5;124m\"\u001b[39m\u001b[38;5;124m\"\u001b[39m\u001b[38;5;241m.\u001b[39mjoin(key)\n\u001b[0;32m     77\u001b[0m \u001b[38;5;28;01mif\u001b[39;00m \u001b[38;5;18m__name__\u001b[39m \u001b[38;5;241m==\u001b[39m \u001b[38;5;124m\"\u001b[39m\u001b[38;5;124m__main__\u001b[39m\u001b[38;5;124m\"\u001b[39m:\n\u001b[1;32m---> 78\u001b[0m     \u001b[43mmain\u001b[49m\u001b[43m(\u001b[49m\u001b[43m)\u001b[49m\n",
      "Input \u001b[1;32mIn [1]\u001b[0m, in \u001b[0;36mmain\u001b[1;34m()\u001b[0m\n\u001b[0;32m     18\u001b[0m     mode \u001b[38;5;241m=\u001b[39m \u001b[38;5;124m\"\u001b[39m\u001b[38;5;124mdecrypt\u001b[39m\u001b[38;5;124m\"\u001b[39m\n\u001b[0;32m     19\u001b[0m     translated \u001b[38;5;241m=\u001b[39m decryptMessage(key, message)\n\u001b[1;32m---> 21\u001b[0m \u001b[38;5;28mprint\u001b[39m(\u001b[38;5;124mf\u001b[39m\u001b[38;5;124m\"\u001b[39m\u001b[38;5;130;01m\\n\u001b[39;00m\u001b[38;5;132;01m{\u001b[39;00mmode\u001b[38;5;241m.\u001b[39mtitle()\u001b[38;5;132;01m}\u001b[39;00m\u001b[38;5;124mion: \u001b[39m\u001b[38;5;130;01m\\n\u001b[39;00m\u001b[38;5;132;01m{\u001b[39;00mtranslated\u001b[38;5;132;01m}\u001b[39;00m\u001b[38;5;124m\"\u001b[39m)\n",
      "\u001b[1;31mUnboundLocalError\u001b[0m: local variable 'mode' referenced before assignment"
     ]
    }
   ],
   "source": [
    "import random\n",
    "import sys\n",
    "\n",
    "LETTERS = \"ABCDEFGHIJKLMNOPQRSTUVWXYZ\"\n",
    "\n",
    "\n",
    "def main() -> None:\n",
    "    message = input(\"Enter message: \")\n",
    "    key = \"LFWOAYUISVKMNXPBDCRJTQEGHZ\"\n",
    "    resp = input(\"Encrypt/Decrypt [e/d]: \")\n",
    "\n",
    "    checkValidKey(key)\n",
    "\n",
    "    if resp.lower().startswith(\"e\"):\n",
    "        mode = \"encrypt\"\n",
    "        translated = encryptMessage(key, message)\n",
    "    elif resp.lower().startswith(\"d\"):\n",
    "        mode = \"decrypt\"\n",
    "        translated = decryptMessage(key, message)\n",
    "\n",
    "    print(f\"\\n{mode.title()}ion: \\n{translated}\")\n",
    "\n",
    "\n",
    "def checkValidKey(key: str) -> None:\n",
    "    keyList = list(key)\n",
    "    lettersList = list(LETTERS)\n",
    "    keyList.sort()\n",
    "    lettersList.sort()\n",
    "\n",
    "    if keyList != lettersList:\n",
    "        sys.exit(\"Error in the key or symbol set.\")\n",
    "\n",
    "\n",
    "def encryptMessage(key: str, message: str) -> str:\n",
    "    \"\"\"\n",
    "    >>> encryptMessage('LFWOAYUISVKMNXPBDCRJTQEGHZ', 'Harshil Darji')\n",
    "    'Ilcrism Olcvs'\n",
    "    \"\"\"\n",
    "    return translateMessage(key, message, \"encrypt\")\n",
    "\n",
    "\n",
    "def decryptMessage(key: str, message: str) -> str:\n",
    "    \"\"\"\n",
    "    >>> decryptMessage('LFWOAYUISVKMNXPBDCRJTQEGHZ', 'Ilcrism Olcvs')\n",
    "    'Harshil Darji'\n",
    "    \"\"\"\n",
    "    return translateMessage(key, message, \"decrypt\")\n",
    "\n",
    "\n",
    "def translateMessage(key: str, message: str, mode: str) -> str:\n",
    "    translated = \"\"\n",
    "    charsA = LETTERS\n",
    "    charsB = key\n",
    "\n",
    "    if mode == \"decrypt\":\n",
    "        charsA, charsB = charsB, charsA\n",
    "\n",
    "    for symbol in message:\n",
    "        if symbol.upper() in charsA:\n",
    "            symIndex = charsA.find(symbol.upper())\n",
    "            if symbol.isupper():\n",
    "                translated += charsB[symIndex].upper()\n",
    "            else:\n",
    "                translated += charsB[symIndex].lower()\n",
    "        else:\n",
    "            translated += symbol\n",
    "\n",
    "    return translated\n",
    "\n",
    "\n",
    "def getRandomKey() -> str:\n",
    "    key = list(LETTERS)\n",
    "    random.shuffle(key)\n",
    "    return \"\".join(key)\n",
    "\n",
    "\n",
    "if __name__ == \"__main__\":\n",
    "    main()\n"
   ]
  },
  {
   "cell_type": "code",
   "execution_count": null,
   "id": "36fcc23c",
   "metadata": {},
   "outputs": [],
   "source": []
  }
 ],
 "metadata": {
  "kernelspec": {
   "display_name": "Python 3 (ipykernel)",
   "language": "python",
   "name": "python3"
  },
  "language_info": {
   "codemirror_mode": {
    "name": "ipython",
    "version": 3
   },
   "file_extension": ".py",
   "mimetype": "text/x-python",
   "name": "python",
   "nbconvert_exporter": "python",
   "pygments_lexer": "ipython3",
   "version": "3.9.12"
  }
 },
 "nbformat": 4,
 "nbformat_minor": 5
}
