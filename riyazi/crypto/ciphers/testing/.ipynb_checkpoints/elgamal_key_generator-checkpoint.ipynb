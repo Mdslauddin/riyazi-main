{
 "cells": [
  {
   "cell_type": "code",
   "execution_count": 1,
   "id": "8fded0ad",
   "metadata": {},
   "outputs": [
    {
     "ename": "ImportError",
     "evalue": "attempted relative import with no known parent package",
     "output_type": "error",
     "traceback": [
      "\u001b[1;31m---------------------------------------------------------------------------\u001b[0m",
      "\u001b[1;31mImportError\u001b[0m                               Traceback (most recent call last)",
      "Input \u001b[1;32mIn [1]\u001b[0m, in \u001b[0;36m<cell line: 5>\u001b[1;34m()\u001b[0m\n\u001b[0;32m      2\u001b[0m \u001b[38;5;28;01mimport\u001b[39;00m \u001b[38;5;21;01mrandom\u001b[39;00m\n\u001b[0;32m      3\u001b[0m \u001b[38;5;28;01mimport\u001b[39;00m \u001b[38;5;21;01msys\u001b[39;00m\n\u001b[1;32m----> 5\u001b[0m \u001b[38;5;28;01mfrom\u001b[39;00m \u001b[38;5;21;01m.\u001b[39;00m \u001b[38;5;28;01mimport\u001b[39;00m cryptomath_module \u001b[38;5;28;01mas\u001b[39;00m cryptomath\n\u001b[0;32m      6\u001b[0m \u001b[38;5;28;01mfrom\u001b[39;00m \u001b[38;5;21;01m.\u001b[39;00m \u001b[38;5;28;01mimport\u001b[39;00m rabin_miller\n\u001b[0;32m      8\u001b[0m min_primitive_root \u001b[38;5;241m=\u001b[39m \u001b[38;5;241m3\u001b[39m\n",
      "\u001b[1;31mImportError\u001b[0m: attempted relative import with no known parent package"
     ]
    }
   ],
   "source": [
    "import os\n",
    "import random\n",
    "import sys\n",
    "\n",
    "from . import cryptomath_module as cryptomath\n",
    "from . import rabin_miller\n",
    "\n",
    "min_primitive_root = 3\n",
    "\n",
    "\n",
    "# I have written my code naively same as definition of primitive root\n",
    "# however every time I run this program, memory exceeded...\n",
    "# so I used 4.80 Algorithm in\n",
    "# Handbook of Applied Cryptography(CRC Press, ISBN : 0-8493-8523-7, October 1996)\n",
    "# and it seems to run nicely!\n",
    "def primitive_root(p_val: int) -> int:\n",
    "    print(\"Generating primitive root of p\")\n",
    "    while True:\n",
    "        g = random.randrange(3, p_val)\n",
    "        if pow(g, 2, p_val) == 1:\n",
    "            continue\n",
    "        if pow(g, p_val, p_val) == 1:\n",
    "            continue\n",
    "        return g\n",
    "\n",
    "\n",
    "def generate_key(key_size: int) -> tuple[tuple[int, int, int, int], tuple[int, int]]:\n",
    "    print(\"Generating prime p...\")\n",
    "    p = rabin_miller.generateLargePrime(key_size)  # select large prime number.\n",
    "    e_1 = primitive_root(p)  # one primitive root on modulo p.\n",
    "    d = random.randrange(3, p)  # private_key -> have to be greater than 2 for safety.\n",
    "    e_2 = cryptomath.find_mod_inverse(pow(e_1, d, p), p)\n",
    "\n",
    "    public_key = (key_size, e_1, e_2, p)\n",
    "    private_key = (key_size, d)\n",
    "\n",
    "    return public_key, private_key\n",
    "\n",
    "\n",
    "def make_key_files(name: str, keySize: int) -> None:\n",
    "    if os.path.exists(f\"{name}_pubkey.txt\") or os.path.exists(f\"{name}_privkey.txt\"):\n",
    "        print(\"\\nWARNING:\")\n",
    "        print(\n",
    "            '\"%s_pubkey.txt\" or \"%s_privkey.txt\" already exists. \\n'\n",
    "            \"Use a different name or delete these files and re-run this program.\"\n",
    "            % (name, name)\n",
    "        )\n",
    "        sys.exit()\n",
    "\n",
    "    publicKey, privateKey = generate_key(keySize)\n",
    "    print(f\"\\nWriting public key to file {name}_pubkey.txt...\")\n",
    "    with open(f\"{name}_pubkey.txt\", \"w\") as fo:\n",
    "        fo.write(\n",
    "            \"%d,%d,%d,%d\" % (publicKey[0], publicKey[1], publicKey[2], publicKey[3])\n",
    "        )\n",
    "\n",
    "    print(f\"Writing private key to file {name}_privkey.txt...\")\n",
    "    with open(f\"{name}_privkey.txt\", \"w\") as fo:\n",
    "        fo.write(\"%d,%d\" % (privateKey[0], privateKey[1]))\n",
    "\n",
    "\n",
    "def main() -> None:\n",
    "    print(\"Making key files...\")\n",
    "    make_key_files(\"elgamal\", 2048)\n",
    "    print(\"Key files generation successful\")\n",
    "\n",
    "\n",
    "if __name__ == \"__main__\":\n",
    "    main()\n"
   ]
  },
  {
   "cell_type": "code",
   "execution_count": null,
   "id": "5f351ca2",
   "metadata": {},
   "outputs": [],
   "source": []
  }
 ],
 "metadata": {
  "kernelspec": {
   "display_name": "Python 3 (ipykernel)",
   "language": "python",
   "name": "python3"
  },
  "language_info": {
   "codemirror_mode": {
    "name": "ipython",
    "version": 3
   },
   "file_extension": ".py",
   "mimetype": "text/x-python",
   "name": "python",
   "nbconvert_exporter": "python",
   "pygments_lexer": "ipython3",
   "version": "3.9.12"
  }
 },
 "nbformat": 4,
 "nbformat_minor": 5
}
