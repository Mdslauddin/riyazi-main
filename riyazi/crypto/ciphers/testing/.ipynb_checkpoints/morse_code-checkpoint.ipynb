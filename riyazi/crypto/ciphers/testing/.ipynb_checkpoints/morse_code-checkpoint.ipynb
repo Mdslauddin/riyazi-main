{
 "cells": [
  {
   "cell_type": "code",
   "execution_count": 1,
   "id": "aadf2780",
   "metadata": {},
   "outputs": [
    {
     "name": "stdout",
     "output_type": "stream",
     "text": [
      "Morse code here!\n",
      "-- --- .-. ... . / -.-. --- -.. . / .... . .-. . -.-.--\n",
      "MORSE CODE HERE!\n"
     ]
    }
   ],
   "source": [
    "#!/usr/bin/env python3\n",
    "\n",
    "\"\"\"\n",
    "Python program to translate to and from Morse code.\n",
    "\n",
    "https://en.wikipedia.org/wiki/Morse_code\n",
    "\"\"\"\n",
    "\n",
    "# fmt: off\n",
    "MORSE_CODE_DICT = {\n",
    "    \"A\": \".-\", \"B\": \"-...\", \"C\": \"-.-.\", \"D\": \"-..\", \"E\": \".\", \"F\": \"..-.\", \"G\": \"--.\",\n",
    "    \"H\": \"....\", \"I\": \"..\", \"J\": \".---\", \"K\": \"-.-\", \"L\": \".-..\", \"M\": \"--\", \"N\": \"-.\",\n",
    "    \"O\": \"---\", \"P\": \".--.\", \"Q\": \"--.-\", \"R\": \".-.\", \"S\": \"...\", \"T\": \"-\", \"U\": \"..-\",\n",
    "    \"V\": \"...-\", \"W\": \".--\", \"X\": \"-..-\", \"Y\": \"-.--\", \"Z\": \"--..\", \"1\": \".----\",\n",
    "    \"2\": \"..---\", \"3\": \"...--\", \"4\": \"....-\", \"5\": \".....\", \"6\": \"-....\", \"7\": \"--...\",\n",
    "    \"8\": \"---..\", \"9\": \"----.\", \"0\": \"-----\", \"&\": \".-...\", \"@\": \".--.-.\",\n",
    "    \":\": \"---...\", \",\": \"--..--\", \".\": \".-.-.-\", \"'\": \".----.\", '\"': \".-..-.\",\n",
    "    \"?\": \"..--..\", \"/\": \"-..-.\", \"=\": \"-...-\", \"+\": \".-.-.\", \"-\": \"-....-\",\n",
    "    \"(\": \"-.--.\", \")\": \"-.--.-\", \"!\": \"-.-.--\", \" \": \"/\"\n",
    "}  # Exclamation mark is not in ITU-R recommendation\n",
    "# fmt: on\n",
    "REVERSE_DICT = {value: key for key, value in MORSE_CODE_DICT.items()}\n",
    "\n",
    "\n",
    "def encrypt(message: str) -> str:\n",
    "    \"\"\"\n",
    "    >>> encrypt(\"Sos!\")\n",
    "    '... --- ... -.-.--'\n",
    "    >>> encrypt(\"SOS!\") == encrypt(\"sos!\")\n",
    "    True\n",
    "    \"\"\"\n",
    "    return \" \".join(MORSE_CODE_DICT[char] for char in message.upper())\n",
    "\n",
    "\n",
    "def decrypt(message: str) -> str:\n",
    "    \"\"\"\n",
    "    >>> decrypt('... --- ... -.-.--')\n",
    "    'SOS!'\n",
    "    \"\"\"\n",
    "    return \"\".join(REVERSE_DICT[char] for char in message.split())\n",
    "\n",
    "\n",
    "def main() -> None:\n",
    "    \"\"\"\n",
    "    >>> s = \"\".join(MORSE_CODE_DICT)\n",
    "    >>> decrypt(encrypt(s)) == s\n",
    "    True\n",
    "    \"\"\"\n",
    "    message = \"Morse code here!\"\n",
    "    print(message)\n",
    "    message = encrypt(message)\n",
    "    print(message)\n",
    "    message = decrypt(message)\n",
    "    print(message)\n",
    "\n",
    "\n",
    "if __name__ == \"__main__\":\n",
    "    main()\n"
   ]
  },
  {
   "cell_type": "code",
   "execution_count": null,
   "id": "41e6ad96",
   "metadata": {},
   "outputs": [],
   "source": []
  }
 ],
 "metadata": {
  "kernelspec": {
   "display_name": "Python 3 (ipykernel)",
   "language": "python",
   "name": "python3"
  },
  "language_info": {
   "codemirror_mode": {
    "name": "ipython",
    "version": 3
   },
   "file_extension": ".py",
   "mimetype": "text/x-python",
   "name": "python",
   "nbconvert_exporter": "python",
   "pygments_lexer": "ipython3",
   "version": "3.9.12"
  }
 },
 "nbformat": 4,
 "nbformat_minor": 5
}
