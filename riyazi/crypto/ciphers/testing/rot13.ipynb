{
 "cells": [
  {
   "cell_type": "code",
   "execution_count": 1,
   "id": "8daed36e",
   "metadata": {},
   "outputs": [
    {
     "name": "stdout",
     "output_type": "stream",
     "text": [
      "Enter message: arzoo\n",
      "Encryption: nembb\n",
      "Decryption:  arzoo\n"
     ]
    }
   ],
   "source": [
    "def dencrypt(s: str, n: int = 13) -> str:\n",
    "    \"\"\"\n",
    "    https://en.wikipedia.org/wiki/ROT13\n",
    "\n",
    "    >>> msg = \"My secret bank account number is 173-52946 so don't tell anyone!!\"\n",
    "    >>> s = dencrypt(msg)\n",
    "    >>> s\n",
    "    \"Zl frperg onax nppbhag ahzore vf 173-52946 fb qba'g gryy nalbar!!\"\n",
    "    >>> dencrypt(s) == msg\n",
    "    True\n",
    "    \"\"\"\n",
    "    out = \"\"\n",
    "    for c in s:\n",
    "        if \"A\" <= c <= \"Z\":\n",
    "            out += chr(ord(\"A\") + (ord(c) - ord(\"A\") + n) % 26)\n",
    "        elif \"a\" <= c <= \"z\":\n",
    "            out += chr(ord(\"a\") + (ord(c) - ord(\"a\") + n) % 26)\n",
    "        else:\n",
    "            out += c\n",
    "    return out\n",
    "\n",
    "\n",
    "def main() -> None:\n",
    "    s0 = input(\"Enter message: \")\n",
    "\n",
    "    s1 = dencrypt(s0, 13)\n",
    "    print(\"Encryption:\", s1)\n",
    "\n",
    "    s2 = dencrypt(s1, 13)\n",
    "    print(\"Decryption: \", s2)\n",
    "\n",
    "\n",
    "if __name__ == \"__main__\":\n",
    "    import doctest\n",
    "\n",
    "    doctest.testmod()\n",
    "    main()\n"
   ]
  },
  {
   "cell_type": "code",
   "execution_count": null,
   "id": "dc4e1df6",
   "metadata": {},
   "outputs": [],
   "source": []
  }
 ],
 "metadata": {
  "kernelspec": {
   "display_name": "Python 3 (ipykernel)",
   "language": "python",
   "name": "python3"
  },
  "language_info": {
   "codemirror_mode": {
    "name": "ipython",
    "version": 3
   },
   "file_extension": ".py",
   "mimetype": "text/x-python",
   "name": "python",
   "nbconvert_exporter": "python",
   "pygments_lexer": "ipython3",
   "version": "3.9.12"
  }
 },
 "nbformat": 4,
 "nbformat_minor": 5
}
