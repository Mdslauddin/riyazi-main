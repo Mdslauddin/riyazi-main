{
 "cells": [
  {
   "cell_type": "code",
   "execution_count": 1,
   "id": "27c3f51a",
   "metadata": {},
   "outputs": [
    {
     "name": "stdout",
     "output_type": "stream",
     "text": [
      "b'JBSWY3DPEBLW64TMMQQQ===='\n",
      "Hello World!\n"
     ]
    }
   ],
   "source": [
    "import base64\n",
    "\n",
    "\n",
    "def base32_encode(string: str) -> bytes:\n",
    "    \"\"\"\n",
    "    Encodes a given string to base32, returning a bytes-like object\n",
    "    >>> base32_encode(\"Hello World!\")\n",
    "    b'JBSWY3DPEBLW64TMMQQQ===='\n",
    "    >>> base32_encode(\"123456\")\n",
    "    b'GEZDGNBVGY======'\n",
    "    >>> base32_encode(\"some long complex string\")\n",
    "    b'ONXW2ZJANRXW4ZZAMNXW24DMMV4CA43UOJUW4ZY='\n",
    "    \"\"\"\n",
    "\n",
    "    # encoded the input (we need a bytes like object)\n",
    "    # then, b32encoded the bytes-like object\n",
    "    return base64.b32encode(string.encode(\"utf-8\"))\n",
    "\n",
    "\n",
    "def base32_decode(encoded_bytes: bytes) -> str:\n",
    "    \"\"\"\n",
    "    Decodes a given bytes-like object to a string, returning a string\n",
    "    >>> base32_decode(b'JBSWY3DPEBLW64TMMQQQ====')\n",
    "    'Hello World!'\n",
    "    >>> base32_decode(b'GEZDGNBVGY======')\n",
    "    '123456'\n",
    "    >>> base32_decode(b'ONXW2ZJANRXW4ZZAMNXW24DMMV4CA43UOJUW4ZY=')\n",
    "    'some long complex string'\n",
    "    \"\"\"\n",
    "\n",
    "    # decode the bytes from base32\n",
    "    # then, decode the bytes-like object to return as a string\n",
    "    return base64.b32decode(encoded_bytes).decode(\"utf-8\")\n",
    "\n",
    "\n",
    "if __name__ == \"__main__\":\n",
    "    test = \"Hello World!\"\n",
    "    encoded = base32_encode(test)\n",
    "    print(encoded)\n",
    "\n",
    "    decoded = base32_decode(encoded)\n",
    "    print(decoded)\n"
   ]
  },
  {
   "cell_type": "code",
   "execution_count": null,
   "id": "c3f43d75",
   "metadata": {},
   "outputs": [],
   "source": []
  }
 ],
 "metadata": {
  "kernelspec": {
   "display_name": "Python 3 (ipykernel)",
   "language": "python",
   "name": "python3"
  },
  "language_info": {
   "codemirror_mode": {
    "name": "ipython",
    "version": 3
   },
   "file_extension": ".py",
   "mimetype": "text/x-python",
   "name": "python",
   "nbconvert_exporter": "python",
   "pygments_lexer": "ipython3",
   "version": "3.9.12"
  }
 },
 "nbformat": 4,
 "nbformat_minor": 5
}
