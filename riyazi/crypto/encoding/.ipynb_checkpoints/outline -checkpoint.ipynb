{
 "cells": [
  {
   "cell_type": "markdown",
   "id": "d394ffbc",
   "metadata": {},
   "source": [
    "### BASE16 (199X?) \n",
    "\n",
    "### BASE32 (199X?) \n",
    "\n",
    "### BASE58 (2019) \n",
    "\n",
    "### BASE64 (199X?) \n",
    "\n",
    "### BASE85 (1996) \n",
    "\n",
    "### BASE91 \n",
    "\n",
    "### CRAZY BASE CODING \n",
    "\n",
    "### MORSE (1837) \n",
    "\n",
    "### BRAILLE (18830) \n",
    "\n",
    "### SEMAPHORE (1990) \n",
    "\n",
    "### TAP CODE \n",
    "\n",
    "### ASL (1972) \n",
    "\n",
    "### BSL (1570) \n",
    "\n",
    "### PIGPEN \n",
    "\n",
    "### ELIAN SCRIPT \n",
    "\n",
    "### BETAMAZE \n",
    "\n",
    "\n",
    "### AIZ26 \n",
    "\n",
    "### T9 \n",
    "\n",
    "### NADAPTIVE HUFFMAN \n",
    "\n",
    "### RUN-LENGTH ENCODING \n",
    "\n",
    "### WEBDINGS ENCODING \n",
    "\n",
    "### WINGDING ENCODING \n",
    "\n",
    "### PIG LATIN ENCODING \n",
    "\n"
   ]
  },
  {
   "cell_type": "code",
   "execution_count": null,
   "id": "c837769e",
   "metadata": {},
   "outputs": [],
   "source": []
  }
 ],
 "metadata": {
  "kernelspec": {
   "display_name": "Python 3 (ipykernel)",
   "language": "python",
   "name": "python3"
  },
  "language_info": {
   "codemirror_mode": {
    "name": "ipython",
    "version": 3
   },
   "file_extension": ".py",
   "mimetype": "text/x-python",
   "name": "python",
   "nbconvert_exporter": "python",
   "pygments_lexer": "ipython3",
   "version": "3.9.12"
  }
 },
 "nbformat": 4,
 "nbformat_minor": 5
}
