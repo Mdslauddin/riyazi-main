{
 "cells": [
  {
   "cell_type": "markdown",
   "id": "9b31e959",
   "metadata": {},
   "source": [
    "### `math.log`\n",
    "\n",
    "### `math.log10`\n",
    "\n",
    "### `math.log1p`\n",
    "\n",
    "### `math.log2`"
   ]
  },
  {
   "cell_type": "code",
   "execution_count": null,
   "id": "6f5cdb30",
   "metadata": {},
   "outputs": [],
   "source": [
    "import math "
   ]
  },
  {
   "cell_type": "code",
   "execution_count": null,
   "id": "6630e39d",
   "metadata": {},
   "outputs": [],
   "source": [
    "math.log10(12)"
   ]
  },
  {
   "cell_type": "code",
   "execution_count": null,
   "id": "53aee905",
   "metadata": {},
   "outputs": [],
   "source": [
    "math.log10(123)"
   ]
  },
  {
   "cell_type": "code",
   "execution_count": null,
   "id": "4e8fe53e",
   "metadata": {},
   "outputs": [],
   "source": [
    "math.log10(99)"
   ]
  },
  {
   "cell_type": "code",
   "execution_count": null,
   "id": "dfcaefb7",
   "metadata": {},
   "outputs": [],
   "source": [
    "math.log10(987452)"
   ]
  },
  {
   "cell_type": "code",
   "execution_count": null,
   "id": "5527cc9d",
   "metadata": {},
   "outputs": [],
   "source": [
    "math.log10(26**32)"
   ]
  },
  {
   "cell_type": "code",
   "execution_count": null,
   "id": "226de147",
   "metadata": {},
   "outputs": [],
   "source": [
    "def log10(x,/):\n",
    "    \"\"\"\n",
    "    Return the base 10 logarithm of x.\n",
    "    \"\"\""
   ]
  },
  {
   "cell_type": "code",
   "execution_count": null,
   "id": "cd6a41ef",
   "metadata": {},
   "outputs": [],
   "source": [
    "log10()"
   ]
  },
  {
   "cell_type": "code",
   "execution_count": null,
   "id": "09555122",
   "metadata": {},
   "outputs": [],
   "source": [
    "def log(number, base):\n",
    "\t'''function to find the logarithm\n",
    "https://github.com/AlexRomantsov/logarithm'''\n",
    "\tnumber, base = float(number), float(base)\n",
    "\tresult = 0.0\n",
    "\twhile(number >= base):\n",
    "\t\tnumber/=base\n",
    "\t\tresult += 1\n",
    "\treturn result"
   ]
  },
  {
   "cell_type": "code",
   "execution_count": null,
   "id": "5d80f871",
   "metadata": {},
   "outputs": [],
   "source": [
    "log(9,10)"
   ]
  },
  {
   "cell_type": "markdown",
   "id": "aa0d246e",
   "metadata": {},
   "source": [
    "**math.log10(x)**\n",
    "Return the base-10 logarithm of x. This is usually more accurate than log(x, 10).\n",
    "\n",
    "\n",
    "**math.log1p(x)**\n",
    "Return the natural logarithm of 1+x (base e). The result is calculated in a way which is accurate for x near zero.\n",
    "\n",
    "\n",
    "**math.log(x[, base])**\n",
    "With one argument, return the natural logarithm of x (to base e).\n",
    "\n",
    "With two arguments, return the logarithm of x to the given base, calculated as log(x)/log(base)."
   ]
  },
  {
   "cell_type": "code",
   "execution_count": null,
   "id": "d1a4f03f",
   "metadata": {},
   "outputs": [],
   "source": [
    "def myLog(x, b):\n",
    "    if x < b:\n",
    "        return 0  \n",
    "    return 1 + myLog(x/b, b)"
   ]
  },
  {
   "cell_type": "code",
   "execution_count": null,
   "id": "458977af",
   "metadata": {},
   "outputs": [],
   "source": [
    "myLog(120,10)"
   ]
  },
  {
   "cell_type": "code",
   "execution_count": null,
   "id": "d6290f58",
   "metadata": {},
   "outputs": [],
   "source": [
    "def ln(x):\n",
    "    val = x\n",
    "    return 99999999*(x**(1/99999999)-1)"
   ]
  },
  {
   "cell_type": "code",
   "execution_count": null,
   "id": "fd3b9210",
   "metadata": {},
   "outputs": [],
   "source": [
    "ln(12)"
   ]
  },
  {
   "cell_type": "code",
   "execution_count": null,
   "id": "9a389cfb",
   "metadata": {},
   "outputs": [],
   "source": [
    "def log(x,base):\n",
    "    result = ln(x)/ln(base)\n",
    "    return result"
   ]
  },
  {
   "cell_type": "code",
   "execution_count": null,
   "id": "3e366f3f",
   "metadata": {},
   "outputs": [],
   "source": [
    "log(122,10)"
   ]
  },
  {
   "cell_type": "code",
   "execution_count": null,
   "id": "ed6a45dc",
   "metadata": {},
   "outputs": [],
   "source": []
  },
  {
   "cell_type": "code",
   "execution_count": null,
   "id": "86ea85e4",
   "metadata": {},
   "outputs": [],
   "source": [
    "log(12,10)"
   ]
  },
  {
   "cell_type": "code",
   "execution_count": null,
   "id": "aa1a3082",
   "metadata": {},
   "outputs": [],
   "source": [
    "def ln(x):\n",
    "    n = 1100.0\n",
    "    return n * ((x ** (1/n)) - 1)"
   ]
  },
  {
   "cell_type": "code",
   "execution_count": null,
   "id": "b0c6c92f",
   "metadata": {},
   "outputs": [],
   "source": [
    "ln(12)"
   ]
  },
  {
   "cell_type": "code",
   "execution_count": null,
   "id": "7f8769a7",
   "metadata": {},
   "outputs": [],
   "source": [
    "# https://stackoverflow.com/questions/13211137/get-logarithm-without-math-log-python"
   ]
  },
  {
   "cell_type": "code",
   "execution_count": null,
   "id": "f081913c",
   "metadata": {},
   "outputs": [],
   "source": [
    "#https://math.stackexchange.com/questions/3381629/what-is-the-fastest-algorithm-for-finding-the-natural-logarithm-of-a-big-number"
   ]
  },
  {
   "cell_type": "markdown",
   "id": "0445f502",
   "metadata": {},
   "source": [
    "### Is it possible to create a Logarithm function on python without python libaries?\n",
    "**Absolutely. Look up any of the dozen or more ways of expressing the logarithm: Taylor series, inverse hyperbolic tangent, Feynman method and code them up. Any calculation of the logarithm is an approximation (at least for most input numbers) which is no more accurate than the floating point representation that you use. I’m not sure which algorithm Python uses internally.**\n",
    "\n",
    "# https://www.quora.com/Is-it-possible-to-create-a-Logarithm-function-on-python-without-python-libaries"
   ]
  },
  {
   "cell_type": "code",
   "execution_count": null,
   "id": "c8614945",
   "metadata": {},
   "outputs": [],
   "source": [
    "static Py_complex\n",
    "cmath_log10_impl(PyObject *module, Py_complex z)\n",
    "{\n",
    "   Py_complex r;\n",
    "   int errno_save;\n",
    "\n",
    "   r = c_log(z);\n",
    "   errno_save = errno;\n",
    "   r.real = r.real / M_LN10;\n",
    "   r.imag = r.imag / M_LN10;\n",
    "   errno = errno_save;\n",
    "   return r;\n",
    "}"
   ]
  },
  {
   "cell_type": "code",
   "execution_count": null,
   "id": "a948ab1b",
   "metadata": {},
   "outputs": [],
   "source": [
    "def log10(x):\n",
    "    \n",
    "    a = x.real/10\n",
    "    b =  x.imag / 10\n",
    "    return a,b\n",
    "    "
   ]
  },
  {
   "cell_type": "code",
   "execution_count": null,
   "id": "dd142445",
   "metadata": {},
   "outputs": [],
   "source": [
    "log10(120)"
   ]
  },
  {
   "cell_type": "markdown",
   "id": "1e046e04",
   "metadata": {},
   "source": [
    "### math.log1p(x)\n",
    "Return the natural logarithm of 1+x (base e). The result is calculated in a way which is accurate for x near zero."
   ]
  },
  {
   "cell_type": "code",
   "execution_count": null,
   "id": "7ae82e64",
   "metadata": {},
   "outputs": [],
   "source": [
    "def log1p(x):\n",
    "    e = 2.718281828459045235\n",
    "    return (1+x**e)"
   ]
  },
  {
   "cell_type": "code",
   "execution_count": null,
   "id": "7a7dc46c",
   "metadata": {},
   "outputs": [],
   "source": [
    "import math"
   ]
  },
  {
   "cell_type": "code",
   "execution_count": null,
   "id": "a37233d1",
   "metadata": {},
   "outputs": [],
   "source": [
    "math.log1p(100)"
   ]
  },
  {
   "cell_type": "code",
   "execution_count": null,
   "id": "3af31caf",
   "metadata": {},
   "outputs": [],
   "source": [
    "log1p(100)"
   ]
  },
  {
   "cell_type": "code",
   "execution_count": null,
   "id": "62775b7e",
   "metadata": {},
   "outputs": [],
   "source": [
    "# https://docs.python.org/3/library/math.html"
   ]
  },
  {
   "cell_type": "code",
   "execution_count": null,
   "id": "f495bfb2",
   "metadata": {},
   "outputs": [],
   "source": []
  },
  {
   "cell_type": "markdown",
   "id": "2303d28c",
   "metadata": {},
   "source": [
    "### Taylor series for log(x)"
   ]
  },
  {
   "cell_type": "code",
   "execution_count": null,
   "id": "408bb053",
   "metadata": {},
   "outputs": [],
   "source": [
    "def log(x):\n",
    "    n=20000\n",
    "    s=0\n",
    "    for i in range(1,n):\n",
    "        s += ((-1)**(i+1))*((x-1)**i)/i\n",
    "    return s"
   ]
  },
  {
   "cell_type": "code",
   "execution_count": null,
   "id": "6474b4c2",
   "metadata": {},
   "outputs": [],
   "source": [
    "log(1231)"
   ]
  },
  {
   "cell_type": "code",
   "execution_count": null,
   "id": "3ba35ec9",
   "metadata": {},
   "outputs": [],
   "source": [
    "import math"
   ]
  },
  {
   "cell_type": "code",
   "execution_count": null,
   "id": "6b50033a",
   "metadata": {},
   "outputs": [],
   "source": [
    "math.log(2)"
   ]
  },
  {
   "cell_type": "code",
   "execution_count": null,
   "id": "020fe9c9",
   "metadata": {},
   "outputs": [],
   "source": []
  },
  {
   "cell_type": "code",
   "execution_count": null,
   "id": "e3f72a51",
   "metadata": {},
   "outputs": [],
   "source": []
  },
  {
   "cell_type": "code",
   "execution_count": null,
   "id": "3e32b31b",
   "metadata": {},
   "outputs": [],
   "source": []
  },
  {
   "cell_type": "code",
   "execution_count": null,
   "id": "028d92cd",
   "metadata": {},
   "outputs": [],
   "source": []
  },
  {
   "cell_type": "code",
   "execution_count": null,
   "id": "231c41ad",
   "metadata": {},
   "outputs": [],
   "source": []
  },
  {
   "cell_type": "code",
   "execution_count": null,
   "id": "a50b25f9",
   "metadata": {},
   "outputs": [],
   "source": []
  },
  {
   "cell_type": "code",
   "execution_count": null,
   "id": "6f704d70",
   "metadata": {},
   "outputs": [],
   "source": []
  },
  {
   "cell_type": "code",
   "execution_count": null,
   "id": "c419a181",
   "metadata": {},
   "outputs": [],
   "source": []
  },
  {
   "cell_type": "code",
   "execution_count": null,
   "id": "daf28053",
   "metadata": {},
   "outputs": [],
   "source": [
    "def ln(x): return 2*sum(((x-1)/(x+1))**i/i for i in range(1,1000,2))"
   ]
  },
  {
   "cell_type": "code",
   "execution_count": null,
   "id": "0729bb46",
   "metadata": {},
   "outputs": [],
   "source": [
    "ln(123)"
   ]
  },
  {
   "cell_type": "code",
   "execution_count": null,
   "id": "ea7bd9af",
   "metadata": {},
   "outputs": [],
   "source": [
    "def ln(x):\n",
    "    if x > 2: return ln(x/2) + ln(2)  # ln(x) = ln(x/2 * 2) = ln(x/2) + ln(2)\n",
    "    return 2*sum(((x-1)/(x+1))**i/i for i in range(1,1000,2))"
   ]
  },
  {
   "cell_type": "code",
   "execution_count": null,
   "id": "6151bd25",
   "metadata": {},
   "outputs": [],
   "source": [
    "ln(123)"
   ]
  },
  {
   "cell_type": "code",
   "execution_count": null,
   "id": "7bb87f95",
   "metadata": {},
   "outputs": [],
   "source": []
  },
  {
   "cell_type": "code",
   "execution_count": null,
   "id": "6b77e2c2",
   "metadata": {},
   "outputs": [],
   "source": []
  },
  {
   "cell_type": "code",
   "execution_count": null,
   "id": "bd3d7339",
   "metadata": {},
   "outputs": [],
   "source": []
  },
  {
   "cell_type": "code",
   "execution_count": null,
   "id": "c60a81b1",
   "metadata": {
    "scrolled": true
   },
   "outputs": [],
   "source": [
    "ln(12)"
   ]
  },
  {
   "cell_type": "code",
   "execution_count": null,
   "id": "7dc0731b",
   "metadata": {},
   "outputs": [],
   "source": [
    "# Natural log \n",
    "\n",
    "def log(x):\n",
    "    if x > 1: return log(x/2) - log(0.5) # ln(2) = -ln(1/2)\n",
    "    n=1000\n",
    "    s=0\n",
    "    for i in range(1,n):\n",
    "        s += ((-1)**(i+1))*((x-1)**i)/i\n",
    "    return s"
   ]
  },
  {
   "cell_type": "code",
   "execution_count": null,
   "id": "451184e2",
   "metadata": {},
   "outputs": [],
   "source": [
    "log(21)"
   ]
  },
  {
   "cell_type": "code",
   "execution_count": null,
   "id": "124a44fc",
   "metadata": {},
   "outputs": [],
   "source": []
  },
  {
   "cell_type": "code",
   "execution_count": null,
   "id": "e53517d3",
   "metadata": {},
   "outputs": [],
   "source": []
  },
  {
   "cell_type": "code",
   "execution_count": null,
   "id": "21952f7c",
   "metadata": {},
   "outputs": [],
   "source": []
  },
  {
   "cell_type": "code",
   "execution_count": null,
   "id": "301d24f0",
   "metadata": {},
   "outputs": [],
   "source": []
  },
  {
   "cell_type": "code",
   "execution_count": null,
   "id": "9c335b2c",
   "metadata": {},
   "outputs": [],
   "source": []
  },
  {
   "cell_type": "code",
   "execution_count": null,
   "id": "066a873e",
   "metadata": {},
   "outputs": [],
   "source": []
  },
  {
   "cell_type": "code",
   "execution_count": null,
   "id": "7d9b93b8",
   "metadata": {},
   "outputs": [],
   "source": [
    "log(12)"
   ]
  },
  {
   "cell_type": "code",
   "execution_count": null,
   "id": "853a6764",
   "metadata": {},
   "outputs": [],
   "source": [
    "ln2 = None\n",
    "def ln(x):\n",
    "    if x <= 2:\n",
    "        return 2*sum(((x-1)/(x+1))**i/i for i in range(1,10000,2))\n",
    "    global ln2\n",
    "    if ln2 is None: ln2 = ln(2)    \n",
    "    n2 = 0\n",
    "    while x>2: x,n2 = x/2,n2+1\n",
    "    return ln2*n2 + ln(x)"
   ]
  },
  {
   "cell_type": "code",
   "execution_count": null,
   "id": "8bef8121",
   "metadata": {
    "scrolled": true
   },
   "outputs": [],
   "source": [
    "ln(123)"
   ]
  },
  {
   "cell_type": "code",
   "execution_count": null,
   "id": "59fb25c5",
   "metadata": {},
   "outputs": [],
   "source": [
    "1e4"
   ]
  },
  {
   "cell_type": "markdown",
   "id": "deb2c732",
   "metadata": {},
   "source": [
    "# [Tayler](https://stackoverflow.com/questions/66487579/taylor-series-for-logx)"
   ]
  },
  {
   "cell_type": "markdown",
   "id": "9a6010b1",
   "metadata": {},
   "source": [
    "# [Geeksforgeeks](https://www.geeksforgeeks.org/find-the-lnx-and-log10x-with-the-help-of-expansion/)"
   ]
  },
  {
   "cell_type": "code",
   "execution_count": null,
   "id": "d1a9c908",
   "metadata": {},
   "outputs": [],
   "source": [
    "\n",
    "from math import pow\n",
    "def calculateLnx(n):\n",
    "\tsum = 0\n",
    "\tnum = (n - 1) / (n + 1)\n",
    "\n",
    "\t# terminating value of the loop\n",
    "\t# can be increased to improve the precision\n",
    "\tfor i in range(1, 1001, 1):\n",
    "\t\tmul = (2 * i) - 1\n",
    "\t\tcal = pow(num, mul)\n",
    "\t\tcal = cal / mul\n",
    "\t\tsum = sum + cal\n",
    "\n",
    "\tsum = 2 * sum\n",
    "\treturn sum\n",
    "\n",
    "# Function to calculate log10 x\n",
    "def calculateLogx(lnx):\n",
    "\treturn (lnx / 2.303)\n"
   ]
  },
  {
   "cell_type": "code",
   "execution_count": null,
   "id": "eb175e24",
   "metadata": {
    "scrolled": true
   },
   "outputs": [],
   "source": [
    "calculateLnx(123)"
   ]
  },
  {
   "cell_type": "markdown",
   "id": "8729b42d",
   "metadata": {},
   "source": [
    "https://www.geeksforgeeks.org/find-the-value-of-lnn-using-recursion/?ref=gcse"
   ]
  },
  {
   "cell_type": "code",
   "execution_count": null,
   "id": "2edf944a",
   "metadata": {},
   "outputs": [],
   "source": []
  },
  {
   "cell_type": "code",
   "execution_count": null,
   "id": "ac40c0fa",
   "metadata": {},
   "outputs": [],
   "source": []
  },
  {
   "cell_type": "code",
   "execution_count": null,
   "id": "fe8b644f",
   "metadata": {},
   "outputs": [],
   "source": []
  },
  {
   "cell_type": "code",
   "execution_count": null,
   "id": "e1c1356e",
   "metadata": {},
   "outputs": [],
   "source": []
  },
  {
   "cell_type": "code",
   "execution_count": null,
   "id": "9a2b35f9",
   "metadata": {},
   "outputs": [],
   "source": []
  },
  {
   "cell_type": "markdown",
   "id": "e810fd9a",
   "metadata": {},
   "source": [
    "# Outline"
   ]
  },
  {
   "cell_type": "code",
   "execution_count": null,
   "id": "0d236400",
   "metadata": {},
   "outputs": [],
   "source": [
    "import math"
   ]
  },
  {
   "cell_type": "code",
   "execution_count": null,
   "id": "fc705f72",
   "metadata": {},
   "outputs": [],
   "source": [
    "math.log\n",
    "math.log10\n",
    "math.log1p\n",
    "math.log2"
   ]
  },
  {
   "cell_type": "code",
   "execution_count": null,
   "id": "b713b5c6",
   "metadata": {},
   "outputs": [],
   "source": [
    "def ln(x): return 2*sum(((x-1)/(x+1))**i/i for i in range(1,100,2))"
   ]
  },
  {
   "cell_type": "code",
   "execution_count": null,
   "id": "b5527712",
   "metadata": {},
   "outputs": [],
   "source": [
    "import math \n",
    "math.log2(2**31)"
   ]
  },
  {
   "cell_type": "code",
   "execution_count": null,
   "id": "b4a745a4",
   "metadata": {},
   "outputs": [],
   "source": [
    "ln(2**31)"
   ]
  },
  {
   "cell_type": "code",
   "execution_count": null,
   "id": "0716916a",
   "metadata": {},
   "outputs": [],
   "source": []
  },
  {
   "cell_type": "code",
   "execution_count": null,
   "id": "90438b9e",
   "metadata": {},
   "outputs": [],
   "source": []
  },
  {
   "cell_type": "code",
   "execution_count": null,
   "id": "5f5540e0",
   "metadata": {},
   "outputs": [],
   "source": []
  },
  {
   "cell_type": "code",
   "execution_count": null,
   "id": "3dec52f7",
   "metadata": {},
   "outputs": [],
   "source": [
    "def ln(x):\n",
    "    if x > 2: return ln(x/2) + ln(2)  # ln(x) = ln(x/2 * 2) = ln(x/2) + ln(2)\n",
    "    return 2*sum(((x-1)/(x+1))**i/i for i in range(1,1000,2))"
   ]
  },
  {
   "cell_type": "code",
   "execution_count": null,
   "id": "2d3db74a",
   "metadata": {},
   "outputs": [],
   "source": [
    "ln(2**310)"
   ]
  },
  {
   "cell_type": "code",
   "execution_count": null,
   "id": "51db503e",
   "metadata": {},
   "outputs": [],
   "source": [
    "ln2 = None\n",
    "def ln(x):\n",
    "    if x <= 2:\n",
    "        return 2*sum(((x-1)/(x+1))**i/i for i in range(1,10000,2))\n",
    "    global ln2\n",
    "    if ln2 is None: ln2 = ln(2)    \n",
    "    n2 = 0\n",
    "    while x>2: x,n2 = x/2,n2+1\n",
    "    return ln2*n2 + ln(x)"
   ]
  },
  {
   "cell_type": "code",
   "execution_count": null,
   "id": "a210b41f",
   "metadata": {},
   "outputs": [],
   "source": [
    "ln(2**310)"
   ]
  },
  {
   "cell_type": "code",
   "execution_count": null,
   "id": "042db4d6",
   "metadata": {},
   "outputs": [],
   "source": [
    "math.log1p(2)"
   ]
  },
  {
   "cell_type": "code",
   "execution_count": null,
   "id": "49966e62",
   "metadata": {},
   "outputs": [],
   "source": [
    "def log1p(x):\n",
    "    x = x+1\n",
    "    return ln(x)"
   ]
  },
  {
   "cell_type": "code",
   "execution_count": null,
   "id": "86b91d74",
   "metadata": {
    "scrolled": true
   },
   "outputs": [],
   "source": [
    "log1p(2)"
   ]
  },
  {
   "cell_type": "code",
   "execution_count": null,
   "id": "9c50ee92",
   "metadata": {},
   "outputs": [],
   "source": [
    "math.log2(2)"
   ]
  },
  {
   "cell_type": "code",
   "execution_count": null,
   "id": "aa1baf90",
   "metadata": {},
   "outputs": [],
   "source": [
    "math.log2(3)"
   ]
  },
  {
   "cell_type": "code",
   "execution_count": null,
   "id": "e2f08a8f",
   "metadata": {},
   "outputs": [],
   "source": [
    "def log2(x,base=2):\n",
    "    result = ln(x)/ln(base)\n",
    "    return result"
   ]
  },
  {
   "cell_type": "code",
   "execution_count": null,
   "id": "dffd4b45",
   "metadata": {},
   "outputs": [],
   "source": [
    "log(3,2)"
   ]
  },
  {
   "cell_type": "code",
   "execution_count": null,
   "id": "aa7a1d58",
   "metadata": {},
   "outputs": [],
   "source": []
  },
  {
   "cell_type": "code",
   "execution_count": null,
   "id": "825ff089",
   "metadata": {},
   "outputs": [],
   "source": []
  },
  {
   "cell_type": "code",
   "execution_count": null,
   "id": "b64b32b6",
   "metadata": {},
   "outputs": [],
   "source": []
  },
  {
   "cell_type": "code",
   "execution_count": null,
   "id": "e2de8ff8",
   "metadata": {},
   "outputs": [],
   "source": [
    "\n",
    "from math import pow\n",
    "def calculateLnx(n):\n",
    "\tsum = 0\n",
    "\tnum = (n - 1) / (n + 1)\n",
    "\n",
    "\t# terminating value of the loop\n",
    "\t# can be increased to improve the precision\n",
    "\tfor i in range(1, 1001, 1):\n",
    "\t\tmul = (2 * i) - 1\n",
    "\t\tcal = pow(num, mul)\n",
    "\t\tcal = cal / mul\n",
    "\t\tsum = sum + cal\n",
    "\n",
    "\tsum = 2 * sum\n",
    "\treturn sum\n",
    "\n",
    "# Function to calculate log10 x\n",
    "def calculateLogx(lnx):\n",
    "\treturn (lnx / 2.303)"
   ]
  },
  {
   "cell_type": "code",
   "execution_count": null,
   "id": "7bb46c20",
   "metadata": {},
   "outputs": [],
   "source": [
    "calculateLnx(2)"
   ]
  },
  {
   "cell_type": "code",
   "execution_count": null,
   "id": "8322e50e",
   "metadata": {},
   "outputs": [],
   "source": [
    "def log(x,base):\n",
    "    result = ln(x)/ln(base)\n",
    "    return result"
   ]
  },
  {
   "cell_type": "code",
   "execution_count": null,
   "id": "336c74ec",
   "metadata": {},
   "outputs": [],
   "source": [
    "math.log10(2)"
   ]
  },
  {
   "cell_type": "code",
   "execution_count": null,
   "id": "17abc54d",
   "metadata": {},
   "outputs": [],
   "source": [
    "log(2,10)"
   ]
  },
  {
   "cell_type": "code",
   "execution_count": null,
   "id": "31bcb48d",
   "metadata": {},
   "outputs": [],
   "source": []
  },
  {
   "cell_type": "code",
   "execution_count": null,
   "id": "1cf5b24d",
   "metadata": {},
   "outputs": [],
   "source": []
  },
  {
   "cell_type": "code",
   "execution_count": null,
   "id": "73469d79",
   "metadata": {},
   "outputs": [],
   "source": []
  },
  {
   "cell_type": "code",
   "execution_count": null,
   "id": "50eaec6d",
   "metadata": {},
   "outputs": [],
   "source": []
  },
  {
   "cell_type": "code",
   "execution_count": null,
   "id": "443771fd",
   "metadata": {},
   "outputs": [],
   "source": []
  },
  {
   "cell_type": "code",
   "execution_count": null,
   "id": "36a12f4e",
   "metadata": {},
   "outputs": [],
   "source": []
  },
  {
   "cell_type": "code",
   "execution_count": null,
   "id": "b0ac8641",
   "metadata": {},
   "outputs": [],
   "source": []
  },
  {
   "cell_type": "code",
   "execution_count": null,
   "id": "cbd138ef",
   "metadata": {},
   "outputs": [],
   "source": []
  },
  {
   "cell_type": "code",
   "execution_count": null,
   "id": "623a5bf1",
   "metadata": {},
   "outputs": [],
   "source": []
  },
  {
   "cell_type": "code",
   "execution_count": null,
   "id": "f3214e0a",
   "metadata": {},
   "outputs": [],
   "source": []
  },
  {
   "cell_type": "code",
   "execution_count": null,
   "id": "3ff1f83e",
   "metadata": {},
   "outputs": [],
   "source": []
  },
  {
   "cell_type": "code",
   "execution_count": null,
   "id": "6969d824",
   "metadata": {},
   "outputs": [],
   "source": []
  },
  {
   "cell_type": "code",
   "execution_count": null,
   "id": "e280769d",
   "metadata": {},
   "outputs": [],
   "source": []
  },
  {
   "cell_type": "code",
   "execution_count": null,
   "id": "0ebe72b3",
   "metadata": {},
   "outputs": [],
   "source": []
  },
  {
   "cell_type": "code",
   "execution_count": null,
   "id": "5b85e8f1",
   "metadata": {},
   "outputs": [],
   "source": []
  }
 ],
 "metadata": {
  "kernelspec": {
   "display_name": "Python 3 (ipykernel)",
   "language": "python",
   "name": "python3"
  },
  "language_info": {
   "codemirror_mode": {
    "name": "ipython",
    "version": 3
   },
   "file_extension": ".py",
   "mimetype": "text/x-python",
   "name": "python",
   "nbconvert_exporter": "python",
   "pygments_lexer": "ipython3",
   "version": "3.9.12"
  }
 },
 "nbformat": 4,
 "nbformat_minor": 5
}
