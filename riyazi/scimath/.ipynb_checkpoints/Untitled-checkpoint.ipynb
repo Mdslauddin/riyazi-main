{
 "cells": [
  {
   "cell_type": "code",
   "execution_count": 9,
   "id": "387221c3",
   "metadata": {},
   "outputs": [],
   "source": [
    "from math import cos ,pi,sin\n",
    "def complexRoot(n):\n",
    "    \"\"\"For negative Nth roots\"\"\"\n",
    "    return cos(pi/n) + complex(0,1) * sin(pi / n)\n"
   ]
  },
  {
   "cell_type": "code",
   "execution_count": 12,
   "id": "7ef03f84",
   "metadata": {},
   "outputs": [
    {
     "data": {
      "text/plain": [
       "(0.9659258262890683+0.25881904510252074j)"
      ]
     },
     "execution_count": 12,
     "metadata": {},
     "output_type": "execute_result"
    }
   ],
   "source": [
    "complexRoot(12)"
   ]
  },
  {
   "cell_type": "code",
   "execution_count": null,
   "id": "ba5e9c81",
   "metadata": {},
   "outputs": [],
   "source": []
  }
 ],
 "metadata": {
  "kernelspec": {
   "display_name": "Python 3 (ipykernel)",
   "language": "python",
   "name": "python3"
  },
  "language_info": {
   "codemirror_mode": {
    "name": "ipython",
    "version": 3
   },
   "file_extension": ".py",
   "mimetype": "text/x-python",
   "name": "python",
   "nbconvert_exporter": "python",
   "pygments_lexer": "ipython3",
   "version": "3.9.12"
  }
 },
 "nbformat": 4,
 "nbformat_minor": 5
}
