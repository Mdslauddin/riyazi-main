{
 "cells": [
  {
   "cell_type": "markdown",
   "id": "6f4efd4d",
   "metadata": {},
   "source": [
    "### `Sine (sin)`\n",
    "\n",
    "### `Cosine (cos)`\n",
    "\n",
    "### `Tangent (tan)`\n",
    "\n",
    "### `Cosecant (csc, cosec)`\n",
    "\n",
    "### `Secant (sec)`\n",
    "\n",
    "### `Cotangent (cot)`"
   ]
  },
  {
   "cell_type": "code",
   "execution_count": 1,
   "id": "b8c02412",
   "metadata": {},
   "outputs": [],
   "source": [
    "e = 2.718281828459045\n",
    "pi = 3.141592653589793\n",
    "def sin(X):\n",
    "    global e\n",
    "    return((e**(X*1j)).imag)\n",
    "\n",
    "def cos(X):\n",
    "    global e\n",
    "    return((e**(X*1j)).real)\n"
   ]
  },
  {
   "cell_type": "code",
   "execution_count": 2,
   "id": "a957f007",
   "metadata": {
    "scrolled": true
   },
   "outputs": [
    {
     "data": {
      "text/plain": [
       "-0.45990349068959124"
      ]
     },
     "execution_count": 2,
     "metadata": {},
     "output_type": "execute_result"
    }
   ],
   "source": [
    "sin(123)"
   ]
  },
  {
   "cell_type": "code",
   "execution_count": 3,
   "id": "f051cda2",
   "metadata": {},
   "outputs": [
    {
     "data": {
      "text/plain": [
       "0.8600694058124532"
      ]
     },
     "execution_count": 3,
     "metadata": {},
     "output_type": "execute_result"
    }
   ],
   "source": [
    "sin(89)"
   ]
  },
  {
   "cell_type": "code",
   "execution_count": 4,
   "id": "85069e9a",
   "metadata": {
    "scrolled": true
   },
   "outputs": [
    {
     "data": {
      "text/plain": [
       "-0.8879689066918555"
      ]
     },
     "execution_count": 4,
     "metadata": {},
     "output_type": "execute_result"
    }
   ],
   "source": [
    "cos(123)"
   ]
  },
  {
   "cell_type": "code",
   "execution_count": 5,
   "id": "d1d88ce1",
   "metadata": {
    "scrolled": true
   },
   "outputs": [
    {
     "data": {
      "text/plain": [
       "-0.4480736161291701"
      ]
     },
     "execution_count": 5,
     "metadata": {},
     "output_type": "execute_result"
    }
   ],
   "source": [
    "cos(90)"
   ]
  },
  {
   "cell_type": "code",
   "execution_count": 6,
   "id": "c7af7ad4",
   "metadata": {},
   "outputs": [],
   "source": [
    "eucler= 2.71828182845904523536028747135266249"
   ]
  },
  {
   "cell_type": "code",
   "execution_count": 7,
   "id": "987855e2",
   "metadata": {},
   "outputs": [],
   "source": [
    "def tan(x):\n",
    "    x = sin(x)/cos(x)\n",
    "    return x "
   ]
  },
  {
   "cell_type": "code",
   "execution_count": 8,
   "id": "644fff08",
   "metadata": {},
   "outputs": [
    {
     "data": {
      "text/plain": [
       "0.5179274715856551"
      ]
     },
     "execution_count": 8,
     "metadata": {},
     "output_type": "execute_result"
    }
   ],
   "source": [
    "tan(123)"
   ]
  },
  {
   "cell_type": "code",
   "execution_count": 9,
   "id": "84d77433",
   "metadata": {},
   "outputs": [
    {
     "data": {
      "text/plain": [
       "-25.092534979676543"
      ]
     },
     "execution_count": 9,
     "metadata": {},
     "output_type": "execute_result"
    }
   ],
   "source": [
    "tan(99)"
   ]
  },
  {
   "cell_type": "code",
   "execution_count": null,
   "id": "22f0bc73",
   "metadata": {},
   "outputs": [],
   "source": []
  },
  {
   "cell_type": "code",
   "execution_count": null,
   "id": "1de7b8aa",
   "metadata": {},
   "outputs": [],
   "source": []
  },
  {
   "cell_type": "code",
   "execution_count": null,
   "id": "d3567848",
   "metadata": {},
   "outputs": [],
   "source": []
  },
  {
   "cell_type": "code",
   "execution_count": 10,
   "id": "9ed4ac45",
   "metadata": {},
   "outputs": [],
   "source": [
    "# cotangent \n",
    "def cot(x):\n",
    "    x = cos(x)/sin(x)\n",
    "    return x "
   ]
  },
  {
   "cell_type": "code",
   "execution_count": 11,
   "id": "719c415c",
   "metadata": {},
   "outputs": [
    {
     "data": {
      "text/plain": [
       "-0.022132174807980413"
      ]
     },
     "execution_count": 11,
     "metadata": {},
     "output_type": "execute_result"
    }
   ],
   "source": [
    "cot(55)"
   ]
  },
  {
   "cell_type": "code",
   "execution_count": 12,
   "id": "52619633",
   "metadata": {},
   "outputs": [
    {
     "data": {
      "text/plain": [
       "1.4841196952007008"
      ]
     },
     "execution_count": 12,
     "metadata": {},
     "output_type": "execute_result"
    }
   ],
   "source": [
    "cot(54)"
   ]
  },
  {
   "cell_type": "code",
   "execution_count": 13,
   "id": "c1f51e13",
   "metadata": {},
   "outputs": [
    {
     "data": {
      "text/plain": [
       "2.705136048886654"
      ]
     },
     "execution_count": 13,
     "metadata": {},
     "output_type": "execute_result"
    }
   ],
   "source": [
    "cot(1235)"
   ]
  },
  {
   "cell_type": "code",
   "execution_count": null,
   "id": "80f0851f",
   "metadata": {},
   "outputs": [],
   "source": []
  },
  {
   "cell_type": "code",
   "execution_count": 14,
   "id": "9748206a",
   "metadata": {},
   "outputs": [],
   "source": [
    "# secant \n",
    "def sec(x):\n",
    "    x = 1/ cos(x)\n",
    "    return x "
   ]
  },
  {
   "cell_type": "code",
   "execution_count": 15,
   "id": "b69e3f3d",
   "metadata": {},
   "outputs": [
    {
     "data": {
      "text/plain": [
       "-1.0000391751399944"
      ]
     },
     "execution_count": 15,
     "metadata": {},
     "output_type": "execute_result"
    }
   ],
   "source": [
    "sec(22)"
   ]
  },
  {
   "cell_type": "code",
   "execution_count": 16,
   "id": "9ac569c2",
   "metadata": {},
   "outputs": [
    {
     "data": {
      "text/plain": [
       "-1.1065714569251388"
      ]
     },
     "execution_count": 16,
     "metadata": {},
     "output_type": "execute_result"
    }
   ],
   "source": [
    "sec(35)"
   ]
  },
  {
   "cell_type": "code",
   "execution_count": null,
   "id": "4c079146",
   "metadata": {},
   "outputs": [],
   "source": []
  },
  {
   "cell_type": "code",
   "execution_count": null,
   "id": "fdfd6d21",
   "metadata": {},
   "outputs": [],
   "source": []
  },
  {
   "cell_type": "code",
   "execution_count": null,
   "id": "0d80ec2e",
   "metadata": {},
   "outputs": [],
   "source": []
  },
  {
   "cell_type": "code",
   "execution_count": 17,
   "id": "d35e3bd7",
   "metadata": {},
   "outputs": [],
   "source": [
    "# cosecant \n",
    "def cosec(x):\n",
    "    x  = 1 /sin(x)\n",
    "    return x "
   ]
  },
  {
   "cell_type": "code",
   "execution_count": 18,
   "id": "47fd6a64",
   "metadata": {},
   "outputs": [
    {
     "data": {
      "text/plain": [
       "-10.289981358246639"
      ]
     },
     "execution_count": 18,
     "metadata": {},
     "output_type": "execute_result"
    }
   ],
   "source": [
    "cosec(113)"
   ]
  },
  {
   "cell_type": "code",
   "execution_count": 19,
   "id": "fa6ec467",
   "metadata": {},
   "outputs": [
    {
     "data": {
      "text/plain": [
       "-1.8636795977824385"
      ]
     },
     "execution_count": 19,
     "metadata": {},
     "output_type": "execute_result"
    }
   ],
   "source": [
    "cosec(12)"
   ]
  },
  {
   "cell_type": "code",
   "execution_count": null,
   "id": "9ddc9068",
   "metadata": {},
   "outputs": [],
   "source": []
  },
  {
   "cell_type": "code",
   "execution_count": null,
   "id": "b0a3d1ce",
   "metadata": {},
   "outputs": [],
   "source": []
  },
  {
   "cell_type": "code",
   "execution_count": null,
   "id": "183d7c48",
   "metadata": {},
   "outputs": [],
   "source": []
  },
  {
   "cell_type": "markdown",
   "id": "60f94b38",
   "metadata": {},
   "source": [
    "### `inverse Sine (arcsin)`\n",
    "\n",
    "### `inverse Cosine (arccos)`\n",
    "\n",
    "### `inverse Tangent (arctan)`\n",
    "\n",
    "### `inverse Cotanget (arccot)`\n",
    "\n",
    "###  `inverse Secant (arcsec)`\n",
    "\n",
    "###  `inverse Cosecant (arccsc)`"
   ]
  },
  {
   "cell_type": "code",
   "execution_count": null,
   "id": "bd58431f",
   "metadata": {},
   "outputs": [],
   "source": []
  },
  {
   "cell_type": "code",
   "execution_count": null,
   "id": "4cda02e0",
   "metadata": {},
   "outputs": [],
   "source": []
  },
  {
   "cell_type": "code",
   "execution_count": null,
   "id": "0c358a6c",
   "metadata": {},
   "outputs": [],
   "source": []
  },
  {
   "cell_type": "code",
   "execution_count": null,
   "id": "dd6dd40f",
   "metadata": {},
   "outputs": [],
   "source": []
  },
  {
   "cell_type": "code",
   "execution_count": null,
   "id": "43915b0b",
   "metadata": {},
   "outputs": [],
   "source": []
  },
  {
   "cell_type": "code",
   "execution_count": null,
   "id": "1784454a",
   "metadata": {},
   "outputs": [],
   "source": []
  },
  {
   "cell_type": "code",
   "execution_count": null,
   "id": "631b16d1",
   "metadata": {},
   "outputs": [],
   "source": []
  },
  {
   "cell_type": "code",
   "execution_count": null,
   "id": "87db24e7",
   "metadata": {},
   "outputs": [],
   "source": []
  },
  {
   "cell_type": "code",
   "execution_count": null,
   "id": "0adddae6",
   "metadata": {},
   "outputs": [],
   "source": []
  },
  {
   "cell_type": "code",
   "execution_count": null,
   "id": "9aaf9bbb",
   "metadata": {},
   "outputs": [],
   "source": []
  },
  {
   "cell_type": "code",
   "execution_count": null,
   "id": "84b6f4bb",
   "metadata": {},
   "outputs": [],
   "source": []
  },
  {
   "cell_type": "code",
   "execution_count": null,
   "id": "48476470",
   "metadata": {},
   "outputs": [],
   "source": []
  },
  {
   "cell_type": "markdown",
   "id": "c3940053",
   "metadata": {},
   "source": [
    "### `Hyperbolic Sine (sinh)`\n",
    "\n",
    "###  `Hyperbolic Cosine (cosh)`\n",
    "\n",
    "###  `Hyperbolic Tangent (tanh)`\n",
    "\n",
    "### `Hyperbolic Cotangent (coth)`\n",
    "\n",
    "### `Hyperbolic Secant (sech)`\n",
    "\n",
    "### `Hyperbolic Cosecant (csch)` \n",
    "\n"
   ]
  },
  {
   "cell_type": "code",
   "execution_count": null,
   "id": "025e9d9c",
   "metadata": {},
   "outputs": [],
   "source": []
  },
  {
   "cell_type": "code",
   "execution_count": null,
   "id": "ea7704b3",
   "metadata": {},
   "outputs": [],
   "source": []
  },
  {
   "cell_type": "code",
   "execution_count": null,
   "id": "d093003e",
   "metadata": {},
   "outputs": [],
   "source": []
  },
  {
   "cell_type": "code",
   "execution_count": null,
   "id": "ea8acc26",
   "metadata": {},
   "outputs": [],
   "source": []
  },
  {
   "cell_type": "code",
   "execution_count": null,
   "id": "66fc940d",
   "metadata": {},
   "outputs": [],
   "source": []
  },
  {
   "cell_type": "code",
   "execution_count": null,
   "id": "ed1d5259",
   "metadata": {},
   "outputs": [],
   "source": []
  },
  {
   "cell_type": "code",
   "execution_count": null,
   "id": "5b3d60ab",
   "metadata": {},
   "outputs": [],
   "source": []
  },
  {
   "cell_type": "code",
   "execution_count": null,
   "id": "215a382c",
   "metadata": {},
   "outputs": [],
   "source": []
  },
  {
   "cell_type": "code",
   "execution_count": null,
   "id": "bf926588",
   "metadata": {},
   "outputs": [],
   "source": []
  },
  {
   "cell_type": "code",
   "execution_count": null,
   "id": "5336388c",
   "metadata": {},
   "outputs": [],
   "source": []
  },
  {
   "cell_type": "code",
   "execution_count": null,
   "id": "b086e64d",
   "metadata": {},
   "outputs": [],
   "source": []
  },
  {
   "cell_type": "code",
   "execution_count": null,
   "id": "d4f1d90a",
   "metadata": {},
   "outputs": [],
   "source": []
  },
  {
   "cell_type": "code",
   "execution_count": null,
   "id": "252d50c9",
   "metadata": {},
   "outputs": [],
   "source": []
  },
  {
   "cell_type": "code",
   "execution_count": null,
   "id": "4d7786c6",
   "metadata": {},
   "outputs": [],
   "source": []
  },
  {
   "cell_type": "code",
   "execution_count": null,
   "id": "e577ed00",
   "metadata": {},
   "outputs": [],
   "source": []
  },
  {
   "cell_type": "code",
   "execution_count": null,
   "id": "2c0f76e4",
   "metadata": {},
   "outputs": [],
   "source": []
  },
  {
   "cell_type": "code",
   "execution_count": null,
   "id": "2d7351a6",
   "metadata": {},
   "outputs": [],
   "source": []
  },
  {
   "cell_type": "code",
   "execution_count": null,
   "id": "7b3da649",
   "metadata": {},
   "outputs": [],
   "source": []
  },
  {
   "cell_type": "code",
   "execution_count": null,
   "id": "ec4de0aa",
   "metadata": {},
   "outputs": [],
   "source": []
  },
  {
   "cell_type": "code",
   "execution_count": null,
   "id": "ac510a3c",
   "metadata": {},
   "outputs": [],
   "source": []
  },
  {
   "cell_type": "code",
   "execution_count": null,
   "id": "aba071df",
   "metadata": {},
   "outputs": [],
   "source": []
  },
  {
   "cell_type": "markdown",
   "id": "57d77d6f",
   "metadata": {},
   "source": [
    "### `inverse Hyperbolic Sine (asinh)`\n",
    "\n",
    "###  `inverse Hyperbolic Cosine (acosh)`\n",
    "\n",
    "###  `inverse Hyperbolic Tangent (atanh)`\n",
    "\n",
    "### `inverse Hyperbolic Cotangent (acoth)`\n",
    "\n",
    "### `inverse Hyperbolic Secant (asech)`\n",
    "\n",
    "### `inverse Hyperbolic Cosecant (acsch)` \n",
    "\n"
   ]
  },
  {
   "cell_type": "code",
   "execution_count": null,
   "id": "287dc354",
   "metadata": {},
   "outputs": [],
   "source": []
  }
 ],
 "metadata": {
  "kernelspec": {
   "display_name": "Python 3 (ipykernel)",
   "language": "python",
   "name": "python3"
  },
  "language_info": {
   "codemirror_mode": {
    "name": "ipython",
    "version": 3
   },
   "file_extension": ".py",
   "mimetype": "text/x-python",
   "name": "python",
   "nbconvert_exporter": "python",
   "pygments_lexer": "ipython3",
   "version": "3.9.12"
  }
 },
 "nbformat": 4,
 "nbformat_minor": 5
}
