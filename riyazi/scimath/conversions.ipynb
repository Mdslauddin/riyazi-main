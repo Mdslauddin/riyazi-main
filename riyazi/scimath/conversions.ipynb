{
 "cells": [
  {
   "cell_type": "markdown",
   "id": "4305598f",
   "metadata": {},
   "source": [
    "# Binary \n",
    "\n",
    "# Octal \n",
    "\n",
    "# Decimal \n",
    "\n",
    "# Hexa-decimal "
   ]
  },
  {
   "cell_type": "markdown",
   "id": "c0dc8eac",
   "metadata": {},
   "source": [
    "### `Binary to Octal Converts` \n",
    "\n",
    "### `Binary to Decimal Converts`\n",
    "\n",
    "### `Binary to hexa-decimal Converts` "
   ]
  },
  {
   "cell_type": "markdown",
   "id": "5c89f238",
   "metadata": {},
   "source": [
    "### "
   ]
  },
  {
   "cell_type": "code",
   "execution_count": null,
   "id": "445720f7",
   "metadata": {},
   "outputs": [],
   "source": []
  }
 ],
 "metadata": {
  "kernelspec": {
   "display_name": "Python 3 (ipykernel)",
   "language": "python",
   "name": "python3"
  },
  "language_info": {
   "codemirror_mode": {
    "name": "ipython",
    "version": 3
   },
   "file_extension": ".py",
   "mimetype": "text/x-python",
   "name": "python",
   "nbconvert_exporter": "python",
   "pygments_lexer": "ipython3",
   "version": "3.9.12"
  }
 },
 "nbformat": 4,
 "nbformat_minor": 5
}
