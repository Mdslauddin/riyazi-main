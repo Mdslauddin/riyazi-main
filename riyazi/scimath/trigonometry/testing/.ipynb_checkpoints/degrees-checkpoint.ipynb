{
 "cells": [
  {
   "cell_type": "code",
   "execution_count": 1,
   "id": "582e1550",
   "metadata": {},
   "outputs": [],
   "source": [
    "import math "
   ]
  },
  {
   "cell_type": "code",
   "execution_count": null,
   "id": "a27f558d",
   "metadata": {},
   "outputs": [],
   "source": []
  },
  {
   "cell_type": "code",
   "execution_count": 12,
   "id": "a0df8b55",
   "metadata": {},
   "outputs": [],
   "source": [
    "e = 2.718281828459045\n",
    "pi = 3.141592653589793\n",
    "def sin(X):\n",
    "    global e\n",
    "    x  = math.radians(X)\n",
    "    return((e**(x*1j)).imag)\n",
    "\n",
    "def cos(X):\n",
    "    global e\n",
    "    return((e**(X*1j)).real)"
   ]
  },
  {
   "cell_type": "code",
   "execution_count": 13,
   "id": "01f38c30",
   "metadata": {},
   "outputs": [
    {
     "data": {
      "text/plain": [
       "0.9998476951563913"
      ]
     },
     "execution_count": 13,
     "metadata": {},
     "output_type": "execute_result"
    }
   ],
   "source": [
    "sin(89)"
   ]
  },
  {
   "cell_type": "code",
   "execution_count": 14,
   "id": "b0745905",
   "metadata": {
    "scrolled": true
   },
   "outputs": [
    {
     "data": {
      "text/plain": [
       "1.5533430342749532"
      ]
     },
     "execution_count": 14,
     "metadata": {},
     "output_type": "execute_result"
    }
   ],
   "source": [
    "math.radians(89)"
   ]
  },
  {
   "cell_type": "code",
   "execution_count": null,
   "id": "c987ec91",
   "metadata": {},
   "outputs": [],
   "source": []
  }
 ],
 "metadata": {
  "kernelspec": {
   "display_name": "Python 3 (ipykernel)",
   "language": "python",
   "name": "python3"
  },
  "language_info": {
   "codemirror_mode": {
    "name": "ipython",
    "version": 3
   },
   "file_extension": ".py",
   "mimetype": "text/x-python",
   "name": "python",
   "nbconvert_exporter": "python",
   "pygments_lexer": "ipython3",
   "version": "3.9.12"
  }
 },
 "nbformat": 4,
 "nbformat_minor": 5
}
