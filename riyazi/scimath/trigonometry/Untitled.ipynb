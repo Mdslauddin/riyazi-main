{
 "cells": [
  {
   "cell_type": "markdown",
   "id": "bc0fd5b2",
   "metadata": {},
   "source": [
    "# [Source code for trigonometric functions calculations](https://stackoverflow.com/questions/23876260/source-code-for-trigonometric-functions-calculations/23876542#23876542)"
   ]
  },
  {
   "cell_type": "code",
   "execution_count": null,
   "id": "7e482c43",
   "metadata": {},
   "outputs": [],
   "source": []
  }
 ],
 "metadata": {
  "kernelspec": {
   "display_name": "Python 3 (ipykernel)",
   "language": "python",
   "name": "python3"
  },
  "language_info": {
   "codemirror_mode": {
    "name": "ipython",
    "version": 3
   },
   "file_extension": ".py",
   "mimetype": "text/x-python",
   "name": "python",
   "nbconvert_exporter": "python",
   "pygments_lexer": "ipython3",
   "version": "3.9.12"
  }
 },
 "nbformat": 4,
 "nbformat_minor": 5
}
