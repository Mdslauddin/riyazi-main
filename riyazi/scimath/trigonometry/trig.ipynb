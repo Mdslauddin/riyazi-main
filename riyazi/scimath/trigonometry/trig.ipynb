{
 "cells": [
  {
   "cell_type": "markdown",
   "id": "6f4efd4d",
   "metadata": {},
   "source": [
    "### `Sine (sin)`\n",
    "\n",
    "### `Cosine (cos)`\n",
    "\n",
    "### `Tangent (tan)`\n",
    "\n",
    "### `Cosecant (csc, cosec)`\n",
    "\n",
    "### `Secant (sec)`\n",
    "\n",
    "### `Cotangent (cot)`"
   ]
  },
  {
   "cell_type": "code",
   "execution_count": null,
   "id": "b8c02412",
   "metadata": {},
   "outputs": [],
   "source": [
    "e = 2.718281828459045\n",
    "pi = 3.141592653589793\n",
    "def sin(X):\n",
    "    global e\n",
    "    return((e**(X*1j)).imag )\n",
    "\n",
    "def cos(X):\n",
    "    global e\n",
    "    return((e**(X*1j)).real)\n"
   ]
  },
  {
   "cell_type": "code",
   "execution_count": null,
   "id": "a957f007",
   "metadata": {
    "scrolled": true
   },
   "outputs": [],
   "source": [
    "sin(890)"
   ]
  },
  {
   "cell_type": "code",
   "execution_count": null,
   "id": "5176b53a",
   "metadata": {},
   "outputs": [],
   "source": [
    "sin(89+2j)"
   ]
  },
  {
   "cell_type": "code",
   "execution_count": null,
   "id": "ebf83e49",
   "metadata": {},
   "outputs": [],
   "source": [
    "sin(8j)"
   ]
  },
  {
   "cell_type": "code",
   "execution_count": null,
   "id": "f26979f6",
   "metadata": {},
   "outputs": [],
   "source": [
    "import cmath as cm"
   ]
  },
  {
   "cell_type": "code",
   "execution_count": null,
   "id": "009b8507",
   "metadata": {},
   "outputs": [],
   "source": [
    "cm.sin(89+2j)"
   ]
  },
  {
   "cell_type": "code",
   "execution_count": null,
   "id": "f051cda2",
   "metadata": {},
   "outputs": [],
   "source": [
    "sin(89)"
   ]
  },
  {
   "cell_type": "code",
   "execution_count": null,
   "id": "85069e9a",
   "metadata": {
    "scrolled": true
   },
   "outputs": [],
   "source": [
    "cos(123)"
   ]
  },
  {
   "cell_type": "code",
   "execution_count": null,
   "id": "d1d88ce1",
   "metadata": {
    "scrolled": true
   },
   "outputs": [],
   "source": [
    "cos(90)"
   ]
  },
  {
   "cell_type": "code",
   "execution_count": null,
   "id": "c7af7ad4",
   "metadata": {},
   "outputs": [],
   "source": [
    "eucler= 2.71828182845904523536028747135266249"
   ]
  },
  {
   "cell_type": "code",
   "execution_count": null,
   "id": "987855e2",
   "metadata": {},
   "outputs": [],
   "source": [
    "def tan(x):\n",
    "    x = sin(x)/cos(x)\n",
    "    return x "
   ]
  },
  {
   "cell_type": "code",
   "execution_count": null,
   "id": "644fff08",
   "metadata": {},
   "outputs": [],
   "source": [
    "tan(123)"
   ]
  },
  {
   "cell_type": "code",
   "execution_count": null,
   "id": "84d77433",
   "metadata": {},
   "outputs": [],
   "source": [
    "tan(99)"
   ]
  },
  {
   "cell_type": "code",
   "execution_count": null,
   "id": "22f0bc73",
   "metadata": {},
   "outputs": [],
   "source": []
  },
  {
   "cell_type": "code",
   "execution_count": null,
   "id": "1de7b8aa",
   "metadata": {},
   "outputs": [],
   "source": []
  },
  {
   "cell_type": "code",
   "execution_count": null,
   "id": "d3567848",
   "metadata": {},
   "outputs": [],
   "source": []
  },
  {
   "cell_type": "code",
   "execution_count": null,
   "id": "9ed4ac45",
   "metadata": {},
   "outputs": [],
   "source": [
    "# cotangent \n",
    "def cot(x):\n",
    "    x = cos(x)/sin(x)\n",
    "    return x "
   ]
  },
  {
   "cell_type": "code",
   "execution_count": null,
   "id": "719c415c",
   "metadata": {},
   "outputs": [],
   "source": [
    "cot(55)"
   ]
  },
  {
   "cell_type": "code",
   "execution_count": null,
   "id": "52619633",
   "metadata": {},
   "outputs": [],
   "source": [
    "cot(54)"
   ]
  },
  {
   "cell_type": "code",
   "execution_count": null,
   "id": "c1f51e13",
   "metadata": {},
   "outputs": [],
   "source": [
    "cot(1235)"
   ]
  },
  {
   "cell_type": "code",
   "execution_count": null,
   "id": "80f0851f",
   "metadata": {},
   "outputs": [],
   "source": []
  },
  {
   "cell_type": "code",
   "execution_count": null,
   "id": "9748206a",
   "metadata": {},
   "outputs": [],
   "source": [
    "# secant \n",
    "def sec(x):\n",
    "    x = 1/ cos(x)\n",
    "    return x "
   ]
  },
  {
   "cell_type": "code",
   "execution_count": null,
   "id": "b69e3f3d",
   "metadata": {},
   "outputs": [],
   "source": [
    "sec(22)"
   ]
  },
  {
   "cell_type": "code",
   "execution_count": null,
   "id": "9ac569c2",
   "metadata": {},
   "outputs": [],
   "source": [
    "sec(35)"
   ]
  },
  {
   "cell_type": "code",
   "execution_count": null,
   "id": "4c079146",
   "metadata": {},
   "outputs": [],
   "source": []
  },
  {
   "cell_type": "code",
   "execution_count": null,
   "id": "fdfd6d21",
   "metadata": {},
   "outputs": [],
   "source": []
  },
  {
   "cell_type": "code",
   "execution_count": null,
   "id": "0d80ec2e",
   "metadata": {},
   "outputs": [],
   "source": []
  },
  {
   "cell_type": "code",
   "execution_count": null,
   "id": "d35e3bd7",
   "metadata": {},
   "outputs": [],
   "source": [
    "# cosecant \n",
    "def cosec(x):\n",
    "    x  = 1 /sin(x)\n",
    "    return x "
   ]
  },
  {
   "cell_type": "code",
   "execution_count": null,
   "id": "47fd6a64",
   "metadata": {},
   "outputs": [],
   "source": [
    "cosec(113)"
   ]
  },
  {
   "cell_type": "code",
   "execution_count": null,
   "id": "fa6ec467",
   "metadata": {},
   "outputs": [],
   "source": [
    "cosec(12)"
   ]
  },
  {
   "cell_type": "code",
   "execution_count": null,
   "id": "9ddc9068",
   "metadata": {},
   "outputs": [],
   "source": []
  },
  {
   "cell_type": "code",
   "execution_count": null,
   "id": "b0a3d1ce",
   "metadata": {},
   "outputs": [],
   "source": []
  },
  {
   "cell_type": "code",
   "execution_count": null,
   "id": "183d7c48",
   "metadata": {},
   "outputs": [],
   "source": []
  },
  {
   "cell_type": "markdown",
   "id": "60f94b38",
   "metadata": {},
   "source": [
    "### `inverse Sine (arcsin)`\n",
    "\n",
    "### `inverse Cosine (arccos)`\n",
    "\n",
    "### `inverse Tangent (arctan)`\n",
    "\n",
    "### `inverse Cotanget (arccot)`\n",
    "\n",
    "###  `inverse Secant (arcsec)`\n",
    "\n",
    "###  `inverse Cosecant (arccsc)`"
   ]
  },
  {
   "cell_type": "code",
   "execution_count": null,
   "id": "bd58431f",
   "metadata": {},
   "outputs": [],
   "source": [
    "from cmath import sqrt,log\n",
    "def asin(x):\n",
    "    return (-1j * log(1j * x + sqrt(1 - (x ** 2)))).real"
   ]
  },
  {
   "cell_type": "code",
   "execution_count": null,
   "id": "4cda02e0",
   "metadata": {},
   "outputs": [],
   "source": [
    "from cmath import sqrt,log\n",
    "def acos(x):\n",
    "    return (-1j * log(x- 1j * sqrt(1 - (x ** 2)))).real"
   ]
  },
  {
   "cell_type": "code",
   "execution_count": null,
   "id": "0c358a6c",
   "metadata": {},
   "outputs": [],
   "source": [
    "from cmath import sqrt,log\n",
    "def atan(x):\n",
    "    return (1j * (log(1 - x * 1j) - log(1 + x * 1j)) / 2).real"
   ]
  },
  {
   "cell_type": "code",
   "execution_count": null,
   "id": "dd6dd40f",
   "metadata": {},
   "outputs": [],
   "source": [
    "def divide(x,y):\n",
    "    return(x/y)\n",
    "def acsc(x):\n",
    "    return asin(divide(1 , x))"
   ]
  },
  {
   "cell_type": "code",
   "execution_count": null,
   "id": "43915b0b",
   "metadata": {},
   "outputs": [],
   "source": [
    "def asec(x):\n",
    "    return acos(divide(1 , x))"
   ]
  },
  {
   "cell_type": "code",
   "execution_count": null,
   "id": "1784454a",
   "metadata": {},
   "outputs": [],
   "source": [
    "def acot(x):\n",
    "    return atan(divide(1 , x))"
   ]
  },
  {
   "cell_type": "code",
   "execution_count": null,
   "id": "631b16d1",
   "metadata": {},
   "outputs": [],
   "source": []
  },
  {
   "cell_type": "code",
   "execution_count": null,
   "id": "87db24e7",
   "metadata": {},
   "outputs": [],
   "source": []
  },
  {
   "cell_type": "code",
   "execution_count": null,
   "id": "0adddae6",
   "metadata": {},
   "outputs": [],
   "source": []
  },
  {
   "cell_type": "code",
   "execution_count": null,
   "id": "9aaf9bbb",
   "metadata": {},
   "outputs": [],
   "source": []
  },
  {
   "cell_type": "code",
   "execution_count": null,
   "id": "84b6f4bb",
   "metadata": {},
   "outputs": [],
   "source": []
  },
  {
   "cell_type": "code",
   "execution_count": null,
   "id": "48476470",
   "metadata": {},
   "outputs": [],
   "source": []
  },
  {
   "cell_type": "markdown",
   "id": "c3940053",
   "metadata": {},
   "source": [
    "### `Hyperbolic Sine (sinh)`\n",
    "\n",
    "###  `Hyperbolic Cosine (cosh)`\n",
    "\n",
    "###  `Hyperbolic Tangent (tanh)`\n",
    "\n",
    "### `Hyperbolic Cotangent (coth)`\n",
    "\n",
    "### `Hyperbolic Secant (sech)`\n",
    "\n",
    "### `Hyperbolic Cosecant (csch)` \n",
    "\n"
   ]
  },
  {
   "cell_type": "code",
   "execution_count": null,
   "id": "d093003e",
   "metadata": {},
   "outputs": [],
   "source": [
    "e=2.7182818284\n",
    "def sinh(x,/):\n",
    "    \"\"\"Return the hyperbolic sine of x.\"\"\"\n",
    "    x = (e**x - e**(-x))/2\n",
    "    return x "
   ]
  },
  {
   "cell_type": "code",
   "execution_count": null,
   "id": "ea8acc26",
   "metadata": {},
   "outputs": [],
   "source": [
    "e=2.7182818284\n",
    "def cosh(x,/):\n",
    "    \"\"\"Return the hyperbolic sine of x.\"\"\"\n",
    "    x = (e**x + e**(-x))/2\n",
    "    return x "
   ]
  },
  {
   "cell_type": "code",
   "execution_count": null,
   "id": "66fc940d",
   "metadata": {},
   "outputs": [],
   "source": [
    "def tanh(x,/):\n",
    "    x = (e**x - e**(-x)) / (e**x + e**(-x))\n",
    "    return x "
   ]
  },
  {
   "cell_type": "code",
   "execution_count": null,
   "id": "ed1d5259",
   "metadata": {},
   "outputs": [],
   "source": [
    "def coth(x,/):\n",
    "    x = (e**x + e**(-x)) / (e**x - e**(-x))\n",
    "    return x"
   ]
  },
  {
   "cell_type": "code",
   "execution_count": null,
   "id": "5b3d60ab",
   "metadata": {},
   "outputs": [],
   "source": [
    "def sech(x,/):\n",
    "    x = 2/ (e**x + e**(-x)) # 1/ ((e**x + e**(-x))/2)\n",
    "    return x"
   ]
  },
  {
   "cell_type": "code",
   "execution_count": null,
   "id": "215a382c",
   "metadata": {},
   "outputs": [],
   "source": [
    "def csch(x,/):\n",
    "    if ( x != 0):\n",
    "        \n",
    "        x = 1 / ((e**x - e**(-x))/2)\n",
    "        return x \n",
    "    else:\n",
    "        print(\"Domain error\")"
   ]
  },
  {
   "cell_type": "code",
   "execution_count": null,
   "id": "bf926588",
   "metadata": {},
   "outputs": [],
   "source": []
  },
  {
   "cell_type": "code",
   "execution_count": null,
   "id": "ec4de0aa",
   "metadata": {},
   "outputs": [],
   "source": []
  },
  {
   "cell_type": "markdown",
   "id": "57d77d6f",
   "metadata": {},
   "source": [
    "### `inverse Hyperbolic Sine (asinh)`\n",
    "\n",
    "###  `inverse Hyperbolic Cosine (acosh)`\n",
    "\n",
    "###  `inverse Hyperbolic Tangent (atanh)`\n",
    "\n",
    "### `inverse Hyperbolic Cotangent (acoth)`\n",
    "\n",
    "### `inverse Hyperbolic Secant (asech)`\n",
    "\n",
    "### `inverse Hyperbolic Cosecant (acsch)` \n",
    "\n"
   ]
  },
  {
   "cell_type": "code",
   "execution_count": null,
   "id": "025e9d9c",
   "metadata": {},
   "outputs": [],
   "source": [
    "import math\n",
    "def arsinh(x,/):\n",
    "    x = math.log(x + (x**2+1)**0.5)\n",
    "    return x "
   ]
  },
  {
   "cell_type": "code",
   "execution_count": null,
   "id": "ea7704b3",
   "metadata": {},
   "outputs": [],
   "source": [
    "import math\n",
    "def arcosh(x,/):\n",
    "    x = math.log(x + (x**2-1)**0.5)\n",
    "    return x "
   ]
  },
  {
   "cell_type": "code",
   "execution_count": null,
   "id": "287dc354",
   "metadata": {},
   "outputs": [],
   "source": [
    "import math \n",
    "def artanh(x,/):\n",
    "    x = 0.5 * math.log((1+x) / (1-x))\n",
    "    return x "
   ]
  },
  {
   "cell_type": "code",
   "execution_count": null,
   "id": "c9d637f3",
   "metadata": {},
   "outputs": [],
   "source": [
    "def arcoth(x,/):\n",
    "    x = (1/2)* math.log((x+1) / (x-1))\n",
    "    return x "
   ]
  },
  {
   "cell_type": "code",
   "execution_count": null,
   "id": "3c0920ae",
   "metadata": {},
   "outputs": [],
   "source": [
    "def arsech(x,/):\n",
    "    x = math.log((1+(1-x**2)**0.5) /x)\n",
    "    return x "
   ]
  },
  {
   "cell_type": "code",
   "execution_count": null,
   "id": "30b91c98",
   "metadata": {},
   "outputs": [],
   "source": [
    "def arcsch(x,/):\n",
    "    x = math.log((1/x)+ ((1/x**2)+1)**0.5)\n",
    "    return x "
   ]
  },
  {
   "cell_type": "code",
   "execution_count": null,
   "id": "2f7677d5",
   "metadata": {},
   "outputs": [],
   "source": []
  }
 ],
 "metadata": {
  "kernelspec": {
   "display_name": "Python 3 (ipykernel)",
   "language": "python",
   "name": "python3"
  },
  "language_info": {
   "codemirror_mode": {
    "name": "ipython",
    "version": 3
   },
   "file_extension": ".py",
   "mimetype": "text/x-python",
   "name": "python",
   "nbconvert_exporter": "python",
   "pygments_lexer": "ipython3",
   "version": "3.9.12"
  }
 },
 "nbformat": 4,
 "nbformat_minor": 5
}
