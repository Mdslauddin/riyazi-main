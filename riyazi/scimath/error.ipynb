{
 "cells": [
  {
   "cell_type": "markdown",
   "id": "b5bf87df",
   "metadata": {},
   "source": [
    "# Approximate "
   ]
  },
  {
   "cell_type": "code",
   "execution_count": null,
   "id": "f93595a8",
   "metadata": {},
   "outputs": [],
   "source": [
    "# https://www.thermopedia.com/content/737/\n",
    "# from cmath import sqrt\n",
    "\n",
    "from math import sqrt,pi,e\n",
    "def erf(x):\n",
    "    return 1-(1/sqrt(pi*x))*e**(-x**2)"
   ]
  },
  {
   "cell_type": "code",
   "execution_count": null,
   "id": "f5454e8f",
   "metadata": {},
   "outputs": [],
   "source": []
  },
  {
   "cell_type": "markdown",
   "id": "fd97a2d7",
   "metadata": {},
   "source": [
    "https://math.stackexchange.com/questions/tagged/error-function"
   ]
  },
  {
   "cell_type": "markdown",
   "id": "08865c51",
   "metadata": {},
   "source": [
    "https://www.gaussianwaves.com/2012/07/q-function-and-error-functions/"
   ]
  },
  {
   "cell_type": "markdown",
   "id": "797a5ec5",
   "metadata": {},
   "source": [
    "https://scipy-lectures.org/advanced/mathematical_optimization/"
   ]
  },
  {
   "cell_type": "markdown",
   "id": "bd7dc317",
   "metadata": {},
   "source": [
    "https://www.programiz.com/python-programming/modules/math"
   ]
  },
  {
   "cell_type": "markdown",
   "id": "5d154799",
   "metadata": {},
   "source": [
    "https://www.dcode.fr/error-function"
   ]
  },
  {
   "cell_type": "markdown",
   "id": "1c2352fb",
   "metadata": {},
   "source": [
    "https://en.wikipedia.org/wiki/Taylor_series"
   ]
  },
  {
   "cell_type": "markdown",
   "id": "14645e0c",
   "metadata": {},
   "source": [
    "https://en.wikipedia.org/wiki/Error_function"
   ]
  },
  {
   "cell_type": "markdown",
   "id": "1d02e911",
   "metadata": {},
   "source": [
    "https://en.wikipedia.org/wiki/Taylor_series"
   ]
  },
  {
   "cell_type": "markdown",
   "id": "6ae54872",
   "metadata": {},
   "source": [
    "https://www.chegg.com/homework-help/questions-and-answers/4-2-question-approximate-gauss-error-function-erf-x-6-72-dt-penye-using-power-series-expan-q68903645"
   ]
  }
 ],
 "metadata": {
  "kernelspec": {
   "display_name": "Python 3 (ipykernel)",
   "language": "python",
   "name": "python3"
  },
  "language_info": {
   "codemirror_mode": {
    "name": "ipython",
    "version": 3
   },
   "file_extension": ".py",
   "mimetype": "text/x-python",
   "name": "python",
   "nbconvert_exporter": "python",
   "pygments_lexer": "ipython3",
   "version": "3.9.12"
  }
 },
 "nbformat": 4,
 "nbformat_minor": 5
}
