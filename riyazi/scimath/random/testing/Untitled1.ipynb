{
 "cells": [
  {
   "cell_type": "code",
   "execution_count": null,
   "id": "880f2965",
   "metadata": {},
   "outputs": [],
   "source": [
    "import random\n",
    "import rasutil\n",
    "import re\n",
    "import readline\n",
    "import regcheck\n",
    "import regex\n",
    "import regutil\n",
    "import repo_cli\n",
    "import reprlib\n",
    "import requests\n",
    "import requests_file"
   ]
  },
  {
   "cell_type": "code",
   "execution_count": null,
   "id": "cb37dd22",
   "metadata": {},
   "outputs": [],
   "source": [
    "random.random()"
   ]
  },
  {
   "cell_type": "code",
   "execution_count": null,
   "id": "7d816f1f",
   "metadata": {},
   "outputs": [],
   "source": [
    "random.random()"
   ]
  },
  {
   "cell_type": "code",
   "execution_count": null,
   "id": "07bd66c3",
   "metadata": {},
   "outputs": [],
   "source": [
    "random.random()"
   ]
  },
  {
   "cell_type": "code",
   "execution_count": null,
   "id": "38939117",
   "metadata": {},
   "outputs": [],
   "source": [
    "random.random()"
   ]
  },
  {
   "cell_type": "code",
   "execution_count": null,
   "id": "62ccb3de",
   "metadata": {},
   "outputs": [],
   "source": [
    "random.random()"
   ]
  },
  {
   "cell_type": "code",
   "execution_count": null,
   "id": "cab41308",
   "metadata": {},
   "outputs": [],
   "source": [
    "def randoms():\n",
    "    \"\"\"\n",
    "    random() -> x in the interval [0, 1).\n",
    "    \"\"\"\n",
    "    return random.random()"
   ]
  },
  {
   "cell_type": "code",
   "execution_count": null,
   "id": "3e823fce",
   "metadata": {},
   "outputs": [],
   "source": [
    "randoms()"
   ]
  },
  {
   "cell_type": "code",
   "execution_count": null,
   "id": "9bf029f8",
   "metadata": {
    "scrolled": false
   },
   "outputs": [],
   "source": [
    "random.randint(2,10)"
   ]
  },
  {
   "cell_type": "code",
   "execution_count": null,
   "id": "37ffff09",
   "metadata": {},
   "outputs": [],
   "source": [
    "import numpy as np"
   ]
  },
  {
   "cell_type": "code",
   "execution_count": null,
   "id": "989638e5",
   "metadata": {},
   "outputs": [],
   "source": [
    "np.random.rand(2)"
   ]
  },
  {
   "cell_type": "code",
   "execution_count": null,
   "id": "c41442fb",
   "metadata": {},
   "outputs": [],
   "source": [
    "def rand():\n",
    "    return 1/3"
   ]
  },
  {
   "cell_type": "code",
   "execution_count": null,
   "id": "131dcb06",
   "metadata": {},
   "outputs": [],
   "source": []
  },
  {
   "cell_type": "code",
   "execution_count": 3,
   "id": "39609fe0",
   "metadata": {},
   "outputs": [],
   "source": [
    "import sys"
   ]
  },
  {
   "cell_type": "code",
   "execution_count": 4,
   "id": "12251ad1",
   "metadata": {},
   "outputs": [
    {
     "ename": "TypeError",
     "evalue": "call_tracing expected 2 arguments, got 1",
     "output_type": "error",
     "traceback": [
      "\u001b[1;31m---------------------------------------------------------------------------\u001b[0m",
      "\u001b[1;31mTypeError\u001b[0m                                 Traceback (most recent call last)",
      "Input \u001b[1;32mIn [4]\u001b[0m, in \u001b[0;36m<cell line: 1>\u001b[1;34m()\u001b[0m\n\u001b[1;32m----> 1\u001b[0m \u001b[43msys\u001b[49m\u001b[38;5;241;43m.\u001b[39;49m\u001b[43mcall_tracing\u001b[49m\u001b[43m(\u001b[49m\u001b[43mrand\u001b[49m\u001b[43m)\u001b[49m\n",
      "\u001b[1;31mTypeError\u001b[0m: call_tracing expected 2 arguments, got 1"
     ]
    }
   ],
   "source": [
    "sys.call_tracing(rand,)"
   ]
  },
  {
   "cell_type": "code",
   "execution_count": 7,
   "id": "c3078091",
   "metadata": {},
   "outputs": [],
   "source": [
    "import random\n",
    "def rand():\n",
    "    return random.random()"
   ]
  },
  {
   "cell_type": "code",
   "execution_count": 8,
   "id": "8391d7e5",
   "metadata": {},
   "outputs": [
    {
     "data": {
      "text/plain": [
       "0.4685569165675657"
      ]
     },
     "execution_count": 8,
     "metadata": {},
     "output_type": "execute_result"
    }
   ],
   "source": [
    "rand()"
   ]
  },
  {
   "cell_type": "code",
   "execution_count": 10,
   "id": "7ac7dc53",
   "metadata": {
    "scrolled": true
   },
   "outputs": [
    {
     "data": {
      "text/plain": [
       "10"
      ]
     },
     "execution_count": 10,
     "metadata": {},
     "output_type": "execute_result"
    }
   ],
   "source": [
    "random.randint(2,100)"
   ]
  },
  {
   "cell_type": "code",
   "execution_count": 11,
   "id": "c5a0c24b",
   "metadata": {},
   "outputs": [],
   "source": [
    "def randint(a,b):\n",
    "    return random.randint(a,b)"
   ]
  },
  {
   "cell_type": "code",
   "execution_count": 13,
   "id": "84d243de",
   "metadata": {},
   "outputs": [
    {
     "data": {
      "text/plain": [
       "24"
      ]
     },
     "execution_count": 13,
     "metadata": {},
     "output_type": "execute_result"
    }
   ],
   "source": [
    "randint(3,100)"
   ]
  },
  {
   "cell_type": "code",
   "execution_count": 17,
   "id": "9502197a",
   "metadata": {},
   "outputs": [
    {
     "data": {
      "text/plain": [
       "b'\\x9f'"
      ]
     },
     "execution_count": 17,
     "metadata": {},
     "output_type": "execute_result"
    }
   ],
   "source": [
    "random.randbytes(1)"
   ]
  },
  {
   "cell_type": "code",
   "execution_count": 18,
   "id": "54786a7e",
   "metadata": {},
   "outputs": [],
   "source": [
    "def randbytes(n):\n",
    "    return random.randbytes(n)"
   ]
  },
  {
   "cell_type": "code",
   "execution_count": null,
   "id": "f79f472e",
   "metadata": {},
   "outputs": [],
   "source": [
    "random.randrange()"
   ]
  },
  {
   "cell_type": "code",
   "execution_count": 19,
   "id": "f20577cc",
   "metadata": {},
   "outputs": [],
   "source": [
    "def randrange(start, stop=None, step=1):\n",
    "    return random.randrange(start, stop=None, step=1)"
   ]
  },
  {
   "cell_type": "code",
   "execution_count": 21,
   "id": "3818f966",
   "metadata": {},
   "outputs": [
    {
     "data": {
      "text/plain": [
       "5"
      ]
     },
     "execution_count": 21,
     "metadata": {},
     "output_type": "execute_result"
    }
   ],
   "source": [
    "x= [3,4,5,5]\n",
    "random.choice(x)"
   ]
  },
  {
   "cell_type": "code",
   "execution_count": 22,
   "id": "5fcacb1f",
   "metadata": {},
   "outputs": [],
   "source": [
    "def choice(seq):\n",
    "    return random.choice(x)"
   ]
  },
  {
   "cell_type": "code",
   "execution_count": 24,
   "id": "5268c8c6",
   "metadata": {},
   "outputs": [
    {
     "ename": "TypeError",
     "evalue": "The number of choices must be a keyword argument: k=2",
     "output_type": "error",
     "traceback": [
      "\u001b[1;31m---------------------------------------------------------------------------\u001b[0m",
      "\u001b[1;31mTypeError\u001b[0m                                 Traceback (most recent call last)",
      "Input \u001b[1;32mIn [24]\u001b[0m, in \u001b[0;36m<cell line: 1>\u001b[1;34m()\u001b[0m\n\u001b[1;32m----> 1\u001b[0m \u001b[43mrandom\u001b[49m\u001b[38;5;241;43m.\u001b[39;49m\u001b[43mchoices\u001b[49m\u001b[43m(\u001b[49m\u001b[43m[\u001b[49m\u001b[38;5;241;43m5\u001b[39;49m\u001b[43m,\u001b[49m\u001b[38;5;241;43m6\u001b[39;49m\u001b[43m]\u001b[49m\u001b[43m,\u001b[49m\u001b[38;5;241;43m2\u001b[39;49m\u001b[43m)\u001b[49m\n",
      "File \u001b[1;32mD:\\Anaconda\\lib\\random.py:493\u001b[0m, in \u001b[0;36mRandom.choices\u001b[1;34m(self, population, weights, cum_weights, k)\u001b[0m\n\u001b[0;32m    491\u001b[0m             \u001b[38;5;28;01mraise\u001b[39;00m\n\u001b[0;32m    492\u001b[0m         k \u001b[38;5;241m=\u001b[39m weights\n\u001b[1;32m--> 493\u001b[0m         \u001b[38;5;28;01mraise\u001b[39;00m \u001b[38;5;167;01mTypeError\u001b[39;00m(\n\u001b[0;32m    494\u001b[0m             \u001b[38;5;124mf\u001b[39m\u001b[38;5;124m'\u001b[39m\u001b[38;5;124mThe number of choices must be a keyword argument: \u001b[39m\u001b[38;5;132;01m{\u001b[39;00mk\u001b[38;5;132;01m=}\u001b[39;00m\u001b[38;5;124m'\u001b[39m\n\u001b[0;32m    495\u001b[0m         ) \u001b[38;5;28;01mfrom\u001b[39;00m \u001b[38;5;28mNone\u001b[39m\n\u001b[0;32m    496\u001b[0m \u001b[38;5;28;01melif\u001b[39;00m weights \u001b[38;5;129;01mis\u001b[39;00m \u001b[38;5;129;01mnot\u001b[39;00m \u001b[38;5;28;01mNone\u001b[39;00m:\n\u001b[0;32m    497\u001b[0m     \u001b[38;5;28;01mraise\u001b[39;00m \u001b[38;5;167;01mTypeError\u001b[39;00m(\u001b[38;5;124m'\u001b[39m\u001b[38;5;124mCannot specify both weights and cumulative weights\u001b[39m\u001b[38;5;124m'\u001b[39m)\n",
      "\u001b[1;31mTypeError\u001b[0m: The number of choices must be a keyword argument: k=2"
     ]
    }
   ],
   "source": [
    "random.choices([5,6],2)"
   ]
  },
  {
   "cell_type": "code",
   "execution_count": 25,
   "id": "8bc41c1b",
   "metadata": {},
   "outputs": [
    {
     "ename": "TypeError",
     "evalue": "sample() missing 2 required positional arguments: 'population' and 'k'",
     "output_type": "error",
     "traceback": [
      "\u001b[1;31m---------------------------------------------------------------------------\u001b[0m",
      "\u001b[1;31mTypeError\u001b[0m                                 Traceback (most recent call last)",
      "Input \u001b[1;32mIn [25]\u001b[0m, in \u001b[0;36m<cell line: 1>\u001b[1;34m()\u001b[0m\n\u001b[1;32m----> 1\u001b[0m \u001b[43mrandom\u001b[49m\u001b[38;5;241;43m.\u001b[39;49m\u001b[43msample\u001b[49m\u001b[43m(\u001b[49m\u001b[43m)\u001b[49m\n",
      "\u001b[1;31mTypeError\u001b[0m: sample() missing 2 required positional arguments: 'population' and 'k'"
     ]
    }
   ],
   "source": [
    "random.sample()"
   ]
  },
  {
   "cell_type": "code",
   "execution_count": 29,
   "id": "49a74dc8",
   "metadata": {},
   "outputs": [],
   "source": [
    "random.seed(0)"
   ]
  },
  {
   "cell_type": "code",
   "execution_count": 31,
   "id": "a2fdccde",
   "metadata": {},
   "outputs": [
    {
     "data": {
      "text/plain": [
       "0.7579544029403025"
      ]
     },
     "execution_count": 31,
     "metadata": {},
     "output_type": "execute_result"
    }
   ],
   "source": [
    "random.random()"
   ]
  },
  {
   "cell_type": "code",
   "execution_count": null,
   "id": "2e5f61bd",
   "metadata": {},
   "outputs": [],
   "source": []
  }
 ],
 "metadata": {
  "kernelspec": {
   "display_name": "Python 3 (ipykernel)",
   "language": "python",
   "name": "python3"
  },
  "language_info": {
   "codemirror_mode": {
    "name": "ipython",
    "version": 3
   },
   "file_extension": ".py",
   "mimetype": "text/x-python",
   "name": "python",
   "nbconvert_exporter": "python",
   "pygments_lexer": "ipython3",
   "version": "3.9.12"
  }
 },
 "nbformat": 4,
 "nbformat_minor": 5
}
