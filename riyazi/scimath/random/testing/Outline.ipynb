{
 "cells": [
  {
   "cell_type": "markdown",
   "id": "ca24f73b",
   "metadata": {},
   "source": [
    "# Random sampling\n",
    "\n",
    "### Simple random data"
   ]
  },
  {
   "cell_type": "markdown",
   "id": "3eb83941",
   "metadata": {},
   "source": [
    "\n",
    "**`rand`(d0, d1, ..., dn)\tRandom values in a given shape.**\n",
    "\n",
    "**`randn`(d0, d1, ..., dn)\tReturn a sample (or samples) from the “standard normal” distribution.**\n",
    "\n",
    "**`randint`(low[, high, size, dtype])\tReturn random integers from low (inclusive) to high (exclusive).**\n",
    "\n",
    "**`random_integers`(low[, high, size])\tRandom integers of type np.int between low and high, inclusive.**\n",
    "\n",
    "**`random_sample`([size])\tReturn random floats in the half-open interval [0.0, 1.0).**\n",
    "\n",
    "**`random` ([size])\tReturn random floats in the half-open interval [0.0, 1.0).**\n",
    "\n",
    "**`ranf` ([size])\tReturn random floats in the half-open interval [0.0, 1.0).**\n",
    "\n",
    "\n",
    "**`sample` ([size])\tReturn random floats in the half-open interval [0.0, 1.0).**\n",
    "\n",
    "**`choice`(a[, size, replace, p])\tGenerates a random sample from a given 1-D array**\n",
    "\n",
    "**`bytes`(length)\tReturn random bytes.**"
   ]
  },
  {
   "cell_type": "markdown",
   "id": "1fc2afb8",
   "metadata": {},
   "source": [
    "# https://docs.scipy.org/doc/numpy-1.14.0/reference/routines.random.html"
   ]
  },
  {
   "cell_type": "markdown",
   "id": "e12ca63c",
   "metadata": {},
   "source": [
    "https://github.com/python/cpython/blob/main/Lib/random.py"
   ]
  },
  {
   "cell_type": "raw",
   "id": "8261f3ec",
   "metadata": {},
   "source": [
    "1. np.random.random()\n",
    "2. np.random.randint()\n",
    "3. np.random.seed()\n",
    "4. np.random.rand()\n",
    "5. np.random.randn()\n",
    "6. np.random.choice()\n",
    "7. np.random.permutation()"
   ]
  },
  {
   "cell_type": "code",
   "execution_count": 1,
   "id": "416f39f1",
   "metadata": {},
   "outputs": [],
   "source": [
    "import numpy as np"
   ]
  },
  {
   "cell_type": "code",
   "execution_count": 8,
   "id": "ecc88f5a",
   "metadata": {
    "scrolled": false
   },
   "outputs": [
    {
     "data": {
      "text/plain": [
       "array([[0.62425728, 0.46060449, 0.53186621, 0.274369  ],\n",
       "       [0.58280466, 0.49269813, 0.58104088, 0.3154825 ],\n",
       "       [0.45536802, 0.28356991, 0.71749316, 0.65718874]])"
      ]
     },
     "execution_count": 8,
     "metadata": {},
     "output_type": "execute_result"
    }
   ],
   "source": [
    "np.random.rand(3,4)"
   ]
  },
  {
   "cell_type": "code",
   "execution_count": 10,
   "id": "ef2c706a",
   "metadata": {
    "scrolled": true
   },
   "outputs": [
    {
     "data": {
      "text/plain": [
       "array([[-0.21366133,  0.40092218,  0.4111987 ,  0.49973803],\n",
       "       [ 0.14211902,  0.58156513, -0.09406859, -0.59138823],\n",
       "       [ 0.78069845, -0.47167278,  1.70239639,  0.54464974]])"
      ]
     },
     "execution_count": 10,
     "metadata": {},
     "output_type": "execute_result"
    }
   ],
   "source": [
    "np.random.randn(3,4)"
   ]
  },
  {
   "cell_type": "code",
   "execution_count": 29,
   "id": "f9cdace3",
   "metadata": {
    "scrolled": true
   },
   "outputs": [
    {
     "data": {
      "text/plain": [
       "8"
      ]
     },
     "execution_count": 29,
     "metadata": {},
     "output_type": "execute_result"
    }
   ],
   "source": [
    "np.random.randint(3,10)"
   ]
  },
  {
   "cell_type": "code",
   "execution_count": 16,
   "id": "8f86f0d7",
   "metadata": {},
   "outputs": [
    {
     "name": "stderr",
     "output_type": "stream",
     "text": [
      "C:\\Users\\md slauddin\\AppData\\Local\\Temp\\ipykernel_20044\\1753085756.py:1: DeprecationWarning: This function is deprecated. Please call randint(3, 10 + 1) instead\n",
      "  np.random.random_integers(3,10)\n"
     ]
    },
    {
     "data": {
      "text/plain": [
       "8"
      ]
     },
     "execution_count": 16,
     "metadata": {},
     "output_type": "execute_result"
    }
   ],
   "source": [
    "np.random.random_integers(3,10)"
   ]
  },
  {
   "cell_type": "code",
   "execution_count": 30,
   "id": "68ff76be",
   "metadata": {},
   "outputs": [
    {
     "data": {
      "text/plain": [
       "array([0.56029555, 0.67842967, 0.54730938, 0.68540442])"
      ]
     },
     "execution_count": 30,
     "metadata": {},
     "output_type": "execute_result"
    }
   ],
   "source": [
    "np.random.random_sample(4)"
   ]
  },
  {
   "cell_type": "code",
   "execution_count": 32,
   "id": "98009c30",
   "metadata": {},
   "outputs": [
    {
     "data": {
      "text/plain": [
       "0.4381525927543639"
      ]
     },
     "execution_count": 32,
     "metadata": {},
     "output_type": "execute_result"
    }
   ],
   "source": [
    "np.random.random()"
   ]
  },
  {
   "cell_type": "code",
   "execution_count": 33,
   "id": "bf0772ae",
   "metadata": {},
   "outputs": [
    {
     "data": {
      "text/plain": [
       "array([0.8728921 , 0.42934679, 0.40767094])"
      ]
     },
     "execution_count": 33,
     "metadata": {},
     "output_type": "execute_result"
    }
   ],
   "source": [
    "np.random.ranf(3)"
   ]
  },
  {
   "cell_type": "code",
   "execution_count": 34,
   "id": "3cf83f48",
   "metadata": {},
   "outputs": [
    {
     "data": {
      "text/plain": [
       "array([0.27429421, 0.28172373, 0.55254783])"
      ]
     },
     "execution_count": 34,
     "metadata": {},
     "output_type": "execute_result"
    }
   ],
   "source": [
    "np.random.sample(3)"
   ]
  },
  {
   "cell_type": "code",
   "execution_count": 40,
   "id": "83768539",
   "metadata": {},
   "outputs": [
    {
     "data": {
      "text/plain": [
       "array([[1, 4],\n",
       "       [2, 1]])"
      ]
     },
     "execution_count": 40,
     "metadata": {},
     "output_type": "execute_result"
    }
   ],
   "source": [
    "np.random.choice([1,2,3,4],(2,2))"
   ]
  },
  {
   "cell_type": "code",
   "execution_count": 41,
   "id": "80c63a6a",
   "metadata": {},
   "outputs": [
    {
     "data": {
      "text/plain": [
       "b'\\xf8]'"
      ]
     },
     "execution_count": 41,
     "metadata": {},
     "output_type": "execute_result"
    }
   ],
   "source": [
    "np.random.bytes(2)"
   ]
  },
  {
   "cell_type": "raw",
   "id": "29defe47",
   "metadata": {},
   "source": [
    " random.seed([X], version=2)                    # Initialization of the random number generator. If X is not specified, the system time is used.\n",
    " random.getstate()                              # The internal state of the generator.\n",
    " random.setstate(state)                         # Restores the internal state of the generator. The state parameter must be obtained by the getstate () function.\n",
    " random.getrandbits(N)                          # Returns N random bits.\n",
    " random.randrange(start, stop, step)            # Returns a randomly selected number from the sequence.\n",
    " random.randint(A, B)                           # Random integer N, A ≤ N ≤ B.\n",
    " random.choice(sequence)                        # A random element of a non-empty sequence.\n",
    " random.random()                                # A random number from 0 to 1.\n",
    " random.uniform(A, B)                           # A random floating-point number, A ≤ N ≤ B (or B ≤ N ≤ A).\n",
    " random.sample(population, k)                   # A list of length k from the population sequence.\n",
    " random.triangular(low, high, mode)             # A random floating-point number, low ≤ N ≤ high. Mode-distribution.\n",
    " random.shuffle(sequence, [rand])               # Shuffles the sequence (the sequence itself changes). Therefore, the function does not work for immutable objects.\n",
    " random.betavariate(alpha, beta)                # Beta distribution. alpha>0, beta>0. Returns from 0 to 1.\n",
    " random.expovariate(lambd)                      # Exponential distribution. lambd is equal to 1/the desired average. The Lambd must be non-zero.\n",
    " random.gammavariate(alpha, beta)               # Gamma distribution. Conditions for the parameters alpha>0 and beta>0.\n",
    " random.gauss(value, standard deviation)        # The Gaussian distribution.\n",
    " random.lognormvariate(mu, sigma)               # The logarithm of the normal distribution.\n",
    " random.normalvariate(mu, sigma)                # Normal distribution. mu is the average value, sigma is the standard deviation.\n",
    " random.vonmisesvariate(mu, kappa)              # mu is the average angle expressed in radians from 0 to 2π, and kappa is the concentration parameter, which must be greater than or equal to zero.\n",
    " random.paretovariate(alpha)                    # Pareto distribution.\n",
    " random.weibullvariate(alpha, beta)             # The Weibull distribution."
   ]
  },
  {
   "cell_type": "markdown",
   "id": "cf0597a6",
   "metadata": {},
   "source": [
    "https://pythonsansar.com/random-module-in-python/#:~:text=Random%20Module%20in%20Python%201%20Introduction%20The%20random,value%20from%20a%20sequence%2C%20and%20so%20on.%20"
   ]
  },
  {
   "cell_type": "markdown",
   "id": "0028ddce",
   "metadata": {},
   "source": [
    "file:///C:/Users/md%20slauddin/AppData/Local/Microsoft/Windows/INetCache/IE/BCKERTVE/What%20Are%20Random%20Numbers%20and%20How%20Are%20They%20Used_[1].mhtml"
   ]
  },
  {
   "cell_type": "markdown",
   "id": "3e8c3f25",
   "metadata": {},
   "source": [
    "https://www.quora.com/Are-there-any-algorithms-that-use-a-random-number-generator"
   ]
  },
  {
   "cell_type": "markdown",
   "id": "81c51356",
   "metadata": {},
   "source": [
    "https://en.wikipedia.org/wiki/List_of_random_number_generators"
   ]
  },
  {
   "cell_type": "code",
   "execution_count": 42,
   "id": "88e44fad",
   "metadata": {},
   "outputs": [],
   "source": [
    "import numpy as np"
   ]
  },
  {
   "cell_type": "code",
   "execution_count": 43,
   "id": "44d273c2",
   "metadata": {},
   "outputs": [],
   "source": [
    "def normal_dist(x , mean , sd):\n",
    "    prob_density = (np.pi*sd) * np.exp(-0.5*((x-mean)/sd)**2)\n",
    "    return prob_density\n",
    " "
   ]
  },
  {
   "cell_type": "code",
   "execution_count": 47,
   "id": "3fadd36a",
   "metadata": {},
   "outputs": [
    {
     "data": {
      "text/plain": [
       "6.283185307179586"
      ]
     },
     "execution_count": 47,
     "metadata": {},
     "output_type": "execute_result"
    }
   ],
   "source": [
    "normal_dist(2,2,2)"
   ]
  },
  {
   "cell_type": "code",
   "execution_count": null,
   "id": "fefad209",
   "metadata": {},
   "outputs": [],
   "source": []
  }
 ],
 "metadata": {
  "kernelspec": {
   "display_name": "Python 3 (ipykernel)",
   "language": "python",
   "name": "python3"
  },
  "language_info": {
   "codemirror_mode": {
    "name": "ipython",
    "version": 3
   },
   "file_extension": ".py",
   "mimetype": "text/x-python",
   "name": "python",
   "nbconvert_exporter": "python",
   "pygments_lexer": "ipython3",
   "version": "3.9.12"
  }
 },
 "nbformat": 4,
 "nbformat_minor": 5
}
