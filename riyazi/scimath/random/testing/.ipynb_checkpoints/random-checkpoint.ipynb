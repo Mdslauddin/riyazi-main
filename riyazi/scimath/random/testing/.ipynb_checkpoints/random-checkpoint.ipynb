{
 "cells": [
  {
   "cell_type": "code",
   "execution_count": null,
   "id": "47cdf476",
   "metadata": {},
   "outputs": [],
   "source": [
    "from time import time\n",
    "\n",
    "def time_random():\n",
    "    return time() - float(str(time()).split('.')[0])\n",
    "\n",
    "def randint(a,b):\n",
    "    \"\"\"\n",
    "    return random integer in range [a, b], including both end points.\n",
    "    \n",
    "    \"\"\"\n",
    "    return int(time_random()* (max([b])-min([a]))+min([a]))"
   ]
  },
  {
   "cell_type": "code",
   "execution_count": null,
   "id": "aac72294",
   "metadata": {},
   "outputs": [],
   "source": []
  },
  {
   "cell_type": "code",
   "execution_count": 21,
   "id": "7e3567ff",
   "metadata": {},
   "outputs": [],
   "source": [
    "from time import time\n",
    "\n",
    "def time_random():\n",
    "    return time() - float(str(time()).split('.')[0])\n",
    "\n",
    "def betavariate(alpha,beta):\n",
    "    \"\"\"\n",
    "    Beta distribution.\n",
    "\n",
    "    Conditions on the parameters are alpha > 0 and beta > 0.\n",
    "    Returned values range between 0 and 1.\n",
    "    \n",
    "    \"\"\"\n",
    "    if alpha > 0 and beta > 0:\n",
    "        floats = (time_random()* (max([b])-min([a]))+min([a]))\n",
    "        integers = int(floats)\n",
    "        res = floats - integers\n",
    "        return res"
   ]
  },
  {
   "cell_type": "code",
   "execution_count": 48,
   "id": "9984c002",
   "metadata": {
    "scrolled": true
   },
   "outputs": [
    {
     "data": {
      "text/plain": [
       "0.9943363666534424"
      ]
     },
     "execution_count": 48,
     "metadata": {},
     "output_type": "execute_result"
    }
   ],
   "source": [
    "betavariate(0,1)"
   ]
  },
  {
   "cell_type": "code",
   "execution_count": 13,
   "id": "aed60286",
   "metadata": {},
   "outputs": [],
   "source": [
    "import random \n"
   ]
  },
  {
   "cell_type": "code",
   "execution_count": 50,
   "id": "ce3417b6",
   "metadata": {
    "scrolled": true
   },
   "outputs": [],
   "source": [
    "# random.betavariate(0,0)"
   ]
  },
  {
   "cell_type": "code",
   "execution_count": 18,
   "id": "bb332181",
   "metadata": {},
   "outputs": [],
   "source": [
    "y = 3.5848\n",
    "x = int(3.5848)"
   ]
  },
  {
   "cell_type": "code",
   "execution_count": 19,
   "id": "3d5509c4",
   "metadata": {},
   "outputs": [],
   "source": [
    "x = y-x"
   ]
  },
  {
   "cell_type": "code",
   "execution_count": 20,
   "id": "60dea261",
   "metadata": {},
   "outputs": [
    {
     "data": {
      "text/plain": [
       "0.5848"
      ]
     },
     "execution_count": 20,
     "metadata": {},
     "output_type": "execute_result"
    }
   ],
   "source": [
    "x"
   ]
  },
  {
   "cell_type": "code",
   "execution_count": 55,
   "id": "b964a595",
   "metadata": {},
   "outputs": [
    {
     "ename": "TypeError",
     "evalue": "'int' object is not callable",
     "output_type": "error",
     "traceback": [
      "\u001b[1;31m---------------------------------------------------------------------------\u001b[0m",
      "\u001b[1;31mTypeError\u001b[0m                                 Traceback (most recent call last)",
      "Input \u001b[1;32mIn [55]\u001b[0m, in \u001b[0;36m<cell line: 1>\u001b[1;34m()\u001b[0m\n\u001b[1;32m----> 1\u001b[0m \u001b[43mrandom\u001b[49m\u001b[38;5;241;43m.\u001b[39;49m\u001b[43mBPF\u001b[49m\u001b[43m(\u001b[49m\u001b[38;5;124;43m'\u001b[39;49m\u001b[38;5;124;43m0b100\u001b[39;49m\u001b[38;5;124;43m'\u001b[39;49m\u001b[43m,\u001b[49m\u001b[43m \u001b[49m\u001b[43mbase\u001b[49m\u001b[38;5;241;43m=\u001b[39;49m\u001b[38;5;241;43m0\u001b[39;49m\u001b[43m)\u001b[49m\n",
      "\u001b[1;31mTypeError\u001b[0m: 'int' object is not callable"
     ]
    }
   ],
   "source": [
    "random.BPF()"
   ]
  },
  {
   "cell_type": "code",
   "execution_count": 52,
   "id": "e232775d",
   "metadata": {},
   "outputs": [
    {
     "data": {
      "text/plain": [
       "4"
      ]
     },
     "execution_count": 52,
     "metadata": {},
     "output_type": "execute_result"
    }
   ],
   "source": [
    " int('0b100', base=0)"
   ]
  },
  {
   "cell_type": "code",
   "execution_count": 209,
   "id": "9814d223",
   "metadata": {},
   "outputs": [
    {
     "data": {
      "text/plain": [
       "6"
      ]
     },
     "execution_count": 209,
     "metadata": {},
     "output_type": "execute_result"
    }
   ],
   "source": [
    "random.choice([1,2,3,4,5,6])"
   ]
  },
  {
   "cell_type": "code",
   "execution_count": 84,
   "id": "82f4ce2d",
   "metadata": {},
   "outputs": [],
   "source": [
    "def choice(seq):\n",
    "    return int(time_random()* (max(seq)-min(seq))+min(seq))"
   ]
  },
  {
   "cell_type": "code",
   "execution_count": 220,
   "id": "b12934cc",
   "metadata": {
    "scrolled": true
   },
   "outputs": [
    {
     "data": {
      "text/plain": [
       "4"
      ]
     },
     "execution_count": 220,
     "metadata": {},
     "output_type": "execute_result"
    }
   ],
   "source": [
    "choice([1,2,3,4,4,5,6,7,8])"
   ]
  },
  {
   "cell_type": "code",
   "execution_count": 64,
   "id": "7ffe6db6",
   "metadata": {},
   "outputs": [
    {
     "data": {
      "text/plain": [
       "3"
      ]
     },
     "execution_count": 64,
     "metadata": {},
     "output_type": "execute_result"
    }
   ],
   "source": [
    "max([1,2,3]) - min([1,2,3])+min([1,2,3])"
   ]
  },
  {
   "cell_type": "code",
   "execution_count": null,
   "id": "3e015ce3",
   "metadata": {},
   "outputs": [],
   "source": [
    "random.choices()"
   ]
  },
  {
   "cell_type": "code",
   "execution_count": 301,
   "id": "5e8c489b",
   "metadata": {
    "scrolled": false
   },
   "outputs": [
    {
     "data": {
      "text/plain": [
       "0.06858427907605189"
      ]
     },
     "execution_count": 301,
     "metadata": {},
     "output_type": "execute_result"
    }
   ],
   "source": [
    "random.expovariate(1)"
   ]
  },
  {
   "cell_type": "code",
   "execution_count": null,
   "id": "f178973f",
   "metadata": {},
   "outputs": [],
   "source": [
    "random."
   ]
  }
 ],
 "metadata": {
  "kernelspec": {
   "display_name": "Python 3 (ipykernel)",
   "language": "python",
   "name": "python3"
  },
  "language_info": {
   "codemirror_mode": {
    "name": "ipython",
    "version": 3
   },
   "file_extension": ".py",
   "mimetype": "text/x-python",
   "name": "python",
   "nbconvert_exporter": "python",
   "pygments_lexer": "ipython3",
   "version": "3.9.12"
  }
 },
 "nbformat": 4,
 "nbformat_minor": 5
}
