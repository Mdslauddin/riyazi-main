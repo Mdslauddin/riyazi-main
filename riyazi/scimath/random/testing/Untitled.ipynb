{
 "cells": [
  {
   "cell_type": "code",
   "execution_count": 28,
   "id": "bd5fb051",
   "metadata": {},
   "outputs": [
    {
     "name": "stdout",
     "output_type": "stream",
     "text": [
      "64\n"
     ]
    }
   ],
   "source": [
    "import random\n",
    "\n",
    "print(random.randint(1, 100))"
   ]
  },
  {
   "cell_type": "code",
   "execution_count": null,
   "id": "34021411",
   "metadata": {},
   "outputs": [],
   "source": []
  },
  {
   "cell_type": "code",
   "execution_count": null,
   "id": "01aa58df",
   "metadata": {},
   "outputs": [],
   "source": []
  },
  {
   "cell_type": "code",
   "execution_count": null,
   "id": "54b217eb",
   "metadata": {},
   "outputs": [],
   "source": []
  },
  {
   "cell_type": "code",
   "execution_count": 3,
   "id": "73f5923f",
   "metadata": {},
   "outputs": [],
   "source": [
    "import time\n",
    "\n",
    "def random_number(minimum,maximum):\n",
    "    now = str(time.ctime())\n",
    "    rnd = float(now[::-1][:3:])/1000\n",
    "    return minimum + rnd*(maximum-minimum)"
   ]
  },
  {
   "cell_type": "code",
   "execution_count": 13,
   "id": "a970c541",
   "metadata": {
    "scrolled": true
   },
   "outputs": [
    {
     "data": {
      "text/plain": [
       "31.36"
      ]
     },
     "execution_count": 13,
     "metadata": {},
     "output_type": "execute_result"
    }
   ],
   "source": [
    "random_number(12,100)"
   ]
  },
  {
   "cell_type": "code",
   "execution_count": null,
   "id": "e9122c2c",
   "metadata": {},
   "outputs": [],
   "source": [
    "def randint(a, b):\n",
    "    \"Return random integer in range [a, b], including both end points.\"\n",
    "    return a + randbelow(b - a + 1)\n",
    "\n",
    "def randbelow(n):\n",
    "    \"Return a random int in the range [0,n).  Raises ValueError if n<=0.\"\n",
    "    # from Lib/random.py\n",
    "    if n <= 0:\n",
    "        raise ValueError\n",
    "    k = n.bit_length()  # don't use (n-1) here because n can be 1\n",
    "    r = getrandbits(k)          # 0 <= r < 2**k\n",
    "    while r >= n: # avoid skew\n",
    "        r = getrandbits(k)\n",
    "    return r"
   ]
  },
  {
   "cell_type": "code",
   "execution_count": 16,
   "id": "736d5751",
   "metadata": {},
   "outputs": [],
   "source": [
    "from time import time\n",
    "\n",
    "def time_random():\n",
    "    return time() - float(str(time()).split('.')[0])\n",
    "\n",
    "def gen_random_range(min, max):\n",
    "    return int(time_random() * (max - min) + min)\n",
    "\n"
   ]
  },
  {
   "cell_type": "code",
   "execution_count": 35,
   "id": "59fb861b",
   "metadata": {
    "scrolled": false
   },
   "outputs": [
    {
     "data": {
      "text/plain": [
       "5"
      ]
     },
     "execution_count": 35,
     "metadata": {},
     "output_type": "execute_result"
    }
   ],
   "source": [
    "gen_random_range(1,10)"
   ]
  },
  {
   "cell_type": "code",
   "execution_count": null,
   "id": "511acc80",
   "metadata": {},
   "outputs": [],
   "source": [
    "time.ctime()"
   ]
  },
  {
   "cell_type": "code",
   "execution_count": 43,
   "id": "f729f45a",
   "metadata": {},
   "outputs": [],
   "source": [
    "from time import time\n",
    "\n",
    "def time_random():\n",
    "    return time() - float(str(time()).split('.')[0])\n",
    "\n",
    "def randint(a,b):\n",
    "    \"\"\"\n",
    "    return random integer in range [a, b], including both end points.\n",
    "    \n",
    "    \"\"\"\n",
    "    return int(time_random()* (max([b])-min([a]))+min([a]))"
   ]
  },
  {
   "cell_type": "code",
   "execution_count": 78,
   "id": "e96b9684",
   "metadata": {},
   "outputs": [
    {
     "ename": "TypeError",
     "evalue": "'module' object is not callable",
     "output_type": "error",
     "traceback": [
      "\u001b[1;31m---------------------------------------------------------------------------\u001b[0m",
      "\u001b[1;31mTypeError\u001b[0m                                 Traceback (most recent call last)",
      "Input \u001b[1;32mIn [78]\u001b[0m, in \u001b[0;36m<cell line: 1>\u001b[1;34m()\u001b[0m\n\u001b[1;32m----> 1\u001b[0m \u001b[43mtime_random\u001b[49m\u001b[43m(\u001b[49m\u001b[43m)\u001b[49m\u001b[38;5;241m*\u001b[39m\u001b[38;5;241m2\u001b[39m\n",
      "Input \u001b[1;32mIn [43]\u001b[0m, in \u001b[0;36mtime_random\u001b[1;34m()\u001b[0m\n\u001b[0;32m      3\u001b[0m \u001b[38;5;28;01mdef\u001b[39;00m \u001b[38;5;21mtime_random\u001b[39m():\n\u001b[1;32m----> 4\u001b[0m     \u001b[38;5;28;01mreturn\u001b[39;00m \u001b[43mtime\u001b[49m\u001b[43m(\u001b[49m\u001b[43m)\u001b[49m \u001b[38;5;241m-\u001b[39m \u001b[38;5;28mfloat\u001b[39m(\u001b[38;5;28mstr\u001b[39m(time())\u001b[38;5;241m.\u001b[39msplit(\u001b[38;5;124m'\u001b[39m\u001b[38;5;124m.\u001b[39m\u001b[38;5;124m'\u001b[39m)[\u001b[38;5;241m0\u001b[39m])\n",
      "\u001b[1;31mTypeError\u001b[0m: 'module' object is not callable"
     ]
    }
   ],
   "source": [
    "time_random()*2"
   ]
  },
  {
   "cell_type": "code",
   "execution_count": null,
   "id": "2a27125e",
   "metadata": {},
   "outputs": [],
   "source": []
  },
  {
   "cell_type": "code",
   "execution_count": null,
   "id": "7fa099e4",
   "metadata": {},
   "outputs": [],
   "source": []
  },
  {
   "cell_type": "code",
   "execution_count": 54,
   "id": "b32a4cc7",
   "metadata": {
    "scrolled": true
   },
   "outputs": [
    {
     "data": {
      "text/plain": [
       "9"
      ]
     },
     "execution_count": 54,
     "metadata": {},
     "output_type": "execute_result"
    }
   ],
   "source": [
    "randint(2,10)"
   ]
  },
  {
   "cell_type": "code",
   "execution_count": 55,
   "id": "b2d2fd03",
   "metadata": {},
   "outputs": [],
   "source": [
    "import time \n"
   ]
  },
  {
   "cell_type": "code",
   "execution_count": 58,
   "id": "c24f60df",
   "metadata": {},
   "outputs": [
    {
     "data": {
      "text/plain": [
       "1670047283.2082322"
      ]
     },
     "execution_count": 58,
     "metadata": {},
     "output_type": "execute_result"
    }
   ],
   "source": [
    "time.time()"
   ]
  },
  {
   "cell_type": "code",
   "execution_count": null,
   "id": "b7bb63b7",
   "metadata": {},
   "outputs": [],
   "source": [
    "time.t"
   ]
  },
  {
   "cell_type": "code",
   "execution_count": 59,
   "id": "39977378",
   "metadata": {},
   "outputs": [],
   "source": [
    "import datetime\n",
    "def rand(s,n):\n",
    "    '''\n",
    "    This function create random number between the given range, its maximum range is 6 digits\n",
    "    '''\n",
    "    s = int(s)\n",
    "    n = int(n)\n",
    "    list_sec = datetime.datetime.now()\n",
    "    last_el=str(list_sec).split('.')[-1]\n",
    "    len_str=len(str(n))\n",
    "    get_number_elements = last_el[-int(len_str):]\n",
    "    try:\n",
    "        if int(get_number_elements)<=n and int(get_number_elements)>=s:\n",
    "            return get_number_elements\n",
    "        else:\n",
    "            max_value = int('9'*len_str)\n",
    "            res = s+int(get_number_elements)*(n-s)/(max_value)\n",
    "            return res\n",
    "    except Exception as e:\n",
    "        print(e)"
   ]
  },
  {
   "cell_type": "code",
   "execution_count": 76,
   "id": "c3ea29b4",
   "metadata": {
    "scrolled": true
   },
   "outputs": [
    {
     "data": {
      "text/plain": [
       "0.6666666666666666"
      ]
     },
     "execution_count": 76,
     "metadata": {},
     "output_type": "execute_result"
    }
   ],
   "source": [
    "rand(0,1)"
   ]
  },
  {
   "cell_type": "code",
   "execution_count": 67,
   "id": "035e051c",
   "metadata": {},
   "outputs": [],
   "source": [
    "import random"
   ]
  },
  {
   "cell_type": "code",
   "execution_count": 71,
   "id": "61bfdffd",
   "metadata": {
    "scrolled": true
   },
   "outputs": [
    {
     "data": {
      "text/plain": [
       "0.04897188209271497"
      ]
     },
     "execution_count": 71,
     "metadata": {},
     "output_type": "execute_result"
    }
   ],
   "source": [
    "random.random()"
   ]
  },
  {
   "cell_type": "code",
   "execution_count": null,
   "id": "d2d43116",
   "metadata": {},
   "outputs": [],
   "source": []
  },
  {
   "cell_type": "code",
   "execution_count": null,
   "id": "9dc87c8a",
   "metadata": {},
   "outputs": [],
   "source": []
  },
  {
   "cell_type": "markdown",
   "id": "259a9ba8",
   "metadata": {},
   "source": [
    "file:///C:/Users/md%20slauddin/AppData/Local/Microsoft/Windows/INetCache/IE/HQMO6426/Python%20Random%20Function%20without%20using%20random%20module%20-%20Stack%20Overflow[1].mhtml\n"
   ]
  },
  {
   "cell_type": "code",
   "execution_count": null,
   "id": "e5a859d3",
   "metadata": {},
   "outputs": [],
   "source": []
  }
 ],
 "metadata": {
  "kernelspec": {
   "display_name": "Python 3 (ipykernel)",
   "language": "python",
   "name": "python3"
  },
  "language_info": {
   "codemirror_mode": {
    "name": "ipython",
    "version": 3
   },
   "file_extension": ".py",
   "mimetype": "text/x-python",
   "name": "python",
   "nbconvert_exporter": "python",
   "pygments_lexer": "ipython3",
   "version": "3.9.12"
  }
 },
 "nbformat": 4,
 "nbformat_minor": 5
}
