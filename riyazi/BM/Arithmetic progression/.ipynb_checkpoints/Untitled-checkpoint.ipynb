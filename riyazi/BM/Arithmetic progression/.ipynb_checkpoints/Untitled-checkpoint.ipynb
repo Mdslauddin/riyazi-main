{
 "cells": [
  {
   "cell_type": "raw",
   "id": "b487966f",
   "metadata": {},
   "source": [
    "In Mathematical behind calculating Arithmetic Progression Series\n",
    "Sum of A.P. Series : Sn = n/2(2a + (n – 1) d)\n",
    "Tn term of A.P. Series: Tn = a + (n – 1) d"
   ]
  },
  {
   "cell_type": "code",
   "execution_count": 1,
   "id": "c68b86ad",
   "metadata": {},
   "outputs": [
    {
     "name": "stdout",
     "output_type": "stream",
     "text": [
      "Enter the value of a: 2\n",
      "Enter the value of d: 3\n",
      "Enter the value of n: 4\n",
      "Sum of first n terms:  26.0\n"
     ]
    }
   ],
   "source": [
    "# 1. Take input of 'a','d' and 'n'\n",
    "a = int(input(\"Enter the value of a: \"))\n",
    "d = int(input(\"Enter the value of d: \"))\n",
    "n = int(input(\"Enter the value of n: \"))\n",
    " \n",
    "S_n = (n/2)*(2*a + (n-1)*d)\n",
    "print(\"Sum of first n terms: \", S_n)"
   ]
  },
  {
   "cell_type": "code",
   "execution_count": 2,
   "id": "ee3fa03f",
   "metadata": {},
   "outputs": [
    {
     "ename": "IndentationError",
     "evalue": "expected an indented block (2605092260.py, line 6)",
     "output_type": "error",
     "traceback": [
      "\u001b[1;36m  Input \u001b[1;32mIn [2]\u001b[1;36m\u001b[0m\n\u001b[1;33m    if a[k]-s!=c:\u001b[0m\n\u001b[1;37m    ^\u001b[0m\n\u001b[1;31mIndentationError\u001b[0m\u001b[1;31m:\u001b[0m expected an indented block\n"
     ]
    }
   ],
   "source": [
    "a=[2,6,14,18]\n",
    "N=len(a)\n",
    "c=int((a[N-1]-a[0])/N)\n",
    "s=a[0]\n",
    "for k in range(1,N):\n",
    "if a[k]-s!=c:\n",
    "print(s+c)\n",
    "break\n",
    "else:\n",
    "s=a[k]"
   ]
  },
  {
   "cell_type": "code",
   "execution_count": 3,
   "id": "9065533e",
   "metadata": {},
   "outputs": [
    {
     "name": "stdout",
     "output_type": "stream",
     "text": [
      "The  5 th term of the series is :  6\n"
     ]
    }
   ],
   "source": [
    "# Python 3 Program to\n",
    "# find nth term of\n",
    "# Arithmetic progression\n",
    "\n",
    "def Nth_of_AP(a, d, N) :\n",
    "\n",
    "\t# using formula to find the\n",
    "\t# Nth term t(n) = a(1) + (n-1)*d\n",
    "\treturn (a + (N - 1) * d)\n",
    "\t\n",
    "\n",
    "# Driver code\n",
    "a = 2 # starting number\n",
    "d = 1 # Common difference\n",
    "N = 5 # N th term to be find\n",
    "\n",
    "# Display the output\n",
    "print( \"The \", N ,\"th term of the series is : \",\n",
    "\tNth_of_AP(a, d, N))\n",
    "\n",
    "\n",
    "\n",
    "# This code is contributed\n",
    "# by Nikita Tiwari.\n"
   ]
  },
  {
   "cell_type": "code",
   "execution_count": null,
   "id": "97238be7",
   "metadata": {},
   "outputs": [],
   "source": []
  }
 ],
 "metadata": {
  "kernelspec": {
   "display_name": "Python 3 (ipykernel)",
   "language": "python",
   "name": "python3"
  },
  "language_info": {
   "codemirror_mode": {
    "name": "ipython",
    "version": 3
   },
   "file_extension": ".py",
   "mimetype": "text/x-python",
   "name": "python",
   "nbconvert_exporter": "python",
   "pygments_lexer": "ipython3",
   "version": "3.9.12"
  }
 },
 "nbformat": 4,
 "nbformat_minor": 5
}
