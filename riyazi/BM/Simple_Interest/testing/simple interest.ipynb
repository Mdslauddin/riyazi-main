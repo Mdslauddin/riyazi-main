{
 "cells": [
  {
   "cell_type": "code",
   "execution_count": 7,
   "id": "b78c4280",
   "metadata": {},
   "outputs": [],
   "source": [
    "# @ simple interest\n",
    "def si(p=None,r=None, t=None, i=None):\n",
    "    if(p and r and t !=None):\n",
    "        \"\"\"\n",
    "        simple interest calculate program \n",
    "        \n",
    "        >>> principle ,rate ,time Return -> Interest\n",
    "        >>> si(2000,5,2)\n",
    "        >>> si(p=2000, r=5, t=2)\n",
    "        \n",
    "        >>> interest, rate, time Return -> Principle\n",
    "        >>> si(i=200, r=5, t=2)\n",
    "        \n",
    "        >>> interest, principle, time Return -> Rate \n",
    "        >>> si(i=200,p=2000,t=2)\n",
    "        \n",
    "        >>> interest, principle, rate Return -> Time \n",
    "        >>> si(i=200, p=2000, r=5)\n",
    "        \n",
    "        \n",
    "        \n",
    "        \"\"\"\n",
    "    \n",
    "        i = (p*r*t) /100\n",
    "        \n",
    "        print(\"(Interest)\") \n",
    "        return i \n",
    "    \n",
    "    if(i and r and t !=None):\n",
    "        p = ((i*100)/(r*t))\n",
    "        print(\"(principle)\")\n",
    "        return p \n",
    "    \n",
    "    if(i and p and t !=None):\n",
    "        r = ((i*100)/(p*t))\n",
    "        print(\"(Rate)\")\n",
    "        return r\n",
    "    \n",
    "    if(i and p and r !=None):\n",
    "        t = ((i*100)/(p*r))\n",
    "        print(\"(Time)\")\n",
    "        return t \n",
    "    \n",
    "    \n",
    "    "
   ]
  },
  {
   "cell_type": "code",
   "execution_count": null,
   "id": "8260847b",
   "metadata": {},
   "outputs": [],
   "source": [
    "si()"
   ]
  },
  {
   "cell_type": "code",
   "execution_count": 4,
   "id": "ad1c57c5",
   "metadata": {},
   "outputs": [
    {
     "name": "stdout",
     "output_type": "stream",
     "text": [
      "(Interest)\n",
      "CPU times: total: 0 ns\n",
      "Wall time: 0 ns\n"
     ]
    },
    {
     "data": {
      "text/plain": [
       "200.0"
      ]
     },
     "execution_count": 4,
     "metadata": {},
     "output_type": "execute_result"
    }
   ],
   "source": [
    "%%time\n",
    "si(2000,5,2)"
   ]
  },
  {
   "cell_type": "code",
   "execution_count": null,
   "id": "00dd3ed2",
   "metadata": {},
   "outputs": [],
   "source": [
    "si(i=200, r=5, t=2)"
   ]
  },
  {
   "cell_type": "code",
   "execution_count": null,
   "id": "9bf350a8",
   "metadata": {},
   "outputs": [],
   "source": [
    "si(i=200, p=2000, t=2)"
   ]
  },
  {
   "cell_type": "code",
   "execution_count": null,
   "id": "57d79a3b",
   "metadata": {},
   "outputs": [],
   "source": []
  },
  {
   "cell_type": "code",
   "execution_count": null,
   "id": "a101c71d",
   "metadata": {},
   "outputs": [],
   "source": [
    "si(si=100, r=5 , t=2)"
   ]
  },
  {
   "cell_type": "code",
   "execution_count": null,
   "id": "a5960359",
   "metadata": {},
   "outputs": [],
   "source": [
    "  x = si(2000,5,2)"
   ]
  },
  {
   "cell_type": "code",
   "execution_count": null,
   "id": "f38026d8",
   "metadata": {},
   "outputs": [],
   "source": [
    "x"
   ]
  },
  {
   "cell_type": "code",
   "execution_count": null,
   "id": "84f4d9dd",
   "metadata": {},
   "outputs": [],
   "source": [
    "x[0]"
   ]
  },
  {
   "cell_type": "code",
   "execution_count": null,
   "id": "b4e50a78",
   "metadata": {},
   "outputs": [],
   "source": [
    "x[1]"
   ]
  },
  {
   "cell_type": "code",
   "execution_count": null,
   "id": "431bc345",
   "metadata": {},
   "outputs": [],
   "source": [
    "x[2]"
   ]
  },
  {
   "cell_type": "code",
   "execution_count": null,
   "id": "5467aca7",
   "metadata": {},
   "outputs": [],
   "source": [
    "a*4"
   ]
  },
  {
   "cell_type": "code",
   "execution_count": null,
   "id": "16d9811a",
   "metadata": {},
   "outputs": [],
   "source": []
  }
 ],
 "metadata": {
  "kernelspec": {
   "display_name": "Python 3 (ipykernel)",
   "language": "python",
   "name": "python3"
  },
  "language_info": {
   "codemirror_mode": {
    "name": "ipython",
    "version": 3
   },
   "file_extension": ".py",
   "mimetype": "text/x-python",
   "name": "python",
   "nbconvert_exporter": "python",
   "pygments_lexer": "ipython3",
   "version": "3.9.12"
  }
 },
 "nbformat": 4,
 "nbformat_minor": 5
}
