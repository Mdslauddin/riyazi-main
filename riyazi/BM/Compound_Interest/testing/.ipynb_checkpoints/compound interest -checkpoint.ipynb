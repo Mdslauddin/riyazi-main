{
 "cells": [
  {
   "cell_type": "code",
   "execution_count": 13,
   "id": "26658585",
   "metadata": {},
   "outputs": [],
   "source": [
    "def ci(p=None, r=None, n=None, half=None, quarter=None):\n",
    "    Amount = (p*(1+r/100)**n)\n",
    "    ci = Amount-p\n",
    "    print(\"(Amount , compund interest)\")\n",
    "    return Amount,ci\n"
   ]
  },
  {
   "cell_type": "code",
   "execution_count": 14,
   "id": "afddb4fa",
   "metadata": {},
   "outputs": [
    {
     "name": "stdout",
     "output_type": "stream",
     "text": [
      "(Amount , compund interest)\n"
     ]
    },
    {
     "data": {
      "text/plain": [
       "(665.5000000000002, 165.50000000000023)"
      ]
     },
     "execution_count": 14,
     "metadata": {},
     "output_type": "execute_result"
    }
   ],
   "source": [
    "ci(p=500,r=10,n=3)"
   ]
  },
  {
   "cell_type": "code",
   "execution_count": 15,
   "id": "2f5a57ee",
   "metadata": {},
   "outputs": [
    {
     "data": {
      "text/plain": [
       "13.31"
      ]
     },
     "execution_count": 15,
     "metadata": {},
     "output_type": "execute_result"
    }
   ],
   "source": [
    "(((1+10)**3)/100)"
   ]
  },
  {
   "cell_type": "code",
   "execution_count": null,
   "id": "6e2fb18a",
   "metadata": {},
   "outputs": [],
   "source": []
  }
 ],
 "metadata": {
  "kernelspec": {
   "display_name": "Python 3 (ipykernel)",
   "language": "python",
   "name": "python3"
  },
  "language_info": {
   "codemirror_mode": {
    "name": "ipython",
    "version": 3
   },
   "file_extension": ".py",
   "mimetype": "text/x-python",
   "name": "python",
   "nbconvert_exporter": "python",
   "pygments_lexer": "ipython3",
   "version": "3.9.12"
  }
 },
 "nbformat": 4,
 "nbformat_minor": 5
}
