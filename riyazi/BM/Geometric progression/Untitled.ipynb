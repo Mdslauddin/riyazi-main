{
 "cells": [
  {
   "cell_type": "code",
   "execution_count": null,
   "id": "1662007d",
   "metadata": {},
   "outputs": [],
   "source": [
    "#A Python program to handle Geometric Progression of Terms based on User Input\n",
    "2\n",
    " \n",
    "3\n",
    "#Collect input from the user for first term\n",
    "4\n",
    "a=int(input(\" Enter first term (a):\"))\n",
    "5\n",
    "#Collect input from the user for the value of 'r'\n",
    "6\n",
    "r=int(input(\"Enter the value of r (r):\"))\n",
    "7\n",
    "#Collect input from the user for the value of duration number\n",
    "8\n",
    "n=int(input(\"Enter number(n):\"))\n",
    "9\n",
    " \n",
    "10\n",
    "#Implementation of Geometric Progression Formula into Python\n",
    "11\n",
    "res= a * r ** (n-1)\n",
    "12\n",
    " \n",
    "13\n",
    "#Statement to print out the final end result of calculation\n",
    "14\n",
    "print(res)\n"
   ]
  },
  {
   "cell_type": "code",
   "execution_count": null,
   "id": "3410f91f",
   "metadata": {},
   "outputs": [],
   "source": [
    "def is_geometric(li):\n",
    "2\t    if len(li) <= 1:\n",
    "3\t        return True\n",
    "4\t    # Calculate ratio\n",
    "5\t    ratio = li[1]/float(li[0])\n",
    "6\t    # Check the ratio of the remaining\n",
    "7\t    for i in range(1, len(li)):\n",
    "8\t        if li[i]/float(li[i-1]) != ratio: \n",
    "9\t            return False\n",
    "10\t    return True "
   ]
  }
 ],
 "metadata": {
  "kernelspec": {
   "display_name": "Python 3 (ipykernel)",
   "language": "python",
   "name": "python3"
  },
  "language_info": {
   "codemirror_mode": {
    "name": "ipython",
    "version": 3
   },
   "file_extension": ".py",
   "mimetype": "text/x-python",
   "name": "python",
   "nbconvert_exporter": "python",
   "pygments_lexer": "ipython3",
   "version": "3.9.12"
  }
 },
 "nbformat": 4,
 "nbformat_minor": 5
}
