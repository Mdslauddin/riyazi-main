{
 "cells": [
  {
   "cell_type": "code",
   "execution_count": 1,
   "id": "78608cf1",
   "metadata": {},
   "outputs": [],
   "source": [
    "def ev_to_joule(ev):\n",
    "    return ev*1.602e-19"
   ]
  },
  {
   "cell_type": "code",
   "execution_count": 2,
   "id": "076237e7",
   "metadata": {},
   "outputs": [],
   "source": [
    "def joule_to_ev(joule):\n",
    "    return joule/(1.602e-19)"
   ]
  },
  {
   "cell_type": "code",
   "execution_count": 3,
   "id": "c3a99998",
   "metadata": {},
   "outputs": [],
   "source": [
    "def exp(number):\n",
    "    return 2.71828182845904523536028747135266249**number\n"
   ]
  },
  {
   "cell_type": "code",
   "execution_count": 4,
   "id": "7b75a818",
   "metadata": {},
   "outputs": [],
   "source": [
    "def root(number, macht=2):\n",
    "    return number**(1/macht)"
   ]
  },
  {
   "cell_type": "code",
   "execution_count": 5,
   "id": "870e73dd",
   "metadata": {},
   "outputs": [],
   "source": [
    "def power(number, macht=2):\n",
    "    return number**macht"
   ]
  },
  {
   "cell_type": "code",
   "execution_count": 8,
   "id": "8e263ca8",
   "metadata": {},
   "outputs": [],
   "source": [
    "G = 6.67384*10**-11\n",
    "g = 9.81\n",
    "p_0 = 1.01325*10**5\n",
    "N_A = 6.02214129*10**23\n",
    "R = 8.3144621\n",
    "k = 1.3806488*10**-23\n",
    "sigma = 5.670373*10**-8\n",
    "h = 6.62606957*10**-34\n",
    "c = 2.99792458*10**8\n",
    "epsilon = 8.854187817*10**-12\n",
    "f = 8.987551787*10**9\n",
    "mu_0 = 1.25664*10**-6\n",
    "e = 1.602176565*10**-19\n",
    "F = 9.64853365*10**4\n",
    "a_0 = 5.2917721092*10**-11\n",
    "R_H = 1.096775834*10**7\n",
    "    \n",
    "#Massa's\n",
    "m_e = 9.10938*10**-31\n",
    "m_p = 1.67262*10**-27\n",
    "m_n = 1.67493*10**-27\n",
    "    \n",
    "#Overig\n",
    "pi = 3.14159265358979323846264338327950288\n",
    "import numpy as  np\n",
    "inf = np.inf   "
   ]
  },
  {
   "cell_type": "code",
   "execution_count": 1,
   "id": "85d74971",
   "metadata": {},
   "outputs": [],
   "source": [
    "# physics constnat \n",
    "# https://en.m.wikipedia.org/wiki/List_of_physical_constants"
   ]
  },
  {
   "cell_type": "code",
   "execution_count": null,
   "id": "3913b743",
   "metadata": {},
   "outputs": [],
   "source": []
  },
  {
   "cell_type": "code",
   "execution_count": null,
   "id": "bfdb755c",
   "metadata": {},
   "outputs": [],
   "source": []
  },
  {
   "cell_type": "code",
   "execution_count": null,
   "id": "1eb173be",
   "metadata": {},
   "outputs": [],
   "source": []
  },
  {
   "cell_type": "code",
   "execution_count": null,
   "id": "2463eeab",
   "metadata": {},
   "outputs": [],
   "source": []
  },
  {
   "cell_type": "code",
   "execution_count": null,
   "id": "0a84a725",
   "metadata": {},
   "outputs": [],
   "source": []
  },
  {
   "cell_type": "code",
   "execution_count": null,
   "id": "25943655",
   "metadata": {},
   "outputs": [],
   "source": []
  },
  {
   "cell_type": "code",
   "execution_count": null,
   "id": "47694c07",
   "metadata": {},
   "outputs": [],
   "source": []
  },
  {
   "cell_type": "code",
   "execution_count": null,
   "id": "d5dfe743",
   "metadata": {},
   "outputs": [],
   "source": []
  },
  {
   "cell_type": "code",
   "execution_count": null,
   "id": "35718f73",
   "metadata": {},
   "outputs": [],
   "source": []
  },
  {
   "cell_type": "code",
   "execution_count": null,
   "id": "df5a27cb",
   "metadata": {},
   "outputs": [],
   "source": []
  },
  {
   "cell_type": "code",
   "execution_count": null,
   "id": "09f5d2eb",
   "metadata": {},
   "outputs": [],
   "source": []
  },
  {
   "cell_type": "code",
   "execution_count": null,
   "id": "6ea00a05",
   "metadata": {},
   "outputs": [],
   "source": []
  },
  {
   "cell_type": "code",
   "execution_count": null,
   "id": "ff3d36bc",
   "metadata": {},
   "outputs": [],
   "source": []
  }
 ],
 "metadata": {
  "kernelspec": {
   "display_name": "Python 3 (ipykernel)",
   "language": "python",
   "name": "python3"
  },
  "language_info": {
   "codemirror_mode": {
    "name": "ipython",
    "version": 3
   },
   "file_extension": ".py",
   "mimetype": "text/x-python",
   "name": "python",
   "nbconvert_exporter": "python",
   "pygments_lexer": "ipython3",
   "version": "3.9.12"
  }
 },
 "nbformat": 4,
 "nbformat_minor": 5
}
