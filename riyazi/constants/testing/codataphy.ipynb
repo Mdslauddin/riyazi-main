{
 "cells": [
  {
   "cell_type": "markdown",
   "id": "69cf86b2",
   "metadata": {},
   "source": [
    "https://en.m.wikipedia.org/wiki/Physical_constant\n",
    "\n",
    "\n",
    "https://en.m.wikipedia.org/wiki/List_of_physical_constants\n",
    "\n",
    "https://physics.nist.gov/cuu/Constants/"
   ]
  },
  {
   "cell_type": "code",
   "execution_count": 1,
   "id": "36dd0074",
   "metadata": {},
   "outputs": [],
   "source": [
    "# SI prefixes\n",
    "yotta = 1e24\n",
    "zetta = 1e21\n",
    "exa = 1e18\n",
    "peta = 1e15\n",
    "tera = 1e12\n",
    "giga = 1e9\n",
    "mega = 1e6\n",
    "kilo = 1e3\n",
    "hecto = 1e2\n",
    "deka = 1e1\n",
    "deci = 1e-1\n",
    "centi = 1e-2\n",
    "milli = 1e-3\n",
    "micro = 1e-6\n",
    "nano = 1e-9\n",
    "pico = 1e-12\n",
    "femto = 1e-15\n",
    "atto = 1e-18\n",
    "zepto = 1e-21\n",
    "yocto = 1e-24"
   ]
  },
  {
   "cell_type": "code",
   "execution_count": 2,
   "id": "39fa4cc8",
   "metadata": {},
   "outputs": [],
   "source": [
    "# binary prefixes\n",
    "kibi = 2**10\n",
    "mebi = 2**20\n",
    "gibi = 2**30\n",
    "tebi = 2**40\n",
    "pebi = 2**50\n",
    "exbi = 2**60\n",
    "zebi = 2**70\n",
    "yobi = 2**80"
   ]
  },
  {
   "cell_type": "code",
   "execution_count": 3,
   "id": "92d1c3b0",
   "metadata": {},
   "outputs": [],
   "source": [
    "# time in second\n",
    "minute = 60.0\n",
    "hour = 60 * minute\n",
    "day = 24 * hour\n",
    "week = 7 * day\n",
    "year = 365 * day\n",
    "Julian_year = 365.25 * day"
   ]
  },
  {
   "cell_type": "code",
   "execution_count": 4,
   "id": "68e866ec",
   "metadata": {},
   "outputs": [],
   "source": [
    "G = 6.67384*10**-11\n",
    "\n",
    "\n",
    "g = 9.81\n",
    "\n",
    "p_0 = 1.01325*10**5\n",
    "\n",
    "N_A = 6.02214129*10**23\n",
    "\n",
    "\n",
    "R = 8.3144621\n",
    "\n",
    "k = 1.3806488*10**-23\n",
    "\n",
    "sigma = 5.670373*10**-8\n",
    "h = 6.62606957*10**-34\n",
    "c = 2.99792458*10**8\n",
    "epsilon = 8.854187817*10**-12\n",
    "f = 8.987551787*10**9\n",
    "mu_0 = 1.25664*10**-6\n",
    "e = 1.602176565*10**-19\n",
    "F = 9.64853365*10**4\n",
    "a_0 = 5.2917721092*10**-11\n",
    "R_H = 1.096775834*10**7\n",
    "    \n",
    "#Massa's\n",
    "m_e = 9.10938*10**-31\n",
    "m_p = 1.67262*10**-27\n",
    "m_n = 1.67493*10**-27\n",
    "    \n",
    "#Overig\n",
    "pi = 3.14159265358979323846264338327950288\n",
    "import numpy as  np\n",
    "inf = np.inf   "
   ]
  },
  {
   "cell_type": "code",
   "execution_count": null,
   "id": "bd8998cc",
   "metadata": {},
   "outputs": [],
   "source": []
  },
  {
   "cell_type": "code",
   "execution_count": null,
   "id": "02e8c87d",
   "metadata": {},
   "outputs": [],
   "source": []
  },
  {
   "cell_type": "code",
   "execution_count": null,
   "id": "df48c332",
   "metadata": {},
   "outputs": [],
   "source": []
  },
  {
   "cell_type": "code",
   "execution_count": null,
   "id": "f7051a28",
   "metadata": {},
   "outputs": [],
   "source": []
  },
  {
   "cell_type": "code",
   "execution_count": null,
   "id": "2ba90a00",
   "metadata": {},
   "outputs": [],
   "source": []
  },
  {
   "cell_type": "code",
   "execution_count": null,
   "id": "404128ca",
   "metadata": {},
   "outputs": [],
   "source": []
  },
  {
   "cell_type": "code",
   "execution_count": null,
   "id": "90b70797",
   "metadata": {},
   "outputs": [],
   "source": []
  },
  {
   "cell_type": "code",
   "execution_count": null,
   "id": "72d718bd",
   "metadata": {},
   "outputs": [],
   "source": []
  },
  {
   "cell_type": "code",
   "execution_count": null,
   "id": "76dd39bd",
   "metadata": {},
   "outputs": [],
   "source": []
  },
  {
   "cell_type": "code",
   "execution_count": null,
   "id": "ac84211a",
   "metadata": {},
   "outputs": [],
   "source": []
  },
  {
   "cell_type": "code",
   "execution_count": null,
   "id": "b082c2bc",
   "metadata": {},
   "outputs": [],
   "source": []
  },
  {
   "cell_type": "code",
   "execution_count": null,
   "id": "48535918",
   "metadata": {},
   "outputs": [],
   "source": []
  },
  {
   "cell_type": "code",
   "execution_count": null,
   "id": "825aa00f",
   "metadata": {},
   "outputs": [],
   "source": []
  },
  {
   "cell_type": "code",
   "execution_count": null,
   "id": "b7cf3f21",
   "metadata": {},
   "outputs": [],
   "source": []
  },
  {
   "cell_type": "code",
   "execution_count": null,
   "id": "fee3910b",
   "metadata": {},
   "outputs": [],
   "source": []
  },
  {
   "cell_type": "code",
   "execution_count": null,
   "id": "29dbf917",
   "metadata": {},
   "outputs": [],
   "source": []
  },
  {
   "cell_type": "code",
   "execution_count": null,
   "id": "2007ae9e",
   "metadata": {},
   "outputs": [],
   "source": []
  },
  {
   "cell_type": "code",
   "execution_count": null,
   "id": "985ca019",
   "metadata": {},
   "outputs": [],
   "source": []
  },
  {
   "cell_type": "code",
   "execution_count": null,
   "id": "577b4b2a",
   "metadata": {},
   "outputs": [],
   "source": []
  },
  {
   "cell_type": "code",
   "execution_count": null,
   "id": "c1bbc07f",
   "metadata": {},
   "outputs": [],
   "source": []
  },
  {
   "cell_type": "code",
   "execution_count": null,
   "id": "e4c329d1",
   "metadata": {},
   "outputs": [],
   "source": []
  },
  {
   "cell_type": "code",
   "execution_count": null,
   "id": "0cffddad",
   "metadata": {},
   "outputs": [],
   "source": []
  }
 ],
 "metadata": {
  "kernelspec": {
   "display_name": "Python 3 (ipykernel)",
   "language": "python",
   "name": "python3"
  },
  "language_info": {
   "codemirror_mode": {
    "name": "ipython",
    "version": 3
   },
   "file_extension": ".py",
   "mimetype": "text/x-python",
   "name": "python",
   "nbconvert_exporter": "python",
   "pygments_lexer": "ipython3",
   "version": "3.9.12"
  }
 },
 "nbformat": 4,
 "nbformat_minor": 5
}
