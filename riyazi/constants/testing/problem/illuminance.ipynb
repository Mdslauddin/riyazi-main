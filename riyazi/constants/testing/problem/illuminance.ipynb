{
 "cells": [
  {
   "cell_type": "code",
   "execution_count": 1,
   "id": "26ec0713",
   "metadata": {},
   "outputs": [],
   "source": [
    "centimeter_candle = 1\n",
    "flame =2\n",
    "foot_candle =2\n",
    "lumen_square_centimeter =2\n",
    "lumen_square_foot = 3\n",
    "lumen_square_meter = 3\n",
    "lux = 3\n",
    "meter_candle =3\n",
    "nox =1\n",
    "phot = 1\n",
    "watt_square_centimeter = 1\n"
   ]
  },
  {
   "cell_type": "code",
   "execution_count": null,
   "id": "4bbf5977",
   "metadata": {},
   "outputs": [],
   "source": []
  }
 ],
 "metadata": {
  "kernelspec": {
   "display_name": "Python 3 (ipykernel)",
   "language": "python",
   "name": "python3"
  },
  "language_info": {
   "codemirror_mode": {
    "name": "ipython",
    "version": 3
   },
   "file_extension": ".py",
   "mimetype": "text/x-python",
   "name": "python",
   "nbconvert_exporter": "python",
   "pygments_lexer": "ipython3",
   "version": "3.9.12"
  }
 },
 "nbformat": 4,
 "nbformat_minor": 5
}
