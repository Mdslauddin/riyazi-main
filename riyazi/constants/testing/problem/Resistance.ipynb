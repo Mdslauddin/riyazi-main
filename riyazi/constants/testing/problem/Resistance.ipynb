{
 "cells": [
  {
   "cell_type": "code",
   "execution_count": 1,
   "id": "76b37caf",
   "metadata": {},
   "outputs": [],
   "source": [
    "Abohm = 1.0\n",
    "Gigaaohm = 0.0\n",
    "kiloohm = 0.0\n",
    "Megaohm = 0.0\n",
    "Microohm = 0.001\n",
    "Milliohm = 0.0\n",
    "Nanoohm = 1.0\n",
    "ohm = 0.0\n",
    "voltperampere = 0.0 "
   ]
  },
  {
   "cell_type": "code",
   "execution_count": null,
   "id": "b18ea13b",
   "metadata": {},
   "outputs": [],
   "source": []
  }
 ],
 "metadata": {
  "kernelspec": {
   "display_name": "Python 3 (ipykernel)",
   "language": "python",
   "name": "python3"
  },
  "language_info": {
   "codemirror_mode": {
    "name": "ipython",
    "version": 3
   },
   "file_extension": ".py",
   "mimetype": "text/x-python",
   "name": "python",
   "nbconvert_exporter": "python",
   "pygments_lexer": "ipython3",
   "version": "3.9.12"
  }
 },
 "nbformat": 4,
 "nbformat_minor": 5
}
