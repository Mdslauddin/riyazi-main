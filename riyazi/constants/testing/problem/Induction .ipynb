{
 "cells": [
  {
   "cell_type": "code",
   "execution_count": 1,
   "id": "33a0a65e",
   "metadata": {},
   "outputs": [],
   "source": [
    "Abhenry = 1.0 \n",
    "Gigahenry = 0.0 \n",
    "Henry = 0.0 \n",
    "kilohenry = 0.0 \n",
    "Megahenry = 0.0\n",
    "Microhenry = 0.001\n",
    "Millihenry = 0.0\n",
    "Nanohenry = 1.0 \n",
    "weberperampere= 0.0 \n"
   ]
  },
  {
   "cell_type": "code",
   "execution_count": null,
   "id": "1f5bae72",
   "metadata": {},
   "outputs": [],
   "source": []
  }
 ],
 "metadata": {
  "kernelspec": {
   "display_name": "Python 3 (ipykernel)",
   "language": "python",
   "name": "python3"
  },
  "language_info": {
   "codemirror_mode": {
    "name": "ipython",
    "version": 3
   },
   "file_extension": ".py",
   "mimetype": "text/x-python",
   "name": "python",
   "nbconvert_exporter": "python",
   "pygments_lexer": "ipython3",
   "version": "3.9.12"
  }
 },
 "nbformat": 4,
 "nbformat_minor": 5
}
