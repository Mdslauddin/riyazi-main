{
 "cells": [
  {
   "cell_type": "code",
   "execution_count": 1,
   "id": "917e1922",
   "metadata": {},
   "outputs": [],
   "source": [
    "bps = 'bit/second'\n",
    "Kbps = 'kilobit/second'\n",
    "Mbps = 'megabit/second'\n",
    "Gbps= 'gigabit/second'\n",
    "B = 'byte/second'\n",
    "KB = 'kilobyte/second'\n",
    "MB = 'megabyte/second'\n",
    "GB = 'gigabyte/second'"
   ]
  }
 ],
 "metadata": {
  "kernelspec": {
   "display_name": "Python 3 (ipykernel)",
   "language": "python",
   "name": "python3"
  },
  "language_info": {
   "codemirror_mode": {
    "name": "ipython",
    "version": 3
   },
   "file_extension": ".py",
   "mimetype": "text/x-python",
   "name": "python",
   "nbconvert_exporter": "python",
   "pygments_lexer": "ipython3",
   "version": "3.9.12"
  }
 },
 "nbformat": 4,
 "nbformat_minor": 5
}
