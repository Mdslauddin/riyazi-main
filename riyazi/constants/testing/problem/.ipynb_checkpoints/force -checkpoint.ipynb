{
 "cells": [
  {
   "cell_type": "code",
   "execution_count": 1,
   "id": "f151a218",
   "metadata": {},
   "outputs": [],
   "source": [
    "attonewton = 1\n",
    "centinewton = 2\n",
    "decigram_force =1\n",
    "decinewton =2\n",
    "dekagram_force =2\n",
    "deka_newton = 1\n",
    "dyne =1\n",
    "exanewton =1\n",
    "femtonewton =1\n",
    "giganewton = 1\n",
    "gram_force =1\n",
    "hectonewton =1\n",
    "joulem = 1\n",
    "kilogram_force =1\n",
    "kilonewton =1\n",
    "kilopond =1\n",
    "kip =1\n",
    "meganewton =12\n",
    "megapond =1\n",
    "micronewton =1\n",
    "millinewton =1\n",
    "nanonewton =1\n",
    "newton =1\n",
    "ouncef = 1\n",
    "petanewton =1\n",
    "piconewton =1\n",
    "pound =1 \n",
    "poundf= 1\n",
    "tonf = 1\n",
    "yoctonewton =1\n",
    "yottanewton =1\n",
    "zeptanewton =1\n",
    "zettanewton =1 "
   ]
  }
 ],
 "metadata": {
  "kernelspec": {
   "display_name": "Python 3 (ipykernel)",
   "language": "python",
   "name": "python3"
  },
  "language_info": {
   "codemirror_mode": {
    "name": "ipython",
    "version": 3
   },
   "file_extension": ".py",
   "mimetype": "text/x-python",
   "name": "python",
   "nbconvert_exporter": "python",
   "pygments_lexer": "ipython3",
   "version": "3.9.12"
  }
 },
 "nbformat": 4,
 "nbformat_minor": 5
}
