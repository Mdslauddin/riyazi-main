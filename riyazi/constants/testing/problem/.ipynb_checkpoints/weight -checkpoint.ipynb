{
 "cells": [
  {
   "cell_type": "code",
   "execution_count": 1,
   "id": "d95b22ce",
   "metadata": {},
   "outputs": [],
   "source": [
    "Gram = 2\n",
    "milligram =2\n",
    "microgram =2\n",
    "kilogram =2\n",
    "centigram =2 \n",
    "pound =2\n",
    "carat =2\n",
    "ounce =2\n",
    "stone =2\n",
    "kiloton =2\n",
    "quintal =2\n"
   ]
  },
  {
   "cell_type": "code",
   "execution_count": null,
   "id": "cbf2b6e3",
   "metadata": {},
   "outputs": [],
   "source": []
  }
 ],
 "metadata": {
  "kernelspec": {
   "display_name": "Python 3 (ipykernel)",
   "language": "python",
   "name": "python3"
  },
  "language_info": {
   "codemirror_mode": {
    "name": "ipython",
    "version": 3
   },
   "file_extension": ".py",
   "mimetype": "text/x-python",
   "name": "python",
   "nbconvert_exporter": "python",
   "pygments_lexer": "ipython3",
   "version": "3.9.12"
  }
 },
 "nbformat": 4,
 "nbformat_minor": 5
}
