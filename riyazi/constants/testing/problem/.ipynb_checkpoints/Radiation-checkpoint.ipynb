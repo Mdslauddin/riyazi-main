{
 "cells": [
  {
   "cell_type": "code",
   "execution_count": null,
   "id": "8ba04991",
   "metadata": {},
   "outputs": [],
   "source": [
    "exagray = 1.0\n",
    "attogray = 1.0e36\n",
    "centigray = 1.0e20\n",
    "decigray = 1.0e19\n",
    "dekagray = 1.017\n",
    "femtogray = 0\n",
    "gigagray =0 \n",
    "gray = 3\n",
    "hectogray = 3\n",
    "joule = 2\n",
    "kilogray = 2\n",
    "megagray = 3\n",
    "microgray = 3\n",
    "milligray = 3\n",
    "nanogray = 3 \n",
    "petagray = 3\n",
    "picogray = 3\n",
    "rad = 3 \n",
    "teragray = 3\n"
   ]
  }
 ],
 "metadata": {
  "kernelspec": {
   "display_name": "Python 3 (ipykernel)",
   "language": "python",
   "name": "python3"
  },
  "language_info": {
   "codemirror_mode": {
    "name": "ipython",
    "version": 3
   },
   "file_extension": ".py",
   "mimetype": "text/x-python",
   "name": "python",
   "nbconvert_exporter": "python",
   "pygments_lexer": "ipython3",
   "version": "3.9.12"
  }
 },
 "nbformat": 4,
 "nbformat_minor": 5
}
