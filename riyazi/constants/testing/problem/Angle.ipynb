{
 "cells": [
  {
   "cell_type": "code",
   "execution_count": 1,
   "id": "b5054cac",
   "metadata": {},
   "outputs": [],
   "source": [
    "radian = 2\n",
    "degree =2\n",
    "minute=2\n",
    "second =2\n",
    "sin =2\n",
    "octant= 2\n",
    "sextant =2\n",
    "quadrant =2\n",
    "revolution =2 \n",
    "gon =2\n",
    "mil = 2\n"
   ]
  },
  {
   "cell_type": "code",
   "execution_count": null,
   "id": "d914ae6e",
   "metadata": {},
   "outputs": [],
   "source": []
  }
 ],
 "metadata": {
  "kernelspec": {
   "display_name": "Python 3 (ipykernel)",
   "language": "python",
   "name": "python3"
  },
  "language_info": {
   "codemirror_mode": {
    "name": "ipython",
    "version": 3
   },
   "file_extension": ".py",
   "mimetype": "text/x-python",
   "name": "python",
   "nbconvert_exporter": "python",
   "pygments_lexer": "ipython3",
   "version": "3.9.12"
  }
 },
 "nbformat": 4,
 "nbformat_minor": 5
}
