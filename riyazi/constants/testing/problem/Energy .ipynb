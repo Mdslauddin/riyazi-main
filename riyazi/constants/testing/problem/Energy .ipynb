{
 "cells": [
  {
   "cell_type": "code",
   "execution_count": 1,
   "id": "ccda97bd",
   "metadata": {},
   "outputs": [],
   "source": [
    "joule = 1\n",
    "kilojoule =1\n",
    "kilowatth = 2\n",
    "watth =1\n",
    "calorie = 1\n",
    "horsepowermh = 1\n",
    "BtuIT =2\n",
    "Btuth = 1\n",
    "gigajoule =1\n",
    "megajoule =2\n",
    "millijoule =2\n",
    "microjoule =2\n",
    "nanojoule = 1\n",
    "attojoulw  =1 \n",
    "megaelectorn = 1\n",
    "kiloelectron =1 \n",
    "electronv = 2\n",
    "erg =2\n",
    "gigawatt =2\n",
    "megawatt =2\n",
    "kilowatt =2\n",
    "watts =2\n",
    "newtonm =2\n",
    "horsepower = 1\n",
    "kilocalorie =1 \n",
    "calorieIT =1\n",
    "calorith =1\n",
    "magaIT = 2\n",
    "tonhr = 4\n",
    "kl = 2\n",
    "bbl = 2\n",
    "gigaton =2\n",
    "megaton =2\n",
    "kiloton =1\n",
    "ton =2 \n",
    "dynec = 2\n",
    "gfm =1\n",
    "gfc =2\n",
    "kgfcm =2\n",
    "lbfft =2\n",
    "lbfin =2\n",
    "inlb =2\n",
    "ftlb =2\n",
    "inoz =2\n",
    "pdfft =2\n",
    "therm =2\n",
    "thermEC = 1\n",
    "hartree =2\n",
    "rydb = 2\n"
   ]
  },
  {
   "cell_type": "code",
   "execution_count": null,
   "id": "55df5bc9",
   "metadata": {},
   "outputs": [],
   "source": []
  }
 ],
 "metadata": {
  "kernelspec": {
   "display_name": "Python 3 (ipykernel)",
   "language": "python",
   "name": "python3"
  },
  "language_info": {
   "codemirror_mode": {
    "name": "ipython",
    "version": 3
   },
   "file_extension": ".py",
   "mimetype": "text/x-python",
   "name": "python",
   "nbconvert_exporter": "python",
   "pygments_lexer": "ipython3",
   "version": "3.9.12"
  }
 },
 "nbformat": 4,
 "nbformat_minor": 5
}
