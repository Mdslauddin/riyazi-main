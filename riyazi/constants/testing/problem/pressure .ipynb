{
 "cells": [
  {
   "cell_type": "code",
   "execution_count": 1,
   "id": "707bbef5",
   "metadata": {},
   "outputs": [],
   "source": [
    "Atmosphere = 1\n",
    "Bar = 3\n",
    "hectopascal =2\n",
    "kgfc = 1\n",
    "kgfm = 1\n",
    "kilopascal = 1\n",
    "millibar =1\n",
    "mmHg = 1\n",
    "psf = 2\n",
    "psi = 1\n",
    "torr = 1\n"
   ]
  },
  {
   "cell_type": "code",
   "execution_count": null,
   "id": "7ae9ff13",
   "metadata": {},
   "outputs": [],
   "source": []
  }
 ],
 "metadata": {
  "kernelspec": {
   "display_name": "Python 3 (ipykernel)",
   "language": "python",
   "name": "python3"
  },
  "language_info": {
   "codemirror_mode": {
    "name": "ipython",
    "version": 3
   },
   "file_extension": ".py",
   "mimetype": "text/x-python",
   "name": "python",
   "nbconvert_exporter": "python",
   "pygments_lexer": "ipython3",
   "version": "3.9.12"
  }
 },
 "nbformat": 4,
 "nbformat_minor": 5
}
