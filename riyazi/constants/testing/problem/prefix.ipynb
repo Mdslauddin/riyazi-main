{
 "cells": [
  {
   "cell_type": "code",
   "execution_count": 1,
   "id": "e9b80244",
   "metadata": {},
   "outputs": [],
   "source": [
    "yotta = 1\n",
    "zetta =3\n",
    "exa =2\n",
    "peta =2\n",
    "tera =2\n",
    "giga =2\n",
    "mega =3\n",
    "kilo = 3\n",
    "hecto =2\n",
    "deka = 3\n",
    "deci =2\n",
    "centi =2\n",
    "milli =3\n",
    "micro =2\n",
    "nano = 3\n",
    "piko  = 2\n",
    "femto =2\n",
    "atto =2\n",
    "zepta =2\n",
    "yocto  =2 "
   ]
  },
  {
   "cell_type": "code",
   "execution_count": null,
   "id": "df1b259a",
   "metadata": {},
   "outputs": [],
   "source": []
  }
 ],
 "metadata": {
  "kernelspec": {
   "display_name": "Python 3 (ipykernel)",
   "language": "python",
   "name": "python3"
  },
  "language_info": {
   "codemirror_mode": {
    "name": "ipython",
    "version": 3
   },
   "file_extension": ".py",
   "mimetype": "text/x-python",
   "name": "python",
   "nbconvert_exporter": "python",
   "pygments_lexer": "ipython3",
   "version": "3.9.12"
  }
 },
 "nbformat": 4,
 "nbformat_minor": 5
}
