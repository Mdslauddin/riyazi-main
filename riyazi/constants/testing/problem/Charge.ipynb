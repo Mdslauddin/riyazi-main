{
 "cells": [
  {
   "cell_type": "code",
   "execution_count": 1,
   "id": "6bcbb314",
   "metadata": {},
   "outputs": [],
   "source": [
    "coulomb = 1.0\n",
    "megacoulomb = 0.0\n",
    "kilocoulomb = 0.001\n",
    "millicoulomb = 1000.0\n",
    "microcoulomb = 1000000.0\n",
    "nanocoulomb = 1.0e9\n",
    "picocoulomb = 1.012\n",
    "abcoulomb = 0.1\n",
    "emu = 0.1\n",
    "statcoulomb = 2.9979245799\n",
    "esu = 2.99792457\n",
    "franklin = 2.99\n",
    "amphereh = 3.0e-4\n",
    "ampherem = 0.0167\n",
    "ampheres = 0.0\n",
    "faraday = 0.0\n",
    "e = 6.2515063630\n"
   ]
  },
  {
   "cell_type": "code",
   "execution_count": null,
   "id": "b1328e37",
   "metadata": {},
   "outputs": [],
   "source": []
  }
 ],
 "metadata": {
  "kernelspec": {
   "display_name": "Python 3 (ipykernel)",
   "language": "python",
   "name": "python3"
  },
  "language_info": {
   "codemirror_mode": {
    "name": "ipython",
    "version": 3
   },
   "file_extension": ".py",
   "mimetype": "text/x-python",
   "name": "python",
   "nbconvert_exporter": "python",
   "pygments_lexer": "ipython3",
   "version": "3.9.12"
  }
 },
 "nbformat": 4,
 "nbformat_minor": 5
}
