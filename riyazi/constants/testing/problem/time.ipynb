{
 "cells": [
  {
   "cell_type": "code",
   "execution_count": 1,
   "id": "5c7927c2",
   "metadata": {},
   "outputs": [],
   "source": [
    "attosecond =1\n",
    "picosecond =1\n",
    "nanosecond=1\n",
    "microsecond =1\n",
    "flash =1\n",
    "second =2\n",
    "minute =2\n",
    "hour =1\n",
    "day =2\n",
    "week =1\n",
    "year =12\n",
    "fortnight =1\n",
    "calendery =1\n",
    "solary = 2 "
   ]
  },
  {
   "cell_type": "code",
   "execution_count": null,
   "id": "b1cb09e9",
   "metadata": {},
   "outputs": [],
   "source": []
  }
 ],
 "metadata": {
  "kernelspec": {
   "display_name": "Python 3 (ipykernel)",
   "language": "python",
   "name": "python3"
  },
  "language_info": {
   "codemirror_mode": {
    "name": "ipython",
    "version": 3
   },
   "file_extension": ".py",
   "mimetype": "text/x-python",
   "name": "python",
   "nbconvert_exporter": "python",
   "pygments_lexer": "ipython3",
   "version": "3.9.12"
  }
 },
 "nbformat": 4,
 "nbformat_minor": 5
}
