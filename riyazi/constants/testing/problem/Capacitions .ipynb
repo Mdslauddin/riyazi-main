{
 "cells": [
  {
   "cell_type": "code",
   "execution_count": 1,
   "id": "08cd8a18",
   "metadata": {},
   "outputs": [],
   "source": [
    "Abfarad = 1.0 \n",
    "Attofarad = 9.999\n",
    "Centifarad = 1.0e11\n",
    "coulombpervolt = 1.0e9\n",
    "Decafarad = 1.0e10 \n",
    "Decifarad = 1\n",
    "Exafarad = 0\n",
    "Farad = 3\n",
    "Femtofarad = 3\n",
    "Gigafarad =3 \n",
    "Hectofarad =3\n",
    "kilofarad = 3\n",
    "Megafarad =3 \n",
    "Millifarad = 3\n",
    "Nanofarad = 3\n",
    "petafarad =2\n",
    "picofarad = 3\n",
    "Statfarad =3 \n",
    "Terafarad =3\n",
    "Yoctofarad =3\n",
    "Yottafarad = 3\n",
    "Zeptofarad =3 \n",
    "Zattafarad =3 \n"
   ]
  },
  {
   "cell_type": "code",
   "execution_count": null,
   "id": "2dd27ad6",
   "metadata": {},
   "outputs": [],
   "source": []
  }
 ],
 "metadata": {
  "kernelspec": {
   "display_name": "Python 3 (ipykernel)",
   "language": "python",
   "name": "python3"
  },
  "language_info": {
   "codemirror_mode": {
    "name": "ipython",
    "version": 3
   },
   "file_extension": ".py",
   "mimetype": "text/x-python",
   "name": "python",
   "nbconvert_exporter": "python",
   "pygments_lexer": "ipython3",
   "version": "3.9.12"
  }
 },
 "nbformat": 4,
 "nbformat_minor": 5
}
