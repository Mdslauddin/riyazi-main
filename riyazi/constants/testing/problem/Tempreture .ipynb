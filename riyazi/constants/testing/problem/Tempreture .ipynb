{
 "cells": [
  {
   "cell_type": "code",
   "execution_count": 1,
   "id": "1afdcaa6",
   "metadata": {},
   "outputs": [],
   "source": [
    "celsius =2\n",
    "farenheit =2\n",
    "kelvin =2\n",
    "rankine =2\n"
   ]
  },
  {
   "cell_type": "code",
   "execution_count": null,
   "id": "055f0412",
   "metadata": {},
   "outputs": [],
   "source": []
  }
 ],
 "metadata": {
  "kernelspec": {
   "display_name": "Python 3 (ipykernel)",
   "language": "python",
   "name": "python3"
  },
  "language_info": {
   "codemirror_mode": {
    "name": "ipython",
    "version": 3
   },
   "file_extension": ".py",
   "mimetype": "text/x-python",
   "name": "python",
   "nbconvert_exporter": "python",
   "pygments_lexer": "ipython3",
   "version": "3.9.12"
  }
 },
 "nbformat": 4,
 "nbformat_minor": 5
}
