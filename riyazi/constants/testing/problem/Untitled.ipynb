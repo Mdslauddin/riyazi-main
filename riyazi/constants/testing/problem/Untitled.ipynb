{
 "cells": [
  {
   "cell_type": "markdown",
   "id": "27c069ae",
   "metadata": {},
   "source": [
    "# Basic \n",
    "`Length`\n",
    "`Area`\n",
    "`Weight`\n",
    "`Volume`\n",
    "`Temperature`\n",
    "`Time`\n",
    "\n",
    "# Science \n",
    "`Angle`\n",
    "`pressure`\n",
    "`Force`\n",
    "`Energy`\n",
    "`Power`\n",
    "`Torque`\n",
    "\n",
    "# Computing\n",
    "`Storage`\n",
    "`Data rate`\n",
    "`prefix`\n",
    "`image`\n",
    "\n",
    "# Electricty \n",
    "\n",
    "`Charge`\n",
    "`Current`\n",
    "`Resistance`\n",
    "`Conductance`\n",
    "`Induction`\n",
    "`Capacitions`\n",
    "\n",
    "\n",
    "# Miscellaneous \n",
    "`Cooking`\n",
    "`Frequency`\n",
    "`illuminance`\n",
    "`Radiation`\n",
    "\n"
   ]
  },
  {
   "cell_type": "markdown",
   "id": "d2d2f952",
   "metadata": {},
   "source": [
    "# Length \n",
    "\n",
    "m = 'meter'\n",
    "\n",
    "km = 'kilometer'\n",
    "\n",
    "cm = 'centimeter'\n",
    "\n",
    "mm = 'millimeter'\n",
    "\n",
    "micrometer \n",
    "\n",
    "hectometer\n",
    "\n",
    "nenometer\n",
    "\n",
    "mile\n",
    "\n",
    "inch \n",
    "\n",
    "centiinch \n",
    "\n",
    "microinch \n",
    "\n",
    "foot \n"
   ]
  },
  {
   "cell_type": "code",
   "execution_count": 3,
   "id": "4bf26155",
   "metadata": {},
   "outputs": [],
   "source": [
    "# length in meter\n",
    "inch = 0.0254\n",
    "foot = 12 * inch\n",
    "yard = 3 * foot\n",
    "mile = 1760 * yard\n",
    "mil = inch / 1000\n",
    "pt = point = inch / 72  # typography\n",
    "survey_foot = 1200.0 / 3937\n",
    "survey_mile = 5280 * survey_foot\n",
    "nautical_mile = 1852.0\n",
    "fermi = 1e-15\n",
    "angstrom = 1e-10\n",
    "micron = 1e-6\n",
    "au = astronomical_unit = 149597870700.0\n",
    "#light_year = Julian_year * c\n",
    "#parsec = au / arcsec"
   ]
  },
  {
   "cell_type": "markdown",
   "id": "e09f438c",
   "metadata": {},
   "source": [
    "# Area"
   ]
  },
  {
   "cell_type": "code",
   "execution_count": 4,
   "id": "53a7435e",
   "metadata": {},
   "outputs": [],
   "source": [
    "# area in meter**2\n",
    "hectare = 1e4\n",
    "acre = 43560 * foot**2"
   ]
  },
  {
   "cell_type": "code",
   "execution_count": null,
   "id": "9a81eaae",
   "metadata": {},
   "outputs": [],
   "source": []
  }
 ],
 "metadata": {
  "kernelspec": {
   "display_name": "Python 3 (ipykernel)",
   "language": "python",
   "name": "python3"
  },
  "language_info": {
   "codemirror_mode": {
    "name": "ipython",
    "version": 3
   },
   "file_extension": ".py",
   "mimetype": "text/x-python",
   "name": "python",
   "nbconvert_exporter": "python",
   "pygments_lexer": "ipython3",
   "version": "3.9.12"
  }
 },
 "nbformat": 4,
 "nbformat_minor": 5
}
