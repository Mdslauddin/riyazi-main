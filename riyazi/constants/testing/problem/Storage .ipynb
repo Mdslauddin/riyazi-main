{
 "cells": [
  {
   "cell_type": "code",
   "execution_count": 1,
   "id": "465520e6",
   "metadata": {},
   "outputs": [],
   "source": [
    "bit = 0\n",
    "byte = 3\n",
    "character =3\n",
    "kilobit =3\n",
    "kilobyte =2\n",
    "megabit =3\n",
    "megabyte =2\n",
    "gigabit =2\n",
    "gigabyte =3\n",
    "terabit = 3\n",
    "terabyte =3\n",
    "petabit =3\n",
    "exaabit =3\n",
    "exabit=3\n",
    "exabyte = 3\n"
   ]
  }
 ],
 "metadata": {
  "kernelspec": {
   "display_name": "Python 3 (ipykernel)",
   "language": "python",
   "name": "python3"
  },
  "language_info": {
   "codemirror_mode": {
    "name": "ipython",
    "version": 3
   },
   "file_extension": ".py",
   "mimetype": "text/x-python",
   "name": "python",
   "nbconvert_exporter": "python",
   "pygments_lexer": "ipython3",
   "version": "3.9.12"
  }
 },
 "nbformat": 4,
 "nbformat_minor": 5
}
