{
 "cells": [
  {
   "cell_type": "code",
   "execution_count": 2,
   "id": "6a5dae34",
   "metadata": {},
   "outputs": [],
   "source": [
    "abhmo = 1.0 \n",
    "amperevolt = 1.0e9 \n",
    "kilosiemens = 1000000.0\n",
    "megasiemens = 10000.0\n",
    "mho = 1.0e9 \n",
    "micromho = 9.999\n",
    "microsiemens = 9.99\n",
    "millimho = 9.99\n",
    "millisiemens = 9.99\n",
    "secondhenry = 1.0e9 \n",
    "siemns = 1.0e9 \n",
    "statmho = 8.989999\n"
   ]
  },
  {
   "cell_type": "code",
   "execution_count": null,
   "id": "42c76bc7",
   "metadata": {},
   "outputs": [],
   "source": []
  }
 ],
 "metadata": {
  "kernelspec": {
   "display_name": "Python 3 (ipykernel)",
   "language": "python",
   "name": "python3"
  },
  "language_info": {
   "codemirror_mode": {
    "name": "ipython",
    "version": 3
   },
   "file_extension": ".py",
   "mimetype": "text/x-python",
   "name": "python",
   "nbconvert_exporter": "python",
   "pygments_lexer": "ipython3",
   "version": "3.9.12"
  }
 },
 "nbformat": 4,
 "nbformat_minor": 5
}
