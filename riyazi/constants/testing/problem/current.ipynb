{
 "cells": [
  {
   "cell_type": "code",
   "execution_count": 2,
   "id": "651aa9a0",
   "metadata": {},
   "outputs": [
    {
     "ename": "NameError",
     "evalue": "name 'ampere' is not defined",
     "output_type": "error",
     "traceback": [
      "\u001b[1;31m---------------------------------------------------------------------------\u001b[0m",
      "\u001b[1;31mNameError\u001b[0m                                 Traceback (most recent call last)",
      "Input \u001b[1;32mIn [2]\u001b[0m, in \u001b[0;36m<cell line: 1>\u001b[1;34m()\u001b[0m\n\u001b[1;32m----> 1\u001b[0m \u001b[43mampere\u001b[49m\n\u001b[0;32m      2\u001b[0m kiloampere\n\u001b[0;32m      3\u001b[0m milliampere\n",
      "\u001b[1;31mNameError\u001b[0m: name 'ampere' is not defined"
     ]
    }
   ],
   "source": [
    "ampere\n",
    "kiloampere\n",
    "milliampere\n",
    "biot\n",
    "abampere\n",
    "emuofcurrent\n",
    "statampere\n",
    "esuofcurrent\n",
    "cgsem \n",
    "cgses \n"
   ]
  },
  {
   "cell_type": "code",
   "execution_count": null,
   "id": "b752db36",
   "metadata": {},
   "outputs": [],
   "source": []
  }
 ],
 "metadata": {
  "kernelspec": {
   "display_name": "Python 3 (ipykernel)",
   "language": "python",
   "name": "python3"
  },
  "language_info": {
   "codemirror_mode": {
    "name": "ipython",
    "version": 3
   },
   "file_extension": ".py",
   "mimetype": "text/x-python",
   "name": "python",
   "nbconvert_exporter": "python",
   "pygments_lexer": "ipython3",
   "version": "3.9.12"
  }
 },
 "nbformat": 4,
 "nbformat_minor": 5
}
