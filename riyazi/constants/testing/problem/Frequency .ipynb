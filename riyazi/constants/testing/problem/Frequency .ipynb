{
 "cells": [
  {
   "cell_type": "code",
   "execution_count": null,
   "id": "6c054e92",
   "metadata": {},
   "outputs": [],
   "source": [
    "attohertz = 0 \n",
    "centihertz = 0\n",
    "decihertz  = 0\n",
    "degreeh = 0\n",
    "degree =0 \n",
    "minute = 0 \n",
    "degrees = 0 \n",
    "dekahertz =3\n",
    "exahertz = 3\n",
    "femtohertz = 3\n",
    "gigahertz =3\n",
    "hectohertz = 3\n",
    "hertz = 3\n",
    "megahertz = 3\n",
    "microhertz = 3\n",
    "nanohertz = 3\n",
    "petahertz = 3\n",
    "radianh = 3\n",
    "radianm = 3\n",
    "radians = 3\n",
    "revolutionh = 3\n",
    "revolutionm = 3\n",
    "terrahertz =3\n"
   ]
  }
 ],
 "metadata": {
  "kernelspec": {
   "display_name": "Python 3 (ipykernel)",
   "language": "python",
   "name": "python3"
  },
  "language_info": {
   "codemirror_mode": {
    "name": "ipython",
    "version": 3
   },
   "file_extension": ".py",
   "mimetype": "text/x-python",
   "name": "python",
   "nbconvert_exporter": "python",
   "pygments_lexer": "ipython3",
   "version": "3.9.12"
  }
 },
 "nbformat": 4,
 "nbformat_minor": 5
}
