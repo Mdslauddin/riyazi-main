{
 "cells": [
  {
   "cell_type": "code",
   "execution_count": 1,
   "id": "07d8d10e",
   "metadata": {},
   "outputs": [],
   "source": [
    "import trigonometry as t"
   ]
  },
  {
   "cell_type": "code",
   "execution_count": null,
   "id": "9a127e03",
   "metadata": {},
   "outputs": [],
   "source": [
    "t.sin(2)"
   ]
  },
  {
   "cell_type": "code",
   "execution_count": null,
   "id": "0cf9aed5",
   "metadata": {},
   "outputs": [],
   "source": []
  },
  {
   "cell_type": "code",
   "execution_count": null,
   "id": "29b7369c",
   "metadata": {},
   "outputs": [],
   "source": []
  },
  {
   "cell_type": "code",
   "execution_count": null,
   "id": "900872d6",
   "metadata": {},
   "outputs": [],
   "source": []
  },
  {
   "cell_type": "code",
   "execution_count": null,
   "id": "558a00be",
   "metadata": {},
   "outputs": [],
   "source": []
  },
  {
   "cell_type": "code",
   "execution_count": null,
   "id": "1a0bad7a",
   "metadata": {},
   "outputs": [],
   "source": []
  },
  {
   "cell_type": "code",
   "execution_count": null,
   "id": "3ee27f8e",
   "metadata": {},
   "outputs": [],
   "source": []
  },
  {
   "cell_type": "code",
   "execution_count": null,
   "id": "d53f0ceb",
   "metadata": {},
   "outputs": [],
   "source": []
  },
  {
   "cell_type": "code",
   "execution_count": null,
   "id": "67694c3b",
   "metadata": {},
   "outputs": [],
   "source": []
  },
  {
   "cell_type": "code",
   "execution_count": null,
   "id": "4b33c6ab",
   "metadata": {},
   "outputs": [],
   "source": [
    "def Sigma(_roop_time, _first_value, _formula):\n",
    "    ans = 0\n",
    "    for n in range(_first_value, _roop_time):\n",
    "        ans += eval(_formula)\n",
    "    return ans"
   ]
  },
  {
   "cell_type": "code",
   "execution_count": null,
   "id": "0a4393b1",
   "metadata": {},
   "outputs": [],
   "source": [
    "import math"
   ]
  },
  {
   "cell_type": "code",
   "execution_count": null,
   "id": "c614f474",
   "metadata": {
    "scrolled": true
   },
   "outputs": [],
   "source": [
    "Sigma(15,9,'32')"
   ]
  },
  {
   "cell_type": "code",
   "execution_count": null,
   "id": "d18d7149",
   "metadata": {},
   "outputs": [],
   "source": [
    "import math"
   ]
  },
  {
   "cell_type": "code",
   "execution_count": null,
   "id": "ee7be3bb",
   "metadata": {},
   "outputs": [],
   "source": [
    "math.tau"
   ]
  },
  {
   "cell_type": "code",
   "execution_count": null,
   "id": "72873f94",
   "metadata": {},
   "outputs": [],
   "source": [
    "math.gamma(4)"
   ]
  },
  {
   "cell_type": "code",
   "execution_count": 1,
   "id": "1ed3ca9a",
   "metadata": {},
   "outputs": [],
   "source": [
    "def gamma() -> float:\n",
    "    \"\"\"\n",
    "    \"gamma()\" returns the constant γ.\n",
    "    The value is approximately 0.5772156649015328606065120900824.\n",
    "    \"\"\"\n",
    "    return 0.5772156649015328606065120900824"
   ]
  },
  {
   "cell_type": "code",
   "execution_count": 2,
   "id": "43ce744f",
   "metadata": {},
   "outputs": [],
   "source": [
    "gamma = 123"
   ]
  },
  {
   "cell_type": "code",
   "execution_count": 4,
   "id": "887ed609",
   "metadata": {},
   "outputs": [
    {
     "ename": "TypeError",
     "evalue": "'int' object is not callable",
     "output_type": "error",
     "traceback": [
      "\u001b[1;31m---------------------------------------------------------------------------\u001b[0m",
      "\u001b[1;31mTypeError\u001b[0m                                 Traceback (most recent call last)",
      "Input \u001b[1;32mIn [4]\u001b[0m, in \u001b[0;36m<cell line: 1>\u001b[1;34m()\u001b[0m\n\u001b[1;32m----> 1\u001b[0m \u001b[43mgamma\u001b[49m\u001b[43m(\u001b[49m\u001b[43m)\u001b[49m\n",
      "\u001b[1;31mTypeError\u001b[0m: 'int' object is not callable"
     ]
    }
   ],
   "source": [
    "gamma()"
   ]
  },
  {
   "cell_type": "code",
   "execution_count": null,
   "id": "141d42e8",
   "metadata": {},
   "outputs": [],
   "source": [
    "\n",
    "def tau() -> float:\n",
    "    \"\"\"\n",
    "    \"tau()\" returns the constant τ.\n",
    "    The value is approximately 6.283185307179586476925286766559.\n",
    "    \"\"\"\n",
    "    return 6.283185307179586476925286766559"
   ]
  },
  {
   "cell_type": "code",
   "execution_count": null,
   "id": "af6df043",
   "metadata": {},
   "outputs": [],
   "source": [
    "\n",
    "def inf() -> float:\n",
    "    \"\"\"\n",
    "    \"inf()\" returns infinity.\n",
    "    \"\"\"\n",
    "    return float(\"inf\")"
   ]
  },
  {
   "cell_type": "code",
   "execution_count": null,
   "id": "b4d4e97d",
   "metadata": {},
   "outputs": [],
   "source": [
    "def zeta(x):\n",
    "    \"\"\"\n",
    "    \"zeta(x)\" returns the value of ζx.\n",
    "    \"\"\"\n",
    "    if x == 1:\n",
    "        return inf()\n",
    "    a = [0.5 / (1 - (2 ** (1 - x)))]\n",
    "    b = [a[0]]\n",
    "    for n in range(1, 200):\n",
    "        for k in range(n):\n",
    "            a[k] = a[k] * n / (n - k) / 2\n",
    "        a += [-(n / (n + 1)) ** x * a[-1] / n]\n",
    "        b += [sum(a)]\n",
    "        if 1.0e+4 < abs(b[-1]) < 1.0e-6:\n",
    "             break           \n",
    "    return sum(b)\n"
   ]
  },
  {
   "cell_type": "code",
   "execution_count": null,
   "id": "c1f19d0c",
   "metadata": {},
   "outputs": [],
   "source": [
    "zeta(3)"
   ]
  },
  {
   "cell_type": "code",
   "execution_count": null,
   "id": "5803857f",
   "metadata": {},
   "outputs": [],
   "source": [
    "__Gamma_list : list = [\n",
    "      676.5203681218851      ,\n",
    "    -1259.1392167224028      ,\n",
    "      771.32342877765313     ,\n",
    "     -176.61502916214059     ,\n",
    "       12.507343278686905    ,\n",
    "       -0.13857109526572012  ,\n",
    "        9.9843695780195716e-6,\n",
    "        1.5056327351493116e-7,\n",
    "]"
   ]
  },
  {
   "cell_type": "code",
   "execution_count": null,
   "id": "0666d886",
   "metadata": {},
   "outputs": [],
   "source": [
    "π = pi\n",
    "τ = tau\n",
    "φ = phi\n",
    "γ = gamma\n",
    "ζ = zeta\n",
    "Γ = Gamma"
   ]
  },
  {
   "cell_type": "code",
   "execution_count": null,
   "id": "715de7b5",
   "metadata": {},
   "outputs": [],
   "source": [
    "def is_complex(_x) -> bool or array or list:\n",
    "    \"\"\"\n",
    "    \"complex_test(x)\" returns whether x is a complex number.\n",
    "    \"\"\"\n",
    "    try:\n",
    "        a = _x.imag\n",
    "        if a == 0:\n",
    "            return False\n",
    "        else:\n",
    "            return True\n",
    "    except:\n",
    "        return True"
   ]
  },
  {
   "cell_type": "code",
   "execution_count": 5,
   "id": "20cbf19a",
   "metadata": {},
   "outputs": [],
   "source": [
    "def is_real(x):\n",
    "    try:\n",
    "        a =x.real\n",
    "        if a == 0:\n",
    "            return False\n",
    "        else:\n",
    "            return True\n",
    "    except:\n",
    "        return True"
   ]
  },
  {
   "cell_type": "code",
   "execution_count": 8,
   "id": "ace4ec29",
   "metadata": {},
   "outputs": [
    {
     "data": {
      "text/plain": [
       "False"
      ]
     },
     "execution_count": 8,
     "metadata": {},
     "output_type": "execute_result"
    }
   ],
   "source": [
    "is_real(-3j)"
   ]
  },
  {
   "cell_type": "code",
   "execution_count": null,
   "id": "25fc24db",
   "metadata": {},
   "outputs": [],
   "source": [
    "def is_complex(_x):\n",
    "    \"\"\"\n",
    "    \"complex(x)\" returns whether x is a complex number.\n",
    "    \"\"\"\n",
    "    try:\n",
    "        a = _x.imag\n",
    "        if a == 0:\n",
    "            return False\n",
    "        else:\n",
    "            return True\n",
    "    except:\n",
    "        return True"
   ]
  },
  {
   "cell_type": "code",
   "execution_count": null,
   "id": "fa3ef793",
   "metadata": {},
   "outputs": [],
   "source": [
    "complex_test(5+12)"
   ]
  },
  {
   "cell_type": "code",
   "execution_count": null,
   "id": "a36be87d",
   "metadata": {},
   "outputs": [],
   "source": [
    "def transform(p):\n",
    "    x,y  = p\n",
    "    x1 = y + 1.0 - 1.4*x**2\n",
    "    y1 = 0.3*x\n",
    "\n",
    "    return x1, y1"
   ]
  },
  {
   "cell_type": "code",
   "execution_count": null,
   "id": "48761f69",
   "metadata": {},
   "outputs": [],
   "source": [
    "transform([1,2])"
   ]
  },
  {
   "cell_type": "code",
   "execution_count": null,
   "id": "58c9e45a",
   "metadata": {},
   "outputs": [],
   "source": [
    "pi = 3.1415926535897932384626433832795028841971693993751058209749445923078164\n",
    "tau = 2 * pi\n",
    "eta = pi / 2\n",
    "\n",
    "e = 2.7182818284590452353602874713526624977572470936999595749669676277240766\n",
    "phi = 1.6180339887498948482045868343656381177203091798057628621354486227052604\n",
    "\n",
    "sqrt2 = 1.41421356237309504880168872420969807\n",
    "sqrt3 = 1.73205080756887729352744634150587236"
   ]
  },
  {
   "cell_type": "code",
   "execution_count": null,
   "id": "37611d68",
   "metadata": {},
   "outputs": [],
   "source": [
    "import math\n",
    "def erfi(x : float) -> float:\n",
    "    \"\"\"Calculates  the imaginary error function at a specific point\"\"\"\n",
    "    MULTIPLIER = 2 / math.sqrt(math.pi)\n",
    "    total = 0\n",
    "    for n in range(100):\n",
    "        denominator = math.factorial(n) * (2*n+1)\n",
    "        nominator = pow(x,2*n+1)\n",
    "        total += nominator / denominator\n",
    "    return MULTIPLIER * total"
   ]
  },
  {
   "cell_type": "code",
   "execution_count": null,
   "id": "19bc2dcd",
   "metadata": {},
   "outputs": [],
   "source": [
    "erfi(3)"
   ]
  },
  {
   "cell_type": "code",
   "execution_count": null,
   "id": "a59efe22",
   "metadata": {},
   "outputs": [],
   "source": [
    "math.erf(3)"
   ]
  },
  {
   "cell_type": "code",
   "execution_count": null,
   "id": "44360d15",
   "metadata": {},
   "outputs": [],
   "source": [
    "math.erfc(3)"
   ]
  },
  {
   "cell_type": "code",
   "execution_count": null,
   "id": "22a4b29b",
   "metadata": {},
   "outputs": [],
   "source": [
    "def product(*args):\n",
    "    \"\"\"Returns the product of float or ints\n",
    "        product(3,4,5) -> 60\n",
    "        product(*[3,4,5]) -> 60\n",
    "    \"\"\"\n",
    "    prod = 1\n",
    "    for num in args:\n",
    "        prod*=num\n",
    "    return prod"
   ]
  },
  {
   "cell_type": "code",
   "execution_count": null,
   "id": "0e6fc499",
   "metadata": {},
   "outputs": [],
   "source": [
    "product(3,4,5)"
   ]
  },
  {
   "cell_type": "code",
   "execution_count": null,
   "id": "c160b55d",
   "metadata": {},
   "outputs": [],
   "source": [
    "math.prod([3,4,5])"
   ]
  },
  {
   "cell_type": "code",
   "execution_count": null,
   "id": "6b11df96",
   "metadata": {},
   "outputs": [],
   "source": [
    "def isEven(num : int) -> bool:\n",
    "    \"\"\"Returns True if a number can be divded by 2\"\"\"\n",
    "    return num%2==0"
   ]
  },
  {
   "cell_type": "code",
   "execution_count": null,
   "id": "838fbe43",
   "metadata": {},
   "outputs": [],
   "source": [
    "isEven(340)"
   ]
  },
  {
   "cell_type": "code",
   "execution_count": null,
   "id": "966add16",
   "metadata": {},
   "outputs": [],
   "source": [
    "def isOdd(num : int) -> bool:\n",
    "    \"\"\"Returns True if a number cannot be divded by 2\"\"\"\n",
    "    return not isEven(num)"
   ]
  },
  {
   "cell_type": "code",
   "execution_count": null,
   "id": "f8d2b89d",
   "metadata": {},
   "outputs": [],
   "source": [
    "def isPrime(num : int) -> bool:\n",
    "    \"\"\"Returns True if a number can divide num in the \\n\n",
    "       ** range(2,int(1+num**(1/2))) **\n",
    "       \"\"\"\n",
    "    if num == 1:\n",
    "        return False\n",
    "\n",
    "    for i in range(2,int(1+num**(1/2))):\n",
    "        if(num%i==0):\n",
    "            return False\n",
    "    return True"
   ]
  },
  {
   "cell_type": "code",
   "execution_count": null,
   "id": "b997709e",
   "metadata": {},
   "outputs": [],
   "source": []
  },
  {
   "cell_type": "code",
   "execution_count": null,
   "id": "2bd91364",
   "metadata": {},
   "outputs": [],
   "source": []
  },
  {
   "cell_type": "code",
   "execution_count": null,
   "id": "d020c024",
   "metadata": {},
   "outputs": [],
   "source": []
  },
  {
   "cell_type": "code",
   "execution_count": null,
   "id": "accc8b70",
   "metadata": {},
   "outputs": [],
   "source": []
  },
  {
   "cell_type": "code",
   "execution_count": null,
   "id": "4937d8fb",
   "metadata": {},
   "outputs": [],
   "source": []
  },
  {
   "cell_type": "code",
   "execution_count": null,
   "id": "b942fbf4",
   "metadata": {},
   "outputs": [],
   "source": []
  },
  {
   "cell_type": "code",
   "execution_count": null,
   "id": "83c6feac",
   "metadata": {},
   "outputs": [],
   "source": []
  },
  {
   "cell_type": "code",
   "execution_count": null,
   "id": "af3be2f4",
   "metadata": {},
   "outputs": [],
   "source": []
  },
  {
   "cell_type": "code",
   "execution_count": null,
   "id": "41606aa3",
   "metadata": {},
   "outputs": [],
   "source": []
  },
  {
   "cell_type": "code",
   "execution_count": null,
   "id": "1a387971",
   "metadata": {},
   "outputs": [],
   "source": []
  },
  {
   "cell_type": "code",
   "execution_count": null,
   "id": "de4767a1",
   "metadata": {},
   "outputs": [],
   "source": []
  },
  {
   "cell_type": "markdown",
   "id": "f3d596ae",
   "metadata": {},
   "source": [
    "# sierpinski"
   ]
  },
  {
   "cell_type": "code",
   "execution_count": null,
   "id": "40e16d02",
   "metadata": {},
   "outputs": [],
   "source": []
  },
  {
   "cell_type": "code",
   "execution_count": null,
   "id": "23af6d3f",
   "metadata": {},
   "outputs": [],
   "source": []
  },
  {
   "cell_type": "code",
   "execution_count": null,
   "id": "4264e068",
   "metadata": {},
   "outputs": [],
   "source": [
    "def lgama(x):\n",
    "    pass"
   ]
  },
  {
   "cell_type": "code",
   "execution_count": null,
   "id": "7e90f11e",
   "metadata": {},
   "outputs": [],
   "source": [
    "def frexp():\n",
    "    \"\"\"\n",
    "    Return the mantissa and exponent of x, as pair (m, e).\n",
    "\n",
    "    m is a float and e is an int, such that x = m * 2.**e.\n",
    "    If x is 0, m and e are both 0.  Else 0.5 <= abs(m) < 1.0.\n",
    "    \n",
    "    \"\"\""
   ]
  },
  {
   "cell_type": "code",
   "execution_count": null,
   "id": "6cc1026f",
   "metadata": {},
   "outputs": [],
   "source": [
    "def nextafter():\n",
    "    pass\n",
    "\n",
    "def ulp(x):\n",
    "    pass\n",
    "\n",
    "def prod(iterable, /, *, start=1):\n",
    "    pass"
   ]
  },
  {
   "cell_type": "markdown",
   "id": "02e845bc",
   "metadata": {},
   "source": [
    "# erf\n",
    "\n",
    "# erfi\n",
    "\n",
    "# erfc"
   ]
  },
  {
   "cell_type": "code",
   "execution_count": null,
   "id": "384fde1e",
   "metadata": {},
   "outputs": [],
   "source": [
    "import math\n",
    "def erf(x):\n",
    "    # save the sign of x\n",
    "    sign = 1 if x >= 0 else -1\n",
    "    x = abs(x)\n",
    "\n",
    "    # constants\n",
    "    a1 =  0.254829592\n",
    "    a2 = -0.284496736\n",
    "    a3 =  1.421413741\n",
    "    a4 = -1.453152027\n",
    "    a5 =  1.061405429\n",
    "    p  =  0.3275911\n",
    "\n",
    "    # A&S formula 7.1.26\n",
    "    t = 1.0/(1.0 + p*x)\n",
    "    y = 1.0 - (((((a5*t + a4)*t) + a3)*t + a2)*t + a1)*t*math.exp(-x*x)\n",
    "    return sign*y # erf(-x) = -erf(x)"
   ]
  },
  {
   "cell_type": "code",
   "execution_count": null,
   "id": "1cd498dd",
   "metadata": {},
   "outputs": [],
   "source": [
    "erf(4.5)"
   ]
  },
  {
   "cell_type": "code",
   "execution_count": null,
   "id": "edd312c5",
   "metadata": {},
   "outputs": [],
   "source": [
    "math.erf(4.5)"
   ]
  },
  {
   "cell_type": "code",
   "execution_count": null,
   "id": "d4aa0219",
   "metadata": {},
   "outputs": [],
   "source": [
    "def power(x,y):\n",
    "    return x**y\n",
    "def erf(x : float) -> float:\n",
    "    \"\"\"Calculates the error function at a specific point\"\"\"\n",
    "    MULTIPLIER = 2 / math.sqrt(math.pi)\n",
    "    total = 0\n",
    "    for n in range(100):\n",
    "        denominator = math.factorial(n) * (2*n+1)\n",
    "        nominator = power(-1,n) * power(x,2*n+1)\n",
    "        total += nominator / denominator\n",
    "    return MULTIPLIER * total"
   ]
  },
  {
   "cell_type": "code",
   "execution_count": null,
   "id": "21d77e04",
   "metadata": {},
   "outputs": [],
   "source": [
    "erf(4.5)"
   ]
  },
  {
   "cell_type": "code",
   "execution_count": null,
   "id": "95dbaed0",
   "metadata": {},
   "outputs": [],
   "source": [
    "pow(2,3)"
   ]
  },
  {
   "cell_type": "code",
   "execution_count": null,
   "id": "ff46781a",
   "metadata": {},
   "outputs": [],
   "source": [
    "import math\n",
    "\n",
    "def erf(x):\n",
    "    # constants\n",
    "    a1 =  0.254829592\n",
    "    a2 = -0.284496736\n",
    "    a3 =  1.421413741\n",
    "    a4 = -1.453152027\n",
    "    a5 =  1.061405429\n",
    "    p  =  0.3275911\n",
    "\n",
    "    # Save the sign of x\n",
    "    sign = 1\n",
    "    if x < 0:\n",
    "        sign = -1\n",
    "    x = abs(x)\n",
    "\n",
    "    # A&S formula 7.1.26\n",
    "    t = 1.0/(1.0 + p*x)\n",
    "    y = 1.0 - (((((a5*t + a4)*t) + a3)*t + a2)*t + a1)*t*math.exp(-x*x)\n",
    "\n",
    "    return sign*y"
   ]
  },
  {
   "cell_type": "code",
   "execution_count": null,
   "id": "006bdb78",
   "metadata": {},
   "outputs": [],
   "source": [
    "erf(4.5)"
   ]
  },
  {
   "cell_type": "code",
   "execution_count": null,
   "id": "67ca4739",
   "metadata": {},
   "outputs": [],
   "source": [
    "def erfi(x : float) -> float:\n",
    "    \"\"\"Calculates  the imaginary error function at a specific point\"\"\"\n",
    "    MULTIPLIER = 2 / math.sqrt(math.pi)\n",
    "    total = 0\n",
    "    for n in range(100):\n",
    "        denominator = math.factorial(n) * (2*n+1)\n",
    "        nominator = power(x,2*n+1)\n",
    "        total += nominator / denominator\n",
    "    return MULTIPLIER * total"
   ]
  },
  {
   "cell_type": "code",
   "execution_count": null,
   "id": "3a10e214",
   "metadata": {},
   "outputs": [],
   "source": [
    "math.erfc(3.4)"
   ]
  },
  {
   "cell_type": "code",
   "execution_count": null,
   "id": "400c0193",
   "metadata": {},
   "outputs": [],
   "source": [
    "erfi(3.4)"
   ]
  },
  {
   "cell_type": "code",
   "execution_count": null,
   "id": "7ab66970",
   "metadata": {},
   "outputs": [],
   "source": [
    "# Implements the Gauss error function.\n",
    "#   erf(z) = 2 / sqrt(pi) * integral(exp(-t*t), t = 0..z)\n",
    "#\n",
    "# fractional error in math formula less than 1.2 * 10 ^ -7.\n",
    "# although subject to catastrophic cancellation when z in very close to 0\n",
    "# from Chebyshev fitting formula for erf(z) from Numerical Recipes, 6.2\n",
    "def erf(z):\n",
    "    t = 1.0 / (1.0 + 0.5 * abs(z))\n",
    "        # use Horner's method\n",
    "    ans = 1 - t * math.exp( -z*z -  1.26551223 +\n",
    "                            t * ( 1.00002368 +\n",
    "                            t * ( 0.37409196 + \n",
    "                            t * ( 0.09678418 + \n",
    "                            t * (-0.18628806 + \n",
    "                            t * ( 0.27886807 + \n",
    "                            t * (-1.13520398 + \n",
    "                            t * ( 1.48851587 + \n",
    "                            t * (-0.82215223 + \n",
    "                            t * ( 0.17087277))))))))))\n",
    "    if z >= 0.0:\n",
    "        return ans\n",
    "    else:\n",
    "        return -ans"
   ]
  },
  {
   "cell_type": "code",
   "execution_count": null,
   "id": "454a4a7f",
   "metadata": {},
   "outputs": [],
   "source": [
    "#https://stackoverflow.com/questions/457408/is-there-an-easily-available-implementation-of-erf-for-python"
   ]
  },
  {
   "cell_type": "code",
   "execution_count": null,
   "id": "7edce40c",
   "metadata": {},
   "outputs": [],
   "source": [
    "erf(4.5)"
   ]
  },
  {
   "cell_type": "code",
   "execution_count": null,
   "id": "3d5eda93",
   "metadata": {},
   "outputs": [],
   "source": [
    "import math"
   ]
  },
  {
   "cell_type": "code",
   "execution_count": null,
   "id": "99310397",
   "metadata": {},
   "outputs": [],
   "source": [
    "math.erf(4.5)"
   ]
  },
  {
   "cell_type": "code",
   "execution_count": null,
   "id": "b51d2df5",
   "metadata": {},
   "outputs": [],
   "source": [
    "math.exp(3)"
   ]
  },
  {
   "cell_type": "code",
   "execution_count": null,
   "id": "acfd8b85",
   "metadata": {},
   "outputs": [],
   "source": [
    "math.e**3"
   ]
  },
  {
   "cell_type": "code",
   "execution_count": null,
   "id": "52b00f44",
   "metadata": {},
   "outputs": [],
   "source": [
    "def erfc(x):\n",
    "    return 1 - math.erf(x)"
   ]
  },
  {
   "cell_type": "code",
   "execution_count": null,
   "id": "5a94d18e",
   "metadata": {},
   "outputs": [],
   "source": [
    "math.erfc(4.5)"
   ]
  },
  {
   "cell_type": "code",
   "execution_count": null,
   "id": "d41d234f",
   "metadata": {},
   "outputs": [],
   "source": [
    "erfc(4.5)"
   ]
  },
  {
   "cell_type": "code",
   "execution_count": null,
   "id": "19bf8382",
   "metadata": {},
   "outputs": [],
   "source": []
  },
  {
   "cell_type": "code",
   "execution_count": null,
   "id": "6fa51cb2",
   "metadata": {},
   "outputs": [],
   "source": []
  },
  {
   "cell_type": "code",
   "execution_count": null,
   "id": "537cb82f",
   "metadata": {},
   "outputs": [],
   "source": []
  },
  {
   "cell_type": "code",
   "execution_count": null,
   "id": "37b1dd8f",
   "metadata": {},
   "outputs": [],
   "source": []
  },
  {
   "cell_type": "code",
   "execution_count": null,
   "id": "53000a5d",
   "metadata": {},
   "outputs": [],
   "source": [
    "import math"
   ]
  },
  {
   "cell_type": "code",
   "execution_count": null,
   "id": "a0ab5954",
   "metadata": {
    "scrolled": false
   },
   "outputs": [],
   "source": [
    "dir(math)"
   ]
  },
  {
   "cell_type": "markdown",
   "id": "0637cc71",
   "metadata": {},
   "source": [
    "__all__[\n",
    "  \n",
    " 'ceil',\n",
    " 'comb',\n",
    " 'copysign',\n",
    " 'dist',\n",
    " 'erf',\n",
    " 'erfc',\n",
    " 'exp',\n",
    " 'expm1',\n",
    " 'fmod',\n",
    " 'frexp',\n",
    " 'fsum',\n",
    " 'gamma',\n",
    " 'hypot',\n",
    " 'inf',\n",
    " 'isclose',\n",
    " 'isfinite',\n",
    " 'isinf',\n",
    " 'isnan',\n",
    " 'isqrt',\n",
    " 'ldexp',\n",
    " 'lgamma',\n",
    " 'modf',\n",
    " 'nan',\n",
    " 'nextafter',\n",
    " 'perm',\n",
    " 'pow',\n",
    " 'prod',\n",
    " 'remainder',\n",
    " 'tanh',\n",
    " 'tau',\n",
    " 'trunc',\n",
    " 'ulp']"
   ]
  },
  {
   "cell_type": "code",
   "execution_count": null,
   "id": "4b718f6b",
   "metadata": {},
   "outputs": [],
   "source": [
    "def ceil(x,/):\n",
    "    \"\"\"\n",
    "    Return the ceiling of x as an Integral.\n",
    "    This is the smallest integer >= x.\n",
    "    \"\"\"\n",
    "    if (int == type(x)):\n",
    "        return x \n",
    "    elif (float == type(x)):\n",
    "        i= int(x)\n",
    "        if(x == i):\n",
    "            return i\n",
    "        else:\n",
    "            \n",
    "            return (i+1)"
   ]
  },
  {
   "cell_type": "code",
   "execution_count": null,
   "id": "4fa9457a",
   "metadata": {},
   "outputs": [],
   "source": [
    "import math "
   ]
  },
  {
   "cell_type": "code",
   "execution_count": null,
   "id": "159d3b00",
   "metadata": {
    "scrolled": true
   },
   "outputs": [],
   "source": [
    "math.ceil(5)"
   ]
  },
  {
   "cell_type": "code",
   "execution_count": null,
   "id": "22e40635",
   "metadata": {},
   "outputs": [],
   "source": [
    "ceil(5)"
   ]
  },
  {
   "cell_type": "code",
   "execution_count": null,
   "id": "9d7c5c23",
   "metadata": {},
   "outputs": [],
   "source": [
    "def factorial(n):\n",
    "    return 1 if(n==1 or n==0) else n*factorial(n-1)\n",
    "\n",
    "\n",
    "def perm(n,k):\n",
    "    if(n >= k):\n",
    "        minus = (n-k)\n",
    "        n = factorial(n)\n",
    "        k = factorial(minus)\n",
    "        \n",
    "        return (n/k)"
   ]
  },
  {
   "cell_type": "code",
   "execution_count": null,
   "id": "aae9d307",
   "metadata": {},
   "outputs": [],
   "source": [
    "import math"
   ]
  },
  {
   "cell_type": "code",
   "execution_count": null,
   "id": "16fb3548",
   "metadata": {},
   "outputs": [],
   "source": [
    "math.perm(5,4)"
   ]
  },
  {
   "cell_type": "code",
   "execution_count": null,
   "id": "22068848",
   "metadata": {},
   "outputs": [],
   "source": [
    "permutations(5,4)"
   ]
  },
  {
   "cell_type": "code",
   "execution_count": null,
   "id": "9c8ed9a5",
   "metadata": {
    "scrolled": true
   },
   "outputs": [],
   "source": [
    "math.perm(9,-1)"
   ]
  },
  {
   "cell_type": "code",
   "execution_count": null,
   "id": "68b3db4c",
   "metadata": {},
   "outputs": [],
   "source": [
    "permutations(9,-1)"
   ]
  },
  {
   "cell_type": "code",
   "execution_count": null,
   "id": "e61ad6ce",
   "metadata": {},
   "outputs": [],
   "source": [
    "math.perm(3,2)"
   ]
  },
  {
   "cell_type": "code",
   "execution_count": null,
   "id": "29f5bd96",
   "metadata": {},
   "outputs": [],
   "source": [
    "permutations(3,2)"
   ]
  },
  {
   "cell_type": "code",
   "execution_count": null,
   "id": "b606251a",
   "metadata": {},
   "outputs": [],
   "source": [
    "def comb(n,k):\n",
    "    if (n >= k):\n",
    "        minus = (n-k)\n",
    "        n = factorial(n)\n",
    "        k = factorial(k)* factorial(minus)\n",
    "        \n",
    "        return ((n/k))"
   ]
  },
  {
   "cell_type": "code",
   "execution_count": null,
   "id": "b06eaa68",
   "metadata": {},
   "outputs": [],
   "source": [
    "math.comb(3,2)"
   ]
  },
  {
   "cell_type": "code",
   "execution_count": null,
   "id": "27b8d6e7",
   "metadata": {},
   "outputs": [],
   "source": [
    "comb(3,2)"
   ]
  },
  {
   "cell_type": "code",
   "execution_count": null,
   "id": "e255261f",
   "metadata": {},
   "outputs": [],
   "source": [
    "math.copysign(1.0,-0.0)"
   ]
  },
  {
   "cell_type": "code",
   "execution_count": null,
   "id": "77b59a62",
   "metadata": {},
   "outputs": [],
   "source": [
    "math.copysign(1,2)"
   ]
  },
  {
   "cell_type": "code",
   "execution_count": null,
   "id": "cf740e06",
   "metadata": {},
   "outputs": [],
   "source": [
    "def copysign(x,y):\n",
    "    \n",
    "    \n",
    "    \"\"\"\n",
    "    Return a float with the magnitude (absolute value) of x but the sign of y.\n",
    "    \"\"\"\n",
    "    if(y<=0):\n",
    "        return (abs(x)*(-1))\n",
    "    else:\n",
    "        return float(abs(x))"
   ]
  },
  {
   "cell_type": "code",
   "execution_count": null,
   "id": "28b96dcb",
   "metadata": {},
   "outputs": [],
   "source": [
    "copysign(1.0,-0.0)"
   ]
  },
  {
   "cell_type": "code",
   "execution_count": null,
   "id": "d4190ffa",
   "metadata": {},
   "outputs": [],
   "source": [
    "copysign(1,2)"
   ]
  },
  {
   "cell_type": "code",
   "execution_count": null,
   "id": "cdbfbde1",
   "metadata": {},
   "outputs": [],
   "source": [
    "math.copysign(-3,4)"
   ]
  },
  {
   "cell_type": "code",
   "execution_count": null,
   "id": "76dcf043",
   "metadata": {},
   "outputs": [],
   "source": [
    "copysign(3,4)"
   ]
  },
  {
   "cell_type": "code",
   "execution_count": null,
   "id": "2ce183e4",
   "metadata": {},
   "outputs": [],
   "source": [
    "math.dist([3,4],[5,6])"
   ]
  },
  {
   "cell_type": "code",
   "execution_count": null,
   "id": "08b43c81",
   "metadata": {},
   "outputs": [],
   "source": [
    "def dist(p,q):\n",
    "    return math.sqrt(sum((px - qx) ** 2.0 for px, qx in zip(p, q)))"
   ]
  },
  {
   "cell_type": "code",
   "execution_count": null,
   "id": "3ffc068b",
   "metadata": {},
   "outputs": [],
   "source": [
    "dist([3,4],[5,6])"
   ]
  },
  {
   "cell_type": "code",
   "execution_count": null,
   "id": "f187569e",
   "metadata": {},
   "outputs": [],
   "source": [
    "math.erf(0.07)"
   ]
  },
  {
   "cell_type": "code",
   "execution_count": null,
   "id": "92d0e0a7",
   "metadata": {},
   "outputs": [],
   "source": [
    "e=2.7182818284\n",
    "def exp(x,/):\n",
    "    x = e**x\n",
    "    return x"
   ]
  },
  {
   "cell_type": "code",
   "execution_count": null,
   "id": "df7bd485",
   "metadata": {},
   "outputs": [],
   "source": [
    "exp(12)"
   ]
  },
  {
   "cell_type": "code",
   "execution_count": null,
   "id": "447b904f",
   "metadata": {},
   "outputs": [],
   "source": [
    "import math"
   ]
  },
  {
   "cell_type": "code",
   "execution_count": null,
   "id": "b3db1de5",
   "metadata": {},
   "outputs": [],
   "source": [
    "math.exp(12)"
   ]
  },
  {
   "cell_type": "code",
   "execution_count": null,
   "id": "1cf99858",
   "metadata": {},
   "outputs": [],
   "source": [
    "math.expm1(12)"
   ]
  },
  {
   "cell_type": "code",
   "execution_count": null,
   "id": "2942f578",
   "metadata": {},
   "outputs": [],
   "source": [
    "math.fmod(4,6)"
   ]
  },
  {
   "cell_type": "code",
   "execution_count": null,
   "id": "fad1bf33",
   "metadata": {},
   "outputs": [],
   "source": [
    "from math import floor, log10\n",
    "\n",
    "def fexp(f):\n",
    "    return int(floor(log10(abs(f)))) if f != 0 else 0"
   ]
  },
  {
   "cell_type": "code",
   "execution_count": null,
   "id": "37d90269",
   "metadata": {},
   "outputs": [],
   "source": [
    "fexp(2)"
   ]
  },
  {
   "cell_type": "code",
   "execution_count": null,
   "id": "87181478",
   "metadata": {},
   "outputs": [],
   "source": [
    "from decimal import Decimal\n",
    "\n",
    "def fexp(number):\n",
    "    (sign, digits, exponent) = Decimal(number).as_tuple()\n",
    "    return len(digits) + exponent - 1\n",
    "\n",
    "def fman(number):\n",
    "    return Decimal(number).scaleb(-fexp(number)).normalize()"
   ]
  },
  {
   "cell_type": "code",
   "execution_count": null,
   "id": "047d2f52",
   "metadata": {},
   "outputs": [],
   "source": [
    "fexp(2)"
   ]
  },
  {
   "cell_type": "code",
   "execution_count": null,
   "id": "4e490985",
   "metadata": {},
   "outputs": [],
   "source": [
    "math.frexp(2)"
   ]
  },
  {
   "cell_type": "code",
   "execution_count": null,
   "id": "62bdf0ed",
   "metadata": {},
   "outputs": [],
   "source": [
    "math.frexp(3)"
   ]
  },
  {
   "cell_type": "code",
   "execution_count": null,
   "id": "0bed1714",
   "metadata": {},
   "outputs": [],
   "source": [
    "math.frexp(-3)"
   ]
  },
  {
   "cell_type": "code",
   "execution_count": null,
   "id": "ad35d687",
   "metadata": {},
   "outputs": [],
   "source": [
    "math.frexp(12)"
   ]
  },
  {
   "cell_type": "code",
   "execution_count": null,
   "id": "76edba9e",
   "metadata": {},
   "outputs": [],
   "source": [
    "fexp(12)"
   ]
  },
  {
   "cell_type": "code",
   "execution_count": null,
   "id": "52e356ec",
   "metadata": {},
   "outputs": [],
   "source": []
  },
  {
   "cell_type": "code",
   "execution_count": null,
   "id": "6e6ebe83",
   "metadata": {},
   "outputs": [],
   "source": [
    "math.frexp(100)"
   ]
  },
  {
   "cell_type": "code",
   "execution_count": null,
   "id": "b95e571a",
   "metadata": {},
   "outputs": [],
   "source": []
  },
  {
   "cell_type": "code",
   "execution_count": null,
   "id": "5e5a8893",
   "metadata": {},
   "outputs": [],
   "source": [
    "4**0.625"
   ]
  },
  {
   "cell_type": "code",
   "execution_count": null,
   "id": "adb0d293",
   "metadata": {},
   "outputs": [],
   "source": [
    "math.fsum({2,3,4})"
   ]
  },
  {
   "cell_type": "code",
   "execution_count": null,
   "id": "7bead459",
   "metadata": {},
   "outputs": [],
   "source": [
    "def fsum(seq):\n",
    "    return sum(seq)"
   ]
  },
  {
   "cell_type": "code",
   "execution_count": null,
   "id": "a3abf9d7",
   "metadata": {},
   "outputs": [],
   "source": [
    "fsum({2,3,4.})"
   ]
  },
  {
   "cell_type": "code",
   "execution_count": null,
   "id": "d14bcfe2",
   "metadata": {},
   "outputs": [],
   "source": [
    "# https://en.wikipedia.org/wiki/Gamma_function"
   ]
  },
  {
   "cell_type": "code",
   "execution_count": null,
   "id": "caebb7a0",
   "metadata": {
    "scrolled": true
   },
   "outputs": [],
   "source": [
    "math.gamma(5)"
   ]
  },
  {
   "cell_type": "code",
   "execution_count": null,
   "id": "1ada72dd",
   "metadata": {},
   "outputs": [],
   "source": [
    "import math\n",
    "\n",
    "def gamma(nsteps, gamma):\n",
    "    gammaedUp = [math.pow(x, gamma) for x in range(nsteps)]\n",
    "    return [x/max(gammaedUp) for x in gammaedUp]"
   ]
  },
  {
   "cell_type": "code",
   "execution_count": null,
   "id": "551b4a56",
   "metadata": {},
   "outputs": [],
   "source": [
    "gamma(3,5)"
   ]
  },
  {
   "cell_type": "code",
   "execution_count": null,
   "id": "5c000032",
   "metadata": {},
   "outputs": [],
   "source": []
  },
  {
   "cell_type": "code",
   "execution_count": null,
   "id": "e9e3376c",
   "metadata": {},
   "outputs": [],
   "source": [
    "def gamma():\n",
    "    pass"
   ]
  },
  {
   "cell_type": "code",
   "execution_count": null,
   "id": "a510abc8",
   "metadata": {},
   "outputs": [],
   "source": [
    "math.inf()"
   ]
  },
  {
   "cell_type": "code",
   "execution_count": null,
   "id": "1fcd5de6",
   "metadata": {},
   "outputs": [],
   "source": [
    "math.isclose(5,7)"
   ]
  },
  {
   "cell_type": "code",
   "execution_count": null,
   "id": "c3d5e4ed",
   "metadata": {},
   "outputs": [],
   "source": [
    "math.isqrt(81)"
   ]
  },
  {
   "cell_type": "code",
   "execution_count": null,
   "id": "a150084a",
   "metadata": {},
   "outputs": [],
   "source": [
    "def isqrt(x):\n",
    "    x = x**0.5\n",
    "    return int(x)"
   ]
  },
  {
   "cell_type": "code",
   "execution_count": null,
   "id": "3e3615a3",
   "metadata": {},
   "outputs": [],
   "source": [
    "isqrt(81)"
   ]
  },
  {
   "cell_type": "code",
   "execution_count": null,
   "id": "49369bf9",
   "metadata": {},
   "outputs": [],
   "source": [
    "math.ldexp()"
   ]
  },
  {
   "cell_type": "code",
   "execution_count": null,
   "id": "defb7bc1",
   "metadata": {},
   "outputs": [],
   "source": [
    "math.lgamma(3)"
   ]
  },
  {
   "cell_type": "code",
   "execution_count": null,
   "id": "dd4b7725",
   "metadata": {},
   "outputs": [],
   "source": []
  },
  {
   "cell_type": "code",
   "execution_count": null,
   "id": "b2d5b4e7",
   "metadata": {},
   "outputs": [],
   "source": [
    "math.nextafter(5,8)"
   ]
  },
  {
   "cell_type": "code",
   "execution_count": null,
   "id": "a0e7e543",
   "metadata": {},
   "outputs": [],
   "source": []
  },
  {
   "cell_type": "code",
   "execution_count": null,
   "id": "6e38eb7a",
   "metadata": {},
   "outputs": [],
   "source": []
  },
  {
   "cell_type": "code",
   "execution_count": null,
   "id": "d4d65329",
   "metadata": {
    "scrolled": true
   },
   "outputs": [],
   "source": [
    "math.prod([4,2,3,])"
   ]
  },
  {
   "cell_type": "code",
   "execution_count": null,
   "id": "bbaa078e",
   "metadata": {},
   "outputs": [],
   "source": []
  },
  {
   "cell_type": "code",
   "execution_count": null,
   "id": "a7eaa732",
   "metadata": {},
   "outputs": [],
   "source": []
  },
  {
   "cell_type": "code",
   "execution_count": null,
   "id": "0baac085",
   "metadata": {},
   "outputs": [],
   "source": [
    "trunc', 'ulp"
   ]
  },
  {
   "cell_type": "code",
   "execution_count": null,
   "id": "1b595a66",
   "metadata": {},
   "outputs": [],
   "source": [
    "math.trunc(-31.9)"
   ]
  },
  {
   "cell_type": "code",
   "execution_count": null,
   "id": "f66073e1",
   "metadata": {},
   "outputs": [],
   "source": [
    "def trunc(x):\n",
    "    return int(x)"
   ]
  },
  {
   "cell_type": "code",
   "execution_count": null,
   "id": "aa3c4d41",
   "metadata": {},
   "outputs": [],
   "source": [
    "trunc(-31.9)"
   ]
  },
  {
   "cell_type": "code",
   "execution_count": null,
   "id": "f8a7776f",
   "metadata": {},
   "outputs": [],
   "source": [
    "math.ulp(355)"
   ]
  },
  {
   "cell_type": "code",
   "execution_count": null,
   "id": "3665f96d",
   "metadata": {},
   "outputs": [],
   "source": [
    "type(math.inf)"
   ]
  },
  {
   "cell_type": "code",
   "execution_count": null,
   "id": "5255f77c",
   "metadata": {},
   "outputs": [],
   "source": [
    "import numpy as np "
   ]
  },
  {
   "cell_type": "code",
   "execution_count": null,
   "id": "dae5b034",
   "metadata": {},
   "outputs": [],
   "source": [
    "type(np.inf)"
   ]
  },
  {
   "cell_type": "code",
   "execution_count": null,
   "id": "c1ffc95b",
   "metadata": {},
   "outputs": [],
   "source": []
  },
  {
   "cell_type": "code",
   "execution_count": null,
   "id": "5a2ec8ff",
   "metadata": {},
   "outputs": [],
   "source": []
  },
  {
   "cell_type": "code",
   "execution_count": null,
   "id": "58a130e2",
   "metadata": {},
   "outputs": [],
   "source": [
    "def fmod(x,y,/):\n",
    "    \"\"\"\n",
    "    Return fmod(x, y), according to platform C.\n",
    "\n",
    "    x % y may differ.\n",
    "    \n",
    "    \"\"\"\n",
    "    z =float (x%y) \n",
    "    return z "
   ]
  },
  {
   "cell_type": "code",
   "execution_count": null,
   "id": "bdb5bf33",
   "metadata": {},
   "outputs": [],
   "source": [
    "import math"
   ]
  },
  {
   "cell_type": "code",
   "execution_count": null,
   "id": "27775ef8",
   "metadata": {},
   "outputs": [],
   "source": [
    "math.fmod(3,4)"
   ]
  },
  {
   "cell_type": "code",
   "execution_count": null,
   "id": "af0a88c9",
   "metadata": {},
   "outputs": [],
   "source": [
    "fmod(3,4)"
   ]
  },
  {
   "cell_type": "code",
   "execution_count": null,
   "id": "5b3aea9a",
   "metadata": {},
   "outputs": [],
   "source": [
    "math.fmod(4,4)"
   ]
  },
  {
   "cell_type": "code",
   "execution_count": null,
   "id": "61dd2603",
   "metadata": {},
   "outputs": [],
   "source": [
    "fmod(4,4)"
   ]
  },
  {
   "cell_type": "code",
   "execution_count": null,
   "id": "f596eb21",
   "metadata": {},
   "outputs": [],
   "source": [
    "e=2.7182818284\n",
    "def exp(x,/):\n",
    "    x = e**x\n",
    "    return x"
   ]
  },
  {
   "cell_type": "code",
   "execution_count": null,
   "id": "c391a6db",
   "metadata": {},
   "outputs": [],
   "source": [
    "math.exp(3)"
   ]
  },
  {
   "cell_type": "code",
   "execution_count": null,
   "id": "afea43f7",
   "metadata": {},
   "outputs": [],
   "source": [
    "exp(3)"
   ]
  },
  {
   "cell_type": "code",
   "execution_count": null,
   "id": "714027f0",
   "metadata": {},
   "outputs": [],
   "source": [
    "def remainder(x,y,/):\n",
    "    r = x%y\n",
    "    c = float (-1 * (y/r))\n",
    "    \n",
    "    return c"
   ]
  },
  {
   "cell_type": "code",
   "execution_count": null,
   "id": "b9de36df",
   "metadata": {},
   "outputs": [],
   "source": [
    "3%4"
   ]
  },
  {
   "cell_type": "code",
   "execution_count": null,
   "id": "de89b909",
   "metadata": {},
   "outputs": [],
   "source": [
    "4%4"
   ]
  },
  {
   "cell_type": "code",
   "execution_count": null,
   "id": "4ac2f9af",
   "metadata": {},
   "outputs": [],
   "source": [
    "8%4"
   ]
  },
  {
   "cell_type": "code",
   "execution_count": null,
   "id": "e137a418",
   "metadata": {},
   "outputs": [],
   "source": [
    "math.remainder(3,4)"
   ]
  },
  {
   "cell_type": "code",
   "execution_count": null,
   "id": "36249a20",
   "metadata": {},
   "outputs": [],
   "source": [
    "remainder(3,4)"
   ]
  },
  {
   "cell_type": "code",
   "execution_count": null,
   "id": "5e730051",
   "metadata": {},
   "outputs": [],
   "source": [
    "math.remainder(4,6)"
   ]
  },
  {
   "cell_type": "code",
   "execution_count": null,
   "id": "abc0dee4",
   "metadata": {
    "scrolled": true
   },
   "outputs": [],
   "source": [
    "math.remainder(5,9)"
   ]
  },
  {
   "cell_type": "code",
   "execution_count": null,
   "id": "15f759e6",
   "metadata": {},
   "outputs": [],
   "source": [
    "math.remainder(9,5)"
   ]
  },
  {
   "cell_type": "code",
   "execution_count": null,
   "id": "ce782a29",
   "metadata": {},
   "outputs": [],
   "source": [
    "math.remainder(4.5,2)"
   ]
  },
  {
   "cell_type": "code",
   "execution_count": null,
   "id": "0e85cd69",
   "metadata": {},
   "outputs": [],
   "source": [
    "4.5 // 2"
   ]
  },
  {
   "cell_type": "code",
   "execution_count": null,
   "id": "75d2b0ad",
   "metadata": {},
   "outputs": [],
   "source": [
    "4.5 % 2"
   ]
  },
  {
   "cell_type": "code",
   "execution_count": null,
   "id": "d4b022a3",
   "metadata": {},
   "outputs": [],
   "source": [
    "def remainder(x,y):\n",
    "    z = y % x\n",
    "    return z \n",
    "        "
   ]
  },
  {
   "cell_type": "code",
   "execution_count": null,
   "id": "34007786",
   "metadata": {},
   "outputs": [],
   "source": [
    "remainder(4,6)"
   ]
  },
  {
   "cell_type": "code",
   "execution_count": null,
   "id": "4cf983de",
   "metadata": {},
   "outputs": [],
   "source": [
    "4 % 6"
   ]
  },
  {
   "cell_type": "code",
   "execution_count": null,
   "id": "b64ea1e3",
   "metadata": {},
   "outputs": [],
   "source": [
    "def radians(x,/):\n",
    "    \"\"\"Convert angle x from degrees to radians.\"\"\"\n",
    "    r= 0.017453292519943295\n",
    "    r = x*r\n",
    "    return r"
   ]
  },
  {
   "cell_type": "code",
   "execution_count": null,
   "id": "f116885a",
   "metadata": {},
   "outputs": [],
   "source": [
    "def modf(x):\n",
    "    a = int(x)\n",
    "    b = (x%a)\n",
    "    x = float(a)\n",
    "    decimal_places='%.1f'\n",
    "    b = float(decimal_places %b)\n",
    "    return  b, x"
   ]
  },
  {
   "cell_type": "code",
   "execution_count": null,
   "id": "03006188",
   "metadata": {},
   "outputs": [],
   "source": [
    "def degress(x,/):\n",
    "    \"\"\"Convert angle x from radians to degrees.\"\"\"\n",
    "    dv = 57.29577951308232\n",
    "    deg = x*dv\n",
    "    return deg"
   ]
  },
  {
   "cell_type": "code",
   "execution_count": null,
   "id": "a354db94",
   "metadata": {},
   "outputs": [],
   "source": [
    "def expm1(x,/):\n",
    "    \"\"\"Return exp(x)-1.\"\"\"\n",
    "    x = ex(x)-1\n",
    "    return x "
   ]
  },
  {
   "cell_type": "code",
   "execution_count": null,
   "id": "e8b96869",
   "metadata": {},
   "outputs": [],
   "source": [
    "def ldexp(x,i,/):\n",
    "    \n",
    "    x =float (x*(2**i))\n",
    "    return x "
   ]
  },
  {
   "cell_type": "code",
   "execution_count": null,
   "id": "d79bfb8c",
   "metadata": {},
   "outputs": [],
   "source": [
    "import math"
   ]
  },
  {
   "cell_type": "code",
   "execution_count": null,
   "id": "9a406802",
   "metadata": {},
   "outputs": [],
   "source": [
    "math.atan2(5,4)"
   ]
  },
  {
   "cell_type": "code",
   "execution_count": null,
   "id": "b240a33a",
   "metadata": {},
   "outputs": [],
   "source": [
    "math.atan(5) "
   ]
  },
  {
   "cell_type": "code",
   "execution_count": null,
   "id": "4e64a572",
   "metadata": {},
   "outputs": [],
   "source": [
    "1.3258176636680326 /1.373400766945016"
   ]
  },
  {
   "cell_type": "code",
   "execution_count": null,
   "id": "3f39908e",
   "metadata": {},
   "outputs": [],
   "source": [
    "math.atan(4)"
   ]
  },
  {
   "cell_type": "code",
   "execution_count": null,
   "id": "36af95ec",
   "metadata": {},
   "outputs": [],
   "source": [
    "math.atan(5) / math.atan(4)"
   ]
  },
  {
   "cell_type": "code",
   "execution_count": null,
   "id": "8f53a21f",
   "metadata": {},
   "outputs": [],
   "source": [
    "5/4"
   ]
  },
  {
   "cell_type": "code",
   "execution_count": null,
   "id": "98a53bfb",
   "metadata": {},
   "outputs": [],
   "source": [
    "math.atan(1.25)"
   ]
  },
  {
   "cell_type": "code",
   "execution_count": null,
   "id": "d9121745",
   "metadata": {},
   "outputs": [],
   "source": [
    "math.atan2(5,4)"
   ]
  },
  {
   "cell_type": "code",
   "execution_count": null,
   "id": "1089c32a",
   "metadata": {},
   "outputs": [],
   "source": [
    "def atan2(y,x,/):\n",
    "    return math.atan(y/x)"
   ]
  },
  {
   "cell_type": "code",
   "execution_count": null,
   "id": "09309267",
   "metadata": {},
   "outputs": [],
   "source": [
    "atan2(5,4)"
   ]
  },
  {
   "cell_type": "code",
   "execution_count": null,
   "id": "13d6907e",
   "metadata": {},
   "outputs": [],
   "source": []
  }
 ],
 "metadata": {
  "kernelspec": {
   "display_name": "Python 3 (ipykernel)",
   "language": "python",
   "name": "python3"
  },
  "language_info": {
   "codemirror_mode": {
    "name": "ipython",
    "version": 3
   },
   "file_extension": ".py",
   "mimetype": "text/x-python",
   "name": "python",
   "nbconvert_exporter": "python",
   "pygments_lexer": "ipython3",
   "version": "3.9.12"
  }
 },
 "nbformat": 4,
 "nbformat_minor": 5
}
