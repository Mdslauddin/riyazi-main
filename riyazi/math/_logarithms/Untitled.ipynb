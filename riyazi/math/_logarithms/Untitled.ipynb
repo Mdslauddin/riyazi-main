{
 "cells": [
  {
   "cell_type": "code",
   "execution_count": 1,
   "id": "2e40a4f8",
   "metadata": {},
   "outputs": [],
   "source": [
    "import log"
   ]
  },
  {
   "cell_type": "code",
   "execution_count": 2,
   "id": "d46a1d4d",
   "metadata": {},
   "outputs": [
    {
     "data": {
      "text/plain": [
       "0.6931471805599456"
      ]
     },
     "execution_count": 2,
     "metadata": {},
     "output_type": "execute_result"
    }
   ],
   "source": [
    "log.ln(2)"
   ]
  },
  {
   "cell_type": "code",
   "execution_count": 3,
   "id": "f87ea5d0",
   "metadata": {},
   "outputs": [
    {
     "data": {
      "text/plain": [
       "(0.6931471805599444+1.5707963267948952j)"
      ]
     },
     "execution_count": 3,
     "metadata": {},
     "output_type": "execute_result"
    }
   ],
   "source": [
    "log.ln(2j)"
   ]
  },
  {
   "cell_type": "code",
   "execution_count": 4,
   "id": "6afb1920",
   "metadata": {},
   "outputs": [],
   "source": [
    "import cmath "
   ]
  },
  {
   "cell_type": "code",
   "execution_count": 5,
   "id": "2a684c71",
   "metadata": {},
   "outputs": [
    {
     "data": {
      "text/plain": [
       "(0.6931471805599453+1.5707963267948966j)"
      ]
     },
     "execution_count": 5,
     "metadata": {},
     "output_type": "execute_result"
    }
   ],
   "source": [
    "cmath.log(2j)"
   ]
  },
  {
   "cell_type": "code",
   "execution_count": 7,
   "id": "1dad9d0a",
   "metadata": {},
   "outputs": [
    {
     "data": {
      "text/plain": [
       "(6.802394763324311+1.5707963267948966j)"
      ]
     },
     "execution_count": 7,
     "metadata": {},
     "output_type": "execute_result"
    }
   ],
   "source": [
    "cmath.log(900j)"
   ]
  },
  {
   "cell_type": "code",
   "execution_count": 8,
   "id": "a8e9c526",
   "metadata": {},
   "outputs": [
    {
     "data": {
      "text/plain": [
       "(6.8023947633243+1.570796326794894j)"
      ]
     },
     "execution_count": 8,
     "metadata": {},
     "output_type": "execute_result"
    }
   ],
   "source": [
    "log.ln(900j)"
   ]
  },
  {
   "cell_type": "code",
   "execution_count": null,
   "id": "92a5333c",
   "metadata": {},
   "outputs": [],
   "source": []
  }
 ],
 "metadata": {
  "kernelspec": {
   "display_name": "Python 3 (ipykernel)",
   "language": "python",
   "name": "python3"
  },
  "language_info": {
   "codemirror_mode": {
    "name": "ipython",
    "version": 3
   },
   "file_extension": ".py",
   "mimetype": "text/x-python",
   "name": "python",
   "nbconvert_exporter": "python",
   "pygments_lexer": "ipython3",
   "version": "3.9.12"
  }
 },
 "nbformat": 4,
 "nbformat_minor": 5
}
