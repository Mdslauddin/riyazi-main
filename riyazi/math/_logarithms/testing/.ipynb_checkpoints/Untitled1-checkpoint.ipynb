{
 "cells": [
  {
   "cell_type": "code",
   "execution_count": 1,
   "id": "dc0a72c3",
   "metadata": {},
   "outputs": [],
   "source": [
    "def log2(n):\n",
    "    result=0\n",
    "    while n > 1:\n",
    "        n//=2\n",
    "        result +=1\n",
    "    return result"
   ]
  },
  {
   "cell_type": "code",
   "execution_count": 2,
   "id": "9ed4385c",
   "metadata": {},
   "outputs": [
    {
     "data": {
      "text/plain": [
       "3"
      ]
     },
     "execution_count": 2,
     "metadata": {},
     "output_type": "execute_result"
    }
   ],
   "source": [
    "log2(12)"
   ]
  },
  {
   "cell_type": "code",
   "execution_count": 3,
   "id": "d0b8cedb",
   "metadata": {},
   "outputs": [],
   "source": [
    "import math"
   ]
  },
  {
   "cell_type": "code",
   "execution_count": 4,
   "id": "15616cd2",
   "metadata": {},
   "outputs": [
    {
     "data": {
      "text/plain": [
       "3.584962500721156"
      ]
     },
     "execution_count": 4,
     "metadata": {},
     "output_type": "execute_result"
    }
   ],
   "source": [
    "math.log2(12)"
   ]
  },
  {
   "cell_type": "code",
   "execution_count": 8,
   "id": "51a56c66",
   "metadata": {},
   "outputs": [
    {
     "name": "stdout",
     "output_type": "stream",
     "text": [
      "Usage: python ln.py 5\n"
     ]
    }
   ],
   "source": [
    "import math\n",
    "import sys\n",
    "\n",
    "def loge(n,li,ls):\n",
    "    if math.fabs(li-ls) <= 0.000001:\n",
    "        return (li+ls)/2.0\n",
    "    if (math.exp(li)-n)*(math.exp((li+ls)/2.0)-n) < 0:\n",
    "        return loge(n,li,(li+ls)/2.0)\n",
    "    else:\n",
    "        return loge(n,(li+ls)/2.0,ls)\n",
    "\n",
    "def ln(n):\n",
    "    if n == 0 or n < 0:\n",
    "        return \"Math Domain Error\"\n",
    "    if n == 1:\n",
    "        return 0\n",
    "    if n > 0 and n < 1:\n",
    "        return loge(n,0,-n-80)\n",
    "    else:\n",
    "        return loge(n,0,n)\n",
    "\n",
    "if __name__ == \"__main__\":\n",
    "    if len(sys.argv) != 2:\n",
    "        print(\"Usage: python ln.py 5\")\n",
    "    else:\n",
    "        n = float(sys.argv[1])\n",
    "        print (\"LN(\",n,\"):\",ln(n))\n",
    "        print (\"LN(\",n,\"):\",math.log(n))"
   ]
  },
  {
   "cell_type": "code",
   "execution_count": 9,
   "id": "65bfb705",
   "metadata": {},
   "outputs": [
    {
     "data": {
      "text/plain": [
       "2.484906792640686"
      ]
     },
     "execution_count": 9,
     "metadata": {},
     "output_type": "execute_result"
    }
   ],
   "source": [
    "ln(12)"
   ]
  },
  {
   "cell_type": "code",
   "execution_count": null,
   "id": "3fae61bc",
   "metadata": {},
   "outputs": [],
   "source": []
  }
 ],
 "metadata": {
  "kernelspec": {
   "display_name": "Python 3 (ipykernel)",
   "language": "python",
   "name": "python3"
  },
  "language_info": {
   "codemirror_mode": {
    "name": "ipython",
    "version": 3
   },
   "file_extension": ".py",
   "mimetype": "text/x-python",
   "name": "python",
   "nbconvert_exporter": "python",
   "pygments_lexer": "ipython3",
   "version": "3.9.12"
  }
 },
 "nbformat": 4,
 "nbformat_minor": 5
}
