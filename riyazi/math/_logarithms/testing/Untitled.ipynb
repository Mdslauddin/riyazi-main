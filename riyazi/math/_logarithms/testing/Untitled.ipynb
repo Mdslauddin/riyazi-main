{
 "cells": [
  {
   "cell_type": "markdown",
   "id": "35bd2cb9",
   "metadata": {},
   "source": [
    "`math.log`\n",
    "\n",
    "`math.log10`\n",
    "\n",
    "`math.log1p`\n",
    "\n",
    "`math.log2`"
   ]
  },
  {
   "cell_type": "code",
   "execution_count": 35,
   "id": "c23e72b6",
   "metadata": {},
   "outputs": [],
   "source": [
    "\n",
    "\n",
    "def ln(x, /) :\n",
    "    \n",
    "    iterations = 19860  # 10000\n",
    "  \n",
    "    if type(x) in (float,int):\n",
    "        total = 0\n",
    "        # k 2*k+1 is always an integer\n",
    "        for k in range(iterations):\n",
    "            denominator = 1 / (2*k+1)\n",
    "            apr = (x - 1) / (x + 1)\n",
    "            final = denominator * pow(apr,2*k+1)\n",
    "            total += final\n",
    "\n",
    "        return round(2*total, 8)"
   ]
  },
  {
   "cell_type": "code",
   "execution_count": 36,
   "id": "66086033",
   "metadata": {},
   "outputs": [
    {
     "data": {
      "text/plain": [
       "8.42661181"
      ]
     },
     "execution_count": 36,
     "metadata": {},
     "output_type": "execute_result"
    }
   ],
   "source": [
    "ln(4567)"
   ]
  },
  {
   "cell_type": "code",
   "execution_count": 37,
   "id": "f491ee27",
   "metadata": {},
   "outputs": [
    {
     "data": {
      "text/plain": [
       "4.81218436"
      ]
     },
     "execution_count": 37,
     "metadata": {},
     "output_type": "execute_result"
    }
   ],
   "source": [
    "ln(123)"
   ]
  },
  {
   "cell_type": "code",
   "execution_count": 38,
   "id": "0d1060fc",
   "metadata": {},
   "outputs": [
    {
     "data": {
      "text/plain": [
       "2.48490665"
      ]
     },
     "execution_count": 38,
     "metadata": {},
     "output_type": "execute_result"
    }
   ],
   "source": [
    " ln(12)"
   ]
  },
  {
   "cell_type": "code",
   "execution_count": null,
   "id": "4bd69c5e",
   "metadata": {},
   "outputs": [],
   "source": []
  },
  {
   "cell_type": "code",
   "execution_count": 39,
   "id": "0bdefc5b",
   "metadata": {},
   "outputs": [
    {
     "data": {
      "text/plain": [
       "8.426611813185"
      ]
     },
     "execution_count": 39,
     "metadata": {},
     "output_type": "execute_result"
    }
   ],
   "source": [
    "import math\n",
    "math.log(4567)"
   ]
  },
  {
   "cell_type": "code",
   "execution_count": 6,
   "id": "a8901511",
   "metadata": {},
   "outputs": [
    {
     "data": {
      "text/plain": [
       "4.812184355372417"
      ]
     },
     "execution_count": 6,
     "metadata": {},
     "output_type": "execute_result"
    }
   ],
   "source": [
    "math.log(123)"
   ]
  },
  {
   "cell_type": "code",
   "execution_count": 7,
   "id": "981f6dc3",
   "metadata": {},
   "outputs": [
    {
     "data": {
      "text/plain": [
       "2.4849066497880004"
      ]
     },
     "execution_count": 7,
     "metadata": {},
     "output_type": "execute_result"
    }
   ],
   "source": [
    "math.log(12)"
   ]
  },
  {
   "cell_type": "code",
   "execution_count": 8,
   "id": "7cc1ac55",
   "metadata": {},
   "outputs": [],
   "source": [
    "def log(x,/):\n",
    "    base = 10\n",
    "    return ln(x) / ln(base)"
   ]
  },
  {
   "cell_type": "code",
   "execution_count": 9,
   "id": "1ed03a27",
   "metadata": {
    "scrolled": true
   },
   "outputs": [
    {
     "data": {
      "text/plain": [
       "3.659631010946314"
      ]
     },
     "execution_count": 9,
     "metadata": {},
     "output_type": "execute_result"
    }
   ],
   "source": [
    "log(4567)"
   ]
  },
  {
   "cell_type": "code",
   "execution_count": 10,
   "id": "f7805ee0",
   "metadata": {},
   "outputs": [
    {
     "data": {
      "text/plain": [
       "1.0791812460476247"
      ]
     },
     "execution_count": 10,
     "metadata": {},
     "output_type": "execute_result"
    }
   ],
   "source": [
    "log(12)"
   ]
  },
  {
   "cell_type": "code",
   "execution_count": 11,
   "id": "9b615b27",
   "metadata": {},
   "outputs": [
    {
     "data": {
      "text/plain": [
       "2.0899051114393896"
      ]
     },
     "execution_count": 11,
     "metadata": {},
     "output_type": "execute_result"
    }
   ],
   "source": [
    "log(123)"
   ]
  },
  {
   "cell_type": "code",
   "execution_count": 13,
   "id": "4fb09ca3",
   "metadata": {},
   "outputs": [
    {
     "data": {
      "text/plain": [
       "3.6596310116070008"
      ]
     },
     "execution_count": 13,
     "metadata": {},
     "output_type": "execute_result"
    }
   ],
   "source": [
    "math.log10(4567)"
   ]
  },
  {
   "cell_type": "code",
   "execution_count": 12,
   "id": "cf642502",
   "metadata": {},
   "outputs": [
    {
     "data": {
      "text/plain": [
       "2.089905111439398"
      ]
     },
     "execution_count": 12,
     "metadata": {},
     "output_type": "execute_result"
    }
   ],
   "source": [
    "math.log10(123)"
   ]
  },
  {
   "cell_type": "code",
   "execution_count": 14,
   "id": "9979b726",
   "metadata": {},
   "outputs": [
    {
     "data": {
      "text/plain": [
       "1.0791812460476249"
      ]
     },
     "execution_count": 14,
     "metadata": {},
     "output_type": "execute_result"
    }
   ],
   "source": [
    "math.log10(12)"
   ]
  },
  {
   "cell_type": "code",
   "execution_count": 24,
   "id": "f5fca48d",
   "metadata": {},
   "outputs": [],
   "source": [
    "def log(x,base):\n",
    "    result = ln(x)/ln(base)\n",
    "    return result\n",
    "def ln(x):\n",
    "    val = x\n",
    "    return 99999999*(x**(1/99999999)-1)"
   ]
  },
  {
   "cell_type": "code",
   "execution_count": 25,
   "id": "b2c92984",
   "metadata": {},
   "outputs": [
    {
     "data": {
      "text/plain": [
       "3.6596311200655554"
      ]
     },
     "execution_count": 25,
     "metadata": {},
     "output_type": "execute_result"
    }
   ],
   "source": [
    "log(4567,10)"
   ]
  },
  {
   "cell_type": "code",
   "execution_count": null,
   "id": "5ada99e6",
   "metadata": {},
   "outputs": [],
   "source": []
  },
  {
   "cell_type": "code",
   "execution_count": null,
   "id": "26f9bf62",
   "metadata": {},
   "outputs": [],
   "source": []
  },
  {
   "cell_type": "code",
   "execution_count": null,
   "id": "7e25ad06",
   "metadata": {},
   "outputs": [],
   "source": []
  },
  {
   "cell_type": "code",
   "execution_count": null,
   "id": "7e670f67",
   "metadata": {},
   "outputs": [],
   "source": []
  },
  {
   "cell_type": "code",
   "execution_count": null,
   "id": "661e29ab",
   "metadata": {},
   "outputs": [],
   "source": []
  },
  {
   "cell_type": "code",
   "execution_count": null,
   "id": "2d535264",
   "metadata": {},
   "outputs": [],
   "source": []
  },
  {
   "cell_type": "code",
   "execution_count": null,
   "id": "92e7e99a",
   "metadata": {},
   "outputs": [],
   "source": []
  },
  {
   "cell_type": "code",
   "execution_count": null,
   "id": "d300f046",
   "metadata": {},
   "outputs": [],
   "source": []
  },
  {
   "cell_type": "code",
   "execution_count": null,
   "id": "0685864a",
   "metadata": {},
   "outputs": [],
   "source": []
  },
  {
   "cell_type": "code",
   "execution_count": null,
   "id": "af7dc52b",
   "metadata": {},
   "outputs": [],
   "source": []
  },
  {
   "cell_type": "code",
   "execution_count": null,
   "id": "6395a847",
   "metadata": {},
   "outputs": [],
   "source": []
  },
  {
   "cell_type": "code",
   "execution_count": null,
   "id": "6f80444c",
   "metadata": {},
   "outputs": [],
   "source": []
  },
  {
   "cell_type": "code",
   "execution_count": null,
   "id": "edc6beed",
   "metadata": {},
   "outputs": [],
   "source": []
  },
  {
   "cell_type": "code",
   "execution_count": null,
   "id": "630b16c9",
   "metadata": {},
   "outputs": [],
   "source": []
  },
  {
   "cell_type": "code",
   "execution_count": null,
   "id": "8877212e",
   "metadata": {},
   "outputs": [],
   "source": []
  },
  {
   "cell_type": "code",
   "execution_count": null,
   "id": "ca53f676",
   "metadata": {},
   "outputs": [],
   "source": []
  },
  {
   "cell_type": "code",
   "execution_count": null,
   "id": "e8c8eeea",
   "metadata": {},
   "outputs": [],
   "source": []
  },
  {
   "cell_type": "code",
   "execution_count": null,
   "id": "65ad8bee",
   "metadata": {},
   "outputs": [],
   "source": []
  },
  {
   "cell_type": "code",
   "execution_count": null,
   "id": "ebe66f13",
   "metadata": {},
   "outputs": [],
   "source": []
  },
  {
   "cell_type": "code",
   "execution_count": null,
   "id": "b9661f57",
   "metadata": {},
   "outputs": [],
   "source": []
  },
  {
   "cell_type": "code",
   "execution_count": null,
   "id": "ea1e2894",
   "metadata": {},
   "outputs": [],
   "source": [
    "def erf(x : float) -> float:\n",
    "    \"\"\"Calculates the error function at a specific point\"\"\"\n",
    "    MULTIPLIER = 2 / powers.sqrt(pi)\n",
    "    total = 0\n",
    "    for n in range(100):\n",
    "        denominator = factorial(n) * (2*n+1)\n",
    "        nominator = powers.power(-1,n) * powers.integerPow(x,2*n+1)\n",
    "        total += nominator / denominator\n",
    "    return MULTIPLIER * total"
   ]
  },
  {
   "cell_type": "code",
   "execution_count": null,
   "id": "ccbe0eec",
   "metadata": {},
   "outputs": [],
   "source": [
    "def erfi(x : float) -> float:\n",
    "    \"\"\"Calculates  the imaginary error function at a specific point\"\"\"\n",
    "    MULTIPLIER = 2 / powers.sqrt(pi)\n",
    "    total = 0\n",
    "    for n in range(100):\n",
    "        denominator = factorial(n) * (2*n+1)\n",
    "        nominator = powers.integerPow(x,2*n+1)\n",
    "        total += nominator / denominator\n",
    "    return MULTIPLIER * total"
   ]
  },
  {
   "cell_type": "code",
   "execution_count": null,
   "id": "85f3cedd",
   "metadata": {},
   "outputs": [],
   "source": []
  }
 ],
 "metadata": {
  "kernelspec": {
   "display_name": "Python 3 (ipykernel)",
   "language": "python",
   "name": "python3"
  },
  "language_info": {
   "codemirror_mode": {
    "name": "ipython",
    "version": 3
   },
   "file_extension": ".py",
   "mimetype": "text/x-python",
   "name": "python",
   "nbconvert_exporter": "python",
   "pygments_lexer": "ipython3",
   "version": "3.9.12"
  }
 },
 "nbformat": 4,
 "nbformat_minor": 5
}
