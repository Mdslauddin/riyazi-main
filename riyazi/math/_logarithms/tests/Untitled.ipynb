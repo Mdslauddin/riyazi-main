{
 "cells": [
  {
   "cell_type": "markdown",
   "id": "1835cb7b",
   "metadata": {},
   "source": [
    "`math.log`\n",
    "\n",
    "`math.log10`\n",
    "\n",
    "`math.log1p`\n",
    "\n",
    "`math.log2`"
   ]
  },
  {
   "cell_type": "code",
   "execution_count": null,
   "id": "ae91e906",
   "metadata": {},
   "outputs": [],
   "source": [
    "import math "
   ]
  },
  {
   "cell_type": "code",
   "execution_count": null,
   "id": "4c66eb2a",
   "metadata": {},
   "outputs": [],
   "source": [
    "math.log10(12)"
   ]
  },
  {
   "cell_type": "code",
   "execution_count": null,
   "id": "19e391f0",
   "metadata": {},
   "outputs": [],
   "source": [
    "math.log10(123)"
   ]
  },
  {
   "cell_type": "code",
   "execution_count": null,
   "id": "a342e48f",
   "metadata": {},
   "outputs": [],
   "source": [
    "math.log10(99)"
   ]
  },
  {
   "cell_type": "code",
   "execution_count": null,
   "id": "6f2acdf0",
   "metadata": {},
   "outputs": [],
   "source": [
    "math.log(987452)"
   ]
  },
  {
   "cell_type": "code",
   "execution_count": null,
   "id": "45eac00f",
   "metadata": {
    "scrolled": true
   },
   "outputs": [],
   "source": [
    "math.log(26**32)"
   ]
  },
  {
   "cell_type": "code",
   "execution_count": null,
   "id": "224d7dee",
   "metadata": {},
   "outputs": [],
   "source": [
    "26**32"
   ]
  },
  {
   "cell_type": "code",
   "execution_count": null,
   "id": "8b6ff68a",
   "metadata": {},
   "outputs": [],
   "source": [
    "def log10(x):\n",
    "    if(x == 1):\n",
    "        return 0\n",
    "    if (x == 0):\n",
    "        return float('-inf')\n",
    "    if (x < 0):\n",
    "        return float('nan')\n",
    "    n =0 \n",
    "    while ( x >=1.0):\n",
    "        x = x/10.0\n",
    "        n +=1\n",
    "        \n",
    "    # if x <= sqrt(1/10)\n",
    "    while( x <=0.316227766016838):\n",
    "        x = x*10.0\n",
    "        n = n-1 \n",
    "    \n",
    "    # product a change of varialle \n",
    "    z = (x-1.0) / (x+1.0)\n",
    "    D = 0.868588964\n",
    "    \n",
    "    # Taylor series \n",
    "    sums = z\n",
    "    for k in range(3,23,2):\n",
    "        sums += (z**k)/k\n",
    "    return D*sums*n"
   ]
  },
  {
   "cell_type": "code",
   "execution_count": null,
   "id": "b1f5f944",
   "metadata": {},
   "outputs": [],
   "source": [
    "log10(13)"
   ]
  },
  {
   "cell_type": "code",
   "execution_count": null,
   "id": "22d90097",
   "metadata": {},
   "outputs": [],
   "source": [
    "math.log10(12)"
   ]
  },
  {
   "cell_type": "code",
   "execution_count": null,
   "id": "8c067f5e",
   "metadata": {},
   "outputs": [],
   "source": []
  }
 ],
 "metadata": {
  "kernelspec": {
   "display_name": "Python 3 (ipykernel)",
   "language": "python",
   "name": "python3"
  },
  "language_info": {
   "codemirror_mode": {
    "name": "ipython",
    "version": 3
   },
   "file_extension": ".py",
   "mimetype": "text/x-python",
   "name": "python",
   "nbconvert_exporter": "python",
   "pygments_lexer": "ipython3",
   "version": "3.9.12"
  }
 },
 "nbformat": 4,
 "nbformat_minor": 5
}
