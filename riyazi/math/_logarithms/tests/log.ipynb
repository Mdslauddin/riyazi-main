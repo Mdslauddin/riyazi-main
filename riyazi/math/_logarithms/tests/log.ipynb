{
 "cells": [
  {
   "cell_type": "markdown",
   "id": "2f488f41",
   "metadata": {},
   "source": [
    "`math.log`\n",
    "\n",
    "`math.log10`\n",
    "\n",
    "`math.log1p`\n",
    "\n",
    "`math.log2`"
   ]
  },
  {
   "cell_type": "code",
   "execution_count": 1,
   "id": "bdb872ec",
   "metadata": {},
   "outputs": [],
   "source": [
    "def ln(x, /) :\n",
    "    \n",
    "    iterations =   100000 # 10000 19860\n",
    "  \n",
    "    if type(x) in (float,int):\n",
    "        total = 0\n",
    "        # k 2*k+1 is always an integer\n",
    "        for k in range(iterations):\n",
    "            denominator = 1 / (2*k+1)\n",
    "            apr = (x - 1) / (x + 1)\n",
    "            final = denominator * pow(apr,2*k+1)\n",
    "            total += final\n",
    "\n",
    "        return round(2*total, 11)"
   ]
  },
  {
   "cell_type": "code",
   "execution_count": 3,
   "id": "3578e362",
   "metadata": {},
   "outputs": [
    {
     "data": {
      "text/plain": [
       "5.70378247466"
      ]
     },
     "execution_count": 3,
     "metadata": {},
     "output_type": "execute_result"
    }
   ],
   "source": [
    "ln(300)"
   ]
  },
  {
   "cell_type": "code",
   "execution_count": null,
   "id": "27e9a52f",
   "metadata": {},
   "outputs": [],
   "source": [
    "def log(x,/):\n",
    "    base = 10\n",
    "    return round(ln(x) / ln(base),11)"
   ]
  },
  {
   "cell_type": "code",
   "execution_count": 4,
   "id": "d5df0a63",
   "metadata": {},
   "outputs": [],
   "source": [
    "import math "
   ]
  },
  {
   "cell_type": "code",
   "execution_count": 5,
   "id": "a42fb18e",
   "metadata": {},
   "outputs": [
    {
     "data": {
      "text/plain": [
       "5.703782474656201"
      ]
     },
     "execution_count": 5,
     "metadata": {},
     "output_type": "execute_result"
    }
   ],
   "source": [
    "math.log(300)"
   ]
  },
  {
   "cell_type": "code",
   "execution_count": null,
   "id": "34a4f83d",
   "metadata": {
    "scrolled": true
   },
   "outputs": [],
   "source": [
    "ln(99)"
   ]
  },
  {
   "cell_type": "code",
   "execution_count": null,
   "id": "ce3dd2f4",
   "metadata": {},
   "outputs": [],
   "source": [
    "math.log10(99)"
   ]
  },
  {
   "cell_type": "code",
   "execution_count": null,
   "id": "d5212249",
   "metadata": {
    "scrolled": false
   },
   "outputs": [],
   "source": [
    "log(99)"
   ]
  },
  {
   "cell_type": "code",
   "execution_count": null,
   "id": "e8ec9ceb",
   "metadata": {
    "scrolled": false
   },
   "outputs": [],
   "source": [
    "math.log1p(12)"
   ]
  },
  {
   "cell_type": "code",
   "execution_count": null,
   "id": "134e1849",
   "metadata": {},
   "outputs": [],
   "source": [
    "def log1p(x, /) :\n",
    "    \n",
    "    iterations = 19860  # 10000\n",
    "  \n",
    "    if type(x) in (float,int):\n",
    "        total = 0\n",
    "        # k 2*k+1 is always an integer\n",
    "        for k in range(iterations):\n",
    "            denominator = 1 / (2*k+1)\n",
    "            apr = (x - 1) / (x + 1)\n",
    "            final = denominator * pow(apr,2*k+1)\n",
    "            total += final\n",
    "\n",
    "        return round(2*total, 8)+1"
   ]
  },
  {
   "cell_type": "code",
   "execution_count": null,
   "id": "c67a8863",
   "metadata": {},
   "outputs": [],
   "source": [
    "log1p(12)"
   ]
  },
  {
   "cell_type": "code",
   "execution_count": null,
   "id": "f8b425b0",
   "metadata": {},
   "outputs": [],
   "source": [
    "math.log2(12)"
   ]
  },
  {
   "cell_type": "code",
   "execution_count": null,
   "id": "ba21e402",
   "metadata": {},
   "outputs": [],
   "source": [
    "def power(x,y):\n",
    "    return x**y"
   ]
  },
  {
   "cell_type": "code",
   "execution_count": null,
   "id": "a5a4ad2d",
   "metadata": {},
   "outputs": [],
   "source": [
    "def erf(x : float) -> float:\n",
    "    \"\"\"Calculates the error function at a specific point\"\"\"\n",
    "    MULTIPLIER = 2 / math.sqrt(math.pi)\n",
    "    total = 0\n",
    "    for n in range(100):\n",
    "        denominator = math.factorial(n) * (2*n+1)\n",
    "        nominator = power(-1,n) * power(x,2*n+1)\n",
    "        total += nominator / denominator\n",
    "    return MULTIPLIER * total"
   ]
  },
  {
   "cell_type": "code",
   "execution_count": null,
   "id": "6164afae",
   "metadata": {},
   "outputs": [],
   "source": [
    "def erfi(x : float) -> float:\n",
    "    \"\"\"Calculates  the imaginary error function at a specific point\"\"\"\n",
    "    MULTIPLIER = 2 / math.sqrt(math.pi)\n",
    "    total = 0\n",
    "    for n in range(100):\n",
    "        denominator = math.factorial(n) * (2*n+1)\n",
    "        nominator = power(x,2*n+1)\n",
    "        total += nominator / denominator\n",
    "    return MULTIPLIER * total"
   ]
  },
  {
   "cell_type": "code",
   "execution_count": null,
   "id": "e3a1868c",
   "metadata": {},
   "outputs": [],
   "source": [
    "math.erf(12)"
   ]
  },
  {
   "cell_type": "code",
   "execution_count": null,
   "id": "d9b39400",
   "metadata": {},
   "outputs": [],
   "source": [
    "erf(12)"
   ]
  },
  {
   "cell_type": "code",
   "execution_count": null,
   "id": "2e2a7dfa",
   "metadata": {},
   "outputs": [],
   "source": [
    "math.erfc(12)"
   ]
  },
  {
   "cell_type": "code",
   "execution_count": null,
   "id": "55e9c680",
   "metadata": {},
   "outputs": [],
   "source": [
    "erfi(12)"
   ]
  },
  {
   "cell_type": "code",
   "execution_count": null,
   "id": "3e42b14d",
   "metadata": {},
   "outputs": [],
   "source": []
  }
 ],
 "metadata": {
  "kernelspec": {
   "display_name": "Python 3 (ipykernel)",
   "language": "python",
   "name": "python3"
  },
  "language_info": {
   "codemirror_mode": {
    "name": "ipython",
    "version": 3
   },
   "file_extension": ".py",
   "mimetype": "text/x-python",
   "name": "python",
   "nbconvert_exporter": "python",
   "pygments_lexer": "ipython3",
   "version": "3.9.12"
  }
 },
 "nbformat": 4,
 "nbformat_minor": 5
}
