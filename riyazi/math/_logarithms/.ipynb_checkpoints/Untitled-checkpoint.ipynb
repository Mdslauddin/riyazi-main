{
 "cells": [
  {
   "cell_type": "code",
   "execution_count": 43,
   "id": "16e03115",
   "metadata": {},
   "outputs": [],
   "source": [
    "from typing import Union,Tuple,Optional\n",
    "\n",
    "def ln(x : float,iterations : int = 100000) -> Union[float,complex]:\n",
    "    \"\"\"\n",
    "        Natural log function (log with base the constant e)\n",
    "        it can handle either a  floating point or an imaginary number\n",
    "        it uses 'infinite' sumations which you can specify the iterations\n",
    "        This is the exact formula for the natural log : https://wikimedia.org/api/rest_v1/media/math/render/svg/1d9729501b26eb85764942cb112cc9885b1a6cca\n",
    "        \n",
    "        Here is how it handles negative values :  (log(negative) = πi + ln(abs(negative)) )\n",
    "        \\n\\t=> e**(iπ) = -1\n",
    "        \\n\\t=> iπ*ln(e) = ln(-1)\n",
    "        \\n\\t=> πi = ln(-1) \n",
    "        Now with the help of this rule (log(ab) = log(a) + log(b)):\n",
    "          => log(negative) = πi + ln(abs(negative)) \n",
    "          # ln(-5) = ln(-1 * 5)\n",
    "          # ln(-5) = ln(-1) + ln(-5)\n",
    "    \"\"\"\n",
    "    if type(x) in (float,int):\n",
    "        total = 0\n",
    "        # k 2*k+1 is always an integer\n",
    "        for k in range(iterations):\n",
    "            denominator = 1 / (2*k+1)\n",
    "            apr = (x - 1) / (x + 1)\n",
    "            final = denominator * pow(apr,2*k+1)\n",
    "            total += final\n",
    "\n",
    "        return 2*total\n"
   ]
  },
  {
   "cell_type": "code",
   "execution_count": 44,
   "id": "e85c3c5d",
   "metadata": {},
   "outputs": [
    {
     "data": {
      "text/plain": [
       "9.421006401777793"
      ]
     },
     "execution_count": 44,
     "metadata": {},
     "output_type": "execute_result"
    }
   ],
   "source": [
    "ln(12345)"
   ]
  },
  {
   "cell_type": "code",
   "execution_count": 26,
   "id": "3f491fab",
   "metadata": {},
   "outputs": [],
   "source": [
    "import math"
   ]
  },
  {
   "cell_type": "code",
   "execution_count": 27,
   "id": "38849faa",
   "metadata": {},
   "outputs": [
    {
     "data": {
      "text/plain": [
       "9.42100640177928"
      ]
     },
     "execution_count": 27,
     "metadata": {},
     "output_type": "execute_result"
    }
   ],
   "source": [
    "math.log(12345)"
   ]
  },
  {
   "cell_type": "code",
   "execution_count": 4,
   "id": "37b75632",
   "metadata": {},
   "outputs": [],
   "source": [
    "def log(of_num : float,base : float = 10) -> float:\n",
    "    \"\"\"\n",
    "        Returns the logarithm of a number given a base (if none is proveded it defaults to 10)\n",
    "        \\nFor calculations it uses the following property of logs : log(a,b) = ln(a) / ln(b)\n",
    "        \\nThe 'of_num' parameter can also be a complex number (check the ln for more info)\n",
    "    \"\"\"\n",
    "    return ln(of_num) / ln(base)\n"
   ]
  },
  {
   "cell_type": "code",
   "execution_count": 5,
   "id": "f2bd8205",
   "metadata": {},
   "outputs": [
    {
     "data": {
      "text/plain": [
       "1.041392685158225"
      ]
     },
     "execution_count": 5,
     "metadata": {},
     "output_type": "execute_result"
    }
   ],
   "source": [
    "log(11)"
   ]
  },
  {
   "cell_type": "code",
   "execution_count": 47,
   "id": "0570d63a",
   "metadata": {},
   "outputs": [
    {
     "data": {
      "text/plain": [
       "0.9999999845827421"
      ]
     },
     "execution_count": 47,
     "metadata": {},
     "output_type": "execute_result"
    }
   ],
   "source": [
    "math.erf(4)"
   ]
  },
  {
   "cell_type": "code",
   "execution_count": 48,
   "id": "9465457f",
   "metadata": {},
   "outputs": [],
   "source": [
    "def power(x,y):\n",
    "    return x**y"
   ]
  },
  {
   "cell_type": "code",
   "execution_count": 1,
   "id": "4243ecd5",
   "metadata": {},
   "outputs": [],
   "source": [
    "import math"
   ]
  },
  {
   "cell_type": "code",
   "execution_count": 2,
   "id": "3db52d91",
   "metadata": {},
   "outputs": [
    {
     "data": {
      "text/plain": [
       "0.9999999845827421"
      ]
     },
     "execution_count": 2,
     "metadata": {},
     "output_type": "execute_result"
    }
   ],
   "source": [
    "math.erf(4)"
   ]
  },
  {
   "cell_type": "code",
   "execution_count": 53,
   "id": "c4c3c23d",
   "metadata": {},
   "outputs": [],
   "source": [
    "def erf(x : float) -> float:\n",
    "    \"\"\"Calculates the error function at a specific point\"\"\"\n",
    "    MULTIPLIER = 2 / math.sqrt(math.pi)\n",
    "    total = 0\n",
    "    for n in range(100):\n",
    "        denominator = math.factorial(n) * (2*n+1)\n",
    "        nominator = power(-1,n) * power(x,2*n+1)\n",
    "        total += nominator / denominator\n",
    "    return MULTIPLIER * total"
   ]
  },
  {
   "cell_type": "code",
   "execution_count": 55,
   "id": "0086a6d7",
   "metadata": {},
   "outputs": [
    {
     "data": {
      "text/plain": [
       "0.9999999845828799"
      ]
     },
     "execution_count": 55,
     "metadata": {},
     "output_type": "execute_result"
    }
   ],
   "source": [
    "erf(4)"
   ]
  },
  {
   "cell_type": "code",
   "execution_count": 58,
   "id": "c5dd60cb",
   "metadata": {},
   "outputs": [],
   "source": [
    "def erfi(x : float) -> float:\n",
    "    \"\"\"Calculates  the imaginary error function at a specific point\"\"\"\n",
    "    MULTIPLIER = 2 / math.sqrt(math.pi)\n",
    "    total = 0\n",
    "    for n in range(100):\n",
    "        denominator = math.factorial(n) * (2*n+1)\n",
    "        nominator = power(x,2*n+1)\n",
    "        total += nominator / denominator\n",
    "    return MULTIPLIER * total"
   ]
  },
  {
   "cell_type": "code",
   "execution_count": 59,
   "id": "f77358f7",
   "metadata": {},
   "outputs": [
    {
     "data": {
      "text/plain": [
       "3.814703424382719e+249"
      ]
     },
     "execution_count": 59,
     "metadata": {},
     "output_type": "execute_result"
    }
   ],
   "source": [
    "erfi(112)"
   ]
  },
  {
   "cell_type": "markdown",
   "id": "97f39b01",
   "metadata": {},
   "source": [
    "https://en.wikipedia.org/wiki/Logarithm"
   ]
  },
  {
   "cell_type": "code",
   "execution_count": 1,
   "id": "e7b21930",
   "metadata": {},
   "outputs": [],
   "source": [
    "import log\n"
   ]
  },
  {
   "cell_type": "code",
   "execution_count": 2,
   "id": "00690783",
   "metadata": {},
   "outputs": [
    {
     "data": {
      "text/plain": [
       "1.6094379124341003"
      ]
     },
     "execution_count": 2,
     "metadata": {},
     "output_type": "execute_result"
    }
   ],
   "source": [
    "log.ln(5)"
   ]
  },
  {
   "cell_type": "code",
   "execution_count": 3,
   "id": "68bf2794",
   "metadata": {},
   "outputs": [],
   "source": [
    "import math"
   ]
  },
  {
   "cell_type": "code",
   "execution_count": 4,
   "id": "b73dfb3d",
   "metadata": {},
   "outputs": [
    {
     "data": {
      "text/plain": [
       "1.6094379124341003"
      ]
     },
     "execution_count": 4,
     "metadata": {},
     "output_type": "execute_result"
    }
   ],
   "source": [
    "math.log(5)"
   ]
  },
  {
   "cell_type": "code",
   "execution_count": 5,
   "id": "50493bd8",
   "metadata": {},
   "outputs": [
    {
     "data": {
      "text/plain": [
       "214.87562597358308"
      ]
     },
     "execution_count": 5,
     "metadata": {},
     "output_type": "execute_result"
    }
   ],
   "source": [
    "log.ln(2**310)"
   ]
  },
  {
   "cell_type": "code",
   "execution_count": 6,
   "id": "72d8e684",
   "metadata": {},
   "outputs": [
    {
     "data": {
      "text/plain": [
       "214.87562597358306"
      ]
     },
     "execution_count": 6,
     "metadata": {},
     "output_type": "execute_result"
    }
   ],
   "source": [
    "math.log(2**310)"
   ]
  },
  {
   "cell_type": "code",
   "execution_count": 8,
   "id": "cb739b5c",
   "metadata": {},
   "outputs": [
    {
     "ename": "OverflowError",
     "evalue": "int too large to convert to float",
     "output_type": "error",
     "traceback": [
      "\u001b[1;31m---------------------------------------------------------------------------\u001b[0m",
      "\u001b[1;31mOverflowError\u001b[0m                             Traceback (most recent call last)",
      "Input \u001b[1;32mIn [8]\u001b[0m, in \u001b[0;36m<cell line: 1>\u001b[1;34m()\u001b[0m\n\u001b[1;32m----> 1\u001b[0m \u001b[43mlog\u001b[49m\u001b[38;5;241;43m.\u001b[39;49m\u001b[43mln\u001b[49m\u001b[43m(\u001b[49m\u001b[43mmath\u001b[49m\u001b[38;5;241;43m.\u001b[39;49m\u001b[43mfactorial\u001b[49m\u001b[43m(\u001b[49m\u001b[38;5;241;43m256\u001b[39;49m\u001b[43m)\u001b[49m\u001b[43m)\u001b[49m\n",
      "File \u001b[1;32mH:\\riyazi\\math\\logarithms\\log.py:14\u001b[0m, in \u001b[0;36mln\u001b[1;34m(x)\u001b[0m\n\u001b[0;32m     12\u001b[0m ans_Pi \u001b[38;5;241m=\u001b[39m \u001b[38;5;241m1\u001b[39m\n\u001b[0;32m     13\u001b[0m \u001b[38;5;28;01mfor\u001b[39;00m n \u001b[38;5;129;01min\u001b[39;00m \u001b[38;5;28mrange\u001b[39m(\u001b[38;5;241m1\u001b[39m, \u001b[38;5;241m2000\u001b[39m):\n\u001b[1;32m---> 14\u001b[0m     ans_Pi \u001b[38;5;241m*\u001b[39m\u001b[38;5;241m=\u001b[39m \u001b[38;5;241m2\u001b[39m \u001b[38;5;241m/\u001b[39m (\u001b[38;5;241m1\u001b[39m \u001b[38;5;241m+\u001b[39m \u001b[43mradical\u001b[49m\u001b[43m(\u001b[49m\u001b[38;5;241;43m2\u001b[39;49m\u001b[43m \u001b[49m\u001b[38;5;241;43m*\u001b[39;49m\u001b[38;5;241;43m*\u001b[39;49m\u001b[43m \u001b[49m\u001b[43mn\u001b[49m\u001b[43m \u001b[49m\u001b[43m,\u001b[49m\u001b[43m \u001b[49m\u001b[43mx\u001b[49m\u001b[43m)\u001b[49m)\n\u001b[0;32m     15\u001b[0m \u001b[38;5;28;01mreturn\u001b[39;00m ans \u001b[38;5;241m*\u001b[39m ans_Pi\n",
      "File \u001b[1;32mH:\\riyazi\\math\\logarithms\\log.py:8\u001b[0m, in \u001b[0;36mradical\u001b[1;34m(x, y)\u001b[0m\n\u001b[0;32m      6\u001b[0m     \u001b[38;5;28;01mif\u001b[39;00m y \u001b[38;5;241m<\u001b[39m \u001b[38;5;241m0\u001b[39m \u001b[38;5;129;01mand\u001b[39;00m x \u001b[38;5;241m%\u001b[39m \u001b[38;5;241m2\u001b[39m \u001b[38;5;241m==\u001b[39m \u001b[38;5;241m1\u001b[39m:\n\u001b[0;32m      7\u001b[0m         \u001b[38;5;28;01mreturn\u001b[39;00m \u001b[38;5;241m-\u001b[39m(\u001b[38;5;28mabs\u001b[39m(y) \u001b[38;5;241m*\u001b[39m\u001b[38;5;241m*\u001b[39m (\u001b[38;5;241m1\u001b[39m \u001b[38;5;241m/\u001b[39m x))\n\u001b[1;32m----> 8\u001b[0m \u001b[38;5;28;01mreturn\u001b[39;00m \u001b[43my\u001b[49m\u001b[43m \u001b[49m\u001b[38;5;241;43m*\u001b[39;49m\u001b[38;5;241;43m*\u001b[39;49m\u001b[43m \u001b[49m\u001b[43m(\u001b[49m\u001b[38;5;241;43m1\u001b[39;49m\u001b[43m \u001b[49m\u001b[38;5;241;43m/\u001b[39;49m\u001b[43m \u001b[49m\u001b[43mx\u001b[49m\u001b[43m)\u001b[49m\n",
      "\u001b[1;31mOverflowError\u001b[0m: int too large to convert to float"
     ]
    }
   ],
   "source": [
    "log.ln(math.factorial(256))"
   ]
  },
  {
   "cell_type": "code",
   "execution_count": 9,
   "id": "d2a99609",
   "metadata": {},
   "outputs": [
    {
     "data": {
      "text/plain": [
       "857817775342842654119082271681232625157781520279485619859655650377269452553147589377440291360451408450375885342336584306157196834693696475322289288497426025679637332563368786442675207626794560187968867971521143307702077526646451464709187326100832876325702818980773671781454170250523018608495319068138257481070252817559459476987034665712738139286205234756808218860701203611083152093501947437109101726968262861606263662435022840944191408424615936000000000000000000000000000000000000000000000000000000000000000"
      ]
     },
     "execution_count": 9,
     "metadata": {},
     "output_type": "execute_result"
    }
   ],
   "source": [
    "math.factorial(256)"
   ]
  },
  {
   "cell_type": "code",
   "execution_count": 10,
   "id": "0aefefef",
   "metadata": {},
   "outputs": [
    {
     "data": {
      "text/plain": [
       "2085924839766513752338888384931203236916703635113918720651407820138886450957656787131798913024"
      ]
     },
     "execution_count": 10,
     "metadata": {},
     "output_type": "execute_result"
    }
   ],
   "source": [
    "2**310"
   ]
  },
  {
   "cell_type": "code",
   "execution_count": 12,
   "id": "6863fc85",
   "metadata": {},
   "outputs": [
    {
     "ename": "TypeError",
     "evalue": "can't convert complex to float",
     "output_type": "error",
     "traceback": [
      "\u001b[1;31m---------------------------------------------------------------------------\u001b[0m",
      "\u001b[1;31mTypeError\u001b[0m                                 Traceback (most recent call last)",
      "Input \u001b[1;32mIn [12]\u001b[0m, in \u001b[0;36m<cell line: 1>\u001b[1;34m()\u001b[0m\n\u001b[1;32m----> 1\u001b[0m \u001b[43mmath\u001b[49m\u001b[38;5;241;43m.\u001b[39;49m\u001b[43mlog\u001b[49m\u001b[43m(\u001b[49m\u001b[38;5;241;43m2\u001b[39;49m\u001b[43mj\u001b[49m\u001b[43m)\u001b[49m\n",
      "\u001b[1;31mTypeError\u001b[0m: can't convert complex to float"
     ]
    }
   ],
   "source": [
    "math.log(2j)"
   ]
  },
  {
   "cell_type": "code",
   "execution_count": 13,
   "id": "f581e511",
   "metadata": {},
   "outputs": [],
   "source": [
    "import cmath as cm"
   ]
  },
  {
   "cell_type": "code",
   "execution_count": 14,
   "id": "80dfeb59",
   "metadata": {},
   "outputs": [
    {
     "data": {
      "text/plain": [
       "(0.6931471805599453+1.5707963267948966j)"
      ]
     },
     "execution_count": 14,
     "metadata": {},
     "output_type": "execute_result"
    }
   ],
   "source": [
    "cm.log(2j)"
   ]
  },
  {
   "cell_type": "code",
   "execution_count": 15,
   "id": "2fd642d3",
   "metadata": {},
   "outputs": [
    {
     "data": {
      "text/plain": [
       "(1.2824746787307684+0.982793723247329j)"
      ]
     },
     "execution_count": 15,
     "metadata": {},
     "output_type": "execute_result"
    }
   ],
   "source": [
    "cm.log(2+3j)"
   ]
  },
  {
   "cell_type": "code",
   "execution_count": 16,
   "id": "a4dcaf85",
   "metadata": {},
   "outputs": [
    {
     "data": {
      "text/plain": [
       "(1.6094379124341003-1.5707963267948966j)"
      ]
     },
     "execution_count": 16,
     "metadata": {},
     "output_type": "execute_result"
    }
   ],
   "source": [
    "cm.log(-2j-3j)"
   ]
  },
  {
   "cell_type": "code",
   "execution_count": null,
   "id": "a760c56c",
   "metadata": {},
   "outputs": [],
   "source": [
    "math.log10()"
   ]
  },
  {
   "cell_type": "code",
   "execution_count": 17,
   "id": "da56223f",
   "metadata": {},
   "outputs": [
    {
     "data": {
      "text/plain": [
       "2.0"
      ]
     },
     "execution_count": 17,
     "metadata": {},
     "output_type": "execute_result"
    }
   ],
   "source": [
    "math.log10(100)"
   ]
  },
  {
   "cell_type": "code",
   "execution_count": 18,
   "id": "12b25002",
   "metadata": {},
   "outputs": [
    {
     "data": {
      "text/plain": [
       "2.0"
      ]
     },
     "execution_count": 18,
     "metadata": {},
     "output_type": "execute_result"
    }
   ],
   "source": [
    "log.log10(100)"
   ]
  },
  {
   "cell_type": "code",
   "execution_count": 23,
   "id": "f09f9c72",
   "metadata": {},
   "outputs": [
    {
     "ename": "TypeError",
     "evalue": "can't convert complex to float",
     "output_type": "error",
     "traceback": [
      "\u001b[1;31m---------------------------------------------------------------------------\u001b[0m",
      "\u001b[1;31mTypeError\u001b[0m                                 Traceback (most recent call last)",
      "Input \u001b[1;32mIn [23]\u001b[0m, in \u001b[0;36m<cell line: 1>\u001b[1;34m()\u001b[0m\n\u001b[1;32m----> 1\u001b[0m \u001b[43mmath\u001b[49m\u001b[38;5;241;43m.\u001b[39;49m\u001b[43mlog10\u001b[49m\u001b[43m(\u001b[49m\u001b[38;5;241;43m2\u001b[39;49m\u001b[43mj\u001b[49m\u001b[43m)\u001b[49m\n",
      "\u001b[1;31mTypeError\u001b[0m: can't convert complex to float"
     ]
    }
   ],
   "source": [
    "math.log10(2j)"
   ]
  },
  {
   "cell_type": "code",
   "execution_count": 24,
   "id": "6eeaaf1d",
   "metadata": {},
   "outputs": [
    {
     "data": {
      "text/plain": [
       "(0.6931471805599453+1.5707963267948966j)"
      ]
     },
     "execution_count": 24,
     "metadata": {},
     "output_type": "execute_result"
    }
   ],
   "source": [
    "cm.log(2j)"
   ]
  },
  {
   "cell_type": "code",
   "execution_count": null,
   "id": "652273be",
   "metadata": {},
   "outputs": [],
   "source": []
  },
  {
   "cell_type": "code",
   "execution_count": 22,
   "id": "47e18ce1",
   "metadata": {},
   "outputs": [
    {
     "data": {
      "text/plain": [
       "93.31929865583416"
      ]
     },
     "execution_count": 22,
     "metadata": {},
     "output_type": "execute_result"
    }
   ],
   "source": [
    "log.log10(2**310)"
   ]
  },
  {
   "cell_type": "code",
   "execution_count": 20,
   "id": "5d548003",
   "metadata": {},
   "outputs": [
    {
     "data": {
      "text/plain": [
       "93.31929865583417"
      ]
     },
     "execution_count": 20,
     "metadata": {},
     "output_type": "execute_result"
    }
   ],
   "source": [
    "math.log10(2**310)"
   ]
  },
  {
   "cell_type": "code",
   "execution_count": 21,
   "id": "0ce0c6ce",
   "metadata": {},
   "outputs": [
    {
     "data": {
      "text/plain": [
       "(93.31929865583416+0j)"
      ]
     },
     "execution_count": 21,
     "metadata": {},
     "output_type": "execute_result"
    }
   ],
   "source": [
    "cm.log10(2**310)"
   ]
  },
  {
   "cell_type": "code",
   "execution_count": null,
   "id": "b28c4bf4",
   "metadata": {},
   "outputs": [],
   "source": [
    "math.log2()"
   ]
  },
  {
   "cell_type": "code",
   "execution_count": 25,
   "id": "9ec54bfe",
   "metadata": {},
   "outputs": [
    {
     "data": {
      "text/plain": [
       "6.6438561897747235"
      ]
     },
     "execution_count": 25,
     "metadata": {},
     "output_type": "execute_result"
    }
   ],
   "source": [
    "log.log2(100)"
   ]
  },
  {
   "cell_type": "code",
   "execution_count": 26,
   "id": "71c11a83",
   "metadata": {},
   "outputs": [
    {
     "data": {
      "text/plain": [
       "6.643856189774724"
      ]
     },
     "execution_count": 26,
     "metadata": {},
     "output_type": "execute_result"
    }
   ],
   "source": [
    "math.log2(100)"
   ]
  },
  {
   "cell_type": "code",
   "execution_count": 28,
   "id": "1eece390",
   "metadata": {},
   "outputs": [
    {
     "data": {
      "text/plain": [
       "309.99999999999994"
      ]
     },
     "execution_count": 28,
     "metadata": {},
     "output_type": "execute_result"
    }
   ],
   "source": [
    "log.log2(2**310)"
   ]
  },
  {
   "cell_type": "code",
   "execution_count": 29,
   "id": "24a8e1ff",
   "metadata": {},
   "outputs": [
    {
     "data": {
      "text/plain": [
       "310.0"
      ]
     },
     "execution_count": 29,
     "metadata": {},
     "output_type": "execute_result"
    }
   ],
   "source": [
    "math.log2(2**310)"
   ]
  },
  {
   "cell_type": "code",
   "execution_count": 30,
   "id": "aad6d073",
   "metadata": {},
   "outputs": [
    {
     "data": {
      "text/plain": [
       "4.61512051684126"
      ]
     },
     "execution_count": 30,
     "metadata": {},
     "output_type": "execute_result"
    }
   ],
   "source": [
    "math.log1p(100)"
   ]
  },
  {
   "cell_type": "code",
   "execution_count": 31,
   "id": "88f460fd",
   "metadata": {},
   "outputs": [
    {
     "data": {
      "text/plain": [
       "4.6151205168412615"
      ]
     },
     "execution_count": 31,
     "metadata": {},
     "output_type": "execute_result"
    }
   ],
   "source": [
    "log.log1p(100)"
   ]
  },
  {
   "cell_type": "code",
   "execution_count": 34,
   "id": "503e2cb6",
   "metadata": {},
   "outputs": [
    {
     "data": {
      "text/plain": [
       "21.487562597823967"
      ]
     },
     "execution_count": 34,
     "metadata": {},
     "output_type": "execute_result"
    }
   ],
   "source": [
    "math.log1p(2**31)"
   ]
  },
  {
   "cell_type": "code",
   "execution_count": 33,
   "id": "c5af24dc",
   "metadata": {},
   "outputs": [
    {
     "data": {
      "text/plain": [
       "21.487562597823967"
      ]
     },
     "execution_count": 33,
     "metadata": {},
     "output_type": "execute_result"
    }
   ],
   "source": [
    "log.log1p(2**31)"
   ]
  },
  {
   "cell_type": "code",
   "execution_count": null,
   "id": "e86b080f",
   "metadata": {},
   "outputs": [],
   "source": []
  },
  {
   "cell_type": "code",
   "execution_count": null,
   "id": "ea85672b",
   "metadata": {},
   "outputs": [],
   "source": []
  },
  {
   "cell_type": "code",
   "execution_count": null,
   "id": "7c89deb5",
   "metadata": {},
   "outputs": [],
   "source": []
  },
  {
   "cell_type": "code",
   "execution_count": null,
   "id": "98519d4e",
   "metadata": {},
   "outputs": [],
   "source": []
  },
  {
   "cell_type": "code",
   "execution_count": null,
   "id": "65799451",
   "metadata": {},
   "outputs": [],
   "source": []
  },
  {
   "cell_type": "code",
   "execution_count": null,
   "id": "ba4bcf10",
   "metadata": {},
   "outputs": [],
   "source": []
  },
  {
   "cell_type": "code",
   "execution_count": null,
   "id": "5af7fdb7",
   "metadata": {},
   "outputs": [],
   "source": []
  },
  {
   "cell_type": "code",
   "execution_count": null,
   "id": "ce01c4e6",
   "metadata": {},
   "outputs": [],
   "source": []
  },
  {
   "cell_type": "code",
   "execution_count": null,
   "id": "cc7575d7",
   "metadata": {},
   "outputs": [],
   "source": []
  }
 ],
 "metadata": {
  "kernelspec": {
   "display_name": "Python 3 (ipykernel)",
   "language": "python",
   "name": "python3"
  },
  "language_info": {
   "codemirror_mode": {
    "name": "ipython",
    "version": 3
   },
   "file_extension": ".py",
   "mimetype": "text/x-python",
   "name": "python",
   "nbconvert_exporter": "python",
   "pygments_lexer": "ipython3",
   "version": "3.9.12"
  }
 },
 "nbformat": 4,
 "nbformat_minor": 5
}
