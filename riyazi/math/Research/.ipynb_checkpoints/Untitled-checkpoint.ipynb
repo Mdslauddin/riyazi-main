{
 "cells": [
  {
   "cell_type": "code",
   "execution_count": 1,
   "id": "666dcc33",
   "metadata": {},
   "outputs": [],
   "source": [
    "# https://en.m.wikipedia.org/wiki/Metallic_mean"
   ]
  },
  {
   "cell_type": "markdown",
   "id": "43e49594",
   "metadata": {},
   "source": [
    " https://en.m.wikipedia.org/wiki/List_of_mathematical_constants"
   ]
  },
  {
   "cell_type": "markdown",
   "id": "b5a6d437",
   "metadata": {},
   "source": [
    "# Metallic mean"
   ]
  },
  {
   "cell_type": "code",
   "execution_count": 2,
   "id": "e1fd4eeb",
   "metadata": {},
   "outputs": [],
   "source": [
    "def metallic_mean(n):\n",
    "    return (n+((n**2+4)**0.5)) /2 "
   ]
  },
  {
   "cell_type": "code",
   "execution_count": 3,
   "id": "08fc7265",
   "metadata": {},
   "outputs": [
    {
     "data": {
      "text/plain": [
       "1.618033988749895"
      ]
     },
     "execution_count": 3,
     "metadata": {},
     "output_type": "execute_result"
    }
   ],
   "source": [
    "metallic_mean(1)"
   ]
  },
  {
   "cell_type": "markdown",
   "id": "b6c36ca4",
   "metadata": {},
   "source": [
    "# Gregory number"
   ]
  },
  {
   "cell_type": "code",
   "execution_count": null,
   "id": "a73cf867",
   "metadata": {},
   "outputs": [],
   "source": []
  },
  {
   "cell_type": "code",
   "execution_count": null,
   "id": "ceac0331",
   "metadata": {},
   "outputs": [],
   "source": []
  },
  {
   "cell_type": "markdown",
   "id": "eba6d5a3",
   "metadata": {},
   "source": [
    "# Hyperharmonic number"
   ]
  },
  {
   "cell_type": "code",
   "execution_count": null,
   "id": "16359168",
   "metadata": {},
   "outputs": [],
   "source": []
  },
  {
   "cell_type": "code",
   "execution_count": null,
   "id": "fa341637",
   "metadata": {},
   "outputs": [],
   "source": []
  },
  {
   "cell_type": "markdown",
   "id": "c46bf296",
   "metadata": {},
   "source": [
    "# Chvátal–Sankoff constants"
   ]
  },
  {
   "cell_type": "code",
   "execution_count": null,
   "id": "95bf7354",
   "metadata": {},
   "outputs": [],
   "source": []
  },
  {
   "cell_type": "code",
   "execution_count": null,
   "id": "4e02fbaf",
   "metadata": {},
   "outputs": [],
   "source": []
  },
  {
   "cell_type": "code",
   "execution_count": null,
   "id": "5f3571d0",
   "metadata": {},
   "outputs": [],
   "source": []
  },
  {
   "cell_type": "code",
   "execution_count": null,
   "id": "c67091e2",
   "metadata": {},
   "outputs": [],
   "source": []
  },
  {
   "cell_type": "markdown",
   "id": "6d119a3b",
   "metadata": {},
   "source": [
    "# Beraha constants"
   ]
  },
  {
   "cell_type": "code",
   "execution_count": null,
   "id": "96d4f6f0",
   "metadata": {},
   "outputs": [],
   "source": []
  },
  {
   "cell_type": "code",
   "execution_count": null,
   "id": "861a4ca7",
   "metadata": {},
   "outputs": [],
   "source": []
  },
  {
   "cell_type": "code",
   "execution_count": null,
   "id": "cba0e4f2",
   "metadata": {},
   "outputs": [],
   "source": []
  },
  {
   "cell_type": "markdown",
   "id": "c7746286",
   "metadata": {},
   "source": [
    "# Lagrange number\n",
    "\n",
    "https://en.m.wikipedia.org/wiki/Lagrange_number"
   ]
  },
  {
   "cell_type": "code",
   "execution_count": 4,
   "id": "09f0f851",
   "metadata": {},
   "outputs": [
    {
     "data": {
      "image/png": "[encoded data removed]",
      "text/plain": [
       "<Figure size 432x288 with 1 Axes>"
      ]
     },
     "metadata": {
      "needs_background": "light"
     },
     "output_type": "display_data"
    }
   ],
   "source": [
    "import numpy as np\n",
    "import matplotlib.pyplot as plt\n",
    "\n",
    "\n",
    "class LagrangePoly:\n",
    "\n",
    "    def __init__(self, X, Y):\n",
    "        self.n = len(X)\n",
    "        self.X = np.array(X)\n",
    "        self.Y = np.array(Y)\n",
    "\n",
    "    def basis(self, x, j):\n",
    "        b = [(x - self.X[m]) / (self.X[j] - self.X[m])\n",
    "             for m in range(self.n) if m != j]\n",
    "        return np.prod(b, axis=0) * self.Y[j]\n",
    "\n",
    "    def interpolate(self, x):\n",
    "        b = [self.basis(x, j) for j in range(self.n)]\n",
    "        return np.sum(b, axis=0)\n",
    "\n",
    "\n",
    "X  = [-9, -4, -1, 7]\n",
    "Y  = [5, 2, -2, 9]\n",
    "\n",
    "plt.scatter(X, Y, c='k')\n",
    "\n",
    "lp = LagrangePoly(X, Y)\n",
    "\n",
    "xx = np.arange(-100, 100) / 10\n",
    "\n",
    "plt.plot(xx, lp.basis(xx, 0))\n",
    "plt.plot(xx, lp.basis(xx, 1))\n",
    "plt.plot(xx, lp.basis(xx, 2))\n",
    "plt.plot(xx, lp.basis(xx, 3))\n",
    "plt.plot(xx, lp.interpolate(xx), linestyle=':')\n",
    "plt.show()"
   ]
  },
  {
   "cell_type": "code",
   "execution_count": null,
   "id": "1d6ab51d",
   "metadata": {},
   "outputs": [],
   "source": []
  },
  {
   "cell_type": "code",
   "execution_count": null,
   "id": "4a1377d2",
   "metadata": {},
   "outputs": [],
   "source": []
  },
  {
   "cell_type": "code",
   "execution_count": null,
   "id": "e6d42b57",
   "metadata": {},
   "outputs": [],
   "source": []
  },
  {
   "cell_type": "code",
   "execution_count": null,
   "id": "d7069bb4",
   "metadata": {},
   "outputs": [],
   "source": []
  },
  {
   "cell_type": "code",
   "execution_count": null,
   "id": "672fac7f",
   "metadata": {},
   "outputs": [],
   "source": []
  },
  {
   "cell_type": "code",
   "execution_count": null,
   "id": "08b17dea",
   "metadata": {},
   "outputs": [],
   "source": []
  }
 ],
 "metadata": {
  "kernelspec": {
   "display_name": "Python 3 (ipykernel)",
   "language": "python",
   "name": "python3"
  },
  "language_info": {
   "codemirror_mode": {
    "name": "ipython",
    "version": 3
   },
   "file_extension": ".py",
   "mimetype": "text/x-python",
   "name": "python",
   "nbconvert_exporter": "python",
   "pygments_lexer": "ipython3",
   "version": "3.9.12"
  }
 },
 "nbformat": 4,
 "nbformat_minor": 5
}
