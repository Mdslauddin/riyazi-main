{
 "cells": [
  {
   "cell_type": "code",
   "execution_count": 1,
   "id": "051a1770",
   "metadata": {},
   "outputs": [],
   "source": [
    "def complement(U,A):\n",
    "    return U-A\n"
   ]
  },
  {
   "cell_type": "code",
   "execution_count": 2,
   "id": "8d404f14",
   "metadata": {},
   "outputs": [],
   "source": [
    "def difference(A,B):\n",
    "    \"\"\" \n",
    "    >>> difference({1,2,3,4,5,6},{2,4,6,8})\n",
    "    \n",
    "    \"\"\"\n",
    "    print(type(A))\n",
    "    print(type(B))\n",
    "    if(type(A) ==type({dict})  and type(B) == type({dict})):\n",
    "        \n",
    "        return type((A-B))\n",
    "    else:\n",
    "        print(\"Enter both set value  data type\")\n",
    "   "
   ]
  },
  {
   "cell_type": "code",
   "execution_count": 3,
   "id": "f15b75bd",
   "metadata": {},
   "outputs": [],
   "source": [
    "def intersection(l1, l2):\n",
    "    temp = []\n",
    "\n",
    "    for item in l1:\n",
    "        if item in l2 and item not in temp:\n",
    "            temp.append(item)\n",
    "\n",
    "    return temp"
   ]
  },
  {
   "cell_type": "code",
   "execution_count": 4,
   "id": "775b2043",
   "metadata": {},
   "outputs": [],
   "source": [
    "def power_set(s):\n",
    "\n",
    "    power_set = [set()]\n",
    "\n",
    "    for element in s:\n",
    "        one_element_set = {element}\n",
    "        power_set += [subset | one_element_set for subset in power_set]\n",
    "\n",
    "    return power_set"
   ]
  },
  {
   "cell_type": "code",
   "execution_count": 1,
   "id": "731cb8cf",
   "metadata": {},
   "outputs": [],
   "source": [
    "def symmetric(A,B):\n",
    "    \"\"\"symmetric\"\"\"\n",
    "    print(type(A))\n",
    "    print(type(B))\n",
    "\n",
    "    if(type(A) ==type(set)  and type(B) == type({set})):\n",
    "        return A^B\n",
    "    else:(\"enter both  set data type \")"
   ]
  },
  {
   "cell_type": "code",
   "execution_count": 2,
   "id": "d88ad641",
   "metadata": {},
   "outputs": [],
   "source": [
    "def union(lists):\n",
    "    \"\"\"\n",
    "    list1 = [3,2,1,8,5,3,1]\n",
    "    list2 = [9,5,6,3,4,2]\n",
    "    list3 = [1,0,9,2,8,5,4]\n",
    "    list4 = [5,3,6,8,2,2,0]\n",
    "\n",
    "     union([list1,list2,list3,list4])\n",
    "    \n",
    "    \"\"\"\n",
    "    all_elements = []\n",
    "    for x in lists:\n",
    "        all_elements = all_elements + x\n",
    "    return set(set(all_elements))\n",
    "\n"
   ]
  },
  {
   "cell_type": "code",
   "execution_count": null,
   "id": "a11ccfe7",
   "metadata": {},
   "outputs": [],
   "source": []
  }
 ],
 "metadata": {
  "kernelspec": {
   "display_name": "Python 3 (ipykernel)",
   "language": "python",
   "name": "python3"
  },
  "language_info": {
   "codemirror_mode": {
    "name": "ipython",
    "version": 3
   },
   "file_extension": ".py",
   "mimetype": "text/x-python",
   "name": "python",
   "nbconvert_exporter": "python",
   "pygments_lexer": "ipython3",
   "version": "3.9.12"
  }
 },
 "nbformat": 4,
 "nbformat_minor": 5
}
