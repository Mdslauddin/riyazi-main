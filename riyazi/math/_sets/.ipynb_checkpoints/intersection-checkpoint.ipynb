{
 "cells": [
  {
   "cell_type": "code",
   "execution_count": 1,
   "id": "a0fef942",
   "metadata": {},
   "outputs": [],
   "source": [
    "def intersection(l1, l2):\n",
    "    temp = []\n",
    "\n",
    "    for item in l1:\n",
    "        if item in l2 and item not in temp:\n",
    "            temp.append(item)\n",
    "\n",
    "    return temp"
   ]
  },
  {
   "cell_type": "code",
   "execution_count": 2,
   "id": "7759ccdd",
   "metadata": {},
   "outputs": [],
   "source": [
    "import numpy as np"
   ]
  },
  {
   "cell_type": "code",
   "execution_count": 5,
   "id": "77026853",
   "metadata": {},
   "outputs": [],
   "source": [
    "a = np.array([1,2,3,4])\n",
    "b = np.array([1,2,4,5,6])"
   ]
  },
  {
   "cell_type": "code",
   "execution_count": 6,
   "id": "8e103b6a",
   "metadata": {},
   "outputs": [
    {
     "data": {
      "text/plain": [
       "[1, 2, 4]"
      ]
     },
     "execution_count": 6,
     "metadata": {},
     "output_type": "execute_result"
    }
   ],
   "source": [
    "intersection(a,b)"
   ]
  },
  {
   "cell_type": "code",
   "execution_count": 7,
   "id": "8a389f85",
   "metadata": {},
   "outputs": [],
   "source": [
    "def binary_find(element, seq):\n",
    "    low, high = 0, len(seq), \n",
    "    while low != high:\n",
    "        mid = (low + high) // 2\n",
    "        if seq[mid] == element:\n",
    "            return True\n",
    "        elif seq[mid] < element:\n",
    "            low = mid+1\n",
    "        else:\n",
    "            high = mid\n",
    "    return False\n",
    "\n",
    "def remove_adjacent(seq):\n",
    "    ret = []\n",
    "    last = object()\n",
    "    for element in seq:\n",
    "        if element != last:\n",
    "            ret.append(element)\n",
    "        last = element\n",
    "    return ret"
   ]
  },
  {
   "cell_type": "code",
   "execution_count": null,
   "id": "4d0dce7a",
   "metadata": {},
   "outputs": [],
   "source": []
  }
 ],
 "metadata": {
  "kernelspec": {
   "display_name": "Python 3 (ipykernel)",
   "language": "python",
   "name": "python3"
  },
  "language_info": {
   "codemirror_mode": {
    "name": "ipython",
    "version": 3
   },
   "file_extension": ".py",
   "mimetype": "text/x-python",
   "name": "python",
   "nbconvert_exporter": "python",
   "pygments_lexer": "ipython3",
   "version": "3.9.12"
  }
 },
 "nbformat": 4,
 "nbformat_minor": 5
}
