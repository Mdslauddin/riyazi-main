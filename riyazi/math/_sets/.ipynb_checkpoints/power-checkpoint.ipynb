{
 "cells": [
  {
   "cell_type": "code",
   "execution_count": 1,
   "id": "9f59a1aa",
   "metadata": {},
   "outputs": [],
   "source": [
    "def get_power_set(s):\n",
    "\n",
    "    empty_set = set()\n",
    "    power_set = [empty_set]\n",
    "\n",
    "    for elem in s:\n",
    "        # Need this temporary list because we can't change the power_set list while iterating it. Or so I think.\n",
    "        new_sets = [] \n",
    "        for power_set_item in power_set:\n",
    "            new_set = set().union(power_set_item) # Is this the best way to copy set?\n",
    "            new_set.add(elem)\n",
    "            new_sets.append(new_set)\n",
    "        power_set.extend(new_sets)\n",
    "\n",
    "    return power_set"
   ]
  },
  {
   "cell_type": "code",
   "execution_count": 2,
   "id": "8a057384",
   "metadata": {},
   "outputs": [
    {
     "data": {
      "text/plain": [
       "[set(),\n",
       " {1},\n",
       " {2},\n",
       " {1, 2},\n",
       " {3},\n",
       " {1, 3},\n",
       " {2, 3},\n",
       " {1, 2, 3},\n",
       " {4},\n",
       " {1, 4},\n",
       " {2, 4},\n",
       " {1, 2, 4},\n",
       " {3, 4},\n",
       " {1, 3, 4},\n",
       " {2, 3, 4},\n",
       " {1, 2, 3, 4}]"
      ]
     },
     "execution_count": 2,
     "metadata": {},
     "output_type": "execute_result"
    }
   ],
   "source": [
    "a = [1,2,3,4]\n",
    "get_power_set(a)"
   ]
  },
  {
   "cell_type": "code",
   "execution_count": 3,
   "id": "f34c7f82",
   "metadata": {},
   "outputs": [],
   "source": [
    "def get_power_set(s):\n",
    "\n",
    "    power_set = [set()]\n",
    "\n",
    "    for element in s:\n",
    "        one_element_set = {element}\n",
    "        power_set += [subset | one_element_set for subset in power_set]\n",
    "\n",
    "    return power_set"
   ]
  },
  {
   "cell_type": "code",
   "execution_count": 4,
   "id": "75a6001e",
   "metadata": {},
   "outputs": [],
   "source": [
    "def get_power_set(s):\n",
    "\n",
    "    power_set = {frozenset()}\n",
    "\n",
    "    for element in s:\n",
    "        one_element_set = frozenset({element})\n",
    "        power_set |= {subset | one_element_set for subset in power_set}\n",
    "\n",
    "    return power_set"
   ]
  },
  {
   "cell_type": "code",
   "execution_count": null,
   "id": "4db6c8d6",
   "metadata": {},
   "outputs": [],
   "source": []
  }
 ],
 "metadata": {
  "kernelspec": {
   "display_name": "Python 3 (ipykernel)",
   "language": "python",
   "name": "python3"
  },
  "language_info": {
   "codemirror_mode": {
    "name": "ipython",
    "version": 3
   },
   "file_extension": ".py",
   "mimetype": "text/x-python",
   "name": "python",
   "nbconvert_exporter": "python",
   "pygments_lexer": "ipython3",
   "version": "3.9.12"
  }
 },
 "nbformat": 4,
 "nbformat_minor": 5
}
