{
 "cells": [
  {
   "cell_type": "code",
   "execution_count": 1,
   "id": "ca14192e",
   "metadata": {},
   "outputs": [],
   "source": [
    "# sets are define\n",
    "A = {0, 2, 4, 6, 8};\n",
    "B = {1, 2, 3, 4, 5};\n",
    "\n",
    "\n",
    "def symmetric(A,B):\n",
    "    return A^B\n"
   ]
  },
  {
   "cell_type": "code",
   "execution_count": 2,
   "id": "8bbd5286",
   "metadata": {},
   "outputs": [
    {
     "data": {
      "text/plain": [
       "{0, 1, 3, 5, 6, 8}"
      ]
     },
     "execution_count": 2,
     "metadata": {},
     "output_type": "execute_result"
    }
   ],
   "source": [
    "symmetric(A,B)"
   ]
  },
  {
   "cell_type": "code",
   "execution_count": 5,
   "id": "d785832b",
   "metadata": {},
   "outputs": [],
   "source": [
    "def symmetric(A,B):\n",
    "    \"\"\"symmetric\"\"\"\n",
    "    print(type(A))\n",
    "    print(type(B))\n",
    "\n",
    "    if(type(A) ==type({dict})  and type(B) == type({dict})):\n",
    "        return A^B\n",
    "    else:(\"enter both  set data type \")"
   ]
  },
  {
   "cell_type": "code",
   "execution_count": 8,
   "id": "39aa294a",
   "metadata": {},
   "outputs": [
    {
     "name": "stdout",
     "output_type": "stream",
     "text": [
      "<class 'set'>\n",
      "<class 'set'>\n"
     ]
    },
    {
     "data": {
      "text/plain": [
       "{1, 4, 5, 6, 7, 8}"
      ]
     },
     "execution_count": 8,
     "metadata": {},
     "output_type": "execute_result"
    }
   ],
   "source": [
    "symmetric({1,2,3,4},{5,6,7,8,2,3})"
   ]
  },
  {
   "cell_type": "code",
   "execution_count": null,
   "id": "f222d3fd",
   "metadata": {},
   "outputs": [],
   "source": []
  }
 ],
 "metadata": {
  "kernelspec": {
   "display_name": "Python 3 (ipykernel)",
   "language": "python",
   "name": "python3"
  },
  "language_info": {
   "codemirror_mode": {
    "name": "ipython",
    "version": 3
   },
   "file_extension": ".py",
   "mimetype": "text/x-python",
   "name": "python",
   "nbconvert_exporter": "python",
   "pygments_lexer": "ipython3",
   "version": "3.9.12"
  }
 },
 "nbformat": 4,
 "nbformat_minor": 5
}
