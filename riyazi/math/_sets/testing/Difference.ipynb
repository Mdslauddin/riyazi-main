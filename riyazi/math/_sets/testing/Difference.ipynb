{
 "cells": [
  {
   "cell_type": "code",
   "execution_count": 60,
   "id": "994cb081",
   "metadata": {},
   "outputs": [],
   "source": [
    "import scipy.io as i"
   ]
  },
  {
   "cell_type": "code",
   "execution_count": null,
   "id": "c3478d93",
   "metadata": {},
   "outputs": [],
   "source": [
    "i.byteordercodes()"
   ]
  },
  {
   "cell_type": "code",
   "execution_count": 61,
   "id": "d769d6d7",
   "metadata": {},
   "outputs": [],
   "source": [
    "import numpy as np "
   ]
  },
  {
   "cell_type": "code",
   "execution_count": null,
   "id": "1f533335",
   "metadata": {},
   "outputs": [],
   "source": []
  },
  {
   "cell_type": "code",
   "execution_count": null,
   "id": "8bfc744c",
   "metadata": {},
   "outputs": [],
   "source": []
  },
  {
   "cell_type": "code",
   "execution_count": null,
   "id": "0a00081a",
   "metadata": {},
   "outputs": [],
   "source": []
  },
  {
   "cell_type": "code",
   "execution_count": null,
   "id": "80768e1a",
   "metadata": {},
   "outputs": [],
   "source": [
    "# sets are define\n",
    "A = {1,2,3,4,5,6};\n",
    "B = {2,4,6,8};\n",
    "\n",
    "# difference\n",
    "print(\"Difference :\", A - B)"
   ]
  },
  {
   "cell_type": "code",
   "execution_count": null,
   "id": "c3a3f61c",
   "metadata": {},
   "outputs": [],
   "source": [
    "def difference(A,B):\n",
    "    \"\"\" \n",
    "    \n",
    "    >>> difference({1,2,3,4,5,6},{2,4,6,8})\n",
    "    \n",
    "    \n",
    "    \"\"\"\n",
    "    \n",
    "    return (A-B)\n",
    "   "
   ]
  },
  {
   "cell_type": "code",
   "execution_count": null,
   "id": "0e466771",
   "metadata": {
    "scrolled": true
   },
   "outputs": [],
   "source": [
    "difference({1,2,3,4,5,6},{2,4,6,8})"
   ]
  },
  {
   "cell_type": "code",
   "execution_count": null,
   "id": "65ba0178",
   "metadata": {},
   "outputs": [],
   "source": []
  },
  {
   "cell_type": "code",
   "execution_count": 57,
   "id": "790b7dc7",
   "metadata": {},
   "outputs": [],
   "source": [
    "def difference(A,B):\n",
    "    \"\"\" \n",
    "    >>> difference({1,2,3,4,5,6},{2,4,6,8})\n",
    "    \n",
    "    \"\"\"\n",
    "    print(type(A))\n",
    "    print(type(B))\n",
    "    if(type(A) ==type({dict})  and type(B) == type({dict})):\n",
    "        \n",
    "        return type((A-B))\n",
    "    else:\n",
    "        print(\"Enter both set value  data type\")\n",
    "   "
   ]
  },
  {
   "cell_type": "code",
   "execution_count": null,
   "id": "ca212bd5",
   "metadata": {},
   "outputs": [],
   "source": [
    "difference()"
   ]
  },
  {
   "cell_type": "code",
   "execution_count": 55,
   "id": "3a44a598",
   "metadata": {},
   "outputs": [
    {
     "name": "stdout",
     "output_type": "stream",
     "text": [
      "<class 'set'>\n",
      "<class 'set'>\n"
     ]
    },
    {
     "data": {
      "text/plain": [
       "set"
      ]
     },
     "execution_count": 55,
     "metadata": {},
     "output_type": "execute_result"
    }
   ],
   "source": [
    "difference({1,2,3},{3,4,5})"
   ]
  },
  {
   "cell_type": "code",
   "execution_count": 36,
   "id": "90242220",
   "metadata": {},
   "outputs": [
    {
     "data": {
      "text/plain": [
       "{1, 2}"
      ]
     },
     "execution_count": 36,
     "metadata": {},
     "output_type": "execute_result"
    }
   ],
   "source": [
    "a"
   ]
  },
  {
   "cell_type": "code",
   "execution_count": 37,
   "id": "f62fbd4c",
   "metadata": {},
   "outputs": [
    {
     "data": {
      "text/plain": [
       "set"
      ]
     },
     "execution_count": 37,
     "metadata": {},
     "output_type": "execute_result"
    }
   ],
   "source": [
    "type({dict})"
   ]
  },
  {
   "cell_type": "code",
   "execution_count": 29,
   "id": "d1739ea0",
   "metadata": {},
   "outputs": [
    {
     "name": "stdout",
     "output_type": "stream",
     "text": [
      "<class 'dict'>\n"
     ]
    }
   ],
   "source": [
    "print(type({}))"
   ]
  },
  {
   "cell_type": "code",
   "execution_count": 23,
   "id": "edbb8a6e",
   "metadata": {},
   "outputs": [
    {
     "data": {
      "text/plain": [
       "set"
      ]
     },
     "execution_count": 23,
     "metadata": {},
     "output_type": "execute_result"
    }
   ],
   "source": [
    "set"
   ]
  },
  {
   "cell_type": "code",
   "execution_count": 24,
   "id": "14d2b4c0",
   "metadata": {},
   "outputs": [
    {
     "data": {
      "text/plain": [
       "dict"
      ]
     },
     "execution_count": 24,
     "metadata": {},
     "output_type": "execute_result"
    }
   ],
   "source": [
    "type()"
   ]
  },
  {
   "cell_type": "code",
   "execution_count": null,
   "id": "d4c22f54",
   "metadata": {},
   "outputs": [],
   "source": []
  },
  {
   "cell_type": "code",
   "execution_count": 16,
   "id": "ae6c8b94",
   "metadata": {},
   "outputs": [
    {
     "data": {
      "text/plain": [
       "NoneType"
      ]
     },
     "execution_count": 16,
     "metadata": {},
     "output_type": "execute_result"
    }
   ],
   "source": [
    "type(a)"
   ]
  },
  {
   "cell_type": "code",
   "execution_count": null,
   "id": "ec1808f9",
   "metadata": {},
   "outputs": [],
   "source": [
    "type({})"
   ]
  },
  {
   "cell_type": "code",
   "execution_count": 5,
   "id": "3cb6e3db",
   "metadata": {},
   "outputs": [
    {
     "data": {
      "text/plain": [
       "(list, list)"
      ]
     },
     "execution_count": 5,
     "metadata": {},
     "output_type": "execute_result"
    }
   ],
   "source": [
    "A = [1,2,3,4]\n",
    "B = [1,2,3]\n",
    "type(A), type(B)"
   ]
  },
  {
   "cell_type": "code",
   "execution_count": 9,
   "id": "f43c97bd",
   "metadata": {},
   "outputs": [
    {
     "name": "stdout",
     "output_type": "stream",
     "text": [
      "Hello\n"
     ]
    }
   ],
   "source": [
    "if(type(A) and type(B) == type([])):\n",
    "    print(\"Hello\")"
   ]
  },
  {
   "cell_type": "code",
   "execution_count": null,
   "id": "ff7f6fe3",
   "metadata": {},
   "outputs": [],
   "source": [
    "difference([1,2,3,4,5,6],[2,4,6,8])"
   ]
  },
  {
   "cell_type": "code",
   "execution_count": 8,
   "id": "ee24abbe",
   "metadata": {},
   "outputs": [
    {
     "data": {
      "text/plain": [
       "list"
      ]
     },
     "execution_count": 8,
     "metadata": {},
     "output_type": "execute_result"
    }
   ],
   "source": [
    "type([])"
   ]
  },
  {
   "cell_type": "code",
   "execution_count": 63,
   "id": "0df378ba",
   "metadata": {},
   "outputs": [
    {
     "ename": "NameError",
     "evalue": "name 'override' is not defined",
     "output_type": "error",
     "traceback": [
      "\u001b[1;31m---------------------------------------------------------------------------\u001b[0m",
      "\u001b[1;31mNameError\u001b[0m                                 Traceback (most recent call last)",
      "Input \u001b[1;32mIn [63]\u001b[0m, in \u001b[0;36m<cell line: 1>\u001b[1;34m()\u001b[0m\n\u001b[1;32m----> 1\u001b[0m \u001b[38;5;241m@\u001b[39m \u001b[43moverride\u001b[49m\n\u001b[0;32m      2\u001b[0m \u001b[38;5;28;01mdef\u001b[39;00m \u001b[38;5;21mdifference\u001b[39m(A,B):\n\u001b[0;32m      3\u001b[0m     \u001b[38;5;124;03m\"\"\" \u001b[39;00m\n\u001b[0;32m      4\u001b[0m \u001b[38;5;124;03m    >>> difference({1,2,3,4,5,6},{2,4,6,8})\u001b[39;00m\n\u001b[0;32m      5\u001b[0m \u001b[38;5;124;03m    \u001b[39;00m\n\u001b[0;32m      6\u001b[0m \u001b[38;5;124;03m    \"\"\"\u001b[39;00m\n\u001b[0;32m      7\u001b[0m     \u001b[38;5;28mprint\u001b[39m(\u001b[38;5;28mtype\u001b[39m(A))\n",
      "\u001b[1;31mNameError\u001b[0m: name 'override' is not defined"
     ]
    }
   ],
   "source": [
    "\n",
    "def difference(A,B):\n",
    "    \"\"\" \n",
    "    >>> difference({1,2,3,4,5,6},{2,4,6,8})\n",
    "    \n",
    "    \"\"\"\n",
    "    print(type(A))\n",
    "    print(type(B))\n",
    "    if(type(A) ==type({dict})  and type(B) == type({dict})):\n",
    "        \n",
    "        return type((A-B))\n",
    "    else:\n",
    "        print(\"Enter both set value  data type\")\n",
    "   "
   ]
  },
  {
   "cell_type": "code",
   "execution_count": 5,
   "id": "7c2e4299",
   "metadata": {},
   "outputs": [
    {
     "data": {
      "text/plain": [
       "dict"
      ]
     },
     "execution_count": 5,
     "metadata": {},
     "output_type": "execute_result"
    }
   ],
   "source": []
  },
  {
   "cell_type": "code",
   "execution_count": null,
   "id": "5a50ab1c",
   "metadata": {},
   "outputs": [],
   "source": []
  }
 ],
 "metadata": {
  "kernelspec": {
   "display_name": "Python 3 (ipykernel)",
   "language": "python",
   "name": "python3"
  },
  "language_info": {
   "codemirror_mode": {
    "name": "ipython",
    "version": 3
   },
   "file_extension": ".py",
   "mimetype": "text/x-python",
   "name": "python",
   "nbconvert_exporter": "python",
   "pygments_lexer": "ipython3",
   "version": "3.9.12"
  }
 },
 "nbformat": 4,
 "nbformat_minor": 5
}
