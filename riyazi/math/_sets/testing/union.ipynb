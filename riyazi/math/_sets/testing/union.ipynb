{
 "cells": [
  {
   "cell_type": "code",
   "execution_count": 3,
   "id": "a3e48de9",
   "metadata": {},
   "outputs": [
    {
     "name": "stdout",
     "output_type": "stream",
     "text": [
      "Enter the size of the List ::3\n",
      "Enter the Element of first list::\n",
      "1\n",
      "2\n",
      "3\n",
      "Enter the Element of second list::\n",
      "3\n",
      "4\n",
      "5\n",
      "THE FINAL LIST IS ::> [1, 2, 3, 3, 4, 5]\n"
     ]
    }
   ],
   "source": [
    "# UNION OPERATION\n",
    "A=list()\n",
    "B=list()\n",
    "n=int(input(\"Enter the size of the List ::\"))\n",
    "print(\"Enter the Element of first list::\")\n",
    "for i in range(int(n)):\n",
    "   k=int(input(\"\"))\n",
    "   A.append(k)\n",
    "print(\"Enter the Element of second list::\")\n",
    "for i in range(int(n)):\n",
    "   k=int(input(\"\"))\n",
    "   B.append(k)\n",
    "   C = A + B\n",
    "print(\"THE FINAL LIST IS ::>\",C)"
   ]
  },
  {
   "cell_type": "code",
   "execution_count": 4,
   "id": "973cd5c6",
   "metadata": {},
   "outputs": [
    {
     "name": "stdout",
     "output_type": "stream",
     "text": [
      "[23, 15, 2, 14, 14, 16, 20, 52, 2, 48, 15, 12, 26, 32, 47, 54]\n"
     ]
    }
   ],
   "source": [
    "# Python program to illustrate union\n",
    "# Maintained repetition\n",
    "def Union(lst1, lst2):\n",
    "\tfinal_list = lst1 + lst2\n",
    "\treturn final_list\n",
    "\n",
    "# Driver Code\n",
    "lst1 = [23, 15, 2, 14, 14, 16, 20 ,52]\n",
    "lst2 = [2, 48, 15, 12, 26, 32, 47, 54]\n",
    "print(Union(lst1, lst2)).\n"
   ]
  },
  {
   "cell_type": "code",
   "execution_count": 5,
   "id": "8d82a984",
   "metadata": {},
   "outputs": [
    {
     "name": "stdout",
     "output_type": "stream",
     "text": [
      "[0, 1, 2, 3, 4, 5, 6, 8, 9]\n"
     ]
    }
   ],
   "source": [
    "def union(lists):\n",
    "    all_elements = []\n",
    "    for x in lists:\n",
    "        all_elements = all_elements + x\n",
    "    return list(set(all_elements))\n",
    "\n",
    "list1 = [3,2,1,8,5,3,1]\n",
    "list2 = [9,5,6,3,4,2]\n",
    "list3 = [1,0,9,2,8,5,4]\n",
    "list4 = [5,3,6,8,2,2,0]\n",
    "\n",
    "print(union([list1,list2,list3,list4]))"
   ]
  },
  {
   "cell_type": "code",
   "execution_count": null,
   "id": "74d2f474",
   "metadata": {},
   "outputs": [],
   "source": []
  }
 ],
 "metadata": {
  "kernelspec": {
   "display_name": "Python 3 (ipykernel)",
   "language": "python",
   "name": "python3"
  },
  "language_info": {
   "codemirror_mode": {
    "name": "ipython",
    "version": 3
   },
   "file_extension": ".py",
   "mimetype": "text/x-python",
   "name": "python",
   "nbconvert_exporter": "python",
   "pygments_lexer": "ipython3",
   "version": "3.9.12"
  }
 },
 "nbformat": 4,
 "nbformat_minor": 5
}
