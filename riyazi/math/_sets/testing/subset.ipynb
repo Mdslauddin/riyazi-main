{
 "cells": [
  {
   "cell_type": "code",
   "execution_count": 1,
   "id": "e66dc593",
   "metadata": {},
   "outputs": [],
   "source": [
    "\"\"\"\n",
    "Given a set of distinct integers, nums, return all possible subsets.\n",
    "\n",
    "Note: The solution set must not contain duplicate subsets.\n",
    "\n",
    "For example,\n",
    "If nums = [1,2,3], a solution is:\n",
    "\n",
    "[\n",
    "  [3],\n",
    "  [1],\n",
    "  [2],\n",
    "  [1,2,3],\n",
    "  [1,3],\n",
    "  [2,3],\n",
    "  [1,2],\n",
    "  []\n",
    "]\n",
    "\"\"\"\n",
    "\n",
    "\n",
    "def subsets(nums):\n",
    "    \"\"\"\n",
    "    O(2**n)\n",
    "    \"\"\"\n",
    "    def backtrack(res, nums, stack, pos):\n",
    "        if pos == len(nums):\n",
    "            res.append(list(stack))\n",
    "        else:\n",
    "            # take nums[pos]\n",
    "            stack.append(nums[pos])\n",
    "            backtrack(res, nums, stack, pos+1)\n",
    "            stack.pop()\n",
    "            # dont take nums[pos]\n",
    "            backtrack(res, nums, stack, pos+1)\n",
    "\n",
    "    res = []\n",
    "    backtrack(res, nums, [], 0)\n",
    "    return res\n",
    "\n",
    "\n",
    "\"\"\"\n",
    "simplified backtrack\n",
    "\n",
    "def backtrack(res, nums, cur, pos):\n",
    "    if pos >= len(nums):\n",
    "        res.append(cur)\n",
    "    else:\n",
    "        backtrack(res, nums, cur+[nums[pos]], pos+1)\n",
    "        backtrack(res, nums, cur, pos+1)\n",
    "\"\"\"\n",
    "\n",
    "\n",
    "# Iteratively\n",
    "def subsets_v2(nums):\n",
    "    res = [[]]\n",
    "    for num in sorted(nums):\n",
    "        res += [item+[num] for item in res]\n",
    "    return res\n"
   ]
  },
  {
   "cell_type": "code",
   "execution_count": 2,
   "id": "e112019d",
   "metadata": {},
   "outputs": [
    {
     "data": {
      "text/plain": [
       "[[1, 2, 3], [1, 2], [1, 3], [1], [2, 3], [2], [3], []]"
      ]
     },
     "execution_count": 2,
     "metadata": {},
     "output_type": "execute_result"
    }
   ],
   "source": [
    "subsets([1,2,3])"
   ]
  },
  {
   "cell_type": "code",
   "execution_count": 3,
   "id": "44beb2f3",
   "metadata": {},
   "outputs": [
    {
     "data": {
      "text/plain": [
       "[[1, 2, 2], [1, 2], [1, 2], [1], [2, 2], [2], [2], []]"
      ]
     },
     "execution_count": 3,
     "metadata": {},
     "output_type": "execute_result"
    }
   ],
   "source": [
    "subsets([1,2,2])"
   ]
  },
  {
   "cell_type": "code",
   "execution_count": 4,
   "id": "b0466b05",
   "metadata": {},
   "outputs": [],
   "source": [
    "\"\"\"\n",
    "Given a collection of integers that might contain duplicates, nums,\n",
    "return all possible subsets.\n",
    "\n",
    "Note: The solution set must not contain duplicate subsets.\n",
    "\n",
    "For example,\n",
    "If nums = [1,2,2], a solution is:\n",
    "\n",
    "[\n",
    "  [2],\n",
    "  [1],\n",
    "  [1,2,2],\n",
    "  [2,2],\n",
    "  [1,2],\n",
    "  []\n",
    "]\n",
    "\"\"\"\n",
    "\n",
    "\n",
    "def subsets_unique(nums):\n",
    "\n",
    "    def backtrack(res, nums, stack, pos):\n",
    "        if pos == len(nums):\n",
    "            res.add(tuple(stack))\n",
    "        else:\n",
    "            # take\n",
    "            stack.append(nums[pos])\n",
    "            backtrack(res, nums, stack, pos+1)\n",
    "            stack.pop()\n",
    "\n",
    "            # don't take\n",
    "            backtrack(res, nums, stack, pos+1)\n",
    "\n",
    "    res = set()\n",
    "    backtrack(res, nums, [], 0)\n",
    "    return list(res)\n"
   ]
  },
  {
   "cell_type": "code",
   "execution_count": null,
   "id": "a6a7e167",
   "metadata": {},
   "outputs": [],
   "source": [
    "\n"
   ]
  },
  {
   "cell_type": "code",
   "execution_count": null,
   "id": "ca1f97af",
   "metadata": {},
   "outputs": [],
   "source": []
  }
 ],
 "metadata": {
  "kernelspec": {
   "display_name": "Python 3 (ipykernel)",
   "language": "python",
   "name": "python3"
  },
  "language_info": {
   "codemirror_mode": {
    "name": "ipython",
    "version": 3
   },
   "file_extension": ".py",
   "mimetype": "text/x-python",
   "name": "python",
   "nbconvert_exporter": "python",
   "pygments_lexer": "ipython3",
   "version": "3.9.12"
  }
 },
 "nbformat": 4,
 "nbformat_minor": 5
}
