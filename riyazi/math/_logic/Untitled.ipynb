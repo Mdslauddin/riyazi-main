{
 "cells": [
  {
   "cell_type": "code",
   "execution_count": 1,
   "id": "3acc23ba",
   "metadata": {},
   "outputs": [],
   "source": [
    "def logical_and(x1,x2):\n",
    "    return (x1&x2)"
   ]
  },
  {
   "cell_type": "code",
   "execution_count": 2,
   "id": "379f62d5",
   "metadata": {},
   "outputs": [],
   "source": [
    "def logical_not(x):\n",
    "    return not x "
   ]
  },
  {
   "cell_type": "code",
   "execution_count": 3,
   "id": "0aeff080",
   "metadata": {},
   "outputs": [],
   "source": [
    "def logical_or(x1,x2):\n",
    "    return (x1|x2)"
   ]
  },
  {
   "cell_type": "code",
   "execution_count": 4,
   "id": "9bcaa1b7",
   "metadata": {},
   "outputs": [],
   "source": [
    "def logical_xor(x1,x2):\n",
    "    return (x1^x2)"
   ]
  },
  {
   "cell_type": "code",
   "execution_count": null,
   "id": "2111a264",
   "metadata": {},
   "outputs": [],
   "source": [
    "def bitwise_and(x1,x2):\n",
    "    return (logical_and(x1,x2))"
   ]
  },
  {
   "cell_type": "code",
   "execution_count": null,
   "id": "ffe104f8",
   "metadata": {},
   "outputs": [],
   "source": [
    "def bitwise_not(x):\n",
    "    return logical_not(x)"
   ]
  },
  {
   "cell_type": "code",
   "execution_count": null,
   "id": "65d0691c",
   "metadata": {},
   "outputs": [],
   "source": [
    "def bitwise_or(x1,x2):\n",
    "    return logical_or(x1,x2)"
   ]
  },
  {
   "cell_type": "code",
   "execution_count": null,
   "id": "5c1b88c2",
   "metadata": {},
   "outputs": [],
   "source": [
    "def bitwise_xor(x1,x2):\n",
    "    return logical_xor(x1,x2)"
   ]
  }
 ],
 "metadata": {
  "kernelspec": {
   "display_name": "base",
   "language": "python",
   "name": "python3"
  },
  "language_info": {
   "codemirror_mode": {
    "name": "ipython",
    "version": 3
   },
   "file_extension": ".py",
   "mimetype": "text/x-python",
   "name": "python",
   "nbconvert_exporter": "python",
   "pygments_lexer": "ipython3",
   "version": "3.9.12 (main, Apr  4 2022, 05:22:27) [MSC v.1916 64 bit (AMD64)]"
  },
  "vscode": {
   "interpreter": {
    "hash": "88279d2366fe020547cde40dd65aa0e3aa662a6ec1f3ca12d88834876c85e1a6"
   }
  }
 },
 "nbformat": 4,
 "nbformat_minor": 5
}
