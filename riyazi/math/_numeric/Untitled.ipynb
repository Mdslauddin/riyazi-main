{
 "cells": [
  {
   "cell_type": "code",
   "execution_count": null,
   "id": "6363f0de",
   "metadata": {},
   "outputs": [],
   "source": [
    "import math"
   ]
  },
  {
   "cell_type": "code",
   "execution_count": null,
   "id": "c17f044e",
   "metadata": {},
   "outputs": [],
   "source": []
  },
  {
   "cell_type": "code",
   "execution_count": null,
   "id": "623960f8",
   "metadata": {},
   "outputs": [],
   "source": [
    "import numerics as nm"
   ]
  },
  {
   "cell_type": "code",
   "execution_count": null,
   "id": "b6b00859",
   "metadata": {},
   "outputs": [],
   "source": [
    "nm.sqrt(2j)"
   ]
  },
  {
   "cell_type": "code",
   "execution_count": null,
   "id": "2307c24d",
   "metadata": {},
   "outputs": [],
   "source": [
    "import cmath as cm"
   ]
  },
  {
   "cell_type": "code",
   "execution_count": null,
   "id": "9be94d90",
   "metadata": {},
   "outputs": [],
   "source": [
    "from cmath import sqrt as csqrt, tau"
   ]
  },
  {
   "cell_type": "code",
   "execution_count": null,
   "id": "1e6cb759",
   "metadata": {},
   "outputs": [],
   "source": [
    "csqrt(3)"
   ]
  },
  {
   "cell_type": "code",
   "execution_count": null,
   "id": "21d42d20",
   "metadata": {},
   "outputs": [],
   "source": [
    "nm.sqrt(3J)"
   ]
  },
  {
   "cell_type": "code",
   "execution_count": null,
   "id": "86fc65a5",
   "metadata": {},
   "outputs": [],
   "source": [
    "from math import e"
   ]
  },
  {
   "cell_type": "code",
   "execution_count": null,
   "id": "88e6dad1",
   "metadata": {},
   "outputs": [],
   "source": [
    "def sqrt(x):\n",
    "    if(type(x) == complex):\n",
    "        return (-1*x)**0.5*1j\n",
    "    if x is x.real:\n",
    "        if ( x <= 0  ):\n",
    "            return abs(x**0.5)* 1j\n",
    "        else:\n",
    "            return x**0.5"
   ]
  },
  {
   "cell_type": "code",
   "execution_count": null,
   "id": "0835352f",
   "metadata": {},
   "outputs": [],
   "source": [
    "sqrt(3j)"
   ]
  },
  {
   "cell_type": "code",
   "execution_count": null,
   "id": "85e42e78",
   "metadata": {},
   "outputs": [],
   "source": [
    "csqrt(3j)"
   ]
  },
  {
   "cell_type": "code",
   "execution_count": null,
   "id": "53bf769d",
   "metadata": {},
   "outputs": [],
   "source": [
    "cm.sqrt(2+3j)"
   ]
  },
  {
   "cell_type": "code",
   "execution_count": null,
   "id": "729f55d4",
   "metadata": {},
   "outputs": [],
   "source": [
    "cm.sqrt(2j+3j)"
   ]
  },
  {
   "cell_type": "code",
   "execution_count": null,
   "id": "41af2da1",
   "metadata": {},
   "outputs": [],
   "source": [
    "cm.sqrt(-3j)"
   ]
  },
  {
   "cell_type": "code",
   "execution_count": null,
   "id": "5059d638",
   "metadata": {},
   "outputs": [],
   "source": [
    "cm.sqrt(0)"
   ]
  },
  {
   "cell_type": "code",
   "execution_count": null,
   "id": "a35620fd",
   "metadata": {},
   "outputs": [],
   "source": [
    "import basic"
   ]
  },
  {
   "cell_type": "code",
   "execution_count": null,
   "id": "02c6322d",
   "metadata": {},
   "outputs": [],
   "source": [
    "basic.sqrt(2+3j)"
   ]
  },
  {
   "cell_type": "code",
   "execution_count": null,
   "id": "dd566de9",
   "metadata": {},
   "outputs": [],
   "source": [
    "basic.sqrt(2j+3j)"
   ]
  },
  {
   "cell_type": "code",
   "execution_count": null,
   "id": "46653328",
   "metadata": {},
   "outputs": [],
   "source": [
    "basic.sqrt(-3j)"
   ]
  },
  {
   "cell_type": "code",
   "execution_count": null,
   "id": "3cc9f8bf",
   "metadata": {},
   "outputs": [],
   "source": [
    "basic.sqrt(math.inf)"
   ]
  },
  {
   "cell_type": "code",
   "execution_count": null,
   "id": "8d5e1f99",
   "metadata": {},
   "outputs": [],
   "source": [
    "basic.sqrt(-math.inf)"
   ]
  },
  {
   "cell_type": "code",
   "execution_count": null,
   "id": "a28dda8c",
   "metadata": {},
   "outputs": [],
   "source": [
    "import doc_numerics as doc"
   ]
  },
  {
   "cell_type": "code",
   "execution_count": null,
   "id": "c55b5135",
   "metadata": {},
   "outputs": [],
   "source": [
    "doc.sqrt()"
   ]
  },
  {
   "cell_type": "code",
   "execution_count": null,
   "id": "b9dd0e1d",
   "metadata": {},
   "outputs": [],
   "source": [
    "basic.sqrt(4)"
   ]
  },
  {
   "cell_type": "code",
   "execution_count": null,
   "id": "dc99a5de",
   "metadata": {},
   "outputs": [],
   "source": [
    "basic.sqrt(-4)"
   ]
  },
  {
   "cell_type": "code",
   "execution_count": null,
   "id": "df970f6a",
   "metadata": {},
   "outputs": [],
   "source": [
    "import numpy as np"
   ]
  },
  {
   "cell_type": "code",
   "execution_count": null,
   "id": "a9baa619",
   "metadata": {},
   "outputs": [],
   "source": [
    "np.square()"
   ]
  },
  {
   "cell_type": "code",
   "execution_count": null,
   "id": "1ae2941d",
   "metadata": {},
   "outputs": [],
   "source": [
    "def square(x):\n",
    "    return pow(x,x)"
   ]
  },
  {
   "cell_type": "code",
   "execution_count": null,
   "id": "dedf9a18",
   "metadata": {},
   "outputs": [],
   "source": [
    "square(2)"
   ]
  },
  {
   "cell_type": "code",
   "execution_count": null,
   "id": "acb62b57",
   "metadata": {},
   "outputs": [],
   "source": [
    "square(2j)"
   ]
  },
  {
   "cell_type": "code",
   "execution_count": null,
   "id": "13dd1977",
   "metadata": {},
   "outputs": [],
   "source": [
    "square(-2j)"
   ]
  },
  {
   "cell_type": "code",
   "execution_count": null,
   "id": "61d67b94",
   "metadata": {},
   "outputs": [],
   "source": [
    "square(2j+3j)"
   ]
  },
  {
   "cell_type": "code",
   "execution_count": null,
   "id": "a2b72bae",
   "metadata": {},
   "outputs": [],
   "source": [
    "square(2+3j)"
   ]
  },
  {
   "cell_type": "code",
   "execution_count": null,
   "id": "7490fbca",
   "metadata": {},
   "outputs": [],
   "source": [
    "square(math.inf)"
   ]
  },
  {
   "cell_type": "code",
   "execution_count": null,
   "id": "cd921eb2",
   "metadata": {},
   "outputs": [],
   "source": [
    "square(-math.inf)"
   ]
  },
  {
   "cell_type": "code",
   "execution_count": null,
   "id": "75005538",
   "metadata": {},
   "outputs": [],
   "source": [
    "def  power(a,x):\n",
    "    return pow(a,x)"
   ]
  },
  {
   "cell_type": "code",
   "execution_count": null,
   "id": "9a50b069",
   "metadata": {},
   "outputs": [],
   "source": [
    "power(2,3)"
   ]
  },
  {
   "cell_type": "code",
   "execution_count": null,
   "id": "93f6b363",
   "metadata": {},
   "outputs": [],
   "source": [
    "pow(2j,3j)"
   ]
  },
  {
   "cell_type": "code",
   "execution_count": null,
   "id": "8187bf27",
   "metadata": {},
   "outputs": [],
   "source": [
    "pow(-2j,-3j)"
   ]
  },
  {
   "cell_type": "code",
   "execution_count": null,
   "id": "4ca3472f",
   "metadata": {},
   "outputs": [],
   "source": [
    "pow(2j,-4)"
   ]
  },
  {
   "cell_type": "code",
   "execution_count": null,
   "id": "328a3ce5",
   "metadata": {},
   "outputs": [],
   "source": [
    "pow(2,-4j)"
   ]
  },
  {
   "cell_type": "code",
   "execution_count": null,
   "id": "70658dc8",
   "metadata": {},
   "outputs": [],
   "source": [
    "pow(-2,3)"
   ]
  },
  {
   "cell_type": "code",
   "execution_count": null,
   "id": "875ad2f6",
   "metadata": {},
   "outputs": [],
   "source": [
    "pow(-2,-3)"
   ]
  },
  {
   "cell_type": "code",
   "execution_count": null,
   "id": "204b0d01",
   "metadata": {},
   "outputs": [],
   "source": [
    "pow(2,-3)"
   ]
  },
  {
   "cell_type": "code",
   "execution_count": null,
   "id": "fbf24287",
   "metadata": {},
   "outputs": [],
   "source": [
    "def table(a, rng = 11):\n",
    "    for i in range(1,rng):\n",
    "        n = a*i\n",
    "        print(a, \"*\",i, \"=\", n)"
   ]
  },
  {
   "cell_type": "code",
   "execution_count": null,
   "id": "2a7aa35c",
   "metadata": {},
   "outputs": [],
   "source": [
    "table(0.25,20)"
   ]
  },
  {
   "cell_type": "code",
   "execution_count": null,
   "id": "906a1df6",
   "metadata": {},
   "outputs": [],
   "source": [
    "table(2)"
   ]
  },
  {
   "cell_type": "code",
   "execution_count": null,
   "id": "7a8d97d6",
   "metadata": {},
   "outputs": [],
   "source": [
    "table(2j)"
   ]
  },
  {
   "cell_type": "code",
   "execution_count": null,
   "id": "03f127e6",
   "metadata": {},
   "outputs": [],
   "source": [
    "table(-2)"
   ]
  },
  {
   "cell_type": "code",
   "execution_count": null,
   "id": "367de77f",
   "metadata": {},
   "outputs": [],
   "source": [
    "table(-2j)"
   ]
  },
  {
   "cell_type": "code",
   "execution_count": null,
   "id": "473f917c",
   "metadata": {},
   "outputs": [],
   "source": [
    "math.fabs(-4)"
   ]
  },
  {
   "cell_type": "code",
   "execution_count": null,
   "id": "534fd186",
   "metadata": {},
   "outputs": [],
   "source": []
  },
  {
   "cell_type": "code",
   "execution_count": null,
   "id": "2b9950fa",
   "metadata": {},
   "outputs": [],
   "source": [
    "def fab(n):\n",
    "    a,b = 0,1\n",
    "    while a<n:\n",
    "        print(a, end=' ')\n",
    "        a,b = b, a+b"
   ]
  },
  {
   "cell_type": "code",
   "execution_count": null,
   "id": "1253cf06",
   "metadata": {
    "scrolled": true
   },
   "outputs": [],
   "source": [
    "fab(4)"
   ]
  },
  {
   "cell_type": "code",
   "execution_count": null,
   "id": "309e3acf",
   "metadata": {},
   "outputs": [],
   "source": [
    "fab(5)"
   ]
  },
  {
   "cell_type": "code",
   "execution_count": null,
   "id": "6bf0e759",
   "metadata": {},
   "outputs": [],
   "source": [
    "fab(8)"
   ]
  },
  {
   "cell_type": "code",
   "execution_count": null,
   "id": "af55a661",
   "metadata": {},
   "outputs": [],
   "source": [
    "def fabs(x,/):\n",
    "    \"\"\"\n",
    "    Return the absolute value of the float x.\n",
    "    \"\"\"\n",
    "    return float(abs(x))"
   ]
  },
  {
   "cell_type": "code",
   "execution_count": null,
   "id": "ea0d826a",
   "metadata": {},
   "outputs": [],
   "source": [
    "fabs(-4)"
   ]
  },
  {
   "cell_type": "code",
   "execution_count": null,
   "id": "bde31a9b",
   "metadata": {},
   "outputs": [],
   "source": [
    "fabs(2.9)"
   ]
  },
  {
   "cell_type": "code",
   "execution_count": null,
   "id": "52fa7cea",
   "metadata": {},
   "outputs": [],
   "source": [
    "math.fabs(2.9)"
   ]
  },
  {
   "cell_type": "code",
   "execution_count": null,
   "id": "4b9cc79f",
   "metadata": {},
   "outputs": [],
   "source": [
    "math.fabs(4)"
   ]
  },
  {
   "cell_type": "code",
   "execution_count": null,
   "id": "d7f2672b",
   "metadata": {},
   "outputs": [],
   "source": [
    "fabs(2j)"
   ]
  },
  {
   "cell_type": "code",
   "execution_count": null,
   "id": "e56b899d",
   "metadata": {},
   "outputs": [],
   "source": [
    "fabs(-2j)"
   ]
  },
  {
   "cell_type": "code",
   "execution_count": null,
   "id": "8c819739",
   "metadata": {},
   "outputs": [],
   "source": [
    "fabs(2+3j)"
   ]
  },
  {
   "cell_type": "code",
   "execution_count": null,
   "id": "940e8514",
   "metadata": {},
   "outputs": [],
   "source": [
    "fabs(2)"
   ]
  },
  {
   "cell_type": "code",
   "execution_count": null,
   "id": "04955c0c",
   "metadata": {},
   "outputs": [],
   "source": [
    "fabs(2-3j)"
   ]
  },
  {
   "cell_type": "code",
   "execution_count": null,
   "id": "987c73d9",
   "metadata": {},
   "outputs": [],
   "source": [
    "fabs(-math.inf)"
   ]
  },
  {
   "cell_type": "code",
   "execution_count": null,
   "id": "b1f3c551",
   "metadata": {},
   "outputs": [],
   "source": [
    "def is_prime(n):\n",
    "    if n==2:\n",
    "        return 1\n",
    "    if n<2 or n%2==0:\n",
    "        return 0\n",
    "    i=3\n",
    "    while i*i<=n:\n",
    "        if n%i==0:\n",
    "            return 0\n",
    "        i+=2\n",
    "    return 1"
   ]
  },
  {
   "cell_type": "code",
   "execution_count": null,
   "id": "e051e698",
   "metadata": {},
   "outputs": [],
   "source": [
    "is_prime(2)"
   ]
  },
  {
   "cell_type": "code",
   "execution_count": null,
   "id": "6ed2c1ca",
   "metadata": {},
   "outputs": [],
   "source": [
    "is_prime(4)"
   ]
  },
  {
   "cell_type": "code",
   "execution_count": null,
   "id": "700ee6df",
   "metadata": {},
   "outputs": [],
   "source": [
    "is_prime(7)"
   ]
  },
  {
   "cell_type": "code",
   "execution_count": null,
   "id": "3b3560b0",
   "metadata": {},
   "outputs": [],
   "source": [
    "def root(num, root = 2):\n",
    "    return num**(1/root)"
   ]
  },
  {
   "cell_type": "code",
   "execution_count": null,
   "id": "02f097ec",
   "metadata": {},
   "outputs": [],
   "source": [
    "root(8,3)"
   ]
  },
  {
   "cell_type": "code",
   "execution_count": null,
   "id": "57b0a699",
   "metadata": {},
   "outputs": [],
   "source": [
    "def root(n, root=2):\n",
    "    return pow(n,1/root)"
   ]
  },
  {
   "cell_type": "code",
   "execution_count": null,
   "id": "0d7bdc78",
   "metadata": {},
   "outputs": [],
   "source": [
    "root(8,3)"
   ]
  },
  {
   "cell_type": "code",
   "execution_count": null,
   "id": "0d024fa3",
   "metadata": {},
   "outputs": [],
   "source": [
    "root(8,2)"
   ]
  },
  {
   "cell_type": "code",
   "execution_count": null,
   "id": "f9680e6d",
   "metadata": {},
   "outputs": [],
   "source": [
    "root(8,2j)"
   ]
  },
  {
   "cell_type": "code",
   "execution_count": null,
   "id": "51867a7f",
   "metadata": {},
   "outputs": [],
   "source": [
    "root(8,3j)"
   ]
  },
  {
   "cell_type": "code",
   "execution_count": null,
   "id": "de75373f",
   "metadata": {},
   "outputs": [],
   "source": [
    "def lerp(num1, num2, t):\n",
    "    return num1 + ((num2 -num1)*t)"
   ]
  },
  {
   "cell_type": "code",
   "execution_count": null,
   "id": "51938640",
   "metadata": {},
   "outputs": [],
   "source": [
    "import math"
   ]
  },
  {
   "cell_type": "code",
   "execution_count": null,
   "id": "2a3e528f",
   "metadata": {},
   "outputs": [],
   "source": [
    "import numpy as np"
   ]
  },
  {
   "cell_type": "code",
   "execution_count": null,
   "id": "5e2cda2f",
   "metadata": {},
   "outputs": [],
   "source": [
    "lerp(3,4,1)"
   ]
  },
  {
   "cell_type": "code",
   "execution_count": null,
   "id": "3f242f19",
   "metadata": {},
   "outputs": [],
   "source": [
    "def compound_interest(principal,rate,years):\n",
    "    amount=principal*(1+rate/100)**years\n",
    "    return amount"
   ]
  },
  {
   "cell_type": "code",
   "execution_count": null,
   "id": "eaa9b93c",
   "metadata": {},
   "outputs": [],
   "source": [
    "compound_interest(200,4,2)"
   ]
  },
  {
   "cell_type": "code",
   "execution_count": null,
   "id": "5394eb9d",
   "metadata": {},
   "outputs": [],
   "source": [
    "from math import gamma , sqrt\n",
    "def Heron(a,b,c):\n",
    "    s=(a+b+c)/2.0\n",
    "    A=sqrt(s*(s-a)*(s-b)*(s-c))\n",
    "    return A"
   ]
  },
  {
   "cell_type": "code",
   "execution_count": null,
   "id": "1fb31bfb",
   "metadata": {},
   "outputs": [],
   "source": []
  },
  {
   "cell_type": "code",
   "execution_count": null,
   "id": "e125aa91",
   "metadata": {},
   "outputs": [],
   "source": []
  },
  {
   "cell_type": "code",
   "execution_count": null,
   "id": "40f62059",
   "metadata": {},
   "outputs": [],
   "source": []
  },
  {
   "cell_type": "code",
   "execution_count": null,
   "id": "79464950",
   "metadata": {},
   "outputs": [],
   "source": []
  },
  {
   "cell_type": "code",
   "execution_count": null,
   "id": "147aaa61",
   "metadata": {},
   "outputs": [],
   "source": []
  },
  {
   "cell_type": "code",
   "execution_count": null,
   "id": "f457bc5d",
   "metadata": {},
   "outputs": [],
   "source": []
  },
  {
   "cell_type": "code",
   "execution_count": null,
   "id": "b6d8fdc2",
   "metadata": {},
   "outputs": [],
   "source": [
    "%%time\n",
    "factorial(100000)"
   ]
  },
  {
   "cell_type": "code",
   "execution_count": null,
   "id": "ec1bef0f",
   "metadata": {},
   "outputs": [],
   "source": [
    "%%time\n",
    "math.factorial(100000)"
   ]
  },
  {
   "cell_type": "code",
   "execution_count": null,
   "id": "fb54aac1",
   "metadata": {},
   "outputs": [],
   "source": []
  },
  {
   "cell_type": "code",
   "execution_count": null,
   "id": "c848ca4c",
   "metadata": {},
   "outputs": [],
   "source": []
  },
  {
   "cell_type": "code",
   "execution_count": null,
   "id": "1b01d17e",
   "metadata": {},
   "outputs": [],
   "source": []
  },
  {
   "cell_type": "code",
   "execution_count": null,
   "id": "0b912f36",
   "metadata": {},
   "outputs": [],
   "source": [
    "from math import sqrt\n",
    "from cmath import tau #sqrt as csqrt, tau \n",
    "def solve_quad(a,b,c):\n",
    "    if(a==b):\n",
    "        if(b!=0):\n",
    "            x1= -c/b\n",
    "            print(f\"it has only one root, x1 ={x1}\")\n",
    "        else:\n",
    "            print(\"it has no root\")\n",
    "    else:\n",
    "        d=b**2-4*a*c\n",
    "        if(d>0):\n",
    "            print('Roots are real')\n",
    "            x1=(-b+sqrt(b**2-4*a*c))/(2*a)\n",
    "            x2=(-b-sqrt(b**2-4*a*c))/(2*a)\n",
    "            print(f'The roots of are {x1} and {x2}')"
   ]
  },
  {
   "cell_type": "code",
   "execution_count": null,
   "id": "8d2ccb07",
   "metadata": {},
   "outputs": [],
   "source": [
    "solve_quad(3,4,6)"
   ]
  },
  {
   "cell_type": "code",
   "execution_count": null,
   "id": "4495aa8c",
   "metadata": {},
   "outputs": [],
   "source": []
  },
  {
   "cell_type": "code",
   "execution_count": null,
   "id": "12080a4e",
   "metadata": {},
   "outputs": [],
   "source": [
    "import math"
   ]
  },
  {
   "cell_type": "code",
   "execution_count": null,
   "id": "fa735c60",
   "metadata": {},
   "outputs": [],
   "source": [
    "math.gcd()"
   ]
  },
  {
   "cell_type": "code",
   "execution_count": null,
   "id": "e2c27ee6",
   "metadata": {},
   "outputs": [],
   "source": [
    "def gcd(*integers):\n",
    "    \"\"\"Greatest Common Divisor.\"\"\"\n",
    "    if len(integers) <= 1:\n",
    "        return integers[0]\n",
    "    n, k, *others = integers\n",
    "    if k > n:\n",
    "        n, k = k, n\n",
    "    while k != 0:\n",
    "        k, n = n % k, k\n",
    "    return gcd(n, *others)"
   ]
  },
  {
   "cell_type": "code",
   "execution_count": null,
   "id": "38aee9a9",
   "metadata": {
    "scrolled": true
   },
   "outputs": [],
   "source": [
    "gcd(12.3,12)"
   ]
  },
  {
   "cell_type": "code",
   "execution_count": null,
   "id": "80f6196a",
   "metadata": {},
   "outputs": [],
   "source": [
    "gcd()"
   ]
  },
  {
   "cell_type": "code",
   "execution_count": null,
   "id": "5582a719",
   "metadata": {},
   "outputs": [],
   "source": [
    "12.3%12"
   ]
  },
  {
   "cell_type": "code",
   "execution_count": null,
   "id": "2389e1fe",
   "metadata": {},
   "outputs": [],
   "source": [
    "12 /0.3000000000000007"
   ]
  },
  {
   "cell_type": "code",
   "execution_count": null,
   "id": "5b3d9ba3",
   "metadata": {},
   "outputs": [],
   "source": [
    "12.3 /3.552713678800501e-15"
   ]
  },
  {
   "cell_type": "code",
   "execution_count": null,
   "id": "ee470b2e",
   "metadata": {},
   "outputs": [],
   "source": [
    "gcd(4,8)"
   ]
  },
  {
   "cell_type": "code",
   "execution_count": null,
   "id": "85098838",
   "metadata": {},
   "outputs": [],
   "source": [
    "gcd(2.3,4)"
   ]
  },
  {
   "cell_type": "code",
   "execution_count": null,
   "id": "b7e15502",
   "metadata": {},
   "outputs": [],
   "source": [
    "8/4"
   ]
  },
  {
   "cell_type": "code",
   "execution_count": null,
   "id": "b064209b",
   "metadata": {},
   "outputs": [],
   "source": [
    "4 /8.881784197001252e-16"
   ]
  },
  {
   "cell_type": "code",
   "execution_count": null,
   "id": "090c2491",
   "metadata": {},
   "outputs": [],
   "source": [
    "2.3/8.881784197001252e-16"
   ]
  },
  {
   "cell_type": "code",
   "execution_count": null,
   "id": "d9d52435",
   "metadata": {},
   "outputs": [],
   "source": [
    "gcd(2.3,1.2)"
   ]
  },
  {
   "cell_type": "code",
   "execution_count": null,
   "id": "d6f36bc8",
   "metadata": {},
   "outputs": [],
   "source": [
    "gcd(-2,4)"
   ]
  },
  {
   "cell_type": "code",
   "execution_count": null,
   "id": "188952a4",
   "metadata": {},
   "outputs": [],
   "source": [
    "gcd(-2,-4)"
   ]
  },
  {
   "cell_type": "code",
   "execution_count": null,
   "id": "3c00d6e9",
   "metadata": {},
   "outputs": [],
   "source": [
    "gcd(2,-4)"
   ]
  },
  {
   "cell_type": "code",
   "execution_count": 4,
   "id": "02e25930",
   "metadata": {},
   "outputs": [],
   "source": [
    "def lcm(*integers):\n",
    "    \"\"\"Least Common Multiple.\"\"\"\n",
    "    args_max = max(integers)\n",
    "    n = 1\n",
    "    while True:\n",
    "        for k in integers:\n",
    "            if args_max * n % k != 0:\n",
    "                n += 1\n",
    "                break\n",
    "        else:\n",
    "            return args_max * n"
   ]
  },
  {
   "cell_type": "code",
   "execution_count": null,
   "id": "34b438b6",
   "metadata": {},
   "outputs": [],
   "source": [
    "lcm(4,8)"
   ]
  },
  {
   "cell_type": "code",
   "execution_count": null,
   "id": "9c4ac607",
   "metadata": {},
   "outputs": [],
   "source": [
    "lcm(2,4,6,8)"
   ]
  },
  {
   "cell_type": "code",
   "execution_count": null,
   "id": "194f3dfc",
   "metadata": {},
   "outputs": [],
   "source": [
    "lcm(2.3,2.5)"
   ]
  },
  {
   "cell_type": "code",
   "execution_count": 1,
   "id": "c21a98c0",
   "metadata": {},
   "outputs": [
    {
     "data": {
      "text/plain": [
       "5.75"
      ]
     },
     "execution_count": 1,
     "metadata": {},
     "output_type": "execute_result"
    }
   ],
   "source": [
    "2.3*2.5"
   ]
  },
  {
   "cell_type": "code",
   "execution_count": 2,
   "id": "014f6d4b",
   "metadata": {},
   "outputs": [
    {
     "data": {
      "text/plain": [
       "2.421739130434783"
      ]
     },
     "execution_count": 2,
     "metadata": {},
     "output_type": "execute_result"
    }
   ],
   "source": []
  },
  {
   "cell_type": "code",
   "execution_count": 5,
   "id": "4415e20b",
   "metadata": {},
   "outputs": [
    {
     "data": {
      "text/plain": [
       "20"
      ]
     },
     "execution_count": 5,
     "metadata": {},
     "output_type": "execute_result"
    }
   ],
   "source": [
    "lcm(4,5,2)"
   ]
  },
  {
   "cell_type": "code",
   "execution_count": 6,
   "id": "ac7da885",
   "metadata": {},
   "outputs": [
    {
     "data": {
      "text/plain": [
       "-8"
      ]
     },
     "execution_count": 6,
     "metadata": {},
     "output_type": "execute_result"
    }
   ],
   "source": [
    "lcm(-2,-4,-8)"
   ]
  },
  {
   "cell_type": "code",
   "execution_count": 7,
   "id": "1b32cff8",
   "metadata": {},
   "outputs": [
    {
     "data": {
      "text/plain": [
       "8"
      ]
     },
     "execution_count": 7,
     "metadata": {},
     "output_type": "execute_result"
    }
   ],
   "source": [
    "lcm(-2,4,8)"
   ]
  },
  {
   "cell_type": "code",
   "execution_count": 9,
   "id": "14c21590",
   "metadata": {},
   "outputs": [
    {
     "data": {
      "text/plain": [
       "8"
      ]
     },
     "execution_count": 9,
     "metadata": {},
     "output_type": "execute_result"
    }
   ],
   "source": [
    "lcm(-2,-4,8)"
   ]
  },
  {
   "cell_type": "code",
   "execution_count": 10,
   "id": "c711cb80",
   "metadata": {},
   "outputs": [],
   "source": [
    "import math"
   ]
  },
  {
   "cell_type": "code",
   "execution_count": 11,
   "id": "3b8d5bbc",
   "metadata": {},
   "outputs": [],
   "source": [
    "def sign(x):\n",
    "    return x/ -x"
   ]
  },
  {
   "cell_type": "code",
   "execution_count": 12,
   "id": "88588d21",
   "metadata": {},
   "outputs": [
    {
     "data": {
      "text/plain": [
       "-1.0"
      ]
     },
     "execution_count": 12,
     "metadata": {},
     "output_type": "execute_result"
    }
   ],
   "source": [
    "sign(3)"
   ]
  },
  {
   "cell_type": "code",
   "execution_count": 13,
   "id": "8264ef9f",
   "metadata": {},
   "outputs": [
    {
     "data": {
      "text/plain": [
       "-1.0"
      ]
     },
     "execution_count": 13,
     "metadata": {},
     "output_type": "execute_result"
    }
   ],
   "source": [
    "sign(-5.4)"
   ]
  },
  {
   "cell_type": "code",
   "execution_count": 14,
   "id": "0b9d725d",
   "metadata": {},
   "outputs": [
    {
     "data": {
      "text/plain": [
       "-1.0"
      ]
     },
     "execution_count": 14,
     "metadata": {},
     "output_type": "execute_result"
    }
   ],
   "source": [
    "sign(4.3)"
   ]
  },
  {
   "cell_type": "code",
   "execution_count": 15,
   "id": "a9cb4bd4",
   "metadata": {},
   "outputs": [],
   "source": [
    "def ceil(x,/):\n",
    "    if (int == type(x)):\n",
    "        return x \n",
    "    elif (float == type(x)):\n",
    "        i= int(x)\n",
    "        if(x == i):\n",
    "            return i\n",
    "        else:\n",
    "            \n",
    "            return (i+1)"
   ]
  },
  {
   "cell_type": "code",
   "execution_count": 16,
   "id": "779f4d96",
   "metadata": {},
   "outputs": [
    {
     "data": {
      "text/plain": [
       "5"
      ]
     },
     "execution_count": 16,
     "metadata": {},
     "output_type": "execute_result"
    }
   ],
   "source": [
    "math.ceil(4.2)"
   ]
  },
  {
   "cell_type": "code",
   "execution_count": 17,
   "id": "f82e09b5",
   "metadata": {},
   "outputs": [
    {
     "data": {
      "text/plain": [
       "5"
      ]
     },
     "execution_count": 17,
     "metadata": {},
     "output_type": "execute_result"
    }
   ],
   "source": [
    "ceil(4.2)"
   ]
  },
  {
   "cell_type": "code",
   "execution_count": 18,
   "id": "e6902cab",
   "metadata": {},
   "outputs": [
    {
     "data": {
      "text/plain": [
       "3"
      ]
     },
     "execution_count": 18,
     "metadata": {},
     "output_type": "execute_result"
    }
   ],
   "source": [
    "math.ceil(3)"
   ]
  },
  {
   "cell_type": "code",
   "execution_count": 19,
   "id": "f346e387",
   "metadata": {},
   "outputs": [
    {
     "data": {
      "text/plain": [
       "3"
      ]
     },
     "execution_count": 19,
     "metadata": {},
     "output_type": "execute_result"
    }
   ],
   "source": [
    "ceil(3)"
   ]
  },
  {
   "cell_type": "code",
   "execution_count": 20,
   "id": "a15f4928",
   "metadata": {},
   "outputs": [
    {
     "data": {
      "text/plain": [
       "6"
      ]
     },
     "execution_count": 20,
     "metadata": {},
     "output_type": "execute_result"
    }
   ],
   "source": [
    "ceil(5.9)"
   ]
  },
  {
   "cell_type": "code",
   "execution_count": 21,
   "id": "36b132a9",
   "metadata": {},
   "outputs": [
    {
     "data": {
      "text/plain": [
       "6"
      ]
     },
     "execution_count": 21,
     "metadata": {},
     "output_type": "execute_result"
    }
   ],
   "source": [
    "ceil(5.9)"
   ]
  },
  {
   "cell_type": "code",
   "execution_count": 22,
   "id": "94aeeaf4",
   "metadata": {},
   "outputs": [
    {
     "data": {
      "text/plain": [
       "-4"
      ]
     },
     "execution_count": 22,
     "metadata": {},
     "output_type": "execute_result"
    }
   ],
   "source": [
    "ceil(-5.9)"
   ]
  },
  {
   "cell_type": "code",
   "execution_count": 23,
   "id": "768f14b8",
   "metadata": {},
   "outputs": [
    {
     "data": {
      "text/plain": [
       "-5"
      ]
     },
     "execution_count": 23,
     "metadata": {},
     "output_type": "execute_result"
    }
   ],
   "source": [
    "math.ceil(-5.9)"
   ]
  },
  {
   "cell_type": "code",
   "execution_count": 24,
   "id": "912442eb",
   "metadata": {},
   "outputs": [
    {
     "data": {
      "text/plain": [
       "-1"
      ]
     },
     "execution_count": 24,
     "metadata": {},
     "output_type": "execute_result"
    }
   ],
   "source": [
    "ceil(-2.1)"
   ]
  },
  {
   "cell_type": "code",
   "execution_count": 25,
   "id": "4e6e3b87",
   "metadata": {},
   "outputs": [
    {
     "data": {
      "text/plain": [
       "-2"
      ]
     },
     "execution_count": 25,
     "metadata": {},
     "output_type": "execute_result"
    }
   ],
   "source": [
    "ceil(-3.1)"
   ]
  },
  {
   "cell_type": "code",
   "execution_count": 26,
   "id": "9b524419",
   "metadata": {
    "scrolled": true
   },
   "outputs": [
    {
     "data": {
      "text/plain": [
       "-1"
      ]
     },
     "execution_count": 26,
     "metadata": {},
     "output_type": "execute_result"
    }
   ],
   "source": [
    "ceil(-2.9)"
   ]
  },
  {
   "cell_type": "code",
   "execution_count": 27,
   "id": "20ef49fb",
   "metadata": {},
   "outputs": [
    {
     "data": {
      "text/plain": [
       "-2"
      ]
     },
     "execution_count": 27,
     "metadata": {},
     "output_type": "execute_result"
    }
   ],
   "source": [
    "ceil(-3.1)"
   ]
  },
  {
   "cell_type": "code",
   "execution_count": 28,
   "id": "b507f042",
   "metadata": {},
   "outputs": [],
   "source": [
    "def fmod(x,y,/):\n",
    "    z =float (x%y) \n",
    "    return z "
   ]
  },
  {
   "cell_type": "code",
   "execution_count": 29,
   "id": "0f29744d",
   "metadata": {},
   "outputs": [
    {
     "data": {
      "text/plain": [
       "3.0"
      ]
     },
     "execution_count": 29,
     "metadata": {},
     "output_type": "execute_result"
    }
   ],
   "source": [
    "math.fmod(3,4)"
   ]
  },
  {
   "cell_type": "code",
   "execution_count": 30,
   "id": "f7680ab1",
   "metadata": {},
   "outputs": [
    {
     "data": {
      "text/plain": [
       "1.0"
      ]
     },
     "execution_count": 30,
     "metadata": {},
     "output_type": "execute_result"
    }
   ],
   "source": [
    "math.fmod(3.4,2.4)"
   ]
  },
  {
   "cell_type": "code",
   "execution_count": 31,
   "id": "0fadf392",
   "metadata": {},
   "outputs": [
    {
     "data": {
      "text/plain": [
       "4.0"
      ]
     },
     "execution_count": 31,
     "metadata": {},
     "output_type": "execute_result"
    }
   ],
   "source": [
    "math.fmod(4,5)"
   ]
  },
  {
   "cell_type": "code",
   "execution_count": 32,
   "id": "23444841",
   "metadata": {},
   "outputs": [
    {
     "data": {
      "text/plain": [
       "3.0"
      ]
     },
     "execution_count": 32,
     "metadata": {},
     "output_type": "execute_result"
    }
   ],
   "source": [
    "fmod(3,4)"
   ]
  },
  {
   "cell_type": "code",
   "execution_count": 33,
   "id": "5451395d",
   "metadata": {},
   "outputs": [
    {
     "data": {
      "text/plain": [
       "1.0"
      ]
     },
     "execution_count": 33,
     "metadata": {},
     "output_type": "execute_result"
    }
   ],
   "source": [
    "fmod(3.4,2.4)"
   ]
  },
  {
   "cell_type": "code",
   "execution_count": 34,
   "id": "6e01e4c2",
   "metadata": {},
   "outputs": [
    {
     "data": {
      "text/plain": [
       "4.0"
      ]
     },
     "execution_count": 34,
     "metadata": {},
     "output_type": "execute_result"
    }
   ],
   "source": [
    "fmod(4,5)"
   ]
  },
  {
   "cell_type": "code",
   "execution_count": null,
   "id": "d49a9909",
   "metadata": {},
   "outputs": [],
   "source": []
  },
  {
   "cell_type": "code",
   "execution_count": 35,
   "id": "b6b889c8",
   "metadata": {},
   "outputs": [],
   "source": [
    "e=2.7182818284\n",
    "def exp(x,/):\n",
    "    if x is x.imag:\n",
    "        return e**2+0j\n",
    "    else:\n",
    "        x = e**x\n",
    "        return x"
   ]
  },
  {
   "cell_type": "code",
   "execution_count": 36,
   "id": "ec0c5730",
   "metadata": {},
   "outputs": [
    {
     "data": {
      "text/plain": [
       "7.38905609893065"
      ]
     },
     "execution_count": 36,
     "metadata": {},
     "output_type": "execute_result"
    }
   ],
   "source": [
    "math.exp(2)"
   ]
  },
  {
   "cell_type": "code",
   "execution_count": 37,
   "id": "da2138a5",
   "metadata": {},
   "outputs": [
    {
     "data": {
      "text/plain": [
       "54.598150033144236"
      ]
     },
     "execution_count": 37,
     "metadata": {},
     "output_type": "execute_result"
    }
   ],
   "source": [
    "math.exp(4)"
   ]
  },
  {
   "cell_type": "code",
   "execution_count": 38,
   "id": "ae1bc285",
   "metadata": {},
   "outputs": [],
   "source": [
    "from math import e \n",
    "def exp(x,/):\n",
    "    if x is x.imag:\n",
    "        return pow(e,2+0j)\n",
    "    else:\n",
    "        x = pow(e,x)\n",
    "        return x "
   ]
  },
  {
   "cell_type": "code",
   "execution_count": 39,
   "id": "b71697e4",
   "metadata": {},
   "outputs": [
    {
     "data": {
      "text/plain": [
       "7.3890560989306495"
      ]
     },
     "execution_count": 39,
     "metadata": {},
     "output_type": "execute_result"
    }
   ],
   "source": [
    "exp(2)"
   ]
  },
  {
   "cell_type": "code",
   "execution_count": 40,
   "id": "0dc24fff",
   "metadata": {},
   "outputs": [
    {
     "data": {
      "text/plain": [
       "54.59815003314423"
      ]
     },
     "execution_count": 40,
     "metadata": {},
     "output_type": "execute_result"
    }
   ],
   "source": [
    "exp(4)"
   ]
  },
  {
   "cell_type": "code",
   "execution_count": 41,
   "id": "c24740c5",
   "metadata": {},
   "outputs": [],
   "source": [
    "import cmath as cm "
   ]
  },
  {
   "cell_type": "code",
   "execution_count": 42,
   "id": "be0e9afc",
   "metadata": {},
   "outputs": [
    {
     "data": {
      "text/plain": [
       "(-0.4161468365471424+0.9092974268256817j)"
      ]
     },
     "execution_count": 42,
     "metadata": {},
     "output_type": "execute_result"
    }
   ],
   "source": [
    "cm.exp(2j)"
   ]
  },
  {
   "cell_type": "code",
   "execution_count": 43,
   "id": "c6283911",
   "metadata": {},
   "outputs": [
    {
     "data": {
      "text/plain": [
       "(-0.4161468365471424+0.9092974268256817j)"
      ]
     },
     "execution_count": 43,
     "metadata": {},
     "output_type": "execute_result"
    }
   ],
   "source": [
    "exp(2j)"
   ]
  },
  {
   "cell_type": "code",
   "execution_count": 44,
   "id": "fc701be4",
   "metadata": {
    "scrolled": true
   },
   "outputs": [
    {
     "data": {
      "text/plain": [
       "(-0.4161468365471424-0.9092974268256817j)"
      ]
     },
     "execution_count": 44,
     "metadata": {},
     "output_type": "execute_result"
    }
   ],
   "source": [
    "exp(-2j)"
   ]
  },
  {
   "cell_type": "code",
   "execution_count": 45,
   "id": "a1c4c9fa",
   "metadata": {},
   "outputs": [
    {
     "data": {
      "text/plain": [
       "(-7.315110094901102+1.0427436562359043j)"
      ]
     },
     "execution_count": 45,
     "metadata": {},
     "output_type": "execute_result"
    }
   ],
   "source": [
    "exp(2+3j)"
   ]
  },
  {
   "cell_type": "code",
   "execution_count": 46,
   "id": "b769efa9",
   "metadata": {},
   "outputs": [
    {
     "data": {
      "text/plain": [
       "(-7.315110094901103+1.0427436562359045j)"
      ]
     },
     "execution_count": 46,
     "metadata": {},
     "output_type": "execute_result"
    }
   ],
   "source": [
    "cm.exp(2+3j)"
   ]
  },
  {
   "cell_type": "code",
   "execution_count": 47,
   "id": "e2a7ebd3",
   "metadata": {},
   "outputs": [
    {
     "data": {
      "text/plain": [
       "(-0.4161468365471424-0.9092974268256817j)"
      ]
     },
     "execution_count": 47,
     "metadata": {},
     "output_type": "execute_result"
    }
   ],
   "source": [
    "exp(3j-5j)"
   ]
  },
  {
   "cell_type": "code",
   "execution_count": 48,
   "id": "931d1025",
   "metadata": {},
   "outputs": [
    {
     "data": {
      "text/plain": [
       "(-0.4161468365471424-0.9092974268256817j)"
      ]
     },
     "execution_count": 48,
     "metadata": {},
     "output_type": "execute_result"
    }
   ],
   "source": [
    "exp(-2j)"
   ]
  },
  {
   "cell_type": "code",
   "execution_count": 49,
   "id": "01320cba",
   "metadata": {},
   "outputs": [
    {
     "data": {
      "text/plain": [
       "inf"
      ]
     },
     "execution_count": 49,
     "metadata": {},
     "output_type": "execute_result"
    }
   ],
   "source": [
    "exp(math.inf)"
   ]
  },
  {
   "cell_type": "code",
   "execution_count": 50,
   "id": "220058e6",
   "metadata": {},
   "outputs": [],
   "source": [
    "def remainder(x,y,/):\n",
    "    \"\"\"\n",
    "    positive is your remainder\n",
    "    negative is your need if you want to x multiple of y.\n",
    "    Difference between x and the closest integer multiple of y.\n",
    "    \"\"\"\n",
    "    r = x%y\n",
    "    c = int (-1 * (y/r))\n",
    "    print(\"(remainder, Difference closest integer multiply of y.)\")\n",
    "    return r,c"
   ]
  },
  {
   "cell_type": "code",
   "execution_count": 51,
   "id": "8c390488",
   "metadata": {},
   "outputs": [
    {
     "name": "stdout",
     "output_type": "stream",
     "text": [
      "(remainder, Difference closest integer multiply of y.)\n"
     ]
    },
    {
     "data": {
      "text/plain": [
       "(2, -1)"
      ]
     },
     "execution_count": 51,
     "metadata": {},
     "output_type": "execute_result"
    }
   ],
   "source": [
    "remainder(2,3)"
   ]
  },
  {
   "cell_type": "code",
   "execution_count": 52,
   "id": "d4f465d1",
   "metadata": {},
   "outputs": [
    {
     "data": {
      "text/plain": [
       "-1.0"
      ]
     },
     "execution_count": 52,
     "metadata": {},
     "output_type": "execute_result"
    }
   ],
   "source": [
    "math.remainder(2,3)"
   ]
  },
  {
   "cell_type": "code",
   "execution_count": 53,
   "id": "4db470ce",
   "metadata": {},
   "outputs": [
    {
     "name": "stdout",
     "output_type": "stream",
     "text": [
      "(remainder, Difference closest integer multiply of y.)\n"
     ]
    },
    {
     "data": {
      "text/plain": [
       "(3, -2)"
      ]
     },
     "execution_count": 53,
     "metadata": {},
     "output_type": "execute_result"
    }
   ],
   "source": [
    "remainder(3,7)"
   ]
  },
  {
   "cell_type": "code",
   "execution_count": 54,
   "id": "9b57ab97",
   "metadata": {},
   "outputs": [
    {
     "data": {
      "text/plain": [
       "3.0"
      ]
     },
     "execution_count": 54,
     "metadata": {},
     "output_type": "execute_result"
    }
   ],
   "source": [
    "math.remainder(3,7)"
   ]
  },
  {
   "cell_type": "code",
   "execution_count": 55,
   "id": "abaa8785",
   "metadata": {},
   "outputs": [
    {
     "data": {
      "text/plain": [
       "1"
      ]
     },
     "execution_count": 55,
     "metadata": {},
     "output_type": "execute_result"
    }
   ],
   "source": [
    "7 %3"
   ]
  },
  {
   "cell_type": "code",
   "execution_count": null,
   "id": "82813a0d",
   "metadata": {},
   "outputs": [],
   "source": [
    "math.remainder()"
   ]
  },
  {
   "cell_type": "code",
   "execution_count": 57,
   "id": "430a5ac7",
   "metadata": {},
   "outputs": [
    {
     "data": {
      "text/plain": [
       "2.0"
      ]
     },
     "execution_count": 57,
     "metadata": {},
     "output_type": "execute_result"
    }
   ],
   "source": [
    "float(2)"
   ]
  },
  {
   "cell_type": "code",
   "execution_count": 59,
   "id": "ecbf47f0",
   "metadata": {},
   "outputs": [
    {
     "data": {
      "text/plain": [
       "-18"
      ]
     },
     "execution_count": 59,
     "metadata": {},
     "output_type": "execute_result"
    }
   ],
   "source": [
    "x=3\n",
    "y=7\n",
    "n= x%y\n",
    "x-(n*y)"
   ]
  },
  {
   "cell_type": "code",
   "execution_count": 60,
   "id": "72f58ebe",
   "metadata": {},
   "outputs": [
    {
     "data": {
      "text/plain": [
       "3"
      ]
     },
     "execution_count": 60,
     "metadata": {},
     "output_type": "execute_result"
    }
   ],
   "source": [
    "x%y"
   ]
  },
  {
   "cell_type": "code",
   "execution_count": 61,
   "id": "21ba0bcc",
   "metadata": {},
   "outputs": [
    {
     "data": {
      "text/plain": [
       "3"
      ]
     },
     "execution_count": 61,
     "metadata": {},
     "output_type": "execute_result"
    }
   ],
   "source": [
    "3 %7"
   ]
  },
  {
   "cell_type": "code",
   "execution_count": 62,
   "id": "28abaaad",
   "metadata": {},
   "outputs": [
    {
     "data": {
      "text/plain": [
       "4.0"
      ]
     },
     "execution_count": 62,
     "metadata": {},
     "output_type": "execute_result"
    }
   ],
   "source": [
    "math.remainder(4,9)"
   ]
  },
  {
   "cell_type": "code",
   "execution_count": 63,
   "id": "da0d3bd1",
   "metadata": {},
   "outputs": [
    {
     "data": {
      "text/plain": [
       "4"
      ]
     },
     "execution_count": 63,
     "metadata": {},
     "output_type": "execute_result"
    }
   ],
   "source": [
    "4 %9"
   ]
  },
  {
   "cell_type": "code",
   "execution_count": 64,
   "id": "28b4f257",
   "metadata": {},
   "outputs": [
    {
     "data": {
      "text/plain": [
       "-1.0"
      ]
     },
     "execution_count": 64,
     "metadata": {},
     "output_type": "execute_result"
    }
   ],
   "source": [
    "math.remainder(2,3)"
   ]
  },
  {
   "cell_type": "code",
   "execution_count": 65,
   "id": "0e62735e",
   "metadata": {},
   "outputs": [
    {
     "data": {
      "text/plain": [
       "2"
      ]
     },
     "execution_count": 65,
     "metadata": {},
     "output_type": "execute_result"
    }
   ],
   "source": [
    "2 %3"
   ]
  },
  {
   "cell_type": "code",
   "execution_count": 66,
   "id": "d1f353c4",
   "metadata": {},
   "outputs": [
    {
     "data": {
      "text/plain": [
       "0"
      ]
     },
     "execution_count": 66,
     "metadata": {},
     "output_type": "execute_result"
    }
   ],
   "source": [
    "2 // 3"
   ]
  },
  {
   "cell_type": "code",
   "execution_count": 67,
   "id": "3d1a389b",
   "metadata": {},
   "outputs": [
    {
     "data": {
      "text/plain": [
       "2.0"
      ]
     },
     "execution_count": 67,
     "metadata": {},
     "output_type": "execute_result"
    }
   ],
   "source": [
    "math.remainder(2,9)"
   ]
  },
  {
   "cell_type": "code",
   "execution_count": 68,
   "id": "b37f186d",
   "metadata": {},
   "outputs": [
    {
     "data": {
      "text/plain": [
       "2"
      ]
     },
     "execution_count": 68,
     "metadata": {},
     "output_type": "execute_result"
    }
   ],
   "source": [
    "2 %9"
   ]
  },
  {
   "cell_type": "code",
   "execution_count": 69,
   "id": "58b82859",
   "metadata": {},
   "outputs": [
    {
     "data": {
      "text/plain": [
       "2.0"
      ]
     },
     "execution_count": 69,
     "metadata": {},
     "output_type": "execute_result"
    }
   ],
   "source": [
    "math.remainder(2,11)"
   ]
  },
  {
   "cell_type": "code",
   "execution_count": 70,
   "id": "fd4ee863",
   "metadata": {},
   "outputs": [],
   "source": [
    "def remainder(x,y,/):\n",
    "    r = float(x%y)\n",
    "    c = float(-1 * (y/r))\n",
    "    return r,c"
   ]
  },
  {
   "cell_type": "code",
   "execution_count": 71,
   "id": "97c3a7a3",
   "metadata": {},
   "outputs": [
    {
     "data": {
      "text/plain": [
       "(2.0, -1.5)"
      ]
     },
     "execution_count": 71,
     "metadata": {},
     "output_type": "execute_result"
    }
   ],
   "source": [
    "remainder(2,3)"
   ]
  },
  {
   "cell_type": "code",
   "execution_count": 72,
   "id": "44b86de1",
   "metadata": {},
   "outputs": [
    {
     "data": {
      "text/plain": [
       "(1.0, -2.0)"
      ]
     },
     "execution_count": 72,
     "metadata": {},
     "output_type": "execute_result"
    }
   ],
   "source": [
    "remainder(3,2)"
   ]
  },
  {
   "cell_type": "code",
   "execution_count": 73,
   "id": "e529981c",
   "metadata": {},
   "outputs": [
    {
     "data": {
      "text/plain": [
       "-1.0"
      ]
     },
     "execution_count": 73,
     "metadata": {},
     "output_type": "execute_result"
    }
   ],
   "source": [
    "math.remainder(2,3)"
   ]
  },
  {
   "cell_type": "code",
   "execution_count": 74,
   "id": "411fbeba",
   "metadata": {},
   "outputs": [
    {
     "data": {
      "text/plain": [
       "-1.0"
      ]
     },
     "execution_count": 74,
     "metadata": {},
     "output_type": "execute_result"
    }
   ],
   "source": [
    "math.remainder(3,2)"
   ]
  },
  {
   "cell_type": "code",
   "execution_count": 81,
   "id": "8f01a25f",
   "metadata": {},
   "outputs": [],
   "source": [
    "def radians(x,/):\n",
    "    \"\"\"Convert angle x from degrees to radians.\"\"\"\n",
    "    r= 0.017453292519943295\n",
    "    return (x*r)"
   ]
  },
  {
   "cell_type": "code",
   "execution_count": 76,
   "id": "edd04bbb",
   "metadata": {},
   "outputs": [
    {
     "data": {
      "text/plain": [
       "0.005235987755982988"
      ]
     },
     "execution_count": 76,
     "metadata": {},
     "output_type": "execute_result"
    }
   ],
   "source": [
    "math.radians(0.3)"
   ]
  },
  {
   "cell_type": "code",
   "execution_count": 77,
   "id": "67f91f93",
   "metadata": {},
   "outputs": [
    {
     "data": {
      "text/plain": [
       "0.005235987755982988"
      ]
     },
     "execution_count": 77,
     "metadata": {},
     "output_type": "execute_result"
    }
   ],
   "source": [
    "radians(0.3)"
   ]
  },
  {
   "cell_type": "code",
   "execution_count": 78,
   "id": "1762c8f2",
   "metadata": {},
   "outputs": [
    {
     "ename": "TypeError",
     "evalue": "can't convert complex to float",
     "output_type": "error",
     "traceback": [
      "\u001b[1;31m---------------------------------------------------------------------------\u001b[0m",
      "\u001b[1;31mTypeError\u001b[0m                                 Traceback (most recent call last)",
      "Input \u001b[1;32mIn [78]\u001b[0m, in \u001b[0;36m<cell line: 1>\u001b[1;34m()\u001b[0m\n\u001b[1;32m----> 1\u001b[0m \u001b[43mmath\u001b[49m\u001b[38;5;241;43m.\u001b[39;49m\u001b[43mradians\u001b[49m\u001b[43m(\u001b[49m\u001b[38;5;241;43m2\u001b[39;49m\u001b[43mj\u001b[49m\u001b[43m)\u001b[49m\n",
      "\u001b[1;31mTypeError\u001b[0m: can't convert complex to float"
     ]
    }
   ],
   "source": [
    "math.radians(2j)"
   ]
  },
  {
   "cell_type": "code",
   "execution_count": 79,
   "id": "148d0851",
   "metadata": {},
   "outputs": [
    {
     "data": {
      "text/plain": [
       "0.03490658503988659j"
      ]
     },
     "execution_count": 79,
     "metadata": {},
     "output_type": "execute_result"
    }
   ],
   "source": [
    "radians(2j)"
   ]
  },
  {
   "cell_type": "code",
   "execution_count": 80,
   "id": "70590f38",
   "metadata": {},
   "outputs": [
    {
     "data": {
      "text/plain": [
       "0.03490658503988659"
      ]
     },
     "execution_count": 80,
     "metadata": {},
     "output_type": "execute_result"
    }
   ],
   "source": [
    "math.radians(2)"
   ]
  },
  {
   "cell_type": "code",
   "execution_count": 82,
   "id": "e89e4e32",
   "metadata": {
    "scrolled": true
   },
   "outputs": [
    {
     "data": {
      "text/plain": [
       "(0.03490658503988659+0.05235987755982989j)"
      ]
     },
     "execution_count": 82,
     "metadata": {},
     "output_type": "execute_result"
    }
   ],
   "source": [
    "radians(2+3j)"
   ]
  },
  {
   "cell_type": "code",
   "execution_count": null,
   "id": "72d8998a",
   "metadata": {},
   "outputs": [],
   "source": [
    "cm.rect()"
   ]
  },
  {
   "cell_type": "code",
   "execution_count": 83,
   "id": "6403641d",
   "metadata": {},
   "outputs": [
    {
     "data": {
      "text/plain": [
       "-0.03490658503988659j"
      ]
     },
     "execution_count": 83,
     "metadata": {},
     "output_type": "execute_result"
    }
   ],
   "source": [
    "radians(-2j)"
   ]
  },
  {
   "cell_type": "code",
   "execution_count": 86,
   "id": "bd491014",
   "metadata": {},
   "outputs": [
    {
     "data": {
      "text/plain": [
       "-inf"
      ]
     },
     "execution_count": 86,
     "metadata": {},
     "output_type": "execute_result"
    }
   ],
   "source": [
    "math.radians(-math.inf)"
   ]
  },
  {
   "cell_type": "code",
   "execution_count": 87,
   "id": "6ee4f5cd",
   "metadata": {},
   "outputs": [
    {
     "data": {
      "text/plain": [
       "-inf"
      ]
     },
     "execution_count": 87,
     "metadata": {},
     "output_type": "execute_result"
    }
   ],
   "source": [
    "radians(-math.inf)"
   ]
  },
  {
   "cell_type": "code",
   "execution_count": 93,
   "id": "7fa30819",
   "metadata": {},
   "outputs": [],
   "source": [
    "def degress(x,/):\n",
    "    \"\"\"Convert angle x from radians to degrees.\"\"\"\n",
    "    dv = 57.29577951308232\n",
    "    return (x*dv)"
   ]
  },
  {
   "cell_type": "code",
   "execution_count": 89,
   "id": "126f02de",
   "metadata": {},
   "outputs": [
    {
     "data": {
      "text/plain": [
       "171.88733853924697"
      ]
     },
     "execution_count": 89,
     "metadata": {},
     "output_type": "execute_result"
    }
   ],
   "source": [
    "degress(3)"
   ]
  },
  {
   "cell_type": "code",
   "execution_count": 90,
   "id": "49eaa81e",
   "metadata": {},
   "outputs": [
    {
     "data": {
      "text/plain": [
       "171.88733853924697"
      ]
     },
     "execution_count": 90,
     "metadata": {},
     "output_type": "execute_result"
    }
   ],
   "source": [
    "math.degrees(3)"
   ]
  },
  {
   "cell_type": "code",
   "execution_count": 92,
   "id": "188d172d",
   "metadata": {},
   "outputs": [
    {
     "data": {
      "text/plain": [
       "171.88733853924697j"
      ]
     },
     "execution_count": 92,
     "metadata": {},
     "output_type": "execute_result"
    }
   ],
   "source": [
    "degress(3j)#math.degrees(3j)"
   ]
  },
  {
   "cell_type": "code",
   "execution_count": 95,
   "id": "2b30c9ee",
   "metadata": {},
   "outputs": [
    {
     "data": {
      "text/plain": [
       "(114.59155902616465+171.88733853924697j)"
      ]
     },
     "execution_count": 95,
     "metadata": {},
     "output_type": "execute_result"
    }
   ],
   "source": [
    "degress(2+3j)"
   ]
  },
  {
   "cell_type": "code",
   "execution_count": 96,
   "id": "26b1c252",
   "metadata": {},
   "outputs": [
    {
     "data": {
      "text/plain": [
       "-171.88733853924697j"
      ]
     },
     "execution_count": 96,
     "metadata": {},
     "output_type": "execute_result"
    }
   ],
   "source": [
    "degress(-3j)"
   ]
  },
  {
   "cell_type": "code",
   "execution_count": 98,
   "id": "cc295266",
   "metadata": {},
   "outputs": [],
   "source": [
    "from math import pi"
   ]
  },
  {
   "cell_type": "code",
   "execution_count": 99,
   "id": "c1733a33",
   "metadata": {},
   "outputs": [
    {
     "data": {
      "text/plain": [
       "90.0"
      ]
     },
     "execution_count": 99,
     "metadata": {},
     "output_type": "execute_result"
    }
   ],
   "source": [
    "degress(pi/2)"
   ]
  },
  {
   "cell_type": "code",
   "execution_count": 100,
   "id": "ab59c6e4",
   "metadata": {},
   "outputs": [
    {
     "data": {
      "text/plain": [
       "90.0"
      ]
     },
     "execution_count": 100,
     "metadata": {},
     "output_type": "execute_result"
    }
   ],
   "source": [
    "math.degrees(pi/2)"
   ]
  },
  {
   "cell_type": "code",
   "execution_count": 101,
   "id": "09925fab",
   "metadata": {},
   "outputs": [
    {
     "data": {
      "text/plain": [
       "inf"
      ]
     },
     "execution_count": 101,
     "metadata": {},
     "output_type": "execute_result"
    }
   ],
   "source": [
    "math.degrees(math.inf)"
   ]
  },
  {
   "cell_type": "code",
   "execution_count": 102,
   "id": "2528953f",
   "metadata": {},
   "outputs": [
    {
     "data": {
      "text/plain": [
       "-inf"
      ]
     },
     "execution_count": 102,
     "metadata": {},
     "output_type": "execute_result"
    }
   ],
   "source": [
    "math.degrees(-math.inf)"
   ]
  },
  {
   "cell_type": "code",
   "execution_count": 103,
   "id": "f437e632",
   "metadata": {},
   "outputs": [
    {
     "data": {
      "text/plain": [
       "inf"
      ]
     },
     "execution_count": 103,
     "metadata": {},
     "output_type": "execute_result"
    }
   ],
   "source": [
    "degress(math.inf)"
   ]
  },
  {
   "cell_type": "code",
   "execution_count": 104,
   "id": "d9f06fca",
   "metadata": {},
   "outputs": [
    {
     "data": {
      "text/plain": [
       "-inf"
      ]
     },
     "execution_count": 104,
     "metadata": {},
     "output_type": "execute_result"
    }
   ],
   "source": [
    "degress(-math.inf)"
   ]
  },
  {
   "cell_type": "code",
   "execution_count": 107,
   "id": "0e13ba3c",
   "metadata": {},
   "outputs": [],
   "source": [
    "from math import exp \n",
    "def expm1(x,/):\n",
    "    \"\"\"Return exp(x)-1.\n",
    "    This function avoids the loss of precision involved \n",
    "    in the direct evaluation of exp(x)-1 for small x.\n",
    "    \"\"\"\n",
    "    x = exp(x)-1\n",
    "    return x "
   ]
  },
  {
   "cell_type": "code",
   "execution_count": 106,
   "id": "3844f64c",
   "metadata": {},
   "outputs": [
    {
     "data": {
      "text/plain": [
       "147.4131591025766"
      ]
     },
     "execution_count": 106,
     "metadata": {},
     "output_type": "execute_result"
    }
   ],
   "source": [
    "math.expm1(5)"
   ]
  },
  {
   "cell_type": "code",
   "execution_count": 109,
   "id": "558eb0b5",
   "metadata": {},
   "outputs": [
    {
     "data": {
      "text/plain": [
       "54.598150033144236"
      ]
     },
     "execution_count": 109,
     "metadata": {},
     "output_type": "execute_result"
    }
   ],
   "source": [
    "exp(5)"
   ]
  },
  {
   "cell_type": "code",
   "execution_count": 118,
   "id": "7c4ec135",
   "metadata": {},
   "outputs": [],
   "source": [
    "def ldexp(x,i,/):\n",
    "    return (float (x*(2**i)))\n",
    "    "
   ]
  },
  {
   "cell_type": "code",
   "execution_count": 120,
   "id": "f414f7fb",
   "metadata": {},
   "outputs": [
    {
     "data": {
      "text/plain": [
       "16.0"
      ]
     },
     "execution_count": 120,
     "metadata": {},
     "output_type": "execute_result"
    }
   ],
   "source": [
    "ldexp(2,3)"
   ]
  },
  {
   "cell_type": "code",
   "execution_count": 121,
   "id": "9a3cb938",
   "metadata": {},
   "outputs": [
    {
     "data": {
      "text/plain": [
       "8.0"
      ]
     },
     "execution_count": 121,
     "metadata": {},
     "output_type": "execute_result"
    }
   ],
   "source": [
    "ldexp(2,2)"
   ]
  },
  {
   "cell_type": "code",
   "execution_count": null,
   "id": "f057ad07",
   "metadata": {},
   "outputs": [],
   "source": []
  },
  {
   "cell_type": "code",
   "execution_count": 119,
   "id": "e676eee8",
   "metadata": {
    "scrolled": true
   },
   "outputs": [
    {
     "data": {
      "text/plain": [
       "16777216.0"
      ]
     },
     "execution_count": 119,
     "metadata": {},
     "output_type": "execute_result"
    }
   ],
   "source": [
    "ldexp(2,23)"
   ]
  },
  {
   "cell_type": "code",
   "execution_count": 110,
   "id": "6035b3eb",
   "metadata": {},
   "outputs": [],
   "source": [
    "def ldexp(x,i,/):\n",
    "    x =float (x*(2**i))\n",
    "    return x "
   ]
  },
  {
   "cell_type": "code",
   "execution_count": 111,
   "id": "2a26000b",
   "metadata": {},
   "outputs": [
    {
     "data": {
      "text/plain": [
       "9.849155306759329"
      ]
     },
     "execution_count": 111,
     "metadata": {},
     "output_type": "execute_result"
    }
   ],
   "source": [
    "ldexp(2,2.3)"
   ]
  },
  {
   "cell_type": "code",
   "execution_count": 113,
   "id": "8227ad52",
   "metadata": {},
   "outputs": [
    {
     "data": {
      "text/plain": [
       "16777216.0"
      ]
     },
     "execution_count": 113,
     "metadata": {},
     "output_type": "execute_result"
    }
   ],
   "source": [
    "math.ldexp(2,23)"
   ]
  },
  {
   "cell_type": "code",
   "execution_count": 114,
   "id": "981a459a",
   "metadata": {},
   "outputs": [
    {
     "data": {
      "text/plain": [
       "16777216.0"
      ]
     },
     "execution_count": 114,
     "metadata": {},
     "output_type": "execute_result"
    }
   ],
   "source": [
    "ldexp(2,23)"
   ]
  },
  {
   "cell_type": "code",
   "execution_count": null,
   "id": "d18606f1",
   "metadata": {},
   "outputs": [],
   "source": [
    "This is essentially the inverse of frexp()."
   ]
  },
  {
   "cell_type": "code",
   "execution_count": 117,
   "id": "effccd6d",
   "metadata": {},
   "outputs": [
    {
     "data": {
      "text/plain": [
       "(0.71875, 5)"
      ]
     },
     "execution_count": 117,
     "metadata": {},
     "output_type": "execute_result"
    }
   ],
   "source": [
    "math.frexp(23)"
   ]
  },
  {
   "cell_type": "code",
   "execution_count": null,
   "id": "62d2d5f2",
   "metadata": {},
   "outputs": [],
   "source": [
    "Return the mantissa and exponent of x, as pair (m, e).\n",
    "\n",
    "m is a float and e is an int, such that x = m * 2.**e.\n",
    "If x is 0, m and e are both 0.  Else 0.5 <= abs(m) < 1.0."
   ]
  },
  {
   "cell_type": "code",
   "execution_count": null,
   "id": "239d8092",
   "metadata": {},
   "outputs": [],
   "source": [
    "Return the exponential value e**z.\n",
    "Return e raised to the power of x."
   ]
  },
  {
   "cell_type": "code",
   "execution_count": null,
   "id": "32eeb12a",
   "metadata": {},
   "outputs": [],
   "source": [
    "math.exp()"
   ]
  },
  {
   "cell_type": "code",
   "execution_count": 136,
   "id": "0bef3696",
   "metadata": {},
   "outputs": [],
   "source": [
    "from math import factorial\n",
    "def comb(n,k):\n",
    "    if (n >= k):\n",
    "        minus = (n-k)\n",
    "        n = factorial(n)\n",
    "        k = factorial(k)* factorial(minus)\n",
    "        return ((n/k))\n",
    "    else:\n",
    "        return 0"
   ]
  },
  {
   "cell_type": "code",
   "execution_count": 137,
   "id": "f6e1461e",
   "metadata": {},
   "outputs": [
    {
     "data": {
      "text/plain": [
       "0"
      ]
     },
     "execution_count": 137,
     "metadata": {},
     "output_type": "execute_result"
    }
   ],
   "source": [
    "math.comb(2,3)"
   ]
  },
  {
   "cell_type": "code",
   "execution_count": null,
   "id": "064eea5e",
   "metadata": {},
   "outputs": [],
   "source": [
    "Number of ways to choose k items from n items without repetition and with order.\n",
    "\n",
    "Evaluates to n! / (n - k)! when k <= n and evaluates\n",
    "to zero when k > n.\n",
    "\n",
    "If k is not specified or is None, then k defaults to n\n",
    "and the function returns n!.\n",
    "\n",
    "Raises TypeError if either of the arguments are not integers.\n",
    "Raises ValueError if either of the arguments are negative.\n",
    "Type:      builtin_function_or_method"
   ]
  },
  {
   "cell_type": "code",
   "execution_count": 138,
   "id": "d716e620",
   "metadata": {},
   "outputs": [
    {
     "data": {
      "text/plain": [
       "0"
      ]
     },
     "execution_count": 138,
     "metadata": {},
     "output_type": "execute_result"
    }
   ],
   "source": [
    "comb(2,3)"
   ]
  },
  {
   "cell_type": "code",
   "execution_count": 139,
   "id": "197b2fa5",
   "metadata": {},
   "outputs": [
    {
     "data": {
      "text/plain": [
       "0"
      ]
     },
     "execution_count": 139,
     "metadata": {},
     "output_type": "execute_result"
    }
   ],
   "source": [
    "comb(3,5)"
   ]
  },
  {
   "cell_type": "code",
   "execution_count": 140,
   "id": "0c0c9cb7",
   "metadata": {},
   "outputs": [
    {
     "data": {
      "text/plain": [
       "0"
      ]
     },
     "execution_count": 140,
     "metadata": {},
     "output_type": "execute_result"
    }
   ],
   "source": [
    "math.comb(3,5)"
   ]
  },
  {
   "cell_type": "code",
   "execution_count": 141,
   "id": "9948a638",
   "metadata": {
    "scrolled": true
   },
   "outputs": [
    {
     "data": {
      "text/plain": [
       "3"
      ]
     },
     "execution_count": 141,
     "metadata": {},
     "output_type": "execute_result"
    }
   ],
   "source": [
    "math.comb(3,2)"
   ]
  },
  {
   "cell_type": "code",
   "execution_count": 142,
   "id": "4852ec95",
   "metadata": {},
   "outputs": [
    {
     "ename": "SyntaxError",
     "evalue": "invalid syntax (3960377428.py, line 1)",
     "output_type": "error",
     "traceback": [
      "\u001b[1;36m  Input \u001b[1;32mIn [142]\u001b[1;36m\u001b[0m\n\u001b[1;33m    ValueError: n must be a non-negative integer\u001b[0m\n\u001b[1;37m                  ^\u001b[0m\n\u001b[1;31mSyntaxError\u001b[0m\u001b[1;31m:\u001b[0m invalid syntax\n"
     ]
    }
   ],
   "source": [
    "ValueError: n must be a non-negative integer\n",
    "ValueError: k must be a non-negative integer\n",
    "TypeError: 'float' object cannot be interpreted as an integer\n",
    "\n"
   ]
  },
  {
   "cell_type": "code",
   "execution_count": 143,
   "id": "f2ae8d54",
   "metadata": {},
   "outputs": [
    {
     "data": {
      "text/plain": [
       "3.0"
      ]
     },
     "execution_count": 143,
     "metadata": {},
     "output_type": "execute_result"
    }
   ],
   "source": [
    "comb(3,2)"
   ]
  },
  {
   "cell_type": "code",
   "execution_count": 152,
   "id": "fda54dd7",
   "metadata": {},
   "outputs": [
    {
     "data": {
      "text/plain": [
       "0"
      ]
     },
     "execution_count": 152,
     "metadata": {},
     "output_type": "execute_result"
    }
   ],
   "source": [
    "math.comb(4,36)"
   ]
  },
  {
   "cell_type": "code",
   "execution_count": 153,
   "id": "fcb30bd8",
   "metadata": {},
   "outputs": [
    {
     "data": {
      "text/plain": [
       "0"
      ]
     },
     "execution_count": 153,
     "metadata": {},
     "output_type": "execute_result"
    }
   ],
   "source": [
    "comb(4,36)"
   ]
  },
  {
   "cell_type": "code",
   "execution_count": 157,
   "id": "2896a895",
   "metadata": {},
   "outputs": [
    {
     "data": {
      "text/plain": [
       "0"
      ]
     },
     "execution_count": 157,
     "metadata": {},
     "output_type": "execute_result"
    }
   ],
   "source": [
    "math.comb(4,5)"
   ]
  },
  {
   "cell_type": "code",
   "execution_count": 158,
   "id": "b2357556",
   "metadata": {},
   "outputs": [
    {
     "data": {
      "text/plain": [
       "0"
      ]
     },
     "execution_count": 158,
     "metadata": {},
     "output_type": "execute_result"
    }
   ],
   "source": [
    "comb(4,5)"
   ]
  },
  {
   "cell_type": "code",
   "execution_count": 159,
   "id": "47aed295",
   "metadata": {},
   "outputs": [
    {
     "data": {
      "text/plain": [
       "4.0"
      ]
     },
     "execution_count": 159,
     "metadata": {},
     "output_type": "execute_result"
    }
   ],
   "source": [
    "comb(4,3)"
   ]
  },
  {
   "cell_type": "code",
   "execution_count": 160,
   "id": "d4f79f15",
   "metadata": {},
   "outputs": [
    {
     "data": {
      "text/plain": [
       "4"
      ]
     },
     "execution_count": 160,
     "metadata": {},
     "output_type": "execute_result"
    }
   ],
   "source": [
    "math.comb(4,3)"
   ]
  },
  {
   "cell_type": "code",
   "execution_count": 161,
   "id": "8f875eba",
   "metadata": {},
   "outputs": [
    {
     "data": {
      "text/plain": [
       "36"
      ]
     },
     "execution_count": 161,
     "metadata": {},
     "output_type": "execute_result"
    }
   ],
   "source": [
    "math.comb(9,2)"
   ]
  },
  {
   "cell_type": "code",
   "execution_count": 162,
   "id": "b7b3e528",
   "metadata": {},
   "outputs": [
    {
     "data": {
      "text/plain": [
       "36.0"
      ]
     },
     "execution_count": 162,
     "metadata": {},
     "output_type": "execute_result"
    }
   ],
   "source": [
    "comb(9,2)"
   ]
  },
  {
   "cell_type": "code",
   "execution_count": 166,
   "id": "704b2439",
   "metadata": {},
   "outputs": [],
   "source": [
    "def perm(n,k):\n",
    "    if(n >= k):\n",
    "        minus = (n-k)\n",
    "        n = factorial(n)\n",
    "        k = factorial(minus)\n",
    "        return (n/k)\n",
    "    else:\n",
    "        return 0.0"
   ]
  },
  {
   "cell_type": "code",
   "execution_count": 167,
   "id": "307bc762",
   "metadata": {},
   "outputs": [
    {
     "data": {
      "text/plain": [
       "0"
      ]
     },
     "execution_count": 167,
     "metadata": {},
     "output_type": "execute_result"
    }
   ],
   "source": [
    "math.perm(2,3)"
   ]
  },
  {
   "cell_type": "code",
   "execution_count": 168,
   "id": "0ef4136a",
   "metadata": {},
   "outputs": [
    {
     "data": {
      "text/plain": [
       "0"
      ]
     },
     "execution_count": 168,
     "metadata": {},
     "output_type": "execute_result"
    }
   ],
   "source": [
    "math.perm(4,5)"
   ]
  },
  {
   "cell_type": "code",
   "execution_count": 169,
   "id": "0000dda7",
   "metadata": {},
   "outputs": [
    {
     "data": {
      "text/plain": [
       "0.0"
      ]
     },
     "execution_count": 169,
     "metadata": {},
     "output_type": "execute_result"
    }
   ],
   "source": [
    "perm(2,3)"
   ]
  },
  {
   "cell_type": "code",
   "execution_count": 170,
   "id": "a7cac5b4",
   "metadata": {},
   "outputs": [
    {
     "data": {
      "text/plain": [
       "0.0"
      ]
     },
     "execution_count": 170,
     "metadata": {},
     "output_type": "execute_result"
    }
   ],
   "source": [
    "perm(4,5)"
   ]
  },
  {
   "cell_type": "code",
   "execution_count": 171,
   "id": "68cbd886",
   "metadata": {},
   "outputs": [
    {
     "data": {
      "text/plain": [
       "120.0"
      ]
     },
     "execution_count": 171,
     "metadata": {},
     "output_type": "execute_result"
    }
   ],
   "source": [
    "perm(5,4)"
   ]
  },
  {
   "cell_type": "code",
   "execution_count": 172,
   "id": "c62f1305",
   "metadata": {},
   "outputs": [
    {
     "data": {
      "text/plain": [
       "20.0"
      ]
     },
     "execution_count": 172,
     "metadata": {},
     "output_type": "execute_result"
    }
   ],
   "source": [
    "perm(5,2)"
   ]
  },
  {
   "cell_type": "code",
   "execution_count": 173,
   "id": "f3a1bfee",
   "metadata": {},
   "outputs": [
    {
     "data": {
      "text/plain": [
       "120"
      ]
     },
     "execution_count": 173,
     "metadata": {},
     "output_type": "execute_result"
    }
   ],
   "source": [
    "math.perm(5,4)"
   ]
  },
  {
   "cell_type": "code",
   "execution_count": 174,
   "id": "0623480f",
   "metadata": {},
   "outputs": [
    {
     "data": {
      "text/plain": [
       "20"
      ]
     },
     "execution_count": 174,
     "metadata": {},
     "output_type": "execute_result"
    }
   ],
   "source": [
    "math.perm(5,2)"
   ]
  },
  {
   "cell_type": "code",
   "execution_count": 175,
   "id": "fe350936",
   "metadata": {},
   "outputs": [],
   "source": [
    "def copysign(x,y):\n",
    "    \n",
    "    \n",
    "    \"\"\"\n",
    "    Return a float with the magnitude (absolute value) of x but the sign of y.\n",
    "    \"\"\"\n",
    "    if(y<=0):\n",
    "        return (abs(x)*(-1))\n",
    "    else:\n",
    "        return float(abs(x))"
   ]
  },
  {
   "cell_type": "code",
   "execution_count": 176,
   "id": "c3fb35b4",
   "metadata": {},
   "outputs": [
    {
     "data": {
      "text/plain": [
       "-1.0"
      ]
     },
     "execution_count": 176,
     "metadata": {},
     "output_type": "execute_result"
    }
   ],
   "source": [
    "math.copysign(1.0,-0.0)"
   ]
  },
  {
   "cell_type": "code",
   "execution_count": 177,
   "id": "9423cc0e",
   "metadata": {},
   "outputs": [
    {
     "data": {
      "text/plain": [
       "-1.0"
      ]
     },
     "execution_count": 177,
     "metadata": {},
     "output_type": "execute_result"
    }
   ],
   "source": [
    "copysign(1.0,-0.0)"
   ]
  },
  {
   "cell_type": "code",
   "execution_count": 178,
   "id": "b6d0acc9",
   "metadata": {},
   "outputs": [
    {
     "data": {
      "text/plain": [
       "4.0"
      ]
     },
     "execution_count": 178,
     "metadata": {},
     "output_type": "execute_result"
    }
   ],
   "source": [
    "math.copysign(4,3)"
   ]
  },
  {
   "cell_type": "code",
   "execution_count": 179,
   "id": "18496a5f",
   "metadata": {},
   "outputs": [
    {
     "data": {
      "text/plain": [
       "4.0"
      ]
     },
     "execution_count": 179,
     "metadata": {},
     "output_type": "execute_result"
    }
   ],
   "source": [
    "math.copysign(-4,3)"
   ]
  },
  {
   "cell_type": "code",
   "execution_count": 180,
   "id": "555935ce",
   "metadata": {},
   "outputs": [
    {
     "data": {
      "text/plain": [
       "4.0"
      ]
     },
     "execution_count": 180,
     "metadata": {},
     "output_type": "execute_result"
    }
   ],
   "source": [
    "copysign(4,3)"
   ]
  },
  {
   "cell_type": "code",
   "execution_count": 181,
   "id": "1f241144",
   "metadata": {},
   "outputs": [
    {
     "data": {
      "text/plain": [
       "4.0"
      ]
     },
     "execution_count": 181,
     "metadata": {},
     "output_type": "execute_result"
    }
   ],
   "source": [
    "copysign(-4,3)"
   ]
  },
  {
   "cell_type": "code",
   "execution_count": 182,
   "id": "de6c2582",
   "metadata": {},
   "outputs": [],
   "source": [
    "import math\n",
    "def dist(p,q):\n",
    "    return math.sqrt(sum((px - qx) ** 2.0 for px, qx in zip(p, q)))"
   ]
  },
  {
   "cell_type": "code",
   "execution_count": 186,
   "id": "6b87b56f",
   "metadata": {},
   "outputs": [
    {
     "data": {
      "text/plain": [
       "3.0"
      ]
     },
     "execution_count": 186,
     "metadata": {},
     "output_type": "execute_result"
    }
   ],
   "source": [
    "math.dist([3,4,5],[3,4,2])"
   ]
  },
  {
   "cell_type": "code",
   "execution_count": 188,
   "id": "bbc9c06b",
   "metadata": {},
   "outputs": [
    {
     "data": {
      "text/plain": [
       "0.0"
      ]
     },
     "execution_count": 188,
     "metadata": {},
     "output_type": "execute_result"
    }
   ],
   "source": [
    "dist([3,4,5],[3,4])"
   ]
  },
  {
   "cell_type": "code",
   "execution_count": 194,
   "id": "53655ae4",
   "metadata": {},
   "outputs": [],
   "source": [
    "def fsum(seq):\n",
    "    return float(sum(seq))"
   ]
  },
  {
   "cell_type": "code",
   "execution_count": 197,
   "id": "bc154f6f",
   "metadata": {},
   "outputs": [
    {
     "data": {
      "text/plain": [
       "12.4"
      ]
     },
     "execution_count": 197,
     "metadata": {},
     "output_type": "execute_result"
    }
   ],
   "source": [
    "math.fsum([3,4,5.4])"
   ]
  },
  {
   "cell_type": "code",
   "execution_count": 198,
   "id": "c998118c",
   "metadata": {},
   "outputs": [
    {
     "data": {
      "text/plain": [
       "12.4"
      ]
     },
     "execution_count": 198,
     "metadata": {},
     "output_type": "execute_result"
    }
   ],
   "source": [
    "fsum([3,4,5.4])"
   ]
  },
  {
   "cell_type": "code",
   "execution_count": 202,
   "id": "5748eef3",
   "metadata": {},
   "outputs": [],
   "source": [
    "def isqrt(x):\n",
    "    return int(pow(x,0.5))"
   ]
  },
  {
   "cell_type": "code",
   "execution_count": 203,
   "id": "357b34d2",
   "metadata": {},
   "outputs": [
    {
     "data": {
      "text/plain": [
       "1"
      ]
     },
     "execution_count": 203,
     "metadata": {},
     "output_type": "execute_result"
    }
   ],
   "source": [
    "math.isqrt(2)"
   ]
  },
  {
   "cell_type": "code",
   "execution_count": 204,
   "id": "8d1cb219",
   "metadata": {},
   "outputs": [
    {
     "data": {
      "text/plain": [
       "1"
      ]
     },
     "execution_count": 204,
     "metadata": {},
     "output_type": "execute_result"
    }
   ],
   "source": [
    "isqrt(2)"
   ]
  },
  {
   "cell_type": "code",
   "execution_count": 205,
   "id": "5cc7e858",
   "metadata": {},
   "outputs": [
    {
     "ename": "TypeError",
     "evalue": "'complex' object cannot be interpreted as an integer",
     "output_type": "error",
     "traceback": [
      "\u001b[1;31m---------------------------------------------------------------------------\u001b[0m",
      "\u001b[1;31mTypeError\u001b[0m                                 Traceback (most recent call last)",
      "Input \u001b[1;32mIn [205]\u001b[0m, in \u001b[0;36m<cell line: 1>\u001b[1;34m()\u001b[0m\n\u001b[1;32m----> 1\u001b[0m \u001b[43mmath\u001b[49m\u001b[38;5;241;43m.\u001b[39;49m\u001b[43misqrt\u001b[49m\u001b[43m(\u001b[49m\u001b[38;5;241;43m2\u001b[39;49m\u001b[43mj\u001b[49m\u001b[43m)\u001b[49m\n",
      "\u001b[1;31mTypeError\u001b[0m: 'complex' object cannot be interpreted as an integer"
     ]
    }
   ],
   "source": [
    "math.isqrt(2j)"
   ]
  },
  {
   "cell_type": "code",
   "execution_count": 206,
   "id": "5403128f",
   "metadata": {},
   "outputs": [
    {
     "data": {
      "text/plain": [
       "2"
      ]
     },
     "execution_count": 206,
     "metadata": {},
     "output_type": "execute_result"
    }
   ],
   "source": [
    "math.isqrt(5)"
   ]
  },
  {
   "cell_type": "code",
   "execution_count": 207,
   "id": "e9d8f844",
   "metadata": {},
   "outputs": [
    {
     "data": {
      "text/plain": [
       "3"
      ]
     },
     "execution_count": 207,
     "metadata": {},
     "output_type": "execute_result"
    }
   ],
   "source": [
    "isqrt(12)"
   ]
  },
  {
   "cell_type": "code",
   "execution_count": 208,
   "id": "cbbfdfc2",
   "metadata": {},
   "outputs": [
    {
     "ename": "TypeError",
     "evalue": "can't convert complex to int",
     "output_type": "error",
     "traceback": [
      "\u001b[1;31m---------------------------------------------------------------------------\u001b[0m",
      "\u001b[1;31mTypeError\u001b[0m                                 Traceback (most recent call last)",
      "Input \u001b[1;32mIn [208]\u001b[0m, in \u001b[0;36m<cell line: 1>\u001b[1;34m()\u001b[0m\n\u001b[1;32m----> 1\u001b[0m \u001b[43misqrt\u001b[49m\u001b[43m(\u001b[49m\u001b[38;5;241;43m2\u001b[39;49m\u001b[43mj\u001b[49m\u001b[43m)\u001b[49m\n",
      "Input \u001b[1;32mIn [202]\u001b[0m, in \u001b[0;36misqrt\u001b[1;34m(x)\u001b[0m\n\u001b[0;32m      1\u001b[0m \u001b[38;5;28;01mdef\u001b[39;00m \u001b[38;5;21misqrt\u001b[39m(x):\n\u001b[1;32m----> 2\u001b[0m     \u001b[38;5;28;01mreturn\u001b[39;00m \u001b[38;5;28;43mint\u001b[39;49m\u001b[43m(\u001b[49m\u001b[38;5;28;43mpow\u001b[39;49m\u001b[43m(\u001b[49m\u001b[43mx\u001b[49m\u001b[43m,\u001b[49m\u001b[38;5;241;43m0.5\u001b[39;49m\u001b[43m)\u001b[49m\u001b[43m)\u001b[49m\n",
      "\u001b[1;31mTypeError\u001b[0m: can't convert complex to int"
     ]
    }
   ],
   "source": [
    "isqrt(2j)"
   ]
  },
  {
   "cell_type": "code",
   "execution_count": 209,
   "id": "d541fccb",
   "metadata": {},
   "outputs": [],
   "source": [
    "def trunc(x):\n",
    "    return int(x)"
   ]
  },
  {
   "cell_type": "code",
   "execution_count": 210,
   "id": "18f023d5",
   "metadata": {},
   "outputs": [
    {
     "ename": "TypeError",
     "evalue": "type complex doesn't define __trunc__ method",
     "output_type": "error",
     "traceback": [
      "\u001b[1;31m---------------------------------------------------------------------------\u001b[0m",
      "\u001b[1;31mTypeError\u001b[0m                                 Traceback (most recent call last)",
      "Input \u001b[1;32mIn [210]\u001b[0m, in \u001b[0;36m<cell line: 1>\u001b[1;34m()\u001b[0m\n\u001b[1;32m----> 1\u001b[0m \u001b[43mmath\u001b[49m\u001b[38;5;241;43m.\u001b[39;49m\u001b[43mtrunc\u001b[49m\u001b[43m(\u001b[49m\u001b[38;5;241;43m2\u001b[39;49m\u001b[43mj\u001b[49m\u001b[43m)\u001b[49m\n",
      "\u001b[1;31mTypeError\u001b[0m: type complex doesn't define __trunc__ method"
     ]
    }
   ],
   "source": [
    "math.trunc(2j)"
   ]
  },
  {
   "cell_type": "code",
   "execution_count": 217,
   "id": "2cee5ed2",
   "metadata": {},
   "outputs": [
    {
     "data": {
      "text/plain": [
       "24"
      ]
     },
     "execution_count": 217,
     "metadata": {},
     "output_type": "execute_result"
    }
   ],
   "source": [
    "math.trunc(24.1)\n"
   ]
  },
  {
   "cell_type": "code",
   "execution_count": null,
   "id": "4b28c120",
   "metadata": {},
   "outputs": [],
   "source": [
    "math.trunc()"
   ]
  },
  {
   "cell_type": "code",
   "execution_count": null,
   "id": "b736dea9",
   "metadata": {},
   "outputs": [],
   "source": [
    "Truncates the Real x to the nearest Integral toward 0.\n",
    "\n",
    "Uses the __trunc__ magic method."
   ]
  },
  {
   "cell_type": "code",
   "execution_count": 218,
   "id": "9e9594ea",
   "metadata": {},
   "outputs": [
    {
     "data": {
      "text/plain": [
       "1"
      ]
     },
     "execution_count": 218,
     "metadata": {},
     "output_type": "execute_result"
    }
   ],
   "source": [
    "math.trunc(1.9)"
   ]
  },
  {
   "cell_type": "code",
   "execution_count": 220,
   "id": "6d36d1df",
   "metadata": {},
   "outputs": [
    {
     "data": {
      "text/plain": [
       "0"
      ]
     },
     "execution_count": 220,
     "metadata": {},
     "output_type": "execute_result"
    }
   ],
   "source": [
    "math.trunc(0.9)"
   ]
  },
  {
   "cell_type": "code",
   "execution_count": 221,
   "id": "2cf8db1b",
   "metadata": {},
   "outputs": [
    {
     "data": {
      "text/plain": [
       "0"
      ]
     },
     "execution_count": 221,
     "metadata": {},
     "output_type": "execute_result"
    }
   ],
   "source": [
    "trunc(0.9)"
   ]
  },
  {
   "cell_type": "code",
   "execution_count": 222,
   "id": "cf44eca7",
   "metadata": {},
   "outputs": [],
   "source": [
    "def atan2(y,x,/):\n",
    "    return math.atan(y/x)"
   ]
  },
  {
   "cell_type": "code",
   "execution_count": 224,
   "id": "2faa4c26",
   "metadata": {},
   "outputs": [
    {
     "data": {
      "text/plain": [
       "0.8960553845713439"
      ]
     },
     "execution_count": 224,
     "metadata": {},
     "output_type": "execute_result"
    }
   ],
   "source": [
    "atan2(5,4)"
   ]
  },
  {
   "cell_type": "code",
   "execution_count": 225,
   "id": "3d91ef20",
   "metadata": {},
   "outputs": [
    {
     "data": {
      "text/plain": [
       "1.1071487177940904"
      ]
     },
     "execution_count": 225,
     "metadata": {},
     "output_type": "execute_result"
    }
   ],
   "source": [
    "atan2(6,3)"
   ]
  },
  {
   "cell_type": "code",
   "execution_count": 226,
   "id": "1f463242",
   "metadata": {},
   "outputs": [
    {
     "data": {
      "text/plain": [
       "0.8960553845713439"
      ]
     },
     "execution_count": 226,
     "metadata": {},
     "output_type": "execute_result"
    }
   ],
   "source": [
    "math.atan2(5,4)"
   ]
  },
  {
   "cell_type": "code",
   "execution_count": 227,
   "id": "7e0bd5e6",
   "metadata": {},
   "outputs": [
    {
     "data": {
      "text/plain": [
       "0.8960553845713439"
      ]
     },
     "execution_count": 227,
     "metadata": {},
     "output_type": "execute_result"
    }
   ],
   "source": [
    "math.atan2(5,4)"
   ]
  },
  {
   "cell_type": "code",
   "execution_count": 228,
   "id": "545fd5b6",
   "metadata": {},
   "outputs": [],
   "source": [
    "from math import inf \n",
    "def isfinite(x,/):\n",
    "    if(x == inf):\n",
    "        return False \n",
    "    else:\n",
    "        return True "
   ]
  },
  {
   "cell_type": "code",
   "execution_count": 229,
   "id": "c377d98e",
   "metadata": {},
   "outputs": [
    {
     "data": {
      "text/plain": [
       "True"
      ]
     },
     "execution_count": 229,
     "metadata": {},
     "output_type": "execute_result"
    }
   ],
   "source": [
    "isfinite(4)"
   ]
  },
  {
   "cell_type": "code",
   "execution_count": 230,
   "id": "b67cb443",
   "metadata": {},
   "outputs": [
    {
     "data": {
      "text/plain": [
       "False"
      ]
     },
     "execution_count": 230,
     "metadata": {},
     "output_type": "execute_result"
    }
   ],
   "source": [
    "isfinite(inf)"
   ]
  },
  {
   "cell_type": "code",
   "execution_count": 231,
   "id": "e3819661",
   "metadata": {},
   "outputs": [
    {
     "data": {
      "text/plain": [
       "True"
      ]
     },
     "execution_count": 231,
     "metadata": {},
     "output_type": "execute_result"
    }
   ],
   "source": [
    "math.isfinite(4)"
   ]
  },
  {
   "cell_type": "code",
   "execution_count": 232,
   "id": "c0ce6200",
   "metadata": {},
   "outputs": [
    {
     "data": {
      "text/plain": [
       "False"
      ]
     },
     "execution_count": 232,
     "metadata": {},
     "output_type": "execute_result"
    }
   ],
   "source": [
    "math.isfinite(inf)"
   ]
  },
  {
   "cell_type": "code",
   "execution_count": null,
   "id": "58f1dad7",
   "metadata": {},
   "outputs": [],
   "source": [
    "Return True if x is neither an infinity nor a NaN,\n",
    " and False otherwise."
   ]
  },
  {
   "cell_type": "code",
   "execution_count": 233,
   "id": "2add6e94",
   "metadata": {},
   "outputs": [
    {
     "data": {
      "text/plain": [
       "False"
      ]
     },
     "execution_count": 233,
     "metadata": {},
     "output_type": "execute_result"
    }
   ],
   "source": [
    "math.isfinite(math.nan)"
   ]
  },
  {
   "cell_type": "code",
   "execution_count": 234,
   "id": "a2b408ee",
   "metadata": {},
   "outputs": [
    {
     "data": {
      "text/plain": [
       "True"
      ]
     },
     "execution_count": 234,
     "metadata": {},
     "output_type": "execute_result"
    }
   ],
   "source": [
    "isfinite(math.nan)"
   ]
  },
  {
   "cell_type": "code",
   "execution_count": 235,
   "id": "494979c3",
   "metadata": {},
   "outputs": [
    {
     "ename": "TypeError",
     "evalue": "can't convert complex to float",
     "output_type": "error",
     "traceback": [
      "\u001b[1;31m---------------------------------------------------------------------------\u001b[0m",
      "\u001b[1;31mTypeError\u001b[0m                                 Traceback (most recent call last)",
      "Input \u001b[1;32mIn [235]\u001b[0m, in \u001b[0;36m<cell line: 1>\u001b[1;34m()\u001b[0m\n\u001b[1;32m----> 1\u001b[0m \u001b[43mmath\u001b[49m\u001b[38;5;241;43m.\u001b[39;49m\u001b[43misfinite\u001b[49m\u001b[43m(\u001b[49m\u001b[38;5;241;43m2\u001b[39;49m\u001b[43mj\u001b[49m\u001b[43m)\u001b[49m\n",
      "\u001b[1;31mTypeError\u001b[0m: can't convert complex to float"
     ]
    }
   ],
   "source": [
    "math.isfinite(2j)"
   ]
  },
  {
   "cell_type": "code",
   "execution_count": 236,
   "id": "2f153967",
   "metadata": {},
   "outputs": [],
   "source": [
    "def isinf(x,/):\n",
    "    if(x == inf):\n",
    "        return True \n",
    "    else:\n",
    "        return False"
   ]
  },
  {
   "cell_type": "code",
   "execution_count": 237,
   "id": "812fb560",
   "metadata": {},
   "outputs": [
    {
     "data": {
      "text/plain": [
       "False"
      ]
     },
     "execution_count": 237,
     "metadata": {},
     "output_type": "execute_result"
    }
   ],
   "source": [
    "isinf(4)"
   ]
  },
  {
   "cell_type": "code",
   "execution_count": 238,
   "id": "c520c637",
   "metadata": {},
   "outputs": [
    {
     "data": {
      "text/plain": [
       "True"
      ]
     },
     "execution_count": 238,
     "metadata": {},
     "output_type": "execute_result"
    }
   ],
   "source": [
    "isinf(math.inf)"
   ]
  },
  {
   "cell_type": "code",
   "execution_count": 239,
   "id": "2b0129dd",
   "metadata": {},
   "outputs": [
    {
     "data": {
      "text/plain": [
       "False"
      ]
     },
     "execution_count": 239,
     "metadata": {},
     "output_type": "execute_result"
    }
   ],
   "source": [
    "math.isinf(4)"
   ]
  },
  {
   "cell_type": "code",
   "execution_count": 240,
   "id": "829de1da",
   "metadata": {},
   "outputs": [
    {
     "data": {
      "text/plain": [
       "True"
      ]
     },
     "execution_count": 240,
     "metadata": {},
     "output_type": "execute_result"
    }
   ],
   "source": [
    "math.isinf(math.inf)"
   ]
  },
  {
   "cell_type": "code",
   "execution_count": 241,
   "id": "30c7f362",
   "metadata": {},
   "outputs": [
    {
     "data": {
      "text/plain": [
       "False"
      ]
     },
     "execution_count": 241,
     "metadata": {},
     "output_type": "execute_result"
    }
   ],
   "source": [
    "\n",
    "math.isinf(math.nan)"
   ]
  },
  {
   "cell_type": "code",
   "execution_count": 242,
   "id": "569f4678",
   "metadata": {},
   "outputs": [
    {
     "data": {
      "text/plain": [
       "False"
      ]
     },
     "execution_count": 242,
     "metadata": {},
     "output_type": "execute_result"
    }
   ],
   "source": [
    "isinf(math.nan)"
   ]
  },
  {
   "cell_type": "code",
   "execution_count": 243,
   "id": "ad24e755",
   "metadata": {},
   "outputs": [],
   "source": [
    "def isnan(x,/):\n",
    "    if (x != x):\n",
    "        return True\n",
    "    else:\n",
    "        return False"
   ]
  },
  {
   "cell_type": "code",
   "execution_count": 244,
   "id": "0250684f",
   "metadata": {},
   "outputs": [
    {
     "data": {
      "text/plain": [
       "False"
      ]
     },
     "execution_count": 244,
     "metadata": {},
     "output_type": "execute_result"
    }
   ],
   "source": [
    "math.isnan(3)"
   ]
  },
  {
   "cell_type": "code",
   "execution_count": 245,
   "id": "a97668fd",
   "metadata": {},
   "outputs": [
    {
     "data": {
      "text/plain": [
       "False"
      ]
     },
     "execution_count": 245,
     "metadata": {},
     "output_type": "execute_result"
    }
   ],
   "source": [
    "math.isnan(math.inf)"
   ]
  },
  {
   "cell_type": "code",
   "execution_count": 246,
   "id": "0ecfa103",
   "metadata": {},
   "outputs": [
    {
     "data": {
      "text/plain": [
       "True"
      ]
     },
     "execution_count": 246,
     "metadata": {},
     "output_type": "execute_result"
    }
   ],
   "source": [
    "math.isnan(math.nan)"
   ]
  },
  {
   "cell_type": "code",
   "execution_count": 248,
   "id": "b22354a9",
   "metadata": {},
   "outputs": [
    {
     "data": {
      "text/plain": [
       "False"
      ]
     },
     "execution_count": 248,
     "metadata": {},
     "output_type": "execute_result"
    }
   ],
   "source": [
    "isnan(3)"
   ]
  },
  {
   "cell_type": "code",
   "execution_count": 249,
   "id": "573e40e0",
   "metadata": {},
   "outputs": [
    {
     "data": {
      "text/plain": [
       "False"
      ]
     },
     "execution_count": 249,
     "metadata": {},
     "output_type": "execute_result"
    }
   ],
   "source": [
    "isnan(math.inf)"
   ]
  },
  {
   "cell_type": "code",
   "execution_count": 250,
   "id": "24ee0f2b",
   "metadata": {},
   "outputs": [
    {
     "data": {
      "text/plain": [
       "True"
      ]
     },
     "execution_count": 250,
     "metadata": {},
     "output_type": "execute_result"
    }
   ],
   "source": [
    "isnan(math.nan)"
   ]
  },
  {
   "cell_type": "code",
   "execution_count": null,
   "id": "2be6a10f",
   "metadata": {},
   "outputs": [],
   "source": [
    "Return True if x is a NaN (not a number), and False otherwise."
   ]
  },
  {
   "cell_type": "code",
   "execution_count": null,
   "id": "8d33e8a3",
   "metadata": {},
   "outputs": [],
   "source": [
    "math."
   ]
  },
  {
   "cell_type": "code",
   "execution_count": 251,
   "id": "6c7488ee",
   "metadata": {},
   "outputs": [],
   "source": [
    "def product(*args):\n",
    "    \"\"\"Returns the product of float or ints\n",
    "        product(3,4,5) -> 60\n",
    "        product(*[3,4,5]) -> 60\n",
    "    \"\"\"\n",
    "    prod = 1\n",
    "    for num in args:\n",
    "        prod*=num\n",
    "    return prod"
   ]
  },
  {
   "cell_type": "code",
   "execution_count": null,
   "id": "eb6d9be0",
   "metadata": {},
   "outputs": [],
   "source": [
    "math.prod()#iterable, /, *, start=1"
   ]
  },
  {
   "cell_type": "code",
   "execution_count": null,
   "id": "4feb0215",
   "metadata": {},
   "outputs": [],
   "source": [
    "Calculate the product of all the elements in the input iterable.\n",
    "\n",
    "The default start value for the product is 1.\n",
    "\n",
    "When the iterable is empty, return the start value.  This function is\n",
    "intended specifically for use with numeric values and may reject\n",
    "non-numeric types."
   ]
  },
  {
   "cell_type": "code",
   "execution_count": 258,
   "id": "83333649",
   "metadata": {},
   "outputs": [
    {
     "data": {
      "text/plain": [
       "180"
      ]
     },
     "execution_count": 258,
     "metadata": {},
     "output_type": "execute_result"
    }
   ],
   "source": [
    "math.prod([3,4,5],start=3)"
   ]
  },
  {
   "cell_type": "code",
   "execution_count": 265,
   "id": "07d1f752",
   "metadata": {},
   "outputs": [],
   "source": [
    "def prod(iterable,/,*,start=1):\n",
    "    prod =1.0 \n",
    "    for num in iterable:\n",
    "        prod *=num\n",
    "    return prod*start "
   ]
  },
  {
   "cell_type": "code",
   "execution_count": 266,
   "id": "ac858de5",
   "metadata": {
    "scrolled": true
   },
   "outputs": [
    {
     "data": {
      "text/plain": [
       "120.0"
      ]
     },
     "execution_count": 266,
     "metadata": {},
     "output_type": "execute_result"
    }
   ],
   "source": [
    "prod([3,4,5],start=2)"
   ]
  },
  {
   "cell_type": "code",
   "execution_count": 267,
   "id": "2cc0476b",
   "metadata": {},
   "outputs": [
    {
     "ename": "TypeError",
     "evalue": "prod() takes at most 2 arguments (3 given)",
     "output_type": "error",
     "traceback": [
      "\u001b[1;31m---------------------------------------------------------------------------\u001b[0m",
      "\u001b[1;31mTypeError\u001b[0m                                 Traceback (most recent call last)",
      "Input \u001b[1;32mIn [267]\u001b[0m, in \u001b[0;36m<cell line: 1>\u001b[1;34m()\u001b[0m\n\u001b[1;32m----> 1\u001b[0m \u001b[43mmath\u001b[49m\u001b[38;5;241;43m.\u001b[39;49m\u001b[43mprod\u001b[49m\u001b[43m(\u001b[49m\u001b[38;5;241;43m3\u001b[39;49m\u001b[43m,\u001b[49m\u001b[38;5;241;43m4\u001b[39;49m\u001b[43m,\u001b[49m\u001b[38;5;241;43m5\u001b[39;49m\u001b[43m)\u001b[49m\n",
      "\u001b[1;31mTypeError\u001b[0m: prod() takes at most 2 arguments (3 given)"
     ]
    }
   ],
   "source": [
    "math.prod(3,4,5)"
   ]
  },
  {
   "cell_type": "code",
   "execution_count": 264,
   "id": "4c72db1b",
   "metadata": {},
   "outputs": [
    {
     "data": {
      "text/plain": [
       "60"
      ]
     },
     "execution_count": 264,
     "metadata": {},
     "output_type": "execute_result"
    }
   ],
   "source": [
    "math.prod([3,4,5])"
   ]
  },
  {
   "cell_type": "code",
   "execution_count": null,
   "id": "f8258a57",
   "metadata": {},
   "outputs": [],
   "source": []
  },
  {
   "cell_type": "code",
   "execution_count": null,
   "id": "3124ff15",
   "metadata": {},
   "outputs": [],
   "source": []
  },
  {
   "cell_type": "code",
   "execution_count": null,
   "id": "2add324f",
   "metadata": {},
   "outputs": [],
   "source": [
    "Return the integer part of the square root of the input."
   ]
  },
  {
   "cell_type": "code",
   "execution_count": null,
   "id": "3c818c41",
   "metadata": {},
   "outputs": [],
   "source": []
  },
  {
   "cell_type": "code",
   "execution_count": null,
   "id": "1975a0dd",
   "metadata": {},
   "outputs": [],
   "source": []
  },
  {
   "cell_type": "code",
   "execution_count": null,
   "id": "f41e5d34",
   "metadata": {},
   "outputs": [],
   "source": []
  }
 ],
 "metadata": {
  "kernelspec": {
   "display_name": "Python 3 (ipykernel)",
   "language": "python",
   "name": "python3"
  },
  "language_info": {
   "codemirror_mode": {
    "name": "ipython",
    "version": 3
   },
   "file_extension": ".py",
   "mimetype": "text/x-python",
   "name": "python",
   "nbconvert_exporter": "python",
   "pygments_lexer": "ipython3",
   "version": "3.9.12"
  }
 },
 "nbformat": 4,
 "nbformat_minor": 5
}
