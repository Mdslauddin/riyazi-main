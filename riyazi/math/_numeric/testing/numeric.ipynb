{
 "cells": [
  {
   "cell_type": "code",
   "execution_count": null,
   "id": "68fd8375",
   "metadata": {},
   "outputs": [],
   "source": [
    "def factors(a):\n",
    "    for i in range(1, a+1):\n",
    "        if a % i == 0:\n",
    "            lists = ( print(i))\n",
    "    return lists \n",
    "            "
   ]
  },
  {
   "cell_type": "code",
   "execution_count": null,
   "id": "fb158e4d",
   "metadata": {},
   "outputs": [],
   "source": [
    "factors(8)"
   ]
  },
  {
   "cell_type": "code",
   "execution_count": null,
   "id": "cc7b368f",
   "metadata": {},
   "outputs": [],
   "source": [
    "def floor(x) -> int:\n",
    "    \"\"\"\n",
    "    Return the floor of x as an Integral.\n",
    "    :param x: the number\n",
    "    :return: the largest integer <= x.\n",
    "    >>> import math\n",
    "    >>> all(floor(n) == math.floor(n) for n\n",
    "    ...     in (1, -1, 0, -0, 1.1, -1.1, 1.0, -1.0, 1_000_000_000))\n",
    "    True\n",
    "    \"\"\"\n",
    "    return int(x) if x - int(x) >= 0 else int(x) - 1"
   ]
  },
  {
   "cell_type": "code",
   "execution_count": null,
   "id": "6a54ff45",
   "metadata": {},
   "outputs": [],
   "source": [
    "floor(11.4)"
   ]
  },
  {
   "cell_type": "code",
   "execution_count": null,
   "id": "d638408e",
   "metadata": {},
   "outputs": [],
   "source": [
    "import math "
   ]
  },
  {
   "cell_type": "code",
   "execution_count": null,
   "id": "600ff37b",
   "metadata": {},
   "outputs": [],
   "source": [
    "math.floor(11.9)"
   ]
  },
  {
   "cell_type": "code",
   "execution_count": null,
   "id": "7ba7aab8",
   "metadata": {},
   "outputs": [],
   "source": [
    "def hypot(*coordinates):\n",
    "    return math.sqrt(sum(x**2 for x in coordinates))"
   ]
  },
  {
   "cell_type": "code",
   "execution_count": null,
   "id": "08968d6f",
   "metadata": {
    "scrolled": true
   },
   "outputs": [],
   "source": [
    "hypot(2,3)"
   ]
  },
  {
   "cell_type": "code",
   "execution_count": null,
   "id": "a7f098be",
   "metadata": {},
   "outputs": [],
   "source": [
    "math.hypot(2,3)"
   ]
  },
  {
   "cell_type": "code",
   "execution_count": null,
   "id": "1529e64b",
   "metadata": {},
   "outputs": [],
   "source": [
    "def norm(x):\n",
    "    \"\"\"returns the magnitude of a vector x\"\"\"\n",
    "    return math.sqrt(sum(x ** 2))"
   ]
  },
  {
   "cell_type": "code",
   "execution_count": null,
   "id": "4d78a8eb",
   "metadata": {},
   "outputs": [],
   "source": [
    "def unitvector(x):\n",
    "    \"\"\"returns a unit vector x/|x|. x needs to be a numpy array.\"\"\"\n",
    "    xnorm = norm(x)\n",
    "    if xnorm == 0:\n",
    "        raise ValueError(\"Can't normalise vector with length 0\")\n",
    "    return x / norm(x)"
   ]
  },
  {
   "cell_type": "code",
   "execution_count": null,
   "id": "f33bb147",
   "metadata": {},
   "outputs": [],
   "source": [
    "def add(*args):\n",
    "    \"\"\"\n",
    "    Addition  program\n",
    "    >>> add(5,6,7,8)\n",
    "    >>>  26\n",
    "\n",
    "    \"\"\"\n",
    "    sum = 0\n",
    "    for x in args:\n",
    "        sum +=x \n",
    "    return sum \n",
    "\n"
   ]
  },
  {
   "cell_type": "code",
   "execution_count": null,
   "id": "1b480133",
   "metadata": {},
   "outputs": [],
   "source": [
    "def sub(a,b):\n",
    "    \"\"\"\n",
    "    subtraction \n",
    "    >>> sub(5,7)\n",
    "    \"\"\"\n",
    "    return a-b"
   ]
  },
  {
   "cell_type": "code",
   "execution_count": null,
   "id": "dd7b4d06",
   "metadata": {},
   "outputs": [],
   "source": [
    "def mul(a,b):\n",
    "    \"\"\"\n",
    "    Multiplication \n",
    "    >>> mul(4,5)\n",
    "    \"\"\"\n",
    "    return a*b\n",
    "\n"
   ]
  },
  {
   "cell_type": "code",
   "execution_count": null,
   "id": "b60dd2b2",
   "metadata": {},
   "outputs": [],
   "source": [
    "def div(a,b):\n",
    "    \"\"\"\n",
    "    Division program \n",
    "    >>> div(a,b)\n",
    "    \n",
    "    \"\"\"\n",
    "    return a/b\n"
   ]
  },
  {
   "cell_type": "code",
   "execution_count": null,
   "id": "519b251a",
   "metadata": {},
   "outputs": [],
   "source": [
    "def sqrt(x):\n",
    "    \"\"\"\n",
    "    square root \n",
    "    >>> sqrt(5)\n",
    "    \"\"\"\n",
    "    return x**0.5\n"
   ]
  },
  {
   "cell_type": "code",
   "execution_count": null,
   "id": "3d1f0cb5",
   "metadata": {},
   "outputs": [],
   "source": [
    "def square(x):\n",
    "    \"\"\"\n",
    "    Square calculate\n",
    "    >>> square(x)\n",
    "    \"\"\"\n",
    "    return x*x \n",
    "\n"
   ]
  },
  {
   "cell_type": "code",
   "execution_count": null,
   "id": "e7f87366",
   "metadata": {},
   "outputs": [],
   "source": [
    "def  pow(a,x):\n",
    "    \"\"\"\n",
    "    power calculate\n",
    "    >>> pow(2,5)\n",
    "    \"\"\"\n",
    "    return a**x \n"
   ]
  },
  {
   "cell_type": "code",
   "execution_count": null,
   "id": "49ce1028",
   "metadata": {},
   "outputs": [],
   "source": [
    "\n",
    "#print table of any no \n",
    "\n",
    "def table(a):\n",
    "    \"\"\"\n",
    "    print table of any no \n",
    "    >>> table(2)\n",
    "    \"\"\"\n",
    "    for i in range(1,11):\n",
    "        n = a*i\n",
    "        print(a, \"*\",i, \"=\", n)\n"
   ]
  },
  {
   "cell_type": "code",
   "execution_count": null,
   "id": "86278991",
   "metadata": {},
   "outputs": [],
   "source": [
    "# Fibonaci\n",
    "\n",
    "def fab(n):\n",
    "    a,b = 0,1\n",
    "    while a<n:\n",
    "        print(a, end='')\n",
    "        a,b = b, a+b \n",
    "\n"
   ]
  },
  {
   "cell_type": "code",
   "execution_count": null,
   "id": "9fdba095",
   "metadata": {},
   "outputs": [],
   "source": [
    "# factorial \n",
    "def factorial(n):\n",
    "    return 1 if(n==1 or n==0) else n*factorial(n-1)"
   ]
  },
  {
   "cell_type": "code",
   "execution_count": null,
   "id": "9a7a3a34",
   "metadata": {},
   "outputs": [],
   "source": [
    "def is_prime(n):\n",
    "    if n==2:\n",
    "        return 1\n",
    "    if n<2 or n%2==0:\n",
    "        return 0\n",
    "    i=3\n",
    "    while i*i<=n:\n",
    "        if n%i==0:\n",
    "            return 0\n",
    "        i+=2\n",
    "    return 1\n"
   ]
  },
  {
   "cell_type": "code",
   "execution_count": null,
   "id": "a29b8a57",
   "metadata": {},
   "outputs": [],
   "source": [
    "def root(num, root = 2):\n",
    "    return num**(1/root)"
   ]
  },
  {
   "cell_type": "code",
   "execution_count": null,
   "id": "0c85fc5b",
   "metadata": {},
   "outputs": [],
   "source": [
    "def lerp(num1, num2, t):\n",
    "    return num1 + ((num2 -num1)*t)\n"
   ]
  },
  {
   "cell_type": "code",
   "execution_count": null,
   "id": "87ebb695",
   "metadata": {},
   "outputs": [],
   "source": [
    "def compound_interest(principal,rate,years):\n",
    "    amount=principal*(1+rate/100)**years\n",
    "    return amount "
   ]
  },
  {
   "cell_type": "code",
   "execution_count": null,
   "id": "65c16ce4",
   "metadata": {},
   "outputs": [],
   "source": [
    "from math import sqrt\n",
    "def Heron(a,b,c):\n",
    "    s=(a+b+c)/2.0\n",
    "    A=sqrt(s*(s-a)*(s-b)*(s-c))\n",
    "    return A"
   ]
  },
  {
   "cell_type": "code",
   "execution_count": null,
   "id": "a84b1840",
   "metadata": {},
   "outputs": [],
   "source": [
    "def is_triangle(a,b,c):\n",
    "    if(a+b>c and a+c>b and b+c>a):\n",
    "        return True\n",
    "    else:\n",
    "        return False"
   ]
  },
  {
   "cell_type": "code",
   "execution_count": null,
   "id": "4d612996",
   "metadata": {},
   "outputs": [],
   "source": [
    "def Triangle(a,b,c):\n",
    "    if(a+b>c and a+c>b and b+c>a):\n",
    "        if(a==b and b==c):\n",
    "            print(\"Equalteral triangle\")\n",
    "        elif (a==b or b==c or a==c):\n",
    "            print(\"Isoceles triangle\")\n",
    "        else:\n",
    "            print(\"scalene triangle\")\n",
    "    else:\n",
    "        print(\"Not a triangle\")"
   ]
  },
  {
   "cell_type": "code",
   "execution_count": null,
   "id": "285e7bc4",
   "metadata": {},
   "outputs": [],
   "source": [
    "from math import sqrt\n",
    "from cmath import sqrt as csqrt \n",
    "def solve_quad(a,b,c):\n",
    "    if(a==b):\n",
    "        if(b!=0):\n",
    "            x1= -c/b\n",
    "            print(f\"it has only one root, x1 ={x1}\")\n",
    "        else:\n",
    "            print(\"it has no root\")\n",
    "    else:\n",
    "        d=b**2-4*a*c\n",
    "        if(d>0):\n",
    "            print('Roots are real')\n",
    "            x1=(-b+sqrt(b**2-4*a*c))/(2*a)\n",
    "            x2=(-b-csqrt(b**2-4*a*c))/(2*a)\n",
    "            print(f'The roots of are {x1} and {x2}')\n"
   ]
  },
  {
   "cell_type": "code",
   "execution_count": null,
   "id": "6aed2f4e",
   "metadata": {},
   "outputs": [],
   "source": [
    "def isPrime(n):\n",
    "    if n<2:\n",
    "        return False\n",
    "    if n==2:\n",
    "        return True\n",
    "    if n%2==0:\n",
    "        return False\n",
    "    for k in range(3,int(n**0.5)+1,2):\n",
    "        if n%k ==0:\n",
    "            return False\n",
    "        return True"
   ]
  },
  {
   "cell_type": "code",
   "execution_count": null,
   "id": "ca283e88",
   "metadata": {},
   "outputs": [],
   "source": [
    "def mygcd(a,b):\n",
    "    a, b = abs(a), abs(b)\n",
    "    if(a==0):\n",
    "        if(b==0):\n",
    "            \n",
    "            gcd='gcd does not exist'\n",
    "        else:\n",
    "            gcd=b\n",
    "    else:\n",
    "        if(b==0):\n",
    "            gcd=a\n",
    "        else:\n",
    "            if(a<b):\n",
    "                a,b=b,a\n",
    "            while(a%b!=0):\n",
    "                a,b=b,a%b\n",
    "            gcd=b\n",
    "    return gcd"
   ]
  },
  {
   "cell_type": "code",
   "execution_count": null,
   "id": "58ad1ceb",
   "metadata": {},
   "outputs": [],
   "source": [
    "def Newton_raphson(f, df ,x0, max_it=20, tol=1e-5):\n",
    "    f0 = f(x0)\n",
    "    itr = 0\n",
    "    while(abs(f(x0))>=tol and itr<=max_it):\n",
    "        x1 = x0-f0/df(x0)\n",
    "        x0 = x1\n",
    "        f0 = f(x0)\n",
    "        itr +=1\n",
    "        converged = itr<max_it\n",
    "        return x0,converged, itr\n",
    "    \n",
    "    \n",
    "from math import exp\n",
    "f = lambda x: x**2-3*x+exp(-2*x)\n",
    "df = lambda x: 2*x-3-2*exp(-2*x)\n",
    "sol, converged, itr = Newton_raphson(f, df, 100, tol=1e-5)\n",
    "if converged:\n",
    "    print(f'Newtons method converged in {itr} iterrations')\n",
    "    print(f'The solution is {sol}')\n",
    "else:\n",
    "    print(f'Newtons method did not converge ')\n",
    "    "
   ]
  },
  {
   "cell_type": "code",
   "execution_count": null,
   "id": "036e0886",
   "metadata": {},
   "outputs": [],
   "source": [
    "def gcd(*integers):\n",
    "    \"\"\"Greatest Common Divisor.\"\"\"\n",
    "    if len(integers) <= 1:\n",
    "        return integers[0]\n",
    "    n, k, *others = integers\n",
    "    if k > n:\n",
    "        n, k = k, n\n",
    "    while k != 0:\n",
    "        k, n = n % k, k\n",
    "    return gcd(n, *others)"
   ]
  },
  {
   "cell_type": "code",
   "execution_count": null,
   "id": "2ce45dfe",
   "metadata": {},
   "outputs": [],
   "source": [
    "def lcm(*integers) -> int or array:\n",
    "    \"\"\"Least Common Multiple.\"\"\"\n",
    "    args_max = max(integers)\n",
    "    n = 1\n",
    "    while True:\n",
    "        for k in integers:\n",
    "            if args_max * n % k != 0:\n",
    "                n += 1\n",
    "                break\n",
    "        else:\n",
    "            return args_max * n"
   ]
  },
  {
   "cell_type": "code",
   "execution_count": null,
   "id": "99dace3e",
   "metadata": {},
   "outputs": [],
   "source": [
    "def sign(x):\n",
    "    return x / -x"
   ]
  },
  {
   "cell_type": "code",
   "execution_count": null,
   "id": "d37090d3",
   "metadata": {},
   "outputs": [],
   "source": [
    "def theta(x):\n",
    "    if 0 < x:\n",
    "        return 1\n",
    "    else:\n",
    "        return 0"
   ]
  },
  {
   "cell_type": "code",
   "execution_count": null,
   "id": "138808d4",
   "metadata": {},
   "outputs": [],
   "source": [
    "def prime(_n : int):\n",
    "    global prime_list\n",
    "    try:\n",
    "        return prime_list[_n + 1]\n",
    "    except:\n",
    "        try:\n",
    "            k = prime_list[_n] + 2\n",
    "        except:\n",
    "            k = prime(_n - 1) + 2\n",
    "        while not prime_test(k):\n",
    "            k += 2\n",
    "        prime_list += [k]\n",
    "        return k"
   ]
  },
  {
   "cell_type": "code",
   "execution_count": null,
   "id": "a1bccb13",
   "metadata": {},
   "outputs": [],
   "source": [
    "type(float('inf'))"
   ]
  },
  {
   "cell_type": "code",
   "execution_count": null,
   "id": "d0089fa4",
   "metadata": {},
   "outputs": [],
   "source": [
    "inf = type(float('inf'))"
   ]
  },
  {
   "cell_type": "code",
   "execution_count": null,
   "id": "5864ab9c",
   "metadata": {},
   "outputs": [],
   "source": [
    "math.isfinite(9)"
   ]
  },
  {
   "cell_type": "code",
   "execution_count": null,
   "id": "4edf541e",
   "metadata": {},
   "outputs": [],
   "source": [
    "def isfinite(x,/):\n",
    "    if(x == inf):\n",
    "        return False \n",
    "    else:\n",
    "        return True "
   ]
  },
  {
   "cell_type": "code",
   "execution_count": null,
   "id": "26e0d486",
   "metadata": {},
   "outputs": [],
   "source": [
    "isfinite(9)"
   ]
  },
  {
   "cell_type": "code",
   "execution_count": null,
   "id": "31e60e18",
   "metadata": {},
   "outputs": [],
   "source": []
  },
  {
   "cell_type": "code",
   "execution_count": null,
   "id": "e8ed1c7e",
   "metadata": {},
   "outputs": [],
   "source": [
    "import math\n",
    "inf == math.inf"
   ]
  },
  {
   "cell_type": "code",
   "execution_count": null,
   "id": "e24488e5",
   "metadata": {},
   "outputs": [],
   "source": [
    "type('inf')"
   ]
  },
  {
   "cell_type": "code",
   "execution_count": null,
   "id": "2ecacf11",
   "metadata": {},
   "outputs": [],
   "source": [
    "math.isinf(inf)"
   ]
  },
  {
   "cell_type": "code",
   "execution_count": null,
   "id": "a031219a",
   "metadata": {},
   "outputs": [],
   "source": [
    "math.isinf(9)"
   ]
  },
  {
   "cell_type": "code",
   "execution_count": null,
   "id": "d857193d",
   "metadata": {},
   "outputs": [],
   "source": [
    "def isinf(x,/):\n",
    "    if(x == inf):\n",
    "        return True \n",
    "    else:\n",
    "        return False"
   ]
  },
  {
   "cell_type": "code",
   "execution_count": null,
   "id": "2b069b95",
   "metadata": {
    "scrolled": true
   },
   "outputs": [],
   "source": [
    "isinf(9)"
   ]
  },
  {
   "cell_type": "code",
   "execution_count": 1,
   "id": "41b6f06e",
   "metadata": {},
   "outputs": [
    {
     "data": {
      "text/plain": [
       "float"
      ]
     },
     "execution_count": 1,
     "metadata": {},
     "output_type": "execute_result"
    }
   ],
   "source": [
    "import math \n",
    "type(math.nan)"
   ]
  },
  {
   "cell_type": "code",
   "execution_count": 3,
   "id": "a0d9054f",
   "metadata": {},
   "outputs": [],
   "source": [
    "nan = (float('nan'))"
   ]
  },
  {
   "cell_type": "code",
   "execution_count": 4,
   "id": "30bd8290",
   "metadata": {},
   "outputs": [
    {
     "data": {
      "text/plain": [
       "False"
      ]
     },
     "execution_count": 4,
     "metadata": {},
     "output_type": "execute_result"
    }
   ],
   "source": [
    "math.nan == nan# math.nan"
   ]
  },
  {
   "cell_type": "code",
   "execution_count": 21,
   "id": "0b35ec51",
   "metadata": {
    "scrolled": false
   },
   "outputs": [
    {
     "data": {
      "text/plain": [
       "True"
      ]
     },
     "execution_count": 21,
     "metadata": {},
     "output_type": "execute_result"
    }
   ],
   "source": [
    "math.isnan(nan)"
   ]
  },
  {
   "cell_type": "code",
   "execution_count": 19,
   "id": "8ff37c6d",
   "metadata": {},
   "outputs": [
    {
     "data": {
      "text/plain": [
       "False"
      ]
     },
     "execution_count": 19,
     "metadata": {},
     "output_type": "execute_result"
    }
   ],
   "source": [
    "math.isnan(124)"
   ]
  },
  {
   "cell_type": "code",
   "execution_count": 20,
   "id": "d07e68c7",
   "metadata": {},
   "outputs": [
    {
     "data": {
      "text/plain": [
       "False"
      ]
     },
     "execution_count": 20,
     "metadata": {},
     "output_type": "execute_result"
    }
   ],
   "source": [
    "nan == nan"
   ]
  },
  {
   "cell_type": "code",
   "execution_count": 29,
   "id": "4ff3479c",
   "metadata": {},
   "outputs": [],
   "source": [
    "def isnan(x,/):\n",
    "    if (x != x):\n",
    "        return True\n",
    "    else:\n",
    "        return False\n",
    "    "
   ]
  },
  {
   "cell_type": "code",
   "execution_count": 30,
   "id": "6661056a",
   "metadata": {},
   "outputs": [
    {
     "data": {
      "text/plain": [
       "False"
      ]
     },
     "execution_count": 30,
     "metadata": {},
     "output_type": "execute_result"
    }
   ],
   "source": [
    "math.nan == math.nan"
   ]
  },
  {
   "cell_type": "code",
   "execution_count": 36,
   "id": "ce98cafb",
   "metadata": {},
   "outputs": [
    {
     "data": {
      "text/plain": [
       "True"
      ]
     },
     "execution_count": 36,
     "metadata": {},
     "output_type": "execute_result"
    }
   ],
   "source": [
    "math.isnan(math.nan)"
   ]
  },
  {
   "cell_type": "code",
   "execution_count": 38,
   "id": "eaac4ecc",
   "metadata": {
    "scrolled": true
   },
   "outputs": [
    {
     "data": {
      "text/plain": [
       "False"
      ]
     },
     "execution_count": 38,
     "metadata": {},
     "output_type": "execute_result"
    }
   ],
   "source": [
    "isnan(123)"
   ]
  },
  {
   "cell_type": "code",
   "execution_count": null,
   "id": "229b91f4",
   "metadata": {},
   "outputs": [],
   "source": []
  },
  {
   "cell_type": "code",
   "execution_count": null,
   "id": "52886dcd",
   "metadata": {},
   "outputs": [],
   "source": [
    "type(nan)"
   ]
  },
  {
   "cell_type": "code",
   "execution_count": null,
   "id": "8bfd3b36",
   "metadata": {},
   "outputs": [],
   "source": [
    "import math \n",
    "type(math.nan) "
   ]
  },
  {
   "cell_type": "code",
   "execution_count": null,
   "id": "16dea392",
   "metadata": {},
   "outputs": [],
   "source": [
    "math.nan == math.nan"
   ]
  },
  {
   "cell_type": "code",
   "execution_count": null,
   "id": "e3a4c3ad",
   "metadata": {},
   "outputs": [],
   "source": [
    "type(math.nan)"
   ]
  },
  {
   "cell_type": "markdown",
   "id": "2eb5d1da",
   "metadata": {},
   "source": []
  },
  {
   "cell_type": "code",
   "execution_count": null,
   "id": "3096d752",
   "metadata": {},
   "outputs": [],
   "source": [
    "def floor(x,/):\n",
    "    \"\"\"\n",
    "    Return the floor of x as an Integral.\n",
    "\n",
    "    \"\"\"\n",
    "    x = int(x)\n",
    "    return x"
   ]
  },
  {
   "cell_type": "code",
   "execution_count": null,
   "id": "08d820d2",
   "metadata": {},
   "outputs": [],
   "source": [
    "def ceil(x,/):\n",
    "    \"\"\"\n",
    "    Return the ceiling of x as an Integral.\n",
    "    \"\"\"\n",
    "    if (int == type(x)):\n",
    "        x=x\n",
    "        return x \n",
    "    elif (float == type(x)):\n",
    "        x = int(x)\n",
    "        return (x+1)"
   ]
  },
  {
   "cell_type": "code",
   "execution_count": null,
   "id": "e86e648b",
   "metadata": {},
   "outputs": [],
   "source": [
    "def fmod(x,y,/):\n",
    "    z =float (x%y) \n",
    "    return z "
   ]
  },
  {
   "cell_type": "code",
   "execution_count": null,
   "id": "fc5aa4c2",
   "metadata": {},
   "outputs": [],
   "source": [
    "fmod(4,6)"
   ]
  },
  {
   "cell_type": "code",
   "execution_count": null,
   "id": "3d612418",
   "metadata": {},
   "outputs": [],
   "source": [
    "e=2.7182818284\n",
    "def ex(x,/):\n",
    "    x = e**x\n",
    "    return x"
   ]
  },
  {
   "cell_type": "code",
   "execution_count": null,
   "id": "6e6e25eb",
   "metadata": {},
   "outputs": [],
   "source": [
    "def remainder(x,y,/):\n",
    "    \"\"\"\n",
    "    positive is your remainder\n",
    "    negative is your need if you want to x multiple of y.\n",
    "    Difference between x and the closest integer multiple of y.\n",
    "    \"\"\"\n",
    "    r = x%y\n",
    "    c = int (-1 * (y/r))\n",
    "    print(\"(remainder, Difference closest integer multiply of y.)\")\n",
    "    return r,c"
   ]
  },
  {
   "cell_type": "code",
   "execution_count": null,
   "id": "91a3c574",
   "metadata": {},
   "outputs": [],
   "source": [
    "def radians(x,/):\n",
    "    \"\"\"Convert angle x from degrees to radians.\"\"\"\n",
    "    r= 0.017453292519943295\n",
    "    r = x*r\n",
    "    return r"
   ]
  },
  {
   "cell_type": "code",
   "execution_count": null,
   "id": "ea2cfa21",
   "metadata": {},
   "outputs": [],
   "source": [
    "def modf(x):\n",
    "    a = int(x)\n",
    "    b = (x%a)\n",
    "    x = float(a)\n",
    "    decimal_places='%.1f'\n",
    "    b = float(decimal_places %b)\n",
    "    return  b, x"
   ]
  },
  {
   "cell_type": "code",
   "execution_count": null,
   "id": "540253d2",
   "metadata": {},
   "outputs": [],
   "source": [
    "def degress(x,/):\n",
    "    \"\"\"Convert angle x from radians to degrees.\"\"\"\n",
    "    dv = 57.29577951308232\n",
    "    deg = x*dv\n",
    "    return deg"
   ]
  },
  {
   "cell_type": "code",
   "execution_count": null,
   "id": "85631b6c",
   "metadata": {},
   "outputs": [],
   "source": [
    "def expm1(x,/):\n",
    "    \"\"\"Return exp(x)-1.\"\"\"\n",
    "    x = ex(x)-1\n",
    "    return x "
   ]
  },
  {
   "cell_type": "code",
   "execution_count": null,
   "id": "d6f79abd",
   "metadata": {},
   "outputs": [],
   "source": [
    "def ldexp(x,i,/):\n",
    "    \n",
    "    x =float (x*(2**i))\n",
    "    return x "
   ]
  },
  {
   "cell_type": "code",
   "execution_count": null,
   "id": "bde75f70",
   "metadata": {},
   "outputs": [],
   "source": []
  },
  {
   "cell_type": "code",
   "execution_count": null,
   "id": "1793c1c8",
   "metadata": {},
   "outputs": [],
   "source": [
    "def erf(x : float) -> float:\n",
    "    \"\"\"Calculates the error function at a specific point\"\"\"\n",
    "    MULTIPLIER = 2 / math.sqrt(math.pi)\n",
    "    total = 0\n",
    "    for n in range(100):\n",
    "        denominator = math.factorial(n) * (2*n+1)\n",
    "        nominator = power(-1,n) * power(x,2*n+1)\n",
    "        total += nominator / denominator\n",
    "    return MULTIPLIER * total"
   ]
  },
  {
   "cell_type": "code",
   "execution_count": null,
   "id": "d6217afe",
   "metadata": {},
   "outputs": [],
   "source": [
    "def erfi(x : float) -> float:\n",
    "    \"\"\"Calculates  the imaginary error function at a specific point\"\"\"\n",
    "    MULTIPLIER = 2 / math.sqrt(math.pi)\n",
    "    total = 0\n",
    "    for n in range(100):\n",
    "        denominator = math.factorial(n) * (2*n+1)\n",
    "        nominator = power(x,2*n+1)\n",
    "        total += nominator / denominator\n",
    "    return MULTIPLIER * total"
   ]
  },
  {
   "cell_type": "code",
   "execution_count": null,
   "id": "d935165c",
   "metadata": {},
   "outputs": [],
   "source": []
  },
  {
   "cell_type": "code",
   "execution_count": null,
   "id": "8842ec1e",
   "metadata": {},
   "outputs": [],
   "source": []
  },
  {
   "cell_type": "code",
   "execution_count": null,
   "id": "0e3b6b1c",
   "metadata": {},
   "outputs": [],
   "source": []
  },
  {
   "cell_type": "code",
   "execution_count": null,
   "id": "15a5f675",
   "metadata": {},
   "outputs": [],
   "source": []
  }
 ],
 "metadata": {
  "kernelspec": {
   "display_name": "Python 3 (ipykernel)",
   "language": "python",
   "name": "python3"
  },
  "language_info": {
   "codemirror_mode": {
    "name": "ipython",
    "version": 3
   },
   "file_extension": ".py",
   "mimetype": "text/x-python",
   "name": "python",
   "nbconvert_exporter": "python",
   "pygments_lexer": "ipython3",
   "version": "3.9.12"
  }
 },
 "nbformat": 4,
 "nbformat_minor": 5
}
