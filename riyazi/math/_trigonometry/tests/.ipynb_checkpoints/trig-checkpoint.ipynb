{
 "cells": [
  {
   "cell_type": "markdown",
   "id": "96d77937",
   "metadata": {},
   "source": [
    "## Trigonometric (Real or Complex):\n",
    "            ** sin(x) \n",
    "            ** cos(x) \n",
    "            ** tan(x) \n",
    "            ** cot(x) \n",
    "            ** sec(x) \n",
    "            ** csc(x) "
   ]
  },
  {
   "cell_type": "code",
   "execution_count": 1,
   "id": "cccc52a4",
   "metadata": {},
   "outputs": [],
   "source": [
    "PI = 3.141592653589793238462643383\n",
    "\n",
    "def _sin(x,/) :\n",
    "    \"\"\"\n",
    "     Return the sine of x (measured in radian).\n",
    "    \"\"\"\n",
    "    \n",
    "    terms=9\n",
    "    # map x into the range -PI/2 to PI/2 for greatest accuracy\n",
    "    x %= 2*PI\n",
    "    if x > PI:\n",
    "        x -= 2*PI\n",
    "        if x < -PI/2:\n",
    "            x = -PI - x\n",
    "    elif x > PI/2:\n",
    "        x = PI - x\n",
    "\n",
    "    total = 0\n",
    "    denominator = 1\n",
    "    for i in range(1, 2*terms+2, 2):\n",
    "        denominator *= i\n",
    "        total += (x ** i) / denominator\n",
    "        denominator *= -(i + 1)\n",
    "    return total"
   ]
  },
  {
   "cell_type": "code",
   "execution_count": 2,
   "id": "9132202c",
   "metadata": {},
   "outputs": [],
   "source": [
    "from math import factorial, radians\n",
    "\n",
    "\n",
    "def sin(x,/, radian=False):\n",
    "    \n",
    "    if(radian == True ):\n",
    "        return _sin(x)\n",
    "    \n",
    "    \"\"\"   \n",
    "    Return the sine of x (measured in degree).\n",
    "    if radian is true then return 'radian'\n",
    "    \n",
    "    \"\"\"\n",
    "    \n",
    "    # Simplify the angle to be between 360 and -360 degrees.\n",
    "    x = x - ((x // 360.0) * 360.0)\n",
    "   \n",
    "    # Converting from degrees to radians\n",
    "    radian = radians(x)\n",
    "\n",
    "    result =radian\n",
    "    a = 3\n",
    "    b = -1\n",
    "    accuracy = 16 \n",
    "    for _ in range(accuracy):\n",
    "        result += (b * (radian**a)) / factorial(a)\n",
    "\n",
    "        b = -b  # One positive term and the next will be negative and so on...\n",
    "        a += 2  # Increased by 2 for every term.\n",
    "\n",
    "   \n",
    "    return result "
   ]
  },
  {
   "cell_type": "code",
   "execution_count": 3,
   "id": "d7310421",
   "metadata": {},
   "outputs": [
    {
     "data": {
      "text/plain": [
       "-0.27563735581699955"
      ]
     },
     "execution_count": 3,
     "metadata": {},
     "output_type": "execute_result"
    }
   ],
   "source": [
    "sin(23454556)"
   ]
  },
  {
   "cell_type": "code",
   "execution_count": null,
   "id": "1e1a75ad",
   "metadata": {},
   "outputs": [],
   "source": []
  },
  {
   "cell_type": "code",
   "execution_count": null,
   "id": "54ee7090",
   "metadata": {},
   "outputs": [],
   "source": []
  },
  {
   "cell_type": "code",
   "execution_count": null,
   "id": "f54c961c",
   "metadata": {},
   "outputs": [],
   "source": []
  },
  {
   "cell_type": "code",
   "execution_count": null,
   "id": "fb0c4e9d",
   "metadata": {},
   "outputs": [],
   "source": []
  },
  {
   "cell_type": "code",
   "execution_count": null,
   "id": "5e5c9c8a",
   "metadata": {},
   "outputs": [],
   "source": []
  },
  {
   "cell_type": "code",
   "execution_count": null,
   "id": "1f11fbd0",
   "metadata": {},
   "outputs": [],
   "source": []
  },
  {
   "cell_type": "code",
   "execution_count": null,
   "id": "8be24ca7",
   "metadata": {},
   "outputs": [],
   "source": []
  },
  {
   "cell_type": "code",
   "execution_count": null,
   "id": "6b505327",
   "metadata": {},
   "outputs": [],
   "source": []
  },
  {
   "cell_type": "code",
   "execution_count": null,
   "id": "f73a4f18",
   "metadata": {},
   "outputs": [],
   "source": []
  },
  {
   "cell_type": "markdown",
   "id": "182c8d5a",
   "metadata": {},
   "source": [
    "## Inverse Trigonometric (Real Only for accurate results):\n",
    "**asin(x) `sin`<sup>-1 </sup>**\n",
    "\n",
    "**acos(x)**\n",
    "\n",
    "**atan(x)**\n",
    "\n",
    "**acot(x)**\n",
    "\n",
    "**asec(x)**\n",
    "\n",
    "**acsc(x)**  \n",
    "\n",
    "### https://en.wikipedia.org/wiki/Inverse_trigonometric_functions\n"
   ]
  },
  {
   "cell_type": "code",
   "execution_count": 4,
   "id": "dfcf0556",
   "metadata": {},
   "outputs": [],
   "source": [
    "import math "
   ]
  },
  {
   "cell_type": "code",
   "execution_count": 5,
   "id": "8965e991",
   "metadata": {},
   "outputs": [
    {
     "data": {
      "text/plain": [
       "<function math.atan(x, /)>"
      ]
     },
     "execution_count": 5,
     "metadata": {},
     "output_type": "execute_result"
    }
   ],
   "source": [
    "math.asin\n",
    "math.acos\n",
    "math.atan"
   ]
  },
  {
   "cell_type": "code",
   "execution_count": null,
   "id": "563bdb81",
   "metadata": {
    "scrolled": true
   },
   "outputs": [],
   "source": [
    "\n"
   ]
  },
  {
   "cell_type": "code",
   "execution_count": null,
   "id": "c9a93067",
   "metadata": {
    "scrolled": true
   },
   "outputs": [],
   "source": []
  },
  {
   "cell_type": "code",
   "execution_count": null,
   "id": "7dc8fe1c",
   "metadata": {},
   "outputs": [],
   "source": []
  },
  {
   "cell_type": "code",
   "execution_count": null,
   "id": "55b55350",
   "metadata": {},
   "outputs": [],
   "source": []
  },
  {
   "cell_type": "code",
   "execution_count": null,
   "id": "4cce0854",
   "metadata": {},
   "outputs": [],
   "source": []
  },
  {
   "cell_type": "code",
   "execution_count": null,
   "id": "01173081",
   "metadata": {},
   "outputs": [],
   "source": []
  },
  {
   "cell_type": "code",
   "execution_count": 6,
   "id": "4d678626",
   "metadata": {},
   "outputs": [],
   "source": [
    "pi =3.1415926535897932384\n",
    "def asin(x):\n",
    "    \"\"\"\n",
    "    Return the arc sine (measured in radians) of x.\n",
    "\n",
    "    The result is between -pi/2 and pi/2.\n",
    "    \"\"\"\n",
    "    \n",
    "    if not (-1 <= x <= 1):\n",
    "        raise ValueError(\"Math domain error x not in (-1,1)\")\n",
    "    result = (-pi/2) <= x <= (pi/2)\n",
    "    return result "
   ]
  },
  {
   "cell_type": "code",
   "execution_count": 7,
   "id": "d3a5a0b2",
   "metadata": {},
   "outputs": [
    {
     "data": {
      "text/plain": [
       "True"
      ]
     },
     "execution_count": 7,
     "metadata": {},
     "output_type": "execute_result"
    }
   ],
   "source": [
    "asin(1)"
   ]
  },
  {
   "cell_type": "code",
   "execution_count": 8,
   "id": "e227119c",
   "metadata": {},
   "outputs": [],
   "source": [
    "def power(x,y):\n",
    "    return x**y"
   ]
  },
  {
   "cell_type": "code",
   "execution_count": 9,
   "id": "6511829a",
   "metadata": {
    "scrolled": true
   },
   "outputs": [],
   "source": [
    "# Inverse Trigonometric\n",
    "import math\n",
    "\n",
    "def asin(x):\n",
    "    iterations= 900\n",
    "   \n",
    "    \n",
    "    if not (-1 <= x <= 1):\n",
    "        raise ValueError(\"Math domain error not in [-1,1]\")\n",
    "    total = 0\n",
    "    \n",
    "    for n in range(iterations):\n",
    "        \n",
    "        nominator_0 = math.factorial(2*n)\n",
    "        \n",
    "        nominator_1 = power(x,2*n+1)\n",
    "       \n",
    "        denominator_0 = power(power(2,n)*math.factorial(n),2)\n",
    "      \n",
    "        denominator_1 = 2*n+1\n",
    "       \n",
    "        div_0 = nominator_0 / denominator_0\n",
    "        div_1 = nominator_1 / denominator_1\n",
    "        total += div_1 * div_0\n",
    "    \n",
    "    return total"
   ]
  },
  {
   "cell_type": "code",
   "execution_count": 10,
   "id": "063ab73b",
   "metadata": {},
   "outputs": [
    {
     "data": {
      "text/plain": [
       "(1.5519891373698251, -1.5519891373698251)"
      ]
     },
     "execution_count": 10,
     "metadata": {},
     "output_type": "execute_result"
    }
   ],
   "source": [
    "\n",
    "asin(1),asin(-1)"
   ]
  },
  {
   "cell_type": "code",
   "execution_count": 11,
   "id": "290f107e",
   "metadata": {},
   "outputs": [
    {
     "data": {
      "text/plain": [
       "(1.5707963267948966, -1.5707963267948966)"
      ]
     },
     "execution_count": 11,
     "metadata": {},
     "output_type": "execute_result"
    }
   ],
   "source": [
    "math.asin(1), math.asin(-1)"
   ]
  },
  {
   "cell_type": "code",
   "execution_count": null,
   "id": "31cd79d0",
   "metadata": {},
   "outputs": [],
   "source": []
  },
  {
   "cell_type": "code",
   "execution_count": 12,
   "id": "3505e364",
   "metadata": {},
   "outputs": [],
   "source": [
    "def acos(x : float,iterations : int = 100,degrees : bool = False) -> float:\n",
    "    \"\"\"\n",
    "        Inverse Trigonometric function : acos\\n\n",
    "        equivalant to the following expression : \\n\n",
    "        ** x = cos(y) => acos(x) = y **\\n\n",
    "            if deegrees is set to True it will give the result in degrees\\n\n",
    "        Domain (-1 <= x <= 1)\n",
    "    \"\"\"\n",
    "    if not (-1 <= x <= 1):\n",
    "        raise ValueError(\"Math domain error not in [-1,1]\")\n",
    "    result = (pi / 2) - math.asin(x)\n",
    "    if degrees:\n",
    "        result = toDegrees(result)\n",
    "    return result"
   ]
  },
  {
   "cell_type": "code",
   "execution_count": 13,
   "id": "24e47362",
   "metadata": {},
   "outputs": [
    {
     "data": {
      "text/plain": [
       "1.1592794807274085"
      ]
     },
     "execution_count": 13,
     "metadata": {},
     "output_type": "execute_result"
    }
   ],
   "source": [
    "acos(.4)"
   ]
  },
  {
   "cell_type": "code",
   "execution_count": 14,
   "id": "5706eb8a",
   "metadata": {},
   "outputs": [
    {
     "data": {
      "text/plain": [
       "1.1592794807274085"
      ]
     },
     "execution_count": 14,
     "metadata": {},
     "output_type": "execute_result"
    }
   ],
   "source": [
    "math.acos(.4)"
   ]
  },
  {
   "cell_type": "code",
   "execution_count": null,
   "id": "d60fea71",
   "metadata": {},
   "outputs": [],
   "source": []
  },
  {
   "cell_type": "code",
   "execution_count": null,
   "id": "a9266e34",
   "metadata": {},
   "outputs": [],
   "source": []
  },
  {
   "cell_type": "code",
   "execution_count": 15,
   "id": "aece66ff",
   "metadata": {},
   "outputs": [],
   "source": [
    "def atan(x,/):\n",
    "    \"\"\"\n",
    "    Return the arc tangent (measured in radians) of x.\n",
    "\n",
    "    The result is between -pi/2 and pi/2.\n",
    "\n",
    "    \"\"\"\n",
    "    degree:bool=False\n",
    "    formula = math.acos((1-x**2)/ (1+x**2))\n",
    "    total = 0.5*formula\n",
    "    if degree:\n",
    "        total = math.degrees(total)\n",
    "    return total"
   ]
  },
  {
   "cell_type": "code",
   "execution_count": 16,
   "id": "e44845bf",
   "metadata": {},
   "outputs": [
    {
     "data": {
      "text/plain": [
       "1.1071487177940904"
      ]
     },
     "execution_count": 16,
     "metadata": {},
     "output_type": "execute_result"
    }
   ],
   "source": [
    "atan(2)"
   ]
  },
  {
   "cell_type": "code",
   "execution_count": 17,
   "id": "fe3cb05b",
   "metadata": {},
   "outputs": [
    {
     "data": {
      "text/plain": [
       "1.1071487177940904"
      ]
     },
     "execution_count": 17,
     "metadata": {},
     "output_type": "execute_result"
    }
   ],
   "source": [
    "math.atan(2)"
   ]
  },
  {
   "cell_type": "code",
   "execution_count": 18,
   "id": "293df228",
   "metadata": {},
   "outputs": [
    {
     "data": {
      "text/plain": [
       "1.5232132235179132"
      ]
     },
     "execution_count": 18,
     "metadata": {},
     "output_type": "execute_result"
    }
   ],
   "source": [
    "math.atan(21)"
   ]
  },
  {
   "cell_type": "code",
   "execution_count": 19,
   "id": "07721d23",
   "metadata": {},
   "outputs": [
    {
     "data": {
      "text/plain": [
       "1.5232132235179132"
      ]
     },
     "execution_count": 19,
     "metadata": {},
     "output_type": "execute_result"
    }
   ],
   "source": [
    "atan(21)"
   ]
  },
  {
   "cell_type": "code",
   "execution_count": null,
   "id": "6cd9b890",
   "metadata": {},
   "outputs": [],
   "source": []
  },
  {
   "cell_type": "code",
   "execution_count": 20,
   "id": "51983369",
   "metadata": {},
   "outputs": [],
   "source": [
    "def acot(x,/):\n",
    "    degree:bool=False\n",
    "    result = (math.pi/2) - math.atan(x)\n",
    "    if degree:\n",
    "        result = math.degrees(result)\n",
    "    return result "
   ]
  },
  {
   "cell_type": "code",
   "execution_count": 21,
   "id": "b3bf4ce6",
   "metadata": {},
   "outputs": [
    {
     "data": {
      "text/plain": [
       "0.7853981633974483"
      ]
     },
     "execution_count": 21,
     "metadata": {},
     "output_type": "execute_result"
    }
   ],
   "source": [
    "acot(1)"
   ]
  },
  {
   "cell_type": "code",
   "execution_count": null,
   "id": "70a65966",
   "metadata": {},
   "outputs": [],
   "source": []
  },
  {
   "cell_type": "code",
   "execution_count": 22,
   "id": "2b4fe61a",
   "metadata": {},
   "outputs": [],
   "source": [
    "import math \n",
    "def asec(x,/):\n",
    "    degrees : bool = False\n",
    "\n",
    "    if (x <= -1) or (x >= 1):\n",
    "        res =  math.acos(1/x)\n",
    "        if degrees:\n",
    "            res = math.degrees(res)\n",
    "        return res\n",
    "    else:\n",
    "        raise ValueError(\"Math domain error not in (x <= -1 or x >= 1)\")"
   ]
  },
  {
   "cell_type": "code",
   "execution_count": 23,
   "id": "2ea7564d",
   "metadata": {},
   "outputs": [
    {
     "data": {
      "text/plain": [
       "1.0471975511965979"
      ]
     },
     "execution_count": 23,
     "metadata": {},
     "output_type": "execute_result"
    }
   ],
   "source": [
    "asec(2)"
   ]
  },
  {
   "cell_type": "code",
   "execution_count": null,
   "id": "ff89dd35",
   "metadata": {},
   "outputs": [],
   "source": []
  },
  {
   "cell_type": "code",
   "execution_count": 24,
   "id": "e5eaa8fe",
   "metadata": {},
   "outputs": [],
   "source": [
    "def acsc(x : float,iterations : int = 100,degrees : bool = False):\n",
    "    \"\"\"\n",
    "        Inverse Trigonometric function : acosecant\\n\n",
    "        equivalant to the following expression : \\n\n",
    "        ** x = csc(y) => acsc(x) = y **\\n\n",
    "        if deegrees is set to True it will give the result in degrees\\n\n",
    "        Domain : (x <= -1 or x >= 1)\n",
    "    \"\"\"\n",
    "    if (x <= -1) or (x >= 1):\n",
    "        result = ( math.pi / 2 ) - asec(x)\n",
    "        if degrees:\n",
    "            result = math.degrees(result)\n",
    "        return result\n",
    "    else:\n",
    "        raise ValueError(\"Math domain error not in (x <= -1 or x >= 1)\")\n"
   ]
  },
  {
   "cell_type": "code",
   "execution_count": 25,
   "id": "0166beef",
   "metadata": {},
   "outputs": [
    {
     "data": {
      "text/plain": [
       "1.5707963267948966"
      ]
     },
     "execution_count": 25,
     "metadata": {},
     "output_type": "execute_result"
    }
   ],
   "source": [
    "acsc(1)"
   ]
  },
  {
   "cell_type": "code",
   "execution_count": null,
   "id": "1dea6a79",
   "metadata": {},
   "outputs": [],
   "source": []
  },
  {
   "cell_type": "code",
   "execution_count": null,
   "id": "1f7d4d1e",
   "metadata": {},
   "outputs": [],
   "source": []
  },
  {
   "cell_type": "code",
   "execution_count": null,
   "id": "3377b7a7",
   "metadata": {},
   "outputs": [],
   "source": []
  },
  {
   "cell_type": "code",
   "execution_count": null,
   "id": "6b5babd0",
   "metadata": {},
   "outputs": [],
   "source": []
  },
  {
   "cell_type": "code",
   "execution_count": null,
   "id": "b5cf0fc6",
   "metadata": {},
   "outputs": [],
   "source": []
  },
  {
   "cell_type": "markdown",
   "id": "119e0d05",
   "metadata": {},
   "source": [
    "##  Conversions:\n",
    "            - radians\n",
    "            - degrees"
   ]
  },
  {
   "cell_type": "code",
   "execution_count": 26,
   "id": "11d91c2f",
   "metadata": {},
   "outputs": [],
   "source": [
    "pi =3.141592653589793\n",
    "def radians(x,/):\n",
    "    \"\"\"Convert angle x from degrees to radians.\"\"\"\n",
    "    return (pi/180)*x"
   ]
  },
  {
   "cell_type": "code",
   "execution_count": 27,
   "id": "cf2a4703",
   "metadata": {},
   "outputs": [],
   "source": [
    "def degrees(x,/):\n",
    "    \"\"\"Convert angle x from radians to degrees.\"\"\"\n",
    "    return (180 / pi) * x"
   ]
  },
  {
   "cell_type": "markdown",
   "id": "7617772c",
   "metadata": {},
   "source": [
    "##  Hyperbolic Trigonometric (Real and Imaginary):\n",
    "            ** sinh(x)\n",
    "            ** cosh(x)\n",
    "            ** tanh(x)\n",
    "            ** coth(x)\n",
    "            ** csch(x)\n",
    "            ** sech(x)\n",
    "            \n",
    "            \n",
    "            \n",
    "### https://en.wikipedia.org/wiki/Hyperbolic_functions           \n",
    "\n",
    " - hyperbolic sine: :class:`sinh() <Function_sinh>`\n",
    " - hyperbolic cosine: :class:`cosh() <Function_cosh>`\n",
    " - hyperbolic tangent: :class:`tanh() <Function_tanh>`\n",
    " - hyperbolic cotangent: :class:`coth() <Function_coth>`\n",
    " - hyperbolic secant: :class:`sech() <Function_sech>`\n",
    " - hyperbolic cosecant: :class:`csch() <Function_csch>`"
   ]
  },
  {
   "cell_type": "code",
   "execution_count": 28,
   "id": "1a09c86c",
   "metadata": {},
   "outputs": [],
   "source": [
    "e=2.7182818284\n",
    "def sinh(x,/):\n",
    "    \"\"\"Return the hyperbolic sine of x.\"\"\"\n",
    "    x = (e**x - e**(-x))/2\n",
    "    return x "
   ]
  },
  {
   "cell_type": "code",
   "execution_count": 29,
   "id": "300b85cf",
   "metadata": {},
   "outputs": [
    {
     "data": {
      "text/plain": [
       "3.6268604076835773"
      ]
     },
     "execution_count": 29,
     "metadata": {},
     "output_type": "execute_result"
    }
   ],
   "source": [
    "sinh(2)"
   ]
  },
  {
   "cell_type": "code",
   "execution_count": 30,
   "id": "db7646d2",
   "metadata": {},
   "outputs": [],
   "source": [
    "e=2.7182818284\n",
    "def cosh(x,/):\n",
    "    \"\"\"Return the hyperbolic sine of x.\"\"\"\n",
    "    x = (e**x + e**(-x))/2\n",
    "    return x "
   ]
  },
  {
   "cell_type": "code",
   "execution_count": 31,
   "id": "65013e51",
   "metadata": {},
   "outputs": [
    {
     "data": {
      "text/plain": [
       "3.7621956909260694"
      ]
     },
     "execution_count": 31,
     "metadata": {},
     "output_type": "execute_result"
    }
   ],
   "source": [
    "cosh(2)"
   ]
  },
  {
   "cell_type": "code",
   "execution_count": 32,
   "id": "3a2cebd3",
   "metadata": {},
   "outputs": [],
   "source": [
    "def tanh(x,/):\n",
    "    x = (e**x - e**(-x)) / (e**x + e**(-x))\n",
    "    return x "
   ]
  },
  {
   "cell_type": "code",
   "execution_count": 33,
   "id": "a371c9bb",
   "metadata": {},
   "outputs": [
    {
     "data": {
      "text/plain": [
       "0.9993292997389505"
      ]
     },
     "execution_count": 33,
     "metadata": {},
     "output_type": "execute_result"
    }
   ],
   "source": [
    "tanh(4)"
   ]
  },
  {
   "cell_type": "code",
   "execution_count": 34,
   "id": "5d02db5b",
   "metadata": {},
   "outputs": [],
   "source": [
    "def coth(x,/):\n",
    "    x = (e**x + e**(-x)) / (e**x - e**(-x))\n",
    "    return x"
   ]
  },
  {
   "cell_type": "code",
   "execution_count": 35,
   "id": "8709299f",
   "metadata": {},
   "outputs": [
    {
     "data": {
      "text/plain": [
       "1.0049698233143387"
      ]
     },
     "execution_count": 35,
     "metadata": {},
     "output_type": "execute_result"
    }
   ],
   "source": [
    "coth(3)"
   ]
  },
  {
   "cell_type": "code",
   "execution_count": 36,
   "id": "0221d3a3",
   "metadata": {},
   "outputs": [],
   "source": [
    "def sech(x,/):\n",
    "    x = 2/ (e**x + e**(-x)) # 1/ ((e**x + e**(-x))/2)\n",
    "    return x"
   ]
  },
  {
   "cell_type": "code",
   "execution_count": 37,
   "id": "98d4ae03",
   "metadata": {},
   "outputs": [
    {
     "data": {
      "text/plain": [
       "0.0002468196044625533"
      ]
     },
     "execution_count": 37,
     "metadata": {},
     "output_type": "execute_result"
    }
   ],
   "source": [
    "sech(9)"
   ]
  },
  {
   "cell_type": "code",
   "execution_count": 38,
   "id": "23e592f3",
   "metadata": {},
   "outputs": [],
   "source": [
    "def csch(x,/):\n",
    "    if ( x != 0):\n",
    "        \n",
    "        x = 1 / ((e**x - e**(-x))/2)\n",
    "        return x \n",
    "    else:\n",
    "        print(\"Domain error\")"
   ]
  },
  {
   "cell_type": "code",
   "execution_count": 39,
   "id": "ae59dc90",
   "metadata": {},
   "outputs": [
    {
     "data": {
      "text/plain": [
       "0.09982156967535992"
      ]
     },
     "execution_count": 39,
     "metadata": {},
     "output_type": "execute_result"
    }
   ],
   "source": [
    "csch(3)"
   ]
  },
  {
   "cell_type": "code",
   "execution_count": null,
   "id": "8c4f276a",
   "metadata": {},
   "outputs": [],
   "source": []
  },
  {
   "cell_type": "code",
   "execution_count": null,
   "id": "6cd2c226",
   "metadata": {},
   "outputs": [],
   "source": []
  },
  {
   "cell_type": "markdown",
   "id": "928098c6",
   "metadata": {},
   "source": [
    "##  Inverse Hyperbolic (Real only for accurate results):\n",
    "            ** arsinh(x)\n",
    "            ** aosh(x)\n",
    "            ** artanh(x)\n",
    "            ** aoth(x)\n",
    "            ** asch(x)\n",
    "            ** arsech(x)\n",
    "### https://en.wikipedia.org/wiki/Inverse_hyperbolic_functions            \n",
    "- inverse hyperbolic sine: :class:`asinh() <Function_arcsinh>`\n",
    "\n",
    "- inverse hyperbolic cosine: :class:`acosh() <Function_arccosh>`\n",
    "\n",
    "- inverse hyperbolic tangent: :class:`atanh() <Function_arctanh>`\n",
    "\n",
    "- inverse hyperbolic cotangent: :class:`acoth() <Function_arccoth>`\n",
    "\n",
    "- inverse hyperbolic secant: :class:`asech() <Function_arcsech>`\n",
    "\n",
    "- inverse hyperbolic cosecant: :class:`acsch() <Function_arccsch>`\n"
   ]
  },
  {
   "cell_type": "code",
   "execution_count": 40,
   "id": "7ac5b097",
   "metadata": {},
   "outputs": [],
   "source": [
    "import math\n",
    "def arsinh(x,/):\n",
    "    x = math.log(x + (x**2+1)**0.5)\n",
    "    return x "
   ]
  },
  {
   "cell_type": "code",
   "execution_count": 41,
   "id": "93b7452a",
   "metadata": {},
   "outputs": [
    {
     "data": {
      "text/plain": [
       "0.8813735870195429"
      ]
     },
     "execution_count": 41,
     "metadata": {},
     "output_type": "execute_result"
    }
   ],
   "source": [
    "arsinh(1)"
   ]
  },
  {
   "cell_type": "code",
   "execution_count": 42,
   "id": "94560b92",
   "metadata": {},
   "outputs": [],
   "source": [
    "import math\n",
    "def arcosh(x,/):\n",
    "    x = math.log(x + (x**2-1)**0.5)\n",
    "    return x "
   ]
  },
  {
   "cell_type": "code",
   "execution_count": 43,
   "id": "74449d95",
   "metadata": {},
   "outputs": [
    {
     "data": {
      "text/plain": [
       "0.0"
      ]
     },
     "execution_count": 43,
     "metadata": {},
     "output_type": "execute_result"
    }
   ],
   "source": [
    "arcosh(1)"
   ]
  },
  {
   "cell_type": "code",
   "execution_count": 44,
   "id": "3c48388d",
   "metadata": {},
   "outputs": [],
   "source": [
    "import math \n",
    "def artanh(x,/):\n",
    "    x = 0.5 * math.log((1+x) / (1-x))\n",
    "    return x "
   ]
  },
  {
   "cell_type": "code",
   "execution_count": 45,
   "id": "51173747",
   "metadata": {},
   "outputs": [
    {
     "data": {
      "text/plain": [
       "0.42364893019360184"
      ]
     },
     "execution_count": 45,
     "metadata": {},
     "output_type": "execute_result"
    }
   ],
   "source": [
    "artanh(0.4)"
   ]
  },
  {
   "cell_type": "code",
   "execution_count": 46,
   "id": "aa2c07bf",
   "metadata": {
    "scrolled": true
   },
   "outputs": [
    {
     "data": {
      "text/plain": [
       "0.42364893019360184"
      ]
     },
     "execution_count": 46,
     "metadata": {},
     "output_type": "execute_result"
    }
   ],
   "source": [
    "math.atanh(0.4)"
   ]
  },
  {
   "cell_type": "code",
   "execution_count": 47,
   "id": "b1700055",
   "metadata": {},
   "outputs": [],
   "source": [
    "# https://www.123calculus.com/en/hyperbolic-inverse-functions-page-1-12-180.html\n",
    "\n",
    "def arcoth(x,/):\n",
    "    x = (1/2)* math.log((x+1) / (x-1))\n",
    "    return x "
   ]
  },
  {
   "cell_type": "code",
   "execution_count": 48,
   "id": "d4ab771c",
   "metadata": {},
   "outputs": [
    {
     "data": {
      "text/plain": [
       "1.1989476363991853"
      ]
     },
     "execution_count": 48,
     "metadata": {},
     "output_type": "execute_result"
    }
   ],
   "source": [
    "arcoth(1.2)"
   ]
  },
  {
   "cell_type": "code",
   "execution_count": 49,
   "id": "037805ab",
   "metadata": {},
   "outputs": [],
   "source": [
    "def arsech(x,/):\n",
    "    x = math.log((1+(1-x**2)**0.5) /x)\n",
    "    return x "
   ]
  },
  {
   "cell_type": "code",
   "execution_count": 50,
   "id": "f1f897e4",
   "metadata": {},
   "outputs": [
    {
     "data": {
      "text/plain": [
       "1.5667992369724109"
      ]
     },
     "execution_count": 50,
     "metadata": {},
     "output_type": "execute_result"
    }
   ],
   "source": [
    "arsech(0.4)"
   ]
  },
  {
   "cell_type": "code",
   "execution_count": 51,
   "id": "825be342",
   "metadata": {},
   "outputs": [],
   "source": [
    "def arcsch(x,/):\n",
    "    x = math.log((1/x)+ ((1/x**2)+1)**0.5)\n",
    "    return x "
   ]
  },
  {
   "cell_type": "code",
   "execution_count": 52,
   "id": "a07b0ee7",
   "metadata": {},
   "outputs": [
    {
     "data": {
      "text/plain": [
       "2.3124383412727525"
      ]
     },
     "execution_count": 52,
     "metadata": {},
     "output_type": "execute_result"
    }
   ],
   "source": [
    "arcsch(.2)"
   ]
  },
  {
   "cell_type": "code",
   "execution_count": null,
   "id": "cf2a4bef",
   "metadata": {},
   "outputs": [],
   "source": []
  },
  {
   "cell_type": "code",
   "execution_count": null,
   "id": "37d7ddec",
   "metadata": {},
   "outputs": [],
   "source": []
  }
 ],
 "metadata": {
  "kernelspec": {
   "display_name": "Python 3 (ipykernel)",
   "language": "python",
   "name": "python3"
  },
  "language_info": {
   "codemirror_mode": {
    "name": "ipython",
    "version": 3
   },
   "file_extension": ".py",
   "mimetype": "text/x-python",
   "name": "python",
   "nbconvert_exporter": "python",
   "pygments_lexer": "ipython3",
   "version": "3.9.12"
  }
 },
 "nbformat": 4,
 "nbformat_minor": 5
}
