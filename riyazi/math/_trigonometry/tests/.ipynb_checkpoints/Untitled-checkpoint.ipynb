{
 "cells": [
  {
   "cell_type": "code",
   "execution_count": 1,
   "id": "7199ac90",
   "metadata": {},
   "outputs": [],
   "source": [
    "import math\n",
    "def asec(x):\n",
    "    if x == 0:\n",
    "        return 1j * math.inf\n",
    "    else:\n",
    "        return math.acos(1 / x)"
   ]
  },
  {
   "cell_type": "code",
   "execution_count": 2,
   "id": "eb4b6765",
   "metadata": {},
   "outputs": [],
   "source": [
    "def asec_taylor(x, pi=3.14159265):\n",
    "    if x == 0:\n",
    "        return 1j * float('inf')\n",
    "    else:\n",
    "        return pi / 2 - 1 / x - 1 / (6 * x ** 3) - 3 / (40 * x ** 5)"
   ]
  },
  {
   "cell_type": "code",
   "execution_count": 5,
   "id": "cf2c19a4",
   "metadata": {},
   "outputs": [
    {
     "data": {
      "text/plain": [
       "0.0"
      ]
     },
     "execution_count": 5,
     "metadata": {},
     "output_type": "execute_result"
    }
   ],
   "source": [
    "asec(1)"
   ]
  },
  {
   "cell_type": "markdown",
   "id": "0dd87d7e",
   "metadata": {},
   "source": [
    "https://copyprogramming.com/guide/python-inverse-trigonometry-particularly-arcsin"
   ]
  },
  {
   "cell_type": "code",
   "execution_count": 6,
   "id": "d85c2d26",
   "metadata": {},
   "outputs": [],
   "source": [
    "import math"
   ]
  },
  {
   "cell_type": "code",
   "execution_count": 17,
   "id": "dd1f7dec",
   "metadata": {},
   "outputs": [],
   "source": []
  },
  {
   "cell_type": "code",
   "execution_count": 18,
   "id": "f5bf0601",
   "metadata": {
    "scrolled": true
   },
   "outputs": [
    {
     "data": {
      "text/plain": [
       "0j"
      ]
     },
     "execution_count": 18,
     "metadata": {},
     "output_type": "execute_result"
    }
   ],
   "source": [
    "arcsin(1)"
   ]
  },
  {
   "cell_type": "code",
   "execution_count": null,
   "id": "5beea0a3",
   "metadata": {},
   "outputs": [],
   "source": []
  }
 ],
 "metadata": {
  "kernelspec": {
   "display_name": "Python 3 (ipykernel)",
   "language": "python",
   "name": "python3"
  },
  "language_info": {
   "codemirror_mode": {
    "name": "ipython",
    "version": 3
   },
   "file_extension": ".py",
   "mimetype": "text/x-python",
   "name": "python",
   "nbconvert_exporter": "python",
   "pygments_lexer": "ipython3",
   "version": "3.9.12"
  }
 },
 "nbformat": 4,
 "nbformat_minor": 5
}
