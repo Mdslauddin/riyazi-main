{
 "cells": [
  {
   "cell_type": "markdown",
   "id": "a624a75d",
   "metadata": {},
   "source": [
    "# `Acgumen`\n",
    "\n",
    "# `Conjugate`\n",
    "\n",
    "# ` Real part`\n",
    "\n",
    "# `Imaginary part`\n",
    "\n",
    "# `->r<8`\n",
    "\n",
    "# `->a+bi`\n"
   ]
  },
  {
   "cell_type": "code",
   "execution_count": null,
   "id": "9c41ac85",
   "metadata": {
    "scrolled": false
   },
   "outputs": [],
   "source": []
  },
  {
   "cell_type": "code",
   "execution_count": null,
   "id": "27c10b59",
   "metadata": {},
   "outputs": [],
   "source": []
  }
 ],
 "metadata": {
  "kernelspec": {
   "display_name": "Python 3 (ipykernel)",
   "language": "python",
   "name": "python3"
  },
  "language_info": {
   "codemirror_mode": {
    "name": "ipython",
    "version": 3
   },
   "file_extension": ".py",
   "mimetype": "text/x-python",
   "name": "python",
   "nbconvert_exporter": "python",
   "pygments_lexer": "ipython3",
   "version": "3.9.12"
  }
 },
 "nbformat": 4,
 "nbformat_minor": 5
}
