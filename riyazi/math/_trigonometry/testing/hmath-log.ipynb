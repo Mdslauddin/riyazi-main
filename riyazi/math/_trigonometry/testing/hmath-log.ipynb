{
 "cells": [
  {
   "cell_type": "code",
   "execution_count": null,
   "id": "d145d10c",
   "metadata": {},
   "outputs": [],
   "source": [
    "def ln(x : int or float or complex or dimension or fract or array or list) -> int or float or complex or dimension or fract or array or list:\n",
    "    ans = x - 1\n",
    "    ans_Pi = 1\n",
    "    for n in range(1, 200):\n",
    "        ans_Pi *= 2 / (1 + radical(2 ** n , x))\n",
    "    return ans * ans_Pi"
   ]
  },
  {
   "cell_type": "code",
   "execution_count": null,
   "id": "ce8e6346",
   "metadata": {},
   "outputs": [],
   "source": [
    "def log10(x : int or float or complex or dimension or fract or array or list) -> int or float or complex or dimension or fract or array or list:\n",
    "    return log(10, x)"
   ]
  },
  {
   "cell_type": "code",
   "execution_count": null,
   "id": "6dcd1066",
   "metadata": {},
   "outputs": [],
   "source": [
    "def log2(x : int or float or complex or dimension or fract or array or list) -> int or float or complex or dimension or fract or array or list:\n",
    "    return log(2, x)"
   ]
  },
  {
   "cell_type": "code",
   "execution_count": null,
   "id": "988596bc",
   "metadata": {},
   "outputs": [],
   "source": [
    "def log(x : int or float or complex or dimension or fract or array or list,\n",
    "        y : int or float or complex or dimension or fract or array or list)\\\n",
    "         -> int or float or complex or dimension or fract or array or list:\n",
    "    return div(ln(y) , ln(x))"
   ]
  },
  {
   "cell_type": "code",
   "execution_count": null,
   "id": "9fd9f48f",
   "metadata": {},
   "outputs": [],
   "source": [
    "def radical(x : int or float or complex or dimension or fract or array or list, \n",
    "            y : int or float or complex or dimension or fract or array or list)\\\n",
    "             -> int or float or complex or dimension or fract or array or list:\n",
    "    if type(y) == int and type(x) == int:\n",
    "        if y < 0 and x % 2 == 1:\n",
    "            return -(abs(y) ** (1 / x))\n",
    "    return y ** (1 / x)"
   ]
  },
  {
   "cell_type": "code",
   "execution_count": null,
   "id": "e503c911",
   "metadata": {},
   "outputs": [],
   "source": []
  },
  {
   "cell_type": "code",
   "execution_count": null,
   "id": "c0352736",
   "metadata": {},
   "outputs": [],
   "source": []
  },
  {
   "cell_type": "code",
   "execution_count": null,
   "id": "3e207123",
   "metadata": {},
   "outputs": [],
   "source": []
  },
  {
   "cell_type": "code",
   "execution_count": null,
   "id": "ab357ba6",
   "metadata": {},
   "outputs": [],
   "source": []
  },
  {
   "cell_type": "code",
   "execution_count": null,
   "id": "34e989c2",
   "metadata": {},
   "outputs": [],
   "source": []
  },
  {
   "cell_type": "code",
   "execution_count": null,
   "id": "0a0812ce",
   "metadata": {},
   "outputs": [],
   "source": [
    "def radical(x,y):\n",
    "    if type(y) == int and type(x) == int:\n",
    "        if y < 0 and x % 2 == 1:\n",
    "            return -(abs(y) ** (1 / x))\n",
    "    return y ** (1 / x)"
   ]
  },
  {
   "cell_type": "code",
   "execution_count": null,
   "id": "0eb951da",
   "metadata": {},
   "outputs": [],
   "source": [
    "def ln(x):\n",
    "    ans = x - 1\n",
    "    ans_Pi = 1\n",
    "    for n in range(1, 2000):\n",
    "        ans_Pi *= 2 / (1 + radical(2 ** n , x))\n",
    "    return ans * ans_Pi"
   ]
  },
  {
   "cell_type": "code",
   "execution_count": null,
   "id": "0807ebb0",
   "metadata": {},
   "outputs": [],
   "source": [
    "ln(2**310)"
   ]
  },
  {
   "cell_type": "code",
   "execution_count": null,
   "id": "30adf181",
   "metadata": {},
   "outputs": [],
   "source": [
    "1.0 / (2**310)"
   ]
  },
  {
   "cell_type": "code",
   "execution_count": null,
   "id": "fdd41914",
   "metadata": {},
   "outputs": [],
   "source": [
    "import math "
   ]
  },
  {
   "cell_type": "code",
   "execution_count": null,
   "id": "d6752451",
   "metadata": {},
   "outputs": [],
   "source": []
  },
  {
   "cell_type": "code",
   "execution_count": null,
   "id": "f855f49f",
   "metadata": {},
   "outputs": [],
   "source": [
    "%%time\n",
    "math.log(2**310)"
   ]
  },
  {
   "cell_type": "code",
   "execution_count": null,
   "id": "20ce4b50",
   "metadata": {},
   "outputs": [],
   "source": [
    "def log10(x):\n",
    "    \n",
    "    \n",
    "    return (ln(x) / ln(10))"
   ]
  },
  {
   "cell_type": "code",
   "execution_count": null,
   "id": "1d2a11b0",
   "metadata": {},
   "outputs": [],
   "source": [
    "log10(20)"
   ]
  },
  {
   "cell_type": "code",
   "execution_count": null,
   "id": "778e68e5",
   "metadata": {
    "scrolled": true
   },
   "outputs": [],
   "source": [
    "math.log10(20)"
   ]
  },
  {
   "cell_type": "code",
   "execution_count": null,
   "id": "162878ac",
   "metadata": {},
   "outputs": [],
   "source": [
    "def log10(x):\n",
    "    return log(10, x)"
   ]
  },
  {
   "cell_type": "code",
   "execution_count": null,
   "id": "b4ca65ba",
   "metadata": {},
   "outputs": [],
   "source": [
    "\n"
   ]
  },
  {
   "cell_type": "code",
   "execution_count": null,
   "id": "63509fe8",
   "metadata": {},
   "outputs": [],
   "source": [
    "def log2(x) :\n",
    "    return ln(x)/ln(2)"
   ]
  },
  {
   "cell_type": "code",
   "execution_count": null,
   "id": "5307ff9f",
   "metadata": {},
   "outputs": [],
   "source": [
    "log2(3345)"
   ]
  },
  {
   "cell_type": "code",
   "execution_count": null,
   "id": "60081dfc",
   "metadata": {},
   "outputs": [],
   "source": [
    "import math \n",
    "math.log2(3345)"
   ]
  },
  {
   "cell_type": "markdown",
   "id": "9bb3e228",
   "metadata": {},
   "source": [
    "# Outline "
   ]
  },
  {
   "cell_type": "code",
   "execution_count": 1,
   "id": "009b2189",
   "metadata": {},
   "outputs": [],
   "source": [
    "def radical(x,y):\n",
    "    if type(y) == int and type(x) == int:\n",
    "        if y < 0 and x % 2 == 1:\n",
    "            return -(abs(y) ** (1 / x))\n",
    "    return y ** (1 / x)"
   ]
  },
  {
   "cell_type": "code",
   "execution_count": 2,
   "id": "2d022dbb",
   "metadata": {},
   "outputs": [],
   "source": [
    "def ln(x):\n",
    "    ans = x - 1\n",
    "    ans_Pi = 1\n",
    "    for n in range(1, 2000):\n",
    "        ans_Pi *= 2 / (1 + radical(2 ** n , x))\n",
    "    return ans * ans_Pi"
   ]
  },
  {
   "cell_type": "code",
   "execution_count": 3,
   "id": "8ab5397c",
   "metadata": {},
   "outputs": [],
   "source": [
    "def log10(x):\n",
    "    return (ln(x) / ln(10))"
   ]
  },
  {
   "cell_type": "code",
   "execution_count": 4,
   "id": "011af431",
   "metadata": {},
   "outputs": [],
   "source": [
    "def log2(x) :\n",
    "    return (ln(x)/ln(2))"
   ]
  },
  {
   "cell_type": "code",
   "execution_count": 15,
   "id": "2f0e7a3b",
   "metadata": {},
   "outputs": [],
   "source": [
    "def log1p(x):\n",
    "    x = x+1\n",
    "    return ln(x)"
   ]
  },
  {
   "cell_type": "code",
   "execution_count": 6,
   "id": "76d3baa4",
   "metadata": {},
   "outputs": [],
   "source": [
    "import math "
   ]
  },
  {
   "cell_type": "code",
   "execution_count": 7,
   "id": "50236464",
   "metadata": {},
   "outputs": [
    {
     "data": {
      "text/plain": [
       "6.906754778648554"
      ]
     },
     "execution_count": 7,
     "metadata": {},
     "output_type": "execute_result"
    }
   ],
   "source": [
    "math.log(999)"
   ]
  },
  {
   "cell_type": "code",
   "execution_count": 8,
   "id": "4244c0e4",
   "metadata": {},
   "outputs": [
    {
     "data": {
      "text/plain": [
       "6.9067547786485575"
      ]
     },
     "execution_count": 8,
     "metadata": {},
     "output_type": "execute_result"
    }
   ],
   "source": [
    "ln(999)"
   ]
  },
  {
   "cell_type": "code",
   "execution_count": 9,
   "id": "c189c57a",
   "metadata": {},
   "outputs": [
    {
     "data": {
      "text/plain": [
       "2.9995654882259823"
      ]
     },
     "execution_count": 9,
     "metadata": {},
     "output_type": "execute_result"
    }
   ],
   "source": [
    "math.log10(999)"
   ]
  },
  {
   "cell_type": "code",
   "execution_count": 10,
   "id": "5ac1ca13",
   "metadata": {},
   "outputs": [
    {
     "data": {
      "text/plain": [
       "2.9995654882259832"
      ]
     },
     "execution_count": 10,
     "metadata": {},
     "output_type": "execute_result"
    }
   ],
   "source": [
    "log10(999)"
   ]
  },
  {
   "cell_type": "code",
   "execution_count": 11,
   "id": "0ab78f2b",
   "metadata": {},
   "outputs": [
    {
     "data": {
      "text/plain": [
       "9.96434086779242"
      ]
     },
     "execution_count": 11,
     "metadata": {},
     "output_type": "execute_result"
    }
   ],
   "source": [
    "math.log2(999)"
   ]
  },
  {
   "cell_type": "code",
   "execution_count": 12,
   "id": "57c7f242",
   "metadata": {},
   "outputs": [
    {
     "data": {
      "text/plain": [
       "9.96434086779242"
      ]
     },
     "execution_count": 12,
     "metadata": {},
     "output_type": "execute_result"
    }
   ],
   "source": [
    "log2(999)"
   ]
  },
  {
   "cell_type": "code",
   "execution_count": 13,
   "id": "b6e1598a",
   "metadata": {},
   "outputs": [
    {
     "data": {
      "text/plain": [
       "6.907755278982137"
      ]
     },
     "execution_count": 13,
     "metadata": {},
     "output_type": "execute_result"
    }
   ],
   "source": [
    "math.log1p(999)"
   ]
  },
  {
   "cell_type": "code",
   "execution_count": 16,
   "id": "c69428a5",
   "metadata": {},
   "outputs": [
    {
     "data": {
      "text/plain": [
       "6.907755278982135"
      ]
     },
     "execution_count": 16,
     "metadata": {},
     "output_type": "execute_result"
    }
   ],
   "source": [
    "log1p(999)"
   ]
  },
  {
   "cell_type": "code",
   "execution_count": null,
   "id": "e3fca9b1",
   "metadata": {},
   "outputs": [],
   "source": []
  }
 ],
 "metadata": {
  "kernelspec": {
   "display_name": "Python 3 (ipykernel)",
   "language": "python",
   "name": "python3"
  },
  "language_info": {
   "codemirror_mode": {
    "name": "ipython",
    "version": 3
   },
   "file_extension": ".py",
   "mimetype": "text/x-python",
   "name": "python",
   "nbconvert_exporter": "python",
   "pygments_lexer": "ipython3",
   "version": "3.9.12"
  }
 },
 "nbformat": 4,
 "nbformat_minor": 5
}
