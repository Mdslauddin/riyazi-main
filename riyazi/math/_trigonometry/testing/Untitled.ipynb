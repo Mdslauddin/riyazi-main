{
 "cells": [
  {
   "cell_type": "raw",
   "id": "ff35e10a",
   "metadata": {},
   "source": [
    "Here is a detailed list of what is here:\n",
    "        - Conversions:\n",
    "            Degrees TO Rad\n",
    "            Rad TO Degrees\n",
    "        - Trigonometric (Real or Complex):\n",
    "            ** sin(x) \n",
    "            ** cos(x) \n",
    "            ** tan(x) \n",
    "            ** cot(x) \n",
    "            ** sec(x) \n",
    "            ** csc(x) \n",
    "        - Inverse Trigonometric (Real Only for accurate results):\n",
    "            ** asin(x)\n",
    "            ** acos(x)\n",
    "            ** atan(x)\n",
    "            ** acot(x)\n",
    "            ** asec(x) \n",
    "            ** acsc(x)  \n",
    "        -- Hyperbolic Trigonometric (Real and Imaginary):\n",
    "            ** sinh(x)\n",
    "            ** cosh(x)\n",
    "            ** tanh(x)\n",
    "            ** coth(x)\n",
    "            ** csch(x)\n",
    "            ** sech(x)\n",
    "        - Inverse Hyperbolic (Real only for accurate results):\n",
    "            ** arsinh(x)\n",
    "            ** aosh(x)\n",
    "            ** artanh(x)\n",
    "            ** aoth(x)\n",
    "            ** asch(x)\n",
    "            ** arsech(x)"
   ]
  },
  {
   "cell_type": "code",
   "execution_count": 1,
   "id": "775459c5",
   "metadata": {},
   "outputs": [],
   "source": [
    "from typing import Union "
   ]
  },
  {
   "cell_type": "code",
   "execution_count": 2,
   "id": "5d133efe",
   "metadata": {},
   "outputs": [],
   "source": [
    "# Conversions\n",
    "def toRad(degrees):\n",
    "    \"\"\"Degrees to rad\"\"\"\n",
    "    return (pi/180)*degrees"
   ]
  },
  {
   "cell_type": "code",
   "execution_count": 3,
   "id": "c7975325",
   "metadata": {},
   "outputs": [],
   "source": [
    "def toDegrees(rad):\n",
    "    \"\"\"Rad to degrees\"\"\"\n",
    "    return (180 / pi) * rad"
   ]
  },
  {
   "cell_type": "code",
   "execution_count": 4,
   "id": "23f75860",
   "metadata": {},
   "outputs": [],
   "source": [
    "#For handling angles greater than 360 deg and rad360 radians (this allows to reduce iterations to 13 for trig functions)\n",
    "def reduceAngle(trig_function):\n",
    "    \"\"\"Given a value that is more than 360 it finds it's coressponding angle in range (0,360)\"\"\"\n",
    "    def validator(*args,**kwargs):\n",
    "        if not type(args[0]) == complex:\n",
    "            rads = not kwargs.get('degrees') if kwargs.get('degrees') is not None else True\n",
    "            iterations = kwargs.get('iterations')\n",
    "            angle = args[0]\n",
    "            if rads:\n",
    "                if abs(angle) > rad360:\n",
    "                    sub = (angle // rad360) *rad360\n",
    "                    angle =  angle-sub\n",
    "            if abs(angle) > 360:\n",
    "                sub = (angle // 360) * 360\n",
    "                angle = angle - sub\n",
    "            return trig_function(angle,kwargs.get('degrees'),iterations if iterations is not None else 50)\n",
    "        return trig_function(*args,**kwargs)\n",
    "\n",
    "    return validator"
   ]
  },
  {
   "cell_type": "code",
   "execution_count": 33,
   "id": "df811dc0",
   "metadata": {},
   "outputs": [],
   "source": [
    "# Trigonometric\n",
    "@reduceAngle\n",
    "def sin(x : Union[float,complex],degrees=False,iterations : int = 13) -> Union[float,complex]:\n",
    "    \"\"\" Trigonometric function : Sine\\n\n",
    "        Domain : All Real\\n\n",
    "        You can specify whether you want to use degrees or radians by passing in degrees=bool (default is False)\\n\n",
    "        You can also specify how many times you want to iterate by passing in iterations=int\\n\n",
    "        it uses Taylor expansions and trigonometric identities for caluclations\\n\n",
    "        This asian explains how it treats complex numbers : https://www.youtube.com/watch?v=CjQTWtW_x9o\n",
    "        \"\"\"\n",
    "    if type(x) == complex:\n",
    "        com = complex(0,1) * x\n",
    "        return (powers.power(e,com) - powers.power(e,-com)) / 2 * complex(0,1)\n",
    "    if degrees:\n",
    "        x = toRad(x)\n",
    "    #Taylor series for sin x\n",
    "    total = 0\n",
    "    for i in range(iterations):\n",
    "        alternating = (-1)**i\n",
    "        denominator = functions.factorial(2*i+1)\n",
    "        alternating_denominator = alternating / denominator\n",
    "        input_adjust = x**(2*i+1)\n",
    "        total += alternating_denominator * input_adjust\n",
    "    return total\n"
   ]
  },
  {
   "cell_type": "code",
   "execution_count": 1,
   "id": "7aa2d0df",
   "metadata": {},
   "outputs": [],
   "source": [
    "from types import *"
   ]
  },
  {
   "cell_type": "code",
   "execution_count": 3,
   "id": "20ace521",
   "metadata": {},
   "outputs": [
    {
     "ename": "NameError",
     "evalue": "name 'Union' is not defined",
     "output_type": "error",
     "traceback": [
      "\u001b[1;31m---------------------------------------------------------------------------\u001b[0m",
      "\u001b[1;31mNameError\u001b[0m                                 Traceback (most recent call last)",
      "Input \u001b[1;32mIn [3]\u001b[0m, in \u001b[0;36m<cell line: 1>\u001b[1;34m()\u001b[0m\n\u001b[1;32m----> 1\u001b[0m \u001b[38;5;28;01mdef\u001b[39;00m \u001b[38;5;21mcos\u001b[39m(x: \u001b[43mUnion\u001b[49m[\u001b[38;5;28mfloat\u001b[39m,\u001b[38;5;28mcomplex\u001b[39m],degrees\u001b[38;5;241m=\u001b[39m\u001b[38;5;28;01mFalse\u001b[39;00m,iterations : \u001b[38;5;28mint\u001b[39m \u001b[38;5;241m=\u001b[39m \u001b[38;5;241m13\u001b[39m) \u001b[38;5;241m-\u001b[39m\u001b[38;5;241m>\u001b[39m Union[\u001b[38;5;28mfloat\u001b[39m,\u001b[38;5;28mcomplex\u001b[39m]:\n\u001b[0;32m      2\u001b[0m     \u001b[38;5;124;03m\"\"\" Trigonometric function : Cosine\\n\u001b[39;00m\n\u001b[0;32m      3\u001b[0m \u001b[38;5;124;03m        Domain : All Real\\n\u001b[39;00m\n\u001b[0;32m      4\u001b[0m \u001b[38;5;124;03m        You can specify whether you want to use degrees or radians by passing in degrees=bool (default is False)\\n\u001b[39;00m\n\u001b[0;32m      5\u001b[0m \u001b[38;5;124;03m        You can also specify how many times you want to iterate by passing in iterations=int\\n\u001b[39;00m\n\u001b[0;32m      6\u001b[0m \u001b[38;5;124;03m        it uses Taylor expansions and trigonometric identities for caluclations\u001b[39;00m\n\u001b[0;32m      7\u001b[0m \u001b[38;5;124;03m        \"\"\"\u001b[39;00m\n\u001b[0;32m      8\u001b[0m     \u001b[38;5;28;01mif\u001b[39;00m \u001b[38;5;28mtype\u001b[39m(x) \u001b[38;5;241m==\u001b[39m \u001b[38;5;28mcomplex\u001b[39m:\n",
      "\u001b[1;31mNameError\u001b[0m: name 'Union' is not defined"
     ]
    }
   ],
   "source": [
    "\n",
    "def cos(x: Union[float,complex],degrees=False,iterations : int = 13) -> Union[float,complex]:\n",
    "    \"\"\" Trigonometric function : Cosine\\n\n",
    "        Domain : All Real\\n\n",
    "        You can specify whether you want to use degrees or radians by passing in degrees=bool (default is False)\\n\n",
    "        You can also specify how many times you want to iterate by passing in iterations=int\\n\n",
    "        it uses Taylor expansions and trigonometric identities for caluclations\n",
    "        \"\"\"\n",
    "    if type(x) == complex:\n",
    "        com = complex(0,1) * x\n",
    "        return (powers.power(e,com) - powers.power(e,-com)) / 2\n",
    "\n",
    "    if degrees:\n",
    "        x = toRad(x)\n",
    "    reduced_pi = pi / 2\n",
    "    return sin(reduced_pi-x,iterations=iterations)"
   ]
  },
  {
   "cell_type": "code",
   "execution_count": 35,
   "id": "613dc9fa",
   "metadata": {},
   "outputs": [],
   "source": [
    "@reduceAngle\n",
    "def tan(x: Union[float,complex],degrees=False,iterations : int = 13) -> Union[float,complex]:\n",
    "    \"\"\" Trigonometric function : Tangent\\n\n",
    "        Domain : All numbers whose cos(x) is not 0\\n\n",
    "        You can specify whether you want to use degrees or radians by passing in degrees=bool (default is False)\\n\n",
    "        You can also specify how many times you want to iterate by passing in iterations=int\\n\n",
    "        it uses Taylor expansions and trigonometric identities for caluclations\n",
    "        \"\"\"\n",
    "    if degrees:\n",
    "        x = toRad(x)\n",
    "    return sin(x,iterations=iterations) / cos(x,iterations=iterations)"
   ]
  },
  {
   "cell_type": "code",
   "execution_count": 36,
   "id": "592646dd",
   "metadata": {},
   "outputs": [],
   "source": [
    "@reduceAngle\n",
    "def cot(x: Union[float,complex],degrees=False,iterations : int = 13) -> Union[float,complex]:\n",
    "    \"\"\" Trigonometric function : Cotangent\\n\n",
    "        Domain : All numbers whose sin(x) is not 0\\n\n",
    "        You can specify whether you want to use degrees or radians by passing in degrees=bool (default is False)\\n\n",
    "        You can also specify how many times you want to iterate by passing in iterations=int\\n\n",
    "        it uses Taylor expansions and trigonometric identities for caluclations\n",
    "        \"\"\"\n",
    "    if degrees:\n",
    "        x = toRad(x)\n",
    "    return 1 / tan(x,iterations=iterations)"
   ]
  },
  {
   "cell_type": "code",
   "execution_count": 37,
   "id": "87f62eca",
   "metadata": {},
   "outputs": [],
   "source": [
    "@reduceAngle\n",
    "def sec(x: Union[float,complex],degrees=False,iterations : int = 13) -> Union[float,complex]:\n",
    "    \"\"\" Trigonometric function : Secant\\n\n",
    "        Domain : All numbers whose cos(x) is not 0\\n\n",
    "        You can specify whether you want to use degrees or radians by passing in degrees=bool (default is False)\\n\n",
    "        You can also specify how many times you want to iterate by passing in iterations=int\\n\n",
    "        it uses Taylor expansions and trigonometric identities for caluclations\n",
    "        \"\"\"\n",
    "    if degrees:\n",
    "        x = toRad(x)\n",
    "    return 1 / cos(x,iterations=iterations)"
   ]
  },
  {
   "cell_type": "code",
   "execution_count": 38,
   "id": "1d0add5a",
   "metadata": {},
   "outputs": [],
   "source": [
    "@reduceAngle\n",
    "def csc(x: Union[float,complex],degrees=False,iterations : int = 13) -> Union[float,complex]:\n",
    "    \"\"\" Trigonometric function : Cosecant\\n\n",
    "        Domain : All numbers whose sin(x) is not 0\\n\n",
    "        You can specify whether you want to use degrees or radians\\n\n",
    "        You can also specify how many times you want to iterate\\n\n",
    "        it uses Taylor expansions and trigonometric identities for caluclations\n",
    "        \"\"\"\n",
    "    if degrees:\n",
    "        x = toRad(x)\n",
    "    return 1 / sin(x,iterations=iterations)"
   ]
  },
  {
   "cell_type": "code",
   "execution_count": 10,
   "id": "97185ef5",
   "metadata": {},
   "outputs": [],
   "source": [
    "# Inverse Trigonometric\n",
    "\n",
    "def asin(x : float,iterations : int = 100,degrees : bool = False) -> float:\n",
    "    \"\"\"\n",
    "        Inverse Trigonometric function : asin\\n\n",
    "        equivalant to the following expression : \\n\n",
    "        ** x = sin(y) => asin(x) = y **\\n\n",
    "        if deegrees is set to True it will give the result in degrees\\n\n",
    "        Domain (-1 <= x <= 1)\n",
    "    \"\"\"\n",
    "    if not (-1 <= x <= 1):\n",
    "        raise ValueError(\"Math domain error not in [-1,1]\")\n",
    "    total = 0\n",
    "    for n in range(iterations):\n",
    "        nominator_0 = functions.factorial(2*n)\n",
    "        nominator_1 = powers.power(x,2*n+1)\n",
    "        denominator_0 = powers.power(powers.power(2,n)*functions.factorial(n),2)\n",
    "        denominator_1 = 2*n+1\n",
    "        div_0 = nominator_0 / denominator_0\n",
    "        div_1 = nominator_1 / denominator_1\n",
    "        total += div_1 * div_0\n",
    "    if degrees:\n",
    "        total = toDegrees(total)\n",
    "    return total"
   ]
  },
  {
   "cell_type": "code",
   "execution_count": 11,
   "id": "533a12dd",
   "metadata": {},
   "outputs": [],
   "source": [
    "def acos(x : float,iterations : int = 100,degrees : bool = False) -> float:\n",
    "    \"\"\"\n",
    "        Inverse Trigonometric function : acos\\n\n",
    "        equivalant to the following expression : \\n\n",
    "        ** x = cos(y) => acos(x) = y **\\n\n",
    "            if deegrees is set to True it will give the result in degrees\\n\n",
    "        Domain (-1 <= x <= 1)\n",
    "    \"\"\"\n",
    "    if not (-1 <= x <= 1):\n",
    "        raise ValueError(\"Math domain error not in [-1,1]\")\n",
    "    result = (pi / 2) - asin(x,iterations=iterations)\n",
    "    if degrees:\n",
    "        result = toDegrees(result)\n",
    "    return result"
   ]
  },
  {
   "cell_type": "code",
   "execution_count": 12,
   "id": "23181e8b",
   "metadata": {},
   "outputs": [],
   "source": [
    "def atan(x : float,iterations : int = 100,degrees : bool = False) -> float:\n",
    "    \"\"\"\n",
    "        Inverse Trigonometric function : atangent\\n\n",
    "        equivalant to the following expression : \\n\n",
    "        ** x = tan(y) => atan(x) = y **\\n\n",
    "        if deegrees is set to True it will give the result in degrees\\n\n",
    "        Domain : All real numbers\n",
    "    \"\"\"\n",
    "    forumlae = acos(  (1-x**2) / (1 + x**2)    )\n",
    "    total = 0.5 * forumlae\n",
    "    if degrees:\n",
    "        total = toDegrees(total)\n",
    "    return total"
   ]
  },
  {
   "cell_type": "code",
   "execution_count": 13,
   "id": "41c34ca1",
   "metadata": {},
   "outputs": [],
   "source": [
    "def acot(x : float,iterations : int = 100,degrees : bool = False):\n",
    "    \"\"\"\n",
    "        Inverse Trigonometric function : acotangent\\n\n",
    "        equivalant to the following expression : \\n\n",
    "        ** x = cot(y) => acot(x) = y **\\n\n",
    "        if deegrees is set to True it will give the result in degrees\\n\n",
    "        Domain : All real numbers\n",
    "    \"\"\"\n",
    "    result = (pi / 2) - atan(x,iterations=iterations)\n",
    "    if degrees:\n",
    "        result = toDegrees(result)\n",
    "    return result"
   ]
  },
  {
   "cell_type": "code",
   "execution_count": 14,
   "id": "ff29e53a",
   "metadata": {},
   "outputs": [],
   "source": [
    "def asec(x : float,iterations : int = 100,degrees : bool = False):\n",
    "    \"\"\"\n",
    "        Inverse Trigonometric function : asecant\\n\n",
    "        equivalant to the following expression : \\n\n",
    "        ** x = sec(y) => asec(x) = y **\\n\n",
    "        if deegrees is set to True it will give the result in degrees\\n\n",
    "        Domain : (x <= -1 or x >= 1)\n",
    "    \"\"\"\n",
    "    if (x <= -1) or (x >= 1):\n",
    "        res =  acos(1/x,iterations=iterations)\n",
    "        if degrees:\n",
    "            res = toDegrees(res)\n",
    "        return res\n",
    "    else:\n",
    "        raise ValueError(\"Math domain error not in (x <= -1 or x >= 1)\")\n"
   ]
  },
  {
   "cell_type": "code",
   "execution_count": 15,
   "id": "2c5542cb",
   "metadata": {},
   "outputs": [],
   "source": [
    "def acsc(x : float,iterations : int = 100,degrees : bool = False):\n",
    "    \"\"\"\n",
    "        Inverse Trigonometric function : acosecant\\n\n",
    "        equivalant to the following expression : \\n\n",
    "        ** x = csc(y) => acsc(x) = y **\\n\n",
    "        if deegrees is set to True it will give the result in degrees\\n\n",
    "        Domain : (x <= -1 or x >= 1)\n",
    "    \"\"\"\n",
    "    if (x <= -1) or (x >= 1):\n",
    "        result = ( pi / 2 ) - asec(x)\n",
    "        if degrees:\n",
    "            result = toDegrees(result)\n",
    "        return result\n",
    "    else:\n",
    "        raise ValueError(\"Math domain error not in (x <= -1 or x >= 1)\")\n"
   ]
  },
  {
   "cell_type": "code",
   "execution_count": 16,
   "id": "a3e72b84",
   "metadata": {},
   "outputs": [],
   "source": [
    "# Hyperbolic Trigonometric\n",
    "\n",
    "def sinh(x : float,useTaylor : bool = False,iterations: int = 100) -> float:\n",
    "    \"\"\"\n",
    "        Hyperbolic Sine,\\n\n",
    "        domain : 'All real numbers',\\n\n",
    "        if useTayolor is true it will use the taylor expansion,\\n\n",
    "    \"\"\"\n",
    "    if useTaylor:\n",
    "        return sum([\n",
    "            powers.power(x,2*n+1) / functions.factorial(2*n+1) for n in range(iterations)\n",
    "        ])\n",
    "    return (powers.power(e,x) - powers.power(e,-x)) / 2\n"
   ]
  },
  {
   "cell_type": "code",
   "execution_count": 17,
   "id": "61cd13e9",
   "metadata": {},
   "outputs": [],
   "source": [
    "def cosh(x : float,useTaylor : bool = False,iterations = 100) -> float:\n",
    "    \"\"\"\n",
    "        Hyperbolic Cosine,\\n\n",
    "        domain : 'All real numbers',\\n\n",
    "    \"\"\"\n",
    "    if not useTaylor:\n",
    "        return (powers.power(e,x) + powers.power(e,-x)) / 2\n",
    "    return sum([\n",
    "        powers.power(x,2*n) / functions.factorial(2*n) for n in range(iterations)\n",
    "    ])"
   ]
  },
  {
   "cell_type": "code",
   "execution_count": 18,
   "id": "28350bcc",
   "metadata": {},
   "outputs": [],
   "source": [
    "def tanh(x : float) -> float:\n",
    "    \"\"\"\n",
    "        Hyperbolic Tangent,\\n\n",
    "        domain : 'All values whose cosh(x) != 0',\\n\n",
    "    \"\"\"\n",
    "    return sinh(x) / cosh(x)"
   ]
  },
  {
   "cell_type": "code",
   "execution_count": 19,
   "id": "3582f28a",
   "metadata": {},
   "outputs": [],
   "source": [
    "def coth(x : float) -> float:\n",
    "    \"\"\"\n",
    "        Hyperbolic Tangent,\\n\n",
    "        domain : 'All values whose tanh(x) != 0',\\n\n",
    "    \"\"\"\n",
    "    return 1 / tanh(x)\n"
   ]
  },
  {
   "cell_type": "code",
   "execution_count": 20,
   "id": "a0e69b01",
   "metadata": {},
   "outputs": [],
   "source": [
    "def sech(x : float) -> float:\n",
    "    \"\"\"\n",
    "        Hyperbolic Tangent,\\n\n",
    "        domain : 'All values whose cosh(x) != 0',\\n\n",
    "    \"\"\"\n",
    "    return 1 / cosh(x)"
   ]
  },
  {
   "cell_type": "code",
   "execution_count": 21,
   "id": "04982596",
   "metadata": {},
   "outputs": [],
   "source": [
    "def csch(x : float) -> float:\n",
    "    \"\"\"\n",
    "        Hyperbolic Tangent,\\n\n",
    "        domain : 'All values whose sinh(x) != 0',\\n\n",
    "    \"\"\"\n",
    "    return 1 / sinh(x)"
   ]
  },
  {
   "cell_type": "code",
   "execution_count": 22,
   "id": "134e64e1",
   "metadata": {},
   "outputs": [],
   "source": [
    "# Inverse Hyperbolic\n",
    "\n",
    "def asinh(x : float) -> float:\n",
    "    \"\"\"\n",
    "        Inverse Hyperbolic trigonometric function\\n\n",
    "        Domain : All Real\n",
    "    \"\"\"\n",
    "    return functions.ln(x+powers.sqrt(powers.power(x,2)+1))\n"
   ]
  },
  {
   "cell_type": "code",
   "execution_count": 23,
   "id": "c48d3dd0",
   "metadata": {},
   "outputs": [],
   "source": [
    "def acosh(x : float) -> float:\n",
    "    \"\"\"\n",
    "        Inverse Hyperbolic trigonometric function\n",
    "        Domain : [1, +Infinity)\n",
    "    \"\"\"\n",
    "    if x < 1:\n",
    "        raise ValueError(\"Math domain error [1,+Infinity]\")\n",
    "    return functions.ln(x+powers.sqrt(powers.power(x,2)-1))"
   ]
  },
  {
   "cell_type": "code",
   "execution_count": 24,
   "id": "534fa9ea",
   "metadata": {},
   "outputs": [],
   "source": [
    "def atanh(x : float) -> float:\n",
    "    \"\"\"\n",
    "        Inverse trigonometric function\n",
    "        Domain (-1 < x < 1)\n",
    "    \"\"\"\n",
    "    if not -1 < x < 1:\n",
    "        raise ValueError(\"Math domain error not in  (-1,+1)\")\n",
    "    return 0.5*functions.ln((1+x)/(1-x))"
   ]
  },
  {
   "cell_type": "code",
   "execution_count": 25,
   "id": "78d8be63",
   "metadata": {},
   "outputs": [],
   "source": [
    "def acoth(x : float) -> float:\n",
    "    \"\"\"\n",
    "        Inverse Hyperbolic trigonometric function\n",
    "        (-Infinity, −1) and (1, +Infinity)\n",
    "    \"\"\"\n",
    "    if x == 1 or x == -1:\n",
    "        raise ValueError(\"Math domain error not in  (-Infinity, −1) and (1, +Infinity)\")\n",
    "    return 0.5*functions.ln((x+1)/(x-1))"
   ]
  },
  {
   "cell_type": "code",
   "execution_count": 26,
   "id": "fa4128a8",
   "metadata": {},
   "outputs": [],
   "source": [
    "def asech(x : float) -> float:\n",
    "    \"\"\"\n",
    "        Inverse Hyperbolic trigonometric function\n",
    "        Domain : (0, 1]\n",
    "    \"\"\"\n",
    "    if x >= 0 or  x > 1:\n",
    "        raise ValueError(\"Math domain error not in (0, 1]\")\n",
    "    return functions.ln( (1+powers.sqrt(1-powers.power(x,2)) / x ))"
   ]
  },
  {
   "cell_type": "code",
   "execution_count": 27,
   "id": "fb9f6569",
   "metadata": {},
   "outputs": [],
   "source": [
    "def acsch(x : float) -> float:\n",
    "    \"\"\"\n",
    "        Inverse Hyperbolic trigonometric function\n",
    "        Domain : All Real Numbers except 0\n",
    "    \"\"\"\n",
    "    if x == 0:\n",
    "        raise ValueError(\"Math domain error not in (All Real Numbers except 0)\")\n",
    "    return functions.ln( (1/x) + powers.sqrt((1/powers.power(x,2)) + 1) )"
   ]
  },
  {
   "cell_type": "code",
   "execution_count": 28,
   "id": "fe4977a5",
   "metadata": {},
   "outputs": [],
   "source": [
    "def complexRoot(n):\n",
    "    \"\"\"For negative Nth roots\"\"\"\n",
    "    return cos(pi/n) + complex(0,1) * sin(pi / n)\n"
   ]
  },
  {
   "cell_type": "code",
   "execution_count": 1,
   "id": "ab849811",
   "metadata": {},
   "outputs": [],
   "source": [
    "import math \n",
    "def cosine(x,n):\n",
    "    cosx = 1\n",
    "    sign = 1\n",
    "    for  i in range(2,n,2):\n",
    "        pi = 22/7\n",
    "        y = x*(pi/180)\n",
    "        cosx  = cosx + (sign *(y**i)) / math.factorial(i)\n",
    "        sign = - sign \n",
    "    return cosx"
   ]
  },
  {
   "cell_type": "code",
   "execution_count": null,
   "id": "0093c57d",
   "metadata": {},
   "outputs": [],
   "source": []
  }
 ],
 "metadata": {
  "kernelspec": {
   "display_name": "Python 3 (ipykernel)",
   "language": "python",
   "name": "python3"
  },
  "language_info": {
   "codemirror_mode": {
    "name": "ipython",
    "version": 3
   },
   "file_extension": ".py",
   "mimetype": "text/x-python",
   "name": "python",
   "nbconvert_exporter": "python",
   "pygments_lexer": "ipython3",
   "version": "3.9.12"
  }
 },
 "nbformat": 4,
 "nbformat_minor": 5
}
