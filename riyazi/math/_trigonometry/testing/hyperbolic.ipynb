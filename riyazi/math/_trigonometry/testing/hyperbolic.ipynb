{
 "cells": [
  {
   "cell_type": "raw",
   "id": "e9a5b58c",
   "metadata": {},
   "source": [
    "r\"\"\"\n",
    "Hyperbolic functions\n",
    "\n",
    "The full set of hyperbolic and inverse hyperbolic functions is\n",
    "available:\n",
    "\n",
    " - hyperbolic sine: :class:`sinh() <Function_sinh>`\n",
    " - hyperbolic cosine: :class:`cosh() <Function_cosh>`\n",
    " - hyperbolic tangent: :class:`tanh() <Function_tanh>`\n",
    " - hyperbolic cotangent: :class:`coth() <Function_coth>`\n",
    " - hyperbolic secant: :class:`sech() <Function_sech>`\n",
    " - hyperbolic cosecant: :class:`csch() <Function_csch>`\n",
    " \n",
    " - inverse hyperbolic sine: :class:`asinh() <Function_arcsinh>`\n",
    " - inverse hyperbolic cosine: :class:`acosh() <Function_arccosh>`\n",
    " - inverse hyperbolic tangent: :class:`atanh() <Function_arctanh>`\n",
    " - inverse hyperbolic cotangent: :class:`acoth() <Function_arccoth>`\n",
    " - inverse hyperbolic secant: :class:`asech() <Function_arcsech>`\n",
    " - inverse hyperbolic cosecant: :class:`acsch() <Function_arccsch>`\n",
    "\n",
    "REFERENCES:\n",
    "\n",
    "- :wikipedia:`Hyperbolic function`\n",
    "- :wikipedia:`Inverse hyperbolic functions`\n",
    "- R. Roy, F. W. J. Olver, Elementary Functions, https://dlmf.nist.gov/4\n",
    "\n",
    "EXAMPLES:\n",
    "\n",
    "Inverse hyperbolic functions have logarithmic expressions,\n",
    "so expressions of the form ``exp(c*f(x))`` simplify::\n",
    "\n",
    "    sage: exp(2*atanh(x))\n",
    "    -(x + 1)/(x - 1)\n",
    "    sage: exp(2*acoth(x))\n",
    "    (x + 1)/(x - 1)\n",
    "\n",
    "    sage: exp(2*asinh(x))\n",
    "    (x + sqrt(x^2 + 1))^2\n",
    "    sage: exp(2*acosh(x))\n",
    "    (x + sqrt(x^2 - 1))^2\n",
    "\n",
    "    sage: exp(2*asech(x))\n",
    "    (sqrt(-x^2 + 1)/x + 1/x)^2\n",
    "    sage: exp(2*acsch(x))\n",
    "    (sqrt(1/x^2 + 1) + 1/x)^2\n",
    "\"\"\"\n"
   ]
  },
  {
   "cell_type": "markdown",
   "id": "823fbff2",
   "metadata": {},
   "source": [
    "# [Wkipedia article Hyperbolic function](https://en.wikipedia.org/wiki/Hyperbolic_functions)\n",
    "\n",
    "# [Wikipedia article inverse hyperbolic functions](https://en.wikipedia.org/wiki/Inverse_hyperbolic_functions)\n",
    "\n",
    "\n",
    "# [R. Roy, F. W. J. Olver, Elementary Functions](https://dlmf.nist.gov/4)\n",
    "\n",
    "# [Hyperbolic](https://simple.wikipedia.org/wiki/Hyperbolic_functions)"
   ]
  },
  {
   "cell_type": "code",
   "execution_count": null,
   "id": "e3cc9eeb",
   "metadata": {},
   "outputs": [],
   "source": []
  }
 ],
 "metadata": {
  "kernelspec": {
   "display_name": "Python 3 (ipykernel)",
   "language": "python",
   "name": "python3"
  },
  "language_info": {
   "codemirror_mode": {
    "name": "ipython",
    "version": 3
   },
   "file_extension": ".py",
   "mimetype": "text/x-python",
   "name": "python",
   "nbconvert_exporter": "python",
   "pygments_lexer": "ipython3",
   "version": "3.9.12"
  }
 },
 "nbformat": 4,
 "nbformat_minor": 5
}
