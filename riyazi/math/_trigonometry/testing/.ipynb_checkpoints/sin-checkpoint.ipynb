{
 "cells": [
  {
   "cell_type": "code",
   "execution_count": 10,
   "id": "4ad7214c",
   "metadata": {},
   "outputs": [
    {
     "data": {
      "text/plain": [
       "\"\\nCalculate sin function.\\n\\nIt's not a perfect function so I am rounding the result to 10 decimal places by default.\\n\\nFormula: sin(x) = x - x^3/3! + x^5/5! - x^7/7! + ...\\nWhere: x = angle in randians.\\n\\nSource:\\n    https://www.homeschoolmath.net/teaching/sine_calculator.php\\n\\n\""
      ]
     },
     "execution_count": 10,
     "metadata": {},
     "output_type": "execute_result"
    }
   ],
   "source": [
    "\n",
    "\n",
    "\"\"\"\n",
    "Calculate sin function.\n",
    "\n",
    "It's not a perfect function so I am rounding the result to 10 decimal places by default.\n",
    "\n",
    "Formula: sin(x) = x - x^3/3! + x^5/5! - x^7/7! + ...\n",
    "Where: x = angle in randians.\n",
    "\n",
    "Source:\n",
    "    https://www.homeschoolmath.net/teaching/sine_calculator.php\n",
    "\n",
    "\"\"\""
   ]
  },
  {
   "cell_type": "code",
   "execution_count": 10,
   "id": "cef138b5",
   "metadata": {},
   "outputs": [],
   "source": [
    "from math import factorial, radians\n",
    "\n",
    "\n",
    "def sin(\n",
    "    angle_in_degrees: float, accuracy: int = 18, rounded_values_count: int = 10\n",
    ") -> float:\n",
    "    \"\"\"\n",
    "    Implement sin function.\n",
    "\n",
    "    >>> sin(0.0)\n",
    "    0.0\n",
    "    >>> sin(90.0)\n",
    "    1.0\n",
    "    >>> sin(180.0)\n",
    "    0.0\n",
    "    >>> sin(270.0)\n",
    "    -1.0\n",
    "    >>> sin(0.68)\n",
    "    0.0118679603\n",
    "    >>> sin(1.97)\n",
    "    0.0343762121\n",
    "    >>> sin(64.0)\n",
    "    0.8987940463\n",
    "    >>> sin(9999.0)\n",
    "    -0.9876883406\n",
    "    >>> sin(-689.0)\n",
    "    0.5150380749\n",
    "    >>> sin(89.7)\n",
    "    0.9999862922\n",
    "    \"\"\"\n",
    "    # Simplify the angle to be between 360 and -360 degrees.\n",
    "    angle_in_degrees = angle_in_degrees - ((angle_in_degrees // 360.0) * 360.0)\n",
    "\n",
    "    # Converting from degrees to radians\n",
    "    angle_in_radians = radians(angle_in_degrees)\n",
    "\n",
    "    result = angle_in_radians\n",
    "    a = 3\n",
    "    b = -1\n",
    "\n",
    "    for _ in range(accuracy):\n",
    "        result += (b * (angle_in_radians**a)) / factorial(a)\n",
    "\n",
    "        b = -b  # One positive term and the next will be negative and so on...\n",
    "        a += 2  # Increased by 2 for every term.\n",
    "\n",
    "    #return round(result, rounded_values_count)\n",
    "    return result "
   ]
  },
  {
   "cell_type": "code",
   "execution_count": 11,
   "id": "8b071e41",
   "metadata": {},
   "outputs": [
    {
     "data": {
      "text/plain": [
       "-0.9848077530122054"
      ]
     },
     "execution_count": 11,
     "metadata": {},
     "output_type": "execute_result"
    }
   ],
   "source": [
    "sin(-80)"
   ]
  },
  {
   "cell_type": "code",
   "execution_count": 3,
   "id": "d470480e",
   "metadata": {},
   "outputs": [],
   "source": [
    "def cos(z):\n",
    "    e = 2.718\n",
    "    cos = 1/2 *(e***z + e**-1*j)\n",
    "    return cos\n",
    "    "
   ]
  },
  {
   "cell_type": "code",
   "execution_count": 4,
   "id": "332614aa",
   "metadata": {},
   "outputs": [
    {
     "ename": "NameError",
     "evalue": "name 'j' is not defined",
     "output_type": "error",
     "traceback": [
      "\u001b[1;31m---------------------------------------------------------------------------\u001b[0m",
      "\u001b[1;31mNameError\u001b[0m                                 Traceback (most recent call last)",
      "Input \u001b[1;32mIn [4]\u001b[0m, in \u001b[0;36m<cell line: 1>\u001b[1;34m()\u001b[0m\n\u001b[1;32m----> 1\u001b[0m \u001b[43mcos\u001b[49m\u001b[43m(\u001b[49m\u001b[38;5;241;43m2\u001b[39;49m\u001b[43m)\u001b[49m\n",
      "Input \u001b[1;32mIn [3]\u001b[0m, in \u001b[0;36mcos\u001b[1;34m(z)\u001b[0m\n\u001b[0;32m      1\u001b[0m \u001b[38;5;28;01mdef\u001b[39;00m \u001b[38;5;21mcos\u001b[39m(z):\n\u001b[0;32m      2\u001b[0m     e \u001b[38;5;241m=\u001b[39m \u001b[38;5;241m2.718\u001b[39m\n\u001b[1;32m----> 3\u001b[0m     cos \u001b[38;5;241m=\u001b[39m \u001b[38;5;241m1\u001b[39m\u001b[38;5;241m/\u001b[39m\u001b[38;5;241m2\u001b[39m \u001b[38;5;241m*\u001b[39m(e\u001b[38;5;241m*\u001b[39m\u001b[38;5;241m*\u001b[39m\u001b[43mj\u001b[49m\u001b[38;5;241m*\u001b[39mz \u001b[38;5;241m+\u001b[39m e\u001b[38;5;241m*\u001b[39m\u001b[38;5;241m*\u001b[39m\u001b[38;5;241m-\u001b[39m\u001b[38;5;241m1\u001b[39m\u001b[38;5;241m*\u001b[39mj)\n\u001b[0;32m      4\u001b[0m     \u001b[38;5;28;01mreturn\u001b[39;00m cos\n",
      "\u001b[1;31mNameError\u001b[0m: name 'j' is not defined"
     ]
    }
   ],
   "source": [
    "cos(2)"
   ]
  },
  {
   "cell_type": "code",
   "execution_count": 5,
   "id": "0f35330b",
   "metadata": {},
   "outputs": [],
   "source": [
    "# https://en.wikipedia.org/wiki/Sine_and_cosine"
   ]
  },
  {
   "cell_type": "code",
   "execution_count": 6,
   "id": "2dde2510",
   "metadata": {},
   "outputs": [],
   "source": [
    "# https://en.wikipedia.org/wiki/Trigonometric_functions"
   ]
  },
  {
   "cell_type": "code",
   "execution_count": 8,
   "id": "3797f770",
   "metadata": {},
   "outputs": [
    {
     "name": "stdout",
     "output_type": "stream",
     "text": [
      "Enter the value of x in degrees:12\n",
      "Enter the number of terms:10\n",
      "0.98\n"
     ]
    }
   ],
   "source": [
    "import math\n",
    "\n",
    "def cosine(x,n):\n",
    "\n",
    "    cosx = 1\n",
    "\n",
    "    sign = -1\n",
    "\n",
    "    for i in range(2, n, 2):\n",
    "\n",
    "        pi=22/7\n",
    "\n",
    "        y=x*(pi/180)\n",
    "\n",
    "        cosx = cosx + (sign*(y**i))/math.factorial(i)\n",
    "\n",
    "        sign = -sign\n",
    "\n",
    "        return cosx\n",
    "\n",
    "x=int(input(\"Enter the value of x in degrees:\"))\n",
    "\n",
    "n=int(input(\"Enter the number of terms:\"))\n",
    "\n",
    "print(round(cosine(x,n),2))\n",
    "\n"
   ]
  },
  {
   "cell_type": "code",
   "execution_count": 9,
   "id": "1919063f",
   "metadata": {},
   "outputs": [
    {
     "name": "stdout",
     "output_type": "stream",
     "text": [
      "Enter the value of x in degrees:12\n",
      "Enter the number of terms:10\n",
      "0.98\n"
     ]
    }
   ],
   "source": [
    "import math\n",
    "def cosine(x,n):\n",
    "    cosx = 1\n",
    "    sign = -1\n",
    "    for i in range(2, n, 2):\n",
    "        pi=22/7\n",
    "        y=x*(pi/180)\n",
    "        cosx = cosx + (sign*(y**i))/math.factorial(i)\n",
    "        sign = -sign\n",
    "    return cosx\n",
    "x=int(input(\"Enter the value of x in degrees:\"))\n",
    "n=int(input(\"Enter the number of terms:\"))\n",
    "print(round(cosine(x,n),2))"
   ]
  },
  {
   "cell_type": "code",
   "execution_count": null,
   "id": "ec3978d3",
   "metadata": {},
   "outputs": [],
   "source": []
  }
 ],
 "metadata": {
  "kernelspec": {
   "display_name": "Python 3 (ipykernel)",
   "language": "python",
   "name": "python3"
  },
  "language_info": {
   "codemirror_mode": {
    "name": "ipython",
    "version": 3
   },
   "file_extension": ".py",
   "mimetype": "text/x-python",
   "name": "python",
   "nbconvert_exporter": "python",
   "pygments_lexer": "ipython3",
   "version": "3.9.12"
  }
 },
 "nbformat": 4,
 "nbformat_minor": 5
}
