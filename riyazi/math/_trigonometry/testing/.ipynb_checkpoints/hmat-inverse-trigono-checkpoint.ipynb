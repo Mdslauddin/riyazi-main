{
 "cells": [
  {
   "cell_type": "code",
   "execution_count": null,
   "id": "448394bf",
   "metadata": {},
   "outputs": [],
   "source": [
    "def asin(_x : int or float or complex or dimension or fract or array or list, _n : int or str = 0) -> int or float or complex or dimension or fract or array or list:\n",
    "    return -1j * math.log(1j * _x + math.sqrt(1 - (_x ** 2)))"
   ]
  },
  {
   "cell_type": "code",
   "execution_count": null,
   "id": "c7847dcc",
   "metadata": {},
   "outputs": [],
   "source": [
    "def acos(_x : int or float or complex or dimension or fract or array or list, _n : int or str = 0) -> int or float or complex or dimension or fract or array or list:\n",
    "    return -1j * ln(_x - 1j * sqrt(1 - (_x ** 2)))"
   ]
  },
  {
   "cell_type": "code",
   "execution_count": null,
   "id": "77bcdc03",
   "metadata": {},
   "outputs": [],
   "source": [
    "def atan(_x : int or float or complex or dimension or fract or array or list, _n : int or str = 0) -> int or float or complex or dimension or fract or array or list:\n",
    "    return 1j * (ln(1 - _x * 1j) - ln(1 + _x * 1j)) / 2"
   ]
  },
  {
   "cell_type": "code",
   "execution_count": null,
   "id": "b3c178c7",
   "metadata": {},
   "outputs": [],
   "source": [
    "def acsc(_x : int or float or complex or dimension or fract or array or list, _n : int or str = 0) -> int or float or complex or dimension or fract or array or list:\n",
    "    return asin(div(1 , _x))"
   ]
  },
  {
   "cell_type": "code",
   "execution_count": null,
   "id": "edfb742f",
   "metadata": {},
   "outputs": [],
   "source": [
    "def asec(_x : int or float or complex or dimension or fract or array or list, _n : int or str = 0) -> int or float or complex or dimension or fract or array or list:\n",
    "    return acos(div(1 , _x))"
   ]
  },
  {
   "cell_type": "code",
   "execution_count": null,
   "id": "d53a9810",
   "metadata": {},
   "outputs": [],
   "source": [
    "def acot(_x : int or float or complex or dimension or fract or array or list, _n : int or str = 0) -> int or float or complex or dimension or fract or array or list:\n",
    "    return atan(div(1 , _x))"
   ]
  },
  {
   "cell_type": "code",
   "execution_count": 1,
   "id": "ed557f84",
   "metadata": {},
   "outputs": [],
   "source": [
    "import math "
   ]
  },
  {
   "cell_type": "code",
   "execution_count": null,
   "id": "d564010b",
   "metadata": {},
   "outputs": [],
   "source": [
    "def asin(_x : int or float or complex or dimension or fract or array or list, _n : int or str = 0) -> int or float or complex or dimension or fract or array or list:\n",
    "    return -1j * math.log(1j * _x + math.sqrt(1 - (_x ** 2)))"
   ]
  },
  {
   "cell_type": "code",
   "execution_count": null,
   "id": "4a1791a0",
   "metadata": {},
   "outputs": [],
   "source": [
    "asin(1)"
   ]
  },
  {
   "cell_type": "code",
   "execution_count": 1,
   "id": "4a8d28c5",
   "metadata": {},
   "outputs": [],
   "source": [
    "from cmath import sqrt,log,sin"
   ]
  },
  {
   "cell_type": "code",
   "execution_count": 2,
   "id": "c128276b",
   "metadata": {},
   "outputs": [],
   "source": [
    "import math"
   ]
  },
  {
   "cell_type": "code",
   "execution_count": 3,
   "id": "365deba3",
   "metadata": {},
   "outputs": [
    {
     "data": {
      "text/plain": [
       "0.8939966636005579"
      ]
     },
     "execution_count": 3,
     "metadata": {},
     "output_type": "execute_result"
    }
   ],
   "source": [
    "math.sin(90)"
   ]
  },
  {
   "cell_type": "code",
   "execution_count": 4,
   "id": "f02d7617",
   "metadata": {},
   "outputs": [
    {
     "data": {
      "text/plain": [
       "(0.8939966636005579-0j)"
      ]
     },
     "execution_count": 4,
     "metadata": {},
     "output_type": "execute_result"
    }
   ],
   "source": [
    "sin(90)"
   ]
  },
  {
   "cell_type": "code",
   "execution_count": 5,
   "id": "aa16a562",
   "metadata": {},
   "outputs": [],
   "source": [
    "import cmath as cm"
   ]
  },
  {
   "cell_type": "code",
   "execution_count": null,
   "id": "bfe94226",
   "metadata": {},
   "outputs": [],
   "source": []
  },
  {
   "cell_type": "code",
   "execution_count": 1,
   "id": "12c29c9b",
   "metadata": {},
   "outputs": [],
   "source": [
    "from cmath import sqrt,log"
   ]
  },
  {
   "cell_type": "code",
   "execution_count": 18,
   "id": "a03098f4",
   "metadata": {},
   "outputs": [
    {
     "data": {
      "text/plain": [
       "(2.8284271247461903+0j)"
      ]
     },
     "execution_count": 18,
     "metadata": {},
     "output_type": "execute_result"
    }
   ],
   "source": [
    "sqrt(8)"
   ]
  },
  {
   "cell_type": "markdown",
   "id": "7aeecaeb",
   "metadata": {},
   "source": [
    "### Complex Roots"
   ]
  },
  {
   "cell_type": "code",
   "execution_count": null,
   "id": "579a6f4d",
   "metadata": {},
   "outputs": [],
   "source": [
    "from cmath import sqrt,log"
   ]
  },
  {
   "cell_type": "code",
   "execution_count": 1,
   "id": "c9c61173",
   "metadata": {},
   "outputs": [],
   "source": [
    "# complex square root \n",
    "def sqrt(z):\n",
    "    x = (z**0.5)+0j\n",
    "    return x"
   ]
  },
  {
   "cell_type": "code",
   "execution_count": 3,
   "id": "71e6d0af",
   "metadata": {},
   "outputs": [
    {
     "data": {
      "text/plain": [
       "(2.8284271247461903+0j)"
      ]
     },
     "execution_count": 3,
     "metadata": {},
     "output_type": "execute_result"
    }
   ],
   "source": [
    "squareroot(8)"
   ]
  },
  {
   "cell_type": "markdown",
   "id": "d8213595",
   "metadata": {},
   "source": [
    "### Complex log "
   ]
  },
  {
   "cell_type": "code",
   "execution_count": 32,
   "id": "7798eb5d",
   "metadata": {
    "scrolled": true
   },
   "outputs": [
    {
     "data": {
      "text/plain": [
       "(2.302585092994046+0j)"
      ]
     },
     "execution_count": 32,
     "metadata": {},
     "output_type": "execute_result"
    }
   ],
   "source": [
    "log(10)"
   ]
  },
  {
   "cell_type": "code",
   "execution_count": 33,
   "id": "49618010",
   "metadata": {},
   "outputs": [],
   "source": [
    "def radical(x,y):\n",
    "    if type(y) == int and type(x) == int:\n",
    "        if y < 0 and x % 2 == 1:\n",
    "            return -(abs(y) ** (1 / x))\n",
    "    return y ** (1 / x)\n",
    "def ln(x):\n",
    "    ans = x - 1\n",
    "    ans_Pi = 1\n",
    "    for n in range(1, 2000):\n",
    "        ans_Pi *= 2 / (1 + radical(2 ** n , x))\n",
    "    return (ans * ans_Pi)+0j"
   ]
  },
  {
   "cell_type": "code",
   "execution_count": 34,
   "id": "449cfbe0",
   "metadata": {},
   "outputs": [
    {
     "data": {
      "text/plain": [
       "(2.3025850929940463+0j)"
      ]
     },
     "execution_count": 34,
     "metadata": {},
     "output_type": "execute_result"
    }
   ],
   "source": [
    "ln(10)"
   ]
  },
  {
   "cell_type": "code",
   "execution_count": null,
   "id": "c42f9851",
   "metadata": {},
   "outputs": [],
   "source": []
  },
  {
   "cell_type": "code",
   "execution_count": null,
   "id": "a0010617",
   "metadata": {},
   "outputs": [],
   "source": []
  },
  {
   "cell_type": "code",
   "execution_count": null,
   "id": "23478197",
   "metadata": {},
   "outputs": [],
   "source": []
  },
  {
   "cell_type": "code",
   "execution_count": null,
   "id": "5dcefcb8",
   "metadata": {},
   "outputs": [],
   "source": []
  },
  {
   "cell_type": "code",
   "execution_count": null,
   "id": "92baeee7",
   "metadata": {},
   "outputs": [],
   "source": []
  },
  {
   "cell_type": "code",
   "execution_count": null,
   "id": "1b87b001",
   "metadata": {},
   "outputs": [],
   "source": []
  },
  {
   "cell_type": "code",
   "execution_count": 27,
   "id": "9d3aa9f6",
   "metadata": {},
   "outputs": [],
   "source": [
    "import math "
   ]
  },
  {
   "cell_type": "code",
   "execution_count": 35,
   "id": "cd394fce",
   "metadata": {},
   "outputs": [],
   "source": [
    "from cmath import sqrt,log\n",
    "def asin(x):\n",
    "    return (-1j * ln(1j * x + squareroot(1 - (x ** 2)))).real\n",
    "\n",
    "\n",
    "\n"
   ]
  },
  {
   "cell_type": "code",
   "execution_count": 36,
   "id": "f9515665",
   "metadata": {},
   "outputs": [
    {
     "data": {
      "text/plain": [
       "1.570796326794897"
      ]
     },
     "execution_count": 36,
     "metadata": {},
     "output_type": "execute_result"
    }
   ],
   "source": [
    "asin(1)"
   ]
  },
  {
   "cell_type": "code",
   "execution_count": 17,
   "id": "bbb0fee7",
   "metadata": {},
   "outputs": [
    {
     "data": {
      "text/plain": [
       "1.5707963267948966"
      ]
     },
     "execution_count": 17,
     "metadata": {},
     "output_type": "execute_result"
    }
   ],
   "source": [
    "math.asin(1)"
   ]
  },
  {
   "cell_type": "code",
   "execution_count": null,
   "id": "cc65a4a6",
   "metadata": {},
   "outputs": [],
   "source": []
  },
  {
   "cell_type": "code",
   "execution_count": null,
   "id": "e4d156f3",
   "metadata": {},
   "outputs": [],
   "source": []
  },
  {
   "cell_type": "code",
   "execution_count": null,
   "id": "7b5d8517",
   "metadata": {},
   "outputs": [],
   "source": []
  },
  {
   "cell_type": "code",
   "execution_count": 27,
   "id": "8a56441c",
   "metadata": {},
   "outputs": [],
   "source": [
    "from cmath import sqrt,log\n",
    "def acos(x):\n",
    "    return (-1j * log(x- 1j * sqrt(1 - (x ** 2)))).real\n"
   ]
  },
  {
   "cell_type": "code",
   "execution_count": 28,
   "id": "c4a4a3a4",
   "metadata": {},
   "outputs": [
    {
     "data": {
      "text/plain": [
       "1.4505064444001086"
      ]
     },
     "execution_count": 28,
     "metadata": {},
     "output_type": "execute_result"
    }
   ],
   "source": [
    "acos(0.12)"
   ]
  },
  {
   "cell_type": "code",
   "execution_count": 25,
   "id": "6e76166b",
   "metadata": {},
   "outputs": [
    {
     "data": {
      "text/plain": [
       "1.4505064444001086"
      ]
     },
     "execution_count": 25,
     "metadata": {},
     "output_type": "execute_result"
    }
   ],
   "source": [
    "math.acos(0.12)"
   ]
  },
  {
   "cell_type": "code",
   "execution_count": null,
   "id": "0a4813e5",
   "metadata": {},
   "outputs": [],
   "source": []
  },
  {
   "cell_type": "code",
   "execution_count": null,
   "id": "649845d5",
   "metadata": {},
   "outputs": [],
   "source": []
  },
  {
   "cell_type": "code",
   "execution_count": 29,
   "id": "217e0949",
   "metadata": {},
   "outputs": [],
   "source": [
    "from cmath import sqrt,log\n",
    "def atan(x):\n",
    "    return (1j * (log(1 - x * 1j) - log(1 + x * 1j)) / 2).real \n"
   ]
  },
  {
   "cell_type": "code",
   "execution_count": 30,
   "id": "573e846d",
   "metadata": {},
   "outputs": [
    {
     "data": {
      "text/plain": [
       "1.1071487177940904"
      ]
     },
     "execution_count": 30,
     "metadata": {},
     "output_type": "execute_result"
    }
   ],
   "source": [
    "math.atan(2)"
   ]
  },
  {
   "cell_type": "code",
   "execution_count": 31,
   "id": "fbb5929c",
   "metadata": {},
   "outputs": [
    {
     "data": {
      "text/plain": [
       "1.1071487177940904"
      ]
     },
     "execution_count": 31,
     "metadata": {},
     "output_type": "execute_result"
    }
   ],
   "source": [
    "atan(2)"
   ]
  },
  {
   "cell_type": "code",
   "execution_count": 32,
   "id": "cdba14da",
   "metadata": {},
   "outputs": [],
   "source": [
    "def inf() -> float:\n",
    "    \"\"\"\n",
    "    \"inf()\" returns infinity.\n",
    "    \"\"\"\n",
    "    return float(\"inf\")"
   ]
  },
  {
   "cell_type": "code",
   "execution_count": 33,
   "id": "6a8b4c18",
   "metadata": {},
   "outputs": [],
   "source": [
    "def div(_x : int or float or complex or dimension or fract or array or list,\n",
    "        _y : int or float or complex or dimension or fract or array or list)\\\n",
    "          -> int or float or complex or dimension or fract or array or list:\n",
    "    if _y == 0:\n",
    "        if   0 < _x:\n",
    "            return  inf()\n",
    "        elif _x < 0:\n",
    "            return -inf()\n",
    "        else:\n",
    "            return  0\n",
    "    elif _y == inf():\n",
    "        return 0\n",
    "    else:\n",
    "        return _x / _y"
   ]
  },
  {
   "cell_type": "code",
   "execution_count": 36,
   "id": "82936052",
   "metadata": {},
   "outputs": [
    {
     "data": {
      "text/plain": [
       "1j"
      ]
     },
     "execution_count": 36,
     "metadata": {},
     "output_type": "execute_result"
    }
   ],
   "source": [
    "div(2j,2)"
   ]
  },
  {
   "cell_type": "code",
   "execution_count": 37,
   "id": "a69db741",
   "metadata": {},
   "outputs": [],
   "source": [
    "def divide(x,y):\n",
    "    return(x/y)"
   ]
  },
  {
   "cell_type": "code",
   "execution_count": 38,
   "id": "055414f8",
   "metadata": {},
   "outputs": [
    {
     "data": {
      "text/plain": [
       "1j"
      ]
     },
     "execution_count": 38,
     "metadata": {},
     "output_type": "execute_result"
    }
   ],
   "source": [
    "divide(2j,2)"
   ]
  },
  {
   "cell_type": "code",
   "execution_count": null,
   "id": "2aed02a2",
   "metadata": {},
   "outputs": [],
   "source": []
  },
  {
   "cell_type": "code",
   "execution_count": null,
   "id": "362aa16d",
   "metadata": {},
   "outputs": [],
   "source": []
  },
  {
   "cell_type": "code",
   "execution_count": null,
   "id": "9ff6d715",
   "metadata": {},
   "outputs": [],
   "source": []
  },
  {
   "cell_type": "code",
   "execution_count": null,
   "id": "ddfb8fe5",
   "metadata": {},
   "outputs": [],
   "source": []
  },
  {
   "cell_type": "code",
   "execution_count": null,
   "id": "98c2ff25",
   "metadata": {},
   "outputs": [],
   "source": []
  },
  {
   "cell_type": "code",
   "execution_count": 39,
   "id": "dab8775a",
   "metadata": {},
   "outputs": [],
   "source": [
    "def divide(x,y):\n",
    "    return(x/y)"
   ]
  },
  {
   "cell_type": "code",
   "execution_count": 40,
   "id": "d05ff73c",
   "metadata": {},
   "outputs": [],
   "source": [
    "def divide(x,y):\n",
    "    return(x/y)\n",
    "def acsc(x):\n",
    "    return asin(div(1 , x))\n"
   ]
  },
  {
   "cell_type": "code",
   "execution_count": 44,
   "id": "6bd1358d",
   "metadata": {},
   "outputs": [
    {
     "data": {
      "text/plain": [
       "0.16744807921968932"
      ]
     },
     "execution_count": 44,
     "metadata": {},
     "output_type": "execute_result"
    }
   ],
   "source": [
    "acsc(6)"
   ]
  },
  {
   "cell_type": "code",
   "execution_count": null,
   "id": "31a21532",
   "metadata": {},
   "outputs": [],
   "source": []
  },
  {
   "cell_type": "code",
   "execution_count": null,
   "id": "c4b79bde",
   "metadata": {},
   "outputs": [],
   "source": []
  },
  {
   "cell_type": "code",
   "execution_count": null,
   "id": "a3f8bbb8",
   "metadata": {},
   "outputs": [],
   "source": []
  },
  {
   "cell_type": "code",
   "execution_count": 45,
   "id": "3cc76c7b",
   "metadata": {},
   "outputs": [],
   "source": [
    "def asec(x):\n",
    "    return acos(div(1 , x))"
   ]
  },
  {
   "cell_type": "code",
   "execution_count": 46,
   "id": "2ea1b143",
   "metadata": {},
   "outputs": [
    {
     "data": {
      "text/plain": [
       "1.2309594173407747"
      ]
     },
     "execution_count": 46,
     "metadata": {},
     "output_type": "execute_result"
    }
   ],
   "source": [
    "asec(3)"
   ]
  },
  {
   "cell_type": "code",
   "execution_count": null,
   "id": "1fbf1d43",
   "metadata": {},
   "outputs": [],
   "source": []
  },
  {
   "cell_type": "code",
   "execution_count": null,
   "id": "6a4a2a2f",
   "metadata": {},
   "outputs": [],
   "source": []
  },
  {
   "cell_type": "code",
   "execution_count": null,
   "id": "aa0903ba",
   "metadata": {},
   "outputs": [],
   "source": [
    "def acot(x):\n",
    "    return atan(div(1 , x))"
   ]
  },
  {
   "cell_type": "code",
   "execution_count": null,
   "id": "1a8f2834",
   "metadata": {},
   "outputs": [],
   "source": []
  },
  {
   "cell_type": "code",
   "execution_count": null,
   "id": "201898c6",
   "metadata": {},
   "outputs": [],
   "source": []
  },
  {
   "cell_type": "code",
   "execution_count": null,
   "id": "b112eb5a",
   "metadata": {},
   "outputs": [],
   "source": []
  },
  {
   "cell_type": "markdown",
   "id": "5ff5ad2a",
   "metadata": {},
   "source": [
    "# Outline "
   ]
  },
  {
   "cell_type": "code",
   "execution_count": null,
   "id": "6eab9072",
   "metadata": {},
   "outputs": [],
   "source": [
    "from cmath import sqrt,log\n",
    "def asin(x):\n",
    "    return (-1j * log(1j * x + sqrt(1 - (x ** 2)))).real\n"
   ]
  },
  {
   "cell_type": "code",
   "execution_count": null,
   "id": "fdeb6be0",
   "metadata": {},
   "outputs": [],
   "source": [
    "asin()"
   ]
  },
  {
   "cell_type": "code",
   "execution_count": null,
   "id": "d395915b",
   "metadata": {},
   "outputs": [],
   "source": [
    "math.asin(1)"
   ]
  },
  {
   "cell_type": "code",
   "execution_count": null,
   "id": "6947d838",
   "metadata": {},
   "outputs": [],
   "source": [
    "from cmath import sqrt,log\n",
    "def acos(x):\n",
    "    return (-1j * log(x- 1j * sqrt(1 - (x ** 2)))).real"
   ]
  },
  {
   "cell_type": "code",
   "execution_count": null,
   "id": "68b3f2ac",
   "metadata": {},
   "outputs": [],
   "source": [
    "acos(0.12)"
   ]
  },
  {
   "cell_type": "code",
   "execution_count": null,
   "id": "6aa71042",
   "metadata": {},
   "outputs": [],
   "source": [
    "math.acos(0.12)"
   ]
  },
  {
   "cell_type": "code",
   "execution_count": null,
   "id": "b0186771",
   "metadata": {},
   "outputs": [],
   "source": [
    "from cmath import sqrt,log\n",
    "def atan(x):\n",
    "    return (1j * (log(1 - x * 1j) - log(1 + x * 1j)) / 2).real"
   ]
  },
  {
   "cell_type": "code",
   "execution_count": null,
   "id": "3147410b",
   "metadata": {},
   "outputs": [],
   "source": [
    "math.atan(2)"
   ]
  },
  {
   "cell_type": "code",
   "execution_count": null,
   "id": "802dde02",
   "metadata": {},
   "outputs": [],
   "source": [
    "atan(2)"
   ]
  },
  {
   "cell_type": "code",
   "execution_count": null,
   "id": "dbe7fd95",
   "metadata": {},
   "outputs": [],
   "source": [
    "def divide(x,y):\n",
    "    return(x/y)\n",
    "def acsc(x):\n",
    "    return asin(divide(1 , x))"
   ]
  },
  {
   "cell_type": "code",
   "execution_count": null,
   "id": "c73a14ad",
   "metadata": {},
   "outputs": [],
   "source": [
    "def asec(x):\n",
    "    return acos(divide(1 , x))"
   ]
  },
  {
   "cell_type": "code",
   "execution_count": null,
   "id": "19722164",
   "metadata": {},
   "outputs": [],
   "source": [
    "def acot(x):\n",
    "    return atan(divide(1 , x))"
   ]
  }
 ],
 "metadata": {
  "kernelspec": {
   "display_name": "Python 3 (ipykernel)",
   "language": "python",
   "name": "python3"
  },
  "language_info": {
   "codemirror_mode": {
    "name": "ipython",
    "version": 3
   },
   "file_extension": ".py",
   "mimetype": "text/x-python",
   "name": "python",
   "nbconvert_exporter": "python",
   "pygments_lexer": "ipython3",
   "version": "3.9.12"
  }
 },
 "nbformat": 4,
 "nbformat_minor": 5
}
