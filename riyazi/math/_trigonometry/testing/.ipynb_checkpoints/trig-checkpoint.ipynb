{
 "cells": [
  {
   "cell_type": "code",
   "execution_count": 13,
   "id": "3a55f124",
   "metadata": {},
   "outputs": [],
   "source": [
    "from math import factorial, radians\n",
    "\n",
    "\n",
    "def cos(x,/, radian=False):\n",
    "    \n",
    "    \n",
    "    # Simplify the angle to be between 360 and -360 degrees.\n",
    "    x = x - ((x // 360.0) * 360.0)\n",
    "   \n",
    "   \n",
    "    # Converting from degrees to radians\n",
    "    radian = radians(x)\n",
    "   \n",
    "\n",
    "    result =radian\n",
    "    a = 3\n",
    "    b = -1\n",
    "    accuracy = 18 \n",
    "    for _ in range(accuracy):\n",
    "        result +=  (b * (radian**a))/ factorial(a)\n",
    "\n",
    "        b = -b  # One positive term and the next will be negative and so on...\n",
    "        a += 2  # Increased by 2 for every term.\n",
    "\n",
    "   \n",
    "    return result "
   ]
  },
  {
   "cell_type": "code",
   "execution_count": 14,
   "id": "3e6d7e97",
   "metadata": {},
   "outputs": [
    {
     "data": {
      "text/plain": [
       "5.305800925948411"
      ]
     },
     "execution_count": 14,
     "metadata": {},
     "output_type": "execute_result"
    }
   ],
   "source": [
    "cos(92464)"
   ]
  },
  {
   "cell_type": "code",
   "execution_count": null,
   "id": "c6a03887",
   "metadata": {},
   "outputs": [],
   "source": [
    "from decimal import *\n",
    "getcontext().prec = 30\n",
    "Decimal(1) / Decimal(7)"
   ]
  },
  {
   "cell_type": "code",
   "execution_count": null,
   "id": "4e0ff05c",
   "metadata": {},
   "outputs": [],
   "source": []
  },
  {
   "cell_type": "code",
   "execution_count": null,
   "id": "6c27ab69",
   "metadata": {},
   "outputs": [],
   "source": [
    "def cos(x):\n",
    "    \"\"\"Return the cosine of x as measured in radians.\n",
    "\n",
    "    The Taylor series approximation works best for a small value of x.\n",
    "    For larger values, first compute x = x % (2 * pi).\n",
    "\n",
    "    >>> print(cos(Decimal('0.5')))\n",
    "    0.8775825618903727161162815826\n",
    "    >>> print(cos(0.5))\n",
    "    0.87758256189\n",
    "    >>> print(cos(0.5+0j))\n",
    "    (0.87758256189+0j)\n",
    "\n",
    "    \"\"\"\n",
    "    getcontext().prec += 2\n",
    "    i, lasts, s, fact, num, sign = 0, 0, 1, 1, 1, 1\n",
    "    while s != lasts:\n",
    "        lasts = s\n",
    "        i += 2\n",
    "        fact *= i * (i-1)\n",
    "        num *= x * x\n",
    "        sign *= -1\n",
    "        s += num / fact * sign\n",
    "    getcontext().prec -= 2\n",
    "    return +s"
   ]
  },
  {
   "cell_type": "code",
   "execution_count": null,
   "id": "d7c792e2",
   "metadata": {},
   "outputs": [],
   "source": [
    "cos(35)"
   ]
  },
  {
   "cell_type": "markdown",
   "id": "c31c893f",
   "metadata": {},
   "source": [
    "#### "
   ]
  },
  {
   "cell_type": "code",
   "execution_count": null,
   "id": "c8496ce1",
   "metadata": {},
   "outputs": [],
   "source": []
  },
  {
   "cell_type": "code",
   "execution_count": null,
   "id": "eccb25c9",
   "metadata": {},
   "outputs": [],
   "source": []
  },
  {
   "cell_type": "raw",
   "id": "69ad3109",
   "metadata": {},
   "source": [
    "\n",
    "        - Conversions:\n",
    "            - radians\n",
    "            - degrees\n",
    "            \n",
    "            \n",
    "            \n",
    "        - Trigonometric (Real or Complex):\n",
    "            ** sin(x) \n",
    "            ** cos(x) \n",
    "            ** tan(x) \n",
    "            ** cot(x) \n",
    "            ** sec(x) \n",
    "            ** csc(x) \n",
    "            \n",
    "            \n",
    "        - Inverse Trigonometric (Real Only for accurate results):\n",
    "            ** asin(x)\n",
    "            ** acos(x)\n",
    "            ** atan(x)\n",
    "            ** acot(x)\n",
    "            ** asec(x) \n",
    "            ** acsc(x)  \n",
    "            \n",
    "      The full set of hyperbolic and inverse hyperbolic functions is available:\n",
    "      \n",
    "        -- Hyperbolic Trigonometric (Real and Imaginary):\n",
    "            ** sinh(x)\n",
    "            ** cosh(x)\n",
    "            ** tanh(x)\n",
    "            ** coth(x)\n",
    "            ** csch(x)\n",
    "            ** sech(x)\n",
    "        - Inverse Hyperbolic (Real only for accurate results):\n",
    "            ** arsinh(x)\n",
    "            ** aosh(x)\n",
    "            ** artanh(x)\n",
    "            ** aoth(x)\n",
    "            ** asch(x)\n",
    "            ** arsech(x)\n",
    " "
   ]
  },
  {
   "cell_type": "code",
   "execution_count": 1,
   "id": "34ae4f8a",
   "metadata": {},
   "outputs": [],
   "source": [
    "import math"
   ]
  },
  {
   "cell_type": "code",
   "execution_count": 4,
   "id": "f19ee316",
   "metadata": {},
   "outputs": [
    {
     "data": {
      "text/plain": [
       "1.5707963267948966"
      ]
     },
     "execution_count": 4,
     "metadata": {},
     "output_type": "execute_result"
    }
   ],
   "source": [
    "math.asin(1)"
   ]
  },
  {
   "cell_type": "code",
   "execution_count": 7,
   "id": "26b80a01",
   "metadata": {},
   "outputs": [
    {
     "data": {
      "text/plain": [
       "0.8414709848078965"
      ]
     },
     "execution_count": 7,
     "metadata": {},
     "output_type": "execute_result"
    }
   ],
   "source": [
    "math.sin(1)"
   ]
  },
  {
   "cell_type": "code",
   "execution_count": 9,
   "id": "d9374873",
   "metadata": {},
   "outputs": [
    {
     "data": {
      "text/plain": [
       "1.1883951057781212"
      ]
     },
     "execution_count": 9,
     "metadata": {},
     "output_type": "execute_result"
    }
   ],
   "source": [
    "0.8414709848078965**(-1)"
   ]
  },
  {
   "cell_type": "code",
   "execution_count": null,
   "id": "61a2728c",
   "metadata": {},
   "outputs": [],
   "source": [
    "import math \n",
    "from typing import Union,Tuple,Optional"
   ]
  },
  {
   "cell_type": "code",
   "execution_count": null,
   "id": "8601e779",
   "metadata": {},
   "outputs": [],
   "source": [
    "def power(x,y):\n",
    "    return x**y"
   ]
  },
  {
   "cell_type": "code",
   "execution_count": null,
   "id": "c27e9fc9",
   "metadata": {},
   "outputs": [],
   "source": []
  },
  {
   "cell_type": "code",
   "execution_count": null,
   "id": "d4fd6407",
   "metadata": {},
   "outputs": [],
   "source": [
    "# Inverse Trigonometric\n",
    "\n",
    "def asin(x):\n",
    "    iterations= 900\n",
    "    degrees = False\n",
    "    \n",
    "    if not (-1 <= x <= 1):\n",
    "        raise ValueError(\"Math domain error not in [-1,1]\")\n",
    "    total = 0\n",
    "    for n in range(iterations):\n",
    "        nominator_0 = math.factorial(2*n)\n",
    "        nominator_1 = power(x,2*n+1)\n",
    "        denominator_0 = power(power(2,n)*math.factorial(n),2)\n",
    "        denominator_1 = 2*n+1\n",
    "        div_0 = nominator_0 / denominator_0\n",
    "        div_1 = nominator_1 / denominator_1\n",
    "        total += div_1 * div_0\n",
    "    if degrees:\n",
    "        total = toDegrees(total)\n",
    "    return total"
   ]
  },
  {
   "cell_type": "code",
   "execution_count": null,
   "id": "d1289969",
   "metadata": {},
   "outputs": [],
   "source": [
    "import math"
   ]
  },
  {
   "cell_type": "code",
   "execution_count": null,
   "id": "4a5ae0b2",
   "metadata": {},
   "outputs": [],
   "source": [
    "math.asin(1)"
   ]
  },
  {
   "cell_type": "code",
   "execution_count": null,
   "id": "5bfbaa08",
   "metadata": {},
   "outputs": [],
   "source": [
    "\n",
    "asin(1)"
   ]
  },
  {
   "cell_type": "code",
   "execution_count": null,
   "id": "cdbb560d",
   "metadata": {},
   "outputs": [],
   "source": [
    "# https://en.wikipedia.org/wiki/Inverse_trigonometric_functions#:~:text=In%20mathematics%2C%20the%20inverse%20trigonometric%20functions%20%28occasionally%20also,trigonometric%20functions%20are%20widely%20used%20in%20engineering%2C%20navigat"
   ]
  },
  {
   "cell_type": "code",
   "execution_count": null,
   "id": "062b3bcd",
   "metadata": {},
   "outputs": [],
   "source": [
    "def acos(x : float,iterations : int = 100,degrees : bool = False) -> float:\n",
    "    \"\"\"\n",
    "        Inverse Trigonometric function : acos\\n\n",
    "        equivalant to the following expression : \\n\n",
    "        ** x = cos(y) => acos(x) = y **\\n\n",
    "            if deegrees is set to True it will give the result in degrees\\n\n",
    "        Domain (-1 <= x <= 1)\n",
    "    \"\"\"\n",
    "    if not (-1 <= x <= 1):\n",
    "        raise ValueError(\"Math domain error not in [-1,1]\")\n",
    "    result = (pi / 2) - asin(x,iterations=iterations)\n",
    "    if degrees:\n",
    "        result = toDegrees(result)\n",
    "    return result"
   ]
  },
  {
   "cell_type": "code",
   "execution_count": null,
   "id": "dae69099",
   "metadata": {},
   "outputs": [],
   "source": [
    "def atan(x : float,iterations : int = 100,degrees : bool = False) -> float:\n",
    "    \"\"\"\n",
    "        Inverse Trigonometric function : atangent\\n\n",
    "        equivalant to the following expression : \\n\n",
    "        ** x = tan(y) => atan(x) = y **\\n\n",
    "        if deegrees is set to True it will give the result in degrees\\n\n",
    "        Domain : All real numbers\n",
    "    \"\"\"\n",
    "    forumlae = acos(  (1-x**2) / (1 + x**2)    )\n",
    "    total = 0.5 * forumlae\n",
    "    if degrees:\n",
    "        total = toDegrees(total)\n",
    "    return total"
   ]
  },
  {
   "cell_type": "code",
   "execution_count": null,
   "id": "c3b54622",
   "metadata": {},
   "outputs": [],
   "source": [
    "def acot(x : float,iterations : int = 100,degrees : bool = False):\n",
    "    \"\"\"\n",
    "        Inverse Trigonometric function : acotangent\\n\n",
    "        equivalant to the following expression : \\n\n",
    "        ** x = cot(y) => acot(x) = y **\\n\n",
    "        if deegrees is set to True it will give the result in degrees\\n\n",
    "        Domain : All real numbers\n",
    "    \"\"\"\n",
    "    result = (pi / 2) - atan(x,iterations=iterations)\n",
    "    if degrees:\n",
    "        result = toDegrees(result)\n",
    "    return result"
   ]
  },
  {
   "cell_type": "code",
   "execution_count": null,
   "id": "91b0ff7e",
   "metadata": {},
   "outputs": [],
   "source": [
    "def asec(x : float,iterations : int = 100,degrees : bool = False):\n",
    "    \"\"\"\n",
    "        Inverse Trigonometric function : asecant\\n\n",
    "        equivalant to the following expression : \\n\n",
    "        ** x = sec(y) => asec(x) = y **\\n\n",
    "        if deegrees is set to True it will give the result in degrees\\n\n",
    "        Domain : (x <= -1 or x >= 1)\n",
    "    \"\"\"\n",
    "    if (x <= -1) or (x >= 1):\n",
    "        res =  acos(1/x,iterations=iterations)\n",
    "        if degrees:\n",
    "            res = toDegrees(res)\n",
    "        return res\n",
    "    else:\n",
    "        raise ValueError(\"Math domain error not in (x <= -1 or x >= 1)\")\n"
   ]
  },
  {
   "cell_type": "code",
   "execution_count": null,
   "id": "2a018fe0",
   "metadata": {},
   "outputs": [],
   "source": [
    "def acsc(x : float,iterations : int = 100,degrees : bool = False):\n",
    "    \"\"\"\n",
    "        Inverse Trigonometric function : acosecant\\n\n",
    "        equivalant to the following expression : \\n\n",
    "        ** x = csc(y) => acsc(x) = y **\\n\n",
    "        if deegrees is set to True it will give the result in degrees\\n\n",
    "        Domain : (x <= -1 or x >= 1)\n",
    "    \"\"\"\n",
    "    if (x <= -1) or (x >= 1):\n",
    "        result = ( pi / 2 ) - asec(x)\n",
    "        if degrees:\n",
    "            result = toDegrees(result)\n",
    "        return result\n",
    "    else:\n",
    "        raise ValueError(\"Math domain error not in (x <= -1 or x >= 1)\")\n"
   ]
  },
  {
   "cell_type": "code",
   "execution_count": null,
   "id": "00a41899",
   "metadata": {},
   "outputs": [],
   "source": []
  },
  {
   "cell_type": "code",
   "execution_count": null,
   "id": "39b133c5",
   "metadata": {},
   "outputs": [],
   "source": [
    "def tan(d):\n",
    "    \n",
    "    ans = sin(d) / sqrt(1 - sin(d) ** 2)\n",
    "    return ans "
   ]
  },
  {
   "cell_type": "code",
   "execution_count": null,
   "id": "0ce23487",
   "metadata": {},
   "outputs": [],
   "source": [
    "from __future__ import division\n",
    "\n",
    "def sqrt(n):\n",
    "    ans = n ** 0.5\n",
    "    return ans\n",
    "\n",
    "def factorial(n):\n",
    "    k = 1\n",
    "    for i in range(1, n+1):\n",
    "        k = i * k\n",
    "\n",
    "    return k \n",
    "\n",
    "def sin(d):\n",
    "    pi = 3.14159265359\n",
    "    n = 180 / int(d) # 180 degrees = pi radians\n",
    "    x = pi / n # Converting degrees to radians\n",
    "    ans = x - ( x ** 3 / factorial(3) ) + ( x ** 5 / factorial(5) ) - ( x ** 7 / factorial(7) ) + ( x ** 9 / factorial(9) )\n",
    "    return ans \n",
    "\n",
    "def cos(d):\n",
    "    pi = 3.14159265359\n",
    "    n = 180 / int(d) \n",
    "    x = pi / n \n",
    "    ans = 1 - ( x ** 2 / factorial(2) ) + ( x ** 4 / factorial(4) ) - ( x ** 6 / factorial(6) ) + ( x ** 8 / factorial(8) )\n",
    "    return ans \n",
    "\n",
    "def tan(d): \n",
    "    ans = sin(d) / sqrt(1 - sin(d) ** 2)\n",
    "    return ans "
   ]
  },
  {
   "cell_type": "code",
   "execution_count": null,
   "id": "a6323ec6",
   "metadata": {},
   "outputs": [],
   "source": [
    "tan(125)"
   ]
  },
  {
   "cell_type": "code",
   "execution_count": null,
   "id": "c2b3f937",
   "metadata": {},
   "outputs": [],
   "source": [
    "import math"
   ]
  },
  {
   "cell_type": "code",
   "execution_count": null,
   "id": "725a5600",
   "metadata": {},
   "outputs": [],
   "source": [
    "math.tan(125)"
   ]
  },
  {
   "cell_type": "code",
   "execution_count": null,
   "id": "f4246608",
   "metadata": {},
   "outputs": [],
   "source": [
    "cos(1234)"
   ]
  },
  {
   "cell_type": "code",
   "execution_count": null,
   "id": "3778529b",
   "metadata": {},
   "outputs": [],
   "source": []
  },
  {
   "cell_type": "code",
   "execution_count": 5,
   "id": "3c0c058c",
   "metadata": {},
   "outputs": [],
   "source": [
    "from math import factorial\n",
    "def cos(d):\n",
    "    pi = 3.1415926535897\n",
    "    n = 180 / d\n",
    "    x = pi / n \n",
    "    ans = 1 - ( x ** 2 / factorial(2) ) + ( x ** 4 / factorial(4) ) - ( x ** 6 / factorial(6) ) + ( x ** 8 / factorial(8) )\n",
    "    return ans "
   ]
  },
  {
   "cell_type": "code",
   "execution_count": 6,
   "id": "08ce7236",
   "metadata": {},
   "outputs": [
    {
     "data": {
      "text/plain": [
       "-0.5440856616942146"
      ]
     },
     "execution_count": 6,
     "metadata": {},
     "output_type": "execute_result"
    }
   ],
   "source": [
    "cos(123)"
   ]
  },
  {
   "cell_type": "code",
   "execution_count": null,
   "id": "2d91aa10",
   "metadata": {},
   "outputs": [],
   "source": []
  },
  {
   "cell_type": "code",
   "execution_count": null,
   "id": "d4ca8a24",
   "metadata": {},
   "outputs": [],
   "source": []
  },
  {
   "cell_type": "code",
   "execution_count": null,
   "id": "35b545a5",
   "metadata": {},
   "outputs": [],
   "source": []
  },
  {
   "cell_type": "code",
   "execution_count": null,
   "id": "46c35244",
   "metadata": {},
   "outputs": [],
   "source": []
  },
  {
   "cell_type": "code",
   "execution_count": null,
   "id": "ffe27535",
   "metadata": {},
   "outputs": [],
   "source": []
  },
  {
   "cell_type": "code",
   "execution_count": null,
   "id": "9656a035",
   "metadata": {},
   "outputs": [],
   "source": []
  },
  {
   "cell_type": "code",
   "execution_count": null,
   "id": "1b3b65d1",
   "metadata": {},
   "outputs": [],
   "source": []
  },
  {
   "cell_type": "code",
   "execution_count": null,
   "id": "5330b416",
   "metadata": {},
   "outputs": [],
   "source": []
  },
  {
   "cell_type": "code",
   "execution_count": null,
   "id": "acc2ad5b",
   "metadata": {},
   "outputs": [],
   "source": []
  },
  {
   "cell_type": "code",
   "execution_count": null,
   "id": "121a4351",
   "metadata": {},
   "outputs": [],
   "source": []
  },
  {
   "cell_type": "code",
   "execution_count": null,
   "id": "a0052ced",
   "metadata": {},
   "outputs": [],
   "source": []
  },
  {
   "cell_type": "code",
   "execution_count": null,
   "id": "c5d2f932",
   "metadata": {},
   "outputs": [],
   "source": []
  },
  {
   "cell_type": "code",
   "execution_count": null,
   "id": "87c018d6",
   "metadata": {},
   "outputs": [],
   "source": []
  },
  {
   "cell_type": "code",
   "execution_count": null,
   "id": "3291c4da",
   "metadata": {},
   "outputs": [],
   "source": []
  },
  {
   "cell_type": "code",
   "execution_count": null,
   "id": "4bf04257",
   "metadata": {},
   "outputs": [],
   "source": []
  },
  {
   "cell_type": "code",
   "execution_count": null,
   "id": "027af2e0",
   "metadata": {},
   "outputs": [],
   "source": []
  },
  {
   "cell_type": "code",
   "execution_count": null,
   "id": "317b5c2f",
   "metadata": {},
   "outputs": [],
   "source": [
    "from math import factorial, radians\n",
    "\n",
    "\n",
    "def sin(x,/):\n",
    "    \"\"\"   \n",
    "    Return the sine of x (measured in degree).\n",
    "    \n",
    "    \"\"\"\n",
    "    \n",
    "    # Simplify the angle to be between 360 and -360 degrees.\n",
    "    x = x - ((x // 360.0) * 360.0)\n",
    "   \n",
    "    # Converting from degrees to radians\n",
    "    radian = radians(x)\n",
    "\n",
    "    result =radian\n",
    "    a = 3\n",
    "    b = -1\n",
    "    accuracy = 16 \n",
    "    for _ in range(accuracy):\n",
    "        result += (b * (radian**a)) / factorial(a)\n",
    "\n",
    "        b = -b  # One positive term and the next will be negative and so on...\n",
    "        a += 2  # Increased by 2 for every term.\n",
    "\n",
    "   \n",
    "    return result "
   ]
  },
  {
   "cell_type": "code",
   "execution_count": null,
   "id": "dd7c4e9d",
   "metadata": {},
   "outputs": [],
   "source": [
    "sin(9)"
   ]
  },
  {
   "cell_type": "code",
   "execution_count": null,
   "id": "d225998e",
   "metadata": {},
   "outputs": [],
   "source": [
    "x = 8\n",
    "radians(x)"
   ]
  },
  {
   "cell_type": "code",
   "execution_count": null,
   "id": "4bb8ce3b",
   "metadata": {},
   "outputs": [],
   "source": [
    "import math "
   ]
  },
  {
   "cell_type": "code",
   "execution_count": null,
   "id": "df43a4d0",
   "metadata": {},
   "outputs": [],
   "source": [
    "math.sin(9)"
   ]
  },
  {
   "cell_type": "code",
   "execution_count": null,
   "id": "f8ddf2f9",
   "metadata": {},
   "outputs": [],
   "source": []
  },
  {
   "cell_type": "code",
   "execution_count": null,
   "id": "1915ab74",
   "metadata": {},
   "outputs": [],
   "source": [
    "PI = 3.141592653589793238462643383\n",
    "\n",
    "def _sin(x,/) :\n",
    "    \"\"\"\n",
    "     Return the sine of x (measured in radian).\n",
    "    \"\"\"\n",
    "    \n",
    "    terms=9\n",
    "    # map x into the range -PI/2 to PI/2 for greatest accuracy\n",
    "    x %= 2*PI\n",
    "    if x > PI:\n",
    "        x -= 2*PI\n",
    "        if x < -PI/2:\n",
    "            x = -PI - x\n",
    "    elif x > PI/2:\n",
    "        x = PI - x\n",
    "\n",
    "    total = 0\n",
    "    denominator = 1\n",
    "    for i in range(1, 2*terms+2, 2):\n",
    "        denominator *= i\n",
    "        total += (x ** i) / denominator\n",
    "        denominator *= -(i + 1)\n",
    "    return total"
   ]
  },
  {
   "cell_type": "code",
   "execution_count": null,
   "id": "4b2d38ca",
   "metadata": {},
   "outputs": [],
   "source": [
    "_sin(90)"
   ]
  },
  {
   "cell_type": "code",
   "execution_count": 17,
   "id": "8770e0fc",
   "metadata": {},
   "outputs": [],
   "source": [
    "from math import factorial, radians\n",
    "\n",
    "\n",
    "def sin(x,/, radian=False):\n",
    "    \n",
    "    if(radian == True ):\n",
    "        return _sin(x)\n",
    "    \n",
    "    \"\"\"   \n",
    "    Return the sine of x (measured in degree).\n",
    "    if radian is true then return 'radian'\n",
    "    \n",
    "    \"\"\"\n",
    "    \n",
    "    # Simplify the angle to be between 360 and -360 degrees.\n",
    "    x = x - ((x // 360.0) * 360.0)\n",
    "   \n",
    "    # Converting from degrees to radians\n",
    "    radian = radians(x)\n",
    "\n",
    "    result =radian\n",
    "    a = 3\n",
    "    b = -1\n",
    "    accuracy = 16 \n",
    "    for _ in range(accuracy):\n",
    "        result += (b * (radian**a)) / factorial(a)\n",
    "\n",
    "        b = -b  # One positive term and the next will be negative and so on...\n",
    "        a += 2  # Increased by 2 for every term.\n",
    "\n",
    "   \n",
    "    return result "
   ]
  },
  {
   "cell_type": "code",
   "execution_count": null,
   "id": "24342bcd",
   "metadata": {},
   "outputs": [],
   "source": [
    "sin(90)"
   ]
  },
  {
   "cell_type": "code",
   "execution_count": null,
   "id": "190a89e0",
   "metadata": {},
   "outputs": [],
   "source": [
    "import math "
   ]
  },
  {
   "cell_type": "code",
   "execution_count": null,
   "id": "b81a7c0f",
   "metadata": {},
   "outputs": [],
   "source": [
    "math.pi"
   ]
  },
  {
   "cell_type": "code",
   "execution_count": null,
   "id": "eb2393bd",
   "metadata": {},
   "outputs": [],
   "source": [
    "math.radians(1)"
   ]
  },
  {
   "cell_type": "code",
   "execution_count": null,
   "id": "e9c52c6f",
   "metadata": {},
   "outputs": [],
   "source": []
  },
  {
   "cell_type": "code",
   "execution_count": null,
   "id": "a3e87e3c",
   "metadata": {},
   "outputs": [],
   "source": [
    "# Conversions\n",
    "pi =3.141592653589793\n",
    "def radians(x,/):\n",
    "    \"\"\"Convert angle x from degrees to radians.\"\"\"\n",
    "    return (pi/180)*x"
   ]
  },
  {
   "cell_type": "code",
   "execution_count": null,
   "id": "334d511f",
   "metadata": {},
   "outputs": [],
   "source": [
    "radians(1)"
   ]
  },
  {
   "cell_type": "code",
   "execution_count": null,
   "id": "bd785ff8",
   "metadata": {},
   "outputs": [],
   "source": [
    "math.degrees(1)"
   ]
  },
  {
   "cell_type": "code",
   "execution_count": null,
   "id": "2b1a14ff",
   "metadata": {},
   "outputs": [],
   "source": []
  },
  {
   "cell_type": "code",
   "execution_count": null,
   "id": "b94a79be",
   "metadata": {},
   "outputs": [],
   "source": [
    "def degrees(x,/):\n",
    "    \"\"\"Convert angle x from radians to degrees.\"\"\"\n",
    "    return (180 / pi) * x"
   ]
  },
  {
   "cell_type": "code",
   "execution_count": null,
   "id": "134c17fd",
   "metadata": {},
   "outputs": [],
   "source": [
    "degrees(1)"
   ]
  },
  {
   "cell_type": "code",
   "execution_count": null,
   "id": "ab10f271",
   "metadata": {},
   "outputs": [],
   "source": [
    "math.cos()"
   ]
  },
  {
   "cell_type": "code",
   "execution_count": null,
   "id": "9f2aacfd",
   "metadata": {},
   "outputs": [],
   "source": []
  },
  {
   "cell_type": "code",
   "execution_count": null,
   "id": "196552d9",
   "metadata": {},
   "outputs": [],
   "source": []
  },
  {
   "cell_type": "code",
   "execution_count": null,
   "id": "197c1454",
   "metadata": {},
   "outputs": [],
   "source": [
    "def cos(x,degrees=False):\n",
    "    iterations = 13\n",
    "    \"\"\" Trigonometric function : Cosine\\n\n",
    "        Domain : All Real\\n\n",
    "        You can specify whether you want to use degrees or radians by passing in degrees=bool (default is False)\\n\n",
    "        You can also specify how many times you want to iterate by passing in iterations=int\\n\n",
    "        it uses Taylor expansions and trigonometric identities for caluclations\n",
    "        \"\"\"\n",
    "    pi  = 3.1415\n",
    "    if type(x) == complex:\n",
    "        com = complex(0,1) * x\n",
    "        return (powers.power(e,com) - powers.power(e,-com)) / 2\n",
    "\n",
    "    if degrees:\n",
    "        x = toRad(x)\n",
    "    reduced_pi = pi / 2\n",
    "    return sin(reduced_pi-x)"
   ]
  },
  {
   "cell_type": "code",
   "execution_count": null,
   "id": "ef360dcc",
   "metadata": {},
   "outputs": [],
   "source": [
    "cos(1)"
   ]
  },
  {
   "cell_type": "code",
   "execution_count": 18,
   "id": "344baef8",
   "metadata": {},
   "outputs": [],
   "source": [
    "def cos(x,degrees=False):\n",
    "    iterations = 13\n",
    "    \"\"\" Trigonometric function : Cosine\\n\n",
    "        Domain : All Real\\n\n",
    "        You can specify whether you want to use degrees or radians by passing in degrees=bool (default is False)\\n\n",
    "        You can also specify how many times you want to iterate by passing in iterations=int\\n\n",
    "        it uses Taylor expansions and trigonometric identities for caluclations\n",
    "        \"\"\"\n",
    "    pi  = 3.1415\n",
    "    if type(x) == complex:\n",
    "        com = complex(0,1) * x\n",
    "        return (powers.power(e,com) - powers.power(e,-com)) / 2\n",
    "\n",
    "    if degrees:\n",
    "        x = toRad(x)\n",
    "    reduced_pi = pi / 2\n",
    "    return sin(reduced_pi-x)"
   ]
  },
  {
   "cell_type": "code",
   "execution_count": 19,
   "id": "c3aa9bf7",
   "metadata": {},
   "outputs": [
    {
     "data": {
      "text/plain": [
       "-0.853284706055828"
      ]
     },
     "execution_count": 19,
     "metadata": {},
     "output_type": "execute_result"
    }
   ],
   "source": [
    "cos(123)"
   ]
  },
  {
   "cell_type": "code",
   "execution_count": 20,
   "id": "71042d17",
   "metadata": {},
   "outputs": [],
   "source": [
    "def factorial(x):\n",
    "\n",
    "    if(x == 0): \n",
    "        return 1\n",
    "    return x * factorial(x-1)\n",
    "\n",
    "\n",
    "def cosine(angle):\n",
    "\n",
    "    cosx = 1\n",
    "    sign = -1\n",
    "    for i in range(2, 20, 2):\n",
    "        cosx = cosx + (sign*(angle**i))/factorial(i)\n",
    "        sign = -sign\n",
    "    return cosx"
   ]
  },
  {
   "cell_type": "code",
   "execution_count": 21,
   "id": "32ae6133",
   "metadata": {},
   "outputs": [
    {
     "data": {
      "text/plain": [
       "-1188.165266195988"
      ]
     },
     "execution_count": 21,
     "metadata": {},
     "output_type": "execute_result"
    }
   ],
   "source": [
    "cosine(12)"
   ]
  },
  {
   "cell_type": "code",
   "execution_count": null,
   "id": "4a8b4698",
   "metadata": {},
   "outputs": [],
   "source": []
  },
  {
   "cell_type": "code",
   "execution_count": null,
   "id": "c4588674",
   "metadata": {},
   "outputs": [],
   "source": [
    "cosine(5)"
   ]
  },
  {
   "cell_type": "code",
   "execution_count": 22,
   "id": "efa1c01a",
   "metadata": {},
   "outputs": [],
   "source": [
    "def cos (a):\n",
    "    d = 1\n",
    "    c = 1\n",
    "    for i in range (2, 20, 2):\n",
    "        d *= i * (i - 1)\n",
    "        sign = -1 if i % 4 else 1\n",
    "        print ('adding {} * a ** {} / {}'.format (sign, i, d) )\n",
    "        c += sign * a ** i / d\n",
    "        print ('cosine is now {}'.format (c) )\n",
    "    return c"
   ]
  },
  {
   "cell_type": "code",
   "execution_count": 23,
   "id": "ecddeb52",
   "metadata": {
    "scrolled": true
   },
   "outputs": [
    {
     "name": "stdout",
     "output_type": "stream",
     "text": [
      "adding -1 * a ** 2 / 2\n",
      "cosine is now -11.5\n",
      "adding 1 * a ** 4 / 24\n",
      "cosine is now 14.541666666666668\n",
      "adding -1 * a ** 6 / 720\n",
      "cosine is now -7.159722222222221\n",
      "adding 1 * a ** 8 / 40320\n",
      "cosine is now 2.528397817460318\n",
      "adding -1 * a ** 10 / 3628800\n",
      "cosine is now -0.16274663800705413\n",
      "adding 1 * a ** 12 / 479001600\n",
      "cosine is now 0.34693981189206935\n",
      "adding -1 * a ** 14 / 87178291200\n",
      "cosine is now 0.276927936905926\n",
      "adding 1 * a ** 16 / 20922789888000\n",
      "cosine is now 0.28422084055031593\n",
      "adding -1 * a ** 18 / 6402373705728000\n",
      "cosine is now 0.283625015089173\n"
     ]
    },
    {
     "data": {
      "text/plain": [
       "0.283625015089173"
      ]
     },
     "execution_count": 23,
     "metadata": {},
     "output_type": "execute_result"
    }
   ],
   "source": [
    "cos(5)"
   ]
  },
  {
   "cell_type": "markdown",
   "id": "eec36577",
   "metadata": {},
   "source": [
    "import math\n",
    "\n",
    "def expression(x, k):\n",
    "    \n",
    "    return (-1)**k/(math.factorial(2*k))*(x**(2*k))\n",
    "pi=math.pi\n",
    "listt=[0, pi/6, pi/4, pi/3, pi/2, (2*pi)/3, (3*pi)/4, (5*pi)/6, pi]\n",
    "sum=0\n",
    "for x in listt:\n",
    "    k=0\n",
    "    relative_error=1\n",
    "    while relative_error>10**(-15):\n",
    "        sum+=expression(x, k)\n",
    "        absolute_error=abs(math.cos(x)-sum)\n",
    "        relative_error=absolute_error/abs(math.cos(x))\n",
    "       k+=1\n",
    "    print(\"%.20f\"%x, '\\t', \"%.20f\"%sum, '\\t', \"%.20f\"%math.cos(x), '\\t', \"%.20f\"%absolute_error, '\\t', \"%.20f\"%relative_error )"
   ]
  },
  {
   "cell_type": "code",
   "execution_count": null,
   "id": "94e34538",
   "metadata": {},
   "outputs": [],
   "source": [
    "from math import pi\n",
    "\n",
    "# round a number (x) to nearest 10 digits\n",
    "def rounded(x):\n",
    "\treturn round(x, 10)\n",
    "\n",
    "# get the factorial of a number (x)\n",
    "# factorial(x) is the product of every number from 1 to N inclusive\n",
    "def factorial(x):\n",
    "\tn = 1; # n is the result\n",
    "\t# multiply n by every number from 1 to x inclusive\n",
    "\tfor i in range(2, x + 1):\n",
    "\t\tn *= i\n",
    "\treturn n\n",
    "\n",
    "\"\"\" get the result of the cos and sin formulas\n",
    "    where the functions are sin(x radians) or cos(x radians),\n",
    "    n is the start value (n = x for sin, n = 1 for cos), and\n",
    "    i_start is the exponent and factorial base in the first term \"\"\"\n",
    "def computeSeries(x, n, i_start):\n",
    "\titerations = 20 # iterations is twice the amount of terms to use\n",
    "\tmultiplier = 1\n",
    "\tfor i in range(i_start, i_start + iterations, 2): # i increases by 2 each term\n",
    "\t\tmultiplier *= -1 # alternates between addition and subtraction each term\n",
    "\t\tnext_term = (x**i) / factorial(i) # each term is (x^i) / i!\n",
    "\t\tn += multiplier * next_term # add or subtract from final result\n",
    "\treturn n\n",
    "\n",
    "# get sin of x radians\n",
    "def sin(x):\n",
    "\treturn rounded(computeSeries(x, x, 3))\n",
    "\n",
    "# get cos of x radians\n",
    "def cos(x):\n",
    "\treturn rounded(computeSeries(x, 1, 2))\n",
    "\n",
    "# get sin of x degrees\n",
    "def sinDeg(x):\n",
    "\treturn sin(x * pi / 180)\n",
    "\n",
    "# get cos of x degrees\n",
    "def cosDeg(x):\n",
    "\treturn cos(x * pi / 180)"
   ]
  },
  {
   "cell_type": "code",
   "execution_count": null,
   "id": "d0ea6a9c",
   "metadata": {},
   "outputs": [],
   "source": [
    "sin(12)"
   ]
  },
  {
   "cell_type": "code",
   "execution_count": null,
   "id": "c639d3bc",
   "metadata": {},
   "outputs": [],
   "source": [
    "cos(12)"
   ]
  },
  {
   "cell_type": "code",
   "execution_count": null,
   "id": "14f494fb",
   "metadata": {},
   "outputs": [],
   "source": []
  },
  {
   "cell_type": "code",
   "execution_count": null,
   "id": "17967c98",
   "metadata": {},
   "outputs": [],
   "source": [
    "cos(5)"
   ]
  },
  {
   "cell_type": "code",
   "execution_count": 24,
   "id": "22022abb",
   "metadata": {},
   "outputs": [],
   "source": [
    "import math \n",
    "def cos(x):\n",
    "    \n",
    "    i= 30\n",
    "    x %= 2*math.pi\n",
    "    c=2\n",
    "    n=0\n",
    "    f=2\n",
    "    for i in  range(i):\n",
    "        if i%2 ==0:\n",
    "            n += x**c /f\n",
    "        else:\n",
    "            n -=x**c/f\n",
    "            c +=2\n",
    "            f *= c*(c-1)\n",
    "    return 1-n"
   ]
  },
  {
   "cell_type": "code",
   "execution_count": 25,
   "id": "56d5aca4",
   "metadata": {},
   "outputs": [
    {
     "data": {
      "text/plain": [
       "1.0"
      ]
     },
     "execution_count": 25,
     "metadata": {},
     "output_type": "execute_result"
    }
   ],
   "source": [
    "cos(12)"
   ]
  },
  {
   "cell_type": "code",
   "execution_count": null,
   "id": "e5bc8663",
   "metadata": {},
   "outputs": [],
   "source": [
    "math.cos(34)"
   ]
  },
  {
   "cell_type": "code",
   "execution_count": null,
   "id": "e4b36088",
   "metadata": {},
   "outputs": [],
   "source": [
    "cos(34)"
   ]
  },
  {
   "cell_type": "code",
   "execution_count": null,
   "id": "991e953e",
   "metadata": {},
   "outputs": [],
   "source": [
    "cos(2334)"
   ]
  },
  {
   "cell_type": "code",
   "execution_count": 26,
   "id": "2f0f0451",
   "metadata": {},
   "outputs": [],
   "source": [
    "def cos(x, conv=2**-53):\n",
    "    x %= 2 *math.pi\n",
    "    c=2\n",
    "    n=1.0\n",
    "    dn = -x**2 /2.0\n",
    "    while abs(n/dn) > conv:\n",
    "        n +=dn\n",
    "        c += 2\n",
    "        dn *= -x**2 / (c*(c-1))\n",
    "    return n "
   ]
  },
  {
   "cell_type": "code",
   "execution_count": 27,
   "id": "efa3210b",
   "metadata": {},
   "outputs": [
    {
     "ename": "ZeroDivisionError",
     "evalue": "float division by zero",
     "output_type": "error",
     "traceback": [
      "\u001b[1;31m---------------------------------------------------------------------------\u001b[0m",
      "\u001b[1;31mZeroDivisionError\u001b[0m                         Traceback (most recent call last)",
      "Input \u001b[1;32mIn [27]\u001b[0m, in \u001b[0;36m<cell line: 1>\u001b[1;34m()\u001b[0m\n\u001b[1;32m----> 1\u001b[0m \u001b[43mcos\u001b[49m\u001b[43m(\u001b[49m\u001b[38;5;241;43m345\u001b[39;49m\u001b[43m)\u001b[49m\n",
      "Input \u001b[1;32mIn [26]\u001b[0m, in \u001b[0;36mcos\u001b[1;34m(x, conv)\u001b[0m\n\u001b[0;32m      4\u001b[0m n\u001b[38;5;241m=\u001b[39m\u001b[38;5;241m1.0\u001b[39m\n\u001b[0;32m      5\u001b[0m dn \u001b[38;5;241m=\u001b[39m \u001b[38;5;241m-\u001b[39mx\u001b[38;5;241m*\u001b[39m\u001b[38;5;241m*\u001b[39m\u001b[38;5;241m2\u001b[39m \u001b[38;5;241m/\u001b[39m\u001b[38;5;241m2.0\u001b[39m\n\u001b[1;32m----> 6\u001b[0m \u001b[38;5;28;01mwhile\u001b[39;00m \u001b[38;5;28mabs\u001b[39m(\u001b[43mn\u001b[49m\u001b[38;5;241;43m/\u001b[39;49m\u001b[43mdn\u001b[49m) \u001b[38;5;241m>\u001b[39m conv:\n\u001b[0;32m      7\u001b[0m     n \u001b[38;5;241m+\u001b[39m\u001b[38;5;241m=\u001b[39mdn\n\u001b[0;32m      8\u001b[0m     c \u001b[38;5;241m+\u001b[39m\u001b[38;5;241m=\u001b[39m \u001b[38;5;241m2\u001b[39m\n",
      "\u001b[1;31mZeroDivisionError\u001b[0m: float division by zero"
     ]
    }
   ],
   "source": [
    "cos(345)"
   ]
  },
  {
   "cell_type": "code",
   "execution_count": null,
   "id": "3a2c184c",
   "metadata": {},
   "outputs": [],
   "source": []
  },
  {
   "cell_type": "code",
   "execution_count": null,
   "id": "b0a8de65",
   "metadata": {},
   "outputs": [],
   "source": []
  },
  {
   "cell_type": "code",
   "execution_count": null,
   "id": "a04c65d6",
   "metadata": {},
   "outputs": [],
   "source": []
  },
  {
   "cell_type": "code",
   "execution_count": null,
   "id": "d0795485",
   "metadata": {},
   "outputs": [],
   "source": [
    "import math\n",
    "def arsinh(x,/):\n",
    "    x = math.log(x + (x**2+1)**0.5)\n",
    "    return x "
   ]
  },
  {
   "cell_type": "code",
   "execution_count": null,
   "id": "a557df11",
   "metadata": {},
   "outputs": [],
   "source": [
    "import math\n",
    "def arcosh(x,/):\n",
    "    x = math.log(x + (x**2-1)**0.5)\n",
    "    return x "
   ]
  },
  {
   "cell_type": "code",
   "execution_count": null,
   "id": "773db1a6",
   "metadata": {},
   "outputs": [],
   "source": [
    "import math \n",
    "def artanh(x,/):\n",
    "    x = 0.5 * math.log((1+x) / (1-x))\n",
    "    return x "
   ]
  },
  {
   "cell_type": "code",
   "execution_count": null,
   "id": "93f2a06e",
   "metadata": {},
   "outputs": [],
   "source": [
    "# https://www.123calculus.com/en/hyperbolic-inverse-functions-page-1-12-180.html\n",
    "\n",
    "def arcoth(x,/):\n",
    "    x = (1/2)* math.log((x+1) / (x-1))\n",
    "    return x "
   ]
  },
  {
   "cell_type": "code",
   "execution_count": null,
   "id": "89eda2c7",
   "metadata": {},
   "outputs": [],
   "source": [
    "def arsech(x,/):\n",
    "    x = math.log((1+(1-x**2)**0.5) /x)\n",
    "    return x "
   ]
  },
  {
   "cell_type": "code",
   "execution_count": null,
   "id": "0d2c40f6",
   "metadata": {},
   "outputs": [],
   "source": [
    "def arcsch(x,/):\n",
    "    x = math.log((1/x)+ ((1/x**2)+1)**0.5)\n",
    "    return x "
   ]
  },
  {
   "cell_type": "code",
   "execution_count": null,
   "id": "98d40694",
   "metadata": {},
   "outputs": [],
   "source": []
  }
 ],
 "metadata": {
  "kernelspec": {
   "display_name": "Python 3 (ipykernel)",
   "language": "python",
   "name": "python3"
  },
  "language_info": {
   "codemirror_mode": {
    "name": "ipython",
    "version": 3
   },
   "file_extension": ".py",
   "mimetype": "text/x-python",
   "name": "python",
   "nbconvert_exporter": "python",
   "pygments_lexer": "ipython3",
   "version": "3.9.12"
  }
 },
 "nbformat": 4,
 "nbformat_minor": 5
}
