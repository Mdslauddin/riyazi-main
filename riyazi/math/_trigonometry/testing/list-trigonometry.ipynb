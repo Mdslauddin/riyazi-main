{
 "cells": [
  {
   "cell_type": "code",
   "execution_count": null,
   "id": "882daa74",
   "metadata": {},
   "outputs": [],
   "source": [
    "def exp(_x : int or float or complex or dimension or fract or array or list) -> int or float or complex or dimension or fract or array or list:\n",
    "    \"\"\"\n",
    "    \"exp(x)\" returns the value of e power x.\n",
    "    \"\"\"\n",
    "    return e() ** _x"
   ]
  },
  {
   "cell_type": "code",
   "execution_count": null,
   "id": "abd32dc0",
   "metadata": {},
   "outputs": [],
   "source": [
    "def e() -> float:\n",
    "    \"\"\"\n",
    "    \"e()\" returns the constant e.\n",
    "    The value is approximately 2.7182818284590452353602874713527.\n",
    "    \"\"\"\n",
    "    return 2.7182818284590452353602874713527"
   ]
  },
  {
   "cell_type": "code",
   "execution_count": null,
   "id": "08e9a7cb",
   "metadata": {},
   "outputs": [],
   "source": [
    "def __del_complex(func) -> object:\n",
    "    def del_complex(*args) -> object:\n",
    "        new_func = func\n",
    "        if len(args) == 1:\n",
    "            ans = new_func(args[0])\n",
    "        elif len(args) == 2:\n",
    "            ans = new_func(args[0], args[1])\n",
    "        elif len(args) == 3:\n",
    "            ans = new_func(args[0], args[1], args[2])\n",
    "        if imag_part(ans) == 0:\n",
    "            return real_part(ans)\n",
    "        return ans\n",
    "    return del_complex\n",
    "\n",
    "def __pow(func) -> object:\n",
    "    def pow(args1, args2 = 0) -> object:\n",
    "        ans = args1\n",
    "        if type(args2) == str:\n",
    "            k = 0.01\n",
    "            for h in range(len(args2)):\n",
    "                if args2[h] == \"d\":\n",
    "                    ans = (func(ans + k) - func(ans)) / k\n",
    "                else:\n",
    "                    raise Exception('The value of the argument must be a string that contains only \"d\" or a natural number.')\n",
    "            return ans\n",
    "        elif args2 < 0 or not args2 % 1 == 0:\n",
    "            raise Exception('The value of the argument must be a string that contains only \"d\" or a natural number.')\n",
    "        else:\n",
    "            for k in range(args2 + 1):\n",
    "                ans = func(ans)\n",
    "        return ans\n",
    "    return pow"
   ]
  },
  {
   "cell_type": "code",
   "execution_count": null,
   "id": "d2d53fbd",
   "metadata": {},
   "outputs": [],
   "source": [
    "def __list(func) -> object:\n",
    "    def dlist(*args) -> object:\n",
    "        if type(args[0]) == list or type(args[0]) == array:\n",
    "            if len(args) == 1:\n",
    "                ans = [func(value) for value in args[0]]\n",
    "            if len(args) == 2:\n",
    "                args1 = list(args[0])\n",
    "                args2 =      args[1]\n",
    "                try:\n",
    "                    args2 = list(args2)\n",
    "                    ans = []\n",
    "                    for process in len(args1):\n",
    "                        value1 = args1[process]\n",
    "                        value2 = args2[process]\n",
    "                        ans += [func(value1, value2)]\n",
    "                except:\n",
    "                    ans = []\n",
    "                    for process in len(args1):\n",
    "                        value1 = args1[process]\n",
    "                        ans += [func(value1)]\n",
    "            if type(args[0]) == array:\n",
    "                return array(ans)\n",
    "            return ans\n",
    "        else:\n",
    "            if len(args) == 1:\n",
    "                return func(args[0])\n",
    "            if len(args) == 2:\n",
    "                return func(args[0], args[1])\n",
    "            if len(args) == 3:\n",
    "                return func(args[0], args[1], args[2])\n",
    "    return dlist"
   ]
  },
  {
   "cell_type": "code",
   "execution_count": null,
   "id": "a79a5b43",
   "metadata": {},
   "outputs": [],
   "source": [
    "__save_time = 0\n",
    "def __memo(func) -> object:\n",
    "    def memo(*args) -> object:\n",
    "        global __save_time\n",
    "        global __corresponding_dictionary\n",
    "        if func.__name__ == \"dlist\":\n",
    "            memo = 0\n",
    "        else:\n",
    "            if hmath_setting.memo.max_memo_size != None:\n",
    "                if hmath_setting.memo.max_memo_size < getsizeof(str(__corresponding_dictionary)):\n",
    "                    memo = 0\n",
    "                    if args in __corresponding_dictionary[func.__name__]:\n",
    "                        ans =   __corresponding_dictionary[func.__name__][args]\n",
    "                else:\n",
    "                    memo = 1\n",
    "            else:\n",
    "                memo = 1\n",
    "        if memo == 0:\n",
    "            new_func = func\n",
    "            if len(args) == 1:\n",
    "                ans = new_func(args[0])\n",
    "            if len(args) == 2:\n",
    "                ans = new_func(args[0], args[1])\n",
    "            if len(args) == 3:\n",
    "                ans = new_func(args[0], args[1], args[2])\n",
    "        else:\n",
    "            try:\n",
    "                {args:0}\n",
    "                args_ = args\n",
    "            except:\n",
    "                args_ = str(args)\n",
    "            if args_ in __corresponding_dictionary[func.__name__]:\n",
    "                ans =   __corresponding_dictionary[func.__name__][args_]\n",
    "            else:\n",
    "                new_func = func\n",
    "                if len(args) == 1:\n",
    "                    ans = new_func(args[0])\n",
    "                if len(args) == 2:\n",
    "                    ans = new_func(args[0], args[1])\n",
    "                if len(args) == 3:\n",
    "                    ans = new_func(args[0], args[1], args[2])\n",
    "                __corresponding_dictionary[func.__name__][args] = ans\n",
    "                if hmath_setting.memo.save_to_HDD:\n",
    "                    __save_time += 1\n",
    "                    if hmath_setting.memo.HDD_save_time < __save_time:\n",
    "                        memo_plk = open(\"%smemo.plk\" %directory, \"w\", encoding='UTF-8')\n",
    "                        memo_data = dumps(__corresponding_dictionary)\n",
    "                        memo_plk.write(str(memo_data))\n",
    "                        memo_plk.close()\n",
    "        return ans\n",
    "    return memo\n"
   ]
  },
  {
   "cell_type": "code",
   "execution_count": null,
   "id": "1b9936f5",
   "metadata": {},
   "outputs": [],
   "source": [
    "@__list\n",
    "@__del_complex\n",
    "@__pow\n",
    "@__memo\n",
    "def sin(_θ : int or float or complex or dimension or fract or array or list, _n : int or str = 0) -> int or float or complex or dimension or fract or array or list:\n",
    "    \"\"\"\n",
    "    \"sin(θ)\" returns value of sine θ.\n",
    "    >>> hmath.sin(6)\n",
    "    -0.27941549819892586\n",
    "    >>> hmath.sin(2.11)\n",
    "    0.8581178296348089\n",
    "    >>> hmath.sin(53+12j)\n",
    "    (32219.35761890742-74727.46166398648j)\n",
    "    >>> hmath.sin([2.14, 25, 33+5j])\n",
    "    [0.8423304316366457, -0.13235175009777303, (74.20340766788514-0.9851772699807544j)]\n",
    "    \"\"\"\n",
    "    return ((exp(_θ * 1j) - exp(_θ * -1j)) / 2j)"
   ]
  },
  {
   "cell_type": "markdown",
   "id": "758326ae",
   "metadata": {},
   "source": [
    "# List Trigonometry"
   ]
  },
  {
   "cell_type": "code",
   "execution_count": null,
   "id": "7f39ecd7",
   "metadata": {},
   "outputs": [],
   "source": [
    "def sin(x):\n",
    "   \n",
    "    for i in x:\n",
    "        x = x[i]\n",
    "\n",
    "        return ((exp(x * 1j) - exp(x * -1j)) / 2j).real\n",
    "    "
   ]
  },
  {
   "cell_type": "code",
   "execution_count": null,
   "id": "55617233",
   "metadata": {},
   "outputs": [],
   "source": [
    "sin([1,2,3])"
   ]
  },
  {
   "cell_type": "code",
   "execution_count": null,
   "id": "09562419",
   "metadata": {},
   "outputs": [],
   "source": [
    "import math"
   ]
  },
  {
   "cell_type": "code",
   "execution_count": null,
   "id": "4745d7e4",
   "metadata": {},
   "outputs": [],
   "source": [
    "math.sin(2)"
   ]
  },
  {
   "cell_type": "code",
   "execution_count": null,
   "id": "bdcd20d9",
   "metadata": {},
   "outputs": [],
   "source": [
    "x= [1,2,3]"
   ]
  },
  {
   "cell_type": "code",
   "execution_count": null,
   "id": "50e7cd31",
   "metadata": {},
   "outputs": [],
   "source": [
    "len(x)"
   ]
  },
  {
   "cell_type": "code",
   "execution_count": null,
   "id": "8eaeafb6",
   "metadata": {},
   "outputs": [],
   "source": [
    "lst = []"
   ]
  },
  {
   "cell_type": "code",
   "execution_count": null,
   "id": "5505cb3b",
   "metadata": {},
   "outputs": [],
   "source": [
    "x[0]"
   ]
  },
  {
   "cell_type": "code",
   "execution_count": null,
   "id": "462de162",
   "metadata": {},
   "outputs": [],
   "source": []
  },
  {
   "cell_type": "code",
   "execution_count": null,
   "id": "98837af5",
   "metadata": {},
   "outputs": [],
   "source": []
  },
  {
   "cell_type": "code",
   "execution_count": null,
   "id": "c0a2e905",
   "metadata": {},
   "outputs": [],
   "source": []
  },
  {
   "cell_type": "code",
   "execution_count": null,
   "id": "4705e0fc",
   "metadata": {},
   "outputs": [],
   "source": []
  },
  {
   "cell_type": "code",
   "execution_count": null,
   "id": "48d0420f",
   "metadata": {},
   "outputs": [],
   "source": []
  },
  {
   "cell_type": "code",
   "execution_count": null,
   "id": "2320927e",
   "metadata": {},
   "outputs": [],
   "source": []
  },
  {
   "cell_type": "code",
   "execution_count": null,
   "id": "875250a7",
   "metadata": {},
   "outputs": [],
   "source": []
  },
  {
   "cell_type": "code",
   "execution_count": null,
   "id": "ce34bfac",
   "metadata": {},
   "outputs": [],
   "source": []
  },
  {
   "cell_type": "code",
   "execution_count": null,
   "id": "d225f4dd",
   "metadata": {},
   "outputs": [],
   "source": []
  },
  {
   "cell_type": "code",
   "execution_count": null,
   "id": "539c9360",
   "metadata": {},
   "outputs": [],
   "source": []
  },
  {
   "cell_type": "code",
   "execution_count": null,
   "id": "14f50f97",
   "metadata": {},
   "outputs": [],
   "source": []
  },
  {
   "cell_type": "markdown",
   "id": "b58fcc26",
   "metadata": {},
   "source": [
    "# Complex  Real "
   ]
  },
  {
   "cell_type": "code",
   "execution_count": null,
   "id": "6352d030",
   "metadata": {},
   "outputs": [],
   "source": [
    "sin(2)"
   ]
  },
  {
   "cell_type": "code",
   "execution_count": null,
   "id": "b1668c05",
   "metadata": {},
   "outputs": [],
   "source": [
    "def sin(x):\n",
    "    if x is x.real:\n",
    "        return ((exp(x * 1j) - exp(x * -1j)) / 2j).real\n",
    "    else: \n",
    "        return ((exp(x * 1j) - exp(x * -1j)) / 2j)\n",
    "        "
   ]
  },
  {
   "cell_type": "code",
   "execution_count": null,
   "id": "bf17d4a3",
   "metadata": {},
   "outputs": [],
   "source": [
    "sin(267)"
   ]
  },
  {
   "cell_type": "code",
   "execution_count": null,
   "id": "27e6214e",
   "metadata": {},
   "outputs": [],
   "source": [
    "import math"
   ]
  },
  {
   "cell_type": "code",
   "execution_count": null,
   "id": "c1df17ba",
   "metadata": {
    "scrolled": true
   },
   "outputs": [],
   "source": [
    "math.sin(267)"
   ]
  },
  {
   "cell_type": "code",
   "execution_count": null,
   "id": "f1d894ff",
   "metadata": {},
   "outputs": [],
   "source": [
    "from cmath import sin"
   ]
  },
  {
   "cell_type": "code",
   "execution_count": null,
   "id": "8016a717",
   "metadata": {},
   "outputs": [],
   "source": [
    "sin([2+12j,12])"
   ]
  },
  {
   "cell_type": "code",
   "execution_count": null,
   "id": "a4fec7aa",
   "metadata": {},
   "outputs": [],
   "source": [
    "import numpy as np"
   ]
  },
  {
   "cell_type": "code",
   "execution_count": null,
   "id": "cbdf9ea7",
   "metadata": {},
   "outputs": [],
   "source": [
    "np.sin([1,2,3,4])"
   ]
  },
  {
   "cell_type": "code",
   "execution_count": null,
   "id": "cac3d784",
   "metadata": {
    "scrolled": true
   },
   "outputs": [],
   "source": []
  },
  {
   "cell_type": "code",
   "execution_count": null,
   "id": "5ab3450a",
   "metadata": {},
   "outputs": [],
   "source": []
  }
 ],
 "metadata": {
  "kernelspec": {
   "display_name": "Python 3 (ipykernel)",
   "language": "python",
   "name": "python3"
  },
  "language_info": {
   "codemirror_mode": {
    "name": "ipython",
    "version": 3
   },
   "file_extension": ".py",
   "mimetype": "text/x-python",
   "name": "python",
   "nbconvert_exporter": "python",
   "pygments_lexer": "ipython3",
   "version": "3.9.12"
  }
 },
 "nbformat": 4,
 "nbformat_minor": 5
}
