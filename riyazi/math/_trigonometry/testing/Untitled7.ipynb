{
 "cells": [
  {
   "cell_type": "code",
   "execution_count": 1,
   "id": "3f50df24",
   "metadata": {},
   "outputs": [],
   "source": [
    "import doc_trig as trig"
   ]
  },
  {
   "cell_type": "code",
   "execution_count": 2,
   "id": "9961fd07",
   "metadata": {},
   "outputs": [
    {
     "data": {
      "text/plain": [
       "0.8939966636005579"
      ]
     },
     "execution_count": 2,
     "metadata": {},
     "output_type": "execute_result"
    }
   ],
   "source": [
    "trig.sin(90)"
   ]
  },
  {
   "cell_type": "code",
   "execution_count": null,
   "id": "3e4ff0c7",
   "metadata": {},
   "outputs": [],
   "source": []
  },
  {
   "cell_type": "code",
   "execution_count": null,
   "id": "bbb17cfa",
   "metadata": {},
   "outputs": [],
   "source": []
  },
  {
   "cell_type": "code",
   "execution_count": null,
   "id": "995ac7b1",
   "metadata": {},
   "outputs": [],
   "source": []
  },
  {
   "cell_type": "code",
   "execution_count": null,
   "id": "97148af3",
   "metadata": {},
   "outputs": [],
   "source": [
    "import math"
   ]
  },
  {
   "cell_type": "code",
   "execution_count": null,
   "id": "190cf192",
   "metadata": {},
   "outputs": [],
   "source": [
    "dir(math)"
   ]
  },
  {
   "cell_type": "code",
   "execution_count": null,
   "id": "41886024",
   "metadata": {},
   "outputs": [],
   "source": [
    "def sqrt(x):\n",
    "    \"\"\"\n",
    "    square root \n",
    "    >>> sqrt(5)\n",
    "    \"\"\"\n",
    "    return x**0.5"
   ]
  },
  {
   "cell_type": "code",
   "execution_count": null,
   "id": "f8af4328",
   "metadata": {},
   "outputs": [],
   "source": [
    "['__doc__',\n",
    " '__loader__',\n",
    " '__name__',\n",
    " '__package__',\n",
    " '__spec__',\n",
    " 'acos',\n",
    " 'acosh',\n",
    " 'asin',\n",
    " 'asinh',\n",
    " 'atan',\n",
    " 'atan2',\n",
    " 'atanh',\n",
    " 'ceil',\n",
    " 'comb',\n",
    " 'copysign',\n",
    " 'cos',\n",
    " 'cosh',\n",
    " 'degrees',\n",
    " 'dist',\n",
    " 'e',\n",
    " 'erf',\n",
    " 'erfc',\n",
    " 'exp',\n",
    " 'expm1',\n",
    " 'fabs',\n",
    " 'factorial',\n",
    " 'floor',\n",
    " 'fmod',\n",
    " 'frexp',\n",
    " 'fsum',\n",
    " 'gamma',\n",
    " 'gcd',\n",
    " 'hypot',\n",
    " 'inf',\n",
    " 'isclose',\n",
    " 'isfinite',\n",
    " 'isinf',\n",
    " 'isnan',\n",
    " 'isqrt',\n",
    " 'lcm',\n",
    " 'ldexp',\n",
    " 'lgamma',\n",
    " 'log',\n",
    " 'log10',\n",
    " 'log1p',\n",
    " 'log2',\n",
    " 'modf',\n",
    " 'nan',\n",
    " 'nextafter',\n",
    " 'perm',\n",
    " 'pi',\n",
    " 'pow',\n",
    " 'prod',\n",
    " 'radians',\n",
    " 'remainder',\n",
    " 'sin',\n",
    " 'sinh',\n",
    " 'sqrt',\n",
    " 'tan',\n",
    " 'tanh',\n",
    " 'tau',\n",
    " 'trunc',\n",
    " 'ulp']"
   ]
  },
  {
   "cell_type": "code",
   "execution_count": null,
   "id": "3a090939",
   "metadata": {},
   "outputs": [],
   "source": [
    "import math"
   ]
  },
  {
   "cell_type": "code",
   "execution_count": null,
   "id": "a590c8c0",
   "metadata": {},
   "outputs": [],
   "source": [
    "math.sinh(5)"
   ]
  },
  {
   "cell_type": "code",
   "execution_count": null,
   "id": "c93ee815",
   "metadata": {},
   "outputs": [],
   "source": [
    "e=2.7182818284\n",
    "def sinh(x,/):\n",
    "    \"\"\"Return the hyperbolic sine of x.\"\"\"\n",
    "    x = (e**x - e**(-x))/2\n",
    "    return x "
   ]
  },
  {
   "cell_type": "code",
   "execution_count": null,
   "id": "0b5627b2",
   "metadata": {},
   "outputs": [],
   "source": [
    "e=2.7182818284\n",
    "def cosh(x,/):\n",
    "    \"\"\"Return the hyperbolic sine of x.\"\"\"\n",
    "    x = (e**x + e**(-x))/2\n",
    "    return x "
   ]
  },
  {
   "cell_type": "code",
   "execution_count": null,
   "id": "5c34d667",
   "metadata": {},
   "outputs": [],
   "source": [
    "def tanh(x,/):\n",
    "    x = (e**x - e**(-x)) / (e**x + e**(-x))\n",
    "    return x "
   ]
  },
  {
   "cell_type": "code",
   "execution_count": null,
   "id": "69b70a9d",
   "metadata": {},
   "outputs": [],
   "source": [
    "def coth(x,/):\n",
    "    x = (e**x + e**(-x)) / (e**x - e**(-x))\n",
    "    return x \n",
    "    "
   ]
  },
  {
   "cell_type": "code",
   "execution_count": null,
   "id": "692c9c46",
   "metadata": {},
   "outputs": [],
   "source": [
    "def sech(x,/):\n",
    "    x = 2/ (e**x + e**(-x)) # 1/ ((e**x + e**(-x))/2)\n",
    "    return x \n",
    "        "
   ]
  },
  {
   "cell_type": "code",
   "execution_count": null,
   "id": "fe9fa465",
   "metadata": {},
   "outputs": [],
   "source": [
    "def csch(x,/):\n",
    "    if ( x != 0):\n",
    "        \n",
    "        x = 1 / ((e**x - e**(-x))/2)\n",
    "        return x \n",
    "    else:\n",
    "        print(\"Domain error\")"
   ]
  },
  {
   "cell_type": "markdown",
   "id": "eb74fd6c",
   "metadata": {},
   "source": [
    "csch(0)"
   ]
  },
  {
   "cell_type": "markdown",
   "id": "a5828412",
   "metadata": {},
   "source": [
    "`Number-theory and representation function`\n",
    "\n",
    "- pep 485\n",
    "\n",
    "`Power and logarithmic function`\n",
    "\n",
    "`Trigonometric function`\n",
    "\n",
    "`Angular conversion`\n",
    " \n",
    " `Hyperbolic function`\n",
    " \n",
    " `Special function`\n",
    " \n",
    " `Constant`\n",
    " \n"
   ]
  },
  {
   "cell_type": "code",
   "execution_count": null,
   "id": "4755fabb",
   "metadata": {},
   "outputs": [],
   "source": [
    "import math"
   ]
  },
  {
   "cell_type": "markdown",
   "id": "6af0f37c",
   "metadata": {},
   "source": [
    "`acos`\n",
    "\n",
    "`asin`\n",
    "\n",
    "`atan`\n",
    "\n",
    "`log`\n",
    "\n",
    "`log10`\n",
    "\n",
    "`log1p`\n",
    "\n",
    "`log2`\n",
    "\n",
    "`sin`\n",
    "\n",
    "`cos`\n",
    "\n",
    "`tan`"
   ]
  },
  {
   "cell_type": "code",
   "execution_count": 10,
   "id": "209e5e1d",
   "metadata": {
    "scrolled": true
   },
   "outputs": [
    {
     "name": "stdout",
     "output_type": "stream",
     "text": [
      "Enter the value of x in degrees:12\n",
      "Enter the number of terms:10\n",
      "0.21\n"
     ]
    }
   ],
   "source": [
    "import math\n",
    "def sin(x,n):\n",
    "    sine = 0\n",
    "    for i in range(n):\n",
    "        sign = (-1)**i\n",
    "        pi=22/7\n",
    "        y=x*(pi/180)\n",
    "        sine = sine + ((y**(2.0*i+1))/math.factorial(2*i+1))*sign\n",
    "    return sine\n",
    "x=int(input(\"Enter the value of x in degrees:\"))\n",
    "n=int(input(\"Enter the number of terms:\"))\n",
    "print(round(sin(x,n),2))"
   ]
  },
  {
   "cell_type": "code",
   "execution_count": 1,
   "id": "7dc9cfdd",
   "metadata": {},
   "outputs": [],
   "source": [
    "import math\n",
    "def sin(x, /):\n",
    "    sine =0\n",
    "    n = 10\n",
    "    for i in range(n):\n",
    "        sign = (-1)**i\n",
    "        pi = 3.14159\n",
    "        y = x*(pi/180)\n",
    "        sine =  sine + ((y**(2.0*i+1))/ math.factorial(2*i+1))*sign\n",
    "    return sine"
   ]
  },
  {
   "cell_type": "code",
   "execution_count": null,
   "id": "5f968a85",
   "metadata": {},
   "outputs": [],
   "source": [
    "sin(91)"
   ]
  },
  {
   "cell_type": "code",
   "execution_count": null,
   "id": "6c0e00d3",
   "metadata": {},
   "outputs": [],
   "source": [
    "x = float(input(\"Enter a value for x in degrees.\"))\n",
    "x = (x*3.14)/180\n",
    "num_of_terms = 0\n",
    "y = 0\n",
    "z = 1\n",
    "cosx = ((-1)**(z-1)) * ((x**z)/(y))"
   ]
  },
  {
   "cell_type": "code",
   "execution_count": 7,
   "id": "64c701e0",
   "metadata": {
    "scrolled": true
   },
   "outputs": [
    {
     "name": "stdout",
     "output_type": "stream",
     "text": [
      "Enter a value for x in degrees.75\n",
      "0.3558232868406213\n"
     ]
    }
   ],
   "source": [
    "x = float(input(\"Enter a value for x in degrees.\"))\n",
    "x = (x*3.14159)/180\n",
    "num_of_terms = 0\n",
    "num = 1.0 ##numerator\n",
    "y = 1.0\n",
    "cosx = 1.0\n",
    "\n",
    "while num_of_terms<1:\n",
    "    num_of_terms+=1\n",
    "    cosx = (num/y)\n",
    "    while num_of_terms>=1 and num_of_terms<=20:\n",
    "        num_of_terms+=1\n",
    "        num = num*(x*x)\n",
    "        y = y*num_of_terms*(num_of_terms-1)\n",
    "        if num_of_terms%2==0:\n",
    "            cosx = cosx+(-num/y)\n",
    "        else:\n",
    "            cosx = cosx+(num/y)\n",
    "    print(cosx)"
   ]
  },
  {
   "cell_type": "code",
   "execution_count": null,
   "id": "7d30e4ad",
   "metadata": {},
   "outputs": [],
   "source": []
  },
  {
   "cell_type": "code",
   "execution_count": 11,
   "id": "2ecc470a",
   "metadata": {},
   "outputs": [],
   "source": [
    "import math\n",
    "def cos(x):  \n",
    "\ttp = 1.0 / (2.0 * 3.14159)\n",
    "\tx *= tp\n",
    "\tx -= 0.25 + math.floor(x+0.25)\n",
    "\tx *= 16.0 * (abs(x) - 0.5)\n",
    "\tx += 0.225 * x * (abs(x) - 1.0) #Extra precision\n",
    "\treturn x\n"
   ]
  },
  {
   "cell_type": "code",
   "execution_count": 12,
   "id": "58b1f46c",
   "metadata": {},
   "outputs": [
    {
     "data": {
      "text/plain": [
       "0.9222220149700635"
      ]
     },
     "execution_count": 12,
     "metadata": {},
     "output_type": "execute_result"
    }
   ],
   "source": [
    "cos(75)"
   ]
  },
  {
   "cell_type": "code",
   "execution_count": 1,
   "id": "dd1cb978",
   "metadata": {},
   "outputs": [],
   "source": [
    "def my_log(x,/):\n",
    "    count = -1\n",
    "    base =10\n",
    "\n",
    "    while x > 0:\n",
    "        x /= base\n",
    "        count += 1\n",
    "        if x == 0:\n",
    "            return count"
   ]
  },
  {
   "cell_type": "code",
   "execution_count": 2,
   "id": "59fb77cc",
   "metadata": {},
   "outputs": [
    {
     "data": {
      "text/plain": [
       "324"
      ]
     },
     "execution_count": 2,
     "metadata": {},
     "output_type": "execute_result"
    }
   ],
   "source": [
    "my_log(10)"
   ]
  },
  {
   "cell_type": "code",
   "execution_count": 1,
   "id": "98ccee97",
   "metadata": {},
   "outputs": [],
   "source": [
    "def log(x,base):\n",
    "    result = ln(x)/ln(base)\n",
    "    return result\n",
    "def ln(x):\n",
    "    val = x\n",
    "    return 99999999*(x**(1/99999999)-1)"
   ]
  },
  {
   "cell_type": "code",
   "execution_count": 5,
   "id": "1aaf24e9",
   "metadata": {
    "scrolled": true
   },
   "outputs": [
    {
     "data": {
      "text/plain": [
       "93.31939774742366"
      ]
     },
     "execution_count": 5,
     "metadata": {},
     "output_type": "execute_result"
    }
   ],
   "source": [
    "log(2**310,10)"
   ]
  },
  {
   "cell_type": "code",
   "execution_count": 6,
   "id": "529b1459",
   "metadata": {},
   "outputs": [],
   "source": [
    "import math "
   ]
  },
  {
   "cell_type": "code",
   "execution_count": 8,
   "id": "dee38903",
   "metadata": {},
   "outputs": [
    {
     "data": {
      "text/plain": [
       "214.87562597358306"
      ]
     },
     "execution_count": 8,
     "metadata": {},
     "output_type": "execute_result"
    }
   ],
   "source": [
    "math.log(2**310)"
   ]
  },
  {
   "cell_type": "code",
   "execution_count": null,
   "id": "2a308347",
   "metadata": {},
   "outputs": [],
   "source": [
    "import math"
   ]
  },
  {
   "cell_type": "code",
   "execution_count": null,
   "id": "bb977924",
   "metadata": {},
   "outputs": [],
   "source": [
    "math.log10(50)"
   ]
  },
  {
   "cell_type": "code",
   "execution_count": null,
   "id": "286f84c7",
   "metadata": {},
   "outputs": [],
   "source": [
    "def perform(fun, *args):\n",
    "    fun(*args)\n",
    "\n",
    "def action1(args):\n",
    "    # something\n",
    "\n",
    "def action2(args):\n",
    "    #something\n",
    "\n",
    "perform(action1)\n",
    "perform(action2, p)\n",
    "perform(action3, p, r)"
   ]
  },
  {
   "cell_type": "code",
   "execution_count": 6,
   "id": "f29635b3",
   "metadata": {},
   "outputs": [
    {
     "name": "stdout",
     "output_type": "stream",
     "text": [
      "Enter the value of x in degrees:12\n",
      "Enter the number of terms:10\n",
      "0.9781\n"
     ]
    }
   ],
   "source": [
    "import math\n",
    "def cosine(x,n):\n",
    "    cosx = 1\n",
    "    sign = -1\n",
    "    for i in range(2, n, 2):\n",
    "        pi=22/7\n",
    "        y=x*(pi/180)\n",
    "        cosx = cosx + (sign*(y**i))/math.factorial(i)\n",
    "        sign = -sign\n",
    "    return cosx\n",
    "x=int(input(\"Enter the value of x in degrees:\"))\n",
    "n=int(input(\"Enter the number of terms:\"))\n",
    "print(round(cosine(x,n),4))"
   ]
  },
  {
   "cell_type": "code",
   "execution_count": 4,
   "id": "7e1b4925",
   "metadata": {
    "scrolled": false
   },
   "outputs": [
    {
     "name": "stdout",
     "output_type": "stream",
     "text": [
      "Enter the value of x in degrees:75\n",
      "Enter the number of terms:10\n",
      "0.2583\n"
     ]
    }
   ],
   "source": [
    "import math\n",
    "def tan(x,n):\n",
    "    tan =  cosine(x,10) / sin(x)\n",
    "    return tan\n",
    "x=int(input(\"Enter the value of x in degrees:\"))\n",
    "n=int(input(\"Enter the number of terms:\"))\n",
    "print(round(cosine(x,n),4))"
   ]
  },
  {
   "cell_type": "code",
   "execution_count": 14,
   "id": "4a9f8b56",
   "metadata": {},
   "outputs": [
    {
     "data": {
      "text/plain": [
       "214875625.97358304"
      ]
     },
     "execution_count": 14,
     "metadata": {},
     "output_type": "execute_result"
    }
   ],
   "source": [
    "math.log(pow(2,310000000))"
   ]
  },
  {
   "cell_type": "code",
   "execution_count": 16,
   "id": "366efbc5",
   "metadata": {},
   "outputs": [
    {
     "data": {
      "text/plain": [
       "214875625.97358304"
      ]
     },
     "execution_count": 16,
     "metadata": {},
     "output_type": "execute_result"
    }
   ],
   "source": [
    "math.log(2**310000000)"
   ]
  },
  {
   "cell_type": "code",
   "execution_count": 23,
   "id": "cc4eee1c",
   "metadata": {},
   "outputs": [],
   "source": [
    "import mpmath "
   ]
  },
  {
   "cell_type": "code",
   "execution_count": 26,
   "id": "54bd0706",
   "metadata": {},
   "outputs": [
    {
     "data": {
      "text/plain": [
       "mpf('nan')"
      ]
     },
     "execution_count": 26,
     "metadata": {},
     "output_type": "execute_result"
    }
   ],
   "source": [
    "mpmath.sin(math.inf)"
   ]
  },
  {
   "cell_type": "code",
   "execution_count": 27,
   "id": "a11780d6",
   "metadata": {},
   "outputs": [
    {
     "data": {
      "text/plain": [
       "nan"
      ]
     },
     "execution_count": 27,
     "metadata": {},
     "output_type": "execute_result"
    }
   ],
   "source": [
    "trig.sin(math.inf)"
   ]
  },
  {
   "cell_type": "code",
   "execution_count": null,
   "id": "2b71ed94",
   "metadata": {},
   "outputs": [],
   "source": [
    "    >>> from riyazi import *\n",
    "    >>> sin(pi/3)\n",
    "    0.8660254037844386467637232\n",
    "    >>> sin(100000001)\n",
    "    0.1975887055794968911438743\n",
    "    >>> sin(2+3j)\n",
    "    (9.1544991469114295734673 - 4.168906959966564350754813j)\n",
    "    >>> sin(inf)"
   ]
  },
  {
   "cell_type": "code",
   "execution_count": 28,
   "id": "ff8fe3d5",
   "metadata": {
    "scrolled": true
   },
   "outputs": [
    {
     "data": {
      "text/plain": [
       "0.1975887055794969"
      ]
     },
     "execution_count": 28,
     "metadata": {},
     "output_type": "execute_result"
    }
   ],
   "source": [
    "trig.sin(100000001)"
   ]
  },
  {
   "cell_type": "markdown",
   "id": "e9f7f3d6",
   "metadata": {},
   "source": [
    "documantation \n",
    "\n",
    "1.) Working \n",
    "2.) Usages\n",
    "3.) References \n"
   ]
  },
  {
   "cell_type": "code",
   "execution_count": null,
   "id": "48cb995a",
   "metadata": {},
   "outputs": [],
   "source": []
  },
  {
   "cell_type": "code",
   "execution_count": null,
   "id": "42b4e2fc",
   "metadata": {},
   "outputs": [],
   "source": [
    "\n"
   ]
  },
  {
   "cell_type": "code",
   "execution_count": 9,
   "id": "f1ef35cc",
   "metadata": {},
   "outputs": [
    {
     "data": {
      "text/plain": [
       "6.21724893790087"
      ]
     },
     "execution_count": 9,
     "metadata": {},
     "output_type": "execute_result"
    }
   ],
   "source": []
  },
  {
   "cell_type": "code",
   "execution_count": null,
   "id": "74bfe7e8",
   "metadata": {},
   "outputs": [],
   "source": []
  },
  {
   "cell_type": "code",
   "execution_count": 21,
   "id": "1c6d1f12",
   "metadata": {},
   "outputs": [
    {
     "data": {
      "text/plain": [
       "0.9040053966237724"
      ]
     },
     "execution_count": 21,
     "metadata": {},
     "output_type": "execute_result"
    }
   ],
   "source": [
    "math.sin(pow(2,310))"
   ]
  },
  {
   "cell_type": "code",
   "execution_count": 17,
   "id": "56c586df",
   "metadata": {},
   "outputs": [],
   "source": [
    "import trig"
   ]
  },
  {
   "cell_type": "code",
   "execution_count": 22,
   "id": "035be2ae",
   "metadata": {},
   "outputs": [
    {
     "data": {
      "text/plain": [
       "0.9040053966237724"
      ]
     },
     "execution_count": 22,
     "metadata": {},
     "output_type": "execute_result"
    }
   ],
   "source": [
    "trig.sin(pow(2,310))"
   ]
  },
  {
   "cell_type": "code",
   "execution_count": null,
   "id": "fc123627",
   "metadata": {},
   "outputs": [],
   "source": [
    "math.cos()"
   ]
  },
  {
   "cell_type": "code",
   "execution_count": null,
   "id": "b071c1bd",
   "metadata": {},
   "outputs": [],
   "source": []
  },
  {
   "cell_type": "code",
   "execution_count": null,
   "id": "c29b3838",
   "metadata": {},
   "outputs": [],
   "source": []
  },
  {
   "cell_type": "code",
   "execution_count": null,
   "id": "7d2dd6ed",
   "metadata": {},
   "outputs": [],
   "source": []
  },
  {
   "cell_type": "code",
   "execution_count": null,
   "id": "0bf6f935",
   "metadata": {},
   "outputs": [],
   "source": []
  },
  {
   "cell_type": "code",
   "execution_count": null,
   "id": "25614509",
   "metadata": {},
   "outputs": [],
   "source": []
  },
  {
   "cell_type": "code",
   "execution_count": null,
   "id": "9adb7978",
   "metadata": {},
   "outputs": [],
   "source": []
  },
  {
   "cell_type": "code",
   "execution_count": null,
   "id": "69b69fc1",
   "metadata": {
    "scrolled": true
   },
   "outputs": [],
   "source": [
    "math.asin(0.3)"
   ]
  },
  {
   "cell_type": "code",
   "execution_count": null,
   "id": "2d1ff162",
   "metadata": {},
   "outputs": [],
   "source": [
    "import math \n",
    "def asin(x,/):\n",
    "    x = (x)*(math.pi/180)\n",
    "    return x"
   ]
  },
  {
   "cell_type": "code",
   "execution_count": null,
   "id": "eafc5bd9",
   "metadata": {},
   "outputs": [],
   "source": [
    "asin(0.3)"
   ]
  },
  {
   "cell_type": "code",
   "execution_count": null,
   "id": "1968f547",
   "metadata": {},
   "outputs": [],
   "source": []
  },
  {
   "cell_type": "code",
   "execution_count": null,
   "id": "19beeba8",
   "metadata": {},
   "outputs": [],
   "source": [
    "def acos(x, /):\n",
    "    if (x == 0):\n",
    "        x = 1.5707963267948966\n",
    "        return x \n",
    "    elif(x == -1):\n",
    "        x = 3.141592653589793\n",
    "        return x\n",
    "    elif (x == 1):\n",
    "        x = 0.0\n",
    "        return x \n",
    "    else:\n",
    "        print(\"math domain error\")"
   ]
  },
  {
   "cell_type": "code",
   "execution_count": null,
   "id": "c2552397",
   "metadata": {
    "scrolled": true
   },
   "outputs": [],
   "source": [
    "math.asin(0.4)"
   ]
  },
  {
   "cell_type": "code",
   "execution_count": null,
   "id": "7b5a316d",
   "metadata": {},
   "outputs": [],
   "source": [
    "def asin(x, /):\n",
    "    if (x == 0):\n",
    "        x = 0.0\n",
    "        return x \n",
    "    elif (x == 1):\n",
    "        x = 1.5707963267948966\n",
    "        return x\n",
    "    elif(x == -1):\n",
    "        x = -1.5707963267948966\n",
    "        return x\n",
    "    else:\n",
    "        print(\"math domain error\")"
   ]
  },
  {
   "cell_type": "code",
   "execution_count": null,
   "id": "d850f88f",
   "metadata": {},
   "outputs": [],
   "source": [
    "def asin(x, /):\n",
    "    if (x == 0):\n",
    "        x = 0.0\n",
    "        return x \n",
    "    elif (x <= 1):\n",
    "        x = 1.5707963267948966 *x\n",
    "        return x\n",
    "    elif(x == -1):\n",
    "        x = -1.5707963267948966\n",
    "        return x\n",
    "    else:\n",
    "        print(\"math domain error\")"
   ]
  },
  {
   "cell_type": "code",
   "execution_count": null,
   "id": "ec0a3166",
   "metadata": {},
   "outputs": [],
   "source": [
    "asin(0.2)"
   ]
  },
  {
   "cell_type": "code",
   "execution_count": null,
   "id": "090f843d",
   "metadata": {},
   "outputs": [],
   "source": []
  },
  {
   "cell_type": "code",
   "execution_count": null,
   "id": "737b0e1b",
   "metadata": {},
   "outputs": [],
   "source": []
  },
  {
   "cell_type": "code",
   "execution_count": null,
   "id": "76bbb848",
   "metadata": {},
   "outputs": [],
   "source": [
    "math.atan(2)"
   ]
  },
  {
   "cell_type": "code",
   "execution_count": null,
   "id": "51c58799",
   "metadata": {},
   "outputs": [],
   "source": [
    "def atan(x, /):\n",
    "    if (x == 0):\n",
    "        x = 0.0\n",
    "        return x \n",
    "    elif(x == -1):\n",
    "        x = -1.5707963267948966\n",
    "        return x\n",
    "    elif (x == 1):\n",
    "        x = 0.7853981633974483\n",
    "        return x \n",
    "    else:\n",
    "        print(\"math domain error\")"
   ]
  },
  {
   "cell_type": "code",
   "execution_count": null,
   "id": "feac6f80",
   "metadata": {},
   "outputs": [],
   "source": [
    "0.7853981633974483 *2"
   ]
  },
  {
   "cell_type": "code",
   "execution_count": null,
   "id": "3739cb52",
   "metadata": {},
   "outputs": [],
   "source": [
    "import math \n",
    "math.sin(90)"
   ]
  },
  {
   "cell_type": "code",
   "execution_count": null,
   "id": "7c9bc0c5",
   "metadata": {},
   "outputs": [],
   "source": [
    "math.tan(6)"
   ]
  },
  {
   "cell_type": "code",
   "execution_count": null,
   "id": "54421fcf",
   "metadata": {},
   "outputs": [],
   "source": [
    "math.cos(8)"
   ]
  },
  {
   "cell_type": "code",
   "execution_count": null,
   "id": "1c256926",
   "metadata": {},
   "outputs": [],
   "source": [
    "pi = 3.14\n",
    "def sin(d, r=None ,/):\n",
    "    \"\"\"\n",
    "    Return the sine of x radians. \n",
    "    d -> degree\n",
    "    r -> radian\n",
    "    \"\"\"\n",
    "    x = (d*pi)/180\n",
    "    return x "
   ]
  },
  {
   "cell_type": "code",
   "execution_count": null,
   "id": "977cc121",
   "metadata": {},
   "outputs": [],
   "source": [
    "sin(90)"
   ]
  },
  {
   "cell_type": "code",
   "execution_count": 1,
   "id": "0ffd9cb2",
   "metadata": {},
   "outputs": [],
   "source": [
    "\n",
    "def sin(x):\n",
    "    e = 2.718281\n",
    "    x = complex(x)\n",
    "    x = (e**(x) - (e**(-x))) /2\n",
    "    return x"
   ]
  },
  {
   "cell_type": "code",
   "execution_count": 2,
   "id": "c2b58f48",
   "metadata": {},
   "outputs": [
    {
     "data": {
      "text/plain": [
       "(74.20309749189573+0j)"
      ]
     },
     "execution_count": 2,
     "metadata": {},
     "output_type": "execute_result"
    }
   ],
   "source": [
    "sin(5)"
   ]
  },
  {
   "cell_type": "code",
   "execution_count": 15,
   "id": "f2271c85",
   "metadata": {},
   "outputs": [],
   "source": [
    "x = complex(3)"
   ]
  },
  {
   "cell_type": "code",
   "execution_count": null,
   "id": "39d45980",
   "metadata": {},
   "outputs": [],
   "source": []
  },
  {
   "cell_type": "code",
   "execution_count": 16,
   "id": "8ca1a16a",
   "metadata": {},
   "outputs": [
    {
     "data": {
      "text/plain": [
       "19.085536923187668"
      ]
     },
     "execution_count": 16,
     "metadata": {},
     "output_type": "execute_result"
    }
   ],
   "source": [
    "math.expm1(3)"
   ]
  },
  {
   "cell_type": "code",
   "execution_count": 17,
   "id": "81cad476",
   "metadata": {},
   "outputs": [],
   "source": [
    "e=2.7182818284\n",
    "def ex(x,/):\n",
    "    x = e**x\n",
    "    return x\n",
    "\n",
    "def expm1(x,/):\n",
    "    \"\"\"Return exp(x)-1.\"\"\"\n",
    "    x = ex(x)-1\n",
    "    return x "
   ]
  },
  {
   "cell_type": "code",
   "execution_count": 18,
   "id": "13fef23b",
   "metadata": {},
   "outputs": [
    {
     "data": {
      "text/plain": [
       "19.0855369218788"
      ]
     },
     "execution_count": 18,
     "metadata": {},
     "output_type": "execute_result"
    }
   ],
   "source": [
    "expm1(3)"
   ]
  },
  {
   "cell_type": "code",
   "execution_count": 19,
   "id": "1eca1fc8",
   "metadata": {},
   "outputs": [
    {
     "data": {
      "text/plain": [
       "6.0"
      ]
     },
     "execution_count": 19,
     "metadata": {},
     "output_type": "execute_result"
    }
   ],
   "source": [
    "math.gamma(4)"
   ]
  },
  {
   "cell_type": "code",
   "execution_count": 20,
   "id": "3e4e1f10",
   "metadata": {},
   "outputs": [
    {
     "data": {
      "text/plain": [
       "320.0"
      ]
     },
     "execution_count": 20,
     "metadata": {},
     "output_type": "execute_result"
    }
   ],
   "source": [
    "math.ldexp(5,6)"
   ]
  },
  {
   "cell_type": "code",
   "execution_count": 21,
   "id": "89f5e1c3",
   "metadata": {},
   "outputs": [],
   "source": [
    "def ldexp(x,i,/):\n",
    "    \n",
    "    x =float (x*(2**i))\n",
    "    return x \n",
    "    "
   ]
  },
  {
   "cell_type": "code",
   "execution_count": 22,
   "id": "87e0d206",
   "metadata": {},
   "outputs": [
    {
     "data": {
      "text/plain": [
       "320.0"
      ]
     },
     "execution_count": 22,
     "metadata": {},
     "output_type": "execute_result"
    }
   ],
   "source": [
    "ldexp(5,6)"
   ]
  },
  {
   "cell_type": "code",
   "execution_count": 23,
   "id": "20fbb628",
   "metadata": {},
   "outputs": [],
   "source": [
    "import math"
   ]
  },
  {
   "cell_type": "code",
   "execution_count": 24,
   "id": "246b2974",
   "metadata": {},
   "outputs": [
    {
     "data": {
      "text/plain": [
       "1.0"
      ]
     },
     "execution_count": 24,
     "metadata": {},
     "output_type": "execute_result"
    }
   ],
   "source": [
    "math.remainder(6,5)"
   ]
  },
  {
   "cell_type": "code",
   "execution_count": 25,
   "id": "aa148e1c",
   "metadata": {},
   "outputs": [
    {
     "data": {
      "text/plain": [
       "-1.0"
      ]
     },
     "execution_count": 25,
     "metadata": {},
     "output_type": "execute_result"
    }
   ],
   "source": [
    "math.remainder(43,4)"
   ]
  },
  {
   "cell_type": "code",
   "execution_count": 26,
   "id": "022443a8",
   "metadata": {},
   "outputs": [],
   "source": [
    "def remainder(x,y,/):\n",
    "    \"\"\"\n",
    "    positive is your remainder\n",
    "    negative is your need if you want to x multiple of y.\n",
    "    Difference between x and the closest integer multiple of y.\n",
    "    \"\"\"\n",
    "    r = x%y\n",
    "    c = int (-1 * (y/r))\n",
    "    print(\"(remainder, Difference closest integer multiply of y.)\")\n",
    "    return r,c"
   ]
  },
  {
   "cell_type": "code",
   "execution_count": 27,
   "id": "efa4fe26",
   "metadata": {},
   "outputs": [
    {
     "name": "stdout",
     "output_type": "stream",
     "text": [
      "(remainder, Difference closest integer multiply of y.)\n"
     ]
    },
    {
     "data": {
      "text/plain": [
       "(2, -2)"
      ]
     },
     "execution_count": 27,
     "metadata": {},
     "output_type": "execute_result"
    }
   ],
   "source": [
    "remainder(42,4)"
   ]
  },
  {
   "cell_type": "code",
   "execution_count": 28,
   "id": "e35132e2",
   "metadata": {},
   "outputs": [
    {
     "data": {
      "text/plain": [
       "10.75"
      ]
     },
     "execution_count": 28,
     "metadata": {},
     "output_type": "execute_result"
    }
   ],
   "source": [
    "43/4"
   ]
  },
  {
   "cell_type": "code",
   "execution_count": 29,
   "id": "201806ab",
   "metadata": {},
   "outputs": [
    {
     "data": {
      "text/plain": [
       "0.9999779095030014"
      ]
     },
     "execution_count": 29,
     "metadata": {},
     "output_type": "execute_result"
    }
   ],
   "source": [
    "math.erf(3)"
   ]
  },
  {
   "cell_type": "code",
   "execution_count": 30,
   "id": "fee7561f",
   "metadata": {},
   "outputs": [
    {
     "data": {
      "text/plain": [
       "1.5533430342749532"
      ]
     },
     "execution_count": 30,
     "metadata": {},
     "output_type": "execute_result"
    }
   ],
   "source": [
    "import math\n",
    "math.radians(89)"
   ]
  },
  {
   "cell_type": "code",
   "execution_count": 31,
   "id": "95e7aa7f",
   "metadata": {},
   "outputs": [],
   "source": [
    "\n",
    "def radians(x,/):\n",
    "    \"\"\"Convert angle x from degrees to radians.\"\"\"\n",
    "    r= 0.017453292519943295\n",
    "    r = x*r\n",
    "    return r"
   ]
  },
  {
   "cell_type": "code",
   "execution_count": 32,
   "id": "5f73a3df",
   "metadata": {},
   "outputs": [
    {
     "data": {
      "text/plain": [
       "1.5533430342749532"
      ]
     },
     "execution_count": 32,
     "metadata": {},
     "output_type": "execute_result"
    }
   ],
   "source": [
    "radians(89)"
   ]
  },
  {
   "cell_type": "code",
   "execution_count": 33,
   "id": "61bae8ab",
   "metadata": {},
   "outputs": [],
   "source": [
    "import math"
   ]
  },
  {
   "cell_type": "code",
   "execution_count": 34,
   "id": "45b2715b",
   "metadata": {},
   "outputs": [
    {
     "data": {
      "text/plain": [
       "(0.5, 1.0)"
      ]
     },
     "execution_count": 34,
     "metadata": {},
     "output_type": "execute_result"
    }
   ],
   "source": [
    "math.modf(1.5)"
   ]
  },
  {
   "cell_type": "code",
   "execution_count": 35,
   "id": "045db905",
   "metadata": {},
   "outputs": [],
   "source": [
    "def modf(x,/):\n",
    "    a = int(x)\n",
    "    x = float(a)\n",
    "    y = float(x)\n",
    "    return x,y"
   ]
  },
  {
   "cell_type": "code",
   "execution_count": 36,
   "id": "10e245b9",
   "metadata": {},
   "outputs": [
    {
     "data": {
      "text/plain": [
       "(1.0, 1.0)"
      ]
     },
     "execution_count": 36,
     "metadata": {},
     "output_type": "execute_result"
    }
   ],
   "source": [
    "modf(1.5)"
   ]
  },
  {
   "cell_type": "code",
   "execution_count": 37,
   "id": "4677ee39",
   "metadata": {},
   "outputs": [],
   "source": [
    "def modf(x):\n",
    "    a = int(x)\n",
    "    b = (x%a)\n",
    "    x = float(a)\n",
    "    decimal_places='%.1f'\n",
    "    b = float(decimal_places %b)\n",
    "    return  b, x"
   ]
  },
  {
   "cell_type": "code",
   "execution_count": null,
   "id": "dedcc926",
   "metadata": {},
   "outputs": [],
   "source": []
  },
  {
   "cell_type": "code",
   "execution_count": 38,
   "id": "54bb893b",
   "metadata": {
    "scrolled": true
   },
   "outputs": [
    {
     "data": {
      "text/plain": [
       "(0.9, 7.0)"
      ]
     },
     "execution_count": 38,
     "metadata": {},
     "output_type": "execute_result"
    }
   ],
   "source": [
    "modf(7.9)"
   ]
  },
  {
   "cell_type": "code",
   "execution_count": 39,
   "id": "c2b16487",
   "metadata": {},
   "outputs": [],
   "source": [
    "import math"
   ]
  },
  {
   "cell_type": "code",
   "execution_count": 40,
   "id": "034caf8b",
   "metadata": {},
   "outputs": [
    {
     "data": {
      "text/plain": [
       "1948.056503444799"
      ]
     },
     "execution_count": 40,
     "metadata": {},
     "output_type": "execute_result"
    }
   ],
   "source": [
    "math.degrees(34)"
   ]
  },
  {
   "cell_type": "code",
   "execution_count": 41,
   "id": "535d79d7",
   "metadata": {},
   "outputs": [],
   "source": [
    "def degress(x,/):\n",
    "    \"\"\"Convert angle x from radians to degrees.\"\"\"\n",
    "    dv = 57.29577951308232\n",
    "    deg = x*dv\n",
    "    return deg"
   ]
  },
  {
   "cell_type": "code",
   "execution_count": 42,
   "id": "c3e32e85",
   "metadata": {},
   "outputs": [
    {
     "data": {
      "text/plain": [
       "1948.056503444799"
      ]
     },
     "execution_count": 42,
     "metadata": {},
     "output_type": "execute_result"
    }
   ],
   "source": [
    "degress(34)"
   ]
  },
  {
   "cell_type": "code",
   "execution_count": 43,
   "id": "b67ab8f4",
   "metadata": {},
   "outputs": [
    {
     "data": {
      "text/plain": [
       "4.47213595499958"
      ]
     },
     "execution_count": 43,
     "metadata": {},
     "output_type": "execute_result"
    }
   ],
   "source": [
    "math.dist([5,6],[9,8])"
   ]
  },
  {
   "cell_type": "code",
   "execution_count": null,
   "id": "2703507a",
   "metadata": {},
   "outputs": [],
   "source": []
  },
  {
   "cell_type": "code",
   "execution_count": 44,
   "id": "4f580faf",
   "metadata": {},
   "outputs": [
    {
     "ename": "NameError",
     "evalue": "name 'sqrt' is not defined",
     "output_type": "error",
     "traceback": [
      "\u001b[1;31m---------------------------------------------------------------------------\u001b[0m",
      "\u001b[1;31mNameError\u001b[0m                                 Traceback (most recent call last)",
      "Input \u001b[1;32mIn [44]\u001b[0m, in \u001b[0;36m<cell line: 1>\u001b[1;34m()\u001b[0m\n\u001b[1;32m----> 1\u001b[0m \u001b[43msqrt\u001b[49m(\u001b[38;5;241m-\u001b[39m\u001b[38;5;241m3\u001b[39m)\n",
      "\u001b[1;31mNameError\u001b[0m: name 'sqrt' is not defined"
     ]
    }
   ],
   "source": [
    "sqrt(-3)"
   ]
  },
  {
   "cell_type": "code",
   "execution_count": null,
   "id": "a428b1fe",
   "metadata": {},
   "outputs": [],
   "source": [
    "type(sqrt(-4))"
   ]
  },
  {
   "cell_type": "code",
   "execution_count": null,
   "id": "7add71ab",
   "metadata": {},
   "outputs": [],
   "source": [
    "type(sqrt(4))"
   ]
  },
  {
   "cell_type": "code",
   "execution_count": null,
   "id": "83171b59",
   "metadata": {},
   "outputs": [],
   "source": [
    "math.floor(100.5)"
   ]
  },
  {
   "cell_type": "code",
   "execution_count": null,
   "id": "353668a1",
   "metadata": {},
   "outputs": [],
   "source": [
    "def floor(x,/):\n",
    "    \"\"\"\n",
    "    Return the floor of x as an Integral.\n",
    "\n",
    "    \"\"\"\n",
    "    x = int(x)\n",
    "    return x"
   ]
  },
  {
   "cell_type": "code",
   "execution_count": 45,
   "id": "9290e53d",
   "metadata": {},
   "outputs": [
    {
     "ename": "NameError",
     "evalue": "name 'floor' is not defined",
     "output_type": "error",
     "traceback": [
      "\u001b[1;31m---------------------------------------------------------------------------\u001b[0m",
      "\u001b[1;31mNameError\u001b[0m                                 Traceback (most recent call last)",
      "Input \u001b[1;32mIn [45]\u001b[0m, in \u001b[0;36m<cell line: 1>\u001b[1;34m()\u001b[0m\n\u001b[1;32m----> 1\u001b[0m \u001b[43mfloor\u001b[49m(\u001b[38;5;241m22\u001b[39m)\n",
      "\u001b[1;31mNameError\u001b[0m: name 'floor' is not defined"
     ]
    }
   ],
   "source": [
    "floor(22)"
   ]
  },
  {
   "cell_type": "code",
   "execution_count": 46,
   "id": "f5a80c3e",
   "metadata": {},
   "outputs": [
    {
     "data": {
      "text/plain": [
       "5"
      ]
     },
     "execution_count": 46,
     "metadata": {},
     "output_type": "execute_result"
    }
   ],
   "source": [
    "math.ceil(5.)"
   ]
  },
  {
   "cell_type": "code",
   "execution_count": 47,
   "id": "cbee2ab0",
   "metadata": {},
   "outputs": [],
   "source": [
    "def ceil(x,/):\n",
    "    \"\"\"\n",
    "    Return the ceiling of x as an Integral.\n",
    "    \"\"\"\n",
    "    if (int == type(x)):\n",
    "        x=x\n",
    "        return x \n",
    "    elif (float == type(x)):\n",
    "        x = int(x)\n",
    "        return (x+1)"
   ]
  },
  {
   "cell_type": "code",
   "execution_count": 48,
   "id": "7ce54a55",
   "metadata": {},
   "outputs": [
    {
     "data": {
      "text/plain": [
       "6"
      ]
     },
     "execution_count": 48,
     "metadata": {},
     "output_type": "execute_result"
    }
   ],
   "source": [
    "ceil(5.)"
   ]
  },
  {
   "cell_type": "code",
   "execution_count": 49,
   "id": "2a137f27",
   "metadata": {},
   "outputs": [
    {
     "data": {
      "text/plain": [
       "5"
      ]
     },
     "execution_count": 49,
     "metadata": {},
     "output_type": "execute_result"
    }
   ],
   "source": [
    "math.comb(5,4)"
   ]
  },
  {
   "cell_type": "code",
   "execution_count": 50,
   "id": "3c9c8226",
   "metadata": {},
   "outputs": [
    {
     "data": {
      "text/plain": [
       "2.0"
      ]
     },
     "execution_count": 50,
     "metadata": {},
     "output_type": "execute_result"
    }
   ],
   "source": [
    "math.fmod(35,3)"
   ]
  },
  {
   "cell_type": "code",
   "execution_count": 51,
   "id": "ef660f6e",
   "metadata": {},
   "outputs": [],
   "source": [
    "def fmod(x,y,/):\n",
    "    z =float (x%y) \n",
    "    return z "
   ]
  },
  {
   "cell_type": "code",
   "execution_count": 52,
   "id": "0f682e5b",
   "metadata": {},
   "outputs": [
    {
     "data": {
      "text/plain": [
       "2.0"
      ]
     },
     "execution_count": 52,
     "metadata": {},
     "output_type": "execute_result"
    }
   ],
   "source": [
    "fmod(35,3)"
   ]
  },
  {
   "cell_type": "code",
   "execution_count": 53,
   "id": "a3f6c9f6",
   "metadata": {},
   "outputs": [
    {
     "data": {
      "text/plain": [
       "120.0"
      ]
     },
     "execution_count": 53,
     "metadata": {},
     "output_type": "execute_result"
    }
   ],
   "source": [
    "import math \n",
    "math.gamma(6)"
   ]
  },
  {
   "cell_type": "code",
   "execution_count": 54,
   "id": "61d4d969",
   "metadata": {},
   "outputs": [
    {
     "data": {
      "text/plain": [
       "0"
      ]
     },
     "execution_count": 54,
     "metadata": {},
     "output_type": "execute_result"
    }
   ],
   "source": [
    "math.gcd()"
   ]
  },
  {
   "cell_type": "code",
   "execution_count": 55,
   "id": "1d7184a6",
   "metadata": {},
   "outputs": [
    {
     "data": {
      "text/plain": [
       "0.0"
      ]
     },
     "execution_count": 55,
     "metadata": {},
     "output_type": "execute_result"
    }
   ],
   "source": [
    "math.hypot()"
   ]
  },
  {
   "cell_type": "code",
   "execution_count": 56,
   "id": "e896c31c",
   "metadata": {},
   "outputs": [
    {
     "data": {
      "text/plain": [
       "1.5314789170422551"
      ]
     },
     "execution_count": 56,
     "metadata": {},
     "output_type": "execute_result"
    }
   ],
   "source": [
    "math.log10(34)"
   ]
  },
  {
   "cell_type": "code",
   "execution_count": null,
   "id": "199b932d",
   "metadata": {},
   "outputs": [],
   "source": []
  },
  {
   "cell_type": "code",
   "execution_count": null,
   "id": "47439c59",
   "metadata": {},
   "outputs": [],
   "source": []
  },
  {
   "cell_type": "code",
   "execution_count": null,
   "id": "098e4870",
   "metadata": {},
   "outputs": [],
   "source": [
    "log10(3)"
   ]
  },
  {
   "cell_type": "code",
   "execution_count": null,
   "id": "50fafb7e",
   "metadata": {},
   "outputs": [],
   "source": [
    "math.log(7)"
   ]
  },
  {
   "cell_type": "code",
   "execution_count": null,
   "id": "fddd382e",
   "metadata": {},
   "outputs": [],
   "source": [
    " "
   ]
  },
  {
   "cell_type": "code",
   "execution_count": null,
   "id": "e20efac0",
   "metadata": {},
   "outputs": [],
   "source": [
    " "
   ]
  },
  {
   "cell_type": "code",
   "execution_count": null,
   "id": "110c4b6b",
   "metadata": {},
   "outputs": [],
   "source": []
  },
  {
   "cell_type": "code",
   "execution_count": null,
   "id": "265fcc7d",
   "metadata": {},
   "outputs": [],
   "source": []
  },
  {
   "cell_type": "code",
   "execution_count": 3,
   "id": "72b120b9",
   "metadata": {},
   "outputs": [],
   "source": [
    "def hypot(*coordinate):\n",
    "    \"\"\"hypot(*coordinates) -> value\n",
    "\n",
    "    Multidimensional Euclidean distance from the origin to a point.\n",
    "\n",
    "    Roughly equivalent to:\n",
    "    sqrt(sum(x**2 for x in coordinates))\n",
    "\n",
    "    For a two dimensional point (x, y), gives the hypotenuse\n",
    "    using the Pythagorean theorem:  sqrt(x*x + y*y).\n",
    "\n",
    "    For example, the hypotenuse of a 3/4/5 right triangle is:\n",
    "\n",
    "    >>> hypot(3.0, 4.0)\"\"\"\n",
    "    \n",
    "    return x "
   ]
  },
  {
   "cell_type": "code",
   "execution_count": 4,
   "id": "635a4c05",
   "metadata": {},
   "outputs": [
    {
     "ename": "NameError",
     "evalue": "name 'x' is not defined",
     "output_type": "error",
     "traceback": [
      "\u001b[1;31m---------------------------------------------------------------------------\u001b[0m",
      "\u001b[1;31mNameError\u001b[0m                                 Traceback (most recent call last)",
      "Input \u001b[1;32mIn [4]\u001b[0m, in \u001b[0;36m<cell line: 1>\u001b[1;34m()\u001b[0m\n\u001b[1;32m----> 1\u001b[0m \u001b[43mhypot\u001b[49m\u001b[43m(\u001b[49m\u001b[38;5;241;43m1\u001b[39;49m\u001b[43m,\u001b[49m\u001b[38;5;241;43m2\u001b[39;49m\u001b[43m,\u001b[49m\u001b[38;5;241;43m3\u001b[39;49m\u001b[43m)\u001b[49m\n",
      "Input \u001b[1;32mIn [3]\u001b[0m, in \u001b[0;36mhypot\u001b[1;34m(*coordinate)\u001b[0m\n\u001b[0;32m      1\u001b[0m \u001b[38;5;28;01mdef\u001b[39;00m \u001b[38;5;21mhypot\u001b[39m(\u001b[38;5;241m*\u001b[39mcoordinate):\n\u001b[0;32m      2\u001b[0m     \u001b[38;5;124;03m\"\"\"hypot(*coordinates) -> value\u001b[39;00m\n\u001b[0;32m      3\u001b[0m \n\u001b[0;32m      4\u001b[0m \u001b[38;5;124;03m    Multidimensional Euclidean distance from the origin to a point.\u001b[39;00m\n\u001b[1;32m   (...)\u001b[0m\n\u001b[0;32m     13\u001b[0m \n\u001b[0;32m     14\u001b[0m \u001b[38;5;124;03m    >>> hypot(3.0, 4.0)\"\"\"\u001b[39;00m\n\u001b[1;32m---> 16\u001b[0m     \u001b[38;5;28;01mreturn\u001b[39;00m \u001b[43mx\u001b[49m\n",
      "\u001b[1;31mNameError\u001b[0m: name 'x' is not defined"
     ]
    }
   ],
   "source": [
    "hypot(1,2,3)"
   ]
  },
  {
   "cell_type": "code",
   "execution_count": null,
   "id": "8faebd18",
   "metadata": {},
   "outputs": [],
   "source": [
    "e=2.7182818284\n",
    "def ex(x,/):\n",
    "    x = e**x\n",
    "    return x\n"
   ]
  },
  {
   "cell_type": "code",
   "execution_count": null,
   "id": "58151d96",
   "metadata": {},
   "outputs": [],
   "source": [
    "ex(2)"
   ]
  },
  {
   "cell_type": "code",
   "execution_count": null,
   "id": "36863891",
   "metadata": {},
   "outputs": [],
   "source": [
    "def x2(x,/):\n",
    "    x = x**2\n",
    "    return x"
   ]
  },
  {
   "cell_type": "code",
   "execution_count": null,
   "id": "5a23cc8f",
   "metadata": {},
   "outputs": [],
   "source": [
    "x2(15)"
   ]
  },
  {
   "cell_type": "code",
   "execution_count": null,
   "id": "d78aeb7d",
   "metadata": {},
   "outputs": [],
   "source": [
    "import math \n",
    "math.prod([2.0,3,4],start=2)"
   ]
  },
  {
   "cell_type": "code",
   "execution_count": 1,
   "id": "92a9501c",
   "metadata": {},
   "outputs": [
    {
     "ename": "IndentationError",
     "evalue": "unexpected indent (1434953587.py, line 4)",
     "output_type": "error",
     "traceback": [
      "\u001b[1;36m  Input \u001b[1;32mIn [1]\u001b[1;36m\u001b[0m\n\u001b[1;33m    'list type change '\u001b[0m\n\u001b[1;37m    ^\u001b[0m\n\u001b[1;31mIndentationError\u001b[0m\u001b[1;31m:\u001b[0m unexpected indent\n"
     ]
    }
   ],
   "source": [
    "def prod(iterable, / ,*, start=1):\n",
    "    \n",
    "    \"\"\"Calculate the product of all the elements in the input iterable.\"\"\"\n",
    "     'list type change '\n",
    "    iterable = start*(iterable*iterable)\n",
    "    return iterable\n",
    "\n"
   ]
  },
  {
   "cell_type": "code",
   "execution_count": 4,
   "id": "0b834abb",
   "metadata": {},
   "outputs": [
    {
     "ename": "TypeError",
     "evalue": "can't multiply sequence by non-int of type 'list'",
     "output_type": "error",
     "traceback": [
      "\u001b[1;31m---------------------------------------------------------------------------\u001b[0m",
      "\u001b[1;31mTypeError\u001b[0m                                 Traceback (most recent call last)",
      "Input \u001b[1;32mIn [4]\u001b[0m, in \u001b[0;36m<cell line: 1>\u001b[1;34m()\u001b[0m\n\u001b[1;32m----> 1\u001b[0m \u001b[43mprod\u001b[49m\u001b[43m(\u001b[49m\u001b[43m[\u001b[49m\u001b[38;5;241;43m3\u001b[39;49m\u001b[43m,\u001b[49m\u001b[38;5;241;43m4\u001b[39;49m\u001b[43m]\u001b[49m\u001b[43m)\u001b[49m\n",
      "Input \u001b[1;32mIn [2]\u001b[0m, in \u001b[0;36mprod\u001b[1;34m(iterable, start)\u001b[0m\n\u001b[0;32m      1\u001b[0m \u001b[38;5;28;01mdef\u001b[39;00m \u001b[38;5;21mprod\u001b[39m(iterable,\u001b[38;5;241m/\u001b[39m,\u001b[38;5;241m*\u001b[39m,start\u001b[38;5;241m=\u001b[39m\u001b[38;5;241m1\u001b[39m):\n\u001b[1;32m----> 2\u001b[0m     iterable \u001b[38;5;241m=\u001b[39m start\u001b[38;5;241m*\u001b[39m(\u001b[43miterable\u001b[49m\u001b[38;5;241;43m*\u001b[39;49m\u001b[43miterable\u001b[49m)\n\u001b[0;32m      3\u001b[0m     \u001b[38;5;28;01mreturn\u001b[39;00m iterable\n",
      "\u001b[1;31mTypeError\u001b[0m: can't multiply sequence by non-int of type 'list'"
     ]
    }
   ],
   "source": [
    "prod([3,4])"
   ]
  },
  {
   "cell_type": "code",
   "execution_count": 2,
   "id": "8abc05f2",
   "metadata": {},
   "outputs": [],
   "source": [
    "def prod(iterable,/,*,start=1):\n",
    "    iterable = start*(iterable*iterable)\n",
    "    return iterable"
   ]
  },
  {
   "cell_type": "code",
   "execution_count": null,
   "id": "f16d5e2a",
   "metadata": {},
   "outputs": [],
   "source": []
  }
 ],
 "metadata": {
  "kernelspec": {
   "display_name": "Python 3 (ipykernel)",
   "language": "python",
   "name": "python3"
  },
  "language_info": {
   "codemirror_mode": {
    "name": "ipython",
    "version": 3
   },
   "file_extension": ".py",
   "mimetype": "text/x-python",
   "name": "python",
   "nbconvert_exporter": "python",
   "pygments_lexer": "ipython3",
   "version": "3.9.12"
  }
 },
 "nbformat": 4,
 "nbformat_minor": 5
}
