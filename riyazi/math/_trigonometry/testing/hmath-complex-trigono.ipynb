{
 "cells": [
  {
   "cell_type": "code",
   "execution_count": null,
   "id": "bdc25799",
   "metadata": {},
   "outputs": [],
   "source": [
    "def exp(_x : int or float or complex or dimension or fract or array or list) -> int or float or complex or dimension or fract or array or list:\n",
    "    \"\"\"\n",
    "    \"exp(x)\" returns the value of e power x.\n",
    "    \"\"\"\n",
    "    return e() ** _x"
   ]
  },
  {
   "cell_type": "code",
   "execution_count": null,
   "id": "d83bbabc",
   "metadata": {},
   "outputs": [],
   "source": [
    "def sin(_θ : int or float or complex or dimension or fract or array or list, _n : int or str = 0) -> int or float or complex or dimension or fract or array or list:\n",
    "    \"\"\"\n",
    "    \"sin(θ)\" returns value of sine θ.\n",
    "    >>> hmath.sin(6)\n",
    "    -0.27941549819892586\n",
    "    >>> hmath.sin(2.11)\n",
    "    0.8581178296348089\n",
    "    >>> hmath.sin(53+12j)\n",
    "    (32219.35761890742-74727.46166398648j)\n",
    "    >>> hmath.sin([2.14, 25, 33+5j])\n",
    "    [0.8423304316366457, -0.13235175009777303, (74.20340766788514-0.9851772699807544j)]\n",
    "    \"\"\"\n",
    "    return (exp(_θ * 1j) - exp(_θ * -1j)) / 2j"
   ]
  },
  {
   "cell_type": "code",
   "execution_count": null,
   "id": "7892ab59",
   "metadata": {},
   "outputs": [],
   "source": [
    "def cos(_θ : int or float or complex or dimension or fract or array or list, _n = 0) -> int or float or complex or dimension or fract or array or list:\n",
    "    \"\"\"\n",
    "    \"cos(θ)\" returns value of cosine θ.\n",
    "    >>> hmath.cos(6)\n",
    "    0.960170286650366\n",
    "    >>> hmath.cos(2.11)\n",
    "    -0.5134528123039594\n",
    "    >>> hmath.cos(53+12j)\n",
    "    (-74727.46166962861-32219.35761647477j)\n",
    "    >>> hmath.cos([2.14, 25, 33+5j])\n",
    "    [-0.5389614493995115, 0.9912028118634736, (-0.9852667279998637-74.19667031476799j)]\n",
    "    \"\"\"\n",
    "    return (exp(_θ * 1j) + exp(_θ * -1j)) / 2\n"
   ]
  },
  {
   "cell_type": "code",
   "execution_count": null,
   "id": "f0a06506",
   "metadata": {},
   "outputs": [],
   "source": [
    "def tan(_θ : int or float or complex or dimension or fract or array or list, _n = 0) -> int or float or complex or dimension or fract or array or list:\n",
    "    \"\"\"\n",
    "    \"tan(θ)\" returns value of tangent θ.\n",
    "    >>> hmath.tan(6)\n",
    "    -0.29100619138474915\n",
    "    >>> hmath.tan(2.11)\n",
    "    -1.671269119715739\n",
    "    >>> hmath.tan(53+12j)\n",
    "    (-5.490123633255438e-11+0.9999999999481682j)\n",
    "    >>> hmath.tan([2.14, 25, 33+5j])\n",
    "    [-1.5628769600778225, -0.13352640702153587, (-2.411059897354615e-06+1.0000907719652579j)]\n",
    "    \"\"\"\n",
    "    return div(sin(_θ) , cos(_θ))"
   ]
  },
  {
   "cell_type": "code",
   "execution_count": null,
   "id": "49af3916",
   "metadata": {},
   "outputs": [],
   "source": [
    "def csc(_θ : int or float or complex or dimension or fract or array or list, _n : int or str = 0) -> int or float or complex or dimension or fract or array or list:\n",
    "    \"\"\"\n",
    "    \"csc(θ)\" returns value of cosec θ.\n",
    "    >>> hmath.csc(6)\n",
    "    -3.5788995472544056\n",
    "    >>> hmath.csc(2.11)\n",
    "    1.1653411285319317\n",
    "    >>> hmath.csc(53+12j)\n",
    "    (4.865296397916956e-06+1.1284248877945188e-05j)\n",
    "    >>> hmath.csc([2.14, 25, 33+5j])\n",
    "    [1.1871825621413237, -7.555623550585948, (0.01347409494265443+0.00017889167746147676j)]\n",
    "    \"\"\"\n",
    "    return div(1 , sin(_θ))"
   ]
  },
  {
   "cell_type": "code",
   "execution_count": null,
   "id": "911cdd7e",
   "metadata": {},
   "outputs": [],
   "source": [
    "def sec(_θ : int or float or complex or dimension or fract or array or list, _n : int or str = 0) -> int or float or complex or dimension or fract or array or list:\n",
    "    return div(1 , cos(_θ))\n"
   ]
  },
  {
   "cell_type": "code",
   "execution_count": null,
   "id": "37ca2bc3",
   "metadata": {},
   "outputs": [],
   "source": [
    "def cot(_θ : int or float or complex or dimension or fract or array or list, _n : int or str = 0) -> int or float or complex or dimension or fract or array or list:\n",
    "    return div(1 , tan(_θ))\n"
   ]
  },
  {
   "cell_type": "code",
   "execution_count": null,
   "id": "960a97c4",
   "metadata": {},
   "outputs": [],
   "source": []
  },
  {
   "cell_type": "code",
   "execution_count": null,
   "id": "3bcbac14",
   "metadata": {},
   "outputs": [],
   "source": []
  },
  {
   "cell_type": "code",
   "execution_count": null,
   "id": "7a0acdfb",
   "metadata": {},
   "outputs": [],
   "source": []
  },
  {
   "cell_type": "code",
   "execution_count": null,
   "id": "bf48202b",
   "metadata": {},
   "outputs": [],
   "source": []
  },
  {
   "cell_type": "code",
   "execution_count": null,
   "id": "384dce3d",
   "metadata": {},
   "outputs": [],
   "source": []
  },
  {
   "cell_type": "code",
   "execution_count": null,
   "id": "ddcb2b74",
   "metadata": {},
   "outputs": [],
   "source": []
  },
  {
   "cell_type": "code",
   "execution_count": null,
   "id": "55e44e73",
   "metadata": {},
   "outputs": [],
   "source": []
  },
  {
   "cell_type": "code",
   "execution_count": null,
   "id": "709806ee",
   "metadata": {},
   "outputs": [],
   "source": []
  },
  {
   "cell_type": "code",
   "execution_count": null,
   "id": "3d5f5948",
   "metadata": {},
   "outputs": [],
   "source": []
  },
  {
   "cell_type": "code",
   "execution_count": null,
   "id": "6ba9e226",
   "metadata": {},
   "outputs": [],
   "source": [
    "def sin(_θ : int or float or complex or dimension or fract or array or list, _n : int or str = 0) -> int or float or complex or dimension or fract or array or list:\n",
    "    \"\"\"\n",
    "    \"sin(θ)\" returns value of sine θ.\n",
    "    >>> hmath.sin(6)\n",
    "    -0.27941549819892586\n",
    "    >>> hmath.sin(2.11)\n",
    "    0.8581178296348089\n",
    "    >>> hmath.sin(53+12j)\n",
    "    (32219.35761890742-74727.46166398648j)\n",
    "    >>> hmath.sin([2.14, 25, 33+5j])\n",
    "    [0.8423304316366457, -0.13235175009777303, (74.20340766788514-0.9851772699807544j)]\n",
    "    \"\"\"\n",
    "    return ((exp(_θ * 1j) - exp(_θ * -1j)) / 2j)"
   ]
  },
  {
   "cell_type": "code",
   "execution_count": null,
   "id": "69d5f6e0",
   "metadata": {
    "scrolled": false
   },
   "outputs": [],
   "source": [
    "sin(6)"
   ]
  },
  {
   "cell_type": "code",
   "execution_count": null,
   "id": "c9dcc7df",
   "metadata": {},
   "outputs": [],
   "source": [
    "sin([2.14, 25, 33+5j])"
   ]
  },
  {
   "cell_type": "code",
   "execution_count": null,
   "id": "bf165f07",
   "metadata": {},
   "outputs": [],
   "source": []
  },
  {
   "cell_type": "code",
   "execution_count": null,
   "id": "6d067736",
   "metadata": {},
   "outputs": [],
   "source": []
  },
  {
   "cell_type": "code",
   "execution_count": null,
   "id": "b7d5921e",
   "metadata": {},
   "outputs": [],
   "source": []
  },
  {
   "cell_type": "code",
   "execution_count": null,
   "id": "1b06da2a",
   "metadata": {},
   "outputs": [],
   "source": []
  },
  {
   "cell_type": "markdown",
   "id": "5d7a9d77",
   "metadata": {},
   "source": [
    "# Comlex Trigonometry"
   ]
  },
  {
   "cell_type": "code",
   "execution_count": 1,
   "id": "b9cb47de",
   "metadata": {},
   "outputs": [],
   "source": [
    "def e() -> float:\n",
    "    \"\"\"\n",
    "    \"e()\" returns the constant e.\n",
    "    The value is approximately 2.7182818284590452353602874713527.\n",
    "    \"\"\"\n",
    "    return 2.7182818284590452353602874713527\n"
   ]
  },
  {
   "cell_type": "code",
   "execution_count": 2,
   "id": "fc0dbddf",
   "metadata": {},
   "outputs": [],
   "source": [
    "def exp(x):\n",
    "    \"\"\"\n",
    "    \"exp(x)\" returns the value of e power x.\n",
    "    \"\"\"\n",
    "    return e() ** x"
   ]
  },
  {
   "cell_type": "code",
   "execution_count": 3,
   "id": "2ae0fcb5",
   "metadata": {},
   "outputs": [],
   "source": [
    "def sin(x):\n",
    "    \n",
    "    return ((exp(x*1j) - exp(x*(-1j))) / 2j)"
   ]
  },
  {
   "cell_type": "code",
   "execution_count": 4,
   "id": "9920959e",
   "metadata": {},
   "outputs": [
    {
     "data": {
      "text/plain": [
       "(3.23574941258047+1.850340925291328j)"
      ]
     },
     "execution_count": 4,
     "metadata": {},
     "output_type": "execute_result"
    }
   ],
   "source": [
    "sin(89+2j)"
   ]
  },
  {
   "cell_type": "code",
   "execution_count": 8,
   "id": "fb9428d8",
   "metadata": {
    "scrolled": false
   },
   "outputs": [
    {
     "data": {
      "text/plain": [
       "(0.8600694058124532+0j)"
      ]
     },
     "execution_count": 8,
     "metadata": {},
     "output_type": "execute_result"
    }
   ],
   "source": [
    "sin(89)"
   ]
  },
  {
   "cell_type": "code",
   "execution_count": 10,
   "id": "85059807",
   "metadata": {},
   "outputs": [
    {
     "data": {
      "text/plain": [
       "3.6268604078470186j"
      ]
     },
     "execution_count": 10,
     "metadata": {},
     "output_type": "execute_result"
    }
   ],
   "source": [
    "sin(2j)"
   ]
  },
  {
   "cell_type": "code",
   "execution_count": 5,
   "id": "a5e42407",
   "metadata": {},
   "outputs": [],
   "source": [
    "import cmath as cm"
   ]
  },
  {
   "cell_type": "code",
   "execution_count": 9,
   "id": "da9303b9",
   "metadata": {
    "scrolled": true
   },
   "outputs": [
    {
     "data": {
      "text/plain": [
       "(0.8600694058124532+0j)"
      ]
     },
     "execution_count": 9,
     "metadata": {},
     "output_type": "execute_result"
    }
   ],
   "source": [
    "cm.sin(89)"
   ]
  },
  {
   "cell_type": "code",
   "execution_count": 7,
   "id": "98a9e254",
   "metadata": {
    "scrolled": false
   },
   "outputs": [
    {
     "data": {
      "text/plain": [
       "(3.2357494125804704+1.850340925291328j)"
      ]
     },
     "execution_count": 7,
     "metadata": {},
     "output_type": "execute_result"
    }
   ],
   "source": [
    "cm.sin(89+2j)"
   ]
  },
  {
   "cell_type": "code",
   "execution_count": 11,
   "id": "12f03bbd",
   "metadata": {},
   "outputs": [
    {
     "data": {
      "text/plain": [
       "3.6268604078470186j"
      ]
     },
     "execution_count": 11,
     "metadata": {},
     "output_type": "execute_result"
    }
   ],
   "source": [
    "cm.sin(2j)"
   ]
  },
  {
   "cell_type": "code",
   "execution_count": null,
   "id": "ac1bf4d8",
   "metadata": {},
   "outputs": [],
   "source": [
    "def cos(x):\n",
    "    \n",
    "    return (exp(x * 1j) + exp(x * -1j)) / 2"
   ]
  },
  {
   "cell_type": "code",
   "execution_count": null,
   "id": "24cb5886",
   "metadata": {},
   "outputs": [],
   "source": [
    "cos(197)"
   ]
  },
  {
   "cell_type": "code",
   "execution_count": null,
   "id": "0d5bf8ed",
   "metadata": {},
   "outputs": [],
   "source": [
    "cm.cos(197)"
   ]
  },
  {
   "cell_type": "code",
   "execution_count": null,
   "id": "5d5b24ab",
   "metadata": {},
   "outputs": [],
   "source": [
    "def tan(x):\n",
    "    \n",
    "    return (sin(x) / cos(x))"
   ]
  },
  {
   "cell_type": "code",
   "execution_count": null,
   "id": "d3252fa4",
   "metadata": {},
   "outputs": [],
   "source": [
    "tan(12)"
   ]
  },
  {
   "cell_type": "code",
   "execution_count": null,
   "id": "603c30dd",
   "metadata": {},
   "outputs": [],
   "source": [
    "cm.tan(12)"
   ]
  },
  {
   "cell_type": "code",
   "execution_count": null,
   "id": "82028e53",
   "metadata": {},
   "outputs": [],
   "source": [
    "def csc(x):\n",
    "   \n",
    "    return (1 / sin(x))"
   ]
  },
  {
   "cell_type": "code",
   "execution_count": null,
   "id": "a1a3ba9e",
   "metadata": {},
   "outputs": [],
   "source": [
    "csc(12)"
   ]
  },
  {
   "cell_type": "code",
   "execution_count": null,
   "id": "72ad55c6",
   "metadata": {},
   "outputs": [],
   "source": [
    "def sec(x):\n",
    "    return (1 / cos(x))\n"
   ]
  },
  {
   "cell_type": "code",
   "execution_count": null,
   "id": "366f1864",
   "metadata": {},
   "outputs": [],
   "source": [
    "sec(12)"
   ]
  },
  {
   "cell_type": "code",
   "execution_count": null,
   "id": "9641bbaf",
   "metadata": {},
   "outputs": [],
   "source": [
    "def cot(x):\n",
    "    return (1 / tan(x))"
   ]
  },
  {
   "cell_type": "code",
   "execution_count": null,
   "id": "705b1592",
   "metadata": {},
   "outputs": [],
   "source": [
    "cot(12)"
   ]
  },
  {
   "cell_type": "code",
   "execution_count": null,
   "id": "85dfec82",
   "metadata": {},
   "outputs": [],
   "source": []
  },
  {
   "cell_type": "code",
   "execution_count": null,
   "id": "ee7a68a0",
   "metadata": {},
   "outputs": [],
   "source": []
  },
  {
   "cell_type": "code",
   "execution_count": 12,
   "id": "990b1b70",
   "metadata": {},
   "outputs": [],
   "source": [
    "import cmath as cm"
   ]
  },
  {
   "cell_type": "raw",
   "id": "1e37544d",
   "metadata": {},
   "source": [
    "cm.acos\n",
    "cm.acosh\n",
    "cm.asin\n",
    "cm.asinh\n",
    "cm.atan\n",
    "cm.atanh\n",
    "`cm.cos`\n",
    "cm.cosh\n",
    "cm.e\n",
    "cm.exp\n",
    "cm.inf\n",
    "cm.infj\n",
    "cm.log\n",
    "cm.log10\n",
    "cm.nanj\n",
    "cm.phase\n",
    "cm.polar\n",
    "cm.rect\n",
    "`cm.sin`\n",
    "cm.sinh\n",
    "cm.sqrt\n",
    "`cm.tan`\n",
    "cm.tanh\n",
    "cm.tau"
   ]
  },
  {
   "cell_type": "code",
   "execution_count": null,
   "id": "10c022a3",
   "metadata": {},
   "outputs": [],
   "source": []
  },
  {
   "cell_type": "code",
   "execution_count": null,
   "id": "3e472893",
   "metadata": {},
   "outputs": [],
   "source": []
  },
  {
   "cell_type": "code",
   "execution_count": null,
   "id": "3d080f5a",
   "metadata": {},
   "outputs": [],
   "source": []
  },
  {
   "cell_type": "code",
   "execution_count": null,
   "id": "f3e315ab",
   "metadata": {},
   "outputs": [],
   "source": []
  },
  {
   "cell_type": "code",
   "execution_count": null,
   "id": "dd3ad127",
   "metadata": {},
   "outputs": [],
   "source": []
  },
  {
   "cell_type": "code",
   "execution_count": 8,
   "id": "dbb3d022",
   "metadata": {},
   "outputs": [],
   "source": [
    "from cmath import sqrt,log\n",
    "def asin(x):\n",
    "    \n",
    "    return (-1j * log(1j * x + sqrt(1 - (x ** 2)))).real"
   ]
  },
  {
   "cell_type": "code",
   "execution_count": 3,
   "id": "6d604b1b",
   "metadata": {},
   "outputs": [
    {
     "data": {
      "text/plain": [
       "-1.5707963267948966"
      ]
     },
     "execution_count": 3,
     "metadata": {},
     "output_type": "execute_result"
    }
   ],
   "source": [
    "asin(-1)"
   ]
  },
  {
   "cell_type": "code",
   "execution_count": 11,
   "id": "d0ae49cf",
   "metadata": {},
   "outputs": [
    {
     "data": {
      "text/plain": [
       "0.0"
      ]
     },
     "execution_count": 11,
     "metadata": {},
     "output_type": "execute_result"
    }
   ],
   "source": [
    "asin()"
   ]
  },
  {
   "cell_type": "code",
   "execution_count": null,
   "id": "f8341dee",
   "metadata": {},
   "outputs": [],
   "source": []
  },
  {
   "cell_type": "markdown",
   "id": "a7caf48c",
   "metadata": {},
   "source": [
    "# Complex Real "
   ]
  },
  {
   "cell_type": "code",
   "execution_count": 1,
   "id": "c8e8aaa9",
   "metadata": {},
   "outputs": [],
   "source": [
    "\n",
    "def sin(x):\n",
    "    \n",
    "    if x is x.real:\n",
    "        return ((exp(x*1j) - exp(x*(-1j))) / 2j).real\n",
    "    else:\n",
    "        return ((exp(x*1j) - exp(x*(-1j))) / 2j)"
   ]
  },
  {
   "cell_type": "code",
   "execution_count": 13,
   "id": "260ad169",
   "metadata": {
    "scrolled": true
   },
   "outputs": [
    {
     "data": {
      "text/plain": [
       "0.8600694058124532"
      ]
     },
     "execution_count": 13,
     "metadata": {},
     "output_type": "execute_result"
    }
   ],
   "source": [
    "sin(89)"
   ]
  },
  {
   "cell_type": "code",
   "execution_count": 14,
   "id": "20ab79e8",
   "metadata": {},
   "outputs": [
    {
     "data": {
      "text/plain": [
       "(3.23574941258047+1.850340925291328j)"
      ]
     },
     "execution_count": 14,
     "metadata": {},
     "output_type": "execute_result"
    }
   ],
   "source": [
    "sin(89+2j)"
   ]
  },
  {
   "cell_type": "code",
   "execution_count": 15,
   "id": "87870b63",
   "metadata": {},
   "outputs": [
    {
     "data": {
      "text/plain": [
       "3.6268604078470186j"
      ]
     },
     "execution_count": 15,
     "metadata": {},
     "output_type": "execute_result"
    }
   ],
   "source": [
    "sin(2j)"
   ]
  },
  {
   "cell_type": "code",
   "execution_count": null,
   "id": "d2343a11",
   "metadata": {},
   "outputs": [],
   "source": [
    "import math"
   ]
  },
  {
   "cell_type": "code",
   "execution_count": null,
   "id": "680645a7",
   "metadata": {},
   "outputs": [],
   "source": [
    "math.sin(5)"
   ]
  },
  {
   "cell_type": "code",
   "execution_count": null,
   "id": "7a334ebe",
   "metadata": {},
   "outputs": [],
   "source": [
    "import cmath as cm"
   ]
  },
  {
   "cell_type": "code",
   "execution_count": null,
   "id": "09d70abb",
   "metadata": {},
   "outputs": [],
   "source": [
    "cm.sin(5j)"
   ]
  },
  {
   "cell_type": "code",
   "execution_count": null,
   "id": "7ecd481d",
   "metadata": {},
   "outputs": [],
   "source": [
    "cm.sin(5)"
   ]
  },
  {
   "cell_type": "code",
   "execution_count": null,
   "id": "6c3a96ca",
   "metadata": {},
   "outputs": [],
   "source": []
  },
  {
   "cell_type": "code",
   "execution_count": null,
   "id": "606a4a27",
   "metadata": {},
   "outputs": [],
   "source": [
    "def cos(x):\n",
    "    if x is x.real:\n",
    "        return ((exp(x * 1j) + exp(x * -1j)) / 2).real \n",
    "    else:\n",
    "        return ((exp(x * 1j) + exp(x * -1j)) / 2)\n",
    "        "
   ]
  },
  {
   "cell_type": "code",
   "execution_count": null,
   "id": "62ab2fea",
   "metadata": {},
   "outputs": [],
   "source": [
    "cm.cos(2)"
   ]
  },
  {
   "cell_type": "code",
   "execution_count": null,
   "id": "db135553",
   "metadata": {},
   "outputs": [],
   "source": [
    "cos(2)"
   ]
  },
  {
   "cell_type": "code",
   "execution_count": null,
   "id": "dad90492",
   "metadata": {},
   "outputs": [],
   "source": [
    "cm.cos(2j)"
   ]
  },
  {
   "cell_type": "code",
   "execution_count": null,
   "id": "ccbc3627",
   "metadata": {},
   "outputs": [],
   "source": [
    "cos(2j)"
   ]
  },
  {
   "cell_type": "code",
   "execution_count": null,
   "id": "dccfd6e9",
   "metadata": {},
   "outputs": [],
   "source": [
    "def tan(x):\n",
    "    return (sin(x) / cos(x))"
   ]
  },
  {
   "cell_type": "code",
   "execution_count": null,
   "id": "832fd170",
   "metadata": {},
   "outputs": [],
   "source": [
    "tan(2)"
   ]
  },
  {
   "cell_type": "code",
   "execution_count": null,
   "id": "e35cd61d",
   "metadata": {},
   "outputs": [],
   "source": [
    "tan(2j)"
   ]
  },
  {
   "cell_type": "code",
   "execution_count": null,
   "id": "2db575f1",
   "metadata": {},
   "outputs": [],
   "source": [
    "cm.tan(2)"
   ]
  },
  {
   "cell_type": "code",
   "execution_count": null,
   "id": "7f90011d",
   "metadata": {},
   "outputs": [],
   "source": [
    "cm.tan(2j)"
   ]
  },
  {
   "cell_type": "code",
   "execution_count": null,
   "id": "b9eea626",
   "metadata": {},
   "outputs": [],
   "source": [
    "def csc(x):\n",
    "    return (1 / sin(x))"
   ]
  },
  {
   "cell_type": "code",
   "execution_count": null,
   "id": "1356ad32",
   "metadata": {},
   "outputs": [],
   "source": [
    "def sec(x):\n",
    "    return (1 / cos(x))"
   ]
  },
  {
   "cell_type": "code",
   "execution_count": null,
   "id": "ae90325d",
   "metadata": {},
   "outputs": [],
   "source": [
    "def cot(x):\n",
    "    return (1 / tan(x))"
   ]
  },
  {
   "cell_type": "code",
   "execution_count": null,
   "id": "2f94ba01",
   "metadata": {},
   "outputs": [],
   "source": []
  }
 ],
 "metadata": {
  "kernelspec": {
   "display_name": "Python 3 (ipykernel)",
   "language": "python",
   "name": "python3"
  },
  "language_info": {
   "codemirror_mode": {
    "name": "ipython",
    "version": 3
   },
   "file_extension": ".py",
   "mimetype": "text/x-python",
   "name": "python",
   "nbconvert_exporter": "python",
   "pygments_lexer": "ipython3",
   "version": "3.9.12"
  }
 },
 "nbformat": 4,
 "nbformat_minor": 5
}
