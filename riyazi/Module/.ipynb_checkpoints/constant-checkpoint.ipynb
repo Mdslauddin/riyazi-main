{
 "cells": [
  {
   "cell_type": "code",
   "execution_count": null,
   "id": "eab9986d",
   "metadata": {},
   "outputs": [],
   "source": [
    "\"\"\"   Math Constants  \"\"\"\n",
    "# return pi value\n",
    "pi=3.1415926535897\n",
    "# Returns Euler's number\n",
    "e=2.718281828459045\n",
    "\n",
    "#math.tau Constant\n",
    "tue=6.283185307179586"
   ]
  }
 ],
 "metadata": {
  "kernelspec": {
   "display_name": "Python 3 (ipykernel)",
   "language": "python",
   "name": "python3"
  },
  "language_info": {
   "codemirror_mode": {
    "name": "ipython",
    "version": 3
   },
   "file_extension": ".py",
   "mimetype": "text/x-python",
   "name": "python",
   "nbconvert_exporter": "python",
   "pygments_lexer": "ipython3",
   "version": "3.9.12"
  }
 },
 "nbformat": 4,
 "nbformat_minor": 5
}
