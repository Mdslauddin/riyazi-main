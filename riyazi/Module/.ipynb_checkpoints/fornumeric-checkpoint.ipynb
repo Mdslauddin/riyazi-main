{
 "cells": [
  {
   "cell_type": "code",
   "execution_count": null,
   "id": "1cb2d11e",
   "metadata": {},
   "outputs": [],
   "source": [
    "# functions that are now methods\n",
    "__all__ = ['take', 'reshape', 'choose', 'repeat', 'put',\n",
    "           'swapaxes', 'transpose', 'sort', 'argsort', 'argmax', 'argmin',\n",
    "           'searchsorted', 'alen',\n",
    "           'resize', 'diagonal', 'trace', 'ravel', 'nonzero', 'shape',\n",
    "           'compress', 'clip', 'sum', 'product', 'prod', 'sometrue', 'alltrue',\n",
    "           'any', 'all', 'cumsum', 'cumproduct', 'cumprod', 'ptp', 'ndim',\n",
    "           'rank', 'size', 'around', 'round_', 'mean', 'std', 'var', 'squeeze',\n",
    "           'amax', 'amin',\n",
    "          ]"
   ]
  },
  {
   "cell_type": "code",
   "execution_count": null,
   "id": "6163c231",
   "metadata": {},
   "outputs": [],
   "source": []
  },
  {
   "cell_type": "code",
   "execution_count": null,
   "id": "73690c30",
   "metadata": {},
   "outputs": [],
   "source": [
    "def around(x):\n",
    "    return round(x)\n"
   ]
  },
  {
   "cell_type": "code",
   "execution_count": null,
   "id": "f116aab8",
   "metadata": {},
   "outputs": [],
   "source": []
  },
  {
   "cell_type": "code",
   "execution_count": 1,
   "id": "261b4c89",
   "metadata": {},
   "outputs": [],
   "source": [
    "import numpy as np"
   ]
  },
  {
   "cell_type": "code",
   "execution_count": null,
   "id": "e1594cf6",
   "metadata": {},
   "outputs": [],
   "source": [
    "np.take(a)"
   ]
  },
  {
   "cell_type": "code",
   "execution_count": null,
   "id": "fc3b24a9",
   "metadata": {},
   "outputs": [],
   "source": [
    "a = np.array([1,2,3,4])"
   ]
  },
  {
   "cell_type": "code",
   "execution_count": null,
   "id": "bdb4357d",
   "metadata": {},
   "outputs": [],
   "source": [
    "a.shape"
   ]
  },
  {
   "cell_type": "code",
   "execution_count": 2,
   "id": "dd84123c",
   "metadata": {},
   "outputs": [],
   "source": [
    "a = np.array([[[1,2,3],[4,5,6], [3,4,5]]])"
   ]
  },
  {
   "cell_type": "code",
   "execution_count": 5,
   "id": "5aa50075",
   "metadata": {},
   "outputs": [
    {
     "data": {
      "text/plain": [
       "(1, 3, 3)"
      ]
     },
     "execution_count": 5,
     "metadata": {},
     "output_type": "execute_result"
    }
   ],
   "source": [
    "a.shape"
   ]
  },
  {
   "cell_type": "code",
   "execution_count": null,
   "id": "86ca8e86",
   "metadata": {},
   "outputs": [],
   "source": [
    "a.T"
   ]
  },
  {
   "cell_type": "code",
   "execution_count": null,
   "id": "180f5942",
   "metadata": {},
   "outputs": [],
   "source": [
    "def shape(a):\n",
    "    return  (len(a),)"
   ]
  },
  {
   "cell_type": "code",
   "execution_count": null,
   "id": "190b823e",
   "metadata": {},
   "outputs": [],
   "source": [
    "shape(a)"
   ]
  },
  {
   "cell_type": "code",
   "execution_count": 12,
   "id": "fceff4f0",
   "metadata": {},
   "outputs": [
    {
     "data": {
      "text/plain": [
       "3"
      ]
     },
     "execution_count": 12,
     "metadata": {},
     "output_type": "execute_result"
    }
   ],
   "source": [
    "a.ndim"
   ]
  },
  {
   "cell_type": "code",
   "execution_count": null,
   "id": "3260c167",
   "metadata": {},
   "outputs": [],
   "source": []
  },
  {
   "cell_type": "code",
   "execution_count": 8,
   "id": "b4dbd9ec",
   "metadata": {},
   "outputs": [],
   "source": [
    "def shape(a):\n",
    "    return (len(a), len(a[0]),len(a[0]))"
   ]
  },
  {
   "cell_type": "code",
   "execution_count": 9,
   "id": "3fd97352",
   "metadata": {},
   "outputs": [
    {
     "data": {
      "text/plain": [
       "(1, 3, 3)"
      ]
     },
     "execution_count": 9,
     "metadata": {},
     "output_type": "execute_result"
    }
   ],
   "source": [
    "shape(a)"
   ]
  },
  {
   "cell_type": "code",
   "execution_count": null,
   "id": "9546f3d9",
   "metadata": {},
   "outputs": [],
   "source": [
    "def identity(n):\n",
    "    return [[(1 if i==j else 0) for j in range(n)] for i in range(n)]"
   ]
  },
  {
   "cell_type": "code",
   "execution_count": null,
   "id": "545534f2",
   "metadata": {},
   "outputs": [],
   "source": [
    "identity(a)"
   ]
  },
  {
   "cell_type": "code",
   "execution_count": null,
   "id": "8ed364c1",
   "metadata": {},
   "outputs": [],
   "source": [
    "def colconcat(A, B):\n",
    "    return A + B"
   ]
  },
  {
   "cell_type": "code",
   "execution_count": 10,
   "id": "bcbfd291",
   "metadata": {},
   "outputs": [],
   "source": [
    "def transpose(A):\n",
    "    \n",
    "    (r, c) = shape(A)\n",
    "    return [[A[i][j] for i in range(r)] for j in range(c)]"
   ]
  },
  {
   "cell_type": "code",
   "execution_count": 11,
   "id": "fb598663",
   "metadata": {},
   "outputs": [
    {
     "ename": "ValueError",
     "evalue": "too many values to unpack (expected 2)",
     "output_type": "error",
     "traceback": [
      "\u001b[1;31m---------------------------------------------------------------------------\u001b[0m",
      "\u001b[1;31mValueError\u001b[0m                                Traceback (most recent call last)",
      "Input \u001b[1;32mIn [11]\u001b[0m, in \u001b[0;36m<cell line: 1>\u001b[1;34m()\u001b[0m\n\u001b[1;32m----> 1\u001b[0m \u001b[43mtranspose\u001b[49m\u001b[43m(\u001b[49m\u001b[43ma\u001b[49m\u001b[43m)\u001b[49m\n",
      "Input \u001b[1;32mIn [10]\u001b[0m, in \u001b[0;36mtranspose\u001b[1;34m(A)\u001b[0m\n\u001b[0;32m      1\u001b[0m \u001b[38;5;28;01mdef\u001b[39;00m \u001b[38;5;21mtranspose\u001b[39m(A):\n\u001b[1;32m----> 3\u001b[0m     (r, c) \u001b[38;5;241m=\u001b[39m shape(A)\n\u001b[0;32m      4\u001b[0m     \u001b[38;5;28;01mreturn\u001b[39;00m [[A[i][j] \u001b[38;5;28;01mfor\u001b[39;00m i \u001b[38;5;129;01min\u001b[39;00m \u001b[38;5;28mrange\u001b[39m(r)] \u001b[38;5;28;01mfor\u001b[39;00m j \u001b[38;5;129;01min\u001b[39;00m \u001b[38;5;28mrange\u001b[39m(c)]\n",
      "\u001b[1;31mValueError\u001b[0m: too many values to unpack (expected 2)"
     ]
    }
   ],
   "source": [
    "transpose(a)"
   ]
  },
  {
   "cell_type": "code",
   "execution_count": 13,
   "id": "f6c22be4",
   "metadata": {},
   "outputs": [],
   "source": [
    "def is_matrix(A):\n",
    "    return type(A) == list and all(type(row) == list for row in A)"
   ]
  },
  {
   "cell_type": "code",
   "execution_count": 18,
   "id": "0da0280d",
   "metadata": {},
   "outputs": [],
   "source": [
    "a = [[[3,4,5],[5,6,7],[5,6,7]]]"
   ]
  },
  {
   "cell_type": "code",
   "execution_count": 19,
   "id": "9fc2ee1f",
   "metadata": {},
   "outputs": [
    {
     "data": {
      "text/plain": [
       "True"
      ]
     },
     "execution_count": 19,
     "metadata": {},
     "output_type": "execute_result"
    }
   ],
   "source": [
    "is_matrix(a)"
   ]
  },
  {
   "cell_type": "code",
   "execution_count": 20,
   "id": "5df799b3",
   "metadata": {},
   "outputs": [],
   "source": [
    "b = [1,2,3]"
   ]
  },
  {
   "cell_type": "code",
   "execution_count": 21,
   "id": "2702e08b",
   "metadata": {},
   "outputs": [
    {
     "data": {
      "text/plain": [
       "False"
      ]
     },
     "execution_count": 21,
     "metadata": {},
     "output_type": "execute_result"
    }
   ],
   "source": [
    "is_matrix(b)"
   ]
  },
  {
   "cell_type": "code",
   "execution_count": 33,
   "id": "42f10619",
   "metadata": {},
   "outputs": [],
   "source": [
    "def array(matrix):\n",
    "    if (is_matrix(matrix)):\n",
    "        return matrix\n",
    "    return (\n",
    "    list(map(\n",
    "      lambda row: list(map(\n",
    "        lambda cell: float(cell),\n",
    "        row.split(',')\n",
    "      )),\n",
    "      matrix.split(';')\n",
    "    ))\n",
    "  )"
   ]
  },
  {
   "cell_type": "code",
   "execution_count": 34,
   "id": "08f5f9c8",
   "metadata": {},
   "outputs": [
    {
     "data": {
      "text/plain": [
       "[[[3, 4, 5], [5, 6, 7], [5, 6, 7]]]"
      ]
     },
     "execution_count": 34,
     "metadata": {},
     "output_type": "execute_result"
    }
   ],
   "source": [
    "array(a)"
   ]
  },
  {
   "cell_type": "code",
   "execution_count": null,
   "id": "e072372b",
   "metadata": {},
   "outputs": [],
   "source": [
    "np.array()"
   ]
  },
  {
   "cell_type": "code",
   "execution_count": 35,
   "id": "236d03ba",
   "metadata": {},
   "outputs": [],
   "source": [
    "\n",
    "def m(matrix):\n",
    "    if (is_matrix(matrix)):\n",
    "        return matrix\n",
    "\n",
    "    return (\n",
    "        list(map(\n",
    "            \n",
    "          lambda row: list(map(\n",
    "            lambda cell: float(cell),\n",
    "            row.split(',')\n",
    "              )),\n",
    "          matrix.split(';')\n",
    "            ))\n",
    "          )"
   ]
  },
  {
   "cell_type": "code",
   "execution_count": 36,
   "id": "abd09dac",
   "metadata": {},
   "outputs": [
    {
     "data": {
      "text/plain": [
       "[[[3, 4, 5], [5, 6, 7], [5, 6, 7]]]"
      ]
     },
     "execution_count": 36,
     "metadata": {},
     "output_type": "execute_result"
    }
   ],
   "source": [
    "m(a)"
   ]
  },
  {
   "cell_type": "code",
   "execution_count": 42,
   "id": "684add75",
   "metadata": {},
   "outputs": [],
   "source": [
    "def m(matrix):\n",
    "    if (is_matrix(matrix)):\n",
    "        print(matrix)  \n",
    "    return (\n",
    "    list(map(\n",
    "    lambda row: list(map(\n",
    "    lambda cell: float(cell),\n",
    "     row.split(','))),\n",
    "     matrix.split(';'))))"
   ]
  },
  {
   "cell_type": "code",
   "execution_count": 43,
   "id": "dbc4e5f1",
   "metadata": {},
   "outputs": [
    {
     "name": "stdout",
     "output_type": "stream",
     "text": [
      "[[[3, 4, 5], [5, 6, 7], [5, 6, 7]]]\n"
     ]
    },
    {
     "ename": "AttributeError",
     "evalue": "'list' object has no attribute 'split'",
     "output_type": "error",
     "traceback": [
      "\u001b[1;31m---------------------------------------------------------------------------\u001b[0m",
      "\u001b[1;31mAttributeError\u001b[0m                            Traceback (most recent call last)",
      "Input \u001b[1;32mIn [43]\u001b[0m, in \u001b[0;36m<cell line: 1>\u001b[1;34m()\u001b[0m\n\u001b[1;32m----> 1\u001b[0m \u001b[43mm\u001b[49m\u001b[43m(\u001b[49m\u001b[43ma\u001b[49m\u001b[43m)\u001b[49m\n",
      "Input \u001b[1;32mIn [42]\u001b[0m, in \u001b[0;36mm\u001b[1;34m(matrix)\u001b[0m\n\u001b[0;32m      2\u001b[0m \u001b[38;5;28;01mif\u001b[39;00m (is_matrix(matrix)):\n\u001b[0;32m      3\u001b[0m     \u001b[38;5;28mprint\u001b[39m(matrix)  \n\u001b[0;32m      4\u001b[0m \u001b[38;5;28;01mreturn\u001b[39;00m (\n\u001b[0;32m      5\u001b[0m \u001b[38;5;28mlist\u001b[39m(\u001b[38;5;28mmap\u001b[39m(\n\u001b[0;32m      6\u001b[0m \u001b[38;5;28;01mlambda\u001b[39;00m row: \u001b[38;5;28mlist\u001b[39m(\u001b[38;5;28mmap\u001b[39m(\n\u001b[0;32m      7\u001b[0m \u001b[38;5;28;01mlambda\u001b[39;00m cell: \u001b[38;5;28mfloat\u001b[39m(cell),\n\u001b[0;32m      8\u001b[0m  row\u001b[38;5;241m.\u001b[39msplit(\u001b[38;5;124m'\u001b[39m\u001b[38;5;124m,\u001b[39m\u001b[38;5;124m'\u001b[39m))),\n\u001b[1;32m----> 9\u001b[0m  \u001b[43mmatrix\u001b[49m\u001b[38;5;241;43m.\u001b[39;49m\u001b[43msplit\u001b[49m(\u001b[38;5;124m'\u001b[39m\u001b[38;5;124m;\u001b[39m\u001b[38;5;124m'\u001b[39m))))\n",
      "\u001b[1;31mAttributeError\u001b[0m: 'list' object has no attribute 'split'"
     ]
    }
   ],
   "source": [
    "m(a)"
   ]
  },
  {
   "cell_type": "code",
   "execution_count": 44,
   "id": "377fb35b",
   "metadata": {},
   "outputs": [
    {
     "ename": "IndentationError",
     "evalue": "unexpected indent (166374438.py, line 3)",
     "output_type": "error",
     "traceback": [
      "\u001b[1;36m  Input \u001b[1;32mIn [44]\u001b[1;36m\u001b[0m\n\u001b[1;33m    return sum([\u001b[0m\n\u001b[1;37m    ^\u001b[0m\n\u001b[1;31mIndentationError\u001b[0m\u001b[1;31m:\u001b[0m unexpected indent\n"
     ]
    }
   ],
   "source": [
    "def polynomial(coeff, x):\n",
    "    deg = len(coeff) - 1\n",
    "     return sum([\n",
    "    c * (x ** (deg - i))\n",
    "    for i, c in enumerate(coeff)\n",
    "     ])"
   ]
  },
  {
   "cell_type": "code",
   "execution_count": 45,
   "id": "9d8fda9c",
   "metadata": {},
   "outputs": [],
   "source": [
    "def polynomial(coeff,x):\n",
    "    \"\"\"\n",
    "    >>> polynomial([1,2,4],6)\n",
    "    \n",
    "    \"\"\"\n",
    "    deg = len(coeff) -1 \n",
    "    return sum([c*(x**(deg-i)) for i , c in enumerate(coeff)])"
   ]
  },
  {
   "cell_type": "code",
   "execution_count": 49,
   "id": "bcd06d03",
   "metadata": {},
   "outputs": [
    {
     "data": {
      "text/plain": [
       "52"
      ]
     },
     "execution_count": 49,
     "metadata": {},
     "output_type": "execute_result"
    }
   ],
   "source": [
    "polynomial([1,2,4],6)"
   ]
  },
  {
   "cell_type": "code",
   "execution_count": null,
   "id": "403ad3e6",
   "metadata": {},
   "outputs": [],
   "source": [
    "from math import prod\n",
    "# https://en.wikipedia.org/wiki/Lagrange_point\n",
    "def lagrange(pairs, x, n=None):\n",
    "  result = 0\n",
    "  max_n = len(pairs) - 1\n",
    "\n",
    "  if n == None or n > max_n:\n",
    "    n = max_n\n",
    "\n",
    "  for i in range(n+1):\n",
    "    (xi, yi) = pairs[i]\n",
    "\n",
    "    li = prod([\n",
    "      (x - pairs[j][0]) / (xi - pairs[j][0])\n",
    "      for j in range(n+1)\n",
    "      if j != i\n",
    "    ])\n",
    "\n",
    "    result += li * yi\n",
    "\n",
    "  return result"
   ]
  },
  {
   "cell_type": "code",
   "execution_count": 50,
   "id": "a34c0e56",
   "metadata": {},
   "outputs": [],
   "source": [
    "from math import prod \n",
    "def lagrange(pairs,x , n=None):\n",
    "    result = 0 \n",
    "    max_n  = len(pairs) -1 \n",
    "    \n",
    "    if n== None or n>max_n:\n",
    "        n = max_n \n",
    "    for i in range(n+1):\n",
    "        (xi, yi) = pairs[i]\n",
    "        li = prod([(x-pairs[j][0])/  (xi-pairs[j][0])\n",
    "                  for j in range(n+1)\n",
    "                  if j!= i])\n",
    "        result +=li*yi\n",
    "        return result \n",
    "       "
   ]
  },
  {
   "cell_type": "code",
   "execution_count": 53,
   "id": "9731aca7",
   "metadata": {},
   "outputs": [
    {
     "ename": "TypeError",
     "evalue": "cannot unpack non-iterable int object",
     "output_type": "error",
     "traceback": [
      "\u001b[1;31m---------------------------------------------------------------------------\u001b[0m",
      "\u001b[1;31mTypeError\u001b[0m                                 Traceback (most recent call last)",
      "Input \u001b[1;32mIn [53]\u001b[0m, in \u001b[0;36m<cell line: 1>\u001b[1;34m()\u001b[0m\n\u001b[1;32m----> 1\u001b[0m \u001b[43mlagrange\u001b[49m\u001b[43m(\u001b[49m\u001b[43m[\u001b[49m\u001b[38;5;241;43m4\u001b[39;49m\u001b[43m,\u001b[49m\u001b[38;5;241;43m5\u001b[39;49m\u001b[43m,\u001b[49m\u001b[38;5;241;43m6\u001b[39;49m\u001b[43m,\u001b[49m\u001b[38;5;241;43m7\u001b[39;49m\u001b[43m,\u001b[49m\u001b[38;5;241;43m4\u001b[39;49m\u001b[43m]\u001b[49m\u001b[43m,\u001b[49m\u001b[38;5;241;43m7\u001b[39;49m\u001b[43m)\u001b[49m\n",
      "Input \u001b[1;32mIn [50]\u001b[0m, in \u001b[0;36mlagrange\u001b[1;34m(pairs, x, n)\u001b[0m\n\u001b[0;32m      7\u001b[0m     n \u001b[38;5;241m=\u001b[39m max_n \n\u001b[0;32m      8\u001b[0m \u001b[38;5;28;01mfor\u001b[39;00m i \u001b[38;5;129;01min\u001b[39;00m \u001b[38;5;28mrange\u001b[39m(n\u001b[38;5;241m+\u001b[39m\u001b[38;5;241m1\u001b[39m):\n\u001b[1;32m----> 9\u001b[0m     (xi, yi) \u001b[38;5;241m=\u001b[39m pairs[i]\n\u001b[0;32m     10\u001b[0m     li \u001b[38;5;241m=\u001b[39m prod([(x\u001b[38;5;241m-\u001b[39mpairs[j][\u001b[38;5;241m0\u001b[39m])\u001b[38;5;241m/\u001b[39m  (xi\u001b[38;5;241m-\u001b[39mpairs[j][\u001b[38;5;241m0\u001b[39m])\n\u001b[0;32m     11\u001b[0m               \u001b[38;5;28;01mfor\u001b[39;00m j \u001b[38;5;129;01min\u001b[39;00m \u001b[38;5;28mrange\u001b[39m(n\u001b[38;5;241m+\u001b[39m\u001b[38;5;241m1\u001b[39m)\n\u001b[0;32m     12\u001b[0m               \u001b[38;5;28;01mif\u001b[39;00m j\u001b[38;5;241m!=\u001b[39m i])\n\u001b[0;32m     13\u001b[0m     result \u001b[38;5;241m+\u001b[39m\u001b[38;5;241m=\u001b[39mli\u001b[38;5;241m*\u001b[39myi\n",
      "\u001b[1;31mTypeError\u001b[0m: cannot unpack non-iterable int object"
     ]
    }
   ],
   "source": [
    "lagrange([4,5,6,7,4],7)"
   ]
  },
  {
   "cell_type": "code",
   "execution_count": 54,
   "id": "17838d99",
   "metadata": {},
   "outputs": [],
   "source": [
    "from math import prod\n",
    "# https://en.wikipedia.org/wiki/Lagrange_point\n",
    "def lagrange(pairs, x, n=None):\n",
    "    result = 0\n",
    "    max_n = len(pairs) - 1\n",
    "\n",
    "    if n == None or n > max_n:\n",
    "        n = max_n\n",
    "\n",
    "    for i in range(n+1):\n",
    "        (xi, yi) = pairs[i]\n",
    "\n",
    "        li = prod([\n",
    "        (x - pairs[j][0]) / (xi - pairs[j][0])\n",
    "        for j in range(n+1)\n",
    "        if j != i\n",
    "         ])\n",
    "\n",
    "    result += li * yi\n",
    "\n",
    "    return result"
   ]
  },
  {
   "cell_type": "code",
   "execution_count": 56,
   "id": "a844eebc",
   "metadata": {},
   "outputs": [
    {
     "ename": "TypeError",
     "evalue": "cannot unpack non-iterable int object",
     "output_type": "error",
     "traceback": [
      "\u001b[1;31m---------------------------------------------------------------------------\u001b[0m",
      "\u001b[1;31mTypeError\u001b[0m                                 Traceback (most recent call last)",
      "Input \u001b[1;32mIn [56]\u001b[0m, in \u001b[0;36m<cell line: 1>\u001b[1;34m()\u001b[0m\n\u001b[1;32m----> 1\u001b[0m \u001b[43mlagrange\u001b[49m\u001b[43m(\u001b[49m\u001b[43m(\u001b[49m\u001b[38;5;241;43m4\u001b[39;49m\u001b[43m,\u001b[49m\u001b[38;5;241;43m5\u001b[39;49m\u001b[43m,\u001b[49m\u001b[38;5;241;43m6\u001b[39;49m\u001b[43m)\u001b[49m\u001b[43m,\u001b[49m\u001b[38;5;241;43m5\u001b[39;49m\u001b[43m)\u001b[49m\n",
      "Input \u001b[1;32mIn [54]\u001b[0m, in \u001b[0;36mlagrange\u001b[1;34m(pairs, x, n)\u001b[0m\n\u001b[0;32m      8\u001b[0m     n \u001b[38;5;241m=\u001b[39m max_n\n\u001b[0;32m     10\u001b[0m \u001b[38;5;28;01mfor\u001b[39;00m i \u001b[38;5;129;01min\u001b[39;00m \u001b[38;5;28mrange\u001b[39m(n\u001b[38;5;241m+\u001b[39m\u001b[38;5;241m1\u001b[39m):\n\u001b[1;32m---> 11\u001b[0m     (xi, yi) \u001b[38;5;241m=\u001b[39m pairs[i]\n\u001b[0;32m     13\u001b[0m     li \u001b[38;5;241m=\u001b[39m prod([\n\u001b[0;32m     14\u001b[0m     (x \u001b[38;5;241m-\u001b[39m pairs[j][\u001b[38;5;241m0\u001b[39m]) \u001b[38;5;241m/\u001b[39m (xi \u001b[38;5;241m-\u001b[39m pairs[j][\u001b[38;5;241m0\u001b[39m])\n\u001b[0;32m     15\u001b[0m     \u001b[38;5;28;01mfor\u001b[39;00m j \u001b[38;5;129;01min\u001b[39;00m \u001b[38;5;28mrange\u001b[39m(n\u001b[38;5;241m+\u001b[39m\u001b[38;5;241m1\u001b[39m)\n\u001b[0;32m     16\u001b[0m     \u001b[38;5;28;01mif\u001b[39;00m j \u001b[38;5;241m!=\u001b[39m i\n\u001b[0;32m     17\u001b[0m      ])\n\u001b[0;32m     19\u001b[0m result \u001b[38;5;241m+\u001b[39m\u001b[38;5;241m=\u001b[39m li \u001b[38;5;241m*\u001b[39m yi\n",
      "\u001b[1;31mTypeError\u001b[0m: cannot unpack non-iterable int object"
     ]
    }
   ],
   "source": [
    "lagrange((4,5,6),5)"
   ]
  },
  {
   "cell_type": "code",
   "execution_count": 57,
   "id": "77baaf79",
   "metadata": {},
   "outputs": [],
   "source": [
    "#https://www.geeksforgeeks.org/special-functions-in-scipy/"
   ]
  },
  {
   "cell_type": "code",
   "execution_count": null,
   "id": "8dd28ed8",
   "metadata": {},
   "outputs": [],
   "source": []
  },
  {
   "cell_type": "code",
   "execution_count": null,
   "id": "7cb2bc74",
   "metadata": {},
   "outputs": [],
   "source": []
  },
  {
   "cell_type": "code",
   "execution_count": null,
   "id": "b26760d1",
   "metadata": {},
   "outputs": [],
   "source": []
  },
  {
   "cell_type": "code",
   "execution_count": null,
   "id": "2222f8bf",
   "metadata": {},
   "outputs": [],
   "source": []
  },
  {
   "cell_type": "code",
   "execution_count": null,
   "id": "e4ac461a",
   "metadata": {},
   "outputs": [],
   "source": []
  },
  {
   "cell_type": "code",
   "execution_count": null,
   "id": "9e64dbd5",
   "metadata": {},
   "outputs": [],
   "source": []
  },
  {
   "cell_type": "code",
   "execution_count": null,
   "id": "ab7c150c",
   "metadata": {},
   "outputs": [],
   "source": []
  },
  {
   "cell_type": "code",
   "execution_count": null,
   "id": "50244d8a",
   "metadata": {},
   "outputs": [],
   "source": []
  },
  {
   "cell_type": "code",
   "execution_count": null,
   "id": "ff1981f8",
   "metadata": {},
   "outputs": [],
   "source": []
  },
  {
   "cell_type": "code",
   "execution_count": null,
   "id": "ae370fb3",
   "metadata": {},
   "outputs": [],
   "source": []
  },
  {
   "cell_type": "code",
   "execution_count": null,
   "id": "cd1030ea",
   "metadata": {},
   "outputs": [],
   "source": []
  },
  {
   "cell_type": "code",
   "execution_count": null,
   "id": "909f6fe8",
   "metadata": {},
   "outputs": [],
   "source": []
  },
  {
   "cell_type": "code",
   "execution_count": null,
   "id": "19998208",
   "metadata": {},
   "outputs": [],
   "source": [
    "arr = np.array([1,2,3,4])"
   ]
  },
  {
   "cell_type": "code",
   "execution_count": null,
   "id": "7fb6d589",
   "metadata": {},
   "outputs": [],
   "source": [
    "arr.round()"
   ]
  },
  {
   "cell_type": "code",
   "execution_count": null,
   "id": "761fa5a5",
   "metadata": {},
   "outputs": [],
   "source": [
    "arr.max(1)"
   ]
  },
  {
   "cell_type": "code",
   "execution_count": null,
   "id": "9e2fa8af",
   "metadata": {
    "scrolled": false
   },
   "outputs": [],
   "source": [
    "arr.argmax()"
   ]
  },
  {
   "cell_type": "code",
   "execution_count": null,
   "id": "b2566be8",
   "metadata": {},
   "outputs": [],
   "source": [
    "arr.size"
   ]
  },
  {
   "cell_type": "code",
   "execution_count": null,
   "id": "13964c1d",
   "metadata": {},
   "outputs": [],
   "source": [
    "arr.sort()"
   ]
  },
  {
   "cell_type": "code",
   "execution_count": null,
   "id": "acde874f",
   "metadata": {},
   "outputs": [],
   "source": [
    "arr = [2,3,4,5,4]"
   ]
  },
  {
   "cell_type": "code",
   "execution_count": null,
   "id": "c3420130",
   "metadata": {},
   "outputs": [],
   "source": [
    "x=arr.sort"
   ]
  },
  {
   "cell_type": "code",
   "execution_count": null,
   "id": "d0b4b314",
   "metadata": {},
   "outputs": [],
   "source": [
    "x"
   ]
  },
  {
   "cell_type": "code",
   "execution_count": null,
   "id": "9f7cab96",
   "metadata": {},
   "outputs": [],
   "source": [
    "arr = [1,2,3,4]"
   ]
  },
  {
   "cell_type": "code",
   "execution_count": null,
   "id": "4edf8f06",
   "metadata": {},
   "outputs": [],
   "source": [
    "size(arr)"
   ]
  },
  {
   "cell_type": "code",
   "execution_count": null,
   "id": "725cd2d7",
   "metadata": {},
   "outputs": [],
   "source": [
    "def argmax(arr):\n",
    "    print(list(type(arr)))\n",
    "    return 0"
   ]
  },
  {
   "cell_type": "code",
   "execution_count": null,
   "id": "64b897e3",
   "metadata": {},
   "outputs": [],
   "source": [
    "argmax(arr)"
   ]
  },
  {
   "cell_type": "code",
   "execution_count": null,
   "id": "8ac84903",
   "metadata": {},
   "outputs": [],
   "source": [
    "arr[3]"
   ]
  },
  {
   "cell_type": "code",
   "execution_count": null,
   "id": "514a5cab",
   "metadata": {},
   "outputs": [],
   "source": [
    "arr= [1,2,3,4]"
   ]
  },
  {
   "cell_type": "code",
   "execution_count": null,
   "id": "ff9a5f77",
   "metadata": {},
   "outputs": [],
   "source": [
    "def argmaxx(lists):\n",
    "    indexs = max(lists)\n",
    "    print(indexs)\n",
    "    return lists[indexs]\n"
   ]
  },
  {
   "cell_type": "code",
   "execution_count": null,
   "id": "35ac915b",
   "metadata": {},
   "outputs": [],
   "source": [
    "argmaxx(arr)"
   ]
  },
  {
   "cell_type": "code",
   "execution_count": null,
   "id": "3b2601b1",
   "metadata": {},
   "outputs": [],
   "source": [
    "l = [1,2,3,4]"
   ]
  },
  {
   "cell_type": "code",
   "execution_count": null,
   "id": "4b664a71",
   "metadata": {},
   "outputs": [],
   "source": [
    "l[3][1,2]"
   ]
  },
  {
   "cell_type": "code",
   "execution_count": null,
   "id": "cfe38ec2",
   "metadata": {},
   "outputs": [],
   "source": [
    "def max(a):\n",
    "    return max"
   ]
  },
  {
   "cell_type": "code",
   "execution_count": null,
   "id": "46c20abe",
   "metadata": {},
   "outputs": [],
   "source": [
    "a = [1,2,3,4]"
   ]
  },
  {
   "cell_type": "code",
   "execution_count": null,
   "id": "0518c045",
   "metadata": {},
   "outputs": [],
   "source": [
    "a.max()"
   ]
  },
  {
   "cell_type": "code",
   "execution_count": null,
   "id": "55c86070",
   "metadata": {},
   "outputs": [],
   "source": [
    "[1,2,3,4].index(4)"
   ]
  },
  {
   "cell_type": "code",
   "execution_count": null,
   "id": "5608f9ba",
   "metadata": {},
   "outputs": [],
   "source": [
    "def argmax(arr):\n",
    "    lists  = max(arr)\n",
    "    return arr.index(lists)"
   ]
  },
  {
   "cell_type": "code",
   "execution_count": null,
   "id": "2a499e48",
   "metadata": {},
   "outputs": [],
   "source": [
    "a = [1,2,3,4]"
   ]
  },
  {
   "cell_type": "code",
   "execution_count": null,
   "id": "ea902fda",
   "metadata": {},
   "outputs": [],
   "source": [
    "argmax(a)"
   ]
  },
  {
   "cell_type": "code",
   "execution_count": null,
   "id": "0daad927",
   "metadata": {},
   "outputs": [],
   "source": []
  }
 ],
 "metadata": {
  "kernelspec": {
   "display_name": "Python 3 (ipykernel)",
   "language": "python",
   "name": "python3"
  },
  "language_info": {
   "codemirror_mode": {
    "name": "ipython",
    "version": 3
   },
   "file_extension": ".py",
   "mimetype": "text/x-python",
   "name": "python",
   "nbconvert_exporter": "python",
   "pygments_lexer": "ipython3",
   "version": "3.9.12"
  },
  "vscode": {
   "interpreter": {
    "hash": "88279d2366fe020547cde40dd65aa0e3aa662a6ec1f3ca12d88834876c85e1a6"
   }
  }
 },
 "nbformat": 4,
 "nbformat_minor": 5
}
