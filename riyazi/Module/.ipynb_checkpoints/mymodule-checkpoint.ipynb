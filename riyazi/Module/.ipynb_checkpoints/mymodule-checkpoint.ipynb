{
 "cells": [
  {
   "cell_type": "code",
   "execution_count": 1,
   "id": "de5d3ba4-2f13-4cd5-b4d5-6f2b7b2011c4",
   "metadata": {},
   "outputs": [],
   "source": [
    "## User Defined modules"
   ]
  },
  {
   "cell_type": "code",
   "execution_count": 2,
   "id": "c1c9caf1-9feb-43c2-87bd-11bda9e1a0aa",
   "metadata": {},
   "outputs": [],
   "source": [
    "def compound_interest(principal,rate,years):\n",
    "    amount=principal*(1+rate/100)**years\n",
    "    return amount "
   ]
  },
  {
   "cell_type": "code",
   "execution_count": 3,
   "id": "8650b3b2-3dd3-4fbb-83ad-225766033474",
   "metadata": {},
   "outputs": [],
   "source": [
    "from math import sqrt\n",
    "def Heron(a,b,c):\n",
    "    s=(a+b+c)/2.0\n",
    "    A=sqrt(s*(s-a)*(s-b)*(s-c))\n",
    "    return A"
   ]
  },
  {
   "cell_type": "code",
   "execution_count": 8,
   "id": "0d6cda61-e2f9-4066-9735-c283e0593868",
   "metadata": {},
   "outputs": [],
   "source": [
    "def is_triangle(a,b,c):\n",
    "    if(a+b>c and a+c>b and b+c>a):\n",
    "        return True\n",
    "    else:\n",
    "        return False\n",
    "def Triangle(a,b,c):\n",
    "    if(a+b>c and a+c>b and b+c>a):\n",
    "        if(a==b and b==c):\n",
    "            print(\"Equalteral triangle\")\n",
    "        elif (a==b or b==c or a==c):\n",
    "            print(\"Isoceles triangle\")\n",
    "        else:\n",
    "            print(\"scalene triangle\")\n",
    "    else:\n",
    "        print(\"Not a triangle\")\n",
    "        \n",
    "from math import sqrt\n",
    "from cmath import sqrt as csqrt \n",
    "def solve_quad(a,b,c):\n",
    "    if(a==b):\n",
    "        if(b!=0):\n",
    "            x1= -c/b\n",
    "            print(f\"it has only one root, x1 ={x1}\")\n",
    "        else:\n",
    "            print(\"it has no root\")\n",
    "    else:\n",
    "        d=b**2-4*a*c\n",
    "        if(d>0):\n",
    "            print('Roots are real')\n",
    "            x1=(-b+sqrt(b**2-4*a*c))/(2*a)\n",
    "            x2=(-b-csqrt(b**2-4*a*c))/(2*a)\n",
    "            print(f'The roots of are {x1} and {x2}')\n",
    "\n",
    "def isPrime(n):\n",
    "    if n<2:\n",
    "        return False\n",
    "    if n==2:\n",
    "        return True\n",
    "    if n%2==0:\n",
    "        return False\n",
    "    for k in range(3,int(n**0.5)+1,2):\n",
    "        if n%k ==0:\n",
    "            return False\n",
    "        return True\n",
    "    \n",
    "def mygcd(a,b):\n",
    "    a, b = abs(a), abs(b)\n",
    "    if(a==0):\n",
    "        if(b==0):\n",
    "            \n",
    "            gcd='gcd does not exist'\n",
    "        else:\n",
    "            gcd=b\n",
    "    else:\n",
    "        if(b==0):\n",
    "            gcd=a\n",
    "        else:\n",
    "            if(a<b):\n",
    "                a,b=b,a\n",
    "            while(a%b!=0):\n",
    "                a,b=b,a%b\n",
    "            gcd=b\n",
    "    return gcd\n",
    "\n",
    "def Newton_raphson(f, df ,x0, max_it=20, tol=1e-5):\n",
    "    f0 = f(x0)\n",
    "    itr = 0\n",
    "    while(abs(f(x0))>=tol and itr<=max_it):\n",
    "        x1 = x0-f0/df(x0)\n",
    "        x0 = x1\n",
    "        f0 = f(x0)\n",
    "        itr +=1 \n",
    "        converged = itr<max_it\n",
    "        return x0,converged, itr\n",
    "    \n",
    "            \n",
    "        "
   ]
  },
  {
   "cell_type": "code",
   "execution_count": 7,
   "id": "05da681f-f4f1-43e9-b0a2-d2d668f050a4",
   "metadata": {},
   "outputs": [
    {
     "ename": "TypeError",
     "evalue": "'int' object is not callable",
     "output_type": "error",
     "traceback": [
      "\u001b[1;31m---------------------------------------------------------------------------\u001b[0m",
      "\u001b[1;31mTypeError\u001b[0m                                 Traceback (most recent call last)",
      "Input \u001b[1;32mIn [7]\u001b[0m, in \u001b[0;36m<cell line: 1>\u001b[1;34m()\u001b[0m\n\u001b[1;32m----> 1\u001b[0m \u001b[43mNewton_raphson\u001b[49m\u001b[43m(\u001b[49m\u001b[38;5;241;43m4\u001b[39;49m\u001b[43m,\u001b[49m\u001b[38;5;241;43m5\u001b[39;49m\u001b[43m,\u001b[49m\u001b[38;5;241;43m3\u001b[39;49m\u001b[43m)\u001b[49m\n",
      "Input \u001b[1;32mIn [6]\u001b[0m, in \u001b[0;36mNewton_raphson\u001b[1;34m(f, df, x0, max_it, tol)\u001b[0m\n\u001b[0;32m     65\u001b[0m \u001b[38;5;28;01mdef\u001b[39;00m \u001b[38;5;21mNewton_raphson\u001b[39m(f, df ,x0, max_it\u001b[38;5;241m=\u001b[39m\u001b[38;5;241m20\u001b[39m, tol\u001b[38;5;241m=\u001b[39m\u001b[38;5;241m1e-5\u001b[39m):\n\u001b[1;32m---> 66\u001b[0m     f0 \u001b[38;5;241m=\u001b[39m \u001b[43mf\u001b[49m\u001b[43m(\u001b[49m\u001b[43mx0\u001b[49m\u001b[43m)\u001b[49m\n\u001b[0;32m     67\u001b[0m     itr \u001b[38;5;241m=\u001b[39m \u001b[38;5;241m0\u001b[39m\n\u001b[0;32m     68\u001b[0m     \u001b[38;5;28;01mwhile\u001b[39;00m(\u001b[38;5;28mabs\u001b[39m(f(x0))\u001b[38;5;241m>\u001b[39m\u001b[38;5;241m=\u001b[39mtol \u001b[38;5;129;01mand\u001b[39;00m itr\u001b[38;5;241m<\u001b[39m\u001b[38;5;241m=\u001b[39mmax_it):\n",
      "\u001b[1;31mTypeError\u001b[0m: 'int' object is not callable"
     ]
    }
   ],
   "source": [
    "Newton_raphson(4,5,3)"
   ]
  },
  {
   "cell_type": "code",
   "execution_count": null,
   "id": "14855441",
   "metadata": {},
   "outputs": [],
   "source": []
  }
 ],
 "metadata": {
  "kernelspec": {
   "display_name": "Python 3 (ipykernel)",
   "language": "python",
   "name": "python3"
  },
  "language_info": {
   "codemirror_mode": {
    "name": "ipython",
    "version": 3
   },
   "file_extension": ".py",
   "mimetype": "text/x-python",
   "name": "python",
   "nbconvert_exporter": "python",
   "pygments_lexer": "ipython3",
   "version": "3.9.12"
  }
 },
 "nbformat": 4,
 "nbformat_minor": 5
}
