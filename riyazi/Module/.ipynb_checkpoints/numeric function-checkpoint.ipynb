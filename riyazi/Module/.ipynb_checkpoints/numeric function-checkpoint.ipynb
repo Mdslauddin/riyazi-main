{
 "cells": [
  {
   "cell_type": "code",
   "execution_count": null,
   "id": "2d01b144",
   "metadata": {},
   "outputs": [],
   "source": [
    "import numpy as np"
   ]
  },
  {
   "cell_type": "code",
   "execution_count": null,
   "id": "23bec9c0",
   "metadata": {},
   "outputs": [],
   "source": [
    "arr = np.array([1,2,3,4,5])"
   ]
  },
  {
   "cell_type": "code",
   "execution_count": null,
   "id": "fd140add",
   "metadata": {},
   "outputs": [],
   "source": [
    "arl = list(arr)"
   ]
  },
  {
   "cell_type": "code",
   "execution_count": null,
   "id": "2a574eab",
   "metadata": {},
   "outputs": [],
   "source": [
    "type(arl)"
   ]
  },
  {
   "cell_type": "code",
   "execution_count": null,
   "id": "48f55dfe",
   "metadata": {},
   "outputs": [],
   "source": [
    "arr.max()\n"
   ]
  },
  {
   "cell_type": "code",
   "execution_count": null,
   "id": "195ac054",
   "metadata": {},
   "outputs": [],
   "source": [
    "arr.argmax()"
   ]
  },
  {
   "cell_type": "code",
   "execution_count": null,
   "id": "c7fc37a6",
   "metadata": {},
   "outputs": [],
   "source": [
    "def argmax(arr):\n",
    "    arr = list(arr)\n",
    "    lists  = max(arr)\n",
    "    return arr.index(lists)"
   ]
  },
  {
   "cell_type": "code",
   "execution_count": null,
   "id": "846b3b34",
   "metadata": {},
   "outputs": [],
   "source": [
    "argmax(arr)"
   ]
  },
  {
   "cell_type": "code",
   "execution_count": null,
   "id": "cebe4b7f",
   "metadata": {},
   "outputs": [],
   "source": [
    "def amax(arr):\n",
    "    return max(arr)"
   ]
  },
  {
   "cell_type": "code",
   "execution_count": null,
   "id": "35cc15a5",
   "metadata": {},
   "outputs": [],
   "source": [
    "arr = [1,2,3,4,5]"
   ]
  },
  {
   "cell_type": "code",
   "execution_count": null,
   "id": "984f9384",
   "metadata": {},
   "outputs": [],
   "source": [
    "max(arr)"
   ]
  },
  {
   "cell_type": "code",
   "execution_count": 1,
   "id": "c04e3a8d",
   "metadata": {},
   "outputs": [],
   "source": [
    "def argmin(arr):\n",
    "    arr = list(arr)\n",
    "    lists  = min(arr)\n",
    "    return arr.index(lists)"
   ]
  },
  {
   "cell_type": "code",
   "execution_count": 2,
   "id": "aa1debd3",
   "metadata": {},
   "outputs": [],
   "source": [
    "def amin(arr):\n",
    "    return min(arr)"
   ]
  },
  {
   "cell_type": "code",
   "execution_count": 3,
   "id": "9516de05",
   "metadata": {},
   "outputs": [],
   "source": [
    "def size(arr):\n",
    "    for x in arr:\n",
    "        cout = x\n",
    "    return cout"
   ]
  },
  {
   "cell_type": "code",
   "execution_count": null,
   "id": "50a562ee",
   "metadata": {},
   "outputs": [],
   "source": []
  }
 ],
 "metadata": {
  "kernelspec": {
   "display_name": "Python 3 (ipykernel)",
   "language": "python",
   "name": "python3"
  },
  "language_info": {
   "codemirror_mode": {
    "name": "ipython",
    "version": 3
   },
   "file_extension": ".py",
   "mimetype": "text/x-python",
   "name": "python",
   "nbconvert_exporter": "python",
   "pygments_lexer": "ipython3",
   "version": "3.9.12"
  }
 },
 "nbformat": 4,
 "nbformat_minor": 5
}
