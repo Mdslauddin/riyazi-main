{
 "cells": [
  {
   "cell_type": "markdown",
   "id": "caa7cafc",
   "metadata": {},
   "source": [
    "`pythagoras`\n",
    "\n",
    "`prime_check`\n",
    "\n",
    "`recursive_binomial_coefficient`"
   ]
  },
  {
   "cell_type": "code",
   "execution_count": null,
   "id": "b0351827",
   "metadata": {},
   "outputs": [],
   "source": [
    "def pythagoras(opposite,adjacent,hypotenuse):\n",
    "    try:\n",
    "        if opposite == str(\"?\"):\n",
    "            return (\"Opposite = \" + str(((hypotenuse**2) - (adjacent**2))**0.5))\n",
    "        elif adjacent == str(\"?\"):\n",
    "            return (\"Adjacent = \" + str(((hypotenuse**2) - (opposite**2))**0.5))\n",
    "        elif hypotenuse == str(\"?\"):\n",
    "            return (\"Hypotenuse = \" + str(((opposite**2) + (adjacent**2))**0.5))\n",
    "        else:\n",
    "            return \"You already know the answer!\"\n",
    "    except:\n",
    "        raise ValueError(\"invalid argument were given.\")"
   ]
  },
  {
   "cell_type": "code",
   "execution_count": null,
   "id": "196f6773",
   "metadata": {},
   "outputs": [],
   "source": [
    "pythagoras(5,5,6)"
   ]
  },
  {
   "cell_type": "code",
   "execution_count": 4,
   "id": "997005ca",
   "metadata": {},
   "outputs": [],
   "source": [
    "def pythogoras(o=None, a=None, h=None):\n",
    "    \"\"\"\n",
    "    o -> Opposite\n",
    "    a -> adjacent \n",
    "    h -> hypotenuse \n",
    "    \n",
    "    \"\"\"\n",
    "    try:\n",
    "        \n",
    "        if(h and a and o == True):\n",
    "            return \"You already know the answer!\"\n",
    "        \n",
    "        elif(h and a !=None):\n",
    "            print('Opposite')\n",
    "            return ((h**2)-((a**2)))**0.5\n",
    "        elif(h and o !=None):\n",
    "            print(adjacent)\n",
    "            return ((h**2)-((o**2)))**0.5\n",
    "        elif(o and a !=None):\n",
    "            print(\"hypotenuse\")\n",
    "            return ((o**2)+((a**2)))**0.5\n",
    "      \n",
    "        else:\n",
    "            return (\"Error\")\n",
    "            \n",
    "    except:\n",
    "        raise ValueError(\"invalid argument were given.\")"
   ]
  },
  {
   "cell_type": "code",
   "execution_count": 9,
   "id": "187f5dbc",
   "metadata": {},
   "outputs": [
    {
     "name": "stdout",
     "output_type": "stream",
     "text": [
      "hypotenuse\n"
     ]
    },
    {
     "data": {
      "text/plain": [
       "7.810249675906654"
      ]
     },
     "execution_count": 9,
     "metadata": {},
     "output_type": "execute_result"
    }
   ],
   "source": [
    "pythogoras(5,6)"
   ]
  },
  {
   "cell_type": "code",
   "execution_count": 7,
   "id": "4bc094cb",
   "metadata": {},
   "outputs": [],
   "source": [
    "def prime_check(n):\n",
    "    \"\"\"Return True if n is a prime number\n",
    "    Else return False.\n",
    "    \"\"\"\n",
    "\n",
    "    if n <= 1:\n",
    "        return False\n",
    "    if n == 2 or n == 3:\n",
    "        return True\n",
    "    if n % 2 == 0 or n % 3 == 0:\n",
    "        return False\n",
    "    j = 5\n",
    "    while j * j <= n:\n",
    "        if n % j == 0 or n % (j + 2) == 0:\n",
    "            return False\n",
    "        j += 6\n",
    "    return True\n"
   ]
  },
  {
   "cell_type": "code",
   "execution_count": 6,
   "id": "3d979c31",
   "metadata": {},
   "outputs": [
    {
     "data": {
      "text/plain": [
       "True"
      ]
     },
     "execution_count": 6,
     "metadata": {},
     "output_type": "execute_result"
    }
   ],
   "source": [
    "prime_check(5)"
   ]
  },
  {
   "cell_type": "code",
   "execution_count": 7,
   "id": "7ee8a345",
   "metadata": {},
   "outputs": [],
   "source": [
    "def recursive_binomial_coefficient(n,k):\n",
    "    \n",
    "    if k>n:\n",
    "        raise ValueError('Invalid Inputs, ensure that n >= k')\n",
    "        #function is only defined for n>=k\n",
    "    if k == 0 or n == k:\n",
    "        #C(n,0) = C(n,n) = 1, so this is our base case.\n",
    "        return 1\n",
    "    if k > n/2:\n",
    "        #C(n,k) = C(n,n-k), so if n/2 is sufficiently small, we can reduce the problem size.\n",
    "        return recursive_binomial_coefficient(n,n-k)\n",
    "    else:\n",
    "        #else, we know C(n,k) = (n/k)C(n-1,k-1), so we can use this to reduce our problem size.\n",
    "        return int((n/k)*recursive_binomial_coefficient(n-1,k-1))\n"
   ]
  },
  {
   "cell_type": "code",
   "execution_count": 11,
   "id": "8d44f896",
   "metadata": {},
   "outputs": [
    {
     "data": {
      "text/plain": [
       "924"
      ]
     },
     "execution_count": 11,
     "metadata": {},
     "output_type": "execute_result"
    }
   ],
   "source": [
    "recursive_binomial_coefficient(12,6)"
   ]
  },
  {
   "cell_type": "code",
   "execution_count": 12,
   "id": "4549dcef",
   "metadata": {},
   "outputs": [],
   "source": [
    "def square_root(n, epsilon=0.001):\n",
    "    \"\"\"Return square root of n, with maximum absolute error epsilon\"\"\"\n",
    "    guess = n / 2\n",
    "\n",
    "    while abs(guess * guess - n) > epsilon:\n",
    "        guess = (guess + (n / guess)) / 2\n",
    "\n",
    "    return guess\n"
   ]
  },
  {
   "cell_type": "code",
   "execution_count": 13,
   "id": "ab3fc678",
   "metadata": {},
   "outputs": [],
   "source": [
    "def euler_totient(n):\n",
    "    \"\"\"Euler's totient function or Phi function.\n",
    "    Time Complexity: O(sqrt(n)).\"\"\"\n",
    "    result = n;\n",
    "    for i in range(2, int(n ** 0.5) + 1):\n",
    "        if n % i == 0:\n",
    "            while n % i == 0:\n",
    "                n //= i\n",
    "            result -= result // i\n",
    "    if n > 1:\n",
    "        result -= result // n;\n",
    "    return result;\n"
   ]
  },
  {
   "cell_type": "code",
   "execution_count": null,
   "id": "08c04f43",
   "metadata": {},
   "outputs": [],
   "source": []
  }
 ],
 "metadata": {
  "kernelspec": {
   "display_name": "Python 3 (ipykernel)",
   "language": "python",
   "name": "python3"
  },
  "language_info": {
   "codemirror_mode": {
    "name": "ipython",
    "version": 3
   },
   "file_extension": ".py",
   "mimetype": "text/x-python",
   "name": "python",
   "nbconvert_exporter": "python",
   "pygments_lexer": "ipython3",
   "version": "3.9.12"
  }
 },
 "nbformat": 4,
 "nbformat_minor": 5
}
