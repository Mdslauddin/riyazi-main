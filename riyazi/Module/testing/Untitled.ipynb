{
 "cells": [
  {
   "cell_type": "code",
   "execution_count": 1,
   "id": "f18717aa",
   "metadata": {},
   "outputs": [],
   "source": [
    "def gcd(*integers):\n",
    "    \"\"\"Greatest Common Divisor.\"\"\"\n",
    "    if len(integers) <= 1:\n",
    "        return integers[0]\n",
    "    n, k, *others = integers\n",
    "    if k > n:\n",
    "        n, k = k, n\n",
    "    while k != 0:\n",
    "        k, n = n % k, k\n",
    "    return gcd(n, *others)"
   ]
  },
  {
   "cell_type": "code",
   "execution_count": 2,
   "id": "9c2fe12f",
   "metadata": {},
   "outputs": [],
   "source": [
    "def lcm(*integers) -> int or array:\n",
    "    \"\"\"Least Common Multiple.\"\"\"\n",
    "    args_max = max(integers)\n",
    "    n = 1\n",
    "    while True:\n",
    "        for k in integers:\n",
    "            if args_max * n % k != 0:\n",
    "                n += 1\n",
    "                break\n",
    "        else:\n",
    "            return args_max * n"
   ]
  },
  {
   "cell_type": "code",
   "execution_count": 3,
   "id": "7e6daa81",
   "metadata": {},
   "outputs": [],
   "source": [
    "def sign(x):\n",
    "    return x / -x"
   ]
  },
  {
   "cell_type": "code",
   "execution_count": 4,
   "id": "54a10709",
   "metadata": {},
   "outputs": [],
   "source": [
    "def theta(x):\n",
    "    if 0 < x:\n",
    "        return 1\n",
    "    else:\n",
    "        return 0"
   ]
  },
  {
   "cell_type": "code",
   "execution_count": 5,
   "id": "e0531264",
   "metadata": {},
   "outputs": [],
   "source": [
    "def prime(_n : int):\n",
    "    global prime_list\n",
    "    try:\n",
    "        return prime_list[_n + 1]\n",
    "    except:\n",
    "        try:\n",
    "            k = prime_list[_n] + 2\n",
    "        except:\n",
    "            k = prime(_n - 1) + 2\n",
    "        while not prime_test(k):\n",
    "            k += 2\n",
    "        prime_list += [k]\n",
    "        return k"
   ]
  },
  {
   "cell_type": "code",
   "execution_count": 6,
   "id": "91907e93",
   "metadata": {},
   "outputs": [],
   "source": [
    "def pi() -> float:\n",
    "    \"\"\"\n",
    "    \"pi()\" returns the constant π.\n",
    "    The value is approximately 3.1415926535897932384626433832795.\n",
    "    \"\"\"\n",
    "    return 3.1415926535897932384626433832795"
   ]
  },
  {
   "cell_type": "code",
   "execution_count": 7,
   "id": "2bbc7ab1",
   "metadata": {},
   "outputs": [],
   "source": [
    "def e() -> float:\n",
    "    \"\"\"\n",
    "    \"e()\" returns the constant e.\n",
    "    The value is approximately 2.7182818284590452353602874713527.\n",
    "    \"\"\"\n",
    "    return 2.7182818284590452353602874713527"
   ]
  },
  {
   "cell_type": "code",
   "execution_count": 8,
   "id": "5ce020ab",
   "metadata": {},
   "outputs": [],
   "source": [
    "def inf() -> float:\n",
    "    \"\"\"\n",
    "    \"inf()\" returns infinity.\n",
    "    \"\"\"\n",
    "    return float(\"inf\")"
   ]
  },
  {
   "cell_type": "code",
   "execution_count": 9,
   "id": "449bf390",
   "metadata": {},
   "outputs": [],
   "source": [
    "def phi() -> float:\n",
    "    \"\"\"\n",
    "    \"phi()\" returns the constant φ.\n",
    "    The value is approximately 1.6180339887498948482045868343656.\n",
    "    \"\"\"\n",
    "    return 1.6180339887498948482045868343656\n"
   ]
  },
  {
   "cell_type": "code",
   "execution_count": 10,
   "id": "7f103300",
   "metadata": {},
   "outputs": [],
   "source": [
    "def gamma() -> float:\n",
    "    \"\"\"\n",
    "    \"gamma()\" returns the constant γ.\n",
    "    The value is approximately 0.5772156649015328606065120900824.\n",
    "    \"\"\"\n",
    "    return 0.5772156649015328606065120900824\n"
   ]
  },
  {
   "cell_type": "code",
   "execution_count": 11,
   "id": "ea719d8f",
   "metadata": {},
   "outputs": [],
   "source": [
    "def tau() -> float:\n",
    "    \"\"\"\n",
    "    \"tau()\" returns the constant τ.\n",
    "    The value is approximately 6.283185307179586476925286766559.\n",
    "    \"\"\"\n",
    "    return 6.283185307179586476925286766559"
   ]
  },
  {
   "cell_type": "code",
   "execution_count": 12,
   "id": "6df760d3",
   "metadata": {},
   "outputs": [],
   "source": [
    "def floor(x,/):\n",
    "    \"\"\"\n",
    "    Return the floor of x as an Integral.\n",
    "\n",
    "    \"\"\"\n",
    "    x = int(x)\n",
    "    return x"
   ]
  },
  {
   "cell_type": "code",
   "execution_count": 13,
   "id": "6189a4d1",
   "metadata": {},
   "outputs": [],
   "source": [
    "def ceil(x,/):\n",
    "    \"\"\"\n",
    "    Return the ceiling of x as an Integral.\n",
    "    \"\"\"\n",
    "    if (int == type(x)):\n",
    "        x=x\n",
    "        return x \n",
    "    elif (float == type(x)):\n",
    "        x = int(x)\n",
    "        return (x+1)"
   ]
  },
  {
   "cell_type": "code",
   "execution_count": 14,
   "id": "07d0cee9",
   "metadata": {},
   "outputs": [],
   "source": [
    "def fmod(x,y,/):\n",
    "    z =float (x%y) \n",
    "    return z "
   ]
  },
  {
   "cell_type": "code",
   "execution_count": 15,
   "id": "bf1bd51a",
   "metadata": {},
   "outputs": [],
   "source": [
    "e=2.7182818284\n",
    "def ex(x,/):\n",
    "    x = e**x\n",
    "    return x\n"
   ]
  },
  {
   "cell_type": "code",
   "execution_count": 16,
   "id": "0450231f",
   "metadata": {},
   "outputs": [],
   "source": [
    "def x2(x,/):\n",
    "    x = x**2\n",
    "    return x"
   ]
  },
  {
   "cell_type": "code",
   "execution_count": 17,
   "id": "d7342979",
   "metadata": {},
   "outputs": [],
   "source": [
    "def remainder(x,y,/):\n",
    "    \"\"\"\n",
    "    positive is your remainder\n",
    "    negative is your need if you want to x multiple of y.\n",
    "    Difference between x and the closest integer multiple of y.\n",
    "    \"\"\"\n",
    "    r = x%y\n",
    "    c = int (-1 * (y/r))\n",
    "    print(\"(remainder, Difference closest integer multiply of y.)\")\n",
    "    return r,c"
   ]
  },
  {
   "cell_type": "code",
   "execution_count": 18,
   "id": "70c00750",
   "metadata": {},
   "outputs": [],
   "source": [
    "def radians(x,/):\n",
    "    \"\"\"Convert angle x from degrees to radians.\"\"\"\n",
    "    r= 0.017453292519943295\n",
    "    r = x*r\n",
    "    return r"
   ]
  },
  {
   "cell_type": "code",
   "execution_count": 19,
   "id": "65fb3341",
   "metadata": {},
   "outputs": [],
   "source": [
    "def modf(x):\n",
    "    a = int(x)\n",
    "    b = (x%a)\n",
    "    x = float(a)\n",
    "    decimal_places='%.1f'\n",
    "    b = float(decimal_places %b)\n",
    "    return  b, x"
   ]
  },
  {
   "cell_type": "code",
   "execution_count": 20,
   "id": "b57c9f2b",
   "metadata": {},
   "outputs": [],
   "source": [
    "def degress(x,/):\n",
    "    \"\"\"Convert angle x from radians to degrees.\"\"\"\n",
    "    dv = 57.29577951308232\n",
    "    deg = x*dv\n",
    "    return deg"
   ]
  },
  {
   "cell_type": "code",
   "execution_count": 21,
   "id": "cf6507fa",
   "metadata": {},
   "outputs": [],
   "source": [
    "def expm1(x,/):\n",
    "    \"\"\"Return exp(x)-1.\"\"\"\n",
    "    x = ex(x)-1\n",
    "    return x "
   ]
  },
  {
   "cell_type": "markdown",
   "id": "e3b431ee",
   "metadata": {},
   "source": [
    "`Number-theory and representation function`\n",
    "\n",
    "- pep 485\n",
    "\n",
    "`Power and logarithmic function`\n",
    "\n",
    "`Trigonometric function`\n",
    "\n",
    "`Angular conversion`\n",
    " \n",
    " `Hyperbolic function`\n",
    " \n",
    " `Special function`\n",
    " \n",
    " `Constant`\n",
    " \n"
   ]
  },
  {
   "cell_type": "code",
   "execution_count": 1,
   "id": "acf1630e",
   "metadata": {},
   "outputs": [],
   "source": [
    "e=2.7182818284\n",
    "def sinh(x,/):\n",
    "    \"\"\"Return the hyperbolic sine of x.\"\"\"\n",
    "    x = (e**x - e**(-x))/2\n",
    "    return x "
   ]
  },
  {
   "cell_type": "code",
   "execution_count": 2,
   "id": "6ec87446",
   "metadata": {},
   "outputs": [],
   "source": [
    "e=2.7182818284\n",
    "def cosh(x,/):\n",
    "    \"\"\"Return the hyperbolic sine of x.\"\"\"\n",
    "    x = (e**x + e**(-x))/2\n",
    "    return x "
   ]
  },
  {
   "cell_type": "code",
   "execution_count": 3,
   "id": "d6cd99f2",
   "metadata": {},
   "outputs": [],
   "source": [
    "def tanh(x,/):\n",
    "    x = (e**x - e**(-x)) / (e**x + e**(-x))\n",
    "    return x "
   ]
  },
  {
   "cell_type": "code",
   "execution_count": 4,
   "id": "2885d6b6",
   "metadata": {},
   "outputs": [],
   "source": [
    "def coth(x,/):\n",
    "    x = (e**x + e**(-x)) / (e**x - e**(-x))\n",
    "    return x"
   ]
  },
  {
   "cell_type": "code",
   "execution_count": 5,
   "id": "0f3c034a",
   "metadata": {},
   "outputs": [],
   "source": [
    "def sech(x,/):\n",
    "    x = 2/ (e**x + e**(-x)) # 1/ ((e**x + e**(-x))/2)\n",
    "    return x"
   ]
  },
  {
   "cell_type": "code",
   "execution_count": 6,
   "id": "89908cd0",
   "metadata": {},
   "outputs": [],
   "source": [
    "def csch(x,/):\n",
    "    if ( x != 0):\n",
    "        \n",
    "        x = 1 / ((e**x - e**(-x))/2)\n",
    "        return x \n",
    "    else:\n",
    "        print(\"Domain error\")"
   ]
  },
  {
   "cell_type": "code",
   "execution_count": 7,
   "id": "a57c8531",
   "metadata": {},
   "outputs": [],
   "source": [
    "def ldexp(x,i,/):\n",
    "    \n",
    "    x =float (x*(2**i))\n",
    "    return x "
   ]
  },
  {
   "cell_type": "code",
   "execution_count": null,
   "id": "e391e611",
   "metadata": {},
   "outputs": [],
   "source": []
  }
 ],
 "metadata": {
  "kernelspec": {
   "display_name": "Python 3 (ipykernel)",
   "language": "python",
   "name": "python3"
  },
  "language_info": {
   "codemirror_mode": {
    "name": "ipython",
    "version": 3
   },
   "file_extension": ".py",
   "mimetype": "text/x-python",
   "name": "python",
   "nbconvert_exporter": "python",
   "pygments_lexer": "ipython3",
   "version": "3.9.12"
  }
 },
 "nbformat": 4,
 "nbformat_minor": 5
}
