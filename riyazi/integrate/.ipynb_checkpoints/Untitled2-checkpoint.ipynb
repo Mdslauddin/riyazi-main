{
 "cells": [
  {
   "cell_type": "code",
   "execution_count": null,
   "id": "3c2f2bee",
   "metadata": {},
   "outputs": [],
   "source": [
    "def trapezoidal(f,a,b,n):\n",
    "    h = (b-a)/n\n",
    "    f_sum=0\n",
    "    for i in range(1,n,1):\n",
    "        x = a+i*h\n",
    "        f_sum= f_sum + f(x)\n",
    "    return h*(0.5*f(a) + f_sum+ 0.5*f(b))"
   ]
  },
  {
   "cell_type": "code",
   "execution_count": null,
   "id": "41bb968f",
   "metadata": {},
   "outputs": [],
   "source": [
    "def trapezoidal(f,a,b,n):\n",
    "    h = (b-a)/n\n",
    "    result = 0.5*f(a)+0.5*f(b)\n",
    "    for i in range(1,n):\n",
    "        result  += f(a+i*h)\n",
    "    result *=h\n",
    "    return result "
   ]
  },
  {
   "cell_type": "code",
   "execution_count": null,
   "id": "5d870399",
   "metadata": {},
   "outputs": [],
   "source": [
    "from math import exp \n",
    "v = lambda t: 3*(t**2)*exp(t**3)\n",
    "n = 4\n",
    "trapezoidal(v,0,1,n)"
   ]
  },
  {
   "cell_type": "code",
   "execution_count": null,
   "id": "e6a878a2",
   "metadata": {},
   "outputs": [],
   "source": [
    "def midpoint(f,a,b,n):\n",
    "    h = (b-a)/n\n",
    "    f_sum =0 \n",
    "    for i in range(0,n,1):\n",
    "        x = (a+h/2.0)+ i*h\n",
    "        f_sum = f_sum +f(x)\n",
    "    return  h*f_sum"
   ]
  },
  {
   "cell_type": "code",
   "execution_count": null,
   "id": "fa4a6d45",
   "metadata": {},
   "outputs": [],
   "source": [
    "import math\n",
    "#the function to be integrated:\n",
    "def f(x):\n",
    "    return x ** 4 * (1 - x) ** 4 / (1 + x ** 2)\n",
    " \n",
    "#define a function to do integration of f(x) btw. 0 and 1:\n",
    "def trap(f, n):\n",
    "    h = 1 / float(n)\n",
    "    intgr = 0.5 * h * (f(0) + f(1))\n",
    "    for i in range(1, int(n)):\n",
    "        intgr = intgr + h * f(i * h)\n",
    "    return intgr\n",
    " \n",
    "print(trap(f, 100))"
   ]
  },
  {
   "cell_type": "code",
   "execution_count": null,
   "id": "fa597cea",
   "metadata": {},
   "outputs": [],
   "source": [
    "from math import *\n",
    "n = 1\n",
    "while abs(trap(f, n) - trap(f, n * 2)) > 1e-6:\n",
    "    n += 1\n",
    "print(n)"
   ]
  },
  {
   "cell_type": "code",
   "execution_count": null,
   "id": "11066709",
   "metadata": {},
   "outputs": [],
   "source": [
    "import math\n",
    "#the function to be integrated:\n",
    "def f(x):\n",
    "    return math.exp(-x**2)\n",
    " \n",
    "#define a function to do integration of f(x) btw. a and b:\n",
    "def trap(f, n, a, b):\n",
    "    h = (b - a) / float(n)\n",
    "    intgr = 0.5 * h * (f(a) + f(b))\n",
    "    for i in range(1, int(n)):\n",
    "        intgr = intgr + h * f(a + i * h)\n",
    "    return intgr\n",
    " \n",
    "a = -10\n",
    "b = 10\n",
    "n = 100\n",
    " \n",
    "while(abs(trap(f, n, a, b) - trap(f, n * 4, a * 2, b * 2)) > 1e-6):\n",
    "    n *= 4\n",
    "    a *= 2\n",
    "    b *= 2\n",
    " \n",
    "\n",
    "\n",
    "print(trap(f,n,a,b))"
   ]
  },
  {
   "cell_type": "code",
   "execution_count": null,
   "id": "b4091260",
   "metadata": {},
   "outputs": [],
   "source": [
    "import scipy\n",
    "from scipy.integrate import quad\n",
    "from math import *\n",
    " \n",
    "def f(x):\n",
    "    return x ** 4 * log(x + sqrt(x ** 2 + 1))\n",
    " \n",
    "print(quad(f, 0, 2))"
   ]
  },
  {
   "cell_type": "code",
   "execution_count": null,
   "id": "4cd2eec3",
   "metadata": {},
   "outputs": [],
   "source": [
    "from scipy import integrate\n",
    "help(integrate)"
   ]
  },
  {
   "cell_type": "code",
   "execution_count": null,
   "id": "4758e2f3",
   "metadata": {},
   "outputs": [],
   "source": []
  }
 ],
 "metadata": {
  "kernelspec": {
   "display_name": "Python 3 (ipykernel)",
   "language": "python",
   "name": "python3"
  },
  "language_info": {
   "codemirror_mode": {
    "name": "ipython",
    "version": 3
   },
   "file_extension": ".py",
   "mimetype": "text/x-python",
   "name": "python",
   "nbconvert_exporter": "python",
   "pygments_lexer": "ipython3",
   "version": "3.9.12"
  }
 },
 "nbformat": 4,
 "nbformat_minor": 5
}
