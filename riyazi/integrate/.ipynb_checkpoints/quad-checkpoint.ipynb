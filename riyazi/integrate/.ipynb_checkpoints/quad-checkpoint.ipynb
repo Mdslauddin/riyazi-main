{
 "cells": [
  {
   "cell_type": "markdown",
   "id": "c82928bf",
   "metadata": {},
   "source": [
    "## how to solve integration using simpsons rule in python?"
   ]
  },
  {
   "cell_type": "markdown",
   "id": "c5e2228e",
   "metadata": {},
   "source": [
    "**Numerical integration is the approximate computation f an integral using numerical techniques Methods for integrating function given function object.**\n",
    "\n",
    "`quad` General purpose Integration\n",
    "\n",
    "`dblquad` General purpose double Integration \n",
    "\n",
    "`nquad` General Purpose Fold Integration \n",
    "\n",
    "`fixed_quad` Gaussian quadrature, order n \n",
    "\n",
    "`quadrature` Gaussian quadrature to tolerance\n",
    "\n",
    "`romberg` Romberg Integration \n",
    "\n",
    "`trapz` Trapezoidal rule \n",
    "\n",
    "`cumtrapz` Trapezoidal rule to cumulatively compute integrate \n",
    "\n",
    "`simps` Simpson's ruel \n",
    "\n",
    "`romb` Romberg Integration \n",
    "\n",
    "`polyint` Analytical polynomail Integration (Numpy)"
   ]
  },
  {
   "cell_type": "code",
   "execution_count": null,
   "id": "5368d102",
   "metadata": {},
   "outputs": [],
   "source": []
  }
 ],
 "metadata": {
  "kernelspec": {
   "display_name": "Python 3 (ipykernel)",
   "language": "python",
   "name": "python3"
  },
  "language_info": {
   "codemirror_mode": {
    "name": "ipython",
    "version": 3
   },
   "file_extension": ".py",
   "mimetype": "text/x-python",
   "name": "python",
   "nbconvert_exporter": "python",
   "pygments_lexer": "ipython3",
   "version": "3.9.12"
  }
 },
 "nbformat": 4,
 "nbformat_minor": 5
}
