{
 "cells": [
  {
   "cell_type": "code",
   "execution_count": null,
   "id": "cbdd420a",
   "metadata": {},
   "outputs": [],
   "source": [
    "from scipy import integrate\n",
    "x2 = lambda x: x**2\n",
    "integrate.quad(x2, 0, 4)"
   ]
  },
  {
   "cell_type": "code",
   "execution_count": null,
   "id": "3e87a2a2",
   "metadata": {},
   "outputs": [],
   "source": [
    "print(4**3 / 3.)  # analytical result"
   ]
  },
  {
   "cell_type": "code",
   "execution_count": null,
   "id": "c39f66e8",
   "metadata": {},
   "outputs": [],
   "source": [
    "import numpy as np \n",
    "invexp = lambda x: np.exp(-x)\n",
    "integrate.quad(invexp, 0, np.inf)"
   ]
  },
  {
   "cell_type": "code",
   "execution_count": null,
   "id": "220c1b4d",
   "metadata": {},
   "outputs": [],
   "source": [
    "f = lambda x, a: a*x\n",
    "y, err = integrate.quad(f, 0, 1, args=(1,))\n",
    "y"
   ]
  },
  {
   "cell_type": "code",
   "execution_count": null,
   "id": "2e5f0436",
   "metadata": {},
   "outputs": [],
   "source": [
    "y, err = integrate.quad(f, 0, 1, args=(3,))\n",
    "y"
   ]
  },
  {
   "cell_type": "code",
   "execution_count": null,
   "id": "77aa8e66",
   "metadata": {},
   "outputs": [],
   "source": [
    "testlib.c =>\n",
    "    double func(int n, double args[n]){\n",
    "        return args[0]*args[0] + args[1]*args[1];}\n",
    "compile to library testlib.*"
   ]
  },
  {
   "cell_type": "code",
   "execution_count": null,
   "id": "176ef8fb",
   "metadata": {},
   "outputs": [],
   "source": [
    "double func(int n, double args[n]){\n",
    "        return args[0]*args[0] + args[1]*args[1];}\n",
    "compile to library testlib.*"
   ]
  },
  {
   "cell_type": "code",
   "execution_count": null,
   "id": "a9e06693",
   "metadata": {},
   "outputs": [],
   "source": [
    "from scipy import integrate\n",
    "import ctypes\n",
    "lib = ctypes.CDLL('/home/.../testlib.*') #use absolute path\n",
    "lib.func.restype = ctypes.c_double\n",
    "lib.func.argtypes = (ctypes.c_int,ctypes.c_double)\n",
    "integrate.quad(lib.func,0,1,(1))\n",
    "#(1.3333333333333333, 1.4802973661668752e-14)\n",
    "print((1.0**3/3.0 + 1.0) - (0.0**3/3.0 + 0.0)) #Analytic result\n",
    "# 1.3333333333333333"
   ]
  },
  {
   "cell_type": "code",
   "execution_count": null,
   "id": "2587ad67",
   "metadata": {},
   "outputs": [],
   "source": []
  }
 ],
 "metadata": {
  "kernelspec": {
   "display_name": "Python 3 (ipykernel)",
   "language": "python",
   "name": "python3"
  },
  "language_info": {
   "codemirror_mode": {
    "name": "ipython",
    "version": 3
   },
   "file_extension": ".py",
   "mimetype": "text/x-python",
   "name": "python",
   "nbconvert_exporter": "python",
   "pygments_lexer": "ipython3",
   "version": "3.9.12"
  }
 },
 "nbformat": 4,
 "nbformat_minor": 5
}
