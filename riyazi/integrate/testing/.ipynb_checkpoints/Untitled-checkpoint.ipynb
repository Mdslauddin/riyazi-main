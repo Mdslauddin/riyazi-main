{
 "cells": [
  {
   "cell_type": "markdown",
   "id": "b3fb2c52",
   "metadata": {},
   "source": [
    "https://github.com/sigma-py/quadpy"
   ]
  },
  {
   "cell_type": "markdown",
   "id": "25569b1d",
   "metadata": {},
   "source": [
    "https://stackoverflow.com/questions/27115917/gauss-legendre-quadrature-in-python"
   ]
  },
  {
   "cell_type": "code",
   "execution_count": null,
   "id": "ab43f650",
   "metadata": {},
   "outputs": [],
   "source": []
  },
  {
   "cell_type": "code",
   "execution_count": null,
   "id": "9186e2dd",
   "metadata": {},
   "outputs": [],
   "source": []
  },
  {
   "cell_type": "code",
   "execution_count": null,
   "id": "a5f42191",
   "metadata": {},
   "outputs": [],
   "source": []
  },
  {
   "cell_type": "code",
   "execution_count": null,
   "id": "397e5ae5",
   "metadata": {},
   "outputs": [],
   "source": []
  },
  {
   "cell_type": "code",
   "execution_count": null,
   "id": "cc29ed91",
   "metadata": {},
   "outputs": [],
   "source": []
  },
  {
   "cell_type": "code",
   "execution_count": null,
   "id": "7dd684a6",
   "metadata": {},
   "outputs": [],
   "source": []
  },
  {
   "cell_type": "code",
   "execution_count": null,
   "id": "95e723ed",
   "metadata": {},
   "outputs": [],
   "source": []
  },
  {
   "cell_type": "code",
   "execution_count": null,
   "id": "64ae26e1",
   "metadata": {},
   "outputs": [],
   "source": []
  },
  {
   "cell_type": "code",
   "execution_count": null,
   "id": "a7c3a286",
   "metadata": {},
   "outputs": [],
   "source": []
  },
  {
   "cell_type": "code",
   "execution_count": 2,
   "id": "e13305db",
   "metadata": {},
   "outputs": [],
   "source": [
    "from scipy import integrate\n",
    "import numpy as np \n",
    "x = np.arange(0, 10)\n",
    "y = np.arange(0, 10)"
   ]
  },
  {
   "cell_type": "code",
   "execution_count": 3,
   "id": "4c95c944",
   "metadata": {},
   "outputs": [
    {
     "data": {
      "text/plain": [
       "40.5"
      ]
     },
     "execution_count": 3,
     "metadata": {},
     "output_type": "execute_result"
    }
   ],
   "source": [
    "integrate.simpson(y, x)"
   ]
  },
  {
   "cell_type": "code",
   "execution_count": 4,
   "id": "691ff8ad",
   "metadata": {},
   "outputs": [
    {
     "data": {
      "text/plain": [
       "1642.5"
      ]
     },
     "execution_count": 4,
     "metadata": {},
     "output_type": "execute_result"
    }
   ],
   "source": [
    "y = np.power(x, 3)\n",
    "integrate.simpson(y, x)"
   ]
  },
  {
   "cell_type": "code",
   "execution_count": 5,
   "id": "282390a8",
   "metadata": {},
   "outputs": [
    {
     "data": {
      "text/plain": [
       "1640.25"
      ]
     },
     "execution_count": 5,
     "metadata": {},
     "output_type": "execute_result"
    }
   ],
   "source": [
    "integrate.quad(lambda x: x**3, 0, 9)[0]"
   ]
  },
  {
   "cell_type": "code",
   "execution_count": 6,
   "id": "45b00039",
   "metadata": {},
   "outputs": [
    {
     "data": {
      "text/plain": [
       "1644.5"
      ]
     },
     "execution_count": 6,
     "metadata": {},
     "output_type": "execute_result"
    }
   ],
   "source": [
    "integrate.simpson(y, x, even='first')"
   ]
  },
  {
   "cell_type": "code",
   "execution_count": null,
   "id": "4817b5f2",
   "metadata": {},
   "outputs": [],
   "source": [
    "integrate.simpson()"
   ]
  },
  {
   "cell_type": "code",
   "execution_count": 7,
   "id": "d078324a",
   "metadata": {},
   "outputs": [],
   "source": [
    "def trapezoidal(fx, x0, xn, n):\n",
    "    h = (xn - x0) / n\n",
    "\n",
    "    return h * (\n",
    "    ((fx(x0) + fx(xn)) / 2) + (\n",
    "      sum([fx(x0 + (i*h)) for i in range(1, n)])\n",
    "    )\n",
    "    )"
   ]
  },
  {
   "cell_type": "code",
   "execution_count": null,
   "id": "e7738ad1",
   "metadata": {},
   "outputs": [],
   "source": []
  },
  {
   "cell_type": "code",
   "execution_count": 8,
   "id": "499fde9d",
   "metadata": {},
   "outputs": [],
   "source": [
    "def simpson(fx, x0, xn, n):\n",
    "    h = (xn - x0) / n\n",
    "\n",
    "    return (h / 3) * (\n",
    "    fx(x0) + fx(xn) +\n",
    "    (4 * sum([fx(x0 + (i*h)) for i in range(1, n, 2)])) +\n",
    "    (2 * sum([fx(x0 + (i*h)) for i in range(2, n-1, 2)]))\n",
    "  )"
   ]
  },
  {
   "cell_type": "code",
   "execution_count": null,
   "id": "72e0b096",
   "metadata": {},
   "outputs": [],
   "source": [
    "def simpson(fx,x0,xn,n):\n",
    "    h = (xn-x0)/n\n",
    "    return (h/3)*(\n",
    "    fx(x0) + fx(xn)+\n",
    "    (4*))"
   ]
  },
  {
   "cell_type": "code",
   "execution_count": null,
   "id": "a3bf6bff",
   "metadata": {},
   "outputs": [],
   "source": [
    "def degree(pairs, max_iteration=1000000):\n",
    "    deg = 0\n",
    "  diffs = [pair[1] for pair in pairs]\n",
    "\n",
    "  iteration = max_iteration\n",
    "  while iteration > 0:\n",
    "    iteration -= 1\n",
    "\n",
    "    n = len(diffs) - 1\n",
    "    diffs = [diffs[i+1] - diffs[i] for i in range(n)]\n",
    "\n",
    "    if (all([i == 0 for i in diffs])):\n",
    "      break\n",
    "\n",
    "    deg += 1\n",
    "\n",
    "  return deg"
   ]
  },
  {
   "cell_type": "code",
   "execution_count": 12,
   "id": "21130ac0",
   "metadata": {},
   "outputs": [],
   "source": [
    "def degree(pairs, max_iteration=1e6):\n",
    "    deg = 0 \n",
    "    diffs = [pair[1] for pair in pairs]\n",
    "    iteration = max_iteration\n",
    "    while iteration >0:\n",
    "        iteration -=1\n",
    "        n = len(diffs) -1\n",
    "        diffs = [diffs[i+1] - diffs[i] for i in range(n)]\n",
    "        if (all([i ==0 for i in diffs])):\n",
    "            break \n",
    "            \n",
    "        deg +=1\n",
    "    return deg"
   ]
  },
  {
   "cell_type": "code",
   "execution_count": 13,
   "id": "cbfe88fd",
   "metadata": {},
   "outputs": [
    {
     "ename": "TypeError",
     "evalue": "'int' object is not subscriptable",
     "output_type": "error",
     "traceback": [
      "\u001b[1;31m---------------------------------------------------------------------------\u001b[0m",
      "\u001b[1;31mTypeError\u001b[0m                                 Traceback (most recent call last)",
      "Input \u001b[1;32mIn [13]\u001b[0m, in \u001b[0;36m<cell line: 1>\u001b[1;34m()\u001b[0m\n\u001b[1;32m----> 1\u001b[0m \u001b[43mdegree\u001b[49m\u001b[43m(\u001b[49m\u001b[43m[\u001b[49m\u001b[38;5;241;43m3\u001b[39;49m\u001b[43m,\u001b[49m\u001b[38;5;241;43m4\u001b[39;49m\u001b[43m]\u001b[49m\u001b[43m,\u001b[49m\u001b[38;5;241;43m5\u001b[39;49m\u001b[43m)\u001b[49m\n",
      "Input \u001b[1;32mIn [12]\u001b[0m, in \u001b[0;36mdegree\u001b[1;34m(pairs, max_iteration)\u001b[0m\n\u001b[0;32m      1\u001b[0m \u001b[38;5;28;01mdef\u001b[39;00m \u001b[38;5;21mdegree\u001b[39m(pairs, max_iteration\u001b[38;5;241m=\u001b[39m\u001b[38;5;241m1e6\u001b[39m):\n\u001b[0;32m      2\u001b[0m     deg \u001b[38;5;241m=\u001b[39m \u001b[38;5;241m0\u001b[39m \n\u001b[1;32m----> 3\u001b[0m     diffs \u001b[38;5;241m=\u001b[39m [pair[\u001b[38;5;241m1\u001b[39m] \u001b[38;5;28;01mfor\u001b[39;00m pair \u001b[38;5;129;01min\u001b[39;00m pairs]\n\u001b[0;32m      4\u001b[0m     iteration \u001b[38;5;241m=\u001b[39m max_iteration\n\u001b[0;32m      5\u001b[0m     \u001b[38;5;28;01mwhile\u001b[39;00m iteration \u001b[38;5;241m>\u001b[39m\u001b[38;5;241m0\u001b[39m:\n",
      "Input \u001b[1;32mIn [12]\u001b[0m, in \u001b[0;36m<listcomp>\u001b[1;34m(.0)\u001b[0m\n\u001b[0;32m      1\u001b[0m \u001b[38;5;28;01mdef\u001b[39;00m \u001b[38;5;21mdegree\u001b[39m(pairs, max_iteration\u001b[38;5;241m=\u001b[39m\u001b[38;5;241m1e6\u001b[39m):\n\u001b[0;32m      2\u001b[0m     deg \u001b[38;5;241m=\u001b[39m \u001b[38;5;241m0\u001b[39m \n\u001b[1;32m----> 3\u001b[0m     diffs \u001b[38;5;241m=\u001b[39m [\u001b[43mpair\u001b[49m\u001b[43m[\u001b[49m\u001b[38;5;241;43m1\u001b[39;49m\u001b[43m]\u001b[49m \u001b[38;5;28;01mfor\u001b[39;00m pair \u001b[38;5;129;01min\u001b[39;00m pairs]\n\u001b[0;32m      4\u001b[0m     iteration \u001b[38;5;241m=\u001b[39m max_iteration\n\u001b[0;32m      5\u001b[0m     \u001b[38;5;28;01mwhile\u001b[39;00m iteration \u001b[38;5;241m>\u001b[39m\u001b[38;5;241m0\u001b[39m:\n",
      "\u001b[1;31mTypeError\u001b[0m: 'int' object is not subscriptable"
     ]
    }
   ],
   "source": [
    "degree([3,4],5)"
   ]
  },
  {
   "cell_type": "code",
   "execution_count": null,
   "id": "4f7f997a",
   "metadata": {},
   "outputs": [],
   "source": []
  }
 ],
 "metadata": {
  "kernelspec": {
   "display_name": "Python 3 (ipykernel)",
   "language": "python",
   "name": "python3"
  },
  "language_info": {
   "codemirror_mode": {
    "name": "ipython",
    "version": 3
   },
   "file_extension": ".py",
   "mimetype": "text/x-python",
   "name": "python",
   "nbconvert_exporter": "python",
   "pygments_lexer": "ipython3",
   "version": "3.9.12"
  }
 },
 "nbformat": 4,
 "nbformat_minor": 5
}
