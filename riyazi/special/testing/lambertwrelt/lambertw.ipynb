{
 "cells": [
  {
   "cell_type": "code",
   "execution_count": 1,
   "id": "e653185b",
   "metadata": {},
   "outputs": [],
   "source": [
    "import numpy as np\n",
    "def lambert_w(x, tol=1e-6, maxiter=1000):\n",
    "    \"\"\"\n",
    "    Lambert W function.\n",
    "    Compute the Lambert W function for a given x.\n",
    "    \"\"\"\n",
    "    # Initialize the iteration with a guess of W(x) = x\n",
    "    w = x\n",
    "    for _ in range(maxiter):\n",
    "        # Compute the error between the current estimate of W(x) and the true value\n",
    "        err = w*np.exp(w) - x\n",
    "        # If the error is below the tolerance, return the estimate\n",
    "        if np.abs(err) < tol:\n",
    "            return w\n",
    "        # Update the estimate using the Newton-Raphson method\n",
    "        w -= err/(np.exp(w) + w)\n",
    "    # If the maximum number of iterations is reached, return the final estimate\n",
    "    return w\n"
   ]
  },
  {
   "cell_type": "code",
   "execution_count": 1,
   "id": "7ac454c5",
   "metadata": {},
   "outputs": [
    {
     "data": {
      "text/plain": [
       "(0.5671432904097838+0j)"
      ]
     },
     "execution_count": 1,
     "metadata": {},
     "output_type": "execute_result"
    }
   ],
   "source": [
    "from scipy.special import lambertw\n",
    "w = lambertw(1)\n",
    "w"
   ]
  },
  {
   "cell_type": "code",
   "execution_count": 2,
   "id": "4ee35a37",
   "metadata": {},
   "outputs": [],
   "source": [
    "import numpy as np"
   ]
  },
  {
   "cell_type": "code",
   "execution_count": 5,
   "id": "3cb3a08f",
   "metadata": {},
   "outputs": [
    {
     "data": {
      "text/plain": [
       "(0.9999999999999999+0j)"
      ]
     },
     "execution_count": 5,
     "metadata": {},
     "output_type": "execute_result"
    }
   ],
   "source": [
    "w * np.exp(w)"
   ]
  },
  {
   "cell_type": "code",
   "execution_count": 6,
   "id": "9788abd5",
   "metadata": {},
   "outputs": [
    {
     "data": {
      "text/plain": [
       "(-2.8535817554090377+17.113535539412148j)"
      ]
     },
     "execution_count": 6,
     "metadata": {},
     "output_type": "execute_result"
    }
   ],
   "source": [
    "w = lambertw(1, k=3)\n",
    "w"
   ]
  },
  {
   "cell_type": "code",
   "execution_count": 7,
   "id": "be7ebd17",
   "metadata": {},
   "outputs": [
    {
     "data": {
      "text/plain": [
       "(1.0000000000000002+1.609823385706477e-15j)"
      ]
     },
     "execution_count": 7,
     "metadata": {},
     "output_type": "execute_result"
    }
   ],
   "source": [
    "w*np.exp(w)"
   ]
  },
  {
   "cell_type": "code",
   "execution_count": 8,
   "id": "37e50c2a",
   "metadata": {},
   "outputs": [],
   "source": [
    "def tower(z, n):\n",
    "    if n == 0:\n",
    "        return z\n",
    "    return z ** tower(z, n-1)"
   ]
  },
  {
   "cell_type": "code",
   "execution_count": 9,
   "id": "3d779a9c",
   "metadata": {},
   "outputs": [
    {
     "data": {
      "text/plain": [
       "0.641185744504986"
      ]
     },
     "execution_count": 9,
     "metadata": {},
     "output_type": "execute_result"
    }
   ],
   "source": [
    "tower(0.5, 100)"
   ]
  },
  {
   "cell_type": "code",
   "execution_count": 10,
   "id": "b459fd76",
   "metadata": {},
   "outputs": [
    {
     "data": {
      "text/plain": [
       "(0.641185744504986+0j)"
      ]
     },
     "execution_count": 10,
     "metadata": {},
     "output_type": "execute_result"
    }
   ],
   "source": [
    "-lambertw(-np.log(0.5)) / np.log(0.5)"
   ]
  },
  {
   "cell_type": "code",
   "execution_count": null,
   "id": "2ba3a253",
   "metadata": {},
   "outputs": [],
   "source": []
  }
 ],
 "metadata": {
  "kernelspec": {
   "display_name": "Python 3 (ipykernel)",
   "language": "python",
   "name": "python3"
  },
  "language_info": {
   "codemirror_mode": {
    "name": "ipython",
    "version": 3
   },
   "file_extension": ".py",
   "mimetype": "text/x-python",
   "name": "python",
   "nbconvert_exporter": "python",
   "pygments_lexer": "ipython3",
   "version": "3.9.12"
  }
 },
 "nbformat": 4,
 "nbformat_minor": 5
}
