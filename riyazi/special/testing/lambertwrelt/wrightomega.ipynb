{
 "cells": [
  {
   "cell_type": "code",
   "execution_count": null,
   "id": "10d1516b",
   "metadata": {},
   "outputs": [],
   "source": [
    "from cmath import log \n",
    "\n",
    "def wrightomega(z):\n",
    "    \"\"\"\n",
    "    \n",
    "    https://en.wikipedia.org/wiki/Omega_function\n",
    "    \"\"\"\n",
    "    return omega(z)+log(omega(z))"
   ]
  },
  {
   "cell_type": "code",
   "execution_count": null,
   "id": "60e60fa4",
   "metadata": {},
   "outputs": [],
   "source": []
  },
  {
   "cell_type": "code",
   "execution_count": 1,
   "id": "4e60c694",
   "metadata": {},
   "outputs": [],
   "source": [
    "import scipy.special as sp "
   ]
  },
  {
   "cell_type": "code",
   "execution_count": 2,
   "id": "56a8c77f",
   "metadata": {},
   "outputs": [
    {
     "data": {
      "text/plain": [
       "2.926271062443501"
      ]
     },
     "execution_count": 2,
     "metadata": {},
     "output_type": "execute_result"
    }
   ],
   "source": [
    "sp.wrightomega(4)"
   ]
  },
  {
   "cell_type": "code",
   "execution_count": 3,
   "id": "54562ddd",
   "metadata": {},
   "outputs": [],
   "source": [
    "from cmath import log\n",
    "def writ(z):\n",
    "    return z+log(z)"
   ]
  },
  {
   "cell_type": "code",
   "execution_count": 4,
   "id": "42c358e5",
   "metadata": {},
   "outputs": [
    {
     "data": {
      "text/plain": [
       "(5.386294361119891+0j)"
      ]
     },
     "execution_count": 4,
     "metadata": {},
     "output_type": "execute_result"
    }
   ],
   "source": [
    "writ(4)"
   ]
  },
  {
   "cell_type": "code",
   "execution_count": 8,
   "id": "5410c272",
   "metadata": {},
   "outputs": [
    {
     "data": {
      "text/plain": [
       "0.07326255555493671"
      ]
     },
     "execution_count": 8,
     "metadata": {},
     "output_type": "execute_result"
    }
   ],
   "source": [
    "from math import exp\n",
    "4*exp(-4)"
   ]
  },
  {
   "cell_type": "code",
   "execution_count": 11,
   "id": "bb73da30",
   "metadata": {},
   "outputs": [],
   "source": [
    "import numpy as np \n",
    "def omega(x, tol=1e-6, maxiter=100):\n",
    "    \"\"\"\n",
    "    Compute the Wright Omega function for a given x.\n",
    "    \"\"\"\n",
    "    # Initialize the iteration with a guess of W(x) = x\n",
    "    w = x\n",
    "    for _ in range(maxiter):\n",
    "        # Compute the error between the current estimate of W(x) and the true value\n",
    "        err = w*np.exp(w) - x*np.exp(-x)\n",
    "        # If the error is below the tolerance, return the estimate\n",
    "        if np.abs(err) < tol:\n",
    "            return w\n",
    "        # Update the estimate using the Newton-Raphson method\n",
    "        w -= err/(np.exp(w) + w)\n",
    "    # If the maximum number of iterations is reached, return the final estimate\n",
    "    return w\n"
   ]
  },
  {
   "cell_type": "code",
   "execution_count": 14,
   "id": "edf3d523",
   "metadata": {},
   "outputs": [
    {
     "data": {
      "text/plain": [
       "0.0011094625040850858"
      ]
     },
     "execution_count": 14,
     "metadata": {},
     "output_type": "execute_result"
    }
   ],
   "source": [
    "omega(9)"
   ]
  },
  {
   "cell_type": "code",
   "execution_count": 15,
   "id": "a441723a",
   "metadata": {},
   "outputs": [
    {
     "data": {
      "text/plain": [
       "7.047348546597604"
      ]
     },
     "execution_count": 15,
     "metadata": {},
     "output_type": "execute_result"
    }
   ],
   "source": [
    "sp.wrightomega(9)"
   ]
  },
  {
   "cell_type": "code",
   "execution_count": 18,
   "id": "a9c4447a",
   "metadata": {},
   "outputs": [
    {
     "data": {
      "text/plain": [
       "(-6.802770148985261+0j)"
      ]
     },
     "execution_count": 18,
     "metadata": {},
     "output_type": "execute_result"
    }
   ],
   "source": [
    "omega(9)+log(omega(9))"
   ]
  },
  {
   "cell_type": "code",
   "execution_count": 22,
   "id": "2cf28468",
   "metadata": {},
   "outputs": [],
   "source": [
    "import numpy as np\n",
    "\n",
    "def omega_log_omega(x, tol=1e-6, maxiter=100):\n",
    "    \"\"\"\n",
    "    Compute the sum of the Wright Omega function and the natural logarithm of the Wright Omega function for a given x.\n",
    "    \"\"\"\n",
    "    # Define the Wright Omega function\n",
    "    def omega(x):\n",
    "        \"\"\"\n",
    "        Compute the Wright Omega function for a given x.\n",
    "        \"\"\"\n",
    "        w = x\n",
    "        for _ in range(maxiter):\n",
    "            err = w*np.exp(w) - x*np.exp(-x)\n",
    "            if np.abs(err) < tol:\n",
    "                return w\n",
    "            w -= err/(np.exp(w) + w)\n",
    "        return w\n",
    "    \n",
    "    # Compute the sum of the Wright Omega function and the natural logarithm of the Wright Omega function\n",
    "    return omega(x) + np.log(omega(x))\n"
   ]
  },
  {
   "cell_type": "code",
   "execution_count": 24,
   "id": "c0d4d8d5",
   "metadata": {},
   "outputs": [
    {
     "data": {
      "text/plain": [
       "-6.802770148985261"
      ]
     },
     "execution_count": 24,
     "metadata": {},
     "output_type": "execute_result"
    }
   ],
   "source": [
    "omega_log_omega(9)"
   ]
  },
  {
   "cell_type": "code",
   "execution_count": 25,
   "id": "2068ae4b",
   "metadata": {},
   "outputs": [],
   "source": [
    "import numpy as np\n",
    "\n",
    "def omega(x, tol=1e-6, maxiter=100):\n",
    "    \"\"\"\n",
    "    Compute the Wright Omega function for a given x.\n",
    "    \"\"\"\n",
    "    # Define the fixed-point iteration function\n",
    "    def f(w):\n",
    "        return w*np.exp(w) - x*np.exp(-x)\n",
    "    # Initialize the iteration with a guess of W(x) = x\n",
    "    w = x\n",
    "    for _ in range(maxiter):\n",
    "        # Compute the error between the current estimate of W(x) and the true value\n",
    "        err = f(w)\n",
    "        # If the error is below the tolerance, return the estimate\n",
    "        if np.abs(err) < tol:\n",
    "            return w\n",
    "        # Update the estimate using the fixed-point iteration method\n",
    "        w = f(w)\n",
    "    # If the maximum number of iterations is reached, return the final estimate\n",
    "    return w\n"
   ]
  },
  {
   "cell_type": "code",
   "execution_count": 26,
   "id": "eaa24257",
   "metadata": {},
   "outputs": [
    {
     "name": "stderr",
     "output_type": "stream",
     "text": [
      "C:\\Users\\md slauddin\\AppData\\Local\\Temp\\ipykernel_24632\\386317389.py:9: RuntimeWarning: overflow encountered in exp\n",
      "  return w*np.exp(w) - x*np.exp(-x)\n"
     ]
    },
    {
     "data": {
      "text/plain": [
       "inf"
      ]
     },
     "execution_count": 26,
     "metadata": {},
     "output_type": "execute_result"
    }
   ],
   "source": []
  },
  {
   "cell_type": "code",
   "execution_count": null,
   "id": "b6c4bbe1",
   "metadata": {},
   "outputs": [],
   "source": []
  }
 ],
 "metadata": {
  "kernelspec": {
   "display_name": "Python 3 (ipykernel)",
   "language": "python",
   "name": "python3"
  },
  "language_info": {
   "codemirror_mode": {
    "name": "ipython",
    "version": 3
   },
   "file_extension": ".py",
   "mimetype": "text/x-python",
   "name": "python",
   "nbconvert_exporter": "python",
   "pygments_lexer": "ipython3",
   "version": "3.9.12"
  }
 },
 "nbformat": 4,
 "nbformat_minor": 5
}
