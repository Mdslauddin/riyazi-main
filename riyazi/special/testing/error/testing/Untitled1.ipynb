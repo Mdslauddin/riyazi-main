{
 "cells": [
  {
   "cell_type": "code",
   "execution_count": null,
   "id": "0d6d1a3e",
   "metadata": {},
   "outputs": [],
   "source": [
    "double erf(double x)\n",
    "{\n",
    "    // constants\n",
    "    double a1 =  0.254829592;\n",
    "    double a2 = -0.284496736;\n",
    "    double a3 =  1.421413741;\n",
    "    double a4 = -1.453152027;\n",
    "    double a5 =  1.061405429;\n",
    "    double p  =  0.3275911;\n",
    "\n",
    "    // Save the sign of x\n",
    "    int sign = 1;\n",
    "    if (x < 0)\n",
    "        sign = -1;\n",
    "    x = fabs(x);\n",
    "\n",
    "    // A&S formula 7.1.26\n",
    "    double t = 1.0/(1.0 + p*x);\n",
    "    double y = 1.0 - (((((a5*t + a4)*t) + a3)*t + a2)*t + a1)*t*exp(-x*x);\n",
    "\n",
    "    return sign*y;\n",
    "}\n",
    "\n",
    "void testErf()\n",
    "{\n",
    "    // Select a few input values\n",
    "    double x[] = \n",
    "    {\n",
    "        -3, \n",
    "        -1, \n",
    "        0.0, \n",
    "        0.5, \n",
    "        2.1 \n",
    "    };\n",
    "\n",
    "    // Output computed by Mathematica\n",
    "    // y = Erf[x]\n",
    "    double y[] = \n",
    "    { \n",
    "        -0.999977909503, \n",
    "        -0.842700792950, \n",
    "        0.0, \n",
    "        0.520499877813, \n",
    "        0.997020533344 \n",
    "    };\n",
    "\n",
    "    int numTests = sizeof(x)/sizeof(double);\n",
    "\n",
    "    double maxError = 0.0;\n",
    "    for (int i = 0; i < numTests; ++i)     {         \n",
    "        double error = fabs(y[i] - erf(x[i]));         \n",
    "        if (error > maxError)\n",
    "            maxError = error;\n",
    "    }\n",
    "\n",
    "    std::cout << \"Maximum error: \" << maxError << \"\\n\";\n",
    "}  "
   ]
  },
  {
   "cell_type": "markdown",
   "id": "e076839c",
   "metadata": {},
   "source": [
    "https://www.johndcook.com/blog/cpp_erf/"
   ]
  },
  {
   "cell_type": "code",
   "execution_count": null,
   "id": "a3092c50",
   "metadata": {},
   "outputs": [],
   "source": [
    "import math\n",
    "\n",
    "def erf(x):\n",
    "    # constants\n",
    "    a1 =  0.254829592\n",
    "    a2 = -0.284496736\n",
    "    a3 =  1.421413741\n",
    "    a4 = -1.453152027\n",
    "    a5 =  1.061405429\n",
    "    p  =  0.3275911\n",
    "\n",
    "    # Save the sign of x\n",
    "    sign = 1\n",
    "    if x < 0:\n",
    "        sign = -1\n",
    "    x = abs(x)\n",
    "\n",
    "    # A&S formula 7.1.26\n",
    "    t = 1.0/(1.0 + p*x)\n",
    "    y = 1.0 - (((((a5*t + a4)*t) + a3)*t + a2)*t + a1)*t*math.exp(-x*x)\n",
    "\n",
    "    return sign*y"
   ]
  },
  {
   "cell_type": "code",
   "execution_count": null,
   "id": "95667650",
   "metadata": {},
   "outputs": [],
   "source": [
    "erf(4)"
   ]
  },
  {
   "cell_type": "code",
   "execution_count": null,
   "id": "34baf088",
   "metadata": {},
   "outputs": [],
   "source": [
    "math.erf(4)"
   ]
  },
  {
   "cell_type": "code",
   "execution_count": null,
   "id": "56f1f543",
   "metadata": {},
   "outputs": [],
   "source": [
    "def f(t):\n",
    "    return math.exp(-t**2)"
   ]
  },
  {
   "cell_type": "code",
   "execution_count": null,
   "id": "43190961",
   "metadata": {},
   "outputs": [],
   "source": [
    "f(4)"
   ]
  },
  {
   "cell_type": "markdown",
   "id": "c4c2ed82",
   "metadata": {},
   "source": [
    "https://scipython.com/book/chapter-4-the-core-python-language-ii/problems/p45/monte-carlo-integration-the-error-function/"
   ]
  },
  {
   "cell_type": "code",
   "execution_count": null,
   "id": "5a0da973",
   "metadata": {},
   "outputs": [],
   "source": [
    "def erf(x):\n",
    "    \n",
    "    # save the sign of x\n",
    "    sign = 1 if x >= 0 else -1\n",
    "    x =  abs(x)\n",
    "\n",
    "    # constants\n",
    "    a1 =   0.254829592\n",
    "    a2 = -0.284496736\n",
    "    a3  =  1.421413741\n",
    "    a4 = -1.453152027\n",
    "    a5 =  1.061405429\n",
    "    p  =  0.3275911\n",
    "\n",
    "     # A&S formula 7.1.26\n",
    "    t =  1.0/(1.0 + p*x)\n",
    "    y = 1.0 - (((((a5*t  + a4)*t) + a3)*t + a2)*t +  a1)*t*math.exp(-x*x)\n",
    "    return sign*y #  erf(-x) = -erf(x)"
   ]
  },
  {
   "cell_type": "code",
   "execution_count": null,
   "id": "f5913f23",
   "metadata": {},
   "outputs": [],
   "source": [
    "erf(4)"
   ]
  },
  {
   "cell_type": "code",
   "execution_count": null,
   "id": "d1b5b498",
   "metadata": {},
   "outputs": [],
   "source": [
    "math.erf(4)"
   ]
  },
  {
   "cell_type": "markdown",
   "id": "6cd8a42c",
   "metadata": {},
   "source": [
    "https://en.wikipedia.org/wiki/Error_function"
   ]
  },
  {
   "cell_type": "code",
   "execution_count": null,
   "id": "75fd1699",
   "metadata": {},
   "outputs": [],
   "source": [
    "from scipy.special import erf"
   ]
  },
  {
   "cell_type": "code",
   "execution_count": null,
   "id": "cec41039",
   "metadata": {},
   "outputs": [],
   "source": [
    "erf(4)"
   ]
  },
  {
   "cell_type": "code",
   "execution_count": null,
   "id": "0ccaa7fd",
   "metadata": {},
   "outputs": [],
   "source": [
    "erf(4j)"
   ]
  },
  {
   "cell_type": "raw",
   "id": "667afa46",
   "metadata": {},
   "source": [
    "2/sqrt(pi)*integral(exp(-t**2), t=0..z)"
   ]
  },
  {
   "cell_type": "code",
   "execution_count": 4,
   "id": "6f76e921",
   "metadata": {},
   "outputs": [],
   "source": [
    "from math import sqrt,pi\n",
    "from cmath import exp ,e\n",
    "def error(x):\n",
    "    return ((2/sqrt(pi))*e**(-x)**2)  #*integral(exp(-t**2) )"
   ]
  },
  {
   "cell_type": "code",
   "execution_count": 5,
   "id": "35538111",
   "metadata": {
    "scrolled": true
   },
   "outputs": [
    {
     "data": {
      "text/plain": [
       "(1.2698234671866566e-07+0j)"
      ]
     },
     "execution_count": 5,
     "metadata": {},
     "output_type": "execute_result"
    }
   ],
   "source": [
    "error(4j)"
   ]
  },
  {
   "cell_type": "code",
   "execution_count": 6,
   "id": "743105a5",
   "metadata": {},
   "outputs": [
    {
     "data": {
      "text/plain": [
       "10026901.987849336"
      ]
     },
     "execution_count": 6,
     "metadata": {},
     "output_type": "execute_result"
    }
   ],
   "source": [
    "error(4)"
   ]
  },
  {
   "cell_type": "code",
   "execution_count": null,
   "id": "b8c2f71a",
   "metadata": {},
   "outputs": [],
   "source": []
  },
  {
   "cell_type": "code",
   "execution_count": 3,
   "id": "c18d1da1",
   "metadata": {},
   "outputs": [],
   "source": [
    "import math "
   ]
  },
  {
   "cell_type": "code",
   "execution_count": 6,
   "id": "d70fc113",
   "metadata": {},
   "outputs": [
    {
     "data": {
      "text/plain": [
       "0.9999999845827421"
      ]
     },
     "execution_count": 6,
     "metadata": {},
     "output_type": "execute_result"
    }
   ],
   "source": [
    "math.erf(4)"
   ]
  },
  {
   "cell_type": "code",
   "execution_count": null,
   "id": "1486a00b",
   "metadata": {},
   "outputs": [],
   "source": [
    "math.exp(-4**2) * 1.1283791670955126"
   ]
  },
  {
   "cell_type": "code",
   "execution_count": null,
   "id": "8bfe6d47",
   "metadata": {},
   "outputs": [],
   "source": []
  },
  {
   "cell_type": "code",
   "execution_count": 4,
   "id": "10b54fa4",
   "metadata": {},
   "outputs": [],
   "source": [
    "def erf(z):\n",
    "        t = 1.0 /  (1.0 + 0.5 * abs(z))\n",
    "        # use  Horner's method\n",
    "        ans = 1 - t *  math.exp( -z*z -  1.26551223 +\n",
    "                             t * ( 1.00002368 +\n",
    "                             t * ( 0.37409196  + \n",
    "                            t * (  0.09678418 + \n",
    "                             t * (-0.18628806 + \n",
    "                             t * ( 0.27886807 + \n",
    "                             t * (-1.13520398 + \n",
    "                             t * ( 1.48851587 +  \n",
    "                            t *  (-0.82215223 + \n",
    "                             t * ( 0.17087277))))))))))\n",
    "        if  z >= 0.0:\n",
    "            return ans"
   ]
  },
  {
   "cell_type": "code",
   "execution_count": 8,
   "id": "a1e55965",
   "metadata": {},
   "outputs": [
    {
     "data": {
      "text/plain": [
       "0.9999999845827432"
      ]
     },
     "execution_count": 8,
     "metadata": {},
     "output_type": "execute_result"
    }
   ],
   "source": [
    "erf(4)"
   ]
  },
  {
   "cell_type": "markdown",
   "id": "bcee036a",
   "metadata": {},
   "source": [
    "https://www.dcode.fr/error-function"
   ]
  },
  {
   "cell_type": "code",
   "execution_count": null,
   "id": "d66bdb4d",
   "metadata": {},
   "outputs": [],
   "source": [
    "math.i"
   ]
  },
  {
   "cell_type": "code",
   "execution_count": null,
   "id": "33c66862",
   "metadata": {},
   "outputs": [],
   "source": []
  },
  {
   "cell_type": "code",
   "execution_count": null,
   "id": "19ca6989",
   "metadata": {},
   "outputs": [],
   "source": []
  },
  {
   "cell_type": "code",
   "execution_count": 16,
   "id": "ffc0ffd1",
   "metadata": {},
   "outputs": [],
   "source": [
    "# from Chebyshev fitting  formula for erf(z) from Numerical  Recipes, 6.2\n",
    "def erf(z):\n",
    "    \n",
    "    from cmath import exp\n",
    "    t = 1.0 /  (1.0 + 0.5 * abs(z))\n",
    "        # use  Horner's method\n",
    "    ans = 1 - t *  exp( -z*z -  1.26551223 +\n",
    "                             t * ( 1.00002368 +\n",
    "                             t * ( 0.37409196  + \n",
    "                            t * (  0.09678418 + \n",
    "                             t * (-0.18628806 + \n",
    "                             t * ( 0.27886807 + \n",
    "                             t * (-1.13520398 + \n",
    "                             t * ( 1.48851587 +  \n",
    "                            t *  (-0.82215223 + \n",
    "                             t * ( 0.17087277))))))))))\n",
    "    if  z >= 0.0:\n",
    "        \n",
    "        return ans\n",
    "    else:\n",
    "        return -ans"
   ]
  },
  {
   "cell_type": "code",
   "execution_count": 17,
   "id": "0afde097",
   "metadata": {},
   "outputs": [],
   "source": [
    "import math "
   ]
  },
  {
   "cell_type": "code",
   "execution_count": 18,
   "id": "f3b1a6d2",
   "metadata": {},
   "outputs": [
    {
     "ename": "TypeError",
     "evalue": "'>=' not supported between instances of 'complex' and 'float'",
     "output_type": "error",
     "traceback": [
      "\u001b[1;31m---------------------------------------------------------------------------\u001b[0m",
      "\u001b[1;31mTypeError\u001b[0m                                 Traceback (most recent call last)",
      "Input \u001b[1;32mIn [18]\u001b[0m, in \u001b[0;36m<cell line: 1>\u001b[1;34m()\u001b[0m\n\u001b[1;32m----> 1\u001b[0m \u001b[43merf\u001b[49m\u001b[43m(\u001b[49m\u001b[38;5;241;43m4\u001b[39;49m\u001b[43mj\u001b[49m\u001b[43m)\u001b[49m\n",
      "Input \u001b[1;32mIn [16]\u001b[0m, in \u001b[0;36merf\u001b[1;34m(z)\u001b[0m\n\u001b[0;32m      6\u001b[0m     \u001b[38;5;66;03m# use  Horner's method\u001b[39;00m\n\u001b[0;32m      7\u001b[0m ans \u001b[38;5;241m=\u001b[39m \u001b[38;5;241m1\u001b[39m \u001b[38;5;241m-\u001b[39m t \u001b[38;5;241m*\u001b[39m  exp( \u001b[38;5;241m-\u001b[39mz\u001b[38;5;241m*\u001b[39mz \u001b[38;5;241m-\u001b[39m  \u001b[38;5;241m1.26551223\u001b[39m \u001b[38;5;241m+\u001b[39m\n\u001b[0;32m      8\u001b[0m                          t \u001b[38;5;241m*\u001b[39m ( \u001b[38;5;241m1.00002368\u001b[39m \u001b[38;5;241m+\u001b[39m\n\u001b[0;32m      9\u001b[0m                          t \u001b[38;5;241m*\u001b[39m ( \u001b[38;5;241m0.37409196\u001b[39m  \u001b[38;5;241m+\u001b[39m \n\u001b[1;32m   (...)\u001b[0m\n\u001b[0;32m     15\u001b[0m                         t \u001b[38;5;241m*\u001b[39m  (\u001b[38;5;241m-\u001b[39m\u001b[38;5;241m0.82215223\u001b[39m \u001b[38;5;241m+\u001b[39m \n\u001b[0;32m     16\u001b[0m                          t \u001b[38;5;241m*\u001b[39m ( \u001b[38;5;241m0.17087277\u001b[39m))))))))))\n\u001b[1;32m---> 17\u001b[0m \u001b[38;5;28;01mif\u001b[39;00m  \u001b[43mz\u001b[49m\u001b[43m \u001b[49m\u001b[38;5;241;43m>\u001b[39;49m\u001b[38;5;241;43m=\u001b[39;49m\u001b[43m \u001b[49m\u001b[38;5;241;43m0.0\u001b[39;49m:\n\u001b[0;32m     19\u001b[0m     \u001b[38;5;28;01mreturn\u001b[39;00m ans\n\u001b[0;32m     20\u001b[0m \u001b[38;5;28;01melse\u001b[39;00m:\n",
      "\u001b[1;31mTypeError\u001b[0m: '>=' not supported between instances of 'complex' and 'float'"
     ]
    }
   ],
   "source": [
    "erf(4j)"
   ]
  },
  {
   "cell_type": "code",
   "execution_count": 14,
   "id": "423ed249",
   "metadata": {},
   "outputs": [
    {
     "data": {
      "text/plain": [
       "0.9999999845827421"
      ]
     },
     "execution_count": 14,
     "metadata": {},
     "output_type": "execute_result"
    }
   ],
   "source": [
    "math.erf(4)"
   ]
  },
  {
   "cell_type": "code",
   "execution_count": null,
   "id": "1b8d752d",
   "metadata": {},
   "outputs": [],
   "source": []
  },
  {
   "cell_type": "code",
   "execution_count": null,
   "id": "ba49c2e0",
   "metadata": {},
   "outputs": [],
   "source": []
  },
  {
   "cell_type": "code",
   "execution_count": null,
   "id": "6a8f8f02",
   "metadata": {},
   "outputs": [],
   "source": []
  }
 ],
 "metadata": {
  "kernelspec": {
   "display_name": "Python 3 (ipykernel)",
   "language": "python",
   "name": "python3"
  },
  "language_info": {
   "codemirror_mode": {
    "name": "ipython",
    "version": 3
   },
   "file_extension": ".py",
   "mimetype": "text/x-python",
   "name": "python",
   "nbconvert_exporter": "python",
   "pygments_lexer": "ipython3",
   "version": "3.9.12"
  }
 },
 "nbformat": 4,
 "nbformat_minor": 5
}
