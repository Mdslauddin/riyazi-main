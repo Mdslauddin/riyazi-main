{
 "cells": [
  {
   "cell_type": "markdown",
   "id": "b4c7f163",
   "metadata": {},
   "source": [
    " * :meth:`erf <Function_erf>` -- The error function\n",
    " * :meth:`erfc <Function_erfc>` -- The complementary error function\n",
    " * :meth:`erfi <Function_erfi>` -- The imaginary error function\n",
    " * :meth:`erfinv <Function_erfinv>` -- The inverse error function\n",
    " * :meth:`fresnel_sin <Function_Fresnel_sin>` -- The Fresnel integral `S(x)`\n",
    " * :meth:`fresnel_cos <Function_Fresnel_cos>` -- The Fresnel integral `C(x)`"
   ]
  },
  {
   "cell_type": "raw",
   "id": "464cf5b6",
   "metadata": {},
   "source": [
    "https://proofwiki.org/wiki/Category:Derivatives"
   ]
  },
  {
   "cell_type": "code",
   "execution_count": null,
   "id": "aa425e6f",
   "metadata": {},
   "outputs": [],
   "source": []
  }
 ],
 "metadata": {
  "kernelspec": {
   "display_name": "Python 3 (ipykernel)",
   "language": "python",
   "name": "python3"
  },
  "language_info": {
   "codemirror_mode": {
    "name": "ipython",
    "version": 3
   },
   "file_extension": ".py",
   "mimetype": "text/x-python",
   "name": "python",
   "nbconvert_exporter": "python",
   "pygments_lexer": "ipython3",
   "version": "3.9.12"
  }
 },
 "nbformat": 4,
 "nbformat_minor": 5
}
