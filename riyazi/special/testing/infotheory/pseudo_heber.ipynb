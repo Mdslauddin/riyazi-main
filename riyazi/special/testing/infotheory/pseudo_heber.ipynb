{
 "cells": [
  {
   "cell_type": "code",
   "execution_count": 1,
   "id": "f8ce90f8",
   "metadata": {},
   "outputs": [],
   "source": [
    "import scipy.special as sp "
   ]
  },
  {
   "cell_type": "code",
   "execution_count": 2,
   "id": "d569725a",
   "metadata": {},
   "outputs": [],
   "source": [
    "import math \n",
    "def pseudo_huber(delta,r):\n",
    "    return pow(delta,2)* (math.sqrt(1+((4/3)**2))-1)"
   ]
  },
  {
   "cell_type": "code",
   "execution_count": 3,
   "id": "61b20751",
   "metadata": {},
   "outputs": [
    {
     "data": {
      "text/plain": [
       "6.000000000000001"
      ]
     },
     "execution_count": 3,
     "metadata": {},
     "output_type": "execute_result"
    }
   ],
   "source": [
    "sp.pseudo_huber(3,4)"
   ]
  },
  {
   "cell_type": "code",
   "execution_count": 4,
   "id": "51a48984",
   "metadata": {},
   "outputs": [
    {
     "data": {
      "text/plain": [
       "6.000000000000001"
      ]
     },
     "execution_count": 4,
     "metadata": {},
     "output_type": "execute_result"
    }
   ],
   "source": [
    "pseudo_huber(3,4)"
   ]
  },
  {
   "cell_type": "code",
   "execution_count": 7,
   "id": "b0fdb9fc",
   "metadata": {},
   "outputs": [
    {
     "data": {
      "text/plain": [
       "12.0"
      ]
     },
     "execution_count": 7,
     "metadata": {},
     "output_type": "execute_result"
    }
   ],
   "source": [
    "9* math.sqrt(1+(4/3)**2-1)"
   ]
  },
  {
   "cell_type": "code",
   "execution_count": 6,
   "id": "9669d8a0",
   "metadata": {},
   "outputs": [
    {
     "data": {
      "text/plain": [
       "6.03"
      ]
     },
     "execution_count": 6,
     "metadata": {},
     "output_type": "execute_result"
    }
   ],
   "source": [
    "9*0.67"
   ]
  },
  {
   "cell_type": "code",
   "execution_count": null,
   "id": "416fe882",
   "metadata": {},
   "outputs": [],
   "source": [
    "math.sqrt(1+((4/3)**2))-1"
   ]
  },
  {
   "cell_type": "code",
   "execution_count": null,
   "id": "9dfc72c5",
   "metadata": {},
   "outputs": [],
   "source": []
  }
 ],
 "metadata": {
  "kernelspec": {
   "display_name": "Python 3 (ipykernel)",
   "language": "python",
   "name": "python3"
  },
  "language_info": {
   "codemirror_mode": {
    "name": "ipython",
    "version": 3
   },
   "file_extension": ".py",
   "mimetype": "text/x-python",
   "name": "python",
   "nbconvert_exporter": "python",
   "pygments_lexer": "ipython3",
   "version": "3.9.12"
  }
 },
 "nbformat": 4,
 "nbformat_minor": 5
}
