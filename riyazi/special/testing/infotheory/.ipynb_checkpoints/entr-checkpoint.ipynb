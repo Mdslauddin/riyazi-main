{
 "cells": [
  {
   "cell_type": "code",
   "execution_count": 1,
   "id": "47e27e0e",
   "metadata": {},
   "outputs": [],
   "source": [
    "import scipy.special as sp"
   ]
  },
  {
   "cell_type": "code",
   "execution_count": 2,
   "id": "f1c38da8",
   "metadata": {},
   "outputs": [
    {
     "data": {
      "text/plain": [
       "0.0"
      ]
     },
     "execution_count": 2,
     "metadata": {},
     "output_type": "execute_result"
    }
   ],
   "source": [
    "sp.entr(0)"
   ]
  },
  {
   "cell_type": "code",
   "execution_count": 3,
   "id": "1f7d36d4",
   "metadata": {},
   "outputs": [
    {
     "data": {
      "text/plain": [
       "-inf"
      ]
     },
     "execution_count": 3,
     "metadata": {},
     "output_type": "execute_result"
    }
   ],
   "source": [
    "sp.entr(-1)"
   ]
  },
  {
   "cell_type": "code",
   "execution_count": 4,
   "id": "facbffb6",
   "metadata": {},
   "outputs": [
    {
     "data": {
      "text/plain": [
       "-5.545177444479562"
      ]
     },
     "execution_count": 4,
     "metadata": {},
     "output_type": "execute_result"
    }
   ],
   "source": [
    "sp.entr(4)"
   ]
  },
  {
   "cell_type": "code",
   "execution_count": 5,
   "id": "3b0c1311",
   "metadata": {},
   "outputs": [],
   "source": [
    "import math"
   ]
  },
  {
   "cell_type": "code",
   "execution_count": 6,
   "id": "9fadb3c9",
   "metadata": {},
   "outputs": [
    {
     "data": {
      "text/plain": [
       "-5.545177444479562"
      ]
     },
     "execution_count": 6,
     "metadata": {},
     "output_type": "execute_result"
    }
   ],
   "source": [
    "-4*math.log(4)"
   ]
  },
  {
   "cell_type": "code",
   "execution_count": 8,
   "id": "842ac394",
   "metadata": {},
   "outputs": [],
   "source": [
    "def entr(x):\n",
    "    if x == 0:\n",
    "        return 0.0\n",
    "    elif(x < 0):\n",
    "        return -math.inf\n",
    "    else:\n",
    "        return (-x*math.log(x))"
   ]
  },
  {
   "cell_type": "code",
   "execution_count": 9,
   "id": "fa26dee9",
   "metadata": {},
   "outputs": [
    {
     "data": {
      "text/plain": [
       "0.0"
      ]
     },
     "execution_count": 9,
     "metadata": {},
     "output_type": "execute_result"
    }
   ],
   "source": [
    "entr(0)"
   ]
  },
  {
   "cell_type": "code",
   "execution_count": 10,
   "id": "95ca2856",
   "metadata": {},
   "outputs": [
    {
     "data": {
      "text/plain": [
       "-inf"
      ]
     },
     "execution_count": 10,
     "metadata": {},
     "output_type": "execute_result"
    }
   ],
   "source": [
    "entr(-1)"
   ]
  },
  {
   "cell_type": "code",
   "execution_count": 11,
   "id": "9f746a42",
   "metadata": {},
   "outputs": [
    {
     "data": {
      "text/plain": [
       "-5.545177444479562"
      ]
     },
     "execution_count": 11,
     "metadata": {},
     "output_type": "execute_result"
    }
   ],
   "source": [
    "entr(4)"
   ]
  },
  {
   "cell_type": "code",
   "execution_count": null,
   "id": "d02ae538",
   "metadata": {},
   "outputs": [],
   "source": []
  }
 ],
 "metadata": {
  "kernelspec": {
   "display_name": "Python 3 (ipykernel)",
   "language": "python",
   "name": "python3"
  },
  "language_info": {
   "codemirror_mode": {
    "name": "ipython",
    "version": 3
   },
   "file_extension": ".py",
   "mimetype": "text/x-python",
   "name": "python",
   "nbconvert_exporter": "python",
   "pygments_lexer": "ipython3",
   "version": "3.9.12"
  }
 },
 "nbformat": 4,
 "nbformat_minor": 5
}
