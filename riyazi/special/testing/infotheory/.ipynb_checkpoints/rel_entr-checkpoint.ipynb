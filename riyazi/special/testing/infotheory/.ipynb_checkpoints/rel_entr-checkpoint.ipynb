{
 "cells": [
  {
   "cell_type": "code",
   "execution_count": null,
   "id": "ccee3a5d",
   "metadata": {},
   "outputs": [],
   "source": [
    "import scipy.special as sp "
   ]
  },
  {
   "cell_type": "code",
   "execution_count": null,
   "id": "108e6e0b",
   "metadata": {},
   "outputs": [],
   "source": [
    "sp.rel_entr(0,0)"
   ]
  },
  {
   "cell_type": "code",
   "execution_count": null,
   "id": "3efcb48b",
   "metadata": {},
   "outputs": [],
   "source": [
    "sp.rel_entr(-1,-1)"
   ]
  },
  {
   "cell_type": "code",
   "execution_count": null,
   "id": "1bc5bb92",
   "metadata": {},
   "outputs": [],
   "source": [
    "sp.rel_entr(4,5)"
   ]
  },
  {
   "cell_type": "code",
   "execution_count": null,
   "id": "17ce56f9",
   "metadata": {},
   "outputs": [],
   "source": [
    "import math\n",
    "def rel_entr(x,y):\n",
    "    if (x==0 and y>=0):\n",
    "        return 0.0\n",
    "    elif(x > 0 and y>0):\n",
    "        return (x*math.log(x/y))\n",
    "    else:\n",
    "        return math.inf"
   ]
  },
  {
   "cell_type": "code",
   "execution_count": null,
   "id": "e33c4d0e",
   "metadata": {},
   "outputs": [],
   "source": [
    "rel_entr(0,-1)"
   ]
  },
  {
   "cell_type": "code",
   "execution_count": null,
   "id": "bab63071",
   "metadata": {},
   "outputs": [],
   "source": [
    "0/ -1"
   ]
  },
  {
   "cell_type": "code",
   "execution_count": null,
   "id": "c5379717",
   "metadata": {},
   "outputs": [],
   "source": [
    "sp.rel_entr(0,-1)"
   ]
  },
  {
   "cell_type": "code",
   "execution_count": null,
   "id": "c9f41aa5",
   "metadata": {},
   "outputs": [],
   "source": [
    "rel_entr(4,5)"
   ]
  },
  {
   "cell_type": "code",
   "execution_count": null,
   "id": "5cf52d40",
   "metadata": {},
   "outputs": [],
   "source": []
  }
 ],
 "metadata": {
  "kernelspec": {
   "display_name": "Python 3 (ipykernel)",
   "language": "python",
   "name": "python3"
  },
  "language_info": {
   "codemirror_mode": {
    "name": "ipython",
    "version": 3
   },
   "file_extension": ".py",
   "mimetype": "text/x-python",
   "name": "python",
   "nbconvert_exporter": "python",
   "pygments_lexer": "ipython3",
   "version": "3.9.12"
  }
 },
 "nbformat": 4,
 "nbformat_minor": 5
}
