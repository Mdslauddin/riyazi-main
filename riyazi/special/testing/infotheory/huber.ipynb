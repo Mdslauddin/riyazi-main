{
 "cells": [
  {
   "cell_type": "markdown",
   "id": "0c0fb497",
   "metadata": {},
   "source": [
    "## Huber loss function."
   ]
  },
  {
   "cell_type": "code",
   "execution_count": 1,
   "id": "7bd4b468",
   "metadata": {},
   "outputs": [],
   "source": [
    "def hubber(delta,r):\n",
    "    if(0 <= delta and (abs(r)<=delta)):\n",
    "        return (1/2)*r**2\n",
    "    elif(delta <0):\n",
    "        return math.inf\n",
    "    else:\n",
    "        return ((abs(r)-0.5*delta))"
   ]
  },
  {
   "cell_type": "code",
   "execution_count": 2,
   "id": "55b07f21",
   "metadata": {},
   "outputs": [],
   "source": [
    "import scipy.special as sp "
   ]
  },
  {
   "cell_type": "code",
   "execution_count": 3,
   "id": "d4fd0612",
   "metadata": {},
   "outputs": [
    {
     "data": {
      "text/plain": [
       "7.5"
      ]
     },
     "execution_count": 3,
     "metadata": {},
     "output_type": "execute_result"
    }
   ],
   "source": [
    "sp.huber(3,4)"
   ]
  },
  {
   "cell_type": "code",
   "execution_count": 4,
   "id": "6e3d88b8",
   "metadata": {},
   "outputs": [
    {
     "data": {
      "text/plain": [
       "2.5"
      ]
     },
     "execution_count": 4,
     "metadata": {},
     "output_type": "execute_result"
    }
   ],
   "source": [
    "hubber(3,4)"
   ]
  },
  {
   "cell_type": "code",
   "execution_count": 5,
   "id": "3ac789ab",
   "metadata": {},
   "outputs": [
    {
     "data": {
      "text/plain": [
       "0.0"
      ]
     },
     "execution_count": 5,
     "metadata": {},
     "output_type": "execute_result"
    }
   ],
   "source": [
    "sp.huber(0,4)"
   ]
  },
  {
   "cell_type": "code",
   "execution_count": 7,
   "id": "2da2146b",
   "metadata": {},
   "outputs": [
    {
     "data": {
      "text/plain": [
       "4.0"
      ]
     },
     "execution_count": 7,
     "metadata": {},
     "output_type": "execute_result"
    }
   ],
   "source": [
    "hubber(0,4)"
   ]
  },
  {
   "cell_type": "code",
   "execution_count": null,
   "id": "9cc62e83",
   "metadata": {},
   "outputs": [],
   "source": []
  }
 ],
 "metadata": {
  "kernelspec": {
   "display_name": "Python 3 (ipykernel)",
   "language": "python",
   "name": "python3"
  },
  "language_info": {
   "codemirror_mode": {
    "name": "ipython",
    "version": 3
   },
   "file_extension": ".py",
   "mimetype": "text/x-python",
   "name": "python",
   "nbconvert_exporter": "python",
   "pygments_lexer": "ipython3",
   "version": "3.9.12"
  }
 },
 "nbformat": 4,
 "nbformat_minor": 5
}
