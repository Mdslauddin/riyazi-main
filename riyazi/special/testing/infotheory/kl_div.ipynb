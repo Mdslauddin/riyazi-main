{
 "cells": [
  {
   "cell_type": "code",
   "execution_count": 2,
   "id": "f883fd26",
   "metadata": {},
   "outputs": [],
   "source": [
    "import scipy.special as sp"
   ]
  },
  {
   "cell_type": "code",
   "execution_count": 3,
   "id": "6d7e2896",
   "metadata": {},
   "outputs": [
    {
     "data": {
      "text/plain": [
       "1.0"
      ]
     },
     "execution_count": 3,
     "metadata": {},
     "output_type": "execute_result"
    }
   ],
   "source": [
    "sp.kl_div(0,1)"
   ]
  },
  {
   "cell_type": "code",
   "execution_count": 4,
   "id": "43fd1089",
   "metadata": {},
   "outputs": [
    {
     "data": {
      "text/plain": [
       "inf"
      ]
     },
     "execution_count": 4,
     "metadata": {},
     "output_type": "execute_result"
    }
   ],
   "source": [
    "sp.kl_div(0,-1)"
   ]
  },
  {
   "cell_type": "code",
   "execution_count": 1,
   "id": "8ccd5a68",
   "metadata": {},
   "outputs": [],
   "source": [
    "import math \n",
    "def kl_div(x,y):\n",
    "    if(x ==0 and y>=0):\n",
    "        return float(y)\n",
    "    elif(x > 0 and y>0):\n",
    "        return (x*math.log(x/y)-x+y)\n",
    "    else:\n",
    "        return math.inf"
   ]
  },
  {
   "cell_type": "code",
   "execution_count": 3,
   "id": "2895872b",
   "metadata": {},
   "outputs": [
    {
     "data": {
      "text/plain": [
       "1.0"
      ]
     },
     "execution_count": 3,
     "metadata": {},
     "output_type": "execute_result"
    }
   ],
   "source": [
    "kl_div(0,1)"
   ]
  },
  {
   "cell_type": "code",
   "execution_count": 7,
   "id": "93f69ee7",
   "metadata": {},
   "outputs": [
    {
     "data": {
      "text/plain": [
       "inf"
      ]
     },
     "execution_count": 7,
     "metadata": {},
     "output_type": "execute_result"
    }
   ],
   "source": [
    "kl_div(0,-1)"
   ]
  },
  {
   "cell_type": "code",
   "execution_count": 8,
   "id": "a589ddf5",
   "metadata": {},
   "outputs": [
    {
     "data": {
      "text/plain": [
       "0.10742579474316116"
      ]
     },
     "execution_count": 8,
     "metadata": {},
     "output_type": "execute_result"
    }
   ],
   "source": [
    "sp.kl_div(4,5)"
   ]
  },
  {
   "cell_type": "code",
   "execution_count": 9,
   "id": "e51bcbf0",
   "metadata": {},
   "outputs": [
    {
     "data": {
      "text/plain": [
       "0.10742579474316116"
      ]
     },
     "execution_count": 9,
     "metadata": {},
     "output_type": "execute_result"
    }
   ],
   "source": [
    "kl_div(4,5)"
   ]
  },
  {
   "cell_type": "code",
   "execution_count": null,
   "id": "ea120ad9",
   "metadata": {},
   "outputs": [],
   "source": []
  }
 ],
 "metadata": {
  "kernelspec": {
   "display_name": "Python 3 (ipykernel)",
   "language": "python",
   "name": "python3"
  },
  "language_info": {
   "codemirror_mode": {
    "name": "ipython",
    "version": 3
   },
   "file_extension": ".py",
   "mimetype": "text/x-python",
   "name": "python",
   "nbconvert_exporter": "python",
   "pygments_lexer": "ipython3",
   "version": "3.9.12"
  }
 },
 "nbformat": 4,
 "nbformat_minor": 5
}
