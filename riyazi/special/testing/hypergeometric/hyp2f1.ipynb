{
 "cells": [
  {
   "cell_type": "markdown",
   "id": "488bf7c1",
   "metadata": {},
   "source": [
    "### Gauss hypergeometric function 2F1(a, b; c; z)"
   ]
  },
  {
   "cell_type": "code",
   "execution_count": null,
   "id": "f434de5a",
   "metadata": {},
   "outputs": [],
   "source": [
    "import scipy.special as sc"
   ]
  },
  {
   "cell_type": "code",
   "execution_count": null,
   "id": "794cb9a5",
   "metadata": {},
   "outputs": [],
   "source": [
    "sc.hyp2f1(1, 1, -2, 1)"
   ]
  },
  {
   "cell_type": "code",
   "execution_count": null,
   "id": "9ac421ec",
   "metadata": {},
   "outputs": [],
   "source": [
    "import numpy as np "
   ]
  },
  {
   "cell_type": "code",
   "execution_count": null,
   "id": "aa4a3d17",
   "metadata": {},
   "outputs": [],
   "source": [
    "a, b, c = -1, 1, 1.5\n",
    "#z = np.linspace(0, 1, 5)\n",
    "sc.hyp2f1(a, b, c, z)"
   ]
  },
  {
   "cell_type": "code",
   "execution_count": null,
   "id": "5c900259",
   "metadata": {},
   "outputs": [],
   "source": [
    "z"
   ]
  },
  {
   "cell_type": "code",
   "execution_count": null,
   "id": "b19317a0",
   "metadata": {},
   "outputs": [],
   "source": [
    "1 + a * b * z / c"
   ]
  },
  {
   "cell_type": "code",
   "execution_count": null,
   "id": "6380f1d3",
   "metadata": {},
   "outputs": [],
   "source": [
    "def hyp2f1(a,b,c,z):\n",
    "    return 1+(a*b*z)/c"
   ]
  },
  {
   "cell_type": "code",
   "execution_count": null,
   "id": "1490c73f",
   "metadata": {
    "scrolled": true
   },
   "outputs": [],
   "source": [
    "hyp2f1(9,1,7,7)"
   ]
  },
  {
   "cell_type": "code",
   "execution_count": null,
   "id": "6cf4c58c",
   "metadata": {},
   "outputs": [],
   "source": [
    "sc.hyp2f1(9, 1, 7, 7)"
   ]
  },
  {
   "cell_type": "code",
   "execution_count": null,
   "id": "f5d9a70c",
   "metadata": {},
   "outputs": [],
   "source": []
  },
  {
   "cell_type": "code",
   "execution_count": null,
   "id": "5ad56b2d",
   "metadata": {},
   "outputs": [],
   "source": [
    "import numpy as np \n",
    "a, b, c = -1, 1, 1.5\n",
    "z = np.linspace(0, 1, 5)"
   ]
  },
  {
   "cell_type": "code",
   "execution_count": null,
   "id": "4cda2bac",
   "metadata": {},
   "outputs": [],
   "source": [
    "z"
   ]
  },
  {
   "cell_type": "code",
   "execution_count": null,
   "id": "e693efb7",
   "metadata": {},
   "outputs": [],
   "source": [
    "z = [0., 0.25, 0.5, 0.75, 1.]"
   ]
  },
  {
   "cell_type": "code",
   "execution_count": null,
   "id": "f68a6bae",
   "metadata": {},
   "outputs": [],
   "source": [
    "hyp2f1(a,b,c,z)"
   ]
  },
  {
   "cell_type": "code",
   "execution_count": null,
   "id": "c9226f3b",
   "metadata": {},
   "outputs": [],
   "source": [
    "hyp2f1(1,1,-2,1)"
   ]
  },
  {
   "cell_type": "code",
   "execution_count": null,
   "id": "8a3492bb",
   "metadata": {},
   "outputs": [],
   "source": [
    "sc.hyp2f1(1,2,3,0.1)"
   ]
  },
  {
   "cell_type": "code",
   "execution_count": null,
   "id": "30c742c6",
   "metadata": {},
   "outputs": [],
   "source": [
    "hyp2f1(1,2,3,0.1)"
   ]
  },
  {
   "cell_type": "code",
   "execution_count": null,
   "id": "215b9cd3",
   "metadata": {},
   "outputs": [],
   "source": []
  }
 ],
 "metadata": {
  "kernelspec": {
   "display_name": "Python 3 (ipykernel)",
   "language": "python",
   "name": "python3"
  },
  "language_info": {
   "codemirror_mode": {
    "name": "ipython",
    "version": 3
   },
   "file_extension": ".py",
   "mimetype": "text/x-python",
   "name": "python",
   "nbconvert_exporter": "python",
   "pygments_lexer": "ipython3",
   "version": "3.9.12"
  }
 },
 "nbformat": 4,
 "nbformat_minor": 5
}
