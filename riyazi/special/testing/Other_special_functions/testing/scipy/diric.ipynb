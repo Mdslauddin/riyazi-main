{
 "cells": [
  {
   "cell_type": "markdown",
   "id": "80506196",
   "metadata": {},
   "source": [
    "### Periodic sinc function, also called the Dirichlet function."
   ]
  },
  {
   "cell_type": "code",
   "execution_count": 1,
   "id": "29a22bcd",
   "metadata": {},
   "outputs": [],
   "source": [
    "import scipy.special as sp"
   ]
  },
  {
   "cell_type": "code",
   "execution_count": 2,
   "id": "16711bbf",
   "metadata": {},
   "outputs": [
    {
     "data": {
      "text/plain": [
       "array(-0.2248451)"
      ]
     },
     "execution_count": 2,
     "metadata": {},
     "output_type": "execute_result"
    }
   ],
   "source": [
    "sp.diric(2,4)"
   ]
  },
  {
   "cell_type": "code",
   "execution_count": 3,
   "id": "f13d415e",
   "metadata": {},
   "outputs": [],
   "source": [
    "from math import sin"
   ]
  },
  {
   "cell_type": "code",
   "execution_count": 4,
   "id": "bca5c72d",
   "metadata": {},
   "outputs": [],
   "source": [
    "def diric(x,n):\n",
    "    return sin(x * n/2) / (n * sin(x / 2))"
   ]
  },
  {
   "cell_type": "code",
   "execution_count": 5,
   "id": "081d0489",
   "metadata": {},
   "outputs": [
    {
     "data": {
      "text/plain": [
       "-0.22484509536615285"
      ]
     },
     "execution_count": 5,
     "metadata": {},
     "output_type": "execute_result"
    }
   ],
   "source": [
    "diric(2,4)"
   ]
  },
  {
   "cell_type": "code",
   "execution_count": null,
   "id": "1e86d3c6",
   "metadata": {},
   "outputs": [],
   "source": []
  }
 ],
 "metadata": {
  "kernelspec": {
   "display_name": "Python 3 (ipykernel)",
   "language": "python",
   "name": "python3"
  },
  "language_info": {
   "codemirror_mode": {
    "name": "ipython",
    "version": 3
   },
   "file_extension": ".py",
   "mimetype": "text/x-python",
   "name": "python",
   "nbconvert_exporter": "python",
   "pygments_lexer": "ipython3",
   "version": "3.9.12"
  }
 },
 "nbformat": 4,
 "nbformat_minor": 5
}
