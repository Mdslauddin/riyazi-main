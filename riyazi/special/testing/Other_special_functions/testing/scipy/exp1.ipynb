{
 "cells": [
  {
   "cell_type": "markdown",
   "id": "29fdb45b",
   "metadata": {},
   "source": [
    "### Exponential integral E1."
   ]
  },
  {
   "cell_type": "code",
   "execution_count": 1,
   "id": "fe076666",
   "metadata": {},
   "outputs": [],
   "source": [
    "import scipy.special as sc"
   ]
  },
  {
   "cell_type": "code",
   "execution_count": 2,
   "id": "29e9f028",
   "metadata": {},
   "outputs": [
    {
     "data": {
      "text/plain": [
       "inf"
      ]
     },
     "execution_count": 2,
     "metadata": {},
     "output_type": "execute_result"
    }
   ],
   "source": [
    "sc.exp1(0)"
   ]
  },
  {
   "cell_type": "code",
   "execution_count": 3,
   "id": "2a4ae7fc",
   "metadata": {},
   "outputs": [
    {
     "data": {
      "text/plain": [
       "nan"
      ]
     },
     "execution_count": 3,
     "metadata": {},
     "output_type": "execute_result"
    }
   ],
   "source": [
    "sc.exp1(-1)"
   ]
  },
  {
   "cell_type": "code",
   "execution_count": 4,
   "id": "f788c8df",
   "metadata": {},
   "outputs": [
    {
     "data": {
      "text/plain": [
       "(-1.8951178163559368-3.141592653589793j)"
      ]
     },
     "execution_count": 4,
     "metadata": {},
     "output_type": "execute_result"
    }
   ],
   "source": [
    "sc.exp1(complex(-1, 0))"
   ]
  },
  {
   "cell_type": "code",
   "execution_count": 5,
   "id": "57c751ee",
   "metadata": {},
   "outputs": [
    {
     "data": {
      "text/plain": [
       "(-1.8951178163559368+3.141592653589793j)"
      ]
     },
     "execution_count": 5,
     "metadata": {},
     "output_type": "execute_result"
    }
   ],
   "source": [
    "sc.exp1(complex(-1, -0.0))"
   ]
  },
  {
   "cell_type": "code",
   "execution_count": 6,
   "id": "e69b3216",
   "metadata": {},
   "outputs": [
    {
     "data": {
      "text/plain": [
       "array([2.19383934e-01, 4.15696893e-06, 3.68359776e-46, 0.00000000e+00])"
      ]
     },
     "execution_count": 6,
     "metadata": {},
     "output_type": "execute_result"
    }
   ],
   "source": [
    "sc.exp1([1, 10, 100, 1000])"
   ]
  },
  {
   "cell_type": "code",
   "execution_count": 9,
   "id": "b6d7cfef",
   "metadata": {},
   "outputs": [],
   "source": [
    "import numpy as np "
   ]
  },
  {
   "cell_type": "code",
   "execution_count": 10,
   "id": "9ad985f1",
   "metadata": {},
   "outputs": [
    {
     "data": {
      "text/plain": [
       "array([0.21938393, 0.04890051, 0.01304838, 0.00377935])"
      ]
     },
     "execution_count": 10,
     "metadata": {},
     "output_type": "execute_result"
    }
   ],
   "source": [
    "x = np.array([1, 2, 3, 4])\n",
    "sc.exp1(x)"
   ]
  },
  {
   "cell_type": "code",
   "execution_count": 11,
   "id": "91420964",
   "metadata": {},
   "outputs": [
    {
     "data": {
      "text/plain": [
       "array([0.21938393, 0.04890051, 0.01304838, 0.00377935])"
      ]
     },
     "execution_count": 11,
     "metadata": {},
     "output_type": "execute_result"
    }
   ],
   "source": [
    "-sc.expi(-x)"
   ]
  },
  {
   "cell_type": "code",
   "execution_count": null,
   "id": "406cff4b",
   "metadata": {},
   "outputs": [],
   "source": []
  },
  {
   "cell_type": "code",
   "execution_count": 6,
   "id": "cb9d56e8",
   "metadata": {},
   "outputs": [],
   "source": [
    "from scipy.integrate import quad"
   ]
  },
  {
   "cell_type": "code",
   "execution_count": 7,
   "id": "32e0be31",
   "metadata": {},
   "outputs": [],
   "source": [
    "def Ei_2(x, minfloat=1e-7, maxfloat=10000):\n",
    "    \"\"\"Ei integral function.\"\"\"\n",
    "    minfloat = min(np.abs(x), minfloat)\n",
    "    maxfloat = max(np.abs(x), maxfloat)\n",
    "    def f(t):\n",
    "        return np.exp(-t) / t\n",
    "    if x > 0:\n",
    "        return -1.0 * (quad(f, -x, -minfloat)[0] + quad(f, minfloat, maxfloat)[0])\n",
    "    else:\n",
    "        return -1.0 * quad(f, -x, maxfloat)[0]"
   ]
  },
  {
   "cell_type": "code",
   "execution_count": 5,
   "id": "9cabb512",
   "metadata": {},
   "outputs": [
    {
     "ename": "NameError",
     "evalue": "name 'np' is not defined",
     "output_type": "error",
     "traceback": [
      "\u001b[1;31m---------------------------------------------------------------------------\u001b[0m",
      "\u001b[1;31mNameError\u001b[0m                                 Traceback (most recent call last)",
      "Input \u001b[1;32mIn [5]\u001b[0m, in \u001b[0;36m<cell line: 1>\u001b[1;34m()\u001b[0m\n\u001b[1;32m----> 1\u001b[0m \u001b[43mEi_2\u001b[49m\u001b[43m(\u001b[49m\u001b[38;5;241;43m1\u001b[39;49m\u001b[43m)\u001b[49m\n",
      "Input \u001b[1;32mIn [4]\u001b[0m, in \u001b[0;36mEi_2\u001b[1;34m(x, minfloat, maxfloat)\u001b[0m\n\u001b[0;32m      1\u001b[0m \u001b[38;5;28;01mdef\u001b[39;00m \u001b[38;5;21mEi_2\u001b[39m(x, minfloat\u001b[38;5;241m=\u001b[39m\u001b[38;5;241m1e-7\u001b[39m, maxfloat\u001b[38;5;241m=\u001b[39m\u001b[38;5;241m10000\u001b[39m):\n\u001b[0;32m      2\u001b[0m     \u001b[38;5;124;03m\"\"\"Ei integral function.\"\"\"\u001b[39;00m\n\u001b[1;32m----> 3\u001b[0m     minfloat \u001b[38;5;241m=\u001b[39m \u001b[38;5;28mmin\u001b[39m(\u001b[43mnp\u001b[49m\u001b[38;5;241m.\u001b[39mabs(x), minfloat)\n\u001b[0;32m      4\u001b[0m     maxfloat \u001b[38;5;241m=\u001b[39m \u001b[38;5;28mmax\u001b[39m(np\u001b[38;5;241m.\u001b[39mabs(x), maxfloat)\n\u001b[0;32m      5\u001b[0m     \u001b[38;5;28;01mdef\u001b[39;00m \u001b[38;5;21mf\u001b[39m(t):\n",
      "\u001b[1;31mNameError\u001b[0m: name 'np' is not defined"
     ]
    }
   ],
   "source": [
    "Ei_2(1)"
   ]
  },
  {
   "cell_type": "code",
   "execution_count": null,
   "id": "d4b2c325",
   "metadata": {},
   "outputs": [],
   "source": []
  }
 ],
 "metadata": {
  "kernelspec": {
   "display_name": "Python 3 (ipykernel)",
   "language": "python",
   "name": "python3"
  },
  "language_info": {
   "codemirror_mode": {
    "name": "ipython",
    "version": 3
   },
   "file_extension": ".py",
   "mimetype": "text/x-python",
   "name": "python",
   "nbconvert_exporter": "python",
   "pygments_lexer": "ipython3",
   "version": "3.9.12"
  }
 },
 "nbformat": 4,
 "nbformat_minor": 5
}
