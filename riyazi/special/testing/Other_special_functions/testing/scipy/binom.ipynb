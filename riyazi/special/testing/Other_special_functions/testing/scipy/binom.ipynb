{
 "cells": [
  {
   "cell_type": "markdown",
   "id": "ba5eb34f",
   "metadata": {},
   "source": [
    "### Binomial coefficient considered as a function of two real variables."
   ]
  },
  {
   "cell_type": "code",
   "execution_count": 1,
   "id": "c07cc0f1",
   "metadata": {},
   "outputs": [],
   "source": [
    "import scipy.special as sp"
   ]
  },
  {
   "cell_type": "code",
   "execution_count": 2,
   "id": "0c9a6cb2",
   "metadata": {},
   "outputs": [
    {
     "data": {
      "text/plain": [
       "0.0"
      ]
     },
     "execution_count": 2,
     "metadata": {},
     "output_type": "execute_result"
    }
   ],
   "source": [
    "sp.binom(6,7)"
   ]
  },
  {
   "cell_type": "code",
   "execution_count": 3,
   "id": "6dc72f4d",
   "metadata": {},
   "outputs": [
    {
     "data": {
      "text/plain": [
       "3.0"
      ]
     },
     "execution_count": 3,
     "metadata": {},
     "output_type": "execute_result"
    }
   ],
   "source": [
    "sp.binom(3,2)"
   ]
  },
  {
   "cell_type": "code",
   "execution_count": 4,
   "id": "b93722b2",
   "metadata": {},
   "outputs": [
    {
     "data": {
      "text/plain": [
       "84.0"
      ]
     },
     "execution_count": 4,
     "metadata": {},
     "output_type": "execute_result"
    }
   ],
   "source": [
    "sp.binom(9,3)"
   ]
  },
  {
   "cell_type": "code",
   "execution_count": 5,
   "id": "1c51dc4a",
   "metadata": {},
   "outputs": [],
   "source": [
    "def binom(n, k):\n",
    "    v = 1\n",
    "    for i in range(k):\n",
    "        v *= (n - i) / (i + 1)\n",
    "    return v"
   ]
  },
  {
   "cell_type": "code",
   "execution_count": 6,
   "id": "9b7400d9",
   "metadata": {},
   "outputs": [
    {
     "data": {
      "text/plain": [
       "84.0"
      ]
     },
     "execution_count": 6,
     "metadata": {},
     "output_type": "execute_result"
    }
   ],
   "source": [
    "binom(9,3)"
   ]
  },
  {
   "cell_type": "code",
   "execution_count": 7,
   "id": "310d5bda",
   "metadata": {},
   "outputs": [
    {
     "data": {
      "text/plain": [
       "0.0"
      ]
     },
     "execution_count": 7,
     "metadata": {},
     "output_type": "execute_result"
    }
   ],
   "source": [
    "binom(6,7)"
   ]
  },
  {
   "cell_type": "code",
   "execution_count": 8,
   "id": "d6a2ab58",
   "metadata": {},
   "outputs": [
    {
     "data": {
      "text/plain": [
       "3.0"
      ]
     },
     "execution_count": 8,
     "metadata": {},
     "output_type": "execute_result"
    }
   ],
   "source": [
    "binom(3,2)"
   ]
  },
  {
   "cell_type": "code",
   "execution_count": null,
   "id": "cc63b204",
   "metadata": {},
   "outputs": [],
   "source": []
  }
 ],
 "metadata": {
  "kernelspec": {
   "display_name": "Python 3 (ipykernel)",
   "language": "python",
   "name": "python3"
  },
  "language_info": {
   "codemirror_mode": {
    "name": "ipython",
    "version": 3
   },
   "file_extension": ".py",
   "mimetype": "text/x-python",
   "name": "python",
   "nbconvert_exporter": "python",
   "pygments_lexer": "ipython3",
   "version": "3.9.12"
  }
 },
 "nbformat": 4,
 "nbformat_minor": 5
}
