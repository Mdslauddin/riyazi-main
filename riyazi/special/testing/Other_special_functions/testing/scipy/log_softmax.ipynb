{
 "cells": [
  {
   "cell_type": "markdown",
   "id": "928df0a6",
   "metadata": {},
   "source": [
    "### Compute the logarithm of the softmax function."
   ]
  },
  {
   "cell_type": "code",
   "execution_count": 1,
   "id": "70276b27",
   "metadata": {},
   "outputs": [],
   "source": [
    "import scipy.special as sc\n"
   ]
  },
  {
   "cell_type": "code",
   "execution_count": 5,
   "id": "2c79673c",
   "metadata": {},
   "outputs": [
    {
     "data": {
      "text/plain": [
       "array([-0.74439666, -0.64439666])"
      ]
     },
     "execution_count": 5,
     "metadata": {},
     "output_type": "execute_result"
    }
   ],
   "source": [
    "sc.log_softmax([0.4,0.5])"
   ]
  },
  {
   "cell_type": "code",
   "execution_count": 6,
   "id": "a3b9f144",
   "metadata": {},
   "outputs": [],
   "source": [
    "import numpy as np "
   ]
  },
  {
   "cell_type": "code",
   "execution_count": 7,
   "id": "edc66528",
   "metadata": {},
   "outputs": [],
   "source": [
    "from numpy import log"
   ]
  },
  {
   "cell_type": "code",
   "execution_count": 8,
   "id": "c4bfb3ec",
   "metadata": {},
   "outputs": [],
   "source": [
    "def softmax(x):\n",
    "    return np.exp(x)/sum(np.exp(x))"
   ]
  },
  {
   "cell_type": "code",
   "execution_count": null,
   "id": "e1d703aa",
   "metadata": {},
   "outputs": [],
   "source": []
  },
  {
   "cell_type": "code",
   "execution_count": 9,
   "id": "338e8384",
   "metadata": {},
   "outputs": [],
   "source": [
    "def log_softmax(x):\n",
    "    return log(softmax(x))"
   ]
  },
  {
   "cell_type": "code",
   "execution_count": 10,
   "id": "341313ae",
   "metadata": {},
   "outputs": [
    {
     "data": {
      "text/plain": [
       "array([-0.74439666, -0.64439666])"
      ]
     },
     "execution_count": 10,
     "metadata": {},
     "output_type": "execute_result"
    }
   ],
   "source": [
    "log_softmax([0.4,0.5])"
   ]
  },
  {
   "cell_type": "code",
   "execution_count": null,
   "id": "1aed9b23",
   "metadata": {},
   "outputs": [],
   "source": []
  }
 ],
 "metadata": {
  "kernelspec": {
   "display_name": "Python 3 (ipykernel)",
   "language": "python",
   "name": "python3"
  },
  "language_info": {
   "codemirror_mode": {
    "name": "ipython",
    "version": 3
   },
   "file_extension": ".py",
   "mimetype": "text/x-python",
   "name": "python",
   "nbconvert_exporter": "python",
   "pygments_lexer": "ipython3",
   "version": "3.9.12"
  }
 },
 "nbformat": 4,
 "nbformat_minor": 5
}
