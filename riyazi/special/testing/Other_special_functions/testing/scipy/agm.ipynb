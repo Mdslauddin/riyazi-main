{
 "cells": [
  {
   "cell_type": "markdown",
   "id": "e13af594",
   "metadata": {},
   "source": [
    "### \tCompute the arithmetic-geometric mean of a and b."
   ]
  },
  {
   "cell_type": "code",
   "execution_count": 12,
   "id": "33b1827b",
   "metadata": {},
   "outputs": [
    {
     "data": {
      "text/plain": [
       "13.458171481725614"
      ]
     },
     "execution_count": 12,
     "metadata": {},
     "output_type": "execute_result"
    }
   ],
   "source": [
    "from scipy.special import agm\n",
    "a, b = 24.0, 6.0\n",
    "agm(a, b)"
   ]
  },
  {
   "cell_type": "code",
   "execution_count": 13,
   "id": "2295b77f",
   "metadata": {},
   "outputs": [
    {
     "data": {
      "text/plain": [
       "94.24777960769379"
      ]
     },
     "execution_count": 13,
     "metadata": {},
     "output_type": "execute_result"
    }
   ],
   "source": [
    "from math import pi\n",
    "(a+b)*pi"
   ]
  },
  {
   "cell_type": "code",
   "execution_count": null,
   "id": "d1c31f70",
   "metadata": {},
   "outputs": [],
   "source": []
  },
  {
   "cell_type": "code",
   "execution_count": null,
   "id": "fdafe06f",
   "metadata": {},
   "outputs": [],
   "source": [
    "import numpy as np \n",
    "while a != b:\n",
    "    a, b = (a + b)/2, np.sqrt(a*b)\n",
    "    print(\"a = %19.16f  b=%19.16f\" % (a, b))"
   ]
  },
  {
   "cell_type": "code",
   "execution_count": null,
   "id": "d39c09af",
   "metadata": {},
   "outputs": [],
   "source": [
    "a = np.array([[1.5], [3], [6]])  # a has shape (3, 1).\n",
    "b = np.array([6, 12, 24, 48])    # b has shape (4,).\n",
    "agm(a, b)"
   ]
  },
  {
   "cell_type": "code",
   "execution_count": null,
   "id": "846d79d3",
   "metadata": {},
   "outputs": [],
   "source": [
    "def agm(a,b):\n",
    "    a_0=a\n",
    "    b_0=b\n",
    "    return a_{n+1} = (a_n + b_n)/2 , b_{n+1} = sqrt(a_n*b_n)"
   ]
  },
  {
   "cell_type": "code",
   "execution_count": null,
   "id": "6f3cf57b",
   "metadata": {},
   "outputs": [],
   "source": [
    "from numpy import sqrt\n",
    "\n",
    "def arithmetic_geometric_mean(a, b):\n",
    "    \"\"\"\n",
    "    Generator for the arithmetic and geometric mean\n",
    "    a, b initial values\n",
    "    \"\"\" \n",
    "    while True:\n",
    "           # infinite loop\n",
    "        a, b = (a+b)/2, sqrt(a*b)\n",
    "    #yield a, b\n",
    "        return (a+b)/2"
   ]
  },
  {
   "cell_type": "code",
   "execution_count": null,
   "id": "0a684cde",
   "metadata": {},
   "outputs": [],
   "source": [
    "arithmetic_geometric_mean(24,6)"
   ]
  },
  {
   "cell_type": "markdown",
   "id": "97c8e6a7",
   "metadata": {},
   "source": [
    "https://tutorialspoint.dev/algorithm/mathematical-algorithms/eulers-totient-function"
   ]
  },
  {
   "cell_type": "code",
   "execution_count": null,
   "id": "2dd3c64b",
   "metadata": {},
   "outputs": [],
   "source": [
    "27/2"
   ]
  },
  {
   "cell_type": "code",
   "execution_count": null,
   "id": "2ba8e00f",
   "metadata": {},
   "outputs": [],
   "source": [
    "agm(9,8)"
   ]
  },
  {
   "cell_type": "code",
   "execution_count": null,
   "id": "74dbc976",
   "metadata": {},
   "outputs": [],
   "source": [
    "arithmetic_geometric_mean(9,8)"
   ]
  },
  {
   "cell_type": "code",
   "execution_count": 3,
   "id": "f472aad5",
   "metadata": {},
   "outputs": [],
   "source": [
    "import math\n",
    "def agm(a,b):\n",
    "    an = (a+b)/2\n",
    "    bn=math.sqrt(a*b)\n",
    "    return math.sqrt(an*bn)\n",
    "    "
   ]
  },
  {
   "cell_type": "code",
   "execution_count": null,
   "id": "25f29144",
   "metadata": {},
   "outputs": [],
   "source": []
  },
  {
   "cell_type": "code",
   "execution_count": 9,
   "id": "927e94fc",
   "metadata": {},
   "outputs": [],
   "source": [
    "from math import sqrt\n",
    "def agm(a,b):\n",
    "    a, b = (a+b)/2, sqrt(a*b)\n",
    "    return sqrt(a*b)\n",
    "    "
   ]
  },
  {
   "cell_type": "code",
   "execution_count": 10,
   "id": "c5d83d80",
   "metadata": {},
   "outputs": [
    {
     "data": {
      "text/plain": [
       "13.416407864998739"
      ]
     },
     "execution_count": 10,
     "metadata": {},
     "output_type": "execute_result"
    }
   ],
   "source": [
    "agm(24,6)"
   ]
  },
  {
   "cell_type": "code",
   "execution_count": 11,
   "id": "6528a485",
   "metadata": {},
   "outputs": [
    {
     "data": {
      "text/plain": [
       "89.19053362520408"
      ]
     },
     "execution_count": 11,
     "metadata": {},
     "output_type": "execute_result"
    }
   ],
   "source": [
    "agm(25,200)"
   ]
  },
  {
   "cell_type": "code",
   "execution_count": 5,
   "id": "f68de4ca",
   "metadata": {},
   "outputs": [
    {
     "data": {
      "text/plain": [
       "89.19053362520408"
      ]
     },
     "execution_count": 5,
     "metadata": {},
     "output_type": "execute_result"
    }
   ],
   "source": [
    "agm(25,200)"
   ]
  },
  {
   "cell_type": "code",
   "execution_count": 4,
   "id": "342c6548",
   "metadata": {},
   "outputs": [
    {
     "data": {
      "text/plain": [
       "13.416407864998739"
      ]
     },
     "execution_count": 4,
     "metadata": {},
     "output_type": "execute_result"
    }
   ],
   "source": [
    "agm(6,24)"
   ]
  },
  {
   "cell_type": "code",
   "execution_count": 6,
   "id": "bc659967",
   "metadata": {},
   "outputs": [],
   "source": [
    "from scipy.special import agm"
   ]
  },
  {
   "cell_type": "code",
   "execution_count": 2,
   "id": "3360b2b5",
   "metadata": {},
   "outputs": [
    {
     "data": {
      "text/plain": [
       "13.458171481725614"
      ]
     },
     "execution_count": 2,
     "metadata": {},
     "output_type": "execute_result"
    }
   ],
   "source": [
    "agm(6,24)"
   ]
  },
  {
   "cell_type": "code",
   "execution_count": 7,
   "id": "3a3183ff",
   "metadata": {},
   "outputs": [
    {
     "data": {
      "text/plain": [
       "90.39390443993408"
      ]
     },
     "execution_count": 7,
     "metadata": {},
     "output_type": "execute_result"
    }
   ],
   "source": [
    "agm(25,200)"
   ]
  },
  {
   "cell_type": "code",
   "execution_count": null,
   "id": "bc6db069",
   "metadata": {},
   "outputs": [],
   "source": []
  },
  {
   "cell_type": "code",
   "execution_count": null,
   "id": "dca2fef4",
   "metadata": {},
   "outputs": [],
   "source": [
    "math.sqrt(12*15)"
   ]
  },
  {
   "cell_type": "code",
   "execution_count": null,
   "id": "5406812e",
   "metadata": {},
   "outputs": [],
   "source": []
  }
 ],
 "metadata": {
  "kernelspec": {
   "display_name": "Python 3 (ipykernel)",
   "language": "python",
   "name": "python3"
  },
  "language_info": {
   "codemirror_mode": {
    "name": "ipython",
    "version": 3
   },
   "file_extension": ".py",
   "mimetype": "text/x-python",
   "name": "python",
   "nbconvert_exporter": "python",
   "pygments_lexer": "ipython3",
   "version": "3.9.12"
  }
 },
 "nbformat": 4,
 "nbformat_minor": 5
}
