{
 "cells": [
  {
   "cell_type": "markdown",
   "id": "af63161f",
   "metadata": {},
   "source": [
    "### Generalized exponential integral En."
   ]
  },
  {
   "cell_type": "code",
   "execution_count": 1,
   "id": "4361600c",
   "metadata": {},
   "outputs": [],
   "source": [
    "import scipy.special as sp"
   ]
  },
  {
   "cell_type": "code",
   "execution_count": 3,
   "id": "ecbad977",
   "metadata": {},
   "outputs": [
    {
     "data": {
      "text/plain": [
       "0.010641925085272832"
      ]
     },
     "execution_count": 3,
     "metadata": {},
     "output_type": "execute_result"
    }
   ],
   "source": [
    "sp.expn(2,3)"
   ]
  },
  {
   "cell_type": "code",
   "execution_count": 4,
   "id": "4b56d55a",
   "metadata": {},
   "outputs": [],
   "source": [
    "from math import e \n",
    "def expn(z):\n",
    "    return pow(z,-1)*pow(e,-z)"
   ]
  },
  {
   "cell_type": "code",
   "execution_count": 7,
   "id": "73749f6a",
   "metadata": {},
   "outputs": [
    {
     "data": {
      "text/plain": [
       "0.084263331074261"
      ]
     },
     "execution_count": 7,
     "metadata": {},
     "output_type": "execute_result"
    }
   ],
   "source": []
  },
  {
   "cell_type": "code",
   "execution_count": null,
   "id": "8ce208d5",
   "metadata": {},
   "outputs": [],
   "source": []
  }
 ],
 "metadata": {
  "kernelspec": {
   "display_name": "Python 3 (ipykernel)",
   "language": "python",
   "name": "python3"
  },
  "language_info": {
   "codemirror_mode": {
    "name": "ipython",
    "version": 3
   },
   "file_extension": ".py",
   "mimetype": "text/x-python",
   "name": "python",
   "nbconvert_exporter": "python",
   "pygments_lexer": "ipython3",
   "version": "3.9.12"
  }
 },
 "nbformat": 4,
 "nbformat_minor": 5
}
