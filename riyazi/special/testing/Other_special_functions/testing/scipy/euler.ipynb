{
 "cells": [
  {
   "cell_type": "markdown",
   "id": "368e78d4",
   "metadata": {},
   "source": [
    "### Euler numbers E(0), E(1), ..., E(n)."
   ]
  },
  {
   "cell_type": "code",
   "execution_count": 1,
   "id": "27d84343",
   "metadata": {},
   "outputs": [],
   "source": [
    "def euler(n):\n",
    "    if not isscalar(n) or (n < 0):\n",
    "        raise ValueError(\"n must be a non-negative integer.\")\n",
    "    n = int(n)\n",
    "    if (n < 2):\n",
    "        n1 = 2\n",
    "    else:\n",
    "        n1 = n\n",
    "    return _specfun.eulerb(n1)[:(n+1)]"
   ]
  },
  {
   "cell_type": "code",
   "execution_count": 1,
   "id": "1096a50a",
   "metadata": {},
   "outputs": [],
   "source": [
    "from scipy.special import euler"
   ]
  },
  {
   "cell_type": "code",
   "execution_count": 2,
   "id": "3b8c6eb9",
   "metadata": {},
   "outputs": [
    {
     "data": {
      "text/plain": [
       "array([ 1.,  0., -1.,  0.,  5.,  0.])"
      ]
     },
     "execution_count": 2,
     "metadata": {},
     "output_type": "execute_result"
    }
   ],
   "source": [
    "euler(5)"
   ]
  },
  {
   "cell_type": "code",
   "execution_count": 4,
   "id": "787532c2",
   "metadata": {},
   "outputs": [
    {
     "data": {
      "text/plain": [
       "array([ 1.,  0., -1.,  0.,  5.,  0.])"
      ]
     },
     "execution_count": 4,
     "metadata": {},
     "output_type": "execute_result"
    }
   ],
   "source": [
    "euler(5.9)"
   ]
  },
  {
   "cell_type": "code",
   "execution_count": 5,
   "id": "b7d46925",
   "metadata": {},
   "outputs": [],
   "source": [
    "def factorial_result(n):\n",
    "    \n",
    "    result = 1\n",
    "    for i in range(2, n + 1):\n",
    "        result *= i\n",
    "    return result\n",
    "\n",
    "def sum_result(n):\n",
    "    s = 0.0\n",
    "\n",
    "    for i in range(1, n + 1):\n",
    "        s = 1.0 / factorial_result(i)\n",
    "        print(s)\n"
   ]
  },
  {
   "cell_type": "code",
   "execution_count": 6,
   "id": "781d6a35",
   "metadata": {},
   "outputs": [
    {
     "name": "stdout",
     "output_type": "stream",
     "text": [
      "1.0\n",
      "0.5\n",
      "0.16666666666666666\n",
      "0.041666666666666664\n",
      "0.008333333333333333\n"
     ]
    }
   ],
   "source": [
    "sum_result(5)"
   ]
  },
  {
   "cell_type": "code",
   "execution_count": null,
   "id": "77749525",
   "metadata": {},
   "outputs": [],
   "source": []
  }
 ],
 "metadata": {
  "kernelspec": {
   "display_name": "Python 3 (ipykernel)",
   "language": "python",
   "name": "python3"
  },
  "language_info": {
   "codemirror_mode": {
    "name": "ipython",
    "version": 3
   },
   "file_extension": ".py",
   "mimetype": "text/x-python",
   "name": "python",
   "nbconvert_exporter": "python",
   "pygments_lexer": "ipython3",
   "version": "3.9.12"
  }
 },
 "nbformat": 4,
 "nbformat_minor": 5
}
