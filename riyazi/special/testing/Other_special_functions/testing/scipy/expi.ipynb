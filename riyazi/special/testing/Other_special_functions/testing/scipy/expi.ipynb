{
 "cells": [
  {
   "cell_type": "markdown",
   "id": "b5658a54",
   "metadata": {},
   "source": [
    "### Exponential integral Ei."
   ]
  },
  {
   "cell_type": "code",
   "execution_count": 8,
   "id": "c4ffb0cb",
   "metadata": {},
   "outputs": [],
   "source": [
    "import scipy.special as sc"
   ]
  },
  {
   "cell_type": "code",
   "execution_count": 3,
   "id": "b8e0f609",
   "metadata": {},
   "outputs": [
    {
     "data": {
      "text/plain": [
       "array([0.21938393, 0.04890051, 0.01304838, 0.00377935])"
      ]
     },
     "execution_count": 3,
     "metadata": {},
     "output_type": "execute_result"
    }
   ],
   "source": [
    "import numpy as np \n",
    "x = np.array([1, 2, 3, 4])\n",
    "-sc.expi(-x)"
   ]
  },
  {
   "cell_type": "code",
   "execution_count": 4,
   "id": "cbbe1c66",
   "metadata": {},
   "outputs": [
    {
     "data": {
      "text/plain": [
       "array([0.21938393, 0.04890051, 0.01304838, 0.00377935])"
      ]
     },
     "execution_count": 4,
     "metadata": {},
     "output_type": "execute_result"
    }
   ],
   "source": [
    "sc.exp1(x)"
   ]
  },
  {
   "cell_type": "code",
   "execution_count": 5,
   "id": "260c5182",
   "metadata": {},
   "outputs": [
    {
     "data": {
      "text/plain": [
       "(-0.21938393439552062+3.1415926535894254j)"
      ]
     },
     "execution_count": 5,
     "metadata": {},
     "output_type": "execute_result"
    }
   ],
   "source": [
    "import scipy.special as sc\n",
    "sc.expi(-1 + 1e-12j)"
   ]
  },
  {
   "cell_type": "code",
   "execution_count": 6,
   "id": "a4235ef4",
   "metadata": {},
   "outputs": [
    {
     "data": {
      "text/plain": [
       "(-0.21938393439552062-3.1415926535894254j)"
      ]
     },
     "execution_count": 6,
     "metadata": {},
     "output_type": "execute_result"
    }
   ],
   "source": [
    "sc.expi(-1 - 1e-12j)"
   ]
  },
  {
   "cell_type": "code",
   "execution_count": 7,
   "id": "d6177cae",
   "metadata": {},
   "outputs": [
    {
     "data": {
      "text/plain": [
       "-0.21938393439552062"
      ]
     },
     "execution_count": 7,
     "metadata": {},
     "output_type": "execute_result"
    }
   ],
   "source": [
    "sc.expi(-1)"
   ]
  },
  {
   "cell_type": "code",
   "execution_count": 8,
   "id": "389f23b5",
   "metadata": {},
   "outputs": [
    {
     "data": {
      "text/plain": [
       "(-0.21938393439552062-0j)"
      ]
     },
     "execution_count": 8,
     "metadata": {},
     "output_type": "execute_result"
    }
   ],
   "source": [
    "sc.expi(complex(-1, 0.0))"
   ]
  },
  {
   "cell_type": "code",
   "execution_count": 9,
   "id": "efdf7872",
   "metadata": {},
   "outputs": [
    {
     "data": {
      "text/plain": [
       "(-0.21938393439552062-0j)"
      ]
     },
     "execution_count": 9,
     "metadata": {},
     "output_type": "execute_result"
    }
   ],
   "source": [
    "sc.expi(complex(-1, -0.0))"
   ]
  },
  {
   "cell_type": "code",
   "execution_count": null,
   "id": "f01e3abb",
   "metadata": {},
   "outputs": [],
   "source": []
  },
  {
   "cell_type": "code",
   "execution_count": null,
   "id": "9ac1ee9a",
   "metadata": {},
   "outputs": [],
   "source": []
  },
  {
   "cell_type": "code",
   "execution_count": null,
   "id": "92d3fcb1",
   "metadata": {},
   "outputs": [],
   "source": []
  },
  {
   "cell_type": "code",
   "execution_count": null,
   "id": "c0a09819",
   "metadata": {},
   "outputs": [],
   "source": []
  },
  {
   "cell_type": "code",
   "execution_count": null,
   "id": "9c1b9eba",
   "metadata": {},
   "outputs": [],
   "source": []
  },
  {
   "cell_type": "code",
   "execution_count": null,
   "id": "cb9db3da",
   "metadata": {},
   "outputs": [],
   "source": []
  },
  {
   "cell_type": "code",
   "execution_count": null,
   "id": "34002e92",
   "metadata": {},
   "outputs": [],
   "source": []
  },
  {
   "cell_type": "code",
   "execution_count": null,
   "id": "d564b643",
   "metadata": {},
   "outputs": [],
   "source": []
  },
  {
   "cell_type": "code",
   "execution_count": null,
   "id": "44ee114d",
   "metadata": {},
   "outputs": [],
   "source": []
  },
  {
   "cell_type": "code",
   "execution_count": 4,
   "id": "e2a66767",
   "metadata": {},
   "outputs": [],
   "source": [
    "from scipy.integrate import quad \n",
    "import numpy as np"
   ]
  },
  {
   "cell_type": "code",
   "execution_count": 12,
   "id": "13f06522",
   "metadata": {},
   "outputs": [],
   "source": [
    "def expi(x, minfloat=1e-7, maxfloat=10000):\n",
    "    \"\"\"Ei integral function.\"\"\"\n",
    "    minfloat = min(np.abs(x), minfloat)\n",
    "    maxfloat = max(np.abs(x), maxfloat)\n",
    "    def f(t):\n",
    "        return np.exp(t) / t\n",
    "    if x > 0:\n",
    "        return (quad(f, -maxfloat, -minfloat)[0] + quad(f, minfloat, x)[0])\n",
    "    else:\n",
    "        return quad(f, -maxfloat, x)[0]"
   ]
  },
  {
   "cell_type": "code",
   "execution_count": 18,
   "id": "38146072",
   "metadata": {},
   "outputs": [
    {
     "data": {
      "text/plain": [
       "2.715552744853867e+41"
      ]
     },
     "execution_count": 18,
     "metadata": {},
     "output_type": "execute_result"
    }
   ],
   "source": [
    "Ei(100)"
   ]
  },
  {
   "cell_type": "code",
   "execution_count": 17,
   "id": "e4327a89",
   "metadata": {},
   "outputs": [
    {
     "data": {
      "text/plain": [
       "inf"
      ]
     },
     "execution_count": 17,
     "metadata": {},
     "output_type": "execute_result"
    }
   ],
   "source": [
    "sc.expi(1000)"
   ]
  },
  {
   "cell_type": "code",
   "execution_count": 14,
   "id": "d2da2738",
   "metadata": {},
   "outputs": [
    {
     "data": {
      "text/plain": [
       "array([ 1.89511782,  4.95423436,  9.93383257, 19.63087447])"
      ]
     },
     "execution_count": 14,
     "metadata": {},
     "output_type": "execute_result"
    }
   ],
   "source": [
    "sc.expi(x)"
   ]
  },
  {
   "cell_type": "code",
   "execution_count": 16,
   "id": "199e257c",
   "metadata": {},
   "outputs": [
    {
     "data": {
      "text/plain": [
       "array([1, 2, 3, 4])"
      ]
     },
     "execution_count": 16,
     "metadata": {},
     "output_type": "execute_result"
    }
   ],
   "source": [
    "x"
   ]
  },
  {
   "cell_type": "code",
   "execution_count": 18,
   "id": "56381ea1",
   "metadata": {},
   "outputs": [
    {
     "data": {
      "text/plain": [
       "4.954234156001906"
      ]
     },
     "execution_count": 18,
     "metadata": {},
     "output_type": "execute_result"
    }
   ],
   "source": [
    "Ei(2)"
   ]
  },
  {
   "cell_type": "code",
   "execution_count": null,
   "id": "e5653b83",
   "metadata": {},
   "outputs": [],
   "source": []
  }
 ],
 "metadata": {
  "kernelspec": {
   "display_name": "Python 3 (ipykernel)",
   "language": "python",
   "name": "python3"
  },
  "language_info": {
   "codemirror_mode": {
    "name": "ipython",
    "version": 3
   },
   "file_extension": ".py",
   "mimetype": "text/x-python",
   "name": "python",
   "nbconvert_exporter": "python",
   "pygments_lexer": "ipython3",
   "version": "3.9.12"
  }
 },
 "nbformat": 4,
 "nbformat_minor": 5
}
