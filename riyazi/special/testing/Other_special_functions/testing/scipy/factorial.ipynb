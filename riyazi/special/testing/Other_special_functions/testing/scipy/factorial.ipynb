{
 "cells": [
  {
   "cell_type": "markdown",
   "id": "0b1574db",
   "metadata": {},
   "source": [
    "### The factorial of a number or array of numbers."
   ]
  },
  {
   "cell_type": "code",
   "execution_count": 2,
   "id": "202b1f7f",
   "metadata": {},
   "outputs": [],
   "source": [
    "import numpy as np"
   ]
  },
  {
   "cell_type": "code",
   "execution_count": 3,
   "id": "10707592",
   "metadata": {},
   "outputs": [
    {
     "data": {
      "text/plain": [
       "array([  6.,  24., 120.])"
      ]
     },
     "execution_count": 3,
     "metadata": {},
     "output_type": "execute_result"
    }
   ],
   "source": [
    "from scipy.special import factorial\n",
    "arr = np.array([3, 4, 5])\n",
    "factorial(arr, exact=False)"
   ]
  },
  {
   "cell_type": "code",
   "execution_count": 4,
   "id": "853bede5",
   "metadata": {},
   "outputs": [
    {
     "data": {
      "text/plain": [
       "array([  6,  24, 120])"
      ]
     },
     "execution_count": 4,
     "metadata": {},
     "output_type": "execute_result"
    }
   ],
   "source": [
    "factorial(arr, exact=True)"
   ]
  },
  {
   "cell_type": "code",
   "execution_count": 5,
   "id": "fcc60449",
   "metadata": {},
   "outputs": [
    {
     "data": {
      "text/plain": [
       "120"
      ]
     },
     "execution_count": 5,
     "metadata": {},
     "output_type": "execute_result"
    }
   ],
   "source": [
    "factorial(5, exact=True)"
   ]
  },
  {
   "cell_type": "code",
   "execution_count": 1,
   "id": "286c19d7",
   "metadata": {},
   "outputs": [],
   "source": [
    "from scipy.special import factorial"
   ]
  },
  {
   "cell_type": "code",
   "execution_count": 2,
   "id": "6ea7efdf",
   "metadata": {},
   "outputs": [
    {
     "data": {
      "text/plain": [
       "120.0"
      ]
     },
     "execution_count": 2,
     "metadata": {},
     "output_type": "execute_result"
    }
   ],
   "source": [
    "factorial(5)"
   ]
  },
  {
   "cell_type": "code",
   "execution_count": 5,
   "id": "6633f8ec",
   "metadata": {},
   "outputs": [
    {
     "data": {
      "text/plain": [
       "120"
      ]
     },
     "execution_count": 5,
     "metadata": {},
     "output_type": "execute_result"
    }
   ],
   "source": [
    "factorial(5,6)"
   ]
  },
  {
   "cell_type": "code",
   "execution_count": 6,
   "id": "bf0edff7",
   "metadata": {},
   "outputs": [],
   "source": [
    "def double_factorial(num: int) -> int:\n",
    "    if not isinstance(num, int):\n",
    "        raise ValueError(\"double_factorial() only accepts integral values\")\n",
    "    if num < 0:\n",
    "        raise ValueError(\"double_factorial() not defined for negative values\")\n",
    "    value = 1\n",
    "    for i in range(num, 0, -2):\n",
    "        value *= i\n",
    "    return value\n",
    "\n",
    "def factorialk(n, k, exact=True):\n",
    "    \n",
    "    if exact:\n",
    "        if n < 1-k:\n",
    "            return 0\n",
    "        if n <= 0:\n",
    "            return 1\n",
    "        val = 1\n",
    "        for j in range(n, 0, -k):\n",
    "            val = val*j\n",
    "        return val\n",
    "    else:\n",
    "        raise NotImplementedError\n",
    "\n"
   ]
  },
  {
   "cell_type": "code",
   "execution_count": 12,
   "id": "392b3277",
   "metadata": {},
   "outputs": [],
   "source": [
    "from scipy.special import factorial2,factorialk"
   ]
  },
  {
   "cell_type": "code",
   "execution_count": 13,
   "id": "edec1caa",
   "metadata": {},
   "outputs": [
    {
     "data": {
      "text/plain": [
       "4"
      ]
     },
     "execution_count": 13,
     "metadata": {},
     "output_type": "execute_result"
    }
   ],
   "source": [
    "factorialk(4,5)"
   ]
  },
  {
   "cell_type": "code",
   "execution_count": null,
   "id": "160eca18",
   "metadata": {},
   "outputs": [],
   "source": []
  },
  {
   "cell_type": "code",
   "execution_count": 8,
   "id": "8f938348",
   "metadata": {},
   "outputs": [
    {
     "data": {
      "text/plain": [
       "105"
      ]
     },
     "execution_count": 8,
     "metadata": {},
     "output_type": "execute_result"
    }
   ],
   "source": [
    "double_factorial(7)"
   ]
  },
  {
   "cell_type": "code",
   "execution_count": 9,
   "id": "634e8632",
   "metadata": {},
   "outputs": [
    {
     "data": {
      "text/plain": [
       "array(105.)"
      ]
     },
     "execution_count": 9,
     "metadata": {},
     "output_type": "execute_result"
    }
   ],
   "source": [
    "factorial2(7)"
   ]
  },
  {
   "cell_type": "code",
   "execution_count": 10,
   "id": "a8e59787",
   "metadata": {},
   "outputs": [
    {
     "data": {
      "text/plain": [
       "array(945.)"
      ]
     },
     "execution_count": 10,
     "metadata": {},
     "output_type": "execute_result"
    }
   ],
   "source": [
    "factorial2(9)"
   ]
  },
  {
   "cell_type": "code",
   "execution_count": 11,
   "id": "0066ab66",
   "metadata": {},
   "outputs": [
    {
     "data": {
      "text/plain": [
       "945"
      ]
     },
     "execution_count": 11,
     "metadata": {},
     "output_type": "execute_result"
    }
   ],
   "source": [
    "double_factorial(9)"
   ]
  },
  {
   "cell_type": "markdown",
   "id": "1d4f82ec",
   "metadata": {},
   "source": [
    "https://math.libretexts.org/Bookshelves/Calculus/Book%3A_Calculus_(OpenStax)/06%3A_Applications_of_Integration/6.09%3A_Calculus_of_the_Hyperbolic_Functions"
   ]
  },
  {
   "cell_type": "code",
   "execution_count": null,
   "id": "5ad6fc36",
   "metadata": {},
   "outputs": [],
   "source": []
  }
 ],
 "metadata": {
  "kernelspec": {
   "display_name": "Python 3 (ipykernel)",
   "language": "python",
   "name": "python3"
  },
  "language_info": {
   "codemirror_mode": {
    "name": "ipython",
    "version": 3
   },
   "file_extension": ".py",
   "mimetype": "text/x-python",
   "name": "python",
   "nbconvert_exporter": "python",
   "pygments_lexer": "ipython3",
   "version": "3.9.12"
  }
 },
 "nbformat": 4,
 "nbformat_minor": 5
}
