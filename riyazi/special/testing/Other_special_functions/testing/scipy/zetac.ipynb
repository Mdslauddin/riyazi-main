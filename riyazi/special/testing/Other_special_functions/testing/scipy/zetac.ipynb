{
 "cells": [
  {
   "cell_type": "markdown",
   "id": "c660358e",
   "metadata": {},
   "source": [
    "### Riemann zeta function minus 1."
   ]
  },
  {
   "cell_type": "code",
   "execution_count": 4,
   "id": "7370427d",
   "metadata": {},
   "outputs": [],
   "source": [
    "import scipy.special as sc"
   ]
  },
  {
   "cell_type": "code",
   "execution_count": 5,
   "id": "32e7d4f5",
   "metadata": {},
   "outputs": [
    {
     "data": {
      "text/plain": [
       "0.008349277381922827"
      ]
     },
     "execution_count": 5,
     "metadata": {},
     "output_type": "execute_result"
    }
   ],
   "source": [
    "sc.zetac(7)"
   ]
  },
  {
   "cell_type": "code",
   "execution_count": 6,
   "id": "98be3f95",
   "metadata": {},
   "outputs": [],
   "source": [
    "from itertools import count, islice\n",
    "def binom(n, k):\n",
    "    v = 1\n",
    "    for i in range(k):\n",
    "        v *= (n - i) / (i + 1)\n",
    "    return v\n",
    "\n",
    "\n",
    "def zeta(s, t=100):\n",
    "    if s == 1: return complex(\"inf\")\n",
    "    term = (1 / 2 ** (n + 1) * sum((-1) ** k * binom(n, k) * (k + 1) ** -s \n",
    "                                   for k in range(n + 1)) for n in count(0))\n",
    "    return sum(islice(term, t)) / (1 - 2 ** (1 - s))"
   ]
  },
  {
   "cell_type": "code",
   "execution_count": 7,
   "id": "3fa269ed",
   "metadata": {},
   "outputs": [],
   "source": [
    "def zetac(x):\n",
    "    return zeta(x)-1"
   ]
  },
  {
   "cell_type": "code",
   "execution_count": 8,
   "id": "b8b37d7a",
   "metadata": {},
   "outputs": [
    {
     "data": {
      "text/plain": [
       "0.008349277381922482"
      ]
     },
     "execution_count": 8,
     "metadata": {},
     "output_type": "execute_result"
    }
   ],
   "source": [
    "zetac(7)"
   ]
  },
  {
   "cell_type": "markdown",
   "id": "82ea2017",
   "metadata": {},
   "source": [
    "https://keisan.casio.com/exec/system/1180573439"
   ]
  },
  {
   "cell_type": "code",
   "execution_count": null,
   "id": "3b7dcedd",
   "metadata": {},
   "outputs": [],
   "source": []
  }
 ],
 "metadata": {
  "kernelspec": {
   "display_name": "Python 3 (ipykernel)",
   "language": "python",
   "name": "python3"
  },
  "language_info": {
   "codemirror_mode": {
    "name": "ipython",
    "version": 3
   },
   "file_extension": ".py",
   "mimetype": "text/x-python",
   "name": "python",
   "nbconvert_exporter": "python",
   "pygments_lexer": "ipython3",
   "version": "3.9.12"
  }
 },
 "nbformat": 4,
 "nbformat_minor": 5
}
