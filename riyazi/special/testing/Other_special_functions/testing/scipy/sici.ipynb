{
 "cells": [
  {
   "cell_type": "markdown",
   "id": "c134eeec",
   "metadata": {},
   "source": [
    "### Sine and cosine integrals."
   ]
  },
  {
   "cell_type": "code",
   "execution_count": 1,
   "id": "4cd2aacc",
   "metadata": {},
   "outputs": [],
   "source": [
    "import scipy.special as sc"
   ]
  },
  {
   "cell_type": "code",
   "execution_count": 2,
   "id": "326cc295",
   "metadata": {},
   "outputs": [
    {
     "data": {
      "text/plain": [
       "(1.549931244944674, -0.1900297496566439)"
      ]
     },
     "execution_count": 2,
     "metadata": {},
     "output_type": "execute_result"
    }
   ],
   "source": [
    "sc.sici(5)"
   ]
  },
  {
   "cell_type": "code",
   "execution_count": 3,
   "id": "0585c884",
   "metadata": {},
   "outputs": [],
   "source": [
    "import math "
   ]
  },
  {
   "cell_type": "code",
   "execution_count": 7,
   "id": "dd0515aa",
   "metadata": {},
   "outputs": [
    {
     "data": {
      "text/plain": [
       "-2.5297192746631385"
      ]
     },
     "execution_count": 7,
     "metadata": {},
     "output_type": "execute_result"
    }
   ],
   "source": [
    "math.sin(5) - (0.5*3.14159)"
   ]
  },
  {
   "cell_type": "code",
   "execution_count": 1,
   "id": "aad2377a",
   "metadata": {},
   "outputs": [],
   "source": [
    "import cmath"
   ]
  },
  {
   "cell_type": "code",
   "execution_count": 2,
   "id": "cfbf04bd",
   "metadata": {},
   "outputs": [],
   "source": [
    "from math import pi \n",
    "def si(z):\n",
    "    return cmath.sin(z)- (0.5*pi)"
   ]
  },
  {
   "cell_type": "code",
   "execution_count": 3,
   "id": "c7df6825",
   "metadata": {},
   "outputs": [
    {
     "data": {
      "text/plain": [
       "(-2.529720601458035+0j)"
      ]
     },
     "execution_count": 3,
     "metadata": {},
     "output_type": "execute_result"
    }
   ],
   "source": [
    "si(5)"
   ]
  },
  {
   "cell_type": "code",
   "execution_count": null,
   "id": "9fdb2ac4",
   "metadata": {},
   "outputs": [],
   "source": []
  },
  {
   "cell_type": "code",
   "execution_count": null,
   "id": "78fc2ce7",
   "metadata": {},
   "outputs": [],
   "source": []
  },
  {
   "cell_type": "code",
   "execution_count": null,
   "id": "4d7af0a1",
   "metadata": {},
   "outputs": [],
   "source": []
  }
 ],
 "metadata": {
  "kernelspec": {
   "display_name": "Python 3 (ipykernel)",
   "language": "python",
   "name": "python3"
  },
  "language_info": {
   "codemirror_mode": {
    "name": "ipython",
    "version": 3
   },
   "file_extension": ".py",
   "mimetype": "text/x-python",
   "name": "python",
   "nbconvert_exporter": "python",
   "pygments_lexer": "ipython3",
   "version": "3.9.12"
  }
 },
 "nbformat": 4,
 "nbformat_minor": 5
}
