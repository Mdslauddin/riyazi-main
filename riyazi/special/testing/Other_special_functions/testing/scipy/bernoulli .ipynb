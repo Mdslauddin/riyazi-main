{
 "cells": [
  {
   "cell_type": "markdown",
   "id": "6884ec38",
   "metadata": {},
   "source": [
    "### \tBernoulli numbers B0..Bn (inclusive)."
   ]
  },
  {
   "cell_type": "code",
   "execution_count": 1,
   "id": "59429e83",
   "metadata": {},
   "outputs": [
    {
     "data": {
      "text/plain": [
       "array([ 1.        , -0.5       ,  0.16666667,  0.        , -0.03333333])"
      ]
     },
     "execution_count": 1,
     "metadata": {},
     "output_type": "execute_result"
    }
   ],
   "source": [
    "from scipy.special import bernoulli, zeta\n",
    "bernoulli(4)"
   ]
  },
  {
   "cell_type": "code",
   "execution_count": 2,
   "id": "f15ae1be",
   "metadata": {},
   "outputs": [],
   "source": [
    "import numpy as np "
   ]
  },
  {
   "cell_type": "code",
   "execution_count": 3,
   "id": "5a225740",
   "metadata": {},
   "outputs": [
    {
     "data": {
      "text/plain": [
       "array([ 0.5       ,  0.16666667, -0.        , -0.03333333])"
      ]
     },
     "execution_count": 3,
     "metadata": {},
     "output_type": "execute_result"
    }
   ],
   "source": [
    "n = np.arange(1, 5)\n",
    "-n * zeta(1 - n)"
   ]
  },
  {
   "cell_type": "code",
   "execution_count": null,
   "id": "e4772499",
   "metadata": {},
   "outputs": [],
   "source": [
    "def bernoulli_number2 ( n ):\n",
    "    from math import exp,log\n",
    "    import numpy as np\n",
    "\n",
    "    r8_pi = 3.141592653589793\n",
    "    kmax = 400\n",
    "    tol = 1.0E-06\n",
    "\n",
    "    b = np.zeros ( n + 1 )\n",
    "\n",
    "    b[0] = 1.0\n",
    "\n",
    "    if ( n < 1 ):\n",
    "        return b\n",
    "\n",
    "    b[1] = -0.5\n",
    "\n",
    "    if ( n < 2 ):\n",
    "        return b\n",
    "\n",
    "    altpi = log ( 2.0 * r8_pi )\n",
    "#\n",
    "#  Initial estimates for B(I), I = 2 to N\n",
    "#\n",
    "    b[2] = log ( 2.0 );\n",
    "    for i in range ( 3, n + 1 ):\n",
    "        if ( ( i % 2 ) == 1 ):\n",
    "            b[i] = 0.0\n",
    "        else:\n",
    "            b[i] = log ( i * ( i - 1 ) ) + b[i-2]\n",
    "\n",
    "  b[2] = 1.0 / 6.0\n",
    "\n",
    "  if ( n <= 3 ):\n",
    "    return b\n",
    "\n",
    "  b[4] = - 1.0 / 30.0\n",
    "\n",
    "  sgn = -1.0\n",
    " \n",
    "  for i in range ( 6, n + 1, 2 ):\n",
    " \n",
    "    sgn = -sgn\n",
    "    t = 2.0 * sgn * exp ( b[i] - i * altpi )\n",
    " \n",
    "    sum2 = 1.0\n",
    "\n",
    "    for k in range ( 2, kmax + 1 ):\n",
    "\n",
    "      term = 1.0 / ( k ** i )\n",
    "      sum2 = sum2 + term\n",
    "\n",
    "      if ( term <= tol * sum2 ):\n",
    "        break\n",
    " \n",
    "    b[i] = t * sum2\n",
    " \n",
    "  return b\n"
   ]
  },
  {
   "cell_type": "code",
   "execution_count": 1,
   "id": "01be0cd4",
   "metadata": {},
   "outputs": [],
   "source": [
    "def bernouli(n):\n",
    "    if not isscalar(n) or (n < 0):\n",
    "        raise ValueError(\"n must be a non-negative integer.\")\n",
    "    n = int(n)\n",
    "    if (n < 2):\n",
    "        n1 = 2\n",
    "    else:\n",
    "        n1 = n\n",
    "    return _specfun.bernob(int(n1))[:(n+1)]"
   ]
  },
  {
   "cell_type": "code",
   "execution_count": 10,
   "id": "1b1e99e4",
   "metadata": {},
   "outputs": [],
   "source": [
    "from decimal import *\n",
    "import math\n",
    "from math import factorial,pi"
   ]
  },
  {
   "cell_type": "code",
   "execution_count": 11,
   "id": "91bbf6f4",
   "metadata": {},
   "outputs": [],
   "source": [
    "def prime_sieve(n):\n",
    "    prime_list = []\n",
    "    res = []\n",
    "    for i in range(2, n+1):\n",
    "        if i not in prime_list:\n",
    "            res.append(i)\n",
    "            for j in range(i*i, n+1, i):\n",
    "                prime_list.append(j)\n",
    "    return res\n"
   ]
  },
  {
   "cell_type": "code",
   "execution_count": 12,
   "id": "dcb12d2f",
   "metadata": {},
   "outputs": [],
   "source": [
    "def b(n):\n",
    "    if n == 0:\n",
    "        return 1\n",
    "    elif n == 1:\n",
    "        return 0.5\n",
    "    elif (n-1)%2 == 0:\n",
    "        return 0\n",
    "    else:\n",
    "        K = 2*factorial(n)*1/Decimal((2*pi)**(n))\n",
    "        \n",
    "        primes = prime_sieve(n+1)\n",
    "        d = Decimal(1)\n",
    "        for p in primes:\n",
    "            if n%(p-1)==0:\n",
    "                d *= p\n",
    "        \n",
    "        N = math.ceil((K*d)**(Decimal(1.0/(n-1))))\n",
    "        \n",
    "        z = Decimal(1) \n",
    "        for p in primes:\n",
    "            if p <= N:\n",
    "                z *= 1/(1-1/(Decimal(p)**n))\n",
    "        \n",
    "        a = (-1)**(n/2+1)*Decimal(d*K*z)\n",
    "        a = a.to_integral_exact(rounding=ROUND_HALF_EVEN)\n",
    "        if a == 0:\n",
    "            a = (-1)**(n/2+1) \n",
    "        print(a)    # Print numerator\n",
    "        print(d)    # Print denominator\n",
    "        return a/d"
   ]
  },
  {
   "cell_type": "code",
   "execution_count": 13,
   "id": "c39792c4",
   "metadata": {},
   "outputs": [
    {
     "ename": "TypeError",
     "evalue": "unsupported operand type(s) for *: 'float' and 'decimal.Decimal'",
     "output_type": "error",
     "traceback": [
      "\u001b[1;31m---------------------------------------------------------------------------\u001b[0m",
      "\u001b[1;31mTypeError\u001b[0m                                 Traceback (most recent call last)",
      "Input \u001b[1;32mIn [13]\u001b[0m, in \u001b[0;36m<cell line: 1>\u001b[1;34m()\u001b[0m\n\u001b[1;32m----> 1\u001b[0m \u001b[43mb\u001b[49m\u001b[43m(\u001b[49m\u001b[38;5;241;43m4\u001b[39;49m\u001b[43m)\u001b[49m\n",
      "Input \u001b[1;32mIn [12]\u001b[0m, in \u001b[0;36mb\u001b[1;34m(n)\u001b[0m\n\u001b[0;32m     21\u001b[0m     \u001b[38;5;28;01mif\u001b[39;00m p \u001b[38;5;241m<\u001b[39m\u001b[38;5;241m=\u001b[39m N:\n\u001b[0;32m     22\u001b[0m         z \u001b[38;5;241m*\u001b[39m\u001b[38;5;241m=\u001b[39m \u001b[38;5;241m1\u001b[39m\u001b[38;5;241m/\u001b[39m(\u001b[38;5;241m1\u001b[39m\u001b[38;5;241m-\u001b[39m\u001b[38;5;241m1\u001b[39m\u001b[38;5;241m/\u001b[39m(Decimal(p)\u001b[38;5;241m*\u001b[39m\u001b[38;5;241m*\u001b[39mn))\n\u001b[1;32m---> 24\u001b[0m a \u001b[38;5;241m=\u001b[39m \u001b[43m(\u001b[49m\u001b[38;5;241;43m-\u001b[39;49m\u001b[38;5;241;43m1\u001b[39;49m\u001b[43m)\u001b[49m\u001b[38;5;241;43m*\u001b[39;49m\u001b[38;5;241;43m*\u001b[39;49m\u001b[43m(\u001b[49m\u001b[43mn\u001b[49m\u001b[38;5;241;43m/\u001b[39;49m\u001b[38;5;241;43m2\u001b[39;49m\u001b[38;5;241;43m+\u001b[39;49m\u001b[38;5;241;43m1\u001b[39;49m\u001b[43m)\u001b[49m\u001b[38;5;241;43m*\u001b[39;49m\u001b[43mDecimal\u001b[49m\u001b[43m(\u001b[49m\u001b[43md\u001b[49m\u001b[38;5;241;43m*\u001b[39;49m\u001b[43mK\u001b[49m\u001b[38;5;241;43m*\u001b[39;49m\u001b[43mz\u001b[49m\u001b[43m)\u001b[49m\n\u001b[0;32m     25\u001b[0m a \u001b[38;5;241m=\u001b[39m a\u001b[38;5;241m.\u001b[39mto_integral_exact(rounding\u001b[38;5;241m=\u001b[39mROUND_HALF_EVEN)\n\u001b[0;32m     26\u001b[0m \u001b[38;5;28;01mif\u001b[39;00m a \u001b[38;5;241m==\u001b[39m \u001b[38;5;241m0\u001b[39m:\n",
      "\u001b[1;31mTypeError\u001b[0m: unsupported operand type(s) for *: 'float' and 'decimal.Decimal'"
     ]
    }
   ],
   "source": [
    "b(4)"
   ]
  },
  {
   "cell_type": "markdown",
   "id": "1aba8c28",
   "metadata": {},
   "source": [
    "https://math.stackexchange.com/questions/2844290/what-is-the-simplest-way-to-get-bernoulli-numbers"
   ]
  },
  {
   "cell_type": "code",
   "execution_count": null,
   "id": "10f0e65a",
   "metadata": {},
   "outputs": [],
   "source": []
  }
 ],
 "metadata": {
  "kernelspec": {
   "display_name": "Python 3 (ipykernel)",
   "language": "python",
   "name": "python3"
  },
  "language_info": {
   "codemirror_mode": {
    "name": "ipython",
    "version": 3
   },
   "file_extension": ".py",
   "mimetype": "text/x-python",
   "name": "python",
   "nbconvert_exporter": "python",
   "pygments_lexer": "ipython3",
   "version": "3.9.12"
  }
 },
 "nbformat": 4,
 "nbformat_minor": 5
}
