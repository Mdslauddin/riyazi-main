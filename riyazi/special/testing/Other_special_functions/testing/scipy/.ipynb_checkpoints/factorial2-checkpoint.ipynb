{
 "cells": [
  {
   "cell_type": "markdown",
   "id": "ac6e770c",
   "metadata": {},
   "source": [
    "### Double factorial."
   ]
  },
  {
   "cell_type": "code",
   "execution_count": 1,
   "id": "0dd4b7ea",
   "metadata": {},
   "outputs": [
    {
     "data": {
      "text/plain": [
       "array(105.)"
      ]
     },
     "execution_count": 1,
     "metadata": {},
     "output_type": "execute_result"
    }
   ],
   "source": [
    "from scipy.special import factorial2\n",
    "factorial2(7, exact=False)"
   ]
  },
  {
   "cell_type": "code",
   "execution_count": 4,
   "id": "14943030",
   "metadata": {},
   "outputs": [
    {
     "data": {
      "text/plain": [
       "array(384.)"
      ]
     },
     "execution_count": 4,
     "metadata": {},
     "output_type": "execute_result"
    }
   ],
   "source": [
    "factorial2(8)"
   ]
  },
  {
   "cell_type": "code",
   "execution_count": 2,
   "id": "2b0f91c6",
   "metadata": {},
   "outputs": [],
   "source": [
    "def double_factorial(num: int) -> int:\n",
    "    \"\"\"\n",
    "    Compute double factorial using iterative method.\n",
    "    To learn about the theory behind this algorithm:\n",
    "    https://en.wikipedia.org/wiki/Double_factorial\n",
    "    >>> import math\n",
    "    >>> all(double_factorial(i) == math.prod(range(i, 0, -2)) for i in range(20))\n",
    "    True\n",
    "    >>> double_factorial(0.1)\n",
    "    Traceback (most recent call last):\n",
    "        ...\n",
    "    ValueError: double_factorial() only accepts integral values\n",
    "    >>> double_factorial(-1)\n",
    "    Traceback (most recent call last):\n",
    "        ...\n",
    "    ValueError: double_factorial() not defined for negative values\n",
    "    \"\"\"\n",
    "    if not isinstance(num, int):\n",
    "        raise ValueError(\"double_factorial() only accepts integral values\")\n",
    "    if num < 0:\n",
    "        raise ValueError(\"double_factorial() not defined for negative values\")\n",
    "    value = 1\n",
    "    for i in range(num, 0, -2):\n",
    "        value *= i\n",
    "    return value"
   ]
  },
  {
   "cell_type": "code",
   "execution_count": 3,
   "id": "ac4505de",
   "metadata": {},
   "outputs": [
    {
     "data": {
      "text/plain": [
       "105"
      ]
     },
     "execution_count": 3,
     "metadata": {},
     "output_type": "execute_result"
    }
   ],
   "source": [
    "double_factorial(7)"
   ]
  },
  {
   "cell_type": "code",
   "execution_count": 5,
   "id": "171dbc1d",
   "metadata": {},
   "outputs": [
    {
     "data": {
      "text/plain": [
       "384"
      ]
     },
     "execution_count": 5,
     "metadata": {},
     "output_type": "execute_result"
    }
   ],
   "source": [
    "double_factorial(8)"
   ]
  },
  {
   "cell_type": "markdown",
   "id": "8ffb5c0c",
   "metadata": {},
   "source": [
    "https://github.com/TheAlgorithms/Python/blob/master/maths/double_factorial_iterative.py"
   ]
  },
  {
   "cell_type": "code",
   "execution_count": 7,
   "id": "44811a2b",
   "metadata": {},
   "outputs": [],
   "source": [
    "from numpy import (pi, asarray, floor, isscalar, iscomplex, real,\n",
    "                   imag, sqrt, where, mgrid, sin, place, issubdtype,\n",
    "                   extract, inexact, nan, zeros, sinc)"
   ]
  },
  {
   "cell_type": "code",
   "execution_count": null,
   "id": "88dfdb10",
   "metadata": {},
   "outputs": [],
   "source": []
  },
  {
   "cell_type": "code",
   "execution_count": null,
   "id": "ff33deb2",
   "metadata": {},
   "outputs": [],
   "source": []
  },
  {
   "cell_type": "code",
   "execution_count": null,
   "id": "48b53b0a",
   "metadata": {},
   "outputs": [],
   "source": []
  },
  {
   "cell_type": "code",
   "execution_count": null,
   "id": "287c1627",
   "metadata": {},
   "outputs": [],
   "source": []
  },
  {
   "cell_type": "code",
   "execution_count": null,
   "id": "ebdc080c",
   "metadata": {},
   "outputs": [],
   "source": []
  },
  {
   "cell_type": "code",
   "execution_count": null,
   "id": "bf6402e0",
   "metadata": {},
   "outputs": [],
   "source": []
  },
  {
   "cell_type": "code",
   "execution_count": 6,
   "id": "ff0c7965",
   "metadata": {},
   "outputs": [],
   "source": [
    "def factorial2(n, exact=False):\n",
    "    \"\"\"Double factorial.\n",
    "    This is the factorial with every second value skipped.  E.g., ``7!! = 7 * 5\n",
    "    * 3 * 1``.  It can be approximated numerically as::\n",
    "      n!! = special.gamma(n/2+1)*2**((m+1)/2)/sqrt(pi)  n odd\n",
    "          = 2**(n/2) * (n/2)!                           n even\n",
    "    Parameters\n",
    "    ----------\n",
    "    n : int or array_like\n",
    "        Calculate ``n!!``.  Arrays are only supported with `exact` set\n",
    "        to False. If ``n < -1``, the return value is 0.\n",
    "        Otherwise if ``n <= 0``, the return value is 1.\n",
    "    exact : bool, optional\n",
    "        The result can be approximated rapidly using the gamma-formula\n",
    "        above (default).  If `exact` is set to True, calculate the\n",
    "        answer exactly using integer arithmetic.\n",
    "    Returns\n",
    "    -------\n",
    "    nff : float or int\n",
    "        Double factorial of `n`, as an int or a float depending on\n",
    "        `exact`.\n",
    "    Examples\n",
    "    --------\n",
    "    >>> from scipy.special import factorial2\n",
    "    >>> factorial2(7, exact=False)\n",
    "    array(105.00000000000001)\n",
    "    >>> factorial2(7, exact=True)\n",
    "    105\n",
    "    \"\"\"\n",
    "    if exact:\n",
    "        if n < -1:\n",
    "            return 0\n",
    "        if n <= 0:\n",
    "            return 1\n",
    "        val = 1\n",
    "        for k in range(n, 0, -2):\n",
    "            val *= k\n",
    "        return val\n",
    "    else:\n",
    "        n = asarray(n)\n",
    "        vals = zeros(n.shape, 'd')\n",
    "        cond1 = (n % 2) & (n >= -1)\n",
    "        cond2 = (1-(n % 2)) & (n >= -1)\n",
    "        oddn = extract(cond1, n)\n",
    "        evenn = extract(cond2, n)\n",
    "        nd2o = oddn / 2.0\n",
    "        nd2e = evenn / 2.0\n",
    "        place(vals, cond1, gamma(nd2o + 1) / sqrt(pi) * pow(2.0, nd2o + 0.5))\n",
    "        place(vals, cond2, gamma(nd2e + 1) * pow(2.0, nd2e))\n",
    "        return vals"
   ]
  },
  {
   "cell_type": "code",
   "execution_count": null,
   "id": "1676c059",
   "metadata": {},
   "outputs": [],
   "source": []
  }
 ],
 "metadata": {
  "kernelspec": {
   "display_name": "Python 3 (ipykernel)",
   "language": "python",
   "name": "python3"
  },
  "language_info": {
   "codemirror_mode": {
    "name": "ipython",
    "version": 3
   },
   "file_extension": ".py",
   "mimetype": "text/x-python",
   "name": "python",
   "nbconvert_exporter": "python",
   "pygments_lexer": "ipython3",
   "version": "3.9.12"
  }
 },
 "nbformat": 4,
 "nbformat_minor": 5
}
