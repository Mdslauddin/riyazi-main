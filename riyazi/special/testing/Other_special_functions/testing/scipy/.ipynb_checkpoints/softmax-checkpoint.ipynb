{
 "cells": [
  {
   "cell_type": "markdown",
   "id": "b3a123c3",
   "metadata": {},
   "source": [
    "### Compute the softmax function."
   ]
  },
  {
   "cell_type": "code",
   "execution_count": 1,
   "id": "7eac80c8",
   "metadata": {},
   "outputs": [],
   "source": [
    "import scipy.special as sc"
   ]
  },
  {
   "cell_type": "code",
   "execution_count": 7,
   "id": "fc336516",
   "metadata": {},
   "outputs": [
    {
     "data": {
      "text/plain": [
       "array([4.77928197e-05, 4.74236066e-02, 9.52528601e-01])"
      ]
     },
     "execution_count": 7,
     "metadata": {},
     "output_type": "execute_result"
    }
   ],
   "source": [
    "sc.softmax([-0.9,6,9])"
   ]
  },
  {
   "cell_type": "code",
   "execution_count": 3,
   "id": "752be7b1",
   "metadata": {},
   "outputs": [],
   "source": [
    "import numpy as np "
   ]
  },
  {
   "cell_type": "code",
   "execution_count": 8,
   "id": "ce280edd",
   "metadata": {},
   "outputs": [],
   "source": [
    "def softmax(x):\n",
    "    return np.exp(x)/sum(np.exp(x))"
   ]
  },
  {
   "cell_type": "code",
   "execution_count": 9,
   "id": "5350484f",
   "metadata": {},
   "outputs": [
    {
     "data": {
      "text/plain": [
       "array([4.77928197e-05, 4.74236066e-02, 9.52528601e-01])"
      ]
     },
     "execution_count": 9,
     "metadata": {},
     "output_type": "execute_result"
    }
   ],
   "source": [
    "softmax([-0.9,6,9])"
   ]
  },
  {
   "cell_type": "code",
   "execution_count": null,
   "id": "8432b5d7",
   "metadata": {},
   "outputs": [],
   "source": []
  }
 ],
 "metadata": {
  "kernelspec": {
   "display_name": "Python 3 (ipykernel)",
   "language": "python",
   "name": "python3"
  },
  "language_info": {
   "codemirror_mode": {
    "name": "ipython",
    "version": 3
   },
   "file_extension": ".py",
   "mimetype": "text/x-python",
   "name": "python",
   "nbconvert_exporter": "python",
   "pygments_lexer": "ipython3",
   "version": "3.9.12"
  }
 },
 "nbformat": 4,
 "nbformat_minor": 5
}
