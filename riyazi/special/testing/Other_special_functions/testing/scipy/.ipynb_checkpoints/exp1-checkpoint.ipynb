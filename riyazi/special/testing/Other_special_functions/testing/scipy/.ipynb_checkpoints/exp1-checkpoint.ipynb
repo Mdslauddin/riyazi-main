{
 "cells": [
  {
   "cell_type": "markdown",
   "id": "29fdb45b",
   "metadata": {},
   "source": [
    "### Exponential integral E1."
   ]
  },
  {
   "cell_type": "code",
   "execution_count": 1,
   "id": "fe076666",
   "metadata": {},
   "outputs": [],
   "source": [
    "import scipy.special as sc"
   ]
  },
  {
   "cell_type": "code",
   "execution_count": 2,
   "id": "29e9f028",
   "metadata": {},
   "outputs": [
    {
     "data": {
      "text/plain": [
       "inf"
      ]
     },
     "execution_count": 2,
     "metadata": {},
     "output_type": "execute_result"
    }
   ],
   "source": [
    "sc.exp1(0)"
   ]
  },
  {
   "cell_type": "code",
   "execution_count": 3,
   "id": "2a4ae7fc",
   "metadata": {},
   "outputs": [
    {
     "data": {
      "text/plain": [
       "nan"
      ]
     },
     "execution_count": 3,
     "metadata": {},
     "output_type": "execute_result"
    }
   ],
   "source": [
    "sc.exp1(-1)"
   ]
  },
  {
   "cell_type": "code",
   "execution_count": 4,
   "id": "f788c8df",
   "metadata": {},
   "outputs": [
    {
     "data": {
      "text/plain": [
       "(-1.8951178163559368-3.141592653589793j)"
      ]
     },
     "execution_count": 4,
     "metadata": {},
     "output_type": "execute_result"
    }
   ],
   "source": [
    "sc.exp1(complex(-1, 0))"
   ]
  },
  {
   "cell_type": "code",
   "execution_count": 5,
   "id": "57c751ee",
   "metadata": {},
   "outputs": [
    {
     "data": {
      "text/plain": [
       "(-1.8951178163559368+3.141592653589793j)"
      ]
     },
     "execution_count": 5,
     "metadata": {},
     "output_type": "execute_result"
    }
   ],
   "source": [
    "sc.exp1(complex(-1, -0.0))"
   ]
  },
  {
   "cell_type": "code",
   "execution_count": 6,
   "id": "e69b3216",
   "metadata": {},
   "outputs": [
    {
     "data": {
      "text/plain": [
       "array([2.19383934e-01, 4.15696893e-06, 3.68359776e-46, 0.00000000e+00])"
      ]
     },
     "execution_count": 6,
     "metadata": {},
     "output_type": "execute_result"
    }
   ],
   "source": [
    "sc.exp1([1, 10, 100, 1000])"
   ]
  },
  {
   "cell_type": "code",
   "execution_count": 9,
   "id": "b6d7cfef",
   "metadata": {},
   "outputs": [],
   "source": [
    "import numpy as np "
   ]
  },
  {
   "cell_type": "code",
   "execution_count": 10,
   "id": "9ad985f1",
   "metadata": {},
   "outputs": [
    {
     "data": {
      "text/plain": [
       "array([0.21938393, 0.04890051, 0.01304838, 0.00377935])"
      ]
     },
     "execution_count": 10,
     "metadata": {},
     "output_type": "execute_result"
    }
   ],
   "source": [
    "x = np.array([1, 2, 3, 4])\n",
    "sc.exp1(x)"
   ]
  },
  {
   "cell_type": "code",
   "execution_count": 11,
   "id": "91420964",
   "metadata": {},
   "outputs": [
    {
     "data": {
      "text/plain": [
       "array([0.21938393, 0.04890051, 0.01304838, 0.00377935])"
      ]
     },
     "execution_count": 11,
     "metadata": {},
     "output_type": "execute_result"
    }
   ],
   "source": [
    "-sc.expi(-x)"
   ]
  },
  {
   "cell_type": "code",
   "execution_count": null,
   "id": "406cff4b",
   "metadata": {},
   "outputs": [],
   "source": []
  },
  {
   "cell_type": "code",
   "execution_count": 12,
   "id": "cb9d56e8",
   "metadata": {},
   "outputs": [],
   "source": [
    "from scipy.integrate import quad"
   ]
  },
  {
   "cell_type": "code",
   "execution_count": 13,
   "id": "32e0be31",
   "metadata": {},
   "outputs": [],
   "source": [
    "def Ei_2(x, minfloat=1e-7, maxfloat=10000):\n",
    "    \"\"\"Ei integral function.\"\"\"\n",
    "    minfloat = min(np.abs(x), minfloat)\n",
    "    maxfloat = max(np.abs(x), maxfloat)\n",
    "    def f(t):\n",
    "        return np.exp(-t) / t\n",
    "    if x > 0:\n",
    "        return -1.0 * (quad(f, -x, -minfloat)[0] + quad(f, minfloat, maxfloat)[0])\n",
    "    else:\n",
    "        return -1.0 * quad(f, -x, maxfloat)[0]"
   ]
  },
  {
   "cell_type": "code",
   "execution_count": 14,
   "id": "9cabb512",
   "metadata": {},
   "outputs": [
    {
     "data": {
      "text/plain": [
       "1.8951176163559538"
      ]
     },
     "execution_count": 14,
     "metadata": {},
     "output_type": "execute_result"
    }
   ],
   "source": [
    "Ei_2(1)"
   ]
  },
  {
   "cell_type": "code",
   "execution_count": null,
   "id": "d4b2c325",
   "metadata": {},
   "outputs": [],
   "source": []
  }
 ],
 "metadata": {
  "kernelspec": {
   "display_name": "Python 3 (ipykernel)",
   "language": "python",
   "name": "python3"
  },
  "language_info": {
   "codemirror_mode": {
    "name": "ipython",
    "version": 3
   },
   "file_extension": ".py",
   "mimetype": "text/x-python",
   "name": "python",
   "nbconvert_exporter": "python",
   "pygments_lexer": "ipython3",
   "version": "3.9.12"
  }
 },
 "nbformat": 4,
 "nbformat_minor": 5
}
