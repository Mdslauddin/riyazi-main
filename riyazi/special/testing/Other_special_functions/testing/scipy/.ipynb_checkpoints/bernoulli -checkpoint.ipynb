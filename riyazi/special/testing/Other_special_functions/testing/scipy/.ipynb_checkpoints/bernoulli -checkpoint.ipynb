{
 "cells": [
  {
   "cell_type": "markdown",
   "id": "6884ec38",
   "metadata": {},
   "source": [
    "### \tBernoulli numbers B0..Bn (inclusive)."
   ]
  },
  {
   "cell_type": "code",
   "execution_count": 1,
   "id": "59429e83",
   "metadata": {},
   "outputs": [
    {
     "data": {
      "text/plain": [
       "array([ 1.        , -0.5       ,  0.16666667,  0.        , -0.03333333])"
      ]
     },
     "execution_count": 1,
     "metadata": {},
     "output_type": "execute_result"
    }
   ],
   "source": [
    "from scipy.special import bernoulli, zeta\n",
    "bernoulli(4)"
   ]
  },
  {
   "cell_type": "code",
   "execution_count": 2,
   "id": "f15ae1be",
   "metadata": {},
   "outputs": [],
   "source": [
    "import numpy as np "
   ]
  },
  {
   "cell_type": "code",
   "execution_count": 3,
   "id": "5a225740",
   "metadata": {},
   "outputs": [
    {
     "data": {
      "text/plain": [
       "array([ 0.5       ,  0.16666667, -0.        , -0.03333333])"
      ]
     },
     "execution_count": 3,
     "metadata": {},
     "output_type": "execute_result"
    }
   ],
   "source": [
    "n = np.arange(1, 5)\n",
    "-n * zeta(1 - n)"
   ]
  },
  {
   "cell_type": "code",
   "execution_count": null,
   "id": "e4772499",
   "metadata": {},
   "outputs": [],
   "source": [
    "def bernoulli_number2 ( n ):\n",
    "    from math import exp,log\n",
    "    import numpy as np\n",
    "\n",
    "    r8_pi = 3.141592653589793\n",
    "    kmax = 400\n",
    "    tol = 1.0E-06\n",
    "\n",
    "    b = np.zeros ( n + 1 )\n",
    "\n",
    "    b[0] = 1.0\n",
    "\n",
    "    if ( n < 1 ):\n",
    "        return b\n",
    "\n",
    "    b[1] = -0.5\n",
    "\n",
    "    if ( n < 2 ):\n",
    "        return b\n",
    "\n",
    "    altpi = log ( 2.0 * r8_pi )\n",
    "#\n",
    "#  Initial estimates for B(I), I = 2 to N\n",
    "#\n",
    "    b[2] = log ( 2.0 );\n",
    "    for i in range ( 3, n + 1 ):\n",
    "        if ( ( i % 2 ) == 1 ):\n",
    "            b[i] = 0.0\n",
    "        else:\n",
    "            b[i] = log ( i * ( i - 1 ) ) + b[i-2]\n",
    "\n",
    "  b[2] = 1.0 / 6.0\n",
    "\n",
    "  if ( n <= 3 ):\n",
    "    return b\n",
    "\n",
    "  b[4] = - 1.0 / 30.0\n",
    "\n",
    "  sgn = -1.0\n",
    " \n",
    "  for i in range ( 6, n + 1, 2 ):\n",
    " \n",
    "    sgn = -sgn\n",
    "    t = 2.0 * sgn * exp ( b[i] - i * altpi )\n",
    " \n",
    "    sum2 = 1.0\n",
    "\n",
    "    for k in range ( 2, kmax + 1 ):\n",
    "\n",
    "      term = 1.0 / ( k ** i )\n",
    "      sum2 = sum2 + term\n",
    "\n",
    "      if ( term <= tol * sum2 ):\n",
    "        break\n",
    " \n",
    "    b[i] = t * sum2\n",
    " \n",
    "  return b\n"
   ]
  },
  {
   "cell_type": "code",
   "execution_count": 1,
   "id": "01be0cd4",
   "metadata": {},
   "outputs": [],
   "source": [
    "def bernouli(n):\n",
    "    if not isscalar(n) or (n < 0):\n",
    "        raise ValueError(\"n must be a non-negative integer.\")\n",
    "    n = int(n)\n",
    "    if (n < 2):\n",
    "        n1 = 2\n",
    "    else:\n",
    "        n1 = n\n",
    "    return _specfun.bernob(int(n1))[:(n+1)]"
   ]
  },
  {
   "cell_type": "code",
   "execution_count": null,
   "id": "1b1e99e4",
   "metadata": {},
   "outputs": [],
   "source": []
  },
  {
   "cell_type": "code",
   "execution_count": null,
   "id": "dcb12d2f",
   "metadata": {},
   "outputs": [],
   "source": []
  }
 ],
 "metadata": {
  "kernelspec": {
   "display_name": "Python 3 (ipykernel)",
   "language": "python",
   "name": "python3"
  },
  "language_info": {
   "codemirror_mode": {
    "name": "ipython",
    "version": 3
   },
   "file_extension": ".py",
   "mimetype": "text/x-python",
   "name": "python",
   "nbconvert_exporter": "python",
   "pygments_lexer": "ipython3",
   "version": "3.9.12"
  }
 },
 "nbformat": 4,
 "nbformat_minor": 5
}
