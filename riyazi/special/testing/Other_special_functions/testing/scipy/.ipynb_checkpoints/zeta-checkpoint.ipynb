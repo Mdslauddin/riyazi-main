{
 "cells": [
  {
   "cell_type": "markdown",
   "id": "2ec0d5b8",
   "metadata": {},
   "source": [
    "### Riemann or Hurwitz zeta function."
   ]
  },
  {
   "cell_type": "code",
   "execution_count": null,
   "id": "53893a5c",
   "metadata": {},
   "outputs": [],
   "source": [
    "from scipy.special import zeta, polygamma, factorial"
   ]
  },
  {
   "cell_type": "code",
   "execution_count": null,
   "id": "7820a36b",
   "metadata": {},
   "outputs": [],
   "source": [
    "import numpy as np \n",
    "zeta(2), np.pi**2/6"
   ]
  },
  {
   "cell_type": "code",
   "execution_count": null,
   "id": "c8b1ec18",
   "metadata": {},
   "outputs": [],
   "source": [
    "zeta(4), np.pi**4/90"
   ]
  },
  {
   "cell_type": "code",
   "execution_count": null,
   "id": "0f4f1aec",
   "metadata": {},
   "outputs": [],
   "source": [
    "m = 3\n",
    "x = 1.25\n",
    "polygamma(m, x)"
   ]
  },
  {
   "cell_type": "code",
   "execution_count": null,
   "id": "a6c7e2ae",
   "metadata": {},
   "outputs": [],
   "source": [
    "(-1)**(m+1) * factorial(m) * zeta(m+1, x)"
   ]
  },
  {
   "cell_type": "code",
   "execution_count": null,
   "id": "3fc41149",
   "metadata": {},
   "outputs": [],
   "source": [
    "def zeta(x, q=None):\n",
    "        if q is None:\n",
    "            return _ufuncs._riemann_zeta(x)\n",
    "        else:\n",
    "            return _ufuncs._zeta(x, q)"
   ]
  },
  {
   "cell_type": "code",
   "execution_count": 9,
   "id": "d405c3bd",
   "metadata": {},
   "outputs": [],
   "source": [
    "from itertools import count, islice\n",
    "def binom(n, k):\n",
    "    v = 1\n",
    "    for i in range(k):\n",
    "        v *= (n - i) / (i + 1)\n",
    "    return v\n",
    "\n",
    "\n",
    "def zeta(s, t=100):\n",
    "    if s == 1: return complex(\"inf\")\n",
    "    term = (1 / 2 ** (n + 1) * sum((-1) ** k * binom(n, k) * (k + 1) ** -s \n",
    "                                   for k in range(n + 1)) for n in count(0))\n",
    "    return sum(islice(term, t)) / (1 - 2 ** (1 - s))"
   ]
  },
  {
   "cell_type": "code",
   "execution_count": 14,
   "id": "b46e2210",
   "metadata": {},
   "outputs": [
    {
     "data": {
      "text/plain": [
       "-0.5000919038861039"
      ]
     },
     "execution_count": 14,
     "metadata": {},
     "output_type": "execute_result"
    }
   ],
   "source": [
    "zeta(0.0001)"
   ]
  },
  {
   "cell_type": "code",
   "execution_count": 3,
   "id": "8f41eb57",
   "metadata": {},
   "outputs": [],
   "source": [
    "import scipy.special as sc"
   ]
  },
  {
   "cell_type": "code",
   "execution_count": 13,
   "id": "202e2e01",
   "metadata": {},
   "outputs": [
    {
     "data": {
      "text/plain": [
       "-0.5000919038861036"
      ]
     },
     "execution_count": 13,
     "metadata": {},
     "output_type": "execute_result"
    }
   ],
   "source": [
    "sc.zeta(0.0001)"
   ]
  },
  {
   "cell_type": "markdown",
   "id": "26d45a8d",
   "metadata": {},
   "source": [
    "https://gist.github.com/bellbind/529d283407e707ef3a52#file-zeta-plot-py"
   ]
  },
  {
   "cell_type": "markdown",
   "id": "085b369b",
   "metadata": {},
   "source": [
    "https://gist.github.com/Nikolaj-K/996dba1ff1045d767b10d4d07b1b032f`"
   ]
  },
  {
   "cell_type": "markdown",
   "id": "44f8074d",
   "metadata": {},
   "source": [
    "https://researchcode.com/code/1269628936/riemann-zeta-function/"
   ]
  },
  {
   "cell_type": "code",
   "execution_count": null,
   "id": "1d7dec7b",
   "metadata": {},
   "outputs": [],
   "source": [
    "import numpy as np\n",
    "\n",
    "def mzeta(x,q,N=100):\n",
    "    \n",
    "    s=0\n",
    "    \n",
    "    for j in np.arange(1,N):\n",
    "        \n",
    "        s+= 1./(1.*j+1.*q)**x\n",
    "        \n",
    "    return s\n",
    "\n",
    "\n",
    "for N in [100, 500, 1000, 5000, 15000]:\n",
    "    print mzeta(2.,0.,N), np.pi**2/ 6"
   ]
  },
  {
   "cell_type": "markdown",
   "id": "6199b09e",
   "metadata": {},
   "source": [
    "https://stackoverflow.com/questions/9354343/scipy-zeta-function-returns-wildly-large-value"
   ]
  },
  {
   "cell_type": "code",
   "execution_count": null,
   "id": "2b6b4d5e",
   "metadata": {},
   "outputs": [],
   "source": [
    "import numpy as np"
   ]
  },
  {
   "cell_type": "code",
   "execution_count": null,
   "id": "ffc8f994",
   "metadata": {},
   "outputs": [],
   "source": [
    "def mzeta(x,q,N=100):\n",
    "    s=0\n",
    "    for j in np.arange(1,N):\n",
    "        s += 1./(1.*1+1.0*q)**x\n",
    "    return s \n",
    "\n"
   ]
  },
  {
   "cell_type": "code",
   "execution_count": null,
   "id": "6a11f863",
   "metadata": {},
   "outputs": [],
   "source": [
    "for N in [100,500,1000,5000,15000]:\n",
    "    print (mzeta(2,0))"
   ]
  },
  {
   "cell_type": "markdown",
   "id": "bb865712",
   "metadata": {},
   "source": [
    "https://oeis.org/wiki/Riemann_%CE%B6_function"
   ]
  },
  {
   "cell_type": "code",
   "execution_count": null,
   "id": "dece28ab",
   "metadata": {},
   "outputs": [],
   "source": []
  }
 ],
 "metadata": {
  "kernelspec": {
   "display_name": "Python 3 (ipykernel)",
   "language": "python",
   "name": "python3"
  },
  "language_info": {
   "codemirror_mode": {
    "name": "ipython",
    "version": 3
   },
   "file_extension": ".py",
   "mimetype": "text/x-python",
   "name": "python",
   "nbconvert_exporter": "python",
   "pygments_lexer": "ipython3",
   "version": "3.9.12"
  }
 },
 "nbformat": 4,
 "nbformat_minor": 5
}
