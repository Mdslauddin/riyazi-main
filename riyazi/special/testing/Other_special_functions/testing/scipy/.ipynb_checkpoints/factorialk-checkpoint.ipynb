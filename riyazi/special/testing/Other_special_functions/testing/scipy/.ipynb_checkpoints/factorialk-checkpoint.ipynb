{
 "cells": [
  {
   "cell_type": "markdown",
   "id": "31465037",
   "metadata": {},
   "source": [
    "### Multifactorial of n of order k, n(!!...!)."
   ]
  },
  {
   "cell_type": "code",
   "execution_count": null,
   "id": "dc501029",
   "metadata": {},
   "outputs": [],
   "source": [
    "from scipy.special import factorialk\n",
    "factorialk(5, 1, exact=True)"
   ]
  },
  {
   "cell_type": "code",
   "execution_count": null,
   "id": "b33d441e",
   "metadata": {},
   "outputs": [],
   "source": [
    "factorialk(5, 3, exact=True)"
   ]
  },
  {
   "cell_type": "code",
   "execution_count": null,
   "id": "cf74bf61",
   "metadata": {},
   "outputs": [],
   "source": [
    "factorialk()"
   ]
  },
  {
   "cell_type": "code",
   "execution_count": 1,
   "id": "6bae85b3",
   "metadata": {},
   "outputs": [],
   "source": [
    "def factorialk(n, k, exact=True):\n",
    "    \n",
    "    if exact:\n",
    "        if n < 1-k:\n",
    "            return 0\n",
    "        if n <= 0:\n",
    "            return 1\n",
    "        val = 1\n",
    "        for j in range(n, 0, -k):\n",
    "            val = val*j\n",
    "        return val\n",
    "    else:\n",
    "        raise NotImplementedError"
   ]
  },
  {
   "cell_type": "code",
   "execution_count": 2,
   "id": "a59b52ac",
   "metadata": {},
   "outputs": [
    {
     "data": {
      "text/plain": [
       "120"
      ]
     },
     "execution_count": 2,
     "metadata": {},
     "output_type": "execute_result"
    }
   ],
   "source": [
    "factorialk(5,1)"
   ]
  },
  {
   "cell_type": "code",
   "execution_count": 3,
   "id": "5fad669f",
   "metadata": {},
   "outputs": [
    {
     "data": {
      "text/plain": [
       "10"
      ]
     },
     "execution_count": 3,
     "metadata": {},
     "output_type": "execute_result"
    }
   ],
   "source": [
    "factorialk(5,3)"
   ]
  },
  {
   "cell_type": "code",
   "execution_count": null,
   "id": "43fbfef8",
   "metadata": {},
   "outputs": [],
   "source": []
  },
  {
   "cell_type": "code",
   "execution_count": null,
   "id": "2a33b1cc",
   "metadata": {},
   "outputs": [],
   "source": []
  },
  {
   "cell_type": "code",
   "execution_count": null,
   "id": "88104e82",
   "metadata": {},
   "outputs": [],
   "source": []
  },
  {
   "cell_type": "code",
   "execution_count": null,
   "id": "e6052d2d",
   "metadata": {},
   "outputs": [],
   "source": []
  }
 ],
 "metadata": {
  "kernelspec": {
   "display_name": "Python 3 (ipykernel)",
   "language": "python",
   "name": "python3"
  },
  "language_info": {
   "codemirror_mode": {
    "name": "ipython",
    "version": 3
   },
   "file_extension": ".py",
   "mimetype": "text/x-python",
   "name": "python",
   "nbconvert_exporter": "python",
   "pygments_lexer": "ipython3",
   "version": "3.9.12"
  }
 },
 "nbformat": 4,
 "nbformat_minor": 5
}
