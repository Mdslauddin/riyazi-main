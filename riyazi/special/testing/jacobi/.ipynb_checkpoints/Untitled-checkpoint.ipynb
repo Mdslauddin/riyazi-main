{
 "cells": [
  {
   "cell_type": "code",
   "execution_count": 1,
   "id": "7796d025",
   "metadata": {},
   "outputs": [],
   "source": []
  },
  {
   "cell_type": "code",
   "execution_count": null,
   "id": "4f48460d",
   "metadata": {},
   "outputs": [],
   "source": [
    "def jacobi (A,B,x0,tol,n):\n",
    "    D=np.diagflat(np.diag(A))\n",
    "    LU=A-D\n",
    "    x=x0\n",
    "    for i in range(n):\n",
    "        D_inv=np.linalg.inv(D)\n",
    "        xtemp=x\n",
    "        x=np.dot(D_inv,np.dot(-LU,x))+np.dot(D_inv,B)\n",
    "        print(\"Iteración\",i+1,\":\",x)\n",
    "        if np.linalg.norm(x-xtemp)<tol:\n",
    "            return x\n",
    "    return x"
   ]
  }
 ],
 "metadata": {
  "kernelspec": {
   "display_name": "Python 3 (ipykernel)",
   "language": "python",
   "name": "python3"
  },
  "language_info": {
   "codemirror_mode": {
    "name": "ipython",
    "version": 3
   },
   "file_extension": ".py",
   "mimetype": "text/x-python",
   "name": "python",
   "nbconvert_exporter": "python",
   "pygments_lexer": "ipython3",
   "version": "3.9.12"
  }
 },
 "nbformat": 4,
 "nbformat_minor": 5
}
