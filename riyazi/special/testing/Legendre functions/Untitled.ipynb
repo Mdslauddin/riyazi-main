{
 "cells": [
  {
   "cell_type": "code",
   "execution_count": 1,
   "id": "48f21c55",
   "metadata": {},
   "outputs": [
    {
     "name": "stdout",
     "output_type": "stream",
     "text": [
      "The value of the polynomial at given point is: 305.0\n"
     ]
    }
   ],
   "source": [
    "# Legendre polynomial\n",
    "def P(n, x):\n",
    "\tif(n == 0):\n",
    "\t\treturn 1 # P0 = 1\n",
    "\telif(n == 1):\n",
    "\t\treturn x # P1 = x\n",
    "\telse:\n",
    "\t\treturn (((2 * n)-1)*x * P(n-1, x)-(n-1)*P(n-2, x))/float(n)\n",
    "\n",
    "# Suppose, we want to find the value of\n",
    "# 3rd order legendre polynomial at x = 5\n",
    "# We can display the value by--\n",
    "\n",
    "# Driver program\n",
    "n = 3\n",
    "X = 5\n",
    "print(\"The value of the polynomial at given point is:\", P(n, X))\n"
   ]
  },
  {
   "cell_type": "code",
   "execution_count": 3,
   "id": "19de10ef",
   "metadata": {},
   "outputs": [],
   "source": [
    "def legendre(x,n):\n",
    "    '''\n",
    "    Calcula o valor do polinômio de Legendre de qualquer grau utilizando a fórmula de Bonnet:\n",
    "    $$(n + 1) P_{n+1}(x) = (2n + 1) x P_n(x) - n P_{n-1}$$\n",
    "    ---------------------------------------------------------\n",
    "    Params:\n",
    "    \n",
    "    x: (float) Ponto da reta real no qual o polinômio será calculado.\n",
    "    n: (int) Grau do polinômio.\n",
    "    '''\n",
    "    if(n == 0):\n",
    "        return 1\n",
    "    elif(n == 1):\n",
    "        return x\n",
    "    else:\n",
    "        return ((2*n - 1)*x*legendre(x, n - 1) - (n - 1)*legendre(x, n - 2))/n"
   ]
  },
  {
   "cell_type": "markdown",
   "id": "c2cd48aa",
   "metadata": {},
   "source": [
    "https://hmanikantan.github.io/ECH60/"
   ]
  },
  {
   "cell_type": "code",
   "execution_count": 4,
   "id": "efc2c73e",
   "metadata": {},
   "outputs": [],
   "source": [
    "def heaviside(x):\n",
    "    return 1.0 * (x > 0)"
   ]
  },
  {
   "cell_type": "code",
   "execution_count": null,
   "id": "81ff489e",
   "metadata": {},
   "outputs": [],
   "source": []
  }
 ],
 "metadata": {
  "kernelspec": {
   "display_name": "Python 3 (ipykernel)",
   "language": "python",
   "name": "python3"
  },
  "language_info": {
   "codemirror_mode": {
    "name": "ipython",
    "version": 3
   },
   "file_extension": ".py",
   "mimetype": "text/x-python",
   "name": "python",
   "nbconvert_exporter": "python",
   "pygments_lexer": "ipython3",
   "version": "3.9.12"
  }
 },
 "nbformat": 4,
 "nbformat_minor": 5
}
