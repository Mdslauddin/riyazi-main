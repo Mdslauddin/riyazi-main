{
 "cells": [
  {
   "cell_type": "code",
   "execution_count": 1,
   "id": "dd0a69a0",
   "metadata": {},
   "outputs": [],
   "source": [
    "def mathieu_a():\n",
    "    pass\n",
    "\n",
    "def mathieu_b():\n",
    "    pass\n",
    "\n",
    "def mathieu_even_coef():\n",
    "    pass\n",
    "\n",
    "def mathieu_odd_coef():\n",
    "    pass\n",
    "\n",
    "def mathieu_cem():\n",
    "    pass\n",
    "\n",
    "def mathieu_sem():\n",
    "    pass\n",
    "\n",
    "def mathieu_modcem1():\n",
    "    pass\n",
    "\n",
    "def mathieu_modcem2():\n",
    "    pass\n",
    "\n",
    "def mathieu_modsem1():\n",
    "    pass\n",
    "\n",
    "def mathieu_modsem2():\n",
    "    pass"
   ]
  },
  {
   "cell_type": "code",
   "execution_count": null,
   "id": "69480b0e",
   "metadata": {},
   "outputs": [],
   "source": []
  }
 ],
 "metadata": {
  "kernelspec": {
   "display_name": "Python 3 (ipykernel)",
   "language": "python",
   "name": "python3"
  },
  "language_info": {
   "codemirror_mode": {
    "name": "ipython",
    "version": 3
   },
   "file_extension": ".py",
   "mimetype": "text/x-python",
   "name": "python",
   "nbconvert_exporter": "python",
   "pygments_lexer": "ipython3",
   "version": "3.9.12"
  }
 },
 "nbformat": 4,
 "nbformat_minor": 5
}
