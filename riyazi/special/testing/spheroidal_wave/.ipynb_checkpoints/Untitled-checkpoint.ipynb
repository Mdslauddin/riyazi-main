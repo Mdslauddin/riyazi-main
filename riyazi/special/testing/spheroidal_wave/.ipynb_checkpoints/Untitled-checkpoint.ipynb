{
 "cells": [
  {
   "cell_type": "code",
   "execution_count": null,
   "id": "f678758e",
   "metadata": {},
   "outputs": [],
   "source": [
    "def pro_ang1():\n",
    "    pass\n",
    "\n",
    "def pro_rad1():\n",
    "    pass\n",
    "\n",
    "def pro_rad2():\n",
    "    pass\n",
    "\n",
    "def ob1_ang1():\n",
    "    pass\n",
    "\n",
    "def ob1_rad1():\n",
    "    pass\n",
    "\n",
    "def ob1_rad2():\n",
    "    pass\n",
    "\n",
    "def pro_cv():\n",
    "    pass\n",
    "\n",
    "\n",
    "def bj1_cv():\n",
    "    pass\n",
    "\n",
    "def pro_cv_seq():\n",
    "    pass\n",
    "\n",
    "def ob1_cv_seq():\n",
    "    pass\n",
    "\n",
    "\n",
    "def pro_ang1_cv():\n",
    "    pass\n",
    "\n",
    "def pro_rad1_cv():\n",
    "    pass\n",
    "\n",
    "def pro_rad2_cv():\n",
    "    pass\n",
    "\n",
    "def pro_ang1_cv():\n",
    "    pass\n",
    "\n",
    "def ob1_rag2_cv():\n",
    "    pass"
   ]
  }
 ],
 "metadata": {
  "kernelspec": {
   "display_name": "Python 3 (ipykernel)",
   "language": "python",
   "name": "python3"
  },
  "language_info": {
   "codemirror_mode": {
    "name": "ipython",
    "version": 3
   },
   "file_extension": ".py",
   "mimetype": "text/x-python",
   "name": "python",
   "nbconvert_exporter": "python",
   "pygments_lexer": "ipython3",
   "version": "3.9.12"
  }
 },
 "nbformat": 4,
 "nbformat_minor": 5
}
