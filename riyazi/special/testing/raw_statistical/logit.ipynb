{
 "cells": [
  {
   "cell_type": "code",
   "execution_count": 1,
   "id": "94e1a865",
   "metadata": {},
   "outputs": [],
   "source": [
    "from math import inf,log \n",
    "def logit(x):\n",
    "    if x==0:\n",
    "        return -inf\n",
    "    elif(x==1):\n",
    "        return inf\n",
    "    \n",
    "    else:\n",
    "        return log(x/(1-x))"
   ]
  },
  {
   "cell_type": "code",
   "execution_count": null,
   "id": "7f2f997e",
   "metadata": {},
   "outputs": [],
   "source": []
  }
 ],
 "metadata": {
  "kernelspec": {
   "display_name": "Python 3 (ipykernel)",
   "language": "python",
   "name": "python3"
  },
  "language_info": {
   "codemirror_mode": {
    "name": "ipython",
    "version": 3
   },
   "file_extension": ".py",
   "mimetype": "text/x-python",
   "name": "python",
   "nbconvert_exporter": "python",
   "pygments_lexer": "ipython3",
   "version": "3.9.12"
  }
 },
 "nbformat": 4,
 "nbformat_minor": 5
}
