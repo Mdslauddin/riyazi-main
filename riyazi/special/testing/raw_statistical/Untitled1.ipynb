{
 "cells": [
  {
   "cell_type": "code",
   "execution_count": 1,
   "id": "e4216f0f",
   "metadata": {},
   "outputs": [],
   "source": [
    "import scipy.special as sp "
   ]
  },
  {
   "cell_type": "code",
   "execution_count": null,
   "id": "033f68a7",
   "metadata": {},
   "outputs": [],
   "source": [
    "sp.expit(3)"
   ]
  },
  {
   "cell_type": "code",
   "execution_count": null,
   "id": "7cb44a30",
   "metadata": {},
   "outputs": [],
   "source": [
    "from math import exp \n",
    "def expit(x):\n",
    "    return 1/ (1+exp(-x))"
   ]
  },
  {
   "cell_type": "code",
   "execution_count": null,
   "id": "bfe03675",
   "metadata": {},
   "outputs": [],
   "source": [
    "expit(3)"
   ]
  },
  {
   "cell_type": "code",
   "execution_count": null,
   "id": "d6d78a24",
   "metadata": {},
   "outputs": [],
   "source": [
    "from math import inf,log \n",
    "def logit(x):\n",
    "    if x==0:\n",
    "        return -inf\n",
    "    elif(x==1):\n",
    "        return inf\n",
    "    \n",
    "    else:\n",
    "        return log(x/(1-x))"
   ]
  },
  {
   "cell_type": "code",
   "execution_count": null,
   "id": "be45a4dd",
   "metadata": {},
   "outputs": [],
   "source": [
    "sp.logit(4)"
   ]
  },
  {
   "cell_type": "code",
   "execution_count": null,
   "id": "3a94e34a",
   "metadata": {},
   "outputs": [],
   "source": [
    "sp.logit(1),sp.logit(-1), sp.logit(-1), sp.logit(0.3)"
   ]
  },
  {
   "cell_type": "code",
   "execution_count": null,
   "id": "c35f440d",
   "metadata": {
    "scrolled": true
   },
   "outputs": [],
   "source": [
    "logit(0.3)"
   ]
  },
  {
   "cell_type": "code",
   "execution_count": null,
   "id": "9c1b5d3f",
   "metadata": {},
   "outputs": [],
   "source": [
    "1-0.3"
   ]
  },
  {
   "cell_type": "code",
   "execution_count": null,
   "id": "0b8bc5e6",
   "metadata": {},
   "outputs": [],
   "source": [
    "0.3/0.7"
   ]
  },
  {
   "cell_type": "code",
   "execution_count": null,
   "id": "3aa0821f",
   "metadata": {},
   "outputs": [],
   "source": [
    "log(0.42857)"
   ]
  },
  {
   "cell_type": "code",
   "execution_count": 3,
   "id": "0f2ec70d",
   "metadata": {},
   "outputs": [],
   "source": [
    "from math import log\n",
    "def log_expit(x):\n",
    "    return log(sp.expit(x))"
   ]
  },
  {
   "cell_type": "code",
   "execution_count": 2,
   "id": "c4dc9408",
   "metadata": {},
   "outputs": [],
   "source": [
    "import scipy.special as sp "
   ]
  },
  {
   "cell_type": "code",
   "execution_count": 5,
   "id": "f3ce42d3",
   "metadata": {},
   "outputs": [
    {
     "data": {
      "text/plain": [
       "-3.048587351573742"
      ]
     },
     "execution_count": 5,
     "metadata": {},
     "output_type": "execute_result"
    }
   ],
   "source": [
    "log_expit(-3)"
   ]
  },
  {
   "cell_type": "code",
   "execution_count": null,
   "id": "479131c5",
   "metadata": {},
   "outputs": [],
   "source": [
    "log_"
   ]
  },
  {
   "cell_type": "code",
   "execution_count": 6,
   "id": "fba0ca0e",
   "metadata": {},
   "outputs": [
    {
     "data": {
      "text/plain": [
       "20.000000000000007"
      ]
     },
     "execution_count": 6,
     "metadata": {},
     "output_type": "execute_result"
    }
   ],
   "source": [
    "sp.boxcox(3,4)"
   ]
  },
  {
   "cell_type": "code",
   "execution_count": 12,
   "id": "6d84b278",
   "metadata": {},
   "outputs": [],
   "source": [
    "from math import log\n",
    "def boxcox(x,lamda):\n",
    "    if lamda ==0:\n",
    "        return log(x)\n",
    "    elif(lamda !=0):\n",
    "        return (x**lamda-1)/lamda \n",
    "    "
   ]
  },
  {
   "cell_type": "code",
   "execution_count": 13,
   "id": "c4148ec8",
   "metadata": {},
   "outputs": [
    {
     "data": {
      "text/plain": [
       "20.0"
      ]
     },
     "execution_count": 13,
     "metadata": {},
     "output_type": "execute_result"
    }
   ],
   "source": [
    "boxcox(3,4)"
   ]
  },
  {
   "cell_type": "code",
   "execution_count": 15,
   "id": "f2a469de",
   "metadata": {},
   "outputs": [
    {
     "data": {
      "text/plain": [
       "29126.999999999993"
      ]
     },
     "execution_count": 15,
     "metadata": {},
     "output_type": "execute_result"
    }
   ],
   "source": [
    "sp.boxcox(4,9)"
   ]
  },
  {
   "cell_type": "code",
   "execution_count": 16,
   "id": "8d2d6761",
   "metadata": {},
   "outputs": [
    {
     "data": {
      "text/plain": [
       "29127.0"
      ]
     },
     "execution_count": 16,
     "metadata": {},
     "output_type": "execute_result"
    }
   ],
   "source": [
    "boxcox(4,9)"
   ]
  },
  {
   "cell_type": "code",
   "execution_count": 17,
   "id": "03bb3f7f",
   "metadata": {},
   "outputs": [],
   "source": [
    "from math import log\n",
    "def boxcox1p(x,lamda):\n",
    "    if lamda ==0:\n",
    "        return log(1+x)\n",
    "    elif(lamda !=0):\n",
    "        return ((1+x)**lamda-1)/lamda "
   ]
  },
  {
   "cell_type": "code",
   "execution_count": 18,
   "id": "23fac89f",
   "metadata": {},
   "outputs": [
    {
     "data": {
      "text/plain": [
       "63.749999999999986"
      ]
     },
     "execution_count": 18,
     "metadata": {},
     "output_type": "execute_result"
    }
   ],
   "source": [
    "sp.boxcox1p(3,4)"
   ]
  },
  {
   "cell_type": "code",
   "execution_count": 19,
   "id": "eb8dae20",
   "metadata": {},
   "outputs": [
    {
     "data": {
      "text/plain": [
       "63.75"
      ]
     },
     "execution_count": 19,
     "metadata": {},
     "output_type": "execute_result"
    }
   ],
   "source": [
    "boxcox1p(3,4)"
   ]
  },
  {
   "cell_type": "code",
   "execution_count": 20,
   "id": "7cd6b577",
   "metadata": {},
   "outputs": [
    {
     "data": {
      "text/plain": [
       "10.000000000000002"
      ]
     },
     "execution_count": 20,
     "metadata": {},
     "output_type": "execute_result"
    }
   ],
   "source": [
    "y = sp.boxcox(10, 2.5)\n",
    "sp.inv_boxcox(y, 2.5)"
   ]
  },
  {
   "cell_type": "code",
   "execution_count": 21,
   "id": "b2c9cefd",
   "metadata": {},
   "outputs": [],
   "source": [
    "def inv_boxcox(x,lamda):\n",
    "    if lamda ==0:\n",
    "        return log(x)\n",
    "    elif(lamda !=0):\n",
    "        return log(x**lamda-1)/lamda"
   ]
  },
  {
   "cell_type": "code",
   "execution_count": 29,
   "id": "98af2821",
   "metadata": {},
   "outputs": [],
   "source": [
    "from math import exp,log\n",
    "def invboxcox(y,ld):\n",
    "    if ld == 0:\n",
    "        \n",
    "        return(exp(y))\n",
    "    else:\n",
    "        return(exp(log(ld*y+1)/ld))\n"
   ]
  },
  {
   "cell_type": "code",
   "execution_count": 30,
   "id": "e614b54c",
   "metadata": {},
   "outputs": [
    {
     "data": {
      "text/plain": [
       "10.000000000000002"
      ]
     },
     "execution_count": 30,
     "metadata": {},
     "output_type": "execute_result"
    }
   ],
   "source": [
    "invboxcox(y,2.5)"
   ]
  },
  {
   "cell_type": "code",
   "execution_count": 28,
   "id": "c951cb2d",
   "metadata": {},
   "outputs": [
    {
     "data": {
      "text/plain": [
       "126.09110640673529"
      ]
     },
     "execution_count": 28,
     "metadata": {},
     "output_type": "execute_result"
    }
   ],
   "source": [
    "y = sp.boxcox(10,2.5)\n",
    "y"
   ]
  },
  {
   "cell_type": "code",
   "execution_count": 27,
   "id": "f06b993b",
   "metadata": {},
   "outputs": [
    {
     "data": {
      "text/plain": [
       "0.9162907318741551"
      ]
     },
     "execution_count": 27,
     "metadata": {},
     "output_type": "execute_result"
    }
   ],
   "source": []
  },
  {
   "cell_type": "code",
   "execution_count": 32,
   "id": "e12ea661",
   "metadata": {},
   "outputs": [],
   "source": [
    "from math import exp,log\n",
    "def invboxcox(y,ld):\n",
    "    if ld == 0:\n",
    "        \n",
    "        return(exp(y+1))\n",
    "    else:\n",
    "        return(exp(log(ld*y+1)/ld))"
   ]
  },
  {
   "cell_type": "code",
   "execution_count": 35,
   "id": "b3cf529b",
   "metadata": {},
   "outputs": [],
   "source": [
    " y =sp.inv_boxcox(10,2.5)"
   ]
  },
  {
   "cell_type": "code",
   "execution_count": 36,
   "id": "d5367654",
   "metadata": {},
   "outputs": [
    {
     "data": {
      "text/plain": [
       "2.5321599058645146"
      ]
     },
     "execution_count": 36,
     "metadata": {},
     "output_type": "execute_result"
    }
   ],
   "source": [
    "invboxcox(y,2.5)"
   ]
  },
  {
   "cell_type": "code",
   "execution_count": null,
   "id": "c31684e9",
   "metadata": {},
   "outputs": [],
   "source": []
  },
  {
   "cell_type": "code",
   "execution_count": null,
   "id": "156c29af",
   "metadata": {},
   "outputs": [],
   "source": []
  },
  {
   "cell_type": "code",
   "execution_count": null,
   "id": "8bbd5057",
   "metadata": {},
   "outputs": [],
   "source": []
  },
  {
   "cell_type": "code",
   "execution_count": null,
   "id": "ddfa05a6",
   "metadata": {},
   "outputs": [],
   "source": []
  },
  {
   "cell_type": "code",
   "execution_count": null,
   "id": "7ff1a09e",
   "metadata": {},
   "outputs": [],
   "source": []
  }
 ],
 "metadata": {
  "kernelspec": {
   "display_name": "Python 3 (ipykernel)",
   "language": "python",
   "name": "python3"
  },
  "language_info": {
   "codemirror_mode": {
    "name": "ipython",
    "version": 3
   },
   "file_extension": ".py",
   "mimetype": "text/x-python",
   "name": "python",
   "nbconvert_exporter": "python",
   "pygments_lexer": "ipython3",
   "version": "3.9.12"
  }
 },
 "nbformat": 4,
 "nbformat_minor": 5
}
