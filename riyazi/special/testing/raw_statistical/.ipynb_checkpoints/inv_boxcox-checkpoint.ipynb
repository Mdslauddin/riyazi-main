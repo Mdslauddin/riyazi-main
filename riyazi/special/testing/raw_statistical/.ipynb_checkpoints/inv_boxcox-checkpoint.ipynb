{
 "cells": [
  {
   "cell_type": "code",
   "execution_count": 1,
   "id": "761ca894",
   "metadata": {},
   "outputs": [],
   "source": [
    "from math import exp,log\n",
    "def invboxcox(y,ld):\n",
    "    if ld == 0:\n",
    "        \n",
    "        return(exp(y))\n",
    "    else:\n",
    "        return(exp(log(ld*y+1)/ld))"
   ]
  },
  {
   "cell_type": "code",
   "execution_count": null,
   "id": "5a102d3c",
   "metadata": {},
   "outputs": [],
   "source": []
  }
 ],
 "metadata": {
  "kernelspec": {
   "display_name": "Python 3 (ipykernel)",
   "language": "python",
   "name": "python3"
  },
  "language_info": {
   "codemirror_mode": {
    "name": "ipython",
    "version": 3
   },
   "file_extension": ".py",
   "mimetype": "text/x-python",
   "name": "python",
   "nbconvert_exporter": "python",
   "pygments_lexer": "ipython3",
   "version": "3.9.12"
  }
 },
 "nbformat": 4,
 "nbformat_minor": 5
}
