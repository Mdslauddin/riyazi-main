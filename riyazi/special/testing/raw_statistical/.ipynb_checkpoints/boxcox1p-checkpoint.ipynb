{
 "cells": [
  {
   "cell_type": "code",
   "execution_count": 1,
   "id": "d5b6d4f7",
   "metadata": {},
   "outputs": [],
   "source": [
    "from math import log\n",
    "def boxcox1p(x,lamda):\n",
    "    if lamda ==0:\n",
    "        return log(1+x)\n",
    "    elif(lamda !=0):\n",
    "        return ((1+x)**lamda-1)/lamda "
   ]
  },
  {
   "cell_type": "code",
   "execution_count": null,
   "id": "ad05371b",
   "metadata": {},
   "outputs": [],
   "source": []
  }
 ],
 "metadata": {
  "kernelspec": {
   "display_name": "Python 3 (ipykernel)",
   "language": "python",
   "name": "python3"
  },
  "language_info": {
   "codemirror_mode": {
    "name": "ipython",
    "version": 3
   },
   "file_extension": ".py",
   "mimetype": "text/x-python",
   "name": "python",
   "nbconvert_exporter": "python",
   "pygments_lexer": "ipython3",
   "version": "3.9.12"
  }
 },
 "nbformat": 4,
 "nbformat_minor": 5
}
