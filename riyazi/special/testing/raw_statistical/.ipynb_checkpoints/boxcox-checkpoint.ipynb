{
 "cells": [
  {
   "cell_type": "code",
   "execution_count": 1,
   "id": "b7bde340",
   "metadata": {},
   "outputs": [],
   "source": [
    "from math import log\n",
    "def boxcox(x,lamda):\n",
    "    if lamda ==0:\n",
    "        return log(x)\n",
    "    elif(lamda !=0):\n",
    "        return (x**lamda-1)/lamda "
   ]
  },
  {
   "cell_type": "code",
   "execution_count": null,
   "id": "40e535be",
   "metadata": {},
   "outputs": [],
   "source": []
  }
 ],
 "metadata": {
  "kernelspec": {
   "display_name": "Python 3 (ipykernel)",
   "language": "python",
   "name": "python3"
  },
  "language_info": {
   "codemirror_mode": {
    "name": "ipython",
    "version": 3
   },
   "file_extension": ".py",
   "mimetype": "text/x-python",
   "name": "python",
   "nbconvert_exporter": "python",
   "pygments_lexer": "ipython3",
   "version": "3.9.12"
  }
 },
 "nbformat": 4,
 "nbformat_minor": 5
}
