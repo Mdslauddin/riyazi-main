{
 "cells": [
  {
   "cell_type": "code",
   "execution_count": 1,
   "id": "486d8446",
   "metadata": {},
   "outputs": [],
   "source": [
    "from mpmath import hyp2f1\n",
    "from scipy.special import poch\n",
    "from math import gamma\n",
    "def eval_jacobi(n,alpha,beta,x):\n",
    "    return (poch(alpha+1,n)/gamma(n+1))* hyp2f1(-n, 1+alpha+beta+n, alpha+1, (1-x)/2) "
   ]
  },
  {
   "cell_type": "code",
   "execution_count": null,
   "id": "5d5c847e",
   "metadata": {},
   "outputs": [],
   "source": []
  }
 ],
 "metadata": {
  "kernelspec": {
   "display_name": "Python 3 (ipykernel)",
   "language": "python",
   "name": "python3"
  },
  "language_info": {
   "codemirror_mode": {
    "name": "ipython",
    "version": 3
   },
   "file_extension": ".py",
   "mimetype": "text/x-python",
   "name": "python",
   "nbconvert_exporter": "python",
   "pygments_lexer": "ipython3",
   "version": "3.9.12"
  }
 },
 "nbformat": 4,
 "nbformat_minor": 5
}
