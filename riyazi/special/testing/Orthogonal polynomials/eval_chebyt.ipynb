{
 "cells": [
  {
   "cell_type": "code",
   "execution_count": 1,
   "id": "6adbb315",
   "metadata": {},
   "outputs": [],
   "source": [
    "from mpmath import hyp2f1\n",
    "def eval_chebyt(n,x):\n",
    "    return hyp2f1(n, -n, 1/2, (1-x)/2)"
   ]
  },
  {
   "cell_type": "code",
   "execution_count": null,
   "id": "f60fa7fa",
   "metadata": {},
   "outputs": [],
   "source": []
  }
 ],
 "metadata": {
  "kernelspec": {
   "display_name": "Python 3 (ipykernel)",
   "language": "python",
   "name": "python3"
  },
  "language_info": {
   "codemirror_mode": {
    "name": "ipython",
    "version": 3
   },
   "file_extension": ".py",
   "mimetype": "text/x-python",
   "name": "python",
   "nbconvert_exporter": "python",
   "pygments_lexer": "ipython3",
   "version": "3.9.12"
  }
 },
 "nbformat": 4,
 "nbformat_minor": 5
}
