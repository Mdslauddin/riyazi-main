{
 "cells": [
  {
   "cell_type": "code",
   "execution_count": 1,
   "id": "e6848101",
   "metadata": {},
   "outputs": [],
   "source": [
    "import mpmath as mp\n",
    "def eval_laguerre(n,x):\n",
    "    return mp.hyp1f1(-n,1,x)"
   ]
  },
  {
   "cell_type": "code",
   "execution_count": null,
   "id": "292c784e",
   "metadata": {},
   "outputs": [],
   "source": []
  }
 ],
 "metadata": {
  "kernelspec": {
   "display_name": "Python 3 (ipykernel)",
   "language": "python",
   "name": "python3"
  },
  "language_info": {
   "codemirror_mode": {
    "name": "ipython",
    "version": 3
   },
   "file_extension": ".py",
   "mimetype": "text/x-python",
   "name": "python",
   "nbconvert_exporter": "python",
   "pygments_lexer": "ipython3",
   "version": "3.9.12"
  }
 },
 "nbformat": 4,
 "nbformat_minor": 5
}
