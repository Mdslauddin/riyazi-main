{
 "cells": [
  {
   "cell_type": "code",
   "execution_count": 1,
   "id": "59321806",
   "metadata": {},
   "outputs": [],
   "source": [
    "from math import gamma\n",
    "import mpmath as mp \n",
    "import scipy.special as sp\n",
    "def eval_gegenbauer(n,alpha,z):\n",
    "    return (sp.poch(2*alpha,n)/gamma(n+1))*(mp.hyp2f1(-n,2*alpha+n, alpha+(1/2), (1-z)/2))"
   ]
  },
  {
   "cell_type": "code",
   "execution_count": null,
   "id": "baea18aa",
   "metadata": {},
   "outputs": [],
   "source": []
  }
 ],
 "metadata": {
  "kernelspec": {
   "display_name": "Python 3 (ipykernel)",
   "language": "python",
   "name": "python3"
  },
  "language_info": {
   "codemirror_mode": {
    "name": "ipython",
    "version": 3
   },
   "file_extension": ".py",
   "mimetype": "text/x-python",
   "name": "python",
   "nbconvert_exporter": "python",
   "pygments_lexer": "ipython3",
   "version": "3.9.12"
  }
 },
 "nbformat": 4,
 "nbformat_minor": 5
}
