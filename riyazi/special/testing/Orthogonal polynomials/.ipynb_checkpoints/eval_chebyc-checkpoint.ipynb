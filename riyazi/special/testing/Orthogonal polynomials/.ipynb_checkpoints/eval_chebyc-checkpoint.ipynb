{
 "cells": [
  {
   "cell_type": "code",
   "execution_count": 1,
   "id": "e97b6e17",
   "metadata": {},
   "outputs": [],
   "source": [
    "import scipy.special as sp \n",
    "def eval_chebyc(n,x):\n",
    "    return 2*sp.eval_chebyt(n,x/2)"
   ]
  },
  {
   "cell_type": "code",
   "execution_count": null,
   "id": "f39846e2",
   "metadata": {},
   "outputs": [],
   "source": []
  }
 ],
 "metadata": {
  "kernelspec": {
   "display_name": "Python 3 (ipykernel)",
   "language": "python",
   "name": "python3"
  },
  "language_info": {
   "codemirror_mode": {
    "name": "ipython",
    "version": 3
   },
   "file_extension": ".py",
   "mimetype": "text/x-python",
   "name": "python",
   "nbconvert_exporter": "python",
   "pygments_lexer": "ipython3",
   "version": "3.9.12"
  }
 },
 "nbformat": 4,
 "nbformat_minor": 5
}
