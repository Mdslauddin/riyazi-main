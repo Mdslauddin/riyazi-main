{
 "cells": [
  {
   "cell_type": "code",
   "execution_count": 1,
   "id": "df558371",
   "metadata": {},
   "outputs": [],
   "source": [
    "from mpmath import hyp1f1\n",
    "\n",
    "def assoc_laguerre(x,n):\n",
    "    return hyp1f1(-n,1,x) # sp.hyp1f1(-5,1,3)"
   ]
  },
  {
   "cell_type": "code",
   "execution_count": 2,
   "id": "d8dafb2f",
   "metadata": {},
   "outputs": [],
   "source": [
    "from math import factorial\n",
    "def assoc_laguerre(x,n):\n",
    "    res = 0\n",
    "    for k in range(n+1):\n",
    "        res += (factorial(n) *(pow(-x,k))) / (pow(factorial(k),2)* factorial(n-k))\n",
    "    return res"
   ]
  },
  {
   "cell_type": "code",
   "execution_count": null,
   "id": "ee0e98df",
   "metadata": {},
   "outputs": [],
   "source": []
  }
 ],
 "metadata": {
  "kernelspec": {
   "display_name": "Python 3 (ipykernel)",
   "language": "python",
   "name": "python3"
  },
  "language_info": {
   "codemirror_mode": {
    "name": "ipython",
    "version": 3
   },
   "file_extension": ".py",
   "mimetype": "text/x-python",
   "name": "python",
   "nbconvert_exporter": "python",
   "pygments_lexer": "ipython3",
   "version": "3.9.12"
  }
 },
 "nbformat": 4,
 "nbformat_minor": 5
}
