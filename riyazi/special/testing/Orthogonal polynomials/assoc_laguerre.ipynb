{
 "cells": [
  {
   "cell_type": "code",
   "execution_count": 5,
   "id": "df558371",
   "metadata": {},
   "outputs": [],
   "source": [
    "from mpmath import hyp1f1\n",
    "\n",
    "def assoc_laguerre(x,n):\n",
    "    return hyp1f1(-n,1,x) # sp.hyp1f1(-5,1,3)"
   ]
  },
  {
   "cell_type": "code",
   "execution_count": null,
   "id": "a5c29716",
   "metadata": {},
   "outputs": [],
   "source": []
  },
  {
   "cell_type": "code",
   "execution_count": null,
   "id": "31eea2da",
   "metadata": {},
   "outputs": [],
   "source": []
  },
  {
   "cell_type": "code",
   "execution_count": null,
   "id": "5ae33ad5",
   "metadata": {},
   "outputs": [],
   "source": []
  },
  {
   "cell_type": "code",
   "execution_count": 1,
   "id": "d8dafb2f",
   "metadata": {},
   "outputs": [],
   "source": [
    "from math import factorial\n",
    "def assoc_laguerre(x,n):\n",
    "    res = 0\n",
    "    for k in range(n+1):\n",
    "        res += (factorial(n) *(pow(-x,k))) / (pow(factorial(k),2)* factorial(n-k))\n",
    "    return res"
   ]
  },
  {
   "cell_type": "code",
   "execution_count": null,
   "id": "ee0e98df",
   "metadata": {},
   "outputs": [],
   "source": []
  },
  {
   "cell_type": "code",
   "execution_count": 3,
   "id": "873d576f",
   "metadata": {},
   "outputs": [],
   "source": [
    "import scipy.special as sp "
   ]
  },
  {
   "cell_type": "code",
   "execution_count": 4,
   "id": "ad4a3322",
   "metadata": {},
   "outputs": [
    {
     "data": {
      "text/plain": [
       "-1.1087053571428571"
      ]
     },
     "execution_count": 4,
     "metadata": {},
     "output_type": "execute_result"
    }
   ],
   "source": [
    "sp.assoc_laguerre(3,8)"
   ]
  },
  {
   "cell_type": "code",
   "execution_count": 2,
   "id": "caf281fd",
   "metadata": {},
   "outputs": [
    {
     "data": {
      "text/plain": [
       "-1.1087053571428616"
      ]
     },
     "execution_count": 2,
     "metadata": {},
     "output_type": "execute_result"
    }
   ],
   "source": [
    "assoc_laguerre(3,8)"
   ]
  },
  {
   "cell_type": "code",
   "execution_count": 6,
   "id": "ae25d053",
   "metadata": {},
   "outputs": [
    {
     "data": {
      "text/plain": [
       "mpf('-1.1087053571428571')"
      ]
     },
     "execution_count": 6,
     "metadata": {},
     "output_type": "execute_result"
    }
   ],
   "source": [
    "assoc_laguerre(3,8)"
   ]
  },
  {
   "cell_type": "code",
   "execution_count": null,
   "id": "81b71e94",
   "metadata": {},
   "outputs": [],
   "source": []
  },
  {
   "cell_type": "code",
   "execution_count": null,
   "id": "57d1645d",
   "metadata": {},
   "outputs": [],
   "source": []
  }
 ],
 "metadata": {
  "kernelspec": {
   "display_name": "Python 3 (ipykernel)",
   "language": "python",
   "name": "python3"
  },
  "language_info": {
   "codemirror_mode": {
    "name": "ipython",
    "version": 3
   },
   "file_extension": ".py",
   "mimetype": "text/x-python",
   "name": "python",
   "nbconvert_exporter": "python",
   "pygments_lexer": "ipython3",
   "version": "3.9.12"
  }
 },
 "nbformat": 4,
 "nbformat_minor": 5
}
