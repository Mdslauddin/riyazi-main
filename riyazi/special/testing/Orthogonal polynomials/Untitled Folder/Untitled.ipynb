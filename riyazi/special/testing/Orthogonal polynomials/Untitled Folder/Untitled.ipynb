{
 "cells": [
  {
   "cell_type": "code",
   "execution_count": 1,
   "id": "27c01a67",
   "metadata": {},
   "outputs": [],
   "source": [
    "import scipy.special as sp "
   ]
  },
  {
   "cell_type": "code",
   "execution_count": 3,
   "id": "3970a8d6",
   "metadata": {},
   "outputs": [
    {
     "data": {
      "text/plain": [
       "poly1d([ 1.        , -1.        ,  0.22222222])"
      ]
     },
     "execution_count": 3,
     "metadata": {},
     "output_type": "execute_result"
    }
   ],
   "source": [
    "sp.sh_jacobi(2,7,4)"
   ]
  },
  {
   "cell_type": "code",
   "execution_count": null,
   "id": "b459fa53",
   "metadata": {},
   "outputs": [],
   "source": [
    "def sh_jacobi(n,p,q):\n",
    "    "
   ]
  },
  {
   "cell_type": "code",
   "execution_count": 5,
   "id": "26bbc1f0",
   "metadata": {},
   "outputs": [
    {
     "data": {
      "text/plain": [
       "36.0"
      ]
     },
     "execution_count": 5,
     "metadata": {},
     "output_type": "execute_result"
    }
   ],
   "source": [
    "sp.eval_jacobi(2,7,4,1)"
   ]
  },
  {
   "cell_type": "code",
   "execution_count": 6,
   "id": "5ee7e0f2",
   "metadata": {},
   "outputs": [],
   "source": [
    "def _scale(self, p):\n",
    "        if p == 1.0:\n",
    "            return\n",
    "        self._coeffs *= p\n",
    "\n",
    "        evf = self._eval_func\n",
    "        if evf:\n",
    "            self._eval_func = lambda x: evf(x) * p\n",
    "        self.normcoef *= p"
   ]
  },
  {
   "cell_type": "code",
   "execution_count": 9,
   "id": "59fbdf44",
   "metadata": {},
   "outputs": [],
   "source": [
    "def sh_chebyu(n, monic=False):\n",
    "    base = sp.sh_jacobi(n, 2.0, 1.5, monic=monic)\n",
    "    if monic:\n",
    "        return base\n",
    "    factor = 4**n\n",
    "    base._scale(factor)\n",
    "    return base"
   ]
  },
  {
   "cell_type": "code",
   "execution_count": 10,
   "id": "b4cb71c1",
   "metadata": {},
   "outputs": [
    {
     "data": {
      "text/plain": [
       "poly1d([ 256., -512.,  336.,  -80.,    5.])"
      ]
     },
     "execution_count": 10,
     "metadata": {},
     "output_type": "execute_result"
    }
   ],
   "source": [
    "sh_chebyu(4)"
   ]
  },
  {
   "cell_type": "code",
   "execution_count": 11,
   "id": "c7da658a",
   "metadata": {},
   "outputs": [
    {
     "data": {
      "text/plain": [
       "poly1d([ 256., -512.,  336.,  -80.,    5.])"
      ]
     },
     "execution_count": 11,
     "metadata": {},
     "output_type": "execute_result"
    }
   ],
   "source": [
    "sp.sh_chebyu(4)"
   ]
  },
  {
   "cell_type": "code",
   "execution_count": null,
   "id": "80c08b02",
   "metadata": {},
   "outputs": [],
   "source": [
    "sp.eval_sh_ch(4,)"
   ]
  }
 ],
 "metadata": {
  "kernelspec": {
   "display_name": "Python 3 (ipykernel)",
   "language": "python",
   "name": "python3"
  },
  "language_info": {
   "codemirror_mode": {
    "name": "ipython",
    "version": 3
   },
   "file_extension": ".py",
   "mimetype": "text/x-python",
   "name": "python",
   "nbconvert_exporter": "python",
   "pygments_lexer": "ipython3",
   "version": "3.9.12"
  }
 },
 "nbformat": 4,
 "nbformat_minor": 5
}
