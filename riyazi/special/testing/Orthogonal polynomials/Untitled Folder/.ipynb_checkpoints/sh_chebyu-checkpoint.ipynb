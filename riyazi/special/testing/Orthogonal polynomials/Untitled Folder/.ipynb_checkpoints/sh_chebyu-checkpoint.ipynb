{
 "cells": [
  {
   "cell_type": "code",
   "execution_count": 1,
   "id": "7f128f65",
   "metadata": {},
   "outputs": [],
   "source": [
    "import scipy.special as sp \n",
    "def _scale(self, p):\n",
    "        if p == 1.0:\n",
    "            return\n",
    "        self._coeffs *= p\n",
    "\n",
    "        evf = self._eval_func\n",
    "        if evf:\n",
    "            self._eval_func = lambda x: evf(x) * p\n",
    "        self.normcoef *= p\n",
    "        \n",
    "def sh_chebyu(n, monic=False):\n",
    "    base = sp.sh_jacobi(n, 2.0, 1.5, monic=monic)\n",
    "    if monic:\n",
    "        return base\n",
    "    factor = 4**n\n",
    "    base._scale(factor)\n",
    "    return base"
   ]
  },
  {
   "cell_type": "code",
   "execution_count": null,
   "id": "14d76ef1",
   "metadata": {},
   "outputs": [],
   "source": []
  }
 ],
 "metadata": {
  "kernelspec": {
   "display_name": "Python 3 (ipykernel)",
   "language": "python",
   "name": "python3"
  },
  "language_info": {
   "codemirror_mode": {
    "name": "ipython",
    "version": 3
   },
   "file_extension": ".py",
   "mimetype": "text/x-python",
   "name": "python",
   "nbconvert_exporter": "python",
   "pygments_lexer": "ipython3",
   "version": "3.9.12"
  }
 },
 "nbformat": 4,
 "nbformat_minor": 5
}
