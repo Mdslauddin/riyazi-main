{
 "cells": [
  {
   "cell_type": "code",
   "execution_count": 1,
   "id": "5f35dda5",
   "metadata": {},
   "outputs": [],
   "source": [
    "import scipy.special as sp \n",
    "import mpmath as mp \n",
    "def eval_genlaguerre(n,alpha,x):\n",
    "    return sp.binom(n+alpha,n)*mp.hyp1f1(-n,alpha+1,x)"
   ]
  },
  {
   "cell_type": "code",
   "execution_count": null,
   "id": "49abd07b",
   "metadata": {},
   "outputs": [],
   "source": []
  }
 ],
 "metadata": {
  "kernelspec": {
   "display_name": "Python 3 (ipykernel)",
   "language": "python",
   "name": "python3"
  },
  "language_info": {
   "codemirror_mode": {
    "name": "ipython",
    "version": 3
   },
   "file_extension": ".py",
   "mimetype": "text/x-python",
   "name": "python",
   "nbconvert_exporter": "python",
   "pygments_lexer": "ipython3",
   "version": "3.9.12"
  }
 },
 "nbformat": 4,
 "nbformat_minor": 5
}
