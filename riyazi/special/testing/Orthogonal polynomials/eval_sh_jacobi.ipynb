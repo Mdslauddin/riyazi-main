{
 "cells": [
  {
   "cell_type": "code",
   "execution_count": 2,
   "id": "3e982457",
   "metadata": {},
   "outputs": [],
   "source": [
    "import scipy.special as sp \n",
    "def eval_sh_jacobi(n,p,q,x):\n",
    "    return (sp.binom(2*n+p-1,n)**(-1)) * (sp.eval_jacobi(n,p-q,q-1,2*x-1))"
   ]
  },
  {
   "cell_type": "code",
   "execution_count": null,
   "id": "22a1dda6",
   "metadata": {},
   "outputs": [],
   "source": []
  }
 ],
 "metadata": {
  "kernelspec": {
   "display_name": "Python 3 (ipykernel)",
   "language": "python",
   "name": "python3"
  },
  "language_info": {
   "codemirror_mode": {
    "name": "ipython",
    "version": 3
   },
   "file_extension": ".py",
   "mimetype": "text/x-python",
   "name": "python",
   "nbconvert_exporter": "python",
   "pygments_lexer": "ipython3",
   "version": "3.9.12"
  }
 },
 "nbformat": 4,
 "nbformat_minor": 5
}
