{
 "cells": [
  {
   "cell_type": "code",
   "execution_count": 1,
   "id": "e5ba60d3",
   "metadata": {},
   "outputs": [],
   "source": [
    "import scipy.special as sp "
   ]
  },
  {
   "cell_type": "code",
   "execution_count": 3,
   "id": "4c362201",
   "metadata": {},
   "outputs": [
    {
     "data": {
      "text/plain": [
       "(array([-0.57735027,  0.57735027]), array([1., 1.]))"
      ]
     },
     "execution_count": 3,
     "metadata": {},
     "output_type": "execute_result"
    }
   ],
   "source": [
    "sp.roots_legendre(2)"
   ]
  },
  {
   "cell_type": "code",
   "execution_count": 12,
   "id": "3cfd94ca",
   "metadata": {},
   "outputs": [
    {
     "data": {
      "text/plain": [
       "1.0"
      ]
     },
     "execution_count": 12,
     "metadata": {},
     "output_type": "execute_result"
    }
   ],
   "source": [
    "sp.eval_legendre(2,1)"
   ]
  },
  {
   "cell_type": "code",
   "execution_count": 13,
   "id": "a29deff1",
   "metadata": {},
   "outputs": [
    {
     "data": {
      "text/plain": [
       "(array([-0.90617985, -0.53846931,  0.        ,  0.53846931,  0.90617985]),\n",
       " array([0.23692689, 0.47862867, 0.56888889, 0.47862867, 0.23692689]))"
      ]
     },
     "execution_count": 13,
     "metadata": {},
     "output_type": "execute_result"
    }
   ],
   "source": [
    "sp.roots_legendre(5)"
   ]
  },
  {
   "cell_type": "code",
   "execution_count": 16,
   "id": "5c43c624",
   "metadata": {},
   "outputs": [
    {
     "data": {
      "text/plain": [
       "1.0"
      ]
     },
     "execution_count": 16,
     "metadata": {},
     "output_type": "execute_result"
    }
   ],
   "source": [
    "sp.eval_legendre(5,1)"
   ]
  },
  {
   "cell_type": "code",
   "execution_count": 7,
   "id": "1c142d66",
   "metadata": {},
   "outputs": [
    {
     "data": {
      "text/plain": [
       "(array([-0.8660254,  0.       ,  0.8660254]),\n",
       " array([1.04719755, 1.04719755, 1.04719755]))"
      ]
     },
     "execution_count": 7,
     "metadata": {},
     "output_type": "execute_result"
    }
   ],
   "source": [
    "sp.roots_chebyt(3)"
   ]
  },
  {
   "cell_type": "code",
   "execution_count": 18,
   "id": "7e4c8310",
   "metadata": {},
   "outputs": [
    {
     "data": {
      "text/plain": [
       "9.0"
      ]
     },
     "execution_count": 18,
     "metadata": {},
     "output_type": "execute_result"
    }
   ],
   "source": [
    "sp.eval_legendre(1,9)"
   ]
  },
  {
   "cell_type": "code",
   "execution_count": 19,
   "id": "bf9f2279",
   "metadata": {},
   "outputs": [
    {
     "data": {
      "text/plain": [
       "poly1d([ 2.5,  0. , -1.5,  0. ])"
      ]
     },
     "execution_count": 19,
     "metadata": {},
     "output_type": "execute_result"
    }
   ],
   "source": [
    "sp.legendre(3)"
   ]
  },
  {
   "cell_type": "code",
   "execution_count": 20,
   "id": "6f314754",
   "metadata": {},
   "outputs": [
    {
     "name": "stdout",
     "output_type": "stream",
     "text": [
      "The value of the polynomial at given point is: 305.0\n"
     ]
    }
   ],
   "source": [
    "# Legendre polynomial\n",
    "def P(n, x):\n",
    "\tif(n == 0):\n",
    "\t\treturn 1 # P0 = 1\n",
    "\telif(n == 1):\n",
    "\t\treturn x # P1 = x\n",
    "\telse:\n",
    "\t\treturn (((2 * n)-1)*x * P(n-1, x)-(n-1)*P(n-2, x))/float(n)\n",
    "\n",
    "# Suppose, we want to find the value of\n",
    "# 3rd order legendre polynomial at x = 5\n",
    "# We can display the value by--\n",
    "\n",
    "# Driver program\n",
    "n = 3\n",
    "X = 5\n",
    "print(\"The value of the polynomial at given point is:\", P(n, X))\n"
   ]
  },
  {
   "cell_type": "code",
   "execution_count": 22,
   "id": "710cb370",
   "metadata": {},
   "outputs": [
    {
     "data": {
      "text/plain": [
       "63.0"
      ]
     },
     "execution_count": 22,
     "metadata": {},
     "output_type": "execute_result"
    }
   ],
   "source": [
    "P(3,3)"
   ]
  },
  {
   "cell_type": "code",
   "execution_count": null,
   "id": "d268d755",
   "metadata": {},
   "outputs": [],
   "source": []
  }
 ],
 "metadata": {
  "kernelspec": {
   "display_name": "Python 3 (ipykernel)",
   "language": "python",
   "name": "python3"
  },
  "language_info": {
   "codemirror_mode": {
    "name": "ipython",
    "version": 3
   },
   "file_extension": ".py",
   "mimetype": "text/x-python",
   "name": "python",
   "nbconvert_exporter": "python",
   "pygments_lexer": "ipython3",
   "version": "3.9.12"
  }
 },
 "nbformat": 4,
 "nbformat_minor": 5
}
