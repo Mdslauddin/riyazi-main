{
 "cells": [
  {
   "cell_type": "code",
   "execution_count": 3,
   "id": "b959dac7",
   "metadata": {},
   "outputs": [],
   "source": [
    "import scipy.special as sp"
   ]
  },
  {
   "cell_type": "code",
   "execution_count": 4,
   "id": "208d349f",
   "metadata": {
    "scrolled": true
   },
   "outputs": [
    {
     "data": {
      "text/plain": [
       "0.8500000000000001"
      ]
     },
     "execution_count": 4,
     "metadata": {},
     "output_type": "execute_result"
    }
   ],
   "source": [
    "sp.assoc_laguerre(3,5)"
   ]
  },
  {
   "cell_type": "code",
   "execution_count": 3,
   "id": "34a4dc03",
   "metadata": {},
   "outputs": [
    {
     "data": {
      "text/plain": [
       "0.0"
      ]
     },
     "execution_count": 3,
     "metadata": {},
     "output_type": "execute_result"
    }
   ],
   "source": [
    "sp.assoc_laguerre(3,-5)"
   ]
  },
  {
   "cell_type": "code",
   "execution_count": 26,
   "id": "a2424d01",
   "metadata": {},
   "outputs": [
    {
     "data": {
      "text/plain": [
       "2.020225744476913"
      ]
     },
     "execution_count": 26,
     "metadata": {},
     "output_type": "execute_result"
    }
   ],
   "source": [
    "sp.assoc_laguerre(5,20)"
   ]
  },
  {
   "cell_type": "code",
   "execution_count": 83,
   "id": "c9021ef6",
   "metadata": {},
   "outputs": [],
   "source": [
    "from math import factorial\n",
    "def assoc_laguerre(x,n):\n",
    "    res = 0\n",
    "    for k in range(n+1):\n",
    "        res += (factorial(n) *(pow(-x,k))) / (pow(factorial(k),2)* factorial(n-k))\n",
    "    return res"
   ]
  },
  {
   "cell_type": "code",
   "execution_count": 91,
   "id": "c2c2dc10",
   "metadata": {},
   "outputs": [
    {
     "data": {
      "text/plain": [
       "-5.840759429160709e+116"
      ]
     },
     "execution_count": 91,
     "metadata": {},
     "output_type": "execute_result"
    }
   ],
   "source": [
    "assoc_laguerre(5,5000)"
   ]
  },
  {
   "cell_type": "code",
   "execution_count": 94,
   "id": "dc041946",
   "metadata": {},
   "outputs": [
    {
     "data": {
      "text/plain": [
       "0.1539267423698977"
      ]
     },
     "execution_count": 94,
     "metadata": {},
     "output_type": "execute_result"
    }
   ],
   "source": [
    "sp.assoc_laguerre(5,5000)"
   ]
  },
  {
   "cell_type": "markdown",
   "id": "7e6e5f49",
   "metadata": {},
   "source": [
    "https://planetmath.org/LaguerrePolynomial#:~:text=Laguerre%20polynomial%201%201%20Definition%20The%20Laguerre%20polynomials,The%20Laguerre%20polynomials%20satisfy%20the%20orthogonality%20relation%20"
   ]
  },
  {
   "cell_type": "code",
   "execution_count": 12,
   "id": "c47fbab1",
   "metadata": {},
   "outputs": [],
   "source": [
    "import cmath "
   ]
  },
  {
   "cell_type": "code",
   "execution_count": 31,
   "id": "893947dd",
   "metadata": {},
   "outputs": [
    {
     "data": {
      "text/plain": [
       "0.0"
      ]
     },
     "execution_count": 31,
     "metadata": {},
     "output_type": "execute_result"
    }
   ],
   "source": [
    "sp.factorial(-5)"
   ]
  },
  {
   "cell_type": "code",
   "execution_count": null,
   "id": "1ec08a81",
   "metadata": {},
   "outputs": [],
   "source": []
  },
  {
   "cell_type": "code",
   "execution_count": 1,
   "id": "13b8b9eb",
   "metadata": {},
   "outputs": [],
   "source": [
    "from mpmath import hyp1f1\n",
    "\n",
    "def assoc_laguerre(x,n):\n",
    "    return hyp1f1(-n,1,x) # sp.hyp1f1(-5,1,3)\n",
    "    "
   ]
  },
  {
   "cell_type": "code",
   "execution_count": 2,
   "id": "f87a2ba7",
   "metadata": {},
   "outputs": [
    {
     "data": {
      "text/plain": [
       "mpf('0.84999999999999998')"
      ]
     },
     "execution_count": 2,
     "metadata": {},
     "output_type": "execute_result"
    }
   ],
   "source": [
    "assoc_laguerre(3,5)"
   ]
  },
  {
   "cell_type": "code",
   "execution_count": 5,
   "id": "c3a9ec7e",
   "metadata": {},
   "outputs": [],
   "source": [
    "import scipy.special as sp"
   ]
  },
  {
   "cell_type": "code",
   "execution_count": 6,
   "id": "479fe8e6",
   "metadata": {},
   "outputs": [
    {
     "data": {
      "text/plain": [
       "0.8500000000000001"
      ]
     },
     "execution_count": 6,
     "metadata": {},
     "output_type": "execute_result"
    }
   ],
   "source": [
    "sp.hyp1f1(-5,1,3)"
   ]
  },
  {
   "cell_type": "code",
   "execution_count": 7,
   "id": "3be999df",
   "metadata": {
    "scrolled": true
   },
   "outputs": [
    {
     "data": {
      "text/plain": [
       "154.0"
      ]
     },
     "execution_count": 7,
     "metadata": {},
     "output_type": "execute_result"
    }
   ],
   "source": [
    "sp.eval_legendre(3,4)"
   ]
  },
  {
   "cell_type": "code",
   "execution_count": 10,
   "id": "a4c0fb3d",
   "metadata": {},
   "outputs": [],
   "source": [
    "from mpmath import hyp2f1\n",
    "def eval_legendre(n,x):\n",
    "    return hyp2f1(-n, n+1, 1, (1-x)/2)"
   ]
  },
  {
   "cell_type": "code",
   "execution_count": 11,
   "id": "135f5b9e",
   "metadata": {},
   "outputs": [
    {
     "data": {
      "text/plain": [
       "mpf('154.0')"
      ]
     },
     "execution_count": 11,
     "metadata": {},
     "output_type": "execute_result"
    }
   ],
   "source": [
    "eval_legendre(3,4)"
   ]
  },
  {
   "cell_type": "code",
   "execution_count": 12,
   "id": "6ef37bd5",
   "metadata": {},
   "outputs": [
    {
     "data": {
      "text/plain": [
       "244.0"
      ]
     },
     "execution_count": 12,
     "metadata": {},
     "output_type": "execute_result"
    }
   ],
   "source": [
    "sp.eval_chebyt(3,4)"
   ]
  },
  {
   "cell_type": "code",
   "execution_count": 13,
   "id": "8a08c51d",
   "metadata": {},
   "outputs": [],
   "source": [
    "from mpmath import hyp2f1\n",
    "def eval_chebyt(n,x):\n",
    "    return hyp2f1(n, -n, 1/2, (1-x)/2)"
   ]
  },
  {
   "cell_type": "code",
   "execution_count": 14,
   "id": "60ff2dd6",
   "metadata": {},
   "outputs": [
    {
     "data": {
      "text/plain": [
       "mpf('244.0')"
      ]
     },
     "execution_count": 14,
     "metadata": {},
     "output_type": "execute_result"
    }
   ],
   "source": [
    "eval_chebyt(3,4)"
   ]
  },
  {
   "cell_type": "code",
   "execution_count": 15,
   "id": "e05674e9",
   "metadata": {},
   "outputs": [
    {
     "data": {
      "text/plain": [
       "980.0"
      ]
     },
     "execution_count": 15,
     "metadata": {},
     "output_type": "execute_result"
    }
   ],
   "source": [
    "sp.eval_chebyu(3,5)"
   ]
  },
  {
   "cell_type": "code",
   "execution_count": 16,
   "id": "184f2b80",
   "metadata": {},
   "outputs": [],
   "source": [
    "from mpmath import hyp2f1\n",
    "def eval_chebyu(n,x):\n",
    "    return (n+1)* hyp2f1(-n, n+2, 3/2, (1-x)/2)"
   ]
  },
  {
   "cell_type": "code",
   "execution_count": 17,
   "id": "7937547d",
   "metadata": {},
   "outputs": [
    {
     "data": {
      "text/plain": [
       "mpf('980.0')"
      ]
     },
     "execution_count": 17,
     "metadata": {},
     "output_type": "execute_result"
    }
   ],
   "source": [
    "eval_chebyu(3,5)"
   ]
  },
  {
   "cell_type": "code",
   "execution_count": 18,
   "id": "4ada0f0d",
   "metadata": {},
   "outputs": [
    {
     "data": {
      "text/plain": [
       "110.0"
      ]
     },
     "execution_count": 18,
     "metadata": {},
     "output_type": "execute_result"
    }
   ],
   "source": [
    "sp.eval_chebyc(3,5)"
   ]
  },
  {
   "cell_type": "code",
   "execution_count": 19,
   "id": "1f84360c",
   "metadata": {},
   "outputs": [],
   "source": [
    "import scipy.special as sp \n",
    "def eval_chebyc(n,x):\n",
    "    return 2*sp.eval_chebyt(n,x/2)"
   ]
  },
  {
   "cell_type": "code",
   "execution_count": 20,
   "id": "6dcd15b1",
   "metadata": {},
   "outputs": [
    {
     "data": {
      "text/plain": [
       "110.0"
      ]
     },
     "execution_count": 20,
     "metadata": {},
     "output_type": "execute_result"
    }
   ],
   "source": [
    "eval_chebyc(3,5)"
   ]
  },
  {
   "cell_type": "code",
   "execution_count": 21,
   "id": "b5d1a837",
   "metadata": {},
   "outputs": [
    {
     "data": {
      "text/plain": [
       "115.0"
      ]
     },
     "execution_count": 21,
     "metadata": {},
     "output_type": "execute_result"
    }
   ],
   "source": [
    "sp.eval_chebys(3,5)"
   ]
  },
  {
   "cell_type": "code",
   "execution_count": 24,
   "id": "caf01e72",
   "metadata": {},
   "outputs": [],
   "source": [
    "import scipy.special as sp \n",
    "def eval_chebys(n,x):\n",
    "    return sp.eval_chebyu(n,x/2)"
   ]
  },
  {
   "cell_type": "code",
   "execution_count": 25,
   "id": "ecb7b613",
   "metadata": {},
   "outputs": [
    {
     "data": {
      "text/plain": [
       "115.0"
      ]
     },
     "execution_count": 25,
     "metadata": {},
     "output_type": "execute_result"
    }
   ],
   "source": [
    "eval_chebys(3,5)"
   ]
  },
  {
   "cell_type": "code",
   "execution_count": 32,
   "id": "e2cec5ff",
   "metadata": {},
   "outputs": [],
   "source": [
    "from mpmath import hyp2f1\n",
    "from scipy.special import poch\n",
    "from math import gamma\n",
    "def eval_jacobi(n,alpha,beta,x):\n",
    "    return (poch(alpha+1,n)/gamma(n+1))* hyp2f1(-n, 1+alpha+beta+n, alpha+1, (1-x)/2) "
   ]
  },
  {
   "cell_type": "code",
   "execution_count": 33,
   "id": "8a5f20e1",
   "metadata": {
    "scrolled": true
   },
   "outputs": [
    {
     "data": {
      "text/plain": [
       "182.99999999999997"
      ]
     },
     "execution_count": 33,
     "metadata": {},
     "output_type": "execute_result"
    }
   ],
   "source": [
    "sp.eval_jacobi(2,5,4,3)"
   ]
  },
  {
   "cell_type": "code",
   "execution_count": 34,
   "id": "6a005cb9",
   "metadata": {},
   "outputs": [
    {
     "data": {
      "text/plain": [
       "mpf('182.99999999999997')"
      ]
     },
     "execution_count": 34,
     "metadata": {},
     "output_type": "execute_result"
    }
   ],
   "source": [
    "eval_jacobi(2,5,4,3)"
   ]
  },
  {
   "cell_type": "code",
   "execution_count": null,
   "id": "925e8dc7",
   "metadata": {},
   "outputs": [],
   "source": [
    "sp.poch()"
   ]
  },
  {
   "cell_type": "markdown",
   "id": "a7044755",
   "metadata": {},
   "source": [
    "https://keisan.casio.com/exec/system/1180573413"
   ]
  },
  {
   "cell_type": "code",
   "execution_count": null,
   "id": "21d6ae69",
   "metadata": {},
   "outputs": [],
   "source": []
  },
  {
   "cell_type": "code",
   "execution_count": 1,
   "id": "178aba58",
   "metadata": {},
   "outputs": [],
   "source": [
    "import scipy.special as sp "
   ]
  },
  {
   "cell_type": "code",
   "execution_count": 3,
   "id": "da0b31fd",
   "metadata": {},
   "outputs": [
    {
     "data": {
      "text/plain": [
       "(1.0, -5.251118827160495, -17844.464395436426)"
      ]
     },
     "execution_count": 3,
     "metadata": {},
     "output_type": "execute_result"
    }
   ],
   "source": [
    "sp.eval_laguerre(2,4),sp.eval_laguerre(9,7),sp.eval_laguerre(32,25)"
   ]
  },
  {
   "cell_type": "code",
   "execution_count": 6,
   "id": "e20ea860",
   "metadata": {},
   "outputs": [
    {
     "data": {
      "text/plain": [
       "(1.0, -5.251118827160495)"
      ]
     },
     "execution_count": 6,
     "metadata": {},
     "output_type": "execute_result"
    }
   ],
   "source": [
    "sp.assoc_laguerre(4,2), sp.assoc_laguerre(7,9)"
   ]
  },
  {
   "cell_type": "code",
   "execution_count": 7,
   "id": "58d83bb5",
   "metadata": {},
   "outputs": [],
   "source": [
    "import mpmath as mp\n",
    "def eval_laguerre(n,x):\n",
    "    return mp.hyp1f1(-n,1,x)"
   ]
  },
  {
   "cell_type": "code",
   "execution_count": null,
   "id": "fb6d3095",
   "metadata": {},
   "outputs": [],
   "source": []
  },
  {
   "cell_type": "code",
   "execution_count": 8,
   "id": "a80ec68e",
   "metadata": {},
   "outputs": [
    {
     "data": {
      "text/plain": [
       "mpf('1.0')"
      ]
     },
     "execution_count": 8,
     "metadata": {},
     "output_type": "execute_result"
    }
   ],
   "source": [
    "eval_laguerre(2,4)"
   ]
  },
  {
   "cell_type": "code",
   "execution_count": 9,
   "id": "3428e8ce",
   "metadata": {},
   "outputs": [
    {
     "data": {
      "text/plain": [
       "mpf('-5.2511188271604938')"
      ]
     },
     "execution_count": 9,
     "metadata": {},
     "output_type": "execute_result"
    }
   ],
   "source": [
    "eval_laguerre(9,7)"
   ]
  },
  {
   "cell_type": "code",
   "execution_count": 14,
   "id": "f28e8fab",
   "metadata": {},
   "outputs": [],
   "source": [
    "import scipy.special as sp \n",
    "import mpmath as mp \n",
    "def eval_genlaguerre(n,alpha,x):\n",
    "    return sp.binom(n+alpha,n)*mp.hyp1f1(-n,alpha+1,x)"
   ]
  },
  {
   "cell_type": "code",
   "execution_count": 15,
   "id": "f39bb1ad",
   "metadata": {},
   "outputs": [
    {
     "data": {
      "text/plain": [
       "(-2.5, -9.333333333333332)"
      ]
     },
     "execution_count": 15,
     "metadata": {},
     "output_type": "execute_result"
    }
   ],
   "source": [
    "sp.eval_genlaguerre(2,4,5), sp.eval_genlaguerre(3,9,8)"
   ]
  },
  {
   "cell_type": "code",
   "execution_count": 17,
   "id": "707c7120",
   "metadata": {},
   "outputs": [
    {
     "data": {
      "text/plain": [
       "(mpf('-2.5'), mpf('-9.3333333333333339'))"
      ]
     },
     "execution_count": 17,
     "metadata": {},
     "output_type": "execute_result"
    }
   ],
   "source": [
    "eval_genlaguerre(2,4,5), eval_genlaguerre(3,9,8)"
   ]
  },
  {
   "cell_type": "code",
   "execution_count": 18,
   "id": "410b8715",
   "metadata": {},
   "outputs": [
    {
     "data": {
      "text/plain": [
       "464.0000000000002"
      ]
     },
     "execution_count": 18,
     "metadata": {},
     "output_type": "execute_result"
    }
   ],
   "source": [
    "sp.eval_hermite(3,4)"
   ]
  },
  {
   "cell_type": "code",
   "execution_count": 22,
   "id": "5446f43b",
   "metadata": {},
   "outputs": [],
   "source": [
    "from math import gamma\n",
    "import mpmath as mp \n",
    "import scipy.special as sp\n",
    "def eval_gegenbauer(n,alpha,z):\n",
    "    return (sp.poch(2*alpha,n)/gamma(n+1))*(mp.hyp2f1(-n,2*alpha+n, alpha+(1/2), (1-z)/2))"
   ]
  },
  {
   "cell_type": "code",
   "execution_count": 23,
   "id": "e1e133ea",
   "metadata": {},
   "outputs": [
    {
     "data": {
      "text/plain": [
       "34320.0"
      ]
     },
     "execution_count": 23,
     "metadata": {},
     "output_type": "execute_result"
    }
   ],
   "source": [
    "sp.eval_gegenbauer(3,4,6)"
   ]
  },
  {
   "cell_type": "code",
   "execution_count": 24,
   "id": "f8b3ba94",
   "metadata": {},
   "outputs": [
    {
     "data": {
      "text/plain": [
       "mpf('34320.0')"
      ]
     },
     "execution_count": 24,
     "metadata": {},
     "output_type": "execute_result"
    }
   ],
   "source": [
    "eval_gegenbauer(3,4,6)"
   ]
  },
  {
   "cell_type": "code",
   "execution_count": null,
   "id": "f05c7ed5",
   "metadata": {},
   "outputs": [],
   "source": []
  },
  {
   "cell_type": "code",
   "execution_count": null,
   "id": "69c652b5",
   "metadata": {},
   "outputs": [],
   "source": []
  },
  {
   "cell_type": "code",
   "execution_count": 25,
   "id": "b9902c44",
   "metadata": {},
   "outputs": [
    {
     "data": {
      "text/plain": [
       "28401.000000000004"
      ]
     },
     "execution_count": 25,
     "metadata": {},
     "output_type": "execute_result"
    }
   ],
   "source": [
    "sp.eval_sh_legendre(4,5)"
   ]
  },
  {
   "cell_type": "code",
   "execution_count": 30,
   "id": "d2cdaeff",
   "metadata": {},
   "outputs": [],
   "source": [
    "import scipy.special as sp \n",
    "def eval_sh_legendre(n,x):\n",
    "    return sp.eval_legendre(n,2*x-1)"
   ]
  },
  {
   "cell_type": "code",
   "execution_count": 29,
   "id": "a52be8d2",
   "metadata": {},
   "outputs": [
    {
     "data": {
      "text/plain": [
       "28401.000000000004"
      ]
     },
     "execution_count": 29,
     "metadata": {},
     "output_type": "execute_result"
    }
   ],
   "source": [
    "eval_sh_legendre(4,5)"
   ]
  },
  {
   "cell_type": "code",
   "execution_count": null,
   "id": "f7d4f3f1",
   "metadata": {},
   "outputs": [],
   "source": [
    "sp."
   ]
  },
  {
   "cell_type": "code",
   "execution_count": 31,
   "id": "ef4d202e",
   "metadata": {},
   "outputs": [],
   "source": [
    "import scipy.special as sp\n",
    "def eval_sh_chebyt(n,x):\n",
    "    return sp.eval_chebyt(n,2*x-1)"
   ]
  },
  {
   "cell_type": "code",
   "execution_count": 32,
   "id": "31dbf44a",
   "metadata": {},
   "outputs": [
    {
     "data": {
      "text/plain": [
       "2889.0"
      ]
     },
     "execution_count": 32,
     "metadata": {},
     "output_type": "execute_result"
    }
   ],
   "source": [
    "sp.eval_sh_chebyt(3,5)"
   ]
  },
  {
   "cell_type": "code",
   "execution_count": 33,
   "id": "0a252b32",
   "metadata": {},
   "outputs": [
    {
     "data": {
      "text/plain": [
       "2889.0"
      ]
     },
     "execution_count": 33,
     "metadata": {},
     "output_type": "execute_result"
    }
   ],
   "source": [
    "eval_sh_chebyt(3,5)"
   ]
  },
  {
   "cell_type": "code",
   "execution_count": 34,
   "id": "18ba86df",
   "metadata": {},
   "outputs": [],
   "source": [
    "import scipy.special as sp \n",
    "def eval_sh_chebyu(n,x):\n",
    "    return sp.eval_chebyu(n,2*x-1)"
   ]
  },
  {
   "cell_type": "code",
   "execution_count": 35,
   "id": "c84c9faa",
   "metadata": {},
   "outputs": [
    {
     "data": {
      "text/plain": [
       "5796.0"
      ]
     },
     "execution_count": 35,
     "metadata": {},
     "output_type": "execute_result"
    }
   ],
   "source": [
    "sp.eval_sh_chebyu(3,5)"
   ]
  },
  {
   "cell_type": "code",
   "execution_count": 36,
   "id": "554dc984",
   "metadata": {},
   "outputs": [
    {
     "data": {
      "text/plain": [
       "5796.0"
      ]
     },
     "execution_count": 36,
     "metadata": {},
     "output_type": "execute_result"
    }
   ],
   "source": [
    "eval_sh_chebyu(3,5)"
   ]
  },
  {
   "cell_type": "code",
   "execution_count": 50,
   "id": "8d28164f",
   "metadata": {},
   "outputs": [
    {
     "data": {
      "text/plain": [
       "(5479.83346508564, 1698.481742579325)"
      ]
     },
     "execution_count": 50,
     "metadata": {},
     "output_type": "execute_result"
    }
   ],
   "source": [
    "sp.eval_sh_jacobi(13,41,15,18),sp.eval_sh_jacobi(13,61,7,2)"
   ]
  },
  {
   "cell_type": "code",
   "execution_count": 47,
   "id": "327baeb8",
   "metadata": {},
   "outputs": [],
   "source": [
    "def eval_sh_jacobi(n,p,q,x):\n",
    "    return (sp.binom(2*n+p-1,n)**(-1)) * (sp.eval_jacobi(n,p-q,q-1,2*x-1))"
   ]
  },
  {
   "cell_type": "code",
   "execution_count": 51,
   "id": "9cedf838",
   "metadata": {},
   "outputs": [
    {
     "data": {
      "text/plain": [
       "(1.5429080075612416e+16, nan)"
      ]
     },
     "execution_count": 51,
     "metadata": {},
     "output_type": "execute_result"
    }
   ],
   "source": [
    "eval_sh_jacobi(13,41,15,18),eval_sh_jacobi(3,4,5,8)"
   ]
  },
  {
   "cell_type": "markdown",
   "id": "e541ffb4",
   "metadata": {},
   "source": [
    "https://en.wikipedia.org/wiki/Hermite_polynomials"
   ]
  },
  {
   "cell_type": "code",
   "execution_count": null,
   "id": "ef601e6c",
   "metadata": {},
   "outputs": [],
   "source": []
  },
  {
   "cell_type": "code",
   "execution_count": null,
   "id": "6963f958",
   "metadata": {},
   "outputs": [],
   "source": []
  },
  {
   "cell_type": "code",
   "execution_count": null,
   "id": "260c7ff5",
   "metadata": {},
   "outputs": [],
   "source": []
  },
  {
   "cell_type": "code",
   "execution_count": null,
   "id": "54934728",
   "metadata": {},
   "outputs": [],
   "source": []
  },
  {
   "cell_type": "code",
   "execution_count": null,
   "id": "e6c788c3",
   "metadata": {},
   "outputs": [],
   "source": []
  },
  {
   "cell_type": "code",
   "execution_count": null,
   "id": "9dd773ce",
   "metadata": {},
   "outputs": [],
   "source": []
  }
 ],
 "metadata": {
  "kernelspec": {
   "display_name": "Python 3 (ipykernel)",
   "language": "python",
   "name": "python3"
  },
  "language_info": {
   "codemirror_mode": {
    "name": "ipython",
    "version": 3
   },
   "file_extension": ".py",
   "mimetype": "text/x-python",
   "name": "python",
   "nbconvert_exporter": "python",
   "pygments_lexer": "ipython3",
   "version": "3.9.12"
  }
 },
 "nbformat": 4,
 "nbformat_minor": 5
}
