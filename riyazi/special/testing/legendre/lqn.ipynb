{
 "cells": [
  {
   "cell_type": "code",
   "execution_count": 1,
   "id": "eaa613dd",
   "metadata": {},
   "outputs": [],
   "source": [
    "from math import sqrt,gamma,pi\n",
    "from mpmath import hyp2f1 \n",
    "\n",
    "def lqn(v,z):\n",
    "    return (sqrt(pi)*gamma(v+1)*hyp2f1((v+1)/2, (v+2)/1, v+(3/2), (1/pow(z,2)))) / ( pow(2*z,v+1)*gamma(v+3/2))"
   ]
  },
  {
   "cell_type": "code",
   "execution_count": null,
   "id": "5fe65750",
   "metadata": {},
   "outputs": [],
   "source": []
  }
 ],
 "metadata": {
  "kernelspec": {
   "display_name": "Python 3 (ipykernel)",
   "language": "python",
   "name": "python3"
  },
  "language_info": {
   "codemirror_mode": {
    "name": "ipython",
    "version": 3
   },
   "file_extension": ".py",
   "mimetype": "text/x-python",
   "name": "python",
   "nbconvert_exporter": "python",
   "pygments_lexer": "ipython3",
   "version": "3.9.12"
  }
 },
 "nbformat": 4,
 "nbformat_minor": 5
}
