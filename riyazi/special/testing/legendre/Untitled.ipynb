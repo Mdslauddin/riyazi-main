{
 "cells": [
  {
   "cell_type": "markdown",
   "id": "35a017f0",
   "metadata": {},
   "source": [
    "https://en.wikipedia.org/wiki/Legendre_polynomials"
   ]
  },
  {
   "cell_type": "markdown",
   "id": "9d5fd5d6",
   "metadata": {},
   "source": [
    "https://www.physics.uoguelph.ca/chapter-3-legendre-polynomials"
   ]
  },
  {
   "cell_type": "markdown",
   "id": "f2345bd0",
   "metadata": {},
   "source": [
    "https://en.wikipedia.org/wiki/Legendre_function"
   ]
  },
  {
   "cell_type": "markdown",
   "id": "9a55d6dc",
   "metadata": {},
   "source": [
    "https://en.wikipedia.org/wiki/Associated_Legendre_polynomials"
   ]
  },
  {
   "cell_type": "code",
   "execution_count": 36,
   "id": "53699c99",
   "metadata": {},
   "outputs": [],
   "source": [
    "import scipy.special as sp"
   ]
  },
  {
   "cell_type": "code",
   "execution_count": 37,
   "id": "c127fdf9",
   "metadata": {},
   "outputs": [
    {
     "data": {
      "text/plain": [
       "-2.525249999999999"
      ]
     },
     "execution_count": 37,
     "metadata": {},
     "output_type": "execute_result"
    }
   ],
   "source": [
    "sp.lpmv(2,4,0.3)"
   ]
  },
  {
   "cell_type": "code",
   "execution_count": 38,
   "id": "73430622",
   "metadata": {},
   "outputs": [
    {
     "data": {
      "text/plain": [
       "(-0.008541685632405871+0.058080997641561515j)"
      ]
     },
     "execution_count": 38,
     "metadata": {},
     "output_type": "execute_result"
    }
   ],
   "source": [
    "sp.sph_harm(2,4,4,2)"
   ]
  },
  {
   "cell_type": "code",
   "execution_count": 39,
   "id": "1212ed3c",
   "metadata": {},
   "outputs": [
    {
     "data": {
      "text/plain": [
       "(array([[1.+0.j, 1.+0.j],\n",
       "        [0.+0.j, 0.+0.j]]),\n",
       " array([[ 0.+0.j,  1.+0.j],\n",
       "        [ 0.+0.j, inf+0.j]]))"
      ]
     },
     "execution_count": 39,
     "metadata": {},
     "output_type": "execute_result"
    }
   ],
   "source": [
    "sp.clpmn(1,1,1)"
   ]
  },
  {
   "cell_type": "code",
   "execution_count": null,
   "id": "63ca5a9a",
   "metadata": {},
   "outputs": [],
   "source": [
    "sp.lpmn(3,6,8)"
   ]
  },
  {
   "cell_type": "code",
   "execution_count": null,
   "id": "a57a10bd",
   "metadata": {},
   "outputs": [],
   "source": [
    "sp.lpn(3,0.5)"
   ]
  },
  {
   "cell_type": "code",
   "execution_count": null,
   "id": "c6daebf5",
   "metadata": {},
   "outputs": [],
   "source": [
    "sp.lqn(3,0.5)"
   ]
  },
  {
   "cell_type": "code",
   "execution_count": null,
   "id": "9c7b73f3",
   "metadata": {},
   "outputs": [],
   "source": [
    "lpn(3,0.5)"
   ]
  },
  {
   "cell_type": "code",
   "execution_count": null,
   "id": "dfbaa63a",
   "metadata": {},
   "outputs": [],
   "source": [
    "from mpmath import hyp2f1\n",
    "\n",
    "def lpn(n,z):\n",
    "    return hyp2f1(-n, n+1, 1, (1-z)/2)"
   ]
  },
  {
   "cell_type": "code",
   "execution_count": null,
   "id": "4d2fb05e",
   "metadata": {},
   "outputs": [],
   "source": [
    "lpn(3,0.5)"
   ]
  },
  {
   "cell_type": "code",
   "execution_count": 3,
   "id": "610a3591",
   "metadata": {},
   "outputs": [
    {
     "ename": "SyntaxError",
     "evalue": "unexpected EOF while parsing (1402479448.py, line 4)",
     "output_type": "error",
     "traceback": [
      "\u001b[1;36m  Input \u001b[1;32mIn [3]\u001b[1;36m\u001b[0m\n\u001b[1;33m    return (sqrt(pi)*gamma(v+1) * hyp2f1( (v+1)/2, (v/2)+1, v+(3/2),  (1/pow(z,2) ) / (pow(2*z,v+1)* gamma(v+3/2))\u001b[0m\n\u001b[1;37m                                                                                                                   ^\u001b[0m\n\u001b[1;31mSyntaxError\u001b[0m\u001b[1;31m:\u001b[0m unexpected EOF while parsing\n"
     ]
    }
   ],
   "source": [
    "from math import sqrt,gamma\n",
    "from mpmath import hyp2f1 \n",
    "def lqn(v,z):\n",
    "    return (sqrt(pi)*gamma(v+1) * hyp2f1( (v+1)/2, (v/2)+1, v+(3/2),  (1/pow(z,2) ) / (pow(2*z,v+1)* gamma(v+3/2)) "
   ]
  },
  {
   "cell_type": "code",
   "execution_count": 6,
   "id": "57150493",
   "metadata": {},
   "outputs": [],
   "source": [
    "from math import sqrt,gamma,pi\n",
    "from mpmath import hyp2f1 \n",
    "\n",
    "def lqn(v,z):\n",
    "    return (sqrt(pi)*gamma(v+1)*hyp2f1((v+1)/2, (v+2)/1, v+(3/2), (1/pow(z,2)))) / ( pow(2*z,v+1)*gamma(v+3/2))"
   ]
  },
  {
   "cell_type": "code",
   "execution_count": 7,
   "id": "06075efd",
   "metadata": {},
   "outputs": [
    {
     "data": {
      "text/plain": [
       "mpc(real='0.059621382172295422', imag='-0.0026569326624524682')"
      ]
     },
     "execution_count": 7,
     "metadata": {},
     "output_type": "execute_result"
    }
   ],
   "source": [
    "lqn(3,0.5)"
   ]
  },
  {
   "cell_type": "code",
   "execution_count": 10,
   "id": "0eb6099c",
   "metadata": {},
   "outputs": [
    {
     "data": {
      "text/plain": [
       "(array([ 0.54930614, -0.72534693, -0.81866327, -0.19865477]),\n",
       " array([ 1.33333333,  1.21597281, -0.84270745, -2.87734353]))"
      ]
     },
     "execution_count": 10,
     "metadata": {},
     "output_type": "execute_result"
    }
   ],
   "source": [
    "sp.lqn(3,0.5)"
   ]
  },
  {
   "cell_type": "code",
   "execution_count": 29,
   "id": "5ff873f4",
   "metadata": {},
   "outputs": [],
   "source": [
    "from math import sqrt,factorial,pi,cos,e\n",
    "import scipy.special as sp\n",
    "def sph_harm(m,n,theta,phi):\n",
    "    root = sqrt( ((2*n+1)*factorial(n-m)) / ((4*pi)*factorial(n+m)))\n",
    "    exp = pow(e,1j*m*theta)*sp.lpmv(m,n,cos(phi))\n",
    "    return (root*exp) "
   ]
  },
  {
   "cell_type": "code",
   "execution_count": 30,
   "id": "ce43dcc7",
   "metadata": {},
   "outputs": [
    {
     "data": {
      "text/plain": [
       "(0.0029316823098238993-0.019934593785176504j)"
      ]
     },
     "execution_count": 30,
     "metadata": {},
     "output_type": "execute_result"
    }
   ],
   "source": [
    "sph_harm(2,3,4,3)"
   ]
  },
  {
   "cell_type": "code",
   "execution_count": 26,
   "id": "c6e54712",
   "metadata": {},
   "outputs": [
    {
     "data": {
      "text/plain": [
       "(0.002931682309823898-0.019934593785176497j)"
      ]
     },
     "execution_count": 26,
     "metadata": {},
     "output_type": "execute_result"
    }
   ],
   "source": [
    "sp.sph_harm(2,3,4,3)"
   ]
  },
  {
   "cell_type": "code",
   "execution_count": 24,
   "id": "e9e75f6d",
   "metadata": {},
   "outputs": [
    {
     "data": {
      "text/plain": [
       "7"
      ]
     },
     "execution_count": 24,
     "metadata": {},
     "output_type": "execute_result"
    }
   ],
   "source": [
    "(2*3)+1"
   ]
  },
  {
   "cell_type": "code",
   "execution_count": 31,
   "id": "7da5d055",
   "metadata": {},
   "outputs": [
    {
     "data": {
      "text/plain": [
       "0.0"
      ]
     },
     "execution_count": 31,
     "metadata": {},
     "output_type": "execute_result"
    }
   ],
   "source": [
    "sp.lpmv(3,2,-0.5)"
   ]
  },
  {
   "cell_type": "code",
   "execution_count": 32,
   "id": "b3ffffe2",
   "metadata": {},
   "outputs": [
    {
     "data": {
      "text/plain": [
       "nan"
      ]
     },
     "execution_count": 32,
     "metadata": {},
     "output_type": "execute_result"
    }
   ],
   "source": [
    "sp.lpmv(2,3,2)"
   ]
  },
  {
   "cell_type": "markdown",
   "id": "167dee67",
   "metadata": {},
   "source": [
    "https://dlmf.nist.gov/14.7"
   ]
  },
  {
   "cell_type": "code",
   "execution_count": 40,
   "id": "2aacfc09",
   "metadata": {},
   "outputs": [
    {
     "data": {
      "text/plain": [
       "-9.172799999999999"
      ]
     },
     "execution_count": 40,
     "metadata": {},
     "output_type": "execute_result"
    }
   ],
   "source": [
    "sp.lpmv(2,5,0.4)"
   ]
  },
  {
   "cell_type": "code",
   "execution_count": 41,
   "id": "8a481663",
   "metadata": {},
   "outputs": [],
   "source": [
    "import math"
   ]
  },
  {
   "cell_type": "code",
   "execution_count": 43,
   "id": "c57f9f09",
   "metadata": {},
   "outputs": [
    {
     "data": {
      "text/plain": [
       "-3.7229806220320425"
      ]
     },
     "execution_count": 43,
     "metadata": {},
     "output_type": "execute_result"
    }
   ],
   "source": [
    "math.gamma(-0.4)"
   ]
  },
  {
   "cell_type": "code",
   "execution_count": 80,
   "id": "a25c0f5f",
   "metadata": {},
   "outputs": [],
   "source": [
    "from math import gamma \n",
    "from mpmath import hyp2f1 \n",
    "def lpmv(m,n,z):\n",
    "    return  ( (1/gamma(1-m))* (pow(1+z,m/2)/ pow(1-z,m/2)))/ hyp2f1(-n,n+1,1-m,(1-z)/2)"
   ]
  },
  {
   "cell_type": "code",
   "execution_count": 83,
   "id": "bd1276da",
   "metadata": {},
   "outputs": [
    {
     "data": {
      "text/plain": [
       "mpf('-1309067.583468969')"
      ]
     },
     "execution_count": 83,
     "metadata": {},
     "output_type": "execute_result"
    }
   ],
   "source": [
    "lpmv(9.3,5,0.5)"
   ]
  },
  {
   "cell_type": "code",
   "execution_count": 79,
   "id": "5f1c780f",
   "metadata": {},
   "outputs": [
    {
     "data": {
      "text/plain": [
       "3.2"
      ]
     },
     "execution_count": 79,
     "metadata": {},
     "output_type": "execute_result"
    }
   ],
   "source": [
    "a=3\n",
    "a+0.2"
   ]
  },
  {
   "cell_type": "code",
   "execution_count": 84,
   "id": "9d6725c8",
   "metadata": {},
   "outputs": [
    {
     "data": {
      "text/plain": [
       "nan"
      ]
     },
     "execution_count": 84,
     "metadata": {},
     "output_type": "execute_result"
    }
   ],
   "source": [
    "sp.lpmv(9.3,5,0.5)"
   ]
  },
  {
   "cell_type": "code",
   "execution_count": 60,
   "id": "250f51bf",
   "metadata": {},
   "outputs": [
    {
     "data": {
      "text/plain": [
       "99.59128511327789"
      ]
     },
     "execution_count": 60,
     "metadata": {},
     "output_type": "execute_result"
    }
   ],
   "source": [
    "math.gamma(-1.01)"
   ]
  },
  {
   "cell_type": "code",
   "execution_count": 61,
   "id": "d91e0cbc",
   "metadata": {},
   "outputs": [],
   "source": [
    "import mpmath"
   ]
  },
  {
   "cell_type": "code",
   "execution_count": 72,
   "id": "bf65dd6c",
   "metadata": {},
   "outputs": [
    {
     "data": {
      "text/plain": [
       "4503599627370495.0"
      ]
     },
     "execution_count": 72,
     "metadata": {},
     "output_type": "execute_result"
    }
   ],
   "source": [
    "math.gamma(1.2-2.2)"
   ]
  },
  {
   "cell_type": "code",
   "execution_count": 74,
   "id": "c8829a95",
   "metadata": {},
   "outputs": [
    {
     "ename": "SyntaxError",
     "evalue": "invalid syntax (367204791.py, line 2)",
     "output_type": "error",
     "traceback": [
      "\u001b[1;36m  Input \u001b[1;32mIn [74]\u001b[1;36m\u001b[0m\n\u001b[1;33m    a.2\u001b[0m\n\u001b[1;37m     ^\u001b[0m\n\u001b[1;31mSyntaxError\u001b[0m\u001b[1;31m:\u001b[0m invalid syntax\n"
     ]
    }
   ],
   "source": []
  },
  {
   "cell_type": "code",
   "execution_count": 73,
   "id": "6bcfae5b",
   "metadata": {
    "scrolled": true
   },
   "outputs": [
    {
     "data": {
      "text/plain": [
       "-1.0000000000000002"
      ]
     },
     "execution_count": 73,
     "metadata": {},
     "output_type": "execute_result"
    }
   ],
   "source": [
    "1.2-2.2"
   ]
  },
  {
   "cell_type": "code",
   "execution_count": 62,
   "id": "0e102676",
   "metadata": {},
   "outputs": [
    {
     "ename": "ValueError",
     "evalue": "gamma function pole",
     "output_type": "error",
     "traceback": [
      "\u001b[1;31m---------------------------------------------------------------------------\u001b[0m",
      "\u001b[1;31mValueError\u001b[0m                                Traceback (most recent call last)",
      "Input \u001b[1;32mIn [62]\u001b[0m, in \u001b[0;36m<cell line: 1>\u001b[1;34m()\u001b[0m\n\u001b[1;32m----> 1\u001b[0m \u001b[43mmpmath\u001b[49m\u001b[38;5;241;43m.\u001b[39;49m\u001b[43mgamma\u001b[49m\u001b[43m(\u001b[49m\u001b[38;5;241;43m1\u001b[39;49m\u001b[38;5;241;43m-\u001b[39;49m\u001b[38;5;241;43m2\u001b[39;49m\u001b[43m)\u001b[49m\n",
      "File \u001b[1;32mD:\\Anaconda\\lib\\site-packages\\mpmath\\ctx_mp_python.py:998\u001b[0m, in \u001b[0;36mPythonMPContext._wrap_libmp_function.<locals>.f\u001b[1;34m(x, **kwargs)\u001b[0m\n\u001b[0;32m    996\u001b[0m \u001b[38;5;28;01mif\u001b[39;00m \u001b[38;5;28mhasattr\u001b[39m(x, \u001b[38;5;124m'\u001b[39m\u001b[38;5;124m_mpf_\u001b[39m\u001b[38;5;124m'\u001b[39m):\n\u001b[0;32m    997\u001b[0m     \u001b[38;5;28;01mtry\u001b[39;00m:\n\u001b[1;32m--> 998\u001b[0m         \u001b[38;5;28;01mreturn\u001b[39;00m ctx\u001b[38;5;241m.\u001b[39mmake_mpf(\u001b[43mmpf_f\u001b[49m\u001b[43m(\u001b[49m\u001b[43mx\u001b[49m\u001b[38;5;241;43m.\u001b[39;49m\u001b[43m_mpf_\u001b[49m\u001b[43m,\u001b[49m\u001b[43m \u001b[49m\u001b[43mprec\u001b[49m\u001b[43m,\u001b[49m\u001b[43m \u001b[49m\u001b[43mrounding\u001b[49m\u001b[43m)\u001b[49m)\n\u001b[0;32m    999\u001b[0m     \u001b[38;5;28;01mexcept\u001b[39;00m ComplexResult:\n\u001b[0;32m   1000\u001b[0m         \u001b[38;5;66;03m# Handle propagation to complex\u001b[39;00m\n\u001b[0;32m   1001\u001b[0m         \u001b[38;5;28;01mif\u001b[39;00m ctx\u001b[38;5;241m.\u001b[39mtrap_complex:\n",
      "File \u001b[1;32mD:\\Anaconda\\lib\\site-packages\\mpmath\\libmp\\gammazeta.py:1732\u001b[0m, in \u001b[0;36mmpf_gamma\u001b[1;34m(x, prec, rnd, type)\u001b[0m\n\u001b[0;32m   1730\u001b[0m     \u001b[38;5;28;01mif\u001b[39;00m \u001b[38;5;28mtype\u001b[39m \u001b[38;5;241m==\u001b[39m \u001b[38;5;241m2\u001b[39m:\n\u001b[0;32m   1731\u001b[0m         \u001b[38;5;28;01mreturn\u001b[39;00m fzero\n\u001b[1;32m-> 1732\u001b[0m     \u001b[38;5;28;01mraise\u001b[39;00m \u001b[38;5;167;01mValueError\u001b[39;00m(\u001b[38;5;124m\"\u001b[39m\u001b[38;5;124mgamma function pole\u001b[39m\u001b[38;5;124m\"\u001b[39m)\n\u001b[0;32m   1733\u001b[0m \u001b[38;5;66;03m# n = x\u001b[39;00m\n\u001b[0;32m   1734\u001b[0m n \u001b[38;5;241m=\u001b[39m man \u001b[38;5;241m<<\u001b[39m exp\n",
      "\u001b[1;31mValueError\u001b[0m: gamma function pole"
     ]
    }
   ],
   "source": [
    "mpmath.gamma(1-2)"
   ]
  },
  {
   "cell_type": "code",
   "execution_count": 1,
   "id": "89ee44aa",
   "metadata": {},
   "outputs": [],
   "source": [
    "import scipy.special as sp "
   ]
  },
  {
   "cell_type": "code",
   "execution_count": 3,
   "id": "2bfc0715",
   "metadata": {},
   "outputs": [
    {
     "data": {
      "text/plain": [
       "4.095000000000001"
      ]
     },
     "execution_count": 3,
     "metadata": {},
     "output_type": "execute_result"
    }
   ],
   "source": [
    "sp.lpmv(2,3,0.3)"
   ]
  },
  {
   "cell_type": "code",
   "execution_count": 11,
   "id": "6a58cbab",
   "metadata": {},
   "outputs": [
    {
     "data": {
      "text/plain": [
       "(array([[1., 1., 1., 1.],\n",
       "        [0., 0., 0., 0.],\n",
       "        [0., 0., 0., 0.]]),\n",
       " array([[  0.,   1.,   3.,   6.],\n",
       "        [  0.,  inf,  inf,  inf],\n",
       "        [  0.,  -0.,  -6., -30.]]))"
      ]
     },
     "execution_count": 11,
     "metadata": {},
     "output_type": "execute_result"
    }
   ],
   "source": [
    "sp.lpmn(2,3,1)"
   ]
  },
  {
   "cell_type": "code",
   "execution_count": null,
   "id": "d33a3aa2",
   "metadata": {},
   "outputs": [],
   "source": []
  },
  {
   "cell_type": "code",
   "execution_count": 13,
   "id": "cedc79ed",
   "metadata": {},
   "outputs": [],
   "source": [
    "def lpmn(m,n,z):\n",
    "    m=m+1\n",
    "    n=n+1\n",
    "    return sp.lpmv(m,n,z)"
   ]
  },
  {
   "cell_type": "code",
   "execution_count": 14,
   "id": "7988adf1",
   "metadata": {},
   "outputs": [
    {
     "data": {
      "text/plain": [
       "-0.0"
      ]
     },
     "execution_count": 14,
     "metadata": {},
     "output_type": "execute_result"
    }
   ],
   "source": [
    "lpmn(2,3,1)"
   ]
  },
  {
   "cell_type": "code",
   "execution_count": null,
   "id": "144a3e15",
   "metadata": {},
   "outputs": [],
   "source": []
  }
 ],
 "metadata": {
  "kernelspec": {
   "display_name": "Python 3 (ipykernel)",
   "language": "python",
   "name": "python3"
  },
  "language_info": {
   "codemirror_mode": {
    "name": "ipython",
    "version": 3
   },
   "file_extension": ".py",
   "mimetype": "text/x-python",
   "name": "python",
   "nbconvert_exporter": "python",
   "pygments_lexer": "ipython3",
   "version": "3.9.12"
  }
 },
 "nbformat": 4,
 "nbformat_minor": 5
}
