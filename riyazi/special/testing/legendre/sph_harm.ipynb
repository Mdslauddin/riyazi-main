{
 "cells": [
  {
   "cell_type": "code",
   "execution_count": 1,
   "id": "f161b386",
   "metadata": {},
   "outputs": [],
   "source": [
    "from math import sqrt,factorial,pi,cos,e\n",
    "import scipy.special as sp\n",
    "def sph_harm(m,n,theta,phi):\n",
    "    root = sqrt( ((2*n+1)*factorial(n-m)) / ((4*pi)*factorial(n+m)))\n",
    "    exp = pow(e,1j*m*theta)*sp.lpmv(m,n,cos(phi))\n",
    "    return (root*exp) "
   ]
  },
  {
   "cell_type": "code",
   "execution_count": null,
   "id": "e35ee537",
   "metadata": {},
   "outputs": [],
   "source": []
  }
 ],
 "metadata": {
  "kernelspec": {
   "display_name": "Python 3 (ipykernel)",
   "language": "python",
   "name": "python3"
  },
  "language_info": {
   "codemirror_mode": {
    "name": "ipython",
    "version": 3
   },
   "file_extension": ".py",
   "mimetype": "text/x-python",
   "name": "python",
   "nbconvert_exporter": "python",
   "pygments_lexer": "ipython3",
   "version": "3.9.12"
  }
 },
 "nbformat": 4,
 "nbformat_minor": 5
}
