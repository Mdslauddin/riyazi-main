{
 "cells": [
  {
   "cell_type": "markdown",
   "id": "be007dc6",
   "metadata": {},
   "source": [
    "### Parabolic cylinder function D"
   ]
  },
  {
   "cell_type": "code",
   "execution_count": 1,
   "id": "ac6b7998",
   "metadata": {},
   "outputs": [],
   "source": [
    "import scipy.special as sc "
   ]
  },
  {
   "cell_type": "code",
   "execution_count": 2,
   "id": "dc510eef",
   "metadata": {},
   "outputs": [
    {
     "data": {
      "text/plain": [
       "(0.922757077116845, -1.4574928728519203)"
      ]
     },
     "execution_count": 2,
     "metadata": {},
     "output_type": "execute_result"
    }
   ],
   "source": [
    "sc.pbdv(4,5)"
   ]
  },
  {
   "cell_type": "code",
   "execution_count": 3,
   "id": "262add06",
   "metadata": {},
   "outputs": [
    {
     "data": {
      "text/plain": [
       "(7.9302412272914715, -21.31876241723503)"
      ]
     },
     "execution_count": 3,
     "metadata": {},
     "output_type": "execute_result"
    }
   ],
   "source": [
    "sc.pbdv(9,8)"
   ]
  },
  {
   "cell_type": "code",
   "execution_count": 4,
   "id": "e1c5e3ef",
   "metadata": {},
   "outputs": [
    {
     "name": "stdout",
     "output_type": "stream",
     "text": [
      "Vertex: ( -0.3 ,  1.55 )\n",
      "Focus: ( -0.3 ,  1.6 )\n",
      "Directrix: y= -198\n"
     ]
    }
   ],
   "source": [
    "# Python program to calculate Vertex, Focus and Directrix\n",
    "\n",
    "def parabola(a, b, c):\n",
    "\tprint (\"Vertex: (\" , (-b / (2 * a)) , \", \"\n",
    "\t\t,(((4 * a * c) - (b * b)) / (4 * a)) , \")\" )\n",
    "\t\t\n",
    "\tprint (\"Focus: (\" , (-b / (2 * a)) , \", \"\n",
    "\t\t, (((4 * a * c) - (b * b) + 1) / (4 * a)) , \")\" )\n",
    "\t\n",
    "\tprint (\"Directrix: y=\"\n",
    "\t\t\t, (int)(c - ((b * b) + 1) * 4 * a ))\t\n",
    "\t\n",
    "\t\n",
    "# main()\n",
    "a = 5\n",
    "b = 3\n",
    "c = 2\n",
    "\n",
    "parabola(a, b, c)\n",
    "\n",
    "# Contributed by _omg\n"
   ]
  },
  {
   "cell_type": "code",
   "execution_count": 5,
   "id": "32c6bec3",
   "metadata": {},
   "outputs": [
    {
     "ename": "AttributeError",
     "evalue": "module 'scipy.special' has no attribute 'eval_pcy'",
     "output_type": "error",
     "traceback": [
      "\u001b[1;31m---------------------------------------------------------------------------\u001b[0m",
      "\u001b[1;31mAttributeError\u001b[0m                            Traceback (most recent call last)",
      "Input \u001b[1;32mIn [5]\u001b[0m, in \u001b[0;36m<cell line: 6>\u001b[1;34m()\u001b[0m\n\u001b[0;32m      4\u001b[0m a \u001b[38;5;241m=\u001b[39m np\u001b[38;5;241m.\u001b[39marray([\u001b[38;5;241m1.0\u001b[39m, \u001b[38;5;241m2.0\u001b[39m, \u001b[38;5;241m3.0\u001b[39m])\n\u001b[0;32m      5\u001b[0m x \u001b[38;5;241m=\u001b[39m np\u001b[38;5;241m.\u001b[39marray([\u001b[38;5;241m2.0\u001b[39m, \u001b[38;5;241m3.0\u001b[39m, \u001b[38;5;241m4.0\u001b[39m])\n\u001b[1;32m----> 6\u001b[0m result \u001b[38;5;241m=\u001b[39m \u001b[43mscipy\u001b[49m\u001b[38;5;241;43m.\u001b[39;49m\u001b[43mspecial\u001b[49m\u001b[38;5;241;43m.\u001b[39;49m\u001b[43meval_pcy\u001b[49m(a, x)\n\u001b[0;32m      7\u001b[0m \u001b[38;5;28mprint\u001b[39m(result)\n",
      "\u001b[1;31mAttributeError\u001b[0m: module 'scipy.special' has no attribute 'eval_pcy'"
     ]
    }
   ],
   "source": [
    "import scipy.special\n",
    "import numpy as np\n",
    "\n",
    "a = np.array([1.0, 2.0, 3.0])\n",
    "x = np.array([2.0, 3.0, 4.0])\n",
    "result = scipy.special.eval_pcy(a, x)\n",
    "print(result)\n"
   ]
  },
  {
   "cell_type": "code",
   "execution_count": null,
   "id": "89025017",
   "metadata": {},
   "outputs": [],
   "source": []
  }
 ],
 "metadata": {
  "kernelspec": {
   "display_name": "Python 3 (ipykernel)",
   "language": "python",
   "name": "python3"
  },
  "language_info": {
   "codemirror_mode": {
    "name": "ipython",
    "version": 3
   },
   "file_extension": ".py",
   "mimetype": "text/x-python",
   "name": "python",
   "nbconvert_exporter": "python",
   "pygments_lexer": "ipython3",
   "version": "3.9.12"
  }
 },
 "nbformat": 4,
 "nbformat_minor": 5
}
