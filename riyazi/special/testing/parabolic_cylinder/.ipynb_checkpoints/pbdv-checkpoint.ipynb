{
 "cells": [
  {
   "cell_type": "markdown",
   "id": "be007dc6",
   "metadata": {},
   "source": [
    "### Parabolic cylinder function D"
   ]
  },
  {
   "cell_type": "code",
   "execution_count": 1,
   "id": "ac6b7998",
   "metadata": {},
   "outputs": [],
   "source": [
    "import scipy.special as sc "
   ]
  },
  {
   "cell_type": "code",
   "execution_count": 2,
   "id": "dc510eef",
   "metadata": {},
   "outputs": [
    {
     "data": {
      "text/plain": [
       "(0.922757077116845, -1.4574928728519203)"
      ]
     },
     "execution_count": 2,
     "metadata": {},
     "output_type": "execute_result"
    }
   ],
   "source": [
    "sc.pbdv(4,5)"
   ]
  },
  {
   "cell_type": "code",
   "execution_count": 5,
   "id": "262add06",
   "metadata": {},
   "outputs": [
    {
     "data": {
      "text/plain": [
       "(7.9302412272914715, -21.31876241723503)"
      ]
     },
     "execution_count": 5,
     "metadata": {},
     "output_type": "execute_result"
    }
   ],
   "source": [
    "sc.pbdv(9,8)"
   ]
  },
  {
   "cell_type": "code",
   "execution_count": null,
   "id": "e1c5e3ef",
   "metadata": {},
   "outputs": [],
   "source": [
    "# Python program to calculate Vertex, Focus and Directrix\n",
    "\n",
    "def parabola(a, b, c):\n",
    "\tprint (\"Vertex: (\" , (-b / (2 * a)) , \", \"\n",
    "\t\t,(((4 * a * c) - (b * b)) / (4 * a)) , \")\" )\n",
    "\t\t\n",
    "\tprint (\"Focus: (\" , (-b / (2 * a)) , \", \"\n",
    "\t\t, (((4 * a * c) - (b * b) + 1) / (4 * a)) , \")\" )\n",
    "\t\n",
    "\tprint (\"Directrix: y=\"\n",
    "\t\t\t, (int)(c - ((b * b) + 1) * 4 * a ))\t\n",
    "\t\n",
    "\t\n",
    "# main()\n",
    "a = 5\n",
    "b = 3\n",
    "c = 2\n",
    "\n",
    "parabola(a, b, c)\n",
    "\n",
    "# Contributed by _omg\n"
   ]
  }
 ],
 "metadata": {
  "kernelspec": {
   "display_name": "Python 3 (ipykernel)",
   "language": "python",
   "name": "python3"
  },
  "language_info": {
   "codemirror_mode": {
    "name": "ipython",
    "version": 3
   },
   "file_extension": ".py",
   "mimetype": "text/x-python",
   "name": "python",
   "nbconvert_exporter": "python",
   "pygments_lexer": "ipython3",
   "version": "3.9.12"
  }
 },
 "nbformat": 4,
 "nbformat_minor": 5
}
