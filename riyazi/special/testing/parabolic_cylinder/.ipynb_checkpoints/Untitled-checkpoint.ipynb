{
 "cells": [
  {
   "cell_type": "code",
   "execution_count": 1,
   "id": "fd1db6ea",
   "metadata": {},
   "outputs": [
    {
     "data": {
      "text/plain": [
       "375"
      ]
     },
     "execution_count": 1,
     "metadata": {},
     "output_type": "execute_result"
    }
   ],
   "source": [
    "15*25"
   ]
  },
  {
   "cell_type": "code",
   "execution_count": 2,
   "id": "dad57701",
   "metadata": {},
   "outputs": [],
   "source": [
    "def pbdv():\n",
    "    pass\n",
    "\n",
    "def pbvv():\n",
    "    pass\n",
    "def pbwa():\n",
    "    pass\n",
    "\n",
    "def pbdv_seq():\n",
    "    pass\n",
    "\n",
    "def pbvv_seq():\n",
    "    pass\n",
    "\n",
    "def pbdn_seq():\n",
    "    pass\n"
   ]
  },
  {
   "cell_type": "code",
   "execution_count": null,
   "id": "52e46102",
   "metadata": {},
   "outputs": [],
   "source": []
  }
 ],
 "metadata": {
  "kernelspec": {
   "display_name": "Python 3 (ipykernel)",
   "language": "python",
   "name": "python3"
  },
  "language_info": {
   "codemirror_mode": {
    "name": "ipython",
    "version": 3
   },
   "file_extension": ".py",
   "mimetype": "text/x-python",
   "name": "python",
   "nbconvert_exporter": "python",
   "pygments_lexer": "ipython3",
   "version": "3.9.12"
  }
 },
 "nbformat": 4,
 "nbformat_minor": 5
}
