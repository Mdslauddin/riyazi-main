{
 "cells": [
  {
   "cell_type": "markdown",
   "id": "65469890",
   "metadata": {},
   "source": [
    "### Scaled complementary error function, exp(x**2) * erfc(x)."
   ]
  },
  {
   "cell_type": "code",
   "execution_count": 1,
   "id": "60bd029d",
   "metadata": {},
   "outputs": [],
   "source": [
    "import numpy as np "
   ]
  },
  {
   "cell_type": "code",
   "execution_count": 2,
   "id": "37ae60aa",
   "metadata": {},
   "outputs": [
    {
     "data": {
      "image/png": "[encoded data removed]",
      "text/plain": [
       "<Figure size 432x288 with 1 Axes>"
      ]
     },
     "metadata": {
      "needs_background": "light"
     },
     "output_type": "display_data"
    }
   ],
   "source": [
    "from scipy import special\n",
    "import matplotlib.pyplot as plt\n",
    "x = np.linspace(-3, 3)\n",
    "plt.plot(x, special.erfcx(x))\n",
    "plt.xlabel('$x$')\n",
    "plt.ylabel('$erfcx(x)$')\n",
    "plt.show()"
   ]
  },
  {
   "cell_type": "code",
   "execution_count": 17,
   "id": "9b2ef5ef",
   "metadata": {
    "scrolled": true
   },
   "outputs": [
    {
     "data": {
      "text/plain": [
       "0.6156903441929258"
      ]
     },
     "execution_count": 17,
     "metadata": {},
     "output_type": "execute_result"
    }
   ],
   "source": [
    "special.erfcx(0.5)"
   ]
  },
  {
   "cell_type": "code",
   "execution_count": 18,
   "id": "97af8169",
   "metadata": {
    "scrolled": true
   },
   "outputs": [
    {
     "data": {
      "text/plain": [
       "0.17900115118138998"
      ]
     },
     "execution_count": 18,
     "metadata": {},
     "output_type": "execute_result"
    }
   ],
   "source": [
    "special.erfcx(3)"
   ]
  },
  {
   "cell_type": "code",
   "execution_count": 20,
   "id": "7068a90b",
   "metadata": {},
   "outputs": [
    {
     "data": {
      "text/plain": [
       "0.05614099274382259"
      ]
     },
     "execution_count": 20,
     "metadata": {},
     "output_type": "execute_result"
    }
   ],
   "source": [
    "special.erfcx(10)"
   ]
  },
  {
   "cell_type": "code",
   "execution_count": null,
   "id": "d0079174",
   "metadata": {},
   "outputs": [],
   "source": []
  },
  {
   "cell_type": "code",
   "execution_count": 5,
   "id": "64d6d006",
   "metadata": {},
   "outputs": [],
   "source": [
    "import math \n",
    "def erf(x):\n",
    "    return math.erf(x)\n",
    "\n",
    "def erfc(x):\n",
    "    return 1-erf(x)"
   ]
  },
  {
   "cell_type": "code",
   "execution_count": 6,
   "id": "ed5336cc",
   "metadata": {},
   "outputs": [],
   "source": [
    "def erfcx(x):\n",
    "    return math.exp(x**2)*erfc(x)"
   ]
  },
  {
   "cell_type": "code",
   "execution_count": 16,
   "id": "3c51ffd1",
   "metadata": {},
   "outputs": [
    {
     "data": {
      "text/plain": [
       "0.6156903441929259"
      ]
     },
     "execution_count": 16,
     "metadata": {},
     "output_type": "execute_result"
    }
   ],
   "source": [
    "erfcx(0.5)"
   ]
  },
  {
   "cell_type": "code",
   "execution_count": 19,
   "id": "5f3142a2",
   "metadata": {},
   "outputs": [
    {
     "data": {
      "text/plain": [
       "0.17900115118182455"
      ]
     },
     "execution_count": 19,
     "metadata": {},
     "output_type": "execute_result"
    }
   ],
   "source": [
    "erfcx(3)"
   ]
  },
  {
   "cell_type": "code",
   "execution_count": 21,
   "id": "8b66a74e",
   "metadata": {},
   "outputs": [
    {
     "data": {
      "text/plain": [
       "0.0"
      ]
     },
     "execution_count": 21,
     "metadata": {},
     "output_type": "execute_result"
    }
   ],
   "source": [
    "erfcx(10)"
   ]
  },
  {
   "cell_type": "code",
   "execution_count": null,
   "id": "81aea749",
   "metadata": {},
   "outputs": [],
   "source": []
  }
 ],
 "metadata": {
  "kernelspec": {
   "display_name": "Python 3 (ipykernel)",
   "language": "python",
   "name": "python3"
  },
  "language_info": {
   "codemirror_mode": {
    "name": "ipython",
    "version": 3
   },
   "file_extension": ".py",
   "mimetype": "text/x-python",
   "name": "python",
   "nbconvert_exporter": "python",
   "pygments_lexer": "ipython3",
   "version": "3.9.12"
  }
 },
 "nbformat": 4,
 "nbformat_minor": 5
}
