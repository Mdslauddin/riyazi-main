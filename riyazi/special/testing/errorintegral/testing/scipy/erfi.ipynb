{
 "cells": [
  {
   "cell_type": "markdown",
   "id": "506cfbe3",
   "metadata": {},
   "source": [
    "### Imaginary error function, -i erf(i z)."
   ]
  },
  {
   "cell_type": "code",
   "execution_count": null,
   "id": "3e00e514",
   "metadata": {},
   "outputs": [],
   "source": [
    "from scipy import special\n",
    "import numpy as np \n",
    "import matplotlib.pyplot as plt\n",
    "x = np.linspace(-3, 3)\n",
    "plt.plot(x, special.erfi(x))\n",
    "plt.xlabel('$x$')\n",
    "plt.ylabel('$erfi(x)$')\n",
    "plt.show()"
   ]
  },
  {
   "cell_type": "code",
   "execution_count": null,
   "id": "a171395e",
   "metadata": {},
   "outputs": [],
   "source": [
    "special.erfi(-3)"
   ]
  },
  {
   "cell_type": "code",
   "execution_count": null,
   "id": "e0f37b3d",
   "metadata": {},
   "outputs": [],
   "source": [
    "special.erfi(3)"
   ]
  },
  {
   "cell_type": "code",
   "execution_count": null,
   "id": "f2394227",
   "metadata": {},
   "outputs": [],
   "source": [
    "special.erfi(-3j)"
   ]
  },
  {
   "cell_type": "code",
   "execution_count": null,
   "id": "5cc7b43b",
   "metadata": {},
   "outputs": [],
   "source": [
    "special.erfi(3j)"
   ]
  },
  {
   "cell_type": "code",
   "execution_count": null,
   "id": "8e361be5",
   "metadata": {},
   "outputs": [],
   "source": [
    "import math \n",
    "def erf(x):\n",
    "    return math.erf(x)"
   ]
  },
  {
   "cell_type": "code",
   "execution_count": null,
   "id": "a2d9de6a",
   "metadata": {},
   "outputs": [],
   "source": [
    "special.erf(3j)"
   ]
  },
  {
   "cell_type": "code",
   "execution_count": 5,
   "id": "b9251da3",
   "metadata": {},
   "outputs": [],
   "source": [
    "from scipy import special\n",
    "def erfi(z):\n",
    "    return (-1j*special.erf(z*1j)).real\n",
    "   "
   ]
  },
  {
   "cell_type": "code",
   "execution_count": 6,
   "id": "5522e6f7",
   "metadata": {},
   "outputs": [
    {
     "data": {
      "text/plain": [
       "1629.9946226015657"
      ]
     },
     "execution_count": 6,
     "metadata": {},
     "output_type": "execute_result"
    }
   ],
   "source": [
    "erfi(3j)"
   ]
  },
  {
   "cell_type": "code",
   "execution_count": 4,
   "id": "0d659a77",
   "metadata": {},
   "outputs": [
    {
     "data": {
      "text/plain": [
       "3j"
      ]
     },
     "execution_count": 4,
     "metadata": {},
     "output_type": "execute_result"
    }
   ],
   "source": [
    "3*1j"
   ]
  },
  {
   "cell_type": "code",
   "execution_count": 7,
   "id": "5c278c9b",
   "metadata": {},
   "outputs": [
    {
     "data": {
      "text/plain": [
       "0.0"
      ]
     },
     "execution_count": 7,
     "metadata": {},
     "output_type": "execute_result"
    }
   ],
   "source": [
    "erfi(3)"
   ]
  },
  {
   "cell_type": "code",
   "execution_count": 8,
   "id": "2d50ef09",
   "metadata": {},
   "outputs": [
    {
     "data": {
      "text/plain": [
       "0.0"
      ]
     },
     "execution_count": 8,
     "metadata": {},
     "output_type": "execute_result"
    }
   ],
   "source": [
    "erfi(-3)"
   ]
  },
  {
   "cell_type": "code",
   "execution_count": 9,
   "id": "a3aba5f4",
   "metadata": {
    "scrolled": true
   },
   "outputs": [
    {
     "data": {
      "text/plain": [
       "0.0"
      ]
     },
     "execution_count": 9,
     "metadata": {},
     "output_type": "execute_result"
    }
   ],
   "source": [
    "erfi(-3)"
   ]
  },
  {
   "cell_type": "code",
   "execution_count": null,
   "id": "fd0b53d2",
   "metadata": {},
   "outputs": [],
   "source": [
    "erfi(3j)"
   ]
  },
  {
   "cell_type": "code",
   "execution_count": null,
   "id": "d0bf3a26",
   "metadata": {},
   "outputs": [],
   "source": [
    "type(3j)"
   ]
  },
  {
   "cell_type": "code",
   "execution_count": null,
   "id": "f9d4291a",
   "metadata": {},
   "outputs": [],
   "source": [
    "type(3j) == complex"
   ]
  },
  {
   "cell_type": "code",
   "execution_count": null,
   "id": "98bacb01",
   "metadata": {},
   "outputs": [],
   "source": []
  }
 ],
 "metadata": {
  "kernelspec": {
   "display_name": "Python 3 (ipykernel)",
   "language": "python",
   "name": "python3"
  },
  "language_info": {
   "codemirror_mode": {
    "name": "ipython",
    "version": 3
   },
   "file_extension": ".py",
   "mimetype": "text/x-python",
   "name": "python",
   "nbconvert_exporter": "python",
   "pygments_lexer": "ipython3",
   "version": "3.9.12"
  }
 },
 "nbformat": 4,
 "nbformat_minor": 5
}
