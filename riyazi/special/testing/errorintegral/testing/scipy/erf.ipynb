{
 "cells": [
  {
   "cell_type": "markdown",
   "id": "302aca1c",
   "metadata": {},
   "source": [
    "### Returns the error function of complex argument."
   ]
  },
  {
   "cell_type": "code",
   "execution_count": null,
   "id": "3ed84ebf",
   "metadata": {},
   "outputs": [],
   "source": []
  },
  {
   "cell_type": "code",
   "execution_count": null,
   "id": "f8701092",
   "metadata": {},
   "outputs": [],
   "source": []
  },
  {
   "cell_type": "code",
   "execution_count": null,
   "id": "2b123627",
   "metadata": {},
   "outputs": [],
   "source": []
  },
  {
   "cell_type": "code",
   "execution_count": null,
   "id": "0708c630",
   "metadata": {},
   "outputs": [],
   "source": []
  },
  {
   "cell_type": "code",
   "execution_count": 1,
   "id": "8d7dabc4",
   "metadata": {},
   "outputs": [],
   "source": [
    "import numpy as np "
   ]
  },
  {
   "cell_type": "code",
   "execution_count": 2,
   "id": "2c40ee30",
   "metadata": {},
   "outputs": [
    {
     "data": {
      "image/png": "[encoded data removed]",
      "text/plain": [
       "<Figure size 432x288 with 1 Axes>"
      ]
     },
     "metadata": {
      "needs_background": "light"
     },
     "output_type": "display_data"
    }
   ],
   "source": [
    "from scipy import special\n",
    "import matplotlib.pyplot as plt\n",
    "x = np.linspace(-3, 3)\n",
    "plt.plot(x, special.erf(x))\n",
    "plt.xlabel('$x$')\n",
    "plt.ylabel('$erf(x)$')\n",
    "plt.show()"
   ]
  },
  {
   "cell_type": "code",
   "execution_count": null,
   "id": "b178d6b8",
   "metadata": {
    "scrolled": true
   },
   "outputs": [],
   "source": [
    "np.linspace(-3, 3)"
   ]
  },
  {
   "cell_type": "code",
   "execution_count": 3,
   "id": "374656b3",
   "metadata": {},
   "outputs": [],
   "source": [
    "import math "
   ]
  },
  {
   "cell_type": "code",
   "execution_count": 4,
   "id": "dc22947e",
   "metadata": {},
   "outputs": [
    {
     "data": {
      "text/plain": [
       "0.9999999845827421"
      ]
     },
     "execution_count": 4,
     "metadata": {},
     "output_type": "execute_result"
    }
   ],
   "source": [
    "math.erf(4)"
   ]
  },
  {
   "cell_type": "code",
   "execution_count": 5,
   "id": "9879bc5f",
   "metadata": {},
   "outputs": [
    {
     "data": {
      "text/plain": [
       "0.9999999845827421"
      ]
     },
     "execution_count": 5,
     "metadata": {},
     "output_type": "execute_result"
    }
   ],
   "source": [
    "special.erf(4)"
   ]
  },
  {
   "cell_type": "code",
   "execution_count": null,
   "id": "e69c84cc",
   "metadata": {},
   "outputs": [],
   "source": [
    "import math \n",
    "def erf(x):\n",
    "    return math.erf(x)"
   ]
  },
  {
   "cell_type": "code",
   "execution_count": null,
   "id": "97318291",
   "metadata": {},
   "outputs": [],
   "source": []
  },
  {
   "cell_type": "code",
   "execution_count": null,
   "id": "9b26d24d",
   "metadata": {},
   "outputs": [],
   "source": []
  },
  {
   "cell_type": "code",
   "execution_count": null,
   "id": "9824c2e0",
   "metadata": {},
   "outputs": [],
   "source": []
  },
  {
   "cell_type": "code",
   "execution_count": null,
   "id": "2b3c33f8",
   "metadata": {},
   "outputs": [],
   "source": []
  },
  {
   "cell_type": "code",
   "execution_count": null,
   "id": "719a8e35",
   "metadata": {},
   "outputs": [],
   "source": []
  },
  {
   "cell_type": "code",
   "execution_count": null,
   "id": "6849ce36",
   "metadata": {},
   "outputs": [],
   "source": []
  },
  {
   "cell_type": "code",
   "execution_count": null,
   "id": "f3a2aa37",
   "metadata": {},
   "outputs": [],
   "source": []
  },
  {
   "cell_type": "code",
   "execution_count": null,
   "id": "f59c63ae",
   "metadata": {},
   "outputs": [],
   "source": []
  },
  {
   "cell_type": "code",
   "execution_count": null,
   "id": "fed6577d",
   "metadata": {},
   "outputs": [],
   "source": [
    "# https://en.wikipedia.org/wiki/Error_function\n",
    "# https://personal.math.ubc.ca/~cbm/\n",
    "# http://ab-initio.mit.edu/wiki/index.php/Faddeeva_Package"
   ]
  },
  {
   "cell_type": "code",
   "execution_count": null,
   "id": "29348c0c",
   "metadata": {},
   "outputs": [],
   "source": [
    "import math"
   ]
  },
  {
   "cell_type": "code",
   "execution_count": null,
   "id": "f1ca1576",
   "metadata": {},
   "outputs": [],
   "source": [
    "math.erf(4)"
   ]
  },
  {
   "cell_type": "code",
   "execution_count": null,
   "id": "e7c3061c",
   "metadata": {},
   "outputs": [],
   "source": [
    "special.erf(4)"
   ]
  },
  {
   "cell_type": "code",
   "execution_count": null,
   "id": "8804d214",
   "metadata": {},
   "outputs": [],
   "source": [
    "special.erf(4j)"
   ]
  },
  {
   "cell_type": "code",
   "execution_count": null,
   "id": "8bc492aa",
   "metadata": {},
   "outputs": [],
   "source": [
    "import math\n",
    "def erf(x):\n",
    "    # save the sign of x\n",
    "    # sign = 1 if x >= 0 else -1\n",
    "    sign = -1\n",
    "    x = abs(x)\n",
    "     \n",
    "    # constants\n",
    "    a1 =  0.254829592\n",
    "    a2 = -0.284496736\n",
    "    a3 =  1.421413741\n",
    "    a4 = -1.453152027\n",
    "    a5 =  1.061405429\n",
    "    p  =  0.3275911\n",
    "\n",
    "    # A&S formula 7.1.26\n",
    "    t = 1.0/(1.0 + p*x)\n",
    "    y = 1.0 - (((((a5*t + a4)*t) + a3)*t + a2)*t + a1)*t*math.exp(-x*x)\n",
    "    return sign*y # erf(-x) = -erf(x)"
   ]
  },
  {
   "cell_type": "code",
   "execution_count": null,
   "id": "3f9a9d50",
   "metadata": {},
   "outputs": [],
   "source": [
    "erf(4)"
   ]
  },
  {
   "cell_type": "code",
   "execution_count": null,
   "id": "ffbb83cb",
   "metadata": {},
   "outputs": [],
   "source": [
    "math.erf(4)"
   ]
  },
  {
   "cell_type": "code",
   "execution_count": null,
   "id": "e01ff14a",
   "metadata": {},
   "outputs": [],
   "source": [
    "special.erf(4)"
   ]
  },
  {
   "cell_type": "code",
   "execution_count": null,
   "id": "95c27762",
   "metadata": {},
   "outputs": [],
   "source": []
  },
  {
   "cell_type": "code",
   "execution_count": null,
   "id": "a2c21907",
   "metadata": {},
   "outputs": [],
   "source": [
    "4j.imag"
   ]
  },
  {
   "cell_type": "code",
   "execution_count": null,
   "id": "0885463e",
   "metadata": {},
   "outputs": [],
   "source": [
    "# https://www.johndcook.com/blog/cpp_erf/"
   ]
  },
  {
   "cell_type": "code",
   "execution_count": null,
   "id": "a27f6975",
   "metadata": {},
   "outputs": [],
   "source": [
    "# https://www.southampton.ac.uk/~fangohr/teaching/python/book/html/16-scipy.html"
   ]
  },
  {
   "cell_type": "code",
   "execution_count": null,
   "id": "01730f7d",
   "metadata": {},
   "outputs": [],
   "source": [
    "# https://math.stackexchange.com/questions/97/how-to-accurately-calculate-the-error-function-operatornameerfx-with-a-co"
   ]
  },
  {
   "cell_type": "code",
   "execution_count": null,
   "id": "951e416d",
   "metadata": {},
   "outputs": [],
   "source": [
    "# http://hplgit.github.io/prog4comp/doc/pub/p4c-sphinx-Python/._pylight004.html"
   ]
  },
  {
   "cell_type": "code",
   "execution_count": null,
   "id": "5ecf2399",
   "metadata": {},
   "outputs": [],
   "source": [
    "# https://code.activestate.com/recipes/576391-error-function-and-complementary-error-function/"
   ]
  },
  {
   "cell_type": "code",
   "execution_count": null,
   "id": "96236f01",
   "metadata": {},
   "outputs": [],
   "source": [
    "# https://scipy-lectures.org/intro/scipy.html"
   ]
  },
  {
   "cell_type": "code",
   "execution_count": null,
   "id": "f48d9f7b",
   "metadata": {},
   "outputs": [],
   "source": [
    "# https://www.codeproject.com/Articles/38402/Getting-started-with-the-SciPy-Scientific-Python-l"
   ]
  },
  {
   "cell_type": "code",
   "execution_count": null,
   "id": "cbfcd5ec",
   "metadata": {},
   "outputs": [],
   "source": [
    "# https://www.dcode.fr/error-function"
   ]
  },
  {
   "cell_type": "code",
   "execution_count": null,
   "id": "ca90e479",
   "metadata": {},
   "outputs": [],
   "source": [
    "from math import sqrt, factorial, pi\n",
    "\n",
    "def erfterm(x,n):\n",
    "    num = (-1.0)**n *x**(2*n+1)\n",
    "    denum = factorial(n)* (2*n+1)\n",
    "    return num / denum \n",
    "\n",
    "def erf(x):\n",
    "    def term(n):\n",
    "        num = (-1.0)**n * x**(2*n+1)\n",
    "        denum = factorial(n)* (2*n+1)\n",
    "        return num/denum\n",
    "    return sum([erfterm(x,i) for i in range(25)])* (2*sqrt(pi))"
   ]
  },
  {
   "cell_type": "code",
   "execution_count": null,
   "id": "99d11dfe",
   "metadata": {},
   "outputs": [],
   "source": [
    "erf(1j)"
   ]
  },
  {
   "cell_type": "code",
   "execution_count": null,
   "id": "b36bf487",
   "metadata": {},
   "outputs": [],
   "source": [
    "erf(4)"
   ]
  },
  {
   "cell_type": "code",
   "execution_count": null,
   "id": "a3e1a65d",
   "metadata": {
    "scrolled": true
   },
   "outputs": [],
   "source": [
    "special.erf(1j)"
   ]
  },
  {
   "cell_type": "code",
   "execution_count": null,
   "id": "f1a2a057",
   "metadata": {},
   "outputs": [],
   "source": [
    "special.erf(4j)"
   ]
  },
  {
   "cell_type": "code",
   "execution_count": null,
   "id": "bde831ea",
   "metadata": {},
   "outputs": [],
   "source": [
    "import math \n",
    "from cmath import exp\n",
    "def erf(z):\n",
    "    \n",
    "    t = 1.0 / (1.0 + 0.5 * abs(z))\n",
    "    # use Horner's method\n",
    "    ans = 1 - t * exp( -z*z -  1.26551223 +\n",
    "                            t * ( 1.00002368 +\n",
    "                            t * ( 0.37409196 + \n",
    "                            t * ( 0.09678418 + \n",
    "                            t * (-0.18628806 + \n",
    "                            t * ( 0.27886807 + \n",
    "                            t * (-1.13520398 + \n",
    "                            t * ( 1.48851587 + \n",
    "                            t * (-0.82215223 + \n",
    "                            t * ( 0.17087277))))))))))\n",
    "    if z is z.imag:\n",
    "        \n",
    "        \n",
    "        return ans\n",
    "    else:\n",
    "        \n",
    "        return -ans"
   ]
  },
  {
   "cell_type": "code",
   "execution_count": null,
   "id": "012ddd3d",
   "metadata": {},
   "outputs": [],
   "source": [
    "erf(4j)"
   ]
  },
  {
   "cell_type": "code",
   "execution_count": null,
   "id": "616145f1",
   "metadata": {},
   "outputs": [],
   "source": []
  },
  {
   "cell_type": "markdown",
   "id": "4dd9ffa3",
   "metadata": {},
   "source": [
    "https://en.wikipedia.org/wiki/Error_function"
   ]
  },
  {
   "cell_type": "code",
   "execution_count": null,
   "id": "26ffb855",
   "metadata": {},
   "outputs": [],
   "source": [
    "import math "
   ]
  },
  {
   "cell_type": "code",
   "execution_count": null,
   "id": "f3d5fa5f",
   "metadata": {},
   "outputs": [],
   "source": [
    "math.erf(4)"
   ]
  },
  {
   "cell_type": "code",
   "execution_count": null,
   "id": "1c0a04cf",
   "metadata": {},
   "outputs": [],
   "source": []
  }
 ],
 "metadata": {
  "kernelspec": {
   "display_name": "Python 3 (ipykernel)",
   "language": "python",
   "name": "python3"
  },
  "language_info": {
   "codemirror_mode": {
    "name": "ipython",
    "version": 3
   },
   "file_extension": ".py",
   "mimetype": "text/x-python",
   "name": "python",
   "nbconvert_exporter": "python",
   "pygments_lexer": "ipython3",
   "version": "3.9.12"
  }
 },
 "nbformat": 4,
 "nbformat_minor": 5
}
