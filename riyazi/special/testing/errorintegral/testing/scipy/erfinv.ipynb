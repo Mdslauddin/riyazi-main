{
 "cells": [
  {
   "cell_type": "markdown",
   "id": "8281ef84",
   "metadata": {},
   "source": [
    "### Inverse of the error function."
   ]
  },
  {
   "cell_type": "markdown",
   "id": "a95ddb42",
   "metadata": {},
   "source": [
    "https://www.gigacalculator.com/calculators/error-function-calculator.php#:~:text=Inverse%20error%20function%20The%20inverse%20error%20function%2C%20denoted,a%20unique%20real%20number%20solution%20to%20the%20equation%3A"
   ]
  },
  {
   "cell_type": "code",
   "execution_count": 1,
   "id": "5da557f9",
   "metadata": {},
   "outputs": [
    {
     "data": {
      "text/plain": [
       "0.4769362762044699"
      ]
     },
     "execution_count": 1,
     "metadata": {},
     "output_type": "execute_result"
    }
   ],
   "source": [
    "from scipy import special\n",
    "special.erfinv(0.5)"
   ]
  },
  {
   "cell_type": "code",
   "execution_count": 2,
   "id": "5972fe7d",
   "metadata": {},
   "outputs": [
    {
     "data": {
      "text/plain": [
       "0.9061938024368232"
      ]
     },
     "execution_count": 2,
     "metadata": {},
     "output_type": "execute_result"
    }
   ],
   "source": [
    "special.erfinv(0.8)"
   ]
  },
  {
   "cell_type": "code",
   "execution_count": 3,
   "id": "f1a63b50",
   "metadata": {},
   "outputs": [
    {
     "data": {
      "text/plain": [
       "array([       -inf, -0.86312307, -0.5407314 , -0.30457019, -0.0987901 ,\n",
       "        0.0987901 ,  0.30457019,  0.5407314 ,  0.86312307,         inf])"
      ]
     },
     "execution_count": 3,
     "metadata": {},
     "output_type": "execute_result"
    }
   ],
   "source": [
    "from scipy import special\n",
    "import numpy as np\n",
    "y = np.linspace(-1.0, 1.0, num=10)\n",
    "special.erfinv(y)"
   ]
  },
  {
   "cell_type": "code",
   "execution_count": 33,
   "id": "5f2914e8",
   "metadata": {},
   "outputs": [],
   "source": [
    "import math \n",
    "def erfinv(x):\n",
    "    return (math.erf(x))"
   ]
  },
  {
   "cell_type": "code",
   "execution_count": 21,
   "id": "21339618",
   "metadata": {},
   "outputs": [
    {
     "data": {
      "text/plain": [
       "0.7236736098317631"
      ]
     },
     "execution_count": 21,
     "metadata": {},
     "output_type": "execute_result"
    }
   ],
   "source": [
    "erfinv(0.25)"
   ]
  },
  {
   "cell_type": "code",
   "execution_count": 22,
   "id": "16433a60",
   "metadata": {},
   "outputs": [
    {
     "data": {
      "text/plain": [
       "0.4795001221869535"
      ]
     },
     "execution_count": 22,
     "metadata": {},
     "output_type": "execute_result"
    }
   ],
   "source": [
    "erfinv(0.5)"
   ]
  },
  {
   "cell_type": "code",
   "execution_count": 24,
   "id": "1955d6b9",
   "metadata": {},
   "outputs": [
    {
     "data": {
      "text/plain": [
       "0.0"
      ]
     },
     "execution_count": 24,
     "metadata": {},
     "output_type": "execute_result"
    }
   ],
   "source": [
    "erfinv(9)"
   ]
  },
  {
   "cell_type": "code",
   "execution_count": null,
   "id": "f94f7b75",
   "metadata": {},
   "outputs": [],
   "source": []
  },
  {
   "cell_type": "code",
   "execution_count": 6,
   "id": "0de090ce",
   "metadata": {},
   "outputs": [
    {
     "data": {
      "text/plain": [
       "0.7236736098317631"
      ]
     },
     "execution_count": 6,
     "metadata": {},
     "output_type": "execute_result"
    }
   ],
   "source": [
    "erfinv(0.25)"
   ]
  },
  {
   "cell_type": "code",
   "execution_count": 7,
   "id": "c4f921d7",
   "metadata": {
    "scrolled": true
   },
   "outputs": [
    {
     "data": {
      "text/plain": [
       "0.5"
      ]
     },
     "execution_count": 7,
     "metadata": {},
     "output_type": "execute_result"
    }
   ],
   "source": [
    "1-0.5"
   ]
  },
  {
   "cell_type": "code",
   "execution_count": 8,
   "id": "3069aa81",
   "metadata": {},
   "outputs": [
    {
     "data": {
      "text/plain": [
       "0.7236736098317631"
      ]
     },
     "execution_count": 8,
     "metadata": {},
     "output_type": "execute_result"
    }
   ],
   "source": [
    "erfinv(0.25)"
   ]
  },
  {
   "cell_type": "code",
   "execution_count": null,
   "id": "826b1aa2",
   "metadata": {},
   "outputs": [],
   "source": []
  },
  {
   "cell_type": "code",
   "execution_count": 25,
   "id": "681c017b",
   "metadata": {},
   "outputs": [],
   "source": [
    "import scipy.special as sp"
   ]
  },
  {
   "cell_type": "code",
   "execution_count": 26,
   "id": "1f990dde",
   "metadata": {},
   "outputs": [
    {
     "data": {
      "text/plain": [
       "nan"
      ]
     },
     "execution_count": 26,
     "metadata": {},
     "output_type": "execute_result"
    }
   ],
   "source": [
    "sp.erfinv(9)"
   ]
  },
  {
   "cell_type": "code",
   "execution_count": 27,
   "id": "1e164bde",
   "metadata": {},
   "outputs": [
    {
     "data": {
      "text/plain": [
       "1.5417257914762672e-08"
      ]
     },
     "execution_count": 27,
     "metadata": {},
     "output_type": "execute_result"
    }
   ],
   "source": [
    "erfinv(4)"
   ]
  },
  {
   "cell_type": "code",
   "execution_count": 28,
   "id": "fc72a048",
   "metadata": {},
   "outputs": [
    {
     "data": {
      "text/plain": [
       "nan"
      ]
     },
     "execution_count": 28,
     "metadata": {},
     "output_type": "execute_result"
    }
   ],
   "source": [
    "sp.erfinv(4)"
   ]
  },
  {
   "cell_type": "code",
   "execution_count": 29,
   "id": "94d46fa7",
   "metadata": {},
   "outputs": [
    {
     "data": {
      "text/plain": [
       "nan"
      ]
     },
     "execution_count": 29,
     "metadata": {},
     "output_type": "execute_result"
    }
   ],
   "source": [
    "sp.erfinv(3)"
   ]
  },
  {
   "cell_type": "code",
   "execution_count": 31,
   "id": "345eff07",
   "metadata": {},
   "outputs": [
    {
     "data": {
      "text/plain": [
       "1.1630871536766738"
      ]
     },
     "execution_count": 31,
     "metadata": {},
     "output_type": "execute_result"
    }
   ],
   "source": [
    "sp.erfinv(0.9)"
   ]
  },
  {
   "cell_type": "code",
   "execution_count": 34,
   "id": "9bc04a62",
   "metadata": {},
   "outputs": [
    {
     "data": {
      "text/plain": [
       "0.796908212422832"
      ]
     },
     "execution_count": 34,
     "metadata": {},
     "output_type": "execute_result"
    }
   ],
   "source": [
    "erfinv(0.9)"
   ]
  },
  {
   "cell_type": "code",
   "execution_count": null,
   "id": "a1e3a205",
   "metadata": {},
   "outputs": [],
   "source": []
  },
  {
   "cell_type": "code",
   "execution_count": 10,
   "id": "d0219e11",
   "metadata": {},
   "outputs": [
    {
     "data": {
      "text/plain": [
       "0.4769362762044699"
      ]
     },
     "execution_count": 10,
     "metadata": {},
     "output_type": "execute_result"
    }
   ],
   "source": [
    "sp.erfinv(0.5)"
   ]
  },
  {
   "cell_type": "code",
   "execution_count": 11,
   "id": "91e63701",
   "metadata": {},
   "outputs": [
    {
     "data": {
      "text/plain": [
       "0.2253120550121781"
      ]
     },
     "execution_count": 11,
     "metadata": {},
     "output_type": "execute_result"
    }
   ],
   "source": [
    "sp.erfinv(0.25)"
   ]
  },
  {
   "cell_type": "code",
   "execution_count": 12,
   "id": "2bade4a7",
   "metadata": {},
   "outputs": [
    {
     "data": {
      "text/plain": [
       "0.2578990352923395"
      ]
     },
     "execution_count": 12,
     "metadata": {},
     "output_type": "execute_result"
    }
   ],
   "source": [
    "erfinv(0.8)"
   ]
  },
  {
   "cell_type": "markdown",
   "id": "4fdef653",
   "metadata": {},
   "source": [
    "https://keisan.casio.com/exec/system/1180573448"
   ]
  },
  {
   "cell_type": "code",
   "execution_count": null,
   "id": "cedf9ab4",
   "metadata": {},
   "outputs": [],
   "source": []
  }
 ],
 "metadata": {
  "kernelspec": {
   "display_name": "Python 3 (ipykernel)",
   "language": "python",
   "name": "python3"
  },
  "language_info": {
   "codemirror_mode": {
    "name": "ipython",
    "version": 3
   },
   "file_extension": ".py",
   "mimetype": "text/x-python",
   "name": "python",
   "nbconvert_exporter": "python",
   "pygments_lexer": "ipython3",
   "version": "3.9.12"
  }
 },
 "nbformat": 4,
 "nbformat_minor": 5
}
