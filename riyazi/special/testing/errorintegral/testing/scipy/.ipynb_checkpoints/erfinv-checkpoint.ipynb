{
 "cells": [
  {
   "cell_type": "markdown",
   "id": "8281ef84",
   "metadata": {},
   "source": [
    "### Inverse of the error function."
   ]
  },
  {
   "cell_type": "markdown",
   "id": "a95ddb42",
   "metadata": {},
   "source": [
    "https://www.gigacalculator.com/calculators/error-function-calculator.php#:~:text=Inverse%20error%20function%20The%20inverse%20error%20function%2C%20denoted,a%20unique%20real%20number%20solution%20to%20the%20equation%3A"
   ]
  },
  {
   "cell_type": "code",
   "execution_count": 22,
   "id": "5da557f9",
   "metadata": {},
   "outputs": [
    {
     "data": {
      "text/plain": [
       "0.4769362762044699"
      ]
     },
     "execution_count": 22,
     "metadata": {},
     "output_type": "execute_result"
    }
   ],
   "source": [
    "from scipy import special\n",
    "special.erfinv(0.5)"
   ]
  },
  {
   "cell_type": "code",
   "execution_count": null,
   "id": "5972fe7d",
   "metadata": {},
   "outputs": [],
   "source": [
    "special.erfinv(0.8)"
   ]
  },
  {
   "cell_type": "code",
   "execution_count": null,
   "id": "f1a63b50",
   "metadata": {},
   "outputs": [],
   "source": [
    "from scipy import special\n",
    "import numpy as np\n",
    "y = np.linspace(-1.0, 1.0, num=10)\n",
    "special.erfinv(y)"
   ]
  },
  {
   "cell_type": "code",
   "execution_count": 37,
   "id": "5f2914e8",
   "metadata": {},
   "outputs": [],
   "source": [
    "import math \n",
    "def erfinv(x):\n",
    "    return 1-(math.erf(x))"
   ]
  },
  {
   "cell_type": "code",
   "execution_count": 38,
   "id": "16433a60",
   "metadata": {},
   "outputs": [
    {
     "data": {
      "text/plain": [
       "0.4795001221869535"
      ]
     },
     "execution_count": 38,
     "metadata": {},
     "output_type": "execute_result"
    }
   ],
   "source": [
    "erfinv(0.5)"
   ]
  },
  {
   "cell_type": "code",
   "execution_count": 25,
   "id": "22bec479",
   "metadata": {
    "scrolled": true
   },
   "outputs": [
    {
     "data": {
      "text/plain": [
       "0.5"
      ]
     },
     "execution_count": 25,
     "metadata": {},
     "output_type": "execute_result"
    }
   ],
   "source": [
    "1-0.5"
   ]
  },
  {
   "cell_type": "code",
   "execution_count": 18,
   "id": "35bd4d05",
   "metadata": {},
   "outputs": [
    {
     "data": {
      "text/plain": [
       "0.7111556336535152"
      ]
     },
     "execution_count": 18,
     "metadata": {},
     "output_type": "execute_result"
    }
   ],
   "source": [
    "erfinv(0.25)"
   ]
  },
  {
   "cell_type": "code",
   "execution_count": null,
   "id": "ac8e1b44",
   "metadata": {},
   "outputs": [],
   "source": []
  },
  {
   "cell_type": "code",
   "execution_count": 19,
   "id": "60de5477",
   "metadata": {},
   "outputs": [],
   "source": [
    "import scipy.special as sp"
   ]
  },
  {
   "cell_type": "code",
   "execution_count": 20,
   "id": "31d1a31c",
   "metadata": {},
   "outputs": [
    {
     "data": {
      "text/plain": [
       "0.4769362762044699"
      ]
     },
     "execution_count": 20,
     "metadata": {},
     "output_type": "execute_result"
    }
   ],
   "source": [
    "sp.erfinv(0.5)"
   ]
  },
  {
   "cell_type": "code",
   "execution_count": 21,
   "id": "d9167ba0",
   "metadata": {},
   "outputs": [
    {
     "data": {
      "text/plain": [
       "0.2253120550121781"
      ]
     },
     "execution_count": 21,
     "metadata": {},
     "output_type": "execute_result"
    }
   ],
   "source": [
    "sp.erfinv(0.25)"
   ]
  },
  {
   "cell_type": "code",
   "execution_count": null,
   "id": "2bade4a7",
   "metadata": {},
   "outputs": [],
   "source": [
    "erfinv(0.8)"
   ]
  },
  {
   "cell_type": "markdown",
   "id": "4fdef653",
   "metadata": {},
   "source": [
    "https://keisan.casio.com/exec/system/1180573448"
   ]
  },
  {
   "cell_type": "code",
   "execution_count": null,
   "id": "cedf9ab4",
   "metadata": {},
   "outputs": [],
   "source": []
  }
 ],
 "metadata": {
  "kernelspec": {
   "display_name": "Python 3 (ipykernel)",
   "language": "python",
   "name": "python3"
  },
  "language_info": {
   "codemirror_mode": {
    "name": "ipython",
    "version": 3
   },
   "file_extension": ".py",
   "mimetype": "text/x-python",
   "name": "python",
   "nbconvert_exporter": "python",
   "pygments_lexer": "ipython3",
   "version": "3.9.12"
  }
 },
 "nbformat": 4,
 "nbformat_minor": 5
}
