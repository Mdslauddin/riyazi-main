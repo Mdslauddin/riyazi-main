{
 "cells": [
  {
   "cell_type": "code",
   "execution_count": 1,
   "id": "0e18da6e",
   "metadata": {},
   "outputs": [],
   "source": [
    "import scipy.special as special\n",
    "\n",
    "def jacobi_elliptic(u, m):\n",
    "    sn = special.jacobi(u, m)[0]\n",
    "    cn = special.jacobi(u, m)[1]\n",
    "    tn = special.jacobi(u, m)[2]\n",
    "    asin = special.jacobi_am(u, m)\n",
    "    acos = special.jacobi_am(u, 1 - m)\n",
    "    atan = special.jacobi_atn(u, m)\n",
    "    return sn, cn, tn, asin, acos, atan\n"
   ]
  },
  {
   "cell_type": "code",
   "execution_count": 3,
   "id": "09cc8eb8",
   "metadata": {},
   "outputs": [
    {
     "ename": "TypeError",
     "evalue": "jacobi_elliptic() takes 2 positional arguments but 3 were given",
     "output_type": "error",
     "traceback": [
      "\u001b[1;31m---------------------------------------------------------------------------\u001b[0m",
      "\u001b[1;31mTypeError\u001b[0m                                 Traceback (most recent call last)",
      "Input \u001b[1;32mIn [3]\u001b[0m, in \u001b[0;36m<cell line: 1>\u001b[1;34m()\u001b[0m\n\u001b[1;32m----> 1\u001b[0m \u001b[43mjacobi_elliptic\u001b[49m\u001b[43m(\u001b[49m\u001b[38;5;241;43m3\u001b[39;49m\u001b[43m,\u001b[49m\u001b[38;5;241;43m4\u001b[39;49m\u001b[43m,\u001b[49m\u001b[38;5;241;43m3\u001b[39;49m\u001b[43m)\u001b[49m\n",
      "\u001b[1;31mTypeError\u001b[0m: jacobi_elliptic() takes 2 positional arguments but 3 were given"
     ]
    }
   ],
   "source": [
    "special.jacobi()"
   ]
  },
  {
   "cell_type": "code",
   "execution_count": null,
   "id": "9d21abd8",
   "metadata": {},
   "outputs": [],
   "source": []
  },
  {
   "cell_type": "code",
   "execution_count": null,
   "id": "e6ced956",
   "metadata": {},
   "outputs": [],
   "source": []
  },
  {
   "cell_type": "code",
   "execution_count": null,
   "id": "d85bf8dc",
   "metadata": {},
   "outputs": [],
   "source": []
  },
  {
   "cell_type": "code",
   "execution_count": null,
   "id": "23021ed4",
   "metadata": {},
   "outputs": [],
   "source": []
  },
  {
   "cell_type": "code",
   "execution_count": null,
   "id": "2cc5ccce",
   "metadata": {},
   "outputs": [],
   "source": []
  },
  {
   "cell_type": "code",
   "execution_count": null,
   "id": "f4da243a",
   "metadata": {},
   "outputs": [],
   "source": []
  },
  {
   "cell_type": "code",
   "execution_count": null,
   "id": "6c7b2599",
   "metadata": {},
   "outputs": [],
   "source": []
  },
  {
   "cell_type": "code",
   "execution_count": null,
   "id": "176addae",
   "metadata": {},
   "outputs": [],
   "source": []
  },
  {
   "cell_type": "code",
   "execution_count": null,
   "id": "a9dd88d9",
   "metadata": {},
   "outputs": [],
   "source": []
  },
  {
   "cell_type": "code",
   "execution_count": null,
   "id": "4d24bd6c",
   "metadata": {},
   "outputs": [],
   "source": []
  },
  {
   "cell_type": "code",
   "execution_count": null,
   "id": "744027e9",
   "metadata": {},
   "outputs": [],
   "source": []
  },
  {
   "cell_type": "code",
   "execution_count": null,
   "id": "046d6da8",
   "metadata": {},
   "outputs": [],
   "source": []
  },
  {
   "cell_type": "code",
   "execution_count": null,
   "id": "bbbc54b9",
   "metadata": {},
   "outputs": [],
   "source": []
  },
  {
   "cell_type": "markdown",
   "id": "e385a2a6",
   "metadata": {},
   "source": [
    "https://en.wikipedia.org/wiki/Jacobi_elliptic_functions"
   ]
  },
  {
   "cell_type": "markdown",
   "id": "a9223b3c",
   "metadata": {},
   "source": [
    "https://en.wikipedia.org/wiki/Elliptic_function"
   ]
  },
  {
   "cell_type": "markdown",
   "id": "63b8f2f0",
   "metadata": {},
   "source": [
    "http://www.mhtlab.uwaterloo.ca/courses/me755/web_chap3.pdf"
   ]
  },
  {
   "cell_type": "markdown",
   "id": "068cb54f",
   "metadata": {},
   "source": [
    "https://en.wikipedia.org/wiki/Lemniscate_elliptic_functions"
   ]
  },
  {
   "cell_type": "code",
   "execution_count": 1,
   "id": "bf756c0a",
   "metadata": {},
   "outputs": [],
   "source": [
    "import scipy.special as sp "
   ]
  },
  {
   "cell_type": "code",
   "execution_count": 5,
   "id": "7976886d",
   "metadata": {},
   "outputs": [
    {
     "data": {
      "text/plain": [
       "(-0.4253376915065838,\n",
       " -0.9050347220874181,\n",
       " 0.9631381724724339,\n",
       " 3.580927631969426)"
      ]
     },
     "execution_count": 5,
     "metadata": {},
     "output_type": "execute_result"
    }
   ],
   "source": [
    "sp.ellipj(4,0.4)# ,sp.ellipj(5.0.7), sp.ellipj(12,0.8), sp.ellipj(17,0.2), sp.ellipj(25,0.9), sp.ellipj(46,0.2)"
   ]
  },
  {
   "cell_type": "code",
   "execution_count": 6,
   "id": "fbde0827",
   "metadata": {},
   "outputs": [],
   "source": [
    "def am(u,k):\n",
    "    return sin(am(u,k))"
   ]
  },
  {
   "cell_type": "code",
   "execution_count": 7,
   "id": "e9de3e79",
   "metadata": {},
   "outputs": [
    {
     "ename": "NameError",
     "evalue": "name 'sin' is not defined",
     "output_type": "error",
     "traceback": [
      "\u001b[1;31m---------------------------------------------------------------------------\u001b[0m",
      "\u001b[1;31mNameError\u001b[0m                                 Traceback (most recent call last)",
      "Input \u001b[1;32mIn [7]\u001b[0m, in \u001b[0;36m<cell line: 1>\u001b[1;34m()\u001b[0m\n\u001b[1;32m----> 1\u001b[0m \u001b[43mam\u001b[49m\u001b[43m(\u001b[49m\u001b[38;5;241;43m4\u001b[39;49m\u001b[43m,\u001b[49m\u001b[38;5;241;43m0.4\u001b[39;49m\u001b[43m)\u001b[49m\n",
      "Input \u001b[1;32mIn [6]\u001b[0m, in \u001b[0;36mam\u001b[1;34m(u, k)\u001b[0m\n\u001b[0;32m      1\u001b[0m \u001b[38;5;28;01mdef\u001b[39;00m \u001b[38;5;21mam\u001b[39m(u,k):\n\u001b[1;32m----> 2\u001b[0m     \u001b[38;5;28;01mreturn\u001b[39;00m \u001b[43msin\u001b[49m(am(u,k))\n",
      "\u001b[1;31mNameError\u001b[0m: name 'sin' is not defined"
     ]
    }
   ],
   "source": [
    "am(4,0.4)"
   ]
  },
  {
   "cell_type": "markdown",
   "id": "adcaddeb",
   "metadata": {},
   "source": [
    "https://en.wikipedia.org/wiki/Elliptic_integral#:~:text=Modern%20mathematics%20defines%20an%20%22elliptic%20integral%22%20as%20any,cannot%20be%20expressed%20in%20terms%20of%20elementary%20functions."
   ]
  },
  {
   "cell_type": "markdown",
   "id": "29b22390",
   "metadata": {},
   "source": [
    "https://en.wikipedia.org/wiki/Elliptic_integral"
   ]
  },
  {
   "cell_type": "code",
   "execution_count": null,
   "id": "9bab060f",
   "metadata": {},
   "outputs": [],
   "source": []
  }
 ],
 "metadata": {
  "kernelspec": {
   "display_name": "Python 3 (ipykernel)",
   "language": "python",
   "name": "python3"
  },
  "language_info": {
   "codemirror_mode": {
    "name": "ipython",
    "version": 3
   },
   "file_extension": ".py",
   "mimetype": "text/x-python",
   "name": "python",
   "nbconvert_exporter": "python",
   "pygments_lexer": "ipython3",
   "version": "3.9.12"
  }
 },
 "nbformat": 4,
 "nbformat_minor": 5
}
