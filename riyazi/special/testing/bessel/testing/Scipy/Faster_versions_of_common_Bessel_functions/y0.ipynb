{
 "cells": [
  {
   "cell_type": "markdown",
   "id": "91d037a9",
   "metadata": {},
   "source": [
    "#include <math.h>\n",
    "\n",
    "double y0(double x);\n",
    "\n",
    "double y1(double x);\n",
    "\n",
    "double yn(int n, double x);"
   ]
  },
  {
   "cell_type": "markdown",
   "id": "65737747",
   "metadata": {},
   "source": [
    "https://ameli.github.io/special_functions/api/besseli.html"
   ]
  },
  {
   "cell_type": "code",
   "execution_count": 1,
   "id": "4fe5f3d1",
   "metadata": {},
   "outputs": [],
   "source": [
    "from mpmath import bessely\n",
    "def y0(x):\n",
    "    return bessely(0,x)"
   ]
  },
  {
   "cell_type": "code",
   "execution_count": 2,
   "id": "706f7d2e",
   "metadata": {},
   "outputs": [],
   "source": [
    "import scipy.special as sp "
   ]
  },
  {
   "cell_type": "code",
   "execution_count": 3,
   "id": "57ca569b",
   "metadata": {},
   "outputs": [
    {
     "data": {
      "text/plain": [
       "(-0.0359817902737027, mpf('-0.035981790273702831'))"
      ]
     },
     "execution_count": 3,
     "metadata": {},
     "output_type": "execute_result"
    }
   ],
   "source": [
    "sp.y0(23),y0(23)"
   ]
  },
  {
   "cell_type": "code",
   "execution_count": null,
   "id": "e5ee9ccc",
   "metadata": {},
   "outputs": [],
   "source": []
  }
 ],
 "metadata": {
  "kernelspec": {
   "display_name": "Python 3 (ipykernel)",
   "language": "python",
   "name": "python3"
  },
  "language_info": {
   "codemirror_mode": {
    "name": "ipython",
    "version": 3
   },
   "file_extension": ".py",
   "mimetype": "text/x-python",
   "name": "python",
   "nbconvert_exporter": "python",
   "pygments_lexer": "ipython3",
   "version": "3.9.12"
  }
 },
 "nbformat": 4,
 "nbformat_minor": 5
}
