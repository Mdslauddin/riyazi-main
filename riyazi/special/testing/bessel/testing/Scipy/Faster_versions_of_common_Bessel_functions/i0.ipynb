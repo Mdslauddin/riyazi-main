{
 "cells": [
  {
   "cell_type": "code",
   "execution_count": 5,
   "id": "2ca6565f",
   "metadata": {},
   "outputs": [],
   "source": [
    "import scipy.special as sp"
   ]
  },
  {
   "cell_type": "code",
   "execution_count": 6,
   "id": "2711ccea",
   "metadata": {},
   "outputs": [
    {
     "data": {
      "text/plain": [
       "4.880792585865024"
      ]
     },
     "execution_count": 6,
     "metadata": {},
     "output_type": "execute_result"
    }
   ],
   "source": [
    "sp.i0(3)"
   ]
  },
  {
   "cell_type": "code",
   "execution_count": 7,
   "id": "5d1e46ff",
   "metadata": {},
   "outputs": [
    {
     "data": {
      "text/plain": [
       "427.56411572180474"
      ]
     },
     "execution_count": 7,
     "metadata": {},
     "output_type": "execute_result"
    }
   ],
   "source": [
    "sp.i0(8)"
   ]
  },
  {
   "cell_type": "code",
   "execution_count": 8,
   "id": "adf623f5",
   "metadata": {},
   "outputs": [
    {
     "data": {
      "text/plain": [
       "18948.92534929631"
      ]
     },
     "execution_count": 8,
     "metadata": {},
     "output_type": "execute_result"
    }
   ],
   "source": [
    "sp.i0(12)"
   ]
  },
  {
   "cell_type": "code",
   "execution_count": 9,
   "id": "5fc3d794",
   "metadata": {},
   "outputs": [
    {
     "data": {
      "text/plain": [
       "-0.2600519549019335"
      ]
     },
     "execution_count": 9,
     "metadata": {},
     "output_type": "execute_result"
    }
   ],
   "source": [
    "sp.j0(3)"
   ]
  },
  {
   "cell_type": "code",
   "execution_count": 10,
   "id": "6d12ca1a",
   "metadata": {},
   "outputs": [
    {
     "data": {
      "text/plain": [
       "inf"
      ]
     },
     "execution_count": 10,
     "metadata": {},
     "output_type": "execute_result"
    }
   ],
   "source": [
    "sp.i0(900)"
   ]
  },
  {
   "cell_type": "code",
   "execution_count": 12,
   "id": "d087720f",
   "metadata": {},
   "outputs": [],
   "source": [
    "from mpmath import besseli\n",
    "def i0(x):\n",
    "    return besseli(0,x)"
   ]
  },
  {
   "cell_type": "code",
   "execution_count": 13,
   "id": "cf61be1b",
   "metadata": {},
   "outputs": [
    {
     "data": {
      "text/plain": [
       "mpf('4.8807925858650245')"
      ]
     },
     "execution_count": 13,
     "metadata": {},
     "output_type": "execute_result"
    }
   ],
   "source": [
    "i0(3)"
   ]
  },
  {
   "cell_type": "code",
   "execution_count": 14,
   "id": "1b9085fa",
   "metadata": {},
   "outputs": [
    {
     "data": {
      "text/plain": [
       "mpf('9.7472673076080246e+388')"
      ]
     },
     "execution_count": 14,
     "metadata": {},
     "output_type": "execute_result"
    }
   ],
   "source": [
    "i0(900)"
   ]
  },
  {
   "cell_type": "code",
   "execution_count": null,
   "id": "c8b43183",
   "metadata": {},
   "outputs": [],
   "source": []
  },
  {
   "cell_type": "code",
   "execution_count": 1,
   "id": "3af8f72e",
   "metadata": {},
   "outputs": [],
   "source": [
    "import math \n",
    "def i0(x):\n",
    "    res= 0 \n",
    "    for k in range(90):\n",
    "        res += ( pow(pow(x,2)/4,k) / math.factorial(k)**2  )\n",
    "    return res"
   ]
  },
  {
   "cell_type": "code",
   "execution_count": 2,
   "id": "209bb279",
   "metadata": {},
   "outputs": [
    {
     "data": {
      "text/plain": [
       "4.8807925858650245"
      ]
     },
     "execution_count": 2,
     "metadata": {},
     "output_type": "execute_result"
    }
   ],
   "source": [
    "i0(3)"
   ]
  },
  {
   "cell_type": "code",
   "execution_count": 3,
   "id": "8e53e474",
   "metadata": {},
   "outputs": [
    {
     "data": {
      "text/plain": [
       "427.56411572180474"
      ]
     },
     "execution_count": 3,
     "metadata": {},
     "output_type": "execute_result"
    }
   ],
   "source": [
    "i0(8)"
   ]
  },
  {
   "cell_type": "code",
   "execution_count": 4,
   "id": "be5628f1",
   "metadata": {},
   "outputs": [
    {
     "data": {
      "text/plain": [
       "18948.925349296307"
      ]
     },
     "execution_count": 4,
     "metadata": {},
     "output_type": "execute_result"
    }
   ],
   "source": [
    "i0(12)"
   ]
  },
  {
   "cell_type": "code",
   "execution_count": 11,
   "id": "2a0a3200",
   "metadata": {},
   "outputs": [
    {
     "ename": "OverflowError",
     "evalue": "(34, 'Result too large')",
     "output_type": "error",
     "traceback": [
      "\u001b[1;31m---------------------------------------------------------------------------\u001b[0m",
      "\u001b[1;31mOverflowError\u001b[0m                             Traceback (most recent call last)",
      "Input \u001b[1;32mIn [11]\u001b[0m, in \u001b[0;36m<cell line: 1>\u001b[1;34m()\u001b[0m\n\u001b[1;32m----> 1\u001b[0m \u001b[43mi0\u001b[49m\u001b[43m(\u001b[49m\u001b[38;5;241;43m900\u001b[39;49m\u001b[43m)\u001b[49m\n",
      "Input \u001b[1;32mIn [1]\u001b[0m, in \u001b[0;36mi0\u001b[1;34m(x)\u001b[0m\n\u001b[0;32m      3\u001b[0m res\u001b[38;5;241m=\u001b[39m \u001b[38;5;241m0\u001b[39m \n\u001b[0;32m      4\u001b[0m \u001b[38;5;28;01mfor\u001b[39;00m k \u001b[38;5;129;01min\u001b[39;00m \u001b[38;5;28mrange\u001b[39m(\u001b[38;5;241m90\u001b[39m):\n\u001b[1;32m----> 5\u001b[0m     res \u001b[38;5;241m+\u001b[39m\u001b[38;5;241m=\u001b[39m ( \u001b[38;5;28;43mpow\u001b[39;49m\u001b[43m(\u001b[49m\u001b[38;5;28;43mpow\u001b[39;49m\u001b[43m(\u001b[49m\u001b[43mx\u001b[49m\u001b[43m,\u001b[49m\u001b[38;5;241;43m2\u001b[39;49m\u001b[43m)\u001b[49m\u001b[38;5;241;43m/\u001b[39;49m\u001b[38;5;241;43m4\u001b[39;49m\u001b[43m,\u001b[49m\u001b[43mk\u001b[49m\u001b[43m)\u001b[49m \u001b[38;5;241m/\u001b[39m math\u001b[38;5;241m.\u001b[39mfactorial(k)\u001b[38;5;241m*\u001b[39m\u001b[38;5;241m*\u001b[39m\u001b[38;5;241m2\u001b[39m  )\n\u001b[0;32m      6\u001b[0m \u001b[38;5;28;01mreturn\u001b[39;00m res\n",
      "\u001b[1;31mOverflowError\u001b[0m: (34, 'Result too large')"
     ]
    }
   ],
   "source": [
    "i0(900)"
   ]
  },
  {
   "cell_type": "code",
   "execution_count": null,
   "id": "4e0950c2",
   "metadata": {},
   "outputs": [],
   "source": []
  }
 ],
 "metadata": {
  "kernelspec": {
   "display_name": "Python 3 (ipykernel)",
   "language": "python",
   "name": "python3"
  },
  "language_info": {
   "codemirror_mode": {
    "name": "ipython",
    "version": 3
   },
   "file_extension": ".py",
   "mimetype": "text/x-python",
   "name": "python",
   "nbconvert_exporter": "python",
   "pygments_lexer": "ipython3",
   "version": "3.9.12"
  }
 },
 "nbformat": 4,
 "nbformat_minor": 5
}
