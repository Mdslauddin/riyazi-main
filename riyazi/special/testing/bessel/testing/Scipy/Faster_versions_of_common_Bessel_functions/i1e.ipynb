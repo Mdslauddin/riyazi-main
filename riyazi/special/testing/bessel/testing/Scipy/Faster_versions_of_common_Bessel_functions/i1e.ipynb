{
 "cells": [
  {
   "cell_type": "code",
   "execution_count": 2,
   "id": "9f931aaf",
   "metadata": {},
   "outputs": [],
   "source": [
    "import scipy.special as sp "
   ]
  },
  {
   "cell_type": "code",
   "execution_count": 3,
   "id": "abaa4137",
   "metadata": {},
   "outputs": [],
   "source": [
    "import math\n",
    "def i1e(x):\n",
    "    return math.exp(-abs(x))*sp.i1(x)"
   ]
  },
  {
   "cell_type": "code",
   "execution_count": 4,
   "id": "684fd57f",
   "metadata": {},
   "outputs": [
    {
     "data": {
      "text/plain": [
       "0.1787508395024353"
      ]
     },
     "execution_count": 4,
     "metadata": {},
     "output_type": "execute_result"
    }
   ],
   "source": [
    "sp.i1e(4)"
   ]
  },
  {
   "cell_type": "code",
   "execution_count": 5,
   "id": "2d0016ec",
   "metadata": {},
   "outputs": [
    {
     "data": {
      "text/plain": [
       "0.17875083950243528"
      ]
     },
     "execution_count": 5,
     "metadata": {},
     "output_type": "execute_result"
    }
   ],
   "source": [
    "i1e(4)"
   ]
  },
  {
   "cell_type": "code",
   "execution_count": null,
   "id": "a5eec5b7",
   "metadata": {},
   "outputs": [],
   "source": []
  }
 ],
 "metadata": {
  "kernelspec": {
   "display_name": "Python 3 (ipykernel)",
   "language": "python",
   "name": "python3"
  },
  "language_info": {
   "codemirror_mode": {
    "name": "ipython",
    "version": 3
   },
   "file_extension": ".py",
   "mimetype": "text/x-python",
   "name": "python",
   "nbconvert_exporter": "python",
   "pygments_lexer": "ipython3",
   "version": "3.9.12"
  }
 },
 "nbformat": 4,
 "nbformat_minor": 5
}
