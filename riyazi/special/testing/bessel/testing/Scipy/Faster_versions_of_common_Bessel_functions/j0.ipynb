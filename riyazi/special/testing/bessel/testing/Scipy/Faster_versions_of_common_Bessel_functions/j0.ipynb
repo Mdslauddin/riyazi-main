{
 "cells": [
  {
   "cell_type": "markdown",
   "id": "491aeae1",
   "metadata": {},
   "source": [
    "https://functions.wolfram.com/Bessel-TypeFunctions/BesselI/introductions/Bessels/ShowAll.html"
   ]
  },
  {
   "cell_type": "code",
   "execution_count": null,
   "id": "24bfc532",
   "metadata": {},
   "outputs": [],
   "source": [
    "from scipy.special import j0 ,j1,jn"
   ]
  },
  {
   "cell_type": "code",
   "execution_count": null,
   "id": "f48012f7",
   "metadata": {},
   "outputs": [],
   "source": [
    "import numpy as np \n",
    "a = np.array([1,2,3])"
   ]
  },
  {
   "cell_type": "code",
   "execution_count": null,
   "id": "881ddb36",
   "metadata": {},
   "outputs": [],
   "source": [
    "jn(5,[4,5,5])"
   ]
  },
  {
   "cell_type": "code",
   "execution_count": null,
   "id": "686e5bd1",
   "metadata": {},
   "outputs": [],
   "source": [
    "from cmath import sqrt,pi\n",
    "def Jns(tx,n):\n",
    "    return (sqrt(pi/(2*(tx))*Jns(n+0.5,tx)))"
   ]
  },
  {
   "cell_type": "code",
   "execution_count": null,
   "id": "16da2cb6",
   "metadata": {},
   "outputs": [],
   "source": [
    "Jns(5,5)"
   ]
  },
  {
   "cell_type": "code",
   "execution_count": null,
   "id": "8dd99faf",
   "metadata": {
    "scrolled": true
   },
   "outputs": [],
   "source": [
    "j0([1,2,3,4,5])"
   ]
  },
  {
   "cell_type": "code",
   "execution_count": null,
   "id": "7646f9d7",
   "metadata": {},
   "outputs": [],
   "source": [
    "from math import sin, cos\n",
    "#from cmath import sin\n",
    "# Define j0(z)\n",
    "def b0(z):\n",
    "    return sin(z)/z"
   ]
  },
  {
   "cell_type": "code",
   "execution_count": null,
   "id": "9d1fe6f5",
   "metadata": {},
   "outputs": [],
   "source": [
    "b0(1)"
   ]
  },
  {
   "cell_type": "code",
   "execution_count": null,
   "id": "530a54ea",
   "metadata": {},
   "outputs": [],
   "source": [
    "b0(2)"
   ]
  },
  {
   "cell_type": "code",
   "execution_count": null,
   "id": "435353f5",
   "metadata": {},
   "outputs": [],
   "source": [
    "b0(3)"
   ]
  },
  {
   "cell_type": "code",
   "execution_count": null,
   "id": "79dea7b0",
   "metadata": {},
   "outputs": [],
   "source": [
    "# Define j1(z)\n",
    "\n",
    "def b1(z):\n",
    "    return   (sin(z)/(z*z))-(cos(z)/(z))\n"
   ]
  },
  {
   "cell_type": "code",
   "execution_count": null,
   "id": "a9875517",
   "metadata": {},
   "outputs": [],
   "source": [
    "b1(4)"
   ]
  },
  {
   "cell_type": "code",
   "execution_count": null,
   "id": "d20d9b6e",
   "metadata": {},
   "outputs": [],
   "source": [
    "j1(4)"
   ]
  },
  {
   "cell_type": "code",
   "execution_count": null,
   "id": "61ab2b49",
   "metadata": {
    "scrolled": true
   },
   "outputs": [],
   "source": [
    "0.0043597796090 - 0.2493910125649"
   ]
  },
  {
   "cell_type": "code",
   "execution_count": null,
   "id": "27a02f60",
   "metadata": {},
   "outputs": [],
   "source": [
    "# Define jn(z)\n",
    "def bn(z,n):\n",
    "    if(n==0):\n",
    "        return b0(z)\n",
    "    else:\n",
    "        return (z*n-1)*bn(z,n-1)/ z-bn(z,n-2)"
   ]
  },
  {
   "cell_type": "code",
   "execution_count": null,
   "id": "397a52cd",
   "metadata": {},
   "outputs": [],
   "source": [
    "bn(4,5)"
   ]
  },
  {
   "cell_type": "markdown",
   "id": "c100ac75",
   "metadata": {},
   "source": [
    "#include <math.h>\n",
    "\n",
    "double j0(double x);\n",
    "\n",
    "double j1(double x);\n",
    "\n",
    "double jn(int n, double x);"
   ]
  },
  {
   "cell_type": "code",
   "execution_count": null,
   "id": "7dc86072",
   "metadata": {},
   "outputs": [],
   "source": [
    "def fatorial(n):\n",
    "    if(n == 0):\n",
    "        return 1\n",
    "    else:\n",
    "        return n*fatorial(n - 1)\n",
    "\n",
    "def J0(x):\n",
    "    k = 0\n",
    "    soma = 0\n",
    "    termo = 1\n",
    "    while(1.0e-4 <= termo):\n",
    "        termo = pow(x/2, (2*k))/(fatorial(k)*fatorial(k))\n",
    "        soma += pow(-1, k)*termo\n",
    "        k += 1\n",
    "    return soma"
   ]
  },
  {
   "cell_type": "code",
   "execution_count": null,
   "id": "736f05b7",
   "metadata": {},
   "outputs": [],
   "source": [
    "J0(1),J0(9),J0(35)"
   ]
  },
  {
   "cell_type": "code",
   "execution_count": 1,
   "id": "bd04ea01",
   "metadata": {},
   "outputs": [],
   "source": [
    "import scipy.special as sp "
   ]
  },
  {
   "cell_type": "code",
   "execution_count": 6,
   "id": "311ed1e7",
   "metadata": {
    "scrolled": true
   },
   "outputs": [
    {
     "data": {
      "text/plain": [
       "(0.7651976865579665,\n",
       " -0.09033361118287592,\n",
       " -0.12684568275631272,\n",
       " 0.020013295249404688)"
      ]
     },
     "execution_count": 6,
     "metadata": {},
     "output_type": "execute_result"
    }
   ],
   "source": [
    "sp.j0(1), sp.j0(9),sp.j0(35),sp.j0(900)"
   ]
  },
  {
   "cell_type": "code",
   "execution_count": 3,
   "id": "1f24ea15",
   "metadata": {},
   "outputs": [],
   "source": [
    "from mpmath import besselj\n",
    "def j0(x):\n",
    "    return besselj(0,x)"
   ]
  },
  {
   "cell_type": "code",
   "execution_count": 5,
   "id": "5541238d",
   "metadata": {},
   "outputs": [
    {
     "data": {
      "text/plain": [
       "(mpf('0.76519768655796655'), mpf('0.020013295249405229'))"
      ]
     },
     "execution_count": 5,
     "metadata": {},
     "output_type": "execute_result"
    }
   ],
   "source": [
    "j0(1),j0(900)"
   ]
  },
  {
   "cell_type": "code",
   "execution_count": null,
   "id": "b832be75",
   "metadata": {},
   "outputs": [],
   "source": []
  }
 ],
 "metadata": {
  "kernelspec": {
   "display_name": "Python 3 (ipykernel)",
   "language": "python",
   "name": "python3"
  },
  "language_info": {
   "codemirror_mode": {
    "name": "ipython",
    "version": 3
   },
   "file_extension": ".py",
   "mimetype": "text/x-python",
   "name": "python",
   "nbconvert_exporter": "python",
   "pygments_lexer": "ipython3",
   "version": "3.9.12"
  }
 },
 "nbformat": 4,
 "nbformat_minor": 5
}
