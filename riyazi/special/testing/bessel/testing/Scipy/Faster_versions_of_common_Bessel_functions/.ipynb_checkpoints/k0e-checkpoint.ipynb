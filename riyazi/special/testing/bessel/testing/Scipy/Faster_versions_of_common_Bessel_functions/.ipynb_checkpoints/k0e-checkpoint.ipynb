{
 "cells": [
  {
   "cell_type": "code",
   "execution_count": 1,
   "id": "4dbeba9b",
   "metadata": {},
   "outputs": [],
   "source": [
    "import scipy.special as sp"
   ]
  },
  {
   "cell_type": "code",
   "execution_count": 2,
   "id": "2052f68c",
   "metadata": {},
   "outputs": [],
   "source": [
    "import math \n",
    "def k0e(x):\n",
    "    return math.exp(x)* sp.k0(x)"
   ]
  },
  {
   "cell_type": "code",
   "execution_count": 3,
   "id": "2c013729",
   "metadata": {},
   "outputs": [
    {
     "data": {
      "text/plain": [
       "0.6092976692566953"
      ]
     },
     "execution_count": 3,
     "metadata": {},
     "output_type": "execute_result"
    }
   ],
   "source": [
    "sp.k0e(4)"
   ]
  },
  {
   "cell_type": "code",
   "execution_count": 7,
   "id": "e9f96d7a",
   "metadata": {},
   "outputs": [
    {
     "data": {
      "text/plain": [
       "0.6092976692566952"
      ]
     },
     "execution_count": 7,
     "metadata": {},
     "output_type": "execute_result"
    }
   ],
   "source": [
    "k0e(4)"
   ]
  },
  {
   "cell_type": "code",
   "execution_count": null,
   "id": "91333ea1",
   "metadata": {},
   "outputs": [],
   "source": []
  }
 ],
 "metadata": {
  "kernelspec": {
   "display_name": "Python 3 (ipykernel)",
   "language": "python",
   "name": "python3"
  },
  "language_info": {
   "codemirror_mode": {
    "name": "ipython",
    "version": 3
   },
   "file_extension": ".py",
   "mimetype": "text/x-python",
   "name": "python",
   "nbconvert_exporter": "python",
   "pygments_lexer": "ipython3",
   "version": "3.9.12"
  }
 },
 "nbformat": 4,
 "nbformat_minor": 5
}
