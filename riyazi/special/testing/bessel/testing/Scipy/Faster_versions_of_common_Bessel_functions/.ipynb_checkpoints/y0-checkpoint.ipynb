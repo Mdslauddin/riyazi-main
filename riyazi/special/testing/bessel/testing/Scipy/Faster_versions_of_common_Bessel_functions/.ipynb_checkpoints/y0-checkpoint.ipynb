{
 "cells": [
  {
   "cell_type": "markdown",
   "id": "91d037a9",
   "metadata": {},
   "source": [
    "#include <math.h>\n",
    "\n",
    "double y0(double x);\n",
    "\n",
    "double y1(double x);\n",
    "\n",
    "double yn(int n, double x);"
   ]
  },
  {
   "cell_type": "markdown",
   "id": "65737747",
   "metadata": {},
   "source": [
    "https://ameli.github.io/special_functions/api/besseli.html"
   ]
  },
  {
   "cell_type": "code",
   "execution_count": null,
   "id": "4fe5f3d1",
   "metadata": {},
   "outputs": [],
   "source": []
  }
 ],
 "metadata": {
  "kernelspec": {
   "display_name": "Python 3 (ipykernel)",
   "language": "python",
   "name": "python3"
  },
  "language_info": {
   "codemirror_mode": {
    "name": "ipython",
    "version": 3
   },
   "file_extension": ".py",
   "mimetype": "text/x-python",
   "name": "python",
   "nbconvert_exporter": "python",
   "pygments_lexer": "ipython3",
   "version": "3.9.12"
  }
 },
 "nbformat": 4,
 "nbformat_minor": 5
}
