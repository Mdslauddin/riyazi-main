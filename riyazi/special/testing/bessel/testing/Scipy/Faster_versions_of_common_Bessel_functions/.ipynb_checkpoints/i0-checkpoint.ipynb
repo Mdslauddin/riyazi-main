{
 "cells": [
  {
   "cell_type": "code",
   "execution_count": 1,
   "id": "2ca6565f",
   "metadata": {},
   "outputs": [],
   "source": [
    "import scipy.special as sp"
   ]
  },
  {
   "cell_type": "code",
   "execution_count": 2,
   "id": "2711ccea",
   "metadata": {},
   "outputs": [
    {
     "data": {
      "text/plain": [
       "4.880792585865024"
      ]
     },
     "execution_count": 2,
     "metadata": {},
     "output_type": "execute_result"
    }
   ],
   "source": [
    "sp.i0(3)"
   ]
  },
  {
   "cell_type": "code",
   "execution_count": 3,
   "id": "5d1e46ff",
   "metadata": {},
   "outputs": [
    {
     "data": {
      "text/plain": [
       "427.56411572180474"
      ]
     },
     "execution_count": 3,
     "metadata": {},
     "output_type": "execute_result"
    }
   ],
   "source": [
    "sp.i0(8)"
   ]
  },
  {
   "cell_type": "code",
   "execution_count": 4,
   "id": "adf623f5",
   "metadata": {},
   "outputs": [
    {
     "data": {
      "text/plain": [
       "18948.92534929631"
      ]
     },
     "execution_count": 4,
     "metadata": {},
     "output_type": "execute_result"
    }
   ],
   "source": [
    "sp.i0(12)"
   ]
  },
  {
   "cell_type": "code",
   "execution_count": null,
   "id": "5fc3d794",
   "metadata": {},
   "outputs": [],
   "source": [
    "sp.j0(3)"
   ]
  },
  {
   "cell_type": "code",
   "execution_count": 15,
   "id": "3af8f72e",
   "metadata": {},
   "outputs": [],
   "source": [
    "import math \n",
    "def i0(x):\n",
    "    res= 0 \n",
    "    for k in range(90):\n",
    "        res += ( pow(pow(x,2)/4,k) / math.factorial(k)**2  )\n",
    "    return res"
   ]
  },
  {
   "cell_type": "code",
   "execution_count": 16,
   "id": "209bb279",
   "metadata": {},
   "outputs": [
    {
     "data": {
      "text/plain": [
       "4.8807925858650245"
      ]
     },
     "execution_count": 16,
     "metadata": {},
     "output_type": "execute_result"
    }
   ],
   "source": [
    "i0(3)"
   ]
  },
  {
   "cell_type": "code",
   "execution_count": 17,
   "id": "8e53e474",
   "metadata": {},
   "outputs": [
    {
     "data": {
      "text/plain": [
       "427.56411572180474"
      ]
     },
     "execution_count": 17,
     "metadata": {},
     "output_type": "execute_result"
    }
   ],
   "source": [
    "i0(8)"
   ]
  },
  {
   "cell_type": "code",
   "execution_count": 18,
   "id": "be5628f1",
   "metadata": {},
   "outputs": [
    {
     "data": {
      "text/plain": [
       "18948.925349296307"
      ]
     },
     "execution_count": 18,
     "metadata": {},
     "output_type": "execute_result"
    }
   ],
   "source": [
    "i0(12)"
   ]
  },
  {
   "cell_type": "code",
   "execution_count": null,
   "id": "2a0a3200",
   "metadata": {},
   "outputs": [],
   "source": []
  }
 ],
 "metadata": {
  "kernelspec": {
   "display_name": "Python 3 (ipykernel)",
   "language": "python",
   "name": "python3"
  },
  "language_info": {
   "codemirror_mode": {
    "name": "ipython",
    "version": 3
   },
   "file_extension": ".py",
   "mimetype": "text/x-python",
   "name": "python",
   "nbconvert_exporter": "python",
   "pygments_lexer": "ipython3",
   "version": "3.9.12"
  }
 },
 "nbformat": 4,
 "nbformat_minor": 5
}
