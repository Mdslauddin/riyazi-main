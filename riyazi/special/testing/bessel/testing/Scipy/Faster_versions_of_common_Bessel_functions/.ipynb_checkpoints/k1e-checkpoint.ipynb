{
 "cells": [
  {
   "cell_type": "code",
   "execution_count": 1,
   "id": "a61bdf8a",
   "metadata": {},
   "outputs": [],
   "source": [
    "import scipy.special as sp"
   ]
  },
  {
   "cell_type": "code",
   "execution_count": 2,
   "id": "90452450",
   "metadata": {},
   "outputs": [],
   "source": [
    "import math \n",
    "def k1e(x):\n",
    "    return math.exp(x) * sp.k1(x)"
   ]
  },
  {
   "cell_type": "code",
   "execution_count": 3,
   "id": "737c1c70",
   "metadata": {},
   "outputs": [
    {
     "data": {
      "text/plain": [
       "0.806563480128787"
      ]
     },
     "execution_count": 3,
     "metadata": {},
     "output_type": "execute_result"
    }
   ],
   "source": [
    "sp.k1e(3)"
   ]
  },
  {
   "cell_type": "code",
   "execution_count": 4,
   "id": "7f1cccd7",
   "metadata": {},
   "outputs": [
    {
     "data": {
      "text/plain": [
       "0.8065634801287871"
      ]
     },
     "execution_count": 4,
     "metadata": {},
     "output_type": "execute_result"
    }
   ],
   "source": [
    "k1e(3)"
   ]
  },
  {
   "cell_type": "code",
   "execution_count": null,
   "id": "cdcb51f5",
   "metadata": {},
   "outputs": [],
   "source": []
  }
 ],
 "metadata": {
  "kernelspec": {
   "display_name": "Python 3 (ipykernel)",
   "language": "python",
   "name": "python3"
  },
  "language_info": {
   "codemirror_mode": {
    "name": "ipython",
    "version": 3
   },
   "file_extension": ".py",
   "mimetype": "text/x-python",
   "name": "python",
   "nbconvert_exporter": "python",
   "pygments_lexer": "ipython3",
   "version": "3.9.12"
  }
 },
 "nbformat": 4,
 "nbformat_minor": 5
}
