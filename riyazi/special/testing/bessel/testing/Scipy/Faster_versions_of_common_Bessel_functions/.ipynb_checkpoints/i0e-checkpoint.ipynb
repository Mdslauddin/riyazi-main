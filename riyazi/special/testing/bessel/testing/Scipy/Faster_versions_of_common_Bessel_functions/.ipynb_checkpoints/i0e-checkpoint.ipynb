{
 "cells": [
  {
   "cell_type": "code",
   "execution_count": 1,
   "id": "09fe81c5",
   "metadata": {},
   "outputs": [],
   "source": [
    "import scipy.special as sp"
   ]
  },
  {
   "cell_type": "code",
   "execution_count": 5,
   "id": "f2f6ac40",
   "metadata": {},
   "outputs": [],
   "source": [
    "import math\n",
    "def i0e(x):\n",
    "    return math.exp(-abs(x))*sp.i0(x)"
   ]
  },
  {
   "cell_type": "code",
   "execution_count": 6,
   "id": "f40d2ce5",
   "metadata": {},
   "outputs": [
    {
     "data": {
      "text/plain": [
       "0.24300035416182536"
      ]
     },
     "execution_count": 6,
     "metadata": {},
     "output_type": "execute_result"
    }
   ],
   "source": [
    "sp.i0e(3)"
   ]
  },
  {
   "cell_type": "code",
   "execution_count": 7,
   "id": "0d1a5972",
   "metadata": {},
   "outputs": [
    {
     "data": {
      "text/plain": [
       "0.2430003541618254"
      ]
     },
     "execution_count": 7,
     "metadata": {},
     "output_type": "execute_result"
    }
   ],
   "source": [
    "i0e(3)"
   ]
  },
  {
   "cell_type": "code",
   "execution_count": null,
   "id": "164a33da",
   "metadata": {},
   "outputs": [],
   "source": []
  }
 ],
 "metadata": {
  "kernelspec": {
   "display_name": "Python 3 (ipykernel)",
   "language": "python",
   "name": "python3"
  },
  "language_info": {
   "codemirror_mode": {
    "name": "ipython",
    "version": 3
   },
   "file_extension": ".py",
   "mimetype": "text/x-python",
   "name": "python",
   "nbconvert_exporter": "python",
   "pygments_lexer": "ipython3",
   "version": "3.9.12"
  }
 },
 "nbformat": 4,
 "nbformat_minor": 5
}
