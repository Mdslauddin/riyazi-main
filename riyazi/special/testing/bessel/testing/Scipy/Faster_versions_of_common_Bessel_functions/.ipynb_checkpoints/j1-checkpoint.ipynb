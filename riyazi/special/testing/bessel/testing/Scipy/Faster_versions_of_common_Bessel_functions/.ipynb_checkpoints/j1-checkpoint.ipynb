{
 "cells": [
  {
   "cell_type": "code",
   "execution_count": 1,
   "id": "d88b5ad6",
   "metadata": {},
   "outputs": [],
   "source": [
    "def fatorial(n):\n",
    "    if(n == 0):\n",
    "        return 1\n",
    "    else:\n",
    "        return n*fatorial(n - 1)\n",
    "\n",
    "def J1(x):\n",
    "    k = 0\n",
    "    soma = 0\n",
    "    termo = 1\n",
    "    while(1.0e-4 <= termo):\n",
    "        termo = pow(x/2, (2*k + 1))/(fatorial(k)*fatorial(k + 1))\n",
    "        soma += pow(-1, k)*termo\n",
    "        k += 1\n",
    "    return soma"
   ]
  },
  {
   "cell_type": "code",
   "execution_count": 2,
   "id": "98a3397d",
   "metadata": {},
   "outputs": [],
   "source": [
    "\n",
    "def J2(x):\n",
    "    k = 0\n",
    "    soma = 0\n",
    "    termo = 1\n",
    "    while(1.0e-4 <= termo):\n",
    "        termo = pow(x/2, (2*k + 2))/(fatorial(k)*fatorial(k + 2))\n",
    "        soma += pow(-1, k)*termo\n",
    "        k += 1\n",
    "    return soma"
   ]
  },
  {
   "cell_type": "code",
   "execution_count": null,
   "id": "11abee64",
   "metadata": {},
   "outputs": [],
   "source": []
  }
 ],
 "metadata": {
  "kernelspec": {
   "display_name": "Python 3 (ipykernel)",
   "language": "python",
   "name": "python3"
  },
  "language_info": {
   "codemirror_mode": {
    "name": "ipython",
    "version": 3
   },
   "file_extension": ".py",
   "mimetype": "text/x-python",
   "name": "python",
   "nbconvert_exporter": "python",
   "pygments_lexer": "ipython3",
   "version": "3.9.12"
  }
 },
 "nbformat": 4,
 "nbformat_minor": 5
}
