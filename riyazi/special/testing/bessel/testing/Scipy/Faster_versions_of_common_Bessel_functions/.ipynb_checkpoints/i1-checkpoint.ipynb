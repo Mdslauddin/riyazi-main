{
 "cells": [
  {
   "cell_type": "code",
   "execution_count": 1,
   "id": "7a0d05e2",
   "metadata": {},
   "outputs": [],
   "source": [
    "import scipy.special as sp "
   ]
  },
  {
   "cell_type": "code",
   "execution_count": 7,
   "id": "7d7fe14b",
   "metadata": {},
   "outputs": [],
   "source": [
    "import math \n",
    "def i1(x):\n",
    "    res = 0\n",
    "    for k in range(90):\n",
    "        res += (0.5*x)  *  pow((pow(x,2)/4),k) / (math.factorial(k)* math.factorial(k+1))\n",
    "    return res"
   ]
  },
  {
   "cell_type": "code",
   "execution_count": 8,
   "id": "eda54f34",
   "metadata": {},
   "outputs": [
    {
     "data": {
      "text/plain": [
       "3.9533702174026093"
      ]
     },
     "execution_count": 8,
     "metadata": {},
     "output_type": "execute_result"
    }
   ],
   "source": [
    "sp.i1(3)"
   ]
  },
  {
   "cell_type": "code",
   "execution_count": 9,
   "id": "2e50ea56",
   "metadata": {},
   "outputs": [
    {
     "data": {
      "text/plain": [
       "3.953370217402609"
      ]
     },
     "execution_count": 9,
     "metadata": {},
     "output_type": "execute_result"
    }
   ],
   "source": [
    "i1(3)"
   ]
  },
  {
   "cell_type": "code",
   "execution_count": null,
   "id": "2d35ace0",
   "metadata": {},
   "outputs": [],
   "source": []
  }
 ],
 "metadata": {
  "kernelspec": {
   "display_name": "Python 3 (ipykernel)",
   "language": "python",
   "name": "python3"
  },
  "language_info": {
   "codemirror_mode": {
    "name": "ipython",
    "version": 3
   },
   "file_extension": ".py",
   "mimetype": "text/x-python",
   "name": "python",
   "nbconvert_exporter": "python",
   "pygments_lexer": "ipython3",
   "version": "3.9.12"
  }
 },
 "nbformat": 4,
 "nbformat_minor": 5
}
