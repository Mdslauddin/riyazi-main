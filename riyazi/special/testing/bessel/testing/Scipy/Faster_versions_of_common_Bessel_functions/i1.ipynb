{
 "cells": [
  {
   "cell_type": "code",
   "execution_count": 1,
   "id": "7a0d05e2",
   "metadata": {},
   "outputs": [],
   "source": [
    "import scipy.special as sp "
   ]
  },
  {
   "cell_type": "code",
   "execution_count": 2,
   "id": "7d7fe14b",
   "metadata": {},
   "outputs": [],
   "source": [
    "import math \n",
    "def i1(x):\n",
    "    res = 0\n",
    "    for k in range(90):\n",
    "        res += (0.5*x)  *  pow((pow(x,2)/4),k) / (math.factorial(k)* math.factorial(k+1))\n",
    "    return res"
   ]
  },
  {
   "cell_type": "code",
   "execution_count": 5,
   "id": "eda54f34",
   "metadata": {},
   "outputs": [
    {
     "data": {
      "text/plain": [
       "(3.9533702174026093, inf)"
      ]
     },
     "execution_count": 5,
     "metadata": {},
     "output_type": "execute_result"
    }
   ],
   "source": [
    "sp.i1(3),sp.i1(900)"
   ]
  },
  {
   "cell_type": "code",
   "execution_count": 6,
   "id": "2e50ea56",
   "metadata": {},
   "outputs": [
    {
     "ename": "OverflowError",
     "evalue": "(34, 'Result too large')",
     "output_type": "error",
     "traceback": [
      "\u001b[1;31m---------------------------------------------------------------------------\u001b[0m",
      "\u001b[1;31mOverflowError\u001b[0m                             Traceback (most recent call last)",
      "Input \u001b[1;32mIn [6]\u001b[0m, in \u001b[0;36m<cell line: 1>\u001b[1;34m()\u001b[0m\n\u001b[1;32m----> 1\u001b[0m i1(\u001b[38;5;241m3\u001b[39m),\u001b[43mi1\u001b[49m\u001b[43m(\u001b[49m\u001b[38;5;241;43m900\u001b[39;49m\u001b[43m)\u001b[49m\n",
      "Input \u001b[1;32mIn [2]\u001b[0m, in \u001b[0;36mi1\u001b[1;34m(x)\u001b[0m\n\u001b[0;32m      3\u001b[0m res \u001b[38;5;241m=\u001b[39m \u001b[38;5;241m0\u001b[39m\n\u001b[0;32m      4\u001b[0m \u001b[38;5;28;01mfor\u001b[39;00m k \u001b[38;5;129;01min\u001b[39;00m \u001b[38;5;28mrange\u001b[39m(\u001b[38;5;241m90\u001b[39m):\n\u001b[1;32m----> 5\u001b[0m     res \u001b[38;5;241m+\u001b[39m\u001b[38;5;241m=\u001b[39m (\u001b[38;5;241m0.5\u001b[39m\u001b[38;5;241m*\u001b[39mx)  \u001b[38;5;241m*\u001b[39m  \u001b[38;5;28;43mpow\u001b[39;49m\u001b[43m(\u001b[49m\u001b[43m(\u001b[49m\u001b[38;5;28;43mpow\u001b[39;49m\u001b[43m(\u001b[49m\u001b[43mx\u001b[49m\u001b[43m,\u001b[49m\u001b[38;5;241;43m2\u001b[39;49m\u001b[43m)\u001b[49m\u001b[38;5;241;43m/\u001b[39;49m\u001b[38;5;241;43m4\u001b[39;49m\u001b[43m)\u001b[49m\u001b[43m,\u001b[49m\u001b[43mk\u001b[49m\u001b[43m)\u001b[49m \u001b[38;5;241m/\u001b[39m (math\u001b[38;5;241m.\u001b[39mfactorial(k)\u001b[38;5;241m*\u001b[39m math\u001b[38;5;241m.\u001b[39mfactorial(k\u001b[38;5;241m+\u001b[39m\u001b[38;5;241m1\u001b[39m))\n\u001b[0;32m      6\u001b[0m \u001b[38;5;28;01mreturn\u001b[39;00m res\n",
      "\u001b[1;31mOverflowError\u001b[0m: (34, 'Result too large')"
     ]
    }
   ],
   "source": [
    "i1(3),i1(900)"
   ]
  },
  {
   "cell_type": "code",
   "execution_count": 7,
   "id": "2d35ace0",
   "metadata": {},
   "outputs": [],
   "source": [
    "from mpmath import besseli\n",
    "def i1(x):\n",
    "    return besseli(1,x)"
   ]
  },
  {
   "cell_type": "code",
   "execution_count": 9,
   "id": "3e6a1cfa",
   "metadata": {},
   "outputs": [
    {
     "data": {
      "text/plain": [
       "(mpf('3.9533702174026093'), mpf('9.7418506532216308e+388'))"
      ]
     },
     "execution_count": 9,
     "metadata": {},
     "output_type": "execute_result"
    }
   ],
   "source": [
    "i1(3),i1(900)"
   ]
  },
  {
   "cell_type": "code",
   "execution_count": null,
   "id": "aeb75cc0",
   "metadata": {},
   "outputs": [],
   "source": []
  }
 ],
 "metadata": {
  "kernelspec": {
   "display_name": "Python 3 (ipykernel)",
   "language": "python",
   "name": "python3"
  },
  "language_info": {
   "codemirror_mode": {
    "name": "ipython",
    "version": 3
   },
   "file_extension": ".py",
   "mimetype": "text/x-python",
   "name": "python",
   "nbconvert_exporter": "python",
   "pygments_lexer": "ipython3",
   "version": "3.9.12"
  }
 },
 "nbformat": 4,
 "nbformat_minor": 5
}
