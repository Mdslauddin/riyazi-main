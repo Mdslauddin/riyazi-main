{
 "cells": [
  {
   "cell_type": "code",
   "execution_count": 1,
   "id": "f30420ff",
   "metadata": {},
   "outputs": [],
   "source": [
    "from mpmath import besselk\n",
    "def k1(x):\n",
    "    return besselk(1,x)"
   ]
  },
  {
   "cell_type": "code",
   "execution_count": 2,
   "id": "5451b352",
   "metadata": {},
   "outputs": [
    {
     "data": {
      "text/plain": [
       "mpf('5.3637016379451948e-5')"
      ]
     },
     "execution_count": 2,
     "metadata": {},
     "output_type": "execute_result"
    }
   ],
   "source": [
    "k1(9)"
   ]
  },
  {
   "cell_type": "code",
   "execution_count": 3,
   "id": "d2e38278",
   "metadata": {},
   "outputs": [],
   "source": [
    "import scipy.special as sp "
   ]
  },
  {
   "cell_type": "code",
   "execution_count": 4,
   "id": "85d0cc2a",
   "metadata": {},
   "outputs": [
    {
     "data": {
      "text/plain": [
       "5.363701637945195e-05"
      ]
     },
     "execution_count": 4,
     "metadata": {},
     "output_type": "execute_result"
    }
   ],
   "source": [
    "sp.k1(9)"
   ]
  },
  {
   "cell_type": "code",
   "execution_count": null,
   "id": "42291e39",
   "metadata": {},
   "outputs": [],
   "source": []
  }
 ],
 "metadata": {
  "kernelspec": {
   "display_name": "Python 3 (ipykernel)",
   "language": "python",
   "name": "python3"
  },
  "language_info": {
   "codemirror_mode": {
    "name": "ipython",
    "version": 3
   },
   "file_extension": ".py",
   "mimetype": "text/x-python",
   "name": "python",
   "nbconvert_exporter": "python",
   "pygments_lexer": "ipython3",
   "version": "3.9.12"
  }
 },
 "nbformat": 4,
 "nbformat_minor": 5
}
