{
 "cells": [
  {
   "cell_type": "code",
   "execution_count": 1,
   "id": "f34d8774",
   "metadata": {},
   "outputs": [],
   "source": [
    "import scipy.special as sP"
   ]
  },
  {
   "cell_type": "code",
   "execution_count": 2,
   "id": "fc568524",
   "metadata": {},
   "outputs": [
    {
     "data": {
      "text/plain": [
       "(inf, 2.2008253973114916e-06, 4.6566282291759025e-45, 1.0810242556984256e-40)"
      ]
     },
     "execution_count": 2,
     "metadata": {},
     "output_type": "execute_result"
    }
   ],
   "source": [
    "sP.k0(0),sP.k0(12),sP.k0(100),sP.k0(90)"
   ]
  },
  {
   "cell_type": "code",
   "execution_count": 3,
   "id": "f4a13ed3",
   "metadata": {},
   "outputs": [],
   "source": [
    "from mpmath import besselk\n",
    "def k0(x):\n",
    "    return besselk(0,x)"
   ]
  },
  {
   "cell_type": "code",
   "execution_count": 4,
   "id": "d1b2e725",
   "metadata": {},
   "outputs": [
    {
     "data": {
      "text/plain": [
       "(mpf('+inf'),\n",
       " mpf('2.2008253973114916e-6'),\n",
       " mpf('4.6566282291759019e-45'),\n",
       " mpf('1.0810242556984254e-40'))"
      ]
     },
     "execution_count": 4,
     "metadata": {},
     "output_type": "execute_result"
    }
   ],
   "source": [
    "k0(0),k0(12),k0(100),k0(90)"
   ]
  },
  {
   "cell_type": "code",
   "execution_count": null,
   "id": "cd17daf5",
   "metadata": {},
   "outputs": [],
   "source": [
    "double k0(x)\n",
    "double x;\n",
    "{\n",
    "double y, z;\n",
    "\n",
    "if( x <= 0.0 )\n",
    "\t{\n",
    "\tmtherr( \"k0\", DOMAIN );\n",
    "\treturn( MAXNUM );\n",
    "\t}\n",
    "\n",
    "if( x <= 2.0 )\n",
    "\t{\n",
    "\ty = x * x - 2.0;\n",
    "\ty = chbevl( y, A, 10 ) - log( 0.5 * x ) * i0(x);\n",
    "\treturn( y );\n",
    "\t}\n",
    "z = 8.0/x - 2.0;\n",
    "y = exp(-x) * chbevl( z, B, 25 ) / sqrt(x);\n",
    "return(y);\n",
    "}"
   ]
  },
  {
   "cell_type": "code",
   "execution_count": null,
   "id": "30801c9e",
   "metadata": {},
   "outputs": [],
   "source": [
    "def k0(x):\n",
    "    if (x <=0.0):\n",
    "        return math.inf\n",
    "    if (x <=2):\n",
    "        y = x*x - 2.0\n",
    "        y \n",
    "        "
   ]
  }
 ],
 "metadata": {
  "kernelspec": {
   "display_name": "Python 3 (ipykernel)",
   "language": "python",
   "name": "python3"
  },
  "language_info": {
   "codemirror_mode": {
    "name": "ipython",
    "version": 3
   },
   "file_extension": ".py",
   "mimetype": "text/x-python",
   "name": "python",
   "nbconvert_exporter": "python",
   "pygments_lexer": "ipython3",
   "version": "3.9.12"
  }
 },
 "nbformat": 4,
 "nbformat_minor": 5
}
