{
 "cells": [
  {
   "cell_type": "code",
   "execution_count": 1,
   "id": "6196aceb",
   "metadata": {},
   "outputs": [
    {
     "data": {
      "text/plain": [
       "(-9.878987731663194-8.021894345786002j)"
      ]
     },
     "execution_count": 1,
     "metadata": {},
     "output_type": "execute_result"
    }
   ],
   "source": [
    "from scipy.special import spherical_jn\n",
    "spherical_jn(0, 3+5j)"
   ]
  },
  {
   "cell_type": "code",
   "execution_count": 2,
   "id": "097b67f2",
   "metadata": {},
   "outputs": [
    {
     "data": {
      "text/plain": [
       "numpy.complex128"
      ]
     },
     "execution_count": 2,
     "metadata": {},
     "output_type": "execute_result"
    }
   ],
   "source": [
    "type(spherical_jn(0, 3+5j))"
   ]
  },
  {
   "cell_type": "code",
   "execution_count": 4,
   "id": "18d9528a",
   "metadata": {},
   "outputs": [
    {
     "data": {
      "text/plain": [
       "True"
      ]
     },
     "execution_count": 4,
     "metadata": {},
     "output_type": "execute_result"
    }
   ],
   "source": [
    "import numpy as np \n",
    "from scipy.special import spherical_jn\n",
    "x = np.arange(1.0, 2.0, 0.01)\n",
    "np.allclose(spherical_jn(3, x, True),\n",
    "            spherical_jn(2, x) - 4/x * spherical_jn(3, x))"
   ]
  },
  {
   "cell_type": "code",
   "execution_count": 5,
   "id": "def7bba0",
   "metadata": {
    "collapsed": true
   },
   "outputs": [
    {
     "data": {
      "image/png": "[encoded data removed]",
      "text/plain": [
       "<Figure size 432x288 with 1 Axes>"
      ]
     },
     "metadata": {
      "needs_background": "light"
     },
     "output_type": "display_data"
    }
   ],
   "source": [
    "import matplotlib.pyplot as plt\n",
    "from scipy.special import spherical_jn\n",
    "x = np.arange(0.0, 10.0, 0.01)\n",
    "fig, ax = plt.subplots()\n",
    "ax.set_ylim(-0.5, 1.5)\n",
    "ax.set_title(r'Spherical Bessel functions $j_n$')\n",
    "for n in np.arange(0, 4):\n",
    "    ax.plot(x, spherical_jn(n, x), label=rf'$j_{n}$')\n",
    "plt.legend(loc='best')\n",
    "plt.show()"
   ]
  },
  {
   "cell_type": "code",
   "execution_count": null,
   "id": "ba04d736",
   "metadata": {},
   "outputs": [],
   "source": []
  },
  {
   "cell_type": "code",
   "execution_count": 3,
   "id": "b167f9a5",
   "metadata": {},
   "outputs": [],
   "source": [
    "import numpy as np\n",
    "import scipy.special as sp\n",
    "\n",
    "def sph_jn(n, z):\n",
    "    return np.sqrt(0.5*np.pi/z)*sp.jv(n + 0.5, z)"
   ]
  },
  {
   "cell_type": "code",
   "execution_count": 4,
   "id": "93fad284",
   "metadata": {},
   "outputs": [
    {
     "data": {
      "text/plain": [
       "(-9.878987731663194-8.021894345786002j)"
      ]
     },
     "execution_count": 4,
     "metadata": {},
     "output_type": "execute_result"
    }
   ],
   "source": [
    "sph_jn(0,3+5j)"
   ]
  },
  {
   "cell_type": "code",
   "execution_count": 5,
   "id": "d24a4f45",
   "metadata": {},
   "outputs": [
    {
     "data": {
      "text/plain": [
       "(-9.878987731663194-8.021894345786002j)"
      ]
     },
     "execution_count": 5,
     "metadata": {},
     "output_type": "execute_result"
    }
   ],
   "source": [
    "sp.spherical_jn(0,3+5j)"
   ]
  },
  {
   "cell_type": "code",
   "execution_count": null,
   "id": "fd707fe2",
   "metadata": {},
   "outputs": [],
   "source": []
  },
  {
   "cell_type": "code",
   "execution_count": 8,
   "id": "0bf6edde",
   "metadata": {},
   "outputs": [
    {
     "data": {
      "text/plain": [
       "numpy.complex128"
      ]
     },
     "execution_count": 8,
     "metadata": {},
     "output_type": "execute_result"
    }
   ],
   "source": [
    "type(sph_jn(0,3+5j))"
   ]
  },
  {
   "cell_type": "code",
   "execution_count": null,
   "id": "2ca2ffca",
   "metadata": {},
   "outputs": [],
   "source": []
  },
  {
   "cell_type": "code",
   "execution_count": null,
   "id": "6b5d0468",
   "metadata": {},
   "outputs": [],
   "source": []
  },
  {
   "cell_type": "code",
   "execution_count": null,
   "id": "80cc122e",
   "metadata": {},
   "outputs": [],
   "source": []
  },
  {
   "cell_type": "code",
   "execution_count": null,
   "id": "1b96a01a",
   "metadata": {},
   "outputs": [],
   "source": []
  },
  {
   "cell_type": "code",
   "execution_count": null,
   "id": "3bfef0c5",
   "metadata": {},
   "outputs": [],
   "source": []
  },
  {
   "cell_type": "code",
   "execution_count": null,
   "id": "705d57df",
   "metadata": {},
   "outputs": [],
   "source": []
  }
 ],
 "metadata": {
  "kernelspec": {
   "display_name": "Python 3 (ipykernel)",
   "language": "python",
   "name": "python3"
  },
  "language_info": {
   "codemirror_mode": {
    "name": "ipython",
    "version": 3
   },
   "file_extension": ".py",
   "mimetype": "text/x-python",
   "name": "python",
   "nbconvert_exporter": "python",
   "pygments_lexer": "ipython3",
   "version": "3.9.12"
  }
 },
 "nbformat": 4,
 "nbformat_minor": 5
}
