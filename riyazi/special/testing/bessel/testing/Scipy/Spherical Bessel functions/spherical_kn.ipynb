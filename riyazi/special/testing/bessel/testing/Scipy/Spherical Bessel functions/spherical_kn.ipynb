{
 "cells": [
  {
   "cell_type": "markdown",
   "id": "9f40b4a7",
   "metadata": {},
   "source": [
    "https://reference.wolfram.com/language/guide/BesselRelatedFunctions.html"
   ]
  },
  {
   "cell_type": "markdown",
   "id": "4e104b2a",
   "metadata": {},
   "source": [
    "https://math.nist.gov/mcsd/Reports/2001/nesf/node1.html"
   ]
  },
  {
   "cell_type": "code",
   "execution_count": 1,
   "id": "678a53fe",
   "metadata": {},
   "outputs": [],
   "source": [
    "import scipy.special as sp"
   ]
  },
  {
   "cell_type": "code",
   "execution_count": 2,
   "id": "201d5eec",
   "metadata": {},
   "outputs": [
    {
     "data": {
      "text/plain": [
       "0.026410087882779185"
      ]
     },
     "execution_count": 2,
     "metadata": {},
     "output_type": "execute_result"
    }
   ],
   "source": [
    "sp.spherical_kn(3,4)"
   ]
  },
  {
   "cell_type": "code",
   "execution_count": 3,
   "id": "6546b44d",
   "metadata": {},
   "outputs": [],
   "source": [
    "import numpy as np\n",
    "def sph_kn(n, z):\n",
    "    return np.sqrt(0.5*np.pi/z)*sp.kv(n + 0.5, z)"
   ]
  },
  {
   "cell_type": "code",
   "execution_count": 4,
   "id": "146bd7c5",
   "metadata": {},
   "outputs": [
    {
     "data": {
      "text/plain": [
       "0.026410087882779185"
      ]
     },
     "execution_count": 4,
     "metadata": {},
     "output_type": "execute_result"
    }
   ],
   "source": [
    "sph_kn(3,4)"
   ]
  },
  {
   "cell_type": "code",
   "execution_count": null,
   "id": "262f03a7",
   "metadata": {},
   "outputs": [],
   "source": []
  }
 ],
 "metadata": {
  "kernelspec": {
   "display_name": "Python 3 (ipykernel)",
   "language": "python",
   "name": "python3"
  },
  "language_info": {
   "codemirror_mode": {
    "name": "ipython",
    "version": 3
   },
   "file_extension": ".py",
   "mimetype": "text/x-python",
   "name": "python",
   "nbconvert_exporter": "python",
   "pygments_lexer": "ipython3",
   "version": "3.9.12"
  }
 },
 "nbformat": 4,
 "nbformat_minor": 5
}
