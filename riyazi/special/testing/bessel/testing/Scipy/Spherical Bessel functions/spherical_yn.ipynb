{
 "cells": [
  {
   "cell_type": "code",
   "execution_count": 1,
   "id": "ca5c2d83",
   "metadata": {},
   "outputs": [
    {
     "data": {
      "text/plain": [
       "(8.022343088587197-9.880052589376795j)"
      ]
     },
     "execution_count": 1,
     "metadata": {},
     "output_type": "execute_result"
    }
   ],
   "source": [
    "from scipy.special import spherical_yn\n",
    "spherical_yn(0, 3+5j)"
   ]
  },
  {
   "cell_type": "code",
   "execution_count": 2,
   "id": "11264072",
   "metadata": {},
   "outputs": [],
   "source": [
    "import numpy as np\n",
    "import scipy.special\n"
   ]
  },
  {
   "cell_type": "code",
   "execution_count": 3,
   "id": "7867c0a8",
   "metadata": {},
   "outputs": [],
   "source": [
    "def sph_yn(n, z):\n",
    "    return np.sqrt(0.5*np.pi/z)*scipy.special.yv(n + 0.5, z)"
   ]
  },
  {
   "cell_type": "code",
   "execution_count": 4,
   "id": "483549cb",
   "metadata": {},
   "outputs": [
    {
     "data": {
      "text/plain": [
       "(8.022343088587197-9.880052589376795j)"
      ]
     },
     "execution_count": 4,
     "metadata": {},
     "output_type": "execute_result"
    }
   ],
   "source": [
    "sph_yn(0,3+5j)"
   ]
  },
  {
   "cell_type": "code",
   "execution_count": null,
   "id": "c345a913",
   "metadata": {},
   "outputs": [],
   "source": []
  }
 ],
 "metadata": {
  "kernelspec": {
   "display_name": "Python 3 (ipykernel)",
   "language": "python",
   "name": "python3"
  },
  "language_info": {
   "codemirror_mode": {
    "name": "ipython",
    "version": 3
   },
   "file_extension": ".py",
   "mimetype": "text/x-python",
   "name": "python",
   "nbconvert_exporter": "python",
   "pygments_lexer": "ipython3",
   "version": "3.9.12"
  }
 },
 "nbformat": 4,
 "nbformat_minor": 5
}
