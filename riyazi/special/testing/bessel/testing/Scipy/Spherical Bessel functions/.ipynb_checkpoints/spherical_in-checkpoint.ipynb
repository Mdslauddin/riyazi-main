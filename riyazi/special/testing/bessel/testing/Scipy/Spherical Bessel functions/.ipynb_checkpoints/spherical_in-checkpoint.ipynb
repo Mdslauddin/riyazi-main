{
 "cells": [
  {
   "cell_type": "code",
   "execution_count": 1,
   "id": "bec0704c",
   "metadata": {},
   "outputs": [],
   "source": [
    "\"\"\"Spherical Bessel function algorithms based on ordinary Bessel functions.\n",
    "These algorithms compute the spherical Bessel functions by calling the\n",
    "scipy Bessel function routines, exploiting the identities\n",
    "http://dlmf.nist.gov/10.47.ii .\n",
    "\"\"\"\n",
    "import numpy as np\n",
    "import scipy.special\n",
    "\n",
    "def sph_jn(n, z):\n",
    "    return np.sqrt(0.5*np.pi/z)*scipy.special.jv(n + 0.5, z)\n",
    "\n",
    "def sph_yn(n, z):\n",
    "    return np.sqrt(0.5*np.pi/z)*scipy.special.yv(n + 0.5, z)\n",
    "\n",
    "def sph_h1n(n, z):\n",
    "    return np.sqrt(0.5*np.pi/z)*scipy.special.hankel1(n + 0.5, z)\n",
    "\n",
    "def sph_h2n(n, z):\n",
    "    return np.sqrt(0.5*np.pi/z)*scipy.special.hankel2(n + 0.5, z)\n",
    "\n",
    "def sph_i1n(n, z):\n",
    "    return np.sqrt(0.5*np.pi/z)*scipy.special.iv(n + 0.5, z)\n",
    "\n",
    "def sph_i2n(n, z):\n",
    "    return np.sqrt(0.5*np.pi/z)*scipy.special.iv(-n - 0.5, z)\n",
    "\n",
    "def sph_kn(n, z):\n",
    "    return np.sqrt(0.5*np.pi/z)*scipy.special.kv(n + 0.5, z)"
   ]
  },
  {
   "cell_type": "markdown",
   "id": "cee8fd65",
   "metadata": {},
   "source": [
    "https://link.springer.com/article/10.1007/s40314-022-01816-3"
   ]
  },
  {
   "cell_type": "code",
   "execution_count": null,
   "id": "f0678f98",
   "metadata": {},
   "outputs": [],
   "source": [
    "s"
   ]
  }
 ],
 "metadata": {
  "kernelspec": {
   "display_name": "Python 3 (ipykernel)",
   "language": "python",
   "name": "python3"
  },
  "language_info": {
   "codemirror_mode": {
    "name": "ipython",
    "version": 3
   },
   "file_extension": ".py",
   "mimetype": "text/x-python",
   "name": "python",
   "nbconvert_exporter": "python",
   "pygments_lexer": "ipython3",
   "version": "3.9.12"
  }
 },
 "nbformat": 4,
 "nbformat_minor": 5
}
