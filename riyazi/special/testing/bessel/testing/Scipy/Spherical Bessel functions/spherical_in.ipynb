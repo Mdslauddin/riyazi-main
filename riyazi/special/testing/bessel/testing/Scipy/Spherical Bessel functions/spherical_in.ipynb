{
 "cells": [
  {
   "cell_type": "code",
   "execution_count": 4,
   "id": "bec0704c",
   "metadata": {},
   "outputs": [],
   "source": [
    "\"\"\"Spherical Bessel function algorithms based on ordinary Bessel functions.\n",
    "These algorithms compute the spherical Bessel functions by calling the\n",
    "scipy Bessel function routines, exploiting the identities\n",
    "http://dlmf.nist.gov/10.47.ii .\n",
    "\"\"\"\n",
    "import numpy as np\n",
    "import scipy.special\n",
    "\n",
    "def sph_jn(n, z):\n",
    "    return np.sqrt(0.5*np.pi/z)*scipy.special.jv(n + 0.5, z)\n",
    "\n",
    "def sph_yn(n, z):\n",
    "    return np.sqrt(0.5*np.pi/z)*scipy.special.yv(n + 0.5, z)\n",
    "\n",
    "def sph_h1n(n, z):\n",
    "    return np.sqrt(0.5*np.pi/z)*scipy.special.hankel1(n + 0.5, z)\n",
    "\n",
    "def sph_h2n(n, z):\n",
    "    return np.sqrt(0.5*np.pi/z)*scipy.special.hankel2(n + 0.5, z)\n",
    "\n",
    "def sph_i1n(n, z):\n",
    "    return np.sqrt(0.5*np.pi/z)*scipy.special.iv(n + 0.5, z)\n",
    "\n",
    "def sph_i2n(n, z):\n",
    "    return np.sqrt(0.5*np.pi/z)*scipy.special.iv(-n - 0.5, z)\n",
    "\n",
    "def sph_kn(n, z):\n",
    "    return np.sqrt(0.5*np.pi/z)*scipy.special.kv(n + 0.5, z)"
   ]
  },
  {
   "cell_type": "markdown",
   "id": "cee8fd65",
   "metadata": {},
   "source": [
    "https://link.springer.com/article/10.1007/s40314-022-01816-3"
   ]
  },
  {
   "cell_type": "code",
   "execution_count": 2,
   "id": "f0678f98",
   "metadata": {},
   "outputs": [],
   "source": [
    "import scipy.special as sp"
   ]
  },
  {
   "cell_type": "code",
   "execution_count": 9,
   "id": "59f29e6b",
   "metadata": {},
   "outputs": [
    {
     "data": {
      "text/plain": [
       "(19.61079484831798, 0.0053318632938994595)"
      ]
     },
     "execution_count": 9,
     "metadata": {},
     "output_type": "execute_result"
    }
   ],
   "source": [
    "sp.spherical_in(2,6),sp.spherical_in(9,5)"
   ]
  },
  {
   "cell_type": "code",
   "execution_count": 10,
   "id": "343ad041",
   "metadata": {},
   "outputs": [
    {
     "data": {
      "text/plain": [
       "(19.61079484831798, 0.0053318632938994595)"
      ]
     },
     "execution_count": 10,
     "metadata": {},
     "output_type": "execute_result"
    }
   ],
   "source": [
    "sph_i1n(2,6),sph_i1n(9,5)"
   ]
  },
  {
   "cell_type": "code",
   "execution_count": 5,
   "id": "b88e1de9",
   "metadata": {},
   "outputs": [
    {
     "data": {
      "text/plain": [
       "((-0.03732571166269459+0.16997730753260523j),\n",
       " (-0.03732571166269459-0.16997730753260523j),\n",
       " 19.61079484831798,\n",
       " 19.61144896347571,\n",
       " -0.037325711662694834,\n",
       " 0.001027481687065348,\n",
       " 0.16997730753260523)"
      ]
     },
     "execution_count": 5,
     "metadata": {},
     "output_type": "execute_result"
    }
   ],
   "source": [
    "sph_h1n(2,6), sph_h2n(2,6),sph_i1n(2,6),sph_i2n(2,6),sph_jn(2,6),sph_kn(2,6),sph_yn(2,6)"
   ]
  },
  {
   "cell_type": "code",
   "execution_count": 6,
   "id": "abea9f3d",
   "metadata": {},
   "outputs": [],
   "source": [
    "def sph_h1n(n, z):\n",
    "    return np.sqrt(0.5*np.pi/z)*scipy.special.hankel1(n + 0.5, z)"
   ]
  },
  {
   "cell_type": "code",
   "execution_count": 7,
   "id": "ded60a06",
   "metadata": {},
   "outputs": [
    {
     "data": {
      "text/plain": [
       "2.6867587904680557"
      ]
     },
     "execution_count": 7,
     "metadata": {},
     "output_type": "execute_result"
    }
   ],
   "source": [
    "sp.spherical_in(5,6)"
   ]
  },
  {
   "cell_type": "code",
   "execution_count": 8,
   "id": "4675c250",
   "metadata": {},
   "outputs": [
    {
     "data": {
      "text/plain": [
       "2.6867587904680557"
      ]
     },
     "execution_count": 8,
     "metadata": {},
     "output_type": "execute_result"
    }
   ],
   "source": [
    "sph_i1n(5,6)"
   ]
  },
  {
   "cell_type": "code",
   "execution_count": null,
   "id": "e3ac0c80",
   "metadata": {},
   "outputs": [],
   "source": []
  }
 ],
 "metadata": {
  "kernelspec": {
   "display_name": "Python 3 (ipykernel)",
   "language": "python",
   "name": "python3"
  },
  "language_info": {
   "codemirror_mode": {
    "name": "ipython",
    "version": 3
   },
   "file_extension": ".py",
   "mimetype": "text/x-python",
   "name": "python",
   "nbconvert_exporter": "python",
   "pygments_lexer": "ipython3",
   "version": "3.9.12"
  }
 },
 "nbformat": 4,
 "nbformat_minor": 5
}
