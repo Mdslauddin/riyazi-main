{
 "cells": [
  {
   "cell_type": "code",
   "execution_count": 1,
   "id": "eed8cc8c",
   "metadata": {},
   "outputs": [],
   "source": [
    "import scipy.special as sp "
   ]
  },
  {
   "cell_type": "code",
   "execution_count": 5,
   "id": "10ba8d51",
   "metadata": {},
   "outputs": [
    {
     "data": {
      "text/plain": [
       "-0.28366218546322625"
      ]
     },
     "execution_count": 5,
     "metadata": {},
     "output_type": "execute_result"
    }
   ],
   "source": [
    "sp.spherical_yn(0,5)*5"
   ]
  },
  {
   "cell_type": "code",
   "execution_count": 3,
   "id": "66470e4b",
   "metadata": {},
   "outputs": [
    {
     "data": {
      "text/plain": [
       "(array([-0.28366219,  0.90219184,  0.82497729, -0.07721455, -0.93307766]),\n",
       " array([-0.95892427, -0.46410055,  0.57220092,  0.87130602,  0.66924758]))"
      ]
     },
     "execution_count": 3,
     "metadata": {},
     "output_type": "execute_result"
    }
   ],
   "source": [
    "sp.riccati_yn(4,5)"
   ]
  },
  {
   "cell_type": "code",
   "execution_count": null,
   "id": "b69b2037",
   "metadata": {},
   "outputs": [],
   "source": [
    "from math import pi\n",
    "import scipy.special as sp \n",
    "def riccati_yn(n,x):\n",
    "    return (x*sp.spherical_yn(n,x))"
   ]
  },
  {
   "cell_type": "code",
   "execution_count": 6,
   "id": "2a0dfcdd",
   "metadata": {},
   "outputs": [],
   "source": [
    "from math import pi\n",
    "import scipy.special as sp \n",
    "import numpy as np \n",
    "def riccati_yn(n,x):\n",
    "    for rng in range(0,n+1):\n",
    "        c = (x*sp.spherical_yn(rng,x))\n",
    "        print(c)"
   ]
  },
  {
   "cell_type": "code",
   "execution_count": 7,
   "id": "bd3cfe67",
   "metadata": {},
   "outputs": [
    {
     "name": "stdout",
     "output_type": "stream",
     "text": [
      "-0.28366218546322625\n",
      "0.9021918375704931\n",
      "0.8249772880055223\n",
      "-0.07721454956497092\n",
      "-0.9330776573964816\n"
     ]
    }
   ],
   "source": [
    "riccati_yn(4,5)"
   ]
  },
  {
   "cell_type": "code",
   "execution_count": null,
   "id": "040f0f18",
   "metadata": {},
   "outputs": [],
   "source": []
  }
 ],
 "metadata": {
  "kernelspec": {
   "display_name": "Python 3 (ipykernel)",
   "language": "python",
   "name": "python3"
  },
  "language_info": {
   "codemirror_mode": {
    "name": "ipython",
    "version": 3
   },
   "file_extension": ".py",
   "mimetype": "text/x-python",
   "name": "python",
   "nbconvert_exporter": "python",
   "pygments_lexer": "ipython3",
   "version": "3.9.12"
  }
 },
 "nbformat": 4,
 "nbformat_minor": 5
}
