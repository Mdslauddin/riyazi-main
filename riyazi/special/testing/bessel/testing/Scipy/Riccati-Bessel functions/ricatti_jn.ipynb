{
 "cells": [
  {
   "cell_type": "code",
   "execution_count": null,
   "id": "e984c0d5",
   "metadata": {},
   "outputs": [],
   "source": []
  },
  {
   "cell_type": "code",
   "execution_count": 1,
   "id": "b4fa4cbf",
   "metadata": {},
   "outputs": [],
   "source": [
    "import scipy.special as sp"
   ]
  },
  {
   "cell_type": "code",
   "execution_count": 2,
   "id": "fcb77a17",
   "metadata": {
    "scrolled": true
   },
   "outputs": [
    {
     "data": {
      "text/plain": [
       "(array([0.14112001, 1.0370325 , 0.89591249]),\n",
       " array([-0.9899925 , -0.20455749,  0.43975751]))"
      ]
     },
     "execution_count": 2,
     "metadata": {},
     "output_type": "execute_result"
    }
   ],
   "source": [
    "sp.riccati_jn(2,3)"
   ]
  },
  {
   "cell_type": "code",
   "execution_count": 3,
   "id": "958f4800",
   "metadata": {},
   "outputs": [
    {
     "data": {
      "text/plain": [
       "0.18216629298862463"
      ]
     },
     "execution_count": 3,
     "metadata": {},
     "output_type": "execute_result"
    }
   ],
   "source": [
    "sp.spherical_jn(3,2)*3"
   ]
  },
  {
   "cell_type": "code",
   "execution_count": 4,
   "id": "c541126a",
   "metadata": {},
   "outputs": [
    {
     "data": {
      "text/plain": [
       "0.0"
      ]
     },
     "execution_count": 4,
     "metadata": {},
     "output_type": "execute_result"
    }
   ],
   "source": [
    "sp.spherical_jn(1,0)*1"
   ]
  },
  {
   "cell_type": "code",
   "execution_count": 5,
   "id": "2a2c41e2",
   "metadata": {},
   "outputs": [
    {
     "data": {
      "text/plain": [
       "0.3011686789397571"
      ]
     },
     "execution_count": 5,
     "metadata": {},
     "output_type": "execute_result"
    }
   ],
   "source": [
    "sp.spherical_jn(1,1)*1"
   ]
  },
  {
   "cell_type": "code",
   "execution_count": 6,
   "id": "a7e36482",
   "metadata": {},
   "outputs": [
    {
     "data": {
      "text/plain": [
       "0.3968958981142935"
      ]
     },
     "execution_count": 6,
     "metadata": {},
     "output_type": "execute_result"
    }
   ],
   "source": [
    "sp.spherical_jn(2,2)*2"
   ]
  },
  {
   "cell_type": "code",
   "execution_count": 7,
   "id": "a9a616dd",
   "metadata": {},
   "outputs": [
    {
     "data": {
      "text/plain": [
       "0.8959124912272007"
      ]
     },
     "execution_count": 7,
     "metadata": {},
     "output_type": "execute_result"
    }
   ],
   "source": [
    "sp.spherical_jn(2,3)*3"
   ]
  },
  {
   "cell_type": "code",
   "execution_count": null,
   "id": "b19497ee",
   "metadata": {},
   "outputs": [],
   "source": []
  },
  {
   "cell_type": "code",
   "execution_count": null,
   "id": "6f1afbff",
   "metadata": {},
   "outputs": [],
   "source": []
  },
  {
   "cell_type": "code",
   "execution_count": 8,
   "id": "ca7e92d2",
   "metadata": {
    "scrolled": true
   },
   "outputs": [
    {
     "data": {
      "text/plain": [
       "0.4860912605858912"
      ]
     },
     "execution_count": 8,
     "metadata": {},
     "output_type": "execute_result"
    }
   ],
   "source": [
    "sp.jn(2,3)"
   ]
  },
  {
   "cell_type": "code",
   "execution_count": 9,
   "id": "9cd35a6d",
   "metadata": {},
   "outputs": [
    {
     "data": {
      "text/plain": [
       "-0.2600519549019335"
      ]
     },
     "execution_count": 9,
     "metadata": {},
     "output_type": "execute_result"
    }
   ],
   "source": [
    "sp.j0(3)"
   ]
  },
  {
   "cell_type": "code",
   "execution_count": 10,
   "id": "edf4674e",
   "metadata": {},
   "outputs": [
    {
     "data": {
      "text/plain": [
       "0.7651976865579666"
      ]
     },
     "execution_count": 10,
     "metadata": {},
     "output_type": "execute_result"
    }
   ],
   "source": [
    "sp.jn(0,1)"
   ]
  },
  {
   "cell_type": "code",
   "execution_count": 11,
   "id": "cfe8c39d",
   "metadata": {},
   "outputs": [],
   "source": [
    "from math import pi\n",
    "import scipy.special as sp \n",
    "def riccati_jn(n,x):\n",
    "    return (x*sp.spherical_jn(n,x))"
   ]
  },
  {
   "cell_type": "code",
   "execution_count": 12,
   "id": "2f4b9a3a",
   "metadata": {},
   "outputs": [
    {
     "data": {
      "text/plain": [
       "0.8959124912272007"
      ]
     },
     "execution_count": 12,
     "metadata": {},
     "output_type": "execute_result"
    }
   ],
   "source": [
    "riccati_jn(2,3)"
   ]
  },
  {
   "cell_type": "code",
   "execution_count": 13,
   "id": "c1bb1cf1",
   "metadata": {},
   "outputs": [
    {
     "data": {
      "text/plain": [
       "(array([0.14112001, 1.0370325 , 0.89591249]),\n",
       " array([-0.9899925 , -0.20455749,  0.43975751]))"
      ]
     },
     "execution_count": 13,
     "metadata": {},
     "output_type": "execute_result"
    }
   ],
   "source": [
    "sp.riccati_jn(2,3)"
   ]
  },
  {
   "cell_type": "code",
   "execution_count": null,
   "id": "7772da42",
   "metadata": {},
   "outputs": [],
   "source": [
    "sp.riccati_jn(4,5)"
   ]
  },
  {
   "cell_type": "code",
   "execution_count": null,
   "id": "e4611244",
   "metadata": {},
   "outputs": [],
   "source": [
    "riccati_jn(0,5),riccati_jn(1,5),riccati_jn(2,5),riccati_jn(3,5),riccati_jn(4,5)"
   ]
  },
  {
   "cell_type": "code",
   "execution_count": 14,
   "id": "b82058de",
   "metadata": {},
   "outputs": [],
   "source": [
    "from math import pi\n",
    "import scipy.special as sp \n",
    "from scipy.special import spherical_jn\n",
    "import numpy as np \n",
    "def riccati_jn(n,x):\n",
    "    for rng in range(0,n+1):\n",
    "        c = (x*sp.spherical_jn(rng,x))\n",
    "        print(c)\n",
    "        \n"
   ]
  },
  {
   "cell_type": "code",
   "execution_count": 16,
   "id": "47ab8d38",
   "metadata": {},
   "outputs": [
    {
     "name": "stdout",
     "output_type": "stream",
     "text": [
      "0.1411200080598672\n",
      "1.0370324992870679\n",
      "0.8959124912272007\n"
     ]
    }
   ],
   "source": [
    "riccati_jn(2,3)"
   ]
  },
  {
   "cell_type": "code",
   "execution_count": 15,
   "id": "53418561",
   "metadata": {},
   "outputs": [
    {
     "name": "stdout",
     "output_type": "stream",
     "text": [
      "-0.9589242746631386\n",
      "-0.47544704039585395\n",
      "0.6736560504256262\n",
      "1.14910309082148\n",
      "0.9350882767244459\n"
     ]
    }
   ],
   "source": [
    "riccati_jn(4,5)"
   ]
  },
  {
   "cell_type": "code",
   "execution_count": null,
   "id": "61814900",
   "metadata": {},
   "outputs": [],
   "source": []
  },
  {
   "cell_type": "code",
   "execution_count": null,
   "id": "d76b839c",
   "metadata": {},
   "outputs": [],
   "source": []
  },
  {
   "cell_type": "code",
   "execution_count": null,
   "id": "d4ded17d",
   "metadata": {},
   "outputs": [],
   "source": []
  },
  {
   "cell_type": "code",
   "execution_count": null,
   "id": "cc2745ef",
   "metadata": {},
   "outputs": [],
   "source": []
  }
 ],
 "metadata": {
  "kernelspec": {
   "display_name": "Python 3 (ipykernel)",
   "language": "python",
   "name": "python3"
  },
  "language_info": {
   "codemirror_mode": {
    "name": "ipython",
    "version": 3
   },
   "file_extension": ".py",
   "mimetype": "text/x-python",
   "name": "python",
   "nbconvert_exporter": "python",
   "pygments_lexer": "ipython3",
   "version": "3.9.12"
  }
 },
 "nbformat": 4,
 "nbformat_minor": 5
}
