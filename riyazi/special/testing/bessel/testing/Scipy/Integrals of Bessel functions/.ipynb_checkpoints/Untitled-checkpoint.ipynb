{
 "cells": [
  {
   "cell_type": "code",
   "execution_count": null,
   "id": "756e1fef",
   "metadata": {},
   "outputs": [],
   "source": [
    "def itj0y0():\n",
    "    pass\n",
    "def it2j0y0():\n",
    "    pass\n",
    "def iti0k0():\n",
    "    pass\n",
    "def it2i0k0():\n",
    "    pass\n",
    "def besselpoly():\n",
    "    pass"
   ]
  },
  {
   "cell_type": "code",
   "execution_count": null,
   "id": "aae55de4",
   "metadata": {},
   "outputs": [],
   "source": [
    "import scipy.special as sp "
   ]
  },
  {
   "cell_type": "code",
   "execution_count": null,
   "id": "457d0c79",
   "metadata": {
    "scrolled": false
   },
   "outputs": [],
   "source": [
    "sp.itj0y0(5)"
   ]
  },
  {
   "cell_type": "code",
   "execution_count": null,
   "id": "56fe960b",
   "metadata": {},
   "outputs": [],
   "source": [
    "sp.itj0y0(4)"
   ]
  },
  {
   "cell_type": "code",
   "execution_count": null,
   "id": "0e463fad",
   "metadata": {},
   "outputs": [],
   "source": [
    "sp.itj0y0(2)"
   ]
  },
  {
   "cell_type": "code",
   "execution_count": null,
   "id": "432cd6a1",
   "metadata": {},
   "outputs": [],
   "source": [
    "sp.j0(2), sp.y0(2)"
   ]
  },
  {
   "cell_type": "code",
   "execution_count": null,
   "id": "62ce2a51",
   "metadata": {
    "scrolled": true
   },
   "outputs": [],
   "source": [
    "sp.itj0y0(200)"
   ]
  },
  {
   "cell_type": "code",
   "execution_count": null,
   "id": "909740f5",
   "metadata": {},
   "outputs": [],
   "source": [
    "sp.itj0y0(20)"
   ]
  },
  {
   "cell_type": "code",
   "execution_count": null,
   "id": "95dec0f7",
   "metadata": {},
   "outputs": [],
   "source": [
    "import math\n",
    "def itj0(x):\n",
    "    res = 0 \n",
    "    for k in range(20):\n",
    "        res += (pow((-x**2)/4,k)/ math.factorial(k)**2)\n",
    "    return res"
   ]
  },
  {
   "cell_type": "code",
   "execution_count": null,
   "id": "9abdf5e9",
   "metadata": {},
   "outputs": [],
   "source": [
    "itj0(4)"
   ]
  },
  {
   "cell_type": "markdown",
   "id": "ec387b95",
   "metadata": {},
   "source": [
    "https://math.stackexchange.com/questions/17634/how-do-you-integrate-a-bessel-function-i-dont-want-to-memorize-answers-or-use"
   ]
  },
  {
   "cell_type": "markdown",
   "id": "cd64013a",
   "metadata": {},
   "source": [
    "https://math.libretexts.org/Bookshelves/Differential_Equations/Book%3A_Partial_Differential_Equations_(Walet)/10%3A_Bessel_Functions_and_Two-Dimensional_Problems/10.05%3A_Properties_of_Bessel_functions"
   ]
  },
  {
   "cell_type": "markdown",
   "id": "9cbf6a1a",
   "metadata": {},
   "source": [
    "https://functions.wolfram.com/Bessel-TypeFunctions/"
   ]
  },
  {
   "cell_type": "markdown",
   "id": "80576b5b",
   "metadata": {},
   "source": [
    "https://www.bing.com/images/search?view=detailV2&ccid=cC7c4Se9&id=AC29D527E2A2131A413DE3BB0CDAAEDDCB85E7E6&thid=OIP.cC7c4Se9cr3SPupTXwN6BAHaF-&mediaurl=https%3a%2f%2fi.stack.imgur.com%2fdBQiW.png&exph=739&expw=916&q=integral+bessel+function++j0&simid=608052934377889688&FORM=IRPRST&ck=C3CEC341B867F4C3DDE5E60895C36C89&selectedIndex=17&ajaxhist=0&ajaxserp=0"
   ]
  },
  {
   "cell_type": "code",
   "execution_count": null,
   "id": "5dfcef35",
   "metadata": {},
   "outputs": [],
   "source": []
  },
  {
   "cell_type": "code",
   "execution_count": null,
   "id": "77d43d0f",
   "metadata": {},
   "outputs": [],
   "source": []
  }
 ],
 "metadata": {
  "kernelspec": {
   "display_name": "Python 3 (ipykernel)",
   "language": "python",
   "name": "python3"
  },
  "language_info": {
   "codemirror_mode": {
    "name": "ipython",
    "version": 3
   },
   "file_extension": ".py",
   "mimetype": "text/x-python",
   "name": "python",
   "nbconvert_exporter": "python",
   "pygments_lexer": "ipython3",
   "version": "3.9.12"
  }
 },
 "nbformat": 4,
 "nbformat_minor": 5
}
