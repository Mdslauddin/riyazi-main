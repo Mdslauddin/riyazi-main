{
 "cells": [
  {
   "cell_type": "code",
   "execution_count": null,
   "id": "756e1fef",
   "metadata": {},
   "outputs": [],
   "source": [
    "def itj0y0():\n",
    "    pass\n",
    "def it2j0y0():\n",
    "    pass\n",
    "def iti0k0():\n",
    "    pass\n",
    "def it2i0k0():\n",
    "    pass\n",
    "def besselpoly():\n",
    "    pass"
   ]
  },
  {
   "cell_type": "code",
   "execution_count": 2,
   "id": "b2f454bd",
   "metadata": {},
   "outputs": [],
   "source": [
    "import scipy.special as sp\n",
    "import mpmath as mp"
   ]
  },
  {
   "cell_type": "code",
   "execution_count": 16,
   "id": "acd07911",
   "metadata": {},
   "outputs": [],
   "source": [
    "import scipy.special\n",
    "\n",
    "def weighted_integral_bessel(n, x, alpha, beta):\n",
    "    \"\"\"\n",
    "    Compute the weighted integral of the Bessel function of the first kind.\n",
    "\n",
    "    The weighted integral is defined as:\n",
    "        \\int_0^x J_n(t) t^{\\alpha} (x-t)^{\\beta} dt\n",
    "\n",
    "    Parameters\n",
    "    ----------\n",
    "    n : int\n",
    "        The order of the Bessel function.\n",
    "    x : float\n",
    "        The upper limit of the integral.\n",
    "    alpha : float\n",
    "        The exponent of t in the weight function.\n",
    "    beta : float\n",
    "        The exponent of (x-t) in the weight function.\n",
    "\n",
    "    Returns\n",
    "    -------\n",
    "    float\n",
    "        The value of the weighted integral.\n",
    "    \"\"\"\n",
    "    def integrand(t):\n",
    "        return scipy.special.jv(n, t) * t**alpha * (x-t)**beta\n",
    "\n",
    "    return scipy.integrate.quad(integrand, 0, x)[0]\n"
   ]
  },
  {
   "cell_type": "code",
   "execution_count": 17,
   "id": "07a8535d",
   "metadata": {},
   "outputs": [
    {
     "name": "stdout",
     "output_type": "stream",
     "text": [
      "0.0020222254209066913\n"
     ]
    }
   ],
   "source": [
    "# Compute the weighted integral for n=2, x=1.0, alpha=1.0, beta=2.0\n",
    "result = weighted_integral_bessel(2, 1.0, 1.0, 2.0)\n",
    "print(result)\n"
   ]
  },
  {
   "cell_type": "code",
   "execution_count": 20,
   "id": "a3677d4f",
   "metadata": {},
   "outputs": [
    {
     "data": {
      "text/plain": [
       "0.1633333374322497"
      ]
     },
     "execution_count": 20,
     "metadata": {},
     "output_type": "execute_result"
    }
   ],
   "source": [
    "sp.besselpoly(2,1,1)"
   ]
  },
  {
   "cell_type": "code",
   "execution_count": 21,
   "id": "9e220c3e",
   "metadata": {},
   "outputs": [],
   "source": [
    "import scipy.special\n",
    "\n",
    "def bessel_poly(n, x):\n",
    "    \"\"\"\n",
    "    Compute the Bessel polynomial of order n at point x.\n",
    "\n",
    "    The Bessel polynomial is defined as:\n",
    "        B_n(x) = \\sum_{k=0}^{\\lfloor n/2 \\rfloor} (-1)^k\n",
    "                 \\binom{n-k}{k} \\frac{2^{n-2k}}{(n-2k)!} x^{n-2k}\n",
    "\n",
    "    Parameters\n",
    "    ----------\n",
    "    n : int\n",
    "        The order of the Bessel polynomial.\n",
    "    x : float\n",
    "        The point at which to evaluate the Bessel polynomial.\n",
    "\n",
    "    Returns\n",
    "    -------\n",
    "    float\n",
    "        The value of the Bessel polynomial at x.\n",
    "    \"\"\"\n",
    "    if n < 0:\n",
    "        raise ValueError(\"n must be non-negative\")\n",
    "\n",
    "    result = 0.0\n",
    "    for k in range(0, (n//2)+1):\n",
    "        result += (-1)**k * scipy.special.comb(n-k, k) * (2**(n-2*k)) / scipy.special.factorial(n-2*k) * x**(n-2*k)\n",
    "\n",
    "    return result\n"
   ]
  },
  {
   "cell_type": "code",
   "execution_count": 23,
   "id": "fe576e14",
   "metadata": {},
   "outputs": [
    {
     "data": {
      "text/plain": [
       "2.0"
      ]
     },
     "execution_count": 23,
     "metadata": {},
     "output_type": "execute_result"
    }
   ],
   "source": [
    "bessel_poly(1,1)"
   ]
  },
  {
   "cell_type": "code",
   "execution_count": null,
   "id": "0ddba5cd",
   "metadata": {},
   "outputs": [],
   "source": [
    "import scipy.special\n",
    "\n",
    "def integral_besseli0_sin(x, a, b):\n",
    "    \"\"\"\n",
    "    Compute the integral of the product of sin(x) and the modified Bessel function of order 0.\n",
    "\n",
    "    The integral is defined as:\n",
    "        \\int_a^b sin(x) I_0(x) dx\n",
    "\n",
    "    Parameters\n",
    "    ----------\n",
    "    x : ndarray\n",
    "        The sample points at which to evaluate the integral.\n",
    "    a : float\n",
    "        The lower limit of the integral.\n",
    "    b : float\n",
    "        The upper limit of the integral.\n",
    "\n",
    "    Returns\n",
    "    -------\n",
    "    ndarray\n",
    "        The values of the integral at the sample points.\n",
    "    \"\"\"\n",
    "    def integrand(x):\n",
    "        return np.sin(x) * scipy.special.i0(x)\n",
    "\n",
    "    return scipy.integrate.quad(integrand, a, b)[0]\n",
    "\n",
    "\n",
    "def integral_besseli0_cos(x, a, b):\n",
    "    \"\"\"\n",
    "    Compute the integral of the product of cos(x) and the modified Bessel function of order 0.\n",
    "\n",
    "    The integral is defined as:\n",
    "        \\int_a^b cos(x) I_0(x) dx\n",
    "\n",
    "    Parameters\n",
    "    ----------\n",
    "    x : ndarray\n",
    "        The sample points at which to evaluate the integral.\n",
    "    a : float\n",
    "        The lower limit of the integral.\n",
    "    b : float\n",
    "        The upper limit of the integral.\n",
    "\n",
    "    Returns\n",
    "    -------\n",
    "    ndarray\n",
    "        The values of the integral at the sample points.\n",
    "    \"\"\"\n",
    "    def integrand(x):\n",
    "        return np.cos(x) * scipy.special.i0(x)\n",
    "\n",
    "    return scipy.integrate.quad(integrand, a, b)[0]\n"
   ]
  },
  {
   "cell_type": "code",
   "execution_count": null,
   "id": "99d9ed4f",
   "metadata": {},
   "outputs": [],
   "source": [
    "import numpy as np\n",
    "\n",
    "# Define the sample points\n",
    "x = np.linspace(0, 10, 100)\n",
    "\n",
    "# Compute the integral of sin(x) * I_0(x) from 0 to 10\n",
    "result = integral_besseli0_sin(x, 0, 10)\n",
    "\n",
    "# Compute the integral of cos(x) * I_0(x) from 0 to 10\n",
    "result = integral_besseli0_cos(x, 0, 10)\n"
   ]
  },
  {
   "cell_type": "code",
   "execution_count": null,
   "id": "a1e9d5d2",
   "metadata": {},
   "outputs": [],
   "source": []
  },
  {
   "cell_type": "code",
   "execution_count": null,
   "id": "3261e4ad",
   "metadata": {},
   "outputs": [],
   "source": []
  },
  {
   "cell_type": "code",
   "execution_count": null,
   "id": "036911aa",
   "metadata": {},
   "outputs": [],
   "source": []
  },
  {
   "cell_type": "code",
   "execution_count": null,
   "id": "76309b27",
   "metadata": {},
   "outputs": [],
   "source": []
  },
  {
   "cell_type": "code",
   "execution_count": null,
   "id": "2127873b",
   "metadata": {},
   "outputs": [],
   "source": []
  },
  {
   "cell_type": "code",
   "execution_count": null,
   "id": "75647715",
   "metadata": {},
   "outputs": [],
   "source": []
  },
  {
   "cell_type": "code",
   "execution_count": null,
   "id": "c5ff54fc",
   "metadata": {},
   "outputs": [],
   "source": []
  },
  {
   "cell_type": "code",
   "execution_count": null,
   "id": "7f84f483",
   "metadata": {},
   "outputs": [],
   "source": []
  },
  {
   "cell_type": "code",
   "execution_count": null,
   "id": "6a98426c",
   "metadata": {},
   "outputs": [],
   "source": []
  },
  {
   "cell_type": "code",
   "execution_count": null,
   "id": "489863b3",
   "metadata": {},
   "outputs": [],
   "source": []
  },
  {
   "cell_type": "code",
   "execution_count": null,
   "id": "0d90107c",
   "metadata": {},
   "outputs": [],
   "source": []
  },
  {
   "cell_type": "code",
   "execution_count": 3,
   "id": "1a40c762",
   "metadata": {},
   "outputs": [
    {
     "data": {
      "text/plain": [
       "(1.0247341594606019, 0.38366964785312113)"
      ]
     },
     "execution_count": 3,
     "metadata": {},
     "output_type": "execute_result"
    }
   ],
   "source": [
    "sp.itj0y0(4)"
   ]
  },
  {
   "cell_type": "code",
   "execution_count": 6,
   "id": "71fc9951",
   "metadata": {},
   "outputs": [],
   "source": [
    "import scipy.special as sp\n",
    "\n",
    "def indefinite_integral_bessel_j0(x):\n",
    "    return x*sp.j0(x)\n"
   ]
  },
  {
   "cell_type": "code",
   "execution_count": 7,
   "id": "7c117817",
   "metadata": {},
   "outputs": [
    {
     "data": {
      "text/plain": [
       "-1.5885992394553892"
      ]
     },
     "execution_count": 7,
     "metadata": {},
     "output_type": "execute_result"
    }
   ],
   "source": [
    "indefinite_integral_bessel_j0(4)"
   ]
  },
  {
   "cell_type": "code",
   "execution_count": 8,
   "id": "9eb358cf",
   "metadata": {},
   "outputs": [],
   "source": [
    "import scipy.integrate as si\n",
    "\n",
    "def definite_integral_bessel_j0(a, b):\n",
    "    return si.quad(sp.j0, a, b)[0]\n"
   ]
  },
  {
   "cell_type": "code",
   "execution_count": 10,
   "id": "730969d7",
   "metadata": {},
   "outputs": [
    {
     "data": {
      "text/plain": [
       "-0.36283309254925855"
      ]
     },
     "execution_count": 10,
     "metadata": {},
     "output_type": "execute_result"
    }
   ],
   "source": [
    "definite_integral_bessel_j0(3,4)"
   ]
  },
  {
   "cell_type": "code",
   "execution_count": 11,
   "id": "52a61782",
   "metadata": {},
   "outputs": [],
   "source": [
    "import scipy.special as sp\n",
    "\n",
    "def indefinite_integral_bessel_j(n, x):\n",
    "    return x*sp.jv(n+1, x)\n"
   ]
  },
  {
   "cell_type": "code",
   "execution_count": 15,
   "id": "fcdb632f",
   "metadata": {},
   "outputs": [
    {
     "data": {
      "text/plain": [
       "1.0171768755778094"
      ]
     },
     "execution_count": 15,
     "metadata": {},
     "output_type": "execute_result"
    }
   ],
   "source": [
    "indefinite_integral_bessel_j(0,3)"
   ]
  },
  {
   "cell_type": "code",
   "execution_count": null,
   "id": "f1a15f5d",
   "metadata": {},
   "outputs": [],
   "source": []
  },
  {
   "cell_type": "code",
   "execution_count": null,
   "id": "457d0c79",
   "metadata": {
    "scrolled": false
   },
   "outputs": [],
   "source": [
    "sp.itj0y0(5)"
   ]
  },
  {
   "cell_type": "code",
   "execution_count": null,
   "id": "56fe960b",
   "metadata": {},
   "outputs": [],
   "source": [
    "sp.itj0y0(4)"
   ]
  },
  {
   "cell_type": "code",
   "execution_count": null,
   "id": "0e463fad",
   "metadata": {},
   "outputs": [],
   "source": [
    "sp.itj0y0(2)"
   ]
  },
  {
   "cell_type": "code",
   "execution_count": null,
   "id": "432cd6a1",
   "metadata": {},
   "outputs": [],
   "source": [
    "sp.j0(2), sp.y0(2)"
   ]
  },
  {
   "cell_type": "code",
   "execution_count": null,
   "id": "62ce2a51",
   "metadata": {
    "scrolled": true
   },
   "outputs": [],
   "source": [
    "sp.itj0y0(200)"
   ]
  },
  {
   "cell_type": "code",
   "execution_count": null,
   "id": "909740f5",
   "metadata": {},
   "outputs": [],
   "source": [
    "sp.itj0y0(20)"
   ]
  },
  {
   "cell_type": "code",
   "execution_count": null,
   "id": "95dec0f7",
   "metadata": {},
   "outputs": [],
   "source": [
    "import math\n",
    "def itj0y0(x):\n",
    "    res = 0 \n",
    "    for k in range(20):\n",
    "        res += (pow((-x**2)/4,k)/ math.factorial(k)**2)\n",
    "    return res"
   ]
  },
  {
   "cell_type": "code",
   "execution_count": null,
   "id": "9abdf5e9",
   "metadata": {},
   "outputs": [],
   "source": [
    "itj0(4)"
   ]
  },
  {
   "cell_type": "markdown",
   "id": "ec387b95",
   "metadata": {},
   "source": [
    "https://math.stackexchange.com/questions/17634/how-do-you-integrate-a-bessel-function-i-dont-want-to-memorize-answers-or-use"
   ]
  },
  {
   "cell_type": "markdown",
   "id": "cd64013a",
   "metadata": {},
   "source": [
    "https://math.libretexts.org/Bookshelves/Differential_Equations/Book%3A_Partial_Differential_Equations_(Walet)/10%3A_Bessel_Functions_and_Two-Dimensional_Problems/10.05%3A_Properties_of_Bessel_functions"
   ]
  },
  {
   "cell_type": "markdown",
   "id": "9cbf6a1a",
   "metadata": {},
   "source": [
    "https://functions.wolfram.com/Bessel-TypeFunctions/"
   ]
  },
  {
   "cell_type": "markdown",
   "id": "80576b5b",
   "metadata": {},
   "source": [
    "https://www.bing.com/images/search?view=detailV2&ccid=cC7c4Se9&id=AC29D527E2A2131A413DE3BB0CDAAEDDCB85E7E6&thid=OIP.cC7c4Se9cr3SPupTXwN6BAHaF-&mediaurl=https%3a%2f%2fi.stack.imgur.com%2fdBQiW.png&exph=739&expw=916&q=integral+bessel+function++j0&simid=608052934377889688&FORM=IRPRST&ck=C3CEC341B867F4C3DDE5E60895C36C89&selectedIndex=17&ajaxhist=0&ajaxserp=0"
   ]
  },
  {
   "cell_type": "code",
   "execution_count": null,
   "id": "5dfcef35",
   "metadata": {},
   "outputs": [],
   "source": []
  },
  {
   "cell_type": "code",
   "execution_count": null,
   "id": "77d43d0f",
   "metadata": {},
   "outputs": [],
   "source": []
  }
 ],
 "metadata": {
  "kernelspec": {
   "display_name": "Python 3 (ipykernel)",
   "language": "python",
   "name": "python3"
  },
  "language_info": {
   "codemirror_mode": {
    "name": "ipython",
    "version": 3
   },
   "file_extension": ".py",
   "mimetype": "text/x-python",
   "name": "python",
   "nbconvert_exporter": "python",
   "pygments_lexer": "ipython3",
   "version": "3.9.12"
  }
 },
 "nbformat": 4,
 "nbformat_minor": 5
}
