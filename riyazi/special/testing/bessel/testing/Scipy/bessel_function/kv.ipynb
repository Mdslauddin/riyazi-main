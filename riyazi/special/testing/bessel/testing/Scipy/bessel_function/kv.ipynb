{
 "cells": [
  {
   "cell_type": "code",
   "execution_count": 1,
   "id": "c7e67de1",
   "metadata": {},
   "outputs": [],
   "source": [
    "import scipy.special as sp"
   ]
  },
  {
   "cell_type": "code",
   "execution_count": 2,
   "id": "5458e108",
   "metadata": {},
   "outputs": [
    {
     "data": {
      "text/plain": [
       "8.154841634819451e-05"
      ]
     },
     "execution_count": 2,
     "metadata": {},
     "output_type": "execute_result"
    }
   ],
   "source": [
    "sp.kv(3,9)"
   ]
  },
  {
   "cell_type": "markdown",
   "id": "bad3cea8",
   "metadata": {},
   "source": [
    "https://functions.wolfram.com/Bessel-TypeFunctions/BesselI/introductions/Bessels/ShowAll.html"
   ]
  },
  {
   "cell_type": "code",
   "execution_count": null,
   "id": "2beb23f2",
   "metadata": {},
   "outputs": [],
   "source": [
    "from cmath import exp,pi\n",
    "from mpmath import hypercomb\n",
    "from math import inf\n",
    "\n",
    "def besselk( n, z, **kwargs):\n",
    "    if not z:\n",
    "        return inf\n",
    "    M = z\n",
    "    if M < 1:\n",
    "        # Represent as limit definition\n",
    "        def h(n):\n",
    "            r = (z/2)**2\n",
    "            T1 = [z, 2], [-n, n-1], [n], [], [], [1-n], r\n",
    "            T2 = [z, 2], [n, -n-1], [-n], [], [], [1+n], r\n",
    "            return T1, T2\n",
    "    # We could use the limit definition always, but it leads\n",
    "    # to very bad cancellation (of exponentially large terms)\n",
    "    # for large real z\n",
    "    # Instead represent in terms of 2F0\n",
    "    else:\n",
    "        \n",
    "        def h(n):\n",
    "            return [([pi/2, z, exp(-z)], [0.5,-0.5,1], [], [], \\\n",
    "                [n+0.5, 0.5-n], [], -1/(2*z))]\n",
    "    return hypercomb(h, [n], **kwargs)"
   ]
  },
  {
   "cell_type": "code",
   "execution_count": 3,
   "id": "858963ff",
   "metadata": {},
   "outputs": [],
   "source": [
    "import mpmath \n",
    "\n",
    "def kv(v,x):\n",
    "    return mpmath.besselk(v,x)"
   ]
  },
  {
   "cell_type": "code",
   "execution_count": 4,
   "id": "df79d12e",
   "metadata": {},
   "outputs": [
    {
     "data": {
      "text/plain": [
       "mpf('8.1548416348194513e-5')"
      ]
     },
     "execution_count": 4,
     "metadata": {},
     "output_type": "execute_result"
    }
   ],
   "source": [
    "kv(3,9)"
   ]
  },
  {
   "cell_type": "code",
   "execution_count": null,
   "id": "b126b3af",
   "metadata": {},
   "outputs": [],
   "source": []
  }
 ],
 "metadata": {
  "kernelspec": {
   "display_name": "Python 3 (ipykernel)",
   "language": "python",
   "name": "python3"
  },
  "language_info": {
   "codemirror_mode": {
    "name": "ipython",
    "version": 3
   },
   "file_extension": ".py",
   "mimetype": "text/x-python",
   "name": "python",
   "nbconvert_exporter": "python",
   "pygments_lexer": "ipython3",
   "version": "3.9.12"
  }
 },
 "nbformat": 4,
 "nbformat_minor": 5
}
