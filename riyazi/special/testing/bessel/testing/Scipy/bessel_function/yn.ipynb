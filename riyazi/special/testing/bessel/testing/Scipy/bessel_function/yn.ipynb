{
 "cells": [
  {
   "cell_type": "code",
   "execution_count": 1,
   "id": "d8e78d21",
   "metadata": {},
   "outputs": [],
   "source": [
    "import scipy.special as sp"
   ]
  },
  {
   "cell_type": "code",
   "execution_count": 2,
   "id": "55a0f846",
   "metadata": {},
   "outputs": [
    {
     "data": {
      "text/plain": [
       "0.3676628826055238"
      ]
     },
     "execution_count": 2,
     "metadata": {},
     "output_type": "execute_result"
    }
   ],
   "source": [
    "sp.yn(2,5)"
   ]
  },
  {
   "cell_type": "code",
   "execution_count": 3,
   "id": "bbf75fa5",
   "metadata": {},
   "outputs": [],
   "source": [
    "import mpmath "
   ]
  },
  {
   "cell_type": "code",
   "execution_count": 4,
   "id": "354c62f3",
   "metadata": {},
   "outputs": [],
   "source": [
    "import mpmath \n",
    "def yn(v,z):\n",
    "    return mpmath.bessely(v,z)"
   ]
  },
  {
   "cell_type": "code",
   "execution_count": 5,
   "id": "946cbf07",
   "metadata": {},
   "outputs": [
    {
     "data": {
      "text/plain": [
       "mpf('0.36766288260552454')"
      ]
     },
     "execution_count": 5,
     "metadata": {},
     "output_type": "execute_result"
    }
   ],
   "source": [
    "\n",
    "yn(2,5)"
   ]
  },
  {
   "cell_type": "code",
   "execution_count": null,
   "id": "7a891f7e",
   "metadata": {},
   "outputs": [],
   "source": []
  }
 ],
 "metadata": {
  "kernelspec": {
   "display_name": "Python 3 (ipykernel)",
   "language": "python",
   "name": "python3"
  },
  "language_info": {
   "codemirror_mode": {
    "name": "ipython",
    "version": 3
   },
   "file_extension": ".py",
   "mimetype": "text/x-python",
   "name": "python",
   "nbconvert_exporter": "python",
   "pygments_lexer": "ipython3",
   "version": "3.9.12"
  }
 },
 "nbformat": 4,
 "nbformat_minor": 5
}
