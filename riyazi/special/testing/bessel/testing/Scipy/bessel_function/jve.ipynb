{
 "cells": [
  {
   "cell_type": "code",
   "execution_count": 1,
   "id": "a6f938cc",
   "metadata": {},
   "outputs": [],
   "source": [
    "import scipy.special as sp "
   ]
  },
  {
   "cell_type": "code",
   "execution_count": 2,
   "id": "6d039522",
   "metadata": {},
   "outputs": [
    {
     "data": {
      "text/plain": [
       "0.4860912605858912"
      ]
     },
     "execution_count": 2,
     "metadata": {},
     "output_type": "execute_result"
    }
   ],
   "source": [
    "sp.jve(2,3)"
   ]
  },
  {
   "cell_type": "code",
   "execution_count": 3,
   "id": "188d6f4b",
   "metadata": {},
   "outputs": [
    {
     "data": {
      "text/plain": [
       "0.0009386018612175644"
      ]
     },
     "execution_count": 3,
     "metadata": {},
     "output_type": "execute_result"
    }
   ],
   "source": [
    "sp.jve(9,4)"
   ]
  },
  {
   "cell_type": "code",
   "execution_count": 4,
   "id": "aa363a6a",
   "metadata": {},
   "outputs": [
    {
     "data": {
      "text/plain": [
       "0.4860912605858912"
      ]
     },
     "execution_count": 4,
     "metadata": {},
     "output_type": "execute_result"
    }
   ],
   "source": [
    "sp.jv(2,3)"
   ]
  },
  {
   "cell_type": "code",
   "execution_count": 5,
   "id": "6ae3bf46",
   "metadata": {},
   "outputs": [
    {
     "data": {
      "text/plain": [
       "0.0009386018612175644"
      ]
     },
     "execution_count": 5,
     "metadata": {},
     "output_type": "execute_result"
    }
   ],
   "source": [
    "sp.jv(9,4)"
   ]
  },
  {
   "cell_type": "code",
   "execution_count": 7,
   "id": "504c43ac",
   "metadata": {},
   "outputs": [],
   "source": [
    "from scipy.special import jv\n",
    "from cmath import exp \n",
    "def jve(v,z):\n",
    "    return jv(v, z) * exp(-abs(z.imag))"
   ]
  },
  {
   "cell_type": "code",
   "execution_count": 8,
   "id": "f66356de",
   "metadata": {},
   "outputs": [
    {
     "data": {
      "text/plain": [
       "(0.4860912605858912+0j)"
      ]
     },
     "execution_count": 8,
     "metadata": {},
     "output_type": "execute_result"
    }
   ],
   "source": [
    "jve(2,3)"
   ]
  },
  {
   "cell_type": "code",
   "execution_count": 9,
   "id": "f87e424d",
   "metadata": {},
   "outputs": [
    {
     "data": {
      "text/plain": [
       "(0.0009386018612175644+0j)"
      ]
     },
     "execution_count": 9,
     "metadata": {},
     "output_type": "execute_result"
    }
   ],
   "source": [
    "jve(9,4)"
   ]
  },
  {
   "cell_type": "code",
   "execution_count": null,
   "id": "1e5459b1",
   "metadata": {},
   "outputs": [],
   "source": []
  }
 ],
 "metadata": {
  "kernelspec": {
   "display_name": "Python 3 (ipykernel)",
   "language": "python",
   "name": "python3"
  },
  "language_info": {
   "codemirror_mode": {
    "name": "ipython",
    "version": 3
   },
   "file_extension": ".py",
   "mimetype": "text/x-python",
   "name": "python",
   "nbconvert_exporter": "python",
   "pygments_lexer": "ipython3",
   "version": "3.9.12"
  }
 },
 "nbformat": 4,
 "nbformat_minor": 5
}
