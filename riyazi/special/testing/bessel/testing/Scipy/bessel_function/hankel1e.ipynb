{
 "cells": [
  {
   "cell_type": "code",
   "execution_count": 1,
   "id": "9c8b3d73",
   "metadata": {},
   "outputs": [],
   "source": [
    "from cmath import exp \n",
    "from scipy.special import hankel1\n",
    "def hankel1e(v,z):\n",
    "    return hankel1(v, z) * exp(-1j * z)"
   ]
  },
  {
   "cell_type": "code",
   "execution_count": 2,
   "id": "441844d6",
   "metadata": {},
   "outputs": [
    {
     "data": {
      "text/plain": [
       "(-0.14342404822147165+0.44453243978845197j)"
      ]
     },
     "execution_count": 2,
     "metadata": {},
     "output_type": "execute_result"
    }
   ],
   "source": [
    "hankel1e(3,4)"
   ]
  },
  {
   "cell_type": "code",
   "execution_count": 6,
   "id": "40b34e26",
   "metadata": {},
   "outputs": [
    {
     "data": {
      "text/plain": [
       "(0.2789797621372722+0.02738022783342199j)"
      ]
     },
     "execution_count": 6,
     "metadata": {},
     "output_type": "execute_result"
    }
   ],
   "source": [
    "hankel1e(4,9)"
   ]
  },
  {
   "cell_type": "code",
   "execution_count": 4,
   "id": "1ff11eeb",
   "metadata": {},
   "outputs": [],
   "source": [
    "import scipy.special as sp"
   ]
  },
  {
   "cell_type": "code",
   "execution_count": 5,
   "id": "0d613c83",
   "metadata": {},
   "outputs": [
    {
     "data": {
      "text/plain": [
       "(-0.14342404822147165+0.4445324397884519j)"
      ]
     },
     "execution_count": 5,
     "metadata": {},
     "output_type": "execute_result"
    }
   ],
   "source": [
    "sp.hankel1e(3,4)"
   ]
  },
  {
   "cell_type": "code",
   "execution_count": 7,
   "id": "7e7d86e9",
   "metadata": {},
   "outputs": [
    {
     "data": {
      "text/plain": [
       "(0.2789797621372722+0.027380227833421943j)"
      ]
     },
     "execution_count": 7,
     "metadata": {},
     "output_type": "execute_result"
    }
   ],
   "source": [
    "sp.hankel1e(4,9)"
   ]
  },
  {
   "cell_type": "code",
   "execution_count": null,
   "id": "81116c87",
   "metadata": {},
   "outputs": [],
   "source": []
  }
 ],
 "metadata": {
  "kernelspec": {
   "display_name": "Python 3 (ipykernel)",
   "language": "python",
   "name": "python3"
  },
  "language_info": {
   "codemirror_mode": {
    "name": "ipython",
    "version": 3
   },
   "file_extension": ".py",
   "mimetype": "text/x-python",
   "name": "python",
   "nbconvert_exporter": "python",
   "pygments_lexer": "ipython3",
   "version": "3.9.12"
  }
 },
 "nbformat": 4,
 "nbformat_minor": 5
}
