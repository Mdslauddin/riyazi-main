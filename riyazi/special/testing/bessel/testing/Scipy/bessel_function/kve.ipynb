{
 "cells": [
  {
   "cell_type": "code",
   "execution_count": 1,
   "id": "496c1f57",
   "metadata": {},
   "outputs": [],
   "source": [
    "from cmath import exp \n",
    "from scipy.special import kv\n",
    "def kve(v,z):\n",
    "    return kv(v, z) * exp(z)"
   ]
  },
  {
   "cell_type": "code",
   "execution_count": 2,
   "id": "1fb785a5",
   "metadata": {},
   "outputs": [
    {
     "data": {
      "text/plain": [
       "(1.6316615870352014+0j)"
      ]
     },
     "execution_count": 2,
     "metadata": {},
     "output_type": "execute_result"
    }
   ],
   "source": [
    "kve(3,4)"
   ]
  },
  {
   "cell_type": "code",
   "execution_count": 3,
   "id": "5022e12b",
   "metadata": {},
   "outputs": [],
   "source": [
    "import scipy.special as sp"
   ]
  },
  {
   "cell_type": "code",
   "execution_count": 4,
   "id": "76914541",
   "metadata": {},
   "outputs": [
    {
     "data": {
      "text/plain": [
       "1.6316615870352016"
      ]
     },
     "execution_count": 4,
     "metadata": {},
     "output_type": "execute_result"
    }
   ],
   "source": [
    "sp.kve(3,4)"
   ]
  },
  {
   "cell_type": "code",
   "execution_count": null,
   "id": "1a0cd614",
   "metadata": {},
   "outputs": [],
   "source": []
  }
 ],
 "metadata": {
  "kernelspec": {
   "display_name": "Python 3 (ipykernel)",
   "language": "python",
   "name": "python3"
  },
  "language_info": {
   "codemirror_mode": {
    "name": "ipython",
    "version": 3
   },
   "file_extension": ".py",
   "mimetype": "text/x-python",
   "name": "python",
   "nbconvert_exporter": "python",
   "pygments_lexer": "ipython3",
   "version": "3.9.12"
  }
 },
 "nbformat": 4,
 "nbformat_minor": 5
}
