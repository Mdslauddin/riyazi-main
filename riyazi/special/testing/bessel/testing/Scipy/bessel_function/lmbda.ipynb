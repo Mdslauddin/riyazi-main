{
 "cells": [
  {
   "cell_type": "code",
   "execution_count": null,
   "id": "d618c532",
   "metadata": {},
   "outputs": [],
   "source": [
    "from scipy.special  import*"
   ]
  },
  {
   "cell_type": "code",
   "execution_count": null,
   "id": "c6c0142a",
   "metadata": {},
   "outputs": [],
   "source": [
    "lmbda(3,8)"
   ]
  },
  {
   "cell_type": "code",
   "execution_count": null,
   "id": "9cc5a3f6",
   "metadata": {},
   "outputs": [],
   "source": []
  },
  {
   "cell_type": "code",
   "execution_count": null,
   "id": "95022927",
   "metadata": {},
   "outputs": [],
   "source": []
  },
  {
   "cell_type": "code",
   "execution_count": null,
   "id": "e839f18e",
   "metadata": {
    "scrolled": true
   },
   "outputs": [],
   "source": []
  },
  {
   "cell_type": "code",
   "execution_count": 7,
   "id": "e64618cf",
   "metadata": {},
   "outputs": [],
   "source": [
    "import math\n",
    "from math import gamma\n",
    "def wright_bessel(a,b,x):\n",
    "    res = 0\n",
    "    for k in range(20):\n",
    "        res +=  (pow(x,k)/  (math.factorial(k)*gamma(a*k+b)))\n",
    "    return res"
   ]
  },
  {
   "cell_type": "code",
   "execution_count": 8,
   "id": "8dd81d9a",
   "metadata": {},
   "outputs": [
    {
     "data": {
      "text/plain": [
       "3.468649618760534"
      ]
     },
     "execution_count": 8,
     "metadata": {},
     "output_type": "execute_result"
    }
   ],
   "source": [
    "wright_bessel(1,2,3)"
   ]
  },
  {
   "cell_type": "code",
   "execution_count": 3,
   "id": "9305bfda",
   "metadata": {},
   "outputs": [
    {
     "data": {
      "text/plain": [
       "0.6780452853699559"
      ]
     },
     "execution_count": 3,
     "metadata": {},
     "output_type": "execute_result"
    }
   ],
   "source": [
    "wright_bessel(2,3,4)"
   ]
  },
  {
   "cell_type": "code",
   "execution_count": 4,
   "id": "1ae47961",
   "metadata": {},
   "outputs": [],
   "source": [
    "import scipy.special as sp"
   ]
  },
  {
   "cell_type": "code",
   "execution_count": 6,
   "id": "c65d623c",
   "metadata": {},
   "outputs": [
    {
     "data": {
      "text/plain": [
       "(3.468649618760533, 0.6780452853699559)"
      ]
     },
     "execution_count": 6,
     "metadata": {},
     "output_type": "execute_result"
    }
   ],
   "source": [
    "sp.wright_bessel(1,2,3),wright_bessel(2,3,4)"
   ]
  },
  {
   "cell_type": "code",
   "execution_count": null,
   "id": "ba048990",
   "metadata": {},
   "outputs": [],
   "source": []
  }
 ],
 "metadata": {
  "kernelspec": {
   "display_name": "Python 3 (ipykernel)",
   "language": "python",
   "name": "python3"
  },
  "language_info": {
   "codemirror_mode": {
    "name": "ipython",
    "version": 3
   },
   "file_extension": ".py",
   "mimetype": "text/x-python",
   "name": "python",
   "nbconvert_exporter": "python",
   "pygments_lexer": "ipython3",
   "version": "3.9.12"
  }
 },
 "nbformat": 4,
 "nbformat_minor": 5
}
