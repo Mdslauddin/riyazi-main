{
 "cells": [
  {
   "cell_type": "code",
   "execution_count": 1,
   "id": "11f505b2",
   "metadata": {},
   "outputs": [],
   "source": [
    "import scipy.special as sp"
   ]
  },
  {
   "cell_type": "code",
   "execution_count": 2,
   "id": "2e1f9e11",
   "metadata": {},
   "outputs": [
    {
     "data": {
      "text/plain": [
       "(0.3641281458520727+0.21590359460361494j)"
      ]
     },
     "execution_count": 2,
     "metadata": {},
     "output_type": "execute_result"
    }
   ],
   "source": [
    "sp.hankel1(2,4)"
   ]
  },
  {
   "cell_type": "code",
   "execution_count": 3,
   "id": "92cd7880",
   "metadata": {},
   "outputs": [
    {
     "data": {
      "text/plain": [
       "(0.04656511627775225+0.3676628826055246j)"
      ]
     },
     "execution_count": 3,
     "metadata": {},
     "output_type": "execute_result"
    }
   ],
   "source": [
    "sp.hankel1(2,5)"
   ]
  },
  {
   "cell_type": "code",
   "execution_count": 7,
   "id": "468640d0",
   "metadata": {},
   "outputs": [],
   "source": [
    "from mpmath import besselj, bessely\n",
    "def hankel1(n,x,**kwargs):\n",
    "    return besselj(n,x,**kwargs) + 1j*bessely(n,x,**kwargs)\n",
    "\n",
    "\n"
   ]
  },
  {
   "cell_type": "code",
   "execution_count": 8,
   "id": "004ed1b3",
   "metadata": {
    "scrolled": true
   },
   "outputs": [
    {
     "data": {
      "text/plain": [
       "mpc(real='0.36412814585207282', imag='0.215903594603615')"
      ]
     },
     "execution_count": 8,
     "metadata": {},
     "output_type": "execute_result"
    }
   ],
   "source": [
    "hankel1(2,4)"
   ]
  },
  {
   "cell_type": "code",
   "execution_count": 9,
   "id": "705d82d3",
   "metadata": {},
   "outputs": [
    {
     "data": {
      "text/plain": [
       "mpc(real='0.046565116277752214', imag='0.36766288260552454')"
      ]
     },
     "execution_count": 9,
     "metadata": {},
     "output_type": "execute_result"
    }
   ],
   "source": [
    "hankel1(2,5)"
   ]
  },
  {
   "cell_type": "code",
   "execution_count": null,
   "id": "69d7047c",
   "metadata": {},
   "outputs": [],
   "source": []
  }
 ],
 "metadata": {
  "kernelspec": {
   "display_name": "Python 3 (ipykernel)",
   "language": "python",
   "name": "python3"
  },
  "language_info": {
   "codemirror_mode": {
    "name": "ipython",
    "version": 3
   },
   "file_extension": ".py",
   "mimetype": "text/x-python",
   "name": "python",
   "nbconvert_exporter": "python",
   "pygments_lexer": "ipython3",
   "version": "3.9.12"
  }
 },
 "nbformat": 4,
 "nbformat_minor": 5
}
