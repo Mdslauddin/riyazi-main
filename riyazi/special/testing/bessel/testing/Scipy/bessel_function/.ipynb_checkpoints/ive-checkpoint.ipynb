{
 "cells": [
  {
   "cell_type": "code",
   "execution_count": 1,
   "id": "2dd63cf4",
   "metadata": {},
   "outputs": [],
   "source": [
    "from cmath import exp\n",
    "from scipy.special import iv\n",
    "def ive(v,z):\n",
    "    return iv(v, z) * exp(-abs(z.real))"
   ]
  },
  {
   "cell_type": "code",
   "execution_count": 2,
   "id": "150e96a1",
   "metadata": {},
   "outputs": [],
   "source": [
    "import scipy.special as sp "
   ]
  },
  {
   "cell_type": "code",
   "execution_count": 3,
   "id": "ec238e1e",
   "metadata": {},
   "outputs": [
    {
     "data": {
      "text/plain": [
       "0.061124338029666284"
      ]
     },
     "execution_count": 3,
     "metadata": {},
     "output_type": "execute_result"
    }
   ],
   "source": [
    "sp.ive(3,4)"
   ]
  },
  {
   "cell_type": "code",
   "execution_count": 5,
   "id": "837fa8b4",
   "metadata": {},
   "outputs": [
    {
     "data": {
      "text/plain": [
       "6.590463045012576e-06"
      ]
     },
     "execution_count": 5,
     "metadata": {},
     "output_type": "execute_result"
    }
   ],
   "source": [
    "sp.ive(9,3)"
   ]
  },
  {
   "cell_type": "code",
   "execution_count": 6,
   "id": "af4df28a",
   "metadata": {},
   "outputs": [
    {
     "data": {
      "text/plain": [
       "(0.061124338029666284+0j)"
      ]
     },
     "execution_count": 6,
     "metadata": {},
     "output_type": "execute_result"
    }
   ],
   "source": [
    "ive(3,4)"
   ]
  },
  {
   "cell_type": "code",
   "execution_count": 7,
   "id": "c5eca2e5",
   "metadata": {},
   "outputs": [
    {
     "data": {
      "text/plain": [
       "(6.59046304501258e-06+0j)"
      ]
     },
     "execution_count": 7,
     "metadata": {},
     "output_type": "execute_result"
    }
   ],
   "source": [
    "ive(9,3)"
   ]
  },
  {
   "cell_type": "code",
   "execution_count": null,
   "id": "6e5c9db4",
   "metadata": {},
   "outputs": [],
   "source": []
  }
 ],
 "metadata": {
  "kernelspec": {
   "display_name": "Python 3 (ipykernel)",
   "language": "python",
   "name": "python3"
  },
  "language_info": {
   "codemirror_mode": {
    "name": "ipython",
    "version": 3
   },
   "file_extension": ".py",
   "mimetype": "text/x-python",
   "name": "python",
   "nbconvert_exporter": "python",
   "pygments_lexer": "ipython3",
   "version": "3.9.12"
  }
 },
 "nbformat": 4,
 "nbformat_minor": 5
}
