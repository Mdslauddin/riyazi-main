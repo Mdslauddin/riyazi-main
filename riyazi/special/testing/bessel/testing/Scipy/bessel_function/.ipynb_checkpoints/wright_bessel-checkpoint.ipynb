{
 "cells": [
  {
   "cell_type": "code",
   "execution_count": null,
   "id": "26f4ce47",
   "metadata": {},
   "outputs": [],
   "source": [
    "import scipy.special as sp"
   ]
  },
  {
   "cell_type": "code",
   "execution_count": null,
   "id": "aa36ed76",
   "metadata": {},
   "outputs": [],
   "source": [
    "sp.wright_bessel(1,2,3)"
   ]
  },
  {
   "cell_type": "code",
   "execution_count": null,
   "id": "f8e064c1",
   "metadata": {},
   "outputs": [],
   "source": [
    "sp.wright_bessel(2,3,4)"
   ]
  },
  {
   "cell_type": "code",
   "execution_count": null,
   "id": "0e992cea",
   "metadata": {},
   "outputs": [],
   "source": [
    "import math \n",
    "from math import gamma\n",
    "def wright_bessel(a,b,x):\n",
    "    res =0\n",
    "    for k in range(100):\n",
    "        res += pow(x,k) / ( math.factorial(k)*gamma((a*k)+b))\n",
    "    return res"
   ]
  },
  {
   "cell_type": "code",
   "execution_count": null,
   "id": "759c0131",
   "metadata": {},
   "outputs": [],
   "source": [
    "wright_bessel(1,2,3)"
   ]
  },
  {
   "cell_type": "code",
   "execution_count": null,
   "id": "6acf1b37",
   "metadata": {},
   "outputs": [],
   "source": [
    "wright_bessel(2,3,4)"
   ]
  },
  {
   "cell_type": "code",
   "execution_count": null,
   "id": "6f9e3f38",
   "metadata": {},
   "outputs": [],
   "source": []
  }
 ],
 "metadata": {
  "kernelspec": {
   "display_name": "Python 3 (ipykernel)",
   "language": "python",
   "name": "python3"
  },
  "language_info": {
   "codemirror_mode": {
    "name": "ipython",
    "version": 3
   },
   "file_extension": ".py",
   "mimetype": "text/x-python",
   "name": "python",
   "nbconvert_exporter": "python",
   "pygments_lexer": "ipython3",
   "version": "3.9.12"
  }
 },
 "nbformat": 4,
 "nbformat_minor": 5
}
