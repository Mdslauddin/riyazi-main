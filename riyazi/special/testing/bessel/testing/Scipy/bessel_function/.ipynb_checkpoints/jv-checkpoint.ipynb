{
 "cells": [
  {
   "cell_type": "markdown",
   "id": "b362b5d2",
   "metadata": {},
   "source": [
    "# [Bessel function](https://en.wikipedia.org/wiki/Bessel_function)"
   ]
  },
  {
   "cell_type": "markdown",
   "id": "ea360519",
   "metadata": {},
   "source": [
    "https://en.wikipedia.org/wiki/Bessel_function"
   ]
  },
  {
   "cell_type": "code",
   "execution_count": 1,
   "id": "da2fea57",
   "metadata": {},
   "outputs": [],
   "source": [
    "import scipy.special as sp"
   ]
  },
  {
   "cell_type": "code",
   "execution_count": 2,
   "id": "40c1b3e9",
   "metadata": {},
   "outputs": [
    {
     "data": {
      "text/plain": [
       "0.4860912605858912"
      ]
     },
     "execution_count": 2,
     "metadata": {},
     "output_type": "execute_result"
    }
   ],
   "source": [
    "sp.jv(2,3)"
   ]
  },
  {
   "cell_type": "code",
   "execution_count": 3,
   "id": "4de2d08c",
   "metadata": {},
   "outputs": [
    {
     "data": {
      "text/plain": [
       "-0.0008120690551535653"
      ]
     },
     "execution_count": 3,
     "metadata": {},
     "output_type": "execute_result"
    }
   ],
   "source": [
    "sp.jv(15,20)"
   ]
  },
  {
   "cell_type": "code",
   "execution_count": 4,
   "id": "ac56ef8d",
   "metadata": {},
   "outputs": [
    {
     "data": {
      "text/plain": [
       "-0.06323676140603088"
      ]
     },
     "execution_count": 4,
     "metadata": {},
     "output_type": "execute_result"
    }
   ],
   "source": [
    "sp.jv(9,100)"
   ]
  },
  {
   "cell_type": "markdown",
   "id": "b9cfa681",
   "metadata": {},
   "source": [
    "https://solitaryroad.com/c678.html"
   ]
  },
  {
   "cell_type": "code",
   "execution_count": 15,
   "id": "8dea7ad7",
   "metadata": {},
   "outputs": [],
   "source": [
    "import math\n",
    "def jv(x,v):\n",
    "    res = 0\n",
    "    for k in range(80):\n",
    "        res += (pow(-1,k)* pow(x/2,(v+(2*k)))  ) / math.factorial(v+k+1)\n",
    "    return res"
   ]
  },
  {
   "cell_type": "code",
   "execution_count": 16,
   "id": "068c8135",
   "metadata": {},
   "outputs": [
    {
     "data": {
      "text/plain": [
       "0.034546107838109"
      ]
     },
     "execution_count": 16,
     "metadata": {},
     "output_type": "execute_result"
    }
   ],
   "source": [
    "jv(2,3)"
   ]
  },
  {
   "cell_type": "code",
   "execution_count": 18,
   "id": "3dafcba9",
   "metadata": {},
   "outputs": [
    {
     "data": {
      "text/plain": [
       "-0.000511746265580172"
      ]
     },
     "execution_count": 18,
     "metadata": {},
     "output_type": "execute_result"
    }
   ],
   "source": [
    "jv(15,20)"
   ]
  },
  {
   "cell_type": "code",
   "execution_count": 1,
   "id": "416e43bf",
   "metadata": {},
   "outputs": [],
   "source": [
    "import mpmath \n",
    "\n",
    "def jv(v,z):\n",
    "    return mpmath.besselj(v,z)"
   ]
  },
  {
   "cell_type": "code",
   "execution_count": 2,
   "id": "3141e315",
   "metadata": {},
   "outputs": [
    {
     "data": {
      "text/plain": [
       "mpf('0.48609126058589108')"
      ]
     },
     "execution_count": 2,
     "metadata": {},
     "output_type": "execute_result"
    }
   ],
   "source": [
    "jv(2,3)"
   ]
  },
  {
   "cell_type": "code",
   "execution_count": null,
   "id": "0ddf2ddd",
   "metadata": {},
   "outputs": [],
   "source": []
  }
 ],
 "metadata": {
  "kernelspec": {
   "display_name": "Python 3 (ipykernel)",
   "language": "python",
   "name": "python3"
  },
  "language_info": {
   "codemirror_mode": {
    "name": "ipython",
    "version": 3
   },
   "file_extension": ".py",
   "mimetype": "text/x-python",
   "name": "python",
   "nbconvert_exporter": "python",
   "pygments_lexer": "ipython3",
   "version": "3.9.12"
  }
 },
 "nbformat": 4,
 "nbformat_minor": 5
}
