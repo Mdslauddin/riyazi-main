{
 "cells": [
  {
   "cell_type": "code",
   "execution_count": 1,
   "id": "371e1c3b",
   "metadata": {},
   "outputs": [],
   "source": [
    "import scipy.special as sp "
   ]
  },
  {
   "cell_type": "code",
   "execution_count": 2,
   "id": "31107f3b",
   "metadata": {},
   "outputs": [
    {
     "data": {
      "text/plain": [
       "0.026542159321058436"
      ]
     },
     "execution_count": 2,
     "metadata": {},
     "output_type": "execute_result"
    }
   ],
   "source": [
    "sp.yv(3,8)"
   ]
  },
  {
   "cell_type": "code",
   "execution_count": 7,
   "id": "e0f9eed3",
   "metadata": {},
   "outputs": [],
   "source": [
    "from math import cos,sin\n",
    "#import math"
   ]
  },
  {
   "cell_type": "code",
   "execution_count": 12,
   "id": "d1384063",
   "metadata": {},
   "outputs": [],
   "source": [
    "def yv(v,z):\n",
    "    return sp.jv(v,z)*cos(v*z) -sp.jv(-v,z) / sin(v*z)"
   ]
  },
  {
   "cell_type": "code",
   "execution_count": 13,
   "id": "64935a47",
   "metadata": {},
   "outputs": [
    {
     "data": {
      "text/plain": [
       "0.1979954215102021"
      ]
     },
     "execution_count": 13,
     "metadata": {},
     "output_type": "execute_result"
    }
   ],
   "source": [
    "yv(3,8)"
   ]
  },
  {
   "cell_type": "code",
   "execution_count": 14,
   "id": "81e0eda9",
   "metadata": {},
   "outputs": [
    {
     "data": {
      "text/plain": [
       "-0.08994431092152835"
      ]
     },
     "execution_count": 14,
     "metadata": {},
     "output_type": "execute_result"
    }
   ],
   "source": [
    "sp.yv(4,23)"
   ]
  },
  {
   "cell_type": "code",
   "execution_count": 15,
   "id": "1c336c24",
   "metadata": {},
   "outputs": [
    {
     "data": {
      "text/plain": [
       "-0.09286269252007755"
      ]
     },
     "execution_count": 15,
     "metadata": {},
     "output_type": "execute_result"
    }
   ],
   "source": [
    "yv(4,23)"
   ]
  },
  {
   "cell_type": "code",
   "execution_count": null,
   "id": "e15451ba",
   "metadata": {},
   "outputs": [],
   "source": [
    "cos()"
   ]
  },
  {
   "cell_type": "code",
   "execution_count": null,
   "id": "07ff9bc3",
   "metadata": {},
   "outputs": [],
   "source": []
  },
  {
   "cell_type": "code",
   "execution_count": 16,
   "id": "3e73543e",
   "metadata": {},
   "outputs": [],
   "source": [
    "import mpmath"
   ]
  },
  {
   "cell_type": "code",
   "execution_count": 17,
   "id": "89235193",
   "metadata": {},
   "outputs": [],
   "source": [
    "def yv(v,z):\n",
    "    return mpmath.bessely(v,z)"
   ]
  },
  {
   "cell_type": "code",
   "execution_count": 18,
   "id": "cc2de6c3",
   "metadata": {},
   "outputs": [
    {
     "data": {
      "text/plain": [
       "mpf('0.026542159321058446')"
      ]
     },
     "execution_count": 18,
     "metadata": {},
     "output_type": "execute_result"
    }
   ],
   "source": [
    "yv(3,8)"
   ]
  },
  {
   "cell_type": "code",
   "execution_count": null,
   "id": "9efce786",
   "metadata": {},
   "outputs": [],
   "source": []
  },
  {
   "cell_type": "code",
   "execution_count": null,
   "id": "2c5a5ce4",
   "metadata": {},
   "outputs": [],
   "source": []
  },
  {
   "cell_type": "code",
   "execution_count": null,
   "id": "31c6c8d2",
   "metadata": {},
   "outputs": [],
   "source": []
  },
  {
   "cell_type": "code",
   "execution_count": null,
   "id": "ab97122f",
   "metadata": {},
   "outputs": [],
   "source": []
  },
  {
   "cell_type": "code",
   "execution_count": null,
   "id": "4fdf9a96",
   "metadata": {},
   "outputs": [],
   "source": []
  },
  {
   "cell_type": "code",
   "execution_count": null,
   "id": "661532c6",
   "metadata": {},
   "outputs": [],
   "source": []
  }
 ],
 "metadata": {
  "kernelspec": {
   "display_name": "Python 3 (ipykernel)",
   "language": "python",
   "name": "python3"
  },
  "language_info": {
   "codemirror_mode": {
    "name": "ipython",
    "version": 3
   },
   "file_extension": ".py",
   "mimetype": "text/x-python",
   "name": "python",
   "nbconvert_exporter": "python",
   "pygments_lexer": "ipython3",
   "version": "3.9.12"
  }
 },
 "nbformat": 4,
 "nbformat_minor": 5
}
