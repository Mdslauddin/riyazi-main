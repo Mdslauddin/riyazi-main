{
 "cells": [
  {
   "cell_type": "code",
   "execution_count": null,
   "id": "cbb946c9",
   "metadata": {},
   "outputs": [],
   "source": [
    "import scipy.special as sp"
   ]
  },
  {
   "cell_type": "code",
   "execution_count": null,
   "id": "fc899940",
   "metadata": {
    "scrolled": true
   },
   "outputs": [],
   "source": [
    "sp.kn(2,8)"
   ]
  },
  {
   "cell_type": "code",
   "execution_count": null,
   "id": "ce781175",
   "metadata": {},
   "outputs": [],
   "source": [
    "import mpmath "
   ]
  },
  {
   "cell_type": "code",
   "execution_count": null,
   "id": "6019c763",
   "metadata": {},
   "outputs": [],
   "source": [
    "def kn(v,x):\n",
    "    return mpmath.besselk(v,x)"
   ]
  }
 ],
 "metadata": {
  "kernelspec": {
   "display_name": "Python 3 (ipykernel)",
   "language": "python",
   "name": "python3"
  },
  "language_info": {
   "codemirror_mode": {
    "name": "ipython",
    "version": 3
   },
   "file_extension": ".py",
   "mimetype": "text/x-python",
   "name": "python",
   "nbconvert_exporter": "python",
   "pygments_lexer": "ipython3",
   "version": "3.9.12"
  }
 },
 "nbformat": 4,
 "nbformat_minor": 5
}
