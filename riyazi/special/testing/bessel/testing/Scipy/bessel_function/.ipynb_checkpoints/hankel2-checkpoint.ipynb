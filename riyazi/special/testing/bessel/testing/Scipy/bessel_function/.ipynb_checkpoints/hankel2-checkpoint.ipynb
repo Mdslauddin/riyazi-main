{
 "cells": [
  {
   "cell_type": "code",
   "execution_count": 1,
   "id": "d2e25c22",
   "metadata": {},
   "outputs": [],
   "source": [
    "import scipy.special as sp"
   ]
  },
  {
   "cell_type": "code",
   "execution_count": 2,
   "id": "335a01a0",
   "metadata": {},
   "outputs": [
    {
     "data": {
      "text/plain": [
       "(0.3641281458520727-0.21590359460361494j)"
      ]
     },
     "execution_count": 2,
     "metadata": {},
     "output_type": "execute_result"
    }
   ],
   "source": [
    "sp.hankel2(2,4)"
   ]
  },
  {
   "cell_type": "code",
   "execution_count": 3,
   "id": "13be6c37",
   "metadata": {},
   "outputs": [
    {
     "data": {
      "text/plain": [
       "(0.3912323604586483+0.19214228737369327j)"
      ]
     },
     "execution_count": 3,
     "metadata": {},
     "output_type": "execute_result"
    }
   ],
   "source": [
    "sp.hankel2(4,5)"
   ]
  },
  {
   "cell_type": "code",
   "execution_count": 4,
   "id": "498ccbc8",
   "metadata": {},
   "outputs": [],
   "source": [
    "from mpmath import besselj, bessely\n",
    "def hankel2(n,x,**kwargs):\n",
    "    return besselj(n,x,**kwargs) - 1j*bessely(n,x,**kwargs)"
   ]
  },
  {
   "cell_type": "code",
   "execution_count": 5,
   "id": "79afafed",
   "metadata": {},
   "outputs": [
    {
     "data": {
      "text/plain": [
       "mpc(real='0.36412814585207282', imag='-0.215903594603615')"
      ]
     },
     "execution_count": 5,
     "metadata": {},
     "output_type": "execute_result"
    }
   ],
   "source": [
    "hankel2(2,4)"
   ]
  },
  {
   "cell_type": "code",
   "execution_count": 6,
   "id": "396905e8",
   "metadata": {},
   "outputs": [
    {
     "data": {
      "text/plain": [
       "mpc(real='0.39123236045864818', imag='0.19214228737369318')"
      ]
     },
     "execution_count": 6,
     "metadata": {},
     "output_type": "execute_result"
    }
   ],
   "source": [
    "hankel2(4,5)"
   ]
  },
  {
   "cell_type": "code",
   "execution_count": null,
   "id": "966970d0",
   "metadata": {},
   "outputs": [],
   "source": []
  }
 ],
 "metadata": {
  "kernelspec": {
   "display_name": "Python 3 (ipykernel)",
   "language": "python",
   "name": "python3"
  },
  "language_info": {
   "codemirror_mode": {
    "name": "ipython",
    "version": 3
   },
   "file_extension": ".py",
   "mimetype": "text/x-python",
   "name": "python",
   "nbconvert_exporter": "python",
   "pygments_lexer": "ipython3",
   "version": "3.9.12"
  }
 },
 "nbformat": 4,
 "nbformat_minor": 5
}
