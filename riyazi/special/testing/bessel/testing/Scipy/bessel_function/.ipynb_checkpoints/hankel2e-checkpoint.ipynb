{
 "cells": [
  {
   "cell_type": "code",
   "execution_count": 1,
   "id": "3b0b32d1",
   "metadata": {},
   "outputs": [],
   "source": [
    "from cmath import exp \n",
    "from scipy.special import hankel2\n",
    "def hankel2e(v,z):\n",
    "    return  hankel2(v, z) * exp(1j * z)"
   ]
  },
  {
   "cell_type": "code",
   "execution_count": 4,
   "id": "a2b1bea5",
   "metadata": {},
   "outputs": [
    {
     "data": {
      "text/plain": [
       "(-0.14342404822147165-0.44453243978845197j)"
      ]
     },
     "execution_count": 4,
     "metadata": {},
     "output_type": "execute_result"
    }
   ],
   "source": [
    "hankel2e(3,4)"
   ]
  },
  {
   "cell_type": "code",
   "execution_count": 3,
   "id": "c3ba78c5",
   "metadata": {},
   "outputs": [
    {
     "data": {
      "text/plain": [
       "(0.295227729943572-0.3206587063212318j)"
      ]
     },
     "execution_count": 3,
     "metadata": {},
     "output_type": "execute_result"
    }
   ],
   "source": [
    "hankel2e(4,5)"
   ]
  },
  {
   "cell_type": "code",
   "execution_count": 5,
   "id": "b55449df",
   "metadata": {},
   "outputs": [],
   "source": [
    "import scipy.special as sp "
   ]
  },
  {
   "cell_type": "code",
   "execution_count": 6,
   "id": "a32b432f",
   "metadata": {},
   "outputs": [
    {
     "data": {
      "text/plain": [
       "(-0.14342404822147165-0.4445324397884519j)"
      ]
     },
     "execution_count": 6,
     "metadata": {},
     "output_type": "execute_result"
    }
   ],
   "source": [
    "sp.hankel2e(3,4)"
   ]
  },
  {
   "cell_type": "code",
   "execution_count": 7,
   "id": "988a96f6",
   "metadata": {},
   "outputs": [
    {
     "data": {
      "text/plain": [
       "(0.29522772994357194-0.3206587063212318j)"
      ]
     },
     "execution_count": 7,
     "metadata": {},
     "output_type": "execute_result"
    }
   ],
   "source": [
    "sp.hankel2e(4,5)"
   ]
  },
  {
   "cell_type": "code",
   "execution_count": null,
   "id": "633cb6d1",
   "metadata": {},
   "outputs": [],
   "source": []
  }
 ],
 "metadata": {
  "kernelspec": {
   "display_name": "Python 3 (ipykernel)",
   "language": "python",
   "name": "python3"
  },
  "language_info": {
   "codemirror_mode": {
    "name": "ipython",
    "version": 3
   },
   "file_extension": ".py",
   "mimetype": "text/x-python",
   "name": "python",
   "nbconvert_exporter": "python",
   "pygments_lexer": "ipython3",
   "version": "3.9.12"
  }
 },
 "nbformat": 4,
 "nbformat_minor": 5
}
