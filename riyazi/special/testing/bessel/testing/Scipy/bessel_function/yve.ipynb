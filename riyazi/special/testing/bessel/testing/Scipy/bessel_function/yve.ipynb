{
 "cells": [
  {
   "cell_type": "code",
   "execution_count": 1,
   "id": "8d157fc4",
   "metadata": {},
   "outputs": [],
   "source": [
    "import scipy.special as sp"
   ]
  },
  {
   "cell_type": "code",
   "execution_count": 2,
   "id": "7d6d9fe5",
   "metadata": {},
   "outputs": [
    {
     "data": {
      "text/plain": [
       "-0.20509487811877955"
      ]
     },
     "execution_count": 2,
     "metadata": {},
     "output_type": "execute_result"
    }
   ],
   "source": [
    "sp.yve(3,9)"
   ]
  },
  {
   "cell_type": "code",
   "execution_count": 4,
   "id": "884d658b",
   "metadata": {},
   "outputs": [],
   "source": [
    "from cmath import exp\n",
    "from scipy.special import yv\n",
    "def yve(v,z):\n",
    "    return yv(v, z) * exp(-abs(z.imag))"
   ]
  },
  {
   "cell_type": "code",
   "execution_count": 5,
   "id": "a2ffbca3",
   "metadata": {},
   "outputs": [
    {
     "data": {
      "text/plain": [
       "(-0.20509487811877958+0j)"
      ]
     },
     "execution_count": 5,
     "metadata": {},
     "output_type": "execute_result"
    }
   ],
   "source": [
    "yve(3,9)"
   ]
  },
  {
   "cell_type": "code",
   "execution_count": null,
   "id": "6153715f",
   "metadata": {},
   "outputs": [],
   "source": []
  }
 ],
 "metadata": {
  "kernelspec": {
   "display_name": "Python 3 (ipykernel)",
   "language": "python",
   "name": "python3"
  },
  "language_info": {
   "codemirror_mode": {
    "name": "ipython",
    "version": 3
   },
   "file_extension": ".py",
   "mimetype": "text/x-python",
   "name": "python",
   "nbconvert_exporter": "python",
   "pygments_lexer": "ipython3",
   "version": "3.9.12"
  }
 },
 "nbformat": 4,
 "nbformat_minor": 5
}
