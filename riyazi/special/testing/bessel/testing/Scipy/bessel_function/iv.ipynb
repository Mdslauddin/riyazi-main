{
 "cells": [
  {
   "cell_type": "markdown",
   "id": "e1a4c2d6",
   "metadata": {},
   "source": [
    "https://www.sciencedirect.com/topics/computer-science/modified-bessel-function"
   ]
  },
  {
   "cell_type": "code",
   "execution_count": 1,
   "id": "29d16f1b",
   "metadata": {},
   "outputs": [],
   "source": [
    "import scipy.special as sp "
   ]
  },
  {
   "cell_type": "code",
   "execution_count": 2,
   "id": "e9f47e06",
   "metadata": {},
   "outputs": [
    {
     "data": {
      "text/plain": [
       "261.47931835665145"
      ]
     },
     "execution_count": 2,
     "metadata": {},
     "output_type": "execute_result"
    }
   ],
   "source": [
    "sp.iv(5,9)"
   ]
  },
  {
   "cell_type": "code",
   "execution_count": 18,
   "id": "787a9b40",
   "metadata": {},
   "outputs": [],
   "source": [
    "from math import gamma\n",
    "import math \n",
    "def iv(v,z):\n",
    "    res = 0.0\n",
    "    for k in range(100):\n",
    "        res += pow(0.5*z,v)* ((0.25* pow(z,2))**k) / (math.factorial(k)*gamma(v+k+1))\n",
    "    return res "
   ]
  },
  {
   "cell_type": "code",
   "execution_count": 19,
   "id": "2c17c0e7",
   "metadata": {
    "scrolled": true
   },
   "outputs": [
    {
     "data": {
      "text/plain": [
       "261.47931835665145"
      ]
     },
     "execution_count": 19,
     "metadata": {},
     "output_type": "execute_result"
    }
   ],
   "source": [
    "iv(5,9)"
   ]
  },
  {
   "cell_type": "code",
   "execution_count": 20,
   "id": "54646878",
   "metadata": {},
   "outputs": [
    {
     "data": {
      "text/plain": [
       "659.7664794146789"
      ]
     },
     "execution_count": 20,
     "metadata": {},
     "output_type": "execute_result"
    }
   ],
   "source": [
    "iv(9,12)"
   ]
  },
  {
   "cell_type": "code",
   "execution_count": 21,
   "id": "a26e7fa7",
   "metadata": {},
   "outputs": [
    {
     "data": {
      "text/plain": [
       "659.7664794146787"
      ]
     },
     "execution_count": 21,
     "metadata": {},
     "output_type": "execute_result"
    }
   ],
   "source": [
    "sp.iv(9,12)"
   ]
  },
  {
   "cell_type": "code",
   "execution_count": 22,
   "id": "69bf5bf5",
   "metadata": {},
   "outputs": [],
   "source": [
    "import mpmath as mp"
   ]
  },
  {
   "cell_type": "code",
   "execution_count": 25,
   "id": "20d471ca",
   "metadata": {},
   "outputs": [
    {
     "data": {
      "text/plain": [
       "(mpf('659.766479414679'),\n",
       " mpf('261.47931835665162'),\n",
       " mpf('3.6684385797486763e+36'))"
      ]
     },
     "execution_count": 25,
     "metadata": {},
     "output_type": "execute_result"
    }
   ],
   "source": [
    "mp.besseli(9,12),mp.besseli(5,9),mp.besseli(90,120)"
   ]
  },
  {
   "cell_type": "code",
   "execution_count": null,
   "id": "405307d7",
   "metadata": {},
   "outputs": [],
   "source": [
    "def iv(v,z):\n",
    "    return besseli(v,z)"
   ]
  },
  {
   "cell_type": "code",
   "execution_count": null,
   "id": "2d758c85",
   "metadata": {},
   "outputs": [],
   "source": [
    "mp.bes"
   ]
  },
  {
   "cell_type": "markdown",
   "id": "244baecd",
   "metadata": {},
   "source": [
    "https://dlmf.nist.gov/10.25"
   ]
  },
  {
   "cell_type": "code",
   "execution_count": 5,
   "id": "9e7e1a52",
   "metadata": {},
   "outputs": [
    {
     "data": {
      "text/plain": [
       "3.6684385797486864e+36"
      ]
     },
     "execution_count": 5,
     "metadata": {},
     "output_type": "execute_result"
    }
   ],
   "source": [
    "sp.iv(90,120)"
   ]
  },
  {
   "cell_type": "code",
   "execution_count": 6,
   "id": "634c574a",
   "metadata": {},
   "outputs": [
    {
     "ename": "OverflowError",
     "evalue": "math range error",
     "output_type": "error",
     "traceback": [
      "\u001b[1;31m---------------------------------------------------------------------------\u001b[0m",
      "\u001b[1;31mOverflowError\u001b[0m                             Traceback (most recent call last)",
      "Input \u001b[1;32mIn [6]\u001b[0m, in \u001b[0;36m<cell line: 1>\u001b[1;34m()\u001b[0m\n\u001b[1;32m----> 1\u001b[0m \u001b[43miv\u001b[49m\u001b[43m(\u001b[49m\u001b[38;5;241;43m90\u001b[39;49m\u001b[43m,\u001b[49m\u001b[38;5;241;43m120\u001b[39;49m\u001b[43m)\u001b[49m\n",
      "Input \u001b[1;32mIn [3]\u001b[0m, in \u001b[0;36miv\u001b[1;34m(v, z)\u001b[0m\n\u001b[0;32m      4\u001b[0m res \u001b[38;5;241m=\u001b[39m \u001b[38;5;241m0\u001b[39m\n\u001b[0;32m      5\u001b[0m \u001b[38;5;28;01mfor\u001b[39;00m k \u001b[38;5;129;01min\u001b[39;00m \u001b[38;5;28mrange\u001b[39m(\u001b[38;5;241m100\u001b[39m):\n\u001b[1;32m----> 6\u001b[0m     res \u001b[38;5;241m+\u001b[39m\u001b[38;5;241m=\u001b[39m \u001b[38;5;28mpow\u001b[39m(\u001b[38;5;241m0.5\u001b[39m\u001b[38;5;241m*\u001b[39mz,v)\u001b[38;5;241m*\u001b[39m ((\u001b[38;5;241m0.25\u001b[39m\u001b[38;5;241m*\u001b[39m \u001b[38;5;28mpow\u001b[39m(z,\u001b[38;5;241m2\u001b[39m))\u001b[38;5;241m*\u001b[39m\u001b[38;5;241m*\u001b[39mk) \u001b[38;5;241m/\u001b[39m (math\u001b[38;5;241m.\u001b[39mfactorial(k)\u001b[38;5;241m*\u001b[39m\u001b[43mgamma\u001b[49m\u001b[43m(\u001b[49m\u001b[43mv\u001b[49m\u001b[38;5;241;43m+\u001b[39;49m\u001b[43mk\u001b[49m\u001b[38;5;241;43m+\u001b[39;49m\u001b[38;5;241;43m1\u001b[39;49m\u001b[43m)\u001b[49m)\n\u001b[0;32m      7\u001b[0m \u001b[38;5;28;01mreturn\u001b[39;00m res\n",
      "\u001b[1;31mOverflowError\u001b[0m: math range error"
     ]
    }
   ],
   "source": [
    "iv(90,120)"
   ]
  },
  {
   "cell_type": "code",
   "execution_count": 12,
   "id": "331cbb5f",
   "metadata": {},
   "outputs": [
    {
     "data": {
      "text/plain": [
       "(120, 120.0)"
      ]
     },
     "execution_count": 12,
     "metadata": {},
     "output_type": "execute_result"
    }
   ],
   "source": [
    "math.factorial(5),math.gamma(5+1)"
   ]
  },
  {
   "cell_type": "code",
   "execution_count": null,
   "id": "f03f8f0d",
   "metadata": {},
   "outputs": [],
   "source": []
  }
 ],
 "metadata": {
  "kernelspec": {
   "display_name": "Python 3 (ipykernel)",
   "language": "python",
   "name": "python3"
  },
  "language_info": {
   "codemirror_mode": {
    "name": "ipython",
    "version": 3
   },
   "file_extension": ".py",
   "mimetype": "text/x-python",
   "name": "python",
   "nbconvert_exporter": "python",
   "pygments_lexer": "ipython3",
   "version": "3.9.12"
  }
 },
 "nbformat": 4,
 "nbformat_minor": 5
}
