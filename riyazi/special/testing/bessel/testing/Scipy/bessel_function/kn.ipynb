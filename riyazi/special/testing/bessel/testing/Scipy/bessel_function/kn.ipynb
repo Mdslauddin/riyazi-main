{
 "cells": [
  {
   "cell_type": "code",
   "execution_count": 1,
   "id": "cbb946c9",
   "metadata": {},
   "outputs": [],
   "source": [
    "import scipy.special as sp"
   ]
  },
  {
   "cell_type": "code",
   "execution_count": 2,
   "id": "fc899940",
   "metadata": {
    "scrolled": true
   },
   "outputs": [
    {
     "data": {
      "text/plain": [
       "0.0001853130081740657"
      ]
     },
     "execution_count": 2,
     "metadata": {},
     "output_type": "execute_result"
    }
   ],
   "source": [
    "sp.kn(2,8)"
   ]
  },
  {
   "cell_type": "code",
   "execution_count": 3,
   "id": "ce781175",
   "metadata": {},
   "outputs": [],
   "source": [
    "import mpmath "
   ]
  },
  {
   "cell_type": "code",
   "execution_count": 4,
   "id": "6019c763",
   "metadata": {},
   "outputs": [],
   "source": [
    "def kn(v,x):\n",
    "    return mpmath.besselk(v,x)"
   ]
  },
  {
   "cell_type": "code",
   "execution_count": 5,
   "id": "2901d92d",
   "metadata": {},
   "outputs": [
    {
     "data": {
      "text/plain": [
       "mpf('0.00018531300817406566')"
      ]
     },
     "execution_count": 5,
     "metadata": {},
     "output_type": "execute_result"
    }
   ],
   "source": [
    "kn(2,8)"
   ]
  },
  {
   "cell_type": "code",
   "execution_count": null,
   "id": "2eaf9491",
   "metadata": {},
   "outputs": [],
   "source": []
  }
 ],
 "metadata": {
  "kernelspec": {
   "display_name": "Python 3 (ipykernel)",
   "language": "python",
   "name": "python3"
  },
  "language_info": {
   "codemirror_mode": {
    "name": "ipython",
    "version": 3
   },
   "file_extension": ".py",
   "mimetype": "text/x-python",
   "name": "python",
   "nbconvert_exporter": "python",
   "pygments_lexer": "ipython3",
   "version": "3.9.12"
  }
 },
 "nbformat": 4,
 "nbformat_minor": 5
}
