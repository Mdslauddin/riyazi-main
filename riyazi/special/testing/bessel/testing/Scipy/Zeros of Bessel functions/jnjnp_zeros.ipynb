{
 "cells": [
  {
   "cell_type": "markdown",
   "id": "6bef4ac4",
   "metadata": {},
   "source": [
    "https://doc.sagemath.org/html/en/reference/functions/sage/functions/bessel.html#sage.functions.bessel.Function_Bessel_Y"
   ]
  },
  {
   "cell_type": "code",
   "execution_count": 1,
   "id": "36208b7b",
   "metadata": {},
   "outputs": [],
   "source": [
    "import scipy.special as sp"
   ]
  },
  {
   "cell_type": "code",
   "execution_count": 4,
   "id": "bf39b2fd",
   "metadata": {},
   "outputs": [
    {
     "data": {
      "text/plain": [
       "(array([0.        , 1.84118378, 2.40482556]),\n",
       " array([0, 1, 0], dtype=int32),\n",
       " array([0, 1, 1], dtype=int32),\n",
       " array([1, 1, 0], dtype=int32))"
      ]
     },
     "execution_count": 4,
     "metadata": {},
     "output_type": "execute_result"
    }
   ],
   "source": [
    "sp.jnjnp_zeros(3)"
   ]
  },
  {
   "cell_type": "code",
   "execution_count": 5,
   "id": "e84826dd",
   "metadata": {},
   "outputs": [],
   "source": [
    "import mpmath"
   ]
  },
  {
   "cell_type": "code",
   "execution_count": 7,
   "id": "4cc893b0",
   "metadata": {},
   "outputs": [
    {
     "data": {
      "text/plain": [
       "mpf('6.3801618959239832')"
      ]
     },
     "execution_count": 7,
     "metadata": {},
     "output_type": "execute_result"
    }
   ],
   "source": []
  },
  {
   "cell_type": "code",
   "execution_count": null,
   "id": "84e60b1e",
   "metadata": {},
   "outputs": [],
   "source": []
  }
 ],
 "metadata": {
  "kernelspec": {
   "display_name": "Python 3 (ipykernel)",
   "language": "python",
   "name": "python3"
  },
  "language_info": {
   "codemirror_mode": {
    "name": "ipython",
    "version": 3
   },
   "file_extension": ".py",
   "mimetype": "text/x-python",
   "name": "python",
   "nbconvert_exporter": "python",
   "pygments_lexer": "ipython3",
   "version": "3.9.12"
  }
 },
 "nbformat": 4,
 "nbformat_minor": 5
}
