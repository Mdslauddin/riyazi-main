{
 "cells": [
  {
   "cell_type": "code",
   "execution_count": 1,
   "id": "c05f5e20",
   "metadata": {},
   "outputs": [],
   "source": [
    "import scipy.special as sp"
   ]
  },
  {
   "cell_type": "code",
   "execution_count": 2,
   "id": "95232e72",
   "metadata": {},
   "outputs": [
    {
     "data": {
      "text/plain": [
       "(array([0.        , 1.84118378]),\n",
       " array([0, 1], dtype=int32),\n",
       " array([0, 1], dtype=int32),\n",
       " array([1, 1], dtype=int32))"
      ]
     },
     "execution_count": 2,
     "metadata": {},
     "output_type": "execute_result"
    }
   ],
   "source": [
    "sp.jnjnp_zeros(2)"
   ]
  },
  {
   "cell_type": "code",
   "execution_count": 4,
   "id": "874de0be",
   "metadata": {},
   "outputs": [
    {
     "data": {
      "text/plain": [
       "(array([ 5.1356223 ,  8.41724414, 11.61984117]),\n",
       " array([3.05423693, 6.70613319, 9.96946782]),\n",
       " array([ 3.38424177,  6.79380751, 10.02347798]),\n",
       " array([ 5.00258293,  8.3507247 , 11.57419547]))"
      ]
     },
     "execution_count": 4,
     "metadata": {},
     "output_type": "execute_result"
    }
   ],
   "source": [
    "sp.jnyn_zeros(2,3)"
   ]
  },
  {
   "cell_type": "code",
   "execution_count": 6,
   "id": "966bf2a9",
   "metadata": {},
   "outputs": [
    {
     "data": {
      "text/plain": [
       "array([ 5.1356223 ,  8.41724414, 11.61984117])"
      ]
     },
     "execution_count": 6,
     "metadata": {},
     "output_type": "execute_result"
    }
   ],
   "source": [
    "sp.jn_zeros(2,3)"
   ]
  },
  {
   "cell_type": "code",
   "execution_count": 7,
   "id": "3220be8e",
   "metadata": {},
   "outputs": [
    {
     "data": {
      "text/plain": [
       "array([3.05423693, 6.70613319, 9.96946782])"
      ]
     },
     "execution_count": 7,
     "metadata": {},
     "output_type": "execute_result"
    }
   ],
   "source": [
    "sp.jnp_zeros(2,3)"
   ]
  },
  {
   "cell_type": "code",
   "execution_count": 8,
   "id": "39ebcc81",
   "metadata": {},
   "outputs": [
    {
     "data": {
      "text/plain": [
       "array([ 3.38424177,  6.79380751, 10.02347798])"
      ]
     },
     "execution_count": 8,
     "metadata": {},
     "output_type": "execute_result"
    }
   ],
   "source": [
    "sp.yn_zeros(2,3)"
   ]
  },
  {
   "cell_type": "code",
   "execution_count": 9,
   "id": "5897bcea",
   "metadata": {},
   "outputs": [
    {
     "data": {
      "text/plain": [
       "array([ 5.00258293,  8.3507247 , 11.57419547])"
      ]
     },
     "execution_count": 9,
     "metadata": {},
     "output_type": "execute_result"
    }
   ],
   "source": [
    "sp.ynp_zeros(2,3)"
   ]
  },
  {
   "cell_type": "code",
   "execution_count": 10,
   "id": "76d63ed9",
   "metadata": {},
   "outputs": [
    {
     "data": {
      "text/plain": [
       "(array([-2.40301663+0.53988231j, -5.5198767 +0.54718001j]),\n",
       " array([ 0.10074769-0.88196771j, -0.02924642+0.5871695j ]))"
      ]
     },
     "execution_count": 10,
     "metadata": {},
     "output_type": "execute_result"
    }
   ],
   "source": [
    "sp.y0_zeros(2,3)"
   ]
  },
  {
   "cell_type": "code",
   "execution_count": 11,
   "id": "32393d20",
   "metadata": {},
   "outputs": [
    {
     "data": {
      "text/plain": [
       "(array([-0.50274327+0.78624371j, -3.83353519+0.56235654j]),\n",
       " array([-0.45952768+1.31710194j,  0.04830191-0.69251288j]))"
      ]
     },
     "execution_count": 11,
     "metadata": {},
     "output_type": "execute_result"
    }
   ],
   "source": [
    "sp.y1_zeros(2,3)"
   ]
  },
  {
   "cell_type": "code",
   "execution_count": 12,
   "id": "df42e90b",
   "metadata": {},
   "outputs": [
    {
     "data": {
      "text/plain": [
       "(array([ 0.57678513+0.90398479j, -1.94047734+0.72118592j]),\n",
       " array([-0.76349709+0.58924486j,  0.16206401-0.95202789j]))"
      ]
     },
     "execution_count": 12,
     "metadata": {},
     "output_type": "execute_result"
    }
   ],
   "source": [
    "sp.y1p_zeros(2,3)"
   ]
  },
  {
   "cell_type": "code",
   "execution_count": null,
   "id": "5a9e96fa",
   "metadata": {},
   "outputs": [],
   "source": []
  }
 ],
 "metadata": {
  "kernelspec": {
   "display_name": "Python 3 (ipykernel)",
   "language": "python",
   "name": "python3"
  },
  "language_info": {
   "codemirror_mode": {
    "name": "ipython",
    "version": 3
   },
   "file_extension": ".py",
   "mimetype": "text/x-python",
   "name": "python",
   "nbconvert_exporter": "python",
   "pygments_lexer": "ipython3",
   "version": "3.9.12"
  }
 },
 "nbformat": 4,
 "nbformat_minor": 5
}
