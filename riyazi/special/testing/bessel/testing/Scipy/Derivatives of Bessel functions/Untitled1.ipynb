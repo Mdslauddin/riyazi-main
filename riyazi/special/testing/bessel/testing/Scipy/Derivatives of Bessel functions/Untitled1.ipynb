{
 "cells": [
  {
   "cell_type": "markdown",
   "id": "4066bc37",
   "metadata": {},
   "source": [
    "https://en.wikipedia.org/wiki/Bessel_function"
   ]
  },
  {
   "cell_type": "code",
   "execution_count": null,
   "id": "0d8ec6a9",
   "metadata": {},
   "outputs": [],
   "source": [
    "import scipy.special as sp"
   ]
  },
  {
   "cell_type": "code",
   "execution_count": null,
   "id": "96dfc40a",
   "metadata": {},
   "outputs": [],
   "source": [
    "sp.jvp(2,3)"
   ]
  },
  {
   "cell_type": "code",
   "execution_count": null,
   "id": "d4efe503",
   "metadata": {},
   "outputs": [],
   "source": [
    "sp.jvp(5,6)"
   ]
  },
  {
   "cell_type": "code",
   "execution_count": null,
   "id": "a3ac4663",
   "metadata": {},
   "outputs": [],
   "source": [
    "import math \n",
    "from math import gamma\n",
    "def jvp(v,z):\n",
    "    for k in range(10):\n",
    "        res +=   (pow(z,v-1) / pow(z,v)) * ( (pow(-z,2)/4)l**k ) *(v+(2*k))   / (math.factoral(k)*gamma(1+k+v))\n",
    "    return res"
   ]
  },
  {
   "cell_type": "code",
   "execution_count": null,
   "id": "e5019441",
   "metadata": {},
   "outputs": [],
   "source": [
    "import math\n",
    "from math import gamma\n",
    "def jvp(v,z):\n",
    "    res = 0\n",
    "    for k in range(30):\n",
    "        res += ( (pow(z,v-1)/pow(z,v))* (pow((-z**2)/4,2)*(v+(2*k))) )/ ((math.factorial(k)* gamma(1+k+v)))\n",
    "    return res "
   ]
  },
  {
   "cell_type": "code",
   "execution_count": null,
   "id": "ab5db509",
   "metadata": {},
   "outputs": [],
   "source": [
    "jvp(5,6)"
   ]
  },
  {
   "cell_type": "code",
   "execution_count": null,
   "id": "19f06743",
   "metadata": {},
   "outputs": [],
   "source": [
    "jvp(2,3)"
   ]
  },
  {
   "cell_type": "code",
   "execution_count": null,
   "id": "5747fda4",
   "metadata": {},
   "outputs": [],
   "source": [
    "pow(-3,2)/4**2"
   ]
  },
  {
   "cell_type": "markdown",
   "id": "56b07442",
   "metadata": {},
   "source": [
    "https://functions.wolfram.com/Bessel-TypeFunctions/BesselK/introductions/Bessels/ShowAll.html"
   ]
  },
  {
   "cell_type": "markdown",
   "id": "95b21f61",
   "metadata": {},
   "source": [
    "https://solitaryroad.com/c678.html"
   ]
  },
  {
   "cell_type": "markdown",
   "id": "3141a82c",
   "metadata": {},
   "source": [
    "https://math.stackexchange.com/questions/2204475/derivative-of-bessel-function-of-second-kind-zero-order"
   ]
  },
  {
   "cell_type": "code",
   "execution_count": null,
   "id": "2dd22352",
   "metadata": {},
   "outputs": [],
   "source": [
    "import scipy.special as sp\n",
    "\n",
    "def jvp(n,x):\n",
    "    return (0.5*(sp.jn(n-1,x)- sp.jn(n+1,x)))"
   ]
  },
  {
   "cell_type": "code",
   "execution_count": null,
   "id": "39708418",
   "metadata": {},
   "outputs": [],
   "source": [
    "der(2,3)"
   ]
  },
  {
   "cell_type": "code",
   "execution_count": null,
   "id": "1de94aff",
   "metadata": {},
   "outputs": [],
   "source": [
    "import scipy.special as sp\n",
    "\n",
    "def yvp(n,x):\n",
    "    return (0.5*(sp.yn(n-1,x)- sp.yn(n+1,x)))"
   ]
  },
  {
   "cell_type": "code",
   "execution_count": null,
   "id": "0fa27370",
   "metadata": {},
   "outputs": [],
   "source": [
    "yvp(2,3)"
   ]
  },
  {
   "cell_type": "code",
   "execution_count": null,
   "id": "a79bc8b1",
   "metadata": {},
   "outputs": [],
   "source": [
    "sp.yvp(2,3)"
   ]
  },
  {
   "cell_type": "code",
   "execution_count": null,
   "id": "88f65fe4",
   "metadata": {},
   "outputs": [],
   "source": [
    "sp.k0()"
   ]
  },
  {
   "cell_type": "code",
   "execution_count": null,
   "id": "731aed7b",
   "metadata": {},
   "outputs": [],
   "source": [
    "import scipy.special as sp\n",
    "\n",
    "def kvp(n,x):\n",
    "    return (-0.5*(sp.kn(n-1,x)+ sp.kn(n+1,x)))\n",
    "    "
   ]
  },
  {
   "cell_type": "code",
   "execution_count": null,
   "id": "233b3614",
   "metadata": {},
   "outputs": [],
   "source": [
    "sp.kvp(2,3)"
   ]
  },
  {
   "cell_type": "code",
   "execution_count": null,
   "id": "6323fb05",
   "metadata": {},
   "outputs": [],
   "source": [
    "kvp(2,3)"
   ]
  },
  {
   "cell_type": "code",
   "execution_count": null,
   "id": "fcfc0caa",
   "metadata": {},
   "outputs": [],
   "source": [
    "import mpmath"
   ]
  },
  {
   "cell_type": "code",
   "execution_count": null,
   "id": "f0cdac12",
   "metadata": {},
   "outputs": [],
   "source": [
    "import scipy.special as sp\n",
    "\n",
    "def ivp(n,x):\n",
    "    return (0.5*(sp.iv(n-1,x)+ sp.iv(n+1,x)))"
   ]
  },
  {
   "cell_type": "code",
   "execution_count": null,
   "id": "90ee98c0",
   "metadata": {},
   "outputs": [],
   "source": [
    "sp.ivp(2,3)"
   ]
  },
  {
   "cell_type": "code",
   "execution_count": null,
   "id": "97b7ab32",
   "metadata": {},
   "outputs": [],
   "source": [
    "ivp(2,3)"
   ]
  },
  {
   "cell_type": "code",
   "execution_count": null,
   "id": "47777e12",
   "metadata": {},
   "outputs": [],
   "source": [
    "import scipy.special as sp"
   ]
  },
  {
   "cell_type": "code",
   "execution_count": null,
   "id": "43ed869b",
   "metadata": {},
   "outputs": [],
   "source": [
    "sp.h1vp(3,5)"
   ]
  },
  {
   "cell_type": "code",
   "execution_count": null,
   "id": "5d5c69c2",
   "metadata": {},
   "outputs": [],
   "source": [
    "def h1vp(v,z,n=1):\n",
    "    return  (v*sp.hankel1(v,z)/z)- (sp.hankel1(v+1,z))"
   ]
  },
  {
   "cell_type": "code",
   "execution_count": null,
   "id": "44bad664",
   "metadata": {},
   "outputs": [],
   "source": [
    "h1vp(3,5)"
   ]
  },
  {
   "cell_type": "code",
   "execution_count": null,
   "id": "932f2f59",
   "metadata": {},
   "outputs": [],
   "source": [
    "sp.h1vp(5,9)"
   ]
  },
  {
   "cell_type": "code",
   "execution_count": null,
   "id": "0326c4a1",
   "metadata": {},
   "outputs": [],
   "source": [
    "h1vp(5,9)"
   ]
  },
  {
   "cell_type": "code",
   "execution_count": 1,
   "id": "2b0670cd",
   "metadata": {},
   "outputs": [],
   "source": [
    "# https://mathworld.wolfram.com/HankelFunctionoftheSecondKind.html\n",
    "import scipy.special as sp\n",
    "def h2vp(v,z,n=2):\n",
    "    return  0.5*((sp.hankel2(v-1,z))- (sp.hankel2(v+1,z)))"
   ]
  },
  {
   "cell_type": "code",
   "execution_count": 2,
   "id": "2b247366",
   "metadata": {},
   "outputs": [
    {
     "data": {
      "text/plain": [
       "(-0.06294816733357157+0.24510632826490858j)"
      ]
     },
     "execution_count": 2,
     "metadata": {},
     "output_type": "execute_result"
    }
   ],
   "source": [
    "sp.h2vp(4,9)"
   ]
  },
  {
   "cell_type": "code",
   "execution_count": 3,
   "id": "a9ad75aa",
   "metadata": {},
   "outputs": [
    {
     "data": {
      "text/plain": [
       "(-0.06294816733357157+0.24510632826490858j)"
      ]
     },
     "execution_count": 3,
     "metadata": {},
     "output_type": "execute_result"
    }
   ],
   "source": [
    "h2vp(4,9)"
   ]
  },
  {
   "cell_type": "code",
   "execution_count": null,
   "id": "5637539a",
   "metadata": {},
   "outputs": [],
   "source": []
  },
  {
   "cell_type": "code",
   "execution_count": null,
   "id": "2fd5dccb",
   "metadata": {},
   "outputs": [],
   "source": []
  },
  {
   "cell_type": "code",
   "execution_count": null,
   "id": "1b18af3f",
   "metadata": {},
   "outputs": [],
   "source": []
  },
  {
   "cell_type": "code",
   "execution_count": null,
   "id": "34a35bf6",
   "metadata": {},
   "outputs": [],
   "source": []
  },
  {
   "cell_type": "code",
   "execution_count": null,
   "id": "bd346615",
   "metadata": {},
   "outputs": [],
   "source": []
  },
  {
   "cell_type": "code",
   "execution_count": null,
   "id": "7e8e9b5a",
   "metadata": {},
   "outputs": [],
   "source": [
    "sp.yvp(2,3)"
   ]
  },
  {
   "cell_type": "code",
   "execution_count": null,
   "id": "e0fcdf67",
   "metadata": {},
   "outputs": [],
   "source": [
    "sp.kvp(2,3)"
   ]
  },
  {
   "cell_type": "code",
   "execution_count": null,
   "id": "988b5947",
   "metadata": {},
   "outputs": [],
   "source": [
    "sp.ivp(2,3)"
   ]
  },
  {
   "cell_type": "code",
   "execution_count": null,
   "id": "ec8fdce0",
   "metadata": {},
   "outputs": [],
   "source": [
    "sp.h1vp(2,3)"
   ]
  },
  {
   "cell_type": "code",
   "execution_count": null,
   "id": "0efe318f",
   "metadata": {},
   "outputs": [],
   "source": [
    "sp.h2vp(2,3)"
   ]
  },
  {
   "cell_type": "code",
   "execution_count": null,
   "id": "0336c771",
   "metadata": {},
   "outputs": [],
   "source": []
  }
 ],
 "metadata": {
  "kernelspec": {
   "display_name": "Python 3 (ipykernel)",
   "language": "python",
   "name": "python3"
  },
  "language_info": {
   "codemirror_mode": {
    "name": "ipython",
    "version": 3
   },
   "file_extension": ".py",
   "mimetype": "text/x-python",
   "name": "python",
   "nbconvert_exporter": "python",
   "pygments_lexer": "ipython3",
   "version": "3.9.12"
  }
 },
 "nbformat": 4,
 "nbformat_minor": 5
}
