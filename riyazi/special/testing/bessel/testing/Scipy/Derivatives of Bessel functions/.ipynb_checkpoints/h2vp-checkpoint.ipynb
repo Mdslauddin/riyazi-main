{
 "cells": [
  {
   "cell_type": "code",
   "execution_count": 1,
   "id": "38a44d41",
   "metadata": {},
   "outputs": [],
   "source": [
    "# https://mathworld.wolfram.com/HankelFunctionoftheSecondKind.html\n",
    "import scipy.special as sp\n",
    "def h2vp(v,z,n=2):\n",
    "    return  0.5*((sp.hankel2(v-1,z))- (sp.hankel2(v+1,z)))"
   ]
  },
  {
   "cell_type": "code",
   "execution_count": null,
   "id": "5823403d",
   "metadata": {},
   "outputs": [],
   "source": []
  }
 ],
 "metadata": {
  "kernelspec": {
   "display_name": "Python 3 (ipykernel)",
   "language": "python",
   "name": "python3"
  },
  "language_info": {
   "codemirror_mode": {
    "name": "ipython",
    "version": 3
   },
   "file_extension": ".py",
   "mimetype": "text/x-python",
   "name": "python",
   "nbconvert_exporter": "python",
   "pygments_lexer": "ipython3",
   "version": "3.9.12"
  }
 },
 "nbformat": 4,
 "nbformat_minor": 5
}
