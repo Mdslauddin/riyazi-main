{
 "cells": [
  {
   "cell_type": "markdown",
   "id": "4066bc37",
   "metadata": {},
   "source": [
    "https://en.wikipedia.org/wiki/Bessel_function"
   ]
  },
  {
   "cell_type": "code",
   "execution_count": 1,
   "id": "0d8ec6a9",
   "metadata": {},
   "outputs": [],
   "source": [
    "import scipy.special as sp"
   ]
  },
  {
   "cell_type": "code",
   "execution_count": 2,
   "id": "96dfc40a",
   "metadata": {},
   "outputs": [
    {
     "data": {
      "text/plain": [
       "0.014998118135342436"
      ]
     },
     "execution_count": 2,
     "metadata": {},
     "output_type": "execute_result"
    }
   ],
   "source": [
    "sp.jvp(2,3)"
   ]
  },
  {
   "cell_type": "code",
   "execution_count": 3,
   "id": "7e8e9b5a",
   "metadata": {},
   "outputs": [
    {
     "data": {
      "text/plain": [
       "0.43160802044841573"
      ]
     },
     "execution_count": 3,
     "metadata": {},
     "output_type": "execute_result"
    }
   ],
   "source": [
    "sp.yvp(2,3)"
   ]
  },
  {
   "cell_type": "code",
   "execution_count": 4,
   "id": "e0fcdf67",
   "metadata": {},
   "outputs": [
    {
     "data": {
      "text/plain": [
       "-0.0811634034426889"
      ]
     },
     "execution_count": 4,
     "metadata": {},
     "output_type": "execute_result"
    }
   ],
   "source": [
    "sp.kvp(2,3)"
   ]
  },
  {
   "cell_type": "code",
   "execution_count": 5,
   "id": "988b5947",
   "metadata": {},
   "outputs": [
    {
     "data": {
      "text/plain": [
       "2.4565619234493092"
      ]
     },
     "execution_count": 5,
     "metadata": {},
     "output_type": "execute_result"
    }
   ],
   "source": [
    "sp.ivp(2,3)"
   ]
  },
  {
   "cell_type": "code",
   "execution_count": 6,
   "id": "ec8fdce0",
   "metadata": {},
   "outputs": [
    {
     "data": {
      "text/plain": [
       "(0.014998118135342381+0.43160802044841573j)"
      ]
     },
     "execution_count": 6,
     "metadata": {},
     "output_type": "execute_result"
    }
   ],
   "source": [
    "sp.h1vp(2,3)"
   ]
  },
  {
   "cell_type": "code",
   "execution_count": 8,
   "id": "0efe318f",
   "metadata": {},
   "outputs": [
    {
     "data": {
      "text/plain": [
       "(0.014998118135342381-0.43160802044841573j)"
      ]
     },
     "execution_count": 8,
     "metadata": {},
     "output_type": "execute_result"
    }
   ],
   "source": [
    "sp.h2vp(2,3)"
   ]
  },
  {
   "cell_type": "code",
   "execution_count": null,
   "id": "0336c771",
   "metadata": {},
   "outputs": [],
   "source": []
  }
 ],
 "metadata": {
  "kernelspec": {
   "display_name": "Python 3 (ipykernel)",
   "language": "python",
   "name": "python3"
  },
  "language_info": {
   "codemirror_mode": {
    "name": "ipython",
    "version": 3
   },
   "file_extension": ".py",
   "mimetype": "text/x-python",
   "name": "python",
   "nbconvert_exporter": "python",
   "pygments_lexer": "ipython3",
   "version": "3.9.12"
  }
 },
 "nbformat": 4,
 "nbformat_minor": 5
}
