{
 "cells": [
  {
   "cell_type": "code",
   "execution_count": 1,
   "id": "53e0bfc0",
   "metadata": {},
   "outputs": [],
   "source": [
    "import scipy.special as sp\n",
    "\n",
    "def jvp(n,x):\n",
    "    return (0.5*(sp.jn(n-1,x)- sp.jn(n+1,x)))"
   ]
  },
  {
   "cell_type": "code",
   "execution_count": 2,
   "id": "7791d5c1",
   "metadata": {},
   "outputs": [
    {
     "data": {
      "text/plain": [
       "(0.11476838482077512, 0.0009386018612175644)"
      ]
     },
     "execution_count": 2,
     "metadata": {},
     "output_type": "execute_result"
    }
   ],
   "source": [
    "sp.jn(3,6),sp.jn(9,4)"
   ]
  },
  {
   "cell_type": "code",
   "execution_count": 3,
   "id": "a1ea29ab",
   "metadata": {},
   "outputs": [],
   "source": [
    "from mpmath import besselj\n"
   ]
  },
  {
   "cell_type": "code",
   "execution_count": 5,
   "id": "8048a7da",
   "metadata": {},
   "outputs": [
    {
     "data": {
      "text/plain": [
       "(mpf('0.1147683848207753'), mpf('0.00093860186121756405'))"
      ]
     },
     "execution_count": 5,
     "metadata": {},
     "output_type": "execute_result"
    }
   ],
   "source": [
    "besselj(3,6),besselj(9,4)"
   ]
  },
  {
   "cell_type": "code",
   "execution_count": null,
   "id": "f9655805",
   "metadata": {},
   "outputs": [],
   "source": []
  }
 ],
 "metadata": {
  "kernelspec": {
   "display_name": "Python 3 (ipykernel)",
   "language": "python",
   "name": "python3"
  },
  "language_info": {
   "codemirror_mode": {
    "name": "ipython",
    "version": 3
   },
   "file_extension": ".py",
   "mimetype": "text/x-python",
   "name": "python",
   "nbconvert_exporter": "python",
   "pygments_lexer": "ipython3",
   "version": "3.9.12"
  }
 },
 "nbformat": 4,
 "nbformat_minor": 5
}
