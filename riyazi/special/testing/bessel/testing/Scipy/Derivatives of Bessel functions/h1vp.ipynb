{
 "cells": [
  {
   "cell_type": "code",
   "execution_count": 1,
   "id": "5ac1a28e",
   "metadata": {},
   "outputs": [],
   "source": [
    "import scipy.special as sp\n",
    "def h1vp(v,z,n=1):\n",
    "    return  (v*sp.hankel1(v,z)/z)- (sp.hankel1(v+1,z))"
   ]
  },
  {
   "cell_type": "code",
   "execution_count": null,
   "id": "566a6b2d",
   "metadata": {},
   "outputs": [],
   "source": []
  }
 ],
 "metadata": {
  "kernelspec": {
   "display_name": "Python 3 (ipykernel)",
   "language": "python",
   "name": "python3"
  },
  "language_info": {
   "codemirror_mode": {
    "name": "ipython",
    "version": 3
   },
   "file_extension": ".py",
   "mimetype": "text/x-python",
   "name": "python",
   "nbconvert_exporter": "python",
   "pygments_lexer": "ipython3",
   "version": "3.9.12"
  }
 },
 "nbformat": 4,
 "nbformat_minor": 5
}
