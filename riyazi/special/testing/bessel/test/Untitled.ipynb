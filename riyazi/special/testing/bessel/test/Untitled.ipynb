{
 "cells": [
  {
   "cell_type": "code",
   "execution_count": 1,
   "id": "8959056f",
   "metadata": {},
   "outputs": [],
   "source": [
    "def fbessel(Y, x):\n",
    "    nu = 0.0\n",
    "    y = Y[0]\n",
    "    z = Y[1]\n",
    "  \n",
    "    dydx = z\n",
    "    dzdx = 1.0 / x**2 * (-x * z - (x**2 - nu**2) * y)\n",
    "    return [dydx, dzdx]"
   ]
  },
  {
   "cell_type": "code",
   "execution_count": 2,
   "id": "cee4acb2",
   "metadata": {},
   "outputs": [
    {
     "data": {
      "text/plain": [
       "0.0013098962123461375"
      ]
     },
     "execution_count": 2,
     "metadata": {},
     "output_type": "execute_result"
    }
   ],
   "source": [
    "from scipy.special import j0, j1\n",
    "\n",
    "def jn(n,z):\n",
    "    a, b = j0(z), j1(z)\n",
    "    for k in range(2,n+1):\n",
    "        b, a = b*2*(k-1)/z - a, b\n",
    "    return b\n",
    "\n",
    "jn(46341, 86840.0)"
   ]
  },
  {
   "cell_type": "markdown",
   "id": "d12bcb1e",
   "metadata": {},
   "source": [
    "https://mathoverflow.net/questions/225121/computation-of-high-order-bessel-function-at-large-variable-value"
   ]
  },
  {
   "cell_type": "code",
   "execution_count": 3,
   "id": "b8a23908",
   "metadata": {},
   "outputs": [],
   "source": [
    "def fatorial(n):\n",
    "    if(n == 0):\n",
    "        return 1\n",
    "    else:\n",
    "        return n*fatorial(n - 1)"
   ]
  },
  {
   "cell_type": "code",
   "execution_count": 6,
   "id": "c46d6dc0",
   "metadata": {},
   "outputs": [],
   "source": [
    "def J00(x):\n",
    "    k = 0\n",
    "    soma = 0\n",
    "    termo = 1\n",
    "    while(1.0e-4 <= termo):\n",
    "        termo = pow(x/2, (2*k))/(fatorial(k)*fatorial(k))\n",
    "        soma += pow(-1, k)*termo\n",
    "        k += 1\n",
    "    return soma"
   ]
  },
  {
   "cell_type": "code",
   "execution_count": 11,
   "id": "8c19eef6",
   "metadata": {},
   "outputs": [
    {
     "data": {
      "text/plain": [
       "0.1716508071375539"
      ]
     },
     "execution_count": 11,
     "metadata": {},
     "output_type": "execute_result"
    }
   ],
   "source": [
    "j0(8)"
   ]
  },
  {
   "cell_type": "code",
   "execution_count": 10,
   "id": "6d93813b",
   "metadata": {},
   "outputs": [
    {
     "data": {
      "text/plain": [
       "0.17165144143982095"
      ]
     },
     "execution_count": 10,
     "metadata": {},
     "output_type": "execute_result"
    }
   ],
   "source": [
    "J00(8)"
   ]
  },
  {
   "cell_type": "code",
   "execution_count": 12,
   "id": "6068daf2",
   "metadata": {},
   "outputs": [],
   "source": [
    "def J1(x):\n",
    "    k = 0\n",
    "    soma = 0\n",
    "    termo = 1\n",
    "    while(1.0e-4 <= termo):\n",
    "        termo = pow(x/2, (2*k + 1))/(fatorial(k)*fatorial(k + 1))\n",
    "        soma += pow(-1, k)*termo\n",
    "        k += 1\n",
    "    return soma"
   ]
  },
  {
   "cell_type": "code",
   "execution_count": 13,
   "id": "e632d810",
   "metadata": {},
   "outputs": [],
   "source": [
    "def J2(x):\n",
    "    k = 0\n",
    "    soma = 0\n",
    "    termo = 1\n",
    "    while(1.0e-4 <= termo):\n",
    "        termo = pow(x/2, (2*k + 2))/(fatorial(k)*fatorial(k + 2))\n",
    "        soma += pow(-1, k)*termo\n",
    "        k += 1\n",
    "    return soma"
   ]
  },
  {
   "cell_type": "markdown",
   "id": "8942119c",
   "metadata": {},
   "source": [
    "https://www.sciencedirect.com/topics/mathematics/spherical-bessel-function"
   ]
  },
  {
   "cell_type": "markdown",
   "id": "a06a8761",
   "metadata": {},
   "source": [
    "https://www.programcreek.com/python/example/88757/scipy.special.jv"
   ]
  },
  {
   "cell_type": "code",
   "execution_count": null,
   "id": "ce4ccee0",
   "metadata": {},
   "outputs": [],
   "source": []
  }
 ],
 "metadata": {
  "kernelspec": {
   "display_name": "Python 3 (ipykernel)",
   "language": "python",
   "name": "python3"
  },
  "language_info": {
   "codemirror_mode": {
    "name": "ipython",
    "version": 3
   },
   "file_extension": ".py",
   "mimetype": "text/x-python",
   "name": "python",
   "nbconvert_exporter": "python",
   "pygments_lexer": "ipython3",
   "version": "3.9.12"
  }
 },
 "nbformat": 4,
 "nbformat_minor": 5
}
