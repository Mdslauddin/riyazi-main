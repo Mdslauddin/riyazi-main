{
 "cells": [
  {
   "cell_type": "code",
   "execution_count": 1,
   "id": "f77a8830",
   "metadata": {},
   "outputs": [],
   "source": [
    "from math import gamma"
   ]
  },
  {
   "cell_type": "code",
   "execution_count": 2,
   "id": "7bcaaf44",
   "metadata": {},
   "outputs": [],
   "source": [
    "def rgamma(z):\n",
    "    return (1/gamma(z))"
   ]
  },
  {
   "cell_type": "code",
   "execution_count": 3,
   "id": "88571103",
   "metadata": {},
   "outputs": [],
   "source": [
    "import scipy.special as sp"
   ]
  },
  {
   "cell_type": "code",
   "execution_count": 4,
   "id": "8e4c3059",
   "metadata": {},
   "outputs": [
    {
     "data": {
      "text/plain": [
       "0.5"
      ]
     },
     "execution_count": 4,
     "metadata": {},
     "output_type": "execute_result"
    }
   ],
   "source": [
    "sp.rgamma(3)"
   ]
  },
  {
   "cell_type": "code",
   "execution_count": 5,
   "id": "7af25c71",
   "metadata": {},
   "outputs": [
    {
     "data": {
      "text/plain": [
       "0.5"
      ]
     },
     "execution_count": 5,
     "metadata": {},
     "output_type": "execute_result"
    }
   ],
   "source": [
    "rgamma(3)"
   ]
  },
  {
   "cell_type": "code",
   "execution_count": 6,
   "id": "2a489f3b",
   "metadata": {},
   "outputs": [
    {
     "data": {
      "text/plain": [
       "2.48015873015873e-05"
      ]
     },
     "execution_count": 6,
     "metadata": {},
     "output_type": "execute_result"
    }
   ],
   "source": [
    "sp.rgamma(9)"
   ]
  },
  {
   "cell_type": "code",
   "execution_count": 7,
   "id": "08c26e45",
   "metadata": {},
   "outputs": [
    {
     "data": {
      "text/plain": [
       "2.48015873015873e-05"
      ]
     },
     "execution_count": 7,
     "metadata": {},
     "output_type": "execute_result"
    }
   ],
   "source": [
    "rgamma(9)"
   ]
  },
  {
   "cell_type": "code",
   "execution_count": null,
   "id": "5b507135",
   "metadata": {},
   "outputs": [],
   "source": []
  }
 ],
 "metadata": {
  "kernelspec": {
   "display_name": "Python 3 (ipykernel)",
   "language": "python",
   "name": "python3"
  },
  "language_info": {
   "codemirror_mode": {
    "name": "ipython",
    "version": 3
   },
   "file_extension": ".py",
   "mimetype": "text/x-python",
   "name": "python",
   "nbconvert_exporter": "python",
   "pygments_lexer": "ipython3",
   "version": "3.9.12"
  }
 },
 "nbformat": 4,
 "nbformat_minor": 5
}
