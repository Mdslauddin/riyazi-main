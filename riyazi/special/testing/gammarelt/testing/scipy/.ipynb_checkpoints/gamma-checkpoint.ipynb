{
 "cells": [
  {
   "cell_type": "markdown",
   "id": "340a1e5b",
   "metadata": {},
   "source": [
    "### gamma function."
   ]
  },
  {
   "cell_type": "code",
   "execution_count": 1,
   "id": "f7ac94a8",
   "metadata": {},
   "outputs": [],
   "source": [
    "from scipy.special import gamma, factorial"
   ]
  },
  {
   "cell_type": "code",
   "execution_count": 2,
   "id": "da214701",
   "metadata": {},
   "outputs": [
    {
     "data": {
      "text/plain": [
       "array([        inf,  1.77245385,  1.        , 24.        ])"
      ]
     },
     "execution_count": 2,
     "metadata": {},
     "output_type": "execute_result"
    }
   ],
   "source": [
    "gamma([0, 0.5, 1, 5])"
   ]
  },
  {
   "cell_type": "code",
   "execution_count": 3,
   "id": "9c6e11f2",
   "metadata": {},
   "outputs": [
    {
     "data": {
      "text/plain": [
       "(0.7747621045510842+0.7076312043795936j)"
      ]
     },
     "execution_count": 3,
     "metadata": {},
     "output_type": "execute_result"
    }
   ],
   "source": [
    "z = 2.5 + 1j\n",
    "gamma(z)"
   ]
  },
  {
   "cell_type": "code",
   "execution_count": 4,
   "id": "2441ef4c",
   "metadata": {},
   "outputs": [
    {
     "data": {
      "text/plain": [
       "((1.2292740569981173+2.5438401155000685j),\n",
       " (1.2292740569981169+2.543840115500068j))"
      ]
     },
     "execution_count": 4,
     "metadata": {},
     "output_type": "execute_result"
    }
   ],
   "source": [
    "gamma(z+1), z*gamma(z)  # Recurrence property"
   ]
  },
  {
   "cell_type": "code",
   "execution_count": 5,
   "id": "f2e73029",
   "metadata": {},
   "outputs": [
    {
     "data": {
      "text/plain": [
       "3.1415926535897927"
      ]
     },
     "execution_count": 5,
     "metadata": {},
     "output_type": "execute_result"
    }
   ],
   "source": [
    "gamma(0.5)**2  # gamma(0.5) = sqrt(pi)"
   ]
  },
  {
   "cell_type": "code",
   "execution_count": 6,
   "id": "c85e829d",
   "metadata": {},
   "outputs": [],
   "source": [
    "import numpy as np \n",
    "x = np.linspace(-3.5, 5.5, 2251)\n",
    "y = gamma(x)"
   ]
  },
  {
   "cell_type": "code",
   "execution_count": 7,
   "id": "23fc2881",
   "metadata": {
    "collapsed": true
   },
   "outputs": [
    {
     "data": {
      "image/png": "[encoded data removed]",
      "text/plain": [
       "<Figure size 432x288 with 1 Axes>"
      ]
     },
     "metadata": {
      "needs_background": "light"
     },
     "output_type": "display_data"
    }
   ],
   "source": [
    "import matplotlib.pyplot as plt\n",
    "plt.plot(x, y, 'b', alpha=0.6, label='gamma(x)')\n",
    "k = np.arange(1, 7)\n",
    "plt.plot(k, factorial(k-1), 'k*', alpha=0.6,\n",
    "         label='(x-1)!, x = 1, 2, ...')\n",
    "plt.xlim(-3.5, 5.5)\n",
    "plt.ylim(-10, 25)\n",
    "plt.grid()\n",
    "plt.xlabel('x')\n",
    "plt.legend(loc='lower right')\n",
    "plt.show()"
   ]
  },
  {
   "cell_type": "code",
   "execution_count": 8,
   "id": "d0714082",
   "metadata": {},
   "outputs": [],
   "source": [
    "import math\n"
   ]
  },
  {
   "cell_type": "code",
   "execution_count": 11,
   "id": "6cf38de7",
   "metadata": {},
   "outputs": [
    {
     "data": {
      "text/plain": [
       "24.0"
      ]
     },
     "execution_count": 11,
     "metadata": {},
     "output_type": "execute_result"
    }
   ],
   "source": [
    "math.gamma(5)"
   ]
  },
  {
   "cell_type": "code",
   "execution_count": null,
   "id": "74defa5c",
   "metadata": {},
   "outputs": [],
   "source": [
    "import math \n",
    "def gamma(x):\n",
    "    return math.gamma(x)"
   ]
  }
 ],
 "metadata": {
  "kernelspec": {
   "display_name": "Python 3 (ipykernel)",
   "language": "python",
   "name": "python3"
  },
  "language_info": {
   "codemirror_mode": {
    "name": "ipython",
    "version": 3
   },
   "file_extension": ".py",
   "mimetype": "text/x-python",
   "name": "python",
   "nbconvert_exporter": "python",
   "pygments_lexer": "ipython3",
   "version": "3.9.12"
  }
 },
 "nbformat": 4,
 "nbformat_minor": 5
}
