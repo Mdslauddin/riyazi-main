{
 "cells": [
  {
   "cell_type": "markdown",
   "id": "3420b9a9",
   "metadata": {},
   "source": [
    "### Regularized lower incomplete gamma function.\n",
    "\n",
    "https://en.wikipedia.org/wiki/Incomplete_gamma_function#Properties\n",
    "\n",
    "http://www.ece.northwestern.edu/local-apps/matlabhelp/techdoc/ref/gamma.html"
   ]
  },
  {
   "cell_type": "code",
   "execution_count": 1,
   "id": "3ee8416f",
   "metadata": {},
   "outputs": [],
   "source": [
    "import scipy.special as sc"
   ]
  },
  {
   "cell_type": "code",
   "execution_count": 2,
   "id": "b5e2445f",
   "metadata": {
    "scrolled": true
   },
   "outputs": [
    {
     "data": {
      "text/plain": [
       "array([0.        , 0.84270079, 0.99999226, 1.        ])"
      ]
     },
     "execution_count": 2,
     "metadata": {},
     "output_type": "execute_result"
    }
   ],
   "source": [
    "sc.gammainc(0.5, [0, 1, 10, 100])"
   ]
  },
  {
   "cell_type": "code",
   "execution_count": 18,
   "id": "0101aeeb",
   "metadata": {},
   "outputs": [
    {
     "data": {
      "text/plain": [
       "0.6289066304773024"
      ]
     },
     "execution_count": 18,
     "metadata": {},
     "output_type": "execute_result"
    }
   ],
   "source": [
    "a, x = 0.5, 0.4\n",
    "sc.gammainc(a, x)"
   ]
  },
  {
   "cell_type": "code",
   "execution_count": 19,
   "id": "77979ff9",
   "metadata": {},
   "outputs": [
    {
     "data": {
      "text/plain": [
       "0.6289066304773024"
      ]
     },
     "execution_count": 19,
     "metadata": {},
     "output_type": "execute_result"
    }
   ],
   "source": [
    "1 - sc.gammaincc(a, x)"
   ]
  },
  {
   "cell_type": "markdown",
   "id": "b59dde31",
   "metadata": {},
   "source": [
    "https://www.sciencedirect.com/topics/mathematics/incomplete-gamma-function"
   ]
  },
  {
   "cell_type": "code",
   "execution_count": null,
   "id": "c1047185",
   "metadata": {},
   "outputs": [],
   "source": []
  },
  {
   "cell_type": "code",
   "execution_count": null,
   "id": "addb47f6",
   "metadata": {},
   "outputs": [],
   "source": []
  },
  {
   "cell_type": "code",
   "execution_count": null,
   "id": "5240134d",
   "metadata": {},
   "outputs": [],
   "source": []
  },
  {
   "cell_type": "code",
   "execution_count": null,
   "id": "ea30065b",
   "metadata": {},
   "outputs": [],
   "source": []
  },
  {
   "cell_type": "code",
   "execution_count": null,
   "id": "6211751f",
   "metadata": {},
   "outputs": [],
   "source": []
  },
  {
   "cell_type": "code",
   "execution_count": null,
   "id": "c8a496f9",
   "metadata": {},
   "outputs": [],
   "source": []
  },
  {
   "cell_type": "code",
   "execution_count": null,
   "id": "38e1e842",
   "metadata": {},
   "outputs": [],
   "source": []
  },
  {
   "cell_type": "code",
   "execution_count": null,
   "id": "129b0852",
   "metadata": {},
   "outputs": [],
   "source": []
  },
  {
   "cell_type": "code",
   "execution_count": null,
   "id": "ade52b29",
   "metadata": {},
   "outputs": [],
   "source": []
  },
  {
   "cell_type": "code",
   "execution_count": null,
   "id": "31c85a45",
   "metadata": {},
   "outputs": [],
   "source": []
  },
  {
   "cell_type": "code",
   "execution_count": null,
   "id": "313647cb",
   "metadata": {},
   "outputs": [],
   "source": []
  },
  {
   "cell_type": "code",
   "execution_count": null,
   "id": "871abfc7",
   "metadata": {},
   "outputs": [],
   "source": []
  },
  {
   "cell_type": "code",
   "execution_count": null,
   "id": "8339e9da",
   "metadata": {},
   "outputs": [],
   "source": []
  },
  {
   "cell_type": "code",
   "execution_count": null,
   "id": "673b4ba6",
   "metadata": {},
   "outputs": [],
   "source": []
  },
  {
   "cell_type": "code",
   "execution_count": null,
   "id": "a04ad011",
   "metadata": {},
   "outputs": [],
   "source": []
  },
  {
   "cell_type": "code",
   "execution_count": null,
   "id": "11a4e98b",
   "metadata": {},
   "outputs": [],
   "source": []
  },
  {
   "cell_type": "code",
   "execution_count": null,
   "id": "97085ab1",
   "metadata": {},
   "outputs": [],
   "source": []
  },
  {
   "cell_type": "code",
   "execution_count": null,
   "id": "eecbddc0",
   "metadata": {},
   "outputs": [],
   "source": []
  },
  {
   "cell_type": "code",
   "execution_count": null,
   "id": "2d6f59e6",
   "metadata": {},
   "outputs": [],
   "source": []
  },
  {
   "cell_type": "code",
   "execution_count": null,
   "id": "d9c1fd55",
   "metadata": {},
   "outputs": [],
   "source": []
  },
  {
   "cell_type": "code",
   "execution_count": null,
   "id": "48ad0109",
   "metadata": {},
   "outputs": [],
   "source": []
  },
  {
   "cell_type": "code",
   "execution_count": null,
   "id": "4224aae8",
   "metadata": {},
   "outputs": [],
   "source": []
  },
  {
   "cell_type": "code",
   "execution_count": null,
   "id": "b05cf394",
   "metadata": {},
   "outputs": [],
   "source": []
  },
  {
   "cell_type": "code",
   "execution_count": null,
   "id": "05126360",
   "metadata": {},
   "outputs": [],
   "source": []
  },
  {
   "cell_type": "code",
   "execution_count": null,
   "id": "0f644161",
   "metadata": {},
   "outputs": [],
   "source": []
  },
  {
   "cell_type": "code",
   "execution_count": null,
   "id": "c701f480",
   "metadata": {},
   "outputs": [],
   "source": []
  },
  {
   "cell_type": "code",
   "execution_count": null,
   "id": "2ebe57b4",
   "metadata": {},
   "outputs": [],
   "source": []
  },
  {
   "cell_type": "code",
   "execution_count": null,
   "id": "f1e55e31",
   "metadata": {},
   "outputs": [],
   "source": []
  },
  {
   "cell_type": "code",
   "execution_count": null,
   "id": "5f4e0d3b",
   "metadata": {},
   "outputs": [],
   "source": []
  },
  {
   "cell_type": "code",
   "execution_count": null,
   "id": "f9f19dfa",
   "metadata": {},
   "outputs": [],
   "source": []
  },
  {
   "cell_type": "code",
   "execution_count": null,
   "id": "829a6389",
   "metadata": {},
   "outputs": [],
   "source": []
  },
  {
   "cell_type": "code",
   "execution_count": null,
   "id": "0d3c8cd0",
   "metadata": {},
   "outputs": [],
   "source": []
  },
  {
   "cell_type": "code",
   "execution_count": null,
   "id": "159033c2",
   "metadata": {},
   "outputs": [],
   "source": []
  },
  {
   "cell_type": "code",
   "execution_count": null,
   "id": "ca9ab034",
   "metadata": {},
   "outputs": [],
   "source": []
  },
  {
   "cell_type": "code",
   "execution_count": null,
   "id": "a329ddaa",
   "metadata": {},
   "outputs": [],
   "source": []
  },
  {
   "cell_type": "code",
   "execution_count": null,
   "id": "2e7ef870",
   "metadata": {},
   "outputs": [],
   "source": []
  },
  {
   "cell_type": "code",
   "execution_count": null,
   "id": "92cd1357",
   "metadata": {},
   "outputs": [],
   "source": []
  },
  {
   "cell_type": "code",
   "execution_count": null,
   "id": "ba6f57e4",
   "metadata": {},
   "outputs": [],
   "source": []
  },
  {
   "cell_type": "code",
   "execution_count": null,
   "id": "71208ad0",
   "metadata": {},
   "outputs": [],
   "source": []
  },
  {
   "cell_type": "code",
   "execution_count": null,
   "id": "951973e4",
   "metadata": {},
   "outputs": [],
   "source": []
  },
  {
   "cell_type": "code",
   "execution_count": null,
   "id": "536cf70a",
   "metadata": {},
   "outputs": [],
   "source": []
  },
  {
   "cell_type": "code",
   "execution_count": null,
   "id": "def7882c",
   "metadata": {},
   "outputs": [],
   "source": []
  },
  {
   "cell_type": "code",
   "execution_count": null,
   "id": "d31b7e3a",
   "metadata": {},
   "outputs": [],
   "source": []
  },
  {
   "cell_type": "code",
   "execution_count": null,
   "id": "ae526588",
   "metadata": {},
   "outputs": [],
   "source": []
  },
  {
   "cell_type": "code",
   "execution_count": 4,
   "id": "4fd211b5",
   "metadata": {},
   "outputs": [],
   "source": [
    "from bitarray import bitarray\n",
    "\n",
    "# see https://nlp.stanford.edu/IR-book/html/htmledition/gamma-codes-1.html\n",
    "\n",
    "def gamma_code(n):\n",
    "    binary_n = format(n, 'b')\n",
    "    binary_offset = binary_n[1::]\n",
    "    unary_length = bitarray(True for i in range(len(binary_offset))) + bitarray([False])\n",
    "    return bitarray(unary_length), bitarray(binary_offset)"
   ]
  },
  {
   "cell_type": "code",
   "execution_count": 5,
   "id": "6f7f4ac5",
   "metadata": {},
   "outputs": [
    {
     "data": {
      "text/plain": [
       "(bitarray('110'), bitarray('01'))"
      ]
     },
     "execution_count": 5,
     "metadata": {},
     "output_type": "execute_result"
    }
   ],
   "source": [
    "gamma_code(5)"
   ]
  },
  {
   "cell_type": "code",
   "execution_count": 6,
   "id": "109e381b",
   "metadata": {},
   "outputs": [],
   "source": [
    "from scipy.special import gamma, gammaincc, exp1\n",
    "def inc_gamma(a, x):\n",
    "    return exp1(x) if a == 0 else gamma(a)*gammaincc(a, x)"
   ]
  },
  {
   "cell_type": "code",
   "execution_count": 7,
   "id": "efe17a26",
   "metadata": {},
   "outputs": [
    {
     "data": {
      "text/plain": [
       "6.841356007599149"
      ]
     },
     "execution_count": 7,
     "metadata": {},
     "output_type": "execute_result"
    }
   ],
   "source": [
    "inc_gamma(5,6)"
   ]
  },
  {
   "cell_type": "code",
   "execution_count": 8,
   "id": "6b46d85c",
   "metadata": {},
   "outputs": [
    {
     "data": {
      "text/plain": [
       "0.7149434996833688"
      ]
     },
     "execution_count": 8,
     "metadata": {},
     "output_type": "execute_result"
    }
   ],
   "source": [
    "sc.gammainc(5,6)"
   ]
  },
  {
   "cell_type": "code",
   "execution_count": 11,
   "id": "cc7a182d",
   "metadata": {},
   "outputs": [],
   "source": [
    "_a =    ( 1.00000000000000000000, 0.57721566490153286061, -0.65587807152025388108,\n",
    "         -0.04200263503409523553, 0.16653861138229148950, -0.04219773455554433675,\n",
    "         -0.00962197152787697356, 0.00721894324666309954, -0.00116516759185906511,\n",
    "         -0.00021524167411495097, 0.00012805028238811619, -0.00002013485478078824,\n",
    "         -0.00000125049348214267, 0.00000113302723198170, -0.00000020563384169776,\n",
    "          0.00000000611609510448, 0.00000000500200764447, -0.00000000118127457049,\n",
    "          0.00000000010434267117, 0.00000000000778226344, -0.00000000000369680562,\n",
    "          0.00000000000051003703, -0.00000000000002058326, -0.00000000000000534812,\n",
    "          0.00000000000000122678, -0.00000000000000011813, 0.00000000000000000119,\n",
    "          0.00000000000000000141, -0.00000000000000000023, 0.00000000000000000002\n",
    "       )"
   ]
  },
  {
   "cell_type": "code",
   "execution_count": 12,
   "id": "79b44dd4",
   "metadata": {},
   "outputs": [],
   "source": [
    "def gamma (x):\n",
    "    y  = float(x) - 1.0;\n",
    "    sm = _a[-1];\n",
    "    for an in _a[-2::-1]:\n",
    "        sm = sm * y + an;\n",
    "    return 1.0 / sm;"
   ]
  },
  {
   "cell_type": "code",
   "execution_count": 13,
   "id": "21fe9709",
   "metadata": {},
   "outputs": [
    {
     "data": {
      "text/plain": [
       "23.332766596991785"
      ]
     },
     "execution_count": 13,
     "metadata": {},
     "output_type": "execute_result"
    }
   ],
   "source": [
    "gamma(5)"
   ]
  },
  {
   "cell_type": "code",
   "execution_count": 14,
   "id": "0d231b10",
   "metadata": {},
   "outputs": [
    {
     "data": {
      "text/plain": [
       "1.0"
      ]
     },
     "execution_count": 14,
     "metadata": {},
     "output_type": "execute_result"
    }
   ],
   "source": [
    "gamma(2)"
   ]
  },
  {
   "cell_type": "code",
   "execution_count": 15,
   "id": "516a2a7e",
   "metadata": {},
   "outputs": [],
   "source": [
    "import math "
   ]
  },
  {
   "cell_type": "code",
   "execution_count": 16,
   "id": "c9527cfd",
   "metadata": {},
   "outputs": [
    {
     "data": {
      "text/plain": [
       "2.585201673888497e+22"
      ]
     },
     "execution_count": 16,
     "metadata": {},
     "output_type": "execute_result"
    }
   ],
   "source": [
    "math.gamma(24)"
   ]
  },
  {
   "cell_type": "code",
   "execution_count": 17,
   "id": "8c0f8a03",
   "metadata": {},
   "outputs": [
    {
     "data": {
      "text/plain": [
       "2.589306798584028e-20"
      ]
     },
     "execution_count": 17,
     "metadata": {},
     "output_type": "execute_result"
    }
   ],
   "source": [
    "gamma(24)"
   ]
  },
  {
   "cell_type": "markdown",
   "id": "a4e526e4",
   "metadata": {},
   "source": [
    "https://rosettacode.org/wiki/Gamma_function#Python"
   ]
  },
  {
   "cell_type": "code",
   "execution_count": null,
   "id": "61b34765",
   "metadata": {},
   "outputs": [],
   "source": []
  }
 ],
 "metadata": {
  "kernelspec": {
   "display_name": "Python 3 (ipykernel)",
   "language": "python",
   "name": "python3"
  },
  "language_info": {
   "codemirror_mode": {
    "name": "ipython",
    "version": 3
   },
   "file_extension": ".py",
   "mimetype": "text/x-python",
   "name": "python",
   "nbconvert_exporter": "python",
   "pygments_lexer": "ipython3",
   "version": "3.9.12"
  }
 },
 "nbformat": 4,
 "nbformat_minor": 5
}
