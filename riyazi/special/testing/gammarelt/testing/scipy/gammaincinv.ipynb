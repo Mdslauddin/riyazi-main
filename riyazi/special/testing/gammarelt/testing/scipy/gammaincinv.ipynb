{
 "cells": [
  {
   "cell_type": "markdown",
   "id": "a01f5237",
   "metadata": {},
   "source": [
    "### Inverse to the regularized lower incomplete gamma function."
   ]
  },
  {
   "cell_type": "code",
   "execution_count": 1,
   "id": "eccee3d6",
   "metadata": {},
   "outputs": [],
   "source": [
    "import scipy.special as sc"
   ]
  },
  {
   "cell_type": "code",
   "execution_count": 2,
   "id": "8aea3a48",
   "metadata": {},
   "outputs": [
    {
     "data": {
      "text/plain": [
       "array([0.        , 0.00789539, 0.22746821,        inf])"
      ]
     },
     "execution_count": 2,
     "metadata": {},
     "output_type": "execute_result"
    }
   ],
   "source": [
    "sc.gammaincinv(0.5, [0, 0.1 ,0.5, 1])"
   ]
  },
  {
   "cell_type": "code",
   "execution_count": 3,
   "id": "fce41381",
   "metadata": {},
   "outputs": [
    {
     "data": {
      "text/plain": [
       "array([0. , 0.1, 0.5, 1. ])"
      ]
     },
     "execution_count": 3,
     "metadata": {},
     "output_type": "execute_result"
    }
   ],
   "source": [
    "a, x = 0.5, [0, 0.1, 0.5, 1]\n",
    "sc.gammainc(a, sc.gammaincinv(a, x))"
   ]
  },
  {
   "cell_type": "code",
   "execution_count": 4,
   "id": "8be1db60",
   "metadata": {},
   "outputs": [
    {
     "data": {
      "text/plain": [
       "array([ 0.        , 10.        , 25.00001465])"
      ]
     },
     "execution_count": 4,
     "metadata": {},
     "output_type": "execute_result"
    }
   ],
   "source": [
    "a, x = 0.5, [0, 10, 25]\n",
    "sc.gammaincinv(a, sc.gammainc(a, x))"
   ]
  },
  {
   "cell_type": "code",
   "execution_count": null,
   "id": "daa9e531",
   "metadata": {},
   "outputs": [],
   "source": []
  }
 ],
 "metadata": {
  "kernelspec": {
   "display_name": "Python 3 (ipykernel)",
   "language": "python",
   "name": "python3"
  },
  "language_info": {
   "codemirror_mode": {
    "name": "ipython",
    "version": 3
   },
   "file_extension": ".py",
   "mimetype": "text/x-python",
   "name": "python",
   "nbconvert_exporter": "python",
   "pygments_lexer": "ipython3",
   "version": "3.9.12"
  }
 },
 "nbformat": 4,
 "nbformat_minor": 5
}
