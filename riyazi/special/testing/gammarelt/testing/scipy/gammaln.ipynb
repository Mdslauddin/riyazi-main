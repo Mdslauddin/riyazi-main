{
 "cells": [
  {
   "cell_type": "markdown",
   "id": "5189c2b2",
   "metadata": {},
   "source": [
    "### Logarithm of the absolute value of the gamma function."
   ]
  },
  {
   "cell_type": "code",
   "execution_count": 1,
   "id": "99e6744e",
   "metadata": {},
   "outputs": [],
   "source": [
    "import scipy.special as sc"
   ]
  },
  {
   "cell_type": "code",
   "execution_count": 2,
   "id": "8c05526b",
   "metadata": {},
   "outputs": [
    {
     "data": {
      "text/plain": [
       "array([0., 0.])"
      ]
     },
     "execution_count": 2,
     "metadata": {},
     "output_type": "execute_result"
    }
   ],
   "source": [
    "sc.gammaln([1, 2])"
   ]
  },
  {
   "cell_type": "code",
   "execution_count": 3,
   "id": "7bb3adba",
   "metadata": {},
   "outputs": [
    {
     "data": {
      "text/plain": [
       "array([inf, inf, inf, inf, inf])"
      ]
     },
     "execution_count": 3,
     "metadata": {},
     "output_type": "execute_result"
    }
   ],
   "source": [
    "sc.gammaln([0, -1, -2, -3, -4])"
   ]
  },
  {
   "cell_type": "code",
   "execution_count": 4,
   "id": "77c8c712",
   "metadata": {},
   "outputs": [
    {
     "data": {
      "text/plain": [
       "(array([2.20258509e+11, 4.50517019e+21, 9.11034037e+41, 1.83206807e+82]),\n",
       " array([2.30258509e+11, 4.60517019e+21, 9.21034037e+41, 1.84206807e+82]))"
      ]
     },
     "execution_count": 4,
     "metadata": {},
     "output_type": "execute_result"
    }
   ],
   "source": [
    "import numpy as np\n",
    "x = np.array([1e10, 1e20, 1e40, 1e80])\n",
    "sc.gammaln(x), x * np.log(x)"
   ]
  },
  {
   "cell_type": "code",
   "execution_count": 5,
   "id": "e5f013bd",
   "metadata": {},
   "outputs": [],
   "source": [
    "import math \n",
    "def gammaln(x):\n",
    "    return math.log(math.gamma(x))"
   ]
  },
  {
   "cell_type": "code",
   "execution_count": 7,
   "id": "65633460",
   "metadata": {},
   "outputs": [
    {
     "data": {
      "text/plain": [
       "160.3311282166309"
      ]
     },
     "execution_count": 7,
     "metadata": {},
     "output_type": "execute_result"
    }
   ],
   "source": [
    "gammaln(54)"
   ]
  },
  {
   "cell_type": "code",
   "execution_count": 8,
   "id": "83b8b70c",
   "metadata": {},
   "outputs": [
    {
     "data": {
      "text/plain": [
       "160.33112821663093"
      ]
     },
     "execution_count": 8,
     "metadata": {},
     "output_type": "execute_result"
    }
   ],
   "source": [
    "sc.gammaln(54)"
   ]
  },
  {
   "cell_type": "code",
   "execution_count": null,
   "id": "004948dd",
   "metadata": {},
   "outputs": [],
   "source": [
    "def gammaln(x):\n",
    "    return x*np.log(x)"
   ]
  },
  {
   "cell_type": "code",
   "execution_count": null,
   "id": "6c45d782",
   "metadata": {},
   "outputs": [],
   "source": [
    "gammaln(1e10)"
   ]
  },
  {
   "cell_type": "code",
   "execution_count": null,
   "id": "a0c83695",
   "metadata": {},
   "outputs": [],
   "source": []
  }
 ],
 "metadata": {
  "kernelspec": {
   "display_name": "Python 3 (ipykernel)",
   "language": "python",
   "name": "python3"
  },
  "language_info": {
   "codemirror_mode": {
    "name": "ipython",
    "version": 3
   },
   "file_extension": ".py",
   "mimetype": "text/x-python",
   "name": "python",
   "nbconvert_exporter": "python",
   "pygments_lexer": "ipython3",
   "version": "3.9.12"
  }
 },
 "nbformat": 4,
 "nbformat_minor": 5
}
