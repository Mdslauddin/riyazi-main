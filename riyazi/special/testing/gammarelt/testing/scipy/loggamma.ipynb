{
 "cells": [
  {
   "cell_type": "markdown",
   "id": "5e7720fa",
   "metadata": {},
   "source": [
    "### \tPrincipal branch of the logarithm of the gamma function."
   ]
  },
  {
   "cell_type": "code",
   "execution_count": 2,
   "id": "c31a987c",
   "metadata": {},
   "outputs": [],
   "source": [
    "import scipy.special as sc"
   ]
  },
  {
   "cell_type": "code",
   "execution_count": 3,
   "id": "8f29932f",
   "metadata": {},
   "outputs": [
    {
     "data": {
      "text/plain": [
       "1.791759469228055"
      ]
     },
     "execution_count": 3,
     "metadata": {},
     "output_type": "execute_result"
    }
   ],
   "source": [
    "sc.loggamma(4)"
   ]
  },
  {
   "cell_type": "code",
   "execution_count": 4,
   "id": "406c4a43",
   "metadata": {},
   "outputs": [],
   "source": [
    "import math \n",
    "def gammaln(x):\n",
    "    return math.log(math.gamma(x))"
   ]
  },
  {
   "cell_type": "code",
   "execution_count": 5,
   "id": "e8f0eb84",
   "metadata": {},
   "outputs": [
    {
     "data": {
      "text/plain": [
       "1.791759469228055"
      ]
     },
     "execution_count": 5,
     "metadata": {},
     "output_type": "execute_result"
    }
   ],
   "source": [
    "gammaln(4)"
   ]
  },
  {
   "cell_type": "code",
   "execution_count": null,
   "id": "d5ede090",
   "metadata": {},
   "outputs": [],
   "source": [
    "import math \n",
    "def loggamma(x):\n",
    "    return math.log(math.gamma(x))"
   ]
  }
 ],
 "metadata": {
  "kernelspec": {
   "display_name": "Python 3 (ipykernel)",
   "language": "python",
   "name": "python3"
  },
  "language_info": {
   "codemirror_mode": {
    "name": "ipython",
    "version": 3
   },
   "file_extension": ".py",
   "mimetype": "text/x-python",
   "name": "python",
   "nbconvert_exporter": "python",
   "pygments_lexer": "ipython3",
   "version": "3.9.12"
  }
 },
 "nbformat": 4,
 "nbformat_minor": 5
}
