{
 "cells": [
  {
   "cell_type": "code",
   "execution_count": 9,
   "id": "491d0341",
   "metadata": {},
   "outputs": [],
   "source": [
    "import scipy.special as sp "
   ]
  },
  {
   "cell_type": "code",
   "execution_count": 11,
   "id": "eea1b952",
   "metadata": {},
   "outputs": [
    {
     "data": {
      "text/plain": [
       "(0.9227843350984671, 1.5061176684318003, 2.1406414779556098, nan)"
      ]
     },
     "execution_count": 11,
     "metadata": {},
     "output_type": "execute_result"
    }
   ],
   "source": [
    "sp.digamma(3), sp.digamma(5), sp.digamma(9), sp.digamma(-2)"
   ]
  },
  {
   "cell_type": "code",
   "execution_count": 3,
   "id": "f9f7344b",
   "metadata": {},
   "outputs": [],
   "source": [
    "from math import log,gamma\n",
    "def digamma(x):\n",
    "    gm = gamma(x+1)/gamma(x)\n",
    "    return log(gm)"
   ]
  },
  {
   "cell_type": "code",
   "execution_count": 4,
   "id": "e096a563",
   "metadata": {},
   "outputs": [
    {
     "data": {
      "text/plain": [
       "(1.0986122886681098, 1.6094379124341003, 2.1972245773362196)"
      ]
     },
     "execution_count": 4,
     "metadata": {},
     "output_type": "execute_result"
    }
   ],
   "source": [
    "digamma(3), digamma(5), digamma(9)"
   ]
  },
  {
   "cell_type": "code",
   "execution_count": 10,
   "id": "5bc21725",
   "metadata": {},
   "outputs": [
    {
     "data": {
      "text/plain": [
       "3.0"
      ]
     },
     "execution_count": 10,
     "metadata": {},
     "output_type": "execute_result"
    }
   ],
   "source": [
    "gamma(3+1) /gamma(3)"
   ]
  },
  {
   "cell_type": "code",
   "execution_count": 11,
   "id": "ad7debaf",
   "metadata": {},
   "outputs": [
    {
     "data": {
      "text/plain": [
       "1.0986122886681098"
      ]
     },
     "execution_count": 11,
     "metadata": {},
     "output_type": "execute_result"
    }
   ],
   "source": [
    "log(3)"
   ]
  },
  {
   "cell_type": "code",
   "execution_count": 12,
   "id": "e98fd96d",
   "metadata": {},
   "outputs": [
    {
     "data": {
      "text/plain": [
       "6.0"
      ]
     },
     "execution_count": 12,
     "metadata": {},
     "output_type": "execute_result"
    }
   ],
   "source": [
    "3*gamma(3)"
   ]
  },
  {
   "cell_type": "code",
   "execution_count": 5,
   "id": "57dd892d",
   "metadata": {},
   "outputs": [],
   "source": [
    "from math import log,gamma\n",
    "def digamma(x):\n",
    "    return log(gamma(x))"
   ]
  },
  {
   "cell_type": "code",
   "execution_count": 6,
   "id": "026afe20",
   "metadata": {},
   "outputs": [
    {
     "data": {
      "text/plain": [
       "(0.6931471805599453, 3.1780538303479458, 10.60460290274525)"
      ]
     },
     "execution_count": 6,
     "metadata": {},
     "output_type": "execute_result"
    }
   ],
   "source": [
    "digamma(3), digamma(5), digamma(9)"
   ]
  },
  {
   "cell_type": "code",
   "execution_count": 7,
   "id": "dc1663ac",
   "metadata": {},
   "outputs": [
    {
     "data": {
      "text/plain": [
       "0.0"
      ]
     },
     "execution_count": 7,
     "metadata": {},
     "output_type": "execute_result"
    }
   ],
   "source": [
    "digamma(1)"
   ]
  },
  {
   "cell_type": "code",
   "execution_count": 8,
   "id": "8edf21f1",
   "metadata": {},
   "outputs": [
    {
     "name": "stdout",
     "output_type": "stream",
     "text": [
      "0.0\n",
      "0.0\n",
      "0.6931471805599453\n"
     ]
    }
   ],
   "source": [
    "import math\n",
    "\n",
    "def digamma(x):\n",
    "    return math.log(math.gamma(x))\n",
    "\n",
    "print(digamma(1))  # prints -0.5772156649015329\n",
    "print(digamma(2))  # prints 0.4227843350984673\n",
    "print(digamma(3))  # prints 0.9227843350984673\n"
   ]
  },
  {
   "cell_type": "code",
   "execution_count": 12,
   "id": "73c8cf9b",
   "metadata": {},
   "outputs": [
    {
     "name": "stdout",
     "output_type": "stream",
     "text": [
      "6.256475994967097\n",
      "7.256475994967096\n",
      "7.756475994967096\n"
     ]
    }
   ],
   "source": [
    "import math\n",
    "\n",
    "def digamma(x):\n",
    "    if x <= 0:\n",
    "        raise ValueError(\"x must be positive\")\n",
    "\n",
    "    # constants for the Lanczos approximation\n",
    "    g = 7\n",
    "    p = [0.99999999999980993, 676.5203681218851, -1259.1392167224028,\n",
    "       771.32342877765313, -176.61502916214059, 12.507343278686905,\n",
    "       -0.13857109526572012, 9.9843695780195716e-6, 1.5056327351493116e-7]\n",
    "\n",
    "    # use the Lanczos approximation\n",
    "    y = x\n",
    "    n = 0\n",
    "    sum = 0\n",
    "    while y < g:\n",
    "        sum += 1 / y\n",
    "        y += 1\n",
    "    z = y - 0.5\n",
    "    r = 0\n",
    "    for n in range(len(p) - 1, -1, -1):\n",
    "        r += p[n] / (y + n)\n",
    "    return math.log(z) - 0.5 / z + r - sum\n",
    "\n",
    "print(digamma(1))  # prints -0.5772156649015329\n",
    "print(digamma(2))  # prints 0.4227843350984673\n",
    "print(digamma(3))  # prints 0.9227843350984673\n"
   ]
  },
  {
   "cell_type": "code",
   "execution_count": 13,
   "id": "bdcef2b1",
   "metadata": {},
   "outputs": [
    {
     "data": {
      "text/plain": [
       "-0.5772156649015329"
      ]
     },
     "execution_count": 13,
     "metadata": {},
     "output_type": "execute_result"
    }
   ],
   "source": [
    "sp.digamma(1)"
   ]
  },
  {
   "cell_type": "code",
   "execution_count": null,
   "id": "ce29b797",
   "metadata": {},
   "outputs": [],
   "source": [
    "import math\n",
    "\n",
    "def digamma(x):\n",
    "    if x <= 0:\n",
    "        raise ValueError(\"x must be positive\")\n",
    "\n",
    "    # use the asymptotic expansion for large x\n",
    "    if x > 10:\n",
    "        y = 1 / x\n",
    "        return math.log(x) - 0.5 * y - y * (1 + y * (1 / 3 + y * (1 / 4 - y / 5)))\n",
    "    else:\n",
    "    # use the recursion formula for small x\n",
    "    y = 0\n",
    "    while x < 10:\n",
    "      y -= 1 / x\n",
    "      x += 1\n",
    "    return digamma(x) + y\n",
    "\n",
    "print(digamma(1))  # prints -0.5772156649015329\n",
    "print(digamma(2))  # prints 0.4227843350984673\n",
    "print(digamma(3))  # prints 0.9227843350984673\n"
   ]
  },
  {
   "cell_type": "code",
   "execution_count": 14,
   "id": "9823639a",
   "metadata": {},
   "outputs": [],
   "source": [
    "import math\n",
    "def digamma(x):\n",
    "    if x<=0:\n",
    "        raise ValueError('x')\n",
    "    if x>10:\n",
    "        y=1/x\n",
    "        return math.log(x) - 0.5 * y - y * (1 + y * (1 / 3 + y * (1 / 4 - y / 5)))\n",
    "    else:\n",
    "        y=0\n",
    "        while x<10:\n",
    "            y -=1/x\n",
    "            x +=1\n",
    "        return digamma(x)+y"
   ]
  },
  {
   "cell_type": "code",
   "execution_count": null,
   "id": "1d681bb7",
   "metadata": {},
   "outputs": [],
   "source": [
    "digamma(1)"
   ]
  },
  {
   "cell_type": "code",
   "execution_count": null,
   "id": "448e5047",
   "metadata": {},
   "outputs": [],
   "source": []
  }
 ],
 "metadata": {
  "kernelspec": {
   "display_name": "Python 3 (ipykernel)",
   "language": "python",
   "name": "python3"
  },
  "language_info": {
   "codemirror_mode": {
    "name": "ipython",
    "version": 3
   },
   "file_extension": ".py",
   "mimetype": "text/x-python",
   "name": "python",
   "nbconvert_exporter": "python",
   "pygments_lexer": "ipython3",
   "version": "3.9.12"
  }
 },
 "nbformat": 4,
 "nbformat_minor": 5
}
