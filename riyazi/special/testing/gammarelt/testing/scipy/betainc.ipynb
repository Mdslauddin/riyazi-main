{
 "cells": [
  {
   "cell_type": "code",
   "execution_count": 1,
   "id": "98498121",
   "metadata": {},
   "outputs": [],
   "source": [
    "import scipy.special as sp "
   ]
  },
  {
   "cell_type": "code",
   "execution_count": 3,
   "id": "c12c4c74",
   "metadata": {},
   "outputs": [
    {
     "data": {
      "text/plain": [
       "(nan, nan)"
      ]
     },
     "execution_count": 3,
     "metadata": {},
     "output_type": "execute_result"
    }
   ],
   "source": [
    "sp.betainc(2,4,5),sp.betainc(4,3,5)"
   ]
  },
  {
   "cell_type": "code",
   "execution_count": 4,
   "id": "eba1ddf3",
   "metadata": {},
   "outputs": [
    {
     "data": {
      "text/plain": [
       "nan"
      ]
     },
     "execution_count": 4,
     "metadata": {},
     "output_type": "execute_result"
    }
   ],
   "source": [
    "sp.betainc(9,8,2)"
   ]
  },
  {
   "cell_type": "code",
   "execution_count": 5,
   "id": "b51fa68e",
   "metadata": {
    "scrolled": false
   },
   "outputs": [
    {
     "data": {
      "text/plain": [
       "0.8148904036225296"
      ]
     },
     "execution_count": 5,
     "metadata": {},
     "output_type": "execute_result"
    }
   ],
   "source": [
    "a, b, x = 1.4, 3.1, 0.5\n",
    "sp.betainc(a,b,x)"
   ]
  },
  {
   "cell_type": "code",
   "execution_count": 6,
   "id": "15d30551",
   "metadata": {},
   "outputs": [],
   "source": [
    "import mpmath as mp"
   ]
  },
  {
   "cell_type": "code",
   "execution_count": 15,
   "id": "c5575676",
   "metadata": {},
   "outputs": [],
   "source": [
    "def betainc(z,a,b):\n",
    "    return (pow(z,a)/a )* (mp.hyp2f1(a,1-b,a+1,z))"
   ]
  },
  {
   "cell_type": "code",
   "execution_count": 16,
   "id": "270211e6",
   "metadata": {
    "scrolled": true
   },
   "outputs": [
    {
     "data": {
      "text/plain": [
       "mpf('-37665880.875')"
      ]
     },
     "execution_count": 16,
     "metadata": {},
     "output_type": "execute_result"
    }
   ],
   "source": [
    "betainc(9,8,2)"
   ]
  },
  {
   "cell_type": "code",
   "execution_count": 17,
   "id": "cba61f79",
   "metadata": {
    "scrolled": false
   },
   "outputs": [
    {
     "data": {
      "text/plain": [
       "mpc(real='1.0479299243889575', imag='-1.6662546991986491')"
      ]
     },
     "execution_count": 17,
     "metadata": {},
     "output_type": "execute_result"
    }
   ],
   "source": [
    "betainc(a,b,x)"
   ]
  },
  {
   "cell_type": "code",
   "execution_count": 23,
   "id": "e19cef2f",
   "metadata": {},
   "outputs": [
    {
     "data": {
      "text/plain": [
       "(0.9154512389325867, mpf('1.1447140817798669'))"
      ]
     },
     "execution_count": 23,
     "metadata": {},
     "output_type": "execute_result"
    }
   ],
   "source": [
    "z ,a, b = 1.4,3.1,0.5 \n",
    "(z**a)/a, mp.hyp2f1(a,1-b,a+1,z).real"
   ]
  },
  {
   "cell_type": "code",
   "execution_count": 21,
   "id": "e8b3fc02",
   "metadata": {},
   "outputs": [
    {
     "data": {
      "text/plain": [
       "1.0479299243889575"
      ]
     },
     "execution_count": 21,
     "metadata": {},
     "output_type": "execute_result"
    }
   ],
   "source": [
    "0.9154512389325867*1.1447140817798669"
   ]
  },
  {
   "cell_type": "code",
   "execution_count": 34,
   "id": "3614fefc",
   "metadata": {},
   "outputs": [],
   "source": [
    "def betainc(x,a,b):\n",
    "    return (pow(x,a)*mp.hyp2f1(a,1-b,a+1,x).real)/ (a*mp.beta(a,b))"
   ]
  },
  {
   "cell_type": "code",
   "execution_count": 35,
   "id": "f55f625a",
   "metadata": {},
   "outputs": [
    {
     "data": {
      "text/plain": [
       "mpf('1.0000000000000002')"
      ]
     },
     "execution_count": 35,
     "metadata": {},
     "output_type": "execute_result"
    }
   ],
   "source": [
    "betainc(a,b,x)"
   ]
  },
  {
   "cell_type": "code",
   "execution_count": null,
   "id": "c0ff2a81",
   "metadata": {},
   "outputs": [],
   "source": []
  }
 ],
 "metadata": {
  "kernelspec": {
   "display_name": "Python 3 (ipykernel)",
   "language": "python",
   "name": "python3"
  },
  "language_info": {
   "codemirror_mode": {
    "name": "ipython",
    "version": 3
   },
   "file_extension": ".py",
   "mimetype": "text/x-python",
   "name": "python",
   "nbconvert_exporter": "python",
   "pygments_lexer": "ipython3",
   "version": "3.9.12"
  }
 },
 "nbformat": 4,
 "nbformat_minor": 5
}
