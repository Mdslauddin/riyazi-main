{
 "cells": [
  {
   "cell_type": "code",
   "execution_count": 1,
   "id": "7e501ce7",
   "metadata": {},
   "outputs": [],
   "source": [
    "import scipy.special as sc"
   ]
  },
  {
   "cell_type": "code",
   "execution_count": 2,
   "id": "6f7bf91a",
   "metadata": {},
   "outputs": [
    {
     "data": {
      "text/plain": [
       "0.08333333333333333"
      ]
     },
     "execution_count": 2,
     "metadata": {},
     "output_type": "execute_result"
    }
   ],
   "source": [
    "sc.beta(2, 3)"
   ]
  },
  {
   "cell_type": "code",
   "execution_count": 3,
   "id": "2a36b409",
   "metadata": {},
   "outputs": [
    {
     "data": {
      "text/plain": [
       "0.08333333333333333"
      ]
     },
     "execution_count": 3,
     "metadata": {},
     "output_type": "execute_result"
    }
   ],
   "source": [
    "sc.gamma(2)*sc.gamma(3)/sc.gamma(2 + 3)"
   ]
  },
  {
   "cell_type": "code",
   "execution_count": 4,
   "id": "7a6f45b5",
   "metadata": {},
   "outputs": [
    {
     "data": {
      "text/plain": [
       "0.16567527689031739"
      ]
     },
     "execution_count": 4,
     "metadata": {},
     "output_type": "execute_result"
    }
   ],
   "source": [
    "sc.beta(1.7, 2.4)"
   ]
  },
  {
   "cell_type": "code",
   "execution_count": 5,
   "id": "1aeb74c8",
   "metadata": {},
   "outputs": [
    {
     "data": {
      "text/plain": [
       "0.16567527689031739"
      ]
     },
     "execution_count": 5,
     "metadata": {},
     "output_type": "execute_result"
    }
   ],
   "source": [
    "sc.beta(2.4, 1.7)"
   ]
  },
  {
   "cell_type": "code",
   "execution_count": null,
   "id": "34e5993e",
   "metadata": {},
   "outputs": [],
   "source": []
  }
 ],
 "metadata": {
  "kernelspec": {
   "display_name": "Python 3 (ipykernel)",
   "language": "python",
   "name": "python3"
  },
  "language_info": {
   "codemirror_mode": {
    "name": "ipython",
    "version": 3
   },
   "file_extension": ".py",
   "mimetype": "text/x-python",
   "name": "python",
   "nbconvert_exporter": "python",
   "pygments_lexer": "ipython3",
   "version": "3.9.12"
  }
 },
 "nbformat": 4,
 "nbformat_minor": 5
}
