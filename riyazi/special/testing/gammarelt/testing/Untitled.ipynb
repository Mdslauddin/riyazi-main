{
 "cells": [
  {
   "cell_type": "code",
   "execution_count": 1,
   "id": "98a79542",
   "metadata": {},
   "outputs": [],
   "source": [
    "import math\n",
    "\n",
    "from numpy import inf\n",
    "from scipy.integrate import quad\n",
    "\n",
    "\n",
    "def gamma(num: float) -> float:\n",
    "    \"\"\"\n",
    "    https://en.wikipedia.org/wiki/Gamma_function\n",
    "    In mathematics, the gamma function is one commonly\n",
    "    used extension of the factorial function to complex numbers.\n",
    "    The gamma function is defined for all complex numbers except the non-positive\n",
    "    integers\n",
    "    >>> gamma(-1)\n",
    "    Traceback (most recent call last):\n",
    "        ...\n",
    "    ValueError: math domain error\n",
    "    >>> gamma(0)\n",
    "    Traceback (most recent call last):\n",
    "        ...\n",
    "    ValueError: math domain error\n",
    "    >>> gamma(9)\n",
    "    40320.0\n",
    "    >>> from math import gamma as math_gamma\n",
    "    >>> all(.99999999 < gamma(i) / math_gamma(i) <= 1.000000001\n",
    "    ...     for i in range(1, 50))\n",
    "    True\n",
    "    >>> from math import gamma as math_gamma\n",
    "    >>> gamma(-1)/math_gamma(-1) <= 1.000000001\n",
    "    Traceback (most recent call last):\n",
    "        ...\n",
    "    ValueError: math domain error\n",
    "    >>> from math import gamma as math_gamma\n",
    "    >>> gamma(3.3) - math_gamma(3.3) <= 0.00000001\n",
    "    True\n",
    "    \"\"\"\n",
    "\n",
    "    if num <= 0:\n",
    "        raise ValueError(\"math domain error\")\n",
    "\n",
    "    return quad(integrand, 0, inf, args=(num))[0]\n",
    "\n",
    "\n",
    "def integrand(x: float, z: float) -> float:\n",
    "    return math.pow(x, z - 1) * math.exp(-x)\n",
    "\n",
    "\n",
    "\n",
    "if __name__ == \"__main__\":\n",
    "    from doctest import testmod\n",
    "\n",
    "    testmod()"
   ]
  },
  {
   "cell_type": "code",
   "execution_count": 2,
   "id": "eb07922c",
   "metadata": {},
   "outputs": [
    {
     "data": {
      "text/plain": [
       "24.0"
      ]
     },
     "execution_count": 2,
     "metadata": {},
     "output_type": "execute_result"
    }
   ],
   "source": [
    "gamma(5)"
   ]
  },
  {
   "cell_type": "code",
   "execution_count": 3,
   "id": "9cfbe796",
   "metadata": {},
   "outputs": [
    {
     "data": {
      "text/plain": [
       "24.0"
      ]
     },
     "execution_count": 3,
     "metadata": {},
     "output_type": "execute_result"
    }
   ],
   "source": [
    "math.gamma(5)"
   ]
  },
  {
   "cell_type": "code",
   "execution_count": 8,
   "id": "5ed1c4e0",
   "metadata": {},
   "outputs": [
    {
     "data": {
      "text/plain": [
       "40320.0"
      ]
     },
     "execution_count": 8,
     "metadata": {},
     "output_type": "execute_result"
    }
   ],
   "source": [
    "math.gamma(9)"
   ]
  },
  {
   "cell_type": "code",
   "execution_count": 7,
   "id": "85d48f3b",
   "metadata": {
    "scrolled": true
   },
   "outputs": [
    {
     "data": {
      "text/plain": [
       "40320.0"
      ]
     },
     "execution_count": 7,
     "metadata": {},
     "output_type": "execute_result"
    }
   ],
   "source": [
    "gamma(9)"
   ]
  },
  {
   "cell_type": "code",
   "execution_count": null,
   "id": "70fffdf8",
   "metadata": {},
   "outputs": [],
   "source": []
  }
 ],
 "metadata": {
  "kernelspec": {
   "display_name": "Python 3 (ipykernel)",
   "language": "python",
   "name": "python3"
  },
  "language_info": {
   "codemirror_mode": {
    "name": "ipython",
    "version": 3
   },
   "file_extension": ".py",
   "mimetype": "text/x-python",
   "name": "python",
   "nbconvert_exporter": "python",
   "pygments_lexer": "ipython3",
   "version": "3.9.12"
  }
 },
 "nbformat": 4,
 "nbformat_minor": 5
}
