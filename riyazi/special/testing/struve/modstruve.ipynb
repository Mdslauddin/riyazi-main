{
 "cells": [
  {
   "cell_type": "code",
   "execution_count": 1,
   "id": "2eb9d75e",
   "metadata": {},
   "outputs": [],
   "source": [
    "from math import gamma\n",
    "\n",
    "def modstruve(v,x):\n",
    "    res = 0\n",
    "    for k in range(10):\n",
    "        res += ( pow(x/2,v+1)) * (pow(x/2,2*k) )/ (gamma(k+(3/2))*gamma(k+v+(3/2)))\n",
    "    return res"
   ]
  },
  {
   "cell_type": "code",
   "execution_count": null,
   "id": "3526727d",
   "metadata": {},
   "outputs": [],
   "source": []
  }
 ],
 "metadata": {
  "kernelspec": {
   "display_name": "Python 3 (ipykernel)",
   "language": "python",
   "name": "python3"
  },
  "language_info": {
   "codemirror_mode": {
    "name": "ipython",
    "version": 3
   },
   "file_extension": ".py",
   "mimetype": "text/x-python",
   "name": "python",
   "nbconvert_exporter": "python",
   "pygments_lexer": "ipython3",
   "version": "3.9.12"
  }
 },
 "nbformat": 4,
 "nbformat_minor": 5
}
