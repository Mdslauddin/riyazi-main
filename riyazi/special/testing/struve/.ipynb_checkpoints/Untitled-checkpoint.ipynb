{
 "cells": [
  {
   "cell_type": "code",
   "execution_count": 1,
   "id": "ba5e5fb1",
   "metadata": {},
   "outputs": [],
   "source": [
    "import scipy.special as sp"
   ]
  },
  {
   "cell_type": "code",
   "execution_count": 2,
   "id": "278f8449",
   "metadata": {},
   "outputs": [
    {
     "data": {
      "text/plain": [
       "0.30109042670805547"
      ]
     },
     "execution_count": 2,
     "metadata": {},
     "output_type": "execute_result"
    }
   ],
   "source": [
    "sp.itstruve0(1)"
   ]
  },
  {
   "cell_type": "code",
   "execution_count": null,
   "id": "2eac56dc",
   "metadata": {},
   "outputs": [],
   "source": [
    "import math"
   ]
  },
  {
   "cell_type": "code",
   "execution_count": null,
   "id": "a35a8225",
   "metadata": {},
   "outputs": [],
   "source": [
    "math.pi/2"
   ]
  },
  {
   "cell_type": "code",
   "execution_count": null,
   "id": "96f8774e",
   "metadata": {},
   "outputs": [],
   "source": [
    "math.pi*0.5"
   ]
  },
  {
   "cell_type": "code",
   "execution_count": null,
   "id": "c0742a18",
   "metadata": {},
   "outputs": [],
   "source": []
  },
  {
   "cell_type": "code",
   "execution_count": null,
   "id": "e9c59dfc",
   "metadata": {},
   "outputs": [],
   "source": []
  },
  {
   "cell_type": "code",
   "execution_count": null,
   "id": "2c407c4c",
   "metadata": {},
   "outputs": [],
   "source": []
  },
  {
   "cell_type": "code",
   "execution_count": null,
   "id": "7762fd47",
   "metadata": {},
   "outputs": [],
   "source": []
  },
  {
   "cell_type": "code",
   "execution_count": null,
   "id": "ee643c25",
   "metadata": {},
   "outputs": [],
   "source": []
  },
  {
   "cell_type": "code",
   "execution_count": null,
   "id": "ede64248",
   "metadata": {},
   "outputs": [],
   "source": []
  },
  {
   "cell_type": "code",
   "execution_count": null,
   "id": "f407a22f",
   "metadata": {},
   "outputs": [],
   "source": []
  },
  {
   "cell_type": "code",
   "execution_count": null,
   "id": "8745747a",
   "metadata": {},
   "outputs": [],
   "source": []
  },
  {
   "cell_type": "code",
   "execution_count": null,
   "id": "ac4a7eea",
   "metadata": {},
   "outputs": [],
   "source": []
  },
  {
   "cell_type": "code",
   "execution_count": null,
   "id": "224e5eb1",
   "metadata": {},
   "outputs": [],
   "source": [
    "sp.struve(3,5)"
   ]
  },
  {
   "cell_type": "code",
   "execution_count": null,
   "id": "e643c010",
   "metadata": {},
   "outputs": [],
   "source": [
    "sp.struve(9,3)"
   ]
  },
  {
   "cell_type": "code",
   "execution_count": null,
   "id": "1a84870d",
   "metadata": {},
   "outputs": [],
   "source": [
    "sp.modstruve(3,5)"
   ]
  },
  {
   "cell_type": "code",
   "execution_count": null,
   "id": "045fabd3",
   "metadata": {},
   "outputs": [],
   "source": [
    "from math import gamma\n",
    "def modstruve(v,x):\n",
    "    res = 0\n",
    "    for k in range(20):\n",
    "        res += (pow(x/2,v+1)) * (pow(x/2,2*k)) / (gamma(k+(3/2)) * gamma(k+v+(3/2)))\n",
    "    return res"
   ]
  },
  {
   "cell_type": "code",
   "execution_count": null,
   "id": "05ae5a7b",
   "metadata": {},
   "outputs": [],
   "source": [
    "from math import gamma\n",
    "\n",
    "def modstruve(v,x):\n",
    "    res = 0\n",
    "    for k in range(10):\n",
    "        res += ( pow(x/2,v+1)) * (pow(x/2,2*k) )/ (gamma(k+(3/2))*gamma(k+v+(3/2)))\n",
    "    return res"
   ]
  },
  {
   "cell_type": "code",
   "execution_count": null,
   "id": "919d156f",
   "metadata": {},
   "outputs": [],
   "source": [
    "modstruve(3,5)"
   ]
  },
  {
   "cell_type": "code",
   "execution_count": null,
   "id": "80c3c4a5",
   "metadata": {},
   "outputs": [],
   "source": [
    "modstruve(3,5)"
   ]
  },
  {
   "cell_type": "code",
   "execution_count": null,
   "id": "bd90ff40",
   "metadata": {},
   "outputs": [],
   "source": [
    "import scipy"
   ]
  },
  {
   "cell_type": "code",
   "execution_count": null,
   "id": "3db4d1c4",
   "metadata": {},
   "outputs": [],
   "source": []
  },
  {
   "cell_type": "code",
   "execution_count": null,
   "id": "e19425bd",
   "metadata": {},
   "outputs": [],
   "source": [
    "import math\n",
    "from math import pi\n",
    "def struve(v,x):\n",
    "    # return (4*pow((x/2),v+1)) / (math.sqrt(pi)*math.gamma(v+0.5))\n"
   ]
  },
  {
   "cell_type": "code",
   "execution_count": null,
   "id": "de3e9e32",
   "metadata": {},
   "outputs": [],
   "source": [
    "struve(3,5)"
   ]
  },
  {
   "cell_type": "code",
   "execution_count": null,
   "id": "90153937",
   "metadata": {},
   "outputs": [],
   "source": [
    "sp.struve(4,8)"
   ]
  },
  {
   "cell_type": "code",
   "execution_count": null,
   "id": "c1d3d76f",
   "metadata": {},
   "outputs": [],
   "source": [
    "struve(4,8)"
   ]
  },
  {
   "cell_type": "code",
   "execution_count": null,
   "id": "381073f2",
   "metadata": {},
   "outputs": [],
   "source": [
    "struve(5,3)"
   ]
  },
  {
   "cell_type": "code",
   "execution_count": null,
   "id": "5229c54f",
   "metadata": {},
   "outputs": [],
   "source": [
    "4*pow(5/2,3+1),math.sqrt(pi)*math.gamma(5+0.5)"
   ]
  },
  {
   "cell_type": "code",
   "execution_count": null,
   "id": "5abde101",
   "metadata": {},
   "outputs": [],
   "source": [
    "156/ 92"
   ]
  },
  {
   "cell_type": "code",
   "execution_count": null,
   "id": "b5aa5b82",
   "metadata": {},
   "outputs": [],
   "source": [
    "4*((5/2)**(3+1))"
   ]
  },
  {
   "cell_type": "code",
   "execution_count": null,
   "id": "7652e5cc",
   "metadata": {},
   "outputs": [],
   "source": [
    "from math import gamma"
   ]
  },
  {
   "cell_type": "code",
   "execution_count": null,
   "id": "cfad5791",
   "metadata": {},
   "outputs": [],
   "source": [
    "def struve(v,x):\n",
    "    res = 0\n",
    "    for k in range(20):\n",
    "        res +=(pow(x/2,v+1)) * ( pow(-1,k)*pow(x/2,2*k)) / (gamma(k+(3/2)) * gamma(k+v+(3/2)))\n",
    "    return res"
   ]
  },
  {
   "cell_type": "code",
   "execution_count": null,
   "id": "2a313c07",
   "metadata": {},
   "outputs": [],
   "source": [
    "struve(3,5)"
   ]
  },
  {
   "cell_type": "code",
   "execution_count": null,
   "id": "01333f27",
   "metadata": {},
   "outputs": [],
   "source": [
    "struve(9,3)"
   ]
  },
  {
   "cell_type": "code",
   "execution_count": null,
   "id": "d81b0734",
   "metadata": {},
   "outputs": [],
   "source": []
  },
  {
   "cell_type": "code",
   "execution_count": null,
   "id": "24ee1829",
   "metadata": {},
   "outputs": [],
   "source": [
    "gamma(1+(3/2))*gamma(0+3+(3/2))"
   ]
  },
  {
   "cell_type": "code",
   "execution_count": null,
   "id": "b2a765c1",
   "metadata": {},
   "outputs": [],
   "source": []
  }
 ],
 "metadata": {
  "kernelspec": {
   "display_name": "Python 3 (ipykernel)",
   "language": "python",
   "name": "python3"
  },
  "language_info": {
   "codemirror_mode": {
    "name": "ipython",
    "version": 3
   },
   "file_extension": ".py",
   "mimetype": "text/x-python",
   "name": "python",
   "nbconvert_exporter": "python",
   "pygments_lexer": "ipython3",
   "version": "3.9.12"
  }
 },
 "nbformat": 4,
 "nbformat_minor": 5
}
