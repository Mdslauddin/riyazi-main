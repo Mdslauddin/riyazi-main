{
 "cells": [
  {
   "cell_type": "markdown",
   "id": "b1cf7729",
   "metadata": {},
   "source": [
    "Airy functions\n",
    "airy(z[, out])\n",
    "\n",
    "Airy functions and their derivatives.\n",
    "\n",
    "airye(z[, out])\n",
    "\n",
    "Exponentially scaled Airy functions and their derivatives.\n",
    "\n",
    "ai_zeros(nt)\n",
    "\n",
    "Compute nt zeros and values of the Airy function Ai and its derivative.\n",
    "\n",
    "bi_zeros(nt)\n",
    "\n",
    "Compute nt zeros and values of the Airy function Bi and its derivative.\n",
    "\n",
    "itairy(x[, out])\n",
    "\n",
    "Integrals of Airy functions"
   ]
  },
  {
   "cell_type": "markdown",
   "id": "a5aa6ce7",
   "metadata": {},
   "source": [
    "# [wiki](https://en.wikipedia.org/wiki/Airy_function#:~:text=In%20the%20physical%20sciences%2C%20the%20Airy%20function%20%28or,are%20linearly%20independent%20solutions%20to%20the%20differential%20equation)"
   ]
  },
  {
   "cell_type": "markdown",
   "id": "b8b72b96",
   "metadata": {},
   "source": [
    "# [List of mathematical functions](https://en.wikipedia.org/wiki/List_of_mathematical_functions)"
   ]
  },
  {
   "cell_type": "markdown",
   "id": "ec132836",
   "metadata": {},
   "source": [
    "# [special function](https://en.wikipedia.org/wiki/Special_functions)"
   ]
  },
  {
   "cell_type": "code",
   "execution_count": null,
   "id": "d7403c0a",
   "metadata": {},
   "outputs": [],
   "source": [
    "s"
   ]
  }
 ],
 "metadata": {
  "kernelspec": {
   "display_name": "Python 3 (ipykernel)",
   "language": "python",
   "name": "python3"
  },
  "language_info": {
   "codemirror_mode": {
    "name": "ipython",
    "version": 3
   },
   "file_extension": ".py",
   "mimetype": "text/x-python",
   "name": "python",
   "nbconvert_exporter": "python",
   "pygments_lexer": "ipython3",
   "version": "3.9.12"
  }
 },
 "nbformat": 4,
 "nbformat_minor": 5
}
