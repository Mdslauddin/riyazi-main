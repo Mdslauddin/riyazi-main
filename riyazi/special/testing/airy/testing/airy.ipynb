{
 "cells": [
  {
   "cell_type": "raw",
   "id": "08d89d95",
   "metadata": {},
   "source": [
    "#https://www.johndcook.com/blog/2013/09/01/relating-airy-and-bessel-functions/"
   ]
  },
  {
   "cell_type": "code",
   "execution_count": 1,
   "id": "5b7d3abb",
   "metadata": {},
   "outputs": [],
   "source": [
    "from scipy.special import airy, jv, iv\n",
    "from numpy import sqrt, where\n",
    "\n",
    "def Ai(x):\n",
    "    (ai, ai_prime, bi, bi_prime) = airy(x)\n",
    "    return ai\n",
    "\n",
    "def Bi(x):\n",
    "    (ai, ai_prime, bi, bi_prime) = airy(x)\n",
    "    return bi\n",
    "\n",
    "def Ai2(x):\n",
    "    third = 1.0/3.0\n",
    "    hatx = 2*third*(abs(x))**1.5\n",
    "    return where(x > 0,\n",
    "        third*sqrt( x)*(iv(-third, hatx) - iv(third, hatx)),\n",
    "        third*sqrt(-x)*(jv(-third, hatx) + jv(third, hatx)))\n",
    "\n",
    "def Bi2(x):\n",
    "    third = 1.0/3.0\n",
    "    hatx = 2*third*(abs(x))**1.5\n",
    "    return where(x > 0,\n",
    "        sqrt( x/3.0)*(iv(-third, hatx) + iv(third, hatx)),\n",
    "        sqrt(-x/3.0)*(jv(-third, hatx) - jv(third, hatx)))"
   ]
  },
  {
   "cell_type": "code",
   "execution_count": null,
   "id": "d8b8d824",
   "metadata": {},
   "outputs": [],
   "source": [
    "from scipy.special import airy"
   ]
  },
  {
   "cell_type": "code",
   "execution_count": null,
   "id": "d2426f10",
   "metadata": {},
   "outputs": [],
   "source": [
    "airy()"
   ]
  },
  {
   "cell_type": "code",
   "execution_count": null,
   "id": "5ae2cadb",
   "metadata": {},
   "outputs": [],
   "source": [
    "from scipy import special\n",
    "import numpy as  np\n",
    "x = np.linspace(-15, 5, 201)\n",
    "ai, aip, bi, bip = special.airy(x)"
   ]
  },
  {
   "cell_type": "code",
   "execution_count": null,
   "id": "bd2d81ec",
   "metadata": {},
   "outputs": [],
   "source": [
    "import matplotlib.pyplot as plt\n",
    "plt.plot(x, ai, 'r', label='Ai(x)')\n",
    "plt.plot(x, bi, 'b--', label='Bi(x)')\n",
    "plt.ylim(-0.5, 1.0)\n",
    "plt.grid()\n",
    "plt.legend(loc='upper left')\n",
    "plt.show()"
   ]
  },
  {
   "cell_type": "markdown",
   "id": "e78c2a5e",
   "metadata": {},
   "source": [
    "https://functions.wolfram.com/Bessel-TypeFunctions/AiryAiPrime/introductions/Airys/ShowAll.html#:~:text=The%20Airy%20functions%20and%2C%20and%20their%20derivatives%20and,functions%20with%20an%20essential%20singular%20point%20at.%20Periodicity"
   ]
  },
  {
   "cell_type": "code",
   "execution_count": null,
   "id": "093a435b",
   "metadata": {},
   "outputs": [],
   "source": []
  }
 ],
 "metadata": {
  "kernelspec": {
   "display_name": "Python 3 (ipykernel)",
   "language": "python",
   "name": "python3"
  },
  "language_info": {
   "codemirror_mode": {
    "name": "ipython",
    "version": 3
   },
   "file_extension": ".py",
   "mimetype": "text/x-python",
   "name": "python",
   "nbconvert_exporter": "python",
   "pygments_lexer": "ipython3",
   "version": "3.9.12"
  }
 },
 "nbformat": 4,
 "nbformat_minor": 5
}
