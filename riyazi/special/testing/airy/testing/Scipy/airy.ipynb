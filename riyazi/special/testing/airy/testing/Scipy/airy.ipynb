{
 "cells": [
  {
   "cell_type": "code",
   "execution_count": 1,
   "id": "7a9910c4",
   "metadata": {},
   "outputs": [],
   "source": [
    "from math import pi,sqrt\n",
    "import mpmath as mp \n",
    "def ai(z):\n",
    "    return ((1/pi) * sqrt(z/3))* mp.besselk(1/3,(2/3)*(z**(3/2)))\n",
    "\n",
    "def aip(z):\n",
    "    return ((-z/(pi*sqrt(3))) * mp.besselk(2/3,(2/3)*(z**(3/2))))\n",
    "\n",
    "def bi(z):\n",
    "    return (sqrt(z/3)) * ( mp.besseli(-1/3,(2/3)*(z**(3/2)))+mp.besseli(1/3,(2/3)*(z**(3/2))) )\n",
    "\n",
    "def bip(z):\n",
    "    return (z/ sqrt(3)) * ( mp.besseli(-2/3,(2/3)*(z**(3/2)))+mp.besseli(2/3,(2/3)*(z**(3/2))))\n",
    "\n",
    "\n",
    "\n",
    "def airy(z):\n",
    "    return (ai(z),aip(z),bi(z),bip(z))"
   ]
  },
  {
   "cell_type": "code",
   "execution_count": 2,
   "id": "2a8d173d",
   "metadata": {},
   "outputs": [],
   "source": [
    "Ai, Aip, Bi, Bip = airy(5)"
   ]
  },
  {
   "cell_type": "code",
   "execution_count": 3,
   "id": "15800cb6",
   "metadata": {},
   "outputs": [
    {
     "data": {
      "text/plain": [
       "(mpf('0.00010834442813607445'),\n",
       " mpf('-0.00024741389086846259'),\n",
       " mpf('657.79204417117103'),\n",
       " mpf('1435.8190802179822'))"
      ]
     },
     "execution_count": 3,
     "metadata": {},
     "output_type": "execute_result"
    }
   ],
   "source": [
    "Ai, Aip, Bi, Bip "
   ]
  },
  {
   "cell_type": "code",
   "execution_count": null,
   "id": "30b611a0",
   "metadata": {},
   "outputs": [],
   "source": [
    "import scipy.special as  sp"
   ]
  },
  {
   "cell_type": "code",
   "execution_count": null,
   "id": "880a9379",
   "metadata": {},
   "outputs": [],
   "source": [
    "Ai, Aip, Bi, Bip = sp.airy(5)"
   ]
  },
  {
   "cell_type": "code",
   "execution_count": null,
   "id": "5ff46fbf",
   "metadata": {},
   "outputs": [],
   "source": [
    "(Ai, Aip, Bi, Bip)"
   ]
  },
  {
   "cell_type": "code",
   "execution_count": null,
   "id": "076ff2c7",
   "metadata": {},
   "outputs": [],
   "source": [
    "from math import pi,sqrt\n",
    "import mpmath as mp \n",
    "def airy(z):\n",
    "    return ((1/pi) * sqrt(z/3))* mp.besselk(1/3,(2/3)*(z**(3/2)))"
   ]
  },
  {
   "cell_type": "code",
   "execution_count": null,
   "id": "c97cb3d8",
   "metadata": {},
   "outputs": [],
   "source": [
    "from math import pi,sqrt\n",
    "import mpmath as mp \n",
    "def aip(z):\n",
    "    return ((-z/(pi*sqrt(3))) * mp.besselk(2/3,(2/3)*(z**(3/2))))"
   ]
  },
  {
   "cell_type": "code",
   "execution_count": null,
   "id": "d6674539",
   "metadata": {},
   "outputs": [],
   "source": [
    "aip(5)"
   ]
  },
  {
   "cell_type": "code",
   "execution_count": null,
   "id": "2f4a104e",
   "metadata": {},
   "outputs": [],
   "source": [
    "aip(100)"
   ]
  },
  {
   "cell_type": "code",
   "execution_count": null,
   "id": "eed192fe",
   "metadata": {},
   "outputs": [],
   "source": [
    "sp.airy(100)"
   ]
  },
  {
   "cell_type": "code",
   "execution_count": null,
   "id": "5468667b",
   "metadata": {},
   "outputs": [],
   "source": []
  },
  {
   "cell_type": "code",
   "execution_count": null,
   "id": "82617fc8",
   "metadata": {},
   "outputs": [],
   "source": [
    "airy(5)"
   ]
  },
  {
   "cell_type": "code",
   "execution_count": null,
   "id": "d3f13a09",
   "metadata": {},
   "outputs": [],
   "source": [
    "a=mp.besselk(1/3,(2/3)*(5**(3/2)))"
   ]
  },
  {
   "cell_type": "code",
   "execution_count": null,
   "id": "7e80e3b4",
   "metadata": {},
   "outputs": [],
   "source": [
    "sp.airy(100)"
   ]
  },
  {
   "cell_type": "code",
   "execution_count": null,
   "id": "ec160abf",
   "metadata": {},
   "outputs": [],
   "source": [
    "airy(100)"
   ]
  },
  {
   "cell_type": "code",
   "execution_count": null,
   "id": "6ca9aeba",
   "metadata": {},
   "outputs": [],
   "source": [
    "sp.airy(50)"
   ]
  },
  {
   "cell_type": "code",
   "execution_count": null,
   "id": "9d89a4e7",
   "metadata": {},
   "outputs": [],
   "source": [
    "airy(50)"
   ]
  },
  {
   "cell_type": "code",
   "execution_count": null,
   "id": "03e14921",
   "metadata": {},
   "outputs": [],
   "source": [
    "from math import pi,sqrt \n",
    "import mpmath as mp\n",
    "import scipy.special as sp "
   ]
  },
  {
   "cell_type": "code",
   "execution_count": null,
   "id": "5c043218",
   "metadata": {},
   "outputs": [],
   "source": [
    "a=mp.besseli(-1/3,(2/3)*(5**(3/2)))+mp.besseli(1/3,(2/3)*(5**(3/2)))"
   ]
  },
  {
   "cell_type": "code",
   "execution_count": null,
   "id": "cf233d50",
   "metadata": {},
   "outputs": [],
   "source": [
    "a*sqrt(5/3)"
   ]
  },
  {
   "cell_type": "code",
   "execution_count": null,
   "id": "0393f782",
   "metadata": {},
   "outputs": [],
   "source": [
    "def bi(z):\n",
    "    return (sqrt(z/3)) * ( mp.besseli(-1/3,(2/3)*(z**(3/2)))+mp.besseli(1/3,(2/3)*(z**(3/2))) )"
   ]
  },
  {
   "cell_type": "code",
   "execution_count": null,
   "id": "090eea94",
   "metadata": {},
   "outputs": [],
   "source": [
    "def bip(z):\n",
    "    return (z/ sqrt(3)) * ( mp.besseli(-2/3,(2/3)*(z**(3/2)))+mp.besseli(2/3,(2/3)*(z**(3/2))))"
   ]
  },
  {
   "cell_type": "code",
   "execution_count": null,
   "id": "31de87ab",
   "metadata": {},
   "outputs": [],
   "source": [
    "bip(5)"
   ]
  },
  {
   "cell_type": "code",
   "execution_count": null,
   "id": "2f5d8d0d",
   "metadata": {},
   "outputs": [],
   "source": [
    "bip(100)"
   ]
  },
  {
   "cell_type": "code",
   "execution_count": null,
   "id": "a5682f66",
   "metadata": {},
   "outputs": [],
   "source": [
    "sp.airy(100)"
   ]
  },
  {
   "cell_type": "code",
   "execution_count": null,
   "id": "efc21bad",
   "metadata": {},
   "outputs": [],
   "source": []
  },
  {
   "cell_type": "code",
   "execution_count": null,
   "id": "8fd36dbb",
   "metadata": {},
   "outputs": [],
   "source": []
  },
  {
   "cell_type": "code",
   "execution_count": null,
   "id": "18cf7ee1",
   "metadata": {},
   "outputs": [],
   "source": [
    "bi(5)"
   ]
  },
  {
   "cell_type": "code",
   "execution_count": null,
   "id": "eb9875ea",
   "metadata": {},
   "outputs": [],
   "source": [
    "bi(100)"
   ]
  },
  {
   "cell_type": "code",
   "execution_count": null,
   "id": "c55f53c1",
   "metadata": {},
   "outputs": [],
   "source": []
  }
 ],
 "metadata": {
  "kernelspec": {
   "display_name": "Python 3 (ipykernel)",
   "language": "python",
   "name": "python3"
  },
  "language_info": {
   "codemirror_mode": {
    "name": "ipython",
    "version": 3
   },
   "file_extension": ".py",
   "mimetype": "text/x-python",
   "name": "python",
   "nbconvert_exporter": "python",
   "pygments_lexer": "ipython3",
   "version": "3.9.12"
  }
 },
 "nbformat": 4,
 "nbformat_minor": 5
}
