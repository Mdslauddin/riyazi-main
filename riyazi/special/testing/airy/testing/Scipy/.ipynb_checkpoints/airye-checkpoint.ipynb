{
 "cells": [
  {
   "cell_type": "code",
   "execution_count": 1,
   "id": "5c576c0d",
   "metadata": {},
   "outputs": [],
   "source": [
    "import scipy.special as sp \n",
    "from cmath import exp ,sqrt\n",
    "def airye(z):\n",
    "    Ai,Aip,Bi,Bip = sp.airy(z)\n",
    "    eAi  = Ai  * exp(2.0/3.0*z*sqrt(z)).real\n",
    "    eAip = Aip * exp(2.0/3.0*z*sqrt(z)).real\n",
    "    eBi  = Bi  * exp(-abs(2.0/3.0*(z*sqrt(z)).real)).real\n",
    "    eBip = Bip * exp(-abs(2.0/3.0*(z*sqrt(z)).real)).real\n",
    "    return eAi,eAip,eBi,eBip"
   ]
  },
  {
   "cell_type": "code",
   "execution_count": null,
   "id": "d44592ae",
   "metadata": {},
   "outputs": [],
   "source": []
  },
  {
   "cell_type": "code",
   "execution_count": null,
   "id": "fc792a39",
   "metadata": {},
   "outputs": [],
   "source": []
  },
  {
   "cell_type": "code",
   "execution_count": null,
   "id": "1d03b233",
   "metadata": {},
   "outputs": [],
   "source": []
  },
  {
   "cell_type": "code",
   "execution_count": null,
   "id": "04634ed2",
   "metadata": {},
   "outputs": [],
   "source": [
    "import numpy as np "
   ]
  },
  {
   "cell_type": "code",
   "execution_count": null,
   "id": "143b4484",
   "metadata": {},
   "outputs": [],
   "source": [
    "from scipy.special import airye\n",
    "import matplotlib.pyplot as plt\n",
    "z = np.linspace(0, 50, 500)\n",
    "eAi, eAip, eBi, eBip = airye(z)\n",
    "f, ax = plt.subplots(2, 1, sharex=True)\n",
    "for ind, data in enumerate([[eAi, eAip, [\"eAi\", \"eAip\"]],\n",
    "                            [eBi, eBip, [\"eBi\", \"eBip\"]]]):\n",
    "    ax[ind].plot(z, data[0], \"-r\", z, data[1], \"-b\")\n",
    "    ax[ind].legend(data[2])\n",
    "    ax[ind].grid(True)\n",
    "plt.show()"
   ]
  },
  {
   "cell_type": "code",
   "execution_count": null,
   "id": "e7ed555a",
   "metadata": {},
   "outputs": [],
   "source": [
    "from scipy.special import airy\n",
    "\n",
    "Ai, Aip, Bi, Bip = airy(z)\n",
    "\n",
    "np.allclose(eAi, Ai * np.exp(2.0 / 3.0 * z * np.sqrt(z)))\n",
    "\n",
    "np.allclose(eAip, Aip * np.exp(2.0 / 3.0 * z * np.sqrt(z)))\n",
    "\n",
    "np.allclose(eBi, Bi * np.exp(-abs(np.real(2.0 / 3.0 * z * np.sqrt(z)))))\n",
    "\n",
    "np.allclose(eBip, Bip * np.exp(-abs(np.real(2.0 / 3.0 * z * np.sqrt(z)))))\n"
   ]
  },
  {
   "cell_type": "code",
   "execution_count": null,
   "id": "ec4a398f",
   "metadata": {},
   "outputs": [],
   "source": [
    "airy(200)"
   ]
  },
  {
   "cell_type": "code",
   "execution_count": null,
   "id": "2f3d3d81",
   "metadata": {},
   "outputs": [],
   "source": [
    "airye(200)"
   ]
  },
  {
   "cell_type": "code",
   "execution_count": null,
   "id": "ceee201c",
   "metadata": {},
   "outputs": [],
   "source": [
    "eAi, eAip, ABi, eBip = airye(5)"
   ]
  },
  {
   "cell_type": "code",
   "execution_count": null,
   "id": "ed7ec12e",
   "metadata": {},
   "outputs": [],
   "source": [
    "eAi, eAip, ABi, eBip"
   ]
  },
  {
   "cell_type": "code",
   "execution_count": null,
   "id": "8853bb64",
   "metadata": {},
   "outputs": [],
   "source": []
  },
  {
   "cell_type": "code",
   "execution_count": null,
   "id": "fcc959e7",
   "metadata": {},
   "outputs": [],
   "source": [
    "from scipy import special"
   ]
  },
  {
   "cell_type": "code",
   "execution_count": null,
   "id": "ec4e1b74",
   "metadata": {},
   "outputs": [],
   "source": [
    "Ai, Aip, Bi, Bip, = special.airy(5)"
   ]
  },
  {
   "cell_type": "code",
   "execution_count": null,
   "id": "78d08274",
   "metadata": {},
   "outputs": [],
   "source": [
    "def _airye(z):\n",
    "    from cmath import exp,sqrt\n",
    "    eAi  = Ai  * exp(2.0/3.0*z*sqrt(z)).real\n",
    "    eAip = Aip * exp(2.0/3.0*z*sqrt(z)).real\n",
    "    eBi  = Bi  * exp(-abs(2.0/3.0*(z*sqrt(z)).real)).real\n",
    "    eBip = Bip * exp(-abs(2.0/3.0*(z*sqrt(z)).real)).real\n",
    "    return eAi,eAip,eBi,eBip"
   ]
  },
  {
   "cell_type": "code",
   "execution_count": null,
   "id": "6e571821",
   "metadata": {},
   "outputs": [],
   "source": [
    "_airye(5)"
   ]
  },
  {
   "cell_type": "code",
   "execution_count": null,
   "id": "49fe6e58",
   "metadata": {},
   "outputs": [],
   "source": [
    "import scipy.special as sp \n",
    "from cmath import exp ,sqrt\n",
    "def airye(z):\n",
    "    Ai,Aip,Bi,Bip = sp.airy(z)\n",
    "    eAi  = Ai  * exp(2.0/3.0*z*sqrt(z)).real\n",
    "    eAip = Aip * exp(2.0/3.0*z*sqrt(z)).real\n",
    "    eBi  = Bi  * exp(-abs(2.0/3.0*(z*sqrt(z)).real)).real\n",
    "    eBip = Bip * exp(-abs(2.0/3.0*(z*sqrt(z)).real)).real\n",
    "    return eAi,eAip,eBi,eBip"
   ]
  },
  {
   "cell_type": "code",
   "execution_count": null,
   "id": "c84534cb",
   "metadata": {},
   "outputs": [],
   "source": [
    "airye(5)"
   ]
  },
  {
   "cell_type": "code",
   "execution_count": null,
   "id": "29bc9175",
   "metadata": {},
   "outputs": [],
   "source": [
    "airye(100)"
   ]
  },
  {
   "cell_type": "code",
   "execution_count": null,
   "id": "2bb943f3",
   "metadata": {},
   "outputs": [],
   "source": [
    "import scipy.special as sp "
   ]
  },
  {
   "cell_type": "code",
   "execution_count": null,
   "id": "8a6a7f0c",
   "metadata": {
    "scrolled": true
   },
   "outputs": [],
   "source": [
    "sp.airye(5)"
   ]
  },
  {
   "cell_type": "code",
   "execution_count": null,
   "id": "0757c200",
   "metadata": {},
   "outputs": [],
   "source": [
    "sp.airye(100)"
   ]
  },
  {
   "cell_type": "code",
   "execution_count": null,
   "id": "76ccea32",
   "metadata": {},
   "outputs": [],
   "source": [
    "a"
   ]
  },
  {
   "cell_type": "code",
   "execution_count": null,
   "id": "46ec0ae7",
   "metadata": {},
   "outputs": [],
   "source": [
    "a=sp.airye(5)"
   ]
  },
  {
   "cell_type": "code",
   "execution_count": null,
   "id": "e0bbe6b7",
   "metadata": {},
   "outputs": [],
   "source": [
    "a"
   ]
  },
  {
   "cell_type": "code",
   "execution_count": null,
   "id": "e3896b33",
   "metadata": {},
   "outputs": [],
   "source": []
  }
 ],
 "metadata": {
  "kernelspec": {
   "display_name": "Python 3 (ipykernel)",
   "language": "python",
   "name": "python3"
  },
  "language_info": {
   "codemirror_mode": {
    "name": "ipython",
    "version": 3
   },
   "file_extension": ".py",
   "mimetype": "text/x-python",
   "name": "python",
   "nbconvert_exporter": "python",
   "pygments_lexer": "ipython3",
   "version": "3.9.12"
  }
 },
 "nbformat": 4,
 "nbformat_minor": 5
}
