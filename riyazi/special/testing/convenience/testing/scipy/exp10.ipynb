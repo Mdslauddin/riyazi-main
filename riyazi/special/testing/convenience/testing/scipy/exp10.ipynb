{
 "cells": [
  {
   "cell_type": "markdown",
   "id": "c91ba8f7",
   "metadata": {},
   "source": [
    "### \tCompute 10**x element-wise."
   ]
  },
  {
   "cell_type": "code",
   "execution_count": 13,
   "id": "c7432c56",
   "metadata": {},
   "outputs": [],
   "source": [
    "from scipy.special import exp10"
   ]
  },
  {
   "cell_type": "code",
   "execution_count": 2,
   "id": "31ddac60",
   "metadata": {},
   "outputs": [
    {
     "data": {
      "text/plain": [
       "1000.0"
      ]
     },
     "execution_count": 2,
     "metadata": {},
     "output_type": "execute_result"
    }
   ],
   "source": [
    "exp10(3)"
   ]
  },
  {
   "cell_type": "code",
   "execution_count": 3,
   "id": "64e45a69",
   "metadata": {},
   "outputs": [
    {
     "data": {
      "text/plain": [
       "array([[ 0.1       ,  0.31622777,  1.        ],\n",
       "       [ 3.16227766, 10.        , 31.6227766 ]])"
      ]
     },
     "execution_count": 3,
     "metadata": {},
     "output_type": "execute_result"
    }
   ],
   "source": [
    "import numpy as np \n",
    "x = np.array([[-1, -0.5, 0], [0.5, 1, 1.5]])\n",
    "exp10(x)"
   ]
  },
  {
   "cell_type": "code",
   "execution_count": 9,
   "id": "1a776fd3",
   "metadata": {},
   "outputs": [],
   "source": [
    "def exps10(*args): # **kwargs\n",
    "    \n",
    "    for x in args:\n",
    "        \n",
    "        return (10)**x"
   ]
  },
  {
   "cell_type": "code",
   "execution_count": 12,
   "id": "b47db5c9",
   "metadata": {},
   "outputs": [
    {
     "data": {
      "text/plain": [
       "0.1"
      ]
     },
     "execution_count": 12,
     "metadata": {},
     "output_type": "execute_result"
    }
   ],
   "source": [
    "exps10(-1)"
   ]
  },
  {
   "cell_type": "code",
   "execution_count": 5,
   "id": "16785f18",
   "metadata": {},
   "outputs": [
    {
     "data": {
      "text/plain": [
       "1000.0"
      ]
     },
     "execution_count": 5,
     "metadata": {},
     "output_type": "execute_result"
    }
   ],
   "source": [
    "exp10(3)"
   ]
  },
  {
   "cell_type": "code",
   "execution_count": 6,
   "id": "e9fba5ee",
   "metadata": {},
   "outputs": [
    {
     "data": {
      "text/plain": [
       "0.001"
      ]
     },
     "execution_count": 6,
     "metadata": {},
     "output_type": "execute_result"
    }
   ],
   "source": [
    "exp10(-3)"
   ]
  },
  {
   "cell_type": "code",
   "execution_count": 7,
   "id": "b186eaa4",
   "metadata": {},
   "outputs": [],
   "source": [
    "def exp10(*args): # **kwargs\n",
    "    for x in args:\n",
    "        return (10)**x"
   ]
  },
  {
   "cell_type": "code",
   "execution_count": 8,
   "id": "ff64032a",
   "metadata": {},
   "outputs": [
    {
     "data": {
      "text/plain": [
       "1000"
      ]
     },
     "execution_count": 8,
     "metadata": {},
     "output_type": "execute_result"
    }
   ],
   "source": [
    "exp10(3)"
   ]
  },
  {
   "cell_type": "code",
   "execution_count": 9,
   "id": "b1fd5b0f",
   "metadata": {},
   "outputs": [
    {
     "data": {
      "text/plain": [
       "0.001"
      ]
     },
     "execution_count": 9,
     "metadata": {},
     "output_type": "execute_result"
    }
   ],
   "source": [
    "exp10(-3)"
   ]
  },
  {
   "cell_type": "code",
   "execution_count": 10,
   "id": "e28a47da",
   "metadata": {},
   "outputs": [],
   "source": [
    "def _exp10(x):  # *args, **kwargs\n",
    "    return pow(10,x)"
   ]
  },
  {
   "cell_type": "code",
   "execution_count": 11,
   "id": "cb1ed18c",
   "metadata": {},
   "outputs": [
    {
     "data": {
      "text/plain": [
       "1000"
      ]
     },
     "execution_count": 11,
     "metadata": {},
     "output_type": "execute_result"
    }
   ],
   "source": [
    "_exp10(3)"
   ]
  },
  {
   "cell_type": "code",
   "execution_count": 12,
   "id": "d39c1eba",
   "metadata": {},
   "outputs": [
    {
     "data": {
      "text/plain": [
       "0.001"
      ]
     },
     "execution_count": 12,
     "metadata": {},
     "output_type": "execute_result"
    }
   ],
   "source": [
    "_exp10(-3)"
   ]
  },
  {
   "cell_type": "code",
   "execution_count": 14,
   "id": "738beea9",
   "metadata": {},
   "outputs": [
    {
     "data": {
      "text/plain": [
       "100"
      ]
     },
     "execution_count": 14,
     "metadata": {},
     "output_type": "execute_result"
    }
   ],
   "source": [
    "_exp10(2)"
   ]
  },
  {
   "cell_type": "code",
   "execution_count": 15,
   "id": "071653b9",
   "metadata": {},
   "outputs": [
    {
     "data": {
      "text/plain": [
       "0.01"
      ]
     },
     "execution_count": 15,
     "metadata": {},
     "output_type": "execute_result"
    }
   ],
   "source": [
    "_exp10(-2)"
   ]
  },
  {
   "cell_type": "code",
   "execution_count": null,
   "id": "297abb67",
   "metadata": {},
   "outputs": [],
   "source": []
  }
 ],
 "metadata": {
  "kernelspec": {
   "display_name": "Python 3 (ipykernel)",
   "language": "python",
   "name": "python3"
  },
  "language_info": {
   "codemirror_mode": {
    "name": "ipython",
    "version": 3
   },
   "file_extension": ".py",
   "mimetype": "text/x-python",
   "name": "python",
   "nbconvert_exporter": "python",
   "pygments_lexer": "ipython3",
   "version": "3.9.12"
  }
 },
 "nbformat": 4,
 "nbformat_minor": 5
}
