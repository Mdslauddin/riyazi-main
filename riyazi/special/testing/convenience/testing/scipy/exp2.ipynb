{
 "cells": [
  {
   "cell_type": "markdown",
   "id": "94975fa0",
   "metadata": {},
   "source": [
    "### Compute 2**x element-wise."
   ]
  },
  {
   "cell_type": "code",
   "execution_count": 8,
   "id": "bf6aa136",
   "metadata": {},
   "outputs": [],
   "source": [
    "from scipy.special import exp2"
   ]
  },
  {
   "cell_type": "code",
   "execution_count": 2,
   "id": "fedfaae6",
   "metadata": {},
   "outputs": [
    {
     "data": {
      "text/plain": [
       "8.0"
      ]
     },
     "execution_count": 2,
     "metadata": {},
     "output_type": "execute_result"
    }
   ],
   "source": [
    "exp2(3)\n"
   ]
  },
  {
   "cell_type": "code",
   "execution_count": 4,
   "id": "5bc1dd4f",
   "metadata": {},
   "outputs": [
    {
     "data": {
      "text/plain": [
       "array([[0.5       , 0.70710678, 1.        ],\n",
       "       [1.41421356, 2.        , 2.82842712]])"
      ]
     },
     "execution_count": 4,
     "metadata": {},
     "output_type": "execute_result"
    }
   ],
   "source": [
    "import numpy as np \n",
    "x = np.array([[-1, -0.5, 0], [0.5, 1, 1.5]])\n",
    "exp2(x)"
   ]
  },
  {
   "cell_type": "code",
   "execution_count": 5,
   "id": "efec1a76",
   "metadata": {},
   "outputs": [],
   "source": [
    "def exp2(*args):\n",
    "    for x in args:\n",
    "        return (2)**x"
   ]
  },
  {
   "cell_type": "code",
   "execution_count": 6,
   "id": "7262a06e",
   "metadata": {},
   "outputs": [
    {
     "data": {
      "text/plain": [
       "8"
      ]
     },
     "execution_count": 6,
     "metadata": {},
     "output_type": "execute_result"
    }
   ],
   "source": [
    "exp2(3)"
   ]
  },
  {
   "cell_type": "code",
   "execution_count": 3,
   "id": "3c4432f3",
   "metadata": {},
   "outputs": [
    {
     "data": {
      "text/plain": [
       "0.125"
      ]
     },
     "execution_count": 3,
     "metadata": {},
     "output_type": "execute_result"
    }
   ],
   "source": [
    "exp2(-3)"
   ]
  },
  {
   "cell_type": "code",
   "execution_count": 9,
   "id": "1181569e",
   "metadata": {},
   "outputs": [],
   "source": [
    "def exp2(x):\n",
    "    return pow(2,x)"
   ]
  },
  {
   "cell_type": "code",
   "execution_count": 12,
   "id": "f14026d5",
   "metadata": {},
   "outputs": [
    {
     "data": {
      "text/plain": [
       "(0.18345697474330172+0.9830277404112437j)"
      ]
     },
     "execution_count": 12,
     "metadata": {},
     "output_type": "execute_result"
    }
   ],
   "source": [
    "exp2(2j)"
   ]
  },
  {
   "cell_type": "code",
   "execution_count": 14,
   "id": "6f402b04",
   "metadata": {},
   "outputs": [
    {
     "data": {
      "text/plain": [
       "(0.18345697474330172-0.9830277404112437j)"
      ]
     },
     "execution_count": 14,
     "metadata": {},
     "output_type": "execute_result"
    }
   ],
   "source": [
    "exp2(-2j)"
   ]
  },
  {
   "cell_type": "code",
   "execution_count": 7,
   "id": "55a0feac",
   "metadata": {},
   "outputs": [
    {
     "data": {
      "text/plain": [
       "8"
      ]
     },
     "execution_count": 7,
     "metadata": {},
     "output_type": "execute_result"
    }
   ],
   "source": [
    "exp2(3)"
   ]
  },
  {
   "cell_type": "code",
   "execution_count": 6,
   "id": "cc3f44cb",
   "metadata": {},
   "outputs": [
    {
     "data": {
      "text/plain": [
       "0.125"
      ]
     },
     "execution_count": 6,
     "metadata": {},
     "output_type": "execute_result"
    }
   ],
   "source": [
    "exp2(-3)"
   ]
  },
  {
   "cell_type": "code",
   "execution_count": 15,
   "id": "a9b68e38",
   "metadata": {},
   "outputs": [
    {
     "data": {
      "text/plain": [
       "(-1.947977671863125+3.493620327099486j)"
      ]
     },
     "execution_count": 15,
     "metadata": {},
     "output_type": "execute_result"
    }
   ],
   "source": [
    "exp2(2+3j)"
   ]
  },
  {
   "cell_type": "code",
   "execution_count": null,
   "id": "c45f2b20",
   "metadata": {},
   "outputs": [],
   "source": []
  }
 ],
 "metadata": {
  "kernelspec": {
   "display_name": "Python 3 (ipykernel)",
   "language": "python",
   "name": "python3"
  },
  "language_info": {
   "codemirror_mode": {
    "name": "ipython",
    "version": 3
   },
   "file_extension": ".py",
   "mimetype": "text/x-python",
   "name": "python",
   "nbconvert_exporter": "python",
   "pygments_lexer": "ipython3",
   "version": "3.9.12"
  }
 },
 "nbformat": 4,
 "nbformat_minor": 5
}
