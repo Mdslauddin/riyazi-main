{
 "cells": [
  {
   "cell_type": "markdown",
   "id": "e1e7adff",
   "metadata": {},
   "source": [
    "### Compute x*log1p(y) so that the result is 0 if x = 0."
   ]
  },
  {
   "cell_type": "code",
   "execution_count": 2,
   "id": "1b67111d",
   "metadata": {},
   "outputs": [],
   "source": [
    "import  scipy.special as sc"
   ]
  },
  {
   "cell_type": "code",
   "execution_count": 3,
   "id": "f8f42356",
   "metadata": {},
   "outputs": [
    {
     "data": {
      "text/plain": [
       "46.151205168412595"
      ]
     },
     "execution_count": 3,
     "metadata": {},
     "output_type": "execute_result"
    }
   ],
   "source": [
    "\n",
    "sc.xlog1py(10,100)"
   ]
  },
  {
   "cell_type": "code",
   "execution_count": null,
   "id": "67ef2f9b",
   "metadata": {},
   "outputs": [],
   "source": [
    "def xlog1py(x,y):\n",
    "    return x*log1p(y)"
   ]
  },
  {
   "cell_type": "code",
   "execution_count": null,
   "id": "47252b59",
   "metadata": {},
   "outputs": [],
   "source": [
    "def xlog1py(x,y):\n",
    "    return log1p(x,y)"
   ]
  }
 ],
 "metadata": {
  "kernelspec": {
   "display_name": "Python 3 (ipykernel)",
   "language": "python",
   "name": "python3"
  },
  "language_info": {
   "codemirror_mode": {
    "name": "ipython",
    "version": 3
   },
   "file_extension": ".py",
   "mimetype": "text/x-python",
   "name": "python",
   "nbconvert_exporter": "python",
   "pygments_lexer": "ipython3",
   "version": "3.9.12"
  }
 },
 "nbformat": 4,
 "nbformat_minor": 5
}
