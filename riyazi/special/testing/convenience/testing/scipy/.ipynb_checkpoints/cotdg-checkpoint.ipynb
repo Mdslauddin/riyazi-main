{
 "cells": [
  {
   "cell_type": "markdown",
   "id": "0de42f04",
   "metadata": {},
   "source": [
    "### Cotangent of the angle x given in degrees."
   ]
  },
  {
   "cell_type": "code",
   "execution_count": 1,
   "id": "0aa8e5a3",
   "metadata": {},
   "outputs": [],
   "source": [
    "import scipy.special as sc"
   ]
  },
  {
   "cell_type": "code",
   "execution_count": 2,
   "id": "6ae360dd",
   "metadata": {},
   "outputs": [
    {
     "data": {
      "text/plain": [
       "array([0., 0., 0.])"
      ]
     },
     "execution_count": 2,
     "metadata": {},
     "output_type": "execute_result"
    }
   ],
   "source": [
    "import numpy as np \n",
    "x = 90 + 180 * np.arange(3)\n",
    "sc.cotdg(x)"
   ]
  },
  {
   "cell_type": "code",
   "execution_count": 3,
   "id": "702bae6f",
   "metadata": {},
   "outputs": [
    {
     "data": {
      "text/plain": [
       "array([6.1232340e-17, 1.8369702e-16, 3.0616170e-16])"
      ]
     },
     "execution_count": 3,
     "metadata": {},
     "output_type": "execute_result"
    }
   ],
   "source": [
    "1 / np.tan(x * np.pi / 180)"
   ]
  },
  {
   "cell_type": "code",
   "execution_count": 4,
   "id": "609bbc05",
   "metadata": {},
   "outputs": [
    {
     "data": {
      "text/plain": [
       "0.0"
      ]
     },
     "execution_count": 4,
     "metadata": {},
     "output_type": "execute_result"
    }
   ],
   "source": [
    "sc.cotdg(90)"
   ]
  },
  {
   "cell_type": "code",
   "execution_count": 16,
   "id": "fab55924",
   "metadata": {},
   "outputs": [
    {
     "data": {
      "text/plain": [
       "0.017455064928217585"
      ]
     },
     "execution_count": 16,
     "metadata": {},
     "output_type": "execute_result"
    }
   ],
   "source": [
    "sc.cotdg(89)"
   ]
  },
  {
   "cell_type": "code",
   "execution_count": 5,
   "id": "bd73dc35",
   "metadata": {},
   "outputs": [],
   "source": [
    "import math\n",
    "def exp(x):\n",
    "    return math.e**x\n",
    "\n",
    "def cosdg(x):\n",
    "    if x == 90:\n",
    "        return 0.0\n",
    "    \n",
    "    x = math.radians(x)\n",
    "  \n",
    "    if x is x.real:\n",
    "        return ((exp(x * 1j) + exp(x * -1j)) / 2).real \n",
    "    else:\n",
    "        return ((exp(x * 1j) + exp(x * -1j)) / 2)\n",
    "\n",
    "def sindg(x):\n",
    "    x = math.radians(x)\n",
    "    if x is x.real:\n",
    "        return ((exp(x*1j) - exp(x*(-1j))) / 2j).real\n",
    "    else:\n",
    "        return ((exp(x*1j) - exp(x*(-1j))) / 2j)"
   ]
  },
  {
   "cell_type": "code",
   "execution_count": 13,
   "id": "2c171df8",
   "metadata": {},
   "outputs": [],
   "source": [
    "def cot(x):\n",
    "    if x == 90:\n",
    "        return 0.0\n",
    "    return 1 / ((sindg(x)/cosdg(x)))"
   ]
  },
  {
   "cell_type": "code",
   "execution_count": 15,
   "id": "b8160354",
   "metadata": {},
   "outputs": [
    {
     "data": {
      "text/plain": [
       "0.017455064928217672"
      ]
     },
     "execution_count": 15,
     "metadata": {},
     "output_type": "execute_result"
    }
   ],
   "source": [
    "cot(89)"
   ]
  },
  {
   "cell_type": "code",
   "execution_count": null,
   "id": "6a9d4141",
   "metadata": {},
   "outputs": [],
   "source": []
  },
  {
   "cell_type": "code",
   "execution_count": null,
   "id": "0192acfb",
   "metadata": {},
   "outputs": [],
   "source": []
  }
 ],
 "metadata": {
  "kernelspec": {
   "display_name": "Python 3 (ipykernel)",
   "language": "python",
   "name": "python3"
  },
  "language_info": {
   "codemirror_mode": {
    "name": "ipython",
    "version": 3
   },
   "file_extension": ".py",
   "mimetype": "text/x-python",
   "name": "python",
   "nbconvert_exporter": "python",
   "pygments_lexer": "ipython3",
   "version": "3.9.12"
  }
 },
 "nbformat": 4,
 "nbformat_minor": 5
}
