{
 "cells": [
  {
   "cell_type": "markdown",
   "id": "536aff4c",
   "metadata": {},
   "source": [
    "### Compute x*log(y) so that the result is 0 if x = 0."
   ]
  },
  {
   "cell_type": "code",
   "execution_count": 1,
   "id": "3f7fa8b7",
   "metadata": {},
   "outputs": [],
   "source": [
    "import scipy.special as sc"
   ]
  },
  {
   "cell_type": "code",
   "execution_count": 2,
   "id": "5a8453bb",
   "metadata": {},
   "outputs": [
    {
     "data": {
      "text/plain": [
       "46.05170185988092"
      ]
     },
     "execution_count": 2,
     "metadata": {},
     "output_type": "execute_result"
    }
   ],
   "source": [
    "sc.xlogy(10,100)"
   ]
  },
  {
   "cell_type": "code",
   "execution_count": 3,
   "id": "484eeec7",
   "metadata": {},
   "outputs": [],
   "source": [
    "import math "
   ]
  },
  {
   "cell_type": "code",
   "execution_count": 4,
   "id": "694cf21e",
   "metadata": {},
   "outputs": [
    {
     "data": {
      "text/plain": [
       "46.05170185988092"
      ]
     },
     "execution_count": 4,
     "metadata": {},
     "output_type": "execute_result"
    }
   ],
   "source": [
    "10*math.log(100)"
   ]
  },
  {
   "cell_type": "code",
   "execution_count": 5,
   "id": "43350161",
   "metadata": {},
   "outputs": [],
   "source": [
    "def xlogy(x,y):\n",
    "    return x*math.log(y)"
   ]
  },
  {
   "cell_type": "code",
   "execution_count": 6,
   "id": "a2d70ff3",
   "metadata": {},
   "outputs": [
    {
     "data": {
      "text/plain": [
       "46.05170185988092"
      ]
     },
     "execution_count": 6,
     "metadata": {},
     "output_type": "execute_result"
    }
   ],
   "source": [
    "xlogy(10,100)"
   ]
  },
  {
   "cell_type": "code",
   "execution_count": null,
   "id": "feb94c63",
   "metadata": {},
   "outputs": [],
   "source": []
  }
 ],
 "metadata": {
  "kernelspec": {
   "display_name": "Python 3 (ipykernel)",
   "language": "python",
   "name": "python3"
  },
  "language_info": {
   "codemirror_mode": {
    "name": "ipython",
    "version": 3
   },
   "file_extension": ".py",
   "mimetype": "text/x-python",
   "name": "python",
   "nbconvert_exporter": "python",
   "pygments_lexer": "ipython3",
   "version": "3.9.12"
  }
 },
 "nbformat": 4,
 "nbformat_minor": 5
}
