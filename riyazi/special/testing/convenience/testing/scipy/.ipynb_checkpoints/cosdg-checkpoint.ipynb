{
 "cells": [
  {
   "cell_type": "markdown",
   "id": "2feef808",
   "metadata": {},
   "source": [
    "### Cosine of the angle x given in degrees."
   ]
  },
  {
   "cell_type": "code",
   "execution_count": 8,
   "id": "9d724ca0",
   "metadata": {},
   "outputs": [],
   "source": [
    "import scipy.special as sc"
   ]
  },
  {
   "cell_type": "code",
   "execution_count": 9,
   "id": "654f5f89",
   "metadata": {},
   "outputs": [
    {
     "data": {
      "text/plain": [
       "-0.0"
      ]
     },
     "execution_count": 9,
     "metadata": {},
     "output_type": "execute_result"
    }
   ],
   "source": [
    "sc.cosdg(90)"
   ]
  },
  {
   "cell_type": "code",
   "execution_count": 10,
   "id": "258d6fd9",
   "metadata": {
    "scrolled": true
   },
   "outputs": [
    {
     "data": {
      "text/plain": [
       "0.9998476951563913"
      ]
     },
     "execution_count": 10,
     "metadata": {},
     "output_type": "execute_result"
    }
   ],
   "source": [
    "sc.cosdg(1)"
   ]
  },
  {
   "cell_type": "code",
   "execution_count": 11,
   "id": "63b2de2a",
   "metadata": {},
   "outputs": [
    {
     "data": {
      "text/plain": [
       "-0.01745240643728351"
      ]
     },
     "execution_count": 11,
     "metadata": {},
     "output_type": "execute_result"
    }
   ],
   "source": [
    "sc.cosdg(91)"
   ]
  },
  {
   "cell_type": "code",
   "execution_count": null,
   "id": "92137ca1",
   "metadata": {},
   "outputs": [],
   "source": []
  },
  {
   "cell_type": "code",
   "execution_count": null,
   "id": "5cf9956f",
   "metadata": {},
   "outputs": [],
   "source": []
  },
  {
   "cell_type": "code",
   "execution_count": 1,
   "id": "9312641b",
   "metadata": {},
   "outputs": [],
   "source": [
    "import math\n",
    "def exp(x):\n",
    "    return math.e**x\n",
    "\n",
    "def cos(x):\n",
    "    if x == 90:\n",
    "        return 0.0\n",
    "    \n",
    "    x = math.radians(x)\n",
    "  \n",
    "    if x is x.real:\n",
    "        return ((exp(x * 1j) + exp(x * -1j)) / 2).real \n",
    "    else:\n",
    "        return ((exp(x * 1j) + exp(x * -1j)) / 2)"
   ]
  },
  {
   "cell_type": "code",
   "execution_count": 12,
   "id": "efba35c7",
   "metadata": {},
   "outputs": [],
   "source": [
    "import math\n",
    "def exp(x):\n",
    "    return math.e**x\n",
    "\n",
    "def cos(x):\n",
    "    x = math.radians(x)\n",
    "    if x is x.real:\n",
    "        return ((exp(x * 1j) + exp(x * -1j)) / 2).real \n",
    "    else:\n",
    "        return ((exp(x * 1j) + exp(x * -1j)) / 2)"
   ]
  },
  {
   "cell_type": "code",
   "execution_count": 13,
   "id": "31a470a3",
   "metadata": {},
   "outputs": [
    {
     "data": {
      "text/plain": [
       "0.9998476951563913"
      ]
     },
     "execution_count": 13,
     "metadata": {},
     "output_type": "execute_result"
    }
   ],
   "source": [
    "cos(1)"
   ]
  },
  {
   "cell_type": "code",
   "execution_count": 14,
   "id": "4384af4d",
   "metadata": {
    "scrolled": true
   },
   "outputs": [
    {
     "data": {
      "text/plain": [
       "-0.017452406437283477"
      ]
     },
     "execution_count": 14,
     "metadata": {},
     "output_type": "execute_result"
    }
   ],
   "source": [
    "cos(91)"
   ]
  },
  {
   "cell_type": "code",
   "execution_count": 15,
   "id": "d2a5b40c",
   "metadata": {
    "scrolled": true
   },
   "outputs": [
    {
     "data": {
      "text/plain": [
       "0.7071067811865476"
      ]
     },
     "execution_count": 15,
     "metadata": {},
     "output_type": "execute_result"
    }
   ],
   "source": [
    "cos(45)"
   ]
  },
  {
   "cell_type": "code",
   "execution_count": 25,
   "id": "f108842d",
   "metadata": {},
   "outputs": [
    {
     "data": {
      "text/plain": [
       "(0.7336545584598283, 0.5403023058681398)"
      ]
     },
     "execution_count": 25,
     "metadata": {},
     "output_type": "execute_result"
    }
   ],
   "source": [
    "math.cos(math.degrees(1)), math.cos(1)"
   ]
  },
  {
   "cell_type": "code",
   "execution_count": 26,
   "id": "5f1e7ec4",
   "metadata": {},
   "outputs": [
    {
     "data": {
      "text/plain": [
       "(0.9998476951563913, 0.5403023058681398)"
      ]
     },
     "execution_count": 26,
     "metadata": {},
     "output_type": "execute_result"
    }
   ],
   "source": [
    "math.cos(math.radians(1)), math.cos(1)"
   ]
  },
  {
   "cell_type": "code",
   "execution_count": 21,
   "id": "ff4e3357",
   "metadata": {},
   "outputs": [
    {
     "data": {
      "text/plain": [
       "6.123233995736766e-17"
      ]
     },
     "execution_count": 21,
     "metadata": {},
     "output_type": "execute_result"
    }
   ],
   "source": [
    "math.cos(math.radians(90))"
   ]
  },
  {
   "cell_type": "code",
   "execution_count": 22,
   "id": "97861ddb",
   "metadata": {},
   "outputs": [
    {
     "data": {
      "text/plain": [
       "-1.0"
      ]
     },
     "execution_count": 22,
     "metadata": {},
     "output_type": "execute_result"
    }
   ],
   "source": [
    "sc.cosdg(180)"
   ]
  },
  {
   "cell_type": "code",
   "execution_count": 23,
   "id": "a4b12d85",
   "metadata": {
    "scrolled": true
   },
   "outputs": [
    {
     "data": {
      "text/plain": [
       "-1.0"
      ]
     },
     "execution_count": 23,
     "metadata": {},
     "output_type": "execute_result"
    }
   ],
   "source": [
    "cos(180)"
   ]
  },
  {
   "cell_type": "code",
   "execution_count": 24,
   "id": "c4056a77",
   "metadata": {},
   "outputs": [
    {
     "data": {
      "text/plain": [
       "6.123233995736766e-17"
      ]
     },
     "execution_count": 24,
     "metadata": {},
     "output_type": "execute_result"
    }
   ],
   "source": [
    "cos(90)"
   ]
  },
  {
   "cell_type": "code",
   "execution_count": 4,
   "id": "a9dbe345",
   "metadata": {},
   "outputs": [
    {
     "data": {
      "text/plain": [
       "0.9986295347545738"
      ]
     },
     "execution_count": 4,
     "metadata": {},
     "output_type": "execute_result"
    }
   ],
   "source": [
    "cos(3)"
   ]
  },
  {
   "cell_type": "code",
   "execution_count": 7,
   "id": "93eb6041",
   "metadata": {},
   "outputs": [
    {
     "data": {
      "text/plain": [
       "6.123233995736766e-17"
      ]
     },
     "execution_count": 7,
     "metadata": {},
     "output_type": "execute_result"
    }
   ],
   "source": [
    "math.cos(math.radians(90))"
   ]
  },
  {
   "cell_type": "code",
   "execution_count": null,
   "id": "cfb38a6d",
   "metadata": {},
   "outputs": [],
   "source": []
  },
  {
   "cell_type": "code",
   "execution_count": null,
   "id": "ff3c44e3",
   "metadata": {},
   "outputs": [],
   "source": []
  },
  {
   "cell_type": "code",
   "execution_count": null,
   "id": "ff5456f5",
   "metadata": {},
   "outputs": [],
   "source": [
    "cos(9)"
   ]
  },
  {
   "cell_type": "code",
   "execution_count": null,
   "id": "3bd22339",
   "metadata": {},
   "outputs": [],
   "source": []
  },
  {
   "cell_type": "code",
   "execution_count": null,
   "id": "8ace42a9",
   "metadata": {},
   "outputs": [],
   "source": [
    "math.radians(90)"
   ]
  },
  {
   "cell_type": "code",
   "execution_count": null,
   "id": "7aa4bde7",
   "metadata": {},
   "outputs": [],
   "source": [
    "import numpy as np\n",
    "x = 90 + 180 * np.arange(3)\n",
    "\n",
    "sc.cosdg(x)"
   ]
  },
  {
   "cell_type": "code",
   "execution_count": null,
   "id": "3ba2a843",
   "metadata": {},
   "outputs": [],
   "source": [
    "np.cos(x * np.pi / 180)"
   ]
  },
  {
   "cell_type": "code",
   "execution_count": null,
   "id": "b6e8a52a",
   "metadata": {},
   "outputs": [],
   "source": [
    "x*np.pi/180"
   ]
  },
  {
   "cell_type": "code",
   "execution_count": null,
   "id": "33a1d5e3",
   "metadata": {},
   "outputs": [],
   "source": []
  }
 ],
 "metadata": {
  "kernelspec": {
   "display_name": "Python 3 (ipykernel)",
   "language": "python",
   "name": "python3"
  },
  "language_info": {
   "codemirror_mode": {
    "name": "ipython",
    "version": 3
   },
   "file_extension": ".py",
   "mimetype": "text/x-python",
   "name": "python",
   "nbconvert_exporter": "python",
   "pygments_lexer": "ipython3",
   "version": "3.9.12"
  }
 },
 "nbformat": 4,
 "nbformat_minor": 5
}
