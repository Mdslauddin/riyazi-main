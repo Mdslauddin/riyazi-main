{
 "cells": [
  {
   "cell_type": "markdown",
   "id": "ae6c9029",
   "metadata": {},
   "source": [
    "### Calculates log(1 + x) for use when x is near zero."
   ]
  },
  {
   "cell_type": "code",
   "execution_count": 1,
   "id": "eaa9dca8",
   "metadata": {},
   "outputs": [],
   "source": [
    "import scipy.special as sc"
   ]
  },
  {
   "cell_type": "code",
   "execution_count": 2,
   "id": "d0f56fb9",
   "metadata": {
    "scrolled": true
   },
   "outputs": [
    {
     "data": {
      "text/plain": [
       "1e-17"
      ]
     },
     "execution_count": 2,
     "metadata": {},
     "output_type": "execute_result"
    }
   ],
   "source": [
    "sc.log1p(1e-17)"
   ]
  },
  {
   "cell_type": "code",
   "execution_count": 9,
   "id": "9eac98cb",
   "metadata": {},
   "outputs": [
    {
     "data": {
      "text/plain": [
       "3.5553480614894135"
      ]
     },
     "execution_count": 9,
     "metadata": {},
     "output_type": "execute_result"
    }
   ],
   "source": [
    "sc.log1p(34)"
   ]
  },
  {
   "cell_type": "code",
   "execution_count": 3,
   "id": "678ad5bf",
   "metadata": {},
   "outputs": [
    {
     "data": {
      "text/plain": [
       "0.0"
      ]
     },
     "execution_count": 3,
     "metadata": {},
     "output_type": "execute_result"
    }
   ],
   "source": [
    "import numpy as np \n",
    "np.log(1 + 1e-17)"
   ]
  },
  {
   "cell_type": "code",
   "execution_count": 13,
   "id": "5bbf30b3",
   "metadata": {},
   "outputs": [],
   "source": [
    "import math \n",
    "def log1p(x):\n",
    "    return (math.log(1+x))"
   ]
  },
  {
   "cell_type": "code",
   "execution_count": 14,
   "id": "daebd98e",
   "metadata": {},
   "outputs": [
    {
     "data": {
      "text/plain": [
       "3.5553480614894135"
      ]
     },
     "execution_count": 14,
     "metadata": {},
     "output_type": "execute_result"
    }
   ],
   "source": [
    "log1p(34)"
   ]
  },
  {
   "cell_type": "code",
   "execution_count": 12,
   "id": "12bc50c9",
   "metadata": {},
   "outputs": [
    {
     "data": {
      "text/plain": [
       "-39.14394658089878"
      ]
     },
     "execution_count": 12,
     "metadata": {},
     "output_type": "execute_result"
    }
   ],
   "source": [
    "log1p(1e-17)"
   ]
  },
  {
   "cell_type": "code",
   "execution_count": null,
   "id": "1973cf7f",
   "metadata": {},
   "outputs": [],
   "source": []
  }
 ],
 "metadata": {
  "kernelspec": {
   "display_name": "Python 3 (ipykernel)",
   "language": "python",
   "name": "python3"
  },
  "language_info": {
   "codemirror_mode": {
    "name": "ipython",
    "version": 3
   },
   "file_extension": ".py",
   "mimetype": "text/x-python",
   "name": "python",
   "nbconvert_exporter": "python",
   "pygments_lexer": "ipython3",
   "version": "3.9.12"
  }
 },
 "nbformat": 4,
 "nbformat_minor": 5
}
