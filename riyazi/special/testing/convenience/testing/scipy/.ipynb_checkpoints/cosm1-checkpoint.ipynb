{
 "cells": [
  {
   "cell_type": "markdown",
   "id": "29c1c3b3",
   "metadata": {},
   "source": [
    "### \tcos(x) - 1 for use when x is near zero."
   ]
  },
  {
   "cell_type": "code",
   "execution_count": 4,
   "id": "9b2a3ac4",
   "metadata": {},
   "outputs": [],
   "source": [
    "import scipy.special as sc"
   ]
  },
  {
   "cell_type": "code",
   "execution_count": 8,
   "id": "2286cbf6",
   "metadata": {},
   "outputs": [
    {
     "data": {
      "text/plain": [
       "0.0"
      ]
     },
     "execution_count": 8,
     "metadata": {},
     "output_type": "execute_result"
    }
   ],
   "source": [
    "import numpy as np \n",
    "x = 1e-30\n",
    "np.cos(x) -1"
   ]
  },
  {
   "cell_type": "code",
   "execution_count": 9,
   "id": "2e28c5b5",
   "metadata": {},
   "outputs": [
    {
     "data": {
      "text/plain": [
       "-0.47467801118227027"
      ]
     },
     "execution_count": 9,
     "metadata": {},
     "output_type": "execute_result"
    }
   ],
   "source": [
    "sc.cosm1(45)"
   ]
  },
  {
   "cell_type": "code",
   "execution_count": 10,
   "id": "388df8f3",
   "metadata": {},
   "outputs": [
    {
     "data": {
      "text/plain": [
       "-1.44807361612917"
      ]
     },
     "execution_count": 10,
     "metadata": {},
     "output_type": "execute_result"
    }
   ],
   "source": [
    "sc.cosm1(90)"
   ]
  },
  {
   "cell_type": "code",
   "execution_count": 6,
   "id": "b552b1cf",
   "metadata": {},
   "outputs": [],
   "source": [
    "import math \n",
    "def cosm1(x):\n",
    "    return math.cos(x) - 1"
   ]
  },
  {
   "cell_type": "code",
   "execution_count": 7,
   "id": "eb153729",
   "metadata": {},
   "outputs": [
    {
     "data": {
      "text/plain": [
       "-0.47467801118227027"
      ]
     },
     "execution_count": 7,
     "metadata": {},
     "output_type": "execute_result"
    }
   ],
   "source": [
    "cosm1(45)"
   ]
  },
  {
   "cell_type": "code",
   "execution_count": 11,
   "id": "da8764b3",
   "metadata": {},
   "outputs": [
    {
     "data": {
      "text/plain": [
       "-1.44807361612917"
      ]
     },
     "execution_count": 11,
     "metadata": {},
     "output_type": "execute_result"
    }
   ],
   "source": [
    "cosm1(90)"
   ]
  },
  {
   "cell_type": "code",
   "execution_count": null,
   "id": "227ae1ba",
   "metadata": {},
   "outputs": [],
   "source": []
  }
 ],
 "metadata": {
  "kernelspec": {
   "display_name": "Python 3 (ipykernel)",
   "language": "python",
   "name": "python3"
  },
  "language_info": {
   "codemirror_mode": {
    "name": "ipython",
    "version": 3
   },
   "file_extension": ".py",
   "mimetype": "text/x-python",
   "name": "python",
   "nbconvert_exporter": "python",
   "pygments_lexer": "ipython3",
   "version": "3.9.12"
  }
 },
 "nbformat": 4,
 "nbformat_minor": 5
}
