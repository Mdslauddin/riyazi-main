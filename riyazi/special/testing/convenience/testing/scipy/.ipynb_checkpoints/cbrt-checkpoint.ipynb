{
 "cells": [
  {
   "cell_type": "markdown",
   "id": "3982bdbf",
   "metadata": {},
   "source": [
    "### Element-wise cube root of x."
   ]
  },
  {
   "cell_type": "code",
   "execution_count": null,
   "id": "cff32c6f",
   "metadata": {},
   "outputs": [],
   "source": [
    "from scipy.special import cbrt"
   ]
  },
  {
   "cell_type": "code",
   "execution_count": null,
   "id": "2a58a6bb",
   "metadata": {},
   "outputs": [],
   "source": [
    "cbrt(8)"
   ]
  },
  {
   "cell_type": "code",
   "execution_count": null,
   "id": "a345e2a3",
   "metadata": {},
   "outputs": [],
   "source": [
    "cbrt(-8)"
   ]
  },
  {
   "cell_type": "code",
   "execution_count": null,
   "id": "3d92dd27",
   "metadata": {},
   "outputs": [],
   "source": [
    "cbrt([-8, -3, 0.125, 1.331])"
   ]
  },
  {
   "cell_type": "code",
   "execution_count": null,
   "id": "9bca8b0b",
   "metadata": {},
   "outputs": [],
   "source": [
    "def cube(x):\n",
    "    return (x**(1/3))"
   ]
  },
  {
   "cell_type": "code",
   "execution_count": null,
   "id": "8a027da2",
   "metadata": {},
   "outputs": [],
   "source": [
    "cube(8)"
   ]
  },
  {
   "cell_type": "code",
   "execution_count": null,
   "id": "feea4bc7",
   "metadata": {},
   "outputs": [],
   "source": [
    "cube(-8)"
   ]
  },
  {
   "cell_type": "code",
   "execution_count": null,
   "id": "54d89327",
   "metadata": {},
   "outputs": [],
   "source": [
    "cube(-4)"
   ]
  },
  {
   "cell_type": "code",
   "execution_count": null,
   "id": "73dfa065",
   "metadata": {},
   "outputs": [],
   "source": [
    "pow(-4,1/3)"
   ]
  },
  {
   "cell_type": "code",
   "execution_count": null,
   "id": "a31c5bae",
   "metadata": {
    "scrolled": true
   },
   "outputs": [],
   "source": [
    "cube(-8)"
   ]
  },
  {
   "cell_type": "code",
   "execution_count": null,
   "id": "31fdecf9",
   "metadata": {},
   "outputs": [],
   "source": [
    "def cube(x):\n",
    "    return pow(x,(1/3))\n",
    "\n"
   ]
  },
  {
   "cell_type": "code",
   "execution_count": null,
   "id": "d4bc5823",
   "metadata": {},
   "outputs": [],
   "source": [
    "cube(10)"
   ]
  },
  {
   "cell_type": "code",
   "execution_count": null,
   "id": "7bada831",
   "metadata": {},
   "outputs": [],
   "source": [
    "1/3"
   ]
  },
  {
   "cell_type": "code",
   "execution_count": null,
   "id": "83611bcc",
   "metadata": {},
   "outputs": [],
   "source": [
    "x= -8\n",
    "x**(1/3),x"
   ]
  },
  {
   "cell_type": "code",
   "execution_count": null,
   "id": "68bdd33a",
   "metadata": {},
   "outputs": [],
   "source": [
    "x**0.33333333333"
   ]
  },
  {
   "cell_type": "code",
   "execution_count": null,
   "id": "8f8831e7",
   "metadata": {
    "scrolled": true
   },
   "outputs": [],
   "source": [
    "-8**(1/3)"
   ]
  },
  {
   "cell_type": "code",
   "execution_count": null,
   "id": "26d39d6a",
   "metadata": {},
   "outputs": [],
   "source": [
    "cube(8)"
   ]
  },
  {
   "cell_type": "code",
   "execution_count": null,
   "id": "b98d5011",
   "metadata": {},
   "outputs": [],
   "source": [
    "cube(27)"
   ]
  },
  {
   "cell_type": "code",
   "execution_count": null,
   "id": "6294e50e",
   "metadata": {},
   "outputs": [],
   "source": [
    "def cube(*args):\n",
    "    for x in args:\n",
    "      \n",
    "        for a in x:\n",
    "            y = (a)**(1/3)\n",
    "        \n",
    "           \n",
    "    return y\n"
   ]
  },
  {
   "cell_type": "code",
   "execution_count": null,
   "id": "87f07eb0",
   "metadata": {
    "scrolled": true
   },
   "outputs": [],
   "source": [
    "cube([-8, -3, 0.125, 1.331])"
   ]
  },
  {
   "cell_type": "code",
   "execution_count": null,
   "id": "a1101c09",
   "metadata": {},
   "outputs": [],
   "source": [
    "def cbrt(*args):\n",
    "    for x in args:\n",
    "        return (x)**(1/3)"
   ]
  },
  {
   "cell_type": "code",
   "execution_count": null,
   "id": "c94c21ab",
   "metadata": {},
   "outputs": [],
   "source": [
    "cbrt(8)"
   ]
  },
  {
   "cell_type": "code",
   "execution_count": null,
   "id": "4ebe8726",
   "metadata": {},
   "outputs": [],
   "source": [
    "cbrt(-8)"
   ]
  },
  {
   "cell_type": "code",
   "execution_count": null,
   "id": "fbedc5f3",
   "metadata": {},
   "outputs": [],
   "source": [
    "-8**(1/3)"
   ]
  },
  {
   "cell_type": "code",
   "execution_count": null,
   "id": "54648aae",
   "metadata": {},
   "outputs": [],
   "source": [
    "x = -8\n",
    "x\n"
   ]
  },
  {
   "cell_type": "code",
   "execution_count": null,
   "id": "adc84bf2",
   "metadata": {},
   "outputs": [],
   "source": [
    "x = (-8)\n",
    "x**(1/3)"
   ]
  },
  {
   "cell_type": "code",
   "execution_count": null,
   "id": "746a0f62",
   "metadata": {},
   "outputs": [],
   "source": [
    "x = 27\n",
    "\n",
    "cr = x ** (1./3.)\n",
    "\n",
    "print(cr)"
   ]
  },
  {
   "cell_type": "code",
   "execution_count": null,
   "id": "fbabc784",
   "metadata": {},
   "outputs": [],
   "source": [
    "def cuberoot(x):\n",
    "    if x < 0:\n",
    "        x = abs(x)\n",
    "        cube_root = x**(1/3)*(-1)\n",
    "    else:\n",
    "        cube_root = x**(1/3)\n",
    "    return cube_root"
   ]
  },
  {
   "cell_type": "code",
   "execution_count": null,
   "id": "f2504dcd",
   "metadata": {},
   "outputs": [],
   "source": [
    "cuberoot(-8)"
   ]
  },
  {
   "cell_type": "code",
   "execution_count": null,
   "id": "6cab1790",
   "metadata": {},
   "outputs": [],
   "source": [
    "cuberoot(0)"
   ]
  },
  {
   "cell_type": "code",
   "execution_count": 13,
   "id": "309ec3c3",
   "metadata": {},
   "outputs": [],
   "source": [
    "def cbrt(x):\n",
    "    if x<0:\n",
    "        return (pow(abs(x),1/3)*(-1))\n",
    "    else:\n",
    "        return (pow(x,1/3))"
   ]
  },
  {
   "cell_type": "code",
   "execution_count": 14,
   "id": "f1010429",
   "metadata": {},
   "outputs": [
    {
     "ename": "TypeError",
     "evalue": "'<' not supported between instances of 'complex' and 'int'",
     "output_type": "error",
     "traceback": [
      "\u001b[1;31m---------------------------------------------------------------------------\u001b[0m",
      "\u001b[1;31mTypeError\u001b[0m                                 Traceback (most recent call last)",
      "Input \u001b[1;32mIn [14]\u001b[0m, in \u001b[0;36m<cell line: 1>\u001b[1;34m()\u001b[0m\n\u001b[1;32m----> 1\u001b[0m \u001b[43mcbrt\u001b[49m\u001b[43m(\u001b[49m\u001b[38;5;241;43m8\u001b[39;49m\u001b[43mj\u001b[49m\u001b[43m)\u001b[49m\n",
      "Input \u001b[1;32mIn [13]\u001b[0m, in \u001b[0;36mcbrt\u001b[1;34m(x)\u001b[0m\n\u001b[0;32m      2\u001b[0m \u001b[38;5;28;01mif\u001b[39;00m \u001b[38;5;28mtype\u001b[39m(x) \u001b[38;5;241m==\u001b[39m x\u001b[38;5;241m.\u001b[39mimag:\n\u001b[0;32m      3\u001b[0m     \u001b[38;5;28;01mraise\u001b[39;00m \u001b[38;5;167;01mValueError\u001b[39;00m(\u001b[38;5;124m\"\u001b[39m\u001b[38;5;124m'\u001b[39m\u001b[38;5;124mcbrt\u001b[39m\u001b[38;5;124m'\u001b[39m\u001b[38;5;124m not supported for the input types\u001b[39m\u001b[38;5;124m\"\u001b[39m)\n\u001b[1;32m----> 4\u001b[0m \u001b[38;5;28;01mif\u001b[39;00m \u001b[43mx\u001b[49m\u001b[38;5;241;43m<\u001b[39;49m\u001b[38;5;241;43m0\u001b[39;49m:\n\u001b[0;32m      5\u001b[0m     \u001b[38;5;28;01mreturn\u001b[39;00m (\u001b[38;5;28mpow\u001b[39m(\u001b[38;5;28mabs\u001b[39m(x),\u001b[38;5;241m1\u001b[39m\u001b[38;5;241m/\u001b[39m\u001b[38;5;241m3\u001b[39m)\u001b[38;5;241m*\u001b[39m(\u001b[38;5;241m-\u001b[39m\u001b[38;5;241m1\u001b[39m))\n\u001b[0;32m      6\u001b[0m \u001b[38;5;28;01melse\u001b[39;00m:\n",
      "\u001b[1;31mTypeError\u001b[0m: '<' not supported between instances of 'complex' and 'int'"
     ]
    }
   ],
   "source": [
    "cbrt(8j)"
   ]
  },
  {
   "cell_type": "code",
   "execution_count": 3,
   "id": "1663aa7e",
   "metadata": {},
   "outputs": [],
   "source": [
    "from scipy.special import cbrt"
   ]
  },
  {
   "cell_type": "code",
   "execution_count": 4,
   "id": "d2d562f7",
   "metadata": {},
   "outputs": [
    {
     "ename": "TypeError",
     "evalue": "ufunc 'cbrt' not supported for the input types, and the inputs could not be safely coerced to any supported types according to the casting rule ''safe''",
     "output_type": "error",
     "traceback": [
      "\u001b[1;31m---------------------------------------------------------------------------\u001b[0m",
      "\u001b[1;31mTypeError\u001b[0m                                 Traceback (most recent call last)",
      "Input \u001b[1;32mIn [4]\u001b[0m, in \u001b[0;36m<cell line: 1>\u001b[1;34m()\u001b[0m\n\u001b[1;32m----> 1\u001b[0m \u001b[43mcbrt\u001b[49m\u001b[43m(\u001b[49m\u001b[38;5;241;43m8\u001b[39;49m\u001b[43mj\u001b[49m\u001b[43m)\u001b[49m\n",
      "\u001b[1;31mTypeError\u001b[0m: ufunc 'cbrt' not supported for the input types, and the inputs could not be safely coerced to any supported types according to the casting rule ''safe''"
     ]
    }
   ],
   "source": [
    "cbrt(8j)"
   ]
  },
  {
   "cell_type": "code",
   "execution_count": null,
   "id": "0003f6c6",
   "metadata": {},
   "outputs": [],
   "source": []
  },
  {
   "cell_type": "code",
   "execution_count": null,
   "id": "f290bfdb",
   "metadata": {},
   "outputs": [],
   "source": [
    "cbrt(-8)"
   ]
  },
  {
   "cell_type": "code",
   "execution_count": null,
   "id": "d11cd70f",
   "metadata": {},
   "outputs": [],
   "source": [
    "cbrt(27)"
   ]
  },
  {
   "cell_type": "code",
   "execution_count": null,
   "id": "ca3ac8ec",
   "metadata": {},
   "outputs": [],
   "source": [
    "cbrt(-27)"
   ]
  },
  {
   "cell_type": "code",
   "execution_count": 15,
   "id": "366e53ea",
   "metadata": {},
   "outputs": [
    {
     "data": {
      "text/plain": [
       "-3.0"
      ]
     },
     "execution_count": 15,
     "metadata": {},
     "output_type": "execute_result"
    }
   ],
   "source": [
    "cbrt(-27)"
   ]
  },
  {
   "cell_type": "code",
   "execution_count": null,
   "id": "623a8db6",
   "metadata": {},
   "outputs": [],
   "source": []
  }
 ],
 "metadata": {
  "kernelspec": {
   "display_name": "Python 3 (ipykernel)",
   "language": "python",
   "name": "python3"
  },
  "language_info": {
   "codemirror_mode": {
    "name": "ipython",
    "version": 3
   },
   "file_extension": ".py",
   "mimetype": "text/x-python",
   "name": "python",
   "nbconvert_exporter": "python",
   "pygments_lexer": "ipython3",
   "version": "3.9.12"
  }
 },
 "nbformat": 4,
 "nbformat_minor": 5
}
