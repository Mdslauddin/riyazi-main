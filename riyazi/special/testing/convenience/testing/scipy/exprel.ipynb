{
 "cells": [
  {
   "cell_type": "markdown",
   "id": "9841877e",
   "metadata": {},
   "source": [
    "### Relative error exponential, (exp(x) - 1)/x."
   ]
  },
  {
   "cell_type": "code",
   "execution_count": 1,
   "id": "67dccd5d",
   "metadata": {},
   "outputs": [],
   "source": [
    "from scipy.special import exprel"
   ]
  },
  {
   "cell_type": "code",
   "execution_count": 2,
   "id": "3a9d272a",
   "metadata": {},
   "outputs": [
    {
     "data": {
      "text/plain": [
       "1.0050167084168056"
      ]
     },
     "execution_count": 2,
     "metadata": {},
     "output_type": "execute_result"
    }
   ],
   "source": [
    "exprel(0.01)"
   ]
  },
  {
   "cell_type": "code",
   "execution_count": 3,
   "id": "a89361f0",
   "metadata": {},
   "outputs": [
    {
     "data": {
      "text/plain": [
       "array([0.88479687, 0.95162582, 1.        , 1.05170918, 1.13610167])"
      ]
     },
     "execution_count": 3,
     "metadata": {},
     "output_type": "execute_result"
    }
   ],
   "source": [
    "exprel([-0.25, -0.1, 0, 0.1, 0.25])"
   ]
  },
  {
   "cell_type": "code",
   "execution_count": 4,
   "id": "b648a92f",
   "metadata": {},
   "outputs": [
    {
     "data": {
      "text/plain": [
       "1.0000000025"
      ]
     },
     "execution_count": 4,
     "metadata": {},
     "output_type": "execute_result"
    }
   ],
   "source": [
    "exprel(5e-9)"
   ]
  },
  {
   "cell_type": "code",
   "execution_count": 5,
   "id": "002e3480",
   "metadata": {},
   "outputs": [
    {
     "data": {
      "text/plain": [
       "0.999999993922529"
      ]
     },
     "execution_count": 5,
     "metadata": {},
     "output_type": "execute_result"
    }
   ],
   "source": [
    "import numpy as np \n",
    "(np.exp(5e-9) - 1)/5e-9"
   ]
  },
  {
   "cell_type": "code",
   "execution_count": 6,
   "id": "ae1345d0",
   "metadata": {},
   "outputs": [],
   "source": [
    "from math import exp\n",
    "def exprel(x):\n",
    "    return (exp(x)-1)/x"
   ]
  },
  {
   "cell_type": "code",
   "execution_count": 8,
   "id": "75cdc7a8",
   "metadata": {},
   "outputs": [
    {
     "data": {
      "text/plain": [
       "1.005016708416795"
      ]
     },
     "execution_count": 8,
     "metadata": {},
     "output_type": "execute_result"
    }
   ],
   "source": [
    "exprel(0.01)"
   ]
  },
  {
   "cell_type": "code",
   "execution_count": null,
   "id": "3cdf716f",
   "metadata": {},
   "outputs": [],
   "source": []
  }
 ],
 "metadata": {
  "kernelspec": {
   "display_name": "Python 3 (ipykernel)",
   "language": "python",
   "name": "python3"
  },
  "language_info": {
   "codemirror_mode": {
    "name": "ipython",
    "version": 3
   },
   "file_extension": ".py",
   "mimetype": "text/x-python",
   "name": "python",
   "nbconvert_exporter": "python",
   "pygments_lexer": "ipython3",
   "version": "3.9.12"
  }
 },
 "nbformat": 4,
 "nbformat_minor": 5
}
