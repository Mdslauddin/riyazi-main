{
 "cells": [
  {
   "cell_type": "markdown",
   "id": "96aeabdc",
   "metadata": {},
   "source": [
    "### \tCompute exp(x) - 1."
   ]
  },
  {
   "cell_type": "code",
   "execution_count": 1,
   "id": "e207b551",
   "metadata": {},
   "outputs": [],
   "source": [
    "from scipy.special import expm1"
   ]
  },
  {
   "cell_type": "code",
   "execution_count": 2,
   "id": "97b4e481",
   "metadata": {},
   "outputs": [
    {
     "data": {
      "text/plain": [
       "1.718281828459045"
      ]
     },
     "execution_count": 2,
     "metadata": {},
     "output_type": "execute_result"
    }
   ],
   "source": [
    "expm1(1.0)"
   ]
  },
  {
   "cell_type": "code",
   "execution_count": 3,
   "id": "adc9aeae",
   "metadata": {},
   "outputs": [
    {
     "data": {
      "text/plain": [
       "array([-0.18126925, -0.09516258,  0.        ,  0.10517092,  0.22140276])"
      ]
     },
     "execution_count": 3,
     "metadata": {},
     "output_type": "execute_result"
    }
   ],
   "source": [
    "expm1([-0.2, -0.1, 0, 0.1, 0.2])"
   ]
  },
  {
   "cell_type": "code",
   "execution_count": 4,
   "id": "f95a0711",
   "metadata": {},
   "outputs": [
    {
     "data": {
      "text/plain": [
       "7.500000000002813e-13"
      ]
     },
     "execution_count": 4,
     "metadata": {},
     "output_type": "execute_result"
    }
   ],
   "source": [
    "expm1(7.5e-13)"
   ]
  },
  {
   "cell_type": "code",
   "execution_count": 5,
   "id": "7317d43d",
   "metadata": {},
   "outputs": [
    {
     "data": {
      "text/plain": [
       "7.500666754367558e-13"
      ]
     },
     "execution_count": 5,
     "metadata": {},
     "output_type": "execute_result"
    }
   ],
   "source": [
    "import numpy as np\n",
    "np.exp(7.5e-13) - 1"
   ]
  },
  {
   "cell_type": "code",
   "execution_count": 6,
   "id": "79cb54d8",
   "metadata": {},
   "outputs": [],
   "source": [
    "from math import exp\n",
    "def expm1(x):\n",
    "    return exp(x)-1"
   ]
  },
  {
   "cell_type": "code",
   "execution_count": 7,
   "id": "6289fd3e",
   "metadata": {},
   "outputs": [
    {
     "data": {
      "text/plain": [
       "1.718281828459045"
      ]
     },
     "execution_count": 7,
     "metadata": {},
     "output_type": "execute_result"
    }
   ],
   "source": [
    "expm1(1)"
   ]
  },
  {
   "cell_type": "code",
   "execution_count": 8,
   "id": "6bc3e18a",
   "metadata": {},
   "outputs": [
    {
     "data": {
      "text/plain": [
       "7.500666754367558e-13"
      ]
     },
     "execution_count": 8,
     "metadata": {},
     "output_type": "execute_result"
    }
   ],
   "source": [
    "expm1(7.5e-13)"
   ]
  },
  {
   "cell_type": "code",
   "execution_count": null,
   "id": "c44961ff",
   "metadata": {},
   "outputs": [],
   "source": []
  }
 ],
 "metadata": {
  "kernelspec": {
   "display_name": "Python 3 (ipykernel)",
   "language": "python",
   "name": "python3"
  },
  "language_info": {
   "codemirror_mode": {
    "name": "ipython",
    "version": 3
   },
   "file_extension": ".py",
   "mimetype": "text/x-python",
   "name": "python",
   "nbconvert_exporter": "python",
   "pygments_lexer": "ipython3",
   "version": "3.9.12"
  }
 },
 "nbformat": 4,
 "nbformat_minor": 5
}
