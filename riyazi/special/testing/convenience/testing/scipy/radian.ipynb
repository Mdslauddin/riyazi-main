{
 "cells": [
  {
   "cell_type": "markdown",
   "id": "4940593a",
   "metadata": {},
   "source": [
    "### Convert from degrees to radians."
   ]
  },
  {
   "cell_type": "code",
   "execution_count": 6,
   "id": "b843b3bc",
   "metadata": {},
   "outputs": [],
   "source": [
    "from math import pi\n",
    "def radian(d,m,s):\n",
    "    \n",
    "    \"\"\"\n",
    "     Convert from degrees to radians.\n",
    "\n",
    "     Returns the angle given in (d)egrees, (m)inutes, and (s)econds in\n",
    "     radians.\n",
    "    \n",
    "     Parameters\n",
    "     ----------\n",
    "     d : \n",
    "     Degrees, can be real-valued and imag-valued.\n",
    "     m : \n",
    "     Minutes, can be real-valued and imag-valued.\n",
    "     s :\n",
    "     Seconds, can be real-valued and img-valued.\n",
    "    \"\"\"\n",
    "    return (pi)* ((d+(m/60)+(s/3600))/180)"
   ]
  },
  {
   "cell_type": "code",
   "execution_count": 4,
   "id": "22d8f872",
   "metadata": {},
   "outputs": [
    {
     "data": {
      "text/plain": [
       "0.03609922669541605j"
      ]
     },
     "execution_count": 4,
     "metadata": {},
     "output_type": "execute_result"
    }
   ],
   "source": [
    "radian(2j,4j,6j)"
   ]
  },
  {
   "cell_type": "code",
   "execution_count": 5,
   "id": "629f3f8d",
   "metadata": {},
   "outputs": [
    {
     "data": {
      "text/plain": [
       "0.03609922669541605"
      ]
     },
     "execution_count": 5,
     "metadata": {},
     "output_type": "execute_result"
    }
   ],
   "source": [
    "radian(2,4,6)"
   ]
  },
  {
   "cell_type": "code",
   "execution_count": null,
   "id": "98c0abac",
   "metadata": {},
   "outputs": [],
   "source": []
  },
  {
   "cell_type": "code",
   "execution_count": null,
   "id": "0baa9b7f",
   "metadata": {},
   "outputs": [],
   "source": []
  },
  {
   "cell_type": "code",
   "execution_count": null,
   "id": "be2b2f4e",
   "metadata": {},
   "outputs": [],
   "source": [
    "sc.radian()"
   ]
  },
  {
   "cell_type": "code",
   "execution_count": null,
   "id": "64e695b3",
   "metadata": {},
   "outputs": [],
   "source": []
  },
  {
   "cell_type": "code",
   "execution_count": null,
   "id": "ac49e305",
   "metadata": {},
   "outputs": [],
   "source": []
  },
  {
   "cell_type": "code",
   "execution_count": null,
   "id": "af039398",
   "metadata": {},
   "outputs": [],
   "source": []
  },
  {
   "cell_type": "code",
   "execution_count": null,
   "id": "6a6e2a58",
   "metadata": {},
   "outputs": [],
   "source": []
  },
  {
   "cell_type": "code",
   "execution_count": 1,
   "id": "15d7c122",
   "metadata": {},
   "outputs": [],
   "source": [
    "import scipy.special as sc"
   ]
  },
  {
   "cell_type": "code",
   "execution_count": null,
   "id": "d6ef6be8",
   "metadata": {},
   "outputs": [],
   "source": [
    "import math\n",
    "math.radians(90)"
   ]
  },
  {
   "cell_type": "code",
   "execution_count": null,
   "id": "955ef2b1",
   "metadata": {},
   "outputs": [],
   "source": [
    "sc.radian(90,0,0)"
   ]
  },
  {
   "cell_type": "code",
   "execution_count": null,
   "id": "01d14eb0",
   "metadata": {},
   "outputs": [],
   "source": [
    "import math \n",
    "def radian(d, m, s):\n",
    "    \"\"\"\n",
    "    Convert from degrees to radians.\n",
    "\n",
    "    Returns the angle given in (d)egrees, (m)inutes, and (s)econds in\n",
    "    radians.\n",
    "    \n",
    "    \"\"\"\n",
    "    deg = math.radians(d)\n",
    "    minut = (m*pi)/(60*180)\n",
    "    second = 0\n",
    "    return deg+minut+second"
   ]
  },
  {
   "cell_type": "code",
   "execution_count": null,
   "id": "eae41628",
   "metadata": {
    "scrolled": true
   },
   "outputs": [],
   "source": [
    "radian(45,100,0)"
   ]
  },
  {
   "cell_type": "code",
   "execution_count": null,
   "id": "24856b82",
   "metadata": {},
   "outputs": [],
   "source": [
    "sc.radian(45,45,45)"
   ]
  },
  {
   "cell_type": "code",
   "execution_count": null,
   "id": "f06b12fe",
   "metadata": {},
   "outputs": [],
   "source": [
    "def sol(d,m,s):\n",
    "    d = (d*pi)/180\n",
    "    m = (m/60)\n",
    "    s = (s/3600)\n",
    "    return d+m+s,d,m,s"
   ]
  },
  {
   "cell_type": "code",
   "execution_count": null,
   "id": "3bfacb98",
   "metadata": {},
   "outputs": [],
   "source": [
    "sol(45,45,45)"
   ]
  },
  {
   "cell_type": "code",
   "execution_count": null,
   "id": "da659d8d",
   "metadata": {},
   "outputs": [],
   "source": [
    "math.radians(45)"
   ]
  },
  {
   "cell_type": "code",
   "execution_count": null,
   "id": "daa3c87e",
   "metadata": {},
   "outputs": [],
   "source": []
  },
  {
   "cell_type": "code",
   "execution_count": null,
   "id": "8bb7dbf9",
   "metadata": {},
   "outputs": [],
   "source": []
  },
  {
   "cell_type": "code",
   "execution_count": null,
   "id": "d6dfa21e",
   "metadata": {},
   "outputs": [],
   "source": [
    "def radian(d,m,s):\n",
    "    return (pi)* ((d+(m/60)+(s/3600))/180)"
   ]
  },
  {
   "cell_type": "code",
   "execution_count": null,
   "id": "0041488c",
   "metadata": {},
   "outputs": [],
   "source": [
    "exp(45,45,45)"
   ]
  },
  {
   "cell_type": "code",
   "execution_count": null,
   "id": "a32773d4",
   "metadata": {},
   "outputs": [],
   "source": [
    "sc.radian(45,45,45)"
   ]
  },
  {
   "cell_type": "code",
   "execution_count": null,
   "id": "c033c9ac",
   "metadata": {},
   "outputs": [],
   "source": [
    "exp(34,5,6)"
   ]
  },
  {
   "cell_type": "code",
   "execution_count": null,
   "id": "509161de",
   "metadata": {},
   "outputs": [],
   "source": [
    "exp(34,5,6)"
   ]
  },
  {
   "cell_type": "code",
   "execution_count": null,
   "id": "54665940",
   "metadata": {},
   "outputs": [],
   "source": []
  },
  {
   "cell_type": "code",
   "execution_count": null,
   "id": "8bee41ff",
   "metadata": {
    "scrolled": true
   },
   "outputs": [],
   "source": [
    "sc.radian(45,100,0)"
   ]
  },
  {
   "cell_type": "code",
   "execution_count": null,
   "id": "7d992152",
   "metadata": {},
   "outputs": [],
   "source": [
    "from  math import pi\n",
    "(1*pi)/(60*180)"
   ]
  },
  {
   "cell_type": "code",
   "execution_count": null,
   "id": "44534b8a",
   "metadata": {
    "scrolled": true
   },
   "outputs": [],
   "source": [
    "sc.radian(90, 0, 0)"
   ]
  },
  {
   "cell_type": "code",
   "execution_count": null,
   "id": "8dd8afd5",
   "metadata": {},
   "outputs": [],
   "source": [
    "sc.radian(0, 60 * 90, 0)"
   ]
  },
  {
   "cell_type": "code",
   "execution_count": null,
   "id": "a39d1acb",
   "metadata": {},
   "outputs": [],
   "source": [
    "sc.radian(0, 0, 60**2 * 90)"
   ]
  },
  {
   "cell_type": "code",
   "execution_count": null,
   "id": "0e5e914d",
   "metadata": {},
   "outputs": [],
   "source": [
    "sc.radian(1.5, 0, 0)"
   ]
  },
  {
   "cell_type": "code",
   "execution_count": null,
   "id": "6fdcab67",
   "metadata": {},
   "outputs": [],
   "source": [
    "sc.radian(1, 30, 0)"
   ]
  },
  {
   "cell_type": "code",
   "execution_count": null,
   "id": "3b33d9c3",
   "metadata": {},
   "outputs": [],
   "source": [
    "def radians()"
   ]
  }
 ],
 "metadata": {
  "kernelspec": {
   "display_name": "Python 3 (ipykernel)",
   "language": "python",
   "name": "python3"
  },
  "language_info": {
   "codemirror_mode": {
    "name": "ipython",
    "version": 3
   },
   "file_extension": ".py",
   "mimetype": "text/x-python",
   "name": "python",
   "nbconvert_exporter": "python",
   "pygments_lexer": "ipython3",
   "version": "3.9.12"
  }
 },
 "nbformat": 4,
 "nbformat_minor": 5
}
