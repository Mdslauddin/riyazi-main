{
 "cells": [
  {
   "cell_type": "markdown",
   "id": "36361847",
   "metadata": {},
   "source": [
    "### Tangent of angle x given in degrees."
   ]
  },
  {
   "cell_type": "code",
   "execution_count": 1,
   "id": "7c29307a",
   "metadata": {},
   "outputs": [],
   "source": [
    "import scipy.special as sc"
   ]
  },
  {
   "cell_type": "code",
   "execution_count": 2,
   "id": "f5ec4c75",
   "metadata": {},
   "outputs": [
    {
     "data": {
      "text/plain": [
       "array([0., 0., 0.])"
      ]
     },
     "execution_count": 2,
     "metadata": {},
     "output_type": "execute_result"
    }
   ],
   "source": [
    "import numpy as np \n",
    "x = 180 * np.arange(3)\n",
    "sc.tandg(x)"
   ]
  },
  {
   "cell_type": "code",
   "execution_count": 3,
   "id": "8a76a86a",
   "metadata": {},
   "outputs": [
    {
     "data": {
      "text/plain": [
       "array([ 0.0000000e+00, -1.2246468e-16, -2.4492936e-16])"
      ]
     },
     "execution_count": 3,
     "metadata": {},
     "output_type": "execute_result"
    }
   ],
   "source": [
    "np.tan(x * np.pi / 180)"
   ]
  },
  {
   "cell_type": "code",
   "execution_count": 5,
   "id": "e6cfdc03",
   "metadata": {},
   "outputs": [
    {
     "data": {
      "text/plain": [
       "5.671281819617707"
      ]
     },
     "execution_count": 5,
     "metadata": {},
     "output_type": "execute_result"
    }
   ],
   "source": [
    "sc.tandg(80)"
   ]
  },
  {
   "cell_type": "code",
   "execution_count": 6,
   "id": "f0965c3a",
   "metadata": {},
   "outputs": [],
   "source": [
    "\n",
    "    \n",
    "import math\n",
    "def exp(x):\n",
    "    return math.e**x\n",
    "\n",
    "\n",
    "def sin(x):\n",
    "    x = math.radians(x)\n",
    "    if x is x.real:\n",
    "        return ((exp(x*1j) - exp(x*(-1j))) / 2j).real\n",
    "    else:\n",
    "        return ((exp(x*1j) - exp(x*(-1j))) / 2j)\n",
    "\n",
    "def cos(x):\n",
    "    if x == 90:\n",
    "        return 0.0\n",
    "    \n",
    "    x = math.radians(x)\n",
    "  \n",
    "    if x is x.real:\n",
    "        return ((exp(x * 1j) + exp(x * -1j)) / 2).real \n",
    "    else:\n",
    "        return ((exp(x * 1j) + exp(x * -1j)) / 2)\n",
    "\n",
    "\n",
    "def tan(x):\n",
    "    if x == 90:\n",
    "        return math.inf\n",
    "    return (sin(x) / cos(x))"
   ]
  },
  {
   "cell_type": "code",
   "execution_count": 8,
   "id": "2baa9aec",
   "metadata": {},
   "outputs": [
    {
     "data": {
      "text/plain": [
       "5.6712818196177075"
      ]
     },
     "execution_count": 8,
     "metadata": {},
     "output_type": "execute_result"
    }
   ],
   "source": [
    "tan(80)"
   ]
  },
  {
   "cell_type": "code",
   "execution_count": null,
   "id": "906983de",
   "metadata": {},
   "outputs": [],
   "source": []
  }
 ],
 "metadata": {
  "kernelspec": {
   "display_name": "Python 3 (ipykernel)",
   "language": "python",
   "name": "python3"
  },
  "language_info": {
   "codemirror_mode": {
    "name": "ipython",
    "version": 3
   },
   "file_extension": ".py",
   "mimetype": "text/x-python",
   "name": "python",
   "nbconvert_exporter": "python",
   "pygments_lexer": "ipython3",
   "version": "3.9.12"
  }
 },
 "nbformat": 4,
 "nbformat_minor": 5
}
