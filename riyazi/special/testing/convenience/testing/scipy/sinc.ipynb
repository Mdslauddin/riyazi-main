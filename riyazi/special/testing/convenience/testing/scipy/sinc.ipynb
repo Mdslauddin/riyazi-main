{
 "cells": [
  {
   "cell_type": "markdown",
   "id": "31554fd0",
   "metadata": {},
   "source": [
    "### \tReturn the normalized sinc function."
   ]
  },
  {
   "cell_type": "code",
   "execution_count": null,
   "id": "51ee0fd9",
   "metadata": {},
   "outputs": [],
   "source": [
    "import numpy as np "
   ]
  },
  {
   "cell_type": "code",
   "execution_count": null,
   "id": "84e0d701",
   "metadata": {},
   "outputs": [],
   "source": [
    "import matplotlib.pyplot as plt\n",
    "x = np.linspace(-4, 4, 41)\n",
    "np.sinc(x)"
   ]
  },
  {
   "cell_type": "code",
   "execution_count": null,
   "id": "e0c25083",
   "metadata": {},
   "outputs": [],
   "source": [
    "plt.plot(x, np.sinc(x))\n",
    "\n",
    "plt.title(\"Sinc Function\")\n",
    "\n",
    "plt.ylabel(\"Amplitude\")\n",
    "\n",
    "plt.xlabel(\"X\")\n",
    "\n",
    "plt.show()"
   ]
  },
  {
   "cell_type": "code",
   "execution_count": null,
   "id": "4e6057c9",
   "metadata": {},
   "outputs": [],
   "source": [
    "def sinc(x):\n",
    "    return math.sin(x)"
   ]
  },
  {
   "cell_type": "code",
   "execution_count": 1,
   "id": "9351b087",
   "metadata": {},
   "outputs": [],
   "source": [
    "import scipy.special as sp"
   ]
  },
  {
   "cell_type": "code",
   "execution_count": 2,
   "id": "ddb816cf",
   "metadata": {},
   "outputs": [
    {
     "data": {
      "text/plain": [
       "3.8981718325193755e-17"
      ]
     },
     "execution_count": 2,
     "metadata": {},
     "output_type": "execute_result"
    }
   ],
   "source": [
    "sp.sinc(3)"
   ]
  },
  {
   "cell_type": "code",
   "execution_count": 10,
   "id": "a4eceb46",
   "metadata": {},
   "outputs": [],
   "source": [
    "from math import pi,sin\n",
    "def sinc(x, method='normalized'):\n",
    "    \"\"\"\n",
    "    Methods:\n",
    "    1. normalized\n",
    "    2. unnormalized\n",
    "    \n",
    "    \"\"\"\n",
    "    if (method == 'normalized'):\n",
    "        return (sin(pi*x)/(pi*x))\n",
    "    elif(method =='unnormalized'):\n",
    "        return (sin(x)/x)\n",
    "    else:\n",
    "        return ValueError('method 1 and 2 ')"
   ]
  },
  {
   "cell_type": "code",
   "execution_count": 11,
   "id": "54434805",
   "metadata": {},
   "outputs": [
    {
     "data": {
      "text/plain": [
       "(3.8981718325193755e-17, 0.0470400026866224)"
      ]
     },
     "execution_count": 11,
     "metadata": {},
     "output_type": "execute_result"
    }
   ],
   "source": [
    "sinc(3), sinc(3, 'unnormalized')"
   ]
  },
  {
   "cell_type": "code",
   "execution_count": 17,
   "id": "978c8dd1",
   "metadata": {},
   "outputs": [],
   "source": [
    "from math import pi,sin\n",
    "def sinc(x, method=1):\n",
    "    \"\"\"\n",
    "    Methods:\n",
    "    1. normalized\n",
    "    2. unnormalized\n",
    "    \n",
    "    \"\"\"\n",
    "    if (method == 1):\n",
    "        return (sin(pi*x)/(pi*x))\n",
    "    elif(method == 2):\n",
    "        return (sin(x)/x)\n",
    "    else:\n",
    "        raise ValueError('method 1 and 2 ')"
   ]
  },
  {
   "cell_type": "code",
   "execution_count": null,
   "id": "4593899a",
   "metadata": {},
   "outputs": [],
   "source": []
  },
  {
   "cell_type": "code",
   "execution_count": 18,
   "id": "feb31761",
   "metadata": {
    "scrolled": true
   },
   "outputs": [
    {
     "ename": "ValueError",
     "evalue": "method 1 and 2 ",
     "output_type": "error",
     "traceback": [
      "\u001b[1;31m---------------------------------------------------------------------------\u001b[0m",
      "\u001b[1;31mValueError\u001b[0m                                Traceback (most recent call last)",
      "Input \u001b[1;32mIn [18]\u001b[0m, in \u001b[0;36m<cell line: 1>\u001b[1;34m()\u001b[0m\n\u001b[1;32m----> 1\u001b[0m sinc(\u001b[38;5;241m3\u001b[39m), \u001b[43msinc\u001b[49m\u001b[43m(\u001b[49m\u001b[38;5;241;43m3\u001b[39;49m\u001b[43m,\u001b[49m\u001b[43m \u001b[49m\u001b[38;5;241;43m3\u001b[39;49m\u001b[43m)\u001b[49m\n",
      "Input \u001b[1;32mIn [17]\u001b[0m, in \u001b[0;36msinc\u001b[1;34m(x, method)\u001b[0m\n\u001b[0;32m     12\u001b[0m     \u001b[38;5;28;01mreturn\u001b[39;00m (sin(x)\u001b[38;5;241m/\u001b[39mx)\n\u001b[0;32m     13\u001b[0m \u001b[38;5;28;01melse\u001b[39;00m:\n\u001b[1;32m---> 14\u001b[0m     \u001b[38;5;28;01mraise\u001b[39;00m \u001b[38;5;167;01mValueError\u001b[39;00m(\u001b[38;5;124m'\u001b[39m\u001b[38;5;124mmethod 1 and 2 \u001b[39m\u001b[38;5;124m'\u001b[39m)\n",
      "\u001b[1;31mValueError\u001b[0m: method 1 and 2 "
     ]
    }
   ],
   "source": [
    "sinc(3), sinc(3, 3)"
   ]
  },
  {
   "cell_type": "code",
   "execution_count": 4,
   "id": "6834c23c",
   "metadata": {},
   "outputs": [
    {
     "data": {
      "text/plain": [
       "3.8981718325193755e-17"
      ]
     },
     "execution_count": 4,
     "metadata": {},
     "output_type": "execute_result"
    }
   ],
   "source": [
    "sinc(3)"
   ]
  },
  {
   "cell_type": "code",
   "execution_count": 6,
   "id": "e3adb50a",
   "metadata": {},
   "outputs": [],
   "source": [
    "from math import pi,sin\n",
    "def sinc(x, method='normalized'):\n",
    "    \"\"\"\n",
    "    Methods:\n",
    "    1. normalized\n",
    "    2. unnormalized\n",
    "    \n",
    "    \"\"\"\n",
    "    if method == 'normalized':\n",
    "        return (sin(pi*x)/(pi*x))"
   ]
  },
  {
   "cell_type": "code",
   "execution_count": null,
   "id": "244d00e3",
   "metadata": {},
   "outputs": [],
   "source": []
  }
 ],
 "metadata": {
  "kernelspec": {
   "display_name": "Python 3 (ipykernel)",
   "language": "python",
   "name": "python3"
  },
  "language_info": {
   "codemirror_mode": {
    "name": "ipython",
    "version": 3
   },
   "file_extension": ".py",
   "mimetype": "text/x-python",
   "name": "python",
   "nbconvert_exporter": "python",
   "pygments_lexer": "ipython3",
   "version": "3.9.12"
  }
 },
 "nbformat": 4,
 "nbformat_minor": 5
}
