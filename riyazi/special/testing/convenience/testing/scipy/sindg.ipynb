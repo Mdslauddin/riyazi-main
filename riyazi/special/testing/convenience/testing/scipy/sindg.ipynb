{
 "cells": [
  {
   "cell_type": "markdown",
   "id": "bba68c7c",
   "metadata": {},
   "source": [
    "### Sine of the angle x given in degrees."
   ]
  },
  {
   "cell_type": "code",
   "execution_count": 1,
   "id": "1838617a",
   "metadata": {},
   "outputs": [],
   "source": [
    "import scipy.special as sc"
   ]
  },
  {
   "cell_type": "code",
   "execution_count": 2,
   "id": "4d09f2ab",
   "metadata": {},
   "outputs": [
    {
     "data": {
      "text/plain": [
       "array([ 0., -0.,  0.])"
      ]
     },
     "execution_count": 2,
     "metadata": {},
     "output_type": "execute_result"
    }
   ],
   "source": [
    "import numpy as np \n",
    "x = 180 * np.arange(3)\n",
    "sc.sindg(x)"
   ]
  },
  {
   "cell_type": "code",
   "execution_count": 3,
   "id": "a3acbdd0",
   "metadata": {},
   "outputs": [
    {
     "data": {
      "text/plain": [
       "array([ 0.0000000e+00,  1.2246468e-16, -2.4492936e-16])"
      ]
     },
     "execution_count": 3,
     "metadata": {},
     "output_type": "execute_result"
    }
   ],
   "source": [
    "np.sin(x * np.pi / 180)"
   ]
  },
  {
   "cell_type": "code",
   "execution_count": 4,
   "id": "7562e19e",
   "metadata": {},
   "outputs": [
    {
     "data": {
      "text/plain": [
       "1.0"
      ]
     },
     "execution_count": 4,
     "metadata": {},
     "output_type": "execute_result"
    }
   ],
   "source": [
    "sc.sindg(90)"
   ]
  },
  {
   "cell_type": "code",
   "execution_count": 10,
   "id": "c31ce64e",
   "metadata": {},
   "outputs": [
    {
     "data": {
      "text/plain": [
       "0.0"
      ]
     },
     "execution_count": 10,
     "metadata": {},
     "output_type": "execute_result"
    }
   ],
   "source": [
    "sc.sindg(0)"
   ]
  },
  {
   "cell_type": "code",
   "execution_count": 12,
   "id": "1658bc86",
   "metadata": {},
   "outputs": [
    {
     "data": {
      "text/plain": [
       "0.8660254037844387"
      ]
     },
     "execution_count": 12,
     "metadata": {},
     "output_type": "execute_result"
    }
   ],
   "source": [
    "sc.sindg(120)"
   ]
  },
  {
   "cell_type": "code",
   "execution_count": null,
   "id": "35aa4f71",
   "metadata": {},
   "outputs": [],
   "source": []
  },
  {
   "cell_type": "code",
   "execution_count": 7,
   "id": "da9b0a98",
   "metadata": {},
   "outputs": [],
   "source": [
    "import math\n",
    "def exp(x):\n",
    "    return math.e**x\n",
    "\n",
    "def sin(x):\n",
    "    x = math.radians(x)\n",
    "    if x is x.real:\n",
    "        return ((exp(x*1j) - exp(x*(-1j))) / 2j).real\n",
    "    else:\n",
    "        return ((exp(x*1j) - exp(x*(-1j))) / 2j)"
   ]
  },
  {
   "cell_type": "code",
   "execution_count": 8,
   "id": "c53c7d61",
   "metadata": {},
   "outputs": [
    {
     "data": {
      "text/plain": [
       "1.0"
      ]
     },
     "execution_count": 8,
     "metadata": {},
     "output_type": "execute_result"
    }
   ],
   "source": [
    "sin(90)"
   ]
  },
  {
   "cell_type": "code",
   "execution_count": 11,
   "id": "4eacb431",
   "metadata": {},
   "outputs": [
    {
     "data": {
      "text/plain": [
       "0.0"
      ]
     },
     "execution_count": 11,
     "metadata": {},
     "output_type": "execute_result"
    }
   ],
   "source": [
    "sin(0)"
   ]
  },
  {
   "cell_type": "code",
   "execution_count": 13,
   "id": "97bc73c4",
   "metadata": {},
   "outputs": [
    {
     "data": {
      "text/plain": [
       "0.8660254037844387"
      ]
     },
     "execution_count": 13,
     "metadata": {},
     "output_type": "execute_result"
    }
   ],
   "source": [
    "sin(120)"
   ]
  },
  {
   "cell_type": "code",
   "execution_count": null,
   "id": "765221fb",
   "metadata": {},
   "outputs": [],
   "source": []
  }
 ],
 "metadata": {
  "kernelspec": {
   "display_name": "Python 3 (ipykernel)",
   "language": "python",
   "name": "python3"
  },
  "language_info": {
   "codemirror_mode": {
    "name": "ipython",
    "version": 3
   },
   "file_extension": ".py",
   "mimetype": "text/x-python",
   "name": "python",
   "nbconvert_exporter": "python",
   "pygments_lexer": "ipython3",
   "version": "3.9.12"
  }
 },
 "nbformat": 4,
 "nbformat_minor": 5
}
