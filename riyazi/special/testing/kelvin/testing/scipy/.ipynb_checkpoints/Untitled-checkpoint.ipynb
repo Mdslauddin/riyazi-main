{
 "cells": [
  {
   "cell_type": "code",
   "execution_count": null,
   "id": "ce46e370",
   "metadata": {},
   "outputs": [],
   "source": [
    "def kelvin(x):\n",
    "    pass\n",
    "def kelvin_zeros(nt):\n",
    "    pass\n",
    "\n",
    "def ber(x):\n",
    "    pass\n",
    "\n",
    "def bei(x):\n",
    "    pass\n",
    "\n",
    "def berp(x):\n",
    "    pass\n",
    "\n",
    "def beip(x):\n",
    "    pass\n",
    "\n",
    "def ker(x):\n",
    "    pass\n",
    "\n",
    "def kei(x):\n",
    "    pass\n",
    "\n",
    "def kerp(x):\n",
    "    pass\n",
    "\n",
    "def keip(x):\n",
    "    pass"
   ]
  },
  {
   "cell_type": "code",
   "execution_count": null,
   "id": "8ed9ea8c",
   "metadata": {},
   "outputs": [],
   "source": [
    "def ber_zeros(n):\n",
    "    pass\n",
    "\n",
    "def bei_zeros(nt):\n",
    "    pass\n",
    "\n",
    "\n",
    "def berp_zeros(nt):\n",
    "    pass\n",
    "\n",
    "def beip_zeors(nt):\n",
    "    pass\n",
    "\n",
    "def ker_zeors(nt):\n",
    "    pass\n",
    "\n",
    "def kei_zeros(nt):\n",
    "    pass\n",
    "\n",
    "def kerp_zeros(nt):\n",
    "    pass\n",
    "\n",
    "def keip_zeros(nt):\n",
    "    pass\n",
    "\n"
   ]
  },
  {
   "cell_type": "code",
   "execution_count": null,
   "id": "4130c511",
   "metadata": {},
   "outputs": [],
   "source": [
    "from math import e,pi\n",
    "import mpmath as mp\n",
    "def ber(n,x):\n",
    "    return mp.besselj(n,x*pow(e,((3*pi*1j)/4))).real\n",
    "from math import e,pi\n",
    "def bei(n,x):\n",
    "    return mp.besselj(n,x*pow(e,((3*pi*1j)/4))).imag\n",
    "def berp(v,x):\n",
    "    return sp.ber(v+1,x)"
   ]
  },
  {
   "cell_type": "code",
   "execution_count": 30,
   "id": "34e7118b",
   "metadata": {},
   "outputs": [],
   "source": [
    "import mpmath as mp\n",
    "def ker(n,x):\n",
    "    return mp.bessely(n,x*pow(e,((3*pi*1j)/4)))"
   ]
  },
  {
   "cell_type": "code",
   "execution_count": 31,
   "id": "20dbe592",
   "metadata": {},
   "outputs": [],
   "source": [
    "import scipy.special as sp"
   ]
  },
  {
   "cell_type": "code",
   "execution_count": 32,
   "id": "ddc274b1",
   "metadata": {},
   "outputs": [
    {
     "data": {
      "text/plain": [
       "-0.06702923330379883"
      ]
     },
     "execution_count": 32,
     "metadata": {},
     "output_type": "execute_result"
    }
   ],
   "source": [
    "sp.ker(3)"
   ]
  },
  {
   "cell_type": "code",
   "execution_count": 33,
   "id": "9274b261",
   "metadata": {},
   "outputs": [
    {
     "data": {
      "text/plain": [
       "mpc(real='-1.8949146500182055', imag='-0.18883504741433568')"
      ]
     },
     "execution_count": 33,
     "metadata": {},
     "output_type": "execute_result"
    }
   ],
   "source": [
    "ker(0,3)"
   ]
  },
  {
   "cell_type": "code",
   "execution_count": null,
   "id": "df27d950",
   "metadata": {},
   "outputs": [],
   "source": []
  },
  {
   "cell_type": "code",
   "execution_count": null,
   "id": "c92e394c",
   "metadata": {},
   "outputs": [],
   "source": []
  },
  {
   "cell_type": "code",
   "execution_count": null,
   "id": "1497e5cf",
   "metadata": {},
   "outputs": [],
   "source": []
  },
  {
   "cell_type": "code",
   "execution_count": null,
   "id": "0d27f748",
   "metadata": {},
   "outputs": [],
   "source": []
  },
  {
   "cell_type": "markdown",
   "id": "5cf5c4d5",
   "metadata": {},
   "source": [
    "https://en.wikipedia.org/wiki/Kelvin_functions"
   ]
  },
  {
   "cell_type": "code",
   "execution_count": null,
   "id": "ab33e657",
   "metadata": {},
   "outputs": [],
   "source": []
  },
  {
   "cell_type": "code",
   "execution_count": null,
   "id": "81adef66",
   "metadata": {},
   "outputs": [],
   "source": [
    "import scipy.special as sp "
   ]
  },
  {
   "cell_type": "code",
   "execution_count": null,
   "id": "4706a1e5",
   "metadata": {},
   "outputs": [],
   "source": [
    "sp.kelvin(2)"
   ]
  },
  {
   "cell_type": "code",
   "execution_count": null,
   "id": "cb467a32",
   "metadata": {},
   "outputs": [],
   "source": [
    "sp.ber(300)"
   ]
  },
  {
   "cell_type": "code",
   "execution_count": null,
   "id": "e3890888",
   "metadata": {},
   "outputs": [],
   "source": [
    "import mpmath as mp"
   ]
  },
  {
   "cell_type": "code",
   "execution_count": null,
   "id": "26abe77d",
   "metadata": {},
   "outputs": [],
   "source": [
    "mp.ber(0,300)"
   ]
  },
  {
   "cell_type": "code",
   "execution_count": null,
   "id": "f408b79f",
   "metadata": {},
   "outputs": [],
   "source": [
    "from math import e,pi\n",
    "def ber(n,x):\n",
    "    return mp.besselj(n,x*pow(e,((3*pi*1j)/4))).real"
   ]
  },
  {
   "cell_type": "code",
   "execution_count": null,
   "id": "8fa36e0c",
   "metadata": {},
   "outputs": [],
   "source": [
    "ber(0,300)"
   ]
  },
  {
   "cell_type": "code",
   "execution_count": null,
   "id": "e07700e8",
   "metadata": {},
   "outputs": [],
   "source": [
    "sp.ber(20)"
   ]
  },
  {
   "cell_type": "code",
   "execution_count": null,
   "id": "42f4cedf",
   "metadata": {},
   "outputs": [],
   "source": [
    "ber(0,20)"
   ]
  },
  {
   "cell_type": "code",
   "execution_count": null,
   "id": "f6169b11",
   "metadata": {},
   "outputs": [],
   "source": [
    "sp.bei(3)"
   ]
  },
  {
   "cell_type": "code",
   "execution_count": null,
   "id": "accf96b2",
   "metadata": {},
   "outputs": [],
   "source": [
    "mp.bei(0,3)"
   ]
  },
  {
   "cell_type": "code",
   "execution_count": null,
   "id": "3d8634e4",
   "metadata": {},
   "outputs": [],
   "source": [
    "ber(0,3)"
   ]
  },
  {
   "cell_type": "code",
   "execution_count": null,
   "id": "cdf38fc3",
   "metadata": {},
   "outputs": [],
   "source": [
    "from math import e,pi\n",
    "def bei(n,x):\n",
    "    return mp.besselj(n,x*pow(e,((3*pi*1j)/4))).imag"
   ]
  },
  {
   "cell_type": "code",
   "execution_count": null,
   "id": "44fefe49",
   "metadata": {},
   "outputs": [],
   "source": [
    "bei(0,3)"
   ]
  },
  {
   "cell_type": "markdown",
   "id": "e344e838",
   "metadata": {},
   "source": [
    "https://dlmf.nist.gov/10#PT5"
   ]
  },
  {
   "cell_type": "code",
   "execution_count": null,
   "id": "db2ea525",
   "metadata": {},
   "outputs": [],
   "source": [
    "sp.berp(3)"
   ]
  },
  {
   "cell_type": "code",
   "execution_count": null,
   "id": "26647661",
   "metadata": {},
   "outputs": [],
   "source": [
    "def berp(v,x):\n",
    "    return sp.ber(v+1,x)"
   ]
  },
  {
   "cell_type": "code",
   "execution_count": null,
   "id": "1ad4e4b5",
   "metadata": {},
   "outputs": [],
   "source": [
    "berp(2,3)"
   ]
  },
  {
   "cell_type": "code",
   "execution_count": 1,
   "id": "aee27785",
   "metadata": {},
   "outputs": [],
   "source": [
    "import scipy.special as sp "
   ]
  },
  {
   "cell_type": "code",
   "execution_count": 3,
   "id": "0fc5e96e",
   "metadata": {},
   "outputs": [
    {
     "data": {
      "text/plain": [
       "(-0.06702923330379883, 0.000637164191105223)"
      ]
     },
     "execution_count": 3,
     "metadata": {},
     "output_type": "execute_result"
    }
   ],
   "source": [
    "sp.ker(3) , sp.ker(9)"
   ]
  },
  {
   "cell_type": "code",
   "execution_count": 4,
   "id": "95f13386",
   "metadata": {},
   "outputs": [],
   "source": [
    "from math import e,pi\n",
    "import mpmath as mp\n",
    "def ker(n,x):\n",
    "    return (pow(e,(-pi*1j)/2)) *(mp.besselk(n,x*pow(e,((3j*pi)/4)))) "
   ]
  },
  {
   "cell_type": "code",
   "execution_count": 6,
   "id": "ea196cfd",
   "metadata": {},
   "outputs": [
    {
     "data": {
      "text/plain": [
       "(mpc(real='0.74660844983511898', imag='6.1541376435882613'),\n",
       " mpc(real='-232.27562660557035', imag='-77.638135216668118'))"
      ]
     },
     "execution_count": 6,
     "metadata": {},
     "output_type": "execute_result"
    }
   ],
   "source": [
    "ker(0,3), ker(0,9)"
   ]
  },
  {
   "cell_type": "code",
   "execution_count": null,
   "id": "d2f39b1d",
   "metadata": {},
   "outputs": [],
   "source": [
    "from math import pi,e\n",
    "import mpmath as mp \n",
    "\n",
    "def ker(n,x):\n",
    "    return (pow(e,(pi*1j)/2)* (mp.besselk(n,x*pow(e,(3j*pi)/4)))).real"
   ]
  },
  {
   "cell_type": "code",
   "execution_count": null,
   "id": "a9131c4b",
   "metadata": {},
   "outputs": [],
   "source": [
    "ker(0,3)"
   ]
  },
  {
   "cell_type": "code",
   "execution_count": null,
   "id": "0db19c1d",
   "metadata": {},
   "outputs": [],
   "source": [
    "ker(1,3)"
   ]
  },
  {
   "cell_type": "code",
   "execution_count": null,
   "id": "cc0be878",
   "metadata": {},
   "outputs": [],
   "source": []
  },
  {
   "cell_type": "code",
   "execution_count": null,
   "id": "f66f74d3",
   "metadata": {},
   "outputs": [],
   "source": []
  },
  {
   "cell_type": "code",
   "execution_count": null,
   "id": "372bc5f6",
   "metadata": {},
   "outputs": [],
   "source": [
    "from math import pi,e\n",
    "import mpmath as mp \n",
    "import scipy.special as sp \n",
    "\n",
    "def ker(n,x):\n",
    "    return (pow(e,(pi*1j)/2)* (sp.k0(x*(e**(3j*pi)/4)) "
   ]
  },
  {
   "cell_type": "code",
   "execution_count": null,
   "id": "f159d16e",
   "metadata": {},
   "outputs": [],
   "source": [
    "def ker(n,x):\n",
    "    return (pow(e,(pi*1j)/2))* (sp.k0(x*(e**(3j*pi)/4)))"
   ]
  },
  {
   "cell_type": "code",
   "execution_count": null,
   "id": "8173b2d5",
   "metadata": {},
   "outputs": [],
   "source": [
    "ker(0,3)"
   ]
  },
  {
   "cell_type": "code",
   "execution_count": null,
   "id": "9370ed09",
   "metadata": {},
   "outputs": [],
   "source": [
    "import mpmath as mp "
   ]
  },
  {
   "cell_type": "code",
   "execution_count": null,
   "id": "60a2e153",
   "metadata": {},
   "outputs": [],
   "source": [
    "mp.ker(0,3)"
   ]
  },
  {
   "cell_type": "code",
   "execution_count": null,
   "id": "5572e951",
   "metadata": {},
   "outputs": [],
   "source": [
    "mp.kei(0,3)"
   ]
  },
  {
   "cell_type": "code",
   "execution_count": null,
   "id": "bbdb49e3",
   "metadata": {},
   "outputs": [],
   "source": [
    "import scipy.special as sp"
   ]
  },
  {
   "cell_type": "code",
   "execution_count": null,
   "id": "6ef67cae",
   "metadata": {},
   "outputs": [],
   "source": [
    "sp.kei(3)"
   ]
  },
  {
   "cell_type": "code",
   "execution_count": null,
   "id": "a5423ca5",
   "metadata": {},
   "outputs": [],
   "source": [
    "sp.kelvin(3)"
   ]
  },
  {
   "cell_type": "code",
   "execution_count": null,
   "id": "3b9d170b",
   "metadata": {},
   "outputs": [],
   "source": [
    "sp.ber_zeros(3)"
   ]
  },
  {
   "cell_type": "code",
   "execution_count": null,
   "id": "b6c8b04f",
   "metadata": {},
   "outputs": [],
   "source": [
    "sp.ber(1)"
   ]
  },
  {
   "cell_type": "code",
   "execution_count": null,
   "id": "28db572a",
   "metadata": {},
   "outputs": [],
   "source": []
  },
  {
   "cell_type": "code",
   "execution_count": null,
   "id": "a156f51c",
   "metadata": {},
   "outputs": [],
   "source": []
  },
  {
   "cell_type": "code",
   "execution_count": null,
   "id": "bee319f0",
   "metadata": {},
   "outputs": [],
   "source": []
  },
  {
   "cell_type": "code",
   "execution_count": null,
   "id": "b3bf5b72",
   "metadata": {},
   "outputs": [],
   "source": []
  },
  {
   "cell_type": "code",
   "execution_count": null,
   "id": "0d2857a9",
   "metadata": {},
   "outputs": [],
   "source": [
    "mp.ker(0,3)"
   ]
  },
  {
   "cell_type": "code",
   "execution_count": null,
   "id": "a3bcc8bb",
   "metadata": {},
   "outputs": [],
   "source": [
    "ker(0,3)"
   ]
  },
  {
   "cell_type": "code",
   "execution_count": null,
   "id": "ca3d6c5f",
   "metadata": {},
   "outputs": [],
   "source": [
    "3*pi*1j"
   ]
  },
  {
   "cell_type": "code",
   "execution_count": null,
   "id": "e8d2399e",
   "metadata": {},
   "outputs": [],
   "source": [
    "ker(0,2)"
   ]
  },
  {
   "cell_type": "code",
   "execution_count": null,
   "id": "8ff1dbe4",
   "metadata": {},
   "outputs": [],
   "source": [
    "sp.ker(2)"
   ]
  },
  {
   "cell_type": "code",
   "execution_count": null,
   "id": "a5e3e8e7",
   "metadata": {},
   "outputs": [],
   "source": [
    "import scipy.special as sp \n"
   ]
  },
  {
   "cell_type": "code",
   "execution_count": null,
   "id": "778d14af",
   "metadata": {},
   "outputs": [],
   "source": [
    "from math import e,pi\n",
    "import mpmath as mp \n",
    "def ker(n,x):\n",
    "    return mp.besselk(0,x*pow(e,pi*1j)/4)"
   ]
  },
  {
   "cell_type": "code",
   "execution_count": null,
   "id": "8bc7e165",
   "metadata": {},
   "outputs": [],
   "source": [
    "ker(0,3)"
   ]
  },
  {
   "cell_type": "code",
   "execution_count": null,
   "id": "f55472a0",
   "metadata": {},
   "outputs": [],
   "source": [
    "sp.ker(3)"
   ]
  },
  {
   "cell_type": "code",
   "execution_count": null,
   "id": "85a91fd5",
   "metadata": {},
   "outputs": [],
   "source": [
    "mp.ker(0,3)"
   ]
  },
  {
   "cell_type": "code",
   "execution_count": null,
   "id": "4cd3fca5",
   "metadata": {},
   "outputs": [],
   "source": []
  },
  {
   "cell_type": "code",
   "execution_count": null,
   "id": "e89c6aee",
   "metadata": {},
   "outputs": [],
   "source": []
  },
  {
   "cell_type": "code",
   "execution_count": null,
   "id": "9bad4e3b",
   "metadata": {},
   "outputs": [],
   "source": []
  },
  {
   "cell_type": "code",
   "execution_count": null,
   "id": "9dde9c08",
   "metadata": {},
   "outputs": [],
   "source": []
  },
  {
   "cell_type": "code",
   "execution_count": null,
   "id": "698672ac",
   "metadata": {},
   "outputs": [],
   "source": []
  },
  {
   "cell_type": "code",
   "execution_count": null,
   "id": "ab62487c",
   "metadata": {},
   "outputs": [],
   "source": []
  },
  {
   "cell_type": "code",
   "execution_count": null,
   "id": "ce88819b",
   "metadata": {},
   "outputs": [],
   "source": []
  }
 ],
 "metadata": {
  "kernelspec": {
   "display_name": "Python 3 (ipykernel)",
   "language": "python",
   "name": "python3"
  },
  "language_info": {
   "codemirror_mode": {
    "name": "ipython",
    "version": 3
   },
   "file_extension": ".py",
   "mimetype": "text/x-python",
   "name": "python",
   "nbconvert_exporter": "python",
   "pygments_lexer": "ipython3",
   "version": "3.9.12"
  }
 },
 "nbformat": 4,
 "nbformat_minor": 5
}
