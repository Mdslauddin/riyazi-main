{
 "cells": [
  {
   "cell_type": "code",
   "execution_count": 1,
   "id": "7bf3a9d5",
   "metadata": {},
   "outputs": [],
   "source": [
    "from math import e,pi\n",
    "def ber(n,x):\n",
    "    return mp.besselj(n,x*pow(e,((3*pi*1j)/4)))"
   ]
  },
  {
   "cell_type": "code",
   "execution_count": null,
   "id": "d6478cc7",
   "metadata": {},
   "outputs": [],
   "source": []
  }
 ],
 "metadata": {
  "kernelspec": {
   "display_name": "Python 3 (ipykernel)",
   "language": "python",
   "name": "python3"
  },
  "language_info": {
   "codemirror_mode": {
    "name": "ipython",
    "version": 3
   },
   "file_extension": ".py",
   "mimetype": "text/x-python",
   "name": "python",
   "nbconvert_exporter": "python",
   "pygments_lexer": "ipython3",
   "version": "3.9.12"
  }
 },
 "nbformat": 4,
 "nbformat_minor": 5
}
