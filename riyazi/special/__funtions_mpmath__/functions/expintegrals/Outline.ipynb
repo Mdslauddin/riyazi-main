{
 "cells": [
  {
   "cell_type": "markdown",
   "id": "d6730755",
   "metadata": {},
   "source": [
    "# Exponential integrals and error functions\n",
    "\n",
    "**Incomplete gamma functions**\n",
    "\n",
    "- gammainc\n",
    "\n",
    "**Exponential integrals**\n",
    "\n",
    "- ei\n",
    "- e1\n",
    "- expint\n",
    "\n",
    "**Logarithmic integral**\n",
    "\n",
    "- li\n",
    "\n",
    "**Trigonometric integrals**\n",
    "\n",
    "- ci\n",
    "- si\n",
    "\n",
    "**Hyperbolic integrals**\n",
    "\n",
    "- chi\n",
    "- shi\n",
    "\n",
    "**Error functions**\n",
    "\n",
    "- erf\n",
    "- erfc\n",
    "- erfi\n",
    "- erfinv\n",
    "\n",
    "**The normal distribution**\n",
    "\n",
    "- npdf\n",
    "- ncdf\n",
    "\n",
    "**Fresnel integrals**\n",
    "\n",
    "- fresnels\n",
    "- fresnelc\n",
    "\n"
   ]
  },
  {
   "cell_type": "code",
   "execution_count": null,
   "id": "9ae7dac1",
   "metadata": {},
   "outputs": [],
   "source": [
    "import math \n",
    "def gammainc(z, a=0, b=None, regularized=False):\n",
    "    return float(math.factorial(z-1))"
   ]
  },
  {
   "cell_type": "code",
   "execution_count": null,
   "id": "7c4155ea",
   "metadata": {},
   "outputs": [],
   "source": []
  },
  {
   "cell_type": "code",
   "execution_count": null,
   "id": "6c129e31",
   "metadata": {},
   "outputs": [],
   "source": []
  },
  {
   "cell_type": "code",
   "execution_count": null,
   "id": "07ff41ed",
   "metadata": {},
   "outputs": [],
   "source": []
  },
  {
   "cell_type": "code",
   "execution_count": null,
   "id": "03354b9b",
   "metadata": {},
   "outputs": [],
   "source": []
  },
  {
   "cell_type": "code",
   "execution_count": null,
   "id": "7a3694ce",
   "metadata": {},
   "outputs": [],
   "source": []
  },
  {
   "cell_type": "code",
   "execution_count": null,
   "id": "56a45ed7",
   "metadata": {},
   "outputs": [],
   "source": []
  },
  {
   "cell_type": "markdown",
   "id": "a88d8b4b",
   "metadata": {},
   "source": [
    "# Exponential integrals and error functions\n",
    "\n",
    "### Incomplete gamma functions\n",
    "\n",
    "**gammainc()**\n",
    "\n",
    "### Exponential integrals\n",
    "\n",
    "**ei()**\n",
    "\n",
    "**e1()**\n",
    "\n",
    "**expint()**\n",
    "\n",
    "### Logarithmic integral\n",
    "\n",
    "**li()**\n",
    "\n",
    "### Trigonometric integrals\n",
    "\n",
    "**ci()**\n",
    "\n",
    "**si()**\n",
    "\n",
    "### Hyperbolic integrals\n",
    "\n",
    "**chi()**\n",
    "\n",
    "**shi()**\n",
    "\n",
    "### Error functions\n",
    "\n",
    "**erf()**\n",
    "\n",
    "**erfc()**\n",
    "\n",
    "**erfi()**\n",
    "\n",
    "**erfinv()**\n",
    "\n",
    "### The normal distribution\n",
    "\n",
    "**npdf()**\n",
    "\n",
    "**ncdf()**\n",
    "\n",
    "### Fresnel integrals\n",
    "\n",
    "**fresnels()**\n",
    "\n",
    "**fresnelc()**\n",
    "\n"
   ]
  },
  {
   "cell_type": "code",
   "execution_count": null,
   "id": "6f84b69e",
   "metadata": {},
   "outputs": [],
   "source": []
  },
  {
   "cell_type": "code",
   "execution_count": null,
   "id": "fb8060c1",
   "metadata": {},
   "outputs": [],
   "source": []
  },
  {
   "cell_type": "code",
   "execution_count": null,
   "id": "ca944745",
   "metadata": {},
   "outputs": [],
   "source": []
  },
  {
   "cell_type": "code",
   "execution_count": 1,
   "id": "172a2599",
   "metadata": {},
   "outputs": [],
   "source": [
    "import mpmath as mp\n",
    "import math\n",
    "import scipy.special as sp"
   ]
  },
  {
   "cell_type": "code",
   "execution_count": null,
   "id": "bbc5fe45",
   "metadata": {},
   "outputs": [],
   "source": [
    "import math \n",
    "def gammainc(z, a=0, b=None, regularized=False):\n",
    "    return float(math.factorial(z-1))"
   ]
  },
  {
   "cell_type": "code",
   "execution_count": null,
   "id": "ea2fa0b7",
   "metadata": {},
   "outputs": [],
   "source": [
    "gammainc(9)"
   ]
  },
  {
   "cell_type": "code",
   "execution_count": null,
   "id": "a20262cf",
   "metadata": {},
   "outputs": [],
   "source": [
    "import mpmath as mp"
   ]
  },
  {
   "cell_type": "code",
   "execution_count": null,
   "id": "609e52e9",
   "metadata": {},
   "outputs": [],
   "source": [
    "mp.gammainc(9)"
   ]
  },
  {
   "cell_type": "code",
   "execution_count": null,
   "id": "92babb76",
   "metadata": {},
   "outputs": [],
   "source": [
    "import math\n",
    "\n",
    "def exp_integral(x):\n",
    "    if x < 0:\n",
    "        return math.nan\n",
    "    elif x == 0:\n",
    "        return -math.inf\n",
    "    elif x < 50:\n",
    "    # Use the power series expansion for small x\n",
    "        result = 0\n",
    "        for n in range(1, 100):\n",
    "            result += (x**n)/(math.factorial(n) * n)\n",
    "        return result\n",
    "    else:\n",
    "        # Use the asymptotic expansion for large x\n",
    "        result = 0\n",
    "        for n in range(1, 10):\n",
    "            result += (1/n) * (x**(n-1)) * math.exp(-x)\n",
    "        return result + math.exp(-x) * (1 - (1/x) + (1/(2*x**2)) - (1/(6*x**3)) + (1/(24*x**4)))\n"
   ]
  },
  {
   "cell_type": "code",
   "execution_count": null,
   "id": "9eecadb6",
   "metadata": {},
   "outputs": [],
   "source": [
    "mp.ei(10), mp.ei(0.2)"
   ]
  },
  {
   "cell_type": "code",
   "execution_count": null,
   "id": "3902c1a7",
   "metadata": {},
   "outputs": [],
   "source": [
    "exp_integral(10), exp_integral(0.2)"
   ]
  },
  {
   "cell_type": "code",
   "execution_count": null,
   "id": "ffc04619",
   "metadata": {},
   "outputs": [],
   "source": [
    "import scipy.special as sp "
   ]
  },
  {
   "cell_type": "code",
   "execution_count": null,
   "id": "4229427e",
   "metadata": {},
   "outputs": [],
   "source": [
    "sp.expi(10), sp.expi(0.2)"
   ]
  },
  {
   "cell_type": "code",
   "execution_count": null,
   "id": "ce8ea6b6",
   "metadata": {},
   "outputs": [],
   "source": [
    "import math\n",
    "\n",
    "def exp_integral(x):\n",
    "    if x < 0:\n",
    "        return math.nan\n",
    "    elif x == 0:\n",
    "        return -math.inf\n",
    "    else:\n",
    "        result = 0\n",
    "        for n in range(1, 100):\n",
    "            result += (x**n)/(math.factorial(n) * n)\n",
    "        return result\n"
   ]
  },
  {
   "cell_type": "code",
   "execution_count": null,
   "id": "38148700",
   "metadata": {},
   "outputs": [],
   "source": [
    "exp_integral(10),exp_integral(1000)"
   ]
  },
  {
   "cell_type": "code",
   "execution_count": null,
   "id": "76940614",
   "metadata": {},
   "outputs": [],
   "source": [
    "sp.expi(1000),mp.ei(1000)"
   ]
  },
  {
   "cell_type": "code",
   "execution_count": null,
   "id": "2a6f2cbf",
   "metadata": {},
   "outputs": [],
   "source": [
    "import math\n",
    "\n",
    "def erf(x):\n",
    "    if x < 0:\n",
    "        return -erf(-x)\n",
    "    else:\n",
    "        return 1 - math.exp(-x**2)/(x*math.sqrt(math.pi))\n"
   ]
  },
  {
   "cell_type": "code",
   "execution_count": null,
   "id": "f8a0fc60",
   "metadata": {},
   "outputs": [],
   "source": [
    "erf(4), erf(0.4)"
   ]
  },
  {
   "cell_type": "code",
   "execution_count": null,
   "id": "74dd5ab7",
   "metadata": {},
   "outputs": [],
   "source": [
    "math.erf(4), math.erf(0.4)"
   ]
  },
  {
   "cell_type": "code",
   "execution_count": null,
   "id": "666e0d49",
   "metadata": {},
   "outputs": [],
   "source": [
    "mp.erf(4), mp.erf(0.4)"
   ]
  },
  {
   "cell_type": "code",
   "execution_count": null,
   "id": "b1ac2538",
   "metadata": {},
   "outputs": [],
   "source": [
    "erf(9)"
   ]
  },
  {
   "cell_type": "code",
   "execution_count": null,
   "id": "00d271ec",
   "metadata": {},
   "outputs": [],
   "source": [
    "import math\n",
    "\n",
    "def erf(x):\n",
    "    if x < 0:\n",
    "        return -erf(-x)\n",
    "    else:\n",
    "        result = 0\n",
    "        for n in range(0, 20):\n",
    "            result += ((-1)**n * x**(2*n+1))/(math.factorial(n) * (2*n+1))\n",
    "        return (2/math.sqrt(math.pi)) * result\n"
   ]
  },
  {
   "cell_type": "code",
   "execution_count": null,
   "id": "c9ef1f1a",
   "metadata": {},
   "outputs": [],
   "source": [
    "erf(1),erf(2),erf(3),erf(4),erf(0.4)"
   ]
  },
  {
   "cell_type": "code",
   "execution_count": null,
   "id": "2216abe1",
   "metadata": {},
   "outputs": [],
   "source": [
    "math.erf(1),math.erf(2),math.erf(3),math.erf(4)"
   ]
  },
  {
   "cell_type": "code",
   "execution_count": null,
   "id": "549c27bf",
   "metadata": {},
   "outputs": [],
   "source": [
    "import math\n",
    "import random\n",
    "\n",
    "N = 10000\n",
    "\n",
    "def f(t):\n",
    "    return math.exp(-t**2)\n",
    "\n",
    "x = 0.5\n",
    "print(math.erf(x))\n",
    "\n",
    "i = 0\n",
    "I = 0.\n",
    "ymin = f(x)\n",
    "while i < N:\n",
    "    i += 1\n",
    "    xi, yi = x * random.random(), ymin + (1. - ymin) * random.random()\n",
    "    if yi <= f(xi):\n",
    "        I += 1.\n",
    "I /= N\n",
    "I *= x * (1. - ymin)\n",
    "I += x * ymin\n",
    "I *= 2./math.sqrt(math.pi)\n",
    "print(I)"
   ]
  },
  {
   "cell_type": "code",
   "execution_count": null,
   "id": "813298e6",
   "metadata": {},
   "outputs": [],
   "source": [
    "import math\n",
    "\n",
    "def fresnel_cosine_integral(x):\n",
    "    return math.cos(math.pi * x**2 / 2)\n"
   ]
  },
  {
   "cell_type": "code",
   "execution_count": null,
   "id": "2f72ffc3",
   "metadata": {},
   "outputs": [],
   "source": [
    "mp.fresnelc(10)"
   ]
  },
  {
   "cell_type": "code",
   "execution_count": null,
   "id": "4c8fad66",
   "metadata": {},
   "outputs": [],
   "source": [
    "fresnel_cosine_integral(10)"
   ]
  },
  {
   "cell_type": "code",
   "execution_count": null,
   "id": "6a566f62",
   "metadata": {},
   "outputs": [],
   "source": [
    "mp.fresnels(10)"
   ]
  },
  {
   "cell_type": "code",
   "execution_count": null,
   "id": "24e06413",
   "metadata": {},
   "outputs": [],
   "source": [
    "from scipy.integrate import quad\n",
    "import math\n",
    "\n",
    "def fresnel_cosine_integral(x):\n",
    "    return quad(lambda t: math.cos(math.pi * t**2 / 2), 0, x)[0]\n"
   ]
  },
  {
   "cell_type": "code",
   "execution_count": null,
   "id": "10996aa4",
   "metadata": {},
   "outputs": [],
   "source": [
    "fresnel_cosine_integral(10)"
   ]
  },
  {
   "cell_type": "code",
   "execution_count": null,
   "id": "3a505307",
   "metadata": {},
   "outputs": [],
   "source": [
    "sp.fresnel(10)"
   ]
  },
  {
   "cell_type": "code",
   "execution_count": null,
   "id": "36e561bc",
   "metadata": {},
   "outputs": [],
   "source": [
    "import math\n",
    "\n",
    "def fresnel_cosine_integral(x):\n",
    "    result = 0\n",
    "    for n in range(0, 100):\n",
    "        result += ((-1)**n) * (x**(2*n+1)) / ((2*n+1) * math.factorial(n))\n",
    "    return result\n"
   ]
  },
  {
   "cell_type": "code",
   "execution_count": null,
   "id": "14c8989d",
   "metadata": {},
   "outputs": [],
   "source": [
    "fresnel_cosine_integral(10)"
   ]
  },
  {
   "cell_type": "code",
   "execution_count": null,
   "id": "a3acc4d7",
   "metadata": {},
   "outputs": [],
   "source": [
    "def fresnel_cosine_integral(x):\n",
    "    result = 0\n",
    "    dx = 0.00001\n",
    "    for i in range(int(x / dx)):\n",
    "        result += math.cos(math.pi * (dx * i)**2 / 2) * dx\n",
    "    return result\n"
   ]
  },
  {
   "cell_type": "code",
   "execution_count": null,
   "id": "41f2bb9d",
   "metadata": {},
   "outputs": [],
   "source": [
    "fresnel_cosine_integral(100000),mp.fresnelc(100)"
   ]
  },
  {
   "cell_type": "code",
   "execution_count": null,
   "id": "86ea87a6",
   "metadata": {},
   "outputs": [],
   "source": [
    "0.00001/100000"
   ]
  },
  {
   "cell_type": "code",
   "execution_count": 22,
   "id": "14557186",
   "metadata": {},
   "outputs": [],
   "source": [
    "import math\n",
    "\n",
    "def hyperbolic_cosine_integral(x):\n",
    "    return math.sinh(x)\n"
   ]
  },
  {
   "cell_type": "code",
   "execution_count": 23,
   "id": "c6ac30cd",
   "metadata": {},
   "outputs": [
    {
     "data": {
      "text/plain": [
       "(mpf('1.3577763724269399e+41'), mpf('1246.1144860424545'))"
      ]
     },
     "execution_count": 23,
     "metadata": {},
     "output_type": "execute_result"
    }
   ],
   "source": [
    "mp.chi(100), mp.chi(10)"
   ]
  },
  {
   "cell_type": "code",
   "execution_count": 24,
   "id": "a9a4d89c",
   "metadata": {},
   "outputs": [
    {
     "data": {
      "text/plain": [
       "(1.3440585709080678e+43, 11013.232874703393)"
      ]
     },
     "execution_count": 24,
     "metadata": {},
     "output_type": "execute_result"
    }
   ],
   "source": [
    "hyperbolic_cosine_integral(100),hyperbolic_cosine_integral(10)"
   ]
  },
  {
   "cell_type": "code",
   "execution_count": 25,
   "id": "30bf0ce6",
   "metadata": {},
   "outputs": [
    {
     "data": {
      "text/plain": [
       "mpf('1.3440585709080678e+43')"
      ]
     },
     "execution_count": 25,
     "metadata": {},
     "output_type": "execute_result"
    }
   ],
   "source": [
    "mp.sinh(100)"
   ]
  },
  {
   "cell_type": "code",
   "execution_count": 33,
   "id": "e3cdede2",
   "metadata": {},
   "outputs": [],
   "source": [
    "import sympy\n",
    "\n",
    "def hyperbolic_cosine_integral(x):\n",
    "    t = sympy.Symbol('t')\n",
    "    return sympy.integrate(sympy.cosh(t), (t, 0, x)).evalf()\n"
   ]
  },
  {
   "cell_type": "code",
   "execution_count": 34,
   "id": "9dd398fc",
   "metadata": {},
   "outputs": [
    {
     "data": {
      "text/latex": [
       "$\\displaystyle 1.34405857090807 \\cdot 10^{43}$"
      ],
      "text/plain": [
       "1.34405857090807e+43"
      ]
     },
     "execution_count": 34,
     "metadata": {},
     "output_type": "execute_result"
    }
   ],
   "source": [
    "hyperbolic_cosine_integral(100)"
   ]
  },
  {
   "cell_type": "code",
   "execution_count": 28,
   "id": "5919f6c9",
   "metadata": {
    "scrolled": true
   },
   "outputs": [
    {
     "data": {
      "text/plain": [
       "1.34405857090807e+43"
      ]
     },
     "execution_count": 28,
     "metadata": {},
     "output_type": "execute_result"
    }
   ],
   "source": [
    "1.34405857090807*(pow(10,43))"
   ]
  },
  {
   "cell_type": "code",
   "execution_count": 35,
   "id": "940bd71f",
   "metadata": {},
   "outputs": [],
   "source": [
    "import math\n",
    "\n",
    "def sine_integral(x):\n",
    "    return math.si(x)\n"
   ]
  },
  {
   "cell_type": "code",
   "execution_count": 41,
   "id": "61a74977",
   "metadata": {},
   "outputs": [
    {
     "data": {
      "text/plain": [
       "(mpf('1.5622254668890563'), mpf('0.0'))"
      ]
     },
     "execution_count": 41,
     "metadata": {},
     "output_type": "execute_result"
    }
   ],
   "source": [
    "mp.si(100),mp.sincpi(100)"
   ]
  },
  {
   "cell_type": "code",
   "execution_count": 37,
   "id": "e798a182",
   "metadata": {},
   "outputs": [],
   "source": [
    "from scipy.integrate import quad\n",
    "import math\n",
    "\n",
    "def sine_integral(x):\n",
    "    return quad(lambda t: math.sin(t) / t, 0, x)[0]\n"
   ]
  },
  {
   "cell_type": "code",
   "execution_count": 38,
   "id": "068cf7fc",
   "metadata": {},
   "outputs": [
    {
     "data": {
      "text/plain": [
       "1.562225466889057"
      ]
     },
     "execution_count": 38,
     "metadata": {},
     "output_type": "execute_result"
    }
   ],
   "source": [
    "sine_integral(100)"
   ]
  },
  {
   "cell_type": "code",
   "execution_count": null,
   "id": "1f55b3b5",
   "metadata": {},
   "outputs": [],
   "source": []
  }
 ],
 "metadata": {
  "kernelspec": {
   "display_name": "Python 3 (ipykernel)",
   "language": "python",
   "name": "python3"
  },
  "language_info": {
   "codemirror_mode": {
    "name": "ipython",
    "version": 3
   },
   "file_extension": ".py",
   "mimetype": "text/x-python",
   "name": "python",
   "nbconvert_exporter": "python",
   "pygments_lexer": "ipython3",
   "version": "3.9.12"
  }
 },
 "nbformat": 4,
 "nbformat_minor": 5
}
