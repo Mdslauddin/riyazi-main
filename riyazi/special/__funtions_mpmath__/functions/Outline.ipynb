{
 "cells": [
  {
   "cell_type": "markdown",
   "id": "b3d7c8f7",
   "metadata": {},
   "source": [
    "https://en.wikipedia.org/wiki/Exponential_integral\n",
    "\n",
    "\n",
    "https://socratic.org/calculus#introduction-to-integration-"
   ]
  },
  {
   "cell_type": "markdown",
   "id": "05cefee0",
   "metadata": {},
   "source": [
    "### Advanced mathematics¶\n",
    "\n",
    "\n",
    "**Mathematical functions**\n",
    "- Mathematical constants\n",
    "- Powers and logarithms\n",
    "- Trigonometric functions\n",
    "- Hyperbolic functions\n",
    "- Factorials and gamma functions\n",
    "- Exponential integrals and error functions\n",
    "- Bessel functions and related functions\n",
    "- Orthogonal polynomials\n",
    "- Hypergeometric functions\n",
    "- Elliptic functions\n",
    "- Zeta functions, L-series and polylogarithms\n",
    "- Number-theoretical, combinatorial and integer functions\n",
    "- q-functions\n",
    "\n",
    "\n",
    "\n",
    "**Numerical calculus**\n",
    "- Polynomials\n",
    "- Root-finding and optimization\n",
    "- Sums, products, limits and extrapolation\n",
    "- Differentiation\n",
    "- Numerical integration (quadrature)\n",
    "- Ordinary differential equations\n",
    "- Function approximation\n",
    "- Numerical inverse Laplace transform\n",
    "\n",
    "**Matrices**\n",
    "- Creating matrices\n",
    "- Matrix operations\n",
    "- Linear algebra\n",
    "- Interval and double-precision matrices\n",
    "- Matrix functions\n",
    "\n",
    "**Number identification**\n",
    "\n",
    "- Constant recognition\n",
    "- Algebraic identification\n",
    "- Integer relations (PSLQ)"
   ]
  },
  {
   "cell_type": "code",
   "execution_count": null,
   "id": "2f0239a3",
   "metadata": {},
   "outputs": [],
   "source": []
  }
 ],
 "metadata": {
  "kernelspec": {
   "display_name": "Python 3 (ipykernel)",
   "language": "python",
   "name": "python3"
  },
  "language_info": {
   "codemirror_mode": {
    "name": "ipython",
    "version": 3
   },
   "file_extension": ".py",
   "mimetype": "text/x-python",
   "name": "python",
   "nbconvert_exporter": "python",
   "pygments_lexer": "ipython3",
   "version": "3.9.12"
  }
 },
 "nbformat": 4,
 "nbformat_minor": 5
}
