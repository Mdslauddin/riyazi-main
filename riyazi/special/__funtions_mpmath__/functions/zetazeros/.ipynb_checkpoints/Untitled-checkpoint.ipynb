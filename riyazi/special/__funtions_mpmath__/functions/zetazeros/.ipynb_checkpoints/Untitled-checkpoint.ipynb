{
 "cells": [
  {
   "cell_type": "markdown",
   "id": "d2195d46",
   "metadata": {},
   "source": [
    "### https://encyclopediaofmath.org/wiki/Zeta-function\n",
    "\n",
    "### https://en.wikipedia.org/wiki/Riemann_zeta_function \n",
    "\n",
    "### https://en.wikipedia.org/wiki/Particular_values_of_the_Riemann_zeta_function\n",
    "\n",
    "### https://www.lmfdb.org/zeros/zeta/\n",
    "\n",
    "### https://en.wikipedia.org/wiki/Riemann_hypothesis\n",
    "\n",
    "### https://en.wikipedia.org/wiki/Siegel_zero\n",
    "\n",
    "### https://oeis.org/wiki/Riemann_%CE%B6_function\n",
    "\n",
    "### https://en.wikipedia.org/wiki/Z-transform\n",
    "\n",
    "### https://liquipedia.net/valorant/ZETA_DIVISION"
   ]
  },
  {
   "cell_type": "raw",
   "id": "1898d24b",
   "metadata": {},
   "source": [
    "\"\"\"\n",
    "The function zetazero(n) computes the n-th nontrivial zero of zeta(s).\n",
    "\n",
    "The general strategy is to locate a block of Gram intervals B where we\n",
    "know exactly the number of zeros contained and which of those zeros\n",
    "is that which we search.\n",
    "\n",
    "If n <= 400 000 000  we know exactly the Rosser exceptions, contained\n",
    "in a list in this file. Hence for n<=400 000 000 we simply\n",
    "look at these list of exceptions. If our zero is implicated in one of\n",
    "these exceptions we have our block B.  In other case we simply locate\n",
    "the good Rosser block containing our zero.\n",
    "\n",
    "For n > 400 000 000 we apply the method of Turing, as complemented by\n",
    "Lehman, Brent and Trudgian  to find a suitable B.\n",
    "\"\"\""
   ]
  },
  {
   "cell_type": "code",
   "execution_count": null,
   "id": "c750d7f3",
   "metadata": {},
   "outputs": [],
   "source": []
  },
  {
   "cell_type": "code",
   "execution_count": 1,
   "id": "9e0b5a86",
   "metadata": {},
   "outputs": [],
   "source": [
    "def wpzeros(t):\n",
    "    \"\"\"Precision needed to compute higher zeros\"\"\"\n",
    "    wp = 53\n",
    "    if t > 3*10**8:\n",
    "        wp = 63\n",
    "    if t > 10**11:\n",
    "        wp = 70\n",
    "    if t > 10**14:\n",
    "        wp = 83\n",
    "    return wp"
   ]
  },
  {
   "cell_type": "code",
   "execution_count": 4,
   "id": "676c0e31",
   "metadata": {},
   "outputs": [
    {
     "data": {
      "text/plain": [
       "83"
      ]
     },
     "execution_count": 4,
     "metadata": {},
     "output_type": "execute_result"
    }
   ],
   "source": [
    "wpzeros()"
   ]
  },
  {
   "cell_type": "code",
   "execution_count": null,
   "id": "c7330cce",
   "metadata": {},
   "outputs": [],
   "source": []
  }
 ],
 "metadata": {
  "kernelspec": {
   "display_name": "Python 3 (ipykernel)",
   "language": "python",
   "name": "python3"
  },
  "language_info": {
   "codemirror_mode": {
    "name": "ipython",
    "version": 3
   },
   "file_extension": ".py",
   "mimetype": "text/x-python",
   "name": "python",
   "nbconvert_exporter": "python",
   "pygments_lexer": "ipython3",
   "version": "3.9.12"
  }
 },
 "nbformat": 4,
 "nbformat_minor": 5
}
