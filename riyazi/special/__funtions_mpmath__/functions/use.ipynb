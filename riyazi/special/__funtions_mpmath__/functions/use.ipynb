{
 "cells": [
  {
   "cell_type": "code",
   "execution_count": 1,
   "id": "59ee8608",
   "metadata": {},
   "outputs": [],
   "source": [
    "from mpmath import*"
   ]
  },
  {
   "cell_type": "markdown",
   "id": "88f722dd",
   "metadata": {},
   "source": [
    "# Mathematical Constant "
   ]
  },
  {
   "cell_type": "code",
   "execution_count": 2,
   "id": "10bab10e",
   "metadata": {},
   "outputs": [
    {
     "data": {
      "text/plain": [
       "<pi: 3.14159~>"
      ]
     },
     "execution_count": 2,
     "metadata": {},
     "output_type": "execute_result"
    }
   ],
   "source": [
    "pi"
   ]
  },
  {
   "cell_type": "code",
   "execution_count": 3,
   "id": "e0d53809",
   "metadata": {},
   "outputs": [
    {
     "data": {
      "text/plain": [
       "mpf('6.2831853071795862')"
      ]
     },
     "execution_count": 3,
     "metadata": {},
     "output_type": "execute_result"
    }
   ],
   "source": [
    "2*pi"
   ]
  },
  {
   "cell_type": "code",
   "execution_count": 4,
   "id": "67fcba86",
   "metadata": {
    "scrolled": true
   },
   "outputs": [
    {
     "data": {
      "text/plain": [
       "<1 deg = pi / 180: 0.0174533~>"
      ]
     },
     "execution_count": 4,
     "metadata": {},
     "output_type": "execute_result"
    }
   ],
   "source": [
    "degree"
   ]
  },
  {
   "cell_type": "code",
   "execution_count": null,
   "id": "55091e26",
   "metadata": {},
   "outputs": [],
   "source": []
  },
  {
   "cell_type": "code",
   "execution_count": null,
   "id": "33888dca",
   "metadata": {
    "scrolled": true
   },
   "outputs": [],
   "source": [
    "degree(1)"
   ]
  },
  {
   "cell_type": "code",
   "execution_count": null,
   "id": "aba19710",
   "metadata": {
    "scrolled": true
   },
   "outputs": [],
   "source": [
    "sin(30*degree)"
   ]
  },
  {
   "cell_type": "code",
   "execution_count": 5,
   "id": "800f5107",
   "metadata": {},
   "outputs": [
    {
     "data": {
      "text/plain": [
       "<e = exp(1): 2.71828~>"
      ]
     },
     "execution_count": 5,
     "metadata": {},
     "output_type": "execute_result"
    }
   ],
   "source": [
    "e"
   ]
  },
  {
   "cell_type": "code",
   "execution_count": null,
   "id": "3fcb040c",
   "metadata": {},
   "outputs": [],
   "source": [
    "e()"
   ]
  },
  {
   "cell_type": "code",
   "execution_count": 6,
   "id": "32a539d8",
   "metadata": {},
   "outputs": [
    {
     "data": {
      "text/plain": [
       "<Golden ratio phi: 1.61803~>"
      ]
     },
     "execution_count": 6,
     "metadata": {},
     "output_type": "execute_result"
    }
   ],
   "source": [
    "phi"
   ]
  },
  {
   "cell_type": "code",
   "execution_count": 7,
   "id": "95a9eda2",
   "metadata": {},
   "outputs": [
    {
     "data": {
      "text/plain": [
       "<Euler's constant: 0.577216~>"
      ]
     },
     "execution_count": 7,
     "metadata": {},
     "output_type": "execute_result"
    }
   ],
   "source": [
    "euler"
   ]
  },
  {
   "cell_type": "code",
   "execution_count": 8,
   "id": "0f5a6b19",
   "metadata": {},
   "outputs": [
    {
     "data": {
      "text/plain": [
       "<Catalan's constant: 0.915966~>"
      ]
     },
     "execution_count": 8,
     "metadata": {},
     "output_type": "execute_result"
    }
   ],
   "source": [
    "catalan"
   ]
  },
  {
   "cell_type": "code",
   "execution_count": 9,
   "id": "26b4f4b9",
   "metadata": {},
   "outputs": [
    {
     "data": {
      "text/plain": [
       "<Apery's constant: 1.20206~>"
      ]
     },
     "execution_count": 9,
     "metadata": {},
     "output_type": "execute_result"
    }
   ],
   "source": [
    "apery"
   ]
  },
  {
   "cell_type": "code",
   "execution_count": 10,
   "id": "2acc21bc",
   "metadata": {},
   "outputs": [
    {
     "data": {
      "text/plain": [
       "<Khinchin's constant: 2.68545~>"
      ]
     },
     "execution_count": 10,
     "metadata": {},
     "output_type": "execute_result"
    }
   ],
   "source": [
    "khinchin"
   ]
  },
  {
   "cell_type": "code",
   "execution_count": 11,
   "id": "5be30ee7",
   "metadata": {},
   "outputs": [
    {
     "data": {
      "text/plain": [
       "<Glaisher's constant: 1.28243~>"
      ]
     },
     "execution_count": 11,
     "metadata": {},
     "output_type": "execute_result"
    }
   ],
   "source": [
    "glaisher"
   ]
  },
  {
   "cell_type": "code",
   "execution_count": 12,
   "id": "1b247986",
   "metadata": {},
   "outputs": [
    {
     "data": {
      "text/plain": [
       "<Mertens' constant: 0.261497~>"
      ]
     },
     "execution_count": 12,
     "metadata": {},
     "output_type": "execute_result"
    }
   ],
   "source": [
    "mertens"
   ]
  },
  {
   "cell_type": "code",
   "execution_count": 13,
   "id": "8d30f984",
   "metadata": {},
   "outputs": [
    {
     "data": {
      "text/plain": [
       "<Twin prime constant: 0.660162~>"
      ]
     },
     "execution_count": 13,
     "metadata": {},
     "output_type": "execute_result"
    }
   ],
   "source": [
    "twinprime"
   ]
  },
  {
   "cell_type": "code",
   "execution_count": null,
   "id": "58925ea7",
   "metadata": {},
   "outputs": [],
   "source": []
  },
  {
   "cell_type": "markdown",
   "id": "2c05d379",
   "metadata": {},
   "source": [
    "# Powers and logarithms"
   ]
  },
  {
   "cell_type": "code",
   "execution_count": 14,
   "id": "1794a411",
   "metadata": {},
   "outputs": [
    {
     "data": {
      "text/plain": [
       "mpf('2.2360679774997898')"
      ]
     },
     "execution_count": 14,
     "metadata": {},
     "output_type": "execute_result"
    }
   ],
   "source": [
    "sqrt(5)"
   ]
  },
  {
   "cell_type": "code",
   "execution_count": 15,
   "id": "351818d9",
   "metadata": {},
   "outputs": [
    {
     "data": {
      "text/plain": [
       "mpf('15.0')"
      ]
     },
     "execution_count": 15,
     "metadata": {},
     "output_type": "execute_result"
    }
   ],
   "source": [
    "hypot(9,12)"
   ]
  },
  {
   "cell_type": "code",
   "execution_count": 16,
   "id": "81f9534c",
   "metadata": {},
   "outputs": [
    {
     "data": {
      "text/plain": [
       "mpf('2.0800838230519041')"
      ]
     },
     "execution_count": 16,
     "metadata": {},
     "output_type": "execute_result"
    }
   ],
   "source": [
    "cbrt(9)"
   ]
  },
  {
   "cell_type": "code",
   "execution_count": 17,
   "id": "fad0b724",
   "metadata": {},
   "outputs": [
    {
     "data": {
      "text/plain": [
       "mpf('2.0')"
      ]
     },
     "execution_count": 17,
     "metadata": {},
     "output_type": "execute_result"
    }
   ],
   "source": [
    "root(4,2)"
   ]
  },
  {
   "cell_type": "code",
   "execution_count": 18,
   "id": "8ae77b75",
   "metadata": {},
   "outputs": [
    {
     "data": {
      "text/plain": [
       "[mpf('1.0'),\n",
       " mpc(real='0.0', imag='1.0'),\n",
       " mpf('-1.0'),\n",
       " mpc(real='0.0', imag='-1.0')]"
      ]
     },
     "execution_count": 18,
     "metadata": {},
     "output_type": "execute_result"
    }
   ],
   "source": [
    "unitroots(4)"
   ]
  },
  {
   "cell_type": "code",
   "execution_count": 19,
   "id": "7e19dceb",
   "metadata": {},
   "outputs": [
    {
     "data": {
      "text/plain": [
       "[mpf('1.0'),\n",
       " mpc(real='0.92387953251128674', imag='0.38268343236508978'),\n",
       " mpc(real='0.70710678118654757', imag='0.70710678118654757'),\n",
       " mpc(real='0.38268343236508978', imag='0.92387953251128674'),\n",
       " mpc(real='0.0', imag='1.0'),\n",
       " mpc(real='-0.38268343236508978', imag='0.92387953251128674'),\n",
       " mpc(real='-0.70710678118654757', imag='0.70710678118654757'),\n",
       " mpc(real='-0.92387953251128674', imag='0.38268343236508978'),\n",
       " mpf('-1.0'),\n",
       " mpc(real='-0.92387953251128674', imag='-0.38268343236508978'),\n",
       " mpc(real='-0.70710678118654757', imag='-0.70710678118654757'),\n",
       " mpc(real='-0.38268343236508978', imag='-0.92387953251128674'),\n",
       " mpc(real='0.0', imag='-1.0'),\n",
       " mpc(real='0.38268343236508978', imag='-0.92387953251128674'),\n",
       " mpc(real='0.70710678118654757', imag='-0.70710678118654757'),\n",
       " mpc(real='0.92387953251128674', imag='-0.38268343236508978')]"
      ]
     },
     "execution_count": 19,
     "metadata": {},
     "output_type": "execute_result"
    }
   ],
   "source": [
    "unitroots(16)"
   ]
  },
  {
   "cell_type": "code",
   "execution_count": null,
   "id": "bfb781dc",
   "metadata": {},
   "outputs": [],
   "source": []
  },
  {
   "cell_type": "code",
   "execution_count": 20,
   "id": "de5dbd77",
   "metadata": {},
   "outputs": [
    {
     "data": {
      "text/plain": [
       "mpf('7.3890560989306504')"
      ]
     },
     "execution_count": 20,
     "metadata": {},
     "output_type": "execute_result"
    }
   ],
   "source": [
    "exp(2)"
   ]
  },
  {
   "cell_type": "code",
   "execution_count": 21,
   "id": "58bf9640",
   "metadata": {},
   "outputs": [
    {
     "data": {
      "text/plain": [
       "mpf('9.0')"
      ]
     },
     "execution_count": 21,
     "metadata": {},
     "output_type": "execute_result"
    }
   ],
   "source": [
    "power(3,2)"
   ]
  },
  {
   "cell_type": "code",
   "execution_count": 22,
   "id": "4e0b8d3d",
   "metadata": {
    "scrolled": true
   },
   "outputs": [
    {
     "data": {
      "text/plain": [
       "mpc(real='-0.41614683654714241', imag='0.90929742682568171')"
      ]
     },
     "execution_count": 22,
     "metadata": {},
     "output_type": "execute_result"
    }
   ],
   "source": [
    "expj(2)"
   ]
  },
  {
   "cell_type": "code",
   "execution_count": 23,
   "id": "ee925246",
   "metadata": {},
   "outputs": [
    {
     "data": {
      "text/plain": [
       "mpc(real='1.0', imag='0.0')"
      ]
     },
     "execution_count": 23,
     "metadata": {},
     "output_type": "execute_result"
    }
   ],
   "source": [
    "expjpi(2)"
   ]
  },
  {
   "cell_type": "code",
   "execution_count": 28,
   "id": "eb94f032",
   "metadata": {},
   "outputs": [
    {
     "data": {
      "text/plain": [
       "mpc(real='1.0', imag='0.0')"
      ]
     },
     "execution_count": 28,
     "metadata": {},
     "output_type": "execute_result"
    }
   ],
   "source": [
    "expjpi(16)"
   ]
  },
  {
   "cell_type": "code",
   "execution_count": 26,
   "id": "7aca1d86",
   "metadata": {
    "scrolled": true
   },
   "outputs": [
    {
     "data": {
      "text/plain": [
       "mpc(real='1.0', imag='0.0')"
      ]
     },
     "execution_count": 26,
     "metadata": {},
     "output_type": "execute_result"
    }
   ],
   "source": [
    "expjpi(4)"
   ]
  },
  {
   "cell_type": "code",
   "execution_count": 27,
   "id": "029360b3",
   "metadata": {},
   "outputs": [
    {
     "data": {
      "text/plain": [
       "mpc(real='0.0018674427317079889', imag='0.0')"
      ]
     },
     "execution_count": 27,
     "metadata": {},
     "output_type": "execute_result"
    }
   ],
   "source": [
    "expjpi(2j)"
   ]
  },
  {
   "cell_type": "code",
   "execution_count": 29,
   "id": "57db5ce4",
   "metadata": {},
   "outputs": [
    {
     "data": {
      "text/plain": [
       "mpc(real='3.4873423562089956e-6', imag='0.0')"
      ]
     },
     "execution_count": 29,
     "metadata": {},
     "output_type": "execute_result"
    }
   ],
   "source": [
    "expjpi(4j)"
   ]
  },
  {
   "cell_type": "code",
   "execution_count": null,
   "id": "8a2c8c41",
   "metadata": {},
   "outputs": [],
   "source": []
  },
  {
   "cell_type": "code",
   "execution_count": null,
   "id": "d93da57f",
   "metadata": {},
   "outputs": [],
   "source": []
  },
  {
   "cell_type": "code",
   "execution_count": 24,
   "id": "96f00191",
   "metadata": {},
   "outputs": [
    {
     "data": {
      "text/plain": [
       "mpf('19.085536923187668')"
      ]
     },
     "execution_count": 24,
     "metadata": {},
     "output_type": "execute_result"
    }
   ],
   "source": [
    "expm1(3)"
   ]
  },
  {
   "cell_type": "code",
   "execution_count": 25,
   "id": "d2a22aed",
   "metadata": {
    "scrolled": true
   },
   "outputs": [
    {
     "data": {
      "text/plain": [
       "mpf('7.0')"
      ]
     },
     "execution_count": 25,
     "metadata": {},
     "output_type": "execute_result"
    }
   ],
   "source": [
    "powm1(2,3)"
   ]
  },
  {
   "cell_type": "code",
   "execution_count": null,
   "id": "79682325",
   "metadata": {},
   "outputs": [],
   "source": []
  },
  {
   "cell_type": "code",
   "execution_count": 30,
   "id": "20cdcf02",
   "metadata": {},
   "outputs": [
    {
     "data": {
      "text/plain": [
       "mpf('0.69314718055994529')"
      ]
     },
     "execution_count": 30,
     "metadata": {},
     "output_type": "execute_result"
    }
   ],
   "source": [
    "log(2)"
   ]
  },
  {
   "cell_type": "code",
   "execution_count": 31,
   "id": "73726f77",
   "metadata": {},
   "outputs": [
    {
     "data": {
      "text/plain": [
       "mpf('0.69314718055994529')"
      ]
     },
     "execution_count": 31,
     "metadata": {},
     "output_type": "execute_result"
    }
   ],
   "source": [
    "ln(2)"
   ]
  },
  {
   "cell_type": "code",
   "execution_count": 32,
   "id": "5c99e7f2",
   "metadata": {},
   "outputs": [
    {
     "data": {
      "text/plain": [
       "mpf('0.3010299956639812')"
      ]
     },
     "execution_count": 32,
     "metadata": {},
     "output_type": "execute_result"
    }
   ],
   "source": [
    "log10(2)"
   ]
  },
  {
   "cell_type": "code",
   "execution_count": 33,
   "id": "2295ca4e",
   "metadata": {},
   "outputs": [
    {
     "data": {
      "text/plain": [
       "mpf('1.0986122886681098')"
      ]
     },
     "execution_count": 33,
     "metadata": {},
     "output_type": "execute_result"
    }
   ],
   "source": [
    "log1p(2)"
   ]
  },
  {
   "cell_type": "code",
   "execution_count": null,
   "id": "edd1e42c",
   "metadata": {},
   "outputs": [],
   "source": []
  },
  {
   "cell_type": "code",
   "execution_count": 34,
   "id": "142bf9ff",
   "metadata": {},
   "outputs": [
    {
     "data": {
      "text/plain": [
       "mpc(real='1.0638405921483804', imag='0.87980338737419861')"
      ]
     },
     "execution_count": 34,
     "metadata": {},
     "output_type": "execute_result"
    }
   ],
   "source": [
    "lambertw(4j)"
   ]
  },
  {
   "cell_type": "code",
   "execution_count": 35,
   "id": "e558ec8d",
   "metadata": {},
   "outputs": [
    {
     "data": {
      "text/plain": [
       "mpf('1.2021678731970429')"
      ]
     },
     "execution_count": 35,
     "metadata": {},
     "output_type": "execute_result"
    }
   ],
   "source": [
    "lambertw(4)"
   ]
  },
  {
   "cell_type": "code",
   "execution_count": null,
   "id": "9e275da1",
   "metadata": {},
   "outputs": [],
   "source": []
  },
  {
   "cell_type": "code",
   "execution_count": 36,
   "id": "797a90eb",
   "metadata": {},
   "outputs": [
    {
     "data": {
      "text/plain": [
       "mpf('2.4746804362363046')"
      ]
     },
     "execution_count": 36,
     "metadata": {},
     "output_type": "execute_result"
    }
   ],
   "source": [
    "agm(2,3)"
   ]
  },
  {
   "cell_type": "code",
   "execution_count": 37,
   "id": "69d85cbf",
   "metadata": {},
   "outputs": [
    {
     "data": {
      "text/plain": [
       "mpf('9.3180839162244826')"
      ]
     },
     "execution_count": 37,
     "metadata": {},
     "output_type": "execute_result"
    }
   ],
   "source": [
    "agm(5,15)"
   ]
  },
  {
   "cell_type": "code",
   "execution_count": null,
   "id": "21892f91",
   "metadata": {},
   "outputs": [],
   "source": []
  },
  {
   "cell_type": "code",
   "execution_count": null,
   "id": "6286ba2a",
   "metadata": {},
   "outputs": [],
   "source": []
  },
  {
   "cell_type": "markdown",
   "id": "da68d151",
   "metadata": {},
   "source": [
    "# Trigonometric functions"
   ]
  },
  {
   "cell_type": "code",
   "execution_count": 38,
   "id": "a9f4e7a3",
   "metadata": {},
   "outputs": [
    {
     "data": {
      "text/plain": [
       "mpf('57.295779513082323')"
      ]
     },
     "execution_count": 38,
     "metadata": {},
     "output_type": "execute_result"
    }
   ],
   "source": [
    "degrees(1)"
   ]
  },
  {
   "cell_type": "code",
   "execution_count": 39,
   "id": "937fd8b3",
   "metadata": {},
   "outputs": [
    {
     "data": {
      "text/plain": [
       "mpf('0.99989912846755136')"
      ]
     },
     "execution_count": 39,
     "metadata": {},
     "output_type": "execute_result"
    }
   ],
   "source": [
    "radians(57.29)"
   ]
  },
  {
   "cell_type": "code",
   "execution_count": null,
   "id": "85d8bae9",
   "metadata": {},
   "outputs": [],
   "source": []
  },
  {
   "cell_type": "code",
   "execution_count": 40,
   "id": "08d4814c",
   "metadata": {},
   "outputs": [
    {
     "data": {
      "text/plain": [
       "mpf('0.89399666360055785')"
      ]
     },
     "execution_count": 40,
     "metadata": {},
     "output_type": "execute_result"
    }
   ],
   "source": [
    "sin(90)"
   ]
  },
  {
   "cell_type": "code",
   "execution_count": 41,
   "id": "a30b414e",
   "metadata": {},
   "outputs": [
    {
     "data": {
      "text/plain": [
       "mpf('-0.44807361612917013')"
      ]
     },
     "execution_count": 41,
     "metadata": {},
     "output_type": "execute_result"
    }
   ],
   "source": [
    "cos(90)"
   ]
  },
  {
   "cell_type": "code",
   "execution_count": 42,
   "id": "d083272d",
   "metadata": {},
   "outputs": [
    {
     "data": {
      "text/plain": [
       "mpf('-1.9952004122082421')"
      ]
     },
     "execution_count": 42,
     "metadata": {},
     "output_type": "execute_result"
    }
   ],
   "source": [
    "tan(90)"
   ]
  },
  {
   "cell_type": "code",
   "execution_count": 43,
   "id": "0fb0bf0a",
   "metadata": {},
   "outputs": [
    {
     "data": {
      "text/plain": [
       "mpf('-2.2317761278577963')"
      ]
     },
     "execution_count": 43,
     "metadata": {},
     "output_type": "execute_result"
    }
   ],
   "source": [
    "sec(90)"
   ]
  },
  {
   "cell_type": "code",
   "execution_count": 44,
   "id": "7aa96747",
   "metadata": {},
   "outputs": [
    {
     "data": {
      "text/plain": [
       "mpf('1.1185724071637082')"
      ]
     },
     "execution_count": 44,
     "metadata": {},
     "output_type": "execute_result"
    }
   ],
   "source": [
    "csc(90)"
   ]
  },
  {
   "cell_type": "code",
   "execution_count": 45,
   "id": "1e212919",
   "metadata": {},
   "outputs": [
    {
     "data": {
      "text/plain": [
       "mpf('-0.50120278338015323')"
      ]
     },
     "execution_count": 45,
     "metadata": {},
     "output_type": "execute_result"
    }
   ],
   "source": [
    "cot(90)"
   ]
  },
  {
   "cell_type": "code",
   "execution_count": null,
   "id": "185e5472",
   "metadata": {},
   "outputs": [],
   "source": []
  },
  {
   "cell_type": "code",
   "execution_count": 46,
   "id": "10e4bd4e",
   "metadata": {
    "scrolled": true
   },
   "outputs": [
    {
     "data": {
      "text/plain": [
       "mpf('1.0')"
      ]
     },
     "execution_count": 46,
     "metadata": {},
     "output_type": "execute_result"
    }
   ],
   "source": [
    "cospi(90)"
   ]
  },
  {
   "cell_type": "code",
   "execution_count": 48,
   "id": "c8074bca",
   "metadata": {},
   "outputs": [
    {
     "data": {
      "text/plain": [
       "mpf('-1.0')"
      ]
     },
     "execution_count": 48,
     "metadata": {},
     "output_type": "execute_result"
    }
   ],
   "source": [
    "cospi(1)"
   ]
  },
  {
   "cell_type": "code",
   "execution_count": 49,
   "id": "ba63b72f",
   "metadata": {},
   "outputs": [
    {
     "data": {
      "text/plain": [
       "mpf('-1.0')"
      ]
     },
     "execution_count": 49,
     "metadata": {},
     "output_type": "execute_result"
    }
   ],
   "source": [
    "cospi(7)"
   ]
  },
  {
   "cell_type": "code",
   "execution_count": null,
   "id": "c79e0a4b",
   "metadata": {},
   "outputs": [],
   "source": [
    "cospi()"
   ]
  },
  {
   "cell_type": "code",
   "execution_count": 47,
   "id": "1ab682cd",
   "metadata": {},
   "outputs": [
    {
     "data": {
      "text/plain": [
       "mpf('0.0')"
      ]
     },
     "execution_count": 47,
     "metadata": {},
     "output_type": "execute_result"
    }
   ],
   "source": [
    "sinpi(90)"
   ]
  },
  {
   "cell_type": "code",
   "execution_count": null,
   "id": "a0c980ec",
   "metadata": {},
   "outputs": [],
   "source": []
  },
  {
   "cell_type": "code",
   "execution_count": 50,
   "id": "7cdc9bcb",
   "metadata": {},
   "outputs": [
    {
     "data": {
      "text/plain": [
       "mpf('0.0')"
      ]
     },
     "execution_count": 50,
     "metadata": {},
     "output_type": "execute_result"
    }
   ],
   "source": [
    "acos(1)"
   ]
  },
  {
   "cell_type": "code",
   "execution_count": 51,
   "id": "99180df7",
   "metadata": {},
   "outputs": [
    {
     "data": {
      "text/plain": [
       "mpf('1.5707963267948966')"
      ]
     },
     "execution_count": 51,
     "metadata": {},
     "output_type": "execute_result"
    }
   ],
   "source": [
    "asin(1)"
   ]
  },
  {
   "cell_type": "code",
   "execution_count": 52,
   "id": "07b7d2fb",
   "metadata": {},
   "outputs": [
    {
     "data": {
      "text/plain": [
       "mpf('0.78539816339744828')"
      ]
     },
     "execution_count": 52,
     "metadata": {},
     "output_type": "execute_result"
    }
   ],
   "source": [
    "atan(1)"
   ]
  },
  {
   "cell_type": "code",
   "execution_count": 53,
   "id": "366fc862",
   "metadata": {},
   "outputs": [
    {
     "data": {
      "text/plain": [
       "mpf('0.46364760900080609')"
      ]
     },
     "execution_count": 53,
     "metadata": {},
     "output_type": "execute_result"
    }
   ],
   "source": [
    "atan2(1,2)"
   ]
  },
  {
   "cell_type": "code",
   "execution_count": 54,
   "id": "c0497854",
   "metadata": {},
   "outputs": [
    {
     "data": {
      "text/plain": [
       "mpf('0.0')"
      ]
     },
     "execution_count": 54,
     "metadata": {},
     "output_type": "execute_result"
    }
   ],
   "source": [
    "asec(1)"
   ]
  },
  {
   "cell_type": "code",
   "execution_count": 55,
   "id": "91466fd1",
   "metadata": {},
   "outputs": [
    {
     "data": {
      "text/plain": [
       "mpf('1.5707963267948966')"
      ]
     },
     "execution_count": 55,
     "metadata": {},
     "output_type": "execute_result"
    }
   ],
   "source": [
    "acsc(1)"
   ]
  },
  {
   "cell_type": "code",
   "execution_count": 56,
   "id": "9a857ae5",
   "metadata": {},
   "outputs": [
    {
     "data": {
      "text/plain": [
       "mpf('0.78539816339744828')"
      ]
     },
     "execution_count": 56,
     "metadata": {},
     "output_type": "execute_result"
    }
   ],
   "source": [
    "acot(1)"
   ]
  },
  {
   "cell_type": "code",
   "execution_count": null,
   "id": "c216e721",
   "metadata": {},
   "outputs": [],
   "source": []
  },
  {
   "cell_type": "code",
   "execution_count": 57,
   "id": "2c26e370",
   "metadata": {},
   "outputs": [
    {
     "data": {
      "text/plain": [
       "mpf('0.8414709848078965')"
      ]
     },
     "execution_count": 57,
     "metadata": {},
     "output_type": "execute_result"
    }
   ],
   "source": [
    "sinc(1)"
   ]
  },
  {
   "cell_type": "code",
   "execution_count": 58,
   "id": "7d1de94e",
   "metadata": {},
   "outputs": [
    {
     "data": {
      "text/plain": [
       "mpf('0.0')"
      ]
     },
     "execution_count": 58,
     "metadata": {},
     "output_type": "execute_result"
    }
   ],
   "source": [
    "sincpi(1)"
   ]
  },
  {
   "cell_type": "code",
   "execution_count": null,
   "id": "37481e7b",
   "metadata": {},
   "outputs": [],
   "source": []
  },
  {
   "cell_type": "markdown",
   "id": "31f6e882",
   "metadata": {},
   "source": [
    "# Hyperbolic functions"
   ]
  },
  {
   "cell_type": "code",
   "execution_count": 59,
   "id": "dc28ad7d",
   "metadata": {},
   "outputs": [
    {
     "data": {
      "text/plain": [
       "mpf('1.5430806348152437')"
      ]
     },
     "execution_count": 59,
     "metadata": {},
     "output_type": "execute_result"
    }
   ],
   "source": [
    "cosh(1)"
   ]
  },
  {
   "cell_type": "code",
   "execution_count": 60,
   "id": "702fc515",
   "metadata": {},
   "outputs": [
    {
     "data": {
      "text/plain": [
       "mpf('3.6268604078470186')"
      ]
     },
     "execution_count": 60,
     "metadata": {},
     "output_type": "execute_result"
    }
   ],
   "source": [
    "sinh(2)"
   ]
  },
  {
   "cell_type": "code",
   "execution_count": 61,
   "id": "45830c9c",
   "metadata": {},
   "outputs": [
    {
     "data": {
      "text/plain": [
       "mpf('0.9640275800758169')"
      ]
     },
     "execution_count": 61,
     "metadata": {},
     "output_type": "execute_result"
    }
   ],
   "source": [
    "tanh(2)"
   ]
  },
  {
   "cell_type": "code",
   "execution_count": 62,
   "id": "0d8cf4db",
   "metadata": {},
   "outputs": [
    {
     "data": {
      "text/plain": [
       "mpf('0.26580222883407967')"
      ]
     },
     "execution_count": 62,
     "metadata": {},
     "output_type": "execute_result"
    }
   ],
   "source": [
    "sech(2)"
   ]
  },
  {
   "cell_type": "code",
   "execution_count": 63,
   "id": "186a2d8a",
   "metadata": {},
   "outputs": [
    {
     "data": {
      "text/plain": [
       "mpf('0.27572056477178319')"
      ]
     },
     "execution_count": 63,
     "metadata": {},
     "output_type": "execute_result"
    }
   ],
   "source": [
    "csch(2)"
   ]
  },
  {
   "cell_type": "code",
   "execution_count": 64,
   "id": "223f9bdb",
   "metadata": {},
   "outputs": [
    {
     "data": {
      "text/plain": [
       "mpf('1.0373147207275482')"
      ]
     },
     "execution_count": 64,
     "metadata": {},
     "output_type": "execute_result"
    }
   ],
   "source": [
    "coth(2)"
   ]
  },
  {
   "cell_type": "code",
   "execution_count": null,
   "id": "0a06dcaf",
   "metadata": {},
   "outputs": [],
   "source": []
  },
  {
   "cell_type": "code",
   "execution_count": 65,
   "id": "47d79098",
   "metadata": {},
   "outputs": [
    {
     "data": {
      "text/plain": [
       "mpf('1.3169578969248168')"
      ]
     },
     "execution_count": 65,
     "metadata": {},
     "output_type": "execute_result"
    }
   ],
   "source": [
    "acosh(2)"
   ]
  },
  {
   "cell_type": "code",
   "execution_count": 66,
   "id": "90aa1e34",
   "metadata": {},
   "outputs": [
    {
     "data": {
      "text/plain": [
       "mpf('1.4436354751788103')"
      ]
     },
     "execution_count": 66,
     "metadata": {},
     "output_type": "execute_result"
    }
   ],
   "source": [
    "asinh(2)"
   ]
  },
  {
   "cell_type": "code",
   "execution_count": 67,
   "id": "deb489a3",
   "metadata": {},
   "outputs": [
    {
     "data": {
      "text/plain": [
       "mpc(real='0.54930614433405485', imag='-1.5707963267948966')"
      ]
     },
     "execution_count": 67,
     "metadata": {},
     "output_type": "execute_result"
    }
   ],
   "source": [
    "atanh(2)"
   ]
  },
  {
   "cell_type": "code",
   "execution_count": 71,
   "id": "0460a135",
   "metadata": {},
   "outputs": [
    {
     "data": {
      "text/plain": [
       "mpc(real='0.25541281188299534', imag='-1.5707963267948966')"
      ]
     },
     "execution_count": 71,
     "metadata": {},
     "output_type": "execute_result"
    }
   ],
   "source": [
    "atanh(4)"
   ]
  },
  {
   "cell_type": "code",
   "execution_count": 72,
   "id": "9f0cbd5b",
   "metadata": {},
   "outputs": [
    {
     "data": {
      "text/plain": [
       "mpf('0.54930614433405489')"
      ]
     },
     "execution_count": 72,
     "metadata": {},
     "output_type": "execute_result"
    }
   ],
   "source": [
    "atanh(0.5)"
   ]
  },
  {
   "cell_type": "code",
   "execution_count": 68,
   "id": "9c413d48",
   "metadata": {},
   "outputs": [
    {
     "data": {
      "text/plain": [
       "mpc(real='0.0', imag='1.0471975511965979')"
      ]
     },
     "execution_count": 68,
     "metadata": {},
     "output_type": "execute_result"
    }
   ],
   "source": [
    "asech(2)"
   ]
  },
  {
   "cell_type": "code",
   "execution_count": 69,
   "id": "f0674eac",
   "metadata": {},
   "outputs": [
    {
     "data": {
      "text/plain": [
       "mpf('0.48121182505960347')"
      ]
     },
     "execution_count": 69,
     "metadata": {},
     "output_type": "execute_result"
    }
   ],
   "source": [
    "acsch(2)"
   ]
  },
  {
   "cell_type": "code",
   "execution_count": 70,
   "id": "eb1399e7",
   "metadata": {},
   "outputs": [
    {
     "data": {
      "text/plain": [
       "mpf('0.54930614433405489')"
      ]
     },
     "execution_count": 70,
     "metadata": {},
     "output_type": "execute_result"
    }
   ],
   "source": [
    "acoth(2)"
   ]
  },
  {
   "cell_type": "code",
   "execution_count": null,
   "id": "b787af56",
   "metadata": {},
   "outputs": [],
   "source": []
  },
  {
   "cell_type": "code",
   "execution_count": null,
   "id": "5e8e1130",
   "metadata": {},
   "outputs": [],
   "source": []
  },
  {
   "cell_type": "markdown",
   "id": "c15c8127",
   "metadata": {},
   "source": [
    "# Factorials and gamma functions"
   ]
  },
  {
   "cell_type": "code",
   "execution_count": 73,
   "id": "79f2b3e9",
   "metadata": {},
   "outputs": [
    {
     "data": {
      "text/plain": [
       "mpf('120.0')"
      ]
     },
     "execution_count": 73,
     "metadata": {},
     "output_type": "execute_result"
    }
   ],
   "source": [
    "factorial(5)"
   ]
  },
  {
   "cell_type": "code",
   "execution_count": 74,
   "id": "256ddea4",
   "metadata": {},
   "outputs": [
    {
     "data": {
      "text/plain": [
       "mpf('15.0')"
      ]
     },
     "execution_count": 74,
     "metadata": {},
     "output_type": "execute_result"
    }
   ],
   "source": [
    "fac2(5)"
   ]
  },
  {
   "cell_type": "code",
   "execution_count": 84,
   "id": "9414ed8b",
   "metadata": {},
   "outputs": [
    {
     "data": {
      "text/plain": [
       "mpf('3840.0')"
      ]
     },
     "execution_count": 84,
     "metadata": {},
     "output_type": "execute_result"
    }
   ],
   "source": [
    "fac2(10)"
   ]
  },
  {
   "cell_type": "code",
   "execution_count": 75,
   "id": "439989d6",
   "metadata": {},
   "outputs": [
    {
     "data": {
      "text/plain": [
       "mpf('0.0')"
      ]
     },
     "execution_count": 75,
     "metadata": {},
     "output_type": "execute_result"
    }
   ],
   "source": [
    "binomial(4,5)"
   ]
  },
  {
   "cell_type": "code",
   "execution_count": 88,
   "id": "47d10d7f",
   "metadata": {},
   "outputs": [
    {
     "data": {
      "text/plain": [
       "mpf('1287.0')"
      ]
     },
     "execution_count": 88,
     "metadata": {},
     "output_type": "execute_result"
    }
   ],
   "source": [
    "binomial(13,5)"
   ]
  },
  {
   "cell_type": "code",
   "execution_count": 76,
   "id": "84d0e938",
   "metadata": {
    "scrolled": false
   },
   "outputs": [
    {
     "data": {
      "text/plain": [
       "mpf('1.0')"
      ]
     },
     "execution_count": 76,
     "metadata": {},
     "output_type": "execute_result"
    }
   ],
   "source": [
    "gamma(2)"
   ]
  },
  {
   "cell_type": "code",
   "execution_count": 90,
   "id": "03808087",
   "metadata": {},
   "outputs": [
    {
     "data": {
      "text/plain": [
       "mpc(real='-0.00027170388350615055', imag='0.00033993289887213594')"
      ]
     },
     "execution_count": 90,
     "metadata": {},
     "output_type": "execute_result"
    }
   ],
   "source": [
    "gamma(5j)"
   ]
  },
  {
   "cell_type": "code",
   "execution_count": 89,
   "id": "4276057f",
   "metadata": {},
   "outputs": [
    {
     "data": {
      "text/plain": [
       "mpf('24.0')"
      ]
     },
     "execution_count": 89,
     "metadata": {},
     "output_type": "execute_result"
    }
   ],
   "source": [
    "gamma(5)"
   ]
  },
  {
   "cell_type": "code",
   "execution_count": null,
   "id": "b7731299",
   "metadata": {},
   "outputs": [],
   "source": []
  },
  {
   "cell_type": "code",
   "execution_count": 77,
   "id": "1e4283bd",
   "metadata": {},
   "outputs": [
    {
     "data": {
      "text/plain": [
       "mpf('1.0')"
      ]
     },
     "execution_count": 77,
     "metadata": {},
     "output_type": "execute_result"
    }
   ],
   "source": [
    "rgamma(2)"
   ]
  },
  {
   "cell_type": "code",
   "execution_count": 91,
   "id": "4a36cb7d",
   "metadata": {},
   "outputs": [
    {
     "data": {
      "text/plain": [
       "mpf('0.16666666666666666')"
      ]
     },
     "execution_count": 91,
     "metadata": {},
     "output_type": "execute_result"
    }
   ],
   "source": [
    "rgamma(4)"
   ]
  },
  {
   "cell_type": "code",
   "execution_count": 78,
   "id": "d7cabd95",
   "metadata": {
    "scrolled": true
   },
   "outputs": [
    {
     "data": {
      "text/plain": [
       "mpf('0.16666666666666666')"
      ]
     },
     "execution_count": 78,
     "metadata": {},
     "output_type": "execute_result"
    }
   ],
   "source": [
    "gammaprod([1],[4])"
   ]
  },
  {
   "cell_type": "code",
   "execution_count": 96,
   "id": "43af24e6",
   "metadata": {},
   "outputs": [
    {
     "data": {
      "text/plain": [
       "mpf('0.33333333333333331')"
      ]
     },
     "execution_count": 96,
     "metadata": {},
     "output_type": "execute_result"
    }
   ],
   "source": [
    "gammaprod([3],[4])"
   ]
  },
  {
   "cell_type": "code",
   "execution_count": 97,
   "id": "67465383",
   "metadata": {},
   "outputs": [
    {
     "data": {
      "text/plain": [
       "mpf('0.00014880952380952382')"
      ]
     },
     "execution_count": 97,
     "metadata": {},
     "output_type": "execute_result"
    }
   ],
   "source": [
    "gammaprod([4],[9])"
   ]
  },
  {
   "cell_type": "code",
   "execution_count": null,
   "id": "e6179296",
   "metadata": {},
   "outputs": [],
   "source": []
  },
  {
   "cell_type": "code",
   "execution_count": null,
   "id": "607b478e",
   "metadata": {},
   "outputs": [],
   "source": []
  },
  {
   "cell_type": "code",
   "execution_count": 79,
   "id": "9e86bf4c",
   "metadata": {},
   "outputs": [
    {
     "data": {
      "text/plain": [
       "mpf('17.502307845873887')"
      ]
     },
     "execution_count": 79,
     "metadata": {},
     "output_type": "execute_result"
    }
   ],
   "source": [
    "loggamma(12)"
   ]
  },
  {
   "cell_type": "code",
   "execution_count": null,
   "id": "5ee75d2d",
   "metadata": {},
   "outputs": [],
   "source": []
  },
  {
   "cell_type": "code",
   "execution_count": 80,
   "id": "2ce49a8c",
   "metadata": {
    "scrolled": true
   },
   "outputs": [
    {
     "data": {
      "text/plain": [
       "mpf('24.0')"
      ]
     },
     "execution_count": 80,
     "metadata": {},
     "output_type": "execute_result"
    }
   ],
   "source": [
    "rf(2,3)"
   ]
  },
  {
   "cell_type": "code",
   "execution_count": 98,
   "id": "d9f7c407",
   "metadata": {},
   "outputs": [
    {
     "data": {
      "text/plain": [
       "mpf('15120.0')"
      ]
     },
     "execution_count": 98,
     "metadata": {},
     "output_type": "execute_result"
    }
   ],
   "source": [
    "rf(5,5)"
   ]
  },
  {
   "cell_type": "code",
   "execution_count": 99,
   "id": "91d20028",
   "metadata": {},
   "outputs": [
    {
     "data": {
      "text/plain": [
       "mpf('6.0')"
      ]
     },
     "execution_count": 99,
     "metadata": {},
     "output_type": "execute_result"
    }
   ],
   "source": [
    "rf(2,2)"
   ]
  },
  {
   "cell_type": "code",
   "execution_count": null,
   "id": "7f0fdbf9",
   "metadata": {},
   "outputs": [],
   "source": []
  },
  {
   "cell_type": "code",
   "execution_count": 81,
   "id": "ba88c168",
   "metadata": {},
   "outputs": [
    {
     "data": {
      "text/plain": [
       "mpf('0.0')"
      ]
     },
     "execution_count": 81,
     "metadata": {},
     "output_type": "execute_result"
    }
   ],
   "source": [
    "ff(2,3)"
   ]
  },
  {
   "cell_type": "code",
   "execution_count": 100,
   "id": "0801d4a3",
   "metadata": {},
   "outputs": [
    {
     "data": {
      "text/plain": [
       "mpf('20.0')"
      ]
     },
     "execution_count": 100,
     "metadata": {},
     "output_type": "execute_result"
    }
   ],
   "source": [
    "ff(5,2)"
   ]
  },
  {
   "cell_type": "code",
   "execution_count": null,
   "id": "5380ae39",
   "metadata": {},
   "outputs": [],
   "source": []
  },
  {
   "cell_type": "code",
   "execution_count": null,
   "id": "27adcfa2",
   "metadata": {},
   "outputs": [],
   "source": []
  },
  {
   "cell_type": "code",
   "execution_count": 82,
   "id": "64b80580",
   "metadata": {},
   "outputs": [
    {
     "data": {
      "text/plain": [
       "mpf('0.083333333333333329')"
      ]
     },
     "execution_count": 82,
     "metadata": {},
     "output_type": "execute_result"
    }
   ],
   "source": [
    "beta(2,3)"
   ]
  },
  {
   "cell_type": "code",
   "execution_count": 101,
   "id": "87cb11ed",
   "metadata": {},
   "outputs": [
    {
     "data": {
      "text/plain": [
       "mpf('0.033333333333333333')"
      ]
     },
     "execution_count": 101,
     "metadata": {},
     "output_type": "execute_result"
    }
   ],
   "source": [
    "beta(5,2)"
   ]
  },
  {
   "cell_type": "code",
   "execution_count": 83,
   "id": "4356f98c",
   "metadata": {
    "scrolled": false
   },
   "outputs": [
    {
     "data": {
      "text/plain": [
       "mpf('0.083333333333333329')"
      ]
     },
     "execution_count": 83,
     "metadata": {},
     "output_type": "execute_result"
    }
   ],
   "source": [
    "betainc(2,3)"
   ]
  },
  {
   "cell_type": "code",
   "execution_count": 102,
   "id": "0b95c84d",
   "metadata": {},
   "outputs": [
    {
     "data": {
      "text/plain": [
       "mpf('0.033333333333333333')"
      ]
     },
     "execution_count": 102,
     "metadata": {},
     "output_type": "execute_result"
    }
   ],
   "source": [
    "betainc(5,2)"
   ]
  },
  {
   "cell_type": "code",
   "execution_count": 103,
   "id": "c17fd885",
   "metadata": {
    "scrolled": false
   },
   "outputs": [
    {
     "data": {
      "text/plain": [
       "mpf('1.2731396329939943e+44')"
      ]
     },
     "execution_count": 103,
     "metadata": {},
     "output_type": "execute_result"
    }
   ],
   "source": [
    "superfac(12)"
   ]
  },
  {
   "cell_type": "code",
   "execution_count": 108,
   "id": "b8ce157d",
   "metadata": {},
   "outputs": [
    {
     "data": {
      "text/plain": [
       "mpf('2.0')"
      ]
     },
     "execution_count": 108,
     "metadata": {},
     "output_type": "execute_result"
    }
   ],
   "source": [
    "superfac(12)"
   ]
  },
  {
   "cell_type": "code",
   "execution_count": 109,
   "id": "bc4ba0cb",
   "metadata": {},
   "outputs": [
    {
     "data": {
      "text/plain": [
       "mpf('12.0')"
      ]
     },
     "execution_count": 109,
     "metadata": {},
     "output_type": "execute_result"
    }
   ],
   "source": [
    "superfac(3)"
   ]
  },
  {
   "cell_type": "code",
   "execution_count": null,
   "id": "bb4f7c71",
   "metadata": {},
   "outputs": [],
   "source": []
  },
  {
   "cell_type": "code",
   "execution_count": 104,
   "id": "d6260996",
   "metadata": {},
   "outputs": [
    {
     "data": {
      "text/plain": [
       "mpf('4.0')"
      ]
     },
     "execution_count": 104,
     "metadata": {},
     "output_type": "execute_result"
    }
   ],
   "source": [
    "hyperfac(2)"
   ]
  },
  {
   "cell_type": "code",
   "execution_count": 105,
   "id": "e6cf09f2",
   "metadata": {},
   "outputs": [
    {
     "data": {
      "text/plain": [
       "mpf('1.0')"
      ]
     },
     "execution_count": 105,
     "metadata": {},
     "output_type": "execute_result"
    }
   ],
   "source": [
    "barnesg(2)"
   ]
  },
  {
   "cell_type": "code",
   "execution_count": null,
   "id": "3a9e312c",
   "metadata": {},
   "outputs": [],
   "source": []
  },
  {
   "cell_type": "code",
   "execution_count": 106,
   "id": "a02cd39a",
   "metadata": {},
   "outputs": [
    {
     "data": {
      "text/plain": [
       "mpf('-0.15411380631918858')"
      ]
     },
     "execution_count": 106,
     "metadata": {},
     "output_type": "execute_result"
    }
   ],
   "source": [
    "psi(2,3)"
   ]
  },
  {
   "cell_type": "code",
   "execution_count": 110,
   "id": "90d90bc8",
   "metadata": {},
   "outputs": [
    {
     "data": {
      "text/plain": [
       "mpf('-0.15411380631918858')"
      ]
     },
     "execution_count": 110,
     "metadata": {},
     "output_type": "execute_result"
    }
   ],
   "source": [
    "psi(2,3)"
   ]
  },
  {
   "cell_type": "code",
   "execution_count": null,
   "id": "283fe0da",
   "metadata": {},
   "outputs": [],
   "source": [
    "psi()"
   ]
  },
  {
   "cell_type": "code",
   "execution_count": null,
   "id": "3f84093a",
   "metadata": {},
   "outputs": [],
   "source": []
  },
  {
   "cell_type": "code",
   "execution_count": 107,
   "id": "4e683a44",
   "metadata": {},
   "outputs": [
    {
     "data": {
      "text/plain": [
       "mpf('1.8333333333333333')"
      ]
     },
     "execution_count": 107,
     "metadata": {},
     "output_type": "execute_result"
    }
   ],
   "source": [
    "harmonic(3)"
   ]
  },
  {
   "cell_type": "markdown",
   "id": "99ac18bc",
   "metadata": {},
   "source": [
    "# Exponential integrals and error functions"
   ]
  },
  {
   "cell_type": "code",
   "execution_count": null,
   "id": "3a99cdfa",
   "metadata": {},
   "outputs": [],
   "source": [
    "gamma(2) / gamma(2)"
   ]
  },
  {
   "cell_type": "code",
   "execution_count": 130,
   "id": "b3231fc9",
   "metadata": {},
   "outputs": [
    {
     "data": {
      "text/plain": [
       "mpf('40320.0')"
      ]
     },
     "execution_count": 130,
     "metadata": {},
     "output_type": "execute_result"
    }
   ],
   "source": [
    "gamma(9)"
   ]
  },
  {
   "cell_type": "code",
   "execution_count": 111,
   "id": "a8ad7fc0",
   "metadata": {
    "scrolled": false
   },
   "outputs": [
    {
     "data": {
      "text/plain": [
       "mpf('1.0')"
      ]
     },
     "execution_count": 111,
     "metadata": {},
     "output_type": "execute_result"
    }
   ],
   "source": [
    "gammainc(2)"
   ]
  },
  {
   "cell_type": "code",
   "execution_count": 128,
   "id": "6822c52b",
   "metadata": {},
   "outputs": [
    {
     "data": {
      "text/plain": [
       "mpf('40320.0')"
      ]
     },
     "execution_count": 128,
     "metadata": {},
     "output_type": "execute_result"
    }
   ],
   "source": [
    "gammainc(9)"
   ]
  },
  {
   "cell_type": "code",
   "execution_count": 131,
   "id": "b7d702a5",
   "metadata": {},
   "outputs": [
    {
     "data": {
      "text/plain": [
       "mpf('39916800.0')"
      ]
     },
     "execution_count": 131,
     "metadata": {},
     "output_type": "execute_result"
    }
   ],
   "source": [
    "gammainc(12)"
   ]
  },
  {
   "cell_type": "code",
   "execution_count": 132,
   "id": "c223b999",
   "metadata": {},
   "outputs": [
    {
     "data": {
      "text/plain": [
       "mpf('39916800.0')"
      ]
     },
     "execution_count": 132,
     "metadata": {},
     "output_type": "execute_result"
    }
   ],
   "source": [
    "gamma(12)"
   ]
  },
  {
   "cell_type": "code",
   "execution_count": 133,
   "id": "1466831c",
   "metadata": {},
   "outputs": [
    {
     "data": {
      "text/plain": [
       "mpf('0.19914827347145578')"
      ]
     },
     "execution_count": 133,
     "metadata": {},
     "output_type": "execute_result"
    }
   ],
   "source": [
    "gammainc(2,3)"
   ]
  },
  {
   "cell_type": "code",
   "execution_count": null,
   "id": "94859ae6",
   "metadata": {},
   "outputs": [],
   "source": []
  },
  {
   "cell_type": "code",
   "execution_count": 112,
   "id": "d96627e8",
   "metadata": {},
   "outputs": [
    {
     "data": {
      "text/plain": [
       "mpf('1.8951178163559368')"
      ]
     },
     "execution_count": 112,
     "metadata": {},
     "output_type": "execute_result"
    }
   ],
   "source": [
    "ei(1)"
   ]
  },
  {
   "cell_type": "code",
   "execution_count": 113,
   "id": "9393ff26",
   "metadata": {},
   "outputs": [
    {
     "data": {
      "text/plain": [
       "mpf('0.21938393439552029')"
      ]
     },
     "execution_count": 113,
     "metadata": {},
     "output_type": "execute_result"
    }
   ],
   "source": [
    "e1(1)"
   ]
  },
  {
   "cell_type": "code",
   "execution_count": 114,
   "id": "701e5730",
   "metadata": {},
   "outputs": [
    {
     "data": {
      "text/plain": [
       "mpf('0.0002704758872637179')"
      ]
     },
     "execution_count": 114,
     "metadata": {},
     "output_type": "execute_result"
    }
   ],
   "source": [
    "expint(1,6.25)"
   ]
  },
  {
   "cell_type": "code",
   "execution_count": null,
   "id": "51d67eaf",
   "metadata": {},
   "outputs": [],
   "source": []
  },
  {
   "cell_type": "code",
   "execution_count": 115,
   "id": "fc8b85c5",
   "metadata": {},
   "outputs": [
    {
     "data": {
      "text/plain": [
       "mpf('-inf')"
      ]
     },
     "execution_count": 115,
     "metadata": {},
     "output_type": "execute_result"
    }
   ],
   "source": [
    "li(1)"
   ]
  },
  {
   "cell_type": "code",
   "execution_count": 116,
   "id": "55908204",
   "metadata": {},
   "outputs": [
    {
     "data": {
      "text/plain": [
       "mpf('1.0451637801174929')"
      ]
     },
     "execution_count": 116,
     "metadata": {},
     "output_type": "execute_result"
    }
   ],
   "source": [
    "li(2)"
   ]
  },
  {
   "cell_type": "code",
   "execution_count": null,
   "id": "361b5ba9",
   "metadata": {},
   "outputs": [],
   "source": []
  },
  {
   "cell_type": "code",
   "execution_count": 117,
   "id": "47be72ef",
   "metadata": {},
   "outputs": [
    {
     "data": {
      "text/plain": [
       "mpf('0.11962978600800032')"
      ]
     },
     "execution_count": 117,
     "metadata": {},
     "output_type": "execute_result"
    }
   ],
   "source": [
    "ci(3)"
   ]
  },
  {
   "cell_type": "code",
   "execution_count": 118,
   "id": "1928953d",
   "metadata": {},
   "outputs": [
    {
     "data": {
      "text/plain": [
       "mpf('1.6054129768026948')"
      ]
     },
     "execution_count": 118,
     "metadata": {},
     "output_type": "execute_result"
    }
   ],
   "source": [
    "si(2)"
   ]
  },
  {
   "cell_type": "code",
   "execution_count": null,
   "id": "e7d72b17",
   "metadata": {},
   "outputs": [],
   "source": []
  },
  {
   "cell_type": "code",
   "execution_count": 119,
   "id": "ccc19c62",
   "metadata": {},
   "outputs": [
    {
     "data": {
      "text/plain": [
       "mpf('0.84270079294971489')"
      ]
     },
     "execution_count": 119,
     "metadata": {},
     "output_type": "execute_result"
    }
   ],
   "source": [
    "erf(1)"
   ]
  },
  {
   "cell_type": "code",
   "execution_count": 120,
   "id": "882cc317",
   "metadata": {},
   "outputs": [
    {
     "data": {
      "text/plain": [
       "mpf('0.15729920705028513')"
      ]
     },
     "execution_count": 120,
     "metadata": {},
     "output_type": "execute_result"
    }
   ],
   "source": [
    "erfc(1)"
   ]
  },
  {
   "cell_type": "code",
   "execution_count": 121,
   "id": "9ef41428",
   "metadata": {},
   "outputs": [
    {
     "data": {
      "text/plain": [
       "mpf('1.6504257587975428')"
      ]
     },
     "execution_count": 121,
     "metadata": {},
     "output_type": "execute_result"
    }
   ],
   "source": [
    "erfi(1)"
   ]
  },
  {
   "cell_type": "code",
   "execution_count": 122,
   "id": "f2a12f65",
   "metadata": {},
   "outputs": [
    {
     "data": {
      "text/plain": [
       "mpf('+inf')"
      ]
     },
     "execution_count": 122,
     "metadata": {},
     "output_type": "execute_result"
    }
   ],
   "source": [
    "erfinv(1)"
   ]
  },
  {
   "cell_type": "code",
   "execution_count": null,
   "id": "d8f0e694",
   "metadata": {},
   "outputs": [],
   "source": []
  },
  {
   "cell_type": "code",
   "execution_count": 123,
   "id": "3ded2c85",
   "metadata": {},
   "outputs": [
    {
     "data": {
      "text/plain": [
       "mpf('0.0044318484119380075')"
      ]
     },
     "execution_count": 123,
     "metadata": {},
     "output_type": "execute_result"
    }
   ],
   "source": [
    "npdf(3)"
   ]
  },
  {
   "cell_type": "code",
   "execution_count": 124,
   "id": "b15e58fb",
   "metadata": {},
   "outputs": [
    {
     "data": {
      "text/plain": [
       "mpf('0.9986501019683699')"
      ]
     },
     "execution_count": 124,
     "metadata": {},
     "output_type": "execute_result"
    }
   ],
   "source": [
    "ncdf(3)"
   ]
  },
  {
   "cell_type": "code",
   "execution_count": null,
   "id": "5c9194ae",
   "metadata": {},
   "outputs": [],
   "source": []
  },
  {
   "cell_type": "code",
   "execution_count": 125,
   "id": "1deb7705",
   "metadata": {},
   "outputs": [
    {
     "data": {
      "text/plain": [
       "mpf('0.49842603303817762')"
      ]
     },
     "execution_count": 125,
     "metadata": {},
     "output_type": "execute_result"
    }
   ],
   "source": [
    "fresnelc(4)"
   ]
  },
  {
   "cell_type": "code",
   "execution_count": 126,
   "id": "7692b3f0",
   "metadata": {
    "scrolled": true
   },
   "outputs": [
    {
     "data": {
      "text/plain": [
       "mpf('0.42051575424692844')"
      ]
     },
     "execution_count": 126,
     "metadata": {},
     "output_type": "execute_result"
    }
   ],
   "source": [
    "fresnels(4)"
   ]
  },
  {
   "cell_type": "code",
   "execution_count": null,
   "id": "e8a247a2",
   "metadata": {},
   "outputs": [],
   "source": []
  },
  {
   "cell_type": "markdown",
   "id": "80b1071c",
   "metadata": {},
   "source": [
    "# Bessel functions and related functions"
   ]
  },
  {
   "cell_type": "code",
   "execution_count": 140,
   "id": "5b9d4a7a",
   "metadata": {},
   "outputs": [
    {
     "data": {
      "text/plain": [
       "mpf('0.39123236045864818')"
      ]
     },
     "execution_count": 140,
     "metadata": {},
     "output_type": "execute_result"
    }
   ],
   "source": [
    "besselj(4,5)"
   ]
  },
  {
   "cell_type": "code",
   "execution_count": 141,
   "id": "fe8669ad",
   "metadata": {},
   "outputs": [
    {
     "data": {
      "text/plain": [
       "mpf('-0.19214228737369318')"
      ]
     },
     "execution_count": 141,
     "metadata": {},
     "output_type": "execute_result"
    }
   ],
   "source": [
    "bessely(4,5)"
   ]
  },
  {
   "cell_type": "code",
   "execution_count": 142,
   "id": "1808043f",
   "metadata": {},
   "outputs": [
    {
     "data": {
      "text/plain": [
       "mpf('5.1082347636428702')"
      ]
     },
     "execution_count": 142,
     "metadata": {},
     "output_type": "execute_result"
    }
   ],
   "source": [
    "besseli(4,5)"
   ]
  },
  {
   "cell_type": "code",
   "execution_count": 143,
   "id": "b37bd47f",
   "metadata": {},
   "outputs": [
    {
     "data": {
      "text/plain": [
       "mpf('0.015259065810500579')"
      ]
     },
     "execution_count": 143,
     "metadata": {},
     "output_type": "execute_result"
    }
   ],
   "source": [
    "besselk(4,5)"
   ]
  },
  {
   "cell_type": "code",
   "execution_count": null,
   "id": "84e02d91",
   "metadata": {},
   "outputs": [],
   "source": []
  },
  {
   "cell_type": "code",
   "execution_count": null,
   "id": "ed9bee8f",
   "metadata": {},
   "outputs": [],
   "source": []
  },
  {
   "cell_type": "code",
   "execution_count": 144,
   "id": "5e951a16",
   "metadata": {},
   "outputs": [
    {
     "data": {
      "text/plain": [
       "mpf('20.826932956962388')"
      ]
     },
     "execution_count": 144,
     "metadata": {},
     "output_type": "execute_result"
    }
   ],
   "source": [
    "besseljzero(4,5)"
   ]
  },
  {
   "cell_type": "code",
   "execution_count": 145,
   "id": "a34b1407",
   "metadata": {},
   "outputs": [
    {
     "data": {
      "text/plain": [
       "mpf('19.224428959316811')"
      ]
     },
     "execution_count": 145,
     "metadata": {},
     "output_type": "execute_result"
    }
   ],
   "source": [
    "besselyzero(4,5)"
   ]
  },
  {
   "cell_type": "code",
   "execution_count": null,
   "id": "5c265128",
   "metadata": {},
   "outputs": [],
   "source": []
  },
  {
   "cell_type": "code",
   "execution_count": 146,
   "id": "57c0b5fb",
   "metadata": {},
   "outputs": [
    {
     "data": {
      "text/plain": [
       "mpc(real='0.36483123061366701', imag='0.14626716269319276')"
      ]
     },
     "execution_count": 146,
     "metadata": {},
     "output_type": "execute_result"
    }
   ],
   "source": [
    "hankel1(3,5)"
   ]
  },
  {
   "cell_type": "code",
   "execution_count": 147,
   "id": "2231a041",
   "metadata": {},
   "outputs": [
    {
     "data": {
      "text/plain": [
       "mpc(real='0.36483123061366701', imag='-0.14626716269319276')"
      ]
     },
     "execution_count": 147,
     "metadata": {},
     "output_type": "execute_result"
    }
   ],
   "source": [
    "hankel2(3,5)"
   ]
  },
  {
   "cell_type": "code",
   "execution_count": null,
   "id": "6640e660",
   "metadata": {},
   "outputs": [],
   "source": []
  },
  {
   "cell_type": "code",
   "execution_count": 148,
   "id": "ef641f36",
   "metadata": {},
   "outputs": [
    {
     "data": {
      "text/plain": [
       "mpf('4.4884262727291135')"
      ]
     },
     "execution_count": 148,
     "metadata": {},
     "output_type": "execute_result"
    }
   ],
   "source": [
    "ber(2,5)"
   ]
  },
  {
   "cell_type": "code",
   "execution_count": 149,
   "id": "60bb31a6",
   "metadata": {},
   "outputs": [
    {
     "data": {
      "text/plain": [
       "mpf('1.4221014077546614')"
      ]
     },
     "execution_count": 149,
     "metadata": {},
     "output_type": "execute_result"
    }
   ],
   "source": [
    "bei(2,5)"
   ]
  },
  {
   "cell_type": "code",
   "execution_count": 150,
   "id": "1334ba35",
   "metadata": {},
   "outputs": [
    {
     "data": {
      "text/plain": [
       "mpf('0.011183732582038346')"
      ]
     },
     "execution_count": 150,
     "metadata": {},
     "output_type": "execute_result"
    }
   ],
   "source": [
    "ker(2,5)"
   ]
  },
  {
   "cell_type": "code",
   "execution_count": 151,
   "id": "bbe3a07f",
   "metadata": {},
   "outputs": [
    {
     "data": {
      "text/plain": [
       "mpf('-0.018064948041226884')"
      ]
     },
     "execution_count": 151,
     "metadata": {},
     "output_type": "execute_result"
    }
   ],
   "source": [
    "kei(2,5)"
   ]
  },
  {
   "cell_type": "code",
   "execution_count": null,
   "id": "7d535156",
   "metadata": {},
   "outputs": [],
   "source": []
  },
  {
   "cell_type": "code",
   "execution_count": 152,
   "id": "5824a30c",
   "metadata": {},
   "outputs": [
    {
     "data": {
      "text/plain": [
       "mpf('1.5693745480402796')"
      ]
     },
     "execution_count": 152,
     "metadata": {},
     "output_type": "execute_result"
    }
   ],
   "source": [
    "struveh(2,5)"
   ]
  },
  {
   "cell_type": "code",
   "execution_count": 153,
   "id": "20b872eb",
   "metadata": {},
   "outputs": [
    {
     "data": {
      "text/plain": [
       "mpf('16.553597860448864')"
      ]
     },
     "execution_count": 153,
     "metadata": {},
     "output_type": "execute_result"
    }
   ],
   "source": [
    "struvel(2,5)"
   ]
  },
  {
   "cell_type": "code",
   "execution_count": null,
   "id": "d70a3406",
   "metadata": {},
   "outputs": [],
   "source": []
  },
  {
   "cell_type": "code",
   "execution_count": 154,
   "id": "14057b86",
   "metadata": {},
   "outputs": [
    {
     "data": {
      "text/plain": [
       "mpf('0.36483123061366701')"
      ]
     },
     "execution_count": 154,
     "metadata": {},
     "output_type": "execute_result"
    }
   ],
   "source": [
    "angerj(3,5)"
   ]
  },
  {
   "cell_type": "code",
   "execution_count": 155,
   "id": "2cf962bd",
   "metadata": {},
   "outputs": [
    {
     "data": {
      "text/plain": [
       "mpf('-0.50834159409431068')"
      ]
     },
     "execution_count": 155,
     "metadata": {},
     "output_type": "execute_result"
    }
   ],
   "source": [
    "webere(2,5)"
   ]
  },
  {
   "cell_type": "code",
   "execution_count": null,
   "id": "ed40f334",
   "metadata": {},
   "outputs": [],
   "source": []
  },
  {
   "cell_type": "code",
   "execution_count": 158,
   "id": "d1460122",
   "metadata": {},
   "outputs": [
    {
     "data": {
      "text/plain": [
       "mpf('5.1112699153128718')"
      ]
     },
     "execution_count": 158,
     "metadata": {},
     "output_type": "execute_result"
    }
   ],
   "source": [
    "lommels1(3,2,3)"
   ]
  },
  {
   "cell_type": "code",
   "execution_count": 159,
   "id": "e2c8f223",
   "metadata": {},
   "outputs": [
    {
     "data": {
      "text/plain": [
       "mpf('9.0')"
      ]
     },
     "execution_count": 159,
     "metadata": {},
     "output_type": "execute_result"
    }
   ],
   "source": [
    "lommels2(3,2,3)"
   ]
  },
  {
   "cell_type": "code",
   "execution_count": null,
   "id": "84cd720f",
   "metadata": {},
   "outputs": [],
   "source": []
  },
  {
   "cell_type": "code",
   "execution_count": 160,
   "id": "1737cb78",
   "metadata": {},
   "outputs": [
    {
     "data": {
      "text/plain": [
       "mpf('0.0065911393574607192')"
      ]
     },
     "execution_count": 160,
     "metadata": {},
     "output_type": "execute_result"
    }
   ],
   "source": [
    "airyai(3)"
   ]
  },
  {
   "cell_type": "code",
   "execution_count": 161,
   "id": "e9fa873c",
   "metadata": {},
   "outputs": [
    {
     "data": {
      "text/plain": [
       "mpf('14.037328963730232')"
      ]
     },
     "execution_count": 161,
     "metadata": {},
     "output_type": "execute_result"
    }
   ],
   "source": [
    "airybi(3)"
   ]
  },
  {
   "cell_type": "code",
   "execution_count": 162,
   "id": "70392a71",
   "metadata": {},
   "outputs": [
    {
     "data": {
      "text/plain": [
       "mpf('-5.5205598280955511')"
      ]
     },
     "execution_count": 162,
     "metadata": {},
     "output_type": "execute_result"
    }
   ],
   "source": [
    "airyaizero(3)"
   ]
  },
  {
   "cell_type": "code",
   "execution_count": 163,
   "id": "1ff71797",
   "metadata": {},
   "outputs": [
    {
     "data": {
      "text/plain": [
       "mpf('-4.8307378416620159')"
      ]
     },
     "execution_count": 163,
     "metadata": {},
     "output_type": "execute_result"
    }
   ],
   "source": [
    "airybizero(3)"
   ]
  },
  {
   "cell_type": "code",
   "execution_count": 164,
   "id": "6e94ea9d",
   "metadata": {},
   "outputs": [
    {
     "data": {
      "text/plain": [
       "mpf('0.11422886892313992')"
      ]
     },
     "execution_count": 164,
     "metadata": {},
     "output_type": "execute_result"
    }
   ],
   "source": [
    "scorergi(3)"
   ]
  },
  {
   "cell_type": "code",
   "execution_count": 165,
   "id": "4b1bc2db",
   "metadata": {},
   "outputs": [
    {
     "data": {
      "text/plain": [
       "mpf('13.923100094807092')"
      ]
     },
     "execution_count": 165,
     "metadata": {},
     "output_type": "execute_result"
    }
   ],
   "source": [
    "scorerhi(3)"
   ]
  },
  {
   "cell_type": "code",
   "execution_count": null,
   "id": "6523afc1",
   "metadata": {},
   "outputs": [],
   "source": []
  },
  {
   "cell_type": "code",
   "execution_count": 169,
   "id": "923d1b3d",
   "metadata": {},
   "outputs": [
    {
     "data": {
      "text/plain": [
       "mpf('0.0019642241084447095')"
      ]
     },
     "execution_count": 169,
     "metadata": {},
     "output_type": "execute_result"
    }
   ],
   "source": [
    "coulombf(3,4,3)"
   ]
  },
  {
   "cell_type": "code",
   "execution_count": 170,
   "id": "c07fbc4b",
   "metadata": {},
   "outputs": [
    {
     "data": {
      "text/plain": [
       "mpf('146.65409666251441')"
      ]
     },
     "execution_count": 170,
     "metadata": {},
     "output_type": "execute_result"
    }
   ],
   "source": [
    "coulombg(3,4,3)"
   ]
  },
  {
   "cell_type": "code",
   "execution_count": 173,
   "id": "02b6b030",
   "metadata": {},
   "outputs": [],
   "source": [
    "#coulombc(8,4,3)"
   ]
  },
  {
   "cell_type": "code",
   "execution_count": null,
   "id": "7b6ec17a",
   "metadata": {},
   "outputs": [],
   "source": []
  },
  {
   "cell_type": "code",
   "execution_count": 174,
   "id": "5f4472e4",
   "metadata": {},
   "outputs": [
    {
     "data": {
      "text/plain": [
       "mpf('0.0625')"
      ]
     },
     "execution_count": 174,
     "metadata": {},
     "output_type": "execute_result"
    }
   ],
   "source": [
    "hyperu(2,3,4)"
   ]
  },
  {
   "cell_type": "code",
   "execution_count": 176,
   "id": "5c2fc968",
   "metadata": {},
   "outputs": [
    {
     "data": {
      "text/plain": [
       "mpf('25.168481807714112')"
      ]
     },
     "execution_count": 176,
     "metadata": {},
     "output_type": "execute_result"
    }
   ],
   "source": [
    "whitm(3,3,4)"
   ]
  },
  {
   "cell_type": "code",
   "execution_count": 177,
   "id": "3e5d2685",
   "metadata": {},
   "outputs": [
    {
     "data": {
      "text/plain": [
       "mpf('405.71333641276874')"
      ]
     },
     "execution_count": 177,
     "metadata": {},
     "output_type": "execute_result"
    }
   ],
   "source": [
    "whitw(3,4,3)"
   ]
  },
  {
   "cell_type": "code",
   "execution_count": null,
   "id": "d4ff6326",
   "metadata": {},
   "outputs": [],
   "source": []
  },
  {
   "cell_type": "code",
   "execution_count": null,
   "id": "342a354a",
   "metadata": {},
   "outputs": [],
   "source": []
  },
  {
   "cell_type": "code",
   "execution_count": null,
   "id": "4b17dc41",
   "metadata": {},
   "outputs": [],
   "source": []
  }
 ],
 "metadata": {
  "kernelspec": {
   "display_name": "Python 3 (ipykernel)",
   "language": "python",
   "name": "python3"
  },
  "language_info": {
   "codemirror_mode": {
    "name": "ipython",
    "version": 3
   },
   "file_extension": ".py",
   "mimetype": "text/x-python",
   "name": "python",
   "nbconvert_exporter": "python",
   "pygments_lexer": "ipython3",
   "version": "3.9.12"
  }
 },
 "nbformat": 4,
 "nbformat_minor": 5
}
