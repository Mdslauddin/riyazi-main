{
 "cells": [
  {
   "cell_type": "markdown",
   "id": "c4aec368",
   "metadata": {},
   "source": [
    "# Zeta functions, L-series and polylogarithms\n",
    "\n",
    "**Riemann and Hurwitz zeta functions**\n",
    "\n",
    "- zeta\n",
    "\n",
    "**Dirichlet L-series**\n",
    "\n",
    "- altzeta\n",
    "- dirchlet\n",
    "\n",
    "**Stieltjes constants**\n",
    "\n",
    "- stieltjes\n",
    "\n",
    "**Zeta function zeros¶**\n",
    "\n",
    "- zetazero\n",
    "- nzeros\n",
    "- siegelz\n",
    "- siegeltheta\n",
    "- grampoint\n",
    "- backlunds\n",
    "\n",
    "**Lerch transcendent**\n",
    "\n",
    "- lerchphi\n",
    "\n",
    "**Polylogarithms and Clausen functions**\n",
    "\n",
    "- polylog\n",
    "- clsin\n",
    "- clcos\n",
    "- polyexp\n",
    "\n",
    "**Zeta function variants**\n",
    "\n",
    "- primezeta\n",
    "- secondzeta\n"
   ]
  },
  {
   "cell_type": "markdown",
   "id": "b901f9b9",
   "metadata": {},
   "source": [
    "https://keisan.casio.com/exec/system/1180573439#!\n",
    "\n",
    "https://researchcode.com/code/1269628936/riemann-zeta-function/\n",
    "\n",
    "https://math.stackexchange.com/questions/2640941/how-to-locate-zeros-of-the-riemann-zeta-function\n",
    "\n",
    "https://en.wikipedia.org/wiki/Riemann_zeta_function"
   ]
  },
  {
   "cell_type": "markdown",
   "id": "9cbf796c",
   "metadata": {},
   "source": [
    "https://mpmath.org/doc/current/functions/zeta.html"
   ]
  },
  {
   "cell_type": "markdown",
   "id": "00044966",
   "metadata": {},
   "source": [
    "https://mpmath.org/doc/current/functions/"
   ]
  },
  {
   "cell_type": "code",
   "execution_count": null,
   "id": "bd2f1815",
   "metadata": {},
   "outputs": [],
   "source": []
  },
  {
   "cell_type": "code",
   "execution_count": 1,
   "id": "6d9cdb92",
   "metadata": {},
   "outputs": [],
   "source": [
    "from scipy.special import zeta"
   ]
  },
  {
   "cell_type": "code",
   "execution_count": 2,
   "id": "2316288d",
   "metadata": {},
   "outputs": [
    {
     "data": {
      "text/plain": [
       "0.003571304698792513"
      ]
     },
     "execution_count": 2,
     "metadata": {},
     "output_type": "execute_result"
    }
   ],
   "source": [
    "zeta(4,5)"
   ]
  },
  {
   "cell_type": "code",
   "execution_count": 13,
   "id": "f55c9083",
   "metadata": {},
   "outputs": [],
   "source": [
    "from itertools import count, islice\n",
    "\n",
    "def binom(n, k):\n",
    "    v = 1\n",
    "    for i in range(k):\n",
    "        v *= (n - i) / (i + 1)\n",
    "    return v\n",
    "\n",
    "def zetas(s, t=100):\n",
    "    if s == 1: return complex(\"inf\")\n",
    "    term = (1 / 2 ** (n + 1) * sum((-1) ** k * binom(n, k) * (k + 1) ** -s \n",
    "                                   for k in range(n + 1)) for n in count(0))\n",
    "    return sum(islice(term, t)) / (1 - 2 ** (1 - s))\n"
   ]
  },
  {
   "cell_type": "code",
   "execution_count": 15,
   "id": "161dd992",
   "metadata": {},
   "outputs": [
    {
     "data": {
      "text/plain": [
       "1.0823232337111381"
      ]
     },
     "execution_count": 15,
     "metadata": {},
     "output_type": "execute_result"
    }
   ],
   "source": [
    "zetas(4)"
   ]
  },
  {
   "cell_type": "code",
   "execution_count": null,
   "id": "80a9c589",
   "metadata": {},
   "outputs": [],
   "source": [
    "import numpy as np\n",
    "\n",
    "def mzeta(x,q,N=100):\n",
    "  s=0\n",
    "  for j in np.arange(1,N):\n",
    "    s+= 1./(1.*j+1.*q)**x\n",
    "  return s\n",
    "\n",
    "\n",
    "for N in [100, 500, 1000, 5000, 15000]:\n",
    "  print mzeta(2.,0.,N), np.pi**2/ 6"
   ]
  },
  {
   "cell_type": "code",
   "execution_count": 7,
   "id": "88d2d95d",
   "metadata": {},
   "outputs": [],
   "source": [
    "import numpy as np \n",
    "def mzeta(x,q, N=100):\n",
    "    s=0\n",
    "    for j in np.arange(1,N):\n",
    "        s += (1.) / ((1.*j+1.*q)**x)\n",
    "    return s "
   ]
  },
  {
   "cell_type": "code",
   "execution_count": 8,
   "id": "1ca9058e",
   "metadata": {},
   "outputs": [
    {
     "data": {
      "text/plain": [
       "0.001971012613297606"
      ]
     },
     "execution_count": 8,
     "metadata": {},
     "output_type": "execute_result"
    }
   ],
   "source": [
    "mzeta(4,5)"
   ]
  },
  {
   "cell_type": "code",
   "execution_count": null,
   "id": "3092c2ad",
   "metadata": {},
   "outputs": [],
   "source": []
  }
 ],
 "metadata": {
  "kernelspec": {
   "display_name": "Python 3 (ipykernel)",
   "language": "python",
   "name": "python3"
  },
  "language_info": {
   "codemirror_mode": {
    "name": "ipython",
    "version": 3
   },
   "file_extension": ".py",
   "mimetype": "text/x-python",
   "name": "python",
   "nbconvert_exporter": "python",
   "pygments_lexer": "ipython3",
   "version": "3.9.12"
  }
 },
 "nbformat": 4,
 "nbformat_minor": 5
}
