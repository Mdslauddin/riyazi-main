{
 "cells": [
  {
   "cell_type": "markdown",
   "id": "ae9b61c4",
   "metadata": {},
   "source": [
    "# Elliptic functions\n",
    "\n",
    "**Elliptic arguments**\n",
    "\n",
    "- qfrom\n",
    "- qbarfrom\n",
    "- mfrom\n",
    "- kfrom\n",
    "- taufrom\n",
    "\n",
    "**Legendre elliptic integrals**\n",
    "\n",
    "- ellipk\n",
    "- ellipf\n",
    "- ellipe\n",
    "- ellippi\n",
    "\n",
    "**Carlson symmetric elliptic integrals**\n",
    "\n",
    "- elliprf\n",
    "- elliprc\n",
    "- elliprj\n",
    "- elliprd\n",
    "- elliprg\n",
    "\n",
    "**Jacobi theta functions**\n",
    "\n",
    "- jtheta\n",
    "\n",
    "**Jacobi elliptic functions**\n",
    "\n",
    "- ellipfun\n",
    "\n",
    "**Modular functions**\n",
    "\n",
    "- eta\n",
    "- kleinj\n"
   ]
  },
  {
   "cell_type": "code",
   "execution_count": null,
   "id": "5d6d5aa5",
   "metadata": {},
   "outputs": [],
   "source": [
    "from math import pi\n",
    "import mpmath \n",
    "def ellipkm1(m):\n",
    "    return (pi/2)* mpmath.hyp2f1(0.5,0.5,1,1-m)"
   ]
  },
  {
   "cell_type": "code",
   "execution_count": null,
   "id": "70f09484",
   "metadata": {},
   "outputs": [],
   "source": [
    "from math import pi\n",
    "import mpmath \n",
    "def ellipe(m):\n",
    "    return (pi/2)* mpmath.hyp2f1(0.5,-0.5,1,m)"
   ]
  },
  {
   "cell_type": "code",
   "execution_count": null,
   "id": "0fb82166",
   "metadata": {},
   "outputs": [],
   "source": [
    "from math import pi\n",
    "import mpmath \n",
    "def ellipk(m):\n",
    "    return (pi/2)* mpmath.hyp2f1(0.5,0.5,1,m)"
   ]
  },
  {
   "cell_type": "markdown",
   "id": "e6d9388f",
   "metadata": {},
   "source": [
    "# Elliptic functions\n",
    "\n",
    "### Elliptic arguments\n",
    "\n",
    "- qfrom()\n",
    "- qbarfrom()\n",
    "- mfrom()\n",
    "- kfrom()\n",
    "- taufrom()\n",
    "\n",
    "### Lengedre elliptic integrals\n",
    "\n",
    "- ellipk()\n",
    "- ellipf()\n",
    "- ellipe()\n",
    "- ellipi()\n",
    "\n",
    "\n",
    "### Carlson symmetric elliptic integral\n",
    "\n",
    "- elliprf()\n",
    "- elliprc()\n",
    "- elliprj()\n",
    "- elliprd()\n",
    "- elliprg()\n",
    "\n",
    "### Jacobi theta functions\n",
    "\n",
    "- jtheta()\n",
    "\n",
    "\n",
    "### Jacobi elliptic integral \n",
    "\n",
    "- ellipfun\n",
    "\n",
    "\n",
    "### Modular functions\n",
    "\n",
    "- eta()\n",
    "- kleinj()"
   ]
  },
  {
   "cell_type": "markdown",
   "id": "9a812e99",
   "metadata": {},
   "source": [
    "https://keisan.casio.com/exec/system/1449452291"
   ]
  },
  {
   "cell_type": "code",
   "execution_count": null,
   "id": "275eced9",
   "metadata": {},
   "outputs": [],
   "source": []
  },
  {
   "cell_type": "code",
   "execution_count": null,
   "id": "59a5209c",
   "metadata": {},
   "outputs": [],
   "source": []
  },
  {
   "cell_type": "code",
   "execution_count": null,
   "id": "3c070adf",
   "metadata": {},
   "outputs": [],
   "source": []
  },
  {
   "cell_type": "code",
   "execution_count": null,
   "id": "8b628ed1",
   "metadata": {},
   "outputs": [],
   "source": []
  },
  {
   "cell_type": "code",
   "execution_count": null,
   "id": "a546eb23",
   "metadata": {},
   "outputs": [],
   "source": []
  },
  {
   "cell_type": "code",
   "execution_count": null,
   "id": "2e0af738",
   "metadata": {},
   "outputs": [],
   "source": []
  },
  {
   "cell_type": "code",
   "execution_count": null,
   "id": "9eecd7fe",
   "metadata": {},
   "outputs": [],
   "source": []
  },
  {
   "cell_type": "code",
   "execution_count": null,
   "id": "214cde1b",
   "metadata": {},
   "outputs": [],
   "source": []
  },
  {
   "cell_type": "code",
   "execution_count": null,
   "id": "820ee0d8",
   "metadata": {},
   "outputs": [],
   "source": []
  },
  {
   "cell_type": "code",
   "execution_count": 4,
   "id": "d16d6a92",
   "metadata": {},
   "outputs": [],
   "source": [
    "import math \n",
    "import mpmath as mp\n",
    "import scipy.special as sp "
   ]
  },
  {
   "cell_type": "code",
   "execution_count": null,
   "id": "0010577f",
   "metadata": {},
   "outputs": [],
   "source": [
    "mp.qfrom(4,3,2,4,5),mp.qfrom(5,3,2,4,2),mp.qfrom(3,3,2,4,5),mp.qfrom(49,3,2,4,5)"
   ]
  },
  {
   "cell_type": "code",
   "execution_count": null,
   "id": "5150501a",
   "metadata": {},
   "outputs": [],
   "source": [
    "import math\n",
    "\n",
    "def elliptic_nome(q=None, m=None, k=None, τ=None, q̄=None):\n",
    "    if q is not None:\n",
    "        return q\n",
    "    elif m is not None:\n",
    "        return math.sqrt(m)\n",
    "    elif k is not None:\n",
    "        return math.sin(math.pi * k**2)\n",
    "    elif τ is not None:\n",
    "        return math.exp(math.pi * math.sqrt(-1) * τ / 2)\n",
    "    elif q̄ is not None:\n",
    "        return math.sqrt(q̄)\n",
    "    else:\n",
    "        raise ValueError('One of the parameters q, m, k, τ, or q̄ must be provided')\n"
   ]
  },
  {
   "cell_type": "code",
   "execution_count": null,
   "id": "15d419b3",
   "metadata": {},
   "outputs": [],
   "source": [
    "mp.qfrom(0.9),mp.qfrom(0.3)"
   ]
  },
  {
   "cell_type": "code",
   "execution_count": null,
   "id": "fcd5741d",
   "metadata": {},
   "outputs": [],
   "source": [
    "elliptic_nome(0.9)"
   ]
  },
  {
   "cell_type": "code",
   "execution_count": null,
   "id": "dc6e35e8",
   "metadata": {},
   "outputs": [],
   "source": [
    "elliptic_nome(4,3,2,4,5)"
   ]
  },
  {
   "cell_type": "code",
   "execution_count": null,
   "id": "a6fe4af2",
   "metadata": {},
   "outputs": [],
   "source": [
    "elliptic_nome(q=0.25)"
   ]
  },
  {
   "cell_type": "code",
   "execution_count": null,
   "id": "59ed1ee9",
   "metadata": {},
   "outputs": [],
   "source": [
    "mp.eta(1j),"
   ]
  },
  {
   "cell_type": "code",
   "execution_count": 1,
   "id": "31fadcd2",
   "metadata": {},
   "outputs": [],
   "source": [
    "import math\n",
    "from cmath import sqrt,exp\n",
    "\n",
    "def dedekind_eta(τ):\n",
    "    q = exp(math.pi * sqrt(-1) * τ / 2)\n",
    "    result = q**(1/24)\n",
    "    n = 1\n",
    "    while True:\n",
    "        term = 1 - q**n\n",
    "        if abs(term) < 1e-10:\n",
    "            break\n",
    "        result *= term\n",
    "        n += 1\n",
    "    return result\n"
   ]
  },
  {
   "cell_type": "code",
   "execution_count": 2,
   "id": "7ea76618",
   "metadata": {},
   "outputs": [
    {
     "data": {
      "text/plain": [
       "(3.9914356929544144+0.2616125169205712j)"
      ]
     },
     "execution_count": 2,
     "metadata": {},
     "output_type": "execute_result"
    }
   ],
   "source": [
    "dedekind_eta(1)"
   ]
  },
  {
   "cell_type": "code",
   "execution_count": 5,
   "id": "8d8d84e4",
   "metadata": {},
   "outputs": [
    {
     "ename": "ValueError",
     "evalue": "eta is only defined in the upper half-plane",
     "output_type": "error",
     "traceback": [
      "\u001b[1;31m---------------------------------------------------------------------------\u001b[0m",
      "\u001b[1;31mValueError\u001b[0m                                Traceback (most recent call last)",
      "Input \u001b[1;32mIn [5]\u001b[0m, in \u001b[0;36m<cell line: 1>\u001b[1;34m()\u001b[0m\n\u001b[1;32m----> 1\u001b[0m \u001b[43mmp\u001b[49m\u001b[38;5;241;43m.\u001b[39;49m\u001b[43meta\u001b[49m\u001b[43m(\u001b[49m\u001b[38;5;241;43m1\u001b[39;49m\u001b[43m)\u001b[49m\n",
      "File \u001b[1;32mD:\\Anaconda\\lib\\site-packages\\mpmath\\ctx_mp_python.py:1021\u001b[0m, in \u001b[0;36mPythonMPContext._wrap_specfun.<locals>.f_wrapped\u001b[1;34m(ctx, *args, **kwargs)\u001b[0m\n\u001b[0;32m   1019\u001b[0m \u001b[38;5;28;01mtry\u001b[39;00m:\n\u001b[0;32m   1020\u001b[0m     ctx\u001b[38;5;241m.\u001b[39mprec \u001b[38;5;241m+\u001b[39m\u001b[38;5;241m=\u001b[39m \u001b[38;5;241m10\u001b[39m\n\u001b[1;32m-> 1021\u001b[0m     retval \u001b[38;5;241m=\u001b[39m f(ctx, \u001b[38;5;241m*\u001b[39margs, \u001b[38;5;241m*\u001b[39m\u001b[38;5;241m*\u001b[39mkwargs)\n\u001b[0;32m   1022\u001b[0m \u001b[38;5;28;01mfinally\u001b[39;00m:\n\u001b[0;32m   1023\u001b[0m     ctx\u001b[38;5;241m.\u001b[39mprec \u001b[38;5;241m=\u001b[39m prec\n",
      "File \u001b[1;32mD:\\Anaconda\\lib\\site-packages\\mpmath\\functions\\elliptic.py:90\u001b[0m, in \u001b[0;36meta\u001b[1;34m(ctx, tau)\u001b[0m\n\u001b[0;32m     69\u001b[0m \u001b[38;5;124mr\u001b[39m\u001b[38;5;124;03m\"\"\"\u001b[39;00m\n\u001b[0;32m     70\u001b[0m \u001b[38;5;124;03mReturns the Dedekind eta function of tau in the upper half-plane.\u001b[39;00m\n\u001b[0;32m     71\u001b[0m \n\u001b[1;32m   (...)\u001b[0m\n\u001b[0;32m     87\u001b[0m \n\u001b[0;32m     88\u001b[0m \u001b[38;5;124;03m\"\"\"\u001b[39;00m\n\u001b[0;32m     89\u001b[0m \u001b[38;5;28;01mif\u001b[39;00m ctx\u001b[38;5;241m.\u001b[39mim(tau) \u001b[38;5;241m<\u001b[39m\u001b[38;5;241m=\u001b[39m \u001b[38;5;241m0.0\u001b[39m:\n\u001b[1;32m---> 90\u001b[0m     \u001b[38;5;28;01mraise\u001b[39;00m \u001b[38;5;167;01mValueError\u001b[39;00m(\u001b[38;5;124m\"\u001b[39m\u001b[38;5;124meta is only defined in the upper half-plane\u001b[39m\u001b[38;5;124m\"\u001b[39m)\n\u001b[0;32m     91\u001b[0m q \u001b[38;5;241m=\u001b[39m ctx\u001b[38;5;241m.\u001b[39mexpjpi(tau\u001b[38;5;241m/\u001b[39m\u001b[38;5;241m12\u001b[39m)\n\u001b[0;32m     92\u001b[0m \u001b[38;5;28;01mreturn\u001b[39;00m q \u001b[38;5;241m*\u001b[39m ctx\u001b[38;5;241m.\u001b[39mqp(q\u001b[38;5;241m*\u001b[39m\u001b[38;5;241m*\u001b[39m\u001b[38;5;241m24\u001b[39m)\n",
      "\u001b[1;31mValueError\u001b[0m: eta is only defined in the upper half-plane"
     ]
    }
   ],
   "source": [
    "mp.eta(1)"
   ]
  },
  {
   "cell_type": "code",
   "execution_count": null,
   "id": "440b169f",
   "metadata": {},
   "outputs": [],
   "source": [
    "mp.qp()"
   ]
  },
  {
   "cell_type": "code",
   "execution_count": 12,
   "id": "a1797b33",
   "metadata": {},
   "outputs": [],
   "source": [
    "tau = 0.625+0.75*1j\n",
    "taus = 0.625+0.75*1j"
   ]
  },
  {
   "cell_type": "code",
   "execution_count": 13,
   "id": "be36524b",
   "metadata": {
    "scrolled": true
   },
   "outputs": [
    {
     "data": {
      "text/plain": [
       "mpc(real='-0.15074921665111823', imag='0.075959483790845717')"
      ]
     },
     "execution_count": 13,
     "metadata": {},
     "output_type": "execute_result"
    }
   ],
   "source": [
    "mp.kleinj(tau)"
   ]
  },
  {
   "cell_type": "code",
   "execution_count": 14,
   "id": "bde50aaa",
   "metadata": {},
   "outputs": [],
   "source": [
    "def kleinj(a, b):\n",
    "    return 256 * (4 * a**3) / (4 * a**3 - 27 * b**2)\n"
   ]
  },
  {
   "cell_type": "code",
   "execution_count": 15,
   "id": "d4295d10",
   "metadata": {},
   "outputs": [
    {
     "data": {
      "text/plain": [
       "-9.846153846153847"
      ]
     },
     "execution_count": 15,
     "metadata": {},
     "output_type": "execute_result"
    }
   ],
   "source": [
    "kleinj(1,2)"
   ]
  },
  {
   "cell_type": "code",
   "execution_count": 19,
   "id": "5df72c1a",
   "metadata": {},
   "outputs": [
    {
     "data": {
      "text/plain": [
       "mpc(real='88862.082984218097', imag='0.0')"
      ]
     },
     "execution_count": 19,
     "metadata": {},
     "output_type": "execute_result"
    }
   ],
   "source": [
    "mp.kleinj(3j)"
   ]
  },
  {
   "cell_type": "code",
   "execution_count": 20,
   "id": "eca14651",
   "metadata": {},
   "outputs": [],
   "source": [
    "def kleinj(a, b):\n",
    "    return 256 * (4 * a**3) / (4 * a**3 - 27 * b**2)\n"
   ]
  },
  {
   "cell_type": "code",
   "execution_count": 21,
   "id": "4ad6f60d",
   "metadata": {},
   "outputs": [
    {
     "data": {
      "text/plain": [
       "(128+128j)"
      ]
     },
     "execution_count": 21,
     "metadata": {},
     "output_type": "execute_result"
    }
   ],
   "source": [
    "kleinj(3j,2)"
   ]
  },
  {
   "cell_type": "code",
   "execution_count": 28,
   "id": "c645de1f",
   "metadata": {},
   "outputs": [
    {
     "data": {
      "text/plain": [
       "mpf('-1.0219008102657063')"
      ]
     },
     "execution_count": 28,
     "metadata": {},
     "output_type": "execute_result"
    }
   ],
   "source": [
    "mp.ellipfun('nc',3.5,0.5)"
   ]
  },
  {
   "cell_type": "code",
   "execution_count": 23,
   "id": "fce2de82",
   "metadata": {},
   "outputs": [],
   "source": [
    "import math\n",
    "def jacobi_elliptic(q, k, function):\n",
    "    if function == 'sn':\n",
    "        return math.sqrt(1 - k**2 * math.sin(math.pi * q)**2)\n",
    "    elif function == 'cn':\n",
    "        return math.sqrt(1 - k**2 * math.sin(math.pi * q)**2) / math.cos(math.pi * q)\n",
    "    elif function == 'dn':\n",
    "        return math.sqrt(1 - k**2 * math.sin(math.pi * q)**2) / math.cos(math.pi * q / 2)\n",
    "    elif function == 'nc':\n",
    "        return math.cos(math.pi * q) / math.sqrt(1 - k**2 * math.sin(math.pi * q)**2)\n",
    "    else:\n",
    "        raise ValueError('Invalid function')\n"
   ]
  },
  {
   "cell_type": "code",
   "execution_count": 32,
   "id": "1c233b77",
   "metadata": {},
   "outputs": [
    {
     "data": {
      "text/plain": [
       "-2020466879307333.5"
      ]
     },
     "execution_count": 32,
     "metadata": {},
     "output_type": "execute_result"
    }
   ],
   "source": [
    "jacobi_elliptic(3.5,0.5,'')"
   ]
  },
  {
   "cell_type": "code",
   "execution_count": null,
   "id": "417b370f",
   "metadata": {},
   "outputs": [],
   "source": []
  }
 ],
 "metadata": {
  "kernelspec": {
   "display_name": "Python 3 (ipykernel)",
   "language": "python",
   "name": "python3"
  },
  "language_info": {
   "codemirror_mode": {
    "name": "ipython",
    "version": 3
   },
   "file_extension": ".py",
   "mimetype": "text/x-python",
   "name": "python",
   "nbconvert_exporter": "python",
   "pygments_lexer": "ipython3",
   "version": "3.9.12"
  }
 },
 "nbformat": 4,
 "nbformat_minor": 5
}
