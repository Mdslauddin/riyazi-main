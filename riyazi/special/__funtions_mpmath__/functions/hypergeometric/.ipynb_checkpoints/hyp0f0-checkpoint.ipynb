{
 "cells": [
  {
   "cell_type": "code",
   "execution_count": 1,
   "id": "9b843185",
   "metadata": {},
   "outputs": [],
   "source": [
    "from math import e\n",
    "def hyp0f0(z):\n",
    "    return (pow(e,z))"
   ]
  },
  {
   "cell_type": "code",
   "execution_count": 2,
   "id": "4c842ef1",
   "metadata": {},
   "outputs": [],
   "source": [
    "from math import factorial\n",
    "def hyp0f0(z):\n",
    "    x=0\n",
    "    for k in range(1000):\n",
    "        x += (pow(z,k)/factorial(k))\n",
    "    return x "
   ]
  },
  {
   "cell_type": "code",
   "execution_count": null,
   "id": "d16e5daf",
   "metadata": {},
   "outputs": [],
   "source": []
  }
 ],
 "metadata": {
  "kernelspec": {
   "display_name": "Python 3 (ipykernel)",
   "language": "python",
   "name": "python3"
  },
  "language_info": {
   "codemirror_mode": {
    "name": "ipython",
    "version": 3
   },
   "file_extension": ".py",
   "mimetype": "text/x-python",
   "name": "python",
   "nbconvert_exporter": "python",
   "pygments_lexer": "ipython3",
   "version": "3.9.12"
  }
 },
 "nbformat": 4,
 "nbformat_minor": 5
}
