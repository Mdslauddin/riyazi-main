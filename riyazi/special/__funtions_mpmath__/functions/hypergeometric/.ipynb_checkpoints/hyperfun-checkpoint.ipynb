{
 "cells": [
  {
   "cell_type": "code",
   "execution_count": 1,
   "id": "a940811f",
   "metadata": {},
   "outputs": [],
   "source": [
    "from mpmath import hyper \n",
    "def hyp0f1(b,z,**kwargs):\n",
    "    return hyper([],[b],z,**kwargs)\n",
    "\n",
    "\n",
    "def hyp1f1(a,b,z,**kwargs):\n",
    "    return hyper([a],[b],z,**kwargs)\n",
    "\n",
    "\n",
    "def hyp1f2(a1,b1,b2,z,**kwargs):\n",
    "    return hyper([a1],[b1,b2],z,**kwargs)\n",
    "\n",
    "\n",
    "def hyp2f1(a,b,c,z,**kwargs):\n",
    "    return hyper([a,b],[c],z,**kwargs)\n",
    "\n",
    "\n",
    "def hyp2f2(a1,a2,b1,b2,z,**kwargs):\n",
    "    return hyper([a1,a2],[b1,b2],z,**kwargs)\n",
    "\n",
    "\n",
    "def hyp2f3(a1,a2,b1,b2,b3,z,**kwargs):\n",
    "    return hyper([a1,a2],[b1,b2,b3],z,**kwargs)\n",
    "\n",
    "\n",
    "def hyp2f0(a,b,z,**kwargs):\n",
    "    return hyper([a,b],[],z,**kwargs)\n",
    "\n",
    "\n",
    "def hyp3f2(a1,a2,a3,b1,b2,z,**kwargs):\n",
    "    return hyper([a1,a2,a3],[b1,b2],z,**kwargs)\n"
   ]
  },
  {
   "cell_type": "code",
   "execution_count": 2,
   "id": "3b9ed8ac",
   "metadata": {},
   "outputs": [
    {
     "data": {
      "text/plain": [
       "mpf('3.0838743188073523')"
      ]
     },
     "execution_count": 2,
     "metadata": {},
     "output_type": "execute_result"
    }
   ],
   "source": [
    "hyp0f1(4,5)"
   ]
  },
  {
   "cell_type": "code",
   "execution_count": 3,
   "id": "0e11de99",
   "metadata": {},
   "outputs": [],
   "source": [
    "import scipy.special as sp "
   ]
  },
  {
   "cell_type": "code",
   "execution_count": 4,
   "id": "e7bfcb85",
   "metadata": {},
   "outputs": [
    {
     "data": {
      "text/plain": [
       "3.0838743188073523"
      ]
     },
     "execution_count": 4,
     "metadata": {},
     "output_type": "execute_result"
    }
   ],
   "source": [
    "sp.hyp0f1(4,5)"
   ]
  },
  {
   "cell_type": "code",
   "execution_count": null,
   "id": "512650d4",
   "metadata": {},
   "outputs": [],
   "source": []
  }
 ],
 "metadata": {
  "kernelspec": {
   "display_name": "Python 3 (ipykernel)",
   "language": "python",
   "name": "python3"
  },
  "language_info": {
   "codemirror_mode": {
    "name": "ipython",
    "version": 3
   },
   "file_extension": ".py",
   "mimetype": "text/x-python",
   "name": "python",
   "nbconvert_exporter": "python",
   "pygments_lexer": "ipython3",
   "version": "3.9.12"
  }
 },
 "nbformat": 4,
 "nbformat_minor": 5
}
