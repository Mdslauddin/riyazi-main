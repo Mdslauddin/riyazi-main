{
 "cells": [
  {
   "cell_type": "raw",
   "id": "64ed2a0d",
   "metadata": {},
   "source": [
    "def hyper(a_s, b_s, z, **kwargs):\n",
    "    \"\"\"\n",
    "    Hypergeometric function, general case \n",
    "    \"\"\"\n",
    "    z=z\n",
    "    p=len(a_s)\n",
    "    q=len(b_s)\n",
    "    \n",
    "    a_s = [a for a in a_s]\n",
    "    b_s = [b for b in b_s]\n",
    "    # Reduce degree by eliminating common parameters\n",
    "    if kwargs.get('eliminate',True):\n",
    "        elim_nonpositive = kwargs.get('eliminate all', False)\n",
    "        i=0\n",
    "        while i<q and a_s:\n",
    "            b = b_s[i]\n",
    "            if b in a_s and (elim_nonpositive or not isnpint(b[0])):\n",
    "                a_s.remove(b)\n",
    "                b_s.remove(b)\n",
    "                p -=1\n",
    "                q -=1\n",
    "            else:\n",
    "                i +=1\n",
    "                \n",
    "\n",
    "# Handle special cases\n",
    "    if p == 0:\n",
    "        if   q == 1: return _hyp0f1(b_s, z, **kwargs)\n",
    "        elif q == 0: return exp(z)\n",
    "        \n",
    "        \n",
    "    elif p == 1:\n",
    "        if   q == 1: return _hyp1f1(a_s, b_s, z, **kwargs)\n",
    "        elif q == 2: return _hyp1f2(a_s, b_s, z, **kwargs)\n",
    "        elif q == 0: return _hyp1f0(a_s[0][0], z)\n",
    "        \n",
    "    elif p == 2:\n",
    "        if   q == 1: return _hyp2f1(a_s, b_s, z, **kwargs)\n",
    "        elif q == 2: return _hyp2f2(a_s, b_s, z, **kwargs)\n",
    "        elif q == 3: return _hyp2f3(a_s, b_s, z, **kwargs)\n",
    "        elif q == 0: return _hyp2f0(a_s, b_s, z, **kwargs)\n",
    "        \n",
    "    elif p == q+1:\n",
    "        return _hypq1fq(p, q, a_s, b_s, z, **kwargs)\n",
    "    \n",
    "    elif p > q+1 and not kwargs.get('force_series'):\n",
    "        return _hyp_borel(p, q, a_s, b_s, z, **kwargs)\n",
    "    \n",
    "    coeffs, types = zip(*(a_s+b_s))\n",
    "    return hypsum(p, q, types, coeffs, z, **kwargs)"
   ]
  },
  {
   "cell_type": "code",
   "execution_count": null,
   "id": "fd2ce1f7",
   "metadata": {},
   "outputs": [],
   "source": [
    "\n",
    "def hyp0f1(ctx,b,z,**kwargs):\n",
    "    return ctx.hyper([],[b],z,**kwargs)\n",
    "\n",
    "def hyp1f1(ctx,a,b,z,**kwargs):\n",
    "    return ctx.hyper([a],[b],z,**kwargs)\n",
    "\n",
    "def hyp1f2(ctx,a1,b1,b2,z,**kwargs):\n",
    "    return ctx.hyper([a1],[b1,b2],z,**kwargs)\n",
    "\n",
    "def hyp2f1(ctx,a,b,c,z,**kwargs):\n",
    "    return ctx.hyper([a,b],[c],z,**kwargs)\n",
    "\n",
    "def hyp2f2(ctx,a1,a2,b1,b2,z,**kwargs):\n",
    "    return ctx.hyper([a1,a2],[b1,b2],z,**kwargs)\n",
    "\n",
    "def hyp2f3(ctx,a1,a2,b1,b2,b3,z,**kwargs):\n",
    "    return ctx.hyper([a1,a2],[b1,b2,b3],z,**kwargs)\n",
    "\n",
    "def hyp2f0(ctx,a,b,z,**kwargs):\n",
    "    return ctx.hyper([a,b],[],z,**kwargs)\n",
    "\n",
    "def hyp3f2(ctx,a1,a2,a3,b1,b2,z,**kwargs):\n",
    "    return ctx.hyper([a1,a2,a3],[b1,b2],z,**kwargs)\n"
   ]
  },
  {
   "cell_type": "markdown",
   "id": "b66643f4",
   "metadata": {},
   "source": [
    "https://en.wikipedia.org/wiki/Hypergeometric_function"
   ]
  },
  {
   "cell_type": "code",
   "execution_count": null,
   "id": "642b9bf0",
   "metadata": {},
   "outputs": [],
   "source": [
    "def hyper(ctx, a_s, b_s, z, **kwargs):\n",
    "    \"\"\"\n",
    "    Hypergeometric function, general case.\n",
    "    \"\"\"\n",
    "    z = ctx.convert(z)\n",
    "    p = len(a_s)\n",
    "    q = len(b_s)\n",
    "    \n",
    "    \n",
    "    \n",
    "    a_s = [ctx._convert_param(a) for a in a_s]\n",
    "    b_s = [ctx._convert_param(b) for b in b_s]\n",
    "    # Reduce degree by eliminating common parameters\n",
    "    if kwargs.get('eliminate', True):\n",
    "        elim_nonpositive = kwargs.get('eliminate_all', False)\n",
    "        i = 0\n",
    "        while i < q and a_s:\n",
    "            b = b_s[i]\n",
    "            if b in a_s and (elim_nonpositive or not ctx.isnpint(b[0])):\n",
    "                a_s.remove(b)\n",
    "                b_s.remove(b)\n",
    "                p -= 1\n",
    "                q -= 1\n",
    "            else:\n",
    "                i += 1\n",
    "   "
   ]
  },
  {
   "cell_type": "code",
   "execution_count": 11,
   "id": "ec5da3f9",
   "metadata": {},
   "outputs": [],
   "source": [
    "def hyper(a_s, b_s, z, **kwargs):\n",
    "    \"\"\"\n",
    "    Hypergeometric function, general case \n",
    "    \"\"\"\n",
    "    z=z\n",
    "    p=len(a_s)\n",
    "    q=len(b_s)\n",
    "    \n",
    "    a_s = [a for a in a_s]\n",
    "    b_s = [b for b in b_s]\n",
    "    # Reduce degree by eliminating common parameters\n",
    "    if kwargs.get('eliminate',True):\n",
    "        elim_nonpositive = kwargs.get('eliminate all', False)\n",
    "        i=0\n",
    "        while i<q and a_s:\n",
    "            b = b_s[i]\n",
    "            if b in a_s and (elim_nonpositive or not isnpint(b[0])):\n",
    "                a_s.remove(b)\n",
    "                b_s.remove(b)\n",
    "                p -=1\n",
    "                q -=1\n",
    "            else:\n",
    "                i +=1\n",
    "                \n",
    "\n"
   ]
  },
  {
   "cell_type": "code",
   "execution_count": 13,
   "id": "8aa1e92e",
   "metadata": {},
   "outputs": [
    {
     "data": {
      "text/plain": [
       "([1, 2], [3, 4])"
      ]
     },
     "execution_count": 13,
     "metadata": {},
     "output_type": "execute_result"
    }
   ],
   "source": [
    "hyper([1,2],[3,4],3)"
   ]
  },
  {
   "cell_type": "code",
   "execution_count": null,
   "id": "06c870ba",
   "metadata": {},
   "outputs": [],
   "source": []
  },
  {
   "cell_type": "code",
   "execution_count": null,
   "id": "e9f8c563",
   "metadata": {},
   "outputs": [],
   "source": [
    "# Need's of _hyp0f1(), exp \n",
    "from cmath import exp \n"
   ]
  },
  {
   "cell_type": "raw",
   "id": "32a36ee2",
   "metadata": {},
   "source": [
    "import mpmath as mp"
   ]
  },
  {
   "cell_type": "code",
   "execution_count": 10,
   "id": "25162092",
   "metadata": {},
   "outputs": [],
   "source": [
    "import mpmath as mp "
   ]
  },
  {
   "cell_type": "code",
   "execution_count": null,
   "id": "e00d7320",
   "metadata": {},
   "outputs": [],
   "source": []
  },
  {
   "cell_type": "code",
   "execution_count": null,
   "id": "bc2b53e5",
   "metadata": {},
   "outputs": [],
   "source": []
  },
  {
   "cell_type": "code",
   "execution_count": null,
   "id": "5cf535e0",
   "metadata": {},
   "outputs": [],
   "source": []
  },
  {
   "cell_type": "code",
   "execution_count": null,
   "id": "0dfb7857",
   "metadata": {},
   "outputs": [],
   "source": [
    "def _hyp0f1(b_s, z, **kwargs):\n",
    "    (b, btype), = b_s\n",
    "    if z:\n",
    "        magz = ctx.mag(z)\n",
    "    else:\n",
    "        magz = 0\n",
    "    if magz >= 8 and not kwargs.get('force_series'):\n",
    "        try:\n",
    "            # http://functions.wolfram.com/HypergeometricFunctions/\n",
    "            # Hypergeometric0F1/06/02/03/0004/\n",
    "            # TODO: handle the all-real case more efficiently!\n",
    "            # TODO: figure out how much precision is needed (exponential growth)\n",
    "            orig = ctx.prec\n",
    "            try:\n",
    "                ctx.prec += 12 + magz//2\n",
    "                def h():\n",
    "                    w = ctx.sqrt(-z)\n",
    "                    jw = ctx.j*w\n",
    "                    u = 1/(4*jw)\n",
    "                    c = ctx.mpq_1_2 - b\n",
    "                    E = ctx.exp(2*jw)\n",
    "                    T1 = ([-jw,E], [c,-1], [], [], [b-ctx.mpq_1_2, ctx.mpq_3_2-b], [], -u)\n",
    "                    T2 = ([jw,E], [c,1], [], [], [b-ctx.mpq_1_2, ctx.mpq_3_2-b], [], u)\n",
    "                    return T1, T2\n",
    "                v = ctx.hypercomb(h, [], force_series=True)\n",
    "                v = ctx.gamma(b)/(2*ctx.sqrt(ctx.pi))*v\n",
    "            finally:\n",
    "                ctx.prec = orig\n",
    "            if ctx._is_real_type(b) and ctx._is_real_type(z):\n",
    "                v = ctx._re(v)\n",
    "            return +v\n",
    "        except ctx.NoConvergence:\n",
    "            pass\n",
    "    return ctx.hypsum(0, 1, (btype,), [b], z, **kwargs)\n"
   ]
  },
  {
   "cell_type": "code",
   "execution_count": null,
   "id": "4415c25c",
   "metadata": {},
   "outputs": [],
   "source": []
  },
  {
   "cell_type": "code",
   "execution_count": null,
   "id": "f60459a0",
   "metadata": {},
   "outputs": [],
   "source": []
  },
  {
   "cell_type": "code",
   "execution_count": null,
   "id": "cd24347c",
   "metadata": {},
   "outputs": [],
   "source": []
  },
  {
   "cell_type": "code",
   "execution_count": null,
   "id": "cb1e9a2f",
   "metadata": {},
   "outputs": [],
   "source": []
  },
  {
   "cell_type": "code",
   "execution_count": null,
   "id": "add3bbfa",
   "metadata": {},
   "outputs": [],
   "source": []
  },
  {
   "cell_type": "code",
   "execution_count": null,
   "id": "98bbb81c",
   "metadata": {},
   "outputs": [],
   "source": []
  },
  {
   "cell_type": "code",
   "execution_count": null,
   "id": "f9b0a525",
   "metadata": {},
   "outputs": [],
   "source": []
  },
  {
   "cell_type": "code",
   "execution_count": null,
   "id": "3fc79257",
   "metadata": {},
   "outputs": [],
   "source": []
  },
  {
   "cell_type": "code",
   "execution_count": null,
   "id": "8fbd49fb",
   "metadata": {},
   "outputs": [],
   "source": []
  },
  {
   "cell_type": "code",
   "execution_count": null,
   "id": "9d704376",
   "metadata": {},
   "outputs": [],
   "source": [
    "def _hyp0f1(ctx, b_s, z, **kwargs):\n",
    "    (b, btype), = b_s\n",
    "    if z:\n",
    "        magz = ctx.mag(z)\n",
    "    else:\n",
    "        magz = 0\n",
    "    if magz >= 8 and not kwargs.get('force_series'):\n",
    "        try:\n",
    "            # http://functions.wolfram.com/HypergeometricFunctions/\n",
    "            # Hypergeometric0F1/06/02/03/0004/\n",
    "            # TODO: handle the all-real case more efficiently!\n",
    "            # TODO: figure out how much precision is needed (exponential growth)\n",
    "            orig = ctx.prec\n",
    "            try:\n",
    "                ctx.prec += 12 + magz//2\n",
    "                def h():\n",
    "                    w = ctx.sqrt(-z)\n",
    "                    jw = ctx.j*w\n",
    "                    u = 1/(4*jw)\n",
    "                    c = ctx.mpq_1_2 - b\n",
    "                    E = ctx.exp(2*jw)\n",
    "                    T1 = ([-jw,E], [c,-1], [], [], [b-ctx.mpq_1_2, ctx.mpq_3_2-b], [], -u)\n",
    "                    T2 = ([jw,E], [c,1], [], [], [b-ctx.mpq_1_2, ctx.mpq_3_2-b], [], u)\n",
    "                    return T1, T2\n",
    "                v = ctx.hypercomb(h, [], force_series=True)\n",
    "                v = ctx.gamma(b)/(2*ctx.sqrt(ctx.pi))*v\n",
    "            finally:\n",
    "                ctx.prec = orig\n",
    "            if ctx._is_real_type(b) and ctx._is_real_type(z):\n",
    "                v = ctx._re(v)\n",
    "            return +v\n",
    "        except ctx.NoConvergence:\n",
    "            pass\n",
    "    return ctx.hypsum(0, 1, (btype,), [b], z, **kwargs)\n",
    "\n",
    "@defun\n",
    "def _hyp1f1(ctx, a_s, b_s, z, **kwargs):\n",
    "    (a, atype), = a_s\n",
    "    (b, btype), = b_s\n",
    "    if not z:\n",
    "        return ctx.one+z\n",
    "    magz = ctx.mag(z)\n",
    "    if magz >= 7 and not (ctx.isint(a) and ctx.re(a) <= 0):\n",
    "        if ctx.isinf(z):\n",
    "            if ctx.sign(a) == ctx.sign(b) == ctx.sign(z) == 1:\n",
    "                return ctx.inf\n",
    "            return ctx.nan * z\n",
    "        try:\n",
    "            try:\n",
    "                ctx.prec += magz\n",
    "                sector = ctx._im(z) < 0\n",
    "                def h(a,b):\n",
    "                    if sector:\n",
    "                        E = ctx.expjpi(ctx.fneg(a, exact=True))\n",
    "                    else:\n",
    "                        E = ctx.expjpi(a)\n",
    "                    rz = 1/z\n",
    "                    T1 = ([E,z], [1,-a], [b], [b-a], [a, 1+a-b], [], -rz)\n",
    "                    T2 = ([ctx.exp(z),z], [1,a-b], [b], [a], [b-a, 1-a], [], rz)\n",
    "                    return T1, T2\n",
    "                v = ctx.hypercomb(h, [a,b], force_series=True)\n",
    "                if ctx._is_real_type(a) and ctx._is_real_type(b) and ctx._is_real_type(z):\n",
    "                    v = ctx._re(v)\n",
    "                return +v\n",
    "            except ctx.NoConvergence:\n",
    "                pass\n",
    "        finally:\n",
    "            ctx.prec -= magz\n",
    "    v = ctx.hypsum(1, 1, (atype, btype), [a, b], z, **kwargs)\n",
    "    return v\n",
    "\n",
    "def _hyp2f1_gosper(ctx,a,b,c,z,**kwargs):\n",
    "    # Use Gosper's recurrence\n",
    "    # See http://www.math.utexas.edu/pipermail/maxima/2006/000126.html\n",
    "    _a,_b,_c,_z = a, b, c, z\n",
    "    orig = ctx.prec\n",
    "    maxprec = kwargs.get('maxprec', 100*orig)\n",
    "    extra = 10\n",
    "    while 1:\n",
    "        ctx.prec = orig + extra\n",
    "        #a = ctx.convert(_a)\n",
    "        #b = ctx.convert(_b)\n",
    "        #c = ctx.convert(_c)\n",
    "        z = ctx.convert(_z)\n",
    "        d = ctx.mpf(0)\n",
    "        e = ctx.mpf(1)\n",
    "        f = ctx.mpf(0)\n",
    "        k = 0\n",
    "        # Common subexpression elimination, unfortunately making\n",
    "        # things a bit unreadable. The formula is quite messy to begin\n",
    "        # with, though...\n",
    "        abz = a*b*z\n",
    "        ch = c * ctx.mpq_1_2\n",
    "        c1h = (c+1) * ctx.mpq_1_2\n",
    "        nz = 1-z\n",
    "        g = z/nz\n",
    "        abg = a*b*g\n",
    "        cba = c-b-a\n",
    "        z2 = z-2\n",
    "        tol = -ctx.prec - 10\n",
    "        nstr = ctx.nstr\n",
    "        nprint = ctx.nprint\n",
    "        mag = ctx.mag\n",
    "        maxmag = ctx.ninf\n",
    "        while 1:\n",
    "            kch = k+ch\n",
    "            kakbz = (k+a)*(k+b)*z / (4*(k+1)*kch*(k+c1h))\n",
    "            d1 = kakbz*(e-(k+cba)*d*g)\n",
    "            e1 = kakbz*(d*abg+(k+c)*e)\n",
    "            ft = d*(k*(cba*z+k*z2-c)-abz)/(2*kch*nz)\n",
    "            f1 = f + e - ft\n",
    "            maxmag = max(maxmag, mag(f1))\n",
    "            if mag(f1-f) < tol:\n",
    "                break\n",
    "            d, e, f = d1, e1, f1\n",
    "            k += 1\n",
    "        cancellation = maxmag - mag(f1)\n",
    "        if cancellation < extra:\n",
    "            break\n",
    "        else:\n",
    "            extra += cancellation\n",
    "            if extra > maxprec:\n",
    "                raise ctx.NoConvergence\n",
    "    return f1\n",
    "\n",
    "@defun\n",
    "def _hyp2f1(ctx, a_s, b_s, z, **kwargs):\n",
    "    (a, atype), (b, btype) = a_s\n",
    "    (c, ctype), = b_s\n",
    "    if z == 1:\n",
    "        # TODO: the following logic can be simplified\n",
    "        convergent = ctx.re(c-a-b) > 0\n",
    "        finite = (ctx.isint(a) and a <= 0) or (ctx.isint(b) and b <= 0)\n",
    "        zerodiv = ctx.isint(c) and c <= 0 and not \\\n",
    "            ((ctx.isint(a) and c <= a <= 0) or (ctx.isint(b) and c <= b <= 0))\n",
    "        #print \"bz\", a, b, c, z, convergent, finite, zerodiv\n",
    "        # Gauss's theorem gives the value if convergent\n",
    "        if (convergent or finite) and not zerodiv:\n",
    "            return ctx.gammaprod([c, c-a-b], [c-a, c-b], _infsign=True)\n",
    "        # Otherwise, there is a pole and we take the\n",
    "        # sign to be that when approaching from below\n",
    "        # XXX: this evaluation is not necessarily correct in all cases\n",
    "        return ctx.hyp2f1(a,b,c,1-ctx.eps*2) * ctx.inf\n",
    "\n",
    "    # Equal to 1 (first term), unless there is a subsequent\n",
    "    # division by zero\n",
    "    if not z:\n",
    "        # Division by zero but power of z is higher than\n",
    "        # first order so cancels\n",
    "        if c or a == 0 or b == 0:\n",
    "            return 1+z\n",
    "        # Indeterminate\n",
    "        return ctx.nan\n",
    "\n",
    "    # Hit zero denominator unless numerator goes to 0 first\n",
    "    if ctx.isint(c) and c <= 0:\n",
    "        if (ctx.isint(a) and c <= a <= 0) or \\\n",
    "           (ctx.isint(b) and c <= b <= 0):\n",
    "            pass\n",
    "        else:\n",
    "            # Pole in series\n",
    "            return ctx.inf\n",
    "\n",
    "    absz = abs(z)\n",
    "\n",
    "    # Fast case: standard series converges rapidly,\n",
    "    # possibly in finitely many terms\n",
    "    if absz <= 0.8 or (ctx.isint(a) and a <= 0 and a >= -1000) or \\\n",
    "                      (ctx.isint(b) and b <= 0 and b >= -1000):\n",
    "        return ctx.hypsum(2, 1, (atype, btype, ctype), [a, b, c], z, **kwargs)\n",
    "\n",
    "    orig = ctx.prec\n",
    "    try:\n",
    "        ctx.prec += 10\n",
    "\n",
    "        # Use 1/z transformation\n",
    "        if absz >= 1.3:\n",
    "            def h(a,b):\n",
    "                t = ctx.mpq_1-c; ab = a-b; rz = 1/z\n",
    "                T1 = ([-z],[-a], [c,-ab],[b,c-a], [a,t+a],[ctx.mpq_1+ab],  rz)\n",
    "                T2 = ([-z],[-b], [c,ab],[a,c-b], [b,t+b],[ctx.mpq_1-ab],  rz)\n",
    "                return T1, T2\n",
    "            v = ctx.hypercomb(h, [a,b], **kwargs)\n",
    "\n",
    "        # Use 1-z transformation\n",
    "        elif abs(1-z) <= 0.75:\n",
    "            def h(a,b):\n",
    "                t = c-a-b; ca = c-a; cb = c-b; rz = 1-z\n",
    "                T1 = [], [], [c,t], [ca,cb], [a,b], [1-t], rz\n",
    "                T2 = [rz], [t], [c,a+b-c], [a,b], [ca,cb], [1+t], rz\n",
    "                return T1, T2\n",
    "            v = ctx.hypercomb(h, [a,b], **kwargs)\n",
    "\n",
    "        # Use z/(z-1) transformation\n",
    "        elif abs(z/(z-1)) <= 0.75:\n",
    "            v = ctx.hyp2f1(a, c-b, c, z/(z-1)) / (1-z)**a\n",
    "\n",
    "        # Remaining part of unit circle\n",
    "        else:\n",
    "            v = _hyp2f1_gosper(ctx,a,b,c,z,**kwargs)\n",
    "\n",
    "    finally:\n",
    "        ctx.prec = orig\n",
    "    return +v\n",
    "\n",
    "@defun\n",
    "def _hypq1fq(ctx, p, q, a_s, b_s, z, **kwargs):\n",
    "    r\"\"\"\n",
    "    Evaluates 3F2, 4F3, 5F4, ...\n",
    "    \"\"\"\n",
    "    a_s, a_types = zip(*a_s)\n",
    "    b_s, b_types = zip(*b_s)\n",
    "    a_s = list(a_s)\n",
    "    b_s = list(b_s)\n",
    "    absz = abs(z)\n",
    "    ispoly = False\n",
    "    for a in a_s:\n",
    "        if ctx.isint(a) and a <= 0:\n",
    "            ispoly = True\n",
    "            break\n",
    "    # Direct summation\n",
    "    if absz < 1 or ispoly:\n",
    "        try:\n",
    "            return ctx.hypsum(p, q, a_types+b_types, a_s+b_s, z, **kwargs)\n",
    "        except ctx.NoConvergence:\n",
    "            if absz > 1.1 or ispoly:\n",
    "                raise\n",
    "    # Use expansion at |z-1| -> 0.\n",
    "    # Reference: Wolfgang Buhring, \"Generalized Hypergeometric Functions at\n",
    "    #   Unit Argument\", Proc. Amer. Math. Soc., Vol. 114, No. 1 (Jan. 1992),\n",
    "    #   pp.145-153\n",
    "    # The current implementation has several problems:\n",
    "    # 1. We only implement it for 3F2. The expansion coefficients are\n",
    "    #    given by extremely messy nested sums in the higher degree cases\n",
    "    #    (see reference). Is efficient sequential generation of the coefficients\n",
    "    #    possible in the > 3F2 case?\n",
    "    # 2. Although the series converges, it may do so slowly, so we need\n",
    "    #    convergence acceleration. The acceleration implemented by\n",
    "    #    nsum does not always help, so results returned are sometimes\n",
    "    #    inaccurate! Can we do better?\n",
    "    # 3. We should check conditions for convergence, and possibly\n",
    "    #    do a better job of cancelling out gamma poles if possible.\n",
    "    if z == 1:\n",
    "        # XXX: should also check for division by zero in the\n",
    "        # denominator of the series (cf. hyp2f1)\n",
    "        S = ctx.re(sum(b_s)-sum(a_s))\n",
    "        if S <= 0:\n",
    "            #return ctx.hyper(a_s, b_s, 1-ctx.eps*2, **kwargs) * ctx.inf\n",
    "            return ctx.hyper(a_s, b_s, 0.9, **kwargs) * ctx.inf\n",
    "    if (p,q) == (3,2) and abs(z-1) < 0.05:   # and kwargs.get('sum1')\n",
    "        #print \"Using alternate summation (experimental)\"\n",
    "        a1,a2,a3 = a_s\n",
    "        b1,b2 = b_s\n",
    "        u = b1+b2-a3\n",
    "        initial = ctx.gammaprod([b2-a3,b1-a3,a1,a2],[b2-a3,b1-a3,1,u])\n",
    "        def term(k, _cache={0:initial}):\n",
    "            u = b1+b2-a3+k\n",
    "            if k in _cache:\n",
    "                t = _cache[k]\n",
    "            else:\n",
    "                t = _cache[k-1]\n",
    "                t *= (b1+k-a3-1)*(b2+k-a3-1)\n",
    "                t /= k*(u-1)\n",
    "                _cache[k] = t\n",
    "            return t * ctx.hyp2f1(a1,a2,u,z)\n",
    "        try:\n",
    "            S = ctx.nsum(term, [0,ctx.inf], verbose=kwargs.get('verbose'),\n",
    "                strict=kwargs.get('strict', True))\n",
    "            return S * ctx.gammaprod([b1,b2],[a1,a2,a3])\n",
    "        except ctx.NoConvergence:\n",
    "            pass\n",
    "    # Try to use convergence acceleration on and close to the unit circle.\n",
    "    # Problem: the convergence acceleration degenerates as |z-1| -> 0,\n",
    "    # except for special cases. Everywhere else, the Shanks transformation\n",
    "    # is very efficient.\n",
    "    if absz < 1.1 and ctx._re(z) <= 1:\n",
    "\n",
    "        def term(kk, _cache={0:ctx.one}):\n",
    "            k = int(kk)\n",
    "            if k != kk:\n",
    "                t = z ** ctx.mpf(kk) / ctx.fac(kk)\n",
    "                for a in a_s: t *= ctx.rf(a,kk)\n",
    "                for b in b_s: t /= ctx.rf(b,kk)\n",
    "                return t\n",
    "            if k in _cache:\n",
    "                return _cache[k]\n",
    "            t = term(k-1)\n",
    "            m = k-1\n",
    "            for j in xrange(p): t *= (a_s[j]+m)\n",
    "            for j in xrange(q): t /= (b_s[j]+m)\n",
    "            t *= z\n",
    "            t /= k\n",
    "            _cache[k] = t\n",
    "            return t"
   ]
  },
  {
   "cell_type": "code",
   "execution_count": null,
   "id": "8ada87dc",
   "metadata": {},
   "outputs": [],
   "source": [
    "import mpmath as mp"
   ]
  },
  {
   "cell_type": "code",
   "execution_count": null,
   "id": "e00d3905",
   "metadata": {},
   "outputs": [],
   "source": [
    "import scipy.special as sp "
   ]
  },
  {
   "cell_type": "code",
   "execution_count": null,
   "id": "ef6b0e77",
   "metadata": {},
   "outputs": [],
   "source": [
    "from math import e\n",
    "def hyp0f0(z):\n",
    "    return (pow(e,z))"
   ]
  },
  {
   "cell_type": "code",
   "execution_count": null,
   "id": "6057e32b",
   "metadata": {},
   "outputs": [],
   "source": [
    "hyp0f0(100)"
   ]
  },
  {
   "cell_type": "code",
   "execution_count": null,
   "id": "3ce46581",
   "metadata": {},
   "outputs": [],
   "source": [
    "hyp0f0(1000)"
   ]
  },
  {
   "cell_type": "code",
   "execution_count": null,
   "id": "0bfc4a13",
   "metadata": {},
   "outputs": [],
   "source": [
    "from math import factorial\n",
    "def hyp0f0(z):\n",
    "    x=0\n",
    "    for k in range(1000):\n",
    "        x += (pow(z,k)/factorial(k))\n",
    "    return x "
   ]
  },
  {
   "cell_type": "code",
   "execution_count": null,
   "id": "3c694a3b",
   "metadata": {
    "scrolled": true
   },
   "outputs": [],
   "source": [
    "hyp(1000)"
   ]
  },
  {
   "cell_type": "code",
   "execution_count": 1,
   "id": "3b27af36",
   "metadata": {},
   "outputs": [],
   "source": [
    "import math"
   ]
  },
  {
   "cell_type": "code",
   "execution_count": 8,
   "id": "5c0b651e",
   "metadata": {
    "scrolled": true
   },
   "outputs": [
    {
     "name": "stdout",
     "output_type": "stream",
     "text": [
      "CPU times: total: 0 ns\n",
      "Wall time: 0 ns\n"
     ]
    },
    {
     "data": {
      "text/plain": [
       "9.332621544394415e+157"
      ]
     },
     "execution_count": 8,
     "metadata": {},
     "output_type": "execute_result"
    }
   ],
   "source": [
    "%%time\n",
    "import numpy as np\n",
    "import scipy.special as sp\n",
    "sp.gamma(100+1)"
   ]
  },
  {
   "cell_type": "code",
   "execution_count": 9,
   "id": "3a4c1b6c",
   "metadata": {},
   "outputs": [
    {
     "name": "stdout",
     "output_type": "stream",
     "text": [
      "CPU times: total: 0 ns\n",
      "Wall time: 0 ns\n"
     ]
    },
    {
     "data": {
      "text/plain": [
       "93326215443944152681699238856266700490715968264381621468592963895217599993229915608941463976156518286253697920827223758251185210916864000000000000000000000000"
      ]
     },
     "execution_count": 9,
     "metadata": {},
     "output_type": "execute_result"
    }
   ],
   "source": [
    "%%time\n",
    "math.factorial(100)"
   ]
  },
  {
   "cell_type": "markdown",
   "id": "8c9d59db",
   "metadata": {},
   "source": [
    "http://omz-software.com/pythonista/sympy/modules/mpmath/functions/hypergeometric.html"
   ]
  },
  {
   "cell_type": "markdown",
   "id": "56271b99",
   "metadata": {},
   "source": [
    "https://mathoverflow.net/questions/83555/infinite-series-with-hypergeometric-functions"
   ]
  },
  {
   "cell_type": "code",
   "execution_count": 2,
   "id": "88eeaefa",
   "metadata": {},
   "outputs": [
    {
     "data": {
      "text/plain": [
       "1.078903941164934876086237"
      ]
     },
     "execution_count": 2,
     "metadata": {},
     "output_type": "execute_result"
    }
   ],
   "source": [
    "from mpmath import *\n",
    "mp.dps = 25; mp.pretty = True\n",
    "a,b,c,d = 2,3,4,5\n",
    "x = 0.25\n",
    "hyper([a,b],[c,d],x)\n",
    "\n",
    "\n"
   ]
  },
  {
   "cell_type": "code",
   "execution_count": 3,
   "id": "9b81f123",
   "metadata": {},
   "outputs": [
    {
     "data": {
      "text/plain": [
       "1.078903941164934876086237"
      ]
     },
     "execution_count": 3,
     "metadata": {},
     "output_type": "execute_result"
    }
   ],
   "source": []
  },
  {
   "cell_type": "code",
   "execution_count": null,
   "id": "c2e6beb0",
   "metadata": {},
   "outputs": [],
   "source": []
  },
  {
   "cell_type": "code",
   "execution_count": null,
   "id": "a43f3670",
   "metadata": {},
   "outputs": [],
   "source": [
    "def hyper()"
   ]
  },
  {
   "cell_type": "code",
   "execution_count": null,
   "id": "027edd80",
   "metadata": {},
   "outputs": [],
   "source": [
    "fac()"
   ]
  },
  {
   "cell_type": "code",
   "execution_count": 4,
   "id": "e0eea4aa",
   "metadata": {},
   "outputs": [
    {
     "data": {
      "text/plain": [
       "120.0"
      ]
     },
     "execution_count": 4,
     "metadata": {},
     "output_type": "execute_result"
    }
   ],
   "source": [
    "rf(2,4)"
   ]
  },
  {
   "cell_type": "code",
   "execution_count": 5,
   "id": "9354d150",
   "metadata": {},
   "outputs": [],
   "source": [
    "import scipy.special as sp"
   ]
  },
  {
   "cell_type": "code",
   "execution_count": 6,
   "id": "c9d04ca9",
   "metadata": {},
   "outputs": [
    {
     "data": {
      "text/plain": [
       "16"
      ]
     },
     "execution_count": 6,
     "metadata": {},
     "output_type": "execute_result"
    }
   ],
   "source": [
    "2**4"
   ]
  },
  {
   "cell_type": "code",
   "execution_count": 7,
   "id": "91d67159",
   "metadata": {},
   "outputs": [
    {
     "data": {
      "text/plain": [
       "120.0"
      ]
     },
     "execution_count": 7,
     "metadata": {},
     "output_type": "execute_result"
    }
   ],
   "source": [
    "sp.poch(2,4)"
   ]
  },
  {
   "cell_type": "code",
   "execution_count": 8,
   "id": "c066b7a8",
   "metadata": {},
   "outputs": [],
   "source": [
    "from math import gamma\n",
    "def rf(x,n):\n",
    "    return (gamma(x+n)/gamma(x))"
   ]
  },
  {
   "cell_type": "code",
   "execution_count": 9,
   "id": "261e2264",
   "metadata": {},
   "outputs": [
    {
     "data": {
      "text/plain": [
       "120.0"
      ]
     },
     "execution_count": 9,
     "metadata": {},
     "output_type": "execute_result"
    }
   ],
   "source": [
    "rf(2,4)"
   ]
  },
  {
   "cell_type": "code",
   "execution_count": null,
   "id": "0f2bbfdb",
   "metadata": {},
   "outputs": [],
   "source": []
  }
 ],
 "metadata": {
  "kernelspec": {
   "display_name": "Python 3 (ipykernel)",
   "language": "python",
   "name": "python3"
  },
  "language_info": {
   "codemirror_mode": {
    "name": "ipython",
    "version": 3
   },
   "file_extension": ".py",
   "mimetype": "text/x-python",
   "name": "python",
   "nbconvert_exporter": "python",
   "pygments_lexer": "ipython3",
   "version": "3.9.12"
  }
 },
 "nbformat": 4,
 "nbformat_minor": 5
}
