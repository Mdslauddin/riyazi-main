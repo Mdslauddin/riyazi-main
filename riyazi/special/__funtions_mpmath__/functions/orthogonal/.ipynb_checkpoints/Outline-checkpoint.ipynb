{
 "cells": [
  {
   "cell_type": "markdown",
   "id": "beda4f86",
   "metadata": {},
   "source": [
    "# Orthogonal polynomials\n",
    "\n",
    "**Legendre functions**\n",
    "\n",
    "- legendre\n",
    "- legenp\n",
    "- legenq\n",
    "\n",
    "**Chebyshev polynomials**\n",
    "\n",
    "- chebyt\n",
    "- chebyu\n",
    "\n",
    "**Jacobi polynomials**\n",
    "\n",
    "- jacobi\n",
    "\n",
    "**Gegenbauer polynomials**\n",
    "\n",
    "- gegenbauer\n",
    "\n",
    "**Hermite polynomials**\n",
    "\n",
    "- hermtie\n",
    "\n",
    "**Laguerre polynomials**\n",
    "\n",
    "- laguerre\n",
    "\n",
    "**Spherical harmonics**\n",
    "\n",
    "- spherharm\n"
   ]
  },
  {
   "cell_type": "markdown",
   "id": "89ccde49",
   "metadata": {},
   "source": [
    "`Legendre functions`\n",
    "\n",
    "`Chebyshev polynomials`\n",
    "\n",
    "`Jacobi polynomials`\n",
    "\n",
    "`Gegenbauer polynomials`\n",
    "\n",
    "`Hermite polynomials`\n",
    "\n",
    "`Laguerre polynomials`\n",
    "\n",
    "`Spherical harmonics`"
   ]
  },
  {
   "cell_type": "code",
   "execution_count": null,
   "id": "82f85a62",
   "metadata": {},
   "outputs": [],
   "source": []
  },
  {
   "cell_type": "markdown",
   "id": "0254f591",
   "metadata": {},
   "source": [
    "# Legendre functions"
   ]
  },
  {
   "cell_type": "code",
   "execution_count": 1,
   "id": "fdb45557",
   "metadata": {},
   "outputs": [],
   "source": [
    "import mpmath \n",
    "def legendre(n,x):\n",
    "    return mpmath.hyp2f1(-n, n+1, 1, (1-x)/2)"
   ]
  },
  {
   "cell_type": "code",
   "execution_count": 2,
   "id": "c90ec1be",
   "metadata": {},
   "outputs": [
    {
     "data": {
      "text/plain": [
       "mpf('13.0')"
      ]
     },
     "execution_count": 2,
     "metadata": {},
     "output_type": "execute_result"
    }
   ],
   "source": [
    "mpmath.legendre(2,3)"
   ]
  },
  {
   "cell_type": "code",
   "execution_count": 3,
   "id": "41b689f3",
   "metadata": {},
   "outputs": [
    {
     "data": {
      "text/plain": [
       "mpf('13.0')"
      ]
     },
     "execution_count": 3,
     "metadata": {},
     "output_type": "execute_result"
    }
   ],
   "source": [
    "legendre(2,3)"
   ]
  },
  {
   "cell_type": "code",
   "execution_count": 4,
   "id": "7082bc55",
   "metadata": {},
   "outputs": [
    {
     "data": {
      "text/plain": [
       "mpf('2.3316453564876367e+265')"
      ]
     },
     "execution_count": 4,
     "metadata": {},
     "output_type": "execute_result"
    }
   ],
   "source": [
    "mpmath.legendre(150,30)"
   ]
  },
  {
   "cell_type": "code",
   "execution_count": 5,
   "id": "8c20f461",
   "metadata": {},
   "outputs": [
    {
     "data": {
      "text/plain": [
       "mpf('2.3316453564876367e+265')"
      ]
     },
     "execution_count": 5,
     "metadata": {},
     "output_type": "execute_result"
    }
   ],
   "source": [
    "legendre(150,30)"
   ]
  },
  {
   "cell_type": "markdown",
   "id": "80541247",
   "metadata": {},
   "source": [
    "# legenp"
   ]
  },
  {
   "cell_type": "code",
   "execution_count": 6,
   "id": "ee73b6a6",
   "metadata": {},
   "outputs": [],
   "source": [
    "from math import gamma\n",
    "def legenp(n,m,z):\n",
    "    return (1/(gamma(1-m))) * (pow(1+z,m/2)/ (pow(1-z,m/2))) * mpmath.hyp2f1(-n,n+1,1-m,(1-z)/2)"
   ]
  },
  {
   "cell_type": "code",
   "execution_count": 10,
   "id": "734b4b4a",
   "metadata": {},
   "outputs": [
    {
     "data": {
      "text/plain": [
       "mpc(real='-1.4682705484521255e-16', imag='-452007722.68810576')"
      ]
     },
     "execution_count": 10,
     "metadata": {},
     "output_type": "execute_result"
    }
   ],
   "source": [
    "mpmath.legenp(6,5,6)"
   ]
  },
  {
   "cell_type": "code",
   "execution_count": 11,
   "id": "48f16008",
   "metadata": {},
   "outputs": [
    {
     "ename": "ValueError",
     "evalue": "math domain error",
     "output_type": "error",
     "traceback": [
      "\u001b[1;31m---------------------------------------------------------------------------\u001b[0m",
      "\u001b[1;31mValueError\u001b[0m                                Traceback (most recent call last)",
      "Input \u001b[1;32mIn [11]\u001b[0m, in \u001b[0;36m<cell line: 1>\u001b[1;34m()\u001b[0m\n\u001b[1;32m----> 1\u001b[0m \u001b[43mlegenp\u001b[49m\u001b[43m(\u001b[49m\u001b[38;5;241;43m6\u001b[39;49m\u001b[43m,\u001b[49m\u001b[38;5;241;43m5\u001b[39;49m\u001b[43m,\u001b[49m\u001b[38;5;241;43m6\u001b[39;49m\u001b[43m)\u001b[49m\n",
      "Input \u001b[1;32mIn [6]\u001b[0m, in \u001b[0;36mlegenp\u001b[1;34m(n, m, z)\u001b[0m\n\u001b[0;32m      2\u001b[0m \u001b[38;5;28;01mdef\u001b[39;00m \u001b[38;5;21mlegenp\u001b[39m(n,m,z):\n\u001b[1;32m----> 3\u001b[0m     \u001b[38;5;28;01mreturn\u001b[39;00m (\u001b[38;5;241m1\u001b[39m\u001b[38;5;241m/\u001b[39m(\u001b[43mgamma\u001b[49m\u001b[43m(\u001b[49m\u001b[38;5;241;43m1\u001b[39;49m\u001b[38;5;241;43m-\u001b[39;49m\u001b[43mm\u001b[49m\u001b[43m)\u001b[49m)) \u001b[38;5;241m*\u001b[39m (\u001b[38;5;28mpow\u001b[39m(\u001b[38;5;241m1\u001b[39m\u001b[38;5;241m+\u001b[39mz,m\u001b[38;5;241m/\u001b[39m\u001b[38;5;241m2\u001b[39m)\u001b[38;5;241m/\u001b[39m (\u001b[38;5;28mpow\u001b[39m(\u001b[38;5;241m1\u001b[39m\u001b[38;5;241m-\u001b[39mz,m\u001b[38;5;241m/\u001b[39m\u001b[38;5;241m2\u001b[39m))) \u001b[38;5;241m*\u001b[39m mpmath\u001b[38;5;241m.\u001b[39mhyp2f1(\u001b[38;5;241m-\u001b[39mn,n\u001b[38;5;241m+\u001b[39m\u001b[38;5;241m1\u001b[39m,\u001b[38;5;241m1\u001b[39m\u001b[38;5;241m-\u001b[39mm,(\u001b[38;5;241m1\u001b[39m\u001b[38;5;241m-\u001b[39mz)\u001b[38;5;241m/\u001b[39m\u001b[38;5;241m2\u001b[39m)\n",
      "\u001b[1;31mValueError\u001b[0m: math domain error"
     ]
    }
   ],
   "source": [
    "legenp(6,5,6)"
   ]
  },
  {
   "cell_type": "code",
   "execution_count": 12,
   "id": "d901b775",
   "metadata": {},
   "outputs": [],
   "source": [
    "import math\n",
    "def chebyt(n,x):\n",
    "    return math.cos(n*x)"
   ]
  },
  {
   "cell_type": "code",
   "execution_count": 14,
   "id": "ed6660b2",
   "metadata": {},
   "outputs": [
    {
     "data": {
      "text/plain": [
       "mpf('244.0')"
      ]
     },
     "execution_count": 14,
     "metadata": {},
     "output_type": "execute_result"
    }
   ],
   "source": [
    "mpmath.chebyt(3,4)"
   ]
  },
  {
   "cell_type": "code",
   "execution_count": 15,
   "id": "98b66078",
   "metadata": {},
   "outputs": [
    {
     "data": {
      "text/plain": [
       "0.8438539587324921"
      ]
     },
     "execution_count": 15,
     "metadata": {},
     "output_type": "execute_result"
    }
   ],
   "source": [
    "chebyt(3,4)"
   ]
  },
  {
   "cell_type": "code",
   "execution_count": 16,
   "id": "1d30ec27",
   "metadata": {},
   "outputs": [],
   "source": [
    "from math import sin\n",
    "def chebyu(n,x):\n",
    "    return (sin((n+1)*x)) /sin(x)"
   ]
  },
  {
   "cell_type": "code",
   "execution_count": 17,
   "id": "53be6160",
   "metadata": {},
   "outputs": [
    {
     "data": {
      "text/plain": [
       "mpf('496.0')"
      ]
     },
     "execution_count": 17,
     "metadata": {},
     "output_type": "execute_result"
    }
   ],
   "source": [
    "mpmath.chebyu(3,4)"
   ]
  },
  {
   "cell_type": "code",
   "execution_count": 18,
   "id": "8ee6299d",
   "metadata": {},
   "outputs": [
    {
     "data": {
      "text/plain": [
       "0.3804206757377604"
      ]
     },
     "execution_count": 18,
     "metadata": {},
     "output_type": "execute_result"
    }
   ],
   "source": [
    "chebyu(3,4)"
   ]
  },
  {
   "cell_type": "code",
   "execution_count": 19,
   "id": "f3b45d25",
   "metadata": {},
   "outputs": [],
   "source": [
    "def hermite(n,z):\n",
    "    return (pow(2*z,n))* mpmath.hyp2f0(-n/2, (1-n)/2, (-1/pow(z,2)))"
   ]
  },
  {
   "cell_type": "code",
   "execution_count": 20,
   "id": "6a613c5d",
   "metadata": {},
   "outputs": [
    {
     "data": {
      "text/plain": [
       "mpf('464.0')"
      ]
     },
     "execution_count": 20,
     "metadata": {},
     "output_type": "execute_result"
    }
   ],
   "source": [
    "hermite(3,4)"
   ]
  },
  {
   "cell_type": "code",
   "execution_count": 21,
   "id": "cd608720",
   "metadata": {},
   "outputs": [
    {
     "data": {
      "text/plain": [
       "mpf('464.0')"
      ]
     },
     "execution_count": 21,
     "metadata": {},
     "output_type": "execute_result"
    }
   ],
   "source": [
    "mpmath.hermite(3,4)"
   ]
  },
  {
   "cell_type": "code",
   "execution_count": 22,
   "id": "570fb670",
   "metadata": {},
   "outputs": [
    {
     "data": {
      "text/plain": [
       "mpf('36240.0')"
      ]
     },
     "execution_count": 22,
     "metadata": {},
     "output_type": "execute_result"
    }
   ],
   "source": [
    "mpmath.hermite(8,3)"
   ]
  },
  {
   "cell_type": "code",
   "execution_count": 23,
   "id": "4d780899",
   "metadata": {},
   "outputs": [
    {
     "data": {
      "text/plain": [
       "mpf('36240.000000000044')"
      ]
     },
     "execution_count": 23,
     "metadata": {},
     "output_type": "execute_result"
    }
   ],
   "source": [
    "hermite(8,3)"
   ]
  },
  {
   "cell_type": "code",
   "execution_count": 24,
   "id": "b46c988b",
   "metadata": {},
   "outputs": [],
   "source": [
    "from math import gamma\n",
    "def laguerre(n,a,z):\n",
    "    return (gamma(n+a+1)/(gamma(a+1)*gamma(n+1))) * mpmath.hyp1f1(-n,a+1,z)\n",
    "    "
   ]
  },
  {
   "cell_type": "code",
   "execution_count": 25,
   "id": "81c3bccd",
   "metadata": {},
   "outputs": [
    {
     "data": {
      "text/plain": [
       "mpf('-9.3333333333333339')"
      ]
     },
     "execution_count": 25,
     "metadata": {},
     "output_type": "execute_result"
    }
   ],
   "source": [
    "mpmath.laguerre(3,9,8)"
   ]
  },
  {
   "cell_type": "code",
   "execution_count": 26,
   "id": "11bdb344",
   "metadata": {},
   "outputs": [
    {
     "data": {
      "text/plain": [
       "mpf('-9.3333333333333339')"
      ]
     },
     "execution_count": 26,
     "metadata": {},
     "output_type": "execute_result"
    }
   ],
   "source": [
    "laguerre(3,9,8)"
   ]
  },
  {
   "cell_type": "markdown",
   "id": "b72e6c1f",
   "metadata": {},
   "source": [
    "# Spherical harmonics¶"
   ]
  },
  {
   "cell_type": "code",
   "execution_count": null,
   "id": "e690f6cc",
   "metadata": {},
   "outputs": [],
   "source": [
    "def spherharm(l,m,theta,phi):\n",
    "    return (sqrt( ((2*l)+1*math.factorial(l-m))) / (4*pi)*(math.factorial(l+m)))* mpmath.legenp(l,m)*cos()   "
   ]
  }
 ],
 "metadata": {
  "kernelspec": {
   "display_name": "Python 3 (ipykernel)",
   "language": "python",
   "name": "python3"
  },
  "language_info": {
   "codemirror_mode": {
    "name": "ipython",
    "version": 3
   },
   "file_extension": ".py",
   "mimetype": "text/x-python",
   "name": "python",
   "nbconvert_exporter": "python",
   "pygments_lexer": "ipython3",
   "version": "3.9.12"
  }
 },
 "nbformat": 4,
 "nbformat_minor": 5
}
