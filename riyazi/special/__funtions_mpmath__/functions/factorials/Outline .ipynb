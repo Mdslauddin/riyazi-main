{
 "cells": [
  {
   "cell_type": "markdown",
   "id": "5e9623f4",
   "metadata": {},
   "source": [
    "# Factorials and gamma functions\n",
    "\n",
    "**Factorials**\n",
    "\n",
    "- factorial\n",
    "- fac2\n",
    "\n",
    "**Binomial coefficients**\n",
    "\n",
    "- binomial\n",
    "\n",
    "**Gamma function**\n",
    " \n",
    "- gamma\n",
    "- rgamma\n",
    "- gammaprod\n",
    "- loggamma\n",
    "\n",
    "**Rising and falling factorials**\n",
    "\n",
    "- rf\n",
    "- ff\n",
    "\n",
    "**Beta function**\n",
    "\n",
    "- beta\n",
    "- betainc\n",
    "\n",
    "**Super- and hyperfactorials**\n",
    "\n",
    "- superfac\n",
    "- hyperfac\n",
    "- barnesg\n",
    "\n",
    "\n",
    "**Polygamma functions and harmonic numbers**\n",
    "\n",
    "- psi\n",
    "- harmonic\n"
   ]
  },
  {
   "cell_type": "code",
   "execution_count": null,
   "id": "c64d6f80",
   "metadata": {},
   "outputs": [],
   "source": [
    "import math \n",
    "def factorial(x):\n",
    "    return math.factorial(x)"
   ]
  },
  {
   "cell_type": "code",
   "execution_count": null,
   "id": "a79e7eea",
   "metadata": {},
   "outputs": [],
   "source": [
    "def fac2(n):\n",
    "    \"\"\"\n",
    "    Computes the double factorial `x!!`, defined for integers\n",
    "    `x > 0` by\n",
    "    \"\"\"\n",
    "    if(n == 0 or n == 1):\n",
    "        return 1.0\n",
    "    return n*fac2(n-2)"
   ]
  },
  {
   "cell_type": "code",
   "execution_count": null,
   "id": "33284265",
   "metadata": {},
   "outputs": [],
   "source": [
    "def binomial(n,k):\n",
    "\n",
    "    if k>n:\n",
    "        raise ValueError('Invalid Inputs, ensure that n >= k')\n",
    "        #function is only defined for n>=k\n",
    "    if k == 0 or n == k:\n",
    "        #C(n,0) = C(n,n) = 1, so this is our base case.\n",
    "        return 1\n",
    "    if k > n/2:\n",
    "        #C(n,k) = C(n,n-k), so if n/2 is sufficiently small, we can reduce the problem size.\n",
    "        return binomial(n,n-k)\n",
    "    else:\n",
    "        #else, we know C(n,k) = (n/k)C(n-1,k-1), so we can use this to reduce our problem size.\n",
    "        return ((n/k)*binomial(n-1,k-1))"
   ]
  },
  {
   "cell_type": "code",
   "execution_count": null,
   "id": "06701339",
   "metadata": {},
   "outputs": [],
   "source": [
    "def gamma(x):\n",
    "    return math.factorial(x-1)"
   ]
  },
  {
   "cell_type": "code",
   "execution_count": null,
   "id": "73186109",
   "metadata": {},
   "outputs": [],
   "source": [
    "def rgamma(x):\n",
    "    return 1/gamma(x)"
   ]
  },
  {
   "cell_type": "code",
   "execution_count": null,
   "id": "a655f0ca",
   "metadata": {},
   "outputs": [],
   "source": [
    "# Work with list \n",
    "def gammaprod(a,b):\n",
    "    return gamma(a)/ gamma(b)"
   ]
  },
  {
   "cell_type": "code",
   "execution_count": null,
   "id": "491c30fc",
   "metadata": {},
   "outputs": [],
   "source": [
    "def loggamma(x):\n",
    "    return math.log(gamma(x))"
   ]
  },
  {
   "cell_type": "code",
   "execution_count": null,
   "id": "9bbbc600",
   "metadata": {},
   "outputs": [],
   "source": [
    "def rf(x,n):\n",
    "    #return x**gamma(n)\n",
    "    return gamma(x+n)/ gamma(x)"
   ]
  },
  {
   "cell_type": "code",
   "execution_count": null,
   "id": "578050b2",
   "metadata": {},
   "outputs": [],
   "source": [
    "def ff(x,n):\n",
    "    return gamma(x+1)/ gamma(x-n+1)"
   ]
  },
  {
   "cell_type": "code",
   "execution_count": null,
   "id": "d183261b",
   "metadata": {},
   "outputs": [],
   "source": [
    "def beta(x,y):\n",
    "    \"\"\"\n",
    "    Computes the beta function,\n",
    "    `B(x,y) = \\Gamma(x) \\Gamma(y) / \\Gamma(x+y)`.\n",
    "    The beta function is also commonly defined by the integral\n",
    "    representation\n",
    "    \"\"\"\n",
    "    return (gamma(x) * gamma(y)) / gamma(x+y)"
   ]
  },
  {
   "cell_type": "code",
   "execution_count": null,
   "id": "6e056973",
   "metadata": {},
   "outputs": [],
   "source": [
    "def betainc(a,b,x1=0,x2=1, regularized=False):\n",
    "    return beta(a,b)"
   ]
  },
  {
   "cell_type": "code",
   "execution_count": null,
   "id": "7550907a",
   "metadata": {},
   "outputs": [],
   "source": [
    "def superfac(n):\n",
    "    \"\"\"\n",
    "    Computes the superfactorial, defined as the product of\n",
    "    consecutive factorials\n",
    "    1.http://oeis.org/A000178\n",
    "    \"\"\"\n",
    "    x = 1\n",
    "    for i in range(1,n+1):\n",
    "        x *= math.factorial(i)\n",
    "    return float(x) "
   ]
  },
  {
   "cell_type": "code",
   "execution_count": null,
   "id": "af847927",
   "metadata": {},
   "outputs": [],
   "source": [
    "def hyperfac(n):\n",
    "    val = 1\n",
    "    for i in range(1,n+1):\n",
    "        val = val* pow(i,i)\n",
    "    return float(val) "
   ]
  },
  {
   "cell_type": "code",
   "execution_count": null,
   "id": "6a712c26",
   "metadata": {},
   "outputs": [],
   "source": [
    "def barnesg(x):\n",
    "    \"\"\"\n",
    "    Evaluates the Barnes G-function\n",
    "    \"\"\"\n",
    "    return superfac(x-2)"
   ]
  },
  {
   "cell_type": "code",
   "execution_count": null,
   "id": "f7bb260f",
   "metadata": {},
   "outputs": [],
   "source": [
    "# Last number not correct \n",
    "def harmonic(n):\n",
    "    i = 1\n",
    "    s = 0.0\n",
    "    for i in range(1,n+1):\n",
    "        s = s + 1/i\n",
    "    return s "
   ]
  },
  {
   "cell_type": "code",
   "execution_count": null,
   "id": "e352bbb6",
   "metadata": {},
   "outputs": [],
   "source": [
    "def psi(m,z):\n",
    "    pass"
   ]
  },
  {
   "cell_type": "code",
   "execution_count": null,
   "id": "ffcc0d9c",
   "metadata": {},
   "outputs": [],
   "source": [
    "def digamma(x):\n",
    "    if x == 0:\n",
    "        return float(\"inf\")\n",
    "    if x == float(\"inf\"):\n",
    "        return 0\n",
    "    if x < 0:\n",
    "        return digamma(1-x) - (1/x) - (1/(x+1)) + 1\n",
    "    result = 0\n",
    "    while x < 8:\n",
    "        result -= 1/x\n",
    "        x += 1\n",
    "    x = x + 1/2 - 1/2*(3-1/(9*x))**0.5\n",
    "    return result + math.log(x) - 1/(2*x) - 1/(12*x**2)"
   ]
  },
  {
   "cell_type": "code",
   "execution_count": null,
   "id": "3ad77b5f",
   "metadata": {},
   "outputs": [],
   "source": []
  },
  {
   "cell_type": "code",
   "execution_count": null,
   "id": "c4dadaf1",
   "metadata": {},
   "outputs": [],
   "source": [
    "def real(x,/):\n",
    "    \"\"\"\n",
    "    Returns the real part of `x`,\n",
    "    \"\"\"\n",
    "    return (x).real"
   ]
  },
  {
   "cell_type": "markdown",
   "id": "9bd588d1",
   "metadata": {},
   "source": [
    "**factorial()**\n",
    "\n",
    "**fac2()**\n",
    "\n",
    "**binomial()**\n",
    "\n",
    "**gamma()**\n",
    "\n",
    "**rgamma()**\n",
    "\n",
    "**gammaprod()**\n",
    "\n",
    "**loggamma()**\n",
    "\n",
    "**rf()**\n",
    "\n",
    "**ff()**\n",
    "\n",
    "**beta()**\n",
    "\n",
    "**betainc()**\n",
    "\n",
    "**superfac()**\n",
    "\n",
    "**hyperfac()**\n",
    "\n",
    "**barnesg()**\n",
    "\n",
    "**psi()/digamma()**\n",
    "\n",
    "**harmonic()**\n",
    "\n"
   ]
  },
  {
   "cell_type": "code",
   "execution_count": null,
   "id": "a7c899f7",
   "metadata": {},
   "outputs": [],
   "source": []
  },
  {
   "cell_type": "code",
   "execution_count": null,
   "id": "389b95e5",
   "metadata": {},
   "outputs": [],
   "source": []
  },
  {
   "cell_type": "code",
   "execution_count": null,
   "id": "ad717f4d",
   "metadata": {},
   "outputs": [],
   "source": []
  },
  {
   "cell_type": "code",
   "execution_count": null,
   "id": "d16c8670",
   "metadata": {},
   "outputs": [],
   "source": []
  },
  {
   "cell_type": "code",
   "execution_count": null,
   "id": "e1265661",
   "metadata": {},
   "outputs": [],
   "source": []
  },
  {
   "cell_type": "code",
   "execution_count": null,
   "id": "75134f8f",
   "metadata": {},
   "outputs": [],
   "source": []
  },
  {
   "cell_type": "code",
   "execution_count": null,
   "id": "99677147",
   "metadata": {},
   "outputs": [],
   "source": []
  },
  {
   "cell_type": "code",
   "execution_count": 1,
   "id": "904156ee",
   "metadata": {},
   "outputs": [],
   "source": [
    "import math \n",
    "def factorial(x):\n",
    "    return math.factorial(x)"
   ]
  },
  {
   "cell_type": "code",
   "execution_count": 2,
   "id": "c0a0c4a2",
   "metadata": {
    "scrolled": true
   },
   "outputs": [
    {
     "data": {
      "text/plain": [
       "120"
      ]
     },
     "execution_count": 2,
     "metadata": {},
     "output_type": "execute_result"
    }
   ],
   "source": [
    "factorial(5)"
   ]
  },
  {
   "cell_type": "code",
   "execution_count": 3,
   "id": "09709075",
   "metadata": {},
   "outputs": [],
   "source": [
    "import mpmath as mp "
   ]
  },
  {
   "cell_type": "code",
   "execution_count": 4,
   "id": "6be7e2d9",
   "metadata": {},
   "outputs": [
    {
     "data": {
      "text/plain": [
       "mpf('120.0')"
      ]
     },
     "execution_count": 4,
     "metadata": {},
     "output_type": "execute_result"
    }
   ],
   "source": [
    "mp.fac(5)"
   ]
  },
  {
   "cell_type": "code",
   "execution_count": 5,
   "id": "8a2fbad1",
   "metadata": {},
   "outputs": [],
   "source": [
    "def fac2(n):\n",
    "    \"\"\"\n",
    "    Computes the double factorial `x!!`, defined for integers\n",
    "    `x > 0` by\n",
    "    \"\"\"\n",
    "    if(n == 0 or n == 1):\n",
    "        return 1.0\n",
    "    return n*fac2(n-2)"
   ]
  },
  {
   "cell_type": "code",
   "execution_count": 6,
   "id": "94e3ce38",
   "metadata": {},
   "outputs": [
    {
     "data": {
      "text/plain": [
       "15.0"
      ]
     },
     "execution_count": 6,
     "metadata": {},
     "output_type": "execute_result"
    }
   ],
   "source": [
    "fac2(5)"
   ]
  },
  {
   "cell_type": "code",
   "execution_count": 7,
   "id": "acac2c00",
   "metadata": {},
   "outputs": [
    {
     "data": {
      "text/plain": [
       "mpf('15.0')"
      ]
     },
     "execution_count": 7,
     "metadata": {},
     "output_type": "execute_result"
    }
   ],
   "source": [
    "mp.fac2(5)"
   ]
  },
  {
   "cell_type": "code",
   "execution_count": 8,
   "id": "f973cc2b",
   "metadata": {},
   "outputs": [],
   "source": [
    "def binomial(n,k):\n",
    "\n",
    "    if k>n:\n",
    "        raise ValueError('Invalid Inputs, ensure that n >= k')\n",
    "        #function is only defined for n>=k\n",
    "    if k == 0 or n == k:\n",
    "        #C(n,0) = C(n,n) = 1, so this is our base case.\n",
    "        return 1\n",
    "    if k > n/2:\n",
    "        #C(n,k) = C(n,n-k), so if n/2 is sufficiently small, we can reduce the problem size.\n",
    "        return binomial(n,n-k)\n",
    "    else:\n",
    "        #else, we know C(n,k) = (n/k)C(n-1,k-1), so we can use this to reduce our problem size.\n",
    "        return ((n/k)*binomial(n-1,k-1))"
   ]
  },
  {
   "cell_type": "code",
   "execution_count": 9,
   "id": "5bd82eea",
   "metadata": {},
   "outputs": [
    {
     "data": {
      "text/plain": [
       "5.0"
      ]
     },
     "execution_count": 9,
     "metadata": {},
     "output_type": "execute_result"
    }
   ],
   "source": [
    "binomial(5,4)"
   ]
  },
  {
   "cell_type": "code",
   "execution_count": 10,
   "id": "9ee5e2c4",
   "metadata": {},
   "outputs": [
    {
     "data": {
      "text/plain": [
       "mpf('5.0')"
      ]
     },
     "execution_count": 10,
     "metadata": {},
     "output_type": "execute_result"
    }
   ],
   "source": [
    "mp.binomial(5,4)"
   ]
  },
  {
   "cell_type": "code",
   "execution_count": 11,
   "id": "6b0cf1cf",
   "metadata": {},
   "outputs": [],
   "source": [
    "def gamma(x):\n",
    "    return math.factorial(x-1)"
   ]
  },
  {
   "cell_type": "code",
   "execution_count": 12,
   "id": "ea76687e",
   "metadata": {},
   "outputs": [
    {
     "data": {
      "text/plain": [
       "362880"
      ]
     },
     "execution_count": 12,
     "metadata": {},
     "output_type": "execute_result"
    }
   ],
   "source": [
    "gamma(10)"
   ]
  },
  {
   "cell_type": "code",
   "execution_count": 13,
   "id": "1c3ccb6f",
   "metadata": {},
   "outputs": [
    {
     "data": {
      "text/plain": [
       "mpf('362880.0')"
      ]
     },
     "execution_count": 13,
     "metadata": {},
     "output_type": "execute_result"
    }
   ],
   "source": [
    "mp.gamma(10)"
   ]
  },
  {
   "cell_type": "code",
   "execution_count": 14,
   "id": "e9f2b5b0",
   "metadata": {},
   "outputs": [],
   "source": [
    "def rgamma(x):\n",
    "    return 1/gamma(x)"
   ]
  },
  {
   "cell_type": "code",
   "execution_count": 15,
   "id": "82f5ad2a",
   "metadata": {},
   "outputs": [
    {
     "data": {
      "text/plain": [
       "2.7557319223985893e-06"
      ]
     },
     "execution_count": 15,
     "metadata": {},
     "output_type": "execute_result"
    }
   ],
   "source": [
    "rgamma(10)"
   ]
  },
  {
   "cell_type": "code",
   "execution_count": 16,
   "id": "13779b68",
   "metadata": {},
   "outputs": [
    {
     "data": {
      "text/plain": [
       "mpf('2.7557319223985893e-6')"
      ]
     },
     "execution_count": 16,
     "metadata": {},
     "output_type": "execute_result"
    }
   ],
   "source": [
    "mp.rgamma(10)"
   ]
  },
  {
   "cell_type": "code",
   "execution_count": 17,
   "id": "cc231c0f",
   "metadata": {},
   "outputs": [],
   "source": [
    "def gammaprod(a,b):\n",
    "    return gamma(a)/ gamma(b)"
   ]
  },
  {
   "cell_type": "code",
   "execution_count": 31,
   "id": "49cd525f",
   "metadata": {},
   "outputs": [
    {
     "data": {
      "text/plain": [
       "3.0"
      ]
     },
     "execution_count": 31,
     "metadata": {},
     "output_type": "execute_result"
    }
   ],
   "source": [
    "gammaprod(4,3)"
   ]
  },
  {
   "cell_type": "code",
   "execution_count": 40,
   "id": "296ea7fc",
   "metadata": {},
   "outputs": [
    {
     "data": {
      "text/plain": [
       "mpf('18.0')"
      ]
     },
     "execution_count": 40,
     "metadata": {},
     "output_type": "execute_result"
    }
   ],
   "source": [
    "mp.gammaprod([4,4,5],[3,2,5])"
   ]
  },
  {
   "cell_type": "code",
   "execution_count": 41,
   "id": "65a61b50",
   "metadata": {},
   "outputs": [
    {
     "data": {
      "text/plain": [
       "18.0"
      ]
     },
     "execution_count": 41,
     "metadata": {},
     "output_type": "execute_result"
    }
   ],
   "source": [
    "(gamma(4)*gamma(4)*gamma(5)) /( gamma(3)*gamma(2)*gamma(5))"
   ]
  },
  {
   "cell_type": "code",
   "execution_count": 43,
   "id": "478c8193",
   "metadata": {},
   "outputs": [
    {
     "data": {
      "text/plain": [
       "(6, 6, 24)"
      ]
     },
     "execution_count": 43,
     "metadata": {},
     "output_type": "execute_result"
    }
   ],
   "source": [
    "gamma(4),gamma(4),gamma(5)"
   ]
  },
  {
   "cell_type": "code",
   "execution_count": 56,
   "id": "dc0737cc",
   "metadata": {},
   "outputs": [],
   "source": [
    "def loggamma(x):\n",
    "    return math.log(gamma(x))"
   ]
  },
  {
   "cell_type": "code",
   "execution_count": 57,
   "id": "97c9bd48",
   "metadata": {},
   "outputs": [
    {
     "data": {
      "text/plain": [
       "359.1342053695754"
      ]
     },
     "execution_count": 57,
     "metadata": {},
     "output_type": "execute_result"
    }
   ],
   "source": [
    "loggamma(100)"
   ]
  },
  {
   "cell_type": "code",
   "execution_count": 60,
   "id": "ce960074",
   "metadata": {
    "scrolled": true
   },
   "outputs": [
    {
     "data": {
      "text/plain": [
       "mpf('359.1342053695754')"
      ]
     },
     "execution_count": 60,
     "metadata": {},
     "output_type": "execute_result"
    }
   ],
   "source": [
    "mp.loggamma(100)"
   ]
  },
  {
   "cell_type": "code",
   "execution_count": 61,
   "id": "67053ec8",
   "metadata": {},
   "outputs": [],
   "source": [
    "def rf(x,n):\n",
    "    #return x**gamma(n)\n",
    "    return gamma(x+n)/ gamma(x)"
   ]
  },
  {
   "cell_type": "code",
   "execution_count": 62,
   "id": "94e24422",
   "metadata": {},
   "outputs": [
    {
     "data": {
      "text/plain": [
       "1680.0"
      ]
     },
     "execution_count": 62,
     "metadata": {},
     "output_type": "execute_result"
    }
   ],
   "source": [
    "rf(5,4)"
   ]
  },
  {
   "cell_type": "code",
   "execution_count": 63,
   "id": "945d9a2b",
   "metadata": {},
   "outputs": [
    {
     "data": {
      "text/plain": [
       "mpf('1680.0')"
      ]
     },
     "execution_count": 63,
     "metadata": {},
     "output_type": "execute_result"
    }
   ],
   "source": [
    "mp.rf(5,4)"
   ]
  },
  {
   "cell_type": "code",
   "execution_count": 64,
   "id": "9df4098d",
   "metadata": {},
   "outputs": [],
   "source": [
    "def ff(x,n):\n",
    "    return gamma(x+1)/ gamma(x-n+1)"
   ]
  },
  {
   "cell_type": "code",
   "execution_count": 65,
   "id": "92a6081f",
   "metadata": {},
   "outputs": [
    {
     "data": {
      "text/plain": [
       "120.0"
      ]
     },
     "execution_count": 65,
     "metadata": {},
     "output_type": "execute_result"
    }
   ],
   "source": [
    "ff(5,4)"
   ]
  },
  {
   "cell_type": "code",
   "execution_count": 66,
   "id": "d9d5f6e3",
   "metadata": {},
   "outputs": [
    {
     "data": {
      "text/plain": [
       "mpf('120.0')"
      ]
     },
     "execution_count": 66,
     "metadata": {},
     "output_type": "execute_result"
    }
   ],
   "source": [
    "mp.ff(5,4)"
   ]
  },
  {
   "cell_type": "code",
   "execution_count": null,
   "id": "517ca675",
   "metadata": {},
   "outputs": [],
   "source": []
  },
  {
   "cell_type": "code",
   "execution_count": 76,
   "id": "4c24957b",
   "metadata": {},
   "outputs": [
    {
     "data": {
      "text/plain": [
       "(mpf('-3.0'), mpf('-3.0'))"
      ]
     },
     "execution_count": 76,
     "metadata": {},
     "output_type": "execute_result"
    }
   ],
   "source": [
    "mp.re(-3+4j), mp.re(-3)"
   ]
  },
  {
   "cell_type": "code",
   "execution_count": 70,
   "id": "76bb60b9",
   "metadata": {},
   "outputs": [
    {
     "data": {
      "text/plain": [
       "-3.0"
      ]
     },
     "execution_count": 70,
     "metadata": {},
     "output_type": "execute_result"
    }
   ],
   "source": [
    "(-3+4j).real"
   ]
  },
  {
   "cell_type": "code",
   "execution_count": 73,
   "id": "50dd9ec8",
   "metadata": {},
   "outputs": [],
   "source": [
    "def real(x,/):\n",
    "    \"\"\"\n",
    "    Returns the real part of `x`,\n",
    "    \"\"\"\n",
    "    return (x).real "
   ]
  },
  {
   "cell_type": "code",
   "execution_count": 75,
   "id": "fb7b4db7",
   "metadata": {},
   "outputs": [
    {
     "data": {
      "text/plain": [
       "(-3.0, -3)"
      ]
     },
     "execution_count": 75,
     "metadata": {},
     "output_type": "execute_result"
    }
   ],
   "source": [
    "real(-3+4j),real(-3)"
   ]
  },
  {
   "cell_type": "code",
   "execution_count": 77,
   "id": "d38edb9e",
   "metadata": {},
   "outputs": [],
   "source": [
    "def beta(x,y):\n",
    "    \"\"\"\n",
    "    Computes the beta function,\n",
    "    `B(x,y) = \\Gamma(x) \\Gamma(y) / \\Gamma(x+y)`.\n",
    "    The beta function is also commonly defined by the integral\n",
    "    representation\n",
    "    \"\"\"\n",
    "    return (gamma(x) * gamma(y)) / gamma(x+y)"
   ]
  },
  {
   "cell_type": "code",
   "execution_count": 78,
   "id": "561eb40c",
   "metadata": {},
   "outputs": [
    {
     "data": {
      "text/plain": [
       "0.001984126984126984"
      ]
     },
     "execution_count": 78,
     "metadata": {},
     "output_type": "execute_result"
    }
   ],
   "source": [
    "beta(4,6)"
   ]
  },
  {
   "cell_type": "code",
   "execution_count": 79,
   "id": "abf25f0f",
   "metadata": {},
   "outputs": [
    {
     "data": {
      "text/plain": [
       "mpf('0.001984126984126984')"
      ]
     },
     "execution_count": 79,
     "metadata": {},
     "output_type": "execute_result"
    }
   ],
   "source": [
    "mp.beta(4,6)"
   ]
  },
  {
   "cell_type": "code",
   "execution_count": 80,
   "id": "e4c6c423",
   "metadata": {},
   "outputs": [],
   "source": [
    "def betainc(a,b,x1=0,x2=1, regularized=False):\n",
    "    return beta(a,b)"
   ]
  },
  {
   "cell_type": "code",
   "execution_count": 81,
   "id": "ee6e9b48",
   "metadata": {},
   "outputs": [
    {
     "data": {
      "text/plain": [
       "0.0035714285714285713"
      ]
     },
     "execution_count": 81,
     "metadata": {},
     "output_type": "execute_result"
    }
   ],
   "source": [
    "betainc(4,5)"
   ]
  },
  {
   "cell_type": "code",
   "execution_count": 82,
   "id": "cdd8ad40",
   "metadata": {
    "scrolled": true
   },
   "outputs": [
    {
     "data": {
      "text/plain": [
       "mpf('0.0035714285714285713')"
      ]
     },
     "execution_count": 82,
     "metadata": {},
     "output_type": "execute_result"
    }
   ],
   "source": [
    "mp.betainc(4,5)"
   ]
  },
  {
   "cell_type": "code",
   "execution_count": 83,
   "id": "1baebf49",
   "metadata": {},
   "outputs": [],
   "source": [
    "\n",
    "def superfac(n):\n",
    "    \"\"\"\n",
    "    Computes the superfactorial, defined as the product of\n",
    "    consecutive factorials\n",
    "    1.http://oeis.org/A000178\n",
    "    \"\"\"\n",
    "    x = 1\n",
    "    for i in range(1,n+1):\n",
    "        x *= math.factorial(i)\n",
    "    return float(x) "
   ]
  },
  {
   "cell_type": "code",
   "execution_count": null,
   "id": "0e80d372",
   "metadata": {},
   "outputs": [],
   "source": [
    "super()"
   ]
  },
  {
   "cell_type": "code",
   "execution_count": 84,
   "id": "862dbd9b",
   "metadata": {},
   "outputs": [
    {
     "data": {
      "text/plain": [
       "24883200.0"
      ]
     },
     "execution_count": 84,
     "metadata": {},
     "output_type": "execute_result"
    }
   ],
   "source": [
    "superfac(6)"
   ]
  },
  {
   "cell_type": "code",
   "execution_count": 85,
   "id": "c2dddae5",
   "metadata": {
    "scrolled": true
   },
   "outputs": [
    {
     "data": {
      "text/plain": [
       "mpf('24883200.0')"
      ]
     },
     "execution_count": 85,
     "metadata": {},
     "output_type": "execute_result"
    }
   ],
   "source": [
    "mp.superfac(6)"
   ]
  },
  {
   "cell_type": "code",
   "execution_count": null,
   "id": "ef41c475",
   "metadata": {},
   "outputs": [],
   "source": [
    "mp.sumap()"
   ]
  },
  {
   "cell_type": "code",
   "execution_count": 86,
   "id": "f4433dcc",
   "metadata": {},
   "outputs": [],
   "source": [
    "def hyperfac(n):\n",
    "    val = 1\n",
    "    for i in range(1,n+1):\n",
    "        val = val* pow(i,i)\n",
    "    return float(val) "
   ]
  },
  {
   "cell_type": "code",
   "execution_count": 87,
   "id": "3a72bb79",
   "metadata": {},
   "outputs": [
    {
     "data": {
      "text/plain": [
       "3.3197663987712e+18"
      ]
     },
     "execution_count": 87,
     "metadata": {},
     "output_type": "execute_result"
    }
   ],
   "source": [
    "hyperfac(7)"
   ]
  },
  {
   "cell_type": "code",
   "execution_count": 88,
   "id": "3f359042",
   "metadata": {},
   "outputs": [
    {
     "data": {
      "text/plain": [
       "mpf('3.3197663987712e+18')"
      ]
     },
     "execution_count": 88,
     "metadata": {},
     "output_type": "execute_result"
    }
   ],
   "source": [
    "mp.hyperfac(7)"
   ]
  },
  {
   "cell_type": "code",
   "execution_count": 89,
   "id": "65221409",
   "metadata": {},
   "outputs": [],
   "source": [
    "def barnesg(x):\n",
    "    \"\"\"\n",
    "    Evaluates the Barnes G-function\n",
    "    \"\"\"\n",
    "    return superfac(x-2)"
   ]
  },
  {
   "cell_type": "code",
   "execution_count": 90,
   "id": "fc87446e",
   "metadata": {},
   "outputs": [
    {
     "data": {
      "text/plain": [
       "125411328000.0"
      ]
     },
     "execution_count": 90,
     "metadata": {},
     "output_type": "execute_result"
    }
   ],
   "source": [
    "barnesg(9)"
   ]
  },
  {
   "cell_type": "code",
   "execution_count": 91,
   "id": "119e31ad",
   "metadata": {},
   "outputs": [
    {
     "data": {
      "text/plain": [
       "mpf('125411328000.0')"
      ]
     },
     "execution_count": 91,
     "metadata": {},
     "output_type": "execute_result"
    }
   ],
   "source": [
    "mp.barnesg(9)"
   ]
  },
  {
   "cell_type": "code",
   "execution_count": 92,
   "id": "bdc90fb8",
   "metadata": {},
   "outputs": [],
   "source": [
    "def harmonic(n):\n",
    "    i = 1\n",
    "    s = 0.0\n",
    "    for i in range(1,n+1):\n",
    "        s = s + 1/i\n",
    "    return s "
   ]
  },
  {
   "cell_type": "code",
   "execution_count": 97,
   "id": "b377ce84",
   "metadata": {},
   "outputs": [
    {
     "data": {
      "text/plain": [
       "7.380165880900755"
      ]
     },
     "execution_count": 97,
     "metadata": {},
     "output_type": "execute_result"
    }
   ],
   "source": [
    "harmonic(900)"
   ]
  },
  {
   "cell_type": "code",
   "execution_count": 98,
   "id": "cc7454e6",
   "metadata": {},
   "outputs": [
    {
     "data": {
      "text/plain": [
       "mpf('7.3801658809007531')"
      ]
     },
     "execution_count": 98,
     "metadata": {},
     "output_type": "execute_result"
    }
   ],
   "source": [
    "mp.harmonic(900)"
   ]
  },
  {
   "cell_type": "code",
   "execution_count": 100,
   "id": "4a1fa1d6",
   "metadata": {},
   "outputs": [
    {
     "data": {
      "text/plain": [
       "mpf('0.39493406684822646')"
      ]
     },
     "execution_count": 100,
     "metadata": {},
     "output_type": "execute_result"
    }
   ],
   "source": [
    "mp.psi(1,3)"
   ]
  },
  {
   "cell_type": "code",
   "execution_count": null,
   "id": "160b8f18",
   "metadata": {},
   "outputs": [],
   "source": []
  },
  {
   "cell_type": "code",
   "execution_count": 101,
   "id": "18802493",
   "metadata": {},
   "outputs": [],
   "source": [
    "def digamma(x):\n",
    "    if x == 0:\n",
    "        return float(\"inf\")\n",
    "    if x == float(\"inf\"):\n",
    "        return 0\n",
    "    if x < 0:\n",
    "        return digamma(1-x) - (1/x) - (1/(x+1)) + 1\n",
    "    result = 0\n",
    "    while x < 8:\n",
    "        result -= 1/x\n",
    "        x += 1\n",
    "    x = x + 1/2 - 1/2*(3-1/(9*x))**0.5\n",
    "    return result + math.log(x) - 1/(2*x) - 1/(12*x**2)\n"
   ]
  },
  {
   "cell_type": "code",
   "execution_count": 110,
   "id": "11ea8300",
   "metadata": {},
   "outputs": [
    {
     "data": {
      "text/plain": [
       "10.308923792778279"
      ]
     },
     "execution_count": 110,
     "metadata": {},
     "output_type": "execute_result"
    }
   ],
   "source": [
    "digamma(30000)"
   ]
  },
  {
   "cell_type": "code",
   "execution_count": 103,
   "id": "ee7bd21d",
   "metadata": {},
   "outputs": [],
   "source": [
    "import scipy.special as sp"
   ]
  },
  {
   "cell_type": "code",
   "execution_count": 109,
   "id": "46a75b2f",
   "metadata": {},
   "outputs": [
    {
     "data": {
      "text/plain": [
       "10.308935993885033"
      ]
     },
     "execution_count": 109,
     "metadata": {},
     "output_type": "execute_result"
    }
   ],
   "source": [
    "sp.digamma(30000)"
   ]
  },
  {
   "cell_type": "code",
   "execution_count": 111,
   "id": "2a9c6cb7",
   "metadata": {},
   "outputs": [
    {
     "data": {
      "text/plain": [
       "mpf('10.308935993885033')"
      ]
     },
     "execution_count": 111,
     "metadata": {},
     "output_type": "execute_result"
    }
   ],
   "source": [
    "mp.digamma(30000)"
   ]
  },
  {
   "cell_type": "code",
   "execution_count": 114,
   "id": "701c24aa",
   "metadata": {},
   "outputs": [
    {
     "data": {
      "text/plain": [
       "(mpf('0.92278433509846714'),\n",
       " mpf('0.92278433509846714'),\n",
       " mpf('-0.15411380631918858'))"
      ]
     },
     "execution_count": 114,
     "metadata": {},
     "output_type": "execute_result"
    }
   ],
   "source": [
    "mp.digamma(3),mp.psi(0,3),mp.psi(2,3)"
   ]
  },
  {
   "cell_type": "code",
   "execution_count": 124,
   "id": "18cbe8a5",
   "metadata": {},
   "outputs": [
    {
     "data": {
      "text/plain": [
       "(mpf('2.14064147795561'), mpf('2.14064147795561'))"
      ]
     },
     "execution_count": 124,
     "metadata": {},
     "output_type": "execute_result"
    }
   ],
   "source": [
    "mp.digamma(9),mp.psi(0,9)"
   ]
  },
  {
   "cell_type": "code",
   "execution_count": null,
   "id": "1207532d",
   "metadata": {},
   "outputs": [],
   "source": []
  }
 ],
 "metadata": {
  "kernelspec": {
   "display_name": "Python 3 (ipykernel)",
   "language": "python",
   "name": "python3"
  },
  "language_info": {
   "codemirror_mode": {
    "name": "ipython",
    "version": 3
   },
   "file_extension": ".py",
   "mimetype": "text/x-python",
   "name": "python",
   "nbconvert_exporter": "python",
   "pygments_lexer": "ipython3",
   "version": "3.9.12"
  }
 },
 "nbformat": 4,
 "nbformat_minor": 5
}
