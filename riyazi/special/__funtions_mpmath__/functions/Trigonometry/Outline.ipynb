{
 "cells": [
  {
   "cell_type": "markdown",
   "id": "66528e8f",
   "metadata": {},
   "source": [
    "# Trigonometric functions\n",
    "\n",
    "**Degree-radian conversion**\n",
    "\n",
    "- degrees\n",
    "- radian\n",
    "\n",
    "**Trigonometric functions**\n",
    "- sin\n",
    "- cos\n",
    "- tan\n",
    "- sec\n",
    "- csc\n",
    "- cot\n",
    "\n",
    "**Trigonometric functions with modified argument**\n",
    "\n",
    "- cospi\n",
    "- sinpi\n",
    "\n",
    "**Inverse trigonometric functions**\n",
    "\n",
    "- acos\n",
    "- asin\n",
    "- atan\n",
    "- atan2\n",
    "- asec\n",
    "- acsc\n",
    "- acot\n",
    "\n",
    "**Sinc function**\n",
    "\n",
    "- sinc\n",
    "- sincpi\n"
   ]
  },
  {
   "cell_type": "markdown",
   "id": "028f21c5",
   "metadata": {},
   "source": [
    "# Hyperbolic functions\n",
    "\n",
    "- cosh\n",
    "- sinh\n",
    "- tanh\n",
    "- sech\n",
    "- csch\n",
    "- coth\n",
    "\n",
    "**Inverse hyperbolic functions**\n",
    "\n",
    "- acosh\n",
    "- asinh\n",
    "- atanh\n",
    "- asech\n",
    "- acsch\n",
    "- acoth"
   ]
  },
  {
   "cell_type": "code",
   "execution_count": null,
   "id": "c04eaa1f",
   "metadata": {},
   "outputs": [],
   "source": []
  },
  {
   "cell_type": "code",
   "execution_count": null,
   "id": "9d97bbd7",
   "metadata": {},
   "outputs": [],
   "source": []
  }
 ],
 "metadata": {
  "kernelspec": {
   "display_name": "Python 3 (ipykernel)",
   "language": "python",
   "name": "python3"
  },
  "language_info": {
   "codemirror_mode": {
    "name": "ipython",
    "version": 3
   },
   "file_extension": ".py",
   "mimetype": "text/x-python",
   "name": "python",
   "nbconvert_exporter": "python",
   "pygments_lexer": "ipython3",
   "version": "3.9.12"
  }
 },
 "nbformat": 4,
 "nbformat_minor": 5
}
