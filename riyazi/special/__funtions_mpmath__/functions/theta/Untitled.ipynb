{
 "cells": [
  {
   "cell_type": "markdown",
   "id": "5ce74646",
   "metadata": {},
   "source": [
    "https://math.stackexchange.com/questions/4472449/summation-in-the-form-of-jacobi-theta-function"
   ]
  },
  {
   "cell_type": "markdown",
   "id": "dde9e08a",
   "metadata": {},
   "source": [
    "https://en.wikipedia.org/wiki/Theta_function"
   ]
  },
  {
   "cell_type": "markdown",
   "id": "1626ba9c",
   "metadata": {},
   "source": [
    "https://mathworld.wolfram.com/JacobiThetaFunctions.html"
   ]
  },
  {
   "cell_type": "code",
   "execution_count": 2,
   "id": "97792d7e",
   "metadata": {},
   "outputs": [],
   "source": [
    "def p(t):\n",
    "    \"\"\"Basic rectangular pulse\"\"\"\n",
    "    return 1 * (abs(t) < 0.5)\n",
    "\n",
    "def pt(t):\n",
    "    \"\"\" Basic triangular pulse\"\"\"\n",
    "    return (1 - abs(t)) * (abs(t) < 1)\n",
    "\n",
    "def sgn(t):\n",
    "    \"\"\"Sign function\"\"\"\n",
    "    return 1 * (t >= 0) - 1 * (t < 0)\n",
    "\n",
    "def u(t):\n",
    "    \"\"\"Unit step function\"\"\"\n",
    "    return 1 * (t >= 0)\n"
   ]
  },
  {
   "cell_type": "code",
   "execution_count": 4,
   "id": "503698ad",
   "metadata": {},
   "outputs": [
    {
     "data": {
      "text/plain": [
       "-1"
      ]
     },
     "execution_count": 4,
     "metadata": {},
     "output_type": "execute_result"
    }
   ],
   "source": [
    "s"
   ]
  },
  {
   "cell_type": "code",
   "execution_count": null,
   "id": "09432758",
   "metadata": {},
   "outputs": [],
   "source": []
  }
 ],
 "metadata": {
  "kernelspec": {
   "display_name": "Python 3 (ipykernel)",
   "language": "python",
   "name": "python3"
  },
  "language_info": {
   "codemirror_mode": {
    "name": "ipython",
    "version": 3
   },
   "file_extension": ".py",
   "mimetype": "text/x-python",
   "name": "python",
   "nbconvert_exporter": "python",
   "pygments_lexer": "ipython3",
   "version": "3.9.12"
  }
 },
 "nbformat": 4,
 "nbformat_minor": 5
}
