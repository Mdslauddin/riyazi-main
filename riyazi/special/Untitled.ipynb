{
 "cells": [
  {
   "cell_type": "code",
   "execution_count": 1,
   "id": "306e85e2",
   "metadata": {},
   "outputs": [],
   "source": [
    "import scipy.special as sp"
   ]
  },
  {
   "cell_type": "code",
   "execution_count": 3,
   "id": "1417366f",
   "metadata": {},
   "outputs": [
    {
     "data": {
      "text/plain": [
       "array([2.47468044, 3.9362355 , 4.78901358])"
      ]
     },
     "execution_count": 3,
     "metadata": {},
     "output_type": "execute_result"
    }
   ],
   "source": [
    "sp.agm([2,5,7],3)"
   ]
  },
  {
   "cell_type": "code",
   "execution_count": 4,
   "id": "6289454b",
   "metadata": {},
   "outputs": [
    {
     "data": {
      "text/plain": [
       "2.4746804362363046"
      ]
     },
     "execution_count": 4,
     "metadata": {},
     "output_type": "execute_result"
    }
   ],
   "source": [
    "sp.agm(2,3)"
   ]
  },
  {
   "cell_type": "code",
   "execution_count": 23,
   "id": "bfb12fb4",
   "metadata": {},
   "outputs": [],
   "source": [
    "from decimal import getcontext"
   ]
  },
  {
   "cell_type": "code",
   "execution_count": 24,
   "id": "707f4755",
   "metadata": {},
   "outputs": [],
   "source": [
    "getcontext().prec = 10000"
   ]
  },
  {
   "cell_type": "code",
   "execution_count": 25,
   "id": "ee25cccd",
   "metadata": {},
   "outputs": [],
   "source": [
    "from math import sqrt\n",
    "def agm(a,b):\n",
    "    \n",
    "    an_1 = (a+b)/2 # *0.5\n",
    "    bn_1 = sqrt(a*b)\n",
    "    return an_1,bn_1\n",
    "        "
   ]
  },
  {
   "cell_type": "code",
   "execution_count": 26,
   "id": "2ca26b82",
   "metadata": {},
   "outputs": [
    {
     "data": {
      "text/plain": [
       "(2.5, 2.449489742783178)"
      ]
     },
     "execution_count": 26,
     "metadata": {},
     "output_type": "execute_result"
    }
   ],
   "source": [
    "agm(2,3)"
   ]
  },
  {
   "cell_type": "code",
   "execution_count": 12,
   "id": "24f645b3",
   "metadata": {},
   "outputs": [
    {
     "data": {
      "text/plain": [
       "13.952943920122609"
      ]
     },
     "execution_count": 12,
     "metadata": {},
     "output_type": "execute_result"
    }
   ],
   "source": [
    "sp.agm(9,20)"
   ]
  },
  {
   "cell_type": "code",
   "execution_count": 30,
   "id": "aefb54d5",
   "metadata": {},
   "outputs": [
    {
     "data": {
      "text/plain": [
       "1395.2943920122607"
      ]
     },
     "execution_count": 30,
     "metadata": {},
     "output_type": "execute_result"
    }
   ],
   "source": [
    "sp.agm(2000,900)"
   ]
  },
  {
   "cell_type": "code",
   "execution_count": 29,
   "id": "aa619140",
   "metadata": {
    "scrolled": true
   },
   "outputs": [
    {
     "data": {
      "text/plain": [
       "(1450.0, 1341.640786499874)"
      ]
     },
     "execution_count": 29,
     "metadata": {},
     "output_type": "execute_result"
    }
   ],
   "source": [
    "agm(2000,900)"
   ]
  },
  {
   "cell_type": "code",
   "execution_count": 13,
   "id": "fa89a49a",
   "metadata": {
    "scrolled": true
   },
   "outputs": [
    {
     "data": {
      "text/plain": [
       "(14.5, 13.416407864998739)"
      ]
     },
     "execution_count": 13,
     "metadata": {},
     "output_type": "execute_result"
    }
   ],
   "source": [
    "agm(9,20)"
   ]
  },
  {
   "cell_type": "code",
   "execution_count": 19,
   "id": "eb49c77c",
   "metadata": {},
   "outputs": [
    {
     "data": {
      "text/plain": [
       "0.025190693453126745"
      ]
     },
     "execution_count": 19,
     "metadata": {},
     "output_type": "execute_result"
    }
   ],
   "source": [
    "2.4746804362363046- 2.449489742783178"
   ]
  },
  {
   "cell_type": "code",
   "execution_count": 21,
   "id": "d05e5a9a",
   "metadata": {},
   "outputs": [
    {
     "data": {
      "text/plain": [
       "3.4820276763595706"
      ]
     },
     "execution_count": 21,
     "metadata": {},
     "output_type": "execute_result"
    }
   ],
   "source": [
    "sp.agm(3,4)"
   ]
  },
  {
   "cell_type": "code",
   "execution_count": 22,
   "id": "5a0bb081",
   "metadata": {},
   "outputs": [
    {
     "data": {
      "text/plain": [
       "mpf('3.4820276763595706')"
      ]
     },
     "execution_count": 22,
     "metadata": {},
     "output_type": "execute_result"
    }
   ],
   "source": [
    "mpmath.agm(3,4)"
   ]
  },
  {
   "cell_type": "code",
   "execution_count": null,
   "id": "7ee56858",
   "metadata": {},
   "outputs": [],
   "source": []
  },
  {
   "cell_type": "markdown",
   "id": "0fe42247",
   "metadata": {},
   "source": [
    "https://www.geeksforgeeks.org/python-program-to-compute-a-polynomial-equation/"
   ]
  },
  {
   "cell_type": "markdown",
   "id": "769fd83f",
   "metadata": {},
   "source": [
    "https://en.wikipedia.org/wiki/Orthogonal_polynomials"
   ]
  },
  {
   "cell_type": "code",
   "execution_count": 2,
   "id": "d7e0d7e6",
   "metadata": {},
   "outputs": [],
   "source": [
    "def horner(poly, n, x):\n",
    "    result = poly[0]\n",
    "    for i in range(1,n):\n",
    "        result = result*x +poly[i]\n",
    "    return result "
   ]
  },
  {
   "cell_type": "code",
   "execution_count": 9,
   "id": "bfe710ed",
   "metadata": {},
   "outputs": [
    {
     "data": {
      "text/plain": [
       "5"
      ]
     },
     "execution_count": 9,
     "metadata": {},
     "output_type": "execute_result"
    }
   ],
   "source": [
    "horner([2,-6,2,-1],4,3)"
   ]
  },
  {
   "cell_type": "code",
   "execution_count": 1,
   "id": "c9bb4064",
   "metadata": {},
   "outputs": [
    {
     "name": "stdout",
     "output_type": "stream",
     "text": [
      "Value of polynomial is: 5\n"
     ]
    }
   ],
   "source": [
    "# + poly[1]x(n-2) + .. + poly[n-1]\n",
    "def horner(poly, n, x):\n",
    "\n",
    "\t# Initialize result\n",
    "\tresult = poly[0]\n",
    "\n",
    "\t# Evaluate value of polynomial\n",
    "\t# using Horner's method\n",
    "\tfor i in range(1, n):\n",
    "\n",
    "\t\tresult = result*x + poly[i]\n",
    "\n",
    "\treturn result\n",
    "\n",
    "# Driver program to\n",
    "# test above function.\n",
    "\n",
    "\n",
    "# Let us evaluate value of\n",
    "# 2x3 - 6x2 + 2x - 1 for x = 3\n",
    "poly = [2, -6, 2, -1]\n",
    "x = 3\n",
    "n = len(poly)\n",
    "\n",
    "print(\"Value of polynomial is:\", horner(poly, n, x))\n"
   ]
  },
  {
   "cell_type": "code",
   "execution_count": 20,
   "id": "9c06c780",
   "metadata": {},
   "outputs": [],
   "source": [
    "import mpmath"
   ]
  },
  {
   "cell_type": "code",
   "execution_count": null,
   "id": "cee621ab",
   "metadata": {},
   "outputs": [],
   "source": [
    "mpmath.agm()"
   ]
  },
  {
   "cell_type": "code",
   "execution_count": null,
   "id": "4b96cb8a",
   "metadata": {},
   "outputs": [],
   "source": []
  },
  {
   "cell_type": "code",
   "execution_count": null,
   "id": "296ae3c8",
   "metadata": {},
   "outputs": [],
   "source": []
  },
  {
   "cell_type": "code",
   "execution_count": null,
   "id": "568f3404",
   "metadata": {},
   "outputs": [],
   "source": []
  },
  {
   "cell_type": "code",
   "execution_count": null,
   "id": "2439ec71",
   "metadata": {},
   "outputs": [],
   "source": []
  },
  {
   "cell_type": "code",
   "execution_count": null,
   "id": "e5e6aa59",
   "metadata": {},
   "outputs": [],
   "source": []
  },
  {
   "cell_type": "code",
   "execution_count": null,
   "id": "df9e5857",
   "metadata": {},
   "outputs": [],
   "source": []
  },
  {
   "cell_type": "code",
   "execution_count": null,
   "id": "88a35584",
   "metadata": {},
   "outputs": [],
   "source": []
  },
  {
   "cell_type": "code",
   "execution_count": null,
   "id": "26149477",
   "metadata": {},
   "outputs": [],
   "source": []
  },
  {
   "cell_type": "code",
   "execution_count": null,
   "id": "8ca16a47",
   "metadata": {},
   "outputs": [],
   "source": []
  },
  {
   "cell_type": "code",
   "execution_count": null,
   "id": "671b9251",
   "metadata": {},
   "outputs": [],
   "source": []
  },
  {
   "cell_type": "code",
   "execution_count": null,
   "id": "e2ba395e",
   "metadata": {},
   "outputs": [],
   "source": []
  },
  {
   "cell_type": "code",
   "execution_count": null,
   "id": "24e8773a",
   "metadata": {},
   "outputs": [],
   "source": []
  },
  {
   "cell_type": "raw",
   "id": "05324669",
   "metadata": {},
   "source": [
    "from .trig import ( sin, cos, sec, csc, cot, tan,\n",
    "                   asin, acos, atan,\n",
    "                   acot, acsc, asec,\n",
    "                   arcsin, arccos, arctan,\n",
    "                   arccot, arccsc, arcsec,\n",
    "                   arctan2, atan2)\n",
    "                   \n",
    "                   \n",
    "\n",
    "from .hyperbolic import ( tanh, sinh, cosh, coth, sech, csch,\n",
    "                         asinh, acosh, atanh, acoth, asech, acsch,\n",
    "                         arcsinh, arccosh, arctanh, arccoth, arcsech, arccsch )\n",
    "                         \n",
    "                         \n",
    "                         \n",
    "\n",
    "reciprocal_trig_functions = {'sec': cos, 'csc': sin, 'cot': tan, 'sech': cosh, 'csch': sinh, 'coth': tanh}\n",
    "\n",
    "\n",
    "\n",
    "\n",
    "\n",
    "\n",
    "from .other import ( ceil, floor, abs_symbolic, sqrt, real_nth_root,\n",
    "                    arg, real_part, real, frac,\n",
    "                    factorial, binomial,\n",
    "                    imag_part, imag, imaginary, conjugate, cases,\n",
    "                    complex_root_of)\n",
    "                    \n",
    "                    \n",
    "                    \n",
    "                    \n",
    "\n",
    "from .log import (exp, exp_polar, log, ln, polylog, dilog, lambert_w, harmonic_number)\n",
    "\n",
    "\n",
    "\n",
    "from .transcendental import (zeta, zetaderiv, zeta_symmetric, hurwitz_zeta,\n",
    "                            dickman_rho, stieltjes)\n",
    "\n",
    "\n",
    "\n",
    "\n",
    "\n",
    "from .bessel import (bessel_I, bessel_J, bessel_K, bessel_Y,\n",
    "                    Bessel, struve_H, struve_L, hankel1, hankel2,\n",
    "                                   spherical_bessel_J, spherical_bessel_Y,\n",
    "                                   spherical_hankel1, spherical_hankel2)\n",
    "\n",
    "\n",
    "\n",
    "\n",
    "from .special import (spherical_harmonic, elliptic_e,\n",
    "                     elliptic_f, elliptic_ec, elliptic_eu,\n",
    "                     elliptic_kc, elliptic_pi, elliptic_j)\n",
    "                     \n",
    "                     \n",
    "                     \n",
    "                     \n",
    "\n",
    "from .jacobi import (jacobi, inverse_jacobi, jacobi_nd, jacobi_ns, jacobi_nc,\n",
    "                    jacobi_dn, jacobi_ds, jacobi_dc, jacobi_sn, jacobi_sd,\n",
    "                    jacobi_sc, jacobi_cn, jacobi_cd, jacobi_cs, jacobi_am,\n",
    "                    inverse_jacobi_nd, inverse_jacobi_ns, inverse_jacobi_nc,\n",
    "                    inverse_jacobi_dn, inverse_jacobi_ds, inverse_jacobi_dc,\n",
    "                    inverse_jacobi_sn, inverse_jacobi_sd, inverse_jacobi_sc,\n",
    "                    inverse_jacobi_cn, inverse_jacobi_cd, inverse_jacobi_cs)\n",
    "                    \n",
    "                    \n",
    "                    \n",
    "                    \n",
    "                    \n",
    "                    \n",
    "\n",
    "from .orthogonal_polys import (chebyshev_T,\n",
    "                               chebyshev_U,\n",
    "                               gen_laguerre,\n",
    "                               gen_legendre_P,\n",
    "                               gen_legendre_Q,\n",
    "                               hermite,\n",
    "                               jacobi_P,\n",
    "                               laguerre,\n",
    "                               legendre_P,\n",
    "                               legendre_Q,\n",
    "                               ultraspherical,\n",
    "                               gegenbauer,\n",
    "                               krawtchouk,\n",
    "                               meixner,\n",
    "                               hahn)"
   ]
  },
  {
   "cell_type": "code",
   "execution_count": null,
   "id": "5e889e0b",
   "metadata": {},
   "outputs": [],
   "source": []
  }
 ],
 "metadata": {
  "kernelspec": {
   "display_name": "Python 3 (ipykernel)",
   "language": "python",
   "name": "python3"
  },
  "language_info": {
   "codemirror_mode": {
    "name": "ipython",
    "version": 3
   },
   "file_extension": ".py",
   "mimetype": "text/x-python",
   "name": "python",
   "nbconvert_exporter": "python",
   "pygments_lexer": "ipython3",
   "version": "3.9.12"
  }
 },
 "nbformat": 4,
 "nbformat_minor": 5
}
