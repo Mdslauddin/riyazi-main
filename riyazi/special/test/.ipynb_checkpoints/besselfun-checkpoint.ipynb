{
 "cells": [
  {
   "cell_type": "code",
   "execution_count": null,
   "id": "a4fbb0d3",
   "metadata": {},
   "outputs": [],
   "source": [
    "import mpmath \n",
    "from math import gamma\n",
    "def besselJ(n,x):\n",
    "    return (pow(x,n)/(pow(2,n*gamma(n+1)))) * (mpmath.hyp0f1(n+1,(-1*(pow(x,2)/4))))"
   ]
  },
  {
   "cell_type": "code",
   "execution_count": null,
   "id": "b396e674",
   "metadata": {},
   "outputs": [],
   "source": [
    "from math import cos,pi,sin\n",
    "def bessely(x):\n",
    "    return (besselJ(n,x)* cos(pi*n)-besselJ(-n,x)) / (sin(pi*n))"
   ]
  },
  {
   "cell_type": "code",
   "execution_count": 1,
   "id": "6ad62e5e",
   "metadata": {},
   "outputs": [],
   "source": [
    "def besseli():\n",
    "    pass"
   ]
  },
  {
   "cell_type": "code",
   "execution_count": 2,
   "id": "215dc6c6",
   "metadata": {},
   "outputs": [],
   "source": [
    "def besselk():\n",
    "    pass"
   ]
  },
  {
   "cell_type": "code",
   "execution_count": null,
   "id": "b37b74b3",
   "metadata": {},
   "outputs": [],
   "source": []
  }
 ],
 "metadata": {
  "kernelspec": {
   "display_name": "Python 3 (ipykernel)",
   "language": "python",
   "name": "python3"
  },
  "language_info": {
   "codemirror_mode": {
    "name": "ipython",
    "version": 3
   },
   "file_extension": ".py",
   "mimetype": "text/x-python",
   "name": "python",
   "nbconvert_exporter": "python",
   "pygments_lexer": "ipython3",
   "version": "3.9.12"
  }
 },
 "nbformat": 4,
 "nbformat_minor": 5
}
