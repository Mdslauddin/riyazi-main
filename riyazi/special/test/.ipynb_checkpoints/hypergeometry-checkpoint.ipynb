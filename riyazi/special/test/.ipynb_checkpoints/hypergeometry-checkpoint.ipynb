{
 "cells": [
  {
   "cell_type": "code",
   "execution_count": null,
   "id": "b200d55a",
   "metadata": {},
   "outputs": [],
   "source": [
    "import mpmath "
   ]
  },
  {
   "cell_type": "code",
   "execution_count": null,
   "id": "66f71138",
   "metadata": {},
   "outputs": [],
   "source": [
    "mpmath.hyp0f1(3,4)"
   ]
  },
  {
   "cell_type": "code",
   "execution_count": null,
   "id": "7096b1fe",
   "metadata": {},
   "outputs": [],
   "source": [
    "mpmath.hyp0f1(3,1)"
   ]
  },
  {
   "cell_type": "code",
   "execution_count": null,
   "id": "c237b197",
   "metadata": {},
   "outputs": [],
   "source": [
    "def hyp0f1(ctx,b,z,**kwargs):\n",
    "    return ctx.hyper([],[b],z,**kwargs)"
   ]
  },
  {
   "cell_type": "code",
   "execution_count": null,
   "id": "3a94d53c",
   "metadata": {},
   "outputs": [],
   "source": [
    " # Handle special cases\n",
    "    if p == 0:\n",
    "        if   q == 1: return ctx._hyp0f1(b_s, z, **kwargs)\n",
    "        elif q == 0: return ctx.exp(z)\n",
    "    elif p == 1:\n",
    "        if   q == 1: return ctx._hyp1f1(a_s, b_s, z, **kwargs)\n",
    "        elif q == 2: return ctx._hyp1f2(a_s, b_s, z, **kwargs)\n",
    "        elif q == 0: return ctx._hyp1f0(a_s[0][0], z)\n",
    "    elif p == 2:\n",
    "        if   q == 1: return ctx._hyp2f1(a_s, b_s, z, **kwargs)\n",
    "        elif q == 2: return ctx._hyp2f2(a_s, b_s, z, **kwargs)\n",
    "        elif q == 3: return ctx._hyp2f3(a_s, b_s, z, **kwargs)\n",
    "        elif q == 0: return ctx._hyp2f0(a_s, b_s, z, **kwargs)\n",
    "    elif p == q+1:\n",
    "        return ctx._hypq1fq(p, q, a_s, b_s, z, **kwargs)\n",
    "    elif p > q+1 and not kwargs.get('force_series'):\n",
    "        return ctx._hyp_borel(p, q, a_s, b_s, z, **kwargs)\n",
    "    coeffs, types = zip(*(a_s+b_s))\n",
    "    return ctx.hypsum(p, q, types, coeffs, z, **kwargs)"
   ]
  },
  {
   "cell_type": "markdown",
   "id": "8694825a",
   "metadata": {},
   "source": [
    "https://mathworld.wolfram.com/HypergeometricFunction.html#:~:text=A%20generalized%20hypergeometric%20function%20is%20a%20function%20which,denominator%20is%20present%20for%20historical%20reasons%20of%20notation.%29"
   ]
  },
  {
   "cell_type": "code",
   "execution_count": null,
   "id": "c6cc1b7d",
   "metadata": {},
   "outputs": [],
   "source": [
    "def hyper(ctx, a_s, b_s, z, **kwargs):\n",
    "    \"\"\"\n",
    "    Hypergeometric function, general case.\n",
    "    \"\"\"\n",
    "    z = ctx.convert(z)\n",
    "    p = len(a_s)\n",
    "    q = len(b_s)\n",
    "    a_s = [ctx._convert_param(a) for a in a_s]\n",
    "    b_s = [ctx._convert_param(b) for b in b_s]\n",
    "    # Reduce degree by eliminating common parameters\n",
    "    if kwargs.get('eliminate', True):\n",
    "        elim_nonpositive = kwargs.get('eliminate_all', False)\n",
    "        i = 0\n",
    "        while i < q and a_s:\n",
    "            b = b_s[i]\n",
    "            if b in a_s and (elim_nonpositive or not ctx.isnpint(b[0])):\n",
    "                a_s.remove(b)\n",
    "                b_s.remove(b)\n",
    "                p -= 1\n",
    "                q -= 1\n",
    "            else:\n",
    "                i += 1\n",
    "    # Handle special cases\n",
    "    if p == 0:\n",
    "        if   q == 1: return ctx._hyp0f1(b_s, z, **kwargs)\n",
    "        elif q == 0: return ctx.exp(z)\n",
    "    elif p == 1:\n",
    "        if   q == 1: return ctx._hyp1f1(a_s, b_s, z, **kwargs)\n",
    "        elif q == 2: return ctx._hyp1f2(a_s, b_s, z, **kwargs)\n",
    "        elif q == 0: return ctx._hyp1f0(a_s[0][0], z)\n",
    "    elif p == 2:\n",
    "        if   q == 1: return ctx._hyp2f1(a_s, b_s, z, **kwargs)\n",
    "        elif q == 2: return ctx._hyp2f2(a_s, b_s, z, **kwargs)\n",
    "        elif q == 3: return ctx._hyp2f3(a_s, b_s, z, **kwargs)\n",
    "        elif q == 0: return ctx._hyp2f0(a_s, b_s, z, **kwargs)\n",
    "    elif p == q+1:\n",
    "        return ctx._hypq1fq(p, q, a_s, b_s, z, **kwargs)\n",
    "    elif p > q+1 and not kwargs.get('force_series'):\n",
    "        return ctx._hyp_borel(p, q, a_s, b_s, z, **kwargs)\n",
    "    coeffs, types = zip(*(a_s+b_s))\n",
    "    return ctx.hypsum(p, q, types, coeffs, z, **kwargs)"
   ]
  },
  {
   "cell_type": "code",
   "execution_count": null,
   "id": "49c0ca64",
   "metadata": {},
   "outputs": [],
   "source": [
    "@defun\n",
    "def hyp0f1(ctx,b,z,**kwargs):\n",
    "    return ctx.hyper([],[b],z,**kwargs)\n",
    "\n",
    "@defun\n",
    "def hyp1f1(ctx,a,b,z,**kwargs):\n",
    "    return ctx.hyper([a],[b],z,**kwargs)\n",
    "\n",
    "@defun\n",
    "def hyp1f2(ctx,a1,b1,b2,z,**kwargs):\n",
    "    return ctx.hyper([a1],[b1,b2],z,**kwargs)\n",
    "\n",
    "@defun\n",
    "def hyp2f1(ctx,a,b,c,z,**kwargs):\n",
    "    return ctx.hyper([a,b],[c],z,**kwargs)\n",
    "\n",
    "@defun\n",
    "def hyp2f2(ctx,a1,a2,b1,b2,z,**kwargs):\n",
    "    return ctx.hyper([a1,a2],[b1,b2],z,**kwargs)\n",
    "\n",
    "@defun\n",
    "def hyp2f3(ctx,a1,a2,b1,b2,b3,z,**kwargs):\n",
    "    return ctx.hyper([a1,a2],[b1,b2,b3],z,**kwargs)\n",
    "\n",
    "@defun\n",
    "def hyp2f0(ctx,a,b,z,**kwargs):\n",
    "    return ctx.hyper([a,b],[],z,**kwargs)\n",
    "\n",
    "@defun\n",
    "def hyp3f2(ctx,a1,a2,a3,b1,b2,z,**kwargs):\n",
    "    return ctx.hyper([a1,a2,a3],[b1,b2],z,**kwargs)\n"
   ]
  },
  {
   "cell_type": "code",
   "execution_count": null,
   "id": "047d3f15",
   "metadata": {},
   "outputs": [],
   "source": [
    "import math\n",
    "import cmath\n",
    "def hyp2f1(z):\n",
    "    return cmath.log(1+z)/z"
   ]
  },
  {
   "cell_type": "code",
   "execution_count": null,
   "id": "71b1ae49",
   "metadata": {},
   "outputs": [],
   "source": [
    "hyp2f1(3)"
   ]
  },
  {
   "cell_type": "code",
   "execution_count": null,
   "id": "1f8f9e04",
   "metadata": {},
   "outputs": [],
   "source": [
    "def hyp2f1(x,a):\n",
    "    return (pow(1-x,a)+pow(1-x,-a))/2\n"
   ]
  },
  {
   "cell_type": "code",
   "execution_count": null,
   "id": "14bbbb46",
   "metadata": {},
   "outputs": [],
   "source": [
    "mpmath.hyp2f1(3,-3,0.5,4,)"
   ]
  },
  {
   "cell_type": "code",
   "execution_count": null,
   "id": "12547dbf",
   "metadata": {},
   "outputs": [],
   "source": [
    "hyp2f1(3,4)"
   ]
  },
  {
   "cell_type": "code",
   "execution_count": null,
   "id": "1a908031",
   "metadata": {},
   "outputs": [],
   "source": [
    "mpmath.elip"
   ]
  },
  {
   "cell_type": "markdown",
   "id": "5267889f",
   "metadata": {},
   "source": [
    "# The complete elliptic integral"
   ]
  },
  {
   "cell_type": "code",
   "execution_count": null,
   "id": "cbcca958",
   "metadata": {},
   "outputs": [],
   "source": [
    "def K(k):\n",
    "    pi_div= 3.1415926535897/2\n",
    "    return pi_div*(mpmath.hyp2f1(0.5,0.5,1,(k**2)))"
   ]
  },
  {
   "cell_type": "code",
   "execution_count": null,
   "id": "a7f5b17a",
   "metadata": {
    "scrolled": true
   },
   "outputs": [],
   "source": [
    "K(3)"
   ]
  },
  {
   "cell_type": "code",
   "execution_count": null,
   "id": "538ee5be",
   "metadata": {},
   "outputs": [],
   "source": [
    "def E(k):\n",
    "    pi_div= 3.1415926535897/2\n",
    "    return pi_div*(mpmath.hyp2f1(-0.5,0.5,1,(k**2)))"
   ]
  },
  {
   "cell_type": "code",
   "execution_count": null,
   "id": "4a6e1e2c",
   "metadata": {},
   "outputs": [],
   "source": [
    "E(3)"
   ]
  },
  {
   "cell_type": "markdown",
   "id": "c0a2081e",
   "metadata": {},
   "source": [
    "# Incomplete elliptic integral "
   ]
  },
  {
   "cell_type": "code",
   "execution_count": null,
   "id": "954b0d19",
   "metadata": {},
   "outputs": [],
   "source": [
    "import mpmath\n",
    "def B(x,p,q):\n",
    "    return (pow(x,p)/p) * (mpmath.hyp2f1(p,1-q,p+1,x))"
   ]
  },
  {
   "cell_type": "markdown",
   "id": "281b3f3b",
   "metadata": {},
   "source": [
    "https://www.statisticshowto.com/beta-function/#:~:text=The%20incomplete%20beta%20function%20%28also%20called%20the%20Euler,%E2%89%A4%20x%20%E2%89%A4%201%2C%20a%2C%20b%20%3E%200."
   ]
  },
  {
   "cell_type": "code",
   "execution_count": null,
   "id": "77820416",
   "metadata": {},
   "outputs": [],
   "source": [
    "B(1,3,0.4)"
   ]
  },
  {
   "cell_type": "code",
   "execution_count": null,
   "id": "774a5678",
   "metadata": {},
   "outputs": [],
   "source": [
    "B(1,5,0.9)"
   ]
  },
  {
   "cell_type": "code",
   "execution_count": null,
   "id": "3c90382f",
   "metadata": {},
   "outputs": [],
   "source": [
    "B(2,3,0.4)"
   ]
  },
  {
   "cell_type": "code",
   "execution_count": null,
   "id": "d8bb051f",
   "metadata": {},
   "outputs": [],
   "source": [
    "def I(x,a,b):\n",
    "    return B(x,a,b)/ B(a,b)"
   ]
  },
  {
   "cell_type": "markdown",
   "id": "aceff393",
   "metadata": {},
   "source": [
    "# Barnes integral"
   ]
  },
  {
   "cell_type": "code",
   "execution_count": null,
   "id": "2ec84fe1",
   "metadata": {},
   "outputs": [],
   "source": [
    "from math import gamma\n",
    "def barnes(a,b,c,z):\n",
    "    return ((gamma(a)*gamma(b))/ gamma(c)) *(mpmath.hyp2f1(a,b,c,z))"
   ]
  },
  {
   "cell_type": "code",
   "execution_count": null,
   "id": "c2f92f4c",
   "metadata": {},
   "outputs": [],
   "source": [
    "barnes(2,3,4,5)"
   ]
  },
  {
   "cell_type": "code",
   "execution_count": null,
   "id": "b79303f7",
   "metadata": {},
   "outputs": [],
   "source": [
    "mpmath.barnesg(30)"
   ]
  },
  {
   "cell_type": "markdown",
   "id": "a42d4095",
   "metadata": {},
   "source": [
    "https://en.wikipedia.org/wiki/Hypergeometric_function"
   ]
  },
  {
   "cell_type": "markdown",
   "id": "1cd02f98",
   "metadata": {},
   "source": [
    "https://fungrim.org/topic/Gauss_hypergeometric_function.html"
   ]
  },
  {
   "cell_type": "code",
   "execution_count": null,
   "id": "6993d31d",
   "metadata": {},
   "outputs": [],
   "source": [
    "mpmath.hyp2f1(1,3,6,1)"
   ]
  },
  {
   "cell_type": "code",
   "execution_count": null,
   "id": "b9b1c1cd",
   "metadata": {},
   "outputs": [],
   "source": [
    "#https://en.wikipedia.org/wiki/Hypergeometric_function\n",
    "from math import gamma\n",
    "def gausum(a,b,c):\n",
    "    return (gamma(c)*gamma(c-a-b))/ gamma(c-a)*gamma(c-b)"
   ]
  },
  {
   "cell_type": "code",
   "execution_count": null,
   "id": "01abe930",
   "metadata": {
    "scrolled": true
   },
   "outputs": [],
   "source": [
    "mpmath.hyp2f1(1,3,5,1)"
   ]
  },
  {
   "cell_type": "code",
   "execution_count": null,
   "id": "64d0e249",
   "metadata": {},
   "outputs": [],
   "source": [
    "mpmath.hyp2f1(1,4,6,1)"
   ]
  },
  {
   "cell_type": "code",
   "execution_count": null,
   "id": "4d0e78e4",
   "metadata": {},
   "outputs": [],
   "source": [
    "gausum(1,4,6)"
   ]
  },
  {
   "cell_type": "code",
   "execution_count": null,
   "id": "3f9d4492",
   "metadata": {},
   "outputs": [],
   "source": []
  },
  {
   "cell_type": "code",
   "execution_count": null,
   "id": "736cda45",
   "metadata": {},
   "outputs": [],
   "source": []
  },
  {
   "cell_type": "code",
   "execution_count": null,
   "id": "ffbb8da6",
   "metadata": {},
   "outputs": [],
   "source": []
  },
  {
   "cell_type": "code",
   "execution_count": null,
   "id": "7d8d3609",
   "metadata": {},
   "outputs": [],
   "source": [
    "mpmath.hyp2f1(1,1,2,3)"
   ]
  },
  {
   "cell_type": "markdown",
   "id": "cf9d816d",
   "metadata": {},
   "source": [
    "import math \n",
    "def hyp0f1(a,z):\n",
    "    for k in range(1,10):\n",
    "     \n",
    "        x = (1/(a*k))* ((pow(z,k)*math.factorial(k)))\n",
    "    return x\n",
    "        "
   ]
  },
  {
   "cell_type": "code",
   "execution_count": null,
   "id": "5329c9f2",
   "metadata": {},
   "outputs": [],
   "source": [
    "hyp0f1(3,4)"
   ]
  },
  {
   "cell_type": "code",
   "execution_count": null,
   "id": "365ba700",
   "metadata": {},
   "outputs": [],
   "source": [
    "mpmath.hyp0f1(1, 10**50)"
   ]
  },
  {
   "cell_type": "code",
   "execution_count": null,
   "id": "96fe9a12",
   "metadata": {
    "scrolled": true
   },
   "outputs": [],
   "source": [
    "hyp0f1(1,10**50)"
   ]
  },
  {
   "cell_type": "code",
   "execution_count": null,
   "id": "b9caa044",
   "metadata": {},
   "outputs": [],
   "source": []
  },
  {
   "cell_type": "code",
   "execution_count": null,
   "id": "886517d2",
   "metadata": {},
   "outputs": [],
   "source": []
  },
  {
   "cell_type": "code",
   "execution_count": null,
   "id": "f3662226",
   "metadata": {},
   "outputs": [],
   "source": []
  },
  {
   "cell_type": "code",
   "execution_count": null,
   "id": "715c7ced",
   "metadata": {},
   "outputs": [],
   "source": []
  },
  {
   "cell_type": "code",
   "execution_count": null,
   "id": "7ab6bdfb",
   "metadata": {},
   "outputs": [],
   "source": []
  },
  {
   "cell_type": "code",
   "execution_count": null,
   "id": "391e78ec",
   "metadata": {},
   "outputs": [],
   "source": []
  },
  {
   "cell_type": "code",
   "execution_count": null,
   "id": "2a4fddac",
   "metadata": {},
   "outputs": [],
   "source": []
  },
  {
   "cell_type": "code",
   "execution_count": null,
   "id": "9052d8bc",
   "metadata": {},
   "outputs": [],
   "source": []
  },
  {
   "cell_type": "code",
   "execution_count": null,
   "id": "0161323b",
   "metadata": {},
   "outputs": [],
   "source": []
  },
  {
   "cell_type": "code",
   "execution_count": null,
   "id": "ad5ff779",
   "metadata": {},
   "outputs": [],
   "source": []
  },
  {
   "cell_type": "code",
   "execution_count": null,
   "id": "83afb1a4",
   "metadata": {},
   "outputs": [],
   "source": []
  },
  {
   "cell_type": "code",
   "execution_count": null,
   "id": "bdc731d4",
   "metadata": {},
   "outputs": [],
   "source": []
  },
  {
   "cell_type": "code",
   "execution_count": null,
   "id": "2f476f93",
   "metadata": {},
   "outputs": [],
   "source": [
    "import scipy.special as spc"
   ]
  },
  {
   "cell_type": "code",
   "execution_count": null,
   "id": "4cb90a04",
   "metadata": {},
   "outputs": [],
   "source": [
    "spc.poch(2,3)"
   ]
  },
  {
   "cell_type": "code",
   "execution_count": null,
   "id": "9bf61cba",
   "metadata": {},
   "outputs": [],
   "source": [
    "import math\n",
    "import scipy.special as spc\n",
    "y = float\n",
    "def hyp0f1(v,z):\n",
    "    x= 0\n",
    "    for k in range(0,100):\n",
    "        x += (pow(z,k)/ (spc.poch(v,k)*math.factorial(k)))\n",
    "      \n",
    "      \n",
    "    return x\n",
    "        "
   ]
  },
  {
   "cell_type": "code",
   "execution_count": null,
   "id": "a6481404",
   "metadata": {
    "scrolled": true
   },
   "outputs": [],
   "source": [
    "hyp0f1(3,4)"
   ]
  },
  {
   "cell_type": "code",
   "execution_count": null,
   "id": "6595df44",
   "metadata": {},
   "outputs": [],
   "source": [
    "hyp0f1(4,2)"
   ]
  },
  {
   "cell_type": "code",
   "execution_count": null,
   "id": "794d0a9d",
   "metadata": {},
   "outputs": [],
   "source": []
  },
  {
   "cell_type": "code",
   "execution_count": null,
   "id": "ada5cdee",
   "metadata": {},
   "outputs": [],
   "source": [
    "import mpmath "
   ]
  },
  {
   "cell_type": "code",
   "execution_count": null,
   "id": "1dece2c6",
   "metadata": {},
   "outputs": [],
   "source": [
    "mpmath.hyp0f1(3,4)"
   ]
  },
  {
   "cell_type": "code",
   "execution_count": null,
   "id": "a594c177",
   "metadata": {},
   "outputs": [],
   "source": [
    "mpmath.hyp0f1(4,2)"
   ]
  },
  {
   "cell_type": "code",
   "execution_count": 29,
   "id": "b57694a5",
   "metadata": {},
   "outputs": [],
   "source": [
    "import scipy.special as spc\n",
    "import math \n",
    "def hyp1f1(a,b,x):\n",
    "    c=0\n",
    "    for k in range(0,10):\n",
    "        a = (spc.poch(a,k)*pow(x,k))  \n",
    "        b =(spc.poch(b,k)*math.factorial(k))\n",
    "        c += a/b\n",
    "        \n",
    "    return c "
   ]
  },
  {
   "cell_type": "code",
   "execution_count": 30,
   "id": "a3c16301",
   "metadata": {},
   "outputs": [
    {
     "name": "stderr",
     "output_type": "stream",
     "text": [
      "C:\\Users\\md slauddin\\AppData\\Local\\Temp\\ipykernel_16880\\2336635968.py:8: RuntimeWarning: invalid value encountered in double_scalars\n",
      "  c += a/b\n"
     ]
    },
    {
     "data": {
      "text/plain": [
       "nan"
      ]
     },
     "execution_count": 30,
     "metadata": {},
     "output_type": "execute_result"
    }
   ],
   "source": [
    "hyp1f1(2,3,5)"
   ]
  },
  {
   "cell_type": "code",
   "execution_count": 7,
   "id": "f470ee43",
   "metadata": {},
   "outputs": [],
   "source": [
    "import mpmath"
   ]
  },
  {
   "cell_type": "code",
   "execution_count": 8,
   "id": "15debb24",
   "metadata": {},
   "outputs": [
    {
     "data": {
      "text/plain": [
       "mpf('47.572210912824517')"
      ]
     },
     "execution_count": 8,
     "metadata": {},
     "output_type": "execute_result"
    }
   ],
   "source": [
    "mpmath.hyp1f1(2,3,5)"
   ]
  },
  {
   "cell_type": "code",
   "execution_count": null,
   "id": "1b8f4a38",
   "metadata": {},
   "outputs": [],
   "source": []
  }
 ],
 "metadata": {
  "kernelspec": {
   "display_name": "Python 3 (ipykernel)",
   "language": "python",
   "name": "python3"
  },
  "language_info": {
   "codemirror_mode": {
    "name": "ipython",
    "version": 3
   },
   "file_extension": ".py",
   "mimetype": "text/x-python",
   "name": "python",
   "nbconvert_exporter": "python",
   "pygments_lexer": "ipython3",
   "version": "3.9.12"
  }
 },
 "nbformat": 4,
 "nbformat_minor": 5
}
