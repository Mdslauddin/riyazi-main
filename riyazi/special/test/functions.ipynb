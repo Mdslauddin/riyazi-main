{
 "cells": [
  {
   "cell_type": "markdown",
   "id": "d2489009",
   "metadata": {},
   "source": [
    "# Hypergeometry functions"
   ]
  },
  {
   "cell_type": "markdown",
   "id": "727f22cd",
   "metadata": {},
   "source": [
    "**hyp0f1()**\n",
    "\n",
    "**hyp1f1()**\n",
    "\n",
    "**hyp1f2()**\n",
    "\n",
    "\n",
    "**hyp2f0()**\n",
    "\n",
    "**hyp2f1()**\n",
    "\n",
    "**hyp2f2()**\n",
    "\n",
    "**hyp2f3()**\n",
    "\n",
    "**hyp3f2()**\n"
   ]
  },
  {
   "cell_type": "code",
   "execution_count": null,
   "id": "726bcab3",
   "metadata": {},
   "outputs": [],
   "source": []
  },
  {
   "cell_type": "code",
   "execution_count": 1,
   "id": "71eee010",
   "metadata": {},
   "outputs": [],
   "source": [
    "import math\n",
    "import scipy.special as spc\n",
    "y = float\n",
    "def hyp0f1(v,z):\n",
    "    x= 0\n",
    "    for k in range(0,100):\n",
    "        x += (pow(z,k)/ (spc.poch(v,k)*math.factorial(k)))\n",
    "      \n",
    "      \n",
    "    return x\n",
    "        "
   ]
  },
  {
   "cell_type": "code",
   "execution_count": null,
   "id": "4b62935a",
   "metadata": {},
   "outputs": [],
   "source": [
    "import scipy.special as spc\n",
    "import math \n",
    "def hyp1f1(a,b,x):\n",
    "    c=0\n",
    "    for k in range(0,30):\n",
    "        c += (spc.poch(a,k)*pow(x,k)) /(spc.poch(b,k)*math.factorial(k))\n",
    "    return  c"
   ]
  }
 ],
 "metadata": {
  "kernelspec": {
   "display_name": "Python 3 (ipykernel)",
   "language": "python",
   "name": "python3"
  },
  "language_info": {
   "codemirror_mode": {
    "name": "ipython",
    "version": 3
   },
   "file_extension": ".py",
   "mimetype": "text/x-python",
   "name": "python",
   "nbconvert_exporter": "python",
   "pygments_lexer": "ipython3",
   "version": "3.9.12"
  }
 },
 "nbformat": 4,
 "nbformat_minor": 5
}
