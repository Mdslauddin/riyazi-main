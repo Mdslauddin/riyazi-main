{
 "cells": [
  {
   "cell_type": "code",
   "execution_count": 1,
   "id": "e4ce29a2",
   "metadata": {},
   "outputs": [],
   "source": [
    "import mpmath"
   ]
  },
  {
   "cell_type": "code",
   "execution_count": 2,
   "id": "00c5f7e5",
   "metadata": {},
   "outputs": [
    {
     "data": {
      "text/plain": [
       "mpf('2.0')"
      ]
     },
     "execution_count": 2,
     "metadata": {},
     "output_type": "execute_result"
    }
   ],
   "source": [
    "mpmath.gammainc(3)"
   ]
  },
  {
   "cell_type": "markdown",
   "id": "689a2612",
   "metadata": {},
   "source": [
    "https://www.johndcook.com/blog/gamma_python/"
   ]
  },
  {
   "cell_type": "markdown",
   "id": "6dfe1a6e",
   "metadata": {},
   "source": [
    "https://en.wikipedia.org/wiki/List_of_integrals_of_exponential_functions"
   ]
  },
  {
   "cell_type": "markdown",
   "id": "25c26f8a",
   "metadata": {},
   "source": [
    "https://en.wikipedia.org/wiki/Exponential_integral"
   ]
  },
  {
   "cell_type": "code",
   "execution_count": null,
   "id": "7c0a8eee",
   "metadata": {},
   "outputs": [],
   "source": []
  }
 ],
 "metadata": {
  "kernelspec": {
   "display_name": "Python 3 (ipykernel)",
   "language": "python",
   "name": "python3"
  },
  "language_info": {
   "codemirror_mode": {
    "name": "ipython",
    "version": 3
   },
   "file_extension": ".py",
   "mimetype": "text/x-python",
   "name": "python",
   "nbconvert_exporter": "python",
   "pygments_lexer": "ipython3",
   "version": "3.9.12"
  }
 },
 "nbformat": 4,
 "nbformat_minor": 5
}
