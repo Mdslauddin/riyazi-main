{
 "cells": [
  {
   "cell_type": "markdown",
   "id": "63d504fd",
   "metadata": {},
   "source": [
    "https://en.wikipedia.org/wiki/Bessel_function"
   ]
  },
  {
   "cell_type": "markdown",
   "id": "8e7704ff",
   "metadata": {},
   "source": [
    "https://en.wikipedia.org/wiki/Bessel"
   ]
  },
  {
   "cell_type": "code",
   "execution_count": null,
   "id": "9cab0779",
   "metadata": {},
   "outputs": [],
   "source": [
    "import mpmath"
   ]
  },
  {
   "cell_type": "code",
   "execution_count": null,
   "id": "3f9a9fc5",
   "metadata": {},
   "outputs": [],
   "source": [
    "mpmath.besselj(0,2)"
   ]
  },
  {
   "cell_type": "code",
   "execution_count": null,
   "id": "df48fcc0",
   "metadata": {},
   "outputs": [],
   "source": [
    "def besselj(ctx, n, z, derivative=0, **kwargs):\n",
    "    if type(n) is int:\n",
    "        n_isint = True\n",
    "    else:\n",
    "        n = ctx.convert(bbn)\n",
    "        n_isint = ctx.isint(n)\n",
    "        if n_isint:\n",
    "            n = int(ctx._re(n))\n",
    "    if n_isint and n < 0:\n",
    "        return (-1)**n * ctx.besselj(-n, z, derivative, **kwargs)\n",
    "    z = ctx.convert(z)\n",
    "    M = ctx.mag(z)\n",
    "    if derivative:\n",
    "        d = ctx.convert(derivative)\n",
    "        # TODO: the integer special-casing shouldn't be necessary.\n",
    "        # However, the hypergeometric series gets inaccurate for large d\n",
    "        # because of inaccurate pole cancellation at a pole far from\n",
    "        # zero (needs to be fixed in hypercomb or hypsum)\n",
    "        if ctx.isint(d) and d >= 0:\n",
    "            d = int(d)\n",
    "            orig = ctx.prec\n",
    "            try:\n",
    "                ctx.prec += 15\n",
    "                v = ctx.fsum((-1)**k * ctx.binomial(d,k) * ctx.besselj(2*k+n-d,z)\n",
    "                    for k in range(d+1))\n",
    "            finally:\n",
    "                ctx.prec = orig\n",
    "            v *= ctx.mpf(2)**(-d)\n",
    "        else:\n",
    "            def h(n,d):\n",
    "                r = ctx.fmul(ctx.fmul(z, z, prec=ctx.prec+M), -0.25, exact=True)\n",
    "                B = [0.5*(n-d+1), 0.5*(n-d+2)]\n",
    "                T = [([2,ctx.pi,z],[d-2*n,0.5,n-d],[],B,[(n+1)*0.5,(n+2)*0.5],B+[n+1],r)]\n",
    "                return T\n",
    "            v = ctx.hypercomb(h, [n,d], **kwargs)\n",
    "    else:\n",
    "        # Fast case: J_n(x), n int, appropriate magnitude for fixed-point calculation\n",
    "        if (not derivative) and n_isint and abs(M) < 10 and abs(n) < 20:\n",
    "            try:\n",
    "                return ctx._besselj(n, z)\n",
    "            except NotImplementedError:\n",
    "                pass\n",
    "        if not z:\n",
    "            if not n:\n",
    "                v = ctx.one + n+z\n",
    "            elif ctx.re(n) > 0:\n",
    "                v = n*z\n",
    "            else:\n",
    "                v = ctx.inf + z + n\n",
    "        else:\n",
    "            #v = 0\n",
    "            orig = ctx.prec\n",
    "            try:\n",
    "                # XXX: workaround for accuracy in low level hypergeometric series\n",
    "                # when alternating, large arguments\n",
    "                ctx.prec += min(3*abs(M), ctx.prec)\n",
    "                w = ctx.fmul(z, 0.5, exact=True)\n",
    "                def h(n):\n",
    "                    r = ctx.fneg(ctx.fmul(w, w, prec=max(0,ctx.prec+M)), exact=True)\n",
    "                    return [([w], [n], [], [n+1], [], [n+1], r)]\n",
    "                v = ctx.hypercomb(h, [n], **kwargs)\n",
    "            finally:\n",
    "                ctx.prec = orig\n",
    "        v = +v\n",
    "    return v"
   ]
  },
  {
   "cell_type": "code",
   "execution_count": null,
   "id": "babb5049",
   "metadata": {},
   "outputs": [],
   "source": [
    "def agm(ctx, a, b=1):\n",
    "    if b == 1:\n",
    "        return ctx.agm1(a)\n",
    "    a = ctx.convert(a)\n",
    "    b = ctx.convert(b)\n",
    "    return ctx._agm(a, b)"
   ]
  },
  {
   "cell_type": "code",
   "execution_count": null,
   "id": "04d06f82",
   "metadata": {},
   "outputs": [],
   "source": [
    "def agm(a,b):\n",
    "    if b==1:\n",
    "        return agm1(a)\n",
    "    a = convert(a)\n",
    "    b = convert(b)\n",
    "    return _agm(a,b)"
   ]
  },
  {
   "cell_type": "code",
   "execution_count": null,
   "id": "53c9e2fe",
   "metadata": {},
   "outputs": [],
   "source": []
  },
  {
   "cell_type": "code",
   "execution_count": null,
   "id": "e9d9488a",
   "metadata": {},
   "outputs": [],
   "source": [
    "import mpmath "
   ]
  },
  {
   "cell_type": "code",
   "execution_count": null,
   "id": "c276f712",
   "metadata": {},
   "outputs": [],
   "source": [
    "mpmath.agm(5,1)"
   ]
  },
  {
   "cell_type": "code",
   "execution_count": null,
   "id": "1fa3fa65",
   "metadata": {},
   "outputs": [],
   "source": [
    "def moebius(n):\n",
    "    \"\"\"\n",
    "    Evaluates the Moebius function which is `mu(n) = (-1)^k` if `n`\n",
    "    is a product of `k` distinct primes and `mu(n) = 0` otherwise.\n",
    "\n",
    "    TODO: speed up using factorization\n",
    "    \"\"\"\n",
    "    n = abs(int(n))\n",
    "    if n < 2:\n",
    "        return n\n",
    "    factors = []\n",
    "    for p in xrange(2, n+1):\n",
    "        if not (n % p):\n",
    "            if not (n % p**2):\n",
    "                return 0\n",
    "            if not sum(p % f for f in factors):\n",
    "                factors.append(p)\n",
    "    return (-1)**len(factors)"
   ]
  },
  {
   "cell_type": "code",
   "execution_count": null,
   "id": "6a73fd24",
   "metadata": {},
   "outputs": [],
   "source": []
  },
  {
   "cell_type": "code",
   "execution_count": null,
   "id": "2524d0b4",
   "metadata": {},
   "outputs": [],
   "source": [
    "def besselJ(n,z):\n",
    "     if type(n) is int:\n",
    "        n_isint = True\n",
    "     else:\n",
    "        return (pow(x,n)/(pow(2,n*gamma(n+1)))) * (mpmath.hyp0f1(n+1,(-1*(pow(x,2)/4))))\n",
    "    "
   ]
  },
  {
   "cell_type": "code",
   "execution_count": null,
   "id": "c1f0897d",
   "metadata": {},
   "outputs": [],
   "source": [
    "mpmath.hyp0f1()"
   ]
  },
  {
   "cell_type": "code",
   "execution_count": null,
   "id": "a4098cb7",
   "metadata": {},
   "outputs": [],
   "source": [
    "from math import gamma"
   ]
  },
  {
   "cell_type": "code",
   "execution_count": 1,
   "id": "cb6f83ac",
   "metadata": {},
   "outputs": [],
   "source": [
    "import mpmath \n",
    "from math import gamma\n",
    "def besselJ(n,x):\n",
    "    return (pow(x,n)/(pow(2,n*gamma(n+1)))) * (mpmath.hyp0f1(n+1,(-1*(pow(x,2)/4))))"
   ]
  },
  {
   "cell_type": "code",
   "execution_count": 12,
   "id": "738db4b0",
   "metadata": {},
   "outputs": [
    {
     "data": {
      "text/plain": [
       "mpf('0.5767248077568734')"
      ]
     },
     "execution_count": 12,
     "metadata": {},
     "output_type": "execute_result"
    }
   ],
   "source": [
    "besselJ(1,2)"
   ]
  },
  {
   "cell_type": "code",
   "execution_count": null,
   "id": "24234e6d",
   "metadata": {},
   "outputs": [],
   "source": [
    "besselJ(0,2)"
   ]
  },
  {
   "cell_type": "code",
   "execution_count": null,
   "id": "94f069c6",
   "metadata": {},
   "outputs": [],
   "source": [
    "besselJ(1,19)"
   ]
  },
  {
   "cell_type": "code",
   "execution_count": null,
   "id": "900bd774",
   "metadata": {},
   "outputs": [],
   "source": [
    "mpmath.besselj(0,2)"
   ]
  },
  {
   "cell_type": "code",
   "execution_count": null,
   "id": "907c05d5",
   "metadata": {},
   "outputs": [],
   "source": [
    "mpmath.besselj(1,19)"
   ]
  },
  {
   "cell_type": "code",
   "execution_count": 27,
   "id": "d7b123a0",
   "metadata": {},
   "outputs": [],
   "source": [
    "from math import cos,pi,sin\n",
    "def bessely(x):\n",
    "    return (besselJ(n,x)* cos(pi*n)-besselJ(-n,x)) / (sin(pi*n))"
   ]
  },
  {
   "cell_type": "code",
   "execution_count": 28,
   "id": "7602ac6e",
   "metadata": {},
   "outputs": [
    {
     "data": {
      "text/plain": [
       "mpf('-938727618744710.88')"
      ]
     },
     "execution_count": 28,
     "metadata": {},
     "output_type": "execute_result"
    }
   ],
   "source": [
    "bessely(1,3)"
   ]
  },
  {
   "cell_type": "code",
   "execution_count": 29,
   "id": "393f10c2",
   "metadata": {},
   "outputs": [],
   "source": [
    "import mpmath"
   ]
  },
  {
   "cell_type": "code",
   "execution_count": 30,
   "id": "26102294",
   "metadata": {},
   "outputs": [
    {
     "data": {
      "text/plain": [
       "mpf('0.32467442479179998')"
      ]
     },
     "execution_count": 30,
     "metadata": {},
     "output_type": "execute_result"
    }
   ],
   "source": [
    "mpmath.bessely(1,3)"
   ]
  },
  {
   "cell_type": "code",
   "execution_count": 11,
   "id": "80aed223",
   "metadata": {},
   "outputs": [
    {
     "data": {
      "text/plain": [
       "mpf('-0.5767248077568734')"
      ]
     },
     "execution_count": 11,
     "metadata": {},
     "output_type": "execute_result"
    }
   ],
   "source": [
    "mpmath.besselj(-1,2)"
   ]
  },
  {
   "cell_type": "code",
   "execution_count": 7,
   "id": "4f130c2d",
   "metadata": {},
   "outputs": [
    {
     "data": {
      "text/plain": [
       "2.0"
      ]
     },
     "execution_count": 7,
     "metadata": {},
     "output_type": "execute_result"
    }
   ],
   "source": [
    "gamma(3)"
   ]
  },
  {
   "cell_type": "code",
   "execution_count": 9,
   "id": "791ddfc1",
   "metadata": {},
   "outputs": [
    {
     "ename": "ValueError",
     "evalue": "gamma function pole",
     "output_type": "error",
     "traceback": [
      "\u001b[1;31m---------------------------------------------------------------------------\u001b[0m",
      "\u001b[1;31mValueError\u001b[0m                                Traceback (most recent call last)",
      "Input \u001b[1;32mIn [9]\u001b[0m, in \u001b[0;36m<cell line: 1>\u001b[1;34m()\u001b[0m\n\u001b[1;32m----> 1\u001b[0m \u001b[43mmpmath\u001b[49m\u001b[38;5;241;43m.\u001b[39;49m\u001b[43mgamma\u001b[49m\u001b[43m(\u001b[49m\u001b[38;5;241;43m-\u001b[39;49m\u001b[38;5;241;43m3\u001b[39;49m\u001b[43m)\u001b[49m\n",
      "File \u001b[1;32mD:\\Anaconda\\lib\\site-packages\\mpmath\\ctx_mp_python.py:998\u001b[0m, in \u001b[0;36mPythonMPContext._wrap_libmp_function.<locals>.f\u001b[1;34m(x, **kwargs)\u001b[0m\n\u001b[0;32m    996\u001b[0m \u001b[38;5;28;01mif\u001b[39;00m \u001b[38;5;28mhasattr\u001b[39m(x, \u001b[38;5;124m'\u001b[39m\u001b[38;5;124m_mpf_\u001b[39m\u001b[38;5;124m'\u001b[39m):\n\u001b[0;32m    997\u001b[0m     \u001b[38;5;28;01mtry\u001b[39;00m:\n\u001b[1;32m--> 998\u001b[0m         \u001b[38;5;28;01mreturn\u001b[39;00m ctx\u001b[38;5;241m.\u001b[39mmake_mpf(\u001b[43mmpf_f\u001b[49m\u001b[43m(\u001b[49m\u001b[43mx\u001b[49m\u001b[38;5;241;43m.\u001b[39;49m\u001b[43m_mpf_\u001b[49m\u001b[43m,\u001b[49m\u001b[43m \u001b[49m\u001b[43mprec\u001b[49m\u001b[43m,\u001b[49m\u001b[43m \u001b[49m\u001b[43mrounding\u001b[49m\u001b[43m)\u001b[49m)\n\u001b[0;32m    999\u001b[0m     \u001b[38;5;28;01mexcept\u001b[39;00m ComplexResult:\n\u001b[0;32m   1000\u001b[0m         \u001b[38;5;66;03m# Handle propagation to complex\u001b[39;00m\n\u001b[0;32m   1001\u001b[0m         \u001b[38;5;28;01mif\u001b[39;00m ctx\u001b[38;5;241m.\u001b[39mtrap_complex:\n",
      "File \u001b[1;32mD:\\Anaconda\\lib\\site-packages\\mpmath\\libmp\\gammazeta.py:1732\u001b[0m, in \u001b[0;36mmpf_gamma\u001b[1;34m(x, prec, rnd, type)\u001b[0m\n\u001b[0;32m   1730\u001b[0m     \u001b[38;5;28;01mif\u001b[39;00m \u001b[38;5;28mtype\u001b[39m \u001b[38;5;241m==\u001b[39m \u001b[38;5;241m2\u001b[39m:\n\u001b[0;32m   1731\u001b[0m         \u001b[38;5;28;01mreturn\u001b[39;00m fzero\n\u001b[1;32m-> 1732\u001b[0m     \u001b[38;5;28;01mraise\u001b[39;00m \u001b[38;5;167;01mValueError\u001b[39;00m(\u001b[38;5;124m\"\u001b[39m\u001b[38;5;124mgamma function pole\u001b[39m\u001b[38;5;124m\"\u001b[39m)\n\u001b[0;32m   1733\u001b[0m \u001b[38;5;66;03m# n = x\u001b[39;00m\n\u001b[0;32m   1734\u001b[0m n \u001b[38;5;241m=\u001b[39m man \u001b[38;5;241m<<\u001b[39m exp\n",
      "\u001b[1;31mValueError\u001b[0m: gamma function pole"
     ]
    }
   ],
   "source": [
    "mpmath.gamma(-3)"
   ]
  },
  {
   "cell_type": "code",
   "execution_count": 31,
   "id": "4556e81f",
   "metadata": {},
   "outputs": [
    {
     "data": {
      "text/plain": [
       "mpf('17.505614966624236')"
      ]
     },
     "execution_count": 31,
     "metadata": {},
     "output_type": "execute_result"
    }
   ],
   "source": [
    "mpmath.besseli(2,5)"
   ]
  },
  {
   "cell_type": "code",
   "execution_count": 40,
   "id": "c88065f9",
   "metadata": {},
   "outputs": [],
   "source": [
    "def besseli(n,x):\n",
    "    return (pow(1j,-n))*mpmath.besselj(1,10*x)"
   ]
  },
  {
   "cell_type": "code",
   "execution_count": 41,
   "id": "27779683",
   "metadata": {},
   "outputs": [
    {
     "data": {
      "text/plain": [
       "mpc(real='0.097511828125175143', imag='0.0')"
      ]
     },
     "execution_count": 41,
     "metadata": {},
     "output_type": "execute_result"
    }
   ],
   "source": [
    "besseli(2,5)"
   ]
  },
  {
   "cell_type": "code",
   "execution_count": null,
   "id": "2d95f2cd",
   "metadata": {},
   "outputs": [],
   "source": []
  }
 ],
 "metadata": {
  "kernelspec": {
   "display_name": "Python 3 (ipykernel)",
   "language": "python",
   "name": "python3"
  },
  "language_info": {
   "codemirror_mode": {
    "name": "ipython",
    "version": 3
   },
   "file_extension": ".py",
   "mimetype": "text/x-python",
   "name": "python",
   "nbconvert_exporter": "python",
   "pygments_lexer": "ipython3",
   "version": "3.9.12"
  }
 },
 "nbformat": 4,
 "nbformat_minor": 5
}
