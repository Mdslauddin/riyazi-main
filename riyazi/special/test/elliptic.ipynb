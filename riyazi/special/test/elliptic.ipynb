{
 "cells": [
  {
   "cell_type": "code",
   "execution_count": 1,
   "id": "5f925401",
   "metadata": {},
   "outputs": [],
   "source": [
    "import mpmath"
   ]
  },
  {
   "cell_type": "code",
   "execution_count": 2,
   "id": "9c700f78",
   "metadata": {},
   "outputs": [
    {
     "data": {
      "text/plain": [
       "mpf('2.0')"
      ]
     },
     "execution_count": 2,
     "metadata": {},
     "output_type": "execute_result"
    }
   ],
   "source": [
    "mpmath.qfrom(2)"
   ]
  },
  {
   "cell_type": "code",
   "execution_count": 8,
   "id": "d95062a9",
   "metadata": {},
   "outputs": [
    {
     "data": {
      "text/plain": [
       "mpf('2.0')"
      ]
     },
     "execution_count": 8,
     "metadata": {},
     "output_type": "execute_result"
    }
   ],
   "source": [
    "mpmath.qfrom(2,3)"
   ]
  },
  {
   "cell_type": "code",
   "execution_count": 1,
   "id": "d42b0a6b",
   "metadata": {},
   "outputs": [],
   "source": [
    "from math import pi\n",
    "import mpmath \n",
    "def ellipk(m):\n",
    "    return (pi/2)* mpmath.hyp2f1(0.5,0.5,1,m)"
   ]
  },
  {
   "cell_type": "code",
   "execution_count": 15,
   "id": "95e36757",
   "metadata": {},
   "outputs": [],
   "source": [
    "from math import pi\n",
    "import mpmath \n",
    "def ellipkm1(m):\n",
    "    return (pi/2)* mpmath.hyp2f1(0.5,0.5,1,1-m)"
   ]
  },
  {
   "cell_type": "code",
   "execution_count": 16,
   "id": "e024438d",
   "metadata": {},
   "outputs": [
    {
     "data": {
      "text/plain": [
       "mpf('1.7775193714912534')"
      ]
     },
     "execution_count": 16,
     "metadata": {},
     "output_type": "execute_result"
    }
   ],
   "source": [
    "ellipkm1(0.6)"
   ]
  },
  {
   "cell_type": "code",
   "execution_count": 20,
   "id": "a16213d2",
   "metadata": {},
   "outputs": [
    {
     "data": {
      "text/plain": [
       "1.7775193714912534"
      ]
     },
     "execution_count": 20,
     "metadata": {},
     "output_type": "execute_result"
    }
   ],
   "source": [
    "sp.ellipkm1(0.6)"
   ]
  },
  {
   "cell_type": "code",
   "execution_count": 2,
   "id": "851e9a54",
   "metadata": {},
   "outputs": [
    {
     "data": {
      "text/plain": [
       "mpc(real='1.0010773804561062', imag='-1.1714200841467699')"
      ]
     },
     "execution_count": 2,
     "metadata": {},
     "output_type": "execute_result"
    }
   ],
   "source": [
    "mpmath.ellipk(3)"
   ]
  },
  {
   "cell_type": "code",
   "execution_count": 8,
   "id": "01c972e4",
   "metadata": {},
   "outputs": [
    {
     "data": {
      "text/plain": [
       "mpf('1.713889448178791')"
      ]
     },
     "execution_count": 8,
     "metadata": {},
     "output_type": "execute_result"
    }
   ],
   "source": [
    "ellipk(0.3)"
   ]
  },
  {
   "cell_type": "code",
   "execution_count": 4,
   "id": "d160ed96",
   "metadata": {},
   "outputs": [],
   "source": [
    "import scipy.special as sp\n"
   ]
  },
  {
   "cell_type": "code",
   "execution_count": 14,
   "id": "4edf68f9",
   "metadata": {},
   "outputs": [
    {
     "data": {
      "text/plain": [
       "2.075363135292469"
      ]
     },
     "execution_count": 14,
     "metadata": {},
     "output_type": "execute_result"
    }
   ],
   "source": [
    "sp.ellipk(1-0.3)"
   ]
  },
  {
   "cell_type": "code",
   "execution_count": 11,
   "id": "caa6e11d",
   "metadata": {},
   "outputs": [
    {
     "data": {
      "text/plain": [
       "-0.713889448178791"
      ]
     },
     "execution_count": 11,
     "metadata": {},
     "output_type": "execute_result"
    }
   ],
   "source": [
    "1-1.713889448178791"
   ]
  },
  {
   "cell_type": "code",
   "execution_count": 12,
   "id": "9d684f23",
   "metadata": {},
   "outputs": [
    {
     "data": {
      "text/plain": [
       "2.075363135292469"
      ]
     },
     "execution_count": 12,
     "metadata": {},
     "output_type": "execute_result"
    }
   ],
   "source": [
    "sp.ellipkm1(0.3)"
   ]
  },
  {
   "cell_type": "code",
   "execution_count": null,
   "id": "e2d660c3",
   "metadata": {},
   "outputs": [],
   "source": [
    "sp.ellipkm1()"
   ]
  },
  {
   "cell_type": "code",
   "execution_count": null,
   "id": "84e74345",
   "metadata": {},
   "outputs": [],
   "source": [
    "sp.ellipkinc()"
   ]
  },
  {
   "cell_type": "code",
   "execution_count": 21,
   "id": "2a856378",
   "metadata": {},
   "outputs": [],
   "source": [
    "from math import pi\n",
    "import mpmath \n",
    "def ellipe(m):\n",
    "    return (pi/2)* mpmath.hyp2f1(0.5,-0.5,1,m)\n",
    "    "
   ]
  },
  {
   "cell_type": "code",
   "execution_count": 22,
   "id": "e61bfcfc",
   "metadata": {},
   "outputs": [
    {
     "data": {
      "text/plain": [
       "mpc(real='0.47522393535101709', imag='1.0130180585994313')"
      ]
     },
     "execution_count": 22,
     "metadata": {},
     "output_type": "execute_result"
    }
   ],
   "source": [
    "mpmath.ellipe(3)"
   ]
  },
  {
   "cell_type": "code",
   "execution_count": 23,
   "id": "1d38412e",
   "metadata": {},
   "outputs": [
    {
     "data": {
      "text/plain": [
       "mpc(real='0.47522393535101709', imag='1.0130180585994313')"
      ]
     },
     "execution_count": 23,
     "metadata": {},
     "output_type": "execute_result"
    }
   ],
   "source": [
    "ellipe(3)"
   ]
  },
  {
   "cell_type": "code",
   "execution_count": 24,
   "id": "a88c19f9",
   "metadata": {},
   "outputs": [
    {
     "ename": "ValueError",
     "evalue": "eta is only defined in the upper half-plane",
     "output_type": "error",
     "traceback": [
      "\u001b[1;31m---------------------------------------------------------------------------\u001b[0m",
      "\u001b[1;31mValueError\u001b[0m                                Traceback (most recent call last)",
      "Input \u001b[1;32mIn [24]\u001b[0m, in \u001b[0;36m<cell line: 1>\u001b[1;34m()\u001b[0m\n\u001b[1;32m----> 1\u001b[0m \u001b[43mmpmath\u001b[49m\u001b[38;5;241;43m.\u001b[39;49m\u001b[43meta\u001b[49m\u001b[43m(\u001b[49m\u001b[38;5;241;43m3\u001b[39;49m\u001b[43m)\u001b[49m\n",
      "File \u001b[1;32mD:\\Anaconda\\lib\\site-packages\\mpmath\\ctx_mp_python.py:1021\u001b[0m, in \u001b[0;36mPythonMPContext._wrap_specfun.<locals>.f_wrapped\u001b[1;34m(ctx, *args, **kwargs)\u001b[0m\n\u001b[0;32m   1019\u001b[0m \u001b[38;5;28;01mtry\u001b[39;00m:\n\u001b[0;32m   1020\u001b[0m     ctx\u001b[38;5;241m.\u001b[39mprec \u001b[38;5;241m+\u001b[39m\u001b[38;5;241m=\u001b[39m \u001b[38;5;241m10\u001b[39m\n\u001b[1;32m-> 1021\u001b[0m     retval \u001b[38;5;241m=\u001b[39m f(ctx, \u001b[38;5;241m*\u001b[39margs, \u001b[38;5;241m*\u001b[39m\u001b[38;5;241m*\u001b[39mkwargs)\n\u001b[0;32m   1022\u001b[0m \u001b[38;5;28;01mfinally\u001b[39;00m:\n\u001b[0;32m   1023\u001b[0m     ctx\u001b[38;5;241m.\u001b[39mprec \u001b[38;5;241m=\u001b[39m prec\n",
      "File \u001b[1;32mD:\\Anaconda\\lib\\site-packages\\mpmath\\functions\\elliptic.py:90\u001b[0m, in \u001b[0;36meta\u001b[1;34m(ctx, tau)\u001b[0m\n\u001b[0;32m     69\u001b[0m \u001b[38;5;124mr\u001b[39m\u001b[38;5;124;03m\"\"\"\u001b[39;00m\n\u001b[0;32m     70\u001b[0m \u001b[38;5;124;03mReturns the Dedekind eta function of tau in the upper half-plane.\u001b[39;00m\n\u001b[0;32m     71\u001b[0m \n\u001b[1;32m   (...)\u001b[0m\n\u001b[0;32m     87\u001b[0m \n\u001b[0;32m     88\u001b[0m \u001b[38;5;124;03m\"\"\"\u001b[39;00m\n\u001b[0;32m     89\u001b[0m \u001b[38;5;28;01mif\u001b[39;00m ctx\u001b[38;5;241m.\u001b[39mim(tau) \u001b[38;5;241m<\u001b[39m\u001b[38;5;241m=\u001b[39m \u001b[38;5;241m0.0\u001b[39m:\n\u001b[1;32m---> 90\u001b[0m     \u001b[38;5;28;01mraise\u001b[39;00m \u001b[38;5;167;01mValueError\u001b[39;00m(\u001b[38;5;124m\"\u001b[39m\u001b[38;5;124meta is only defined in the upper half-plane\u001b[39m\u001b[38;5;124m\"\u001b[39m)\n\u001b[0;32m     91\u001b[0m q \u001b[38;5;241m=\u001b[39m ctx\u001b[38;5;241m.\u001b[39mexpjpi(tau\u001b[38;5;241m/\u001b[39m\u001b[38;5;241m12\u001b[39m)\n\u001b[0;32m     92\u001b[0m \u001b[38;5;28;01mreturn\u001b[39;00m q \u001b[38;5;241m*\u001b[39m ctx\u001b[38;5;241m.\u001b[39mqp(q\u001b[38;5;241m*\u001b[39m\u001b[38;5;241m*\u001b[39m\u001b[38;5;241m24\u001b[39m)\n",
      "\u001b[1;31mValueError\u001b[0m: eta is only defined in the upper half-plane"
     ]
    }
   ],
   "source": [
    "mpmath.eta(3)"
   ]
  },
  {
   "cell_type": "code",
   "execution_count": null,
   "id": "7806f991",
   "metadata": {},
   "outputs": [],
   "source": []
  }
 ],
 "metadata": {
  "kernelspec": {
   "display_name": "Python 3 (ipykernel)",
   "language": "python",
   "name": "python3"
  },
  "language_info": {
   "codemirror_mode": {
    "name": "ipython",
    "version": 3
   },
   "file_extension": ".py",
   "mimetype": "text/x-python",
   "name": "python",
   "nbconvert_exporter": "python",
   "pygments_lexer": "ipython3",
   "version": "3.9.12"
  }
 },
 "nbformat": 4,
 "nbformat_minor": 5
}
