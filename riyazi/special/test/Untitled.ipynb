{
 "cells": [
  {
   "cell_type": "markdown",
   "id": "55bfc810",
   "metadata": {},
   "source": [
    "https://en.wikipedia.org/wiki/Airy_function#:~:text=The%20Airy%20function%20is%20the%20solution%20to%20time-independent,a%20particle%20in%20a%20one-dimensional%20constant%20force%20field."
   ]
  },
  {
   "cell_type": "markdown",
   "id": "f6d4ecd5",
   "metadata": {},
   "source": [
    "https://en.wikipedia.org/wiki/Bessel_function#Modified_Bessel_functions"
   ]
  },
  {
   "cell_type": "code",
   "execution_count": 17,
   "id": "50e10152",
   "metadata": {},
   "outputs": [],
   "source": [
    "from math import pi,sqrt\n",
    "def airy(x):\n",
    "    return  ( (1/pi)* sqrt(x/3) * (pow(2,3)*x*pow(3,2)) ) * (1/3)"
   ]
  },
  {
   "cell_type": "code",
   "execution_count": 18,
   "id": "2d5d59de",
   "metadata": {},
   "outputs": [
    {
     "data": {
      "text/plain": [
       "22.918311805232932"
      ]
     },
     "execution_count": 18,
     "metadata": {},
     "output_type": "execute_result"
    }
   ],
   "source": [
    "airy(3)"
   ]
  },
  {
   "cell_type": "code",
   "execution_count": 4,
   "id": "613c882c",
   "metadata": {},
   "outputs": [],
   "source": [
    "import scipy.special as sp"
   ]
  },
  {
   "cell_type": "code",
   "execution_count": 6,
   "id": "60298607",
   "metadata": {},
   "outputs": [],
   "source": [
    "a,b,c,d= sp.airy(3)"
   ]
  },
  {
   "cell_type": "code",
   "execution_count": 7,
   "id": "5d0aa318",
   "metadata": {},
   "outputs": [
    {
     "data": {
      "text/plain": [
       "0.006591139357460717"
      ]
     },
     "execution_count": 7,
     "metadata": {},
     "output_type": "execute_result"
    }
   ],
   "source": [
    "a"
   ]
  },
  {
   "cell_type": "code",
   "execution_count": 8,
   "id": "f09c3fe0",
   "metadata": {},
   "outputs": [
    {
     "data": {
      "text/plain": [
       "-0.011912976705951313"
      ]
     },
     "execution_count": 8,
     "metadata": {},
     "output_type": "execute_result"
    }
   ],
   "source": [
    "b"
   ]
  },
  {
   "cell_type": "code",
   "execution_count": 9,
   "id": "44fbea64",
   "metadata": {},
   "outputs": [
    {
     "data": {
      "text/plain": [
       "14.037328963730229"
      ]
     },
     "execution_count": 9,
     "metadata": {},
     "output_type": "execute_result"
    }
   ],
   "source": [
    "c"
   ]
  },
  {
   "cell_type": "code",
   "execution_count": 10,
   "id": "645f59c1",
   "metadata": {},
   "outputs": [
    {
     "data": {
      "text/plain": [
       "22.92221496638217"
      ]
     },
     "execution_count": 10,
     "metadata": {},
     "output_type": "execute_result"
    }
   ],
   "source": [
    "d"
   ]
  },
  {
   "cell_type": "code",
   "execution_count": 19,
   "id": "524e9250",
   "metadata": {},
   "outputs": [
    {
     "data": {
      "text/plain": [
       "119.08704141110708"
      ]
     },
     "execution_count": 19,
     "metadata": {},
     "output_type": "execute_result"
    }
   ],
   "source": [
    "airy(9)"
   ]
  },
  {
   "cell_type": "code",
   "execution_count": 20,
   "id": "bf2a0f88",
   "metadata": {},
   "outputs": [
    {
     "data": {
      "text/plain": [
       "(2.4711684308724904e-09,\n",
       " -7.480641389658946e-09,\n",
       " 21472868.89143535,\n",
       " 63807489.78090821)"
      ]
     },
     "execution_count": 20,
     "metadata": {},
     "output_type": "execute_result"
    }
   ],
   "source": [
    "sp.airy(9)"
   ]
  },
  {
   "cell_type": "code",
   "execution_count": 29,
   "id": "05abb623",
   "metadata": {},
   "outputs": [],
   "source": [
    "from math import e ,pi\n",
    "def error(x):\n",
    "    return ((2*x)/pi)*e**-x**2"
   ]
  },
  {
   "cell_type": "code",
   "execution_count": 30,
   "id": "0947bbb8",
   "metadata": {},
   "outputs": [
    {
     "data": {
      "text/plain": [
       "0.00023569536415676937"
      ]
     },
     "execution_count": 30,
     "metadata": {},
     "output_type": "execute_result"
    }
   ],
   "source": [
    "error(3)"
   ]
  },
  {
   "cell_type": "code",
   "execution_count": 23,
   "id": "77a52c6c",
   "metadata": {},
   "outputs": [],
   "source": [
    "import math "
   ]
  },
  {
   "cell_type": "code",
   "execution_count": 24,
   "id": "facd64e7",
   "metadata": {},
   "outputs": [
    {
     "data": {
      "text/plain": [
       "0.9999779095030014"
      ]
     },
     "execution_count": 24,
     "metadata": {},
     "output_type": "execute_result"
    }
   ],
   "source": [
    "math.erf(3)"
   ]
  },
  {
   "cell_type": "code",
   "execution_count": 31,
   "id": "ca2730b1",
   "metadata": {},
   "outputs": [],
   "source": [
    "from math import gamma"
   ]
  },
  {
   "cell_type": "code",
   "execution_count": null,
   "id": "e3bf9881",
   "metadata": {},
   "outputs": [],
   "source": [
    "def er(x):\n",
    "    return gamma(1/2,)"
   ]
  },
  {
   "cell_type": "markdown",
   "id": "21cbda80",
   "metadata": {},
   "source": [
    "https://www.omnicalculator.com/math/error-function"
   ]
  },
  {
   "cell_type": "code",
   "execution_count": 32,
   "id": "dec53492",
   "metadata": {},
   "outputs": [
    {
     "data": {
      "text/plain": [
       "(3, 10, 42, 216)"
      ]
     },
     "execution_count": 32,
     "metadata": {},
     "output_type": "execute_result"
    }
   ],
   "source": [
    "math.factorial(1)*3, math.factorial(2)*5, math.factorial(3)*7 , math.factorial(4)*9"
   ]
  },
  {
   "cell_type": "code",
   "execution_count": 33,
   "id": "15b88534",
   "metadata": {},
   "outputs": [
    {
     "data": {
      "text/plain": [
       "264"
      ]
     },
     "execution_count": 33,
     "metadata": {},
     "output_type": "execute_result"
    }
   ],
   "source": [
    "math.factorial(4)*11"
   ]
  },
  {
   "cell_type": "code",
   "execution_count": 34,
   "id": "dd7fc43f",
   "metadata": {},
   "outputs": [],
   "source": [
    "from math import sqrt,pi,e\n",
    "def erf(x):\n",
    "    return 1-(1/sqrt(pi*x))*e**(-x**2)"
   ]
  },
  {
   "cell_type": "code",
   "execution_count": 35,
   "id": "d65c74ca",
   "metadata": {},
   "outputs": [
    {
     "data": {
      "text/plain": [
       "0.9999598011064865"
      ]
     },
     "execution_count": 35,
     "metadata": {},
     "output_type": "execute_result"
    }
   ],
   "source": [
    "erf(3)"
   ]
  },
  {
   "cell_type": "code",
   "execution_count": 36,
   "id": "fc9316ff",
   "metadata": {},
   "outputs": [
    {
     "data": {
      "text/plain": [
       "0.9999779095030014"
      ]
     },
     "execution_count": 36,
     "metadata": {},
     "output_type": "execute_result"
    }
   ],
   "source": [
    "math.erf(3)"
   ]
  },
  {
   "cell_type": "markdown",
   "id": "0261c9e1",
   "metadata": {},
   "source": [
    "# https://www.thermopedia.com/content/737/\n"
   ]
  },
  {
   "cell_type": "code",
   "execution_count": 40,
   "id": "9e099a54",
   "metadata": {},
   "outputs": [
    {
     "data": {
      "text/plain": [
       "0.9999999999964959"
      ]
     },
     "execution_count": 40,
     "metadata": {},
     "output_type": "execute_result"
    }
   ],
   "source": [
    "erf(5)"
   ]
  },
  {
   "cell_type": "code",
   "execution_count": 41,
   "id": "7fea1f0b",
   "metadata": {},
   "outputs": [
    {
     "data": {
      "text/plain": [
       "0.9999999999984626"
      ]
     },
     "execution_count": 41,
     "metadata": {},
     "output_type": "execute_result"
    }
   ],
   "source": [
    "math.erf(5)"
   ]
  },
  {
   "cell_type": "markdown",
   "id": "2f649afb",
   "metadata": {},
   "source": [
    "http://www.ece.northwestern.edu/local-apps/matlabhelp/techdoc/ref/erf.html#999009"
   ]
  },
  {
   "cell_type": "code",
   "execution_count": null,
   "id": "11bc9d57",
   "metadata": {},
   "outputs": [],
   "source": []
  },
  {
   "cell_type": "code",
   "execution_count": null,
   "id": "77fa8098",
   "metadata": {},
   "outputs": [],
   "source": []
  },
  {
   "cell_type": "code",
   "execution_count": null,
   "id": "57bc1eef",
   "metadata": {},
   "outputs": [],
   "source": []
  },
  {
   "cell_type": "code",
   "execution_count": null,
   "id": "10d12510",
   "metadata": {},
   "outputs": [],
   "source": []
  },
  {
   "cell_type": "code",
   "execution_count": null,
   "id": "67d4ff6f",
   "metadata": {},
   "outputs": [],
   "source": []
  },
  {
   "cell_type": "code",
   "execution_count": 42,
   "id": "b0aca385",
   "metadata": {},
   "outputs": [],
   "source": [
    "import math"
   ]
  },
  {
   "cell_type": "code",
   "execution_count": 43,
   "id": "58cd2b2c",
   "metadata": {},
   "outputs": [],
   "source": [
    "import numpy as np"
   ]
  },
  {
   "cell_type": "code",
   "execution_count": null,
   "id": "df5b31ba",
   "metadata": {},
   "outputs": [],
   "source": []
  }
 ],
 "metadata": {
  "kernelspec": {
   "display_name": "Python 3 (ipykernel)",
   "language": "python",
   "name": "python3"
  },
  "language_info": {
   "codemirror_mode": {
    "name": "ipython",
    "version": 3
   },
   "file_extension": ".py",
   "mimetype": "text/x-python",
   "name": "python",
   "nbconvert_exporter": "python",
   "pygments_lexer": "ipython3",
   "version": "3.9.12"
  }
 },
 "nbformat": 4,
 "nbformat_minor": 5
}
