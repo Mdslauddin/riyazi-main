{
 "cells": [
  {
   "cell_type": "code",
   "execution_count": 1,
   "id": "64a99bec",
   "metadata": {},
   "outputs": [],
   "source": [
    "\n",
    "def zeta(x):\n",
    "        \n",
    "    return (1/pow(1,x))+(1/pow(2,x))+ (1/pow(3,x))+ (1/pow(4,x))+ (1/pow(5,x))+  (1/pow(6,x))+ (1/pow(7,x))+ (1/pow(8,x))+(1/pow(9,x))+(1/pow(10,x))+ (1/pow(11,x))+ (1/pow(12,x))+ (1/pow(13,x))+  (1/pow(14,x))+ (1/pow(15,x))+ (1/pow(16,x))"
   ]
  },
  {
   "cell_type": "code",
   "execution_count": null,
   "id": "3290c31d",
   "metadata": {},
   "outputs": [],
   "source": []
  }
 ],
 "metadata": {
  "kernelspec": {
   "display_name": "Python 3 (ipykernel)",
   "language": "python",
   "name": "python3"
  },
  "language_info": {
   "codemirror_mode": {
    "name": "ipython",
    "version": 3
   },
   "file_extension": ".py",
   "mimetype": "text/x-python",
   "name": "python",
   "nbconvert_exporter": "python",
   "pygments_lexer": "ipython3",
   "version": "3.9.12"
  }
 },
 "nbformat": 4,
 "nbformat_minor": 5
}
