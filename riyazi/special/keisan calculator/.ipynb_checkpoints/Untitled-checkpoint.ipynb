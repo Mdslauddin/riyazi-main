{
 "cells": [
  {
   "cell_type": "code",
   "execution_count": null,
   "id": "fbb52a8a",
   "metadata": {},
   "outputs": [],
   "source": [
    "import scipy.special as spec"
   ]
  },
  {
   "cell_type": "code",
   "execution_count": null,
   "id": "9a58cd03",
   "metadata": {},
   "outputs": [],
   "source": [
    "spec.poch(2,3)"
   ]
  },
  {
   "cell_type": "code",
   "execution_count": null,
   "id": "92a0b4f5",
   "metadata": {},
   "outputs": [],
   "source": [
    "from math import gamma\n",
    "def poch(x,n):\n",
    "    return (gamma(x+n)) / gamma(x)"
   ]
  },
  {
   "cell_type": "code",
   "execution_count": null,
   "id": "26064bd2",
   "metadata": {},
   "outputs": [],
   "source": [
    "poch(4,5)"
   ]
  },
  {
   "cell_type": "code",
   "execution_count": null,
   "id": "e1ed602b",
   "metadata": {},
   "outputs": [],
   "source": [
    "poch(2,3)"
   ]
  },
  {
   "cell_type": "code",
   "execution_count": null,
   "id": "e3156d68",
   "metadata": {},
   "outputs": [],
   "source": [
    "spec.poch(4,5) "
   ]
  },
  {
   "cell_type": "code",
   "execution_count": null,
   "id": "fb088ae2",
   "metadata": {},
   "outputs": [],
   "source": [
    "poch(13,12)"
   ]
  },
  {
   "cell_type": "code",
   "execution_count": null,
   "id": "be35b85f",
   "metadata": {},
   "outputs": [],
   "source": [
    "spec.poch(13,12)"
   ]
  },
  {
   "cell_type": "code",
   "execution_count": null,
   "id": "5805bb9a",
   "metadata": {},
   "outputs": [],
   "source": []
  },
  {
   "cell_type": "code",
   "execution_count": null,
   "id": "8faba4e5",
   "metadata": {},
   "outputs": [],
   "source": [
    "from math import pi \n",
    "def ai(x):\n",
    "    return ((1/pi)*((x/3)*(1/3)*(2/3*pow(x,3/2))))"
   ]
  },
  {
   "cell_type": "code",
   "execution_count": null,
   "id": "a0a3f96f",
   "metadata": {},
   "outputs": [],
   "source": [
    "ai(3)"
   ]
  },
  {
   "cell_type": "code",
   "execution_count": null,
   "id": "60cca3d6",
   "metadata": {},
   "outputs": [],
   "source": [
    "import scipy.special as spec"
   ]
  },
  {
   "cell_type": "code",
   "execution_count": null,
   "id": "addf5d52",
   "metadata": {},
   "outputs": [],
   "source": [
    "Ai, Aip, Bi, Bip = spec.airy(3)"
   ]
  },
  {
   "cell_type": "code",
   "execution_count": null,
   "id": "787271cf",
   "metadata": {},
   "outputs": [],
   "source": [
    "Ai, Aip, Bi, Bip"
   ]
  },
  {
   "cell_type": "code",
   "execution_count": null,
   "id": "60a64b7a",
   "metadata": {},
   "outputs": [],
   "source": []
  },
  {
   "cell_type": "code",
   "execution_count": null,
   "id": "4cd2fa3d",
   "metadata": {},
   "outputs": [],
   "source": [
    "import math \n",
    "def gamma(a):\n",
    "    return (math.gamma(a+1))/a"
   ]
  },
  {
   "cell_type": "code",
   "execution_count": null,
   "id": "b8f7f17f",
   "metadata": {},
   "outputs": [],
   "source": [
    "gamma(32)"
   ]
  },
  {
   "cell_type": "code",
   "execution_count": null,
   "id": "545b5eab",
   "metadata": {},
   "outputs": [],
   "source": [
    "math.gamma(32)"
   ]
  },
  {
   "cell_type": "code",
   "execution_count": null,
   "id": "8bf6efea",
   "metadata": {},
   "outputs": [],
   "source": [
    "from math import gamma\n",
    "def beta(a,b):\n",
    "    return (gamma(a)* gamma(b)) / gamma(a+b)"
   ]
  },
  {
   "cell_type": "code",
   "execution_count": null,
   "id": "392727b7",
   "metadata": {},
   "outputs": [],
   "source": [
    "beta(2,3)"
   ]
  },
  {
   "cell_type": "code",
   "execution_count": 18,
   "id": "ca64db6e",
   "metadata": {},
   "outputs": [],
   "source": [
    "import scipy.special as spec"
   ]
  },
  {
   "cell_type": "code",
   "execution_count": null,
   "id": "e1e77ba0",
   "metadata": {},
   "outputs": [],
   "source": [
    "spec.beta(2,3)"
   ]
  },
  {
   "cell_type": "code",
   "execution_count": null,
   "id": "5590aed9",
   "metadata": {},
   "outputs": [],
   "source": []
  },
  {
   "cell_type": "code",
   "execution_count": 23,
   "id": "d2445d40",
   "metadata": {},
   "outputs": [
    {
     "data": {
      "text/plain": [
       "1.0000009539620338"
      ]
     },
     "execution_count": 23,
     "metadata": {},
     "output_type": "execute_result"
    }
   ],
   "source": [
    "spec.zeta(20)"
   ]
  },
  {
   "cell_type": "code",
   "execution_count": 3,
   "id": "636f6206",
   "metadata": {},
   "outputs": [
    {
     "ename": "SyntaxError",
     "evalue": "invalid syntax (1122082801.py, line 5)",
     "output_type": "error",
     "traceback": [
      "\u001b[1;36m  Input \u001b[1;32mIn [3]\u001b[1;36m\u001b[0m\n\u001b[1;33m    print(res)\u001b[0m\n\u001b[1;37m    ^\u001b[0m\n\u001b[1;31mSyntaxError\u001b[0m\u001b[1;31m:\u001b[0m invalid syntax\n"
     ]
    }
   ],
   "source": [
    "ans =0\n",
    "def zeta(x):\n",
    "    for n in range(1,100):\n",
    "        res = (1/pow(n,x)\n",
    "        print(res)\n",
    "    return "
   ]
  },
  {
   "cell_type": "code",
   "execution_count": 16,
   "id": "ecc120e6",
   "metadata": {},
   "outputs": [],
   "source": [
    "\n",
    "def zeta(x):\n",
    "        \n",
    "    return (1/pow(1,x))+(1/pow(2,x))+ (1/pow(3,x))+ (1/pow(4,x))+ (1/pow(5,x))+  (1/pow(6,x))+ (1/pow(7,x))+ (1/pow(8,x))+(1/pow(9,x))+(1/pow(10,x))+ (1/pow(11,x))+ (1/pow(12,x))+ (1/pow(13,x))+  (1/pow(14,x))+ (1/pow(15,x))+ (1/pow(16,x))"
   ]
  },
  {
   "cell_type": "code",
   "execution_count": 22,
   "id": "b4dc4d55",
   "metadata": {},
   "outputs": [
    {
     "data": {
      "text/plain": [
       "1.0000009539620338"
      ]
     },
     "execution_count": 22,
     "metadata": {},
     "output_type": "execute_result"
    }
   ],
   "source": [
    "zeta(20)"
   ]
  },
  {
   "cell_type": "code",
   "execution_count": null,
   "id": "30bf4acc",
   "metadata": {},
   "outputs": [],
   "source": []
  },
  {
   "cell_type": "code",
   "execution_count": null,
   "id": "890c47d1",
   "metadata": {},
   "outputs": [],
   "source": []
  },
  {
   "cell_type": "code",
   "execution_count": null,
   "id": "b8e5b829",
   "metadata": {},
   "outputs": [],
   "source": [
    "zeta(3)"
   ]
  },
  {
   "cell_type": "code",
   "execution_count": null,
   "id": "3171e3c5",
   "metadata": {},
   "outputs": [],
   "source": [
    "1.0+0.5+ 0.5773502691896258+0.44915940922435926+0.48534554299885857+0.41910974483172414+0.4423959842375073+0.398544312976145+0.41657391770984814"
   ]
  },
  {
   "cell_type": "code",
   "execution_count": null,
   "id": "07405acf",
   "metadata": {},
   "outputs": [],
   "source": [
    "(1/pow(1,3)) ,(1/pow(2,3)) , (1/pow(3,3)) , (1/pow(4,3)) , (1/pow(5,3)) , (1/pow(6,3)) ,(1/pow(7,3)) ,(1/pow(8,3))"
   ]
  },
  {
   "cell_type": "code",
   "execution_count": null,
   "id": "a8e255cb",
   "metadata": {},
   "outputs": [],
   "source": []
  },
  {
   "cell_type": "code",
   "execution_count": 46,
   "id": "9fcff388",
   "metadata": {},
   "outputs": [],
   "source": [
    "import math \n",
    "def hpy0f1(a,z):\n",
    "    \n",
    "    return (pow(z,1))/ ((a)*1*math.factorial(1))+   (pow(z,2))/ ((a)*2*math.factorial(2))+  (pow(z,3))/ ((a)*3*math.factorial(3))+  (pow(z,4))/ ((a)*4*math.factorial(4)) + (pow(z,10))/ ((a)*100*math.factorial(100))"
   ]
  },
  {
   "cell_type": "code",
   "execution_count": 47,
   "id": "099880fe",
   "metadata": {},
   "outputs": [
    {
     "data": {
      "text/plain": [
       "1.620421875"
      ]
     },
     "execution_count": 47,
     "metadata": {},
     "output_type": "execute_result"
    }
   ],
   "source": [
    "hpy0f1(0.2,0.3)"
   ]
  },
  {
   "cell_type": "code",
   "execution_count": 27,
   "id": "9ad212d7",
   "metadata": {},
   "outputs": [],
   "source": [
    "import mpmath"
   ]
  },
  {
   "cell_type": "code",
   "execution_count": 41,
   "id": "7b6532ec",
   "metadata": {},
   "outputs": [
    {
     "data": {
      "text/plain": [
       "mpf('2.6962253599139423')"
      ]
     },
     "execution_count": 41,
     "metadata": {},
     "output_type": "execute_result"
    }
   ],
   "source": [
    "mpmath.hyp0f1(0.2,0.3)"
   ]
  },
  {
   "cell_type": "code",
   "execution_count": null,
   "id": "ff28ec95",
   "metadata": {},
   "outputs": [],
   "source": []
  },
  {
   "cell_type": "code",
   "execution_count": null,
   "id": "22ae9e6e",
   "metadata": {},
   "outputs": [],
   "source": []
  },
  {
   "cell_type": "code",
   "execution_count": null,
   "id": "49ee1318",
   "metadata": {},
   "outputs": [],
   "source": []
  },
  {
   "cell_type": "code",
   "execution_count": null,
   "id": "354fe82e",
   "metadata": {},
   "outputs": [],
   "source": []
  },
  {
   "cell_type": "code",
   "execution_count": null,
   "id": "2ca33fe8",
   "metadata": {},
   "outputs": [],
   "source": []
  }
 ],
 "metadata": {
  "kernelspec": {
   "display_name": "Python 3 (ipykernel)",
   "language": "python",
   "name": "python3"
  },
  "language_info": {
   "codemirror_mode": {
    "name": "ipython",
    "version": 3
   },
   "file_extension": ".py",
   "mimetype": "text/x-python",
   "name": "python",
   "nbconvert_exporter": "python",
   "pygments_lexer": "ipython3",
   "version": "3.9.12"
  }
 },
 "nbformat": 4,
 "nbformat_minor": 5
}
