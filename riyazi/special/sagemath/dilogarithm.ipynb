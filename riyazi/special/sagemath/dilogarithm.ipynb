{
 "cells": [
  {
   "cell_type": "code",
   "execution_count": 35,
   "id": "d2ba16c6",
   "metadata": {},
   "outputs": [],
   "source": [
    "\n",
    "def dilog(z):\n",
    "    res=0.0\n",
    "    for k in range(1,100):\n",
    "        res += (pow(z,k))/pow(k,k)\n",
    "    return res"
   ]
  },
  {
   "cell_type": "code",
   "execution_count": 36,
   "id": "06e5b287",
   "metadata": {},
   "outputs": [
    {
     "data": {
      "text/plain": [
       "(0.5673841148770283,\n",
       " 1.1322638455233556,\n",
       " -0.8415567924998534,\n",
       " -0.7834305107121344)"
      ]
     },
     "execution_count": 36,
     "metadata": {},
     "output_type": "execute_result"
    }
   ],
   "source": [
    "dilog(0.5),dilog(0.9),dilog(-1.1),dilog(-1.0)"
   ]
  },
  {
   "cell_type": "code",
   "execution_count": 2,
   "id": "172b2272",
   "metadata": {},
   "outputs": [
    {
     "name": "stdout",
     "output_type": "stream",
     "text": [
      "1.13031820791739\n",
      "1.463519144867108\n",
      "1.13031820791739\n",
      "1.5906368545682161\n"
     ]
    }
   ],
   "source": [
    "import math\n",
    "\n",
    "def dilog(x):\n",
    "    \"\"\"Compute the dilogarithm of a real number.\n",
    "\n",
    "    Args:\n",
    "        x: The real number whose dilogarithm is to be computed.\n",
    "\n",
    "    Returns:\n",
    "        The dilogarithm of the real number.\n",
    "    \"\"\"\n",
    "    if x < -1 or x > 1:\n",
    "        raise ValueError(\"Argument must be in the range (-1, 1)\")\n",
    "    if x == 0:\n",
    "        return 0\n",
    "    result = 0\n",
    "    term = 1\n",
    "    k = 1\n",
    "    while abs(term) > 1e-9:\n",
    "        result += term\n",
    "        term *= x**2 / k / (k + 1)\n",
    "        k += 1\n",
    "    return result\n",
    "\n",
    "# Test the dilog function\n",
    "print(dilog(0.5))\n",
    "print(dilog(0.9))\n",
    "print(dilog(-0.5))\n",
    "print(dilog(-1.0))\n"
   ]
  },
  {
   "cell_type": "code",
   "execution_count": 3,
   "id": "42169c22",
   "metadata": {},
   "outputs": [
    {
     "data": {
      "text/plain": [
       "1.13031820791739"
      ]
     },
     "execution_count": 3,
     "metadata": {},
     "output_type": "execute_result"
    }
   ],
   "source": [
    "dilog(0.5)"
   ]
  },
  {
   "cell_type": "code",
   "execution_count": 4,
   "id": "2ced76c0",
   "metadata": {},
   "outputs": [
    {
     "data": {
      "text/plain": [
       "1.5906368545682161"
      ]
     },
     "execution_count": 4,
     "metadata": {},
     "output_type": "execute_result"
    }
   ],
   "source": [
    "dilog(-1.0)"
   ]
  },
  {
   "cell_type": "code",
   "execution_count": null,
   "id": "2cd1a6e4",
   "metadata": {},
   "outputs": [],
   "source": []
  }
 ],
 "metadata": {
  "kernelspec": {
   "display_name": "Python 3 (ipykernel)",
   "language": "python",
   "name": "python3"
  },
  "language_info": {
   "codemirror_mode": {
    "name": "ipython",
    "version": 3
   },
   "file_extension": ".py",
   "mimetype": "text/x-python",
   "name": "python",
   "nbconvert_exporter": "python",
   "pygments_lexer": "ipython3",
   "version": "3.9.12"
  }
 },
 "nbformat": 4,
 "nbformat_minor": 5
}
