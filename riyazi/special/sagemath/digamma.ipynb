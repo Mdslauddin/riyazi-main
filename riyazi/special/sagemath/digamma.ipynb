{
 "cells": [
  {
   "cell_type": "code",
   "execution_count": 1,
   "id": "32fa0520",
   "metadata": {},
   "outputs": [],
   "source": [
    "from math import log,gamma\n",
    "\n"
   ]
  },
  {
   "cell_type": "code",
   "execution_count": 2,
   "id": "c1127f32",
   "metadata": {},
   "outputs": [],
   "source": [
    "def digamma(z):\n",
    "    return log(gamma(z))"
   ]
  },
  {
   "cell_type": "code",
   "execution_count": 3,
   "id": "9de331b5",
   "metadata": {},
   "outputs": [
    {
     "data": {
      "text/plain": [
       "12.801827480081469"
      ]
     },
     "execution_count": 3,
     "metadata": {},
     "output_type": "execute_result"
    }
   ],
   "source": [
    "digamma(10)"
   ]
  },
  {
   "cell_type": "code",
   "execution_count": 4,
   "id": "2bc9bda3",
   "metadata": {},
   "outputs": [],
   "source": [
    "import scipy.special as sp"
   ]
  },
  {
   "cell_type": "code",
   "execution_count": 5,
   "id": "53c71f50",
   "metadata": {},
   "outputs": [
    {
     "data": {
      "text/plain": [
       "2.251752589066721"
      ]
     },
     "execution_count": 5,
     "metadata": {},
     "output_type": "execute_result"
    }
   ],
   "source": [
    "sp.digamma(10)"
   ]
  },
  {
   "cell_type": "markdown",
   "id": "5969cca6",
   "metadata": {},
   "source": [
    "https://en.wikipedia.org/wiki/Digamma_function"
   ]
  },
  {
   "cell_type": "code",
   "execution_count": null,
   "id": "65dcb2be",
   "metadata": {},
   "outputs": [],
   "source": []
  }
 ],
 "metadata": {
  "kernelspec": {
   "display_name": "Python 3 (ipykernel)",
   "language": "python",
   "name": "python3"
  },
  "language_info": {
   "codemirror_mode": {
    "name": "ipython",
    "version": 3
   },
   "file_extension": ".py",
   "mimetype": "text/x-python",
   "name": "python",
   "nbconvert_exporter": "python",
   "pygments_lexer": "ipython3",
   "version": "3.9.12"
  }
 },
 "nbformat": 4,
 "nbformat_minor": 5
}
