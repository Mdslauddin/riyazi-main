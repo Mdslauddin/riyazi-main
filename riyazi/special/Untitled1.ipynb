{
 "cells": [
  {
   "cell_type": "code",
   "execution_count": 1,
   "id": "e0df60ec",
   "metadata": {},
   "outputs": [],
   "source": [
    "from __future__ import annotations\n",
    "\n",
    "\n",
    "def geometric_series(\n",
    "    nth_term: float | int,\n",
    "    start_term_a: float | int,\n",
    "    common_ratio_r: float | int,\n",
    ") -> list[float | int]:\n",
    "    \"\"\"\n",
    "    Pure Python implementation of Geometric Series algorithm\n",
    "    :param nth_term: The last term (nth term of Geometric Series)\n",
    "    :param start_term_a : The first term of Geometric Series\n",
    "    :param common_ratio_r : The common ratio between all the terms\n",
    "    :return: The Geometric Series starting from first term a and multiple of common\n",
    "        ration with first term with increase in power till last term (nth term)\n",
    "    Examples:\n",
    "    >>> geometric_series(4, 2, 2)\n",
    "    [2, 4.0, 8.0, 16.0]\n",
    "    >>> geometric_series(4.0, 2.0, 2.0)\n",
    "    [2.0, 4.0, 8.0, 16.0]\n",
    "    >>> geometric_series(4.1, 2.1, 2.1)\n",
    "    [2.1, 4.41, 9.261000000000001, 19.448100000000004]\n",
    "    >>> geometric_series(4, 2, -2)\n",
    "    [2, -4.0, 8.0, -16.0]\n",
    "    >>> geometric_series(4, -2, 2)\n",
    "    [-2, -4.0, -8.0, -16.0]\n",
    "    >>> geometric_series(-4, 2, 2)\n",
    "    []\n",
    "    >>> geometric_series(0, 100, 500)\n",
    "    []\n",
    "    >>> geometric_series(1, 1, 1)\n",
    "    [1]\n",
    "    >>> geometric_series(0, 0, 0)\n",
    "    []\n",
    "    \"\"\"\n",
    "    if not all((nth_term, start_term_a, common_ratio_r)):\n",
    "        return []\n",
    "    series: list[float | int] = []\n",
    "    power = 1\n",
    "    multiple = common_ratio_r\n",
    "    for _ in range(int(nth_term)):\n",
    "        if not series:\n",
    "            series.append(start_term_a)\n",
    "        else:\n",
    "            power += 1\n",
    "            series.append(float(start_term_a * multiple))\n",
    "            multiple = pow(float(common_ratio_r), power)\n",
    "    return series"
   ]
  },
  {
   "cell_type": "code",
   "execution_count": 2,
   "id": "72bbebed",
   "metadata": {},
   "outputs": [],
   "source": [
    "import mpmath as mp"
   ]
  },
  {
   "cell_type": "code",
   "execution_count": 6,
   "id": "9457d691",
   "metadata": {},
   "outputs": [
    {
     "data": {
      "text/plain": [
       "mpf('1.0463828000626856')"
      ]
     },
     "execution_count": 6,
     "metadata": {},
     "output_type": "execute_result"
    }
   ],
   "source": [
    "mp.hyper([2,3],[4,5],0.15)"
   ]
  },
  {
   "cell_type": "code",
   "execution_count": null,
   "id": "b401b8d8",
   "metadata": {},
   "outputs": [],
   "source": []
  },
  {
   "cell_type": "code",
   "execution_count": null,
   "id": "c63353de",
   "metadata": {},
   "outputs": [],
   "source": []
  },
  {
   "cell_type": "code",
   "execution_count": null,
   "id": "5ad7aaeb",
   "metadata": {},
   "outputs": [],
   "source": []
  },
  {
   "cell_type": "code",
   "execution_count": null,
   "id": "af47671c",
   "metadata": {},
   "outputs": [],
   "source": []
  },
  {
   "cell_type": "code",
   "execution_count": null,
   "id": "c550062d",
   "metadata": {},
   "outputs": [],
   "source": []
  },
  {
   "cell_type": "code",
   "execution_count": null,
   "id": "2f996e50",
   "metadata": {},
   "outputs": [],
   "source": []
  },
  {
   "cell_type": "code",
   "execution_count": null,
   "id": "37d830ec",
   "metadata": {},
   "outputs": [],
   "source": []
  },
  {
   "cell_type": "code",
   "execution_count": null,
   "id": "2e6256a0",
   "metadata": {},
   "outputs": [],
   "source": []
  },
  {
   "cell_type": "code",
   "execution_count": null,
   "id": "f2557e20",
   "metadata": {},
   "outputs": [],
   "source": []
  },
  {
   "cell_type": "code",
   "execution_count": null,
   "id": "9e9ef834",
   "metadata": {},
   "outputs": [],
   "source": []
  },
  {
   "cell_type": "code",
   "execution_count": null,
   "id": "6b372728",
   "metadata": {},
   "outputs": [],
   "source": []
  },
  {
   "cell_type": "code",
   "execution_count": 1,
   "id": "578b5e4e",
   "metadata": {},
   "outputs": [
    {
     "data": {
      "text/plain": [
       "1"
      ]
     },
     "execution_count": 1,
     "metadata": {},
     "output_type": "execute_result"
    }
   ],
   "source": [
    "abs(-1)"
   ]
  },
  {
   "cell_type": "code",
   "execution_count": 1,
   "id": "6ea77aac",
   "metadata": {},
   "outputs": [],
   "source": [
    "import numpy as np"
   ]
  },
  {
   "cell_type": "code",
   "execution_count": 23,
   "id": "05346081",
   "metadata": {},
   "outputs": [],
   "source": [
    "a = np.array([[3,4,5],[5,6,7]])"
   ]
  },
  {
   "cell_type": "code",
   "execution_count": 3,
   "id": "55596c56",
   "metadata": {},
   "outputs": [
    {
     "data": {
      "text/plain": [
       "6"
      ]
     },
     "execution_count": 3,
     "metadata": {},
     "output_type": "execute_result"
    }
   ],
   "source": [
    "a.size"
   ]
  },
  {
   "cell_type": "code",
   "execution_count": 6,
   "id": "07a5db23",
   "metadata": {},
   "outputs": [
    {
     "data": {
      "text/plain": [
       "(2, 3)"
      ]
     },
     "execution_count": 6,
     "metadata": {},
     "output_type": "execute_result"
    }
   ],
   "source": [
    "a.shape"
   ]
  },
  {
   "cell_type": "code",
   "execution_count": null,
   "id": "0458cffa",
   "metadata": {},
   "outputs": [],
   "source": []
  },
  {
   "cell_type": "code",
   "execution_count": 29,
   "id": "28bccfdd",
   "metadata": {},
   "outputs": [],
   "source": [
    "def shape(A):\n",
    "    return (len(A), len(A[0]))"
   ]
  },
  {
   "cell_type": "code",
   "execution_count": 7,
   "id": "df5b89ca",
   "metadata": {},
   "outputs": [],
   "source": [
    "a = size(a)"
   ]
  },
  {
   "cell_type": "code",
   "execution_count": 11,
   "id": "a5a10a25",
   "metadata": {},
   "outputs": [
    {
     "data": {
      "text/plain": [
       "5"
      ]
     },
     "execution_count": 11,
     "metadata": {},
     "output_type": "execute_result"
    }
   ],
   "source": []
  },
  {
   "cell_type": "code",
   "execution_count": 12,
   "id": "be1d9f4e",
   "metadata": {},
   "outputs": [],
   "source": [
    "def identity(n):\n",
    "    return [[(1 if i==j else 0) for j in range(n)] for i in range(n)]"
   ]
  },
  {
   "cell_type": "code",
   "execution_count": null,
   "id": "a2740633",
   "metadata": {},
   "outputs": [],
   "source": []
  },
  {
   "cell_type": "code",
   "execution_count": 21,
   "id": "1960bf77",
   "metadata": {},
   "outputs": [],
   "source": [
    "def colconcat(A, B):\n",
    "    return A + B"
   ]
  },
  {
   "cell_type": "code",
   "execution_count": 22,
   "id": "d9859782",
   "metadata": {},
   "outputs": [],
   "source": [
    "b = np.array([[4,5,6],[6,7,8]])"
   ]
  },
  {
   "cell_type": "code",
   "execution_count": 24,
   "id": "9bb6cb20",
   "metadata": {},
   "outputs": [
    {
     "data": {
      "text/plain": [
       "array([[ 7,  9, 11],\n",
       "       [11, 13, 15]])"
      ]
     },
     "execution_count": 24,
     "metadata": {},
     "output_type": "execute_result"
    }
   ],
   "source": [
    "colconcat(a,b)"
   ]
  },
  {
   "cell_type": "code",
   "execution_count": 25,
   "id": "9edef902",
   "metadata": {},
   "outputs": [
    {
     "data": {
      "text/plain": [
       "(array([[3, 4, 5],\n",
       "        [5, 6, 7]]),\n",
       " array([[4, 5, 6],\n",
       "        [6, 7, 8]]))"
      ]
     },
     "execution_count": 25,
     "metadata": {},
     "output_type": "execute_result"
    }
   ],
   "source": [
    "a,b"
   ]
  },
  {
   "cell_type": "code",
   "execution_count": 26,
   "id": "b5278589",
   "metadata": {},
   "outputs": [],
   "source": [
    "def transpose(A):\n",
    "    \n",
    "    (r, c) = size(A)\n",
    "    return [[A[i][j] for i in range(r)] for j in range(c)]"
   ]
  },
  {
   "cell_type": "code",
   "execution_count": 27,
   "id": "0d2447d8",
   "metadata": {},
   "outputs": [
    {
     "data": {
      "text/plain": [
       "[[3, 5], [4, 6], [5, 7]]"
      ]
     },
     "execution_count": 27,
     "metadata": {},
     "output_type": "execute_result"
    }
   ],
   "source": [
    "transpose(a)"
   ]
  },
  {
   "cell_type": "code",
   "execution_count": 28,
   "id": "49c0f0f5",
   "metadata": {},
   "outputs": [
    {
     "data": {
      "text/plain": [
       "array([[3, 5],\n",
       "       [4, 6],\n",
       "       [5, 7]])"
      ]
     },
     "execution_count": 28,
     "metadata": {},
     "output_type": "execute_result"
    }
   ],
   "source": [
    "a.T"
   ]
  },
  {
   "cell_type": "code",
   "execution_count": null,
   "id": "a718d6b4",
   "metadata": {},
   "outputs": [],
   "source": []
  }
 ],
 "metadata": {
  "kernelspec": {
   "display_name": "Python 3 (ipykernel)",
   "language": "python",
   "name": "python3"
  },
  "language_info": {
   "codemirror_mode": {
    "name": "ipython",
    "version": 3
   },
   "file_extension": ".py",
   "mimetype": "text/x-python",
   "name": "python",
   "nbconvert_exporter": "python",
   "pygments_lexer": "ipython3",
   "version": "3.9.12"
  }
 },
 "nbformat": 4,
 "nbformat_minor": 5
}
