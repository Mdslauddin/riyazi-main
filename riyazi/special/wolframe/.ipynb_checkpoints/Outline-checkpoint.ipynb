{
 "cells": [
  {
   "cell_type": "markdown",
   "id": "cb890636",
   "metadata": {},
   "source": [
    "https://www.wolfram.com/mathematica/?source=nav"
   ]
  },
  {
   "cell_type": "markdown",
   "id": "3bd63866",
   "metadata": {},
   "source": [
    " http://functions.wolfram.com/HypergeometricFunctions/"
   ]
  },
  {
   "cell_type": "code",
   "execution_count": null,
   "id": "e553714d",
   "metadata": {},
   "outputs": [],
   "source": []
  }
 ],
 "metadata": {
  "kernelspec": {
   "display_name": "Python 3 (ipykernel)",
   "language": "python",
   "name": "python3"
  },
  "language_info": {
   "codemirror_mode": {
    "name": "ipython",
    "version": 3
   },
   "file_extension": ".py",
   "mimetype": "text/x-python",
   "name": "python",
   "nbconvert_exporter": "python",
   "pygments_lexer": "ipython3",
   "version": "3.9.12"
  }
 },
 "nbformat": 4,
 "nbformat_minor": 5
}
