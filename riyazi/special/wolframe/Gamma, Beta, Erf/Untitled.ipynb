{
 "cells": [
  {
   "cell_type": "code",
   "execution_count": 1,
   "id": "328b8e31",
   "metadata": {},
   "outputs": [],
   "source": [
    "from math import pi,sqrt\n",
    "import math"
   ]
  },
  {
   "cell_type": "code",
   "execution_count": 26,
   "id": "4f877e46",
   "metadata": {},
   "outputs": [],
   "source": [
    "def erf(z):\n",
    "    res = 0\n",
    "    for k in range(100):\n",
    "        res += ( (2/sqrt(pi)*pow(-1,k)*pow(z,2*(k+1))) / (math.factorial(k)*(2*k+1)))\n",
    "    return res"
   ]
  },
  {
   "cell_type": "code",
   "execution_count": 27,
   "id": "0d15508c",
   "metadata": {},
   "outputs": [
    {
     "data": {
      "text/plain": [
       "-258.9065680726819"
      ]
     },
     "execution_count": 27,
     "metadata": {},
     "output_type": "execute_result"
    }
   ],
   "source": [
    "erf(3)"
   ]
  },
  {
   "cell_type": "code",
   "execution_count": 25,
   "id": "ffb7aeba",
   "metadata": {
    "scrolled": true
   },
   "outputs": [
    {
     "data": {
      "text/plain": [
       "0.9999779095030014"
      ]
     },
     "execution_count": 25,
     "metadata": {},
     "output_type": "execute_result"
    }
   ],
   "source": [
    "math.erf(3)"
   ]
  },
  {
   "cell_type": "code",
   "execution_count": 39,
   "id": "60c59e3e",
   "metadata": {},
   "outputs": [],
   "source": [
    "from math import e \n",
    "def sin(z):\n",
    "    return (pow(e,1j*z)-pow(e,-1j*z)) /2j"
   ]
  },
  {
   "cell_type": "code",
   "execution_count": 46,
   "id": "fef4ff96",
   "metadata": {},
   "outputs": [
    {
     "data": {
      "text/plain": [
       "(0.10706364941313236+0j)"
      ]
     },
     "execution_count": 46,
     "metadata": {},
     "output_type": "execute_result"
    }
   ],
   "source": [
    "sin(300000)"
   ]
  },
  {
   "cell_type": "code",
   "execution_count": 37,
   "id": "ae0d59d8",
   "metadata": {},
   "outputs": [],
   "source": [
    "import cmath as cm"
   ]
  },
  {
   "cell_type": "code",
   "execution_count": 44,
   "id": "c6243d8f",
   "metadata": {},
   "outputs": [
    {
     "data": {
      "text/plain": [
       "0.10706364941313236"
      ]
     },
     "execution_count": 44,
     "metadata": {},
     "output_type": "execute_result"
    }
   ],
   "source": [
    "cm.sin(300000).real"
   ]
  },
  {
   "cell_type": "code",
   "execution_count": 47,
   "id": "59f2d4cb",
   "metadata": {},
   "outputs": [],
   "source": [
    "import scipy.special as sp "
   ]
  },
  {
   "cell_type": "code",
   "execution_count": 48,
   "id": "5ae557a6",
   "metadata": {},
   "outputs": [
    {
     "data": {
      "text/plain": [
       "3.8981718325193755e-17"
      ]
     },
     "execution_count": 48,
     "metadata": {},
     "output_type": "execute_result"
    }
   ],
   "source": [
    "sp.sinc(3)"
   ]
  },
  {
   "cell_type": "code",
   "execution_count": 49,
   "id": "5aad4941",
   "metadata": {},
   "outputs": [],
   "source": [
    "from math import e \n",
    "def sinc(z):\n",
    "    return ((pow(e,1j*z)-pow(e,-1j*z))/2j)/z"
   ]
  },
  {
   "cell_type": "code",
   "execution_count": 50,
   "id": "899c0d1a",
   "metadata": {},
   "outputs": [
    {
     "data": {
      "text/plain": [
       "(0.0470400026866224+0j)"
      ]
     },
     "execution_count": 50,
     "metadata": {},
     "output_type": "execute_result"
    }
   ],
   "source": [
    "sinc(3)"
   ]
  },
  {
   "cell_type": "code",
   "execution_count": 51,
   "id": "d2f1c1c0",
   "metadata": {},
   "outputs": [],
   "source": [
    "from math import sin \n",
    "def sinc(z):\n",
    "    return sin(z)/z"
   ]
  },
  {
   "cell_type": "code",
   "execution_count": 52,
   "id": "71e929ae",
   "metadata": {},
   "outputs": [
    {
     "data": {
      "text/plain": [
       "0.0470400026866224"
      ]
     },
     "execution_count": 52,
     "metadata": {},
     "output_type": "execute_result"
    }
   ],
   "source": [
    "sinc(3)"
   ]
  },
  {
   "cell_type": "code",
   "execution_count": 53,
   "id": "ac3a87dd",
   "metadata": {},
   "outputs": [],
   "source": [
    "def sp(x):\n",
    "    return sin(pi*x)/(pi*x)"
   ]
  },
  {
   "cell_type": "code",
   "execution_count": 54,
   "id": "00513403",
   "metadata": {},
   "outputs": [
    {
     "data": {
      "text/plain": [
       "3.8981718325193755e-17"
      ]
     },
     "execution_count": 54,
     "metadata": {},
     "output_type": "execute_result"
    }
   ],
   "source": [
    "sp(3)"
   ]
  },
  {
   "cell_type": "markdown",
   "id": "7ecf021a",
   "metadata": {},
   "source": [
    "https://www.redcrab-software.com/en/calculator/Sinc"
   ]
  },
  {
   "cell_type": "code",
   "execution_count": null,
   "id": "6ecd479e",
   "metadata": {},
   "outputs": [],
   "source": []
  }
 ],
 "metadata": {
  "kernelspec": {
   "display_name": "Python 3 (ipykernel)",
   "language": "python",
   "name": "python3"
  },
  "language_info": {
   "codemirror_mode": {
    "name": "ipython",
    "version": 3
   },
   "file_extension": ".py",
   "mimetype": "text/x-python",
   "name": "python",
   "nbconvert_exporter": "python",
   "pygments_lexer": "ipython3",
   "version": "3.9.12"
  }
 },
 "nbformat": 4,
 "nbformat_minor": 5
}
