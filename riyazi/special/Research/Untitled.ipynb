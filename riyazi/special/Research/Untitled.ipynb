{
 "cells": [
  {
   "cell_type": "code",
   "execution_count": 1,
   "id": "54b047b1",
   "metadata": {},
   "outputs": [],
   "source": [
    "from scipy.special import zeta"
   ]
  },
  {
   "cell_type": "code",
   "execution_count": 2,
   "id": "3d7d718c",
   "metadata": {},
   "outputs": [
    {
     "data": {
      "text/plain": [
       "-1.4603545088095866"
      ]
     },
     "execution_count": 2,
     "metadata": {},
     "output_type": "execute_result"
    }
   ],
   "source": [
    "zeta(0.5)"
   ]
  },
  {
   "cell_type": "code",
   "execution_count": 3,
   "id": "b5d14c74",
   "metadata": {},
   "outputs": [],
   "source": [
    "def zet(x):\n",
    "    return (1/ (x)**2)"
   ]
  },
  {
   "cell_type": "code",
   "execution_count": 4,
   "id": "76d4127a",
   "metadata": {},
   "outputs": [
    {
     "data": {
      "text/plain": [
       "4.0"
      ]
     },
     "execution_count": 4,
     "metadata": {},
     "output_type": "execute_result"
    }
   ],
   "source": [
    "zet(0.5)"
   ]
  },
  {
   "cell_type": "code",
   "execution_count": null,
   "id": "67daa45f",
   "metadata": {},
   "outputs": [],
   "source": []
  }
 ],
 "metadata": {
  "kernelspec": {
   "display_name": "Python 3 (ipykernel)",
   "language": "python",
   "name": "python3"
  },
  "language_info": {
   "codemirror_mode": {
    "name": "ipython",
    "version": 3
   },
   "file_extension": ".py",
   "mimetype": "text/x-python",
   "name": "python",
   "nbconvert_exporter": "python",
   "pygments_lexer": "ipython3",
   "version": "3.9.12"
  }
 },
 "nbformat": 4,
 "nbformat_minor": 5
}
