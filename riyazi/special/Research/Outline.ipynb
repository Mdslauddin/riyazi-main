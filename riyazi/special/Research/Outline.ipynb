{
 "cells": [
  {
   "cell_type": "markdown",
   "id": "456fd4d1",
   "metadata": {},
   "source": [
    "# https://keisan.casio.com/menu/system/000000000760"
   ]
  },
  {
   "cell_type": "markdown",
   "id": "64b74a78",
   "metadata": {},
   "source": [
    "### Gamma function\n",
    "### Beta function\n",
    "### Zeta function\n",
    "### Bessel function\n",
    "### Spherical bessel function\n",
    "### Airy function\n",
    "### Kelvin function\n",
    "### Struve function\n",
    "### Error function\n",
    "### Legendre function\n",
    "### Bernoulli number\n",
    "### Stirling number\n",
    "### Fibonacci sequence\n",
    "### Double factorial\n",
    "### Pochhammer function\n",
    "### Brillouin function\n",
    "### Activation function\n",
    "### Exponential integral\n",
    "### Fresnel integral\n",
    "### Elliptic integral\n",
    "### Elliptic function\n",
    "### Orthogonal polynomial\n",
    "### Hypergeometric function"
   ]
  },
  {
   "cell_type": "code",
   "execution_count": null,
   "id": "94c02bc0",
   "metadata": {},
   "outputs": [],
   "source": []
  },
  {
   "cell_type": "markdown",
   "id": "a855d7ef",
   "metadata": {},
   "source": [
    "https://www.gnu.org/software/gsl/doc/html/specfunc.html#logarithm-and-related-functions\n",
    "\n",
    "https://en.wikipedia.org/wiki/Airy_function"
   ]
  },
  {
   "cell_type": "code",
   "execution_count": null,
   "id": "153746fe",
   "metadata": {},
   "outputs": [],
   "source": []
  }
 ],
 "metadata": {
  "kernelspec": {
   "display_name": "Python 3 (ipykernel)",
   "language": "python",
   "name": "python3"
  },
  "language_info": {
   "codemirror_mode": {
    "name": "ipython",
    "version": 3
   },
   "file_extension": ".py",
   "mimetype": "text/x-python",
   "name": "python",
   "nbconvert_exporter": "python",
   "pygments_lexer": "ipython3",
   "version": "3.9.12"
  }
 },
 "nbformat": 4,
 "nbformat_minor": 5
}
