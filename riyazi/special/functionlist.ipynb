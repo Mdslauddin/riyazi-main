{
 "cells": [
  {
   "cell_type": "markdown",
   "id": "0219e3ad",
   "metadata": {},
   "source": [
    "# Anger function"
   ]
  },
  {
   "cell_type": "markdown",
   "id": "2d6f9272",
   "metadata": {},
   "source": [
    "https://en.wikipedia.org/wiki/Anger_function"
   ]
  },
  {
   "cell_type": "markdown",
   "id": "83cc2ac6",
   "metadata": {},
   "source": [
    "# Bessel function"
   ]
  },
  {
   "cell_type": "markdown",
   "id": "59f58600",
   "metadata": {},
   "source": [
    "https://en.wikipedia.org/wiki/Bessel_function#Bessel_functions_of_the_second_kind_:_Y.CE.B1"
   ]
  },
  {
   "cell_type": "markdown",
   "id": "8dc67c83",
   "metadata": {},
   "source": [
    "https://en.wikipedia.org/wiki/Elliptic_curve"
   ]
  },
  {
   "cell_type": "markdown",
   "id": "4592b30c",
   "metadata": {},
   "source": [
    "https://en.wikipedia.org/wiki/Jacobi_elliptic_functions"
   ]
  },
  {
   "cell_type": "code",
   "execution_count": null,
   "id": "c37f9376",
   "metadata": {},
   "outputs": [],
   "source": []
  },
  {
   "cell_type": "code",
   "execution_count": null,
   "id": "3f931aa9",
   "metadata": {},
   "outputs": [],
   "source": []
  },
  {
   "cell_type": "code",
   "execution_count": null,
   "id": "e8ab496c",
   "metadata": {},
   "outputs": [],
   "source": []
  },
  {
   "cell_type": "code",
   "execution_count": null,
   "id": "c2595bef",
   "metadata": {},
   "outputs": [],
   "source": []
  },
  {
   "cell_type": "code",
   "execution_count": null,
   "id": "f5044767",
   "metadata": {},
   "outputs": [],
   "source": []
  },
  {
   "cell_type": "code",
   "execution_count": null,
   "id": "bee495c1",
   "metadata": {},
   "outputs": [],
   "source": []
  },
  {
   "cell_type": "markdown",
   "id": "aeee9992",
   "metadata": {},
   "source": [
    "https://en.wikipedia.org/wiki/List_of_special_functions_and_eponyms\n",
    "    \n",
    "https://en.wikipedia.org/wiki/Special_functions"
   ]
  },
  {
   "cell_type": "code",
   "execution_count": null,
   "id": "096d59de",
   "metadata": {},
   "outputs": [],
   "source": []
  }
 ],
 "metadata": {
  "kernelspec": {
   "display_name": "Python 3 (ipykernel)",
   "language": "python",
   "name": "python3"
  },
  "language_info": {
   "codemirror_mode": {
    "name": "ipython",
    "version": 3
   },
   "file_extension": ".py",
   "mimetype": "text/x-python",
   "name": "python",
   "nbconvert_exporter": "python",
   "pygments_lexer": "ipython3",
   "version": "3.9.12"
  }
 },
 "nbformat": 4,
 "nbformat_minor": 5
}
