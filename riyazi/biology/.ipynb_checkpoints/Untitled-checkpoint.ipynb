{
 "cells": [
  {
   "cell_type": "markdown",
   "id": "58d709fc",
   "metadata": {},
   "source": [
    "# [Computational Biology ](https://en.wikipedia.org/wiki/Computational_biology#:~:text=Computational%20biology%20refers%20to%20the%20use%20of%20data,foundations%20in%20applied%20mathematics%2C%20chemistry%2C%20and%20genetics.%20%5B2%5D)"
   ]
  },
  {
   "cell_type": "markdown",
   "id": "5eb738a6",
   "metadata": {},
   "source": [
    "https://cbd.cmu.edu/about-us/what-is-computational-biology.html"
   ]
  },
  {
   "cell_type": "markdown",
   "id": "596632f0",
   "metadata": {},
   "source": [
    "https://www.nature.com/subjects/computational-biology-and-bioinformatics"
   ]
  },
  {
   "cell_type": "markdown",
   "id": "faf8fe15",
   "metadata": {},
   "source": [
    "https://www.northeastern.edu/graduate/blog/computational-biology-vs-bioinformatics/"
   ]
  },
  {
   "cell_type": "markdown",
   "id": "0bac5ea5",
   "metadata": {},
   "source": [
    "https://www.imsc.res.in/phd_programme_computational_biology"
   ]
  },
  {
   "cell_type": "markdown",
   "id": "6163436c",
   "metadata": {},
   "source": [
    "https://researcher.watson.ibm.com/researcher/view_group.php?id=137"
   ]
  },
  {
   "cell_type": "markdown",
   "id": "463aff05",
   "metadata": {},
   "source": [
    "https://www.cs.ox.ac.uk/teaching/courses/2022-2023/cbio/"
   ]
  },
  {
   "cell_type": "markdown",
   "id": "b28da34a",
   "metadata": {},
   "source": [
    "https://iitk.ac.in/new/computational-biology-bioinformatics"
   ]
  },
  {
   "cell_type": "markdown",
   "id": "8320b880",
   "metadata": {},
   "source": [
    "https://cals.cornell.edu/computational-biology/about-us"
   ]
  },
  {
   "cell_type": "markdown",
   "id": "909f881e",
   "metadata": {},
   "source": [
    "https://cs.illinois.edu/research/areas/bioinformatics-and-computational-biology"
   ]
  },
  {
   "cell_type": "markdown",
   "id": "eb1219dd",
   "metadata": {},
   "source": [
    "https://science.rpi.edu/biology/programs/undergrad/bs-computational-biology"
   ]
  },
  {
   "cell_type": "markdown",
   "id": "1da4e2e7",
   "metadata": {},
   "source": [
    "https://iar.ac.in/academics/department-of-biotechnology-and-bioengineering/m-sc-computational-biology/"
   ]
  },
  {
   "cell_type": "markdown",
   "id": "066672c5",
   "metadata": {},
   "source": [
    "https://biology.stanford.edu/research/computational-biology"
   ]
  },
  {
   "cell_type": "markdown",
   "id": "027edd90",
   "metadata": {},
   "source": [
    "https://www.biology.columbia.edu/researchareas/computational-biology"
   ]
  },
  {
   "cell_type": "markdown",
   "id": "6ba3dadb",
   "metadata": {},
   "source": [
    "https://systemsbiology.columbia.edu/center-for-computational-biology-and-bioinformatics-c2b2"
   ]
  },
  {
   "cell_type": "markdown",
   "id": "36c46378",
   "metadata": {},
   "source": [
    "https://www.ncbi.nlm.nih.gov/research/"
   ]
  },
  {
   "cell_type": "markdown",
   "id": "82d5b0a1",
   "metadata": {},
   "source": [
    "https://www.hindawi.com/journals/tswj/si/905281/?utm_source=google&utm_medium=cpc&utm_campaign=HDW_MRKT_GBL_SUB_ADWO_PAI_DYNA_JOUR_X_PCUPS_Cambridge&gclid=Cj0KCQiAyMKbBhD1ARIsANs7rEFVBeF7EcBxiRSb2zCcPIUgR0pWwn77svxtkrcNC1Ie81f83YqmcvUaAjSIEALw_wcB"
   ]
  },
  {
   "cell_type": "markdown",
   "id": "2cf44835",
   "metadata": {},
   "source": [
    "https://bio.libretexts.org/Bookshelves/Computational_Biology"
   ]
  },
  {
   "cell_type": "markdown",
   "id": "249efb86",
   "metadata": {},
   "source": [
    "https://www.utdallas.edu/fact-sheets/nsm/ms-bioinformatics/"
   ]
  },
  {
   "cell_type": "markdown",
   "id": "190e47b5",
   "metadata": {},
   "source": [
    "https://www.medicaltechnologyschools.com/biotechnology/bioinformatics-vs-computational-biology"
   ]
  },
  {
   "cell_type": "markdown",
   "id": "b9351f91",
   "metadata": {},
   "source": [
    "https://www.quora.com/What-is-computational-biology"
   ]
  },
  {
   "cell_type": "markdown",
   "id": "8d1f3d09",
   "metadata": {},
   "source": [
    "https://cs.vt.edu/research/research-areas/computational-biology-and-bioinformatics.html"
   ]
  },
  {
   "cell_type": "markdown",
   "id": "4b219c0f",
   "metadata": {},
   "source": [
    "https://molbiosci.rutgers.edu/faculty-research/faculty/faculty-research/506-computational-biology"
   ]
  },
  {
   "cell_type": "markdown",
   "id": "21bcad42",
   "metadata": {},
   "source": [
    "https://www.cs.washington.edu/research/compbio"
   ]
  },
  {
   "cell_type": "markdown",
   "id": "f33c93ee",
   "metadata": {},
   "source": [
    "https://www.rroij.com/open-access/types-and-applications-of-computational-biology.php?aid=91655"
   ]
  },
  {
   "cell_type": "markdown",
   "id": "6d41e84f",
   "metadata": {},
   "source": [
    "https://luddy.indiana.edu/research/research-areas/bioinformatics-computational-biology.html"
   ]
  },
  {
   "cell_type": "markdown",
   "id": "baa859f2",
   "metadata": {},
   "source": [
    "https://www.stjohns.edu/academics/programs/computational-biology-and-biostatistics-master-science"
   ]
  },
  {
   "cell_type": "markdown",
   "id": "6868d44b",
   "metadata": {},
   "source": [
    "https://cse.osu.edu/research/computational-biology"
   ]
  },
  {
   "cell_type": "markdown",
   "id": "b24d1180",
   "metadata": {},
   "source": [
    "https://www.mdanderson.org/research/departments-labs-institutes/departments-divisions/bioinformatics-and-computational-biology.html"
   ]
  },
  {
   "cell_type": "markdown",
   "id": "21a564ed",
   "metadata": {},
   "source": [
    "https://www.fredhutch.org/en/research/divisions/public-health-sciences-division/research/computational-biology.html"
   ]
  },
  {
   "cell_type": "code",
   "execution_count": null,
   "id": "f3106158",
   "metadata": {},
   "outputs": [],
   "source": []
  }
 ],
 "metadata": {
  "kernelspec": {
   "display_name": "Python 3 (ipykernel)",
   "language": "python",
   "name": "python3"
  },
  "language_info": {
   "codemirror_mode": {
    "name": "ipython",
    "version": 3
   },
   "file_extension": ".py",
   "mimetype": "text/x-python",
   "name": "python",
   "nbconvert_exporter": "python",
   "pygments_lexer": "ipython3",
   "version": "3.9.12"
  }
 },
 "nbformat": 4,
 "nbformat_minor": 5
}
