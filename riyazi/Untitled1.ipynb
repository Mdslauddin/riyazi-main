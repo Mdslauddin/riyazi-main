{
 "cells": [
  {
   "cell_type": "code",
   "execution_count": null,
   "id": "106c70f9",
   "metadata": {},
   "outputs": [],
   "source": [
    "import Module"
   ]
  },
  {
   "cell_type": "code",
   "execution_count": null,
   "id": "a4ab464e",
   "metadata": {},
   "outputs": [],
   "source": [
    "Module.add(5,6)"
   ]
  },
  {
   "cell_type": "code",
   "execution_count": null,
   "id": "f0d65158",
   "metadata": {},
   "outputs": [],
   "source": [
    "Module.constant"
   ]
  },
  {
   "cell_type": "code",
   "execution_count": null,
   "id": "cffa316d",
   "metadata": {},
   "outputs": [],
   "source": [
    "Module.main"
   ]
  },
  {
   "cell_type": "code",
   "execution_count": null,
   "id": "0ee78504",
   "metadata": {},
   "outputs": [],
   "source": [
    "import numpy as np"
   ]
  },
  {
   "cell_type": "code",
   "execution_count": null,
   "id": "69f081e7",
   "metadata": {},
   "outputs": [],
   "source": [
    "np.fromumeric"
   ]
  },
  {
   "cell_type": "code",
   "execution_count": null,
   "id": "49abf601",
   "metadata": {},
   "outputs": [],
   "source": [
    "Module.div(5,7)"
   ]
  },
  {
   "cell_type": "code",
   "execution_count": null,
   "id": "73a5a59e",
   "metadata": {},
   "outputs": [],
   "source": [
    "Module.constant"
   ]
  },
  {
   "cell_type": "code",
   "execution_count": null,
   "id": "7abc25b1",
   "metadata": {},
   "outputs": [],
   "source": [
    "import optparse\n",
    "import re\n",
    "import sys\n",
    "import os\n",
    "import io\n",
    "import subprocess\n",
    "import collections\n",
    "\n"
   ]
  },
  {
   "cell_type": "code",
   "execution_count": null,
   "id": "ffae21b7",
   "metadata": {},
   "outputs": [],
   "source": []
  }
 ],
 "metadata": {
  "kernelspec": {
   "display_name": "Python 3 (ipykernel)",
   "language": "python",
   "name": "python3"
  },
  "language_info": {
   "codemirror_mode": {
    "name": "ipython",
    "version": 3
   },
   "file_extension": ".py",
   "mimetype": "text/x-python",
   "name": "python",
   "nbconvert_exporter": "python",
   "pygments_lexer": "ipython3",
   "version": "3.9.12"
  }
 },
 "nbformat": 4,
 "nbformat_minor": 5
}
