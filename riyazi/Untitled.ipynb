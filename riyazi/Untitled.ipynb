{
 "cells": [
  {
   "cell_type": "code",
   "execution_count": 1,
   "id": "efd1fe0e",
   "metadata": {},
   "outputs": [],
   "source": [
    "import scipy.special as sp"
   ]
  },
  {
   "cell_type": "code",
   "execution_count": 2,
   "id": "90529b66",
   "metadata": {},
   "outputs": [
    {
     "data": {
      "text/plain": [
       "1.5061176684318003"
      ]
     },
     "execution_count": 2,
     "metadata": {},
     "output_type": "execute_result"
    }
   ],
   "source": [
    "sp.digamma(5)"
   ]
  },
  {
   "cell_type": "code",
   "execution_count": 3,
   "id": "b7a1aad3",
   "metadata": {},
   "outputs": [],
   "source": [
    "from math import log,e\n",
    "def digamma(x):\n",
    "    return log(e)/x"
   ]
  },
  {
   "cell_type": "code",
   "execution_count": 4,
   "id": "da5823b3",
   "metadata": {},
   "outputs": [
    {
     "data": {
      "text/plain": [
       "0.2"
      ]
     },
     "execution_count": 4,
     "metadata": {},
     "output_type": "execute_result"
    }
   ],
   "source": [
    "digamma(5)"
   ]
  },
  {
   "cell_type": "code",
   "execution_count": 5,
   "id": "6875890a",
   "metadata": {},
   "outputs": [],
   "source": [
    "def polylogarithm(n, z, tolerance=1e-10):\n",
    "    result = 0\n",
    "    k = 1\n",
    "    term = 1\n",
    "    while abs(term) > tolerance:\n",
    "        result += term\n",
    "        k += 1\n",
    "        term *= z / k**n\n",
    "    return result\n"
   ]
  },
  {
   "cell_type": "code",
   "execution_count": 14,
   "id": "a39772cf",
   "metadata": {},
   "outputs": [
    {
     "data": {
      "text/plain": [
       "1.6299068549178477"
      ]
     },
     "execution_count": 14,
     "metadata": {},
     "output_type": "execute_result"
    }
   ],
   "source": [
    "polylogarithm(3.2,5)"
   ]
  },
  {
   "cell_type": "code",
   "execution_count": 24,
   "id": "40a3341a",
   "metadata": {},
   "outputs": [],
   "source": [
    "def dilogarithm(z, tolerance=1e-10):\n",
    "    result = 0\n",
    "    k = 1\n",
    "    term = 1\n",
    "    while abs(term) > tolerance:\n",
    "        result += term\n",
    "        k += 1\n",
    "        term *= z / k**2\n",
    "    return result\n"
   ]
  },
  {
   "cell_type": "code",
   "execution_count": 25,
   "id": "928637ac",
   "metadata": {},
   "outputs": [
    {
     "data": {
      "text/plain": [
       "3.2115555706673518"
      ]
     },
     "execution_count": 25,
     "metadata": {},
     "output_type": "execute_result"
    }
   ],
   "source": [
    "dilogarithm(5)"
   ]
  },
  {
   "cell_type": "code",
   "execution_count": null,
   "id": "48ec33b3",
   "metadata": {},
   "outputs": [],
   "source": []
  },
  {
   "cell_type": "code",
   "execution_count": null,
   "id": "8158d4ae",
   "metadata": {},
   "outputs": [],
   "source": [
    "from math import pi,log,\n",
    "from mpmath import coth\n",
    "\n",
    "pi*1j*coth()"
   ]
  },
  {
   "cell_type": "code",
   "execution_count": 5,
   "id": "bdaa2fc9",
   "metadata": {},
   "outputs": [],
   "source": [
    "def zeros_matrix(rows, cols):\n",
    "    \"\"\"\n",
    "    Creates a matrix filled with zeros.\n",
    "        :param rows: the number of rows the matrix should have\n",
    "        :param cols: the number of columns the matrix should have\n",
    " \n",
    "        :return: list of lists that form the matrix\n",
    "    \"\"\"\n",
    "    M = []\n",
    "    while len(M) < rows:\n",
    "        M.append([])\n",
    "        while len(M[-1]) < cols:\n",
    "            M[-1].append(0.0)\n",
    " \n",
    "    return M"
   ]
  },
  {
   "cell_type": "code",
   "execution_count": 7,
   "id": "7488c114",
   "metadata": {},
   "outputs": [
    {
     "ename": "TypeError",
     "evalue": "zeros_matrix() takes 2 positional arguments but 6 were given",
     "output_type": "error",
     "traceback": [
      "\u001b[1;31m---------------------------------------------------------------------------\u001b[0m",
      "\u001b[1;31mTypeError\u001b[0m                                 Traceback (most recent call last)",
      "Input \u001b[1;32mIn [7]\u001b[0m, in \u001b[0;36m<cell line: 1>\u001b[1;34m()\u001b[0m\n\u001b[1;32m----> 1\u001b[0m \u001b[43mzeros_matrix\u001b[49m\u001b[43m(\u001b[49m\u001b[38;5;241;43m1\u001b[39;49m\u001b[43m,\u001b[49m\u001b[38;5;241;43m2\u001b[39;49m\u001b[43m,\u001b[49m\u001b[38;5;241;43m4\u001b[39;49m\u001b[43m,\u001b[49m\u001b[38;5;241;43m1\u001b[39;49m\u001b[43m,\u001b[49m\u001b[38;5;241;43m8\u001b[39;49m\u001b[43m,\u001b[49m\u001b[38;5;241;43m9\u001b[39;49m\u001b[43m)\u001b[49m\n",
      "\u001b[1;31mTypeError\u001b[0m: zeros_matrix() takes 2 positional arguments but 6 were given"
     ]
    }
   ],
   "source": [
    "zeros_matrix(1,2,4,1,8,9)"
   ]
  },
  {
   "cell_type": "code",
   "execution_count": null,
   "id": "e4bd2ee1",
   "metadata": {},
   "outputs": [],
   "source": []
  },
  {
   "cell_type": "code",
   "execution_count": null,
   "id": "c132ec77",
   "metadata": {},
   "outputs": [],
   "source": []
  },
  {
   "cell_type": "code",
   "execution_count": null,
   "id": "50219995",
   "metadata": {},
   "outputs": [],
   "source": []
  },
  {
   "cell_type": "code",
   "execution_count": null,
   "id": "927d1b08",
   "metadata": {},
   "outputs": [],
   "source": [
    "import s"
   ]
  },
  {
   "cell_type": "code",
   "execution_count": null,
   "id": "6f6889d7",
   "metadata": {},
   "outputs": [],
   "source": []
  },
  {
   "cell_type": "code",
   "execution_count": 1,
   "id": "b91e9ba6",
   "metadata": {},
   "outputs": [],
   "source": [
    "import scipy.special as sc"
   ]
  },
  {
   "cell_type": "code",
   "execution_count": 1,
   "id": "d4967cbd",
   "metadata": {},
   "outputs": [],
   "source": [
    "import special "
   ]
  },
  {
   "cell_type": "code",
   "execution_count": null,
   "id": "47e5b66b",
   "metadata": {},
   "outputs": [],
   "source": [
    "special."
   ]
  },
  {
   "cell_type": "code",
   "execution_count": 3,
   "id": "2739167e",
   "metadata": {},
   "outputs": [
    {
     "data": {
      "text/plain": [
       "2"
      ]
     },
     "execution_count": 3,
     "metadata": {},
     "output_type": "execute_result"
    }
   ],
   "source": [
    "special.around(2)"
   ]
  },
  {
   "cell_type": "code",
   "execution_count": 4,
   "id": "f1aa7ecf",
   "metadata": {},
   "outputs": [
    {
     "data": {
      "text/plain": [
       "2.0"
      ]
     },
     "execution_count": 4,
     "metadata": {},
     "output_type": "execute_result"
    }
   ],
   "source": [
    "sc.round(2)"
   ]
  },
  {
   "cell_type": "code",
   "execution_count": 5,
   "id": "6184d693",
   "metadata": {},
   "outputs": [
    {
     "data": {
      "text/plain": [
       "1.7099759466766968"
      ]
     },
     "execution_count": 5,
     "metadata": {},
     "output_type": "execute_result"
    }
   ],
   "source": [
    "special.cbrt(5)"
   ]
  },
  {
   "cell_type": "code",
   "execution_count": 6,
   "id": "2369aad4",
   "metadata": {},
   "outputs": [
    {
     "data": {
      "text/plain": [
       "1.709975946676697"
      ]
     },
     "execution_count": 6,
     "metadata": {},
     "output_type": "execute_result"
    }
   ],
   "source": [
    "sc.cbrt(5)"
   ]
  },
  {
   "cell_type": "code",
   "execution_count": null,
   "id": "d41c2099",
   "metadata": {},
   "outputs": [],
   "source": [
    "special."
   ]
  },
  {
   "cell_type": "code",
   "execution_count": null,
   "id": "dc11f25d",
   "metadata": {},
   "outputs": [],
   "source": []
  },
  {
   "cell_type": "code",
   "execution_count": null,
   "id": "de618edc",
   "metadata": {},
   "outputs": [],
   "source": []
  },
  {
   "cell_type": "code",
   "execution_count": null,
   "id": "b76c3fd7",
   "metadata": {},
   "outputs": [],
   "source": []
  },
  {
   "cell_type": "code",
   "execution_count": null,
   "id": "8e4a4643",
   "metadata": {},
   "outputs": [],
   "source": [
    "import math as rm"
   ]
  },
  {
   "cell_type": "code",
   "execution_count": null,
   "id": "42b1f7a6",
   "metadata": {},
   "outputs": [],
   "source": []
  },
  {
   "cell_type": "code",
   "execution_count": null,
   "id": "9f12b346",
   "metadata": {},
   "outputs": [],
   "source": [
    "import constant"
   ]
  },
  {
   "cell_type": "code",
   "execution_count": null,
   "id": "d3b954b8",
   "metadata": {},
   "outputs": [],
   "source": [
    "constant.Bit"
   ]
  },
  {
   "cell_type": "code",
   "execution_count": null,
   "id": "302a070c",
   "metadata": {},
   "outputs": [],
   "source": [
    "constant.Byte"
   ]
  },
  {
   "cell_type": "code",
   "execution_count": null,
   "id": "8ea8211a",
   "metadata": {},
   "outputs": [],
   "source": [
    "constant.Nibble"
   ]
  },
  {
   "cell_type": "code",
   "execution_count": null,
   "id": "4bccaf7d",
   "metadata": {},
   "outputs": [],
   "source": [
    "constant."
   ]
  },
  {
   "cell_type": "code",
   "execution_count": null,
   "id": "b5245c68",
   "metadata": {},
   "outputs": [],
   "source": []
  }
 ],
 "metadata": {
  "kernelspec": {
   "display_name": "Python 3 (ipykernel)",
   "language": "python",
   "name": "python3"
  },
  "language_info": {
   "codemirror_mode": {
    "name": "ipython",
    "version": 3
   },
   "file_extension": ".py",
   "mimetype": "text/x-python",
   "name": "python",
   "nbconvert_exporter": "python",
   "pygments_lexer": "ipython3",
   "version": "3.9.12"
  }
 },
 "nbformat": 4,
 "nbformat_minor": 5
}
