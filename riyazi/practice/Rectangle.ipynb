{
 "cells": [
  {
   "cell_type": "code",
   "execution_count": 5,
   "id": "04d61079",
   "metadata": {},
   "outputs": [],
   "source": [
    "def rectangle(length, width , area=None , diagonal=None , perimeter=None):\n",
    "    A = length*width\n",
    "    diagonal = (width**2+ length**2)**0.5\n",
    "    p = 2*(length+width)\n",
    "    \n",
    "    return f\"Area {A} , Diagonal {diagonal} , perimetre {p}\"\n",
    "    "
   ]
  },
  {
   "cell_type": "code",
   "execution_count": 6,
   "id": "d2996e6f-33ec-4838-ad24-6e10926785ed",
   "metadata": {},
   "outputs": [
    {
     "data": {
      "text/plain": [
       "'Area 20 , Diagonal 6.4031242374328485 , perimetre 18'"
      ]
     },
     "execution_count": 6,
     "metadata": {},
     "output_type": "execute_result"
    }
   ],
   "source": [
    "rectangle(5,4)"
   ]
  },
  {
   "cell_type": "code",
   "execution_count": 4,
   "id": "9b239cb3",
   "metadata": {},
   "outputs": [
    {
     "data": {
      "text/plain": [
       "(20, 6.4031242374328485, 18)"
      ]
     },
     "execution_count": 4,
     "metadata": {},
     "output_type": "execute_result"
    }
   ],
   "source": [
    "rectangle(5,4)"
   ]
  },
  {
   "cell_type": "code",
   "execution_count": 10,
   "id": "c02261fe",
   "metadata": {},
   "outputs": [],
   "source": [
    "def Rectangle(length, width , area=None, diagonal=None, perimeter=None):\n",
    "    "
   ]
  },
  {
   "cell_type": "code",
   "execution_count": 14,
   "id": "f9bde04e",
   "metadata": {},
   "outputs": [
    {
     "data": {
      "text/plain": [
       "(3.5999999999999996, 2.4, 4.326661530556787, 12.0)"
      ]
     },
     "execution_count": 14,
     "metadata": {},
     "output_type": "execute_result"
    }
   ],
   "source": [
    "rectangle(area=6)"
   ]
  },
  {
   "cell_type": "code",
   "execution_count": 2,
   "id": "6e986b5c",
   "metadata": {},
   "outputs": [
    {
     "data": {
      "text/plain": [
       "0"
      ]
     },
     "execution_count": 2,
     "metadata": {},
     "output_type": "execute_result"
    }
   ],
   "source": [
    "x =0 \n",
    "y =0 \n",
    "x**2+y**2"
   ]
  },
  {
   "cell_type": "code",
   "execution_count": null,
   "id": "354b2014-9b1f-442a-b2c5-f15617e23c18",
   "metadata": {},
   "outputs": [],
   "source": []
  }
 ],
 "metadata": {
  "kernelspec": {
   "display_name": "Python 3 (ipykernel)",
   "language": "python",
   "name": "python3"
  },
  "language_info": {
   "codemirror_mode": {
    "name": "ipython",
    "version": 3
   },
   "file_extension": ".py",
   "mimetype": "text/x-python",
   "name": "python",
   "nbconvert_exporter": "python",
   "pygments_lexer": "ipython3",
   "version": "3.9.12"
  }
 },
 "nbformat": 4,
 "nbformat_minor": 5
}
