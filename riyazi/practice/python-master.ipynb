{
 "cells": [
  {
   "cell_type": "code",
   "execution_count": 1,
   "id": "be6b94d6",
   "metadata": {},
   "outputs": [
    {
     "name": "stdout",
     "output_type": "stream",
     "text": [
      "solution() = 233168\n"
     ]
    }
   ],
   "source": [
    "\"\"\"\n",
    "Project Euler Problem 1: https://projecteuler.net/problem=1\n",
    "\n",
    "Multiples of 3 and 5\n",
    "\n",
    "If we list all the natural numbers below 10 that are multiples of 3 or 5,\n",
    "we get 3, 5, 6 and 9. The sum of these multiples is 23.\n",
    "\n",
    "Find the sum of all the multiples of 3 or 5 below 1000.\n",
    "\"\"\"\n",
    "\n",
    "\n",
    "def solution(n: int = 1000) -> int:\n",
    "    \"\"\"\n",
    "    Returns the sum of all the multiples of 3 or 5 below n.\n",
    "\n",
    "    >>> solution(3)\n",
    "    0\n",
    "    >>> solution(4)\n",
    "    3\n",
    "    >>> solution(10)\n",
    "    23\n",
    "    >>> solution(600)\n",
    "    83700\n",
    "    >>> solution(-7)\n",
    "    0\n",
    "    \"\"\"\n",
    "\n",
    "    return sum(e for e in range(3, n) if e % 3 == 0 or e % 5 == 0)\n",
    "\n",
    "\n",
    "if __name__ == \"__main__\":\n",
    "    print(f\"{solution() = }\")\n"
   ]
  },
  {
   "cell_type": "code",
   "execution_count": 5,
   "id": "b5bd17fd",
   "metadata": {},
   "outputs": [
    {
     "name": "stdout",
     "output_type": "stream",
     "text": [
      "solution() = 233168\n"
     ]
    }
   ],
   "source": [
    "\"\"\"\n",
    "Project Euler Problem 1: https://projecteuler.net/problem=1\n",
    "\n",
    "Multiples of 3 and 5\n",
    "\n",
    "If we list all the natural numbers below 10 that are multiples of 3 or 5,\n",
    "we get 3, 5, 6 and 9. The sum of these multiples is 23.\n",
    "\n",
    "Find the sum of all the multiples of 3 or 5 below 1000.\n",
    "\"\"\"\n",
    "\n",
    "\n",
    "def solution(n: int = 1000) -> int:\n",
    "    \"\"\"\n",
    "    Returns the sum of all the multiples of 3 or 5 below n.\n",
    "\n",
    "    >>> solution(3)\n",
    "    0\n",
    "    >>> solution(4)\n",
    "    3\n",
    "    >>> solution(10)\n",
    "    23\n",
    "    >>> solution(600)\n",
    "    83700\n",
    "    \"\"\"\n",
    "\n",
    "    total = 0\n",
    "    terms = (n - 1) // 3\n",
    "    total += ((terms) * (6 + (terms - 1) * 3)) // 2  # total of an A.P.\n",
    "    terms = (n - 1) // 5\n",
    "    total += ((terms) * (10 + (terms - 1) * 5)) // 2\n",
    "    terms = (n - 1) // 15\n",
    "    total -= ((terms) * (30 + (terms - 1) * 15)) // 2\n",
    "    return total\n",
    "\n",
    "\n",
    "if __name__ == \"__main__\":\n",
    "    print(f\"{solution() = }\")\n"
   ]
  },
  {
   "cell_type": "code",
   "execution_count": 3,
   "id": "a31debd5",
   "metadata": {},
   "outputs": [
    {
     "name": "stdout",
     "output_type": "stream",
     "text": [
      "solution() = 233168\n"
     ]
    }
   ],
   "source": [
    "\"\"\"\n",
    "Project Euler Problem 1: https://projecteuler.net/problem=1\n",
    "\n",
    "Multiples of 3 and 5\n",
    "\n",
    "If we list all the natural numbers below 10 that are multiples of 3 or 5,\n",
    "we get 3, 5, 6 and 9. The sum of these multiples is 23.\n",
    "\n",
    "Find the sum of all the multiples of 3 or 5 below 1000.\n",
    "\"\"\"\n",
    "\n",
    "\n",
    "def solution(n: int = 1000) -> int:\n",
    "    \"\"\"\n",
    "    This solution is based on the pattern that the successive numbers in the\n",
    "    series follow: 0+3,+2,+1,+3,+1,+2,+3.\n",
    "    Returns the sum of all the multiples of 3 or 5 below n.\n",
    "\n",
    "    >>> solution(3)\n",
    "    0\n",
    "    >>> solution(4)\n",
    "    3\n",
    "    >>> solution(10)\n",
    "    23\n",
    "    >>> solution(600)\n",
    "    83700\n",
    "    \"\"\"\n",
    "\n",
    "    total = 0\n",
    "    num = 0\n",
    "    while 1:\n",
    "        num += 3\n",
    "        if num >= n:\n",
    "            break\n",
    "        total += num\n",
    "        num += 2\n",
    "        if num >= n:\n",
    "            break\n",
    "        total += num\n",
    "        num += 1\n",
    "        if num >= n:\n",
    "            break\n",
    "        total += num\n",
    "        num += 3\n",
    "        if num >= n:\n",
    "            break\n",
    "        total += num\n",
    "        num += 1\n",
    "        if num >= n:\n",
    "            break\n",
    "        total += num\n",
    "        num += 2\n",
    "        if num >= n:\n",
    "            break\n",
    "        total += num\n",
    "        num += 3\n",
    "        if num >= n:\n",
    "            break\n",
    "        total += num\n",
    "    return total\n",
    "\n",
    "\n",
    "if __name__ == \"__main__\":\n",
    "    print(f\"{solution() = }\")\n"
   ]
  },
  {
   "cell_type": "code",
   "execution_count": null,
   "id": "5c7e9f33",
   "metadata": {},
   "outputs": [],
   "source": []
  }
 ],
 "metadata": {
  "kernelspec": {
   "display_name": "Python 3 (ipykernel)",
   "language": "python",
   "name": "python3"
  },
  "language_info": {
   "codemirror_mode": {
    "name": "ipython",
    "version": 3
   },
   "file_extension": ".py",
   "mimetype": "text/x-python",
   "name": "python",
   "nbconvert_exporter": "python",
   "pygments_lexer": "ipython3",
   "version": "3.9.12"
  }
 },
 "nbformat": 4,
 "nbformat_minor": 5
}
