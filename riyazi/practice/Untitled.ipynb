{
 "cells": [
  {
   "cell_type": "code",
   "execution_count": 1,
   "id": "308d02c3",
   "metadata": {},
   "outputs": [],
   "source": [
    "import functools\n",
    "import itertools\n",
    "import operator\n",
    "import sys\n",
    "import warnings\n",
    "import numbers"
   ]
  },
  {
   "cell_type": "code",
   "execution_count": 2,
   "id": "29df7e0c",
   "metadata": {},
   "outputs": [],
   "source": [
    "__all__ = [\n",
    "    'newaxis', 'ndarray', 'flatiter', 'nditer', 'nested_iters', 'ufunc',\n",
    "    'arange', 'array', 'asarray', 'asanyarray', 'ascontiguousarray',\n",
    "    'asfortranarray', 'zeros', 'count_nonzero', 'empty', 'broadcast', 'dtype',\n",
    "    'fromstring', 'fromfile', 'frombuffer', 'from_dlpack', 'where',\n",
    "    'argwhere', 'copyto', 'concatenate', 'fastCopyAndTranspose', 'lexsort',\n",
    "    'set_numeric_ops', 'can_cast', 'promote_types', 'min_scalar_type',\n",
    "    'result_type', 'isfortran', 'empty_like', 'zeros_like', 'ones_like',\n",
    "    'correlate', 'convolve', 'inner', 'dot', 'outer', 'vdot', 'roll',\n",
    "    'rollaxis', 'moveaxis', 'cross', 'tensordot', 'little_endian',\n",
    "    'fromiter', 'array_equal', 'array_equiv', 'indices', 'fromfunction',\n",
    "    'isclose', 'isscalar', 'binary_repr', 'base_repr', 'ones',\n",
    "    'identity', 'allclose', 'compare_chararrays', 'putmask',\n",
    "    'flatnonzero', 'Inf', 'inf', 'infty', 'Infinity', 'nan', 'NaN',\n",
    "    'False_', 'True_', 'bitwise_not', 'CLIP', 'RAISE', 'WRAP', 'MAXDIMS',\n",
    "    'BUFSIZE', 'ALLOW_THREADS', 'ComplexWarning', 'full', 'full_like',\n",
    "    'matmul', 'shares_memory', 'may_share_memory', 'MAY_SHARE_BOUNDS',\n",
    "    'MAY_SHARE_EXACT', 'TooHardError', 'AxisError',\n",
    "    '_get_promotion_state', '_set_promotion_state']"
   ]
  },
  {
   "cell_type": "code",
   "execution_count": 3,
   "id": "150246e3",
   "metadata": {},
   "outputs": [],
   "source": [
    "import scipy.constants as sc"
   ]
  },
  {
   "cell_type": "code",
   "execution_count": 6,
   "id": "f46e8ef0",
   "metadata": {},
   "outputs": [
    {
     "data": {
      "text/plain": [
       "0.0254"
      ]
     },
     "execution_count": 6,
     "metadata": {},
     "output_type": "execute_result"
    }
   ],
   "source": [
    "sc.inch"
   ]
  },
  {
   "cell_type": "code",
   "execution_count": 7,
   "id": "db5adb48",
   "metadata": {},
   "outputs": [
    {
     "data": {
      "text/plain": [
       "<function functools.cache(user_function, /)>"
      ]
     },
     "execution_count": 7,
     "metadata": {},
     "output_type": "execute_result"
    }
   ],
   "source": [
    "functools.cache()"
   ]
  },
  {
   "cell_type": "code",
   "execution_count": 8,
   "id": "c1a6689a",
   "metadata": {},
   "outputs": [
    {
     "data": {
      "text/plain": [
       "itertools.compress"
      ]
     },
     "execution_count": 8,
     "metadata": {},
     "output_type": "execute_result"
    }
   ],
   "source": [
    "itertools.compress()"
   ]
  },
  {
   "cell_type": "code",
   "execution_count": 9,
   "id": "bfd2aace",
   "metadata": {},
   "outputs": [
    {
     "data": {
      "text/plain": [
       "60.0"
      ]
     },
     "execution_count": 9,
     "metadata": {},
     "output_type": "execute_result"
    }
   ],
   "source": [
    "sc.minute"
   ]
  },
  {
   "cell_type": "code",
   "execution_count": null,
   "id": "2d47f2d2",
   "metadata": {},
   "outputs": [],
   "source": []
  }
 ],
 "metadata": {
  "kernelspec": {
   "display_name": "Python 3 (ipykernel)",
   "language": "python",
   "name": "python3"
  },
  "language_info": {
   "codemirror_mode": {
    "name": "ipython",
    "version": 3
   },
   "file_extension": ".py",
   "mimetype": "text/x-python",
   "name": "python",
   "nbconvert_exporter": "python",
   "pygments_lexer": "ipython3",
   "version": "3.9.12"
  }
 },
 "nbformat": 4,
 "nbformat_minor": 5
}
