{
 "cells": [
  {
   "cell_type": "markdown",
   "id": "5719c4fa",
   "metadata": {},
   "source": [
    "# Conversion Programs in Python"
   ]
  },
  {
   "cell_type": "code",
   "execution_count": 1,
   "id": "5348ac37",
   "metadata": {},
   "outputs": [
    {
     "name": "stdout",
     "output_type": "stream",
     "text": [
      "Enter binary number: 100\n",
      "Gray codeword: 110\n"
     ]
    }
   ],
   "source": [
    "#Python Program to Convert Binary to Gray Code\n",
    "def binary_to_gray(n):\n",
    "    \"\"\"Convert Binary to Gray codeword and return it.\"\"\"\n",
    "    n = int(n, 2) # convert to int\n",
    "    n ^= (n >> 1)\n",
    " \n",
    "    # bin(n) returns n's binary representation with a '0b' prefixed\n",
    "    # the slice operation is to remove the prefix\n",
    "    return bin(n)[2:]\n",
    " \n",
    " \n",
    "g = input('Enter binary number: ')\n",
    "b = binary_to_gray(g)\n",
    "print('Gray codeword:', b)"
   ]
  },
  {
   "cell_type": "code",
   "execution_count": 3,
   "id": "608892d0",
   "metadata": {},
   "outputs": [
    {
     "name": "stdout",
     "output_type": "stream",
     "text": [
      "Enter the number of bits: 2\n",
      "All 2-bit Gray Codes:\n",
      "['00', '01', '11', '10']\n"
     ]
    }
   ],
   "source": [
    "#Python Program to Generate Gray Codes using Recursion\n",
    "def get_gray_codes(n):\n",
    "    \"\"\"Return n-bit Gray code in a list.\"\"\"\n",
    "    if n == 0:\n",
    "        return ['']\n",
    "    first_half = get_gray_codes(n - 1)\n",
    "    second_half = first_half.copy()\n",
    " \n",
    "    first_half = ['0' + code for code in first_half]\n",
    "    second_half = ['1' + code for code in reversed(second_half)]\n",
    " \n",
    "    return first_half + second_half\n",
    " \n",
    " \n",
    "n = int(input('Enter the number of bits: '))\n",
    "codes = get_gray_codes(n)\n",
    "print('All {}-bit Gray Codes:'.format(n))\n",
    "print(codes)"
   ]
  },
  {
   "cell_type": "code",
   "execution_count": 4,
   "id": "50ca8147",
   "metadata": {},
   "outputs": [
    {
     "name": "stdout",
     "output_type": "stream",
     "text": [
      "Enter Gray codeword: 11\n",
      "In binary: 10\n"
     ]
    }
   ],
   "source": [
    "#Python Program to Convert Gray to Binary Code\n",
    "def gray_to_binary(n):\n",
    "    \"\"\"Convert Gray codeword to binary and return it.\"\"\"\n",
    "    n = int(n, 2) # convert to int\n",
    " \n",
    "    mask = n\n",
    "    while mask != 0:\n",
    "        mask >>= 1\n",
    "        n ^= mask\n",
    " \n",
    "    # bin(n) returns n's binary representation with a '0b' prefixed\n",
    "    # the slice operation is to remove the prefix\n",
    "    return bin(n)[2:]\n",
    " \n",
    " \n",
    "g = input('Enter Gray codeword: ')\n",
    "b = gray_to_binary(g)\n",
    "print('In binary:', b)"
   ]
  },
  {
   "cell_type": "code",
   "execution_count": 5,
   "id": "8502690d",
   "metadata": {},
   "outputs": [
    {
     "name": "stdout",
     "output_type": "stream",
     "text": [
      "Enter the temperature in celcius:23\n",
      "Temperature in farenheit is: 73.4\n"
     ]
    }
   ],
   "source": [
    "# Python Program to Convert Celsius to Fahrenheit\n",
    "celsius=int(input(\"Enter the temperature in celcius:\"))\n",
    "f=(celsius*1.8)+32\n",
    "print(\"Temperature in farenheit is:\",f)"
   ]
  },
  {
   "cell_type": "code",
   "execution_count": 6,
   "id": "5c37055a",
   "metadata": {},
   "outputs": [
    {
     "name": "stdout",
     "output_type": "stream",
     "text": [
      "Equation: ax^2 + bx + c \n",
      "Enter a: 2\n",
      "Enter b: 3\n",
      "Enter c: 5\n",
      "The roots are imaginary. \n"
     ]
    }
   ],
   "source": [
    "# Python Program to Find the Roots of a Quadratic Equation\n",
    "print(\"Equation: ax^2 + bx + c \")\n",
    "a=int(input(\"Enter a: \"))\n",
    "b=int(input(\"Enter b: \"))\n",
    "c=int(input(\"Enter c: \"))\n",
    "d=b**2-4*a*c\n",
    "d1=d**0.5\n",
    "if(d<0):\n",
    "    print(\"The roots are imaginary. \")\n",
    "else:\n",
    "    r1=(-b+d1)/2*a\n",
    "    r2=(-b-d1)/2*a\n",
    "    print(\"The first root: \",round(r1,2))\n",
    "    print(\"The second root: \",round(r2,2))"
   ]
  },
  {
   "cell_type": "code",
   "execution_count": 7,
   "id": "81166c36",
   "metadata": {},
   "outputs": [
    {
     "name": "stdout",
     "output_type": "stream",
     "text": [
      "Enter upper limit:7\n",
      "3 4 5\n"
     ]
    }
   ],
   "source": [
    "# Python Program to Find All Pythagorean Triplets in the Range\n",
    "limit=int(input(\"Enter upper limit:\"))\n",
    "c=0\n",
    "m=2\n",
    "while(c<limit):\n",
    "    for n in range(1,m+1):\n",
    "        a=m*m-n*n\n",
    "        b=2*m*n\n",
    "        c=m*m+n*n\n",
    "        if(c>limit):\n",
    "            break\n",
    "        if(a==0 or b==0 or c==0):\n",
    "            break\n",
    "        print(a,b,c)\n",
    "    m=m+1"
   ]
  },
  {
   "cell_type": "code",
   "execution_count": 8,
   "id": "f244a5a9",
   "metadata": {},
   "outputs": [
    {
     "name": "stdout",
     "output_type": "stream",
     "text": [
      "Enter the coefficients of the form ax^3 + bx^2 + cx + d\n",
      "Enter coefficient:7\n",
      "Enter coefficient:9\n",
      "Enter coefficient:8\n",
      "Enter coefficient:7\n",
      "Enter the value of x:1\n",
      "The value of the polynomial is: 31.0\n"
     ]
    }
   ],
   "source": [
    "# Python Program to Compute a Polynomial Equation\n",
    "import math\n",
    "print(\"Enter the coefficients of the form ax^3 + bx^2 + cx + d\")\n",
    "lst=[]\n",
    "for i in range(0,4):\n",
    "    a=int(input(\"Enter coefficient:\"))\n",
    "    lst.append(a)\n",
    "x=int(input(\"Enter the value of x:\"))\n",
    "sum1=0\n",
    "j=3\n",
    "for i in range(0,3):\n",
    "    while(j>0):\n",
    "        sum1=sum1+(lst[i]*math.pow(x,j))\n",
    "        break\n",
    "    j=j-1\n",
    "sum1=sum1+lst[3]\n",
    "print(\"The value of the polynomial is:\",sum1)"
   ]
  },
  {
   "cell_type": "code",
   "execution_count": 9,
   "id": "1511681a",
   "metadata": {},
   "outputs": [
    {
     "name": "stdout",
     "output_type": "stream",
     "text": [
      "Enter n: 1\n",
      "Sequence: 1"
     ]
    }
   ],
   "source": [
    "# Python Program to Test Collatz Conjecture for a Given Number\n",
    "def collatz(n):\n",
    "    while n > 1:\n",
    "        print(n, end=' ')\n",
    "        if (n % 2):\n",
    "            # n is odd\n",
    "            n = 3*n + 1\n",
    "        else:\n",
    "            # n is even\n",
    "            n = n//2\n",
    "    print(1, end='')\n",
    " \n",
    " \n",
    "n = int(input('Enter n: '))\n",
    "print('Sequence: ', end='')\n",
    "collatz(n)"
   ]
  },
  {
   "cell_type": "markdown",
   "id": "9371eb30",
   "metadata": {},
   "source": [
    "# Python Programs on Progression Series\n"
   ]
  },
  {
   "cell_type": "code",
   "execution_count": 10,
   "id": "96d89a27",
   "metadata": {},
   "outputs": [
    {
     "name": "stdout",
     "output_type": "stream",
     "text": [
      "Enter the number of terms: 3\n",
      "The sum of series is 1.83\n"
     ]
    }
   ],
   "source": [
    "# Python Program to Find Sum of Series 1 + 1/2 + 1/3 + 1/4 + ……. + 1/N\n",
    "n=int(input(\"Enter the number of terms: \"))\n",
    "sum1=0\n",
    "for i in range(1,n+1):\n",
    "    sum1=sum1+(1/i)\n",
    "print(\"The sum of series is\",round(sum1,2))"
   ]
  },
  {
   "cell_type": "code",
   "execution_count": 11,
   "id": "7dbd3630",
   "metadata": {},
   "outputs": [
    {
     "name": "stdout",
     "output_type": "stream",
     "text": [
      "Enter the number of terms: 4\n",
      "The sum of series is 2.71\n"
     ]
    }
   ],
   "source": [
    "# Python Program to Find the Sum of the Series 1/1!+1/2!+1/3!+…1/N!\n",
    "import math\n",
    "n=int(input(\"Enter the number of terms: \"))\n",
    "sum1=1\n",
    "for i in range(1,n+1):\n",
    "    sum1=sum1+(1/math.factorial(i))\n",
    "print(\"The sum of series is\",round(sum1,2))"
   ]
  },
  {
   "cell_type": "code",
   "execution_count": 12,
   "id": "c1f53851",
   "metadata": {},
   "outputs": [
    {
     "name": "stdout",
     "output_type": "stream",
     "text": [
      "Enter the number of terms:6\n",
      "Enter the value of x:9\n",
      "The sum of series is 102308.05\n"
     ]
    }
   ],
   "source": [
    "# Python Program to Find the Sum of the Series: 1 + x^2/2 + x^3/3 + … x^n/n\n",
    "n=int(input(\"Enter the number of terms:\"))\n",
    "x=int(input(\"Enter the value of x:\"))\n",
    "sum1=1\n",
    "for i in range(2,n+1):\n",
    "    sum1=sum1+((x**i)/i)\n",
    "print(\"The sum of series is\",round(sum1,2))"
   ]
  },
  {
   "cell_type": "code",
   "execution_count": 13,
   "id": "80d35e0c",
   "metadata": {},
   "outputs": [
    {
     "name": "stdout",
     "output_type": "stream",
     "text": [
      "Enter a number: 7\n",
      "1 + 2 + 3 + 4 + 5 + 6 + 7 = 28\n",
      "\n"
     ]
    }
   ],
   "source": [
    "# Python Program to Read a Number n and Print the Series “1+2+…..+n= “\n",
    "n=int(input(\"Enter a number: \"))\n",
    "a=[]\n",
    "for i in range(1,n+1):\n",
    "    print(i,sep=\" \",end=\" \")\n",
    "    if(i<n):\n",
    "        print(\"+\",sep=\" \",end=\" \")\n",
    "    a.append(i)\n",
    "print(\"=\",sum(a))\n",
    " \n",
    "print()"
   ]
  },
  {
   "cell_type": "code",
   "execution_count": 14,
   "id": "aeae8a70",
   "metadata": {},
   "outputs": [
    {
     "name": "stdout",
     "output_type": "stream",
     "text": [
      "Enter the value of x in degrees:61\n",
      "Enter the number of terms:2\n",
      "0.86\n"
     ]
    }
   ],
   "source": [
    "# Python Program to Find the Sum of Sine Series\n",
    "import math\n",
    "def sin(x,n):\n",
    "    sine = 0\n",
    "    for i in range(n):\n",
    "        sign = (-1)**i\n",
    "        pi=22/7\n",
    "        y=x*(pi/180)\n",
    "        sine = sine + ((y**(2.0*i+1))/math.factorial(2*i+1))*sign\n",
    "    return sine\n",
    "x=int(input(\"Enter the value of x in degrees:\"))\n",
    "n=int(input(\"Enter the number of terms:\"))\n",
    "print(round(sin(x,n),2))"
   ]
  },
  {
   "cell_type": "code",
   "execution_count": 15,
   "id": "1a7b7de8",
   "metadata": {},
   "outputs": [
    {
     "name": "stdout",
     "output_type": "stream",
     "text": [
      "Enter the value of x in degrees:43\n",
      "Enter the number of terms:2\n",
      "1\n"
     ]
    }
   ],
   "source": [
    "# Python Program to Find the Sum of Cosine Series\n",
    "import math\n",
    "def cosine(x,n):\n",
    "    cosx = 1\n",
    "    sign = -1\n",
    "    for i in range(2, n, 2):\n",
    "        pi=22/7\n",
    "        y=x*(pi/180)\n",
    "        cosx = cosx + (sign*(y**i))/math.factorial(i)\n",
    "        sign = -sign\n",
    "    return cosx\n",
    "x=int(input(\"Enter the value of x in degrees:\"))\n",
    "n=int(input(\"Enter the number of terms:\"))\n",
    "print(round(cosine(x,n),2))"
   ]
  },
  {
   "cell_type": "code",
   "execution_count": 16,
   "id": "4eaeaed7",
   "metadata": {},
   "outputs": [
    {
     "name": "stdout",
     "output_type": "stream",
     "text": [
      "Enter the first mass: 5\n",
      "Enter the second mass: 3\n",
      "Enter the distance between the centres of the masses: 4\n",
      "Hence, the gravitational force is:  0.0 N\n"
     ]
    }
   ],
   "source": [
    "# Python Program to Find the Gravitational Force between Two Objects\n",
    "m1=float(input(\"Enter the first mass: \"))\n",
    "m2=float(input(\"Enter the second mass: \"))\n",
    "r=float(input(\"Enter the distance between the centres of the masses: \"))\n",
    "G=6.673*(10**-11)\n",
    "f=(G*m1*m2)/(r**2)\n",
    "print(\"Hence, the gravitational force is: \",round(f,2),\"N\")"
   ]
  },
  {
   "cell_type": "code",
   "execution_count": 17,
   "id": "a1279175",
   "metadata": {},
   "outputs": [
    {
     "name": "stdout",
     "output_type": "stream",
     "text": [
      "Enter number of rows: 3\n",
      "               1 \n",
      "            1      1 \n",
      "         1      2      1 \n"
     ]
    }
   ],
   "source": [
    "# Python Program to Print Pascal Triangle\n",
    "n=int(input(\"Enter number of rows: \"))\n",
    "a=[]\n",
    "for i in range(n):\n",
    "    a.append([])\n",
    "    a[i].append(1)\n",
    "    for j in range(1,i):\n",
    "        a[i].append(a[i-1][j-1]+a[i-1][j])\n",
    "    if(n!=0):\n",
    "        a[i].append(1)\n",
    "for i in range(n):\n",
    "    print(\"   \"*(n-i),end=\" \",sep=\" \")\n",
    "    for j in range(0,i+1):\n",
    "        print('{0:6}'.format(a[i][j]),end=\" \",sep=\" \")\n",
    "    print()"
   ]
  },
  {
   "cell_type": "code",
   "execution_count": 18,
   "id": "ea978026",
   "metadata": {},
   "outputs": [],
   "source": [
    "# Using Python to Solve Computational Physics Problems"
   ]
  },
  {
   "cell_type": "code",
   "execution_count": 20,
   "id": "f598391a",
   "metadata": {},
   "outputs": [
    {
     "name": "stdout",
     "output_type": "stream",
     "text": [
      "-31\n"
     ]
    }
   ],
   "source": [
    "def eq1( vi, t, a):\n",
    "    d= vi * t + 1/2 *a * t **2\n",
    "\n",
    "print (d)"
   ]
  },
  {
   "cell_type": "code",
   "execution_count": 21,
   "id": "fad85512",
   "metadata": {},
   "outputs": [
    {
     "name": "stdout",
     "output_type": "stream",
     "text": [
      "Enter the number of values: 4\n",
      "Enter a real number: 3\n",
      "Enter a real number: 3\n",
      "Enter a real number: 2\n",
      "Enter a real number: 3\n",
      "The geometric mean is:  2.7108060108295344\n"
     ]
    }
   ],
   "source": [
    "# Python program to find the geometric mean of n numbers\n",
    "c = 0\n",
    "p = 1.0\n",
    "count = int(input(\"Enter the number of values: \"))\n",
    "while(c<count):\n",
    "    x = float(input(\"Enter a real number: \"))\n",
    "    c = c+1\n",
    "    p = p * x\n",
    "gm = pow(p,1.0/count)\n",
    "print(\"The geometric mean is: \",gm)"
   ]
  },
  {
   "cell_type": "code",
   "execution_count": 22,
   "id": "5fba26d2",
   "metadata": {},
   "outputs": [
    {
     "name": "stdout",
     "output_type": "stream",
     "text": [
      "Enter the first coefficient: 3\n",
      "Enter the second coefficient: 4\n",
      "Enter the third coefficient: 5\n",
      "The roots are imaginary.\n",
      "The root1 is:  -0.6666666666666666 + i 1.1055415967851332\n",
      "The root2 is:  -0.6666666666666666 - i 1.1055415967851332\n"
     ]
    }
   ],
   "source": [
    "#  Python program to find the roots of a quadratic equation\n",
    "import math\n",
    "a = float(input(\"Enter the first coefficient: \"))\n",
    "b = float(input(\"Enter the second coefficient: \"))\n",
    "c = float(input(\"Enter the third coefficient: \"))\n",
    "if (a!=0.0):\n",
    "    d = (b*b)-(4*a*c) \n",
    "    if (d==0.0):\n",
    "        print(\"The roots are real and equal.\") \n",
    "        r = -b/(2*a)\n",
    "        print(\"The roots are \", r,\"and\", r)\n",
    "    elif(d>0.0):\n",
    "        print(\"The roots are real and distinct.\")\n",
    "        r1 = (-b+(math.sqrt(d)))/(2*a) \n",
    "        r2 = (-b-(math.sqrt(d)))/(2*a)\n",
    "        print(\"The root1 is: \", r1)\n",
    "        print(\"The root2 is: \", r2)\n",
    "    else:\n",
    "        print(\"The roots are imaginary.\")\n",
    "        rp = -b/(2*a)\n",
    "        ip = math.sqrt(-d)/(2*a)\n",
    "        print(\"The root1 is: \", rp, \"+ i\",ip)\n",
    "        print(\"The root2 is: \", rp, \"- i\",ip)\n",
    "else:\n",
    "    print(\"Not a quadratic equation.\")"
   ]
  },
  {
   "cell_type": "code",
   "execution_count": 23,
   "id": "351935dc",
   "metadata": {},
   "outputs": [
    {
     "name": "stdout",
     "output_type": "stream",
     "text": [
      "[16, 10, 4]\n",
      "[18, 8, 9]\n",
      "[13, 10, 4]\n"
     ]
    }
   ],
   "source": [
    "# Python program to implement matrix addition\n",
    "X = [[8,5,1],\n",
    "[9 ,3,2],\n",
    "[4 ,6,3]]\n",
    "Y = [[8,5,3],\n",
    "[9,5,7],\n",
    "[9,4,1]]\n",
    "result = [[0,0,0],\n",
    "[0,0,0],\n",
    "[0,0,0]]\n",
    "for i in range(len(X)):\n",
    "    for j in range(len(X[0])):\n",
    "        result[i][j] = X[i][j] + Y[i][j]\n",
    "for k in result:\n",
    "    print(k)"
   ]
  },
  {
   "cell_type": "code",
   "execution_count": 24,
   "id": "0ecf413c",
   "metadata": {},
   "outputs": [
    {
     "name": "stdout",
     "output_type": "stream",
     "text": [
      "[118, 69, 60, 0]\n",
      "[117, 68, 50, 0]\n",
      "[113, 62, 57, 0]\n"
     ]
    }
   ],
   "source": [
    "#  Python program to implement matrix multiplication\n",
    "X = [[8,5,1],\n",
    "[9 ,3,2],\n",
    "[4 ,6,3]]\n",
    "Y = [[8,5,3],\n",
    "[9,5,7],\n",
    "[9,4,1]]\n",
    "result = [[0,0,0,0],\n",
    "[0,0,0,0],\n",
    "[0,0,0,0]]\n",
    "for i in range(len(X)):\n",
    "    for j in range(len(Y[0])):\n",
    "        for k in range(len(Y)):\n",
    "            result[i][j] += X[i][k] * Y[k][j]\n",
    "for x in result:\n",
    "    print(x)"
   ]
  },
  {
   "cell_type": "code",
   "execution_count": 25,
   "id": "9a4357db",
   "metadata": {},
   "outputs": [],
   "source": [
    "# Solving Geophysics Problems with Python"
   ]
  },
  {
   "cell_type": "code",
   "execution_count": 26,
   "id": "49e37fb5",
   "metadata": {},
   "outputs": [],
   "source": [
    "# Computational Biology using Python Python"
   ]
  },
  {
   "cell_type": "code",
   "execution_count": null,
   "id": "a0a26fe1",
   "metadata": {},
   "outputs": [],
   "source": []
  }
 ],
 "metadata": {
  "kernelspec": {
   "display_name": "Python 3 (ipykernel)",
   "language": "python",
   "name": "python3"
  },
  "language_info": {
   "codemirror_mode": {
    "name": "ipython",
    "version": 3
   },
   "file_extension": ".py",
   "mimetype": "text/x-python",
   "name": "python",
   "nbconvert_exporter": "python",
   "pygments_lexer": "ipython3",
   "version": "3.9.12"
  }
 },
 "nbformat": 4,
 "nbformat_minor": 5
}
