{
 "cells": [
  {
   "cell_type": "code",
   "execution_count": 1,
   "id": "1da569a9",
   "metadata": {},
   "outputs": [],
   "source": [
    "import pandas as pd\n",
    "\n",
    "\n",
    "def bisection(f, a, b, tol):\n",
    "    if f(a) * f(b) > 0:\n",
    "        print(\"Interval not valid\")\n",
    "        return\n",
    "    error = 1e3\n",
    "    X_anterior = 0\n",
    "    n = 1\n",
    "    N = []\n",
    "    Xa = []\n",
    "    Xb = []\n",
    "    Xm = []\n",
    "    Fa = []\n",
    "    Fb = []\n",
    "    Fm = []\n",
    "    E = []\n",
    "    while error > tol:\n",
    "        m = (a + b) / 2\n",
    "        X_actual = m\n",
    "        error = abs(X_anterior - X_actual)\n",
    "        N.append(n)\n",
    "        Xa.append(a)\n",
    "        Xb.append(b)\n",
    "        Xm.append(m)\n",
    "        Fa.append(f(a))\n",
    "        Fb.append(f(b))\n",
    "        Fm.append(f(m))\n",
    "        E.append(error)\n",
    "        if f(a) * f(m) < 0:\n",
    "            b = m\n",
    "        else:\n",
    "            a = m\n",
    "        X_anterior = X_actual\n",
    "        n += 1\n",
    "    d = {\n",
    "        \"N\": N,\n",
    "        \"Xa\": Xa,\n",
    "        \"Xb\": Xb,\n",
    "        \"Xm\": Xm,\n",
    "        \"Fa\": Fa,\n",
    "        \"Fb\": Fb,\n",
    "        \"Fm\": Fm,\n",
    "        \"E\": E\n",
    "    }\n",
    "    TT = pd.DataFrame(d)\n",
    "    TT.set_index(\"N\", inplace=True)\n",
    "    print(TT.to_string())\n"
   ]
  },
  {
   "cell_type": "code",
   "execution_count": 2,
   "id": "f7c5dcb0",
   "metadata": {},
   "outputs": [],
   "source": [
    "import numpy as np\n",
    "\n",
    "\n",
    "def G(x):\n",
    "    return np.exp(-(x**2))\n",
    "\n",
    "\n",
    "def monte_carlo(G, a, b, M):\n",
    "    s = 0\n",
    "    for i in range(M):\n",
    "        s += G(a + (b - a) * np.random.uniform(0, 1, 1))\n",
    "    return ((b - a) / M) * s[0]\n"
   ]
  },
  {
   "cell_type": "code",
   "execution_count": 3,
   "id": "fcd7b61e",
   "metadata": {},
   "outputs": [],
   "source": [
    "from numpy import sign\n",
    "from numpy.lib.scimath import sqrt\n",
    "\n",
    "\n",
    "def muller(f, x0, x1, x2, tol):\n",
    "    error = 1e3\n",
    "    x3 = 0\n",
    "    while error > tol:\n",
    "        c = f(x2)\n",
    "        b = ((x0 - x2)**2 * (f(x1) - f(x2)) - (x1 - x2)**2 *\n",
    "             (f(x0) - f(x2))) / ((x0 - x2) * (x1 - x2) * (x0 - x1))\n",
    "        a = ((x1 - x2) * (f(x0) - f(x2)) - (x0 - x2) *\n",
    "             (f(x1) - f(x2))) / ((x0 - x2) * (x1 - x2) * (x0 - x1))\n",
    "        x3 = x2 - (2 * c) / (b + sign(b) * sqrt(b**2 - 4 * a * c))\n",
    "        error = abs(x3 - x2)\n",
    "        x0 = x1\n",
    "        x1 = x2\n",
    "        x2 = x3\n",
    "    return x3\n"
   ]
  },
  {
   "cell_type": "code",
   "execution_count": 4,
   "id": "4ae4f36f",
   "metadata": {},
   "outputs": [
    {
     "data": {
      "text/plain": [
       "(1+1j)"
      ]
     },
     "execution_count": 4,
     "metadata": {},
     "output_type": "execute_result"
    }
   ],
   "source": []
  },
  {
   "cell_type": "code",
   "execution_count": 5,
   "id": "2ccc2611",
   "metadata": {},
   "outputs": [],
   "source": [
    "import numpy as np\n",
    "\n",
    "\n",
    "def newton_raphson(f, df, xi, tol):\n",
    "    x = xi\n",
    "    error = 1e3\n",
    "    n = 1\n",
    "    while error > tol:\n",
    "        x = x - f(x) / df(x)\n",
    "        error = abs(f(x))\n",
    "        n += 1\n",
    "    print(\"Approximate solution: {:.4f}\".format(x))\n",
    "    print(\"Number of iterations: {:d}\".format(n))"
   ]
  },
  {
   "cell_type": "code",
   "execution_count": 6,
   "id": "de3099d7",
   "metadata": {},
   "outputs": [],
   "source": [
    "import numpy as np\n",
    "\n",
    "\n",
    "def newton_raphson_system(F, J, x0, tol):\n",
    "    x = x0\n",
    "    error = 1e3\n",
    "    n = 0\n",
    "    while error > tol:\n",
    "        dx = -np.linalg.solve(J(*x), F(*x))\n",
    "        error = np.linalg.norm(dx) / np.linalg.norm(x)\n",
    "        x += dx\n",
    "        n += 1\n",
    "    print(\"Iterations: \", n)\n",
    "    return x"
   ]
  },
  {
   "cell_type": "code",
   "execution_count": 7,
   "id": "aa539314",
   "metadata": {},
   "outputs": [],
   "source": [
    "import numpy as np\n",
    "import matplotlib.pyplot as plt\n",
    "\n",
    "\n",
    "def runge_kutta_system(f, g, x0, y0, a, b, h):\n",
    "    t = np.arange(a, b + h, h)\n",
    "    n = len(t)\n",
    "    x = np.zeros(n)\n",
    "    y = np.zeros(n)\n",
    "    x[0] = x0\n",
    "    y[0] = y0\n",
    "    for i in range(n - 1):\n",
    "        k1 = h * f(x[i], y[i], t[i])\n",
    "        l1 = h * g(x[i], y[i], t[i])\n",
    "        k2 = h * f(x[i] + k1 / 2, y[i] + l1 / 2, t[i] + h / 2)\n",
    "        l2 = h * g(x[i] + k1 / 2, y[i] + l1 / 2, t[i] + h / 2)\n",
    "        k3 = h * f(x[i] + k2 / 2, y[i] + l2 / 2, t[i] + h / 2)\n",
    "        l3 = h * g(x[i] + k2 / 2, y[i] + l2 / 2, t[i] + h / 2)\n",
    "        k4 = h * f(x[i] + k3, y[i] + l3, t[i] + h)\n",
    "        l4 = h * g(x[i] + k3, y[i] + l3, t[i] + h)\n",
    "        x[i + 1] = x[i] + (1 / 6) * (k1 + 2 * k2 + 2 * k3 + 2 * k4)\n",
    "        y[i + 1] = y[i] + (1 / 6) * (l1 + 2 * l2 + 2 * l3 + 2 * l4)\n",
    "    plt.plot(t, x, t, y)\n",
    "    plt.show()\n"
   ]
  },
  {
   "cell_type": "code",
   "execution_count": 8,
   "id": "b882c2c9",
   "metadata": {},
   "outputs": [],
   "source": [
    "def secant(f, x1, x2, tol):\n",
    "    error = 1e3\n",
    "    n = 0\n",
    "    x3 = 0\n",
    "    while error > tol:\n",
    "        x3 = x1 - ((x2 - x1) / (f(x2) - f(x1))) * f(x1)\n",
    "        x1 = x2\n",
    "        x2 = x3\n",
    "        error = abs(f(x3))\n",
    "        n += 1\n",
    "    print(\"Approximate solution: {:.4f}\".format(x3))\n",
    "    print(\"Number of iterations: {:d}\".format(n))"
   ]
  },
  {
   "cell_type": "code",
   "execution_count": 9,
   "id": "6236a1e7",
   "metadata": {},
   "outputs": [],
   "source": [
    "import numpy as np\n",
    "import matplotlib.pyplot as plt\n",
    "\n",
    "\n",
    "def trigonometric_interpolation(x, y):\n",
    "    n = int((len(x) - 1) / 2)\n",
    "    x = np.array(x)\n",
    "    y = np.array(y)\n",
    "    A = np.ones((2 * n + 1, 2 * n + 1))\n",
    "    for i in range(2 * n + 1):\n",
    "        k = 1\n",
    "        for j in range(1, n + 1):\n",
    "            A[i, j] = np.cos(k * x[i])\n",
    "            k += 1\n",
    "        k = 1\n",
    "        for j in range(n + 1, 2 * n + 1):\n",
    "            A[i, j] = np.sin(k * x[i])\n",
    "            k += 1\n",
    "    coef = np.linalg.solve(A, y)\n",
    "    xd = np.linspace(x[0], x[-1])\n",
    "    yd = []\n",
    "    for i in range(len(xd)):\n",
    "        s = coef[0]\n",
    "        for k in range(1, n + 1):\n",
    "            s += coef[k] * np.cos(k * xd[i])\n",
    "            s += coef[k + n] * np.sin(k * xd[i])\n",
    "        yd.append(s)\n",
    "    yd = np.array(yd)\n",
    "    plt.plot(x, y, \"*\", xd, yd)\n",
    "    plt.show()\n"
   ]
  },
  {
   "cell_type": "code",
   "execution_count": null,
   "id": "da6c687d",
   "metadata": {},
   "outputs": [],
   "source": []
  },
  {
   "cell_type": "code",
   "execution_count": null,
   "id": "ac775543",
   "metadata": {},
   "outputs": [],
   "source": []
  },
  {
   "cell_type": "code",
   "execution_count": null,
   "id": "54a20297",
   "metadata": {},
   "outputs": [],
   "source": []
  },
  {
   "cell_type": "raw",
   "id": "9d6a2bca",
   "metadata": {},
   "source": [
    "def trapezoidal(fx, x0, xn, n):\n",
    "    h = (xn - x0) / n\n",
    "\n",
    "  return h * (\n",
    "    ((fx(x0) + fx(xn)) / 2) + (\n",
    "      sum([fx(x0 + (i*h)) for i in range(1, n)])\n",
    "    )\n",
    "  )"
   ]
  },
  {
   "cell_type": "raw",
   "id": "f67f295b",
   "metadata": {},
   "source": [
    "def simpson(fx, x0, xn, n):\n",
    "  h = (xn - x0) / n\n",
    "\n",
    "  return (h / 3) * (\n",
    "    fx(x0) + fx(xn) +\n",
    "    (4 * sum([fx(x0 + (i*h)) for i in range(1, n, 2)])) +\n",
    "    (2 * sum([fx(x0 + (i*h)) for i in range(2, n-1, 2)]))\n",
    "  )"
   ]
  },
  {
   "cell_type": "code",
   "execution_count": 10,
   "id": "c2c6a82c",
   "metadata": {},
   "outputs": [],
   "source": [
    "from math import prod\n",
    "\n",
    "def lagrange(pairs, x, n=None):\n",
    "    \n",
    "    result = 0\n",
    "    max_n = len(pairs) - 1\n",
    "\n",
    "    if n == None or n > max_n:\n",
    "        n = max_n\n",
    "\n",
    "    for i in range(n+1):\n",
    "        (xi, yi) = pairs[i]\n",
    "\n",
    "        li = prod([\n",
    "          (x - pairs[j][0]) / (xi - pairs[j][0])\n",
    "          for j in range(n+1)\n",
    "          if j != i\n",
    "        ])\n",
    "    \n",
    "\n",
    "    result += li * yi\n",
    "\n",
    "    return result"
   ]
  },
  {
   "cell_type": "code",
   "execution_count": null,
   "id": "6b4d6b07",
   "metadata": {},
   "outputs": [],
   "source": []
  },
  {
   "cell_type": "code",
   "execution_count": null,
   "id": "e00e2d81",
   "metadata": {},
   "outputs": [],
   "source": []
  },
  {
   "cell_type": "code",
   "execution_count": null,
   "id": "48c3290a",
   "metadata": {},
   "outputs": [],
   "source": []
  },
  {
   "cell_type": "code",
   "execution_count": null,
   "id": "b729375d",
   "metadata": {},
   "outputs": [],
   "source": []
  },
  {
   "cell_type": "code",
   "execution_count": null,
   "id": "4704aa31",
   "metadata": {},
   "outputs": [],
   "source": []
  }
 ],
 "metadata": {
  "kernelspec": {
   "display_name": "Python 3 (ipykernel)",
   "language": "python",
   "name": "python3"
  },
  "language_info": {
   "codemirror_mode": {
    "name": "ipython",
    "version": 3
   },
   "file_extension": ".py",
   "mimetype": "text/x-python",
   "name": "python",
   "nbconvert_exporter": "python",
   "pygments_lexer": "ipython3",
   "version": "3.9.12"
  }
 },
 "nbformat": 4,
 "nbformat_minor": 5
}
