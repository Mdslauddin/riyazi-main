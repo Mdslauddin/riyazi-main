{
 "cells": [
  {
   "cell_type": "code",
   "execution_count": 1,
   "id": "932cad18",
   "metadata": {},
   "outputs": [],
   "source": [
    "def solve_triangular(A, b):\n",
    "    n = len(b)\n",
    "    x = np.empty_like(b)\n",
    "    for i in range(n-1, -1, -1):\n",
    "        x[i] = b[i]\n",
    "        for j in range(n-1, i, -1):\n",
    "            x[i] -= A[i, j] * x[j]\n",
    "        x[i] /= A[i, i]\n",
    "    return x"
   ]
  },
  {
   "cell_type": "code",
   "execution_count": null,
   "id": "e5aa99c5",
   "metadata": {},
   "outputs": [],
   "source": []
  }
 ],
 "metadata": {
  "kernelspec": {
   "display_name": "Python 3 (ipykernel)",
   "language": "python",
   "name": "python3"
  },
  "language_info": {
   "codemirror_mode": {
    "name": "ipython",
    "version": 3
   },
   "file_extension": ".py",
   "mimetype": "text/x-python",
   "name": "python",
   "nbconvert_exporter": "python",
   "pygments_lexer": "ipython3",
   "version": "3.9.12"
  }
 },
 "nbformat": 4,
 "nbformat_minor": 5
}
