{
 "cells": [
  {
   "cell_type": "code",
   "execution_count": null,
   "id": "ad6d5152",
   "metadata": {},
   "outputs": [],
   "source": []
  },
  {
   "cell_type": "code",
   "execution_count": 1,
   "id": "fe63bcb0",
   "metadata": {},
   "outputs": [
    {
     "name": "stdout",
     "output_type": "stream",
     "text": [
      "Example: 0.2139409276214589\n"
     ]
    }
   ],
   "source": [
    "\"\"\"\n",
    "Implementing Secant method in Python\n",
    "Author: dimgrichr\n",
    "\"\"\"\n",
    "from math import exp\n",
    "\n",
    "\n",
    "def f(x: float) -> float:\n",
    "    \"\"\"\n",
    "    >>> f(5)\n",
    "    39.98652410600183\n",
    "    \"\"\"\n",
    "    return 8 * x - 2 * exp(-x)\n",
    "\n",
    "\n",
    "def secant_method(lower_bound: float, upper_bound: float, repeats: int) -> float:\n",
    "    \"\"\"\n",
    "    >>> secant_method(1, 3, 2)\n",
    "    0.2139409276214589\n",
    "    \"\"\"\n",
    "    x0 = lower_bound\n",
    "    x1 = upper_bound\n",
    "    for i in range(0, repeats):\n",
    "        x0, x1 = x1, x1 - (f(x1) * (x1 - x0)) / (f(x1) - f(x0))\n",
    "    return x1\n",
    "\n",
    "\n",
    "if __name__ == \"__main__\":\n",
    "    print(f\"Example: {secant_method(1, 3, 2)}\")\n"
   ]
  },
  {
   "cell_type": "code",
   "execution_count": 2,
   "id": "14526d43",
   "metadata": {},
   "outputs": [],
   "source": [
    "def ucal(u: float, p: int) -> float:\n",
    "    \"\"\"\n",
    "    >>> ucal(1, 2)\n",
    "    0\n",
    "    >>> ucal(1.1, 2)\n",
    "    0.11000000000000011\n",
    "    >>> ucal(1.2, 2)\n",
    "    0.23999999999999994\n",
    "    \"\"\"\n",
    "    temp = u\n",
    "    for i in range(1, p):\n",
    "        temp = temp * (u - i)\n",
    "    return temp\n"
   ]
  },
  {
   "cell_type": "code",
   "execution_count": null,
   "id": "7e7521c8",
   "metadata": {},
   "outputs": [],
   "source": []
  }
 ],
 "metadata": {
  "kernelspec": {
   "display_name": "Python 3 (ipykernel)",
   "language": "python",
   "name": "python3"
  },
  "language_info": {
   "codemirror_mode": {
    "name": "ipython",
    "version": 3
   },
   "file_extension": ".py",
   "mimetype": "text/x-python",
   "name": "python",
   "nbconvert_exporter": "python",
   "pygments_lexer": "ipython3",
   "version": "3.9.12"
  }
 },
 "nbformat": 4,
 "nbformat_minor": 5
}
