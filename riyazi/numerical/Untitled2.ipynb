{
 "cells": [
  {
   "cell_type": "code",
   "execution_count": 1,
   "id": "7b71889a",
   "metadata": {},
   "outputs": [],
   "source": [
    "import math \n",
    "\n",
    "def is_pos_def(x):\n",
    "    return np.all(np.linalg.eigvals(x) > 0)"
   ]
  },
  {
   "cell_type": "code",
   "execution_count": 2,
   "id": "571f22bf",
   "metadata": {},
   "outputs": [],
   "source": [
    "def chleski(a):\n",
    "    n = lena\n",
    "    for k in range(n):\n",
    "        a[k,k] = math.sqrt(a[k,k] - np.dot(a[k,0:k], a[k,0:k]))\n",
    "        if is_pos_def(a) is False:\n",
    "            print(\"Matrix is not positive definite\")\n",
    "            break\n",
    "        for i in range(k+1,n):\n",
    "            a[i,k]= (a[i,k] - np.dot(a[i,0:k], a[k,0:k])) / a[k,k]\n",
    "        for k in range(1,n): a[0:k,k] = 0.0\n",
    "        return a "
   ]
  },
  {
   "cell_type": "code",
   "execution_count": null,
   "id": "c65a9cea",
   "metadata": {},
   "outputs": [],
   "source": []
  }
 ],
 "metadata": {
  "kernelspec": {
   "display_name": "Python 3 (ipykernel)",
   "language": "python",
   "name": "python3"
  },
  "language_info": {
   "codemirror_mode": {
    "name": "ipython",
    "version": 3
   },
   "file_extension": ".py",
   "mimetype": "text/x-python",
   "name": "python",
   "nbconvert_exporter": "python",
   "pygments_lexer": "ipython3",
   "version": "3.9.12"
  }
 },
 "nbformat": 4,
 "nbformat_minor": 5
}
