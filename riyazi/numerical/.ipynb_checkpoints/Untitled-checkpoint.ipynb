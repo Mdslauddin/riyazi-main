{
 "cells": [
  {
   "cell_type": "code",
   "execution_count": 1,
   "id": "a1cb9536",
   "metadata": {},
   "outputs": [],
   "source": [
    "import numpy as np "
   ]
  },
  {
   "cell_type": "code",
   "execution_count": 2,
   "id": "bc3c8f44",
   "metadata": {},
   "outputs": [],
   "source": [
    "def gausselmin(a,b):\n",
    "    n= len(b)\n",
    "    # Elimination phase\n",
    "    for k in range(0,n-1):\n",
    "        for i in range(k+1,n):\n",
    "            if a[i,k] != 0.0:\n",
    "                lam = a [i,k] / a[k,k]\n",
    "                a[i,k+1:n] = a[i,k+1:n] - lam*a[k,k+1:n]\n",
    "                b[i] = b[i]- lam*b[k]\n",
    "    \n",
    "    # Back substution\n",
    "    for k in range(n-1, -1, -1):\n",
    "        b[k] = (b[k] - np.dot(a[k,k+1:n], b[k+1:n])) /a[k,k]\n",
    "        \n",
    "    return b\n",
    "                "
   ]
  },
  {
   "cell_type": "code",
   "execution_count": 3,
   "id": "7908b8c0",
   "metadata": {},
   "outputs": [],
   "source": [
    "# Encode matrices A and B\n",
    "A = np.array([[4.0,-2.0,1.0],[-2.0,4.0,-2.0],[1.0, -2.0, 4.0]])\n",
    "b = np.array([11.0,-16.0,17.0])\n"
   ]
  },
  {
   "cell_type": "code",
   "execution_count": 5,
   "id": "c0973883",
   "metadata": {},
   "outputs": [
    {
     "data": {
      "text/plain": [
       "array([ 1., -2.,  3.])"
      ]
     },
     "execution_count": 5,
     "metadata": {},
     "output_type": "execute_result"
    }
   ],
   "source": [
    "gausselmin(A,b)"
   ]
  },
  {
   "cell_type": "code",
   "execution_count": 6,
   "id": "f3dc7e7d",
   "metadata": {},
   "outputs": [],
   "source": [
    "# https://www.geeksforgeeks.org/gaussian-elimination/"
   ]
  },
  {
   "cell_type": "code",
   "execution_count": 7,
   "id": "4438d55c",
   "metadata": {},
   "outputs": [
    {
     "data": {
      "text/plain": [
       "array([-0.125     , -0.30555556,  0.88888889])"
      ]
     },
     "execution_count": 7,
     "metadata": {},
     "output_type": "execute_result"
    }
   ],
   "source": [
    "\n",
    "from scipy import linalg\n",
    "x = linalg.solve(A, b)\n",
    "x"
   ]
  },
  {
   "cell_type": "code",
   "execution_count": 8,
   "id": "5c9ca001",
   "metadata": {},
   "outputs": [],
   "source": [
    "import numpy as np\n",
    "def solve_triangulars(A, b):\n",
    "    n = len(b)\n",
    "    x = np.empty_like(b)\n",
    "    for i in range(n-1, -1, -1):\n",
    "        x[i] = b[i]\n",
    "        for j in range(n-1, i, -1):\n",
    "            x[i] -= A[i, j] * x[j]\n",
    "        x[i] /= A[i, i]\n",
    "    return x"
   ]
  },
  {
   "cell_type": "code",
   "execution_count": 16,
   "id": "ca0dcf56",
   "metadata": {
    "scrolled": true
   },
   "outputs": [
    {
     "data": {
      "text/plain": [
       "array([ 1.33333333, -0.66666667,  2.66666667, -1.33333333])"
      ]
     },
     "execution_count": 16,
     "metadata": {},
     "output_type": "execute_result"
    }
   ],
   "source": [
    "from scipy.linalg import solve_triangular\n",
    "a = np.array([[3, 0, 0, 0], [2, 1, 0, 0], [1, 0, 1, 0], [1, 1, 1, 1]])\n",
    "b = np.array([4, 2, 4, 2])\n",
    "x = solve_triangular(a, b , lower=True)\n",
    "x"
   ]
  },
  {
   "cell_type": "code",
   "execution_count": 17,
   "id": "d919a972",
   "metadata": {},
   "outputs": [
    {
     "data": {
      "text/plain": [
       "array([4., 2., 4., 2.])"
      ]
     },
     "execution_count": 17,
     "metadata": {},
     "output_type": "execute_result"
    }
   ],
   "source": [
    "a.dot(x)  # Check the result"
   ]
  },
  {
   "cell_type": "code",
   "execution_count": 18,
   "id": "66de9e9a",
   "metadata": {},
   "outputs": [],
   "source": [
    "y = solve_triangulars(a,b)"
   ]
  },
  {
   "cell_type": "code",
   "execution_count": 19,
   "id": "ecc29df8",
   "metadata": {},
   "outputs": [
    {
     "data": {
      "text/plain": [
       "array([3, 4, 5, 9])"
      ]
     },
     "execution_count": 19,
     "metadata": {},
     "output_type": "execute_result"
    }
   ],
   "source": [
    "a.dot(y) #  # Check the result"
   ]
  },
  {
   "cell_type": "code",
   "execution_count": null,
   "id": "1207fe14",
   "metadata": {},
   "outputs": [],
   "source": []
  },
  {
   "cell_type": "code",
   "execution_count": null,
   "id": "e3a03d5d",
   "metadata": {},
   "outputs": [],
   "source": []
  },
  {
   "cell_type": "code",
   "execution_count": null,
   "id": "5a06b8a2",
   "metadata": {},
   "outputs": [],
   "source": []
  },
  {
   "cell_type": "code",
   "execution_count": 20,
   "id": "18dccfbd",
   "metadata": {},
   "outputs": [],
   "source": [
    "import numpy as np\n",
    "def forward_sub(L, b):\n",
    "    \"\"\"x = forward_sub(L, b) is the solution to L x = b\n",
    "       L must be a lower-triangular matrix\n",
    "       b must be a vector of the same leading dimension as L\n",
    "    \"\"\"\n",
    "    n = L.shape[0]\n",
    "    x = np.zeros(n)\n",
    "    for i in range(n):\n",
    "        tmp = b[i]\n",
    "        for j in range(i-1):\n",
    "            tmp -= L[i,j] * x[j]\n",
    "        x[i] = tmp / L[i,i]\n",
    "    return x"
   ]
  },
  {
   "cell_type": "code",
   "execution_count": 21,
   "id": "f048db6d",
   "metadata": {},
   "outputs": [],
   "source": [
    "import numpy as np\n",
    "def back_sub(U, b):\n",
    "    \"\"\"x = back_sub(U, b) is the solution to U x = b\n",
    "       U must be an upper-triangular matrix\n",
    "       b must be a vector of the same leading dimension as U\n",
    "    \"\"\"\n",
    "    n = U.shape[0]\n",
    "    x = np.zeros(n)\n",
    "    for i in range(n-1, -1, -1):\n",
    "        tmp = b[i]\n",
    "        for j in range(i+1, n):\n",
    "            tmp -= U[i,j] * x[j]\n",
    "        x[i] = tmp / U[i,i]\n",
    "    return x"
   ]
  },
  {
   "cell_type": "code",
   "execution_count": 22,
   "id": "d165543d",
   "metadata": {},
   "outputs": [],
   "source": [
    "import numpy as np\n",
    "def lu_solve(L, U, b):\n",
    "    \"\"\"x = lu_solve(L, U, b) is the solution to L U x = b\n",
    "       L must be a lower-triangular matrix\n",
    "       U must be an upper-triangular matrix of the same size as L\n",
    "       b must be a vector of the same leading dimension as L\n",
    "    \"\"\"\n",
    "    y = forward_sub(L, b)\n",
    "    x = back_sub(U, y)\n",
    "    return x"
   ]
  },
  {
   "cell_type": "code",
   "execution_count": 23,
   "id": "e8da01e7",
   "metadata": {},
   "outputs": [],
   "source": [
    "import numpy as np\n",
    "def lu_decomp(A):\n",
    "    \"\"\"(L, U) = lu_decomp(A) is the LU decomposition A = L U\n",
    "       A is any matrix\n",
    "       L will be a lower-triangular matrix with 1 on the diagonal, the same shape as A\n",
    "       U will be an upper-triangular matrix, the same shape as A\n",
    "    \"\"\"\n",
    "    n = A.shape[0]\n",
    "    if n == 1:\n",
    "        L = np.array([[1]])\n",
    "        U = A.copy()\n",
    "        return (L, U)\n",
    "\n",
    "    A11 = A[0,0]\n",
    "    A12 = A[0,1:]\n",
    "    A21 = A[1:,0]\n",
    "    A22 = A[1:,1:]\n",
    "\n",
    "    L11 = 1\n",
    "    U11 = A11\n",
    "\n",
    "    L12 = np.zeros(n-1)\n",
    "    U12 = A12.copy()\n",
    "\n",
    "    L21 = A21.copy() / U11\n",
    "    U21 = np.zeros(n-1)\n",
    "\n",
    "    S22 = A22 - np.outer(L21, U12)\n",
    "    (L22, U22) = lu_decomp(S22)\n",
    "\n",
    "    L = np.block([[L11, L12], [L21, L22]])\n",
    "    U = np.block([[U11, U12], [U21, U22]])\n",
    "    return (L, U)"
   ]
  },
  {
   "cell_type": "code",
   "execution_count": 24,
   "id": "78d9dc87",
   "metadata": {},
   "outputs": [],
   "source": [
    "import numpy as np\n",
    "def linear_solve_without_pivoting(A, b):\n",
    "    \"\"\"x = linear_solve_without_pivoting(A, b) is the solution to A x = b (computed without pivoting)\n",
    "       A is any matrix\n",
    "       b is a vector of the same leading dimension as A\n",
    "       x will be a vector of the same leading dimension as A\n",
    "    \"\"\"\n",
    "    (L, U) = lu_decomp(A)\n",
    "    x = lu_solve(L, U, b)\n",
    "    return x"
   ]
  },
  {
   "cell_type": "code",
   "execution_count": 25,
   "id": "54fc1482",
   "metadata": {},
   "outputs": [],
   "source": [
    "import numpy as np\n",
    "def lup_solve(L, U, P, b):\n",
    "    \"\"\"x = lup_solve(L, U, P, b) is the solution to L U x = P b\n",
    "       L must be a lower-triangular matrix\n",
    "       U must be an upper-triangular matrix of the same shape as L\n",
    "       P must be a permutation matrix of the same shape as L\n",
    "       b must be a vector of the same leading dimension as L\n",
    "    \"\"\"\n",
    "    z = np.dot(P, b)\n",
    "    x = lu_solve(L, U, z)\n",
    "    return x"
   ]
  },
  {
   "cell_type": "code",
   "execution_count": 26,
   "id": "75ae9a7b",
   "metadata": {},
   "outputs": [],
   "source": [
    "import numpy as np\n",
    "def lup_decomp(A):\n",
    "    \"\"\"(L, U, P) = lup_decomp(A) is the LUP decomposition P A = L U\n",
    "       A is any matrix\n",
    "       L will be a lower-triangular matrix with 1 on the diagonal, the same shape as A\n",
    "       U will be an upper-triangular matrix, the same shape as A\n",
    "       U will be a permutation matrix, the same shape as A\n",
    "    \"\"\"\n",
    "    n = A.shape[0]\n",
    "    if n == 1:\n",
    "        L = np.array([[1]])\n",
    "        U = A.copy()\n",
    "        P = np.array([[1]])\n",
    "        return (L, U, P)\n",
    "\n",
    "    i = np.argmax(A[:,0])\n",
    "    A_bar = np.vstack([A[i,:], A[:i,:], A[(i+1):,:]])\n",
    "\n",
    "    A_bar11 = A_bar[0,0]\n",
    "    A_bar12 = A_bar[0,1:]\n",
    "    A_bar21 = A_bar[1:,0]\n",
    "    A_bar22 = A_bar[1:,1:]\n",
    "\n",
    "    S22 = A_bar22 - np.dot(A_bar21, A_bar12) / A_bar11\n",
    "\n",
    "    (L22, U22, P22) = lup_decomp(S22)\n",
    "\n",
    "    L11 = 1\n",
    "    U11 = A_bar11\n",
    "\n",
    "    L12 = np.zeros(n-1)\n",
    "    U12 = A_bar12.copy()\n",
    "\n",
    "    L21 = np.dot(P22, A_bar21) / A_bar11\n",
    "    U21 = np.zeros(n-1)\n",
    "\n",
    "    L = np.block([[L11, L12], [L21, L22]])\n",
    "    U = np.block([[U11, U12], [U21, U22]])\n",
    "    P = np.block([\n",
    "        [np.zeros((1, i-1)), 1,                  np.zeros((1, n-i))],\n",
    "        [P22[:,:(i-1)],      np.zeros((n-1, 1)), P22[:,i:]]\n",
    "    ])\n",
    "    return (L, U, P)"
   ]
  },
  {
   "cell_type": "code",
   "execution_count": 27,
   "id": "41596591",
   "metadata": {},
   "outputs": [],
   "source": [
    "import numpy as np\n",
    "def linear_solve(A, b):\n",
    "    \"\"\"x = linear_solve(A, b) is the solution to A x = b (computed with partial pivoting)\n",
    "       A is any matrix\n",
    "       b is a vector of the same leading dimension as A\n",
    "       x will be a vector of the same leading dimension as A\n",
    "    \"\"\"\n",
    "    (L, U, P) = lup_decomp(A)\n",
    "    x = lup_solve(L, U, P, b)\n",
    "    return x"
   ]
  },
  {
   "cell_type": "code",
   "execution_count": 28,
   "id": "10139344",
   "metadata": {},
   "outputs": [],
   "source": [
    "# https://courses.physics.illinois.edu/cs357/sp2020/notes/ref-9-linsys.html"
   ]
  },
  {
   "cell_type": "code",
   "execution_count": 29,
   "id": "666a6749",
   "metadata": {},
   "outputs": [
    {
     "data": {
      "text/plain": [
       "array([ 2., -2.,  9.])"
      ]
     },
     "execution_count": 29,
     "metadata": {},
     "output_type": "execute_result"
    }
   ],
   "source": [
    "a = np.array([[3, 2, 0], [1, -1, 0], [0, 5, 1]])\n",
    "b = np.array([2, 4, -1])\n",
    "from scipy import linalg\n",
    "x = linalg.solve(a, b)\n",
    "x"
   ]
  },
  {
   "cell_type": "code",
   "execution_count": 30,
   "id": "6d7c37a6",
   "metadata": {},
   "outputs": [
    {
     "data": {
      "text/plain": [
       "array([ True,  True,  True])"
      ]
     },
     "execution_count": 30,
     "metadata": {},
     "output_type": "execute_result"
    }
   ],
   "source": [
    "np.dot(a, x) == b"
   ]
  },
  {
   "cell_type": "code",
   "execution_count": 31,
   "id": "11fa4eab",
   "metadata": {},
   "outputs": [
    {
     "ename": "ValueError",
     "evalue": "all the input array dimensions for the concatenation axis must match exactly, but along dimension 1, the array at index 0 has size 2 and the array at index 1 has size 1",
     "output_type": "error",
     "traceback": [
      "\u001b[1;31m---------------------------------------------------------------------------\u001b[0m",
      "\u001b[1;31mValueError\u001b[0m                                Traceback (most recent call last)",
      "Input \u001b[1;32mIn [31]\u001b[0m, in \u001b[0;36m<cell line: 1>\u001b[1;34m()\u001b[0m\n\u001b[1;32m----> 1\u001b[0m \u001b[43mlinear_solve\u001b[49m\u001b[43m(\u001b[49m\u001b[43ma\u001b[49m\u001b[43m,\u001b[49m\u001b[43mb\u001b[49m\u001b[43m)\u001b[49m\n",
      "Input \u001b[1;32mIn [27]\u001b[0m, in \u001b[0;36mlinear_solve\u001b[1;34m(A, b)\u001b[0m\n\u001b[0;32m      2\u001b[0m \u001b[38;5;28;01mdef\u001b[39;00m \u001b[38;5;21mlinear_solve\u001b[39m(A, b):\n\u001b[0;32m      3\u001b[0m     \u001b[38;5;124;03m\"\"\"x = linear_solve(A, b) is the solution to A x = b (computed with partial pivoting)\u001b[39;00m\n\u001b[0;32m      4\u001b[0m \u001b[38;5;124;03m       A is any matrix\u001b[39;00m\n\u001b[0;32m      5\u001b[0m \u001b[38;5;124;03m       b is a vector of the same leading dimension as A\u001b[39;00m\n\u001b[0;32m      6\u001b[0m \u001b[38;5;124;03m       x will be a vector of the same leading dimension as A\u001b[39;00m\n\u001b[0;32m      7\u001b[0m \u001b[38;5;124;03m    \"\"\"\u001b[39;00m\n\u001b[1;32m----> 8\u001b[0m     (L, U, P) \u001b[38;5;241m=\u001b[39m \u001b[43mlup_decomp\u001b[49m\u001b[43m(\u001b[49m\u001b[43mA\u001b[49m\u001b[43m)\u001b[49m\n\u001b[0;32m      9\u001b[0m     x \u001b[38;5;241m=\u001b[39m lup_solve(L, U, P, b)\n\u001b[0;32m     10\u001b[0m     \u001b[38;5;28;01mreturn\u001b[39;00m x\n",
      "Input \u001b[1;32mIn [26]\u001b[0m, in \u001b[0;36mlup_decomp\u001b[1;34m(A)\u001b[0m\n\u001b[0;32m     22\u001b[0m A_bar22 \u001b[38;5;241m=\u001b[39m A_bar[\u001b[38;5;241m1\u001b[39m:,\u001b[38;5;241m1\u001b[39m:]\n\u001b[0;32m     24\u001b[0m S22 \u001b[38;5;241m=\u001b[39m A_bar22 \u001b[38;5;241m-\u001b[39m np\u001b[38;5;241m.\u001b[39mdot(A_bar21, A_bar12) \u001b[38;5;241m/\u001b[39m A_bar11\n\u001b[1;32m---> 26\u001b[0m (L22, U22, P22) \u001b[38;5;241m=\u001b[39m \u001b[43mlup_decomp\u001b[49m\u001b[43m(\u001b[49m\u001b[43mS22\u001b[49m\u001b[43m)\u001b[49m\n\u001b[0;32m     28\u001b[0m L11 \u001b[38;5;241m=\u001b[39m \u001b[38;5;241m1\u001b[39m\n\u001b[0;32m     29\u001b[0m U11 \u001b[38;5;241m=\u001b[39m A_bar11\n",
      "Input \u001b[1;32mIn [26]\u001b[0m, in \u001b[0;36mlup_decomp\u001b[1;34m(A)\u001b[0m\n\u001b[0;32m     37\u001b[0m L \u001b[38;5;241m=\u001b[39m np\u001b[38;5;241m.\u001b[39mblock([[L11, L12], [L21, L22]])\n\u001b[0;32m     38\u001b[0m U \u001b[38;5;241m=\u001b[39m np\u001b[38;5;241m.\u001b[39mblock([[U11, U12], [U21, U22]])\n\u001b[1;32m---> 39\u001b[0m P \u001b[38;5;241m=\u001b[39m \u001b[43mnp\u001b[49m\u001b[38;5;241;43m.\u001b[39;49m\u001b[43mblock\u001b[49m\u001b[43m(\u001b[49m\u001b[43m[\u001b[49m\n\u001b[0;32m     40\u001b[0m \u001b[43m    \u001b[49m\u001b[43m[\u001b[49m\u001b[43mnp\u001b[49m\u001b[38;5;241;43m.\u001b[39;49m\u001b[43mzeros\u001b[49m\u001b[43m(\u001b[49m\u001b[43m(\u001b[49m\u001b[38;5;241;43m1\u001b[39;49m\u001b[43m,\u001b[49m\u001b[43m \u001b[49m\u001b[43mi\u001b[49m\u001b[38;5;241;43m-\u001b[39;49m\u001b[38;5;241;43m1\u001b[39;49m\u001b[43m)\u001b[49m\u001b[43m)\u001b[49m\u001b[43m,\u001b[49m\u001b[43m \u001b[49m\u001b[38;5;241;43m1\u001b[39;49m\u001b[43m,\u001b[49m\u001b[43m                  \u001b[49m\u001b[43mnp\u001b[49m\u001b[38;5;241;43m.\u001b[39;49m\u001b[43mzeros\u001b[49m\u001b[43m(\u001b[49m\u001b[43m(\u001b[49m\u001b[38;5;241;43m1\u001b[39;49m\u001b[43m,\u001b[49m\u001b[43m \u001b[49m\u001b[43mn\u001b[49m\u001b[38;5;241;43m-\u001b[39;49m\u001b[43mi\u001b[49m\u001b[43m)\u001b[49m\u001b[43m)\u001b[49m\u001b[43m]\u001b[49m\u001b[43m,\u001b[49m\n\u001b[0;32m     41\u001b[0m \u001b[43m    \u001b[49m\u001b[43m[\u001b[49m\u001b[43mP22\u001b[49m\u001b[43m[\u001b[49m\u001b[43m:\u001b[49m\u001b[43m,\u001b[49m\u001b[43m:\u001b[49m\u001b[43m(\u001b[49m\u001b[43mi\u001b[49m\u001b[38;5;241;43m-\u001b[39;49m\u001b[38;5;241;43m1\u001b[39;49m\u001b[43m)\u001b[49m\u001b[43m]\u001b[49m\u001b[43m,\u001b[49m\u001b[43m      \u001b[49m\u001b[43mnp\u001b[49m\u001b[38;5;241;43m.\u001b[39;49m\u001b[43mzeros\u001b[49m\u001b[43m(\u001b[49m\u001b[43m(\u001b[49m\u001b[43mn\u001b[49m\u001b[38;5;241;43m-\u001b[39;49m\u001b[38;5;241;43m1\u001b[39;49m\u001b[43m,\u001b[49m\u001b[43m \u001b[49m\u001b[38;5;241;43m1\u001b[39;49m\u001b[43m)\u001b[49m\u001b[43m)\u001b[49m\u001b[43m,\u001b[49m\u001b[43m \u001b[49m\u001b[43mP22\u001b[49m\u001b[43m[\u001b[49m\u001b[43m:\u001b[49m\u001b[43m,\u001b[49m\u001b[43mi\u001b[49m\u001b[43m:\u001b[49m\u001b[43m]\u001b[49m\u001b[43m]\u001b[49m\n\u001b[0;32m     42\u001b[0m \u001b[43m\u001b[49m\u001b[43m]\u001b[49m\u001b[43m)\u001b[49m\n\u001b[0;32m     43\u001b[0m \u001b[38;5;28;01mreturn\u001b[39;00m (L, U, P)\n",
      "File \u001b[1;32m<__array_function__ internals>:5\u001b[0m, in \u001b[0;36mblock\u001b[1;34m(*args, **kwargs)\u001b[0m\n",
      "File \u001b[1;32mD:\\Anaconda\\lib\\site-packages\\numpy\\core\\shape_base.py:849\u001b[0m, in \u001b[0;36mblock\u001b[1;34m(arrays)\u001b[0m\n\u001b[0;32m    847\u001b[0m     \u001b[38;5;28;01mreturn\u001b[39;00m _block_slicing(arrays, list_ndim, result_ndim)\n\u001b[0;32m    848\u001b[0m \u001b[38;5;28;01melse\u001b[39;00m:\n\u001b[1;32m--> 849\u001b[0m     \u001b[38;5;28;01mreturn\u001b[39;00m \u001b[43m_block_concatenate\u001b[49m\u001b[43m(\u001b[49m\u001b[43marrays\u001b[49m\u001b[43m,\u001b[49m\u001b[43m \u001b[49m\u001b[43mlist_ndim\u001b[49m\u001b[43m,\u001b[49m\u001b[43m \u001b[49m\u001b[43mresult_ndim\u001b[49m\u001b[43m)\u001b[49m\n",
      "File \u001b[1;32mD:\\Anaconda\\lib\\site-packages\\numpy\\core\\shape_base.py:893\u001b[0m, in \u001b[0;36m_block_concatenate\u001b[1;34m(arrays, list_ndim, result_ndim)\u001b[0m\n\u001b[0;32m    892\u001b[0m \u001b[38;5;28;01mdef\u001b[39;00m \u001b[38;5;21m_block_concatenate\u001b[39m(arrays, list_ndim, result_ndim):\n\u001b[1;32m--> 893\u001b[0m     result \u001b[38;5;241m=\u001b[39m \u001b[43m_block\u001b[49m\u001b[43m(\u001b[49m\u001b[43marrays\u001b[49m\u001b[43m,\u001b[49m\u001b[43m \u001b[49m\u001b[43mlist_ndim\u001b[49m\u001b[43m,\u001b[49m\u001b[43m \u001b[49m\u001b[43mresult_ndim\u001b[49m\u001b[43m)\u001b[49m\n\u001b[0;32m    894\u001b[0m     \u001b[38;5;28;01mif\u001b[39;00m list_ndim \u001b[38;5;241m==\u001b[39m \u001b[38;5;241m0\u001b[39m:\n\u001b[0;32m    895\u001b[0m         \u001b[38;5;66;03m# Catch an edge case where _block returns a view because\u001b[39;00m\n\u001b[0;32m    896\u001b[0m         \u001b[38;5;66;03m# `arrays` is a single numpy array and not a list of numpy arrays.\u001b[39;00m\n\u001b[0;32m    897\u001b[0m         \u001b[38;5;66;03m# This might copy scalars or lists twice, but this isn't a likely\u001b[39;00m\n\u001b[0;32m    898\u001b[0m         \u001b[38;5;66;03m# usecase for those interested in performance\u001b[39;00m\n\u001b[0;32m    899\u001b[0m         result \u001b[38;5;241m=\u001b[39m result\u001b[38;5;241m.\u001b[39mcopy()\n",
      "File \u001b[1;32mD:\\Anaconda\\lib\\site-packages\\numpy\\core\\shape_base.py:662\u001b[0m, in \u001b[0;36m_block\u001b[1;34m(arrays, max_depth, result_ndim, depth)\u001b[0m\n\u001b[0;32m    659\u001b[0m \u001b[38;5;28;01mif\u001b[39;00m depth \u001b[38;5;241m<\u001b[39m max_depth:\n\u001b[0;32m    660\u001b[0m     arrs \u001b[38;5;241m=\u001b[39m [_block(arr, max_depth, result_ndim, depth\u001b[38;5;241m+\u001b[39m\u001b[38;5;241m1\u001b[39m)\n\u001b[0;32m    661\u001b[0m             \u001b[38;5;28;01mfor\u001b[39;00m arr \u001b[38;5;129;01min\u001b[39;00m arrays]\n\u001b[1;32m--> 662\u001b[0m     \u001b[38;5;28;01mreturn\u001b[39;00m \u001b[43m_concatenate\u001b[49m\u001b[43m(\u001b[49m\u001b[43marrs\u001b[49m\u001b[43m,\u001b[49m\u001b[43m \u001b[49m\u001b[43maxis\u001b[49m\u001b[38;5;241;43m=\u001b[39;49m\u001b[38;5;241;43m-\u001b[39;49m\u001b[43m(\u001b[49m\u001b[43mmax_depth\u001b[49m\u001b[38;5;241;43m-\u001b[39;49m\u001b[43mdepth\u001b[49m\u001b[43m)\u001b[49m\u001b[43m)\u001b[49m\n\u001b[0;32m    663\u001b[0m \u001b[38;5;28;01melse\u001b[39;00m:\n\u001b[0;32m    664\u001b[0m     \u001b[38;5;66;03m# We've 'bottomed out' - arrays is either a scalar or an array\u001b[39;00m\n\u001b[0;32m    665\u001b[0m     \u001b[38;5;66;03m# type(arrays) is not list\u001b[39;00m\n\u001b[0;32m    666\u001b[0m     \u001b[38;5;28;01mreturn\u001b[39;00m _atleast_nd(arrays, result_ndim)\n",
      "\u001b[1;31mValueError\u001b[0m: all the input array dimensions for the concatenation axis must match exactly, but along dimension 1, the array at index 0 has size 2 and the array at index 1 has size 1"
     ]
    }
   ],
   "source": [
    "linear_solve(a,b)"
   ]
  },
  {
   "cell_type": "code",
   "execution_count": 32,
   "id": "cfd90125",
   "metadata": {},
   "outputs": [],
   "source": [
    "def LU(A):\n",
    "\t\n",
    "\tn = len(A) # Give us total of lines\n",
    "\n",
    "\t# (1) Extract the b vector\n",
    "\tb = [0 for i in range(n)]\n",
    "\tfor i in range(0,n):\n",
    "\t\tb[i]=A[i][n]\n",
    "\n",
    "\t# (2) Fill L matrix and its diagonal with 1\n",
    "\tL = [[0 for i in range(n)] for i in range(n)]\n",
    "\tfor i in range(0,n):\n",
    "\t\tL[i][i] = 1\n",
    "\n",
    "\t# (3) Fill U matrix\n",
    "\tU = [[0 for i in range(0,n)] for i in range(n)]\n",
    "\tfor i in range(0,n):\n",
    "\t\tfor j in range(0,n):\n",
    "\t\t\tU[i][j] = A[i][j]\n",
    "\n",
    "\tn = len(U)\n",
    "\n",
    "\t# (4) Find both U and L matrices\n",
    "\tfor i in range(0,n): # for i in [0,1,2,..,n]\n",
    "\t\t# (4.1) Find the maximun value in a column in order to change lines\n",
    "\t\tmaxElem = abs(U[i][i])\n",
    "\t\tmaxRow = i\n",
    "\t\tfor k in range(i+1, n): # Interacting over the next line\n",
    "\t\t\tif(abs(U[k][i]) > maxElem):\n",
    "\t\t\t\tmaxElem = abs(U[k][i]) # Next line on the diagonal\n",
    "\t\t\t\tmaxRow = k\n",
    "\n",
    "\t\t# (4.2) Swap the rows pivoting the maxRow, i is the current row\n",
    "\t\tfor k in range(i, n): # Interacting column by column\n",
    "\t\t\ttmp=U[maxRow][k]\n",
    "\t\t\tU[maxRow][k]=U[i][k]\n",
    "\t\t\tU[i][k]=tmp\n",
    "\n",
    "\t\t# (4.3) Subtract lines\n",
    "\t\tfor k in range(i+1,n):\n",
    "\t\t\tc = -U[k][i]/float(U[i][i])\n",
    "\t\t\tL[k][i] = c # (4.4) Store the multiplier\n",
    "\t\t\tfor j in range(i, n):\n",
    "\t\t\t\tU[k][j] += c*U[i][j] # Multiply with the pivot line and subtract\n",
    "\n",
    "\t\t# (4.5) Make the rows bellow this one zero in the current column\n",
    "\t\tfor k in range(i+1, n):\n",
    "\t\t\tU[k][i]=0\n",
    "\n",
    "\tn = len(L)\n",
    "\n",
    "\t# (5) Perform substitutioan Ly=b\n",
    "\ty = [0 for i in range(n)]\n",
    "\tfor i in range(0,n,1):\n",
    "\t\ty[i] = b[i]/float(L[i][i])\n",
    "\t\tfor k in range(0,i,1):\n",
    "\t\t\ty[i] -= y[k]*L[i][k]\n",
    "\n",
    "\tn = len(U)\n",
    "\n",
    "\t# (6) Perform substitution Ux=y\n",
    "\tx = [0 in range(n)]\n",
    "\tfor i in range(n-1,-1,-1):\n",
    "\t\tx[i] = y[i]/float(U[i][i])\n",
    "\t\tfor k in range (i-1,-1,-1):\n",
    "\t\t\tU[i] -= x[i]*U[i][k]\n",
    "\n",
    "\treturn x"
   ]
  },
  {
   "cell_type": "code",
   "execution_count": 33,
   "id": "690d6c71",
   "metadata": {},
   "outputs": [],
   "source": [
    "# https://gist.github.com/angellicacardozo/4b35e15aa21af890b4a8fedef9891401"
   ]
  },
  {
   "cell_type": "code",
   "execution_count": 36,
   "id": "398a05b4",
   "metadata": {},
   "outputs": [
    {
     "data": {
      "text/plain": [
       "True"
      ]
     },
     "execution_count": 36,
     "metadata": {},
     "output_type": "execute_result"
    }
   ],
   "source": [
    "from scipy.linalg import lu\n",
    "A = np.array([[2, 5, 8, 7], [5, 2, 2, 8], [7, 5, 6, 6], [5, 4, 4, 8]])\n",
    "p, l, u = lu(A)\n",
    "np.allclose(A - p @ l @ u, np.zeros((4, 4)))"
   ]
  },
  {
   "cell_type": "code",
   "execution_count": 37,
   "id": "caac2fd2",
   "metadata": {},
   "outputs": [
    {
     "data": {
      "text/plain": [
       "array([[0., 1., 0., 0.],\n",
       "       [0., 0., 0., 1.],\n",
       "       [1., 0., 0., 0.],\n",
       "       [0., 0., 1., 0.]])"
      ]
     },
     "execution_count": 37,
     "metadata": {},
     "output_type": "execute_result"
    }
   ],
   "source": [
    "p"
   ]
  },
  {
   "cell_type": "code",
   "execution_count": 38,
   "id": "999fe494",
   "metadata": {},
   "outputs": [
    {
     "data": {
      "text/plain": [
       "array([[ 1.        ,  0.        ,  0.        ,  0.        ],\n",
       "       [ 0.28571429,  1.        ,  0.        ,  0.        ],\n",
       "       [ 0.71428571,  0.12      ,  1.        ,  0.        ],\n",
       "       [ 0.71428571, -0.44      , -0.46153846,  1.        ]])"
      ]
     },
     "execution_count": 38,
     "metadata": {},
     "output_type": "execute_result"
    }
   ],
   "source": [
    "l"
   ]
  },
  {
   "cell_type": "code",
   "execution_count": 39,
   "id": "5b17d94b",
   "metadata": {},
   "outputs": [
    {
     "data": {
      "text/plain": [
       "array([[ 7.        ,  5.        ,  6.        ,  6.        ],\n",
       "       [ 0.        ,  3.57142857,  6.28571429,  5.28571429],\n",
       "       [ 0.        ,  0.        , -1.04      ,  3.08      ],\n",
       "       [ 0.        ,  0.        ,  0.        ,  7.46153846]])"
      ]
     },
     "execution_count": 39,
     "metadata": {},
     "output_type": "execute_result"
    }
   ],
   "source": [
    "u"
   ]
  },
  {
   "cell_type": "code",
   "execution_count": 42,
   "id": "56189183",
   "metadata": {},
   "outputs": [
    {
     "ename": "IndexError",
     "evalue": "list assignment index out of range",
     "output_type": "error",
     "traceback": [
      "\u001b[1;31m---------------------------------------------------------------------------\u001b[0m",
      "\u001b[1;31mIndexError\u001b[0m                                Traceback (most recent call last)",
      "Input \u001b[1;32mIn [42]\u001b[0m, in \u001b[0;36m<cell line: 2>\u001b[1;34m()\u001b[0m\n\u001b[0;32m      1\u001b[0m A \u001b[38;5;241m=\u001b[39m np\u001b[38;5;241m.\u001b[39marray([[\u001b[38;5;241m1\u001b[39m,\u001b[38;5;241m2\u001b[39m,\u001b[38;5;241m4\u001b[39m],[\u001b[38;5;241m3\u001b[39m,\u001b[38;5;241m4\u001b[39m,\u001b[38;5;241m3\u001b[39m]])\n\u001b[1;32m----> 2\u001b[0m p,l,u \u001b[38;5;241m=\u001b[39m \u001b[43mLU\u001b[49m\u001b[43m(\u001b[49m\u001b[43mA\u001b[49m\u001b[43m)\u001b[49m\n",
      "Input \u001b[1;32mIn [32]\u001b[0m, in \u001b[0;36mLU\u001b[1;34m(A)\u001b[0m\n\u001b[0;32m     62\u001b[0m x \u001b[38;5;241m=\u001b[39m [\u001b[38;5;241m0\u001b[39m \u001b[38;5;129;01min\u001b[39;00m \u001b[38;5;28mrange\u001b[39m(n)]\n\u001b[0;32m     63\u001b[0m \u001b[38;5;28;01mfor\u001b[39;00m i \u001b[38;5;129;01min\u001b[39;00m \u001b[38;5;28mrange\u001b[39m(n\u001b[38;5;241m-\u001b[39m\u001b[38;5;241m1\u001b[39m,\u001b[38;5;241m-\u001b[39m\u001b[38;5;241m1\u001b[39m,\u001b[38;5;241m-\u001b[39m\u001b[38;5;241m1\u001b[39m):\n\u001b[1;32m---> 64\u001b[0m \tx[i] \u001b[38;5;241m=\u001b[39m y[i]\u001b[38;5;241m/\u001b[39m\u001b[38;5;28mfloat\u001b[39m(U[i][i])\n\u001b[0;32m     65\u001b[0m \t\u001b[38;5;28;01mfor\u001b[39;00m k \u001b[38;5;129;01min\u001b[39;00m \u001b[38;5;28mrange\u001b[39m (i\u001b[38;5;241m-\u001b[39m\u001b[38;5;241m1\u001b[39m,\u001b[38;5;241m-\u001b[39m\u001b[38;5;241m1\u001b[39m,\u001b[38;5;241m-\u001b[39m\u001b[38;5;241m1\u001b[39m):\n\u001b[0;32m     66\u001b[0m \t\tU[i] \u001b[38;5;241m-\u001b[39m\u001b[38;5;241m=\u001b[39m x[i]\u001b[38;5;241m*\u001b[39mU[i][k]\n",
      "\u001b[1;31mIndexError\u001b[0m: list assignment index out of range"
     ]
    }
   ],
   "source": [
    "A = np.array([[1,2,4],[3,4,3]])\n",
    "p,l,u = LU(A)"
   ]
  },
  {
   "cell_type": "code",
   "execution_count": null,
   "id": "0f986ee6",
   "metadata": {},
   "outputs": [],
   "source": []
  }
 ],
 "metadata": {
  "kernelspec": {
   "display_name": "Python 3 (ipykernel)",
   "language": "python",
   "name": "python3"
  },
  "language_info": {
   "codemirror_mode": {
    "name": "ipython",
    "version": 3
   },
   "file_extension": ".py",
   "mimetype": "text/x-python",
   "name": "python",
   "nbconvert_exporter": "python",
   "pygments_lexer": "ipython3",
   "version": "3.9.12"
  }
 },
 "nbformat": 4,
 "nbformat_minor": 5
}
