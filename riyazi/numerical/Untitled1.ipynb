{
 "cells": [
  {
   "cell_type": "code",
   "execution_count": 1,
   "id": "b3b3af06",
   "metadata": {},
   "outputs": [],
   "source": [
    "import numpy as np "
   ]
  },
  {
   "cell_type": "code",
   "execution_count": 2,
   "id": "54b3d6ef",
   "metadata": {},
   "outputs": [],
   "source": [
    "A = np.array([[1.0,4.0,1.0], [1.0,6.0,-1.0], [2.0,-1.0,2.0]])\n",
    "b = np.array([7.0,13.0,5.0])\n"
   ]
  },
  {
   "cell_type": "code",
   "execution_count": 3,
   "id": "186f57b1",
   "metadata": {},
   "outputs": [
    {
     "data": {
      "text/plain": [
       "array([[ 1.,  4.,  1.],\n",
       "       [ 1.,  6., -1.],\n",
       "       [ 2., -1.,  2.]])"
      ]
     },
     "execution_count": 3,
     "metadata": {},
     "output_type": "execute_result"
    }
   ],
   "source": [
    "A"
   ]
  },
  {
   "cell_type": "code",
   "execution_count": 4,
   "id": "5cb51744",
   "metadata": {},
   "outputs": [],
   "source": [
    "def LUdecomp(a):\n",
    "    n = len(A)\n",
    "    for k in range(0,n-1):\n",
    "        for i in range(k+1,n):\n",
    "            if a[i,k] !=0.0:\n",
    "                lam = a[i,k]/ a[k,k]\n",
    "                a[i,k+1:n] = a[i,k+1:n] - lam*a[k,k+1:n]\n",
    "                a[i,k] = lam \n",
    "    return a "
   ]
  },
  {
   "cell_type": "code",
   "execution_count": 5,
   "id": "9d93ce00",
   "metadata": {
    "scrolled": true
   },
   "outputs": [
    {
     "data": {
      "text/plain": [
       "array([[ 1. ,  4. ,  1. ],\n",
       "       [ 1. ,  2. , -2. ],\n",
       "       [ 2. , -4.5, -9. ]])"
      ]
     },
     "execution_count": 5,
     "metadata": {},
     "output_type": "execute_result"
    }
   ],
   "source": [
    "LUdecomp(A)"
   ]
  },
  {
   "cell_type": "code",
   "execution_count": 6,
   "id": "6ada5fec",
   "metadata": {},
   "outputs": [
    {
     "data": {
      "text/plain": [
       "array([[ 1.  ,  4.  ,  1.  ],\n",
       "       [ 1.  , -2.  , -3.  ],\n",
       "       [ 2.  ,  6.25,  7.75]])"
      ]
     },
     "execution_count": 6,
     "metadata": {},
     "output_type": "execute_result"
    }
   ],
   "source": [
    "LUdecomp(A)"
   ]
  },
  {
   "cell_type": "code",
   "execution_count": 7,
   "id": "54d25273",
   "metadata": {},
   "outputs": [
    {
     "data": {
      "text/plain": [
       "array([[ 1.        ,  4.        ,  1.        ],\n",
       "       [ 1.        , -6.        , -4.        ],\n",
       "       [ 2.        ,  0.29166667,  6.91666667]])"
      ]
     },
     "execution_count": 7,
     "metadata": {},
     "output_type": "execute_result"
    }
   ],
   "source": [
    "LUdecomp(A)"
   ]
  },
  {
   "cell_type": "code",
   "execution_count": null,
   "id": "d017724f",
   "metadata": {},
   "outputs": [],
   "source": []
  },
  {
   "cell_type": "code",
   "execution_count": 8,
   "id": "d3d7116e",
   "metadata": {},
   "outputs": [],
   "source": [
    "def LUsolve(a,b):\n",
    "    n = len(a)\n",
    "    for k in range(1,n):\n",
    "        b[k] = b[k] - np.dot(a[k,0:k], b[0:k])\n",
    "    b[n-1]  = b[n-1] /a[n-1,n-1]\n",
    "    for k in range(n-2,-1,-1):\n",
    "        b[k] = (b[k] - np.dot(a[k,k+1:n], b[k+1:n])) /a[k,k]\n",
    "    return b \n",
    "    \n",
    "    "
   ]
  },
  {
   "cell_type": "code",
   "execution_count": 9,
   "id": "a6c0f67b",
   "metadata": {},
   "outputs": [
    {
     "data": {
      "text/plain": [
       "array([[  1.        ,   4.        ,   1.        ],\n",
       "       [  1.        , -10.        ,  -5.        ],\n",
       "       [  2.        ,   0.77083333,   8.77083333]])"
      ]
     },
     "execution_count": 9,
     "metadata": {},
     "output_type": "execute_result"
    }
   ],
   "source": [
    "Ap = LUdecomp(A)\n",
    "Ap"
   ]
  },
  {
   "cell_type": "code",
   "execution_count": 10,
   "id": "d0d4c19c",
   "metadata": {},
   "outputs": [
    {
     "data": {
      "text/plain": [
       "array([ 7.84655582,  0.17672209, -1.55344418])"
      ]
     },
     "execution_count": 10,
     "metadata": {},
     "output_type": "execute_result"
    }
   ],
   "source": [
    "LUsolve(Ap,b)"
   ]
  },
  {
   "cell_type": "code",
   "execution_count": null,
   "id": "49e8d404",
   "metadata": {},
   "outputs": [],
   "source": []
  }
 ],
 "metadata": {
  "kernelspec": {
   "display_name": "Python 3 (ipykernel)",
   "language": "python",
   "name": "python3"
  },
  "language_info": {
   "codemirror_mode": {
    "name": "ipython",
    "version": 3
   },
   "file_extension": ".py",
   "mimetype": "text/x-python",
   "name": "python",
   "nbconvert_exporter": "python",
   "pygments_lexer": "ipython3",
   "version": "3.9.12"
  }
 },
 "nbformat": 4,
 "nbformat_minor": 5
}
