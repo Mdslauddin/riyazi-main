{
 "cells": [
  {
   "cell_type": "markdown",
   "id": "208b60d6",
   "metadata": {},
   "source": [
    "# Power series Expansions "
   ]
  },
  {
   "cell_type": "code",
   "execution_count": null,
   "id": "e5396438",
   "metadata": {},
   "outputs": [],
   "source": [
    "n=int(input(\"Enter the number of terms:\")) \n",
    "x=int(input(\"Enter the value of x:\")) \n",
    "sum1=1for i in range(2,n+1): \n",
    "    sum1=sum1+((x**i)/i) \n",
    "print(\"The sum of series is\",round(sum1,2)) "
   ]
  },
  {
   "cell_type": "markdown",
   "id": "e04f8894",
   "metadata": {},
   "source": [
    "How do I write a summation of power series code in Python?"
   ]
  },
  {
   "cell_type": "markdown",
   "id": "946b0e81",
   "metadata": {},
   "source": []
  }
 ],
 "metadata": {
  "kernelspec": {
   "display_name": "Python 3 (ipykernel)",
   "language": "python",
   "name": "python3"
  },
  "language_info": {
   "codemirror_mode": {
    "name": "ipython",
    "version": 3
   },
   "file_extension": ".py",
   "mimetype": "text/x-python",
   "name": "python",
   "nbconvert_exporter": "python",
   "pygments_lexer": "ipython3",
   "version": "3.9.12"
  }
 },
 "nbformat": 4,
 "nbformat_minor": 5
}
