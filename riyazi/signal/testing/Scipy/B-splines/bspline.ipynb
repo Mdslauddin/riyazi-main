{
 "cells": [
  {
   "cell_type": "markdown",
   "id": "a75b9f4f",
   "metadata": {},
   "source": [
    "### B-spline basis function of order n."
   ]
  },
  {
   "cell_type": "code",
   "execution_count": 1,
   "id": "15e308b0",
   "metadata": {},
   "outputs": [
    {
     "data": {
      "text/plain": [
       "array(1.)"
      ]
     },
     "execution_count": 1,
     "metadata": {},
     "output_type": "execute_result"
    }
   ],
   "source": [
    "from scipy.signal import bspline, cubic, quadratic\n",
    "bspline(0.0, 1)"
   ]
  },
  {
   "cell_type": "code",
   "execution_count": 2,
   "id": "d130253d",
   "metadata": {},
   "outputs": [
    {
     "data": {
      "text/plain": [
       "array([0.125, 0.75 , 0.125])"
      ]
     },
     "execution_count": 2,
     "metadata": {},
     "output_type": "execute_result"
    }
   ],
   "source": [
    "knots = [-1.0, 0.0, -1.0]\n",
    "bspline(knots, 2)"
   ]
  },
  {
   "cell_type": "code",
   "execution_count": 3,
   "id": "2e4765a1",
   "metadata": {},
   "outputs": [],
   "source": [
    "import numpy as np "
   ]
  },
  {
   "cell_type": "code",
   "execution_count": 4,
   "id": "00143788",
   "metadata": {},
   "outputs": [
    {
     "data": {
      "text/plain": [
       "True"
      ]
     },
     "execution_count": 4,
     "metadata": {},
     "output_type": "execute_result"
    }
   ],
   "source": [
    "np.array_equal(bspline(knots, 2), quadratic(knots))"
   ]
  },
  {
   "cell_type": "code",
   "execution_count": 5,
   "id": "1f364be4",
   "metadata": {},
   "outputs": [
    {
     "data": {
      "text/plain": [
       "True"
      ]
     },
     "execution_count": 5,
     "metadata": {},
     "output_type": "execute_result"
    }
   ],
   "source": [
    "np.array_equal(bspline(knots, 3), cubic(knots))"
   ]
  },
  {
   "cell_type": "code",
   "execution_count": null,
   "id": "50492b09",
   "metadata": {},
   "outputs": [],
   "source": []
  }
 ],
 "metadata": {
  "kernelspec": {
   "display_name": "Python 3 (ipykernel)",
   "language": "python",
   "name": "python3"
  },
  "language_info": {
   "codemirror_mode": {
    "name": "ipython",
    "version": 3
   },
   "file_extension": ".py",
   "mimetype": "text/x-python",
   "name": "python",
   "nbconvert_exporter": "python",
   "pygments_lexer": "ipython3",
   "version": "3.9.12"
  }
 },
 "nbformat": 4,
 "nbformat_minor": 5
}
