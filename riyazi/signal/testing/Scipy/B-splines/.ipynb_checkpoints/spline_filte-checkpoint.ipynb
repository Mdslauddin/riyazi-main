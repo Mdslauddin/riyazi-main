{
 "cells": [
  {
   "cell_type": "markdown",
   "id": "0dc6ff78",
   "metadata": {},
   "source": [
    "### Smoothing spline (cubic) filtering of a rank-2 array."
   ]
  },
  {
   "cell_type": "code",
   "execution_count": 1,
   "id": "16302195",
   "metadata": {},
   "outputs": [],
   "source": [
    "import numpy as np "
   ]
  },
  {
   "cell_type": "code",
   "execution_count": 3,
   "id": "a919bb6f",
   "metadata": {},
   "outputs": [
    {
     "data": {
      "image/png": "[encoded data removed]",
      "text/plain": [
       "<Figure size 432x288 with 2 Axes>"
      ]
     },
     "metadata": {
      "needs_background": "light"
     },
     "output_type": "display_data"
    }
   ],
   "source": [
    "from scipy.signal import spline_filter\n",
    "import matplotlib.pyplot as plt\n",
    "orig_img = np.eye(20)  # create an image\n",
    "orig_img[10, :] = 1.0\n",
    "sp_filter = spline_filter(orig_img, lmbda=0.1)\n",
    "f, ax = plt.subplots(1, 2, sharex=True)\n",
    "for ind, data in enumerate([[orig_img, \"original image\"],\n",
    "                            [sp_filter, \"spline filter\"]]):\n",
    "    ax[ind].imshow(data[0], cmap='gray_r')\n",
    "    ax[ind].set_title(data[1])\n",
    "plt.tight_layout()\n",
    "plt.show()"
   ]
  },
  {
   "cell_type": "code",
   "execution_count": null,
   "id": "9bc5fb53",
   "metadata": {},
   "outputs": [],
   "source": []
  }
 ],
 "metadata": {
  "kernelspec": {
   "display_name": "Python 3 (ipykernel)",
   "language": "python",
   "name": "python3"
  },
  "language_info": {
   "codemirror_mode": {
    "name": "ipython",
    "version": 3
   },
   "file_extension": ".py",
   "mimetype": "text/x-python",
   "name": "python",
   "nbconvert_exporter": "python",
   "pygments_lexer": "ipython3",
   "version": "3.9.12"
  }
 },
 "nbformat": 4,
 "nbformat_minor": 5
}
