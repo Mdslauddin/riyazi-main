{
 "cells": [
  {
   "cell_type": "markdown",
   "id": "3aad6439",
   "metadata": {},
   "source": [
    "### Gaussian approximation to B-spline basis function of order n."
   ]
  },
  {
   "cell_type": "code",
   "execution_count": 2,
   "id": "49e93db8",
   "metadata": {},
   "outputs": [
    {
     "data": {
      "text/plain": [
       "array([0.15418033, 0.6909883 , 0.15418033])"
      ]
     },
     "execution_count": 2,
     "metadata": {},
     "output_type": "execute_result"
    }
   ],
   "source": [
    "import numpy as np \n",
    "from scipy.signal import gauss_spline, bspline\n",
    "knots = np.array([-1.0, 0.0, -1.0])\n",
    "gauss_spline(knots, 3)"
   ]
  },
  {
   "cell_type": "code",
   "execution_count": 3,
   "id": "52d57dba",
   "metadata": {},
   "outputs": [
    {
     "data": {
      "text/plain": [
       "array([0.16666667, 0.66666667, 0.16666667])"
      ]
     },
     "execution_count": 3,
     "metadata": {},
     "output_type": "execute_result"
    }
   ],
   "source": [
    "bspline(knots, 3)"
   ]
  },
  {
   "cell_type": "code",
   "execution_count": null,
   "id": "8092caa7",
   "metadata": {},
   "outputs": [],
   "source": []
  }
 ],
 "metadata": {
  "kernelspec": {
   "display_name": "Python 3 (ipykernel)",
   "language": "python",
   "name": "python3"
  },
  "language_info": {
   "codemirror_mode": {
    "name": "ipython",
    "version": 3
   },
   "file_extension": ".py",
   "mimetype": "text/x-python",
   "name": "python",
   "nbconvert_exporter": "python",
   "pygments_lexer": "ipython3",
   "version": "3.9.12"
  }
 },
 "nbformat": 4,
 "nbformat_minor": 5
}
