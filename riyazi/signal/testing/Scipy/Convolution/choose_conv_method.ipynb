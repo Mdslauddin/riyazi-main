{
 "cells": [
  {
   "cell_type": "markdown",
   "id": "c24f3dd2",
   "metadata": {},
   "source": [
    "### Find the fastest convolution/correlation method."
   ]
  },
  {
   "cell_type": "code",
   "execution_count": 1,
   "id": "70fbcbaa",
   "metadata": {},
   "outputs": [],
   "source": [
    "import numpy as np"
   ]
  },
  {
   "cell_type": "code",
   "execution_count": 2,
   "id": "5f43f900",
   "metadata": {},
   "outputs": [
    {
     "data": {
      "text/plain": [
       "'fft'"
      ]
     },
     "execution_count": 2,
     "metadata": {},
     "output_type": "execute_result"
    }
   ],
   "source": [
    "from scipy import signal\n",
    "rng = np.random.default_rng()\n",
    "img = rng.random((32, 32))\n",
    "filter = rng.random((8, 8))\n",
    "method = signal.choose_conv_method(img, filter, mode='same')\n",
    "method"
   ]
  },
  {
   "cell_type": "code",
   "execution_count": 3,
   "id": "50e5edc5",
   "metadata": {},
   "outputs": [],
   "source": [
    "img2 = rng.random((32, 32))\n",
    "filter2 = rng.random((8, 8))\n",
    "corr2 = signal.correlate(img2, filter2, mode='same', method=method)\n",
    "conv2 = signal.convolve(img2, filter2, mode='same', method=method)"
   ]
  },
  {
   "cell_type": "code",
   "execution_count": null,
   "id": "07d69437",
   "metadata": {},
   "outputs": [],
   "source": []
  }
 ],
 "metadata": {
  "kernelspec": {
   "display_name": "Python 3 (ipykernel)",
   "language": "python",
   "name": "python3"
  },
  "language_info": {
   "codemirror_mode": {
    "name": "ipython",
    "version": 3
   },
   "file_extension": ".py",
   "mimetype": "text/x-python",
   "name": "python",
   "nbconvert_exporter": "python",
   "pygments_lexer": "ipython3",
   "version": "3.9.12"
  }
 },
 "nbformat": 4,
 "nbformat_minor": 5
}
