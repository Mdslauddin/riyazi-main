{
 "cells": [
  {
   "cell_type": "markdown",
   "id": "a6a7a794",
   "metadata": {},
   "source": [
    "### Calculates the lag / displacement indices array for 1D cross-correlation."
   ]
  },
  {
   "cell_type": "code",
   "execution_count": null,
   "id": "dee48d98",
   "metadata": {},
   "outputs": [],
   "source": [
    "import numpy as np"
   ]
  },
  {
   "cell_type": "code",
   "execution_count": null,
   "id": "5a51194b",
   "metadata": {},
   "outputs": [],
   "source": [
    "from scipy import signal\n",
    "from numpy.random import default_rng\n",
    "rng = default_rng()\n",
    "x = rng.standard_normal(1000)\n",
    "y = np.concatenate([rng.standard_normal(100), x])\n",
    "correlation = signal.correlate(x, y, mode=\"full\")\n",
    "lags = signal.correlation_lags(x.size, y.size, mode=\"full\")\n",
    "lag = lags[np.argmax(correlation)]"
   ]
  },
  {
   "cell_type": "code",
   "execution_count": null,
   "id": "11de4b2a",
   "metadata": {},
   "outputs": [],
   "source": []
  }
 ],
 "metadata": {
  "kernelspec": {
   "display_name": "Python 3 (ipykernel)",
   "language": "python",
   "name": "python3"
  },
  "language_info": {
   "codemirror_mode": {
    "name": "ipython",
    "version": 3
   },
   "file_extension": ".py",
   "mimetype": "text/x-python",
   "name": "python",
   "nbconvert_exporter": "python",
   "pygments_lexer": "ipython3",
   "version": "3.9.12"
  }
 },
 "nbformat": 4,
 "nbformat_minor": 5
}
