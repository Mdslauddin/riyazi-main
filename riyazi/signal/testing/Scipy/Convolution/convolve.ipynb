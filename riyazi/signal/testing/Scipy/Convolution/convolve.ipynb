{
 "cells": [
  {
   "cell_type": "markdown",
   "id": "1aa8c241",
   "metadata": {},
   "source": [
    "### Convolve two N-dimensional arrays"
   ]
  },
  {
   "cell_type": "code",
   "execution_count": 3,
   "id": "835ebc87",
   "metadata": {},
   "outputs": [],
   "source": [
    "import numpy as  np "
   ]
  },
  {
   "cell_type": "code",
   "execution_count": 8,
   "id": "bc31ceff",
   "metadata": {},
   "outputs": [],
   "source": [
    "from scipy import signal\n",
    "sig = np.repeat([0., 1., 0.], 100)\n",
    "win = signal.windows.hann(50)\n",
    "filtered = signal.convolve(sig, win, mode='same') / sum(win)\n"
   ]
  },
  {
   "cell_type": "code",
   "execution_count": 10,
   "id": "075159d8",
   "metadata": {},
   "outputs": [
    {
     "data": {
      "image/png": "[encoded data removed]",
      "text/plain": [
       "<Figure size 432x288 with 3 Axes>"
      ]
     },
     "metadata": {
      "needs_background": "light"
     },
     "output_type": "display_data"
    }
   ],
   "source": [
    "import matplotlib.pyplot as plt\n",
    "fig, (ax_orig, ax_win, ax_filt) = plt.subplots(3, 1, sharex=True)\n",
    "ax_orig.plot(sig)\n",
    "ax_orig.set_title('Original pulse')\n",
    "ax_orig.margins(0, 0.1)\n",
    "ax_win.plot(win)\n",
    "ax_win.set_title('Filter impulse response')\n",
    "ax_win.margins(0, 0.1)\n",
    "ax_filt.plot(filtered)\n",
    "ax_filt.set_title('Filtered signal')\n",
    "ax_filt.margins(0, 0.1)\n",
    "fig.tight_layout()\n"
   ]
  },
  {
   "cell_type": "code",
   "execution_count": 5,
   "id": "aa751e30",
   "metadata": {},
   "outputs": [],
   "source": [
    "import numpy as np\n",
    "def convolve(x, y, hop_size):\n",
    "    z = np.zeros(len(x) + len(y) + hop_size) # + hop_size -> avoids a special,\n",
    "                                         # corner-case scenario\n",
    "\n",
    "    Y = [np.fft.fft(y[i:i+hop_size], 2*hop_size) for i in xrange(0,\\\n",
    "        len(y)-hop_size, hop_size)]\n",
    "    X = [np.fft.fft(x[i:i+hop_size], 2*hop_size) for i in xrange(0,\\\n",
    "        len(x)-hop_size, hop_size)]\n",
    "\n",
    "    start_x = 0\n",
    "    x_index = 0\n",
    "    while start_x + hop_size < len(x):\n",
    "        start_y = 0\n",
    "        y_index = 0\n",
    "        while start_y + hop_size < len(y):\n",
    "            Z = X[x_index] * Y[y_index]\n",
    "            z[start_x + start_y:start_x+start_y+2*hop_size] += np.real(np.fft.ifft(Z))\n",
    "            start_y += hop_size\n",
    "            y_index += 1\n",
    "\n",
    "        start_x += hop_size\n",
    "        x_index += 1\n",
    "\n",
    "    return z"
   ]
  },
  {
   "cell_type": "code",
   "execution_count": 7,
   "id": "d482192a",
   "metadata": {},
   "outputs": [
    {
     "ename": "NameError",
     "evalue": "name 'xrange' is not defined",
     "output_type": "error",
     "traceback": [
      "\u001b[1;31m---------------------------------------------------------------------------\u001b[0m",
      "\u001b[1;31mNameError\u001b[0m                                 Traceback (most recent call last)",
      "Input \u001b[1;32mIn [7]\u001b[0m, in \u001b[0;36m<cell line: 1>\u001b[1;34m()\u001b[0m\n\u001b[1;32m----> 1\u001b[0m \u001b[43mconvolve\u001b[49m\u001b[43m(\u001b[49m\u001b[43msig\u001b[49m\u001b[43m \u001b[49m\u001b[43m,\u001b[49m\u001b[43m \u001b[49m\u001b[43mwin\u001b[49m\u001b[43m,\u001b[49m\u001b[43m \u001b[49m\u001b[38;5;241;43m4\u001b[39;49m\u001b[43m)\u001b[49m \u001b[38;5;241m/\u001b[39m\u001b[38;5;28msum\u001b[39m(win)\n",
      "Input \u001b[1;32mIn [5]\u001b[0m, in \u001b[0;36mconvolve\u001b[1;34m(x, y, hop_size)\u001b[0m\n\u001b[0;32m      3\u001b[0m z \u001b[38;5;241m=\u001b[39m np\u001b[38;5;241m.\u001b[39mzeros(\u001b[38;5;28mlen\u001b[39m(x) \u001b[38;5;241m+\u001b[39m \u001b[38;5;28mlen\u001b[39m(y) \u001b[38;5;241m+\u001b[39m hop_size) \u001b[38;5;66;03m# + hop_size -> avoids a special,\u001b[39;00m\n\u001b[0;32m      4\u001b[0m                                      \u001b[38;5;66;03m# corner-case scenario\u001b[39;00m\n\u001b[1;32m----> 6\u001b[0m Y \u001b[38;5;241m=\u001b[39m [np\u001b[38;5;241m.\u001b[39mfft\u001b[38;5;241m.\u001b[39mfft(y[i:i\u001b[38;5;241m+\u001b[39mhop_size], \u001b[38;5;241m2\u001b[39m\u001b[38;5;241m*\u001b[39mhop_size) \u001b[38;5;28;01mfor\u001b[39;00m i \u001b[38;5;129;01min\u001b[39;00m \u001b[43mxrange\u001b[49m(\u001b[38;5;241m0\u001b[39m,\\\n\u001b[0;32m      7\u001b[0m     \u001b[38;5;28mlen\u001b[39m(y)\u001b[38;5;241m-\u001b[39mhop_size, hop_size)]\n\u001b[0;32m      8\u001b[0m X \u001b[38;5;241m=\u001b[39m [np\u001b[38;5;241m.\u001b[39mfft\u001b[38;5;241m.\u001b[39mfft(x[i:i\u001b[38;5;241m+\u001b[39mhop_size], \u001b[38;5;241m2\u001b[39m\u001b[38;5;241m*\u001b[39mhop_size) \u001b[38;5;28;01mfor\u001b[39;00m i \u001b[38;5;129;01min\u001b[39;00m xrange(\u001b[38;5;241m0\u001b[39m,\\\n\u001b[0;32m      9\u001b[0m     \u001b[38;5;28mlen\u001b[39m(x)\u001b[38;5;241m-\u001b[39mhop_size, hop_size)]\n\u001b[0;32m     11\u001b[0m start_x \u001b[38;5;241m=\u001b[39m \u001b[38;5;241m0\u001b[39m\n",
      "\u001b[1;31mNameError\u001b[0m: name 'xrange' is not defined"
     ]
    }
   ],
   "source": [
    "convolve(sig , win, 4) /sum(win)"
   ]
  },
  {
   "cell_type": "markdown",
   "id": "6b69e4dd",
   "metadata": {},
   "source": [
    "https://www.gaussianwaves.com/2014/02/polynomials-convolution-and-toeplitz-matrices-connecting-the-dots/"
   ]
  },
  {
   "cell_type": "markdown",
   "id": "f5717850",
   "metadata": {},
   "source": [
    "https://towardsdatascience.com/hands-on-signal-processing-with-python-9bda8aad39de"
   ]
  },
  {
   "cell_type": "markdown",
   "id": "7333c4f4",
   "metadata": {},
   "source": [
    "https://klyshko.github.io/teaching/2019-02-22-teaching"
   ]
  },
  {
   "cell_type": "markdown",
   "id": "553d7438",
   "metadata": {},
   "source": [
    "https://staff.fnwi.uva.nl/r.vandenboomgaard/SP20162017/SystemsSignals/plottingsignals.html"
   ]
  },
  {
   "cell_type": "markdown",
   "id": "5e858708",
   "metadata": {},
   "source": [
    "https://www.it-jim.com/blog/audio-processing-basics-in-python/"
   ]
  },
  {
   "cell_type": "markdown",
   "id": "2037f324",
   "metadata": {},
   "source": [
    "https://www.gw-openscience.org/s/events/GW151226/LOSC_Event_tutorial_GW151226.html"
   ]
  },
  {
   "cell_type": "markdown",
   "id": "65866cc4",
   "metadata": {},
   "source": [
    "https://www.upwork.com/services/product/development-it-matlab-and-python-based-digital-signal-processing-projects-1421409691842625536"
   ]
  },
  {
   "cell_type": "markdown",
   "id": "213181b9",
   "metadata": {},
   "source": [
    "https://bastibe.de/2012-11-02-real-time-signal-processing-in-python.html"
   ]
  },
  {
   "cell_type": "markdown",
   "id": "6c476ac2",
   "metadata": {},
   "source": [
    "https://levelup.gitconnected.com/how-to-code-a-biosignal-control-system-from-scratch-in-40-hours-54290c1eb0c7"
   ]
  },
  {
   "cell_type": "markdown",
   "id": "c2648e3c",
   "metadata": {},
   "source": [
    "https://www.kuniga.me/blog/2021/05/13/lpc-in-python.html"
   ]
  },
  {
   "cell_type": "markdown",
   "id": "0d043ff0",
   "metadata": {},
   "source": [
    "https://opensource.com/article/19/9/audio-processing-machine-learning-python"
   ]
  },
  {
   "cell_type": "code",
   "execution_count": 1,
   "id": "454e2c66",
   "metadata": {},
   "outputs": [
    {
     "name": "stdout",
     "output_type": "stream",
     "text": [
      "[1 2 3]\n"
     ]
    },
    {
     "data": {
      "text/plain": [
       "array([1, 2, 3])"
      ]
     },
     "execution_count": 1,
     "metadata": {},
     "output_type": "execute_result"
    }
   ],
   "source": [
    "import numpy as np\n",
    "\n",
    "# define the input and kernel arrays\n",
    "input_array = [1, 2, 3]\n",
    "kernel_array = [0, 1, 0]\n",
    "\n",
    "# convolve the arrays\n",
    "output_array = np.convolve(input_array, kernel_array, mode='same')\n",
    "\n",
    "print(output_array)  # prints [0, 1, 2, 3, 0]\n",
    "\n",
    "\n",
    "import scipy.signal as sig\n",
    "\n",
    "sig.convolve(input_array,kernel_array,mode='same')"
   ]
  },
  {
   "cell_type": "code",
   "execution_count": null,
   "id": "b1a5b100",
   "metadata": {},
   "outputs": [],
   "source": []
  },
  {
   "cell_type": "code",
   "execution_count": null,
   "id": "3ca01bb4",
   "metadata": {},
   "outputs": [],
   "source": []
  },
  {
   "cell_type": "code",
   "execution_count": null,
   "id": "0e8bae41",
   "metadata": {},
   "outputs": [],
   "source": []
  },
  {
   "cell_type": "code",
   "execution_count": null,
   "id": "d7505a77",
   "metadata": {},
   "outputs": [],
   "source": []
  },
  {
   "cell_type": "code",
   "execution_count": null,
   "id": "823bab6c",
   "metadata": {},
   "outputs": [],
   "source": []
  },
  {
   "cell_type": "code",
   "execution_count": null,
   "id": "be7766c7",
   "metadata": {},
   "outputs": [],
   "source": []
  },
  {
   "cell_type": "code",
   "execution_count": null,
   "id": "896c3b79",
   "metadata": {},
   "outputs": [],
   "source": []
  },
  {
   "cell_type": "code",
   "execution_count": null,
   "id": "cfb85b9e",
   "metadata": {},
   "outputs": [],
   "source": []
  },
  {
   "cell_type": "code",
   "execution_count": null,
   "id": "3b2fb7e0",
   "metadata": {},
   "outputs": [],
   "source": []
  },
  {
   "cell_type": "code",
   "execution_count": null,
   "id": "73bc03d6",
   "metadata": {},
   "outputs": [],
   "source": []
  },
  {
   "cell_type": "code",
   "execution_count": null,
   "id": "7463aa95",
   "metadata": {},
   "outputs": [],
   "source": []
  },
  {
   "cell_type": "code",
   "execution_count": null,
   "id": "e26d6a1a",
   "metadata": {},
   "outputs": [],
   "source": []
  },
  {
   "cell_type": "code",
   "execution_count": null,
   "id": "0ea39f70",
   "metadata": {},
   "outputs": [],
   "source": []
  },
  {
   "cell_type": "code",
   "execution_count": null,
   "id": "1ed37f2f",
   "metadata": {},
   "outputs": [],
   "source": []
  },
  {
   "cell_type": "code",
   "execution_count": null,
   "id": "f8a32d50",
   "metadata": {},
   "outputs": [],
   "source": []
  },
  {
   "cell_type": "code",
   "execution_count": null,
   "id": "b9afec3d",
   "metadata": {},
   "outputs": [],
   "source": []
  },
  {
   "cell_type": "code",
   "execution_count": null,
   "id": "9a83adaa",
   "metadata": {},
   "outputs": [],
   "source": []
  },
  {
   "cell_type": "code",
   "execution_count": null,
   "id": "a31fc78d",
   "metadata": {},
   "outputs": [],
   "source": []
  },
  {
   "cell_type": "code",
   "execution_count": null,
   "id": "968b8c1c",
   "metadata": {},
   "outputs": [],
   "source": []
  },
  {
   "cell_type": "code",
   "execution_count": null,
   "id": "718639f1",
   "metadata": {},
   "outputs": [],
   "source": []
  },
  {
   "cell_type": "code",
   "execution_count": null,
   "id": "f4403c50",
   "metadata": {},
   "outputs": [],
   "source": []
  },
  {
   "cell_type": "code",
   "execution_count": null,
   "id": "ad3690de",
   "metadata": {},
   "outputs": [],
   "source": []
  },
  {
   "cell_type": "code",
   "execution_count": null,
   "id": "3b59cfc2",
   "metadata": {},
   "outputs": [],
   "source": []
  },
  {
   "cell_type": "code",
   "execution_count": null,
   "id": "9c27c04a",
   "metadata": {},
   "outputs": [],
   "source": [
    "\n",
    "from __future__ import division\n",
    "import numpy as np\n",
    "\n",
    "\n",
    "def convolution_matrix(x, N=None, mode='full'):\n",
    "    \"\"\"Compute the Convolution Matrix\n",
    "    This function computes a convolution matrix that encodes\n",
    "    the computation equivalent to ``numpy.convolve(x, y, mode)``\n",
    "    Parameters\n",
    "    ----------\n",
    "    x : array_like\n",
    "        One-dimensional input array\n",
    "    N : integer (optional)\n",
    "        Size of the array to be convolved. Default is len(x).\n",
    "    mode : {'full', 'valid', 'same'}, optional\n",
    "        The type of convolution to perform. Default is 'full'.\n",
    "        See ``np.convolve`` documentation for details.\n",
    "    Returns\n",
    "    -------\n",
    "    C : ndarray\n",
    "        Matrix operator encoding the convolution. The matrix is of shape\n",
    "        [Nout x N], where Nout depends on ``mode`` and the size of ``x``. \n",
    "    Example\n",
    "    -------\n",
    "    >>> x = np.random.rand(10)\n",
    "    >>> y = np.random.rand(20)\n",
    "    >>> xy = np.convolve(x, y, mode='full')\n",
    "    >>> C = convolution_matrix(x, len(y), mode='full')\n",
    "    >>> np.allclose(xy, np.dot(C, y))\n",
    "    True\n",
    "    See Also\n",
    "    --------\n",
    "    numpy.convolve : direct convolution operation\n",
    "    scipy.signal.fftconvolve : direct convolution via the\n",
    "                               fast Fourier transform\n",
    "    scipy.linalg.toeplitz : construct the Toeplitz matrix\n",
    "    \"\"\"\n",
    "    x = np.asarray(x)\n",
    "    if x.ndim != 1:\n",
    "        raise ValueError(\"x should be 1-dimensional\")\n",
    "\n",
    "    M = len(x)\n",
    "    N = M if N is None else N\n",
    "\n",
    "    if mode == 'full':\n",
    "        Nout = M + N - 1\n",
    "        offset = 0\n",
    "    elif mode == 'valid':\n",
    "        Nout = max(M, N) - min(M, N) + 1\n",
    "        offset = min(M, N) - 1\n",
    "    elif mode == 'same':\n",
    "        Nout = max(N, M)\n",
    "        offset = (min(N, M) - 1) // 2\n",
    "    else:\n",
    "        raise ValueError(\"mode='{0}' not recognized\".format(mode))\n",
    "\n",
    "    xpad = np.hstack([x, np.zeros(Nout)])\n",
    "    n = np.arange(Nout)[:, np.newaxis]\n",
    "    m = np.arange(N)\n",
    "    return xpad[n - m + offset]"
   ]
  },
  {
   "cell_type": "markdown",
   "id": "ab874d0a",
   "metadata": {},
   "source": [
    "https://medium.com/@ramitag18/performing-convolution-on-a-matrix-4682fd364591"
   ]
  },
  {
   "cell_type": "markdown",
   "id": "419a829e",
   "metadata": {},
   "source": [
    "https://www.ibm.com/cloud/learn/convolutional-neural-networks"
   ]
  },
  {
   "cell_type": "markdown",
   "id": "368bd9ba",
   "metadata": {},
   "source": [
    "https://www.superdatascience.com/blogs/convolutional-neural-networks-cnn-step-1-convolution-operation/"
   ]
  },
  {
   "cell_type": "markdown",
   "id": "9bf19ca7",
   "metadata": {},
   "source": [
    "https://en.wikipedia.org/wiki/Convolution"
   ]
  },
  {
   "cell_type": "code",
   "execution_count": 1,
   "id": "787cb44c",
   "metadata": {},
   "outputs": [
    {
     "ename": "ModuleNotFoundError",
     "evalue": "No module named 'convolution_matrix'",
     "output_type": "error",
     "traceback": [
      "\u001b[1;31m---------------------------------------------------------------------------\u001b[0m",
      "\u001b[1;31mModuleNotFoundError\u001b[0m                       Traceback (most recent call last)",
      "Input \u001b[1;32mIn [1]\u001b[0m, in \u001b[0;36m<cell line: 4>\u001b[1;34m()\u001b[0m\n\u001b[0;32m      2\u001b[0m \u001b[38;5;28;01mfrom\u001b[39;00m \u001b[38;5;21;01mnumpy\u001b[39;00m\u001b[38;5;21;01m.\u001b[39;00m\u001b[38;5;21;01mtesting\u001b[39;00m \u001b[38;5;28;01mimport\u001b[39;00m assert_allclose\n\u001b[0;32m      3\u001b[0m \u001b[38;5;28;01mimport\u001b[39;00m \u001b[38;5;21;01mnumpy\u001b[39;00m \u001b[38;5;28;01mas\u001b[39;00m \u001b[38;5;21;01mnp\u001b[39;00m\n\u001b[1;32m----> 4\u001b[0m \u001b[38;5;28;01mfrom\u001b[39;00m \u001b[38;5;21;01mconvolution_matrix\u001b[39;00m \u001b[38;5;28;01mimport\u001b[39;00m convolution_matrix\n\u001b[0;32m      7\u001b[0m \u001b[38;5;129m@pytest\u001b[39m\u001b[38;5;241m.\u001b[39mmark\u001b[38;5;241m.\u001b[39mparametrize(\u001b[38;5;124m'\u001b[39m\u001b[38;5;124mM\u001b[39m\u001b[38;5;124m'\u001b[39m, [\u001b[38;5;241m10\u001b[39m, \u001b[38;5;241m15\u001b[39m, \u001b[38;5;241m20\u001b[39m, \u001b[38;5;241m25\u001b[39m])\n\u001b[0;32m      8\u001b[0m \u001b[38;5;129m@pytest\u001b[39m\u001b[38;5;241m.\u001b[39mmark\u001b[38;5;241m.\u001b[39mparametrize(\u001b[38;5;124m'\u001b[39m\u001b[38;5;124mN\u001b[39m\u001b[38;5;124m'\u001b[39m, [\u001b[38;5;241m10\u001b[39m, \u001b[38;5;241m15\u001b[39m, \u001b[38;5;241m20\u001b[39m, \u001b[38;5;241m25\u001b[39m])\n\u001b[0;32m      9\u001b[0m \u001b[38;5;129m@pytest\u001b[39m\u001b[38;5;241m.\u001b[39mmark\u001b[38;5;241m.\u001b[39mparametrize(\u001b[38;5;124m'\u001b[39m\u001b[38;5;124mdtype\u001b[39m\u001b[38;5;124m'\u001b[39m, [\u001b[38;5;124m'\u001b[39m\u001b[38;5;124mfloat\u001b[39m\u001b[38;5;124m'\u001b[39m, \u001b[38;5;124m'\u001b[39m\u001b[38;5;124mcomplex\u001b[39m\u001b[38;5;124m'\u001b[39m])\n\u001b[0;32m     10\u001b[0m \u001b[38;5;129m@pytest\u001b[39m\u001b[38;5;241m.\u001b[39mmark\u001b[38;5;241m.\u001b[39mparametrize(\u001b[38;5;124m'\u001b[39m\u001b[38;5;124mmode\u001b[39m\u001b[38;5;124m'\u001b[39m, [\u001b[38;5;124m'\u001b[39m\u001b[38;5;124mfull\u001b[39m\u001b[38;5;124m'\u001b[39m, \u001b[38;5;124m'\u001b[39m\u001b[38;5;124msame\u001b[39m\u001b[38;5;124m'\u001b[39m, \u001b[38;5;124m'\u001b[39m\u001b[38;5;124mvalid\u001b[39m\u001b[38;5;124m'\u001b[39m])\n\u001b[0;32m     11\u001b[0m \u001b[38;5;28;01mdef\u001b[39;00m \u001b[38;5;21mtest_convolution_matrix\u001b[39m(M, N, dtype, mode):\n\u001b[0;32m     12\u001b[0m     rand \u001b[38;5;241m=\u001b[39m np\u001b[38;5;241m.\u001b[39mrandom\u001b[38;5;241m.\u001b[39mRandomState(\u001b[38;5;241m42\u001b[39m)\n",
      "\u001b[1;31mModuleNotFoundError\u001b[0m: No module named 'convolution_matrix'"
     ]
    }
   ],
   "source": [
    "import pytest\n",
    "from numpy.testing import assert_allclose\n",
    "import numpy as np\n",
    "from convolution_matrix import convolution_matrix\n",
    "\n",
    "\n",
    "@pytest.mark.parametrize('M', [10, 15, 20, 25])\n",
    "@pytest.mark.parametrize('N', [10, 15, 20, 25])\n",
    "@pytest.mark.parametrize('dtype', ['float', 'complex'])\n",
    "@pytest.mark.parametrize('mode', ['full', 'same', 'valid'])\n",
    "def test_convolution_matrix(M, N, dtype, mode):\n",
    "    rand = np.random.RandomState(42)\n",
    "    x = rand.rand(M)\n",
    "    y = rand.rand(N)\n",
    "\n",
    "    if dtype == 'complex':\n",
    "        x = x * np.exp(2j * np.pi * rand.rand(M))\n",
    "        y = y * np.exp(2j * np.pi * rand.rand(N))\n",
    "\n",
    "    result1 = np.dot(convolution_matrix(x, len(y), mode), y)\n",
    "    result2 = np.convolve(x, y, mode)\n",
    "    assert_allclose(result1, result2)"
   ]
  },
  {
   "cell_type": "code",
   "execution_count": null,
   "id": "8623ccfd",
   "metadata": {},
   "outputs": [],
   "source": []
  }
 ],
 "metadata": {
  "kernelspec": {
   "display_name": "Python 3 (ipykernel)",
   "language": "python",
   "name": "python3"
  },
  "language_info": {
   "codemirror_mode": {
    "name": "ipython",
    "version": 3
   },
   "file_extension": ".py",
   "mimetype": "text/x-python",
   "name": "python",
   "nbconvert_exporter": "python",
   "pygments_lexer": "ipython3",
   "version": "3.9.12"
  }
 },
 "nbformat": 4,
 "nbformat_minor": 5
}
