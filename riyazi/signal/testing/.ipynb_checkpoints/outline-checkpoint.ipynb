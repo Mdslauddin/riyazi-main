{
 "cells": [
  {
   "cell_type": "markdown",
   "id": "6a01c475",
   "metadata": {},
   "source": [
    "https://en.wikipedia.org/wiki/Convolution"
   ]
  },
  {
   "cell_type": "markdown",
   "id": "5f6daeea",
   "metadata": {},
   "source": [
    "http://www.dspguide.com/ch6/2.htm"
   ]
  },
  {
   "cell_type": "markdown",
   "id": "dba75d97",
   "metadata": {},
   "source": [
    "https://www.geeksforgeeks.org/linear-convolution-using-c-and-matlab/"
   ]
  },
  {
   "cell_type": "markdown",
   "id": "645e7f76",
   "metadata": {},
   "source": [
    "https://www.theengineeringprojects.com/2022/09/properties-of-convolution-in-signals-and-systems-with-matlab.html"
   ]
  },
  {
   "cell_type": "markdown",
   "id": "a12482cb",
   "metadata": {},
   "source": [
    "https://towardsdatascience.com/hands-on-signal-processing-with-python-9bda8aad39de"
   ]
  },
  {
   "cell_type": "markdown",
   "id": "69e36be6",
   "metadata": {},
   "source": [
    "https://towardsdatascience.com/a-comprehensive-introduction-to-different-types-of-convolutions-in-deep-learning-669281e58215"
   ]
  },
  {
   "cell_type": "markdown",
   "id": "194749c0",
   "metadata": {},
   "source": [
    "https://eng.libretexts.org/Bookshelves/Electrical_Engineering/Signal_Processing_and_Modeling/Signals_and_Systems_(Baraniuk_et_al.)/04%3A_Time_Domain_Analysis_of_Discrete_Time_Systems/4.03%3A_Discrete_Time_Convolution"
   ]
  },
  {
   "cell_type": "markdown",
   "id": "3b655663",
   "metadata": {},
   "source": [
    "https://thewolfsound.com/convolution-vs-correlation-in-signal-processing-and-deep-learning/"
   ]
  },
  {
   "cell_type": "markdown",
   "id": "fc0538af",
   "metadata": {},
   "source": [
    "https://asp-eurasipjournals.springeropen.com/articles/10.1186/s13634-021-00821-8"
   ]
  },
  {
   "cell_type": "markdown",
   "id": "5315780c",
   "metadata": {},
   "source": [
    "https://www.geocities.ws/senthilirtt/Python%20Workshop%20for%20Digital%20Signal%20Processing"
   ]
  },
  {
   "cell_type": "markdown",
   "id": "f41740b0",
   "metadata": {},
   "source": [
    "https://asp-eurasipjournals.springeropen.com/articles/10.1186/s13634-021-00821-8"
   ]
  },
  {
   "cell_type": "markdown",
   "id": "6a8715f3",
   "metadata": {},
   "source": [
    "https://open.umn.edu/opentextbooks/textbooks/290"
   ]
  },
  {
   "cell_type": "markdown",
   "id": "1f54d0a4",
   "metadata": {},
   "source": [
    "https://www.udemy.com/course/fourier-transform-mxc/?matchtype=e&msclkid=050bfb5c99411857ac1498fcf946a0cd&utm_campaign=BG-LongTail_la.EN_cc.INDIA&utm_content=deal4584&utm_medium=udemyads&utm_source=bing&utm_term=_._ag_1208363692114833_._ad__._kw_Signal+Processing+Course_._de_c_._dm__._pl__._ti_kwd-75523068883524%3Aloc-90_._li_161219_._pd__._"
   ]
  },
  {
   "cell_type": "markdown",
   "id": "735e773f",
   "metadata": {},
   "source": [
    "https://online.stanford.edu/courses/ee264-digital-signal-processing"
   ]
  },
  {
   "cell_type": "markdown",
   "id": "7dcace23",
   "metadata": {},
   "source": [
    "https://onlinecourses.iitk.ac.in/course/ee301a"
   ]
  },
  {
   "cell_type": "markdown",
   "id": "8c86e6a8",
   "metadata": {},
   "source": [
    "https://ee.iisc.ac.in/m-tech-programme-signal-processing/"
   ]
  },
  {
   "cell_type": "markdown",
   "id": "668c0837",
   "metadata": {},
   "source": [
    "https://www.amrita.edu/course/multirate-signal-processing-software-defined-radio"
   ]
  },
  {
   "cell_type": "markdown",
   "id": "e3d03cbf",
   "metadata": {},
   "source": [
    "https://inst.eecs.berkeley.edu/~ee123/fa13/"
   ]
  },
  {
   "cell_type": "markdown",
   "id": "82e247b7",
   "metadata": {},
   "source": [
    "https://medium.com/analytics-vidhya/signal-data-processing-for-scientific-data-analysis-with-python-part-1-90a90cb7f81"
   ]
  },
  {
   "cell_type": "markdown",
   "id": "b34050cf",
   "metadata": {},
   "source": [
    "https://ne-np.facebook.com/puwebinar/videos/signal-processing-using-pythongoogle-colab/429864812245235/"
   ]
  },
  {
   "cell_type": "markdown",
   "id": "dca92267",
   "metadata": {},
   "source": [
    "https://pll.harvard.edu/subject/computer-science"
   ]
  },
  {
   "cell_type": "markdown",
   "id": "e788094f",
   "metadata": {},
   "source": [
    "https://www.geeksforgeeks.org/signal-processing-and-time-series-data-analysis/?ref=gcse"
   ]
  },
  {
   "cell_type": "markdown",
   "id": "f52d2453",
   "metadata": {},
   "source": [
    "https://github.com/daniliambo/DigitalSignalProcessing"
   ]
  },
  {
   "cell_type": "code",
   "execution_count": null,
   "id": "5b5dab1b",
   "metadata": {},
   "outputs": [],
   "source": []
  },
  {
   "cell_type": "code",
   "execution_count": null,
   "id": "3fb89a3d",
   "metadata": {},
   "outputs": [],
   "source": []
  },
  {
   "cell_type": "code",
   "execution_count": null,
   "id": "aa6c436d",
   "metadata": {},
   "outputs": [],
   "source": []
  },
  {
   "cell_type": "code",
   "execution_count": null,
   "id": "ebb191b7",
   "metadata": {},
   "outputs": [],
   "source": []
  },
  {
   "cell_type": "code",
   "execution_count": null,
   "id": "a3ba013e",
   "metadata": {},
   "outputs": [],
   "source": []
  },
  {
   "cell_type": "code",
   "execution_count": null,
   "id": "c2dd2d9f",
   "metadata": {},
   "outputs": [],
   "source": []
  },
  {
   "cell_type": "code",
   "execution_count": null,
   "id": "0fd3f080",
   "metadata": {},
   "outputs": [],
   "source": []
  },
  {
   "cell_type": "code",
   "execution_count": null,
   "id": "2816bd9a",
   "metadata": {},
   "outputs": [],
   "source": []
  },
  {
   "cell_type": "raw",
   "id": "35d37973",
   "metadata": {},
   "source": [
    "\"\"\"\n",
    "=======================================\n",
    "Signal processing (:mod:`scipy.signal`)\n",
    "=======================================\n",
    "\n",
    "Convolution\n",
    "===========\n",
    "\n",
    ".. autosummary::\n",
    "   :toctree: generated/\n",
    "\n",
    "   convolve           -- N-D convolution.\n",
    "   correlate          -- N-D correlation.\n",
    "   fftconvolve        -- N-D convolution using the FFT.\n",
    "   oaconvolve         -- N-D convolution using the overlap-add method.\n",
    "   convolve2d         -- 2-D convolution (more options).\n",
    "   correlate2d        -- 2-D correlation (more options).\n",
    "   sepfir2d           -- Convolve with a 2-D separable FIR filter.\n",
    "   choose_conv_method -- Chooses faster of FFT and direct convolution methods.\n",
    "   correlation_lags   -- Determines lag indices for 1D cross-correlation.\n",
    "\n",
    "B-splines\n",
    "=========\n",
    "\n",
    ".. autosummary::\n",
    "   :toctree: generated/\n",
    "\n",
    "   bspline        -- B-spline basis function of order n.\n",
    "   cubic          -- B-spline basis function of order 3.\n",
    "   quadratic      -- B-spline basis function of order 2.\n",
    "   gauss_spline   -- Gaussian approximation to the B-spline basis function.\n",
    "   cspline1d      -- Coefficients for 1-D cubic (3rd order) B-spline.\n",
    "   qspline1d      -- Coefficients for 1-D quadratic (2nd order) B-spline.\n",
    "   cspline2d      -- Coefficients for 2-D cubic (3rd order) B-spline.\n",
    "   qspline2d      -- Coefficients for 2-D quadratic (2nd order) B-spline.\n",
    "   cspline1d_eval -- Evaluate a cubic spline at the given points.\n",
    "   qspline1d_eval -- Evaluate a quadratic spline at the given points.\n",
    "   spline_filter  -- Smoothing spline (cubic) filtering of a rank-2 array.\n",
    "\n",
    "Filtering\n",
    "=========\n",
    "\n",
    ".. autosummary::\n",
    "   :toctree: generated/\n",
    "\n",
    "   order_filter  -- N-D order filter.\n",
    "   medfilt       -- N-D median filter.\n",
    "   medfilt2d     -- 2-D median filter (faster).\n",
    "   wiener        -- N-D Wiener filter.\n",
    "\n",
    "   symiirorder1  -- 2nd-order IIR filter (cascade of first-order systems).\n",
    "   symiirorder2  -- 4th-order IIR filter (cascade of second-order systems).\n",
    "   lfilter       -- 1-D FIR and IIR digital linear filtering.\n",
    "   lfiltic       -- Construct initial conditions for `lfilter`.\n",
    "   lfilter_zi    -- Compute an initial state zi for the lfilter function that\n",
    "                 -- corresponds to the steady state of the step response.\n",
    "   filtfilt      -- A forward-backward filter.\n",
    "   savgol_filter -- Filter a signal using the Savitzky-Golay filter.\n",
    "\n",
    "   deconvolve    -- 1-D deconvolution using lfilter.\n",
    "\n",
    "   sosfilt       -- 1-D IIR digital linear filtering using\n",
    "                 -- a second-order sections filter representation.\n",
    "   sosfilt_zi    -- Compute an initial state zi for the sosfilt function that\n",
    "                 -- corresponds to the steady state of the step response.\n",
    "   sosfiltfilt   -- A forward-backward filter for second-order sections.\n",
    "   hilbert       -- Compute 1-D analytic signal, using the Hilbert transform.\n",
    "   hilbert2      -- Compute 2-D analytic signal, using the Hilbert transform.\n",
    "\n",
    "   decimate      -- Downsample a signal.\n",
    "   detrend       -- Remove linear and/or constant trends from data.\n",
    "   resample      -- Resample using Fourier method.\n",
    "   resample_poly -- Resample using polyphase filtering method.\n",
    "   upfirdn       -- Upsample, apply FIR filter, downsample.\n",
    "\n",
    "Filter design\n",
    "=============\n",
    "\n",
    ".. autosummary::\n",
    "   :toctree: generated/\n",
    "\n",
    "   bilinear      -- Digital filter from an analog filter using\n",
    "                    -- the bilinear transform.\n",
    "   bilinear_zpk  -- Digital filter from an analog filter using\n",
    "                    -- the bilinear transform.\n",
    "   findfreqs     -- Find array of frequencies for computing filter response.\n",
    "   firls         -- FIR filter design using least-squares error minimization.\n",
    "   firwin        -- Windowed FIR filter design, with frequency response\n",
    "                    -- defined as pass and stop bands.\n",
    "   firwin2       -- Windowed FIR filter design, with arbitrary frequency\n",
    "                    -- response.\n",
    "   freqs         -- Analog filter frequency response from TF coefficients.\n",
    "   freqs_zpk     -- Analog filter frequency response from ZPK coefficients.\n",
    "   freqz         -- Digital filter frequency response from TF coefficients.\n",
    "   freqz_zpk     -- Digital filter frequency response from ZPK coefficients.\n",
    "   sosfreqz      -- Digital filter frequency response for SOS format filter.\n",
    "   gammatone     -- FIR and IIR gammatone filter design.\n",
    "   group_delay   -- Digital filter group delay.\n",
    "   iirdesign     -- IIR filter design given bands and gains.\n",
    "   iirfilter     -- IIR filter design given order and critical frequencies.\n",
    "   kaiser_atten  -- Compute the attenuation of a Kaiser FIR filter, given\n",
    "                    -- the number of taps and the transition width at\n",
    "                    -- discontinuities in the frequency response.\n",
    "   kaiser_beta   -- Compute the Kaiser parameter beta, given the desired\n",
    "                    -- FIR filter attenuation.\n",
    "   kaiserord     -- Design a Kaiser window to limit ripple and width of\n",
    "                    -- transition region.\n",
    "   minimum_phase -- Convert a linear phase FIR filter to minimum phase.\n",
    "   savgol_coeffs -- Compute the FIR filter coefficients for a Savitzky-Golay\n",
    "                    -- filter.\n",
    "   remez         -- Optimal FIR filter design.\n",
    "\n",
    "   unique_roots  -- Unique roots and their multiplicities.\n",
    "   residue       -- Partial fraction expansion of b(s) / a(s).\n",
    "   residuez      -- Partial fraction expansion of b(z) / a(z).\n",
    "   invres        -- Inverse partial fraction expansion for analog filter.\n",
    "   invresz       -- Inverse partial fraction expansion for digital filter.\n",
    "   BadCoefficients  -- Warning on badly conditioned filter coefficients.\n",
    "\n",
    "Lower-level filter design functions:\n",
    "\n",
    ".. autosummary::\n",
    "   :toctree: generated/\n",
    "\n",
    "   abcd_normalize -- Check state-space matrices and ensure they are rank-2.\n",
    "   band_stop_obj  -- Band Stop Objective Function for order minimization.\n",
    "   besselap       -- Return (z,p,k) for analog prototype of Bessel filter.\n",
    "   buttap         -- Return (z,p,k) for analog prototype of Butterworth filter.\n",
    "   cheb1ap        -- Return (z,p,k) for type I Chebyshev filter.\n",
    "   cheb2ap        -- Return (z,p,k) for type II Chebyshev filter.\n",
    "   cmplx_sort     -- Sort roots based on magnitude.\n",
    "   ellipap        -- Return (z,p,k) for analog prototype of elliptic filter.\n",
    "   lp2bp          -- Transform a lowpass filter prototype to a bandpass filter.\n",
    "   lp2bp_zpk      -- Transform a lowpass filter prototype to a bandpass filter.\n",
    "   lp2bs          -- Transform a lowpass filter prototype to a bandstop filter.\n",
    "   lp2bs_zpk      -- Transform a lowpass filter prototype to a bandstop filter.\n",
    "   lp2hp          -- Transform a lowpass filter prototype to a highpass filter.\n",
    "   lp2hp_zpk      -- Transform a lowpass filter prototype to a highpass filter.\n",
    "   lp2lp          -- Transform a lowpass filter prototype to a lowpass filter.\n",
    "   lp2lp_zpk      -- Transform a lowpass filter prototype to a lowpass filter.\n",
    "   normalize      -- Normalize polynomial representation of a transfer function.\n",
    "\n",
    "\n",
    "\n",
    "Matlab-style IIR filter design\n",
    "==============================\n",
    "\n",
    ".. autosummary::\n",
    "   :toctree: generated/\n",
    "\n",
    "   butter -- Butterworth\n",
    "   buttord\n",
    "   cheby1 -- Chebyshev Type I\n",
    "   cheb1ord\n",
    "   cheby2 -- Chebyshev Type II\n",
    "   cheb2ord\n",
    "   ellip -- Elliptic (Cauer)\n",
    "   ellipord\n",
    "   bessel -- Bessel (no order selection available -- try butterod)\n",
    "   iirnotch      -- Design second-order IIR notch digital filter.\n",
    "   iirpeak       -- Design second-order IIR peak (resonant) digital filter.\n",
    "   iircomb       -- Design IIR comb filter.\n",
    "\n",
    "Continuous-time linear systems\n",
    "==============================\n",
    "\n",
    ".. autosummary::\n",
    "   :toctree: generated/\n",
    "\n",
    "   lti              -- Continuous-time linear time invariant system base class.\n",
    "   StateSpace       -- Linear time invariant system in state space form.\n",
    "   TransferFunction -- Linear time invariant system in transfer function form.\n",
    "   ZerosPolesGain   -- Linear time invariant system in zeros, poles, gain form.\n",
    "   lsim             -- Continuous-time simulation of output to linear system.\n",
    "   lsim2            -- Like lsim, but `scipy.integrate.odeint` is used.\n",
    "   impulse          -- Impulse response of linear, time-invariant (LTI) system.\n",
    "   impulse2         -- Like impulse, but `scipy.integrate.odeint` is used.\n",
    "   step             -- Step response of continuous-time LTI system.\n",
    "   step2            -- Like step, but `scipy.integrate.odeint` is used.\n",
    "   freqresp         -- Frequency response of a continuous-time LTI system.\n",
    "   bode             -- Bode magnitude and phase data (continuous-time LTI).\n",
    "\n",
    "Discrete-time linear systems\n",
    "============================\n",
    "\n",
    ".. autosummary::\n",
    "   :toctree: generated/\n",
    "\n",
    "   dlti             -- Discrete-time linear time invariant system base class.\n",
    "   StateSpace       -- Linear time invariant system in state space form.\n",
    "   TransferFunction -- Linear time invariant system in transfer function form.\n",
    "   ZerosPolesGain   -- Linear time invariant system in zeros, poles, gain form.\n",
    "   dlsim            -- Simulation of output to a discrete-time linear system.\n",
    "   dimpulse         -- Impulse response of a discrete-time LTI system.\n",
    "   dstep            -- Step response of a discrete-time LTI system.\n",
    "   dfreqresp        -- Frequency response of a discrete-time LTI system.\n",
    "   dbode            -- Bode magnitude and phase data (discrete-time LTI).\n",
    "\n",
    "LTI representations\n",
    "===================\n",
    "\n",
    ".. autosummary::\n",
    "   :toctree: generated/\n",
    "\n",
    "   tf2zpk        -- Transfer function to zero-pole-gain.\n",
    "   tf2sos        -- Transfer function to second-order sections.\n",
    "   tf2ss         -- Transfer function to state-space.\n",
    "   zpk2tf        -- Zero-pole-gain to transfer function.\n",
    "   zpk2sos       -- Zero-pole-gain to second-order sections.\n",
    "   zpk2ss        -- Zero-pole-gain to state-space.\n",
    "   ss2tf         -- State-pace to transfer function.\n",
    "   ss2zpk        -- State-space to pole-zero-gain.\n",
    "   sos2zpk       -- Second-order sections to zero-pole-gain.\n",
    "   sos2tf        -- Second-order sections to transfer function.\n",
    "   cont2discrete -- Continuous-time to discrete-time LTI conversion.\n",
    "   place_poles   -- Pole placement.\n",
    "\n",
    "Waveforms\n",
    "=========\n",
    "\n",
    ".. autosummary::\n",
    "   :toctree: generated/\n",
    "\n",
    "   chirp        -- Frequency swept cosine signal, with several freq functions.\n",
    "   gausspulse   -- Gaussian modulated sinusoid.\n",
    "   max_len_seq  -- Maximum length sequence.\n",
    "   sawtooth     -- Periodic sawtooth.\n",
    "   square       -- Square wave.\n",
    "   sweep_poly   -- Frequency swept cosine signal; freq is arbitrary polynomial.\n",
    "   unit_impulse -- Discrete unit impulse.\n",
    "\n",
    "Window functions\n",
    "================\n",
    "\n",
    "For window functions, see the `scipy.signal.windows` namespace.\n",
    "\n",
    "In the `scipy.signal` namespace, there is a convenience function to\n",
    "obtain these windows by name:\n",
    "\n",
    ".. autosummary::\n",
    "   :toctree: generated/\n",
    "\n",
    "   get_window -- Return a window of a given length and type.\n",
    "\n",
    "Wavelets\n",
    "========\n",
    "\n",
    ".. autosummary::\n",
    "   :toctree: generated/\n",
    "\n",
    "   cascade      -- Compute scaling function and wavelet from coefficients.\n",
    "   daub         -- Return low-pass.\n",
    "   morlet       -- Complex Morlet wavelet.\n",
    "   qmf          -- Return quadrature mirror filter from low-pass.\n",
    "   ricker       -- Return ricker wavelet.\n",
    "   morlet2      -- Return Morlet wavelet, compatible with cwt.\n",
    "   cwt          -- Perform continuous wavelet transform.\n",
    "\n",
    "Peak finding\n",
    "============\n",
    "\n",
    ".. autosummary::\n",
    "   :toctree: generated/\n",
    "\n",
    "   argrelmin        -- Calculate the relative minima of data.\n",
    "   argrelmax        -- Calculate the relative maxima of data.\n",
    "   argrelextrema    -- Calculate the relative extrema of data.\n",
    "   find_peaks       -- Find a subset of peaks inside a signal.\n",
    "   find_peaks_cwt   -- Find peaks in a 1-D array with wavelet transformation.\n",
    "   peak_prominences -- Calculate the prominence of each peak in a signal.\n",
    "   peak_widths      -- Calculate the width of each peak in a signal.\n",
    "\n",
    "Spectral analysis\n",
    "=================\n",
    "\n",
    ".. autosummary::\n",
    "   :toctree: generated/\n",
    "\n",
    "   periodogram    -- Compute a (modified) periodogram.\n",
    "   welch          -- Compute a periodogram using Welch's method.\n",
    "   csd            -- Compute the cross spectral density, using Welch's method.\n",
    "   coherence      -- Compute the magnitude squared coherence, using Welch's method.\n",
    "   spectrogram    -- Compute the spectrogram.\n",
    "   lombscargle    -- Computes the Lomb-Scargle periodogram.\n",
    "   vectorstrength -- Computes the vector strength.\n",
    "   stft           -- Compute the Short Time Fourier Transform.\n",
    "   istft          -- Compute the Inverse Short Time Fourier Transform.\n",
    "   check_COLA     -- Check the COLA constraint for iSTFT reconstruction.\n",
    "   check_NOLA     -- Check the NOLA constraint for iSTFT reconstruction.\n",
    "\n",
    "Chirp Z-transform and Zoom FFT\n",
    "============================================\n",
    "\n",
    ".. autosummary::\n",
    "   :toctree: generated/\n",
    "\n",
    "   czt - Chirp z-transform convenience function\n",
    "   zoom_fft - Zoom FFT convenience function\n",
    "   CZT - Chirp z-transform function generator\n",
    "   ZoomFFT - Zoom FFT function generator\n",
    "   czt_points - Output the z-plane points sampled by a chirp z-transform\n",
    "\n",
    "The functions are simpler to use than the classes, but are less efficient when\n",
    "using the same transform on many arrays of the same length, since they\n",
    "repeatedly generate the same chirp signal with every call.  In these cases,\n",
    "use the classes to create a reusable function instead.\n",
    "\n",
    "\"\"\""
   ]
  },
  {
   "cell_type": "markdown",
   "id": "9b128755",
   "metadata": {},
   "source": [
    "https://www.tutorialspoint.com/what-is-convolution-in-signals-and-systems"
   ]
  },
  {
   "cell_type": "code",
   "execution_count": null,
   "id": "9828bc6b",
   "metadata": {},
   "outputs": [],
   "source": []
  }
 ],
 "metadata": {
  "kernelspec": {
   "display_name": "Python 3 (ipykernel)",
   "language": "python",
   "name": "python3"
  },
  "language_info": {
   "codemirror_mode": {
    "name": "ipython",
    "version": 3
   },
   "file_extension": ".py",
   "mimetype": "text/x-python",
   "name": "python",
   "nbconvert_exporter": "python",
   "pygments_lexer": "ipython3",
   "version": "3.9.12"
  }
 },
 "nbformat": 4,
 "nbformat_minor": 5
}
