{
 "cells": [
  {
   "cell_type": "markdown",
   "id": "015636b1",
   "metadata": {},
   "source": [
    "https://gist.github.com/rehanguha/feedfa45043a3485a8b3a9dbccab1df5"
   ]
  },
  {
   "cell_type": "code",
   "execution_count": 1,
   "id": "efd9147c",
   "metadata": {},
   "outputs": [],
   "source": [
    "def Cauchy(p,x) :\n",
    "    # Cauchy / Lorentzian / Breit-Wigner peak with contant background:\n",
    "    B           = p[0]    #   Constant Background\n",
    "    x1_peak     = p[1]    #   Height above/below background\n",
    "    x1          = p[2]    #   Central value\n",
    "    width_x1    = p[3]    #   Half-Width at Half Maximum\n",
    "    return ( B + x1_peak*(1/(1+((x-x1)/width_x1)**2)) )"
   ]
  },
  {
   "cell_type": "code",
   "execution_count": 2,
   "id": "6c7bec63",
   "metadata": {},
   "outputs": [
    {
     "data": {
      "text/plain": [
       "4.4"
      ]
     },
     "execution_count": 2,
     "metadata": {},
     "output_type": "execute_result"
    }
   ],
   "source": [
    "Cauchy([2,3,5,6,7],8)"
   ]
  },
  {
   "cell_type": "code",
   "execution_count": 3,
   "id": "d3d07abe",
   "metadata": {},
   "outputs": [],
   "source": [
    "def Gauss(p,x) :\n",
    "    # A gaussian or Normal peak with constant background:\n",
    "    B           = p[0]    #   Constant Background\n",
    "    x1_peak     = p[1]    #   Height above/below background\n",
    "    x1          = p[2]    #   Central value\n",
    "    width_x1    = p[3]    #   Standard Deviation\n",
    "    return ( B + x1_peak*numpy.exp(-(x-x1)**2/(2*width_x1**2)) )"
   ]
  },
  {
   "cell_type": "code",
   "execution_count": 4,
   "id": "762dba2e",
   "metadata": {},
   "outputs": [],
   "source": [
    "def Semicircle(p,x) :\n",
    "    # The upper half of a circle:\n",
    "    R           = p[0]    #   Radius of circle\n",
    "    x0          = p[1]    #   x coordinate of centre of circle\n",
    "    y0          = p[2]    #   y coordinate of centre of circle\n",
    "    from numpy import array, sqrt\n",
    "    y=[]\n",
    "    for i in range(len(x)) :\n",
    "        y_squared = R**2-(x[i]-x0)**2\n",
    "        if y_squared < 0 :\n",
    "            y.append(y0)\n",
    "        else :\n",
    "            y.append(sqrt(y_squared)+y0)\n",
    "    return array(y)"
   ]
  },
  {
   "cell_type": "code",
   "execution_count": 5,
   "id": "dd615c4d",
   "metadata": {},
   "outputs": [],
   "source": [
    "def Linear(p,x) :\n",
    "    # A linear function with:\n",
    "    #   Constant Background          : p[0]\n",
    "    #   Slope                        : p[1]\n",
    "    return p[0]+p[1]*x"
   ]
  },
  {
   "cell_type": "code",
   "execution_count": 6,
   "id": "80551e2e",
   "metadata": {},
   "outputs": [],
   "source": [
    "def Quadratic(p,x) :\n",
    "    # A quadratic function with:\n",
    "    #   Constant Background          : p[0]\n",
    "    #   Slope                        : p[1]\n",
    "    #   Curvature                    : p[2]\n",
    "    return p[0]+p[1]*x+p[2]*x**2"
   ]
  },
  {
   "cell_type": "code",
   "execution_count": 7,
   "id": "46818f89",
   "metadata": {},
   "outputs": [],
   "source": [
    "def Cubic(p,x) :\n",
    "    # A cubic function with:\n",
    "    #   Constant Background          : p[0]\n",
    "    #   Slope                        : p[1]\n",
    "    #   Curvature                    : p[2]\n",
    "    #   3rd Order coefficient        : p[3]\n",
    "    return p[0]+p[1]*x+p[2]*x**2+p[3]*x**3"
   ]
  },
  {
   "cell_type": "markdown",
   "id": "b376e178",
   "metadata": {},
   "source": [
    "https://www.geeksforgeeks.org/orthogonal-distance-regression-using-scipy/"
   ]
  },
  {
   "cell_type": "markdown",
   "id": "19c1fa1c",
   "metadata": {},
   "source": [
    "https://en.wikipedia.org/wiki/Deming_regression"
   ]
  },
  {
   "cell_type": "code",
   "execution_count": null,
   "id": "45d1d99e",
   "metadata": {},
   "outputs": [],
   "source": []
  }
 ],
 "metadata": {
  "kernelspec": {
   "display_name": "Python 3 (ipykernel)",
   "language": "python",
   "name": "python3"
  },
  "language_info": {
   "codemirror_mode": {
    "name": "ipython",
    "version": 3
   },
   "file_extension": ".py",
   "mimetype": "text/x-python",
   "name": "python",
   "nbconvert_exporter": "python",
   "pygments_lexer": "ipython3",
   "version": "3.9.12"
  }
 },
 "nbformat": 4,
 "nbformat_minor": 5
}
