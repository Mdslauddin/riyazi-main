{
 "cells": [
  {
   "cell_type": "code",
   "execution_count": 1,
   "id": "67a5db94",
   "metadata": {},
   "outputs": [],
   "source": [
    "import numpy as np \n",
    "import scipy.linalg as lin"
   ]
  },
  {
   "cell_type": "code",
   "execution_count": 2,
   "id": "2b14099d",
   "metadata": {},
   "outputs": [
    {
     "data": {
      "text/plain": [
       "array([[1., 2.],\n",
       "       [3., 4.]])"
      ]
     },
     "execution_count": 2,
     "metadata": {},
     "output_type": "execute_result"
    }
   ],
   "source": [
    "a = np.array([[1., 2.], [3., 4.]])\n",
    "a"
   ]
  },
  {
   "cell_type": "code",
   "execution_count": 3,
   "id": "ae89299c",
   "metadata": {},
   "outputs": [
    {
     "data": {
      "text/plain": [
       "array([[-2. ,  1. ],\n",
       "       [ 1.5, -0.5]])"
      ]
     },
     "execution_count": 3,
     "metadata": {},
     "output_type": "execute_result"
    }
   ],
   "source": [
    "np.linalg.inv(a)"
   ]
  },
  {
   "cell_type": "code",
   "execution_count": 6,
   "id": "e918762d",
   "metadata": {},
   "outputs": [
    {
     "data": {
      "text/plain": [
       "-2.0000000000000004"
      ]
     },
     "execution_count": 6,
     "metadata": {},
     "output_type": "execute_result"
    }
   ],
   "source": [
    "np.linalg.det(a)"
   ]
  },
  {
   "cell_type": "code",
   "execution_count": 8,
   "id": "9737dc8c",
   "metadata": {},
   "outputs": [
    {
     "data": {
      "text/plain": [
       "<function numpy.linalg.tensorsolve(a, b, axes=None)>"
      ]
     },
     "execution_count": 8,
     "metadata": {},
     "output_type": "execute_result"
    }
   ],
   "source": [
    "np.linalg.cholesky\n",
    "np.linalg.cond\n",
    "np.linalg.det\n",
    "np.linalg.eig\n",
    "np.linalg.eigvals\n",
    "np.linalg.eigvalsh\n",
    "np.linalg.inv\n",
    "np.linalg.lapack_lite # module \n",
    "np.linalg.linalg\n",
    "np.linalg.LinAlgError\n",
    "np.linalg.lstsq\n",
    "np.linalg.matrix_power\n",
    "np.linalg.matrix_rank\n",
    "np.linalg.multi_dot\n",
    "np.linalg.norm\n",
    "np.linalg.pinv\n",
    "np.linalg.qr\n",
    "np.linalg.slogdet\n",
    "np.linalg.solve\n",
    "np.linalg.svd\n",
    "np.linalg.tensorinv\n",
    "np.linalg.tensorsolve\n"
   ]
  },
  {
   "cell_type": "code",
   "execution_count": null,
   "id": "5edf8461",
   "metadata": {},
   "outputs": [],
   "source": [
    "np.linalg.cholesky()"
   ]
  },
  {
   "cell_type": "code",
   "execution_count": 2,
   "id": "f2a01fd1",
   "metadata": {},
   "outputs": [
    {
     "data": {
      "text/plain": [
       "1.4142135623730951"
      ]
     },
     "execution_count": 2,
     "metadata": {},
     "output_type": "execute_result"
    }
   ],
   "source": [
    "a = np.array([[1, 0, -1], [0, 1, 0], [1, 0, 1]])\n",
    "np.linalg.cond(a)"
   ]
  },
  {
   "cell_type": "code",
   "execution_count": null,
   "id": "a0953803",
   "metadata": {},
   "outputs": [],
   "source": [
    "np.linalg.lapack_lite.dgelsd\n",
    "np.linalg.lapack_lite.dgeqrf\n",
    "np.linalg.lapack_lite.dorgqr\n",
    "np.linalg.lapack_lite.LapackError\n",
    "np.linalg.lapack_lite.xerbla\n",
    "np.linalg.lapack_lite.xerbla\n",
    "np.linalg.lapack_lite.zgelsd\n",
    "np.linalg.lapack_lite.zgeqrf\n",
    "np.linalg.lapack_lite.zungqr\n",
    "\n"
   ]
  },
  {
   "cell_type": "code",
   "execution_count": null,
   "id": "3829b6bf",
   "metadata": {},
   "outputs": [],
   "source": []
  },
  {
   "cell_type": "code",
   "execution_count": null,
   "id": "9571abd6",
   "metadata": {},
   "outputs": [],
   "source": []
  },
  {
   "cell_type": "code",
   "execution_count": null,
   "id": "4b33375f",
   "metadata": {},
   "outputs": [],
   "source": []
  },
  {
   "cell_type": "code",
   "execution_count": null,
   "id": "2cb4881f",
   "metadata": {},
   "outputs": [],
   "source": []
  },
  {
   "cell_type": "code",
   "execution_count": null,
   "id": "fa5fb1a4",
   "metadata": {},
   "outputs": [],
   "source": []
  },
  {
   "cell_type": "code",
   "execution_count": null,
   "id": "2741ed76",
   "metadata": {},
   "outputs": [],
   "source": []
  },
  {
   "cell_type": "code",
   "execution_count": null,
   "id": "96ba99ee",
   "metadata": {},
   "outputs": [],
   "source": [
    "def invert_matrix(AM, IM):\n",
    "    for fd in range(len(AM)):\n",
    "        fdScaler = 1.0 / AM[fd][fd]\n",
    "        for j in range(len(AM)):\n",
    "            AM[fd][j] *= fdScaler\n",
    "            IM[fd][j] *= fdScaler\n",
    "        for i in list(range(len(AM)))[0:fd] + list(range(len(AM)))[fd+1:]:\n",
    "            crScaler = AM[i][fd]\n",
    "            for j in range(len(AM)):\n",
    "                AM[i][j] = AM[i][j] - crScaler * AM[fd][j]\n",
    "                IM[i][j] = IM[i][j] - crScaler * IM[fd][j]\n",
    "    return IM"
   ]
  },
  {
   "cell_type": "code",
   "execution_count": null,
   "id": "d25a0b11",
   "metadata": {},
   "outputs": [],
   "source": [
    "invert_matrix([1.,2.],[3.,4.])"
   ]
  },
  {
   "cell_type": "code",
   "execution_count": null,
   "id": "510cddc3",
   "metadata": {},
   "outputs": [],
   "source": [
    " \n",
    "import numpy as np\n",
    "import sys\n",
    "x = int(input('The order of matrix is? -> '))\n",
    "m = np.zeros((x,2*x))\n",
    "print('Enter the matrix values ->')\n",
    "for i in range(x):\n",
    "    for j in range(x):\n",
    "        m[i][j] = float(input( 'm['+str(i)+']['+ str(j)+']='))\n",
    "for i in range(x):\n",
    "    for j in range(x):\n",
    "        if i == j:\n",
    "            m[i][j+x] = 1\n",
    "for i in range(x):\n",
    "    if m[i][i] == 0.0:\n",
    "        sys.exit('Divide by zero detected!')\n",
    "    for j in range(x):\n",
    "        if i != j:\n",
    "            ratio = m[j][i]/m[i][i]\n",
    "            for k in range(2*x):\n",
    "                m[j][k] = m[j][k] - ratio * m[i][k]\n",
    "for i in range(x):\n",
    "    divisor = a[i][i]\n",
    "    for j in range(2*x):\n",
    "        m[i][j] = m[i][j]/divisor\n",
    "print('\\nINVERSE MATRIX IS:')\n",
    "for i in range(x):\n",
    "    for j in range(x, 2*x):\n",
    "        print(m[i][j], end='\\t')\n",
    "    print()"
   ]
  },
  {
   "cell_type": "code",
   "execution_count": 4,
   "id": "f5a1309b",
   "metadata": {},
   "outputs": [
    {
     "name": "stdout",
     "output_type": "stream",
     "text": [
      "[[-1.25, 0.75], [2.0, -1.0]]\n"
     ]
    }
   ],
   "source": [
    "def return_transpose(mat):\n",
    "    return map(list,zip(*mat))\n",
    "\n",
    "def return_matrix_minor(mat,i,j):\n",
    "    return [row[:j] + row[j+1:] for row in (mat[:i]+mat[i+1:])]\n",
    "\n",
    "def return_determinant(mat):\n",
    "    if len(mat) == 2:\n",
    "        return mat[0][0]*mat[1][1]-mat[0][1]*mat[1][0]\n",
    "\n",
    "    determinant = 0\n",
    "    for c in range(len(m)):\n",
    "        determinant += ((-1)**c)*m[0][c]*return_determinant(return_matrix_minor(m,0,c))\n",
    "    return determinant\n",
    "\n",
    "def inverse_matrix(m):\n",
    "    determinant = return_determinant(m)\n",
    "    if len(m) == 2:\n",
    "        return [[m[1][1]/determinant, -1*m[0][1]/determinant],\n",
    "                [-1*m[1][0]/determinant, m[0][0]/determinant]]\n",
    "\n",
    "    cfs = []\n",
    "    for r in range(len(m)):\n",
    "        cfRow = []\n",
    "        for c in range(len(m)):\n",
    "            minor = return_matrix_minor(m,r,c)\n",
    "            cfRow.append(((-1)**(r+c)) * return_determinant(minor))\n",
    "        cfs.append(cfRow)\n",
    "    cfs = return_transpose(cfs)\n",
    "    for r in range(len(cfs)):\n",
    "        for c in range(len(cfs)):\n",
    "            cfs[r][c] = cfs[r][c]/determinant\n",
    "    return cfs\n",
    "\n",
    "m = [[4,3],[8,5]]\n",
    "print(inverse_matrix(m))"
   ]
  },
  {
   "cell_type": "code",
   "execution_count": 5,
   "id": "4da09896",
   "metadata": {},
   "outputs": [
    {
     "data": {
      "text/plain": [
       "[[-2.0, 1.0], [1.5, -0.5]]"
      ]
     },
     "execution_count": 5,
     "metadata": {},
     "output_type": "execute_result"
    }
   ],
   "source": [
    "inverse_matrix(a)"
   ]
  },
  {
   "cell_type": "code",
   "execution_count": 7,
   "id": "8467941b",
   "metadata": {},
   "outputs": [
    {
     "data": {
      "text/plain": [
       "-2.0"
      ]
     },
     "execution_count": 7,
     "metadata": {},
     "output_type": "execute_result"
    }
   ],
   "source": [
    "return_determinant(a)"
   ]
  },
  {
   "cell_type": "code",
   "execution_count": 9,
   "id": "8d54d3e7",
   "metadata": {},
   "outputs": [],
   "source": [
    "def print_matrix(Title, M):\n",
    "    print(Title)\n",
    "    for row in M:\n",
    "        print([round(x,3)+0 for x in row])\n",
    "        \n",
    "def print_matrices(Action, Title1, M1, Title2, M2):\n",
    "    print(Action)\n",
    "    print(Title1, '\\t'*int(len(M1)/2)+\"\\t\"*len(M1), Title2)\n",
    "    for i in range(len(M1)):\n",
    "        row1 = ['{0:+7.3f}'.format(x) for x in M1[i]]\n",
    "        row2 = ['{0:+7.3f}'.format(x) for x in M2[i]]\n",
    "        print(row1,'\\t', row2)\n",
    "        \n",
    "def zeros_matrix(rows, cols):\n",
    "    A = []\n",
    "    for i in range(rows):\n",
    "        A.append([])\n",
    "        for j in range(cols):\n",
    "            A[-1].append(0.0)\n",
    "\n",
    "    return A\n",
    "\n",
    "def copy_matrix(M):\n",
    "    rows = len(M)\n",
    "    cols = len(M[0])\n",
    "\n",
    "    MC = zeros_matrix(rows, cols)\n",
    "\n",
    "    for i in range(rows):\n",
    "        for j in range(rows):\n",
    "            MC[i][j] = M[i][j]\n",
    "\n",
    "    return MC\n",
    "\n",
    "def matrix_multiply(A,B):\n",
    "    rowsA = len(A)\n",
    "    colsA = len(A[0])\n",
    "\n",
    "    rowsB = len(B)\n",
    "    colsB = len(B[0])\n",
    "\n",
    "    if colsA != rowsB:\n",
    "        print('Number of A columns must equal number of B rows.')\n",
    "        sys.exit()\n",
    "\n",
    "    C = zeros_matrix(rowsA, colsB)\n",
    "\n",
    "    for i in range(rowsA):\n",
    "        for j in range(colsB):\n",
    "            total = 0\n",
    "            for ii in range(colsA):\n",
    "                total += A[i][ii] * B[ii][j]\n",
    "            C[i][j] = total\n",
    "\n",
    "    return C"
   ]
  },
  {
   "cell_type": "code",
   "execution_count": 10,
   "id": "86e98177",
   "metadata": {},
   "outputs": [
    {
     "data": {
      "text/plain": [
       "[[0.0, 0.0, 0.0, 0.0],\n",
       " [0.0, 0.0, 0.0, 0.0],\n",
       " [0.0, 0.0, 0.0, 0.0],\n",
       " [0.0, 0.0, 0.0, 0.0],\n",
       " [0.0, 0.0, 0.0, 0.0]]"
      ]
     },
     "execution_count": 10,
     "metadata": {},
     "output_type": "execute_result"
    }
   ],
   "source": [
    "zeros_matrix(5,4)"
   ]
  },
  {
   "cell_type": "code",
   "execution_count": 11,
   "id": "3759b29e",
   "metadata": {},
   "outputs": [],
   "source": [
    "def invert_matrix(A, tol=None):\n",
    "    \"\"\"\n",
    "    Returns the inverse of the passed in matrix.\n",
    "        :param A: The matrix to be inversed\n",
    " \n",
    "        :return: The inverse of the matrix A\n",
    "    \"\"\"\n",
    "    # Section 1: Make sure A can be inverted.\n",
    "    check_squareness(A)\n",
    "    check_non_singular(A)\n",
    " \n",
    "    # Section 2: Make copies of A & I, AM & IM, to use for row ops\n",
    "    n = len(A)\n",
    "    AM = copy_matrix(A)\n",
    "    I = identity_matrix(n)\n",
    "    IM = copy_matrix(I)\n",
    " \n",
    "    # Section 3: Perform row operations\n",
    "    indices = list(range(n)) # to allow flexible row referencing ***\n",
    "    for fd in range(n): # fd stands for focus diagonal\n",
    "        fdScaler = 1.0 / AM[fd][fd]\n",
    "        # FIRST: scale fd row with fd inverse. \n",
    "        for j in range(n): # Use j to indicate column looping.\n",
    "            AM[fd][j] *= fdScaler\n",
    "            IM[fd][j] *= fdScaler\n",
    "        # SECOND: operate on all rows except fd row as follows:\n",
    "        for i in indices[0:fd] + indices[fd+1:]: \n",
    "            # *** skip row with fd in it.\n",
    "            crScaler = AM[i][fd] # cr stands for \"current row\".\n",
    "            for j in range(n): \n",
    "                # cr - crScaler * fdRow, but one element at a time.\n",
    "                AM[i][j] = AM[i][j] - crScaler * AM[fd][j]\n",
    "                IM[i][j] = IM[i][j] - crScaler * IM[fd][j]\n",
    " \n",
    "    # Section 4: Make sure IM is an inverse of A with specified tolerance\n",
    "    if check_matrix_equality(I,matrix_multiply(A,IM),tol):\n",
    "        return IM\n",
    "    else:\n",
    "        raise ArithmeticError(\"Matrix inverse out of tolerance.\")"
   ]
  },
  {
   "cell_type": "code",
   "execution_count": 12,
   "id": "0b8da000",
   "metadata": {},
   "outputs": [
    {
     "name": "stdout",
     "output_type": "stream",
     "text": [
      "Input matrix is :\n",
      "5 -2 2 7 \n",
      "1 0 0 3 \n",
      "-3 1 5 0 \n",
      "3 -1 -9 4 \n",
      "\n",
      "The Adjoint is :\n",
      "-12 76 -60 -36 \n",
      "-56 208 -82 -58 \n",
      "4 4 -2 -10 \n",
      "4 4 20 12 \n",
      "\n",
      "The Inverse is :\n",
      "-0.136364 0.863636 -0.681818 -0.409091 \n",
      "-0.636364 2.363636 -0.931818 -0.659091 \n",
      "0.045455 0.045455 -0.022727 -0.113636 \n",
      "0.045455 0.045455 0.227273 0.136364 \n"
     ]
    }
   ],
   "source": [
    "# Python3 program to find adjoint and\n",
    "# inverse of a matrix\n",
    "N = 4\n",
    "\n",
    "# Function to get cofactor of\n",
    "# A[p][q] in temp[][]. n is current\n",
    "# dimension of A[][]\n",
    "def getCofactor(A, temp, p, q, n):\n",
    "\n",
    "\ti = 0\n",
    "\tj = 0\n",
    "\n",
    "\t# Looping for each element of the matrix\n",
    "\tfor row in range(n):\n",
    "\n",
    "\t\tfor col in range(n):\n",
    "\n",
    "\t\t\t# Copying into temporary matrix only those element\n",
    "\t\t\t# which are not in given row and column\n",
    "\t\t\tif (row != p and col != q):\n",
    "\n",
    "\t\t\t\ttemp[i][j] = A[row][col]\n",
    "\t\t\t\tj += 1\n",
    "\n",
    "\t\t\t\t# Row is filled, so increase row index and\n",
    "\t\t\t\t# reset col index\n",
    "\t\t\t\tif (j == n - 1):\n",
    "\t\t\t\t\tj = 0\n",
    "\t\t\t\t\ti += 1\n",
    "\n",
    "\n",
    "# Recursive function for finding determinant of matrix.\n",
    "# n is current dimension of A[][].\n",
    "def determinant(A, n):\n",
    "\n",
    "\tD = 0 # Initialize result\n",
    "\n",
    "\t# Base case : if matrix contains single element\n",
    "\tif (n == 1):\n",
    "\t\treturn A[0][0]\n",
    "\n",
    "\ttemp = [] # To store cofactors\n",
    "\tfor i in range(N):\n",
    "\t\ttemp.append([None for _ in range(N)])\n",
    "\n",
    "\tsign = 1 # To store sign multiplier\n",
    "\n",
    "\t# Iterate for each element of first row\n",
    "\tfor f in range(n):\n",
    "\n",
    "\t\t# Getting Cofactor of A[0][f]\n",
    "\t\tgetCofactor(A, temp, 0, f, n)\n",
    "\t\tD += sign * A[0][f] * determinant(temp, n - 1)\n",
    "\n",
    "\t\t# terms are to be added with alternate sign\n",
    "\t\tsign = -sign\n",
    "\n",
    "\treturn D\n",
    "\n",
    "\n",
    "# Function to get adjoint of A[N][N] in adj[N][N].\n",
    "def adjoint(A, adj):\n",
    "\n",
    "\tif (N == 1):\n",
    "\t\tadj[0][0] = 1\n",
    "\t\treturn\n",
    "\n",
    "\t# temp is used to store cofactors of A[][]\n",
    "\tsign = 1\n",
    "\ttemp = [] # To store cofactors\n",
    "\tfor i in range(N):\n",
    "\t\ttemp.append([None for _ in range(N)])\n",
    "\n",
    "\tfor i in range(N):\n",
    "\t\tfor j in range(N):\n",
    "\t\t\t# Get cofactor of A[i][j]\n",
    "\t\t\tgetCofactor(A, temp, i, j, N)\n",
    "\n",
    "\t\t\t# sign of adj[j][i] positive if sum of row\n",
    "\t\t\t# and column indexes is even.\n",
    "\t\t\tsign = [1, -1][(i + j) % 2]\n",
    "\n",
    "\t\t\t# Interchanging rows and columns to get the\n",
    "\t\t\t# transpose of the cofactor matrix\n",
    "\t\t\tadj[j][i] = (sign)*(determinant(temp, N-1))\n",
    "\n",
    "\n",
    "# Function to calculate and store inverse, returns false if\n",
    "# matrix is singular\n",
    "def inverse(A, inverse):\n",
    "\n",
    "\t# Find determinant of A[][]\n",
    "\tdet = determinant(A, N)\n",
    "\tif (det == 0):\n",
    "\t\tprint(\"Singular matrix, can't find its inverse\")\n",
    "\t\treturn False\n",
    "\n",
    "\t# Find adjoint\n",
    "\tadj = []\n",
    "\tfor i in range(N):\n",
    "\t\tadj.append([None for _ in range(N)])\n",
    "\tadjoint(A, adj)\n",
    "\n",
    "\t# Find Inverse using formula \"inverse(A) = adj(A)/det(A)\"\n",
    "\tfor i in range(N):\n",
    "\t\tfor j in range(N):\n",
    "\t\t\tinverse[i][j] = adj[i][j] / det\n",
    "\n",
    "\treturn True\n",
    "\n",
    "\n",
    "# Generic function to display the\n",
    "# matrix. We use it to display\n",
    "# both adjoin and inverse. adjoin\n",
    "# is integer matrix and inverse\n",
    "# is a float.\n",
    "def display(A):\n",
    "\tfor i in range(N):\n",
    "\t\tfor j in range(N):\n",
    "\t\t\tprint(A[i][j], end=\" \")\n",
    "\t\tprint()\n",
    "\n",
    "\n",
    "def displays(A):\n",
    "\tfor i in range(N):\n",
    "\t\tfor j in range(N):\n",
    "\t\t\tprint(round(A[i][j], 6), end=\" \")\n",
    "\t\tprint()\n",
    "\n",
    "\n",
    "# Driver program\n",
    "\n",
    "A = [[5, -2, 2, 7], [1, 0, 0, 3], [-3, 1, 5, 0], [3, -1, -9, 4]]\n",
    "adj = [None for _ in range(N)]\n",
    "inv = [None for _ in range(N)]\n",
    "\n",
    "for i in range(N):\n",
    "\tadj[i] = [None for _ in range(N)]\n",
    "\tinv[i] = [None for _ in range(N)]\n",
    "\n",
    "\n",
    "print(\"Input matrix is :\")\n",
    "display(A)\n",
    "\n",
    "print(\"\\nThe Adjoint is :\")\n",
    "adjoint(A, adj)\n",
    "display(adj)\n",
    "\n",
    "print(\"\\nThe Inverse is :\")\n",
    "if (inverse(A, inv)):\n",
    "\tdisplays(inv)\n",
    "\n",
    "# This code is contributed by phasing17\n"
   ]
  },
  {
   "cell_type": "code",
   "execution_count": null,
   "id": "6ce9eb43",
   "metadata": {},
   "outputs": [],
   "source": []
  }
 ],
 "metadata": {
  "kernelspec": {
   "display_name": "Python 3 (ipykernel)",
   "language": "python",
   "name": "python3"
  },
  "language_info": {
   "codemirror_mode": {
    "name": "ipython",
    "version": 3
   },
   "file_extension": ".py",
   "mimetype": "text/x-python",
   "name": "python",
   "nbconvert_exporter": "python",
   "pygments_lexer": "ipython3",
   "version": "3.9.12"
  }
 },
 "nbformat": 4,
 "nbformat_minor": 5
}
