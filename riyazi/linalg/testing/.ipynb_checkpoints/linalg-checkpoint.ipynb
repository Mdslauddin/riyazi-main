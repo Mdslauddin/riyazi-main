{
 "cells": [
  {
   "cell_type": "code",
   "execution_count": 1,
   "id": "619f6522",
   "metadata": {},
   "outputs": [],
   "source": [
    "__all__ = ['solve', 'tensorsolve', 'tensorinv',\n",
    "           'inv', 'cholesky',\n",
    "           'eigvals',\n",
    "           'eigvalsh', 'pinv',\n",
    "           'det', 'svd',\n",
    "           'eig', 'eigh','lstsq', 'norm',\n",
    "           'qr',\n",
    "           'LinAlgError'\n",
    "           ]"
   ]
  },
  {
   "cell_type": "code",
   "execution_count": null,
   "id": "57906b13",
   "metadata": {},
   "outputs": [],
   "source": []
  }
 ],
 "metadata": {
  "kernelspec": {
   "display_name": "Python 3 (ipykernel)",
   "language": "python",
   "name": "python3"
  },
  "language_info": {
   "codemirror_mode": {
    "name": "ipython",
    "version": 3
   },
   "file_extension": ".py",
   "mimetype": "text/x-python",
   "name": "python",
   "nbconvert_exporter": "python",
   "pygments_lexer": "ipython3",
   "version": "3.9.12"
  }
 },
 "nbformat": 4,
 "nbformat_minor": 5
}
