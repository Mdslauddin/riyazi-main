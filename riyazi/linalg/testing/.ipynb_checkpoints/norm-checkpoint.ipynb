{
 "cells": [
  {
   "cell_type": "code",
   "execution_count": null,
   "id": "db4ff1cf",
   "metadata": {},
   "outputs": [],
   "source": [
    "def add(*args):\n",
    "\n",
    "    sum = 0\n",
    "    for x in args:\n",
    "        sum +=x \n",
    "    return sum "
   ]
  },
  {
   "cell_type": "code",
   "execution_count": null,
   "id": "fa6cdef3",
   "metadata": {},
   "outputs": [],
   "source": [
    "def sqrt(x):\n",
    "   \n",
    "    return x**0.5"
   ]
  },
  {
   "cell_type": "code",
   "execution_count": null,
   "id": "bc96d4fe",
   "metadata": {},
   "outputs": [],
   "source": []
  },
  {
   "cell_type": "code",
   "execution_count": null,
   "id": "aac1804a",
   "metadata": {},
   "outputs": [],
   "source": [
    "def norm(*a,dtype=None):\n",
    "    \n",
    "    return np.linalg.norm(a)"
   ]
  },
  {
   "cell_type": "code",
   "execution_count": null,
   "id": "d7b4dc5c",
   "metadata": {},
   "outputs": [],
   "source": [
    "norm([[3,2,2,3],\n",
    "      [4,5,-6,-7]])"
   ]
  },
  {
   "cell_type": "code",
   "execution_count": null,
   "id": "6f0a11b2",
   "metadata": {},
   "outputs": [],
   "source": [
    "import numpy.linalg as np"
   ]
  },
  {
   "cell_type": "code",
   "execution_count": null,
   "id": "e45411be",
   "metadata": {},
   "outputs": [],
   "source": [
    "np.norm(3,2)"
   ]
  },
  {
   "cell_type": "code",
   "execution_count": null,
   "id": "a2c6ba63",
   "metadata": {},
   "outputs": [],
   "source": [
    "from scipy.linalg import norm"
   ]
  },
  {
   "cell_type": "code",
   "execution_count": null,
   "id": "c102a5fa",
   "metadata": {},
   "outputs": [],
   "source": [
    "norm(1,2)"
   ]
  },
  {
   "cell_type": "code",
   "execution_count": null,
   "id": "20207379",
   "metadata": {},
   "outputs": [],
   "source": [
    "return np.linalg.norm(a, ord=ord, axis=axis, keepdims=keepdims)"
   ]
  },
  {
   "cell_type": "code",
   "execution_count": null,
   "id": "84e68bfc",
   "metadata": {},
   "outputs": [],
   "source": [
    "@array_function_dispatch(_norm_dispatcher)\n",
    "def norm(x, ord=None, axis=None, keepdims=False):\n",
    "    \n",
    "    0.0\n",
    "\n",
    "    Using the `axis` argument to compute vector norms:\n",
    "\n",
    "    >>> c = np.array([[ 1, 2, 3],\n",
    "    ...               [-1, 1, 4]])\n",
    "    >>> LA.norm(c, axis=0)\n",
    "    array([ 1.41421356,  2.23606798,  5.        ])\n",
    "    >>> LA.norm(c, axis=1)\n",
    "    array([ 3.74165739,  4.24264069])\n",
    "    >>> LA.norm(c, ord=1, axis=1)\n",
    "    array([ 6.,  6.])\n",
    "\n",
    "    Using the `axis` argument to compute matrix norms:\n",
    "\n",
    "    >>> m = np.arange(8).reshape(2,2,2)\n",
    "    >>> LA.norm(m, axis=(1,2))\n",
    "    array([  3.74165739,  11.22497216])\n",
    "    >>> LA.norm(m[0, :, :]), LA.norm(m[1, :, :])\n",
    "    (3.7416573867739413, 11.224972160321824)\n",
    "\n",
    "    \"\"\"\n",
    "    x = asarray(x)\n",
    "\n",
    "    if not issubclass(x.dtype.type, (inexact, object_)):\n",
    "        x = x.astype(float)\n",
    "\n",
    "    # Immediately handle some default, simple, fast, and common cases.\n",
    "    if axis is None:\n",
    "        ndim = x.ndim\n",
    "        if ((ord is None) or\n",
    "            (ord in ('f', 'fro') and ndim == 2) or\n",
    "            (ord == 2 and ndim == 1)):\n",
    "\n",
    "            x = x.ravel(order='K')\n",
    "            if isComplexType(x.dtype.type):\n",
    "                x_real = x.real\n",
    "                x_imag = x.imag\n",
    "                sqnorm = x_real.dot(x_real) + x_imag.dot(x_imag)\n",
    "            else:\n",
    "                sqnorm = x.dot(x)\n",
    "            ret = sqrt(sqnorm)\n",
    "            if keepdims:\n",
    "                ret = ret.reshape(ndim*[1])\n",
    "            return ret\n",
    "\n",
    "    # Normalize the `axis` argument to a tuple.\n",
    "    nd = x.ndim\n",
    "    if axis is None:\n",
    "        axis = tuple(range(nd))\n",
    "    elif not isinstance(axis, tuple):\n",
    "        try:\n",
    "            axis = int(axis)\n",
    "        except Exception as e:\n",
    "            raise TypeError(\"'axis' must be None, an integer or a tuple of integers\") from e\n",
    "        axis = (axis,)\n",
    "\n",
    "    if len(axis) == 1:\n",
    "        if ord == Inf:\n",
    "            return abs(x).max(axis=axis, keepdims=keepdims)\n",
    "        elif ord == -Inf:\n",
    "            return abs(x).min(axis=axis, keepdims=keepdims)\n",
    "        elif ord == 0:\n",
    "            # Zero norm\n",
    "            return (x != 0).astype(x.real.dtype).sum(axis=axis, keepdims=keepdims)\n",
    "        elif ord == 1:\n",
    "            # special case for speedup\n",
    "            return add.reduce(abs(x), axis=axis, keepdims=keepdims)\n",
    "        elif ord is None or ord == 2:\n",
    "            # special case for speedup\n",
    "            s = (x.conj() * x).real\n",
    "            return sqrt(add.reduce(s, axis=axis, keepdims=keepdims))\n",
    "        # None of the str-type keywords for ord ('fro', 'nuc')\n",
    "        # are valid for vectors\n",
    "        elif isinstance(ord, str):\n",
    "            raise ValueError(f\"Invalid norm order '{ord}' for vectors\")\n",
    "        else:\n",
    "            absx = abs(x)\n",
    "            absx **= ord\n",
    "            ret = add.reduce(absx, axis=axis, keepdims=keepdims)\n",
    "            ret **= reciprocal(ord, dtype=ret.dtype)\n",
    "            return ret\n",
    "    elif len(axis) == 2:\n",
    "        row_axis, col_axis = axis\n",
    "        row_axis = normalize_axis_index(row_axis, nd)\n",
    "        col_axis = normalize_axis_index(col_axis, nd)\n",
    "        if row_axis == col_axis:\n",
    "            raise ValueError('Duplicate axes given.')\n",
    "        if ord == 2:\n",
    "            ret =  _multi_svd_norm(x, row_axis, col_axis, amax)\n",
    "        elif ord == -2:\n",
    "            ret = _multi_svd_norm(x, row_axis, col_axis, amin)\n",
    "        elif ord == 1:\n",
    "            if col_axis > row_axis:\n",
    "                col_axis -= 1\n",
    "            ret = add.reduce(abs(x), axis=row_axis).max(axis=col_axis)\n",
    "        elif ord == Inf:\n",
    "            if row_axis > col_axis:\n",
    "                row_axis -= 1\n",
    "            ret = add.reduce(abs(x), axis=col_axis).max(axis=row_axis)\n",
    "        elif ord == -1:\n",
    "            if col_axis > row_axis:\n",
    "                col_axis -= 1\n",
    "            ret = add.reduce(abs(x), axis=row_axis).min(axis=col_axis)\n",
    "        elif ord == -Inf:\n",
    "            if row_axis > col_axis:\n",
    "                row_axis -= 1\n",
    "            ret = add.reduce(abs(x), axis=col_axis).min(axis=row_axis)\n",
    "        elif ord in [None, 'fro', 'f']:\n",
    "            ret = sqrt(add.reduce((x.conj() * x).real, axis=axis))\n",
    "        elif ord == 'nuc':\n",
    "            ret = _multi_svd_norm(x, row_axis, col_axis, sum)\n",
    "        else:\n",
    "            raise ValueError(\"Invalid norm order for matrices.\")\n",
    "        if keepdims:\n",
    "            ret_shape = list(x.shape)\n",
    "            ret_shape[axis[0]] = 1\n",
    "            ret_shape[axis[1]] = 1\n",
    "            ret = ret.reshape(ret_shape)\n",
    "        return re\n"
   ]
  },
  {
   "cell_type": "code",
   "execution_count": 4,
   "id": "39511ce1",
   "metadata": {},
   "outputs": [
    {
     "name": "stdout",
     "output_type": "stream",
     "text": [
      "[ 0.6 -0.8]\n"
     ]
    }
   ],
   "source": [
    "import numpy as np\n",
    "\n",
    "#v = np.random.rand(10)\n",
    "# v = [3,-4]\n",
    "\n",
    "a = np.array([3,-4])\n",
    "\n",
    "\n",
    "\n",
    "\n",
    "normalized_v = a / np.sqrt(np.sum(a**2))\n",
    "print(normalized_v)"
   ]
  },
  {
   "cell_type": "code",
   "execution_count": null,
   "id": "6d07074a",
   "metadata": {},
   "outputs": [],
   "source": [
    "v"
   ]
  },
  {
   "cell_type": "code",
   "execution_count": 1,
   "id": "bd6a15d1",
   "metadata": {},
   "outputs": [
    {
     "data": {
      "text/plain": [
       "5.0"
      ]
     },
     "execution_count": 1,
     "metadata": {},
     "output_type": "execute_result"
    }
   ],
   "source": [
    "import numpy as np\n",
    "a = [3,-4]\n",
    "np.linalg.norm(a)"
   ]
  },
  {
   "cell_type": "code",
   "execution_count": 5,
   "id": "5f3512d1",
   "metadata": {},
   "outputs": [],
   "source": [
    "a = [-3,4]"
   ]
  },
  {
   "cell_type": "code",
   "execution_count": 6,
   "id": "91d63051",
   "metadata": {
    "scrolled": true
   },
   "outputs": [
    {
     "data": {
      "text/plain": [
       "list"
      ]
     },
     "execution_count": 6,
     "metadata": {},
     "output_type": "execute_result"
    }
   ],
   "source": [
    "type(a)"
   ]
  },
  {
   "cell_type": "code",
   "execution_count": 9,
   "id": "5bc90618",
   "metadata": {},
   "outputs": [
    {
     "data": {
      "text/plain": [
       "9"
      ]
     },
     "execution_count": 9,
     "metadata": {},
     "output_type": "execute_result"
    }
   ],
   "source": [
    "a[0]**2"
   ]
  },
  {
   "cell_type": "code",
   "execution_count": null,
   "id": "c82c8515",
   "metadata": {},
   "outputs": [],
   "source": []
  },
  {
   "cell_type": "code",
   "execution_count": null,
   "id": "33a2976c",
   "metadata": {},
   "outputs": [],
   "source": []
  },
  {
   "cell_type": "code",
   "execution_count": 18,
   "id": "1ee11974",
   "metadata": {},
   "outputs": [],
   "source": [
    "import numpy as np \n",
    "def norm(x):\n",
    "    if ( x <= len(x))\n",
    "    norm = x/np.sqrt(np.sum(x[0]**2))\n",
    "    return norm"
   ]
  },
  {
   "cell_type": "code",
   "execution_count": 19,
   "id": "d99516e6",
   "metadata": {},
   "outputs": [],
   "source": [
    "a = [-3,4]"
   ]
  },
  {
   "cell_type": "code",
   "execution_count": 21,
   "id": "67a3cc62",
   "metadata": {},
   "outputs": [
    {
     "data": {
      "text/plain": [
       "2"
      ]
     },
     "execution_count": 21,
     "metadata": {},
     "output_type": "execute_result"
    }
   ],
   "source": [
    "len(a)"
   ]
  },
  {
   "cell_type": "code",
   "execution_count": 20,
   "id": "315059f2",
   "metadata": {},
   "outputs": [
    {
     "data": {
      "text/plain": [
       "array([-1.        ,  1.33333333])"
      ]
     },
     "execution_count": 20,
     "metadata": {},
     "output_type": "execute_result"
    }
   ],
   "source": [
    "norm(a)"
   ]
  },
  {
   "cell_type": "code",
   "execution_count": null,
   "id": "052b805d",
   "metadata": {},
   "outputs": [],
   "source": []
  },
  {
   "cell_type": "code",
   "execution_count": null,
   "id": "96d70ce8",
   "metadata": {},
   "outputs": [],
   "source": []
  },
  {
   "cell_type": "code",
   "execution_count": null,
   "id": "b4fcf477",
   "metadata": {},
   "outputs": [],
   "source": []
  },
  {
   "cell_type": "code",
   "execution_count": null,
   "id": "1eff73e3",
   "metadata": {},
   "outputs": [],
   "source": []
  },
  {
   "cell_type": "code",
   "execution_count": null,
   "id": "d0fafc86",
   "metadata": {},
   "outputs": [],
   "source": []
  },
  {
   "cell_type": "code",
   "execution_count": null,
   "id": "5410f27d",
   "metadata": {},
   "outputs": [],
   "source": []
  },
  {
   "cell_type": "code",
   "execution_count": null,
   "id": "1edb486a",
   "metadata": {},
   "outputs": [],
   "source": []
  },
  {
   "cell_type": "code",
   "execution_count": null,
   "id": "ee8d5252",
   "metadata": {},
   "outputs": [],
   "source": []
  },
  {
   "cell_type": "code",
   "execution_count": null,
   "id": "2db9611b",
   "metadata": {},
   "outputs": [],
   "source": []
  },
  {
   "cell_type": "code",
   "execution_count": null,
   "id": "77acd8c8",
   "metadata": {},
   "outputs": [],
   "source": []
  },
  {
   "cell_type": "code",
   "execution_count": null,
   "id": "74272463",
   "metadata": {},
   "outputs": [],
   "source": []
  },
  {
   "cell_type": "code",
   "execution_count": null,
   "id": "47d4ee6d",
   "metadata": {},
   "outputs": [],
   "source": []
  },
  {
   "cell_type": "code",
   "execution_count": null,
   "id": "343b0594",
   "metadata": {},
   "outputs": [],
   "source": []
  },
  {
   "cell_type": "code",
   "execution_count": null,
   "id": "cc1ec4a4",
   "metadata": {},
   "outputs": [],
   "source": []
  },
  {
   "cell_type": "code",
   "execution_count": null,
   "id": "8bc5f53d",
   "metadata": {},
   "outputs": [],
   "source": []
  },
  {
   "cell_type": "code",
   "execution_count": null,
   "id": "1b420557",
   "metadata": {},
   "outputs": [],
   "source": []
  },
  {
   "cell_type": "code",
   "execution_count": null,
   "id": "4984845b",
   "metadata": {},
   "outputs": [],
   "source": []
  },
  {
   "cell_type": "code",
   "execution_count": null,
   "id": "c083c787",
   "metadata": {},
   "outputs": [],
   "source": []
  },
  {
   "cell_type": "code",
   "execution_count": null,
   "id": "66a8daf4",
   "metadata": {},
   "outputs": [],
   "source": []
  },
  {
   "cell_type": "code",
   "execution_count": null,
   "id": "ae3e4e15",
   "metadata": {},
   "outputs": [],
   "source": []
  },
  {
   "cell_type": "code",
   "execution_count": null,
   "id": "c55c9b9e",
   "metadata": {},
   "outputs": [],
   "source": []
  },
  {
   "cell_type": "code",
   "execution_count": null,
   "id": "88edd568",
   "metadata": {},
   "outputs": [],
   "source": []
  },
  {
   "cell_type": "code",
   "execution_count": null,
   "id": "f898b897",
   "metadata": {},
   "outputs": [],
   "source": []
  },
  {
   "cell_type": "code",
   "execution_count": null,
   "id": "af73c720",
   "metadata": {},
   "outputs": [],
   "source": []
  },
  {
   "cell_type": "code",
   "execution_count": null,
   "id": "42bb1e49",
   "metadata": {},
   "outputs": [],
   "source": []
  },
  {
   "cell_type": "code",
   "execution_count": null,
   "id": "9aab6f0d",
   "metadata": {},
   "outputs": [],
   "source": []
  },
  {
   "cell_type": "code",
   "execution_count": null,
   "id": "29770411",
   "metadata": {},
   "outputs": [],
   "source": []
  },
  {
   "cell_type": "code",
   "execution_count": null,
   "id": "235fa9e2",
   "metadata": {},
   "outputs": [],
   "source": []
  },
  {
   "cell_type": "code",
   "execution_count": null,
   "id": "c8d10e60",
   "metadata": {},
   "outputs": [],
   "source": []
  },
  {
   "cell_type": "code",
   "execution_count": null,
   "id": "2877392e",
   "metadata": {},
   "outputs": [],
   "source": []
  },
  {
   "cell_type": "code",
   "execution_count": null,
   "id": "a91d1503",
   "metadata": {},
   "outputs": [],
   "source": []
  },
  {
   "cell_type": "code",
   "execution_count": null,
   "id": "000c5bc8",
   "metadata": {},
   "outputs": [],
   "source": []
  },
  {
   "cell_type": "code",
   "execution_count": null,
   "id": "9eaae582",
   "metadata": {},
   "outputs": [],
   "source": []
  },
  {
   "cell_type": "code",
   "execution_count": null,
   "id": "4c1aa7ce",
   "metadata": {},
   "outputs": [],
   "source": []
  },
  {
   "cell_type": "code",
   "execution_count": null,
   "id": "9e386d87",
   "metadata": {},
   "outputs": [],
   "source": []
  },
  {
   "cell_type": "code",
   "execution_count": null,
   "id": "17dd53e9",
   "metadata": {},
   "outputs": [],
   "source": []
  },
  {
   "cell_type": "code",
   "execution_count": null,
   "id": "470aa0b5",
   "metadata": {},
   "outputs": [],
   "source": []
  },
  {
   "cell_type": "code",
   "execution_count": null,
   "id": "8222113c",
   "metadata": {},
   "outputs": [],
   "source": []
  },
  {
   "cell_type": "code",
   "execution_count": null,
   "id": "b51e1675",
   "metadata": {},
   "outputs": [],
   "source": []
  },
  {
   "cell_type": "code",
   "execution_count": null,
   "id": "60c51c6b",
   "metadata": {},
   "outputs": [],
   "source": []
  },
  {
   "cell_type": "code",
   "execution_count": null,
   "id": "e1801740",
   "metadata": {},
   "outputs": [],
   "source": []
  }
 ],
 "metadata": {
  "kernelspec": {
   "display_name": "Python 3 (ipykernel)",
   "language": "python",
   "name": "python3"
  },
  "language_info": {
   "codemirror_mode": {
    "name": "ipython",
    "version": 3
   },
   "file_extension": ".py",
   "mimetype": "text/x-python",
   "name": "python",
   "nbconvert_exporter": "python",
   "pygments_lexer": "ipython3",
   "version": "3.9.12"
  }
 },
 "nbformat": 4,
 "nbformat_minor": 5
}
