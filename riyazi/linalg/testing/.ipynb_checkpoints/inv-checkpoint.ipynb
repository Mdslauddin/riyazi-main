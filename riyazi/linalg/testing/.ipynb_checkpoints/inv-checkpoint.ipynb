{
 "cells": [
  {
   "cell_type": "code",
   "execution_count": 1,
   "id": "2ec31301",
   "metadata": {},
   "outputs": [],
   "source": [
    "def print_matrix(Title, M):\n",
    "    print(Title)\n",
    "    for row in M:\n",
    "        print([round(x,3)+0 for x in row])\n",
    "        \n",
    "def print_matrices(Action, Title1, M1, Title2, M2):\n",
    "    print(Action)\n",
    "    print(Title1, '\\t'*int(len(M1)/2)+\"\\t\"*len(M1), Title2)\n",
    "    for i in range(len(M1)):\n",
    "        row1 = ['{0:+7.3f}'.format(x) for x in M1[i]]\n",
    "        row2 = ['{0:+7.3f}'.format(x) for x in M2[i]]\n",
    "        print(row1,'\\t', row2)\n",
    "        \n",
    "def zeros_matrix(rows, cols):\n",
    "    A = []\n",
    "    for i in range(rows):\n",
    "        A.append([])\n",
    "        for j in range(cols):\n",
    "            A[-1].append(0.0)\n",
    "\n",
    "    return A\n",
    "\n",
    "def copy_matrix(M):\n",
    "    rows = len(M)\n",
    "    cols = len(M[0])\n",
    "\n",
    "    MC = zeros_matrix(rows, cols)\n",
    "\n",
    "    for i in range(rows):\n",
    "        for j in range(rows):\n",
    "            MC[i][j] = M[i][j]\n",
    "\n",
    "    return MC\n",
    "\n",
    "def matrix_multiply(A,B):\n",
    "    rowsA = len(A)\n",
    "    colsA = len(A[0])\n",
    "\n",
    "    rowsB = len(B)\n",
    "    colsB = len(B[0])\n",
    "\n",
    "    if colsA != rowsB:\n",
    "        print('Number of A columns must equal number of B rows.')\n",
    "        sys.exit()\n",
    "\n",
    "    C = zeros_matrix(rowsA, colsB)\n",
    "\n",
    "    for i in range(rowsA):\n",
    "        for j in range(colsB):\n",
    "            total = 0\n",
    "            for ii in range(colsA):\n",
    "                total += A[i][ii] * B[ii][j]\n",
    "            C[i][j] = total\n",
    "\n",
    "    return C"
   ]
  },
  {
   "cell_type": "code",
   "execution_count": 2,
   "id": "348bb87e",
   "metadata": {},
   "outputs": [
    {
     "name": "stdout",
     "output_type": "stream",
     "text": [
      "A Matrix\n",
      "[5, 4, 3, 2, 1]\n",
      "[4, 3, 2, 1, 5]\n",
      "[3, 2, 9, 5, 4]\n",
      "[2, 1, 5, 4, 3]\n",
      "[1, 2, 3, 4, 5]\n",
      "\n",
      "I Matrix\n",
      "[1, 0, 0, 0, 0]\n",
      "[0, 1, 0, 0, 0]\n",
      "[0, 0, 1, 0, 0]\n",
      "[0, 0, 0, 1, 0]\n",
      "[0, 0, 0, 0, 1]\n"
     ]
    }
   ],
   "source": [
    "A = [[5,4,3,2,1],[4,3,2,1,5],[3,2,9,5,4],[2,1,5,4,3],[1,2,3,4,5]]\n",
    "I = [[1,0,0,0,0],[0,1,0,0,0],[0,0,1,0,0],[0,0,0,1,0],[0,0,0,0,1]]\n",
    "print_matrix('A Matrix', A)\n",
    "print()\n",
    "print_matrix('I Matrix', I)"
   ]
  },
  {
   "cell_type": "code",
   "execution_count": 3,
   "id": "4930c743",
   "metadata": {},
   "outputs": [
    {
     "name": "stdout",
     "output_type": "stream",
     "text": [
      "\n",
      "Since the matrices won't be the original A and I as we start row operations, \n",
      "    the matrices will be called: AM for \"A Morphing\", and IM for \"I Morphing\" \n",
      "\n",
      "AM Matrix\n",
      "[5, 4, 3, 2, 1]\n",
      "[4, 3, 2, 1, 5]\n",
      "[3, 2, 9, 5, 4]\n",
      "[2, 1, 5, 4, 3]\n",
      "[1, 2, 3, 4, 5]\n",
      "\n",
      "IM Matrix\n",
      "[1, 0, 0, 0, 0]\n",
      "[0, 1, 0, 0, 0]\n",
      "[0, 0, 1, 0, 0]\n",
      "[0, 0, 0, 1, 0]\n",
      "[0, 0, 0, 0, 1]\n"
     ]
    }
   ],
   "source": [
    "AM = copy_matrix(A)\n",
    "IM = copy_matrix(I)\n",
    "n = len(AM)\n",
    "\n",
    "exString = \"\"\"\n",
    "Since the matrices won't be the original A and I as we start row operations, \n",
    "    the matrices will be called: AM for \"A Morphing\", and IM for \"I Morphing\" \n",
    "\"\"\"\n",
    "print(exString)\n",
    "print_matrix('AM Matrix', AM)\n",
    "print()\n",
    "print_matrix('IM Matrix', IM)"
   ]
  },
  {
   "cell_type": "code",
   "execution_count": 4,
   "id": "13a57ba4",
   "metadata": {},
   "outputs": [
    {
     "name": "stdout",
     "output_type": "stream",
     "text": [
      "AM Matrix\n",
      "[1.0, 0.8, 0.6, 0.4, 0.2]\n",
      "[4, 3, 2, 1, 5]\n",
      "[3, 2, 9, 5, 4]\n",
      "[2, 1, 5, 4, 3]\n",
      "[1, 2, 3, 4, 5]\n",
      "\n",
      "IM Matrix\n",
      "[0.2, 0.0, 0.0, 0.0, 0.0]\n",
      "[0, 1, 0, 0, 0]\n",
      "[0, 0, 1, 0, 0]\n",
      "[0, 0, 0, 1, 0]\n",
      "[0, 0, 0, 0, 1]\n"
     ]
    }
   ],
   "source": [
    "# Run this cell then the next cell for fd = 0\n",
    "# Then run for the remaining columns using cell 6\n",
    "# Then check for identity matrix in cell 7.\n",
    "\n",
    "fd = 0 # fd stands for focus diagonal OR the current diagonal\n",
    "fdScaler = 1. / AM[fd][fd]\n",
    "\n",
    "for j in range(n): # using j to indicate cycling thru columns\n",
    "    AM[fd][j] = fdScaler * AM[fd][j]\n",
    "    IM[fd][j] = fdScaler * IM[fd][j]\n",
    "\n",
    "print_matrix('AM Matrix', AM)\n",
    "print()\n",
    "print_matrix('IM Matrix', IM)"
   ]
  },
  {
   "cell_type": "code",
   "execution_count": 8,
   "id": "d0945fdd",
   "metadata": {},
   "outputs": [],
   "source": [
    "def invert_matrix(A, tol=None):\n",
    "    \"\"\"\n",
    "    Returns the inverse of the passed in matrix.\n",
    "        :param A: The matrix to be inversed\n",
    " \n",
    "        :return: The inverse of the matrix A\n",
    "    \"\"\"\n",
    "    # Section 1: Make sure A can be inverted.\n",
    "   # check_squareness(A)\n",
    "   # check_non_singular(A)\n",
    " \n",
    "    # Section 2: Make copies of A & I, AM & IM, to use for row ops\n",
    "    n = len(A)\n",
    "    AM = copy_matrix(A)\n",
    "    I = identity_matrix(n)\n",
    "    IM = copy_matrix(I)\n",
    " \n",
    "    # Section 3: Perform row operations\n",
    "    indices = list(range(n)) # to allow flexible row referencing ***\n",
    "    for fd in range(n): # fd stands for focus diagonal\n",
    "        fdScaler = 1.0 / AM[fd][fd]\n",
    "        # FIRST: scale fd row with fd inverse. \n",
    "        for j in range(n): # Use j to indicate column looping.\n",
    "            AM[fd][j] *= fdScaler\n",
    "            IM[fd][j] *= fdScaler\n",
    "        # SECOND: operate on all rows except fd row as follows:\n",
    "        for i in indices[0:fd] + indices[fd+1:]: \n",
    "            # *** skip row with fd in it.\n",
    "            crScaler = AM[i][fd] # cr stands for \"current row\".\n",
    "            for j in range(n): \n",
    "                # cr - crScaler * fdRow, but one element at a time.\n",
    "                AM[i][j] = AM[i][j] - crScaler * AM[fd][j]\n",
    "                IM[i][j] = IM[i][j] - crScaler * IM[fd][j]\n",
    " \n",
    "    # Section 4: Make sure IM is an inverse of A with specified tolerance\n",
    "    if check_matrix_equality(I,matrix_multiply(A,IM),tol):\n",
    "        return IM\n",
    "    else:\n",
    "        raise ArithmeticError(\"Matrix inverse out of tolerance.\")"
   ]
  },
  {
   "cell_type": "code",
   "execution_count": 9,
   "id": "3463ca6a",
   "metadata": {},
   "outputs": [
    {
     "name": "stdout",
     "output_type": "stream",
     "text": [
      "[[5. 3. 1.]\n",
      " [3. 9. 4.]\n",
      " [1. 3. 5.]] \n",
      "\n"
     ]
    },
    {
     "ename": "NameError",
     "evalue": "name 'identity_matrix' is not defined",
     "output_type": "error",
     "traceback": [
      "\u001b[1;31m---------------------------------------------------------------------------\u001b[0m",
      "\u001b[1;31mNameError\u001b[0m                                 Traceback (most recent call last)",
      "Input \u001b[1;32mIn [9]\u001b[0m, in \u001b[0;36m<cell line: 4>\u001b[1;34m()\u001b[0m\n\u001b[0;32m      1\u001b[0m a \u001b[38;5;241m=\u001b[39m np\u001b[38;5;241m.\u001b[39marray([[\u001b[38;5;241m5.\u001b[39m, \u001b[38;5;241m3.\u001b[39m, \u001b[38;5;241m1.\u001b[39m], [\u001b[38;5;241m3.\u001b[39m, \u001b[38;5;241m9.\u001b[39m, \u001b[38;5;241m4.\u001b[39m], [\u001b[38;5;241m1.\u001b[39m, \u001b[38;5;241m3.\u001b[39m, \u001b[38;5;241m5.\u001b[39m]])\n\u001b[0;32m      2\u001b[0m \u001b[38;5;28mprint\u001b[39m(a, \u001b[38;5;124m'\u001b[39m\u001b[38;5;130;01m\\n\u001b[39;00m\u001b[38;5;124m'\u001b[39m)\n\u001b[1;32m----> 4\u001b[0m ainv \u001b[38;5;241m=\u001b[39m \u001b[43minvert_matrix\u001b[49m\u001b[43m(\u001b[49m\u001b[43ma\u001b[49m\u001b[43m)\u001b[49m\n\u001b[0;32m      5\u001b[0m ainv \u001b[38;5;241m=\u001b[39m ainv\u001b[38;5;241m.\u001b[39mround(\u001b[38;5;241m3\u001b[39m)\n\u001b[0;32m      7\u001b[0m \u001b[38;5;28mprint\u001b[39m(ainv)\n",
      "Input \u001b[1;32mIn [8]\u001b[0m, in \u001b[0;36minvert_matrix\u001b[1;34m(A, tol)\u001b[0m\n\u001b[0;32m     13\u001b[0m n \u001b[38;5;241m=\u001b[39m \u001b[38;5;28mlen\u001b[39m(A)\n\u001b[0;32m     14\u001b[0m AM \u001b[38;5;241m=\u001b[39m copy_matrix(A)\n\u001b[1;32m---> 15\u001b[0m I \u001b[38;5;241m=\u001b[39m \u001b[43midentity_matrix\u001b[49m(n)\n\u001b[0;32m     16\u001b[0m IM \u001b[38;5;241m=\u001b[39m copy_matrix(I)\n\u001b[0;32m     18\u001b[0m \u001b[38;5;66;03m# Section 3: Perform row operations\u001b[39;00m\n",
      "\u001b[1;31mNameError\u001b[0m: name 'identity_matrix' is not defined"
     ]
    }
   ],
   "source": [
    "a = np.array([[5., 3., 1.], [3., 9., 4.], [1., 3., 5.]])\n",
    "print(a, '\\n')\n",
    "\n",
    "ainv = invert_matrix(a)\n",
    "ainv = ainv.round(3)\n",
    " \n",
    "print(ainv)"
   ]
  },
  {
   "cell_type": "code",
   "execution_count": 6,
   "id": "a59e672d",
   "metadata": {},
   "outputs": [
    {
     "name": "stdout",
     "output_type": "stream",
     "text": [
      "[[5. 3. 1.]\n",
      " [3. 9. 4.]\n",
      " [1. 3. 5.]] \n",
      "\n",
      "[[ 0.25  -0.091  0.023]\n",
      " [-0.083  0.182 -0.129]\n",
      " [ 0.    -0.091  0.273]]\n"
     ]
    }
   ],
   "source": [
    "import numpy as np\n",
    "from numpy.linalg import inv\n",
    " \n",
    "a = np.array([[5., 3., 1.], [3., 9., 4.], [1., 3., 5.]])\n",
    "print(a, '\\n')\n",
    " \n",
    "ainv = inv(a)\n",
    "ainv = ainv.round(3)\n",
    " \n",
    "print(ainv)"
   ]
  },
  {
   "cell_type": "code",
   "execution_count": 10,
   "id": "aa0c595c",
   "metadata": {},
   "outputs": [],
   "source": [
    "def getMatrixMinor(m,i,j):\n",
    "    return [row[:j] + row[j+1:] for row in (m[:i]+m[i+1:])]\n",
    "\n",
    "def getMatrixDeternminant(m):\n",
    "    #base case for 2x2 matrix\n",
    "    if len(m) == 2:\n",
    "        return m[0][0]*m[1][1]-m[0][1]*m[1][0]\n",
    "\n",
    "    determinant = 0\n",
    "    for c in range(len(m)):\n",
    "        determinant += ((-1)**c)*m[0][c]*getMatrixDeternminant(getMatrixMinor(m,0,c))\n",
    "    return determinant\n",
    "\n",
    "def getMatrixInverse(m):\n",
    "    determinant = getMatrixDeternminant(m)\n",
    "    #special case for 2x2 matrix:\n",
    "    if len(m) == 2:\n",
    "        return [[m[1][1]/determinant, -1*m[0][1]/determinant],\n",
    "                [-1*m[1][0]/determinant, m[0][0]/determinant]]\n",
    "\n",
    "    #find matrix of cofactors\n",
    "    cofactors = []\n",
    "    for r in range(len(m)):\n",
    "        cofactorRow = []\n",
    "        for c in range(len(m)):\n",
    "            minor = getMatrixMinor(m,r,c)\n",
    "            cofactorRow.append(((-1)**(r+c)) * getMatrixDeternminant(minor))\n",
    "        cofactors.append(cofactorRow)\n",
    "    cofactors = transposeMatrix(cofactors)\n",
    "    for r in range(len(cofactors)):\n",
    "        for c in range(len(cofactors)):\n",
    "            cofactors[r][c] = cofactors[r][c]/determinant\n",
    "    return cofactors"
   ]
  },
  {
   "cell_type": "code",
   "execution_count": 11,
   "id": "2eba82bd",
   "metadata": {},
   "outputs": [
    {
     "ename": "ValueError",
     "evalue": "operands could not be broadcast together with shapes (0,3) (2,3) ",
     "output_type": "error",
     "traceback": [
      "\u001b[1;31m---------------------------------------------------------------------------\u001b[0m",
      "\u001b[1;31mValueError\u001b[0m                                Traceback (most recent call last)",
      "Input \u001b[1;32mIn [11]\u001b[0m, in \u001b[0;36m<cell line: 1>\u001b[1;34m()\u001b[0m\n\u001b[1;32m----> 1\u001b[0m \u001b[43mgetMatrixInverse\u001b[49m\u001b[43m(\u001b[49m\u001b[43ma\u001b[49m\u001b[43m)\u001b[49m\n",
      "Input \u001b[1;32mIn [10]\u001b[0m, in \u001b[0;36mgetMatrixInverse\u001b[1;34m(m)\u001b[0m\n\u001b[0;32m     14\u001b[0m \u001b[38;5;28;01mdef\u001b[39;00m \u001b[38;5;21mgetMatrixInverse\u001b[39m(m):\n\u001b[1;32m---> 15\u001b[0m     determinant \u001b[38;5;241m=\u001b[39m \u001b[43mgetMatrixDeternminant\u001b[49m\u001b[43m(\u001b[49m\u001b[43mm\u001b[49m\u001b[43m)\u001b[49m\n\u001b[0;32m     16\u001b[0m     \u001b[38;5;66;03m#special case for 2x2 matrix:\u001b[39;00m\n\u001b[0;32m     17\u001b[0m     \u001b[38;5;28;01mif\u001b[39;00m \u001b[38;5;28mlen\u001b[39m(m) \u001b[38;5;241m==\u001b[39m \u001b[38;5;241m2\u001b[39m:\n",
      "Input \u001b[1;32mIn [10]\u001b[0m, in \u001b[0;36mgetMatrixDeternminant\u001b[1;34m(m)\u001b[0m\n\u001b[0;32m      9\u001b[0m determinant \u001b[38;5;241m=\u001b[39m \u001b[38;5;241m0\u001b[39m\n\u001b[0;32m     10\u001b[0m \u001b[38;5;28;01mfor\u001b[39;00m c \u001b[38;5;129;01min\u001b[39;00m \u001b[38;5;28mrange\u001b[39m(\u001b[38;5;28mlen\u001b[39m(m)):\n\u001b[1;32m---> 11\u001b[0m     determinant \u001b[38;5;241m+\u001b[39m\u001b[38;5;241m=\u001b[39m ((\u001b[38;5;241m-\u001b[39m\u001b[38;5;241m1\u001b[39m)\u001b[38;5;241m*\u001b[39m\u001b[38;5;241m*\u001b[39mc)\u001b[38;5;241m*\u001b[39mm[\u001b[38;5;241m0\u001b[39m][c]\u001b[38;5;241m*\u001b[39mgetMatrixDeternminant(\u001b[43mgetMatrixMinor\u001b[49m\u001b[43m(\u001b[49m\u001b[43mm\u001b[49m\u001b[43m,\u001b[49m\u001b[38;5;241;43m0\u001b[39;49m\u001b[43m,\u001b[49m\u001b[43mc\u001b[49m\u001b[43m)\u001b[49m)\n\u001b[0;32m     12\u001b[0m \u001b[38;5;28;01mreturn\u001b[39;00m determinant\n",
      "Input \u001b[1;32mIn [10]\u001b[0m, in \u001b[0;36mgetMatrixMinor\u001b[1;34m(m, i, j)\u001b[0m\n\u001b[0;32m      1\u001b[0m \u001b[38;5;28;01mdef\u001b[39;00m \u001b[38;5;21mgetMatrixMinor\u001b[39m(m,i,j):\n\u001b[1;32m----> 2\u001b[0m     \u001b[38;5;28;01mreturn\u001b[39;00m [row[:j] \u001b[38;5;241m+\u001b[39m row[j\u001b[38;5;241m+\u001b[39m\u001b[38;5;241m1\u001b[39m:] \u001b[38;5;28;01mfor\u001b[39;00m row \u001b[38;5;129;01min\u001b[39;00m (\u001b[43mm\u001b[49m\u001b[43m[\u001b[49m\u001b[43m:\u001b[49m\u001b[43mi\u001b[49m\u001b[43m]\u001b[49m\u001b[38;5;241;43m+\u001b[39;49m\u001b[43mm\u001b[49m\u001b[43m[\u001b[49m\u001b[43mi\u001b[49m\u001b[38;5;241;43m+\u001b[39;49m\u001b[38;5;241;43m1\u001b[39;49m\u001b[43m:\u001b[49m\u001b[43m]\u001b[49m)]\n",
      "\u001b[1;31mValueError\u001b[0m: operands could not be broadcast together with shapes (0,3) (2,3) "
     ]
    }
   ],
   "source": [
    "getMatrixInverse(a)"
   ]
  },
  {
   "cell_type": "code",
   "execution_count": 2,
   "id": "c18f193a",
   "metadata": {},
   "outputs": [],
   "source": [
    "# https://www.delftstack.com/howto/python/\n",
    "def inverse_matrix(m):\n",
    "    determinant = return_determinant(m)\n",
    "    if len(m) == 2:\n",
    "        return [[m[1][1]/determinant, -1*m[0][1]/determinant],\n",
    "                [-1*m[1][0]/determinant, m[0][0]/determinant]]\n",
    "\n",
    "    cfs = []\n",
    "    for r in range(len(m)):\n",
    "        cfRow = []\n",
    "        for c in range(len(m)):\n",
    "            minor = return_matrix_minor(m,r,c)\n",
    "            cfRow.append(((-1)**(r+c)) * return_determinant(minor))\n",
    "        cfs.append(cfRow)\n",
    "    cfs = return_transpose(cfs)\n",
    "    for r in range(len(cfs)):\n",
    "        for c in range(len(cfs)):\n",
    "            cfs[r][c] = cfs[r][c]/determinant\n",
    "    return cfs"
   ]
  },
  {
   "cell_type": "code",
   "execution_count": null,
   "id": "75afd262",
   "metadata": {},
   "outputs": [],
   "source": []
  }
 ],
 "metadata": {
  "kernelspec": {
   "display_name": "Python 3 (ipykernel)",
   "language": "python",
   "name": "python3"
  },
  "language_info": {
   "codemirror_mode": {
    "name": "ipython",
    "version": 3
   },
   "file_extension": ".py",
   "mimetype": "text/x-python",
   "name": "python",
   "nbconvert_exporter": "python",
   "pygments_lexer": "ipython3",
   "version": "3.9.12"
  }
 },
 "nbformat": 4,
 "nbformat_minor": 5
}
