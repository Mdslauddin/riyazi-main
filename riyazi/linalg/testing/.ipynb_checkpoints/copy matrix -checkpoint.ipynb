{
 "cells": [
  {
   "cell_type": "code",
   "execution_count": 1,
   "id": "54954f9a",
   "metadata": {},
   "outputs": [],
   "source": [
    "# https://integratedmlai.com/matrixinverse/\n",
    "def copy_matrix(M):\n",
    "    rows = len(M)\n",
    "    cols = len(M[0])\n",
    "\n",
    "    MC = zeros_matrix(rows, cols)\n",
    "\n",
    "    for i in range(rows):\n",
    "        for j in range(rows):\n",
    "            MC[i][j] = M[i][j]\n",
    "\n",
    "    return MC"
   ]
  },
  {
   "cell_type": "code",
   "execution_count": null,
   "id": "f6deb521",
   "metadata": {},
   "outputs": [],
   "source": []
  }
 ],
 "metadata": {
  "kernelspec": {
   "display_name": "Python 3 (ipykernel)",
   "language": "python",
   "name": "python3"
  },
  "language_info": {
   "codemirror_mode": {
    "name": "ipython",
    "version": 3
   },
   "file_extension": ".py",
   "mimetype": "text/x-python",
   "name": "python",
   "nbconvert_exporter": "python",
   "pygments_lexer": "ipython3",
   "version": "3.9.12"
  }
 },
 "nbformat": 4,
 "nbformat_minor": 5
}
