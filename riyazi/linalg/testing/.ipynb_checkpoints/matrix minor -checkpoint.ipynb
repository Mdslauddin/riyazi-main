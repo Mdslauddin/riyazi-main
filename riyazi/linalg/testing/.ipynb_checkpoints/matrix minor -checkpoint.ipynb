{
 "cells": [
  {
   "cell_type": "code",
   "execution_count": 2,
   "id": "21baf6c1",
   "metadata": {},
   "outputs": [],
   "source": [
    "# https://www.delftstack.com/howto/python/\n",
    "def return_matrix_minor(mat,i,j):\n",
    "    return [row[:j] + row[j+1:] for row in (mat[:i]+mat[i+1:])]"
   ]
  },
  {
   "cell_type": "code",
   "execution_count": null,
   "id": "d79d12e9",
   "metadata": {},
   "outputs": [],
   "source": []
  }
 ],
 "metadata": {
  "kernelspec": {
   "display_name": "Python 3 (ipykernel)",
   "language": "python",
   "name": "python3"
  },
  "language_info": {
   "codemirror_mode": {
    "name": "ipython",
    "version": 3
   },
   "file_extension": ".py",
   "mimetype": "text/x-python",
   "name": "python",
   "nbconvert_exporter": "python",
   "pygments_lexer": "ipython3",
   "version": "3.9.12"
  }
 },
 "nbformat": 4,
 "nbformat_minor": 5
}
