{
 "cells": [
  {
   "cell_type": "code",
   "execution_count": 1,
   "id": "1999e3d1",
   "metadata": {},
   "outputs": [
    {
     "name": "stdout",
     "output_type": "stream",
     "text": [
      "[ 2.20833333 -2.58333333 -0.18333333]\n"
     ]
    }
   ],
   "source": [
    "import numpy as np\n",
    "\n",
    "A = np.array([[4, 3, -5], \n",
    "              [-2, -4, 5], \n",
    "              [8, 8, 0]])\n",
    "y = np.array([2, 5, -3])\n",
    "\n",
    "x = np.linalg.solve(A, y)\n",
    "print(x)"
   ]
  },
  {
   "cell_type": "code",
   "execution_count": 10,
   "id": "e948437e",
   "metadata": {},
   "outputs": [
    {
     "name": "stdout",
     "output_type": "stream",
     "text": [
      "[ 5.  3. -2.]\n"
     ]
    }
   ],
   "source": [
    "A = np.array([[4, 3, 2], [-2, 2, 3], [3, -5, 2]])\n",
    "B = np.array([25, -10, -4])\n",
    "X = np.linalg.inv(A).dot(B)\n",
    "\n",
    "print(X)"
   ]
  },
  {
   "cell_type": "code",
   "execution_count": 11,
   "id": "3acbe009",
   "metadata": {},
   "outputs": [
    {
     "data": {
      "text/plain": [
       "array([-0.46341463,  0.68292683,  0.90243902])"
      ]
     },
     "execution_count": 11,
     "metadata": {},
     "output_type": "execute_result"
    }
   ],
   "source": [
    "np.linalg.inv(A).dot(y)"
   ]
  },
  {
   "cell_type": "code",
   "execution_count": 12,
   "id": "e46dd958",
   "metadata": {},
   "outputs": [],
   "source": [
    "from numpy.linalg import *\n",
    "\n",
    "def solve(a,b):\n",
    "    x = inv(a).dot(b)\n",
    "    return x "
   ]
  },
  {
   "cell_type": "code",
   "execution_count": 13,
   "id": "bd8403f1",
   "metadata": {},
   "outputs": [
    {
     "data": {
      "text/plain": [
       "array([ 5.,  3., -2.])"
      ]
     },
     "execution_count": 13,
     "metadata": {},
     "output_type": "execute_result"
    }
   ],
   "source": [
    "solve(A,B)"
   ]
  },
  {
   "cell_type": "code",
   "execution_count": null,
   "id": "67cc5db7",
   "metadata": {},
   "outputs": [],
   "source": []
  },
  {
   "cell_type": "markdown",
   "id": "ee1e85a5",
   "metadata": {},
   "source": [
    "https://pythonnumericalmethods.berkeley.edu/notebooks/chapter14.05-Solve-Systems-of-Linear-Equations-in-Python.html"
   ]
  },
  {
   "cell_type": "code",
   "execution_count": null,
   "id": "efbbee32",
   "metadata": {},
   "outputs": [],
   "source": [
    "import functools\n",
    "import operator\n",
    "import warnings"
   ]
  },
  {
   "cell_type": "code",
   "execution_count": null,
   "id": "dc031924",
   "metadata": {},
   "outputs": [],
   "source": [
    "def _solve_dispatcher(a, b):\n",
    "    return (a, b)"
   ]
  },
  {
   "cell_type": "code",
   "execution_count": null,
   "id": "cafe9347",
   "metadata": {},
   "outputs": [],
   "source": [
    "array_function_dispatch = functools.partial(\n",
    "    overrides.array_function_dispatch, module='numpy.linalg')"
   ]
  },
  {
   "cell_type": "code",
   "execution_count": null,
   "id": "b1cfabdf",
   "metadata": {},
   "outputs": [],
   "source": [
    "@array_function_dispatch(_solve_dispatcher)\n",
    "def solve(a, b):\n",
    "    \"\"\"\n",
    "    Solve a linear matrix equation, or system of linear scalar equations.\n",
    "    Computes the \"exact\" solution, `x`, of the well-determined, i.e., full\n",
    "    rank, linear matrix equation `ax = b`.\n",
    "    Parameters\n",
    "    ----------\n",
    "    a : (..., M, M) array_like\n",
    "        Coefficient matrix.\n",
    "    b : {(..., M,), (..., M, K)}, array_like\n",
    "        Ordinate or \"dependent variable\" values.\n",
    "    Returns\n",
    "    -------\n",
    "    x : {(..., M,), (..., M, K)} ndarray\n",
    "        Solution to the system a x = b.  Returned shape is identical to `b`.\n",
    "    Raises\n",
    "    ------\n",
    "    LinAlgError\n",
    "        If `a` is singular or not square.\n",
    "    See Also\n",
    "    --------\n",
    "    scipy.linalg.solve : Similar function in SciPy.\n",
    "    Notes\n",
    "    -----\n",
    "    .. versionadded:: 1.8.0\n",
    "    Broadcasting rules apply, see the `numpy.linalg` documentation for\n",
    "    details.\n",
    "    The solutions are computed using LAPACK routine ``_gesv``.\n",
    "    `a` must be square and of full-rank, i.e., all rows (or, equivalently,\n",
    "    columns) must be linearly independent; if either is not true, use\n",
    "    `lstsq` for the least-squares best \"solution\" of the\n",
    "    system/equation.\n",
    "    References\n",
    "    ----------\n",
    "    .. [1] G. Strang, *Linear Algebra and Its Applications*, 2nd Ed., Orlando,\n",
    "           FL, Academic Press, Inc., 1980, pg. 22.\n",
    "    Examples\n",
    "    --------\n",
    "    Solve the system of equations ``x0 + 2 * x1 = 1`` and ``3 * x0 + 5 * x1 = 2``:\n",
    "    >>> a = np.array([[1, 2], [3, 5]])\n",
    "    >>> b = np.array([1, 2])\n",
    "    >>> x = np.linalg.solve(a, b)\n",
    "    >>> x\n",
    "    array([-1.,  1.])\n",
    "    Check that the solution is correct:\n",
    "    >>> np.allclose(np.dot(a, x), b)\n",
    "    True\n",
    "    \"\"\"\n",
    "    a, _ = _makearray(a)\n",
    "    _assert_stacked_2d(a)\n",
    "    _assert_stacked_square(a)\n",
    "    b, wrap = _makearray(b)\n",
    "    t, result_t = _commonType(a, b)\n",
    "\n",
    "    # We use the b = (..., M,) logic, only if the number of extra dimensions\n",
    "    # match exactly\n",
    "    if b.ndim == a.ndim - 1:\n",
    "        gufunc = _umath_linalg.solve1\n",
    "    else:\n",
    "        gufunc = _umath_linalg.solve\n",
    "\n",
    "    signature = 'DD->D' if isComplexType(t) else 'dd->d'\n",
    "    extobj = get_linalg_error_extobj(_raise_linalgerror_singular)\n",
    "    r = gufunc(a, b, signature=signature, extobj=extobj)\n",
    "\n",
    "    return wrap(r.astype(result_t, copy=False))"
   ]
  },
  {
   "cell_type": "code",
   "execution_count": null,
   "id": "456d7ed4",
   "metadata": {},
   "outputs": [],
   "source": []
  }
 ],
 "metadata": {
  "kernelspec": {
   "display_name": "Python 3 (ipykernel)",
   "language": "python",
   "name": "python3"
  },
  "language_info": {
   "codemirror_mode": {
    "name": "ipython",
    "version": 3
   },
   "file_extension": ".py",
   "mimetype": "text/x-python",
   "name": "python",
   "nbconvert_exporter": "python",
   "pygments_lexer": "ipython3",
   "version": "3.9.12"
  }
 },
 "nbformat": 4,
 "nbformat_minor": 5
}
