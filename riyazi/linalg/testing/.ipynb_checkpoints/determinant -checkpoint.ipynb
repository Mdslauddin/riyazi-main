{
 "cells": [
  {
   "cell_type": "code",
   "execution_count": 2,
   "id": "0d91ddc9",
   "metadata": {},
   "outputs": [],
   "source": [
    "#https://www.delftstack.com/howto/python/\n",
    "def return_determinant(mat):\n",
    "    if len(mat) == 2:\n",
    "        return mat[0][0]*mat[1][1]-mat[0][1]*mat[1][0]\n",
    "\n",
    "    determinant = 0\n",
    "    for c in range(len(m)):\n",
    "        determinant += ((-1)**c)*m[0][c]*return_determinant(return_matrix_minor(m,0,c))\n",
    "    return determinant"
   ]
  },
  {
   "cell_type": "code",
   "execution_count": 10,
   "id": "587d1cda",
   "metadata": {
    "scrolled": true
   },
   "outputs": [
    {
     "ename": "SyntaxError",
     "evalue": "invalid syntax (3186869251.py, line 1)",
     "output_type": "error",
     "traceback": [
      "\u001b[1;36m  Input \u001b[1;32mIn [10]\u001b[1;36m\u001b[0m\n\u001b[1;33m    if det(A) != 0\u001b[0m\n\u001b[1;37m                  ^\u001b[0m\n\u001b[1;31mSyntaxError\u001b[0m\u001b[1;31m:\u001b[0m invalid syntax\n"
     ]
    }
   ],
   "source": [
    "if det(A) != 0\n",
    "    A-1 = adj(A)/det(A)\n",
    "else \"Inverse doesn't exist\" "
   ]
  },
  {
   "cell_type": "code",
   "execution_count": null,
   "id": "ee7daa39",
   "metadata": {},
   "outputs": [],
   "source": []
  }
 ],
 "metadata": {
  "kernelspec": {
   "display_name": "Python 3 (ipykernel)",
   "language": "python",
   "name": "python3"
  },
  "language_info": {
   "codemirror_mode": {
    "name": "ipython",
    "version": 3
   },
   "file_extension": ".py",
   "mimetype": "text/x-python",
   "name": "python",
   "nbconvert_exporter": "python",
   "pygments_lexer": "ipython3",
   "version": "3.9.12"
  }
 },
 "nbformat": 4,
 "nbformat_minor": 5
}
