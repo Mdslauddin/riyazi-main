{
 "cells": [
  {
   "cell_type": "code",
   "execution_count": 1,
   "id": "fe211022",
   "metadata": {},
   "outputs": [],
   "source": [
    "import numpy as np"
   ]
  },
  {
   "cell_type": "code",
   "execution_count": 2,
   "id": "88d98529",
   "metadata": {},
   "outputs": [
    {
     "data": {
      "text/plain": [
       "array([0.+1.j, 0.-1.j])"
      ]
     },
     "execution_count": 2,
     "metadata": {},
     "output_type": "execute_result"
    }
   ],
   "source": [
    "from scipy import linalg\n",
    "a = np.array([[0., -1.], [1., 0.]])\n",
    "linalg.eigvals(a)"
   ]
  },
  {
   "cell_type": "code",
   "execution_count": 3,
   "id": "322cf3d6",
   "metadata": {},
   "outputs": [
    {
     "data": {
      "text/plain": [
       "array([ 1.+0.j, -1.+0.j])"
      ]
     },
     "execution_count": 3,
     "metadata": {},
     "output_type": "execute_result"
    }
   ],
   "source": [
    "b = np.array([[0., 1.], [1., 1.]])\n",
    "linalg.eigvals(a, b)"
   ]
  },
  {
   "cell_type": "code",
   "execution_count": 4,
   "id": "40a27d43",
   "metadata": {},
   "outputs": [
    {
     "data": {
      "text/plain": [
       "array([[3.+0.j, 8.+0.j, 7.+0.j],\n",
       "       [1.+0.j, 1.+0.j, 1.+0.j]])"
      ]
     },
     "execution_count": 4,
     "metadata": {},
     "output_type": "execute_result"
    }
   ],
   "source": [
    "a = np.array([[3., 0., 0.], [0., 8., 0.], [0., 0., 7.]])\n",
    "linalg.eigvals(a, homogeneous_eigvals=True)"
   ]
  },
  {
   "cell_type": "code",
   "execution_count": 5,
   "id": "9c6ce1a0",
   "metadata": {},
   "outputs": [
    {
     "data": {
      "text/plain": [
       "array([ True,  True])"
      ]
     },
     "execution_count": 5,
     "metadata": {},
     "output_type": "execute_result"
    }
   ],
   "source": [
    "a = np.array([[0., -1.], [1., 0.]])\n",
    "linalg.eigvals(a) == linalg.eig(a)[0]"
   ]
  },
  {
   "cell_type": "code",
   "execution_count": 6,
   "id": "ab493ba3",
   "metadata": {},
   "outputs": [
    {
     "data": {
      "text/plain": [
       "array([[-0.70710678+0.j        , -0.70710678-0.j        ],\n",
       "       [ 0.        +0.70710678j,  0.        -0.70710678j]])"
      ]
     },
     "execution_count": 6,
     "metadata": {},
     "output_type": "execute_result"
    }
   ],
   "source": [
    "linalg.eig(a, left=True, right=False)[1] # normalized left eigenvector"
   ]
  },
  {
   "cell_type": "code",
   "execution_count": 7,
   "id": "4028a234",
   "metadata": {},
   "outputs": [
    {
     "data": {
      "text/plain": [
       "array([[0.70710678+0.j        , 0.70710678-0.j        ],\n",
       "       [0.        -0.70710678j, 0.        +0.70710678j]])"
      ]
     },
     "execution_count": 7,
     "metadata": {},
     "output_type": "execute_result"
    }
   ],
   "source": [
    "linalg.eig(a, left=False, right=True)[1] # normalized right eigenvector"
   ]
  },
  {
   "cell_type": "code",
   "execution_count": 9,
   "id": "f13e8b6c",
   "metadata": {},
   "outputs": [
    {
     "name": "stdout",
     "output_type": "stream",
     "text": [
      "Printing the Original square array:\n",
      " [[1 2]\n",
      " [2 3]]\n",
      "Printing the Eigen values of the given square array:\n",
      " [-0.23606798  4.23606798]\n",
      "Printing Right eigenvectors of the given square array:\n",
      " [[-0.85065081 -0.52573111]\n",
      " [ 0.52573111 -0.85065081]]\n"
     ]
    }
   ],
   "source": [
    "# importing numpy library\n",
    "import numpy as np\n",
    "\n",
    "# create numpy 2d-array\n",
    "m = np.array([[1, 2],\n",
    "\t\t\t[2, 3]])\n",
    "\n",
    "print(\"Printing the Original square array:\\n\",\n",
    "\tm)\n",
    "\n",
    "# finding eigenvalues and eigenvectors\n",
    "w, v = np.linalg.eig(m)\n",
    "\n",
    "# printing eigen values\n",
    "print(\"Printing the Eigen values of the given square array:\\n\",\n",
    "\tw)\n",
    "\n",
    "# printing eigen vectors\n",
    "print(\"Printing Right eigenvectors of the given square array:\\n\"\n",
    "\t,v)\n"
   ]
  },
  {
   "cell_type": "code",
   "execution_count": null,
   "id": "1c83fe66",
   "metadata": {},
   "outputs": [],
   "source": []
  }
 ],
 "metadata": {
  "kernelspec": {
   "display_name": "Python 3 (ipykernel)",
   "language": "python",
   "name": "python3"
  },
  "language_info": {
   "codemirror_mode": {
    "name": "ipython",
    "version": 3
   },
   "file_extension": ".py",
   "mimetype": "text/x-python",
   "name": "python",
   "nbconvert_exporter": "python",
   "pygments_lexer": "ipython3",
   "version": "3.9.12"
  }
 },
 "nbformat": 4,
 "nbformat_minor": 5
}
