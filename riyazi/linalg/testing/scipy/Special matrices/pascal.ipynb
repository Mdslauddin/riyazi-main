{
 "cells": [
  {
   "cell_type": "code",
   "execution_count": 1,
   "id": "89525967",
   "metadata": {},
   "outputs": [
    {
     "name": "stdout",
     "output_type": "stream",
     "text": [
      "1 1 1 1 1 \n",
      "1 2 3 4 5 \n",
      "1 3 6 10 15 \n",
      "1 4 10 20 35 \n",
      "1 5 15 35 70 \n"
     ]
    }
   ],
   "source": [
    "# Python3 Program to print\n",
    "# symmetric pascal matrix.\n",
    "\n",
    "# Print Pascal Matrix\n",
    "def printpascalmatrix(n):\n",
    "\tC = [[0 for x in range(2 * n + 1)]\n",
    "\t\t\tfor y in range(2 * n + 1)]\n",
    "\t\t\t\n",
    "\t# Calculate value of\n",
    "\t# Binomial Coefficient\n",
    "\t# in bottom up manner\n",
    "\tfor i in range(2 * n + 1):\n",
    "\t\tfor j in range(min(i, 2 * n) + 1):\n",
    "\t\t\t\n",
    "\t\t\t# Base Cases\n",
    "\t\t\tif (j == 0 or j == i):\n",
    "\t\t\t\tC[i][j] = 1;\n",
    "\t\t\t\t\n",
    "\t\t\t# Calculate value\n",
    "\t\t\t# using previously\n",
    "\t\t\t# stored values\n",
    "\t\t\telse:\n",
    "\t\t\t\tC[i][j] = (C[i - 1][j - 1] +\n",
    "\t\t\t\t\t\tC[i - 1][j]);\n",
    "\t\n",
    "\t# Printing the\n",
    "\t# pascal matrix\n",
    "\tfor i in range(n):\n",
    "\t\tfor j in range(n):\n",
    "\t\t\tprint(C[i + j][i],\n",
    "\t\t\t\tend = \" \");\n",
    "\t\tprint();\n",
    "\t\n",
    "# Driver Code\n",
    "n = 5;\n",
    "printpascalmatrix(n);\n",
    "\n",
    "# This code is contributed by mits\n"
   ]
  },
  {
   "cell_type": "code",
   "execution_count": 2,
   "id": "f40df837",
   "metadata": {},
   "outputs": [
    {
     "data": {
      "text/plain": [
       "array([[ 1,  1,  1,  1],\n",
       "       [ 1,  2,  3,  4],\n",
       "       [ 1,  3,  6, 10],\n",
       "       [ 1,  4, 10, 20]], dtype=uint64)"
      ]
     },
     "execution_count": 2,
     "metadata": {},
     "output_type": "execute_result"
    }
   ],
   "source": [
    "from scipy.linalg import pascal\n",
    "pascal(4)"
   ]
  },
  {
   "cell_type": "code",
   "execution_count": 3,
   "id": "a27474fb",
   "metadata": {},
   "outputs": [
    {
     "data": {
      "text/plain": [
       "array([[1, 0, 0, 0],\n",
       "       [1, 1, 0, 0],\n",
       "       [1, 2, 1, 0],\n",
       "       [1, 3, 3, 1]], dtype=uint64)"
      ]
     },
     "execution_count": 3,
     "metadata": {},
     "output_type": "execute_result"
    }
   ],
   "source": [
    "pascal(4, kind='lower')"
   ]
  },
  {
   "cell_type": "code",
   "execution_count": 4,
   "id": "f7c97afe",
   "metadata": {},
   "outputs": [
    {
     "data": {
      "text/plain": [
       "25477612258980856902730428600"
      ]
     },
     "execution_count": 4,
     "metadata": {},
     "output_type": "execute_result"
    }
   ],
   "source": [
    "pascal(50)[-1, -1]"
   ]
  },
  {
   "cell_type": "code",
   "execution_count": 5,
   "id": "453dae26",
   "metadata": {},
   "outputs": [
    {
     "data": {
      "text/plain": [
       "25477612258980856902730428600"
      ]
     },
     "execution_count": 5,
     "metadata": {},
     "output_type": "execute_result"
    }
   ],
   "source": [
    "from scipy.special import comb\n",
    "comb(98, 49, exact=True)"
   ]
  },
  {
   "cell_type": "code",
   "execution_count": 6,
   "id": "f1c3e699",
   "metadata": {},
   "outputs": [
    {
     "name": "stdout",
     "output_type": "stream",
     "text": [
      "1 1 1 1 \n",
      "1 2 3 4 \n",
      "1 3 6 10 \n",
      "1 4 10 20 \n"
     ]
    }
   ],
   "source": [
    "printpascalmatrix(4)"
   ]
  },
  {
   "cell_type": "code",
   "execution_count": null,
   "id": "72672f47",
   "metadata": {},
   "outputs": [],
   "source": []
  }
 ],
 "metadata": {
  "kernelspec": {
   "display_name": "Python 3 (ipykernel)",
   "language": "python",
   "name": "python3"
  },
  "language_info": {
   "codemirror_mode": {
    "name": "ipython",
    "version": 3
   },
   "file_extension": ".py",
   "mimetype": "text/x-python",
   "name": "python",
   "nbconvert_exporter": "python",
   "pygments_lexer": "ipython3",
   "version": "3.9.12"
  }
 },
 "nbformat": 4,
 "nbformat_minor": 5
}
