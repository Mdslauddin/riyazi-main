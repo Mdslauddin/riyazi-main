{
 "cells": [
  {
   "cell_type": "code",
   "execution_count": 1,
   "id": "f58e743b",
   "metadata": {},
   "outputs": [
    {
     "data": {
      "text/plain": [
       "array([[ 4, -1,  0,  0,  0],\n",
       "       [-2,  4, -1,  0,  0],\n",
       "       [ 0, -2,  4, -1,  0],\n",
       "       [ 0,  0, -2,  4, -1],\n",
       "       [ 0,  0,  0, -2,  4]])"
      ]
     },
     "execution_count": 1,
     "metadata": {},
     "output_type": "execute_result"
    }
   ],
   "source": [
    "from scipy.linalg import convolution_matrix\n",
    "A = convolution_matrix([-1, 4, -2], 5, mode='same')\n",
    "A"
   ]
  },
  {
   "cell_type": "code",
   "execution_count": null,
   "id": "434efd86",
   "metadata": {},
   "outputs": [],
   "source": [
    "x = np.array([1, 2, 0, -3, 0.5])\n",
    "A @ x"
   ]
  },
  {
   "cell_type": "code",
   "execution_count": null,
   "id": "a2e96c8c",
   "metadata": {},
   "outputs": [],
   "source": [
    "np.convolve([-1, 4, -2], x, mode='same')"
   ]
  },
  {
   "cell_type": "code",
   "execution_count": null,
   "id": "1ea9abac",
   "metadata": {},
   "outputs": [],
   "source": [
    "convolution_matrix([-1, 4, -2], 5, mode='full')"
   ]
  },
  {
   "cell_type": "code",
   "execution_count": null,
   "id": "6b6f9b6c",
   "metadata": {},
   "outputs": [],
   "source": [
    "convolution_matrix([-1, 4, -2], 5, mode='valid')"
   ]
  }
 ],
 "metadata": {
  "kernelspec": {
   "display_name": "Python 3 (ipykernel)",
   "language": "python",
   "name": "python3"
  },
  "language_info": {
   "codemirror_mode": {
    "name": "ipython",
    "version": 3
   },
   "file_extension": ".py",
   "mimetype": "text/x-python",
   "name": "python",
   "nbconvert_exporter": "python",
   "pygments_lexer": "ipython3",
   "version": "3.9.12"
  }
 },
 "nbformat": 4,
 "nbformat_minor": 5
}
