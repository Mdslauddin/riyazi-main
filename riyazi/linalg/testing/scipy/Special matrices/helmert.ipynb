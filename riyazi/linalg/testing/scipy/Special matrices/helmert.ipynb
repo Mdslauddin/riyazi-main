{
 "cells": [
  {
   "cell_type": "code",
   "execution_count": 1,
   "id": "506f4df9",
   "metadata": {},
   "outputs": [
    {
     "data": {
      "text/plain": [
       "array([[ 0.4472136 ,  0.4472136 ,  0.4472136 ,  0.4472136 ,  0.4472136 ],\n",
       "       [ 0.70710678, -0.70710678,  0.        ,  0.        ,  0.        ],\n",
       "       [ 0.40824829,  0.40824829, -0.81649658,  0.        ,  0.        ],\n",
       "       [ 0.28867513,  0.28867513,  0.28867513, -0.8660254 ,  0.        ],\n",
       "       [ 0.2236068 ,  0.2236068 ,  0.2236068 ,  0.2236068 , -0.89442719]])"
      ]
     },
     "execution_count": 1,
     "metadata": {},
     "output_type": "execute_result"
    }
   ],
   "source": [
    "from scipy.linalg import helmert\n",
    "helmert(5, full=True)"
   ]
  },
  {
   "cell_type": "code",
   "execution_count": null,
   "id": "bd16b372",
   "metadata": {},
   "outputs": [],
   "source": []
  }
 ],
 "metadata": {
  "kernelspec": {
   "display_name": "Python 3 (ipykernel)",
   "language": "python",
   "name": "python3"
  },
  "language_info": {
   "codemirror_mode": {
    "name": "ipython",
    "version": 3
   },
   "file_extension": ".py",
   "mimetype": "text/x-python",
   "name": "python",
   "nbconvert_exporter": "python",
   "pygments_lexer": "ipython3",
   "version": "3.9.12"
  }
 },
 "nbformat": 4,
 "nbformat_minor": 5
}
