{
 "cells": [
  {
   "cell_type": "code",
   "execution_count": null,
   "id": "71ebd6a3",
   "metadata": {},
   "outputs": [],
   "source": [
    "import numpy as np"
   ]
  },
  {
   "cell_type": "code",
   "execution_count": null,
   "id": "8ddeeb6e",
   "metadata": {},
   "outputs": [],
   "source": [
    "def hilb(n, m=0):\n",
    "    \"\"\"\n",
    "    hilb   Hilbert matrix.\n",
    "       hilb(n,m) is the n-by-m matrix with elements 1/(i+j-1).\n",
    "       it is a famous example of a badly conditioned matrix.\n",
    "       cond(hilb(n)) grows like exp(3.5*n).\n",
    "       hilb(n) is symmetric positive definite, totally positive, and a\n",
    "       Hankel matrix.\n",
    "       References:\n",
    "       M.-D. Choi, Tricks or treats with the Hilbert matrix, Amer. Math.\n",
    "           Monthly, 90 (1983), pp. 301-312.\n",
    "       N.J. Higham, Accuracy and Stability of Numerical Algorithms,\n",
    "           Society for Industrial and Applied Mathematics, Philadelphia, PA,\n",
    "           USA, 2002; sec. 28.1.\n",
    "       M. Newman and J. Todd, The evaluation of matrix inversion\n",
    "           programs, J. Soc. Indust. Appl. Math., 6 (1958), pp. 466-476.\n",
    "       D.E. Knuth, The Art of Computer Programming,\n",
    "           Volume 1, Fundamental Algorithms, second edition, Addison-Wesley,\n",
    "           Reading, Massachusetts, 1973, p. 37.\n",
    "       NOTE added in porting.  We do not use the function cauchy here to\n",
    "       generate the Hilbert matrix.  That is done so we can unit test the\n",
    "       the functions against each other.  Also, the function has been\n",
    "       generalized to take by row and column sizes.  If only a row size\n",
    "       is given, we assume a square matrix is desired.\n",
    "    \"\"\"\n",
    "    if n < 1 or m < 0:\n",
    "        raise ValueError(\"Matrix size must be one or greater\")\n",
    "    elif n == 1 and (m == 0 or m == 1):\n",
    "        return np.array([[1]])\n",
    "    elif m == 0:\n",
    "        m = n\n",
    "\n",
    "    v = np.arange(1, n + 1) + np.arange(0, m)[:, np.newaxis]\n",
    "    return 1. / v\n"
   ]
  },
  {
   "cell_type": "code",
   "execution_count": null,
   "id": "8cfa5b7b",
   "metadata": {},
   "outputs": [],
   "source": [
    "from scipy.linalg import hilbert\n",
    "hilbert(3)"
   ]
  },
  {
   "cell_type": "code",
   "execution_count": null,
   "id": "df946856",
   "metadata": {},
   "outputs": [],
   "source": [
    "hilb(3)"
   ]
  },
  {
   "cell_type": "code",
   "execution_count": 4,
   "id": "40d1800d",
   "metadata": {},
   "outputs": [],
   "source": [
    "import numpy as np\n",
    "def invhilb(n):\n",
    "    \"\"\"\n",
    "    invhilb   Generate the exact inverse of the n-by-n Hilbert matrix.\n",
    "    Limitations:\n",
    "    Comparing invhilb(n) with inv(hilb(n)) involves the effects of two or\n",
    "    three sets of roundoff errors:\n",
    "        - The errors caused by representing hilb(n)\n",
    "        - The errors in the matrix inversion process\n",
    "        - The errors, if any, in representing invhilb(n)\n",
    "    It turns out that the first of these, which involves representing\n",
    "    fractions like 1/3 and 1/5 in floating-point, is the most significant.\n",
    "    \"\"\"\n",
    "    H = np.empty((n, n))\n",
    "    for i in range(n):\n",
    "        for j in range(n):\n",
    "            H[i, j] = ((-1)**(i + j)) * (i + j + 1) * binomial(n + i, n - j - 1) * \\\n",
    "             binomial(n + j, n - i - 1) * binomial(i + j, i) ** 2\n",
    "    return H"
   ]
  },
  {
   "cell_type": "code",
   "execution_count": null,
   "id": "8cbd1820",
   "metadata": {},
   "outputs": [],
   "source": [
    "from scipy.linalg import invhilbert\n",
    "invhilbert(4)"
   ]
  },
  {
   "cell_type": "code",
   "execution_count": null,
   "id": "2ab78aef",
   "metadata": {},
   "outputs": [],
   "source": [
    "invhilbert(16)[7,7]"
   ]
  },
  {
   "cell_type": "code",
   "execution_count": null,
   "id": "f340a727",
   "metadata": {},
   "outputs": [],
   "source": [
    "invhilbert(16, exact=True)[7,7]"
   ]
  },
  {
   "cell_type": "code",
   "execution_count": 2,
   "id": "4125ef3f",
   "metadata": {},
   "outputs": [],
   "source": [
    "from math import factorial\n",
    "def binomial(n, k):\n",
    "    \"\"\"binomial(n, k): return the binomial coefficient (n k).\"\"\"\n",
    "\n",
    "    if k < 0 or k > n:\n",
    "        return 0\n",
    "    if k == 0 or k == n:\n",
    "        return 1\n",
    "    return factorial(n) // (factorial(k) * factorial(n-k))"
   ]
  },
  {
   "cell_type": "code",
   "execution_count": 5,
   "id": "32c02559",
   "metadata": {},
   "outputs": [
    {
     "data": {
      "text/plain": [
       "array([[   16.,  -120.,   240.,  -140.],\n",
       "       [ -120.,  1200., -2700.,  1680.],\n",
       "       [  240., -2700.,  6480., -4200.],\n",
       "       [ -140.,  1680., -4200.,  2800.]])"
      ]
     },
     "execution_count": 5,
     "metadata": {},
     "output_type": "execute_result"
    }
   ],
   "source": [
    "invhilb(4)"
   ]
  },
  {
   "cell_type": "code",
   "execution_count": null,
   "id": "25f2f013",
   "metadata": {},
   "outputs": [],
   "source": []
  }
 ],
 "metadata": {
  "kernelspec": {
   "display_name": "Python 3 (ipykernel)",
   "language": "python",
   "name": "python3"
  },
  "language_info": {
   "codemirror_mode": {
    "name": "ipython",
    "version": 3
   },
   "file_extension": ".py",
   "mimetype": "text/x-python",
   "name": "python",
   "nbconvert_exporter": "python",
   "pygments_lexer": "ipython3",
   "version": "3.9.12"
  }
 },
 "nbformat": 4,
 "nbformat_minor": 5
}
