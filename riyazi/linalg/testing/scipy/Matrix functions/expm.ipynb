{
 "cells": [
  {
   "cell_type": "code",
   "execution_count": null,
   "id": "83dddef5",
   "metadata": {},
   "outputs": [],
   "source": [
    "#https://gist.github.com/bradley101/4cbdd43b329fe2ae09fbe23c3842dedd\n",
    "def mat_mul(a, b):\n",
    "    c = []\n",
    "    for i in range(len(a)):\n",
    "        c.append([0]*len(b[0]))\n",
    "        for j in range(len(b[0])):\n",
    "            for k in range(len(a[0])):\n",
    "                c[i][j] += (a[i][k]*b[k][j])\n",
    "    return c\n",
    "\n",
    "def mat_pow(a, n):\n",
    "    if n<=0:\n",
    "        return None\n",
    "    if n==1:\n",
    "        return a\n",
    "    if n==2:\n",
    "        return mat_mul(a, a)\n",
    "    t1 = mat_pow(a, n/2)\n",
    "    if n%2 == 0:\n",
    "        return mat_mul(t1, t1)\n",
    "    return mat_mul(t1, mat_mul(a, t1))"
   ]
  },
  {
   "cell_type": "code",
   "execution_count": 3,
   "id": "cd3fa8ee",
   "metadata": {},
   "outputs": [],
   "source": [
    "from scipy.linalg import expm, sinm, cosm\n"
   ]
  },
  {
   "cell_type": "code",
   "execution_count": 4,
   "id": "d03a21e3",
   "metadata": {},
   "outputs": [
    {
     "data": {
      "text/plain": [
       "array([[ 0.4264593 +1.89217551j, -2.13721484-0.97811252j],\n",
       "       [ 1.06860742+0.48905626j, -1.71075555+0.91406299j]])"
      ]
     },
     "execution_count": 4,
     "metadata": {},
     "output_type": "execute_result"
    }
   ],
   "source": [
    "import numpy as np\n",
    "a = np.array([[1.0, 2.0], [-1.0, 3.0]])\n",
    "expm(1j*a)"
   ]
  },
  {
   "cell_type": "code",
   "execution_count": null,
   "id": "c0e60189",
   "metadata": {},
   "outputs": [],
   "source": [
    "mat_pow(1j,a.all())"
   ]
  },
  {
   "cell_type": "code",
   "execution_count": 1,
   "id": "0546e2ee",
   "metadata": {},
   "outputs": [
    {
     "name": "stdout",
     "output_type": "stream",
     "text": [
      "norm  103.7838083853446\n",
      "scipy 5.953874588012695\n",
      "\n",
      "expm  4.987958669662476\n",
      "\n",
      "diff  3.0527794796908616e+28\n",
      "diff  1.1472033461208698e-15\n"
     ]
    }
   ],
   "source": [
    "#https://github.com/michael-hartmann/expm/blob/master/python/expm.py\n",
    "from __future__ import division, print_function\n",
    "from math import ceil,log\n",
    "import numpy as np\n",
    "\n",
    "# table 10.4\n",
    "b_d = {\n",
    "    3:  [120,60,12,1],\n",
    "    5:  [30240,15120,3360,420,30,1],\n",
    "    7:  [17297280, 8648640,1995840, 277200, 25200,1512, 56,1],\n",
    "    9:  [17643225600,8821612800,2075673600,302702400,30270240, 2162160,110880,3960,90,1],\n",
    "    13: [64764752532480000,32382376266240000,7771770303897600,1187353796428800,129060195264000,10559470521600,670442572800,33522128640,1323241920,40840800,960960,16380,182,1]\n",
    "}\n",
    "\n",
    "# table 10.2\n",
    "theta3  = 1.5e-2\n",
    "theta5  = 2.5e-1\n",
    "theta7  = 9.5e-1\n",
    "theta9  = 2.1e0\n",
    "theta13 = 5.4e0\n",
    "\n",
    "\n",
    "def _expm_pade(A,M):\n",
    "    dtype = A.dtype\n",
    "    dim,dim = A.shape\n",
    "    b = b_d[M]\n",
    "\n",
    "    U = b[1]*np.eye(dim, dtype=dtype)\n",
    "    V = b[0]*np.eye(dim, dtype=dtype)\n",
    "\n",
    "    A2 = np.dot(A,A)\n",
    "    A2n = np.eye(dim, dtype=dtype)\n",
    "\n",
    "    # evaluate (10.33)\n",
    "    for i in range(1,M//2+1):\n",
    "        A2n = np.dot(A2n,A2)\n",
    "        U += b[2*i+1]*A2n\n",
    "        V += b[2*i]  *A2n\n",
    "\n",
    "    del A2,A2n\n",
    "    U = np.dot(A,U)\n",
    "\n",
    "    return np.linalg.solve(V-U, V+U)\n",
    "\n",
    "\n",
    "def _expm_ss(A,norm):\n",
    "    # algorithm 10.20, from line 7\n",
    "    dim,dim = A.shape\n",
    "    b = b_d[13]\n",
    "\n",
    "    s = max(0, int(ceil(log(norm/theta13)/log(2))))\n",
    "    if s > 0:\n",
    "        A /= 2**s\n",
    "\n",
    "    Id = np.eye(dim)\n",
    "    A2 = np.dot(A,A)\n",
    "    A4 = np.dot(A2,A2)\n",
    "    A6 = np.dot(A2,A4)\n",
    "\n",
    "    U = np.dot(A, np.dot(A6, b[13]*A6+b[11]*A4+b[9]*A2)+b[7]*A6+b[5]*A4+b[3]*A2+b[1]*Id)\n",
    "    V = np.dot(A6, b[12]*A6+b[10]*A4+b[8]*A2) + b[6]*A6 + b[4]*A4 + b[2]*A2 + b[0]*Id\n",
    "\n",
    "    del A,Id,A2,A4,A6\n",
    "\n",
    "    r13 = np.linalg.solve(V-U, V+U)\n",
    "\n",
    "    del V,U\n",
    "\n",
    "    return np.linalg.matrix_power(r13, 2**s)\n",
    "\n",
    "\n",
    "def expm(A):\n",
    "    \"\"\"\n",
    "    Calculate the matrix exponential of a square matrix A: MatrixExp(A)\n",
    "    This module implements algorithm 10.20 from [1]. The matrix exponential is\n",
    "    calculated using scaling and squaring, and a Pade approximation.\n",
    "    [1] Functions of Matrices: Theory and Computation, Nicholas J. Higham, 2008\n",
    "    \"\"\"\n",
    "    rows, columns = A.shape\n",
    "    if rows != columns:\n",
    "        raise BaseException(\"A must be a square matrix\")\n",
    "\n",
    "    # calculate the norm of A\n",
    "    norm = np.linalg.norm(A, ord=1)\n",
    "\n",
    "    if   norm < theta3:\n",
    "        return _expm_pade(A,3)\n",
    "    elif norm < theta5:\n",
    "        return _expm_pade(A,5)\n",
    "    elif norm < theta7:\n",
    "        return _expm_pade(A,7)\n",
    "    elif norm < theta9:\n",
    "        return _expm_pade(A,9)\n",
    "    else:\n",
    "        return _expm_ss(A,norm)\n",
    "\n",
    "\n",
    "if __name__ == \"__main__\":\n",
    "    from time import time\n",
    "    from scipy import linalg\n",
    "    A = np.random.random((2000,2000))/10\n",
    "\n",
    "    print(\"norm \", np.linalg.norm(A, ord=1))\n",
    "\n",
    "    t = time()\n",
    "    X_scipy = linalg.expm(A)\n",
    "    t = time()-t\n",
    "    print(\"scipy\", t)\n",
    "\n",
    "    print()\n",
    "\n",
    "    t = time()\n",
    "    X_expm  = expm(A)\n",
    "    t = time()-t\n",
    "    print(\"expm \", t)\n",
    "    print()\n",
    "    print(\"diff \", np.linalg.norm(X_expm-X_scipy, ord=1))\n",
    "    print(\"diff \", np.linalg.norm(X_expm-X_scipy, ord=1)/np.linalg.norm(X_scipy))"
   ]
  },
  {
   "cell_type": "code",
   "execution_count": null,
   "id": "0cc48e12",
   "metadata": {},
   "outputs": [],
   "source": []
  },
  {
   "cell_type": "code",
   "execution_count": null,
   "id": "b4b1413d",
   "metadata": {},
   "outputs": [],
   "source": []
  },
  {
   "cell_type": "code",
   "execution_count": null,
   "id": "e8d43f6e",
   "metadata": {},
   "outputs": [],
   "source": []
  },
  {
   "cell_type": "code",
   "execution_count": 1,
   "id": "b4026146",
   "metadata": {},
   "outputs": [],
   "source": [
    "def mat_mul(a, b):\n",
    "    c = []\n",
    "    for i in range(len(a)):\n",
    "        c.append([0]*len(b[0]))\n",
    "        for j in range(len(b[0])):\n",
    "            for k in range(len(a[0])):\n",
    "                c[i][j] += (a[i][k]*b[k][j])"
   ]
  },
  {
   "cell_type": "code",
   "execution_count": 3,
   "id": "aae9f773",
   "metadata": {},
   "outputs": [],
   "source": [
    "import numpy as np"
   ]
  },
  {
   "cell_type": "code",
   "execution_count": 8,
   "id": "8584f56c",
   "metadata": {},
   "outputs": [],
   "source": [
    "ar1 = np.array([[1,2,3]])\n",
    "ar2 = np.array([[2,3,4]])"
   ]
  },
  {
   "cell_type": "code",
   "execution_count": 9,
   "id": "ba11a1fb",
   "metadata": {},
   "outputs": [
    {
     "data": {
      "text/plain": [
       "array([[ 2,  6, 12]])"
      ]
     },
     "execution_count": 9,
     "metadata": {},
     "output_type": "execute_result"
    }
   ],
   "source": [
    "np.multiply(ar1,ar2)"
   ]
  },
  {
   "cell_type": "code",
   "execution_count": 13,
   "id": "dd2c3bd3",
   "metadata": {},
   "outputs": [
    {
     "ename": "TypeError",
     "evalue": "object of type 'int' has no len()",
     "output_type": "error",
     "traceback": [
      "\u001b[1;31m---------------------------------------------------------------------------\u001b[0m",
      "\u001b[1;31mTypeError\u001b[0m                                 Traceback (most recent call last)",
      "Input \u001b[1;32mIn [13]\u001b[0m, in \u001b[0;36m<cell line: 3>\u001b[1;34m()\u001b[0m\n\u001b[0;32m      1\u001b[0m ar1 \u001b[38;5;241m=\u001b[39m [\u001b[38;5;241m1\u001b[39m,\u001b[38;5;241m2\u001b[39m,\u001b[38;5;241m3\u001b[39m]\n\u001b[0;32m      2\u001b[0m ar2 \u001b[38;5;241m=\u001b[39m [\u001b[38;5;241m2\u001b[39m,\u001b[38;5;241m3\u001b[39m,\u001b[38;5;241m4\u001b[39m]\n\u001b[1;32m----> 3\u001b[0m \u001b[43mmat_mul\u001b[49m\u001b[43m(\u001b[49m\u001b[43mar1\u001b[49m\u001b[43m,\u001b[49m\u001b[43mar2\u001b[49m\u001b[43m)\u001b[49m\n",
      "Input \u001b[1;32mIn [1]\u001b[0m, in \u001b[0;36mmat_mul\u001b[1;34m(a, b)\u001b[0m\n\u001b[0;32m      2\u001b[0m c \u001b[38;5;241m=\u001b[39m []\n\u001b[0;32m      3\u001b[0m \u001b[38;5;28;01mfor\u001b[39;00m i \u001b[38;5;129;01min\u001b[39;00m \u001b[38;5;28mrange\u001b[39m(\u001b[38;5;28mlen\u001b[39m(a)):\n\u001b[1;32m----> 4\u001b[0m     c\u001b[38;5;241m.\u001b[39mappend([\u001b[38;5;241m0\u001b[39m]\u001b[38;5;241m*\u001b[39m\u001b[38;5;28;43mlen\u001b[39;49m\u001b[43m(\u001b[49m\u001b[43mb\u001b[49m\u001b[43m[\u001b[49m\u001b[38;5;241;43m0\u001b[39;49m\u001b[43m]\u001b[49m\u001b[43m)\u001b[49m)\n\u001b[0;32m      5\u001b[0m     \u001b[38;5;28;01mfor\u001b[39;00m j \u001b[38;5;129;01min\u001b[39;00m \u001b[38;5;28mrange\u001b[39m(\u001b[38;5;28mlen\u001b[39m(b[\u001b[38;5;241m0\u001b[39m])):\n\u001b[0;32m      6\u001b[0m         \u001b[38;5;28;01mfor\u001b[39;00m k \u001b[38;5;129;01min\u001b[39;00m \u001b[38;5;28mrange\u001b[39m(\u001b[38;5;28mlen\u001b[39m(a[\u001b[38;5;241m0\u001b[39m])):\n",
      "\u001b[1;31mTypeError\u001b[0m: object of type 'int' has no len()"
     ]
    }
   ],
   "source": [
    "ar1 = [1,2,3]\n",
    "ar2 = [2,3,4]\n",
    "mat_mul(ar1,ar2)"
   ]
  },
  {
   "cell_type": "code",
   "execution_count": null,
   "id": "a2dd8894",
   "metadata": {},
   "outputs": [],
   "source": []
  },
  {
   "cell_type": "code",
   "execution_count": null,
   "id": "997a02bd",
   "metadata": {},
   "outputs": [],
   "source": []
  },
  {
   "cell_type": "code",
   "execution_count": null,
   "id": "182a33e1",
   "metadata": {},
   "outputs": [],
   "source": []
  },
  {
   "cell_type": "code",
   "execution_count": null,
   "id": "74ef3a3f",
   "metadata": {},
   "outputs": [],
   "source": []
  }
 ],
 "metadata": {
  "kernelspec": {
   "display_name": "Python 3 (ipykernel)",
   "language": "python",
   "name": "python3"
  },
  "language_info": {
   "codemirror_mode": {
    "name": "ipython",
    "version": 3
   },
   "file_extension": ".py",
   "mimetype": "text/x-python",
   "name": "python",
   "nbconvert_exporter": "python",
   "pygments_lexer": "ipython3",
   "version": "3.9.12"
  }
 },
 "nbformat": 4,
 "nbformat_minor": 5
}
