{
 "cells": [
  {
   "cell_type": "markdown",
   "id": "b1b7873b",
   "metadata": {},
   "source": [
    "### Khatri-rao product"
   ]
  },
  {
   "cell_type": "code",
   "execution_count": 1,
   "id": "bdf94cd7",
   "metadata": {},
   "outputs": [],
   "source": [
    "import numpy as np "
   ]
  },
  {
   "cell_type": "code",
   "execution_count": 2,
   "id": "9196ac82",
   "metadata": {},
   "outputs": [
    {
     "data": {
      "text/plain": [
       "array([[ 3,  8, 15],\n",
       "       [ 6, 14, 24],\n",
       "       [ 2,  6, 27],\n",
       "       [12, 20, 30],\n",
       "       [24, 35, 48],\n",
       "       [ 8, 15, 54]])"
      ]
     },
     "execution_count": 2,
     "metadata": {},
     "output_type": "execute_result"
    }
   ],
   "source": [
    "from scipy import linalg\n",
    "a = np.array([[1, 2, 3], [4, 5, 6]])\n",
    "b = np.array([[3, 4, 5], [6, 7, 8], [2, 3, 9]])\n",
    "linalg.khatri_rao(a, b)"
   ]
  },
  {
   "cell_type": "code",
   "execution_count": null,
   "id": "52c136cc",
   "metadata": {},
   "outputs": [],
   "source": []
  }
 ],
 "metadata": {
  "kernelspec": {
   "display_name": "Python 3 (ipykernel)",
   "language": "python",
   "name": "python3"
  },
  "language_info": {
   "codemirror_mode": {
    "name": "ipython",
    "version": 3
   },
   "file_extension": ".py",
   "mimetype": "text/x-python",
   "name": "python",
   "nbconvert_exporter": "python",
   "pygments_lexer": "ipython3",
   "version": "3.9.12"
  }
 },
 "nbformat": 4,
 "nbformat_minor": 5
}
