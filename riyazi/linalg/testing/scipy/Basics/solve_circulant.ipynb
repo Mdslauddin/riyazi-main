{
 "cells": [
  {
   "cell_type": "markdown",
   "id": "9d10ddfe",
   "metadata": {},
   "source": [
    "### Solve C x = b for x, where C is a circulant matrix."
   ]
  },
  {
   "cell_type": "code",
   "execution_count": 1,
   "id": "b17ab090",
   "metadata": {},
   "outputs": [],
   "source": [
    "from scipy.linalg import solve_circulant, solve, circulant, lstsq"
   ]
  },
  {
   "cell_type": "code",
   "execution_count": 4,
   "id": "72d4b6c3",
   "metadata": {},
   "outputs": [],
   "source": [
    "import numpy as np "
   ]
  },
  {
   "cell_type": "code",
   "execution_count": 5,
   "id": "106d8220",
   "metadata": {
    "scrolled": true
   },
   "outputs": [
    {
     "data": {
      "text/plain": [
       "array([ 0.75, -0.25,  0.25])"
      ]
     },
     "execution_count": 5,
     "metadata": {},
     "output_type": "execute_result"
    }
   ],
   "source": [
    "c = np.array([2, 2, 4])\n",
    "b = np.array([1, 2, 3])\n",
    "solve_circulant(c, b)"
   ]
  },
  {
   "cell_type": "code",
   "execution_count": 6,
   "id": "02782986",
   "metadata": {},
   "outputs": [
    {
     "data": {
      "text/plain": [
       "array([ 0.75, -0.25,  0.25])"
      ]
     },
     "execution_count": 6,
     "metadata": {},
     "output_type": "execute_result"
    }
   ],
   "source": [
    "solve(circulant(c), b)"
   ]
  },
  {
   "cell_type": "code",
   "execution_count": 7,
   "id": "6c87fc0c",
   "metadata": {},
   "outputs": [],
   "source": [
    "c = np.array([1, 1, 0, 0])\n",
    "b = np.array([1, 2, 3, 4])"
   ]
  },
  {
   "cell_type": "code",
   "execution_count": 8,
   "id": "08ecb1b6",
   "metadata": {},
   "outputs": [
    {
     "data": {
      "text/plain": [
       "array([0.25, 1.25, 2.25, 1.25])"
      ]
     },
     "execution_count": 8,
     "metadata": {},
     "output_type": "execute_result"
    }
   ],
   "source": [
    "solve_circulant(c, b, singular='lstsq')"
   ]
  },
  {
   "cell_type": "code",
   "execution_count": 9,
   "id": "25fe48d6",
   "metadata": {},
   "outputs": [
    {
     "data": {
      "text/plain": [
       "array([0.25, 1.25, 2.25, 1.25])"
      ]
     },
     "execution_count": 9,
     "metadata": {},
     "output_type": "execute_result"
    }
   ],
   "source": [
    "x, resid, rnk, s = lstsq(circulant(c), b)\n",
    "x"
   ]
  },
  {
   "cell_type": "code",
   "execution_count": 10,
   "id": "7030a2e3",
   "metadata": {},
   "outputs": [],
   "source": [
    "c = np.array([[1.5, 2, 3, 0, 0], [1, 1, 4, 3, 2]])\n",
    "b = np.arange(15).reshape(-1, 5)"
   ]
  },
  {
   "cell_type": "code",
   "execution_count": 11,
   "id": "13ef8bdc",
   "metadata": {},
   "outputs": [
    {
     "data": {
      "text/plain": [
       "(2, 3, 5)"
      ]
     },
     "execution_count": 11,
     "metadata": {},
     "output_type": "execute_result"
    }
   ],
   "source": [
    "x = solve_circulant(c[:, np.newaxis, :], b, baxis=-1, outaxis=-1)\n",
    "x.shape"
   ]
  },
  {
   "cell_type": "code",
   "execution_count": 12,
   "id": "869c4676",
   "metadata": {},
   "outputs": [
    {
     "data": {
      "text/plain": [
       "array([[[-0.118,  0.22 ,  1.277, -0.142,  0.302],\n",
       "        [ 0.651,  0.989,  2.046,  0.627,  1.072],\n",
       "        [ 1.42 ,  1.758,  2.816,  1.396,  1.841]],\n",
       "\n",
       "       [[ 0.401,  0.304,  0.694, -0.867,  0.377],\n",
       "        [ 0.856,  0.758,  1.149, -0.412,  0.831],\n",
       "        [ 1.31 ,  1.213,  1.603,  0.042,  1.286]]])"
      ]
     },
     "execution_count": 12,
     "metadata": {},
     "output_type": "execute_result"
    }
   ],
   "source": [
    "np.set_printoptions(precision=3)  # For compact output of numbers.\n",
    "x"
   ]
  },
  {
   "cell_type": "code",
   "execution_count": 13,
   "id": "5ef38c15",
   "metadata": {},
   "outputs": [
    {
     "data": {
      "text/plain": [
       "array([ 0.856,  0.758,  1.149, -0.412,  0.831])"
      ]
     },
     "execution_count": 13,
     "metadata": {},
     "output_type": "execute_result"
    }
   ],
   "source": [
    "solve_circulant(c[1], b[1, :])"
   ]
  },
  {
   "cell_type": "code",
   "execution_count": null,
   "id": "8768739c",
   "metadata": {},
   "outputs": [],
   "source": []
  }
 ],
 "metadata": {
  "kernelspec": {
   "display_name": "Python 3 (ipykernel)",
   "language": "python",
   "name": "python3"
  },
  "language_info": {
   "codemirror_mode": {
    "name": "ipython",
    "version": 3
   },
   "file_extension": ".py",
   "mimetype": "text/x-python",
   "name": "python",
   "nbconvert_exporter": "python",
   "pygments_lexer": "ipython3",
   "version": "3.9.12"
  }
 },
 "nbformat": 4,
 "nbformat_minor": 5
}
