{
 "cells": [
  {
   "cell_type": "markdown",
   "id": "85a313db",
   "metadata": {},
   "source": [
    "### Compute the (Moore-Penrose) pseudo-inverse of a Hermitian matrix."
   ]
  },
  {
   "cell_type": "code",
   "execution_count": 1,
   "id": "778a6e22",
   "metadata": {},
   "outputs": [],
   "source": [
    "import numpy as np "
   ]
  },
  {
   "cell_type": "code",
   "execution_count": 2,
   "id": "e3ef31a7",
   "metadata": {},
   "outputs": [
    {
     "data": {
      "text/plain": [
       "True"
      ]
     },
     "execution_count": 2,
     "metadata": {},
     "output_type": "execute_result"
    }
   ],
   "source": [
    "from scipy.linalg import pinvh\n",
    "rng = np.random.default_rng()\n",
    "a = rng.standard_normal((9, 6))\n",
    "a = np.dot(a, a.T)\n",
    "B = pinvh(a)\n",
    "np.allclose(a, a @ B @ a)\n",
    "\n",
    "np.allclose(B, B @ a @ B)"
   ]
  },
  {
   "cell_type": "code",
   "execution_count": null,
   "id": "e784fe57",
   "metadata": {},
   "outputs": [],
   "source": []
  }
 ],
 "metadata": {
  "kernelspec": {
   "display_name": "Python 3 (ipykernel)",
   "language": "python",
   "name": "python3"
  },
  "language_info": {
   "codemirror_mode": {
    "name": "ipython",
    "version": 3
   },
   "file_extension": ".py",
   "mimetype": "text/x-python",
   "name": "python",
   "nbconvert_exporter": "python",
   "pygments_lexer": "ipython3",
   "version": "3.9.12"
  }
 },
 "nbformat": 4,
 "nbformat_minor": 5
}
