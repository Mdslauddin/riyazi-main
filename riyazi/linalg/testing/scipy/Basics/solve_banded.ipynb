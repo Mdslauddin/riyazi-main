{
 "cells": [
  {
   "cell_type": "markdown",
   "id": "d4852369",
   "metadata": {},
   "source": [
    "### Solve the equation a x = b for x, assuming a is banded matrix."
   ]
  },
  {
   "cell_type": "code",
   "execution_count": 1,
   "id": "2804cef0",
   "metadata": {},
   "outputs": [],
   "source": [
    "import numpy as np"
   ]
  },
  {
   "cell_type": "code",
   "execution_count": 2,
   "id": "ae560849",
   "metadata": {},
   "outputs": [
    {
     "data": {
      "text/plain": [
       "array([-2.37288136,  3.93220339, -4.        ,  4.3559322 , -1.3559322 ])"
      ]
     },
     "execution_count": 2,
     "metadata": {},
     "output_type": "execute_result"
    }
   ],
   "source": [
    "from scipy.linalg import solve_banded\n",
    "ab = np.array([[0,  0, -1, -1, -1],\n",
    "               [0,  2,  2,  2,  2],\n",
    "               [5,  4,  3,  2,  1],\n",
    "               [1,  1,  1,  1,  0]])\n",
    "b = np.array([0, 1, 2, 2, 3])\n",
    "x = solve_banded((1, 2), ab, b)\n",
    "x"
   ]
  },
  {
   "cell_type": "code",
   "execution_count": 6,
   "id": "c0086e98",
   "metadata": {},
   "outputs": [
    {
     "data": {
      "text/plain": [
       "2"
      ]
     },
     "execution_count": 6,
     "metadata": {},
     "output_type": "execute_result"
    }
   ],
   "source": [
    "ab.ndim"
   ]
  },
  {
   "cell_type": "code",
   "execution_count": 4,
   "id": "8d1f6b4c",
   "metadata": {},
   "outputs": [],
   "source": []
  },
  {
   "cell_type": "code",
   "execution_count": null,
   "id": "21c15bf6",
   "metadata": {
    "scrolled": true
   },
   "outputs": [],
   "source": []
  },
  {
   "cell_type": "code",
   "execution_count": 7,
   "id": "77e2fc52",
   "metadata": {},
   "outputs": [],
   "source": [
    "def solve_linear(equation,var='x'):\n",
    "    expression = equation.replace(\"=\",\"-(\")+\")\"\n",
    "    grouped = eval(expression.replace(var,'1j'))\n",
    "    return -grouped.real/grouped.imag"
   ]
  },
  {
   "cell_type": "code",
   "execution_count": 8,
   "id": "d94b2ae3",
   "metadata": {},
   "outputs": [
    {
     "data": {
      "text/plain": [
       "3236.0"
      ]
     },
     "execution_count": 8,
     "metadata": {},
     "output_type": "execute_result"
    }
   ],
   "source": [
    "solve_linear(\"x - 2*x + 5*x -46*(235-24) = x+2\")"
   ]
  },
  {
   "cell_type": "code",
   "execution_count": null,
   "id": "15510148",
   "metadata": {},
   "outputs": [],
   "source": []
  }
 ],
 "metadata": {
  "kernelspec": {
   "display_name": "Python 3 (ipykernel)",
   "language": "python",
   "name": "python3"
  },
  "language_info": {
   "codemirror_mode": {
    "name": "ipython",
    "version": 3
   },
   "file_extension": ".py",
   "mimetype": "text/x-python",
   "name": "python",
   "nbconvert_exporter": "python",
   "pygments_lexer": "ipython3",
   "version": "3.9.12"
  }
 },
 "nbformat": 4,
 "nbformat_minor": 5
}
