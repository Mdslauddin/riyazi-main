{
 "cells": [
  {
   "cell_type": "markdown",
   "id": "d4941a2a",
   "metadata": {},
   "source": [
    "### \tKronecker product."
   ]
  },
  {
   "cell_type": "code",
   "execution_count": 1,
   "id": "97817e59",
   "metadata": {},
   "outputs": [
    {
     "data": {
      "text/plain": [
       "array([[1, 1, 1, 2, 2, 2],\n",
       "       [3, 3, 3, 4, 4, 4]])"
      ]
     },
     "execution_count": 1,
     "metadata": {},
     "output_type": "execute_result"
    }
   ],
   "source": [
    "from numpy import array\n",
    "from scipy.linalg import kron\n",
    "kron(array([[1,2],[3,4]]), array([[1,1,1]]))"
   ]
  },
  {
   "cell_type": "code",
   "execution_count": 2,
   "id": "c749c7d9",
   "metadata": {},
   "outputs": [
    {
     "ename": "SyntaxError",
     "evalue": "EOL while scanning string literal (608870393.py, line 39)",
     "output_type": "error",
     "traceback": [
      "\u001b[1;36m  Input \u001b[1;32mIn [2]\u001b[1;36m\u001b[0m\n\u001b[1;33m    print (\"\u001b[0m\n\u001b[1;37m            ^\u001b[0m\n\u001b[1;31mSyntaxError\u001b[0m\u001b[1;31m:\u001b[0m EOL while scanning string literal\n"
     ]
    }
   ],
   "source": [
    "# Python3 code to find the Kronecker Product of two\n",
    "# matrices and stores it as matrix C\n",
    "\n",
    "# rowa and cola are no of rows and columns\n",
    "# of matrix A\n",
    "# rowb and colb are no of rows and columns\n",
    "# of matrix B\n",
    "cola = 2\n",
    "rowa = 3\n",
    "colb = 3\n",
    "rowb = 2\n",
    "\n",
    "# Function to computes the Kronecker Product\n",
    "# of two matrices\n",
    "\n",
    "def Kroneckerproduct( A , B ):\n",
    "\t\n",
    "\tC = [[0 for j in range(cola * colb)] for i in range(rowa * rowb)]\n",
    "\n",
    "\t# i loops till rowa\n",
    "\tfor i in range(0, rowa):\n",
    "\t\t\n",
    "\t\t# k loops till rowb\n",
    "\t\tfor k in range(0, rowb):\n",
    "\n",
    "\t\t\t# j loops till cola\n",
    "\t\t\tfor j in range(0, cola):\n",
    "\n",
    "\t\t\t\t# l loops till colb\n",
    "\t\t\t\tfor l in range(0, colb):\n",
    "\n",
    "\t\t\t\t\t# Each element of matrix A is\n",
    "\t\t\t\t\t# multiplied by whole Matrix B\n",
    "\t\t\t\t\t# resp and stored as Matrix C\n",
    "\t\t\t\t\tC[i + l + 1][j + k + 1] = A[i][j] * B[k][l]\n",
    "\t\t\t\t\tprint (C[i + l + 1][j + k + 1],end=' ')\n",
    "\t\t\t\n",
    "\t\t\t\n",
    "\t\t\tprint (\"\n",
    "\")\n",
    "\t\t\n",
    "\n",
    "# Driver code.\n",
    "\n",
    "A = [[0 for j in range(2)] for i in range(3)]\n",
    "B = [[0 for j in range(3)] for i in range(2)]\n",
    "\n",
    "A[0][0] = 1\n",
    "A[0][1] = 2\n",
    "A[1][0] = 3\n",
    "A[1][1] = 4\n",
    "A[2][0] = 1\n",
    "A[2][1] = 0\n",
    "\n",
    "B[0][0] = 0\n",
    "B[0][1] = 5\n",
    "B[0][2] = 2\n",
    "B[1][0] = 6\n",
    "B[1][1] = 7\n",
    "B[1][2] = 3\n",
    "\n",
    "Kroneckerproduct( A , B )\n",
    "\n",
    "# This code is contributed by Saloni.\n"
   ]
  },
  {
   "cell_type": "code",
   "execution_count": null,
   "id": "7f8501d7",
   "metadata": {},
   "outputs": [],
   "source": [
    "# Python3 code to find the Kronecker Product of two\n",
    "# matrices and stores it as matrix C\n",
    "\n",
    "# rowa and cola are no of rows and columns\n",
    "# of matrix A\n",
    "# rowb and colb are no of rows and columns\n",
    "# of matrix B\n",
    "cola = 2\n",
    "rowa = 3\n",
    "colb = 3\n",
    "rowb = 2\n",
    "\n",
    "# Function to computes the Kronecker Product\n",
    "# of two matrices\n",
    "\n",
    "def Kroneckerproduct( A , B ):\n",
    "\t\n",
    "\tC = [[0 for j in range(cola * colb)] for i in range(rowa * rowb)]\n",
    "\n",
    "\t# i loops till rowa\n",
    "\tfor i in range(0, rowa):\n",
    "\t\t\n",
    "\t\t# k loops till rowb\n",
    "\t\tfor k in range(0, rowb):\n",
    "\n",
    "\t\t\t# j loops till cola\n",
    "\t\t\tfor j in range(0, cola):\n",
    "\n",
    "\t\t\t\t# l loops till colb\n",
    "\t\t\t\tfor l in range(0, colb):\n",
    "\n",
    "\t\t\t\t\t# Each element of matrix A is\n",
    "\t\t\t\t\t# multiplied by whole Matrix B\n",
    "\t\t\t\t\t# resp and stored as Matrix C\n",
    "\t\t\t\t\tC[i + l + 1][j + k + 1] = A[i][j] * B[k][l]\n",
    "\t\t\t\t\tprint (C[i + l + 1][j + k + 1],end=' ')\n",
    "\t\t\t\n",
    "\t\t\t\n",
    "\t\t\tprint (\"\n",
    "\")\n",
    "\t\t\n",
    "\n",
    "# Driver code.\n",
    "\n",
    "A = [[0 for j in range(2)] for i in range(3)]\n",
    "B = [[0 for j in range(3)] for i in range(2)]\n",
    "\n",
    "A[0][0] = 1\n",
    "A[0][1] = 2\n",
    "A[1][0] = 3\n",
    "A[1][1] = 4\n",
    "A[2][0] = 1\n",
    "A[2][1] = 0\n",
    "\n",
    "B[0][0] = 0\n",
    "B[0][1] = 5\n",
    "B[0][2] = 2\n",
    "B[1][0] = 6\n",
    "B[1][1] = 7\n",
    "B[1][2] = 3\n",
    "\n",
    "Kroneckerproduct( A , B )\n",
    "\n",
    "# This code is contributed by Saloni.\n"
   ]
  }
 ],
 "metadata": {
  "kernelspec": {
   "display_name": "Python 3 (ipykernel)",
   "language": "python",
   "name": "python3"
  },
  "language_info": {
   "codemirror_mode": {
    "name": "ipython",
    "version": 3
   },
   "file_extension": ".py",
   "mimetype": "text/x-python",
   "name": "python",
   "nbconvert_exporter": "python",
   "pygments_lexer": "ipython3",
   "version": "3.9.12"
  }
 },
 "nbformat": 4,
 "nbformat_minor": 5
}
