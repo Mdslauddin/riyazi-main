{
 "cells": [
  {
   "cell_type": "markdown",
   "id": "1c86a36c",
   "metadata": {},
   "source": [
    "### Compute the subspace angles between two matrices."
   ]
  },
  {
   "cell_type": "code",
   "execution_count": 1,
   "id": "17e0f798",
   "metadata": {},
   "outputs": [
    {
     "name": "stdout",
     "output_type": "stream",
     "text": [
      "[[ 1  1  1  1]\n",
      " [ 1 -1  1 -1]\n",
      " [ 1  1 -1 -1]\n",
      " [ 1 -1 -1  1]]\n"
     ]
    }
   ],
   "source": [
    "from numpy.random import default_rng\n",
    "from scipy.linalg import hadamard, subspace_angles\n",
    "rng = default_rng()\n",
    "H = hadamard(4)\n",
    "print(H)"
   ]
  },
  {
   "cell_type": "code",
   "execution_count": 2,
   "id": "72b89749",
   "metadata": {},
   "outputs": [],
   "source": [
    "import numpy as np "
   ]
  },
  {
   "cell_type": "code",
   "execution_count": 3,
   "id": "76db4d86",
   "metadata": {},
   "outputs": [
    {
     "data": {
      "text/plain": [
       "array([90., 90.])"
      ]
     },
     "execution_count": 3,
     "metadata": {},
     "output_type": "execute_result"
    }
   ],
   "source": [
    "np.rad2deg(subspace_angles(H[:, :2], H[:, 2:]))"
   ]
  },
  {
   "cell_type": "code",
   "execution_count": 4,
   "id": "03e737f0",
   "metadata": {},
   "outputs": [
    {
     "data": {
      "text/plain": [
       "array([ True,  True])"
      ]
     },
     "execution_count": 4,
     "metadata": {},
     "output_type": "execute_result"
    }
   ],
   "source": [
    "subspace_angles(H[:, :2], H[:, :2]) <= 2 * np.finfo(float).eps"
   ]
  },
  {
   "cell_type": "code",
   "execution_count": 5,
   "id": "49b581e9",
   "metadata": {},
   "outputs": [
    {
     "data": {
      "text/plain": [
       "array([46.53883656])"
      ]
     },
     "execution_count": 5,
     "metadata": {},
     "output_type": "execute_result"
    }
   ],
   "source": [
    "x = rng.standard_normal((4, 3))\n",
    "np.rad2deg(subspace_angles(x[:, :2], x[:, [2]]))"
   ]
  },
  {
   "cell_type": "code",
   "execution_count": null,
   "id": "82d1970b",
   "metadata": {},
   "outputs": [],
   "source": []
  }
 ],
 "metadata": {
  "kernelspec": {
   "display_name": "Python 3 (ipykernel)",
   "language": "python",
   "name": "python3"
  },
  "language_info": {
   "codemirror_mode": {
    "name": "ipython",
    "version": 3
   },
   "file_extension": ".py",
   "mimetype": "text/x-python",
   "name": "python",
   "nbconvert_exporter": "python",
   "pygments_lexer": "ipython3",
   "version": "3.9.12"
  }
 },
 "nbformat": 4,
 "nbformat_minor": 5
}
