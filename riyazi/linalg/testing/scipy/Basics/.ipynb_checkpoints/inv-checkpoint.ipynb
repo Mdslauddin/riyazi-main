{
 "cells": [
  {
   "cell_type": "markdown",
   "id": "d93f2cbc",
   "metadata": {},
   "source": [
    "### Compute the inverse of a matrix."
   ]
  },
  {
   "cell_type": "code",
   "execution_count": null,
   "id": "2cba0dff",
   "metadata": {
    "scrolled": true
   },
   "outputs": [],
   "source": [
    "import numpy as np \n",
    "from scipy import linalg\n",
    "a = np.array([[1., 2.], [3., 4.]])\n",
    "a , linalg.inv(a)"
   ]
  },
  {
   "cell_type": "code",
   "execution_count": null,
   "id": "f99aabc9",
   "metadata": {},
   "outputs": [],
   "source": [
    "np.dot(a, linalg.inv(a))"
   ]
  },
  {
   "cell_type": "code",
   "execution_count": null,
   "id": "ce4e7a9e",
   "metadata": {},
   "outputs": [],
   "source": [
    "b = np.array([[3,4],[5,6]])\n",
    "linalg.inv(b)"
   ]
  },
  {
   "cell_type": "code",
   "execution_count": null,
   "id": "179ca195",
   "metadata": {},
   "outputs": [],
   "source": [
    "c = np.array([[3,4,5],[5,6,7]])\n",
    "linalg.inv(c)"
   ]
  },
  {
   "cell_type": "code",
   "execution_count": null,
   "id": "3eceb282",
   "metadata": {},
   "outputs": [],
   "source": [
    "def transpose(mat):\n",
    "    return map(list,zip(*mat))\n",
    "\n",
    "def minor(mat,i,j):\n",
    "    return [row[:j] + row[j+1:] for row in (mat[:i]+mat[i+1:])]\n",
    "\n",
    "def det(mat):\n",
    "    if len(mat) == 2:\n",
    "        return mat[0][0]*mat[1][1]-mat[0][1]*mat[1][0]\n",
    "\n",
    "    determinant = 0\n",
    "    for c in range(len(m)):\n",
    "        determinant += ((-1)**c)*m[0][c]*det(minor(m,0,c))\n",
    "    return determinant\n",
    "\n",
    "def inverse(m):\n",
    "    determinant = det(m)\n",
    "    if len(m) == 2:\n",
    "        return np.array([[m[1][1]/determinant, -1*m[0][1]/determinant],\n",
    "                [-1*m[1][0]/determinant, m[0][0]/determinant]])\n",
    "\n",
    "    cfs = []\n",
    "    for r in range(len(m)):\n",
    "        cfRow = []\n",
    "        for c in range(len(m)):\n",
    "            minor = minor(m,r,c)\n",
    "            cfRow.append(((-1)**(r+c)) * det(minor))\n",
    "        cfs.append(cfRow)\n",
    "    cfs =transpose(cfs)\n",
    "    for r in range(len(cfs)):\n",
    "        for c in range(len(cfs)):\n",
    "            cfs[r][c] = cfs[r][c]/determinant\n",
    "    return np.array([cfs])\n",
    "\n",
    "m = [[4,3],[8,5]]\n",
    "print(inverse(m))"
   ]
  },
  {
   "cell_type": "code",
   "execution_count": null,
   "id": "26ba70d0",
   "metadata": {
    "scrolled": true
   },
   "outputs": [],
   "source": [
    "inverse(a)"
   ]
  },
  {
   "cell_type": "code",
   "execution_count": null,
   "id": "52208837",
   "metadata": {},
   "outputs": [],
   "source": [
    "inverse(b)"
   ]
  },
  {
   "cell_type": "code",
   "execution_count": null,
   "id": "a8408e4f",
   "metadata": {},
   "outputs": [],
   "source": [
    "inverse_matrix(c)"
   ]
  },
  {
   "cell_type": "code",
   "execution_count": null,
   "id": "3d857575",
   "metadata": {},
   "outputs": [],
   "source": [
    "if det(A) != 0\n",
    "    A-1 = adj(A)/det(A)\n",
    "else\n",
    "    \"Inverse doesn't exist\"  "
   ]
  },
  {
   "cell_type": "code",
   "execution_count": 1,
   "id": "b93dac55",
   "metadata": {},
   "outputs": [],
   "source": [
    "import numpy as np \n",
    "from scipy import linalg\n",
    "def inverse(a):\n",
    "    determinant = linalg.det(a)\n",
    "    if len(a) == 2:\n",
    "        return np.array([[a[1][1]/determinant, -1*a[0][1]/determinant],\n",
    "                [-1*a[1][0]/determinant, a[0][0]/determinant]])\n"
   ]
  },
  {
   "cell_type": "code",
   "execution_count": 3,
   "id": "c864fb0e",
   "metadata": {},
   "outputs": [
    {
     "data": {
      "text/plain": [
       "array([[-2. ,  1. ],\n",
       "       [ 1.5, -0.5]])"
      ]
     },
     "execution_count": 3,
     "metadata": {},
     "output_type": "execute_result"
    }
   ],
   "source": [
    "inverse(a)"
   ]
  },
  {
   "cell_type": "code",
   "execution_count": null,
   "id": "6d59a203",
   "metadata": {},
   "outputs": [],
   "source": [
    "from scipy import linalg"
   ]
  },
  {
   "cell_type": "code",
   "execution_count": null,
   "id": "6f900010",
   "metadata": {},
   "outputs": [],
   "source": [
    "linalg.inv(a)"
   ]
  },
  {
   "cell_type": "code",
   "execution_count": 2,
   "id": "fdbe2a66",
   "metadata": {},
   "outputs": [],
   "source": [
    "a = np.array([[1., 2.], [3., 4.]])\n",
    "# linalg.inv(a)"
   ]
  },
  {
   "cell_type": "code",
   "execution_count": null,
   "id": "26f7d53a",
   "metadata": {},
   "outputs": [],
   "source": [
    "np.dot(a, linalg.inv(a))"
   ]
  },
  {
   "cell_type": "code",
   "execution_count": null,
   "id": "ffe65a02",
   "metadata": {},
   "outputs": [],
   "source": []
  },
  {
   "cell_type": "code",
   "execution_count": null,
   "id": "c247fd92",
   "metadata": {},
   "outputs": [],
   "source": []
  },
  {
   "cell_type": "code",
   "execution_count": null,
   "id": "b69a08db",
   "metadata": {},
   "outputs": [],
   "source": []
  },
  {
   "cell_type": "code",
   "execution_count": null,
   "id": "2ec31301",
   "metadata": {},
   "outputs": [],
   "source": [
    "def print_matrix(Title, M):\n",
    "    print(Title)\n",
    "    for row in M:\n",
    "        print([round(x,3)+0 for x in row])\n",
    "        \n",
    "def print_matrices(Action, Title1, M1, Title2, M2):\n",
    "    print(Action)\n",
    "    print(Title1, '\\t'*int(len(M1)/2)+\"\\t\"*len(M1), Title2)\n",
    "    for i in range(len(M1)):\n",
    "        row1 = ['{0:+7.3f}'.format(x) for x in M1[i]]\n",
    "        row2 = ['{0:+7.3f}'.format(x) for x in M2[i]]\n",
    "        print(row1,'\\t', row2)\n",
    "        \n",
    "def zeros(rows, cols):\n",
    "    A = []\n",
    "    for i in range(rows):\n",
    "        A.append([])\n",
    "        for j in range(cols):\n",
    "            A[-1].append(0.0)\n",
    "\n",
    "    return A\n",
    "\n",
    "def copy(M):\n",
    "    rows = len(M)\n",
    "    cols = len(M[0])\n",
    "\n",
    "    MC = zeros(rows, cols)\n",
    "\n",
    "    for i in range(rows):\n",
    "        for j in range(rows):\n",
    "            MC[i][j] = M[i][j]\n",
    "\n",
    "    return MC\n",
    "\n",
    "def multiply(A,B):\n",
    "    rowsA = len(A)\n",
    "    colsA = len(A[0])\n",
    "\n",
    "    rowsB = len(B)\n",
    "    colsB = len(B[0])\n",
    "\n",
    "    if colsA != rowsB:\n",
    "        print('Number of A columns must equal number of B rows.')\n",
    "        sys.exit()\n",
    "\n",
    "    C = zeros(rowsA, colsB)\n",
    "\n",
    "    for i in range(rowsA):\n",
    "        for j in range(colsB):\n",
    "            total = 0\n",
    "            for ii in range(colsA):\n",
    "                total += A[i][ii] * B[ii][j]\n",
    "            C[i][j] = total\n",
    "\n",
    "    return C"
   ]
  },
  {
   "cell_type": "code",
   "execution_count": null,
   "id": "348bb87e",
   "metadata": {},
   "outputs": [],
   "source": [
    "A = [[5,4,3,2,1],[4,3,2,1,5],[3,2,9,5,4],[2,1,5,4,3],[1,2,3,4,5]]\n",
    "I = [[1,0,0,0,0],[0,1,0,0,0],[0,0,1,0,0],[0,0,0,1,0],[0,0,0,0,1]]\n",
    "print_matrix('A Matrix', A)\n",
    "print()\n",
    "print_matrix('I Matrix', I)"
   ]
  },
  {
   "cell_type": "code",
   "execution_count": null,
   "id": "4930c743",
   "metadata": {},
   "outputs": [],
   "source": [
    "AM = copy(A)\n",
    "IM = copy(I)\n",
    "n = len(AM)\n",
    "\n",
    "exString = \"\"\"\n",
    "Since the matrices won't be the original A and I as we start row operations, \n",
    "    the matrices will be called: AM for \"A Morphing\", and IM for \"I Morphing\" \n",
    "\"\"\"\n",
    "print(exString)\n",
    "print_matrix('AM Matrix', AM)\n",
    "print()\n",
    "print_matrix('IM Matrix', IM)"
   ]
  },
  {
   "cell_type": "code",
   "execution_count": null,
   "id": "13a57ba4",
   "metadata": {},
   "outputs": [],
   "source": [
    "# Run this cell then the next cell for fd = 0\n",
    "# Then run for the remaining columns using cell 6\n",
    "# Then check for identity matrix in cell 7.\n",
    "\n",
    "fd = 0 # fd stands for focus diagonal OR the current diagonal\n",
    "fdScaler = 1. / AM[fd][fd]\n",
    "\n",
    "for j in range(n): # using j to indicate cycling thru columns\n",
    "    AM[fd][j] = fdScaler * AM[fd][j]\n",
    "    IM[fd][j] = fdScaler * IM[fd][j]\n",
    "\n",
    "print_matrix('AM Matrix', AM)\n",
    "print()\n",
    "print_matrix('IM Matrix', IM)"
   ]
  },
  {
   "cell_type": "code",
   "execution_count": null,
   "id": "d0945fdd",
   "metadata": {},
   "outputs": [],
   "source": [
    "def invert(A, tol=None):\n",
    "    \"\"\"\n",
    "    Returns the inverse of the passed in matrix.\n",
    "        :param A: The matrix to be inversed\n",
    " \n",
    "        :return: The inverse of the matrix A\n",
    "    \"\"\"\n",
    "    # Section 1: Make sure A can be inverted.\n",
    "   # check_squareness(A)\n",
    "   # check_non_singular(A)\n",
    " \n",
    "    # Section 2: Make copies of A & I, AM & IM, to use for row ops\n",
    "    n = len(A)\n",
    "    AM = copy(A)\n",
    "    I = identity(n)\n",
    "    IM = copy(I)\n",
    " \n",
    "    # Section 3: Perform row operations\n",
    "    indices = list(range(n)) # to allow flexible row referencing ***\n",
    "    for fd in range(n): # fd stands for focus diagonal\n",
    "        fdScaler = 1.0 / AM[fd][fd]\n",
    "        # FIRST: scale fd row with fd inverse. \n",
    "        for j in range(n): # Use j to indicate column looping.\n",
    "            AM[fd][j] *= fdScaler\n",
    "            IM[fd][j] *= fdScaler\n",
    "        # SECOND: operate on all rows except fd row as follows:\n",
    "        for i in indices[0:fd] + indices[fd+1:]: \n",
    "            # *** skip row with fd in it.\n",
    "            crScaler = AM[i][fd] # cr stands for \"current row\".\n",
    "            for j in range(n): \n",
    "                # cr - crScaler * fdRow, but one element at a time.\n",
    "                AM[i][j] = AM[i][j] - crScaler * AM[fd][j]\n",
    "                IM[i][j] = IM[i][j] - crScaler * IM[fd][j]\n",
    " \n",
    "    # Section 4: Make sure IM is an inverse of A with specified tolerance\n",
    "    if check_matrix_equality(I,multiply(A,IM),tol):\n",
    "        return IM\n",
    "    else:\n",
    "        raise ArithmeticError(\"Matrix inverse out of tolerance.\")"
   ]
  },
  {
   "cell_type": "code",
   "execution_count": null,
   "id": "3463ca6a",
   "metadata": {},
   "outputs": [],
   "source": [
    "import numpy as np \n",
    "a = np.array([[5., 3., 1.], [3., 9., 4.], [1., 3., 5.]])\n",
    "print(a, '\\n')\n",
    "\n",
    "ainv = invert(a)\n",
    "ainv = ainv.round(3)\n",
    " \n",
    "print(ainv)"
   ]
  },
  {
   "cell_type": "code",
   "execution_count": null,
   "id": "a59e672d",
   "metadata": {},
   "outputs": [],
   "source": [
    "import numpy as np\n",
    "from numpy.linalg import inv\n",
    " \n",
    "a = np.array([[5., 3., 1.], [3., 9., 4.], [1., 3., 5.]])\n",
    "print(a, '\\n')\n",
    " \n",
    "ainv = inv(a)\n",
    "ainv = ainv.round(3)\n",
    " \n",
    "print(ainv)"
   ]
  },
  {
   "cell_type": "code",
   "execution_count": null,
   "id": "aa0c595c",
   "metadata": {},
   "outputs": [],
   "source": [
    "def getMatrixMinor(m,i,j):\n",
    "    return [row[:j] + row[j+1:] for row in (m[:i]+m[i+1:])]\n",
    "\n",
    "def getMatrixDeternminant(m):\n",
    "    #base case for 2x2 matrix\n",
    "    if len(m) == 2:\n",
    "        return m[0][0]*m[1][1]-m[0][1]*m[1][0]\n",
    "\n",
    "    determinant = 0\n",
    "    for c in range(len(m)):\n",
    "        determinant += ((-1)**c)*m[0][c]*getMatrixDeternminant(getMatrixMinor(m,0,c))\n",
    "    return determinant\n",
    "\n",
    "def getMatrixInverse(m):\n",
    "    determinant = getMatrixDeternminant(m)\n",
    "    #special case for 2x2 matrix:\n",
    "    if len(m) == 2:\n",
    "        return [[m[1][1]/determinant, -1*m[0][1]/determinant],\n",
    "                [-1*m[1][0]/determinant, m[0][0]/determinant]]\n",
    "\n",
    "    #find matrix of cofactors\n",
    "    cofactors = []\n",
    "    for r in range(len(m)):\n",
    "        cofactorRow = []\n",
    "        for c in range(len(m)):\n",
    "            minor = getMatrixMinor(m,r,c)\n",
    "            cofactorRow.append(((-1)**(r+c)) * getMatrixDeternminant(minor))\n",
    "        cofactors.append(cofactorRow)\n",
    "    cofactors = transposeMatrix(cofactors)\n",
    "    for r in range(len(cofactors)):\n",
    "        for c in range(len(cofactors)):\n",
    "            cofactors[r][c] = cofactors[r][c]/determinant\n",
    "    return cofactors"
   ]
  },
  {
   "cell_type": "code",
   "execution_count": null,
   "id": "2eba82bd",
   "metadata": {},
   "outputs": [],
   "source": [
    "getMatrixInverse(a)"
   ]
  },
  {
   "cell_type": "code",
   "execution_count": null,
   "id": "c18f193a",
   "metadata": {},
   "outputs": [],
   "source": [
    "# https://www.delftstack.com/howto/python/\n",
    "def inverse_matrix(m):\n",
    "    determinant = return_determinant(m)\n",
    "    if len(m) == 2:\n",
    "        return [[m[1][1]/determinant, -1*m[0][1]/determinant],\n",
    "                [-1*m[1][0]/determinant, m[0][0]/determinant]]\n",
    "\n",
    "    cfs = []\n",
    "    for r in range(len(m)):\n",
    "        cfRow = []\n",
    "        for c in range(len(m)):\n",
    "            minor = return_matrix_minor(m,r,c)\n",
    "            cfRow.append(((-1)**(r+c)) * return_determinant(minor))\n",
    "        cfs.append(cfRow)\n",
    "    cfs = return_transpose(cfs)\n",
    "    for r in range(len(cfs)):\n",
    "        for c in range(len(cfs)):\n",
    "            cfs[r][c] = cfs[r][c]/determinant\n",
    "    return cfs"
   ]
  },
  {
   "cell_type": "code",
   "execution_count": null,
   "id": "75afd262",
   "metadata": {},
   "outputs": [],
   "source": []
  }
 ],
 "metadata": {
  "kernelspec": {
   "display_name": "Python 3 (ipykernel)",
   "language": "python",
   "name": "python3"
  },
  "language_info": {
   "codemirror_mode": {
    "name": "ipython",
    "version": 3
   },
   "file_extension": ".py",
   "mimetype": "text/x-python",
   "name": "python",
   "nbconvert_exporter": "python",
   "pygments_lexer": "ipython3",
   "version": "3.9.12"
  }
 },
 "nbformat": 4,
 "nbformat_minor": 5
}
