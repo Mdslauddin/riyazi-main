{
 "cells": [
  {
   "cell_type": "markdown",
   "id": "cc004e72",
   "metadata": {},
   "source": [
    "### Check if a square 2D array is symmetric."
   ]
  },
  {
   "cell_type": "code",
   "execution_count": null,
   "id": "597cb615",
   "metadata": {},
   "outputs": [],
   "source": [
    "from scipy.linalg import issymmetric\n",
    "A = np.arange(9).reshape(3, 3)\n",
    "A = A + A.T\n",
    "issymmetric(A)"
   ]
  },
  {
   "cell_type": "code",
   "execution_count": null,
   "id": "de4ffcfb",
   "metadata": {},
   "outputs": [],
   "source": [
    "Ac = np.array([[1. + 1.j, 3.j], [3.j, 2.]])\n",
    "issymmetric(Ac)  # not Hermitian but symmetric"
   ]
  }
 ],
 "metadata": {
  "kernelspec": {
   "display_name": "Python 3 (ipykernel)",
   "language": "python",
   "name": "python3"
  },
  "language_info": {
   "codemirror_mode": {
    "name": "ipython",
    "version": 3
   },
   "file_extension": ".py",
   "mimetype": "text/x-python",
   "name": "python",
   "nbconvert_exporter": "python",
   "pygments_lexer": "ipython3",
   "version": "3.9.12"
  }
 },
 "nbformat": 4,
 "nbformat_minor": 5
}
