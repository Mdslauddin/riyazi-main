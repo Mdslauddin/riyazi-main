{
 "cells": [
  {
   "cell_type": "markdown",
   "id": "e0c0faec",
   "metadata": {},
   "source": [
    "https://gist.github.com/fabianp/50597e6c629ca4d6ec1781292fcdf60b"
   ]
  },
  {
   "cell_type": "code",
   "execution_count": 1,
   "id": "0f5e0443",
   "metadata": {},
   "outputs": [
    {
     "name": "stdout",
     "output_type": "stream",
     "text": [
      "%pylab is deprecated, use %matplotlib inline and import the required libraries.\n",
      "Populating the interactive namespace from numpy and matplotlib\n"
     ]
    }
   ],
   "source": [
    "%pylab inline"
   ]
  },
  {
   "cell_type": "code",
   "execution_count": 2,
   "id": "daf809aa",
   "metadata": {},
   "outputs": [],
   "source": [
    "import numpy as np"
   ]
  },
  {
   "cell_type": "code",
   "execution_count": 3,
   "id": "27d82e51",
   "metadata": {},
   "outputs": [],
   "source": [
    "# suppose we want to minimize the quadratic loss function\n",
    "# 1/n ||A x - b||^2\n",
    "n_samples, n_features = 100, 10\n",
    "A = np.random.randn(n_samples, n_features)\n",
    "b = np.random.randn(n_samples)\n",
    "def partial_grad(x):\n",
    "    i = np.random.randint(n_samples)\n",
    "    return i, A[i] * (A[i].dot(x) - b[i])\n",
    "\n",
    "def saga(pg, x, step_size, n_samples, max_iter=n_samples * 1000):\n",
    "    memory_gradients = np.zeros((n_samples, n_features))\n",
    "    for _ in range(max_iter):\n",
    "        i, cur_grad = pg(x)\n",
    "        x -= step_size * (cur_grad - memory_gradients[i] + memory_gradients.mean(0))\n",
    "        memory_gradients[i] = cur_grad\n",
    "    return x\n",
    "        "
   ]
  },
  {
   "cell_type": "code",
   "execution_count": 4,
   "id": "0ce5bef2",
   "metadata": {},
   "outputs": [
    {
     "data": {
      "text/plain": [
       "array([-0.02149107,  0.04913914, -0.05378981,  0.08446505,  0.204821  ,\n",
       "       -0.06743392, -0.05320146, -0.03240765,  0.09701769,  0.27946358])"
      ]
     },
     "execution_count": 4,
     "metadata": {},
     "output_type": "execute_result"
    }
   ],
   "source": [
    "saga(partial_grad, np.zeros(n_features), 0.01, n_samples)"
   ]
  },
  {
   "cell_type": "code",
   "execution_count": 5,
   "id": "91885f73",
   "metadata": {},
   "outputs": [
    {
     "data": {
      "text/plain": [
       "array([-0.02149107,  0.04913914, -0.05378981,  0.08446505,  0.204821  ,\n",
       "       -0.06743392, -0.05320146, -0.03240765,  0.09701769,  0.27946358])"
      ]
     },
     "execution_count": 5,
     "metadata": {},
     "output_type": "execute_result"
    }
   ],
   "source": [
    "# sanity check, to see if solutions coincide\n",
    "from scipy import linalg\n",
    "linalg.lstsq(A, b)[0]"
   ]
  },
  {
   "cell_type": "code",
   "execution_count": null,
   "id": "78c4e230",
   "metadata": {},
   "outputs": [],
   "source": []
  }
 ],
 "metadata": {
  "kernelspec": {
   "display_name": "Python 3 (ipykernel)",
   "language": "python",
   "name": "python3"
  },
  "language_info": {
   "codemirror_mode": {
    "name": "ipython",
    "version": 3
   },
   "file_extension": ".py",
   "mimetype": "text/x-python",
   "name": "python",
   "nbconvert_exporter": "python",
   "pygments_lexer": "ipython3",
   "version": "3.9.12"
  }
 },
 "nbformat": 4,
 "nbformat_minor": 5
}
