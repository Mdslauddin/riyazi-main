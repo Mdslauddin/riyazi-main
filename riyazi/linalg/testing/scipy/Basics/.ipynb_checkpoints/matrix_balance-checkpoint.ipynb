{
 "cells": [
  {
   "cell_type": "markdown",
   "id": "e0a37d2e",
   "metadata": {},
   "source": [
    "### Compute a diagonal similarity transformation for row/column balancing."
   ]
  },
  {
   "cell_type": "code",
   "execution_count": 1,
   "id": "73184732",
   "metadata": {},
   "outputs": [],
   "source": [
    "import numpy as np "
   ]
  },
  {
   "cell_type": "code",
   "execution_count": 2,
   "id": "e248ec87",
   "metadata": {},
   "outputs": [],
   "source": [
    "from scipy import linalg\n",
    "x = np.array([[1,2,0], [9,1,0.01], [1,2,10*np.pi]])"
   ]
  },
  {
   "cell_type": "code",
   "execution_count": 3,
   "id": "439e27c6",
   "metadata": {},
   "outputs": [
    {
     "data": {
      "text/plain": [
       "array([3.66666667, 0.4995005 , 0.91312162])"
      ]
     },
     "execution_count": 3,
     "metadata": {},
     "output_type": "execute_result"
    }
   ],
   "source": [
    "y, permscale = linalg.matrix_balance(x)\n",
    "np.abs(x).sum(axis=0) / np.abs(x).sum(axis=1)"
   ]
  },
  {
   "cell_type": "code",
   "execution_count": 4,
   "id": "dc95f71c",
   "metadata": {},
   "outputs": [
    {
     "data": {
      "text/plain": [
       "array([1.2       , 1.27041742, 0.92658316])"
      ]
     },
     "execution_count": 4,
     "metadata": {},
     "output_type": "execute_result"
    }
   ],
   "source": [
    "np.abs(y).sum(axis=0) / np.abs(y).sum(axis=1)"
   ]
  },
  {
   "cell_type": "code",
   "execution_count": 5,
   "id": "59120554",
   "metadata": {},
   "outputs": [
    {
     "data": {
      "text/plain": [
       "array([[0.5, 0. , 0. ],\n",
       "       [0. , 1. , 0. ],\n",
       "       [0. , 0. , 1. ]])"
      ]
     },
     "execution_count": 5,
     "metadata": {},
     "output_type": "execute_result"
    }
   ],
   "source": [
    "permscale  # only powers of 2 (0.5 == 2^(-1))"
   ]
  },
  {
   "cell_type": "code",
   "execution_count": null,
   "id": "e95bde5f",
   "metadata": {},
   "outputs": [],
   "source": []
  }
 ],
 "metadata": {
  "kernelspec": {
   "display_name": "Python 3 (ipykernel)",
   "language": "python",
   "name": "python3"
  },
  "language_info": {
   "codemirror_mode": {
    "name": "ipython",
    "version": 3
   },
   "file_extension": ".py",
   "mimetype": "text/x-python",
   "name": "python",
   "nbconvert_exporter": "python",
   "pygments_lexer": "ipython3",
   "version": "3.9.12"
  }
 },
 "nbformat": 4,
 "nbformat_minor": 5
}
