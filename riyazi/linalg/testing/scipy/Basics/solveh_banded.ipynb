{
 "cells": [
  {
   "cell_type": "markdown",
   "id": "bbb0c828",
   "metadata": {},
   "source": [
    "### Solve equation a x = b."
   ]
  },
  {
   "cell_type": "code",
   "execution_count": 2,
   "id": "476051a1",
   "metadata": {},
   "outputs": [],
   "source": [
    "import numpy as np "
   ]
  },
  {
   "cell_type": "code",
   "execution_count": 4,
   "id": "f3ece752",
   "metadata": {},
   "outputs": [],
   "source": [
    "from scipy.linalg import solveh_banded"
   ]
  },
  {
   "cell_type": "code",
   "execution_count": 5,
   "id": "21469a3c",
   "metadata": {},
   "outputs": [
    {
     "data": {
      "text/plain": [
       "array([0.03431373, 0.45938375, 0.05602241, 0.47759104, 0.17577031,\n",
       "       0.34733894])"
      ]
     },
     "execution_count": 5,
     "metadata": {},
     "output_type": "execute_result"
    }
   ],
   "source": [
    "ab = np.array([[ 4,  5,  6,  7, 8, 9],\n",
    "               [ 2,  2,  2,  2, 2, 0],\n",
    "               [-1, -1, -1, -1, 0, 0]])\n",
    "b = np.array([1, 2, 2, 3, 3, 3])\n",
    "x = solveh_banded(ab, b, lower=True)\n",
    "x"
   ]
  },
  {
   "cell_type": "code",
   "execution_count": 6,
   "id": "901c4702",
   "metadata": {},
   "outputs": [
    {
     "data": {
      "text/plain": [
       "array([ 0.07318536-0.02939412j,  0.11877624+0.17696461j,\n",
       "        0.10077984-0.23035393j, -0.00479904-0.09358128j])"
      ]
     },
     "execution_count": 6,
     "metadata": {},
     "output_type": "execute_result"
    }
   ],
   "source": [
    "hb = np.array([[0, 2-1j, 1j, -2-1j],\n",
    "               [8,  5,    9,   6  ]])\n",
    "b = np.array([1, 1+1j, 1-2j, 0])\n",
    "x = solveh_banded(hb, b)\n",
    "x"
   ]
  },
  {
   "cell_type": "code",
   "execution_count": null,
   "id": "d080fb5d",
   "metadata": {},
   "outputs": [],
   "source": []
  }
 ],
 "metadata": {
  "kernelspec": {
   "display_name": "Python 3 (ipykernel)",
   "language": "python",
   "name": "python3"
  },
  "language_info": {
   "codemirror_mode": {
    "name": "ipython",
    "version": 3
   },
   "file_extension": ".py",
   "mimetype": "text/x-python",
   "name": "python",
   "nbconvert_exporter": "python",
   "pygments_lexer": "ipython3",
   "version": "3.9.12"
  }
 },
 "nbformat": 4,
 "nbformat_minor": 5
}
