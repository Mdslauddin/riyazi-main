{
 "cells": [
  {
   "cell_type": "markdown",
   "id": "bd611abd",
   "metadata": {},
   "source": [
    "### Efficient Toeplitz Matrix-Matrix Multiplication using FFT"
   ]
  },
  {
   "cell_type": "code",
   "execution_count": 1,
   "id": "505c90f6",
   "metadata": {},
   "outputs": [],
   "source": [
    "import numpy as np "
   ]
  },
  {
   "cell_type": "code",
   "execution_count": 2,
   "id": "aae27e58",
   "metadata": {},
   "outputs": [],
   "source": [
    "c = np.array([1, 3, 6, 10])    # First column of T\n",
    "r = np.array([1, -1, -2, -3])  # First row of T\n",
    "x = np.array([[1, 10], [2, 11], [2, 11], [5, 19]])"
   ]
  },
  {
   "cell_type": "code",
   "execution_count": 3,
   "id": "720471a8",
   "metadata": {},
   "outputs": [
    {
     "data": {
      "text/plain": [
       "array([[-20., -80.],\n",
       "       [ -7.,  -8.],\n",
       "       [  9.,  85.],\n",
       "       [ 33., 218.]])"
      ]
     },
     "execution_count": 3,
     "metadata": {},
     "output_type": "execute_result"
    }
   ],
   "source": [
    "from scipy.linalg import toeplitz, matmul_toeplitz\n",
    "matmul_toeplitz((c, r), x)"
   ]
  },
  {
   "cell_type": "code",
   "execution_count": 4,
   "id": "7e3c4bff",
   "metadata": {},
   "outputs": [
    {
     "data": {
      "text/plain": [
       "array([[-20, -80],\n",
       "       [ -7,  -8],\n",
       "       [  9,  85],\n",
       "       [ 33, 218]])"
      ]
     },
     "execution_count": 4,
     "metadata": {},
     "output_type": "execute_result"
    }
   ],
   "source": [
    "toeplitz(c, r) @ x"
   ]
  },
  {
   "cell_type": "code",
   "execution_count": 5,
   "id": "32cbb3e1",
   "metadata": {},
   "outputs": [
    {
     "data": {
      "text/plain": [
       "array([1., 1., 1., ..., 1., 1., 1.])"
      ]
     },
     "execution_count": 5,
     "metadata": {},
     "output_type": "execute_result"
    }
   ],
   "source": [
    "n = 1000000\n",
    "matmul_toeplitz([1] + [0]*(n-1), np.ones(n))"
   ]
  },
  {
   "cell_type": "code",
   "execution_count": null,
   "id": "91285fd1",
   "metadata": {},
   "outputs": [],
   "source": []
  }
 ],
 "metadata": {
  "kernelspec": {
   "display_name": "Python 3 (ipykernel)",
   "language": "python",
   "name": "python3"
  },
  "language_info": {
   "codemirror_mode": {
    "name": "ipython",
    "version": 3
   },
   "file_extension": ".py",
   "mimetype": "text/x-python",
   "name": "python",
   "nbconvert_exporter": "python",
   "pygments_lexer": "ipython3",
   "version": "3.9.12"
  }
 },
 "nbformat": 4,
 "nbformat_minor": 5
}
