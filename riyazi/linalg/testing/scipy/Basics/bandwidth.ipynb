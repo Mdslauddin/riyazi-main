{
 "cells": [
  {
   "cell_type": "markdown",
   "id": "0675f372",
   "metadata": {},
   "source": [
    "### Return the lower and upper bandwidth of a 2D numeric array."
   ]
  },
  {
   "cell_type": "code",
   "execution_count": 1,
   "id": "b27af8b9",
   "metadata": {},
   "outputs": [
    {
     "ename": "ImportError",
     "evalue": "cannot import name 'bandwidth' from 'scipy.linalg' (D:\\Anaconda\\lib\\site-packages\\scipy\\linalg\\__init__.py)",
     "output_type": "error",
     "traceback": [
      "\u001b[1;31m---------------------------------------------------------------------------\u001b[0m",
      "\u001b[1;31mImportError\u001b[0m                               Traceback (most recent call last)",
      "Input \u001b[1;32mIn [1]\u001b[0m, in \u001b[0;36m<cell line: 1>\u001b[1;34m()\u001b[0m\n\u001b[1;32m----> 1\u001b[0m \u001b[38;5;28;01mfrom\u001b[39;00m \u001b[38;5;21;01mscipy\u001b[39;00m\u001b[38;5;21;01m.\u001b[39;00m\u001b[38;5;21;01mlinalg\u001b[39;00m \u001b[38;5;28;01mimport\u001b[39;00m bandwidth\n\u001b[0;32m      2\u001b[0m A \u001b[38;5;241m=\u001b[39m np\u001b[38;5;241m.\u001b[39marray([[\u001b[38;5;241m3.\u001b[39m, \u001b[38;5;241m0.\u001b[39m, \u001b[38;5;241m0.\u001b[39m, \u001b[38;5;241m0.\u001b[39m, \u001b[38;5;241m0.\u001b[39m],\n\u001b[0;32m      3\u001b[0m               [\u001b[38;5;241m0.\u001b[39m, \u001b[38;5;241m4.\u001b[39m, \u001b[38;5;241m0.\u001b[39m, \u001b[38;5;241m0.\u001b[39m, \u001b[38;5;241m0.\u001b[39m],\n\u001b[0;32m      4\u001b[0m               [\u001b[38;5;241m0.\u001b[39m, \u001b[38;5;241m0.\u001b[39m, \u001b[38;5;241m5.\u001b[39m, \u001b[38;5;241m1.\u001b[39m, \u001b[38;5;241m0.\u001b[39m],\n\u001b[0;32m      5\u001b[0m               [\u001b[38;5;241m8.\u001b[39m, \u001b[38;5;241m0.\u001b[39m, \u001b[38;5;241m0.\u001b[39m, \u001b[38;5;241m6.\u001b[39m, \u001b[38;5;241m2.\u001b[39m],\n\u001b[0;32m      6\u001b[0m               [\u001b[38;5;241m0.\u001b[39m, \u001b[38;5;241m9.\u001b[39m, \u001b[38;5;241m0.\u001b[39m, \u001b[38;5;241m0.\u001b[39m, \u001b[38;5;241m7.\u001b[39m]])\n\u001b[0;32m      7\u001b[0m bandwidth(A)\n",
      "\u001b[1;31mImportError\u001b[0m: cannot import name 'bandwidth' from 'scipy.linalg' (D:\\Anaconda\\lib\\site-packages\\scipy\\linalg\\__init__.py)"
     ]
    }
   ],
   "source": [
    "from scipy.linalg import bandwidth\n",
    "A = np.array([[3., 0., 0., 0., 0.],\n",
    "              [0., 4., 0., 0., 0.],\n",
    "              [0., 0., 5., 1., 0.],\n",
    "              [8., 0., 0., 6., 2.],\n",
    "              [0., 9., 0., 0., 7.]])\n",
    "bandwidth(A)"
   ]
  },
  {
   "cell_type": "code",
   "execution_count": null,
   "id": "98902acf",
   "metadata": {},
   "outputs": [],
   "source": []
  }
 ],
 "metadata": {
  "kernelspec": {
   "display_name": "Python 3 (ipykernel)",
   "language": "python",
   "name": "python3"
  },
  "language_info": {
   "codemirror_mode": {
    "name": "ipython",
    "version": 3
   },
   "file_extension": ".py",
   "mimetype": "text/x-python",
   "name": "python",
   "nbconvert_exporter": "python",
   "pygments_lexer": "ipython3",
   "version": "3.9.12"
  }
 },
 "nbformat": 4,
 "nbformat_minor": 5
}
