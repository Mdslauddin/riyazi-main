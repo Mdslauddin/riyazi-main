{
 "cells": [
  {
   "cell_type": "markdown",
   "id": "51def52a",
   "metadata": {},
   "source": [
    "### Solves the linear equation set a * x = b for the unknown x for square a matrix. "
   ]
  },
  {
   "cell_type": "code",
   "execution_count": 3,
   "id": "4fe07399",
   "metadata": {},
   "outputs": [
    {
     "data": {
      "text/plain": [
       "array([ 2., -2.,  9.])"
      ]
     },
     "execution_count": 3,
     "metadata": {},
     "output_type": "execute_result"
    }
   ],
   "source": [
    "import numpy as np\n",
    "a = np.array([[3, 2, 0], [1, -1, 0], [0, 5, 1]])\n",
    "b = np.array([2, 4, -1])\n",
    "from scipy import linalg\n",
    "x = linalg.solve(a, b)\n",
    "x"
   ]
  },
  {
   "cell_type": "code",
   "execution_count": 4,
   "id": "76a59c7d",
   "metadata": {},
   "outputs": [
    {
     "data": {
      "text/plain": [
       "array([ True,  True,  True])"
      ]
     },
     "execution_count": 4,
     "metadata": {},
     "output_type": "execute_result"
    }
   ],
   "source": [
    "np.dot(a, x) == b"
   ]
  },
  {
   "cell_type": "code",
   "execution_count": 11,
   "id": "3399bbcc",
   "metadata": {},
   "outputs": [],
   "source": [
    "def solve(a,b):\n",
    "    import numpy.linalg as ln \n",
    "    x = ln.inv(a).dot(b)\n",
    "    return np.array(x)"
   ]
  },
  {
   "cell_type": "code",
   "execution_count": 12,
   "id": "500a2984",
   "metadata": {},
   "outputs": [
    {
     "data": {
      "text/plain": [
       "array([ 2., -2.,  9.])"
      ]
     },
     "execution_count": 12,
     "metadata": {},
     "output_type": "execute_result"
    }
   ],
   "source": [
    "solve(a,b)"
   ]
  },
  {
   "cell_type": "code",
   "execution_count": 13,
   "id": "6f3c2072",
   "metadata": {},
   "outputs": [
    {
     "data": {
      "text/plain": [
       "array([ True,  True,  True])"
      ]
     },
     "execution_count": 13,
     "metadata": {},
     "output_type": "execute_result"
    }
   ],
   "source": [
    "np.dot(a, x) == b"
   ]
  },
  {
   "cell_type": "code",
   "execution_count": null,
   "id": "ed02ec02",
   "metadata": {},
   "outputs": [],
   "source": []
  },
  {
   "cell_type": "code",
   "execution_count": null,
   "id": "25a9e301",
   "metadata": {},
   "outputs": [],
   "source": []
  },
  {
   "cell_type": "code",
   "execution_count": null,
   "id": "1999e3d1",
   "metadata": {},
   "outputs": [],
   "source": [
    "import numpy as np\n",
    "\n",
    "A = np.array([[4, 3, -5], \n",
    "              [-2, -4, 5], \n",
    "              [8, 8, 0]])\n",
    "y = np.array([2, 5, -3])\n",
    "\n",
    "x = np.linalg.solve(A, y)\n",
    "print(x)"
   ]
  },
  {
   "cell_type": "code",
   "execution_count": null,
   "id": "e948437e",
   "metadata": {},
   "outputs": [],
   "source": [
    "A = np.array([[4, 3, 2], [-2, 2, 3], [3, -5, 2]])\n",
    "B = np.array([25, -10, -4])\n",
    "X = np.linalg.inv(A).dot(B)\n",
    "\n",
    "print(X)"
   ]
  },
  {
   "cell_type": "code",
   "execution_count": null,
   "id": "3acbe009",
   "metadata": {},
   "outputs": [],
   "source": [
    "np.linalg.inv(A).dot(y)"
   ]
  },
  {
   "cell_type": "code",
   "execution_count": null,
   "id": "e46dd958",
   "metadata": {},
   "outputs": [],
   "source": [
    "from numpy.linalg import *\n",
    "\n",
    "def solve(a,b):\n",
    "    from numpy.linalg import inv, dot\n",
    "    x = inv(a).dot(b)\n",
    "    return np.array(x)"
   ]
  },
  {
   "cell_type": "code",
   "execution_count": null,
   "id": "bd8403f1",
   "metadata": {
    "scrolled": true
   },
   "outputs": [],
   "source": [
    "solve(A,y)"
   ]
  },
  {
   "cell_type": "code",
   "execution_count": null,
   "id": "67cc5db7",
   "metadata": {},
   "outputs": [],
   "source": [
    "from numpy.linalg import inv, dot"
   ]
  },
  {
   "cell_type": "markdown",
   "id": "ee1e85a5",
   "metadata": {},
   "source": [
    "https://pythonnumericalmethods.berkeley.edu/notebooks/chapter14.05-Solve-Systems-of-Linear-Equations-in-Python.html"
   ]
  },
  {
   "cell_type": "code",
   "execution_count": null,
   "id": "efbbee32",
   "metadata": {},
   "outputs": [],
   "source": [
    "import functools\n",
    "import operator\n",
    "import warnings"
   ]
  },
  {
   "cell_type": "code",
   "execution_count": null,
   "id": "dc031924",
   "metadata": {},
   "outputs": [],
   "source": [
    "def _solve_dispatcher(a, b):\n",
    "    return (a, b)"
   ]
  },
  {
   "cell_type": "code",
   "execution_count": null,
   "id": "cafe9347",
   "metadata": {},
   "outputs": [],
   "source": [
    "array_function_dispatch = functools.partial(\n",
    "    overrides.array_function_dispatch, module='numpy.linalg')"
   ]
  },
  {
   "cell_type": "code",
   "execution_count": null,
   "id": "b1cfabdf",
   "metadata": {},
   "outputs": [],
   "source": [
    "@array_function_dispatch(_solve_dispatcher)\n",
    "def solve(a, b):\n",
    "    \"\"\"\n",
    "    Solve a linear matrix equation, or system of linear scalar equations.\n",
    "    Computes the \"exact\" solution, `x`, of the well-determined, i.e., full\n",
    "    rank, linear matrix equation `ax = b`.\n",
    "    Parameters\n",
    "    ----------\n",
    "    a : (..., M, M) array_like\n",
    "        Coefficient matrix.\n",
    "    b : {(..., M,), (..., M, K)}, array_like\n",
    "        Ordinate or \"dependent variable\" values.\n",
    "    Returns\n",
    "    -------\n",
    "    x : {(..., M,), (..., M, K)} ndarray\n",
    "        Solution to the system a x = b.  Returned shape is identical to `b`.\n",
    "    Raises\n",
    "    ------\n",
    "    LinAlgError\n",
    "        If `a` is singular or not square.\n",
    "    See Also\n",
    "    --------\n",
    "    scipy.linalg.solve : Similar function in SciPy.\n",
    "    Notes\n",
    "    -----\n",
    "    .. versionadded:: 1.8.0\n",
    "    Broadcasting rules apply, see the `numpy.linalg` documentation for\n",
    "    details.\n",
    "    The solutions are computed using LAPACK routine ``_gesv``.\n",
    "    `a` must be square and of full-rank, i.e., all rows (or, equivalently,\n",
    "    columns) must be linearly independent; if either is not true, use\n",
    "    `lstsq` for the least-squares best \"solution\" of the\n",
    "    system/equation.\n",
    "    References\n",
    "    ----------\n",
    "    .. [1] G. Strang, *Linear Algebra and Its Applications*, 2nd Ed., Orlando,\n",
    "           FL, Academic Press, Inc., 1980, pg. 22.\n",
    "    Examples\n",
    "    --------\n",
    "    Solve the system of equations ``x0 + 2 * x1 = 1`` and ``3 * x0 + 5 * x1 = 2``:\n",
    "    >>> a = np.array([[1, 2], [3, 5]])\n",
    "    >>> b = np.array([1, 2])\n",
    "    >>> x = np.linalg.solve(a, b)\n",
    "    >>> x\n",
    "    array([-1.,  1.])\n",
    "    Check that the solution is correct:\n",
    "    >>> np.allclose(np.dot(a, x), b)\n",
    "    True\n",
    "    \"\"\"\n",
    "    a, _ = _makearray(a)\n",
    "    _assert_stacked_2d(a)\n",
    "    _assert_stacked_square(a)\n",
    "    b, wrap = _makearray(b)\n",
    "    t, result_t = _commonType(a, b)\n",
    "\n",
    "    # We use the b = (..., M,) logic, only if the number of extra dimensions\n",
    "    # match exactly\n",
    "    if b.ndim == a.ndim - 1:\n",
    "        gufunc = _umath_linalg.solve1\n",
    "    else:\n",
    "        gufunc = _umath_linalg.solve\n",
    "\n",
    "    signature = 'DD->D' if isComplexType(t) else 'dd->d'\n",
    "    extobj = get_linalg_error_extobj(_raise_linalgerror_singular)\n",
    "    r = gufunc(a, b, signature=signature, extobj=extobj)\n",
    "\n",
    "    return wrap(r.astype(result_t, copy=False))"
   ]
  },
  {
   "cell_type": "code",
   "execution_count": null,
   "id": "456d7ed4",
   "metadata": {},
   "outputs": [],
   "source": [
    "np.dot(A,y)"
   ]
  },
  {
   "cell_type": "code",
   "execution_count": null,
   "id": "5a38eea8",
   "metadata": {},
   "outputs": [],
   "source": [
    "A,y"
   ]
  },
  {
   "cell_type": "code",
   "execution_count": 16,
   "id": "0eae9686",
   "metadata": {},
   "outputs": [
    {
     "data": {
      "text/plain": [
       "6"
      ]
     },
     "execution_count": 16,
     "metadata": {},
     "output_type": "execute_result"
    }
   ],
   "source": [
    "sum([1,2,3])"
   ]
  },
  {
   "cell_type": "code",
   "execution_count": 17,
   "id": "92cbc1fa",
   "metadata": {},
   "outputs": [],
   "source": [
    "def sum(*args):\n",
    "    result = 0\n",
    "    for value in args:\n",
    "        result +=value\n",
    "    return result"
   ]
  },
  {
   "cell_type": "code",
   "execution_count": 18,
   "id": "ce0fa1ae",
   "metadata": {},
   "outputs": [
    {
     "data": {
      "text/plain": [
       "6"
      ]
     },
     "execution_count": 18,
     "metadata": {},
     "output_type": "execute_result"
    }
   ],
   "source": [
    "sum(1,2,3)"
   ]
  },
  {
   "cell_type": "code",
   "execution_count": 20,
   "id": "7e98ac68",
   "metadata": {
    "scrolled": true
   },
   "outputs": [
    {
     "ename": "TypeError",
     "evalue": "unsupported operand type(s) for +=: 'int' and 'list'",
     "output_type": "error",
     "traceback": [
      "\u001b[1;31m---------------------------------------------------------------------------\u001b[0m",
      "\u001b[1;31mTypeError\u001b[0m                                 Traceback (most recent call last)",
      "Input \u001b[1;32mIn [20]\u001b[0m, in \u001b[0;36m<cell line: 1>\u001b[1;34m()\u001b[0m\n\u001b[1;32m----> 1\u001b[0m \u001b[38;5;28;43msum\u001b[39;49m\u001b[43m(\u001b[49m\u001b[43m[\u001b[49m\u001b[38;5;241;43m1\u001b[39;49m\u001b[43m,\u001b[49m\u001b[38;5;241;43m2\u001b[39;49m\u001b[43m,\u001b[49m\u001b[38;5;241;43m3\u001b[39;49m\u001b[43m]\u001b[49m\u001b[43m)\u001b[49m\n",
      "Input \u001b[1;32mIn [17]\u001b[0m, in \u001b[0;36msum\u001b[1;34m(*args)\u001b[0m\n\u001b[0;32m      2\u001b[0m result \u001b[38;5;241m=\u001b[39m \u001b[38;5;241m0\u001b[39m\n\u001b[0;32m      3\u001b[0m \u001b[38;5;28;01mfor\u001b[39;00m value \u001b[38;5;129;01min\u001b[39;00m args:\n\u001b[1;32m----> 4\u001b[0m     result \u001b[38;5;241m+\u001b[39m\u001b[38;5;241m=\u001b[39mvalue\n\u001b[0;32m      5\u001b[0m \u001b[38;5;28;01mreturn\u001b[39;00m result\n",
      "\u001b[1;31mTypeError\u001b[0m: unsupported operand type(s) for +=: 'int' and 'list'"
     ]
    }
   ],
   "source": [
    "sum([1,2,3])"
   ]
  },
  {
   "cell_type": "code",
   "execution_count": null,
   "id": "d773b14b",
   "metadata": {},
   "outputs": [],
   "source": []
  }
 ],
 "metadata": {
  "kernelspec": {
   "display_name": "Python 3 (ipykernel)",
   "language": "python",
   "name": "python3"
  },
  "language_info": {
   "codemirror_mode": {
    "name": "ipython",
    "version": 3
   },
   "file_extension": ".py",
   "mimetype": "text/x-python",
   "name": "python",
   "nbconvert_exporter": "python",
   "pygments_lexer": "ipython3",
   "version": "3.9.12"
  }
 },
 "nbformat": 4,
 "nbformat_minor": 5
}
