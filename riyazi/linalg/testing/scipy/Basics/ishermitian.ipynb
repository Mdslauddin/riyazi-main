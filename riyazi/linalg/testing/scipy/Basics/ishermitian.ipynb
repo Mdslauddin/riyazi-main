{
 "cells": [
  {
   "cell_type": "markdown",
   "id": "f78c5af6",
   "metadata": {},
   "source": [
    "### Check if a square 2D array is Hermitian."
   ]
  },
  {
   "cell_type": "code",
   "execution_count": 1,
   "id": "f8629b23",
   "metadata": {},
   "outputs": [
    {
     "ename": "ImportError",
     "evalue": "cannot import name 'ishermitian' from 'scipy.linalg' (D:\\Anaconda\\lib\\site-packages\\scipy\\linalg\\__init__.py)",
     "output_type": "error",
     "traceback": [
      "\u001b[1;31m---------------------------------------------------------------------------\u001b[0m",
      "\u001b[1;31mImportError\u001b[0m                               Traceback (most recent call last)",
      "Input \u001b[1;32mIn [1]\u001b[0m, in \u001b[0;36m<cell line: 1>\u001b[1;34m()\u001b[0m\n\u001b[1;32m----> 1\u001b[0m \u001b[38;5;28;01mfrom\u001b[39;00m \u001b[38;5;21;01mscipy\u001b[39;00m\u001b[38;5;21;01m.\u001b[39;00m\u001b[38;5;21;01mlinalg\u001b[39;00m \u001b[38;5;28;01mimport\u001b[39;00m ishermitian\n\u001b[0;32m      2\u001b[0m A \u001b[38;5;241m=\u001b[39m np\u001b[38;5;241m.\u001b[39marange(\u001b[38;5;241m9\u001b[39m)\u001b[38;5;241m.\u001b[39mreshape(\u001b[38;5;241m3\u001b[39m, \u001b[38;5;241m3\u001b[39m)\n\u001b[0;32m      3\u001b[0m A \u001b[38;5;241m=\u001b[39m A \u001b[38;5;241m+\u001b[39m A\u001b[38;5;241m.\u001b[39mT\n",
      "\u001b[1;31mImportError\u001b[0m: cannot import name 'ishermitian' from 'scipy.linalg' (D:\\Anaconda\\lib\\site-packages\\scipy\\linalg\\__init__.py)"
     ]
    }
   ],
   "source": [
    "from scipy.linalg import ishermitian\n",
    "A = np.arange(9).reshape(3, 3)\n",
    "A = A + A.T\n",
    "ishermitian(A)"
   ]
  },
  {
   "cell_type": "code",
   "execution_count": null,
   "id": "d035bc6a",
   "metadata": {},
   "outputs": [],
   "source": [
    "A = np.array([[1., 2. + 3.j], [2. - 3.j, 4.]])\n",
    "ishermitian(A)"
   ]
  },
  {
   "cell_type": "code",
   "execution_count": null,
   "id": "b2808a55",
   "metadata": {},
   "outputs": [],
   "source": [
    "Ac = np.array([[1. + 1.j, 3.j], [3.j, 2.]])\n",
    "ishermitian(Ac)  # not Hermitian but symmetric"
   ]
  },
  {
   "cell_type": "code",
   "execution_count": null,
   "id": "8e3f2354",
   "metadata": {},
   "outputs": [],
   "source": [
    "Af = np.array([[0, 1 + 1j], [1 - (1+1e-12)*1j, 0]])\n",
    "ishermitian(Af)\n"
   ]
  },
  {
   "cell_type": "code",
   "execution_count": null,
   "id": "91f359be",
   "metadata": {},
   "outputs": [],
   "source": [
    "ishermitian(Af, atol=5e-11) # almost hermitian with atol"
   ]
  }
 ],
 "metadata": {
  "kernelspec": {
   "display_name": "Python 3 (ipykernel)",
   "language": "python",
   "name": "python3"
  },
  "language_info": {
   "codemirror_mode": {
    "name": "ipython",
    "version": 3
   },
   "file_extension": ".py",
   "mimetype": "text/x-python",
   "name": "python",
   "nbconvert_exporter": "python",
   "pygments_lexer": "ipython3",
   "version": "3.9.12"
  }
 },
 "nbformat": 4,
 "nbformat_minor": 5
}
