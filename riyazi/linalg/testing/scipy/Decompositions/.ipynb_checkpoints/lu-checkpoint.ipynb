{
 "cells": [
  {
   "cell_type": "code",
   "execution_count": 1,
   "id": "c2e876cd",
   "metadata": {},
   "outputs": [],
   "source": [
    "import numpy.linalg as nl"
   ]
  },
  {
   "cell_type": "code",
   "execution_count": null,
   "id": "082cbe1b",
   "metadata": {},
   "outputs": [],
   "source": [
    "nl."
   ]
  },
  {
   "cell_type": "code",
   "execution_count": 3,
   "id": "899373c9",
   "metadata": {},
   "outputs": [
    {
     "data": {
      "text/plain": [
       "True"
      ]
     },
     "execution_count": 3,
     "metadata": {},
     "output_type": "execute_result"
    }
   ],
   "source": [
    "import numpy as np\n",
    "from scipy.linalg import lu\n",
    "A = np.array([[2, 5, 8, 7], [5, 2, 2, 8], [7, 5, 6, 6], [5, 4, 4, 8]])\n",
    "p, l, u = lu(A)\n",
    "np.allclose(A - p @ l @ u, np.zeros((4, 4)))"
   ]
  },
  {
   "cell_type": "code",
   "execution_count": null,
   "id": "6101b401",
   "metadata": {},
   "outputs": [],
   "source": []
  },
  {
   "cell_type": "code",
   "execution_count": null,
   "id": "b94c54fe",
   "metadata": {},
   "outputs": [],
   "source": []
  },
  {
   "cell_type": "code",
   "execution_count": null,
   "id": "0499be6b",
   "metadata": {},
   "outputs": [],
   "source": []
  },
  {
   "cell_type": "code",
   "execution_count": null,
   "id": "cff69a56",
   "metadata": {},
   "outputs": [],
   "source": []
  },
  {
   "cell_type": "code",
   "execution_count": 2,
   "id": "079e366e",
   "metadata": {},
   "outputs": [],
   "source": [
    "def lu(A):\n",
    "\n",
    "    import numpy as np\n",
    "\n",
    "    # Return an error if matrix is not square\n",
    "    if not A.shape[0]==A.shape[1]:\n",
    "        raise ValueError(\"Input matrix must be square\")\n",
    "\n",
    "    n = A.shape[0] \n",
    "\n",
    "    L = np.zeros((n,n),dtype='float64') \n",
    "    U = np.zeros((n,n),dtype='float64') \n",
    "    U[:] = A \n",
    "    np.fill_diagonal(L,1) # fill the diagonal of L with 1\n",
    "\n",
    "    for i in range(n-1):\n",
    "        for j in range(i+1,n):\n",
    "            L[j,i] = U[j,i]/U[i,i]\n",
    "            U[j,i:] = U[j,i:]-L[j,i]*U[i,i:]\n",
    "            U[j,i] = 0\n",
    "    return (L,U)"
   ]
  },
  {
   "cell_type": "code",
   "execution_count": 13,
   "id": "f4963b71",
   "metadata": {},
   "outputs": [],
   "source": [
    "import numpy as np\n",
    "A = np.array([[2, 5, 8, 7], [5, 2, 2, 8], [7, 5, 6, 6], [5, 4, 4, 8]])\n",
    "p,l,u=lu(A)"
   ]
  },
  {
   "cell_type": "code",
   "execution_count": 14,
   "id": "ecad46d6",
   "metadata": {},
   "outputs": [
    {
     "data": {
      "text/plain": [
       "array([[0., 1., 0., 0.],\n",
       "       [0., 0., 0., 1.],\n",
       "       [1., 0., 0., 0.],\n",
       "       [0., 0., 1., 0.]])"
      ]
     },
     "execution_count": 14,
     "metadata": {},
     "output_type": "execute_result"
    }
   ],
   "source": [
    "p"
   ]
  },
  {
   "cell_type": "code",
   "execution_count": 15,
   "id": "80f69a4a",
   "metadata": {},
   "outputs": [
    {
     "data": {
      "text/plain": [
       "array([[ 1.        ,  0.        ,  0.        ,  0.        ],\n",
       "       [ 0.28571429,  1.        ,  0.        ,  0.        ],\n",
       "       [ 0.71428571,  0.12      ,  1.        ,  0.        ],\n",
       "       [ 0.71428571, -0.44      , -0.46153846,  1.        ]])"
      ]
     },
     "execution_count": 15,
     "metadata": {},
     "output_type": "execute_result"
    }
   ],
   "source": [
    "l"
   ]
  },
  {
   "cell_type": "code",
   "execution_count": 16,
   "id": "e3d3f02b",
   "metadata": {},
   "outputs": [
    {
     "data": {
      "text/plain": [
       "array([[ 7.        ,  5.        ,  6.        ,  6.        ],\n",
       "       [ 0.        ,  3.57142857,  6.28571429,  5.28571429],\n",
       "       [ 0.        ,  0.        , -1.04      ,  3.08      ],\n",
       "       [ 0.        ,  0.        ,  0.        ,  7.46153846]])"
      ]
     },
     "execution_count": 16,
     "metadata": {},
     "output_type": "execute_result"
    }
   ],
   "source": [
    "u"
   ]
  },
  {
   "cell_type": "code",
   "execution_count": 3,
   "id": "f02ec7a5",
   "metadata": {},
   "outputs": [],
   "source": [
    "def naive_lu_factor(A):\n",
    "    \"\"\"\n",
    "        No pivoting.\n",
    "\n",
    "        Overwrite A with:\n",
    "            U (upper triangular) and (unit Lower triangular) L \n",
    "        Returns LU (Even though A is also overwritten)\n",
    "    \"\"\"\n",
    "    n = A.shape[0]\n",
    "    for k in range(n-1):                \n",
    "        for i in range(k+1,n):          \n",
    "            A[i,k] = A[i,k]/A[k,k]      # \" L[i,k] = A[i,k]/A[k,k] \"\n",
    "            for j in range(k+1,n):      \n",
    "                A[i,j] -= A[i,k]*A[k,j] # \" U[i,j] -= L[i,k]*A[k,j] \"\n",
    "\n",
    "    return A # (if you want)"
   ]
  },
  {
   "cell_type": "code",
   "execution_count": 4,
   "id": "0f8572ff",
   "metadata": {},
   "outputs": [],
   "source": [
    "def lu_factor(A):\n",
    "    \"\"\"\n",
    "        LU factorization with partial pivorting\n",
    "\n",
    "        Overwrite A with: \n",
    "            U (upper triangular) and (unit Lower triangular) L \n",
    "        Return [LU,piv] \n",
    "            Where piv is 1d numpy array with row swap indices \n",
    "    \"\"\"\n",
    "    n = A.shape[0]\n",
    "    piv = np.arange(0,n)\n",
    "    for k in range(n-1):\n",
    "\n",
    "        # piv\n",
    "        max_row_index = np.argmax(abs(A[k:n,k])) + k\n",
    "        piv[[k,max_row_index]] = piv[[max_row_index,k]]\n",
    "        A[[k,max_row_index]] = A[[max_row_index,k]]\n",
    "\n",
    "        # LU \n",
    "        for i in range(k+1,n):          \n",
    "            A[i,k] = A[i,k]/A[k,k]      \n",
    "            for j in range(k+1,n):      \n",
    "                A[i,j] -= A[i,k]*A[k,j] \n",
    "\n",
    "    return [A,piv]"
   ]
  },
  {
   "cell_type": "code",
   "execution_count": 5,
   "id": "b98c22a1",
   "metadata": {},
   "outputs": [],
   "source": [
    "def ufsub(L,b):\n",
    "    \"\"\" Unit row oriented forward substitution \"\"\"\n",
    "    for i in range(L.shape[0]): \n",
    "        for j in range(i):\n",
    "            b[i] -= L[i,j]*b[j]\n",
    "    return b"
   ]
  },
  {
   "cell_type": "code",
   "execution_count": 6,
   "id": "132acaa0",
   "metadata": {},
   "outputs": [],
   "source": [
    "def bsub(U,y):\n",
    "    \"\"\" Row oriented backward substitution \"\"\"\n",
    "    for i in range(U.shape[0]-1,-1,-1): \n",
    "        for j in range(i+1, U.shape[1]):\n",
    "            y[i] -= U[i,j]*y[j]\n",
    "        y[i] = y[i]/U[i,i]\n",
    "    return y"
   ]
  },
  {
   "cell_type": "markdown",
   "id": "4a5494df",
   "metadata": {},
   "source": [
    "https://stackoverflow.com/questions/28441509/how-to-implement-lu-decomposition-with-partial-pivoting-in-python"
   ]
  },
  {
   "cell_type": "code",
   "execution_count": 7,
   "id": "87b3af6e",
   "metadata": {},
   "outputs": [],
   "source": [
    "def LU(A):\n",
    "\t\n",
    "\tn = len(A) # Give us total of lines\n",
    "\n",
    "\t# (1) Extract the b vector\n",
    "\tb = [0 for i in range(n)]\n",
    "\tfor i in range(0,n):\n",
    "\t\tb[i]=A[i][n]\n",
    "\n",
    "\t# (2) Fill L matrix and its diagonal with 1\n",
    "\tL = [[0 for i in range(n)] for i in range(n)]\n",
    "\tfor i in range(0,n):\n",
    "\t\tL[i][i] = 1\n",
    "\n",
    "\t# (3) Fill U matrix\n",
    "\tU = [[0 for i in range(0,n)] for i in range(n)]\n",
    "\tfor i in range(0,n):\n",
    "\t\tfor j in range(0,n):\n",
    "\t\t\tU[i][j] = A[i][j]\n",
    "\n",
    "\tn = len(U)\n",
    "\n",
    "\t# (4) Find both U and L matrices\n",
    "\tfor i in range(0,n): # for i in [0,1,2,..,n]\n",
    "\t\t# (4.1) Find the maximun value in a column in order to change lines\n",
    "\t\tmaxElem = abs(U[i][i])\n",
    "\t\tmaxRow = i\n",
    "\t\tfor k in range(i+1, n): # Interacting over the next line\n",
    "\t\t\tif(abs(U[k][i]) > maxElem):\n",
    "\t\t\t\tmaxElem = abs(U[k][i]) # Next line on the diagonal\n",
    "\t\t\t\tmaxRow = k\n",
    "\n",
    "\t\t# (4.2) Swap the rows pivoting the maxRow, i is the current row\n",
    "\t\tfor k in range(i, n): # Interacting column by column\n",
    "\t\t\ttmp=U[maxRow][k]\n",
    "\t\t\tU[maxRow][k]=U[i][k]\n",
    "\t\t\tU[i][k]=tmp\n",
    "\n",
    "\t\t# (4.3) Subtract lines\n",
    "\t\tfor k in range(i+1,n):\n",
    "\t\t\tc = -U[k][i]/float(U[i][i])\n",
    "\t\t\tL[k][i] = c # (4.4) Store the multiplier\n",
    "\t\t\tfor j in range(i, n):\n",
    "\t\t\t\tU[k][j] += c*U[i][j] # Multiply with the pivot line and subtract\n",
    "\n",
    "\t\t# (4.5) Make the rows bellow this one zero in the current column\n",
    "\t\tfor k in range(i+1, n):\n",
    "\t\t\tU[k][i]=0\n",
    "\n",
    "\tn = len(L)\n",
    "\n",
    "\t# (5) Perform substitutioan Ly=b\n",
    "\ty = [0 for i in range(n)]\n",
    "\tfor i in range(0,n,1):\n",
    "\t\ty[i] = b[i]/float(L[i][i])\n",
    "\t\tfor k in range(0,i,1):\n",
    "\t\t\ty[i] -= y[k]*L[i][k]\n",
    "\n",
    "\tn = len(U)\n",
    "\n",
    "\t# (6) Perform substitution Ux=y\n",
    "\tx = [0 in range(n)]\n",
    "\tfor i in range(n-1,-1,-1):\n",
    "\t\tx[i] = y[i]/float(U[i][i])\n",
    "\t\tfor k in range (i-1,-1,-1):\n",
    "\t\t\tU[i] -= x[i]*U[i][k]\n",
    "\n",
    "\treturn x"
   ]
  },
  {
   "cell_type": "markdown",
   "id": "47a6331f",
   "metadata": {},
   "source": [
    "https://gist.github.com/angellicacardozo/4b35e15aa21af890b4a8fedef9891401"
   ]
  },
  {
   "cell_type": "code",
   "execution_count": 8,
   "id": "e768667f",
   "metadata": {},
   "outputs": [
    {
     "name": "stdout",
     "output_type": "stream",
     "text": [
      "[[0. 1. 0.]\n",
      " [0. 0. 1.]\n",
      " [1. 0. 0.]]\n",
      "[[1.         0.         0.        ]\n",
      " [0.1        1.         0.        ]\n",
      " [0.4        0.66666667 1.        ]]\n",
      "[[10.  11.   9. ]\n",
      " [ 0.   0.9  2.1]\n",
      " [ 0.   0.   1. ]]\n"
     ]
    },
    {
     "name": "stderr",
     "output_type": "stream",
     "text": [
      "C:\\Users\\md slauddin\\AppData\\Local\\Temp\\ipykernel_18404\\3128300767.py:2: DeprecationWarning: scipy.array is deprecated and will be removed in SciPy 2.0.0, use numpy.array instead\n",
      "  A = scipy.array([[1, 2, 3],\n"
     ]
    }
   ],
   "source": [
    "import scipy.linalg\n",
    "A = scipy.array([[1, 2, 3],\n",
    "             [4, 5, 6],\n",
    "             [10, 11, 9]])\n",
    "P, L, U = scipy.linalg.lu(A)\n",
    "print(P)\n",
    "print(L)\n",
    "print(U)"
   ]
  },
  {
   "cell_type": "code",
   "execution_count": 17,
   "id": "c5526eff",
   "metadata": {
    "scrolled": true
   },
   "outputs": [
    {
     "data": {
      "text/plain": [
       "True"
      ]
     },
     "execution_count": 17,
     "metadata": {},
     "output_type": "execute_result"
    }
   ],
   "source": [
    "from scipy.linalg import lu\n",
    "import numpy as np\n",
    "A = np.array([[2, 5, 8, 7], [5, 2, 2, 8], [7, 5, 6, 6], [5, 4, 4, 8]])\n",
    "p, l, u = lu(A)\n",
    "np.allclose(A - p @ l @ u, np.zeros((4, 4)))"
   ]
  },
  {
   "cell_type": "code",
   "execution_count": 18,
   "id": "f32eb0c3",
   "metadata": {
    "scrolled": true
   },
   "outputs": [
    {
     "data": {
      "text/plain": [
       "array([[0., 1., 0., 0.],\n",
       "       [0., 0., 0., 1.],\n",
       "       [1., 0., 0., 0.],\n",
       "       [0., 0., 1., 0.]])"
      ]
     },
     "execution_count": 18,
     "metadata": {},
     "output_type": "execute_result"
    }
   ],
   "source": [
    "p"
   ]
  },
  {
   "cell_type": "code",
   "execution_count": 19,
   "id": "b829bed6",
   "metadata": {},
   "outputs": [
    {
     "data": {
      "text/plain": [
       "array([[ 1.        ,  0.        ,  0.        ,  0.        ],\n",
       "       [ 0.28571429,  1.        ,  0.        ,  0.        ],\n",
       "       [ 0.71428571,  0.12      ,  1.        ,  0.        ],\n",
       "       [ 0.71428571, -0.44      , -0.46153846,  1.        ]])"
      ]
     },
     "execution_count": 19,
     "metadata": {},
     "output_type": "execute_result"
    }
   ],
   "source": [
    "l"
   ]
  },
  {
   "cell_type": "code",
   "execution_count": 20,
   "id": "44300dc3",
   "metadata": {},
   "outputs": [
    {
     "data": {
      "text/plain": [
       "array([[ 7.        ,  5.        ,  6.        ,  6.        ],\n",
       "       [ 0.        ,  3.57142857,  6.28571429,  5.28571429],\n",
       "       [ 0.        ,  0.        , -1.04      ,  3.08      ],\n",
       "       [ 0.        ,  0.        ,  0.        ,  7.46153846]])"
      ]
     },
     "execution_count": 20,
     "metadata": {},
     "output_type": "execute_result"
    }
   ],
   "source": [
    "u"
   ]
  },
  {
   "cell_type": "code",
   "execution_count": null,
   "id": "2c1f7e6e",
   "metadata": {},
   "outputs": [],
   "source": []
  }
 ],
 "metadata": {
  "kernelspec": {
   "display_name": "Python 3 (ipykernel)",
   "language": "python",
   "name": "python3"
  },
  "language_info": {
   "codemirror_mode": {
    "name": "ipython",
    "version": 3
   },
   "file_extension": ".py",
   "mimetype": "text/x-python",
   "name": "python",
   "nbconvert_exporter": "python",
   "pygments_lexer": "ipython3",
   "version": "3.9.12"
  }
 },
 "nbformat": 4,
 "nbformat_minor": 5
}
