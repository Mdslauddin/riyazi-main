{
 "cells": [
  {
   "cell_type": "code",
   "execution_count": 1,
   "id": "52c235d7",
   "metadata": {},
   "outputs": [
    {
     "name": "stdout",
     "output_type": "stream",
     "text": [
      "Lower Triangular\t\tTranspose\n",
      "2\t0\t0\t\t2\t6\t-8\t\n",
      "6\t1\t0\t\t0\t1\t5\t\n",
      "-8\t5\t3\t\t0\t0\t3\t\n"
     ]
    }
   ],
   "source": [
    "# Python3 program to decompose\n",
    "# a matrix using Cholesky\n",
    "# Decomposition\n",
    "import math\n",
    "MAX = 100;\n",
    "\n",
    "def Cholesky_Decomposition(matrix, n):\n",
    "\n",
    "\tlower = [[0 for x in range(n + 1)]\n",
    "\t\t\t\tfor y in range(n + 1)];\n",
    "\n",
    "\t# Decomposing a matrix\n",
    "\t# into Lower Triangular\n",
    "\tfor i in range(n):\n",
    "\t\tfor j in range(i + 1):\n",
    "\t\t\tsum1 = 0;\n",
    "\n",
    "\t\t\t# summation for diagonals\n",
    "\t\t\tif (j == i):\n",
    "\t\t\t\tfor k in range(j):\n",
    "\t\t\t\t\tsum1 += pow(lower[j][k], 2);\n",
    "\t\t\t\tlower[j][j] = int(math.sqrt(matrix[j][j] - sum1));\n",
    "\t\t\telse:\n",
    "\t\t\t\t\n",
    "\t\t\t\t# Evaluating L(i, j)\n",
    "\t\t\t\t# using L(j, j)\n",
    "\t\t\t\tfor k in range(j):\n",
    "\t\t\t\t\tsum1 += (lower[i][k] *lower[j][k]);\n",
    "\t\t\t\tif(lower[j][j] > 0):\n",
    "\t\t\t\t\tlower[i][j] = int((matrix[i][j] - sum1) /\n",
    "\t\t\t\t\t\t\t\t\t\t\tlower[j][j]);\n",
    "\n",
    "\t# Displaying Lower Triangular\n",
    "\t# and its Transpose\n",
    "\tprint(\"Lower Triangular\\t\\tTranspose\");\n",
    "\tfor i in range(n):\n",
    "\t\t\n",
    "\t\t# Lower Triangular\n",
    "\t\tfor j in range(n):\n",
    "\t\t\tprint(lower[i][j], end = \"\\t\");\n",
    "\t\tprint(\"\", end = \"\\t\");\n",
    "\t\t\n",
    "\t\t# Transpose of\n",
    "\t\t# Lower Triangular\n",
    "\t\tfor j in range(n):\n",
    "\t\t\tprint(lower[j][i], end = \"\\t\");\n",
    "\t\tprint(\"\");\n",
    "\n",
    "# Driver Code\n",
    "n = 3;\n",
    "matrix = [[4, 12, -16],\n",
    "\t\t[12, 37, -43],\n",
    "\t\t[-16, -43, 98]];\n",
    "Cholesky_Decomposition(matrix, n);\n",
    "\n",
    "# This code is contributed by mits\n"
   ]
  },
  {
   "cell_type": "code",
   "execution_count": 3,
   "id": "3bd6bb4e",
   "metadata": {},
   "outputs": [
    {
     "data": {
      "text/plain": [
       "array([[1.+0.j, 0.+0.j],\n",
       "       [0.+2.j, 1.+0.j]])"
      ]
     },
     "execution_count": 3,
     "metadata": {},
     "output_type": "execute_result"
    }
   ],
   "source": [
    "from scipy.linalg import cholesky\n",
    "import numpy as np\n",
    "a = np.array([[1,-2j],[2j,5]])\n",
    "L = cholesky(a, lower=True)\n",
    "L"
   ]
  },
  {
   "cell_type": "code",
   "execution_count": 4,
   "id": "801c1a7d",
   "metadata": {},
   "outputs": [
    {
     "data": {
      "text/plain": [
       "array([[1.+0.j, 0.-2.j],\n",
       "       [0.+2.j, 5.+0.j]])"
      ]
     },
     "execution_count": 4,
     "metadata": {},
     "output_type": "execute_result"
    }
   ],
   "source": [
    "L @ L.T.conj()\n"
   ]
  },
  {
   "cell_type": "code",
   "execution_count": 5,
   "id": "3920f692",
   "metadata": {},
   "outputs": [],
   "source": [
    "L = cholesky(matrix)"
   ]
  },
  {
   "cell_type": "code",
   "execution_count": 6,
   "id": "c2d4ca15",
   "metadata": {},
   "outputs": [
    {
     "data": {
      "text/plain": [
       "array([[ 2.,  6., -8.],\n",
       "       [ 0.,  1.,  5.],\n",
       "       [ 0.,  0.,  3.]])"
      ]
     },
     "execution_count": 6,
     "metadata": {},
     "output_type": "execute_result"
    }
   ],
   "source": [
    "L"
   ]
  },
  {
   "cell_type": "code",
   "execution_count": null,
   "id": "277ab764",
   "metadata": {},
   "outputs": [],
   "source": []
  }
 ],
 "metadata": {
  "kernelspec": {
   "display_name": "Python 3 (ipykernel)",
   "language": "python",
   "name": "python3"
  },
  "language_info": {
   "codemirror_mode": {
    "name": "ipython",
    "version": 3
   },
   "file_extension": ".py",
   "mimetype": "text/x-python",
   "name": "python",
   "nbconvert_exporter": "python",
   "pygments_lexer": "ipython3",
   "version": "3.9.12"
  }
 },
 "nbformat": 4,
 "nbformat_minor": 5
}
