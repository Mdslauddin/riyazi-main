{
 "cells": [
  {
   "cell_type": "code",
   "execution_count": 1,
   "id": "73b7f66f",
   "metadata": {},
   "outputs": [],
   "source": [
    "def make_hilbert(n):\n",
    "    \"\"\"Creates a Hilbert matrix of a given dimension.\n",
    "    For more information `check here <https://en.wikipedia.org/wiki/Hilbert_matrix>`_\n",
    "    Parameters\n",
    "    ----------\n",
    "    n : int\n",
    "        The dimension (order) of the Hilbert matrix to be created.\n",
    "      \n",
    "    Returns\n",
    "    -------\n",
    "    hilbert: list of lists\n",
    "        The Hilbert matrix of order `n`.\n",
    "    \"\"\"\n",
    "    # Initializing an nXn matrix of zeros\n",
    "    hilbert = [[0 for i in range(n)]for j in range(n)] \n",
    "    \n",
    "    for i in range(0,n):\n",
    "        for j in range(0,n):\n",
    "            hilbert[i][j] = 1 / (i+j+1)\n",
    "    \n",
    "    return hilbert"
   ]
  },
  {
   "cell_type": "code",
   "execution_count": 2,
   "id": "33cd7faa",
   "metadata": {},
   "outputs": [],
   "source": [
    "def cholesky_decomposition(matrix):\n",
    "    \"\"\"Performs matrix decomposition using the Cholesky method.\n",
    "    For more information, `check here <https://en.wikipedia.org/wiki/Cholesky_decomposition>`_\n",
    "    Parameters\n",
    "    ----------\n",
    "    matrix : list of lists\n",
    "        A matrix filled with numbers (no matter int or float) to perform Cholesky decomposition on.\n",
    "  \n",
    "    Returns\n",
    "    -------\n",
    "    L : list of lists\n",
    "        The lower triangular matrix coming from the decomposition.\n",
    "    \"\"\"\n",
    "\n",
    "    d = len(matrix)\n",
    "    # Initializing an nxn matrix of zeros\n",
    "    L = [[0 for i in range(d)] for j in range(d)]\n",
    "\n",
    "    # Initializing the first element in the matrix\n",
    "    L[0][0] = (matrix[0][0])**0.5\n",
    "\n",
    "    # Initializing the first column of the matrix\n",
    "    for i in range(1, d):\n",
    "        L[i][0] = (matrix[0][i]) / (L[0][0])\n",
    "    \n",
    "    # Filling-in elsewhere\n",
    "    for i in range(1, d):\n",
    "        for j in range(1, i+1):\n",
    "            # Filling the main diagonal\n",
    "            if i == j:\n",
    "                L[i][j] = (matrix[i][j] - sum((L[i][k]**2) for k in range(0, i)))**0.5\n",
    "            \n",
    "            # Filling below the main diagonal\n",
    "            else:\n",
    "                L[i][j] = (1 / L[j][j]) * (matrix[i][j] - sum(L[i][k]*L[j][k] for k in range(0, min(i,j))))\n",
    "    \n",
    "    return L"
   ]
  },
  {
   "cell_type": "code",
   "execution_count": 5,
   "id": "7b2a5d19",
   "metadata": {},
   "outputs": [
    {
     "data": {
      "text/plain": [
       "array([[1.+0.j, 0.+0.j],\n",
       "       [0.+2.j, 1.+0.j]])"
      ]
     },
     "execution_count": 5,
     "metadata": {},
     "output_type": "execute_result"
    }
   ],
   "source": [
    "from scipy.linalg import cholesky\n",
    "import numpy as np\n",
    "a = np.array([[1,-2j],[2j,5]])\n",
    "L = cholesky(a, lower=True)\n",
    "L"
   ]
  },
  {
   "cell_type": "code",
   "execution_count": 6,
   "id": "0b0e368a",
   "metadata": {},
   "outputs": [
    {
     "data": {
      "text/plain": [
       "array([[1.+0.j, 0.-2.j],\n",
       "       [0.+2.j, 5.+0.j]])"
      ]
     },
     "execution_count": 6,
     "metadata": {},
     "output_type": "execute_result"
    }
   ],
   "source": [
    "L @ L.T.conj()"
   ]
  },
  {
   "cell_type": "code",
   "execution_count": 7,
   "id": "8f3637e8",
   "metadata": {},
   "outputs": [
    {
     "data": {
      "text/plain": [
       "[[(1+0j), 0], [(-0-2j), (3+0j)]]"
      ]
     },
     "execution_count": 7,
     "metadata": {},
     "output_type": "execute_result"
    }
   ],
   "source": [
    "cholesky_decomposition(a)"
   ]
  },
  {
   "cell_type": "code",
   "execution_count": null,
   "id": "0c34bc9e",
   "metadata": {},
   "outputs": [],
   "source": []
  },
  {
   "cell_type": "code",
   "execution_count": null,
   "id": "35aa47ce",
   "metadata": {},
   "outputs": [],
   "source": []
  },
  {
   "cell_type": "code",
   "execution_count": null,
   "id": "e04e6c8b",
   "metadata": {},
   "outputs": [],
   "source": []
  },
  {
   "cell_type": "code",
   "execution_count": null,
   "id": "54f9ebb3",
   "metadata": {},
   "outputs": [],
   "source": []
  },
  {
   "cell_type": "code",
   "execution_count": 3,
   "id": "801da141",
   "metadata": {},
   "outputs": [],
   "source": [
    "def show_matrix(matrix):\n",
    "    \"\"\"Prints a matrix of floats with 6 digits precision (each element in string format).\n",
    "        \n",
    "        Parameters\n",
    "        ----------\n",
    "        matrix: list of lists\n",
    "            A matrix filled with floats.\n",
    "      \n",
    "        Returns\n",
    "        -------\n",
    "        None\n",
    "            Just prints the matrix, and does not return anything.\n",
    "    \"\"\"\n",
    "  \n",
    "    for row in matrix:\n",
    "        print([format(elem, \"f\") for elem in row])"
   ]
  },
  {
   "cell_type": "code",
   "execution_count": null,
   "id": "40db782e",
   "metadata": {},
   "outputs": [],
   "source": []
  }
 ],
 "metadata": {
  "kernelspec": {
   "display_name": "Python 3 (ipykernel)",
   "language": "python",
   "name": "python3"
  },
  "language_info": {
   "codemirror_mode": {
    "name": "ipython",
    "version": 3
   },
   "file_extension": ".py",
   "mimetype": "text/x-python",
   "name": "python",
   "nbconvert_exporter": "python",
   "pygments_lexer": "ipython3",
   "version": "3.9.12"
  }
 },
 "nbformat": 4,
 "nbformat_minor": 5
}
