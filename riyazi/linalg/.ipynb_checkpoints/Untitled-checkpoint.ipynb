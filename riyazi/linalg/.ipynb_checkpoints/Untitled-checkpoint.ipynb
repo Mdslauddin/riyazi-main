{
 "cells": [
  {
   "cell_type": "markdown",
   "id": "06ca61bc",
   "metadata": {},
   "source": [
    "# [towards](file:///C:/Users/md%20slauddin/AppData/Local/Microsoft/Windows/INetCache/IE/BCKERTVE/The_Most_Efficient_Way_to_Solve_Any_Linear_Equation,_in_Three_Lines_of_Code___by_Andre_Ye___Towards_Data_Science[1].mhtml)"
   ]
  },
  {
   "cell_type": "markdown",
   "id": "efd730d6",
   "metadata": {},
   "source": [
    "# [towards gaussian](file:///C:/Users/md%20slauddin/AppData/Local/Microsoft/Windows/INetCache/IE/3E6X2Y0C/Gaussian_Elimination_Algorithm_in_Python___by_Andrew_Joseph_Davies___Level_Up_Coding[1].mhtml)"
   ]
  },
  {
   "cell_type": "markdown",
   "id": "ae9e6768",
   "metadata": {},
   "source": [
    "# [stackAbluse](file:///C:/Users/md%20slauddin/AppData/Local/Microsoft/Windows/INetCache/IE/KDOBP9C6/Solving_Systems_of_Linear_Equations_with_Python's_Numpy[1].mhtml)"
   ]
  },
  {
   "cell_type": "code",
   "execution_count": 1,
   "id": "23d6ee01",
   "metadata": {},
   "outputs": [],
   "source": [
    "import basic as bs"
   ]
  },
  {
   "cell_type": "code",
   "execution_count": 2,
   "id": "2ccdda84",
   "metadata": {},
   "outputs": [],
   "source": [
    "import numpy as np "
   ]
  },
  {
   "cell_type": "code",
   "execution_count": 3,
   "id": "1575d397",
   "metadata": {},
   "outputs": [],
   "source": [
    "a = np.array([[2,4,5],[5,6,7],[4,5,6]])\n",
    "b = np.array([2,3,3])"
   ]
  },
  {
   "cell_type": "code",
   "execution_count": 4,
   "id": "305f1f08",
   "metadata": {},
   "outputs": [],
   "source": [
    "from scipy.linalg import solve"
   ]
  },
  {
   "cell_type": "code",
   "execution_count": 5,
   "id": "001c9e57",
   "metadata": {},
   "outputs": [
    {
     "data": {
      "text/plain": [
       "array([ 1., -5.,  4.])"
      ]
     },
     "execution_count": 5,
     "metadata": {},
     "output_type": "execute_result"
    }
   ],
   "source": [
    "solve(a,b)"
   ]
  },
  {
   "cell_type": "code",
   "execution_count": 6,
   "id": "becbd875",
   "metadata": {},
   "outputs": [
    {
     "ename": "NameError",
     "evalue": "name 'nl' is not defined",
     "output_type": "error",
     "traceback": [
      "\u001b[1;31m---------------------------------------------------------------------------\u001b[0m",
      "\u001b[1;31mNameError\u001b[0m                                 Traceback (most recent call last)",
      "Input \u001b[1;32mIn [6]\u001b[0m, in \u001b[0;36m<cell line: 1>\u001b[1;34m()\u001b[0m\n\u001b[1;32m----> 1\u001b[0m \u001b[43mbs\u001b[49m\u001b[38;5;241;43m.\u001b[39;49m\u001b[43msolve\u001b[49m\u001b[43m(\u001b[49m\u001b[43ma\u001b[49m\u001b[43m,\u001b[49m\u001b[43mb\u001b[49m\u001b[43m)\u001b[49m\n",
      "File \u001b[1;32mH:\\riyazi\\linalg\\basic.py:44\u001b[0m, in \u001b[0;36msolve\u001b[1;34m(a, b)\u001b[0m\n\u001b[0;32m     42\u001b[0m \u001b[38;5;28;01mdef\u001b[39;00m \u001b[38;5;21msolve\u001b[39m(a,b):\n\u001b[1;32m---> 44\u001b[0m     x \u001b[38;5;241m=\u001b[39m \u001b[43mnl\u001b[49m\u001b[38;5;241m.\u001b[39minv(a)\u001b[38;5;241m.\u001b[39mdot(b)\n\u001b[0;32m     45\u001b[0m     \u001b[38;5;28;01mreturn\u001b[39;00m np\u001b[38;5;241m.\u001b[39marray(x)\n",
      "\u001b[1;31mNameError\u001b[0m: name 'nl' is not defined"
     ]
    }
   ],
   "source": [
    "bs.solve(a,b)"
   ]
  },
  {
   "cell_type": "code",
   "execution_count": null,
   "id": "7268dd88",
   "metadata": {},
   "outputs": [],
   "source": []
  },
  {
   "cell_type": "code",
   "execution_count": null,
   "id": "c2674068",
   "metadata": {},
   "outputs": [],
   "source": []
  },
  {
   "cell_type": "code",
   "execution_count": null,
   "id": "a3710494",
   "metadata": {},
   "outputs": [],
   "source": []
  },
  {
   "cell_type": "code",
   "execution_count": null,
   "id": "c1b63a5b",
   "metadata": {},
   "outputs": [],
   "source": []
  }
 ],
 "metadata": {
  "kernelspec": {
   "display_name": "Python 3 (ipykernel)",
   "language": "python",
   "name": "python3"
  },
  "language_info": {
   "codemirror_mode": {
    "name": "ipython",
    "version": 3
   },
   "file_extension": ".py",
   "mimetype": "text/x-python",
   "name": "python",
   "nbconvert_exporter": "python",
   "pygments_lexer": "ipython3",
   "version": "3.9.12"
  }
 },
 "nbformat": 4,
 "nbformat_minor": 5
}
