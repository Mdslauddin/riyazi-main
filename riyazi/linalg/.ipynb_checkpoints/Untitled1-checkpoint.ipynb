{
 "cells": [
  {
   "cell_type": "code",
   "execution_count": 1,
   "id": "1458a304",
   "metadata": {},
   "outputs": [],
   "source": [
    "import Decompositions as dcom"
   ]
  },
  {
   "cell_type": "code",
   "execution_count": 2,
   "id": "95c680a0",
   "metadata": {},
   "outputs": [
    {
     "data": {
      "text/plain": [
       "True"
      ]
     },
     "execution_count": 2,
     "metadata": {},
     "output_type": "execute_result"
    }
   ],
   "source": [
    "import numpy as np\n",
    "from scipy.linalg import lu\n",
    "A = np.array([[2, 5, 8, 7], [5, 2, 2, 8], [7, 5, 6, 6], [5, 4, 4, 8]])\n",
    "p, l, u = lu(A)\n",
    "np.allclose(A - p @ l @ u, np.zeros((4, 4)))"
   ]
  },
  {
   "cell_type": "code",
   "execution_count": 3,
   "id": "4c90c702",
   "metadata": {},
   "outputs": [
    {
     "data": {
      "text/plain": [
       "(array([[0., 1., 0., 0.],\n",
       "        [0., 0., 0., 1.],\n",
       "        [1., 0., 0., 0.],\n",
       "        [0., 0., 1., 0.]]),\n",
       " array([[ 1.        ,  0.        ,  0.        ,  0.        ],\n",
       "        [ 0.28571429,  1.        ,  0.        ,  0.        ],\n",
       "        [ 0.71428571,  0.12      ,  1.        ,  0.        ],\n",
       "        [ 0.71428571, -0.44      , -0.46153846,  1.        ]]),\n",
       " array([[ 7.        ,  5.        ,  6.        ,  6.        ],\n",
       "        [ 0.        ,  3.57142857,  6.28571429,  5.28571429],\n",
       "        [ 0.        ,  0.        , -1.04      ,  3.08      ],\n",
       "        [ 0.        ,  0.        ,  0.        ,  7.46153846]]))"
      ]
     },
     "execution_count": 3,
     "metadata": {},
     "output_type": "execute_result"
    }
   ],
   "source": [
    "p,l,u"
   ]
  },
  {
   "cell_type": "code",
   "execution_count": 7,
   "id": "b3d4ed02",
   "metadata": {},
   "outputs": [],
   "source": [
    "l,u= dcom.lu(A)\n"
   ]
  },
  {
   "cell_type": "code",
   "execution_count": 9,
   "id": "a78d5a98",
   "metadata": {},
   "outputs": [
    {
     "data": {
      "text/plain": [
       "(array([[1.        , 0.        , 0.        , 0.        ],\n",
       "        [2.5       , 1.        , 0.        , 0.        ],\n",
       "        [3.5       , 1.19047619, 1.        , 0.        ],\n",
       "        [2.5       , 0.80952381, 2.5       , 1.        ]]),\n",
       " array([[  2.        ,   5.        ,   8.        ,   7.        ],\n",
       "        [  0.        , -10.5       , -18.        ,  -9.5       ],\n",
       "        [  0.        ,   0.        ,  -0.57142857,  -7.19047619],\n",
       "        [  0.        ,   0.        ,   0.        ,  16.16666667]]))"
      ]
     },
     "execution_count": 9,
     "metadata": {},
     "output_type": "execute_result"
    }
   ],
   "source": [
    "l,u"
   ]
  },
  {
   "cell_type": "code",
   "execution_count": null,
   "id": "ccafc023",
   "metadata": {},
   "outputs": [],
   "source": []
  }
 ],
 "metadata": {
  "kernelspec": {
   "display_name": "Python 3 (ipykernel)",
   "language": "python",
   "name": "python3"
  },
  "language_info": {
   "codemirror_mode": {
    "name": "ipython",
    "version": 3
   },
   "file_extension": ".py",
   "mimetype": "text/x-python",
   "name": "python",
   "nbconvert_exporter": "python",
   "pygments_lexer": "ipython3",
   "version": "3.9.12"
  }
 },
 "nbformat": 4,
 "nbformat_minor": 5
}
