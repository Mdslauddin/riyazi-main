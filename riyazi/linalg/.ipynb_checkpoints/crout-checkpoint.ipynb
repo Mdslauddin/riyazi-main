{
 "cells": [
  {
   "cell_type": "markdown",
   "id": "519b9793",
   "metadata": {},
   "source": [
    "### Python implementation of the Crout matrix decomposition"
   ]
  },
  {
   "cell_type": "code",
   "execution_count": 1,
   "id": "73e8efb6",
   "metadata": {},
   "outputs": [],
   "source": [
    "import numpy as np\n",
    "\n",
    "def crout(A):\n",
    "\n",
    "    L = np.zeros((3, 3))\n",
    "    U = np.zeros((3, 3))\n",
    "\n",
    "    for k in range(0, 3):\n",
    "        U[k, k] = 1 \n",
    "\n",
    "        for j in range(i, 3):\n",
    "            sum0 = sum([L[j, s] * U[s, k] for s in range(0, j)]) #range from index 0\n",
    "            L[j, k] = A[j, k] - sum0 #reversed index\n",
    "\n",
    "        for j in range(k+1, 3):\n",
    "            sum1 = sum([L[k, s] * U[s, j] for s in range(0, i)]) #range from index 0\n",
    "            U[k, j] = (A[k, j] - sum1) / L[k, k]"
   ]
  },
  {
   "cell_type": "code",
   "execution_count": null,
   "id": "9a6dbf6b",
   "metadata": {},
   "outputs": [],
   "source": []
  }
 ],
 "metadata": {
  "kernelspec": {
   "display_name": "Python 3 (ipykernel)",
   "language": "python",
   "name": "python3"
  },
  "language_info": {
   "codemirror_mode": {
    "name": "ipython",
    "version": 3
   },
   "file_extension": ".py",
   "mimetype": "text/x-python",
   "name": "python",
   "nbconvert_exporter": "python",
   "pygments_lexer": "ipython3",
   "version": "3.9.12"
  }
 },
 "nbformat": 4,
 "nbformat_minor": 5
}
