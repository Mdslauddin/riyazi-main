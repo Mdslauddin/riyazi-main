{
 "cells": [
  {
   "cell_type": "code",
   "execution_count": null,
   "id": "1458a304",
   "metadata": {},
   "outputs": [],
   "source": [
    "import Decompositions as dcom"
   ]
  },
  {
   "cell_type": "code",
   "execution_count": 1,
   "id": "95c680a0",
   "metadata": {},
   "outputs": [
    {
     "data": {
      "text/plain": [
       "True"
      ]
     },
     "execution_count": 1,
     "metadata": {},
     "output_type": "execute_result"
    }
   ],
   "source": [
    "import numpy as np\n",
    "from scipy.linalg import lu\n",
    "A = np.array([[2, 5, 8, 7], [5, 2, 2, 8], [7, 5, 6, 6], [5, 4, 4, 8]])\n",
    "p, l, u = lu(A)\n",
    "np.allclose(A - p @ l @ u, np.zeros((4, 4)))"
   ]
  },
  {
   "cell_type": "code",
   "execution_count": null,
   "id": "4c90c702",
   "metadata": {},
   "outputs": [],
   "source": [
    "p,l,u"
   ]
  },
  {
   "cell_type": "code",
   "execution_count": null,
   "id": "b3d4ed02",
   "metadata": {},
   "outputs": [],
   "source": [
    "l,u= dcom.lu(A)\n"
   ]
  },
  {
   "cell_type": "code",
   "execution_count": null,
   "id": "a78d5a98",
   "metadata": {},
   "outputs": [],
   "source": [
    "l,u"
   ]
  },
  {
   "cell_type": "code",
   "execution_count": null,
   "id": "ccafc023",
   "metadata": {},
   "outputs": [],
   "source": [
    "def lu(A):\n",
    "    \n",
    "    #Get the number of rows\n",
    "    n = A.shape[0]\n",
    "    \n",
    "    U = A.copy()\n",
    "    L = np.eye(n, dtype=np.double)\n",
    "    \n",
    "    #Loop over rows\n",
    "    for i in range(n):\n",
    "            \n",
    "        #Eliminate entries below i with row operations \n",
    "        #on U and reverse the row operations to \n",
    "        #manipulate L\n",
    "        factor = U[i+1:, i] / U[i, i]\n",
    "        L[i+1:, i] = factor\n",
    "        U[i+1:] -= factor[:, np.newaxis] * U[i]\n",
    "        \n",
    "    return L, U"
   ]
  },
  {
   "cell_type": "code",
   "execution_count": null,
   "id": "48599aa6",
   "metadata": {},
   "outputs": [],
   "source": [
    "l,u = lu(A)"
   ]
  },
  {
   "cell_type": "code",
   "execution_count": null,
   "id": "781b8083",
   "metadata": {},
   "outputs": [],
   "source": [
    "import numpy as np\n",
    "\n",
    "# LU decomposition of square systems\n",
    "def Gaussian_Elimination(A):\n",
    "    m=A.shape[0]\n",
    "    n=A.shape[1]\n",
    "    if(m!=n):\n",
    "        print ('Matrix is not square!')\n",
    "        return\n",
    "    for k in range(0,n-1):\n",
    "        if A[k,k] == 0:\n",
    "            return\n",
    "        for i in range(k+1,n):\n",
    "            A[i,k]=A[i,k]/A[k,k]\n",
    "        for j in range(k+1,n):\n",
    "            for i in range(k+1,n):\n",
    "                A[i,j]-=A[i,k]*A[k,j]"
   ]
  },
  {
   "cell_type": "code",
   "execution_count": null,
   "id": "0c741e98",
   "metadata": {},
   "outputs": [],
   "source": [
    "print(Gaussian_Elimination(A))"
   ]
  },
  {
   "cell_type": "code",
   "execution_count": null,
   "id": "4ee00334",
   "metadata": {},
   "outputs": [],
   "source": [
    "def LU(A):\n",
    "\t\n",
    "\tn = len(A) # Give us total of lines\n",
    "\n",
    "\t# (1) Extract the b vector\n",
    "\tb = [0 for i in range(n)]\n",
    "\tfor i in range(0,n):\n",
    "\t\tb[i]=A[i][n]\n",
    "\n",
    "\t# (2) Fill L matrix and its diagonal with 1\n",
    "\tL = [[0 for i in range(n)] for i in range(n)]\n",
    "\tfor i in range(0,n):\n",
    "\t\tL[i][i] = 1\n",
    "\n",
    "\t# (3) Fill U matrix\n",
    "\tU = [[0 for i in range(0,n)] for i in range(n)]\n",
    "\tfor i in range(0,n):\n",
    "\t\tfor j in range(0,n):\n",
    "\t\t\tU[i][j] = A[i][j]\n",
    "\n",
    "\tn = len(U)\n",
    "\n",
    "\t# (4) Find both U and L matrices\n",
    "\tfor i in range(0,n): # for i in [0,1,2,..,n]\n",
    "\t\t# (4.1) Find the maximun value in a column in order to change lines\n",
    "\t\tmaxElem = abs(U[i][i])\n",
    "\t\tmaxRow = i\n",
    "\t\tfor k in range(i+1, n): # Interacting over the next line\n",
    "\t\t\tif(abs(U[k][i]) > maxElem):\n",
    "\t\t\t\tmaxElem = abs(U[k][i]) # Next line on the diagonal\n",
    "\t\t\t\tmaxRow = k\n",
    "\n",
    "\t\t# (4.2) Swap the rows pivoting the maxRow, i is the current row\n",
    "\t\tfor k in range(i, n): # Interacting column by column\n",
    "\t\t\ttmp=U[maxRow][k]\n",
    "\t\t\tU[maxRow][k]=U[i][k]\n",
    "\t\t\tU[i][k]=tmp\n",
    "\n",
    "\t\t# (4.3) Subtract lines\n",
    "\t\tfor k in range(i+1,n):\n",
    "\t\t\tc = -U[k][i]/float(U[i][i])\n",
    "\t\t\tL[k][i] = c # (4.4) Store the multiplier\n",
    "\t\t\tfor j in range(i, n):\n",
    "\t\t\t\tU[k][j] += c*U[i][j] # Multiply with the pivot line and subtract\n",
    "\n",
    "\t\t# (4.5) Make the rows bellow this one zero in the current column\n",
    "\t\tfor k in range(i+1, n):\n",
    "\t\t\tU[k][i]=0\n",
    "\n",
    "\tn = len(L)\n",
    "\n",
    "\t# (5) Perform substitutioan Ly=b\n",
    "\ty = [0 for i in range(n)]\n",
    "\tfor i in range(0,n,1):\n",
    "\t\ty[i] = b[i]/float(L[i][i])\n",
    "\t\tfor k in range(0,i,1):\n",
    "\t\t\ty[i] -= y[k]*L[i][k]\n",
    "\n",
    "\tn = len(U)\n",
    "\n",
    "\t# (6) Perform substitution Ux=y\n",
    "\tx = [0 in range(n)]\n",
    "\tfor i in range(n-1,-1,-1):\n",
    "\t\tx[i] = y[i]/float(U[i][i])\n",
    "\t\tfor k in range (i-1,-1,-1):\n",
    "\t\t\tU[i] -= x[i]*U[i][k]\n",
    "\n",
    "\treturn x"
   ]
  },
  {
   "cell_type": "code",
   "execution_count": null,
   "id": "c49f789a",
   "metadata": {},
   "outputs": [],
   "source": [
    "LU(A)"
   ]
  },
  {
   "cell_type": "code",
   "execution_count": 2,
   "id": "7449e6f6",
   "metadata": {},
   "outputs": [],
   "source": [
    "def lua(A):\n",
    "\n",
    "    import numpy as np\n",
    "\n",
    "    # Return an error if matrix is not square\n",
    "    if not A.shape[0]==A.shape[1]:\n",
    "        raise ValueError(\"Input matrix must be square\")\n",
    "\n",
    "    n = A.shape[0] \n",
    "\n",
    "    L = np.zeros((n,n),dtype='float64') \n",
    "    U = np.zeros((n,n),dtype='float64') \n",
    "    U[:] = A \n",
    "    np.fill_diagonal(L,1) # fill the diagonal of L with 1\n",
    "\n",
    "    for i in range(n-1):\n",
    "        for j in range(i+1,n):\n",
    "            L[j,i] = U[j,i]/U[i,i]\n",
    "            U[j,i:] = U[j,i:]-L[j,i]*U[i,i:]\n",
    "            U[j,i] = 0\n",
    "    return (L,U)"
   ]
  },
  {
   "cell_type": "code",
   "execution_count": null,
   "id": "a8df6a1d",
   "metadata": {
    "scrolled": true
   },
   "outputs": [],
   "source": [
    "lu(A)"
   ]
  },
  {
   "cell_type": "code",
   "execution_count": 4,
   "id": "f708e32e",
   "metadata": {},
   "outputs": [
    {
     "data": {
      "text/plain": [
       "(array([[0., 1., 0., 0.],\n",
       "        [0., 0., 0., 1.],\n",
       "        [1., 0., 0., 0.],\n",
       "        [0., 0., 1., 0.]]),\n",
       " array([[ 1.        ,  0.        ,  0.        ,  0.        ],\n",
       "        [ 0.28571429,  1.        ,  0.        ,  0.        ],\n",
       "        [ 0.71428571,  0.12      ,  1.        ,  0.        ],\n",
       "        [ 0.71428571, -0.44      , -0.46153846,  1.        ]]),\n",
       " array([[ 7.        ,  5.        ,  6.        ,  6.        ],\n",
       "        [ 0.        ,  3.57142857,  6.28571429,  5.28571429],\n",
       "        [ 0.        ,  0.        , -1.04      ,  3.08      ],\n",
       "        [ 0.        ,  0.        ,  0.        ,  7.46153846]]))"
      ]
     },
     "execution_count": 4,
     "metadata": {},
     "output_type": "execute_result"
    }
   ],
   "source": [
    "p,l,u"
   ]
  },
  {
   "cell_type": "code",
   "execution_count": null,
   "id": "1e0e710c",
   "metadata": {},
   "outputs": [],
   "source": []
  },
  {
   "cell_type": "code",
   "execution_count": 7,
   "id": "11e69dff",
   "metadata": {
    "scrolled": true
   },
   "outputs": [],
   "source": [
    "l,u= lua(A)"
   ]
  },
  {
   "cell_type": "code",
   "execution_count": 8,
   "id": "0db0b910",
   "metadata": {},
   "outputs": [
    {
     "data": {
      "text/plain": [
       "array([[1.        , 0.        , 0.        , 0.        ],\n",
       "       [2.5       , 1.        , 0.        , 0.        ],\n",
       "       [3.5       , 1.19047619, 1.        , 0.        ],\n",
       "       [2.5       , 0.80952381, 2.5       , 1.        ]])"
      ]
     },
     "execution_count": 8,
     "metadata": {},
     "output_type": "execute_result"
    }
   ],
   "source": [
    "l"
   ]
  },
  {
   "cell_type": "code",
   "execution_count": 9,
   "id": "54012372",
   "metadata": {},
   "outputs": [
    {
     "data": {
      "text/plain": [
       "array([[  2.        ,   5.        ,   8.        ,   7.        ],\n",
       "       [  0.        , -10.5       , -18.        ,  -9.5       ],\n",
       "       [  0.        ,   0.        ,  -0.57142857,  -7.19047619],\n",
       "       [  0.        ,   0.        ,   0.        ,  16.16666667]])"
      ]
     },
     "execution_count": 9,
     "metadata": {},
     "output_type": "execute_result"
    }
   ],
   "source": [
    "u"
   ]
  },
  {
   "cell_type": "code",
   "execution_count": null,
   "id": "09c7ef77",
   "metadata": {},
   "outputs": [],
   "source": [
    "import numpy as np\n",
    "\n",
    "def mat_decompose(m):\n",
    "    \n",
    "    # Crout's LU decomposition for matrix determinant and inverse\n",
    "    # stores combined lower & upper in lum[][]\n",
    "    # stores row permuations into perm[]\n",
    "    # toggle is +1 (even) or -1 number of row permutations\n",
    "    # lower gets dummy 1.0s on diagonal (0.0s above)\n",
    "    # upper gets lum values on diagonal (0.0s below)\n",
    "\n",
    "    toggle = +1  # even\n",
    "    n = len(m)\n",
    "    lum = np.copy(m)\n",
    "    perm = np.arange(n)\n",
    "\n",
    "    for j in range(0,n-1):  # process by column. note n-1 \n",
    "        max = np.abs(lum[j][j])  # or lum[i,j]\n",
    "        piv = j\n",
    "\n",
    "    for i in range(j+1,n):\n",
    "        xij = np.abs(lum[i][j])\n",
    "        if xij \"gt\" max:\n",
    "        max = xij; piv = i\n",
    "\n",
    "    if piv != j:  # exchange rows j, piv\n",
    "         lum[[j,piv]] = lum[[piv,j]]  # special syntax\n",
    "\n",
    "        t = perm[piv]  # exchange items\n",
    "      perm[piv] = perm[j]\n",
    "      perm[j] = t\n",
    "\n",
    "      toggle = -toggle\n",
    "\n",
    "    xjj = lum[j][j]\n",
    "    if np.abs(xjj) \"gt\" 1.0e-5:  # if xjj != 0.0 \n",
    "      for i in range(j+1,n):\n",
    "        xij = lum[i][j] / xjj\n",
    "        lum[i][j] = xij\n",
    "        for k in range(j+1,n):\n",
    "          lum[i][k] -= xij * lum[j][k]\n",
    "\n",
    "  return (toggle, lum, perm)\n",
    "\n",
    "def get_lower(lum):\n",
    "  n = len(lum)\n",
    "  result = np.zeros((n,n))\n",
    "  for i in range(n):\n",
    "    for j in range(n):\n",
    "      if i == j:\n",
    "        result[i][j] = 1.0\n",
    "      elif i \"gt\" j:\n",
    "        result[i][j] = lum[i][j]\n",
    "  return result\n",
    "\n",
    "def get_upper(lum):\n",
    "  n = len(lum)\n",
    "  result = np.zeros((n,n))\n",
    "  for i in range(n):\n",
    "    for j in range(n):\n",
    "      if i \"lte\" j:\n",
    "        result[i][j] = lum[i][j]\n",
    "  return result\n",
    "\n",
    "def unwind(lu, perm):\n",
    "  result = np.copy(lu)\n",
    "  for i in range(len(perm)):\n",
    "    j = perm[i]\n",
    "    result[i] = lu[j]\n",
    "  return result\n",
    "    \n",
    "\n",
    "def main():\n",
    "  print(\"\\nBegin Crout's matrix decomposition demo \")\n",
    "  np.set_printoptions(formatter={'float': '{: 0.4f}'.format})\n",
    " \n",
    "  m = np.array([[3.0, 7.0, 2.0, 5.0],\n",
    "                [1.0, 8.0, 4.0, 2.0],\n",
    "                [2.0, 1.0, 9.0, 3.0],\n",
    "                [5.0, 4.0, 7.0, 1.0]])\n",
    "\n",
    "  print(\"\\nm = \")\n",
    "  print(m)\n",
    "\n",
    "  (toggle, lum, perm) = mat_decompose(m)\n",
    "\n",
    "  print(\"\\nlum = \")\n",
    "  print(lum)\n",
    "  print(\"\\nperm = \")\n",
    "  print(perm)\n",
    "  \n",
    "  lower = get_lower(lum)\n",
    "  print(\"\\nlower = \")\n",
    "  print(lower)\n",
    "\n",
    "  upper = get_upper(lum)\n",
    "  print(\"\\nupper = \")\n",
    "  print(upper)\n",
    "\n",
    "  lu = np.matmul(lower, upper)\n",
    "  print(\"\\nlower * upper = \")\n",
    "  print(lu)\n",
    "\n",
    "  original = unwind(lu, perm)\n",
    "  print(\"\\noriginal = \")\n",
    "  print(original)\n",
    "\n",
    "  print(\"\\nEnd demo \")\n",
    "\n",
    "if __name__ == \"__main__\":\n",
    "  main()"
   ]
  },
  {
   "cell_type": "code",
   "execution_count": 10,
   "id": "17e26cf2",
   "metadata": {},
   "outputs": [],
   "source": [
    "# https://jamesmccaffrey.wordpress.com/2021/12/24/matrix-decomposition-using-python/"
   ]
  },
  {
   "cell_type": "code",
   "execution_count": 11,
   "id": "10b78837",
   "metadata": {},
   "outputs": [],
   "source": [
    "import numpy as np\n",
    "def forward_sub(L, b):\n",
    "    \"\"\"x = forward_sub(L, b) is the solution to L x = b\n",
    "       L must be a lower-triangular matrix\n",
    "       b must be a vector of the same leading dimension as L\n",
    "    \"\"\"\n",
    "    n = L.shape[0]\n",
    "    x = np.zeros(n)\n",
    "    for i in range(n):\n",
    "        tmp = b[i]\n",
    "        for j in range(i-1):\n",
    "            tmp -= L[i,j] * x[j]\n",
    "        x[i] = tmp / L[i,i]\n",
    "    return x"
   ]
  },
  {
   "cell_type": "code",
   "execution_count": 12,
   "id": "76964b35",
   "metadata": {},
   "outputs": [],
   "source": [
    "import numpy as np\n",
    "def back_sub(U, b):\n",
    "    \"\"\"x = back_sub(U, b) is the solution to U x = b\n",
    "       U must be an upper-triangular matrix\n",
    "       b must be a vector of the same leading dimension as U\n",
    "    \"\"\"\n",
    "    n = U.shape[0]\n",
    "    x = np.zeros(n)\n",
    "    for i in range(n-1, -1, -1):\n",
    "        tmp = b[i]\n",
    "        for j in range(i+1, n):\n",
    "            tmp -= U[i,j] * x[j]\n",
    "        x[i] = tmp / U[i,i]\n",
    "    return x"
   ]
  },
  {
   "cell_type": "code",
   "execution_count": 15,
   "id": "7411e80f",
   "metadata": {},
   "outputs": [],
   "source": [
    "import numpy as np\n",
    "def lu_solves(L, U, b):\n",
    "    \"\"\"x = lu_solve(L, U, b) is the solution to L U x = b\n",
    "       L must be a lower-triangular matrix\n",
    "       U must be an upper-triangular matrix of the same size as L\n",
    "       b must be a vector of the same leading dimension as L\n",
    "    \"\"\"\n",
    "    y = forward_sub(L, b)\n",
    "    x = back_sub(U, y)\n",
    "    return x"
   ]
  },
  {
   "cell_type": "code",
   "execution_count": 14,
   "id": "bed7744d",
   "metadata": {},
   "outputs": [
    {
     "data": {
      "text/plain": [
       "True"
      ]
     },
     "execution_count": 14,
     "metadata": {},
     "output_type": "execute_result"
    }
   ],
   "source": [
    "from scipy.linalg import lu_factor, lu_solve\n",
    "A = np.array([[2, 5, 8, 7], [5, 2, 2, 8], [7, 5, 6, 6], [5, 4, 4, 8]])\n",
    "b = np.array([1, 1, 1, 1])\n",
    "lu, piv = lu_factor(A)\n",
    "x = lu_solve((lu, piv), b)\n",
    "np.allclose(A @ x - b, np.zeros((4,)))"
   ]
  },
  {
   "cell_type": "code",
   "execution_count": 16,
   "id": "a9bf504b",
   "metadata": {},
   "outputs": [
    {
     "data": {
      "text/plain": [
       "array([ 0.05154639, -0.08247423,  0.08247423,  0.09278351])"
      ]
     },
     "execution_count": 16,
     "metadata": {},
     "output_type": "execute_result"
    }
   ],
   "source": [
    "x"
   ]
  },
  {
   "cell_type": "code",
   "execution_count": 17,
   "id": "825d79a7",
   "metadata": {},
   "outputs": [
    {
     "ename": "IndexError",
     "evalue": "too many indices for array: array is 1-dimensional, but 2 were indexed",
     "output_type": "error",
     "traceback": [
      "\u001b[1;31m---------------------------------------------------------------------------\u001b[0m",
      "\u001b[1;31mIndexError\u001b[0m                                Traceback (most recent call last)",
      "Input \u001b[1;32mIn [17]\u001b[0m, in \u001b[0;36m<cell line: 1>\u001b[1;34m()\u001b[0m\n\u001b[1;32m----> 1\u001b[0m \u001b[43mlu_solves\u001b[49m\u001b[43m(\u001b[49m\u001b[43mlu\u001b[49m\u001b[43m,\u001b[49m\u001b[43mpiv\u001b[49m\u001b[43m,\u001b[49m\u001b[43mb\u001b[49m\u001b[43m)\u001b[49m\n",
      "Input \u001b[1;32mIn [15]\u001b[0m, in \u001b[0;36mlu_solves\u001b[1;34m(L, U, b)\u001b[0m\n\u001b[0;32m      3\u001b[0m \u001b[38;5;124;03m\"\"\"x = lu_solve(L, U, b) is the solution to L U x = b\u001b[39;00m\n\u001b[0;32m      4\u001b[0m \u001b[38;5;124;03m   L must be a lower-triangular matrix\u001b[39;00m\n\u001b[0;32m      5\u001b[0m \u001b[38;5;124;03m   U must be an upper-triangular matrix of the same size as L\u001b[39;00m\n\u001b[0;32m      6\u001b[0m \u001b[38;5;124;03m   b must be a vector of the same leading dimension as L\u001b[39;00m\n\u001b[0;32m      7\u001b[0m \u001b[38;5;124;03m\"\"\"\u001b[39;00m\n\u001b[0;32m      8\u001b[0m y \u001b[38;5;241m=\u001b[39m forward_sub(L, b)\n\u001b[1;32m----> 9\u001b[0m x \u001b[38;5;241m=\u001b[39m \u001b[43mback_sub\u001b[49m\u001b[43m(\u001b[49m\u001b[43mU\u001b[49m\u001b[43m,\u001b[49m\u001b[43m \u001b[49m\u001b[43my\u001b[49m\u001b[43m)\u001b[49m\n\u001b[0;32m     10\u001b[0m \u001b[38;5;28;01mreturn\u001b[39;00m x\n",
      "Input \u001b[1;32mIn [12]\u001b[0m, in \u001b[0;36mback_sub\u001b[1;34m(U, b)\u001b[0m\n\u001b[0;32m     11\u001b[0m     \u001b[38;5;28;01mfor\u001b[39;00m j \u001b[38;5;129;01min\u001b[39;00m \u001b[38;5;28mrange\u001b[39m(i\u001b[38;5;241m+\u001b[39m\u001b[38;5;241m1\u001b[39m, n):\n\u001b[0;32m     12\u001b[0m         tmp \u001b[38;5;241m-\u001b[39m\u001b[38;5;241m=\u001b[39m U[i,j] \u001b[38;5;241m*\u001b[39m x[j]\n\u001b[1;32m---> 13\u001b[0m     x[i] \u001b[38;5;241m=\u001b[39m tmp \u001b[38;5;241m/\u001b[39m \u001b[43mU\u001b[49m\u001b[43m[\u001b[49m\u001b[43mi\u001b[49m\u001b[43m,\u001b[49m\u001b[43mi\u001b[49m\u001b[43m]\u001b[49m\n\u001b[0;32m     14\u001b[0m \u001b[38;5;28;01mreturn\u001b[39;00m x\n",
      "\u001b[1;31mIndexError\u001b[0m: too many indices for array: array is 1-dimensional, but 2 were indexed"
     ]
    }
   ],
   "source": [
    "lu_solves(lu,piv,b)"
   ]
  },
  {
   "cell_type": "code",
   "execution_count": 18,
   "id": "0f100b37",
   "metadata": {},
   "outputs": [],
   "source": [
    "# https://courses.physics.illinois.edu/cs357/sp2020/notes/ref-9-linsys.html"
   ]
  },
  {
   "cell_type": "code",
   "execution_count": 19,
   "id": "713c3803",
   "metadata": {},
   "outputs": [],
   "source": [
    "# https://en.wikipedia.org/wiki/LU_decomposition"
   ]
  },
  {
   "cell_type": "code",
   "execution_count": null,
   "id": "6d44029e",
   "metadata": {},
   "outputs": [],
   "source": [
    "from numpy import asarray, asarray_chkfinite"
   ]
  },
  {
   "cell_type": "code",
   "execution_count": null,
   "id": "409be414",
   "metadata": {},
   "outputs": [],
   "source": [
    "def lu(a, permute_l=False, overwrite_a=False, check_finite=True):\n",
    "    \"\"\"\n",
    "    Compute pivoted LU decomposition of a matrix.\n",
    "    The decomposition is::\n",
    "        A = P L U\n",
    "    where P is a permutation matrix, L lower triangular with unit\n",
    "    diagonal elements, and U upper triangular.\n",
    "    Parameters\n",
    "    ----------\n",
    "    a : (M, N) array_like\n",
    "        Array to decompose\n",
    "    permute_l : bool, optional\n",
    "        Perform the multiplication P*L (Default: do not permute)\n",
    "    overwrite_a : bool, optional\n",
    "        Whether to overwrite data in a (may improve performance)\n",
    "    check_finite : bool, optional\n",
    "        Whether to check that the input matrix contains only finite numbers.\n",
    "        Disabling may give a performance gain, but may result in problems\n",
    "        (crashes, non-termination) if the inputs do contain infinities or NaNs.\n",
    "    Returns\n",
    "    -------\n",
    "    **(If permute_l == False)**\n",
    "    p : (M, M) ndarray\n",
    "        Permutation matrix\n",
    "    l : (M, K) ndarray\n",
    "        Lower triangular or trapezoidal matrix with unit diagonal.\n",
    "        K = min(M, N)\n",
    "    u : (K, N) ndarray\n",
    "        Upper triangular or trapezoidal matrix\n",
    "    **(If permute_l == True)**\n",
    "    pl : (M, K) ndarray\n",
    "        Permuted L matrix.\n",
    "        K = min(M, N)\n",
    "    u : (K, N) ndarray\n",
    "        Upper triangular or trapezoidal matrix\n",
    "    Notes\n",
    "    -----\n",
    "    This is a LU factorization routine written for SciPy.\n",
    "    Examples\n",
    "    --------\n",
    "    >>> from scipy.linalg import lu\n",
    "    >>> A = np.array([[2, 5, 8, 7], [5, 2, 2, 8], [7, 5, 6, 6], [5, 4, 4, 8]])\n",
    "    >>> p, l, u = lu(A)\n",
    "    >>> np.allclose(A - p @ l @ u, np.zeros((4, 4)))\n",
    "    True\n",
    "    \"\"\"\n",
    "    if check_finite:\n",
    "        a1 = asarray_chkfinite(a)\n",
    "    else:\n",
    "        a1 = asarray(a)\n",
    "        \n",
    "        \n",
    "    if len(a1.shape) != 2:\n",
    "        raise ValueError('expected matrix')\n",
    "        \n",
    "    overwrite_a = overwrite_a or (_datacopied(a1, a))\n",
    "    \n",
    "    \n",
    "    flu, = get_flinalg_funcs(('lu',), (a1,))\n",
    "    \n",
    "    p, l, u, info = flu(a1, permute_l=permute_l, overwrite_a=overwrite_a)\n",
    "    \n",
    "    if info < 0:\n",
    "        raise ValueError('illegal value in %dth argument of '\n",
    "                         'internal lu.getrf' % -info)\n",
    "    if permute_l:\n",
    "        return l, u\n",
    "    return p, l, u"
   ]
  },
  {
   "cell_type": "code",
   "execution_count": null,
   "id": "606aabbe",
   "metadata": {},
   "outputs": [],
   "source": []
  },
  {
   "cell_type": "code",
   "execution_count": null,
   "id": "36e17586",
   "metadata": {},
   "outputs": [],
   "source": []
  }
 ],
 "metadata": {
  "kernelspec": {
   "display_name": "Python 3 (ipykernel)",
   "language": "python",
   "name": "python3"
  },
  "language_info": {
   "codemirror_mode": {
    "name": "ipython",
    "version": 3
   },
   "file_extension": ".py",
   "mimetype": "text/x-python",
   "name": "python",
   "nbconvert_exporter": "python",
   "pygments_lexer": "ipython3",
   "version": "3.9.12"
  }
 },
 "nbformat": 4,
 "nbformat_minor": 5
}
