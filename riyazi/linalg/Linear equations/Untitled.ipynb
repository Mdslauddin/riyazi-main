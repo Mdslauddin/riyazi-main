{
 "cells": [
  {
   "cell_type": "code",
   "execution_count": null,
   "id": "a134ee5d",
   "metadata": {},
   "outputs": [],
   "source": []
  },
  {
   "cell_type": "code",
   "execution_count": 2,
   "id": "851134a8",
   "metadata": {},
   "outputs": [],
   "source": [
    "import numpy as np\n",
    "def gaussElim(a,b):\n",
    "    n = len(b)\n",
    "    # Elimination phase\n",
    "    for k in range(0,n-1):\n",
    "        for i in range(k+1,n):\n",
    "            if a[i,k] != 0.0:\n",
    "                #if not null define λ\n",
    "                lam = a [i,k]/a[k,k]\n",
    "                #we calculate the new row of the matrix\n",
    "                a[i,k+1:n] = a[i,k+1:n] - lam*a[k,k+1:n]\n",
    "                #we update vector b\n",
    "                b[i] = b[i] - lam*b[k]\n",
    "                # backward substitution\n",
    "    for k in range(n-1,-1,-1):\n",
    "        b[k] = (b[k] - np.dot(a[k,k+1:n],b[k+1:n]))/a[k,k]\n",
    "    \n",
    "    return b\n"
   ]
  },
  {
   "cell_type": "code",
   "execution_count": 3,
   "id": "eafe075e",
   "metadata": {},
   "outputs": [],
   "source": [
    "a =np.array([[1,2,3],[4,5,6],[6,7,8]])\n",
    "\n",
    "\n",
    "b = np.array([[3,4,5],[5,7,8],[7,6,5]])"
   ]
  },
  {
   "cell_type": "code",
   "execution_count": null,
   "id": "d734d38c",
   "metadata": {
    "scrolled": true
   },
   "outputs": [],
   "source": [
    "gaussElim(a,b)"
   ]
  },
  {
   "cell_type": "code",
   "execution_count": null,
   "id": "d984ba3f",
   "metadata": {},
   "outputs": [],
   "source": [
    "gaussianElimination(a,b)"
   ]
  },
  {
   "cell_type": "code",
   "execution_count": null,
   "id": "8f261bd0",
   "metadata": {},
   "outputs": [],
   "source": [
    "# Python3 program to demonstrate working of\n",
    "# Gaussian Elimination method\n",
    "N = 3\n",
    "\n",
    "# function to get matrix content\n",
    "def gaussianElimination(mat):\n",
    "\n",
    "\t# reduction into r.e.f.\n",
    "\tsingular_flag = forwardElim(mat)\n",
    "\n",
    "\t# if matrix is singular\n",
    "\tif (singular_flag != -1):\n",
    "\n",
    "\t\tprint(\"Singular Matrix.\")\n",
    "\n",
    "\t\t# if the RHS of equation corresponding to\n",
    "\t\t# zero row is 0, * system has infinitely\n",
    "\t\t# many solutions, else inconsistent*/\n",
    "\t\tif (mat[singular_flag][N]):\n",
    "\t\t\tprint(\"Inconsistent System.\")\n",
    "\t\telse:\n",
    "\t\t\tprint(\"May have infinitely many solutions.\")\n",
    "\n",
    "\t\treturn\n",
    "\n",
    "\t# get solution to system and print it using\n",
    "\t# backward substitution\n",
    "\tbackSub(mat)\n",
    "\n",
    "# function for elementary operation of swapping two rows\n",
    "def swap_row(mat, i, j):\n",
    "\n",
    "\tfor k in range(N + 1):\n",
    "\n",
    "\t\ttemp = mat[i][k]\n",
    "\t\tmat[i][k] = mat[j][k]\n",
    "\t\tmat[j][k] = temp\n",
    "\n",
    "# function to reduce matrix to r.e.f.\n",
    "def forwardElim(mat):\n",
    "\tfor k in range(N):\n",
    "\t\n",
    "\t\t# Initialize maximum value and index for pivot\n",
    "\t\ti_max = k\n",
    "\t\tv_max = mat[i_max][k]\n",
    "\n",
    "\t\t# find greater amplitude for pivot if any\n",
    "\t\tfor i in range(k + 1, N):\n",
    "\t\t\tif (abs(mat[i][k]) > v_max):\n",
    "\t\t\t\tv_max = mat[i][k]\n",
    "\t\t\t\ti_max = i\n",
    "\n",
    "\t\t# if a principal diagonal element is zero,\n",
    "\t\t# it denotes that matrix is singular, and\n",
    "\t\t# will lead to a division-by-zero later.\n",
    "\t\tif not mat[k][i_max]:\n",
    "\t\t\treturn k # Matrix is singular\n",
    "\n",
    "\t\t# Swap the greatest value row with current row\n",
    "\t\tif (i_max != k):\n",
    "\t\t\tswap_row(mat, k, i_max)\n",
    "\n",
    "\t\tfor i in range(k + 1, N):\n",
    "\n",
    "\t\t\t# factor f to set current row kth element to 0,\n",
    "\t\t\t# and subsequently remaining kth column to 0 */\n",
    "\t\t\tf = mat[i][k]/mat[k][k]\n",
    "\n",
    "\t\t\t# subtract fth multiple of corresponding kth\n",
    "\t\t\t# row element*/\n",
    "\t\t\tfor j in range(k + 1, N + 1):\n",
    "\t\t\t\tmat[i][j] -= mat[k][j]*f\n",
    "\n",
    "\t\t\t# filling lower triangular matrix with zeros*/\n",
    "\t\t\tmat[i][k] = 0\n",
    "\n",
    "\t\t# print(mat);\t //for matrix state\n",
    "\n",
    "\t# print(mat);\t\t //for matrix state\n",
    "\treturn -1\n",
    "\n",
    "# function to calculate the values of the unknowns\n",
    "def backSub(mat):\n",
    "\n",
    "\tx = [None for _ in range(N)] # An array to store solution\n",
    "\n",
    "\t# Start calculating from last equation up to the\n",
    "\t# first */\n",
    "\tfor i in range(N-1, -1, -1):\n",
    "\n",
    "\t\t# start with the RHS of the equation */\n",
    "\t\tx[i] = mat[i][N]\n",
    "\n",
    "\t\t# Initialize j to i+1 since matrix is upper\n",
    "\t\t# triangular*/\n",
    "\t\tfor j in range(i + 1, N):\n",
    "\t\t\n",
    "\t\t\t# subtract all the lhs values\n",
    "\t\t\t# except the coefficient of the variable\n",
    "\t\t\t# whose value is being calculated */\n",
    "\t\t\tx[i] -= mat[i][j]*x[j]\n",
    "\n",
    "\t\t# divide the RHS by the coefficient of the\n",
    "\t\t# unknown being calculated\n",
    "\t\tx[i] = (x[i]/mat[i][i])\n",
    "\n",
    "\tprint(\"\\nSolution for the system:\")\n",
    "\tfor i in range(N):\n",
    "\t\tprint(\"{:.8f}\".format(x[i]))\n",
    "\n",
    "# Driver program\n",
    "\n",
    "# input matrix\n",
    "mat = [[3.0, 2.0, -4.0, 3.0], [2.0, 3.0, 3.0, 15.0], [5.0, -3, 1.0, 14.0]]\n",
    "gaussianElimination(mat)\n",
    "\n",
    "# This code is contributed by phasing17\n"
   ]
  },
  {
   "cell_type": "code",
   "execution_count": 1,
   "id": "b258c18c",
   "metadata": {},
   "outputs": [],
   "source": [
    "import cvxpy\n",
    "\n",
    "def solve(A, B):\n",
    "    \"\"\"\n",
    "    Minimizes |AX - B|**2, assuming A and B are \n",
    "    square matrices for simplicity. If this optimized \n",
    "    error is zero, this corresponds to solving AX = B.\n",
    "    \"\"\"\n",
    "    n = A.shape[0]\n",
    "    X = cvxpy.Variable((n,n))\n",
    "    # Set objective\n",
    "    obj_fun = cvxpy.sum_squares(A*X - B)\n",
    "    objective = cvxpy.Minimize(obj_fun)\n",
    "    # Set constraints\n",
    "    constraints = [X >= 0]\n",
    "    prob = cvxpy.Problem(objective, constraints)\n",
    "    result = prob.solve(solver = \"ECOS\")\n",
    "    return X.value"
   ]
  },
  {
   "cell_type": "code",
   "execution_count": 4,
   "id": "4b7724a5",
   "metadata": {},
   "outputs": [
    {
     "data": {
      "text/plain": [
       "array([ 2., -2.,  9.])"
      ]
     },
     "execution_count": 4,
     "metadata": {},
     "output_type": "execute_result"
    }
   ],
   "source": [
    "a = np.array([[3, 2, 0], [1, -1, 0], [0, 5, 1]])\n",
    "b = np.array([2, 4, -1])\n",
    "from scipy import linalg\n",
    "x = linalg.solve(a, b)\n",
    "x"
   ]
  },
  {
   "cell_type": "code",
   "execution_count": 5,
   "id": "d736b8fc",
   "metadata": {},
   "outputs": [
    {
     "name": "stderr",
     "output_type": "stream",
     "text": [
      "D:\\Anaconda\\lib\\site-packages\\cvxpy\\expressions\\expression.py:593: UserWarning: \n",
      "This use of ``*`` has resulted in matrix multiplication.\n",
      "Using ``*`` for matrix multiplication has been deprecated since CVXPY 1.1.\n",
      "    Use ``*`` for matrix-scalar and vector-scalar multiplication.\n",
      "    Use ``@`` for matrix-matrix and matrix-vector multiplication.\n",
      "    Use ``multiply`` for elementwise multiplication.\n",
      "This code path has been hit 1 times so far.\n",
      "\n",
      "  warnings.warn(msg, UserWarning)\n"
     ]
    },
    {
     "ename": "ValueError",
     "evalue": "Cannot broadcast dimensions  (3, 3) (3,)",
     "output_type": "error",
     "traceback": [
      "\u001b[1;31m---------------------------------------------------------------------------\u001b[0m",
      "\u001b[1;31mValueError\u001b[0m                                Traceback (most recent call last)",
      "Input \u001b[1;32mIn [5]\u001b[0m, in \u001b[0;36m<cell line: 1>\u001b[1;34m()\u001b[0m\n\u001b[1;32m----> 1\u001b[0m \u001b[43msolve\u001b[49m\u001b[43m(\u001b[49m\u001b[43ma\u001b[49m\u001b[43m,\u001b[49m\u001b[43mb\u001b[49m\u001b[43m)\u001b[49m\n",
      "Input \u001b[1;32mIn [1]\u001b[0m, in \u001b[0;36msolve\u001b[1;34m(A, B)\u001b[0m\n\u001b[0;32m     10\u001b[0m X \u001b[38;5;241m=\u001b[39m cvxpy\u001b[38;5;241m.\u001b[39mVariable((n,n))\n\u001b[0;32m     11\u001b[0m \u001b[38;5;66;03m# Set objective\u001b[39;00m\n\u001b[1;32m---> 12\u001b[0m obj_fun \u001b[38;5;241m=\u001b[39m cvxpy\u001b[38;5;241m.\u001b[39msum_squares(\u001b[43mA\u001b[49m\u001b[38;5;241;43m*\u001b[39;49m\u001b[43mX\u001b[49m\u001b[43m \u001b[49m\u001b[38;5;241;43m-\u001b[39;49m\u001b[43m \u001b[49m\u001b[43mB\u001b[49m)\n\u001b[0;32m     13\u001b[0m objective \u001b[38;5;241m=\u001b[39m cvxpy\u001b[38;5;241m.\u001b[39mMinimize(obj_fun)\n\u001b[0;32m     14\u001b[0m \u001b[38;5;66;03m# Set constraints\u001b[39;00m\n",
      "File \u001b[1;32mD:\\Anaconda\\lib\\site-packages\\cvxpy\\expressions\\expression.py:49\u001b[0m, in \u001b[0;36m_cast_other.<locals>.cast_op\u001b[1;34m(self, other)\u001b[0m\n\u001b[0;32m     46\u001b[0m \u001b[38;5;124;03m\"\"\"A wrapped binary operator that can handle non-Expression arguments.\u001b[39;00m\n\u001b[0;32m     47\u001b[0m \u001b[38;5;124;03m\"\"\"\u001b[39;00m\n\u001b[0;32m     48\u001b[0m other \u001b[38;5;241m=\u001b[39m \u001b[38;5;28mself\u001b[39m\u001b[38;5;241m.\u001b[39mcast_to_const(other)\n\u001b[1;32m---> 49\u001b[0m \u001b[38;5;28;01mreturn\u001b[39;00m \u001b[43mbinary_op\u001b[49m\u001b[43m(\u001b[49m\u001b[38;5;28;43mself\u001b[39;49m\u001b[43m,\u001b[49m\u001b[43m \u001b[49m\u001b[43mother\u001b[49m\u001b[43m)\u001b[49m\n",
      "File \u001b[1;32mD:\\Anaconda\\lib\\site-packages\\cvxpy\\expressions\\expression.py:556\u001b[0m, in \u001b[0;36mExpression.__sub__\u001b[1;34m(self, other)\u001b[0m\n\u001b[0;32m    552\u001b[0m \u001b[38;5;129m@_cast_other\u001b[39m\n\u001b[0;32m    553\u001b[0m \u001b[38;5;28;01mdef\u001b[39;00m \u001b[38;5;21m__sub__\u001b[39m(\u001b[38;5;28mself\u001b[39m, other: \u001b[38;5;124m\"\u001b[39m\u001b[38;5;124mExpression\u001b[39m\u001b[38;5;124m\"\u001b[39m) \u001b[38;5;241m-\u001b[39m\u001b[38;5;241m>\u001b[39m \u001b[38;5;124m\"\u001b[39m\u001b[38;5;124mExpression\u001b[39m\u001b[38;5;124m\"\u001b[39m:\n\u001b[0;32m    554\u001b[0m     \u001b[38;5;124;03m\"\"\"Expression : The difference of two expressions.\u001b[39;00m\n\u001b[0;32m    555\u001b[0m \u001b[38;5;124;03m    \"\"\"\u001b[39;00m\n\u001b[1;32m--> 556\u001b[0m     \u001b[38;5;28;01mreturn\u001b[39;00m \u001b[38;5;28;43mself\u001b[39;49m\u001b[43m \u001b[49m\u001b[38;5;241;43m+\u001b[39;49m\u001b[43m \u001b[49m\u001b[38;5;241;43m-\u001b[39;49m\u001b[43mother\u001b[49m\n",
      "File \u001b[1;32mD:\\Anaconda\\lib\\site-packages\\cvxpy\\expressions\\expression.py:49\u001b[0m, in \u001b[0;36m_cast_other.<locals>.cast_op\u001b[1;34m(self, other)\u001b[0m\n\u001b[0;32m     46\u001b[0m \u001b[38;5;124;03m\"\"\"A wrapped binary operator that can handle non-Expression arguments.\u001b[39;00m\n\u001b[0;32m     47\u001b[0m \u001b[38;5;124;03m\"\"\"\u001b[39;00m\n\u001b[0;32m     48\u001b[0m other \u001b[38;5;241m=\u001b[39m \u001b[38;5;28mself\u001b[39m\u001b[38;5;241m.\u001b[39mcast_to_const(other)\n\u001b[1;32m---> 49\u001b[0m \u001b[38;5;28;01mreturn\u001b[39;00m \u001b[43mbinary_op\u001b[49m\u001b[43m(\u001b[49m\u001b[38;5;28;43mself\u001b[39;49m\u001b[43m,\u001b[49m\u001b[43m \u001b[49m\u001b[43mother\u001b[49m\u001b[43m)\u001b[49m\n",
      "File \u001b[1;32mD:\\Anaconda\\lib\\site-packages\\cvxpy\\expressions\\expression.py:542\u001b[0m, in \u001b[0;36mExpression.__add__\u001b[1;34m(self, other)\u001b[0m\n\u001b[0;32m    540\u001b[0m     \u001b[38;5;28;01mreturn\u001b[39;00m \u001b[38;5;28mself\u001b[39m\n\u001b[0;32m    541\u001b[0m \u001b[38;5;28mself\u001b[39m, other \u001b[38;5;241m=\u001b[39m \u001b[38;5;28mself\u001b[39m\u001b[38;5;241m.\u001b[39mbroadcast(\u001b[38;5;28mself\u001b[39m, other)\n\u001b[1;32m--> 542\u001b[0m \u001b[38;5;28;01mreturn\u001b[39;00m \u001b[43mcvxtypes\u001b[49m\u001b[38;5;241;43m.\u001b[39;49m\u001b[43madd_expr\u001b[49m\u001b[43m(\u001b[49m\u001b[43m)\u001b[49m\u001b[43m(\u001b[49m\u001b[43m[\u001b[49m\u001b[38;5;28;43mself\u001b[39;49m\u001b[43m,\u001b[49m\u001b[43m \u001b[49m\u001b[43mother\u001b[49m\u001b[43m]\u001b[49m\u001b[43m)\u001b[49m\n",
      "File \u001b[1;32mD:\\Anaconda\\lib\\site-packages\\cvxpy\\atoms\\affine\\add_expr.py:34\u001b[0m, in \u001b[0;36mAddExpression.__init__\u001b[1;34m(self, arg_groups)\u001b[0m\n\u001b[0;32m     31\u001b[0m \u001b[38;5;28;01mdef\u001b[39;00m \u001b[38;5;21m__init__\u001b[39m(\u001b[38;5;28mself\u001b[39m, arg_groups) \u001b[38;5;241m-\u001b[39m\u001b[38;5;241m>\u001b[39m \u001b[38;5;28;01mNone\u001b[39;00m:\n\u001b[0;32m     32\u001b[0m     \u001b[38;5;66;03m# For efficiency group args as sums.\u001b[39;00m\n\u001b[0;32m     33\u001b[0m     \u001b[38;5;28mself\u001b[39m\u001b[38;5;241m.\u001b[39m_arg_groups \u001b[38;5;241m=\u001b[39m arg_groups\n\u001b[1;32m---> 34\u001b[0m     \u001b[38;5;28;43msuper\u001b[39;49m\u001b[43m(\u001b[49m\u001b[43mAddExpression\u001b[49m\u001b[43m,\u001b[49m\u001b[43m \u001b[49m\u001b[38;5;28;43mself\u001b[39;49m\u001b[43m)\u001b[49m\u001b[38;5;241;43m.\u001b[39;49m\u001b[38;5;21;43m__init__\u001b[39;49m\u001b[43m(\u001b[49m\u001b[38;5;241;43m*\u001b[39;49m\u001b[43marg_groups\u001b[49m\u001b[43m)\u001b[49m\n\u001b[0;32m     35\u001b[0m     \u001b[38;5;28mself\u001b[39m\u001b[38;5;241m.\u001b[39margs \u001b[38;5;241m=\u001b[39m []\n\u001b[0;32m     36\u001b[0m     \u001b[38;5;28;01mfor\u001b[39;00m group \u001b[38;5;129;01min\u001b[39;00m arg_groups:\n",
      "File \u001b[1;32mD:\\Anaconda\\lib\\site-packages\\cvxpy\\atoms\\atom.py:51\u001b[0m, in \u001b[0;36mAtom.__init__\u001b[1;34m(self, *args)\u001b[0m\n\u001b[0;32m     49\u001b[0m \u001b[38;5;28mself\u001b[39m\u001b[38;5;241m.\u001b[39margs \u001b[38;5;241m=\u001b[39m [Atom\u001b[38;5;241m.\u001b[39mcast_to_const(arg) \u001b[38;5;28;01mfor\u001b[39;00m arg \u001b[38;5;129;01min\u001b[39;00m args]\n\u001b[0;32m     50\u001b[0m \u001b[38;5;28mself\u001b[39m\u001b[38;5;241m.\u001b[39mvalidate_arguments()\n\u001b[1;32m---> 51\u001b[0m \u001b[38;5;28mself\u001b[39m\u001b[38;5;241m.\u001b[39m_shape \u001b[38;5;241m=\u001b[39m \u001b[38;5;28;43mself\u001b[39;49m\u001b[38;5;241;43m.\u001b[39;49m\u001b[43mshape_from_args\u001b[49m\u001b[43m(\u001b[49m\u001b[43m)\u001b[49m\n\u001b[0;32m     52\u001b[0m \u001b[38;5;28;01mif\u001b[39;00m \u001b[38;5;28mlen\u001b[39m(\u001b[38;5;28mself\u001b[39m\u001b[38;5;241m.\u001b[39m_shape) \u001b[38;5;241m>\u001b[39m \u001b[38;5;241m2\u001b[39m:\n\u001b[0;32m     53\u001b[0m     \u001b[38;5;28;01mraise\u001b[39;00m \u001b[38;5;167;01mValueError\u001b[39;00m(\u001b[38;5;124m\"\u001b[39m\u001b[38;5;124mAtoms must be at most 2D.\u001b[39m\u001b[38;5;124m\"\u001b[39m)\n",
      "File \u001b[1;32mD:\\Anaconda\\lib\\site-packages\\cvxpy\\atoms\\affine\\add_expr.py:42\u001b[0m, in \u001b[0;36mAddExpression.shape_from_args\u001b[1;34m(self)\u001b[0m\n\u001b[0;32m     39\u001b[0m \u001b[38;5;28;01mdef\u001b[39;00m \u001b[38;5;21mshape_from_args\u001b[39m(\u001b[38;5;28mself\u001b[39m) \u001b[38;5;241m-\u001b[39m\u001b[38;5;241m>\u001b[39m Tuple[\u001b[38;5;28mint\u001b[39m, \u001b[38;5;241m.\u001b[39m\u001b[38;5;241m.\u001b[39m\u001b[38;5;241m.\u001b[39m]:\n\u001b[0;32m     40\u001b[0m     \u001b[38;5;124;03m\"\"\"Returns the (row, col) shape of the expression.\u001b[39;00m\n\u001b[0;32m     41\u001b[0m \u001b[38;5;124;03m    \"\"\"\u001b[39;00m\n\u001b[1;32m---> 42\u001b[0m     \u001b[38;5;28;01mreturn\u001b[39;00m \u001b[43mu\u001b[49m\u001b[38;5;241;43m.\u001b[39;49m\u001b[43mshape\u001b[49m\u001b[38;5;241;43m.\u001b[39;49m\u001b[43msum_shapes\u001b[49m\u001b[43m(\u001b[49m\u001b[43m[\u001b[49m\u001b[43marg\u001b[49m\u001b[38;5;241;43m.\u001b[39;49m\u001b[43mshape\u001b[49m\u001b[43m \u001b[49m\u001b[38;5;28;43;01mfor\u001b[39;49;00m\u001b[43m \u001b[49m\u001b[43marg\u001b[49m\u001b[43m \u001b[49m\u001b[38;5;129;43;01min\u001b[39;49;00m\u001b[43m \u001b[49m\u001b[38;5;28;43mself\u001b[39;49m\u001b[38;5;241;43m.\u001b[39;49m\u001b[43margs\u001b[49m\u001b[43m]\u001b[49m\u001b[43m)\u001b[49m\n",
      "File \u001b[1;32mD:\\Anaconda\\lib\\site-packages\\cvxpy\\utilities\\shape.py:48\u001b[0m, in \u001b[0;36msum_shapes\u001b[1;34m(shapes)\u001b[0m\n\u001b[0;32m     45\u001b[0m \u001b[38;5;28;01mfor\u001b[39;00m t \u001b[38;5;129;01min\u001b[39;00m shapes[\u001b[38;5;241m1\u001b[39m:]:\n\u001b[0;32m     46\u001b[0m     \u001b[38;5;66;03m# Only allow broadcasting for 0D arrays or summation of scalars.\u001b[39;00m\n\u001b[0;32m     47\u001b[0m     \u001b[38;5;28;01mif\u001b[39;00m shape \u001b[38;5;241m!=\u001b[39m t \u001b[38;5;129;01mand\u001b[39;00m \u001b[38;5;28mlen\u001b[39m(squeezed(shape)) \u001b[38;5;241m!=\u001b[39m \u001b[38;5;241m0\u001b[39m \u001b[38;5;129;01mand\u001b[39;00m \u001b[38;5;28mlen\u001b[39m(squeezed(t)) \u001b[38;5;241m!=\u001b[39m \u001b[38;5;241m0\u001b[39m:\n\u001b[1;32m---> 48\u001b[0m         \u001b[38;5;28;01mraise\u001b[39;00m \u001b[38;5;167;01mValueError\u001b[39;00m(\n\u001b[0;32m     49\u001b[0m             \u001b[38;5;124m\"\u001b[39m\u001b[38;5;124mCannot broadcast dimensions \u001b[39m\u001b[38;5;124m\"\u001b[39m \u001b[38;5;241m+\u001b[39m\n\u001b[0;32m     50\u001b[0m             \u001b[38;5;28mlen\u001b[39m(shapes)\u001b[38;5;241m*\u001b[39m\u001b[38;5;124m\"\u001b[39m\u001b[38;5;124m \u001b[39m\u001b[38;5;132;01m%s\u001b[39;00m\u001b[38;5;124m\"\u001b[39m \u001b[38;5;241m%\u001b[39m \u001b[38;5;28mtuple\u001b[39m(shapes))\n\u001b[0;32m     52\u001b[0m     longer \u001b[38;5;241m=\u001b[39m shape \u001b[38;5;28;01mif\u001b[39;00m \u001b[38;5;28mlen\u001b[39m(shape) \u001b[38;5;241m>\u001b[39m\u001b[38;5;241m=\u001b[39m \u001b[38;5;28mlen\u001b[39m(t) \u001b[38;5;28;01melse\u001b[39;00m t\n\u001b[0;32m     53\u001b[0m     shorter \u001b[38;5;241m=\u001b[39m shape \u001b[38;5;28;01mif\u001b[39;00m \u001b[38;5;28mlen\u001b[39m(shape) \u001b[38;5;241m<\u001b[39m \u001b[38;5;28mlen\u001b[39m(t) \u001b[38;5;28;01melse\u001b[39;00m t\n",
      "\u001b[1;31mValueError\u001b[0m: Cannot broadcast dimensions  (3, 3) (3,)"
     ]
    }
   ],
   "source": [
    "solve(a,b)"
   ]
  },
  {
   "cell_type": "code",
   "execution_count": null,
   "id": "45bb21ed",
   "metadata": {},
   "outputs": [],
   "source": []
  }
 ],
 "metadata": {
  "kernelspec": {
   "display_name": "Python 3 (ipykernel)",
   "language": "python",
   "name": "python3"
  },
  "language_info": {
   "codemirror_mode": {
    "name": "ipython",
    "version": 3
   },
   "file_extension": ".py",
   "mimetype": "text/x-python",
   "name": "python",
   "nbconvert_exporter": "python",
   "pygments_lexer": "ipython3",
   "version": "3.9.12"
  }
 },
 "nbformat": 4,
 "nbformat_minor": 5
}
