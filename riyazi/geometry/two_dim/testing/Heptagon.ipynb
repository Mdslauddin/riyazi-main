{
 "cells": [
  {
   "cell_type": "code",
   "execution_count": null,
   "id": "8bcf588e",
   "metadata": {},
   "outputs": [],
   "source": [
    "def heptagon(A=None, p=None, a=None):\n",
    "    if(A !=None):\n",
    "        a = sqrt(A/3.633912)\n",
    "        p = 7*a\n",
    "        return a,p \n",
    "    elif(p !=None):\n",
    "        a = p/7\n",
    "        A = 3.633912444*pow(a,2)\n",
    "        return a,A\n",
    "    elif(a !=None):\n",
    "        A = "
   ]
  }
 ],
 "metadata": {
  "kernelspec": {
   "display_name": "Python 3 (ipykernel)",
   "language": "python",
   "name": "python3"
  },
  "language_info": {
   "codemirror_mode": {
    "name": "ipython",
    "version": 3
   },
   "file_extension": ".py",
   "mimetype": "text/x-python",
   "name": "python",
   "nbconvert_exporter": "python",
   "pygments_lexer": "ipython3",
   "version": "3.9.12"
  }
 },
 "nbformat": 4,
 "nbformat_minor": 5
}
