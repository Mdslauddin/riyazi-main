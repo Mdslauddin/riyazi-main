{
 "cells": [
  {
   "cell_type": "code",
   "execution_count": 1,
   "id": "45bcd93d",
   "metadata": {},
   "outputs": [],
   "source": [
    "def rhombus(p=None, q=None, A=None, a=None):\n",
    "    \"\"\"\n",
    "    Rhombus 2D shape function  Return value \n",
    "    p -> diagonal\n",
    "    q -> diagonal \n",
    "    A -> Area\n",
    "    a -> side\n",
    "    p ->perimetre \n",
    "    \n",
    "    \"\"\"\n",
    "    if(p and q !=None):\n",
    "        A = p*q/2\n",
    "        a = ((p**2+q**2)/2)**0.5\n",
    "        p = 4*a\n",
    "        print(\"(Area , side, perimetre)\")\n",
    "        return A, a, p\n",
    "    if(q and A !=None):\n",
    "        p = 2*(A/q)\n",
    "        return p\n",
    "    if(p and A !=None):\n",
    "        q = 2*(A/p)\n",
    "        return q\n",
    "    if(a and q !=None):\n",
    "        p = (4*a**2-q**2)\n",
    "        return p \n",
    "    if(a and p !=None): \n",
    "        q = (4*a**2-p**2)\n",
    "        return q\n",
    "    if(a !=None):\n",
    "        p = 4*a\n",
    "        return p \n",
    "        \n",
    "    \n",
    "    "
   ]
  },
  {
   "cell_type": "code",
   "execution_count": 2,
   "id": "795ae101",
   "metadata": {},
   "outputs": [
    {
     "data": {
      "text/plain": [
       "20"
      ]
     },
     "execution_count": 2,
     "metadata": {},
     "output_type": "execute_result"
    }
   ],
   "source": [
    "rhombus(a=5)"
   ]
  },
  {
   "cell_type": "code",
   "execution_count": null,
   "id": "dec9418c",
   "metadata": {},
   "outputs": [],
   "source": []
  }
 ],
 "metadata": {
  "kernelspec": {
   "display_name": "Python 3 (ipykernel)",
   "language": "python",
   "name": "python3"
  },
  "language_info": {
   "codemirror_mode": {
    "name": "ipython",
    "version": 3
   },
   "file_extension": ".py",
   "mimetype": "text/x-python",
   "name": "python",
   "nbconvert_exporter": "python",
   "pygments_lexer": "ipython3",
   "version": "3.9.12"
  }
 },
 "nbformat": 4,
 "nbformat_minor": 5
}
