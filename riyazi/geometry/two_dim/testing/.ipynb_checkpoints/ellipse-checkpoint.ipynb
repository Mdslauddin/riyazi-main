{
 "cells": [
  {
   "cell_type": "code",
   "execution_count": null,
   "id": "15f4b02b",
   "metadata": {},
   "outputs": [],
   "source": [
    "pi=3.14159\n",
    "def ellipse(A=None, a=None, b=None, c=None):\n",
    "    if(a and b !=None):\n",
    "        A = pi*a*b\n",
    "        c = pi*(a+b) * ((3*(a-b)**2) / ((a+b)**2 * (-3*(a-b)**2) / ((a+b)**2)**0.5+4+10)+1)\n",
    "        return A, c\n",
    "    \n",
    "    if(b and A !=None):\n",
    "        a = A/(pi*b)\n",
    "        return a\n",
    "    \n",
    "    if(a and A !=None):\n",
    "        b = A/(pi*a)\n",
    "        return b \n",
    "    \n",
    "    \n",
    "    "
   ]
  },
  {
   "cell_type": "code",
   "execution_count": null,
   "id": "c1797e9c",
   "metadata": {},
   "outputs": [],
   "source": [
    "ellipse(a=3,b=3)"
   ]
  },
  {
   "cell_type": "code",
   "execution_count": null,
   "id": "6cf4f98d",
   "metadata": {},
   "outputs": [],
   "source": []
  }
 ],
 "metadata": {
  "kernelspec": {
   "display_name": "Python 3 (ipykernel)",
   "language": "python",
   "name": "python3"
  },
  "language_info": {
   "codemirror_mode": {
    "name": "ipython",
    "version": 3
   },
   "file_extension": ".py",
   "mimetype": "text/x-python",
   "name": "python",
   "nbconvert_exporter": "python",
   "pygments_lexer": "ipython3",
   "version": "3.9.12"
  }
 },
 "nbformat": 4,
 "nbformat_minor": 5
}
