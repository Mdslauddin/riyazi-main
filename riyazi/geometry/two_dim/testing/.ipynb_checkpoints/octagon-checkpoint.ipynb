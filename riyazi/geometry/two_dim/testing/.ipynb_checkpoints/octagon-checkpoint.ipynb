{
 "cells": [
  {
   "cell_type": "code",
   "execution_count": 1,
   "id": "d756f2f3",
   "metadata": {},
   "outputs": [],
   "source": [
    "def octagon(A=None, a=None, p=None):\n",
    "    if(A !=None):\n",
    "        a= ((2**0.5)*(A/2)-(A/2))\n",
    "        p= 8*a\n",
    "        print(\"(side, perimetre)\")\n",
    "        return a,p \n",
    "    if(a !=None):\n",
    "        A=2*(1+(2**0.5))*a**2\n",
    "        p = 8*a\n",
    "        print(\"(Area , perimetre)\")\n",
    "        return A,p \n",
    "    if(p !=None):\n",
    "        a = p/8\n",
    "        A=2*(1+(2**0.5))*a**2\n",
    "        print(\"(Side , Area)\")\n",
    "        return a,A\n",
    "        "
   ]
  },
  {
   "cell_type": "code",
   "execution_count": 2,
   "id": "15f2bc24",
   "metadata": {},
   "outputs": [
    {
     "name": "stdout",
     "output_type": "stream",
     "text": [
      "(side, perimetre)\n"
     ]
    },
    {
     "data": {
      "text/plain": [
       "(0.8284271247461903, 6.627416997969522)"
      ]
     },
     "execution_count": 2,
     "metadata": {},
     "output_type": "execute_result"
    }
   ],
   "source": [
    "octagon(A=4)"
   ]
  },
  {
   "cell_type": "code",
   "execution_count": null,
   "id": "dc1e6ec7",
   "metadata": {},
   "outputs": [],
   "source": []
  }
 ],
 "metadata": {
  "kernelspec": {
   "display_name": "Python 3 (ipykernel)",
   "language": "python",
   "name": "python3"
  },
  "language_info": {
   "codemirror_mode": {
    "name": "ipython",
    "version": 3
   },
   "file_extension": ".py",
   "mimetype": "text/x-python",
   "name": "python",
   "nbconvert_exporter": "python",
   "pygments_lexer": "ipython3",
   "version": "3.9.12"
  }
 },
 "nbformat": 4,
 "nbformat_minor": 5
}
