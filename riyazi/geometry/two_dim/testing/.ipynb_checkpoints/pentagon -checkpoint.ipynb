{
 "cells": [
  {
   "cell_type": "code",
   "execution_count": 1,
   "id": "e68ec419",
   "metadata": {},
   "outputs": [],
   "source": [
    "def pentagon(A=None , a=None, d=None, p=None):\n",
    "    if(A !=None):\n",
    "        a = 2*5**(3/4)* ((A**0.5) / (5*((20**0.5)+5)**(1/4)))\n",
    "        d = ((1+ (5**0.5))/2 )*a\n",
    "        p = 5*a\n",
    "        print(\"(side , diameter, perimeter)\")\n",
    "        return a, d, p \n",
    "    \n",
    "    if(a !=None):\n",
    "        A = ((1/4) * (5*(5+(2*5**(0.5))))**0.5 * a**2)\n",
    "        d = ((1+ (5**0.5))/2 )*a\n",
    "        p = 5*a \n",
    "        print(\"(Area , diameter , perimeter)\")\n",
    "        return A, d, p \n",
    "\n",
    "    if(d !=None):\n",
    "        a = d*(-1+(5**0.5))/2\n",
    "        A = ((1/4) * (5*(5+(2*5**(0.5))))**0.5 * a**2)\n",
    "        p = 5*a\n",
    "        print(\"(Side, Area , perimeter)\")\n",
    "        return a , A , p \n",
    "    \n",
    "    if(p !=None):\n",
    "        a = p/5 \n",
    "        d = ((1+ (5**0.5))/2 )*a\n",
    "        A = ((1/4) * (5*(5+(2*5**(0.5))))**0.5 * a**2)\n",
    "        print(\"(side , diameter , Area )\")\n",
    "        return a, d, A\n",
    "    "
   ]
  },
  {
   "cell_type": "code",
   "execution_count": 2,
   "id": "af143f14",
   "metadata": {},
   "outputs": [
    {
     "name": "stdout",
     "output_type": "stream",
     "text": [
      "(side , diameter, perimeter)\n"
     ]
    },
    {
     "data": {
      "text/plain": [
       "(4.999887529095875, 8.089987962003855, 24.999437645479375)"
      ]
     },
     "execution_count": 2,
     "metadata": {},
     "output_type": "execute_result"
    }
   ],
   "source": [
    "pentagon(A=43.01)\n"
   ]
  },
  {
   "cell_type": "code",
   "execution_count": 3,
   "id": "8bf225ed",
   "metadata": {},
   "outputs": [
    {
     "name": "stdout",
     "output_type": "stream",
     "text": [
      "(Area , diameter , perimeter)\n"
     ]
    },
    {
     "data": {
      "text/plain": [
       "(43.01193501472417, 8.090169943749475, 25)"
      ]
     },
     "execution_count": 3,
     "metadata": {},
     "output_type": "execute_result"
    }
   ],
   "source": [
    "pentagon(a=5)"
   ]
  },
  {
   "cell_type": "code",
   "execution_count": 4,
   "id": "46df9d81",
   "metadata": {},
   "outputs": [
    {
     "name": "stdout",
     "output_type": "stream",
     "text": [
      "(Side, Area , perimeter)\n"
     ]
    },
    {
     "data": {
      "text/plain": [
       "(4.999894968986649, 43.01012799885534, 24.999474844933246)"
      ]
     },
     "execution_count": 4,
     "metadata": {},
     "output_type": "execute_result"
    }
   ],
   "source": [
    "pentagon(d=8.09)"
   ]
  },
  {
   "cell_type": "code",
   "execution_count": null,
   "id": "b98690d4",
   "metadata": {},
   "outputs": [],
   "source": []
  },
  {
   "cell_type": "code",
   "execution_count": null,
   "id": "7825cf00",
   "metadata": {},
   "outputs": [],
   "source": [
    "25**(3/4)"
   ]
  },
  {
   "cell_type": "code",
   "execution_count": null,
   "id": "6e983d54",
   "metadata": {},
   "outputs": [],
   "source": []
  }
 ],
 "metadata": {
  "kernelspec": {
   "display_name": "Python 3 (ipykernel)",
   "language": "python",
   "name": "python3"
  },
  "language_info": {
   "codemirror_mode": {
    "name": "ipython",
    "version": 3
   },
   "file_extension": ".py",
   "mimetype": "text/x-python",
   "name": "python",
   "nbconvert_exporter": "python",
   "pygments_lexer": "ipython3",
   "version": "3.9.12"
  }
 },
 "nbformat": 4,
 "nbformat_minor": 5
}
