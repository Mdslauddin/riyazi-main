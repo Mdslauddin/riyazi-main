{
 "cells": [
  {
   "cell_type": "code",
   "execution_count": 3,
   "id": "fc1bfb06",
   "metadata": {},
   "outputs": [],
   "source": [
    "def hexagon(A=None, a=None, p=None, ):\n",
    "    if(a !=None):\n",
    "        A = ((3*3**0.5)/2) *a**2\n",
    "        p = 6*a\n",
    "        print(\"(Area , perimeter)\")\n",
    "        return A,p\n",
    "    if (A !=None):\n",
    "        a = (3**(1/4)) * (2*(A/9))**0.5\n",
    "        p = 6*a\n",
    "        print(\"(side, perimeter)\")\n",
    "        return a,p\n",
    "    if(p !=None):\n",
    "        a = p/6\n",
    "        A = ((3*3**0.5)/2) *a**2\n",
    "        print(\"(side , Area)\")\n",
    "        return a,A\n",
    "        "
   ]
  },
  {
   "cell_type": "code",
   "execution_count": 4,
   "id": "769a1b2a",
   "metadata": {},
   "outputs": [
    {
     "name": "stdout",
     "output_type": "stream",
     "text": [
      "(side, perimeter)\n"
     ]
    },
    {
     "data": {
      "text/plain": [
       "(1.3872638167626057, 8.323582900575634)"
      ]
     },
     "execution_count": 4,
     "metadata": {},
     "output_type": "execute_result"
    }
   ],
   "source": [
    "hexagon(A=5)"
   ]
  },
  {
   "cell_type": "code",
   "execution_count": 5,
   "id": "289589db",
   "metadata": {},
   "outputs": [
    {
     "name": "stdout",
     "output_type": "stream",
     "text": [
      "(Area , perimeter)\n"
     ]
    },
    {
     "data": {
      "text/plain": [
       "(4.999994112422198, 8.323578)"
      ]
     },
     "execution_count": 5,
     "metadata": {},
     "output_type": "execute_result"
    }
   ],
   "source": [
    "hexagon(a=1.387263)"
   ]
  },
  {
   "cell_type": "code",
   "execution_count": 6,
   "id": "e2dc476c",
   "metadata": {},
   "outputs": [
    {
     "name": "stdout",
     "output_type": "stream",
     "text": [
      "(side , Area)\n"
     ]
    },
    {
     "data": {
      "text/plain": [
       "(5.0, 64.9519052838329)"
      ]
     },
     "execution_count": 6,
     "metadata": {},
     "output_type": "execute_result"
    }
   ],
   "source": [
    "hexagon(p=30)"
   ]
  },
  {
   "cell_type": "code",
   "execution_count": null,
   "id": "06fcdda9",
   "metadata": {},
   "outputs": [],
   "source": []
  },
  {
   "cell_type": "code",
   "execution_count": 15,
   "id": "decae68d",
   "metadata": {},
   "outputs": [],
   "source": [
    "def check(a,b):\n",
    "    if(a==5):\n",
    "        print('True')\n",
    "    elif(b==5):\n",
    "        print('True2')\n",
    "    else:\n",
    "        print('False')"
   ]
  },
  {
   "cell_type": "code",
   "execution_count": 16,
   "id": "5330d4fa",
   "metadata": {},
   "outputs": [
    {
     "name": "stdout",
     "output_type": "stream",
     "text": [
      "True\n"
     ]
    }
   ],
   "source": [
    "check(5,5)"
   ]
  },
  {
   "cell_type": "code",
   "execution_count": null,
   "id": "1c83f5d5",
   "metadata": {},
   "outputs": [],
   "source": []
  },
  {
   "cell_type": "code",
   "execution_count": null,
   "id": "1a62bcc1",
   "metadata": {},
   "outputs": [],
   "source": []
  },
  {
   "cell_type": "code",
   "execution_count": null,
   "id": "58567db8",
   "metadata": {},
   "outputs": [],
   "source": []
  },
  {
   "cell_type": "code",
   "execution_count": null,
   "id": "47d665fb",
   "metadata": {},
   "outputs": [],
   "source": []
  },
  {
   "cell_type": "code",
   "execution_count": null,
   "id": "34f0f251",
   "metadata": {},
   "outputs": [],
   "source": []
  },
  {
   "cell_type": "code",
   "execution_count": null,
   "id": "2b948fd5",
   "metadata": {},
   "outputs": [],
   "source": []
  },
  {
   "cell_type": "code",
   "execution_count": null,
   "id": "a9de45fc",
   "metadata": {},
   "outputs": [],
   "source": []
  },
  {
   "cell_type": "code",
   "execution_count": null,
   "id": "ddd02d04",
   "metadata": {},
   "outputs": [],
   "source": []
  },
  {
   "cell_type": "code",
   "execution_count": null,
   "id": "535c3130",
   "metadata": {},
   "outputs": [],
   "source": []
  }
 ],
 "metadata": {
  "kernelspec": {
   "display_name": "Python 3 (ipykernel)",
   "language": "python",
   "name": "python3"
  },
  "language_info": {
   "codemirror_mode": {
    "name": "ipython",
    "version": 3
   },
   "file_extension": ".py",
   "mimetype": "text/x-python",
   "name": "python",
   "nbconvert_exporter": "python",
   "pygments_lexer": "ipython3",
   "version": "3.9.12"
  }
 },
 "nbformat": 4,
 "nbformat_minor": 5
}
