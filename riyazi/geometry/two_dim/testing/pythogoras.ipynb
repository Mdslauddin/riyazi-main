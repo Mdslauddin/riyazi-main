{
 "cells": [
  {
   "cell_type": "code",
   "execution_count": 19,
   "id": "ab485495",
   "metadata": {},
   "outputs": [],
   "source": [
    "import math\n",
    "def pythagors(p=None,b=None,h=None):\n",
    "    \"\"\"\n",
    "    input p,b return h \n",
    "    input h,p return b \n",
    "    input h,b return p \n",
    "    \n",
    "    \"\"\"\n",
    "    if(p and b  !=None):\n",
    "        \n",
    "        h = math.sqrt(p**2 + b**2 )\n",
    "        return h \n",
    "    if(h and p !=None):\n",
    "        b = math.sqrt(h**2 - p**2)\n",
    "        return b \n",
    "    if( h and b !=None):\n",
    "        p = math.sqrt(h**2 - b**2)\n",
    "        return p \n",
    "    "
   ]
  },
  {
   "cell_type": "code",
   "execution_count": 16,
   "id": "42422e2a",
   "metadata": {},
   "outputs": [
    {
     "data": {
      "text/plain": [
       "5.0"
      ]
     },
     "execution_count": 16,
     "metadata": {},
     "output_type": "execute_result"
    }
   ],
   "source": [
    "pythagors(4,3)"
   ]
  },
  {
   "cell_type": "code",
   "execution_count": 17,
   "id": "ed490d2c",
   "metadata": {},
   "outputs": [
    {
     "data": {
      "text/plain": [
       "3.0"
      ]
     },
     "execution_count": 17,
     "metadata": {},
     "output_type": "execute_result"
    }
   ],
   "source": [
    "pythagors(h=5, p=4)"
   ]
  },
  {
   "cell_type": "code",
   "execution_count": 18,
   "id": "404ee30e",
   "metadata": {},
   "outputs": [
    {
     "data": {
      "text/plain": [
       "4.0"
      ]
     },
     "execution_count": 18,
     "metadata": {},
     "output_type": "execute_result"
    }
   ],
   "source": [
    "pythagors(h=5, b=3)"
   ]
  },
  {
   "cell_type": "code",
   "execution_count": null,
   "id": "7f6d273d",
   "metadata": {},
   "outputs": [],
   "source": []
  }
 ],
 "metadata": {
  "kernelspec": {
   "display_name": "Python 3 (ipykernel)",
   "language": "python",
   "name": "python3"
  },
  "language_info": {
   "codemirror_mode": {
    "name": "ipython",
    "version": 3
   },
   "file_extension": ".py",
   "mimetype": "text/x-python",
   "name": "python",
   "nbconvert_exporter": "python",
   "pygments_lexer": "ipython3",
   "version": "3.9.12"
  }
 },
 "nbformat": 4,
 "nbformat_minor": 5
}
