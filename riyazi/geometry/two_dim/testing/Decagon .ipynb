{
 "cells": [
  {
   "cell_type": "code",
   "execution_count": 1,
   "id": "84da820b",
   "metadata": {},
   "outputs": [],
   "source": [
    "def decagon(A=None, p=None , a=None):\n",
    "    if(A !=None):\n",
    "        a = sqrt(A/cos(pi/10)*2/5)\n",
    "        p = 10*a\n",
    "        return a,p \n",
    "    if(p !=None):\n",
    "        a = p/10\n",
    "        A= 5/2*pow(a,2)*cos(pi/10)\n",
    "        return a,A\n",
    "    if(a !=None):\n",
    "        A = 5/2*pow(a,2)*cos(pi/10)\n",
    "        p = 10*a\n",
    "        return A, p \n",
    "    "
   ]
  },
  {
   "cell_type": "code",
   "execution_count": null,
   "id": "d03d4050",
   "metadata": {},
   "outputs": [],
   "source": []
  }
 ],
 "metadata": {
  "kernelspec": {
   "display_name": "Python 3 (ipykernel)",
   "language": "python",
   "name": "python3"
  },
  "language_info": {
   "codemirror_mode": {
    "name": "ipython",
    "version": 3
   },
   "file_extension": ".py",
   "mimetype": "text/x-python",
   "name": "python",
   "nbconvert_exporter": "python",
   "pygments_lexer": "ipython3",
   "version": "3.9.12"
  }
 },
 "nbformat": 4,
 "nbformat_minor": 5
}
