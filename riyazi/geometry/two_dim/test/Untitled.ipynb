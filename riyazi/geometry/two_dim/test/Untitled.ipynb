{
 "cells": [
  {
   "cell_type": "code",
   "execution_count": 1,
   "id": "4641ffc3",
   "metadata": {},
   "outputs": [],
   "source": [
    "def decagon(A=None, p=None , a=None):\n",
    "    if(A !=None):\n",
    "        a = sqrt(A/cos(pi/10)*2/5)\n",
    "        p = 10*a\n",
    "        return a,p \n",
    "    if(p !=None):\n",
    "        a = p/10\n",
    "        A= 5/2*pow(a,2)*cos(pi/10)\n",
    "        return a,A\n",
    "    if(a !=None):\n",
    "        A = 5/2*pow(a,2)*cos(pi/10)\n",
    "        p = 10*a\n",
    "        return A, p "
   ]
  },
  {
   "cell_type": "code",
   "execution_count": 2,
   "id": "643e6f45",
   "metadata": {},
   "outputs": [],
   "source": [
    "pi=3.14159\n",
    "def ellipse(A=None, a=None, b=None, c=None):\n",
    "    if(a and b !=None):\n",
    "        A = pi*a*b\n",
    "        c = pi*(a+b) * ((3*(a-b)**2) / ((a+b)**2 * (-3*(a-b)**2) / ((a+b)**2)**0.5+4+10)+1)\n",
    "        return A, c\n",
    "    \n",
    "    if(b and A !=None):\n",
    "        a = A/(pi*b)\n",
    "        return a\n",
    "    \n",
    "    if(a and A !=None):\n",
    "        b = A/(pi*a)\n",
    "        return b "
   ]
  },
  {
   "cell_type": "code",
   "execution_count": 3,
   "id": "fc92da0d",
   "metadata": {},
   "outputs": [],
   "source": [
    "def hexagon(A=None, a=None, p=None, ):\n",
    "    if(a !=None):\n",
    "        A = ((3*3**0.5)/2) *a**2\n",
    "        p = 6*a\n",
    "        print(\"(Area , perimeter)\")\n",
    "        return A,p\n",
    "    if (A !=None):\n",
    "        a = (3**(1/4)) * (2*(A/9))**0.5\n",
    "        p = 6*a\n",
    "        print(\"(side, perimeter)\")\n",
    "        return a,p\n",
    "    if(p !=None):\n",
    "        a = p/6\n",
    "        A = ((3*3**0.5)/2) *a**2\n",
    "        print(\"(side , Area)\")\n",
    "        return a,A"
   ]
  },
  {
   "cell_type": "code",
   "execution_count": 4,
   "id": "75ea4943",
   "metadata": {},
   "outputs": [],
   "source": [
    "def octagon(A=None, a=None, p=None):\n",
    "    if(A !=None):\n",
    "        a= ((2**0.5)*(A/2)-(A/2))\n",
    "        p= 8*a\n",
    "        print(\"(side, perimetre)\")\n",
    "        return a,p \n",
    "    if(a !=None):\n",
    "        A=2*(1+(2**0.5))*a**2\n",
    "        p = 8*a\n",
    "        print(\"(Area , perimetre)\")\n",
    "        return A,p \n",
    "    if(p !=None):\n",
    "        a = p/8\n",
    "        A=2*(1+(2**0.5))*a**2\n",
    "        print(\"(Side , Area)\")\n",
    "        return a,A"
   ]
  },
  {
   "cell_type": "code",
   "execution_count": null,
   "id": "af538dbb",
   "metadata": {},
   "outputs": [],
   "source": [
    "def pentagon(A=None , a=None, d=None, p=None):\n",
    "    if(A !=None):\n",
    "        a = 2*5**(3/4)* ((A**0.5) / (5*((20**0.5)+5)**(1/4)))\n",
    "        d = ((1+ (5**0.5))/2 )*a\n",
    "        p = 5*a\n",
    "        print(\"(side , diameter, perimeter)\")\n",
    "        return a, d, p \n",
    "    \n",
    "    if(a !=None):\n",
    "        A = ((1/4) * (5*(5+(2*5**(0.5))))**0.5 * a**2)\n",
    "        d = ((1+ (5**0.5))/2 )*a\n",
    "        p = 5*a \n",
    "        print(\"(Area , diameter , perimeter)\")\n",
    "        return A, d, p \n",
    "\n",
    "    if(d !=None):\n",
    "        a = d*(-1+(5**0.5))/2\n",
    "        A = ((1/4) * (5*(5+(2*5**(0.5))))**0.5 * a**2)\n",
    "        p = 5*a\n",
    "        print(\"(Side, Area , perimeter)\")\n",
    "        return a , A , p \n",
    "    \n",
    "    if(p !=None):\n",
    "        a = p/5 \n",
    "        d = ((1+ (5**0.5))/2 )*a\n",
    "        A = ((1/4) * (5*(5+(2*5**(0.5))))**0.5 * a**2)\n",
    "        print(\"(side , diameter , Area )\")\n",
    "        return a, d, A"
   ]
  },
  {
   "cell_type": "code",
   "execution_count": 5,
   "id": "1dbc5b60",
   "metadata": {},
   "outputs": [],
   "source": [
    "import math\n",
    "def pythagors(p=None,b=None,h=None):\n",
    "    \"\"\"\n",
    "    input p,b return h \n",
    "    input h,p return b \n",
    "    input h,b return p \n",
    "    \n",
    "    \"\"\"\n",
    "    if(p and b  !=None):\n",
    "        \n",
    "        h = math.sqrt(p**2 + b**2 )\n",
    "        return h \n",
    "    if(h and p !=None):\n",
    "        b = math.sqrt(h**2 - p**2)\n",
    "        return b \n",
    "    if( h and b !=None):\n",
    "        p = math.sqrt(h**2 - b**2)\n",
    "        return p \n",
    "    "
   ]
  },
  {
   "cell_type": "code",
   "execution_count": 6,
   "id": "4f02300b",
   "metadata": {},
   "outputs": [],
   "source": [
    "def rhombus(p=None, q=None, A=None, a=None):\n",
    "    \"\"\"\n",
    "    Rhombus 2D shape function  Return value \n",
    "    p -> diagonal\n",
    "    q -> diagonal \n",
    "    A -> Area\n",
    "    a -> side\n",
    "    p ->perimetre \n",
    "    \n",
    "    \"\"\"\n",
    "    if(p and q !=None):\n",
    "        A = p*q/2\n",
    "        a = ((p**2+q**2)/2)**0.5\n",
    "        p = 4*a\n",
    "        print(\"(Area , side, perimetre)\")\n",
    "        return A, a, p\n",
    "    if(q and A !=None):\n",
    "        p = 2*(A/q)\n",
    "        return p\n",
    "    if(p and A !=None):\n",
    "        q = 2*(A/p)\n",
    "        return q\n",
    "    if(a and q !=None):\n",
    "        p = (4*a**2-q**2)\n",
    "        return p \n",
    "    if(a and p !=None): \n",
    "        q = (4*a**2-p**2)\n",
    "        return q\n",
    "    if(a !=None):\n",
    "        p = 4*a\n",
    "        return p \n",
    "        "
   ]
  },
  {
   "cell_type": "code",
   "execution_count": null,
   "id": "8db6550c",
   "metadata": {},
   "outputs": [],
   "source": []
  },
  {
   "cell_type": "code",
   "execution_count": null,
   "id": "1c5d30ae",
   "metadata": {},
   "outputs": [],
   "source": []
  },
  {
   "cell_type": "code",
   "execution_count": null,
   "id": "3c39ce2f",
   "metadata": {},
   "outputs": [],
   "source": []
  },
  {
   "cell_type": "code",
   "execution_count": null,
   "id": "cfcbe678",
   "metadata": {},
   "outputs": [],
   "source": [
    "import dim2 as d2\n"
   ]
  },
  {
   "cell_type": "code",
   "execution_count": null,
   "id": "0203a1c7",
   "metadata": {},
   "outputs": [],
   "source": [
    " x = d2.circle(78,5)"
   ]
  },
  {
   "cell_type": "code",
   "execution_count": 1,
   "id": "a0e53c51",
   "metadata": {},
   "outputs": [],
   "source": [
    "from numpy.lib.scimath import sqrt\n"
   ]
  },
  {
   "cell_type": "code",
   "execution_count": 3,
   "id": "d063b37f",
   "metadata": {},
   "outputs": [
    {
     "data": {
      "text/plain": [
       "(1+1j)"
      ]
     },
     "execution_count": 3,
     "metadata": {},
     "output_type": "execute_result"
    }
   ],
   "source": [
    "sqrt(2j)"
   ]
  },
  {
   "cell_type": "code",
   "execution_count": 6,
   "id": "34eca011",
   "metadata": {},
   "outputs": [],
   "source": [
    "import cmath\n"
   ]
  },
  {
   "cell_type": "code",
   "execution_count": 9,
   "id": "fe511984",
   "metadata": {},
   "outputs": [
    {
     "data": {
      "text/plain": [
       "(1+1j)"
      ]
     },
     "execution_count": 9,
     "metadata": {},
     "output_type": "execute_result"
    }
   ],
   "source": [
    "cmath.sqrt(2j)"
   ]
  },
  {
   "cell_type": "code",
   "execution_count": null,
   "id": "5b9733b5",
   "metadata": {},
   "outputs": [],
   "source": []
  }
 ],
 "metadata": {
  "kernelspec": {
   "display_name": "Python 3 (ipykernel)",
   "language": "python",
   "name": "python3"
  },
  "language_info": {
   "codemirror_mode": {
    "name": "ipython",
    "version": 3
   },
   "file_extension": ".py",
   "mimetype": "text/x-python",
   "name": "python",
   "nbconvert_exporter": "python",
   "pygments_lexer": "ipython3",
   "version": "3.9.12"
  }
 },
 "nbformat": 4,
 "nbformat_minor": 5
}
