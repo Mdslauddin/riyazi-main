{
 "cells": [
  {
   "cell_type": "code",
   "execution_count": 1,
   "id": "ffefd004",
   "metadata": {},
   "outputs": [],
   "source": [
    "pi=3.14159\n",
    "def cylinder(r,h):\n",
    "    volume = pi*r**2*h\n",
    "    radius = (volume/(pi*h))**0.5\n",
    "    height = volume/(pi*r**2)\n",
    "    return volume,radius,height"
   ]
  },
  {
   "cell_type": "code",
   "execution_count": 2,
   "id": "c5696f62",
   "metadata": {},
   "outputs": [
    {
     "data": {
      "text/plain": [
       "(471.2385, 5.0, 6.0)"
      ]
     },
     "execution_count": 2,
     "metadata": {},
     "output_type": "execute_result"
    }
   ],
   "source": [
    "cylinder(5,6)"
   ]
  },
  {
   "cell_type": "code",
   "execution_count": 3,
   "id": "4b4f3383",
   "metadata": {},
   "outputs": [],
   "source": [
    "pi=3.14159\n",
    "def cylinder(r=None, h=None,v=None):\n",
    "    if(r and h !=None):\n",
    "        \n",
    "        volume = pi*r**2*h\n",
    "        \n",
    "    \n",
    "        return volume\n",
    "    \n",
    "    if(h and v !=None):\n",
    "        diameter = 2*(2/(pi*h))**0.5\n",
    "        \n",
    "        return diameter\n",
    "    "
   ]
  },
  {
   "cell_type": "code",
   "execution_count": 4,
   "id": "814f41d6",
   "metadata": {},
   "outputs": [],
   "source": [
    "pi=3.14159\n",
    "def cylinder(r=None, h=None,v=None, A=None):\n",
    "    if(r and h !=None):\n",
    "        \n",
    "        volume = pi*r**2*h\n",
    "        A = (2*pi*r*h)+(2*pi*r**2)\n",
    "        Al = 2*pi*r*h\n",
    "       \n",
    "    \n",
    "        return volume\n",
    "    \n",
    "    if(h and v !=None):\n",
    "        diameter = 2*(2/(pi*h))**0.5\n",
    "        \n",
    "        return diameter\n",
    "    if(h and A !=None):\n",
    "        r = 1/2*(h**2+(2*A/pi)-(h/2))\n",
    "        \n",
    "        return r\n",
    "    if(r and A !=None):\n",
    "        h = (A/2*pi*r)-r\n",
    "         \n",
    "        \n",
    "        return h\n",
    "    \n",
    "    "
   ]
  },
  {
   "cell_type": "code",
   "execution_count": 5,
   "id": "ef7b186e",
   "metadata": {},
   "outputs": [],
   "source": [
    "# volume\n",
    "pi=3.14159\n",
    "def cylinder(r,h):\n",
    "    volume = pi*r**2*h\n",
    "    radius = (volume/(pi*h))**0.5\n",
    "    height = volume/(pi*r**2)\n",
    "    return volume,radius,height"
   ]
  },
  {
   "cell_type": "code",
   "execution_count": 6,
   "id": "8dd0cdcb",
   "metadata": {},
   "outputs": [
    {
     "data": {
      "text/plain": [
       "(471.2385, 5.0, 6.0)"
      ]
     },
     "execution_count": 6,
     "metadata": {},
     "output_type": "execute_result"
    }
   ],
   "source": [
    "cylinder(5,6)"
   ]
  },
  {
   "cell_type": "code",
   "execution_count": 7,
   "id": "f313b6ff",
   "metadata": {},
   "outputs": [],
   "source": [
    "# diameter \n",
    "def cylinder(h,v):\n",
    "    diameter = 2*(v/(pi*h))**0.5\n",
    "    height = v/(pi*(diameter/2)**2)\n",
    "    volume = pi*(diameter/2)**2*h\n",
    "    return diameter, height, volume"
   ]
  },
  {
   "cell_type": "code",
   "execution_count": 8,
   "id": "b52560fb",
   "metadata": {},
   "outputs": [
    {
     "data": {
      "text/plain": [
       "(10.0, 6.0, 471.2385)"
      ]
     },
     "execution_count": 8,
     "metadata": {},
     "output_type": "execute_result"
    }
   ],
   "source": [
    "cylinder(6,471.2385)"
   ]
  },
  {
   "cell_type": "code",
   "execution_count": 9,
   "id": "ecf735c4",
   "metadata": {},
   "outputs": [],
   "source": [
    "# surface area \n",
    "def cyclinder(r,h):\n",
    "    A = (2*pi*r*h)+ (2*pi*r**2)\n",
    "    radius = 1/2*(h**2+(2*A/pi)-(h/2))**0.5\n",
    "    height = (A/2*pi*r)-r\n",
    "    return A , radius, height\n",
    "    "
   ]
  },
  {
   "cell_type": "code",
   "execution_count": 10,
   "id": "b3cf728e",
   "metadata": {},
   "outputs": [
    {
     "data": {
      "text/plain": [
       "(345.5749, 7.952986860293433, 2709.1366252274997)"
      ]
     },
     "execution_count": 10,
     "metadata": {},
     "output_type": "execute_result"
    }
   ],
   "source": [
    "cyclinder(5,6)"
   ]
  },
  {
   "cell_type": "code",
   "execution_count": 11,
   "id": "f30b16d3",
   "metadata": {},
   "outputs": [],
   "source": [
    "#lateral surface \n",
    "def cyclinder(r,h):\n",
    "    Al = 2*pi*r*h\n",
    "    r = Al/(2*pi*h)\n",
    "    h = (Al/(2*pi*r))\n",
    "    \n",
    "    return Al ,r, h"
   ]
  },
  {
   "cell_type": "code",
   "execution_count": 12,
   "id": "2ca9c1c7",
   "metadata": {},
   "outputs": [
    {
     "data": {
      "text/plain": [
       "(188.49540000000002, 5.000000000000001, 6.0)"
      ]
     },
     "execution_count": 12,
     "metadata": {},
     "output_type": "execute_result"
    }
   ],
   "source": [
    "cyclinder(5,6)"
   ]
  },
  {
   "cell_type": "code",
   "execution_count": 13,
   "id": "a7fbb5ac",
   "metadata": {},
   "outputs": [],
   "source": [
    "# based area \n",
    "def cylinder(r):\n",
    "    AB = pi*r**2\n",
    "    r = (AB/pi)**0.5\n",
    "    \n",
    "    return AB,r"
   ]
  },
  {
   "cell_type": "code",
   "execution_count": 14,
   "id": "b39f9ed1",
   "metadata": {},
   "outputs": [
    {
     "data": {
      "text/plain": [
       "(78.53975, 5.0)"
      ]
     },
     "execution_count": 14,
     "metadata": {},
     "output_type": "execute_result"
    }
   ],
   "source": [
    "cylinder(5)"
   ]
  },
  {
   "cell_type": "code",
   "execution_count": null,
   "id": "f1a793dc",
   "metadata": {},
   "outputs": [],
   "source": []
  },
  {
   "cell_type": "code",
   "execution_count": null,
   "id": "122373b5",
   "metadata": {},
   "outputs": [],
   "source": []
  },
  {
   "cell_type": "code",
   "execution_count": null,
   "id": "7c37f859",
   "metadata": {},
   "outputs": [],
   "source": []
  },
  {
   "cell_type": "code",
   "execution_count": 15,
   "id": "885a21af",
   "metadata": {},
   "outputs": [],
   "source": [
    "# volume\n",
    "pi=3.14159\n",
    "def cylinder(r,h):\n",
    "    volume = pi*r**2*h\n",
    "    \n",
    "    return volume"
   ]
  },
  {
   "cell_type": "code",
   "execution_count": 16,
   "id": "71a1e236",
   "metadata": {},
   "outputs": [],
   "source": [
    "def cylinder(h,v):\n",
    "    diameter = 2*(v/(pi*h))**0.5\n",
    "    \n",
    "    return diameter"
   ]
  },
  {
   "cell_type": "code",
   "execution_count": 17,
   "id": "d379589a",
   "metadata": {},
   "outputs": [],
   "source": [
    "# surface area \n",
    "def cyclinder(r,h):\n",
    "    A = (2*pi*r*h)+ (2*pi*r**2)\n",
    "   \n",
    "    return A \n",
    "    "
   ]
  },
  {
   "cell_type": "code",
   "execution_count": 18,
   "id": "9e3f7081",
   "metadata": {},
   "outputs": [],
   "source": [
    "#lateral surface \n",
    "def cyclinder(r,h):\n",
    "    Al = 2*pi*r*h\n",
    "   \n",
    "    \n",
    "    return Al"
   ]
  },
  {
   "cell_type": "code",
   "execution_count": 19,
   "id": "6b81fab0",
   "metadata": {},
   "outputs": [],
   "source": [
    "#based area \n",
    "def cylinder(r):\n",
    "    AB = pi*r**2\n",
    "   \n",
    "    return AB"
   ]
  },
  {
   "cell_type": "code",
   "execution_count": null,
   "id": "323904d9",
   "metadata": {},
   "outputs": [],
   "source": []
  },
  {
   "cell_type": "code",
   "execution_count": null,
   "id": "e2f6cbb0",
   "metadata": {},
   "outputs": [],
   "source": []
  },
  {
   "cell_type": "code",
   "execution_count": null,
   "id": "ec845524",
   "metadata": {},
   "outputs": [],
   "source": []
  },
  {
   "cell_type": "code",
   "execution_count": 20,
   "id": "eacb17f9",
   "metadata": {},
   "outputs": [],
   "source": [
    "pi=3.14159\n",
    "def cylinder(r,h):\n",
    "    volume = pi*r**2*h\n",
    "    A = (2*pi*r*h)+ (2*pi*r**2)\n",
    "    Al = 2*pi*r*h\n",
    "    return volume , A ,Al\n",
    "\n",
    "def cylinder(h,v):\n",
    "    diameter = 2*(v/(pi*h))**0.5\n",
    "    \n",
    "    return diameter\n",
    "\n",
    "def cylinder(r):\n",
    "    AB = pi*r**2\n",
    "   \n",
    "    return AB"
   ]
  },
  {
   "cell_type": "code",
   "execution_count": 21,
   "id": "79a6450f",
   "metadata": {},
   "outputs": [],
   "source": [
    "def cyclinder(r=None, h=None, v=None, d=None, A=None, Al=None):\n",
    "    if(r and h !=None):\n",
    "        volume = pi*r**2*h\n",
    "        A = (2*pi*r*h)+ (2*pi*r**2)\n",
    "        Al = 2*pi*r*h\n",
    "        return volume , A ,Al\n",
    "   \n",
    "    if(h and v !=None):\n",
    "        radius = (v/pi*h)**0.5\n",
    "        diameter = 2*(v/(pi*h))**0.5\n",
    "        return radius, diameter\n",
    "  \n",
    "    if(r and v !=None):\n",
    "        height = (v/pi*r**2)\n",
    "        return height\n",
    "    \n",
    "    if(d and v !=None):\n",
    "        height =v/(pi*(d/2)**2)\n",
    "        return height\n",
    "    \n",
    "    if(h and A !=None):\n",
    "        r = 1/2*(h**2+(2*A/pi)-(h/2))**0.5\n",
    "        return r\n",
    "    \n",
    "    \n",
    "    if (d and h !=None):\n",
    "        volume = pi*(d/2)**2*h\n",
    "        return volume\n",
    "    \n",
    "    \n",
    "    if(r , A !=None):\n",
    "        height = (A/2*pi*r) -r\n",
    "        return height\n",
    "    \n",
    "    if ( h and Al !=None):\n",
    "        r  = Al/2*pi*h\n",
    "        return r\n",
    "    if(r and Al !=None):\n",
    "        h = Al/2*pi*r\n",
    "        return h \n",
    "    \n",
    "    if( r !=None):\n",
    "        AB = pi*r**2\n",
    "        return AB\n",
    "    "
   ]
  },
  {
   "cell_type": "code",
   "execution_count": 30,
   "id": "d00b0e3a",
   "metadata": {},
   "outputs": [
    {
     "name": "stdout",
     "output_type": "stream",
     "text": [
      "CPU times: total: 0 ns\n",
      "Wall time: 0 ns\n"
     ]
    },
    {
     "data": {
      "text/plain": [
       "(3.14159e+70, 6.2831800000000006e+60, 6.2831800000000006e+60)"
      ]
     },
     "execution_count": 30,
     "metadata": {},
     "output_type": "execute_result"
    }
   ],
   "source": [
    "%%time\n",
    "cyclinder(h=1e50,r=1e10)"
   ]
  },
  {
   "cell_type": "code",
   "execution_count": null,
   "id": "ac088bbf",
   "metadata": {},
   "outputs": [],
   "source": []
  }
 ],
 "metadata": {
  "kernelspec": {
   "display_name": "Python 3 (ipykernel)",
   "language": "python",
   "name": "python3"
  },
  "language_info": {
   "codemirror_mode": {
    "name": "ipython",
    "version": 3
   },
   "file_extension": ".py",
   "mimetype": "text/x-python",
   "name": "python",
   "nbconvert_exporter": "python",
   "pygments_lexer": "ipython3",
   "version": "3.9.12"
  }
 },
 "nbformat": 4,
 "nbformat_minor": 5
}
