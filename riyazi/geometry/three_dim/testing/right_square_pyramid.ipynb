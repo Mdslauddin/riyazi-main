{
 "cells": [
  {
   "cell_type": "code",
   "execution_count": 13,
   "id": "a469cd87",
   "metadata": {},
   "outputs": [],
   "source": [
    "def right_square_pyramid(A=None, a=None, h=None, Al=None, Af=None):\n",
    "    if(a and h !=None):\n",
    "        A = a**2 + 2*a* ((a**2/4)+h**2)\n",
    "        Al = a*(a**2+4*h**2)**0.5\n",
    "        v = a**2 *(h/3)\n",
    "        Af = a/2 *((a**2/h)+h**2)**0.5\n",
    "        \n",
    "        print(\"(Surface area,  lateral surface area, volume, face area )\")\n",
    "        return A, Al,v,Af\n",
    "    if(h and A !=None): \n",
    "        a = (A**2 /(2*(2*h**2+A)))**0.5\n",
    "        return a \n",
    "    if ( a and A !=None):\n",
    "        h = 1/2*(A*(-2+(A/a**2)))**0.5\n",
    "        return h\n",
    "    if(h and Al !=None):\n",
    "        a = ((4*h**2+Al**2)**0.5 -2*h**2)**0.5\n",
    "        h = 1/2*((Al/a)**0.5 - a**2)\n",
    "        return a,h \n",
    "    if(a !=None):\n",
    "        Ab = a**2\n",
    "        return Ab\n",
    "    if(a and v !=None):\n",
    "        h = 3*(v/a**2)\n",
    "        return h \n",
    "    if(h and Af !=None):\n",
    "        a = (2*(h**4+4*Af**2)**0.5 -2*h**2)**0.5\n",
    "        return a \n",
    "    if(a and Af !=None):\n",
    "        h = 1/2* (16*(Af/a)**2 -a**2)**0.5\n",
    "        return h \n",
    "    if(h and v !=None):\n",
    "        a = (3*(v/4))**0.5\n",
    "        h= 3*(v/a**2)\n",
    "        return a,h "
   ]
  },
  {
   "cell_type": "code",
   "execution_count": 3,
   "id": "9fb48543",
   "metadata": {},
   "outputs": [
    {
     "name": "stdout",
     "output_type": "stream",
     "text": [
      "(Surface area,  lateral surface area, volume, face area )\n",
      "CPU times: total: 0 ns\n",
      "Wall time: 0 ns\n"
     ]
    },
    {
     "data": {
      "text/plain": [
       "(336.1875, 58.01131355175472, 45.375, 14.282066746642643)"
      ]
     },
     "execution_count": 3,
     "metadata": {},
     "output_type": "execute_result"
    }
   ],
   "source": [
    "%%time\n",
    "right_square_pyramid(a=5.5,h=4.5)"
   ]
  }
 ],
 "metadata": {
  "kernelspec": {
   "display_name": "Python 3 (ipykernel)",
   "language": "python",
   "name": "python3"
  },
  "language_info": {
   "codemirror_mode": {
    "name": "ipython",
    "version": 3
   },
   "file_extension": ".py",
   "mimetype": "text/x-python",
   "name": "python",
   "nbconvert_exporter": "python",
   "pygments_lexer": "ipython3",
   "version": "3.9.12"
  }
 },
 "nbformat": 4,
 "nbformat_minor": 5
}
