{
 "cells": [
  {
   "cell_type": "code",
   "execution_count": 5,
   "id": "505e7d93",
   "metadata": {},
   "outputs": [],
   "source": [
    "pi = 3.14159\n",
    "def sphere(A=None, r=None, d=None, v=None):\n",
    "    if(A != None):\n",
    "        radius = 1/2*(A/pi)**0.5\n",
    "        volume = 4/3*pi*radius**3 \n",
    "        diameter = 2*radius\n",
    "    \n",
    "        return f\"Radius {radius}, Volume {volume}, Diameter {diameter}\"\n",
    "   \n",
    "    if(r !=None):\n",
    "        v = (4/3*pi**3)\n",
    "        d = 2*r\n",
    "        A = 4*pi*r**3\n",
    "        \n",
    "        return f\"Volume {v} , Diameter {d} ,Surface Area {A}\"\n",
    "    \n",
    "    if(d !=None):\n",
    "        r = d/2\n",
    "        A = 4*pi*r**3\n",
    "        v = 4/3*pi*r**3\n",
    "        \n",
    "        return f\"Radius {r}, Area {A}, Volume {v}\"\n",
    "    \n",
    "    if(v !=None):\n",
    "        r = (3*v/4*pi)**1/3\n",
    "        d = 2*r\n",
    "        A = 4*pi*r**3\n",
    "        \n",
    "        return f\"Radius {r}, Diameter {d} ,Area {A}\" \n",
    "    \n",
    "    \n",
    "        \n"
   ]
  },
  {
   "cell_type": "code",
   "execution_count": 6,
   "id": "7eea4037",
   "metadata": {},
   "outputs": [
    {
     "data": {
      "text/plain": [
       "'Radius 2.1110050143673917, Volume 39.40542693485798, Diameter 4.2220100287347835'"
      ]
     },
     "execution_count": 6,
     "metadata": {},
     "output_type": "execute_result"
    }
   ],
   "source": [
    "sphere(A=56)"
   ]
  },
  {
   "cell_type": "code",
   "execution_count": null,
   "id": "1099e8c4",
   "metadata": {},
   "outputs": [],
   "source": []
  }
 ],
 "metadata": {
  "kernelspec": {
   "display_name": "Python 3 (ipykernel)",
   "language": "python",
   "name": "python3"
  },
  "language_info": {
   "codemirror_mode": {
    "name": "ipython",
    "version": 3
   },
   "file_extension": ".py",
   "mimetype": "text/x-python",
   "name": "python",
   "nbconvert_exporter": "python",
   "pygments_lexer": "ipython3",
   "version": "3.9.12"
  }
 },
 "nbformat": 4,
 "nbformat_minor": 5
}
