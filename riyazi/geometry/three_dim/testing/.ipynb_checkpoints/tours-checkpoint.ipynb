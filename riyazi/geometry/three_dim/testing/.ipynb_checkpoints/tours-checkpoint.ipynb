{
 "cells": [
  {
   "cell_type": "code",
   "execution_count": 1,
   "id": "7274b596",
   "metadata": {},
   "outputs": [],
   "source": [
    "pi=3.14159\n",
    "def torus(A=None, v=None, R=None, r=None):\n",
    "    \n",
    "    if( R and r !=None):\n",
    "        v= (pi*r**2)*(2*pi*R)\n",
    "        A=(2*pi*R)* (2*pi*r)\n",
    "        print(\"(Volume , Area)\")\n",
    "        return v,A\n",
    "    if(r and v !=None):\n",
    "        R = (1/2)*v*(1/(pi*r))**2\n",
    "        A = (2*pi*R)*(2*pi*r)\n",
    "        print(\"(Major Radius , Area)\")\n",
    "        return R,A\n",
    "    if(r and A !=None):\n",
    "        R = A/(4*pi**2*r)\n",
    "        v= (pi*r**2)*(2*pi*R)\n",
    "        print(\"(Major Radius , volume)\")\n",
    "        return R,v \n",
    "    if(R and A !=None):\n",
    "        r = A/(4*pi*R)\n",
    "        v= (pi*r**2)*(2*pi*R)\n",
    "        print(\"(Minor Raduis ,  volume )\")\n",
    "        return r,v \n",
    "    \n",
    "            "
   ]
  },
  {
   "cell_type": "code",
   "execution_count": 2,
   "id": "6dd13a5f",
   "metadata": {},
   "outputs": [
    {
     "name": "stdout",
     "output_type": "stream",
     "text": [
      "(Major Radius , volume)\n"
     ]
    },
    {
     "data": {
      "text/plain": [
       "(0.025330338701809955, 8.0)"
      ]
     },
     "execution_count": 2,
     "metadata": {},
     "output_type": "execute_result"
    }
   ],
   "source": [
    "torus(A=4,r=4)"
   ]
  },
  {
   "cell_type": "code",
   "execution_count": null,
   "id": "a1a551c8",
   "metadata": {},
   "outputs": [],
   "source": []
  }
 ],
 "metadata": {
  "kernelspec": {
   "display_name": "Python 3 (ipykernel)",
   "language": "python",
   "name": "python3"
  },
  "language_info": {
   "codemirror_mode": {
    "name": "ipython",
    "version": 3
   },
   "file_extension": ".py",
   "mimetype": "text/x-python",
   "name": "python",
   "nbconvert_exporter": "python",
   "pygments_lexer": "ipython3",
   "version": "3.9.12"
  }
 },
 "nbformat": 4,
 "nbformat_minor": 5
}
