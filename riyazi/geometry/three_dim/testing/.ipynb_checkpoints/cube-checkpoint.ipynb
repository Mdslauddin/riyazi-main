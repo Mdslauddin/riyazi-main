{
 "cells": [
  {
   "cell_type": "code",
   "execution_count": 3,
   "id": "3725844e",
   "metadata": {},
   "outputs": [],
   "source": [
    "def cube(v=None,a=None,d=None,A=None):\n",
    "    if(v !=None):\n",
    "        a = v**1/3\n",
    "        diagonal = (3)**0.5*a\n",
    "        A = 6*a**2\n",
    "        print(\"(edga, diagonal, Area)\")\n",
    "        return a,d,A\n",
    "    \n",
    "    if(a != None):\n",
    "        v = a**3\n",
    "        d = (3)**0.5*a\n",
    "        A = 6*a**2\n",
    "        print(\"(Volume, diagonal, Area)\")\n",
    "        return v,d,A\n",
    "    \n",
    "    if( d !=None):\n",
    "        a = ((3)**0.5)*d/3\n",
    "        v = a**3\n",
    "        A = 6*a**2\n",
    "        print(\"(edge, volume, Area)\")\n",
    "        return a, v, A\n",
    "    \n",
    "    if(A !=None):\n",
    "        a = v**1/3\n",
    "        d = ((3)**0.5)*a\n",
    "        A = 6*a**2\n",
    "        print(\"(edge, diagonal, Area)\")\n",
    "        return a, d, A\n",
    "    "
   ]
  },
  {
   "cell_type": "code",
   "execution_count": 5,
   "id": "b75f1fa2",
   "metadata": {},
   "outputs": [
    {
     "name": "stdout",
     "output_type": "stream",
     "text": [
      "(Volume, diagonal, Area)\n",
      "CPU times: total: 0 ns\n",
      "Wall time: 0 ns\n"
     ]
    },
    {
     "data": {
      "text/plain": [
       "(125, 8.660254037844386, 150)"
      ]
     },
     "execution_count": 5,
     "metadata": {},
     "output_type": "execute_result"
    }
   ],
   "source": [
    "%%time\n",
    "cube(a=5)"
   ]
  },
  {
   "cell_type": "code",
   "execution_count": null,
   "id": "2ab7e722",
   "metadata": {},
   "outputs": [],
   "source": []
  }
 ],
 "metadata": {
  "kernelspec": {
   "display_name": "Python 3 (ipykernel)",
   "language": "python",
   "name": "python3"
  },
  "language_info": {
   "codemirror_mode": {
    "name": "ipython",
    "version": 3
   },
   "file_extension": ".py",
   "mimetype": "text/x-python",
   "name": "python",
   "nbconvert_exporter": "python",
   "pygments_lexer": "ipython3",
   "version": "3.9.12"
  }
 },
 "nbformat": 4,
 "nbformat_minor": 5
}
