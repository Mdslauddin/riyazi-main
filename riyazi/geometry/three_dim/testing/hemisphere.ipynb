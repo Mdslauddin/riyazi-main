{
 "cells": [
  {
   "cell_type": "code",
   "execution_count": 3,
   "id": "4efeb339",
   "metadata": {},
   "outputs": [],
   "source": [
    "pi=3.14159\n",
    "def hemisphere(r=None, c=None, v=None, a=None, b=None, k=None):\n",
    "    if(r !=None):\n",
    "        v = (2/3)*pi*r**3\n",
    "        c = 2*pi*r\n",
    "        ca = 2*pi*r*r\n",
    "        Ab = pi*r**2\n",
    "        k = 3*pi*r**2\n",
    "        d = 2*r \n",
    "        \n",
    "        return v, c ,ca,Ab, k , d\n",
    "    "
   ]
  },
  {
   "cell_type": "code",
   "execution_count": 4,
   "id": "2ff255cc",
   "metadata": {},
   "outputs": [
    {
     "data": {
      "text/plain": [
       "(261.7991666666666, 31.4159, 157.0795, 78.53975, 235.61924999999997, 10)"
      ]
     },
     "execution_count": 4,
     "metadata": {},
     "output_type": "execute_result"
    }
   ],
   "source": [
    "hemisphere(r=5)"
   ]
  },
  {
   "cell_type": "code",
   "execution_count": null,
   "id": "ac3b7bbe",
   "metadata": {},
   "outputs": [],
   "source": []
  }
 ],
 "metadata": {
  "kernelspec": {
   "display_name": "Python 3 (ipykernel)",
   "language": "python",
   "name": "python3"
  },
  "language_info": {
   "codemirror_mode": {
    "name": "ipython",
    "version": 3
   },
   "file_extension": ".py",
   "mimetype": "text/x-python",
   "name": "python",
   "nbconvert_exporter": "python",
   "pygments_lexer": "ipython3",
   "version": "3.9.12"
  }
 },
 "nbformat": 4,
 "nbformat_minor": 5
}
