{
 "cells": [
  {
   "cell_type": "code",
   "execution_count": 18,
   "id": "97a84c38",
   "metadata": {},
   "outputs": [],
   "source": [
    "pi=3.14159\n",
    "def hallocylinder(v=None, R=None, r=None, h=None):\n",
    "    if(R and r and h !=None):\n",
    "        v = pi*(R**2-r**2)*h\n",
    "        return v\n",
    "    if(R and r and v !=None):\n",
    "        h = (v/pi) / (R**2-r**2)\n",
    "        return h\n",
    "    if(R and h and v !=None):\n",
    "        r =  R**2 - (v/(pi*h))\n",
    "        r = r**0.5\n",
    "        return r"
   ]
  },
  {
   "cell_type": "code",
   "execution_count": 15,
   "id": "f66c1e1e",
   "metadata": {},
   "outputs": [
    {
     "data": {
      "text/plain": [
       "527.78712"
      ]
     },
     "execution_count": 15,
     "metadata": {},
     "output_type": "execute_result"
    }
   ],
   "source": [
    "hallocylinder(R=7,r=5,h=7)"
   ]
  },
  {
   "cell_type": "code",
   "execution_count": 16,
   "id": "6b8d3b2d",
   "metadata": {},
   "outputs": [
    {
     "data": {
      "text/plain": [
       "4.999856760430228"
      ]
     },
     "execution_count": 16,
     "metadata": {},
     "output_type": "execute_result"
    }
   ],
   "source": [
    "hallocylinder(v=314.15,R=6,r=4,)"
   ]
  },
  {
   "cell_type": "code",
   "execution_count": 19,
   "id": "8565abc9",
   "metadata": {},
   "outputs": [
    {
     "data": {
      "text/plain": [
       "3.0013493316081092"
      ]
     },
     "execution_count": 19,
     "metadata": {},
     "output_type": "execute_result"
    }
   ],
   "source": [
    "hallocylinder(R=5, h=10, v=502.4)"
   ]
  },
  {
   "cell_type": "code",
   "execution_count": null,
   "id": "60bde7b7",
   "metadata": {},
   "outputs": [],
   "source": []
  }
 ],
 "metadata": {
  "kernelspec": {
   "display_name": "Python 3 (ipykernel)",
   "language": "python",
   "name": "python3"
  },
  "language_info": {
   "codemirror_mode": {
    "name": "ipython",
    "version": 3
   },
   "file_extension": ".py",
   "mimetype": "text/x-python",
   "name": "python",
   "nbconvert_exporter": "python",
   "pygments_lexer": "ipython3",
   "version": "3.9.12"
  }
 },
 "nbformat": 4,
 "nbformat_minor": 5
}
