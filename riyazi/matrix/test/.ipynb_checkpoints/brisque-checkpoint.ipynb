{
 "cells": [
  {
   "cell_type": "code",
   "execution_count": 2,
   "id": "a7139ec6",
   "metadata": {},
   "outputs": [],
   "source": [
    "import cv2\n",
    "import collections\n",
    "from itertools import chain\n",
    "import urllib.request as request\n",
    "import pickle \n",
    "import numpy as np\n",
    "import scipy.signal as signal\n",
    "import scipy.ndimage.filters as filters\n",
    "import scipy.special as special\n",
    "import scipy.optimize as optimize\n",
    "import skimage.io\n",
    "import skimage.transform\n",
    "from libsvm import svmutil\n",
    "import os\n",
    "from brisque.models import MODEL_PATH"
   ]
  },
  {
   "cell_type": "code",
   "execution_count": 3,
   "id": "e9d1b655",
   "metadata": {},
   "outputs": [],
   "source": [
    "def load_image(self):\n",
    "        if self.url:\n",
    "            image = request.urlopen(self.image)\n",
    "        else:\n",
    "            image = self.image   \n",
    "        return skimage.io.imread(image, plugin='pil')"
   ]
  },
  {
   "cell_type": "code",
   "execution_count": 4,
   "id": "b3ce9b22",
   "metadata": {},
   "outputs": [],
   "source": [
    "def remove_alpha_channel(self, original_image):\n",
    "        image = np.array(original_image)\n",
    "        if len(image.shape) == 3 and image.shape[2] == 4:\n",
    "            image = image[:,:,:3]\n",
    "        return image"
   ]
  },
  {
   "cell_type": "code",
   "execution_count": 5,
   "id": "85c4ac0b",
   "metadata": {},
   "outputs": [],
   "source": [
    "def score(self):\n",
    "        image = self.load_image()\n",
    "        image = self.remove_alpha_channel(image)\n",
    "        gray_image = skimage.color.rgb2gray(image)\n",
    "        mscn_coefficients = self.calculate_mscn_coefficients(gray_image, 7, 7/6)\n",
    "        coefficients = self.calculate_pair_product_coefficients(mscn_coefficients)\n",
    "        brisque_features = self.calculate_brisque_features(gray_image, kernel_size=7, sigma=7/6)\n",
    "        downscaled_image = cv2.resize(gray_image, None, fx=1/2, fy=1/2, interpolation = cv2.INTER_CUBIC)\n",
    "        downscale_brisque_features = self.calculate_brisque_features(downscaled_image, kernel_size=7, sigma=7/6)\n",
    "        brisque_features = np.concatenate((brisque_features, downscale_brisque_features))\n",
    "\n",
    "        return self.calculate_image_quality_score(brisque_features)\n",
    "    "
   ]
  },
  {
   "cell_type": "code",
   "execution_count": 6,
   "id": "f75db135",
   "metadata": {},
   "outputs": [],
   "source": [
    "def normalize_kernel(self, kernel):\n",
    "        return kernel / np.sum(kernel)"
   ]
  },
  {
   "cell_type": "code",
   "execution_count": 7,
   "id": "c9cdb59c",
   "metadata": {},
   "outputs": [],
   "source": [
    "def gaussian_kernel2d(self, n, sigma):\n",
    "        Y, X = np.indices((n, n)) - int(n/2)\n",
    "        gaussian_kernel = 1 / (2 * np.pi * sigma ** 2) * np.exp(-(X ** 2 + Y ** 2) / (2 * sigma ** 2)) \n",
    "        return self.normalize_kernel(gaussian_kernel)"
   ]
  },
  {
   "cell_type": "code",
   "execution_count": 8,
   "id": "12c2c3da",
   "metadata": {},
   "outputs": [],
   "source": [
    "def local_mean(self, image, kernel):\n",
    "        return signal.convolve2d(image, kernel, 'same')"
   ]
  },
  {
   "cell_type": "code",
   "execution_count": 9,
   "id": "bcdfdcd2",
   "metadata": {},
   "outputs": [],
   "source": [
    "def local_deviation(self, image, local_mean, kernel):\n",
    "        \"Vectorized approximation of local deviation\"\n",
    "        sigma = image ** 2\n",
    "        sigma = signal.convolve2d(sigma, kernel, 'same')\n",
    "        return np.sqrt(np.abs(local_mean ** 2 - sigma))"
   ]
  },
  {
   "cell_type": "code",
   "execution_count": 10,
   "id": "c975d89c",
   "metadata": {},
   "outputs": [],
   "source": [
    "def calculate_mscn_coefficients(self, image, kernel_size=6, sigma=7/6):\n",
    "        C = 1/255\n",
    "        kernel = self.gaussian_kernel2d(kernel_size, sigma=sigma)\n",
    "        local_mean = signal.convolve2d(image, kernel, 'same')\n",
    "        local_var = self.local_deviation(image, local_mean, kernel)\n",
    "\n",
    "        return (image - local_mean) / (local_var + C)\n"
   ]
  },
  {
   "cell_type": "code",
   "execution_count": 12,
   "id": "6220f4f6",
   "metadata": {},
   "outputs": [],
   "source": [
    "def generalized_gaussian_dist(self, x, alpha, sigma):\n",
    "        beta = sigma * np.sqrt(special.gamma(1 / alpha) / special.gamma(3 / alpha))\n",
    "\n",
    "        coefficient = alpha / (2 * beta() * special.gamma(1 / alpha))\n",
    "        return coefficient * np.exp(-(np.abs(x) / beta) ** alpha)"
   ]
  },
  {
   "cell_type": "code",
   "execution_count": 13,
   "id": "3f781d35",
   "metadata": {},
   "outputs": [],
   "source": [
    "def calculate_pair_product_coefficients(self, mscn_coefficients):\n",
    "        return collections.OrderedDict({\n",
    "            'mscn': mscn_coefficients,\n",
    "            'horizontal': mscn_coefficients[:, :-1] * mscn_coefficients[:, 1:],\n",
    "            'vertical': mscn_coefficients[:-1, :] * mscn_coefficients[1:, :],\n",
    "            'main_diagonal': mscn_coefficients[:-1, :-1] * mscn_coefficients[1:, 1:],\n",
    "            'secondary_diagonal': mscn_coefficients[1:, :-1] * mscn_coefficients[:-1, 1:]\n",
    "        })"
   ]
  },
  {
   "cell_type": "code",
   "execution_count": 14,
   "id": "c4ca96d8",
   "metadata": {},
   "outputs": [],
   "source": [
    "def asymmetric_generalized_gaussian(self, x, nu, sigma_l, sigma_r):\n",
    "        def beta(sigma):\n",
    "            return sigma * np.sqrt(special.gamma(1 / nu) / special.gamma(3 / nu))\n",
    "\n",
    "        coefficient = nu / ((beta(sigma_l) + beta(sigma_r)) * special.gamma(1 / nu))\n",
    "        f = lambda x, sigma: coefficient * np.exp(-(x / beta(sigma)) ** nu)\n",
    "\n",
    "        return np.where(x < 0, f(-x, sigma_l), f(x, sigma_r))\n"
   ]
  },
  {
   "cell_type": "code",
   "execution_count": 15,
   "id": "05c8c39e",
   "metadata": {},
   "outputs": [],
   "source": [
    "def asymmetric_generalized_gaussian_fit(self, x):\n",
    "        def estimate_phi(alpha):\n",
    "            numerator = special.gamma(2 / alpha) ** 2\n",
    "            denominator = special.gamma(1 / alpha) * special.gamma(3 / alpha)\n",
    "            return numerator / denominator"
   ]
  },
  {
   "cell_type": "code",
   "execution_count": 16,
   "id": "8a6f3783",
   "metadata": {},
   "outputs": [],
   "source": [
    "def estimate_r_hat(x):\n",
    "            size = np.prod(x.shape)\n",
    "            return (np.sum(np.abs(x)) / size) ** 2 / (np.sum(x ** 2) / size)\n"
   ]
  },
  {
   "cell_type": "code",
   "execution_count": 17,
   "id": "70dc0386",
   "metadata": {},
   "outputs": [],
   "source": [
    "def estimate_R_hat(r_hat, gamma):\n",
    "            numerator = (gamma ** 3 + 1) * (gamma + 1)\n",
    "            denominator = (gamma ** 2 + 1) ** 2\n",
    "            return r_hat * numerator / denominator"
   ]
  },
  {
   "cell_type": "code",
   "execution_count": 18,
   "id": "6723eff8",
   "metadata": {},
   "outputs": [],
   "source": [
    "def mean_squares_sum(x, filter = lambda z: z == z):\n",
    "            filtered_values = x[filter(x)]\n",
    "            squares_sum = np.sum(filtered_values ** 2)\n",
    "            return squares_sum / ((filtered_values.shape))"
   ]
  },
  {
   "cell_type": "code",
   "execution_count": 19,
   "id": "b0ea39c9",
   "metadata": {},
   "outputs": [],
   "source": [
    "def estimate_gamma(x):\n",
    "            left_squares = mean_squares_sum(x, lambda z: z < 0)\n",
    "            right_squares = mean_squares_sum(x, lambda z: z >= 0)\n",
    "\n",
    "            return np.sqrt(left_squares) / np.sqrt(right_squares)\n"
   ]
  },
  {
   "cell_type": "code",
   "execution_count": 20,
   "id": "5d790772",
   "metadata": {},
   "outputs": [],
   "source": [
    "def estimate_alpha(x):\n",
    "            r_hat = estimate_r_hat(x)\n",
    "            gamma = estimate_gamma(x)\n",
    "            R_hat = estimate_R_hat(r_hat, gamma)\n",
    "\n",
    "            solution = optimize.root(lambda z: estimate_phi(z) - R_hat, [0.2]).x\n",
    "\n",
    "            return solution[0]"
   ]
  },
  {
   "cell_type": "code",
   "execution_count": 21,
   "id": "f317377c",
   "metadata": {},
   "outputs": [],
   "source": [
    "def estimate_sigma(x, alpha, filter = lambda z: z < 0):\n",
    "            return np.sqrt(mean_squares_sum(x, filter))"
   ]
  },
  {
   "cell_type": "code",
   "execution_count": 22,
   "id": "3695d2dc",
   "metadata": {},
   "outputs": [],
   "source": [
    "def estimate_mean(alpha, sigma_l, sigma_r):\n",
    "            return (sigma_r - sigma_l) * constant * (special.gamma(2 / alpha) / special.gamma(1 / alpha))\n"
   ]
  },
  {
   "cell_type": "code",
   "execution_count": 23,
   "id": "6f5231b5",
   "metadata": {},
   "outputs": [],
   "source": [
    "def calculate_brisque_features(self, image, kernel_size=7, sigma=7/6):\n",
    "        def calculate_features(coefficients_name, coefficients, accum=np.array([], dtype=object)):\n",
    "            alpha, mean, sigma_l, sigma_r = self.asymmetric_generalized_gaussian_fit(coefficients)\n",
    "\n",
    "            if coefficients_name == 'mscn':\n",
    "                var = (sigma_l ** 2 + sigma_r ** 2) / 2\n",
    "                return [alpha, var]\n",
    "\n",
    "            return [alpha, mean, sigma_l ** 2, sigma_r ** 2]"
   ]
  },
  {
   "cell_type": "code",
   "execution_count": 24,
   "id": "a2a86aec",
   "metadata": {},
   "outputs": [],
   "source": [
    "def scale_features(self, features):\n",
    "        with open(self.norm, 'rb') as handle:\n",
    "            scale_params = pickle.load(handle)\n",
    "\n",
    "        min_ = np.array(scale_params['min_'], dtype=object)\n",
    "        max_ = np.array(scale_params['max_'], dtype=object)\n",
    "\n",
    "        return -1 + (2.0 / (max_ - min_) * (features - min_))\n"
   ]
  },
  {
   "cell_type": "code",
   "execution_count": 25,
   "id": "bafd4ec0",
   "metadata": {},
   "outputs": [],
   "source": [
    "def calculate_image_quality_score(self, brisque_features):\n",
    "        model = svmutil.svm_load_model(self.model)\n",
    "        scaled_brisque_features = self.scale_features(brisque_features)\n",
    "\n",
    "        x, idx = svmutil.gen_svm_nodearray(\n",
    "            scaled_brisque_features,\n",
    "            isKernel=(model.param.kernel_type == svmutil.PRECOMPUTED))\n",
    "\n",
    "        nr_classifier = 1\n",
    "        prob_estimates = (svmutil.c_double * nr_classifier)()\n",
    "\n",
    "        return svmutil.libsvm.svm_predict_probability(model, x, prob_estimates)"
   ]
  },
  {
   "cell_type": "code",
   "execution_count": null,
   "id": "93daaf1e",
   "metadata": {},
   "outputs": [],
   "source": []
  },
  {
   "cell_type": "code",
   "execution_count": null,
   "id": "d115dd35",
   "metadata": {},
   "outputs": [],
   "source": []
  },
  {
   "cell_type": "code",
   "execution_count": null,
   "id": "9ceb5c2a",
   "metadata": {},
   "outputs": [],
   "source": []
  },
  {
   "cell_type": "code",
   "execution_count": null,
   "id": "9fddbfd4",
   "metadata": {},
   "outputs": [],
   "source": []
  },
  {
   "cell_type": "code",
   "execution_count": null,
   "id": "cf826968",
   "metadata": {},
   "outputs": [],
   "source": []
  },
  {
   "cell_type": "code",
   "execution_count": null,
   "id": "0ce795a2",
   "metadata": {},
   "outputs": [],
   "source": []
  }
 ],
 "metadata": {
  "kernelspec": {
   "display_name": "Python 3 (ipykernel)",
   "language": "python",
   "name": "python3"
  },
  "language_info": {
   "codemirror_mode": {
    "name": "ipython",
    "version": 3
   },
   "file_extension": ".py",
   "mimetype": "text/x-python",
   "name": "python",
   "nbconvert_exporter": "python",
   "pygments_lexer": "ipython3",
   "version": "3.9.12"
  }
 },
 "nbformat": 4,
 "nbformat_minor": 5
}
