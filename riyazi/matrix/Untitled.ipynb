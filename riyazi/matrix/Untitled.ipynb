{
 "cells": [
  {
   "cell_type": "code",
   "execution_count": 55,
   "id": "e3d8231c",
   "metadata": {},
   "outputs": [],
   "source": [
    "import matrices as mat"
   ]
  },
  {
   "cell_type": "code",
   "execution_count": 58,
   "id": "d414a311",
   "metadata": {},
   "outputs": [],
   "source": [
    "import numpy as np"
   ]
  },
  {
   "cell_type": "code",
   "execution_count": 60,
   "id": "1fc5d9be",
   "metadata": {},
   "outputs": [
    {
     "ename": "TypeError",
     "evalue": "object of type 'numpy.int32' has no len()",
     "output_type": "error",
     "traceback": [
      "\u001b[1;31m---------------------------------------------------------------------------\u001b[0m",
      "\u001b[1;31mTypeError\u001b[0m                                 Traceback (most recent call last)",
      "Input \u001b[1;32mIn [60]\u001b[0m, in \u001b[0;36m<cell line: 3>\u001b[1;34m()\u001b[0m\n\u001b[0;32m      1\u001b[0m A\u001b[38;5;241m=\u001b[39mnp\u001b[38;5;241m.\u001b[39marray([\u001b[38;5;241m1\u001b[39m,\u001b[38;5;241m2\u001b[39m,\u001b[38;5;241m3\u001b[39m,\u001b[38;5;241m4\u001b[39m])\n\u001b[0;32m      2\u001b[0m B\u001b[38;5;241m=\u001b[39mnp\u001b[38;5;241m.\u001b[39marray([\u001b[38;5;241m5\u001b[39m,\u001b[38;5;241m6\u001b[39m,\u001b[38;5;241m7\u001b[39m,\u001b[38;5;241m8\u001b[39m])\n\u001b[1;32m----> 3\u001b[0m \u001b[43mmat\u001b[49m\u001b[38;5;241;43m.\u001b[39;49m\u001b[43madd\u001b[49m\u001b[43m(\u001b[49m\u001b[43mA\u001b[49m\u001b[43m,\u001b[49m\u001b[43mB\u001b[49m\u001b[43m)\u001b[49m\n",
      "File \u001b[1;32mH:\\riyazi\\matrix\\matrices.py:17\u001b[0m, in \u001b[0;36madd\u001b[1;34m(A, B)\u001b[0m\n\u001b[0;32m     15\u001b[0m \u001b[38;5;66;03m# Section 1: Ensure dimensions are valid for matrix addition\u001b[39;00m\n\u001b[0;32m     16\u001b[0m rowsA \u001b[38;5;241m=\u001b[39m \u001b[38;5;28mlen\u001b[39m(A)\n\u001b[1;32m---> 17\u001b[0m colsA \u001b[38;5;241m=\u001b[39m \u001b[38;5;28;43mlen\u001b[39;49m\u001b[43m(\u001b[49m\u001b[43mA\u001b[49m\u001b[43m[\u001b[49m\u001b[38;5;241;43m0\u001b[39;49m\u001b[43m]\u001b[49m\u001b[43m)\u001b[49m\n\u001b[0;32m     18\u001b[0m rowsB \u001b[38;5;241m=\u001b[39m \u001b[38;5;28mlen\u001b[39m(B)\n\u001b[0;32m     19\u001b[0m colsB \u001b[38;5;241m=\u001b[39m \u001b[38;5;28mlen\u001b[39m(B[\u001b[38;5;241m0\u001b[39m])\n",
      "\u001b[1;31mTypeError\u001b[0m: object of type 'numpy.int32' has no len()"
     ]
    }
   ],
   "source": [
    "A=np.array([1,2,3,4])\n",
    "B=np.array([5,6,7,8])\n",
    "mat.add(A,B)"
   ]
  },
  {
   "cell_type": "code",
   "execution_count": null,
   "id": "0f7f4264",
   "metadata": {},
   "outputs": [],
   "source": []
  },
  {
   "cell_type": "code",
   "execution_count": 1,
   "id": "131b6211",
   "metadata": {},
   "outputs": [],
   "source": [
    "import numpy as np"
   ]
  },
  {
   "cell_type": "code",
   "execution_count": 2,
   "id": "4bfed2bc",
   "metadata": {},
   "outputs": [],
   "source": [
    "ar1 = np.array([[1,2,3],[4,5,6]])\n",
    "ar2 = np.array([[3,4,5],[5,6,7]])"
   ]
  },
  {
   "cell_type": "code",
   "execution_count": 3,
   "id": "a659c54f",
   "metadata": {},
   "outputs": [
    {
     "data": {
      "text/plain": [
       "array([[ 4,  6,  8],\n",
       "       [ 9, 11, 13]])"
      ]
     },
     "execution_count": 3,
     "metadata": {},
     "output_type": "execute_result"
    }
   ],
   "source": [
    "np.add(ar1,ar2)"
   ]
  },
  {
   "cell_type": "code",
   "execution_count": 61,
   "id": "f7fc74e0",
   "metadata": {},
   "outputs": [],
   "source": [
    "import numpy as np\n",
    "def add(A, B):\n",
    "    \"\"\"\n",
    "    Adds two matrices and returns the sum\n",
    "        :param A: The first matrix\n",
    "        :param B: The second matrix\n",
    " \n",
    "        :return: Matrix sum\n",
    "    \"\"\"\n",
    "    # Section 1: Ensure dimensions are valid for matrix addition\n",
    "    rowsA = len(A)\n",
    "    colsA = len(A[0])\n",
    "    rowsB = len(B)\n",
    "    colsB = len(B[0])\n",
    "    if rowsA != rowsB or colsA != colsB:\n",
    "        raise ArithmeticError('Matrices are NOT the same size.')\n",
    " \n",
    "    # Section 2: Create a new matrix for the matrix sum\n",
    "    C = zeros(rowsA, colsB)\n",
    " \n",
    "    # Section 3: Perform element by element sum\n",
    "    for i in range(rowsA):\n",
    "        for j in range(colsB):\n",
    "            C[i][j] = A[i][j] + B[i][j]\n",
    " \n",
    "    return np.array(C)"
   ]
  },
  {
   "cell_type": "code",
   "execution_count": 62,
   "id": "7a096f31",
   "metadata": {},
   "outputs": [
    {
     "data": {
      "text/plain": [
       "array([[ 4.,  6.,  8.],\n",
       "       [ 9., 11., 13.]])"
      ]
     },
     "execution_count": 62,
     "metadata": {},
     "output_type": "execute_result"
    }
   ],
   "source": [
    "add(ar1,ar2)"
   ]
  },
  {
   "cell_type": "code",
   "execution_count": 63,
   "id": "8823aa25",
   "metadata": {},
   "outputs": [
    {
     "ename": "TypeError",
     "evalue": "add() missing 1 required positional argument: 'B'",
     "output_type": "error",
     "traceback": [
      "\u001b[1;31m---------------------------------------------------------------------------\u001b[0m",
      "\u001b[1;31mTypeError\u001b[0m                                 Traceback (most recent call last)",
      "Input \u001b[1;32mIn [63]\u001b[0m, in \u001b[0;36m<cell line: 1>\u001b[1;34m()\u001b[0m\n\u001b[1;32m----> 1\u001b[0m \u001b[43madd\u001b[49m\u001b[43m(\u001b[49m\u001b[38;5;241;43m3\u001b[39;49m\u001b[38;5;241;43m+\u001b[39;49m\u001b[38;5;241;43m4\u001b[39;49m\u001b[43m)\u001b[49m\n",
      "\u001b[1;31mTypeError\u001b[0m: add() missing 1 required positional argument: 'B'"
     ]
    }
   ],
   "source": []
  },
  {
   "cell_type": "code",
   "execution_count": 17,
   "id": "a1a849e4",
   "metadata": {},
   "outputs": [],
   "source": [
    "def zeros(rows, cols):\n",
    "    \"\"\"\n",
    "    Creates a matrix filled with zeros.\n",
    "        :param rows: the number of rows the matrix should have\n",
    "        :param cols: the number of columns the matrix should have\n",
    " \n",
    "        :return: list of lists that form the matrix\n",
    "    \"\"\"\n",
    "    M = []\n",
    "    while len(M) < rows:\n",
    "        M.append([])\n",
    "        while len(M[-1]) < cols:\n",
    "            M[-1].append(0.0)\n",
    " \n",
    "    return np.array(M)"
   ]
  },
  {
   "cell_type": "code",
   "execution_count": 18,
   "id": "6d8a51e2",
   "metadata": {
    "scrolled": true
   },
   "outputs": [
    {
     "data": {
      "text/plain": [
       "array([[0., 0., 0., 0.],\n",
       "       [0., 0., 0., 0.],\n",
       "       [0., 0., 0., 0.]])"
      ]
     },
     "execution_count": 18,
     "metadata": {},
     "output_type": "execute_result"
    }
   ],
   "source": [
    "zeros(3,4)"
   ]
  },
  {
   "cell_type": "code",
   "execution_count": 19,
   "id": "aaa3e10a",
   "metadata": {},
   "outputs": [],
   "source": [
    "shape = (3,4)"
   ]
  },
  {
   "cell_type": "code",
   "execution_count": 20,
   "id": "6111a676",
   "metadata": {},
   "outputs": [
    {
     "data": {
      "text/plain": [
       "3"
      ]
     },
     "execution_count": 20,
     "metadata": {},
     "output_type": "execute_result"
    }
   ],
   "source": [
    " = shape[0]"
   ]
  },
  {
   "cell_type": "code",
   "execution_count": 26,
   "id": "85bd56be",
   "metadata": {},
   "outputs": [],
   "source": [
    "def subtract(A, B):\n",
    "    \"\"\"\n",
    "    Subtracts matrix B from matrix A and returns difference\n",
    "        :param A: The first matrix\n",
    "        :param B: The second matrix\n",
    " \n",
    "        :return: Matrix difference\n",
    "    \"\"\"\n",
    "    # Section 1: Ensure dimensions are valid for matrix subtraction\n",
    "    rowsA = len(A)\n",
    "    colsA = len(A[0])\n",
    "    rowsB = len(B)\n",
    "    colsB = len(B[0])\n",
    "    if rowsA != rowsB or colsA != colsB:\n",
    "        raise ArithmeticError('Matrices are NOT the same size.')\n",
    " \n",
    "    # Section 2: Create a new matrix for the matrix difference\n",
    "    C = zeros_matrix(rowsA, colsB)\n",
    " \n",
    "    # Section 3: Perform element by element subtraction\n",
    "    for i in range(rowsA):\n",
    "        for j in range(colsB):\n",
    "            C[i][j] = A[i][j] - B[i][j]\n",
    " \n",
    "    return np.array(C)"
   ]
  },
  {
   "cell_type": "code",
   "execution_count": 27,
   "id": "7ceb336d",
   "metadata": {},
   "outputs": [
    {
     "data": {
      "text/plain": [
       "array([[-2, -2, -2],\n",
       "       [-1, -1, -1]])"
      ]
     },
     "execution_count": 27,
     "metadata": {},
     "output_type": "execute_result"
    }
   ],
   "source": [
    "subtract(ar1,ar2)"
   ]
  },
  {
   "cell_type": "code",
   "execution_count": 21,
   "id": "7b2509ee",
   "metadata": {},
   "outputs": [
    {
     "data": {
      "text/plain": [
       "array([[-2, -2, -2],\n",
       "       [-1, -1, -1]])"
      ]
     },
     "execution_count": 21,
     "metadata": {},
     "output_type": "execute_result"
    }
   ],
   "source": [
    "np.subtract(ar1,ar2)"
   ]
  },
  {
   "cell_type": "code",
   "execution_count": 32,
   "id": "4be24723",
   "metadata": {},
   "outputs": [],
   "source": [
    "def multiply(A, B):\n",
    "    \"\"\"\n",
    "    Returns the product of the matrix A * B\n",
    "        :param A: The first matrix - ORDER MATTERS!\n",
    "        :param B: The second matrix\n",
    " \n",
    "        :return: The product of the two matrices\n",
    "    \"\"\"\n",
    "    # Section 1: Ensure A & B dimensions are correct for multiplication\n",
    "    rowsA = len(A)\n",
    "    colsA = len(A[0])\n",
    "    rowsB = len(B)\n",
    "    colsB = len(B[0])\n",
    "    if colsA != rowsB:\n",
    "        raise ArithmeticError(\n",
    "            'Number of A columns must equal number of B rows.')\n",
    " \n",
    "    # Section 2: Store matrix multiplication in a new matrix\n",
    "    C = zeros(rowsA, colsB)\n",
    "    for i in range(rowsA):\n",
    "        for j in range(colsB):\n",
    "            total = 0\n",
    "            for ii in range(colsA):\n",
    "                total += A[i][ii] * B[ii][j]\n",
    "            C[i][j] = total\n",
    " \n",
    "    return C"
   ]
  },
  {
   "cell_type": "code",
   "execution_count": 31,
   "id": "da9890eb",
   "metadata": {},
   "outputs": [
    {
     "data": {
      "text/plain": [
       "(array([[1, 2, 3],\n",
       "        [4, 5, 6]]),\n",
       " array([[3, 4, 5],\n",
       "        [5, 6, 7]]))"
      ]
     },
     "execution_count": 31,
     "metadata": {},
     "output_type": "execute_result"
    }
   ],
   "source": [
    "ar1, ar2"
   ]
  },
  {
   "cell_type": "code",
   "execution_count": 28,
   "id": "c6f2aa7f",
   "metadata": {
    "scrolled": true
   },
   "outputs": [
    {
     "data": {
      "text/plain": [
       "array([[ 3,  8, 15],\n",
       "       [20, 30, 42]])"
      ]
     },
     "execution_count": 28,
     "metadata": {},
     "output_type": "execute_result"
    }
   ],
   "source": [
    "np.multiply(ar1,ar2)"
   ]
  },
  {
   "cell_type": "code",
   "execution_count": 30,
   "id": "9509f9f0",
   "metadata": {},
   "outputs": [
    {
     "ename": "ArithmeticError",
     "evalue": "Number of A columns must equal number of B rows.",
     "output_type": "error",
     "traceback": [
      "\u001b[1;31m---------------------------------------------------------------------------\u001b[0m",
      "\u001b[1;31mArithmeticError\u001b[0m                           Traceback (most recent call last)",
      "Input \u001b[1;32mIn [30]\u001b[0m, in \u001b[0;36m<cell line: 1>\u001b[1;34m()\u001b[0m\n\u001b[1;32m----> 1\u001b[0m \u001b[43mmultiply\u001b[49m\u001b[43m(\u001b[49m\u001b[43mar1\u001b[49m\u001b[43m,\u001b[49m\u001b[43mar2\u001b[49m\u001b[43m)\u001b[49m\n",
      "Input \u001b[1;32mIn [29]\u001b[0m, in \u001b[0;36mmultiply\u001b[1;34m(A, B)\u001b[0m\n\u001b[0;32m     13\u001b[0m colsB \u001b[38;5;241m=\u001b[39m \u001b[38;5;28mlen\u001b[39m(B[\u001b[38;5;241m0\u001b[39m])\n\u001b[0;32m     14\u001b[0m \u001b[38;5;28;01mif\u001b[39;00m colsA \u001b[38;5;241m!=\u001b[39m rowsB:\n\u001b[1;32m---> 15\u001b[0m     \u001b[38;5;28;01mraise\u001b[39;00m \u001b[38;5;167;01mArithmeticError\u001b[39;00m(\n\u001b[0;32m     16\u001b[0m         \u001b[38;5;124m'\u001b[39m\u001b[38;5;124mNumber of A columns must equal number of B rows.\u001b[39m\u001b[38;5;124m'\u001b[39m)\n\u001b[0;32m     18\u001b[0m \u001b[38;5;66;03m# Section 2: Store matrix multiplication in a new matrix\u001b[39;00m\n\u001b[0;32m     19\u001b[0m C \u001b[38;5;241m=\u001b[39m zeros_matrix(rowsA, colsB)\n",
      "\u001b[1;31mArithmeticError\u001b[0m: Number of A columns must equal number of B rows."
     ]
    }
   ],
   "source": [
    "multiply(ar1,ar2)"
   ]
  },
  {
   "cell_type": "code",
   "execution_count": null,
   "id": "ef628a93",
   "metadata": {},
   "outputs": [],
   "source": [
    "def copy(M):\n",
    "    \"\"\"\n",
    "    Creates and returns a copy of a matrix.\n",
    "        :param M: The matrix to be copied\n",
    " \n",
    "        :return: A copy of the given matrix\n",
    "    \"\"\"\n",
    "    # Section 1: Get matrix dimensions\n",
    "    rows = len(M)\n",
    "    cols = len(M[0])\n",
    " \n",
    "    # Section 2: Create a new matrix of zeros\n",
    "    MC = zeros(rows, cols)\n",
    " \n",
    "    # Section 3: Copy values of M into the copy\n",
    "    for i in range(rows):\n",
    "        for j in range(cols):\n",
    "            MC[i][j] = M[i][j]\n",
    " \n",
    "    return np.array(MC)"
   ]
  },
  {
   "cell_type": "code",
   "execution_count": null,
   "id": "07c9943a",
   "metadata": {},
   "outputs": [],
   "source": [
    "def diag(ctx, diagonal, **kwargs):\n",
    "        \"\"\"\n",
    "        Create square diagonal matrix using given list.\n",
    "\n",
    "        Example:\n",
    "        >>> from mpmath import diag, mp\n",
    "        >>> mp.pretty = False\n",
    "        >>> diag([1, 2, 3])\n",
    "        matrix(\n",
    "        [['1.0', '0.0', '0.0'],\n",
    "         ['0.0', '2.0', '0.0'],\n",
    "         ['0.0', '0.0', '3.0']])\n",
    "        \"\"\"\n",
    "        A = ctx.matrix(len(diagonal), **kwargs)\n",
    "        for i in xrange(len(diagonal)):\n",
    "            A[i,i] = diagonal[i]\n",
    "        return A"
   ]
  },
  {
   "cell_type": "code",
   "execution_count": null,
   "id": "924b9c9c",
   "metadata": {},
   "outputs": [],
   "source": [
    "import numpy as np \n",
    "def identity(n):\n",
    "    \"\"\"\n",
    "    Creates and returns an identity matrix.\n",
    "        :param n: the square size of the matrix\n",
    " \n",
    "        :return: a square identity matrix\n",
    "    \"\"\"\n",
    "    IdM = zeros(n, n)\n",
    "    for i in range(n):\n",
    "        IdM[i][i] = 1.0\n",
    " \n",
    "    return np.array(IdM)"
   ]
  },
  {
   "cell_type": "code",
   "execution_count": 33,
   "id": "dc945def",
   "metadata": {},
   "outputs": [],
   "source": [
    "def transpose(matrix):\n",
    "    listOfLists = []\n",
    "    for row in range(len(matrix[0])):\n",
    "        colList = []\n",
    "        for col in range(len(matrix)):\n",
    "            colList.append(matrix[col][row])\n",
    "    listOfLists.append(colList)\n",
    "\n",
    "    return np.array(listOfLists)"
   ]
  },
  {
   "cell_type": "code",
   "execution_count": 34,
   "id": "b00081fa",
   "metadata": {},
   "outputs": [
    {
     "data": {
      "text/plain": [
       "array([[1, 4],\n",
       "       [2, 5],\n",
       "       [3, 6]])"
      ]
     },
     "execution_count": 34,
     "metadata": {},
     "output_type": "execute_result"
    }
   ],
   "source": [
    "np.transpose(ar1)"
   ]
  },
  {
   "cell_type": "code",
   "execution_count": 35,
   "id": "b7bad391",
   "metadata": {},
   "outputs": [
    {
     "data": {
      "text/plain": [
       "array([[3, 6]])"
      ]
     },
     "execution_count": 35,
     "metadata": {},
     "output_type": "execute_result"
    }
   ],
   "source": [
    "transpose(ar1)"
   ]
  },
  {
   "cell_type": "code",
   "execution_count": 38,
   "id": "b8572c68",
   "metadata": {},
   "outputs": [],
   "source": [
    "def transpose(m):\n",
    "    return np.array((list(map(list,list(zip(*m))))))"
   ]
  },
  {
   "cell_type": "code",
   "execution_count": 39,
   "id": "6563b86e",
   "metadata": {},
   "outputs": [
    {
     "data": {
      "text/plain": [
       "array([[1, 4],\n",
       "       [2, 5],\n",
       "       [3, 6]])"
      ]
     },
     "execution_count": 39,
     "metadata": {},
     "output_type": "execute_result"
    }
   ],
   "source": [
    "transpose(ar1)"
   ]
  },
  {
   "cell_type": "code",
   "execution_count": 40,
   "id": "91851a5e",
   "metadata": {},
   "outputs": [],
   "source": [
    "def divide_matrix(A):\n",
    "    mid = len(A)//2\n",
    "    m_11 = [M[:mid] for M in A[:mid]]\n",
    "    m_12 = [M[mid:] for M in A[:mid]]\n",
    "    m_21 = [M[:mid] for M in A[mid:]]\n",
    "    m_22 = [M[mid:] for M in A[mid:]]\n",
    "\n",
    "    return (m_11, m_12, m_21, m_22)"
   ]
  },
  {
   "cell_type": "code",
   "execution_count": 41,
   "id": "32fbb195",
   "metadata": {},
   "outputs": [
    {
     "data": {
      "text/plain": [
       "array([[0.33333333, 0.5       , 0.6       ],\n",
       "       [0.8       , 0.83333333, 0.85714286]])"
      ]
     },
     "execution_count": 41,
     "metadata": {},
     "output_type": "execute_result"
    }
   ],
   "source": [
    "np.divide(ar1,ar2)"
   ]
  },
  {
   "cell_type": "code",
   "execution_count": 43,
   "id": "8c5de6d2",
   "metadata": {},
   "outputs": [
    {
     "data": {
      "text/plain": [
       "([array([1])], [array([2, 3])], [array([4])], [array([5, 6])])"
      ]
     },
     "execution_count": 43,
     "metadata": {},
     "output_type": "execute_result"
    }
   ],
   "source": [
    "divide_matrix(ar1)"
   ]
  },
  {
   "cell_type": "code",
   "execution_count": 44,
   "id": "eb85d3cc",
   "metadata": {},
   "outputs": [],
   "source": [
    "def scalar_mult(num, mat) :\n",
    "    new_mat = []\n",
    "    for i in mat :\n",
    "        part = []\n",
    "        for j in i :\n",
    "            part.append(num*j)\n",
    "        new_mat.append(part)\n",
    "    return new_mat"
   ]
  },
  {
   "cell_type": "code",
   "execution_count": 45,
   "id": "d94e2ad6",
   "metadata": {},
   "outputs": [
    {
     "data": {
      "text/plain": [
       "[[2, 4, 6], [8, 10, 12]]"
      ]
     },
     "execution_count": 45,
     "metadata": {},
     "output_type": "execute_result"
    }
   ],
   "source": [
    "\n",
    "scalar_mult(2,ar1)"
   ]
  },
  {
   "cell_type": "code",
   "execution_count": 47,
   "id": "f1a98580",
   "metadata": {},
   "outputs": [
    {
     "data": {
      "text/plain": [
       "array([[ 2,  4,  6],\n",
       "       [ 8, 10, 12]])"
      ]
     },
     "execution_count": 47,
     "metadata": {},
     "output_type": "execute_result"
    }
   ],
   "source": [
    "ar1*2"
   ]
  },
  {
   "cell_type": "code",
   "execution_count": 49,
   "id": "7b261052",
   "metadata": {},
   "outputs": [
    {
     "data": {
      "text/plain": [
       "(array([[1, 2, 3],\n",
       "        [4, 5, 6]]),\n",
       " array([[3, 4, 5],\n",
       "        [5, 6, 7]]))"
      ]
     },
     "execution_count": 49,
     "metadata": {},
     "output_type": "execute_result"
    }
   ],
   "source": [
    "ar1,ar2"
   ]
  },
  {
   "cell_type": "code",
   "execution_count": 50,
   "id": "7336ee12",
   "metadata": {},
   "outputs": [
    {
     "ename": "ValueError",
     "evalue": "matmul: Input operand 1 has a mismatch in its core dimension 0, with gufunc signature (n?,k),(k,m?)->(n?,m?) (size 2 is different from 3)",
     "output_type": "error",
     "traceback": [
      "\u001b[1;31m---------------------------------------------------------------------------\u001b[0m",
      "\u001b[1;31mValueError\u001b[0m                                Traceback (most recent call last)",
      "Input \u001b[1;32mIn [50]\u001b[0m, in \u001b[0;36m<cell line: 1>\u001b[1;34m()\u001b[0m\n\u001b[1;32m----> 1\u001b[0m \u001b[43mar1\u001b[49m\u001b[43m \u001b[49m\u001b[38;5;241;43m@\u001b[39;49m\u001b[43m \u001b[49m\u001b[43mar2\u001b[49m\n",
      "\u001b[1;31mValueError\u001b[0m: matmul: Input operand 1 has a mismatch in its core dimension 0, with gufunc signature (n?,k),(k,m?)->(n?,m?) (size 2 is different from 3)"
     ]
    }
   ],
   "source": [
    "ar1 @ ar2"
   ]
  },
  {
   "cell_type": "code",
   "execution_count": 51,
   "id": "4ffcbbf1",
   "metadata": {},
   "outputs": [],
   "source": [
    "# https://www.geeksforgeeks.org/matrix-manipulation-python/"
   ]
  },
  {
   "cell_type": "code",
   "execution_count": 52,
   "id": "8a9d6e60",
   "metadata": {},
   "outputs": [
    {
     "data": {
      "text/plain": [
       "array([[1., 1., 1.],\n",
       "       [1., 1., 1.]])"
      ]
     },
     "execution_count": 52,
     "metadata": {},
     "output_type": "execute_result"
    }
   ],
   "source": [
    "np.ones((2,3))"
   ]
  },
  {
   "cell_type": "code",
   "execution_count": 53,
   "id": "cb0dd84f",
   "metadata": {},
   "outputs": [],
   "source": [
    "def ones(shape):\n",
    "    ones = []\n",
    "    row = shape[0]\n",
    "    col = shape[1]\n",
    "    for i in row:\n",
    "        row=ones.append(1)\n",
    "        for j in col:\n",
    "            col= ones.append(1)\n",
    "            \n",
    "    return row,col\n",
    "        "
   ]
  },
  {
   "cell_type": "code",
   "execution_count": 54,
   "id": "80f3f13a",
   "metadata": {},
   "outputs": [
    {
     "ename": "TypeError",
     "evalue": "'int' object is not iterable",
     "output_type": "error",
     "traceback": [
      "\u001b[1;31m---------------------------------------------------------------------------\u001b[0m",
      "\u001b[1;31mTypeError\u001b[0m                                 Traceback (most recent call last)",
      "Input \u001b[1;32mIn [54]\u001b[0m, in \u001b[0;36m<cell line: 1>\u001b[1;34m()\u001b[0m\n\u001b[1;32m----> 1\u001b[0m \u001b[43mones\u001b[49m\u001b[43m(\u001b[49m\u001b[43m(\u001b[49m\u001b[38;5;241;43m2\u001b[39;49m\u001b[43m,\u001b[49m\u001b[38;5;241;43m3\u001b[39;49m\u001b[43m)\u001b[49m\u001b[43m)\u001b[49m\n",
      "Input \u001b[1;32mIn [53]\u001b[0m, in \u001b[0;36mones\u001b[1;34m(shape)\u001b[0m\n\u001b[0;32m      3\u001b[0m row \u001b[38;5;241m=\u001b[39m shape[\u001b[38;5;241m0\u001b[39m]\n\u001b[0;32m      4\u001b[0m col \u001b[38;5;241m=\u001b[39m shape[\u001b[38;5;241m1\u001b[39m]\n\u001b[1;32m----> 5\u001b[0m \u001b[38;5;28;01mfor\u001b[39;00m i \u001b[38;5;129;01min\u001b[39;00m row:\n\u001b[0;32m      6\u001b[0m     row\u001b[38;5;241m=\u001b[39mones\u001b[38;5;241m.\u001b[39mappend(\u001b[38;5;241m1\u001b[39m)\n\u001b[0;32m      7\u001b[0m     \u001b[38;5;28;01mfor\u001b[39;00m j \u001b[38;5;129;01min\u001b[39;00m col:\n",
      "\u001b[1;31mTypeError\u001b[0m: 'int' object is not iterable"
     ]
    }
   ],
   "source": [
    "ones((2,3))"
   ]
  },
  {
   "cell_type": "code",
   "execution_count": null,
   "id": "2c9039bf",
   "metadata": {},
   "outputs": [],
   "source": []
  }
 ],
 "metadata": {
  "kernelspec": {
   "display_name": "Python 3 (ipykernel)",
   "language": "python",
   "name": "python3"
  },
  "language_info": {
   "codemirror_mode": {
    "name": "ipython",
    "version": 3
   },
   "file_extension": ".py",
   "mimetype": "text/x-python",
   "name": "python",
   "nbconvert_exporter": "python",
   "pygments_lexer": "ipython3",
   "version": "3.9.12"
  }
 },
 "nbformat": 4,
 "nbformat_minor": 5
}
