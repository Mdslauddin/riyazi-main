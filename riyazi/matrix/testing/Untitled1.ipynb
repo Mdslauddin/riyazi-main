{
 "cells": [
  {
   "cell_type": "markdown",
   "id": "06799264",
   "metadata": {},
   "source": [
    "Operation on Matrix : \n",
    "\n",
    "1. add() :- This function is used to perform element wise matrix addition. \n",
    "2. subtract() :- This function is used to perform element wise matrix subtraction. \n",
    "3. divide() :- This function is used to perform element wise matrix division. "
   ]
  },
  {
   "cell_type": "code",
   "execution_count": 1,
   "id": "b31ee463",
   "metadata": {},
   "outputs": [
    {
     "name": "stdout",
     "output_type": "stream",
     "text": [
      "The element wise addition of matrix is : \n",
      "[[ 8 10]\n",
      " [13 15]]\n",
      "The element wise subtraction of matrix is : \n",
      "[[-6 -6]\n",
      " [-5 -5]]\n",
      "The element wise division of matrix is : \n",
      "[[0.14285714 0.25      ]\n",
      " [0.44444444 0.5       ]]\n"
     ]
    }
   ],
   "source": [
    "# Python code to demonstrate matrix operations\n",
    "# add(), subtract() and divide()\n",
    "\n",
    "# importing numpy for matrix operations\n",
    "import numpy\n",
    "\n",
    "# initializing matrices\n",
    "x = numpy.array([[1, 2], [4, 5]])\n",
    "y = numpy.array([[7, 8], [9, 10]])\n",
    "\n",
    "# using add() to add matrices\n",
    "print (\"The element wise addition of matrix is : \")\n",
    "print (numpy.add(x,y))\n",
    "\n",
    "# using subtract() to subtract matrices\n",
    "print (\"The element wise subtraction of matrix is : \")\n",
    "print (numpy.subtract(x,y))\n",
    "\n",
    "# using divide() to divide matrices\n",
    "print (\"The element wise division of matrix is : \")\n",
    "print (numpy.divide(x,y))\n"
   ]
  },
  {
   "cell_type": "code",
   "execution_count": 5,
   "id": "306c2ac3",
   "metadata": {},
   "outputs": [
    {
     "data": {
      "text/plain": [
       "9"
      ]
     },
     "execution_count": 5,
     "metadata": {},
     "output_type": "execute_result"
    }
   ],
   "source": [
    "import numpy as np\n",
    "np.add(4,5)"
   ]
  },
  {
   "cell_type": "code",
   "execution_count": 21,
   "id": "df49b153",
   "metadata": {},
   "outputs": [],
   "source": [
    "def add_matrix(X, Y):\n",
    "    \n",
    "    n = len(X)\n",
    "    if n == 1:\n",
    "        \n",
    "        return [[X[0][0] + Y[0][0]]]\n",
    "    S = []\n",
    "    \n",
    "    for i in range(n):\n",
    "        S.append([])\n",
    "        for j in range(n):\n",
    "            S[i].append(X[i][j] + Y[i][j])\n",
    "    return S"
   ]
  },
  {
   "cell_type": "code",
   "execution_count": 23,
   "id": "a2867c4d",
   "metadata": {},
   "outputs": [
    {
     "data": {
      "text/plain": [
       "[[8, 10], [13, 15]]"
      ]
     },
     "execution_count": 23,
     "metadata": {},
     "output_type": "execute_result"
    }
   ],
   "source": [
    "add_matrix(x,y)"
   ]
  },
  {
   "cell_type": "code",
   "execution_count": 25,
   "id": "a3ea8a7d",
   "metadata": {},
   "outputs": [],
   "source": [
    "def sub_matrix(X, Y):\n",
    "    \n",
    "    n = len(X)\n",
    "    if n == 1:\n",
    "        return [[X[0][0] - Y[0][0]]]\n",
    "    S = []\n",
    "    for i in range(n):\n",
    "        S.append([])\n",
    "        for j in range(n):\n",
    "           \n",
    "            S[i].append(X[i][j] - Y[i][j])\n",
    "    return S"
   ]
  },
  {
   "cell_type": "code",
   "execution_count": 26,
   "id": "84b746f2",
   "metadata": {},
   "outputs": [
    {
     "data": {
      "text/plain": [
       "[[-6, -6], [-5, -5]]"
      ]
     },
     "execution_count": 26,
     "metadata": {},
     "output_type": "execute_result"
    }
   ],
   "source": [
    "sub_matrix(x,y)"
   ]
  },
  {
   "cell_type": "code",
   "execution_count": 27,
   "id": "1bc640a7",
   "metadata": {},
   "outputs": [],
   "source": [
    "def mul_matrix(X, Y):\n",
    "    \n",
    "    Z = [[0 for i in range(len(X))] for j in range(len(Y))]\n",
    "    for i in range(len(X)):\n",
    "        for j in range(len(Y[0])):\n",
    "            for k in range(len(X[0])):\n",
    "                Z[i][j] += X[i][k] * Y[k][j]\n",
    "    return Z"
   ]
  },
  {
   "cell_type": "code",
   "execution_count": 28,
   "id": "bd11356b",
   "metadata": {},
   "outputs": [
    {
     "data": {
      "text/plain": [
       "[[25, 28], [73, 82]]"
      ]
     },
     "execution_count": 28,
     "metadata": {},
     "output_type": "execute_result"
    }
   ],
   "source": [
    "mul_matrix(x,y)"
   ]
  },
  {
   "cell_type": "code",
   "execution_count": 29,
   "id": "3898707e",
   "metadata": {},
   "outputs": [],
   "source": [
    "def divide_matrix(A):\n",
    "    mid = len(A)//2\n",
    "    m_11 = [M[:mid] for M in A[:mid]]\n",
    "    m_12 = [M[mid:] for M in A[:mid]]\n",
    "    m_21 = [M[:mid] for M in A[mid:]]\n",
    "    m_22 = [M[mid:] for M in A[mid:]]\n",
    "\n",
    "    return (m_11, m_12, m_21, m_22)"
   ]
  },
  {
   "cell_type": "code",
   "execution_count": 30,
   "id": "da03f33f",
   "metadata": {},
   "outputs": [],
   "source": [
    "def merge_matrix(matrix_11, matrix_12, matrix_21, matrix_22):\n",
    "    matrix_total = []\n",
    "    rows1 = len(matrix_11)\n",
    "    rows2 = len(matrix_21)\n",
    "    for i in range(rows1):\n",
    "        matrix_total.append(matrix_11[i] + matrix_12[i])\n",
    "    for j in range(rows2):\n",
    "        matrix_total.append(matrix_21[j] + matrix_22[j])\n",
    "    return matrix_tota"
   ]
  },
  {
   "cell_type": "code",
   "execution_count": 31,
   "id": "352b3039",
   "metadata": {},
   "outputs": [],
   "source": [
    "def strassen(X, Y):\n",
    "    if len(X) == 1:\n",
    "        return [[X[0][0] * Y[0][0]]]\n",
    "    else:\n",
    "        A, B, C, D = divide_matrix(X)\n",
    "        E, F, G, H = divide_matrix(Y)\n",
    "    \n",
    "        P1 = strassen(A, sub_matrix(F,H))\n",
    "        P2 = strassen(add_matrix(A, B), H)\n",
    "        P3 = strassen(add_matrix(C, D), E)\n",
    "        P4 = strassen(D, sub_matrix(G, E))\n",
    "        P5 = strassen(add_matrix(A, D), add_matrix(E, H))\n",
    "        P6 = strassen(sub_matrix(B, D), add_matrix(G, H))\n",
    "        P7 = strassen(sub_matrix(A, C), add_matrix(E, F))\n",
    "    \n",
    "        Z11 = add_matrix(sub_matrix(add_matrix(P5, P4), P2), P6)\n",
    "        Z12 = add_matrix(P1, P2)\n",
    "        Z21 = add_matrix(P3, P4)\n",
    "        Z22 = sub_matrix(sub_matrix(add_matrix(P5, P1), P3), P7)\n",
    "\n",
    "        return merge_matrix(Z11, Z12, Z21, Z22)"
   ]
  },
  {
   "cell_type": "code",
   "execution_count": 33,
   "id": "c3a4f4a5",
   "metadata": {},
   "outputs": [
    {
     "name": "stdout",
     "output_type": "stream",
     "text": [
      "Strassen\n"
     ]
    },
    {
     "ename": "NameError",
     "evalue": "name 'matrix_tota' is not defined",
     "output_type": "error",
     "traceback": [
      "\u001b[1;31m---------------------------------------------------------------------------\u001b[0m",
      "\u001b[1;31mNameError\u001b[0m                                 Traceback (most recent call last)",
      "Input \u001b[1;32mIn [33]\u001b[0m, in \u001b[0;36m<cell line: 5>\u001b[1;34m()\u001b[0m\n\u001b[0;32m      2\u001b[0m B \u001b[38;5;241m=\u001b[39m [[\u001b[38;5;241m1\u001b[39m,\u001b[38;5;241m1\u001b[39m,\u001b[38;5;241m1\u001b[39m,\u001b[38;5;241m1\u001b[39m],[\u001b[38;5;241m1\u001b[39m,\u001b[38;5;241m1\u001b[39m,\u001b[38;5;241m1\u001b[39m,\u001b[38;5;241m1\u001b[39m],[\u001b[38;5;241m1\u001b[39m,\u001b[38;5;241m1\u001b[39m,\u001b[38;5;241m1\u001b[39m,\u001b[38;5;241m1\u001b[39m],[\u001b[38;5;241m1\u001b[39m,\u001b[38;5;241m1\u001b[39m,\u001b[38;5;241m1\u001b[39m,\u001b[38;5;241m0\u001b[39m]]\n\u001b[0;32m      4\u001b[0m \u001b[38;5;28mprint\u001b[39m(\u001b[38;5;124m\"\u001b[39m\u001b[38;5;124mStrassen\u001b[39m\u001b[38;5;124m\"\u001b[39m)\n\u001b[1;32m----> 5\u001b[0m \u001b[38;5;28mprint\u001b[39m(\u001b[38;5;241m*\u001b[39m\u001b[43mstrassen\u001b[49m\u001b[43m(\u001b[49m\u001b[43mA\u001b[49m\u001b[43m,\u001b[49m\u001b[43mB\u001b[49m\u001b[43m)\u001b[49m, sep\u001b[38;5;241m=\u001b[39m\u001b[38;5;124m'\u001b[39m\u001b[38;5;130;01m\\n\u001b[39;00m\u001b[38;5;124m'\u001b[39m)\n\u001b[0;32m      6\u001b[0m \u001b[38;5;28mprint\u001b[39m(\u001b[38;5;124m\"\u001b[39m\u001b[38;5;130;01m\\n\u001b[39;00m\u001b[38;5;124mClásica\u001b[39m\u001b[38;5;124m\"\u001b[39m)\n\u001b[0;32m      7\u001b[0m \u001b[38;5;28mprint\u001b[39m(\u001b[38;5;241m*\u001b[39mmul_matrix(A,B), sep\u001b[38;5;241m=\u001b[39m\u001b[38;5;124m'\u001b[39m\u001b[38;5;130;01m\\n\u001b[39;00m\u001b[38;5;124m'\u001b[39m)\n",
      "Input \u001b[1;32mIn [31]\u001b[0m, in \u001b[0;36mstrassen\u001b[1;34m(X, Y)\u001b[0m\n\u001b[0;32m      5\u001b[0m A, B, C, D \u001b[38;5;241m=\u001b[39m divide_matrix(X)\n\u001b[0;32m      6\u001b[0m E, F, G, H \u001b[38;5;241m=\u001b[39m divide_matrix(Y)\n\u001b[1;32m----> 8\u001b[0m P1 \u001b[38;5;241m=\u001b[39m \u001b[43mstrassen\u001b[49m\u001b[43m(\u001b[49m\u001b[43mA\u001b[49m\u001b[43m,\u001b[49m\u001b[43m \u001b[49m\u001b[43msub_matrix\u001b[49m\u001b[43m(\u001b[49m\u001b[43mF\u001b[49m\u001b[43m,\u001b[49m\u001b[43mH\u001b[49m\u001b[43m)\u001b[49m\u001b[43m)\u001b[49m\n\u001b[0;32m      9\u001b[0m P2 \u001b[38;5;241m=\u001b[39m strassen(add_matrix(A, B), H)\n\u001b[0;32m     10\u001b[0m P3 \u001b[38;5;241m=\u001b[39m strassen(add_matrix(C, D), E)\n",
      "Input \u001b[1;32mIn [31]\u001b[0m, in \u001b[0;36mstrassen\u001b[1;34m(X, Y)\u001b[0m\n\u001b[0;32m     18\u001b[0m Z21 \u001b[38;5;241m=\u001b[39m add_matrix(P3, P4)\n\u001b[0;32m     19\u001b[0m Z22 \u001b[38;5;241m=\u001b[39m sub_matrix(sub_matrix(add_matrix(P5, P1), P3), P7)\n\u001b[1;32m---> 21\u001b[0m \u001b[38;5;28;01mreturn\u001b[39;00m \u001b[43mmerge_matrix\u001b[49m\u001b[43m(\u001b[49m\u001b[43mZ11\u001b[49m\u001b[43m,\u001b[49m\u001b[43m \u001b[49m\u001b[43mZ12\u001b[49m\u001b[43m,\u001b[49m\u001b[43m \u001b[49m\u001b[43mZ21\u001b[49m\u001b[43m,\u001b[49m\u001b[43m \u001b[49m\u001b[43mZ22\u001b[49m\u001b[43m)\u001b[49m\n",
      "Input \u001b[1;32mIn [30]\u001b[0m, in \u001b[0;36mmerge_matrix\u001b[1;34m(matrix_11, matrix_12, matrix_21, matrix_22)\u001b[0m\n\u001b[0;32m      7\u001b[0m \u001b[38;5;28;01mfor\u001b[39;00m j \u001b[38;5;129;01min\u001b[39;00m \u001b[38;5;28mrange\u001b[39m(rows2):\n\u001b[0;32m      8\u001b[0m     matrix_total\u001b[38;5;241m.\u001b[39mappend(matrix_21[j] \u001b[38;5;241m+\u001b[39m matrix_22[j])\n\u001b[1;32m----> 9\u001b[0m \u001b[38;5;28;01mreturn\u001b[39;00m \u001b[43mmatrix_tota\u001b[49m\n",
      "\u001b[1;31mNameError\u001b[0m: name 'matrix_tota' is not defined"
     ]
    }
   ],
   "source": [
    "A = [[1,2,3,4],[5,6,7,8],[9,10,11,12],[13,14,15,16]]\n",
    "B = [[1,1,1,1],[1,1,1,1],[1,1,1,1],[1,1,1,0]]\n",
    "\n",
    "print(\"Strassen\")\n",
    "print(*strassen(A,B), sep='\\n')\n",
    "print(\"\\nClásica\")\n",
    "print(*mul_matrix(A,B), sep='\\n')"
   ]
  },
  {
   "cell_type": "code",
   "execution_count": null,
   "id": "b985fd44",
   "metadata": {},
   "outputs": [],
   "source": []
  },
  {
   "cell_type": "code",
   "execution_count": null,
   "id": "860cf734",
   "metadata": {},
   "outputs": [],
   "source": []
  },
  {
   "cell_type": "code",
   "execution_count": null,
   "id": "9eed558b",
   "metadata": {},
   "outputs": [],
   "source": []
  },
  {
   "cell_type": "code",
   "execution_count": null,
   "id": "fbe304e5",
   "metadata": {},
   "outputs": [],
   "source": []
  },
  {
   "cell_type": "code",
   "execution_count": null,
   "id": "b96934c4",
   "metadata": {},
   "outputs": [],
   "source": []
  },
  {
   "cell_type": "code",
   "execution_count": null,
   "id": "4a36eedf",
   "metadata": {},
   "outputs": [],
   "source": []
  },
  {
   "cell_type": "code",
   "execution_count": null,
   "id": "1dfcb87c",
   "metadata": {},
   "outputs": [],
   "source": []
  },
  {
   "cell_type": "code",
   "execution_count": null,
   "id": "945de8e2",
   "metadata": {},
   "outputs": [],
   "source": []
  },
  {
   "cell_type": "code",
   "execution_count": null,
   "id": "67acb0d9",
   "metadata": {},
   "outputs": [],
   "source": []
  },
  {
   "cell_type": "code",
   "execution_count": null,
   "id": "4f881d1e",
   "metadata": {},
   "outputs": [],
   "source": []
  },
  {
   "cell_type": "code",
   "execution_count": null,
   "id": "edff879e",
   "metadata": {},
   "outputs": [],
   "source": []
  },
  {
   "cell_type": "code",
   "execution_count": 19,
   "id": "00d2e181",
   "metadata": {},
   "outputs": [],
   "source": [
    "def add(X,Y):\n",
    "    \n",
    "    for i in range(len(X)):\n",
    "   # iterate through columns\n",
    "        for j in range(len(X[0])):\n",
    "        \n",
    "            result[i][j] = X[i][j] + Y[i][j]\n",
    "\n",
    "    for r in result:\n",
    "    \n",
    "        print(r)"
   ]
  },
  {
   "cell_type": "code",
   "execution_count": 20,
   "id": "e1197515",
   "metadata": {},
   "outputs": [
    {
     "ename": "NameError",
     "evalue": "name 'result' is not defined",
     "output_type": "error",
     "traceback": [
      "\u001b[1;31m---------------------------------------------------------------------------\u001b[0m",
      "\u001b[1;31mNameError\u001b[0m                                 Traceback (most recent call last)",
      "Input \u001b[1;32mIn [20]\u001b[0m, in \u001b[0;36m<cell line: 1>\u001b[1;34m()\u001b[0m\n\u001b[1;32m----> 1\u001b[0m \u001b[43madd\u001b[49m\u001b[43m(\u001b[49m\u001b[43mx\u001b[49m\u001b[43m,\u001b[49m\u001b[43my\u001b[49m\u001b[43m)\u001b[49m\n",
      "Input \u001b[1;32mIn [19]\u001b[0m, in \u001b[0;36madd\u001b[1;34m(X, Y)\u001b[0m\n\u001b[0;32m      3\u001b[0m  \u001b[38;5;28;01mfor\u001b[39;00m i \u001b[38;5;129;01min\u001b[39;00m \u001b[38;5;28mrange\u001b[39m(\u001b[38;5;28mlen\u001b[39m(X)):\n\u001b[0;32m      4\u001b[0m \u001b[38;5;66;03m# iterate through columns\u001b[39;00m\n\u001b[0;32m      5\u001b[0m      \u001b[38;5;28;01mfor\u001b[39;00m j \u001b[38;5;129;01min\u001b[39;00m \u001b[38;5;28mrange\u001b[39m(\u001b[38;5;28mlen\u001b[39m(X[\u001b[38;5;241m0\u001b[39m])):\n\u001b[1;32m----> 7\u001b[0m          \u001b[43mresult\u001b[49m[i][j] \u001b[38;5;241m=\u001b[39m X[i][j] \u001b[38;5;241m+\u001b[39m Y[i][j]\n\u001b[0;32m      9\u001b[0m  \u001b[38;5;28;01mfor\u001b[39;00m r \u001b[38;5;129;01min\u001b[39;00m result:\n\u001b[0;32m     11\u001b[0m      \u001b[38;5;28mprint\u001b[39m(r)\n",
      "\u001b[1;31mNameError\u001b[0m: name 'result' is not defined"
     ]
    }
   ],
   "source": [
    "add(x,y)"
   ]
  },
  {
   "cell_type": "code",
   "execution_count": null,
   "id": "98060a62",
   "metadata": {},
   "outputs": [],
   "source": [
    "for i in range(len(X)):\n",
    "   # iterate through columns\n",
    "   for j in range(len(X[0])):\n",
    "        \n",
    "        result[i][j] = X[i][j] + Y[i][j]\n",
    "\n",
    "for r in result:\n",
    "    \n",
    "    print(r)"
   ]
  },
  {
   "cell_type": "code",
   "execution_count": null,
   "id": "0a61588a",
   "metadata": {},
   "outputs": [],
   "source": []
  },
  {
   "cell_type": "code",
   "execution_count": null,
   "id": "d129d8d6",
   "metadata": {},
   "outputs": [],
   "source": []
  },
  {
   "cell_type": "code",
   "execution_count": null,
   "id": "040eaf81",
   "metadata": {},
   "outputs": [],
   "source": []
  },
  {
   "cell_type": "code",
   "execution_count": null,
   "id": "bc1ae2fb",
   "metadata": {},
   "outputs": [],
   "source": []
  },
  {
   "cell_type": "code",
   "execution_count": null,
   "id": "ab93577e",
   "metadata": {},
   "outputs": [],
   "source": []
  },
  {
   "cell_type": "code",
   "execution_count": null,
   "id": "ea047261",
   "metadata": {},
   "outputs": [],
   "source": []
  },
  {
   "cell_type": "markdown",
   "id": "ce94346c",
   "metadata": {},
   "source": [
    "4. multiply() :- This function is used to perform element wise matrix multiplication. \n",
    "5. dot() :- This function is used to compute the matrix multiplication, rather than element wise multiplication"
   ]
  },
  {
   "cell_type": "code",
   "execution_count": 2,
   "id": "3cb7d03e",
   "metadata": {},
   "outputs": [
    {
     "name": "stdout",
     "output_type": "stream",
     "text": [
      "The element wise multiplication of matrix is : \n",
      "[[ 7 16]\n",
      " [36 50]]\n",
      "The product of matrices is : \n",
      "[[25 28]\n",
      " [73 82]]\n"
     ]
    }
   ],
   "source": [
    "# Python code to demonstrate matrix operations\n",
    "# multiply() and dot()\n",
    "\n",
    "# importing numpy for matrix operations\n",
    "import numpy\n",
    "\n",
    "# initializing matrices\n",
    "x = numpy.array([[1, 2], [4, 5]])\n",
    "y = numpy.array([[7, 8], [9, 10]])\n",
    "\n",
    "# using multiply() to multiply matrices element wise\n",
    "print (\"The element wise multiplication of matrix is : \")\n",
    "print (numpy.multiply(x,y))\n",
    "\n",
    "# using dot() to multiply matrices\n",
    "print (\"The product of matrices is : \")\n",
    "print (numpy.dot(x,y))\n"
   ]
  },
  {
   "cell_type": "markdown",
   "id": "6b51bace",
   "metadata": {},
   "source": [
    "6. sqrt() :- This function is used to compute the square root of each element of matrix. \n",
    "7. sum(x,axis) :- This function is used to add all the elements in matrix. Optional “axis” argument computes the column sum if axis is 0 and row sum if axis is 1. \n",
    "8. “T” :- This argument is used to transpose the specified matrix. \n",
    "Implementation:"
   ]
  },
  {
   "cell_type": "code",
   "execution_count": 3,
   "id": "31ec9c8b",
   "metadata": {},
   "outputs": [
    {
     "name": "stdout",
     "output_type": "stream",
     "text": [
      "The element wise square root is : \n",
      "[[1.         1.41421356]\n",
      " [2.         2.23606798]]\n",
      "The summation of all matrix element is : \n",
      "34\n",
      "The column wise summation of all matrix is : \n",
      "[16 18]\n",
      "The row wise summation of all matrix is : \n",
      "[15 19]\n",
      "The transpose of given matrix is : \n",
      "[[1 4]\n",
      " [2 5]]\n"
     ]
    }
   ],
   "source": [
    "# Python code to demonstrate matrix operations\n",
    "# sqrt(), sum() and \"T\"\n",
    "\n",
    "# importing numpy for matrix operations\n",
    "import numpy\n",
    "\n",
    "# initializing matrices\n",
    "x = numpy.array([[1, 2], [4, 5]])\n",
    "y = numpy.array([[7, 8], [9, 10]])\n",
    "\n",
    "# using sqrt() to print the square root of matrix\n",
    "print (\"The element wise square root is : \")\n",
    "print (numpy.sqrt(x))\n",
    "\n",
    "# using sum() to print summation of all elements of matrix\n",
    "print (\"The summation of all matrix element is : \")\n",
    "print (numpy.sum(y))\n",
    "\n",
    "# using sum(axis=0) to print summation of all columns of matrix\n",
    "print (\"The column wise summation of all matrix is : \")\n",
    "print (numpy.sum(y,axis=0))\n",
    "\n",
    "# using sum(axis=1) to print summation of all columns of matrix\n",
    "print (\"The row wise summation of all matrix is : \")\n",
    "print (numpy.sum(y,axis=1))\n",
    "\n",
    "# using \"T\" to transpose the matrix\n",
    "print (\"The transpose of given matrix is : \")\n",
    "print (x.T)\n"
   ]
  },
  {
   "cell_type": "code",
   "execution_count": null,
   "id": "462b25cd",
   "metadata": {},
   "outputs": [],
   "source": []
  }
 ],
 "metadata": {
  "kernelspec": {
   "display_name": "Python 3 (ipykernel)",
   "language": "python",
   "name": "python3"
  },
  "language_info": {
   "codemirror_mode": {
    "name": "ipython",
    "version": 3
   },
   "file_extension": ".py",
   "mimetype": "text/x-python",
   "name": "python",
   "nbconvert_exporter": "python",
   "pygments_lexer": "ipython3",
   "version": "3.9.12"
  }
 },
 "nbformat": 4,
 "nbformat_minor": 5
}
