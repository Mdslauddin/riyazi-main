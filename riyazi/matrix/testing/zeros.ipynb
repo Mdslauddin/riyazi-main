{
 "cells": [
  {
   "cell_type": "code",
   "execution_count": 1,
   "id": "e2339c6e",
   "metadata": {},
   "outputs": [],
   "source": [
    "import numpy as np "
   ]
  },
  {
   "cell_type": "code",
   "execution_count": 2,
   "id": "66112068",
   "metadata": {},
   "outputs": [],
   "source": [
    "a = np.array([[2,3,4],[5,6,7]])"
   ]
  },
  {
   "cell_type": "code",
   "execution_count": 3,
   "id": "11f64894",
   "metadata": {},
   "outputs": [
    {
     "data": {
      "text/plain": [
       "array([[0., 0.],\n",
       "       [0., 0.]])"
      ]
     },
     "execution_count": 3,
     "metadata": {},
     "output_type": "execute_result"
    }
   ],
   "source": [
    "arr = np.zeros([2,2] )\n",
    "arr"
   ]
  },
  {
   "cell_type": "code",
   "execution_count": 4,
   "id": "9bf0ec4c",
   "metadata": {},
   "outputs": [
    {
     "data": {
      "text/plain": [
       "array([[0, 0],\n",
       "       [0, 0]], dtype=int64)"
      ]
     },
     "execution_count": 4,
     "metadata": {},
     "output_type": "execute_result"
    }
   ],
   "source": [
    "arr = np.zeros([2,2], dtype=np.int64, )\n",
    "arr"
   ]
  },
  {
   "cell_type": "code",
   "execution_count": 5,
   "id": "94617f64",
   "metadata": {},
   "outputs": [
    {
     "data": {
      "text/plain": [
       "array([[0., 0.],\n",
       "       [0., 0.]])"
      ]
     },
     "execution_count": 5,
     "metadata": {},
     "output_type": "execute_result"
    }
   ],
   "source": [
    "arr = np.zeros([2,2]  )\n",
    "arr"
   ]
  },
  {
   "cell_type": "code",
   "execution_count": 6,
   "id": "6d97d785",
   "metadata": {},
   "outputs": [
    {
     "data": {
      "text/plain": [
       "array([[0., 0., 0.],\n",
       "       [0., 0., 0.],\n",
       "       [0., 0., 0.]])"
      ]
     },
     "execution_count": 6,
     "metadata": {},
     "output_type": "execute_result"
    }
   ],
   "source": [
    "arr = np.zeros( [3,3])\n",
    "arr"
   ]
  },
  {
   "cell_type": "code",
   "execution_count": null,
   "id": "27efa437",
   "metadata": {},
   "outputs": [],
   "source": []
  },
  {
   "cell_type": "code",
   "execution_count": null,
   "id": "6b76f404",
   "metadata": {},
   "outputs": [],
   "source": []
  },
  {
   "cell_type": "code",
   "execution_count": null,
   "id": "d42e5809",
   "metadata": {},
   "outputs": [],
   "source": []
  },
  {
   "cell_type": "code",
   "execution_count": null,
   "id": "22a283b2",
   "metadata": {},
   "outputs": [],
   "source": []
  },
  {
   "cell_type": "code",
   "execution_count": null,
   "id": "73fa57f5",
   "metadata": {},
   "outputs": [],
   "source": []
  },
  {
   "cell_type": "code",
   "execution_count": null,
   "id": "f756f72e",
   "metadata": {},
   "outputs": [],
   "source": []
  },
  {
   "cell_type": "code",
   "execution_count": null,
   "id": "e0deec57",
   "metadata": {},
   "outputs": [],
   "source": [
    "def zeros(ctx, *args, **kwargs):\n",
    "        \"\"\"\n",
    "        Create matrix m x n filled with zeros.\n",
    "        One given dimension will create square matrix n x n.\n",
    "\n",
    "        Example:\n",
    "        >>> from mpmath import zeros, mp\n",
    "        >>> mp.pretty = False\n",
    "        >>> zeros(2)\n",
    "        matrix(\n",
    "        [['0.0', '0.0'],\n",
    "         ['0.0', '0.0']])\n",
    "        \"\"\"\n",
    "        if len(args) == 1:\n",
    "            m = n = args[0]\n",
    "        elif len(args) == 2:\n",
    "            m = args[0]\n",
    "            n = args[1]\n",
    "        else:\n",
    "            raise TypeError('zeros expected at most 2 arguments, got %i' % len(args))\n",
    "        A = ctx.matrix(m, n, **kwargs)\n",
    "        for i in xrange(m):\n",
    "            for j in xrange(n):\n",
    "                A[i,j] = 0\n",
    "        return A"
   ]
  },
  {
   "cell_type": "code",
   "execution_count": null,
   "id": "ddb733eb",
   "metadata": {},
   "outputs": [],
   "source": [
    "def zeros_matrix(rows, cols):\n",
    "    \"\"\"\n",
    "    Creates a matrix filled with zeros.\n",
    "        :param rows: the number of rows the matrix should have\n",
    "        :param cols: the number of columns the matrix should have\n",
    " \n",
    "        :return: list of lists that form the matrix\n",
    "    \"\"\"\n",
    "    M = []\n",
    "    while len(M) < rows:\n",
    "        M.append([])\n",
    "        while len(M[-1]) < cols:\n",
    "            M[-1].append(0.0)\n",
    " \n",
    "    return M"
   ]
  },
  {
   "cell_type": "code",
   "execution_count": 7,
   "id": "d4d6b348",
   "metadata": {},
   "outputs": [],
   "source": [
    "def zero_out(matrix: list) -> list:\n",
    "    \"\"\"Given an NxM matrix zero out all rows and columns that contain at least one zero.\"\"\"\n",
    "    zero_rows, zero_cols = locate_zero_rows(matrix), locate_zero_cols(matrix)\n",
    "\n",
    "    for row_num, row in enumerate(matrix):\n",
    "        for col_num, element in enumerate(row):\n",
    "            if zero_rows[row_num] or zero_cols[col_num]:\n",
    "                matrix[row_num][col_num] = 0\n",
    "    return matrix"
   ]
  },
  {
   "cell_type": "code",
   "execution_count": null,
   "id": "7b0858af",
   "metadata": {},
   "outputs": [],
   "source": []
  }
 ],
 "metadata": {
  "kernelspec": {
   "display_name": "Python 3 (ipykernel)",
   "language": "python",
   "name": "python3"
  },
  "language_info": {
   "codemirror_mode": {
    "name": "ipython",
    "version": 3
   },
   "file_extension": ".py",
   "mimetype": "text/x-python",
   "name": "python",
   "nbconvert_exporter": "python",
   "pygments_lexer": "ipython3",
   "version": "3.9.12"
  }
 },
 "nbformat": 4,
 "nbformat_minor": 5
}
