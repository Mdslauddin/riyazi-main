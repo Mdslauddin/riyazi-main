{
 "cells": [
  {
   "cell_type": "code",
   "execution_count": 1,
   "id": "df149660",
   "metadata": {},
   "outputs": [],
   "source": [
    "def hilbert(ctx, m, n=None):\n",
    "        \"\"\"\n",
    "        Create (pseudo) hilbert matrix m x n.\n",
    "        One given dimension will create hilbert matrix n x n.\n",
    "\n",
    "        The matrix is very ill-conditioned and symmetric, positive definite if\n",
    "        square.\n",
    "        \"\"\"\n",
    "        if n is None:\n",
    "            n = m\n",
    "        A = ctx.matrix(m, n)\n",
    "        for i in xrange(m):\n",
    "            for j in xrange(n):\n",
    "                A[i,j] = ctx.one / (i + j + 1)\n",
    "        return A"
   ]
  },
  {
   "cell_type": "code",
   "execution_count": null,
   "id": "0394b93b",
   "metadata": {},
   "outputs": [],
   "source": []
  }
 ],
 "metadata": {
  "kernelspec": {
   "display_name": "Python 3 (ipykernel)",
   "language": "python",
   "name": "python3"
  },
  "language_info": {
   "codemirror_mode": {
    "name": "ipython",
    "version": 3
   },
   "file_extension": ".py",
   "mimetype": "text/x-python",
   "name": "python",
   "nbconvert_exporter": "python",
   "pygments_lexer": "ipython3",
   "version": "3.9.12"
  }
 },
 "nbformat": 4,
 "nbformat_minor": 5
}
