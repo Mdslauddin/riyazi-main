{
 "cells": [
  {
   "cell_type": "code",
   "execution_count": 1,
   "id": "95171c8c",
   "metadata": {},
   "outputs": [],
   "source": [
    "def ones(ctx,z *args, **kwargs):\n",
    "        \"\"\"\n",
    "        Create matrix m x n filled with ones.\n",
    "        One given dimension will create square matrix n x n.\n",
    "\n",
    "        Example:\n",
    "        >>> from mpmath import ones, mp\n",
    "        >>> mp.pretty = False\n",
    "        >>> ones(2)\n",
    "        matrix(\n",
    "        [['1.0', '1.0'],\n",
    "         ['1.0', '1.0']])\n",
    "        \"\"\"\n",
    "        if len(args) == 1:\n",
    "            m = n = args[0]\n",
    "        elif len(args) == 2:\n",
    "            m = args[0]\n",
    "            n = args[1]\n",
    "        else:\n",
    "            raise TypeError('ones expected at most 2 arguments, got %i' % len(args))\n",
    "        A = ctx.matrix(m, n, **kwargs)\n",
    "        for i in xrange(m):\n",
    "            for j in xrange(n):\n",
    "                A[i,j] = 1\n",
    "        return A"
   ]
  },
  {
   "cell_type": "code",
   "execution_count": 3,
   "id": "343c989e",
   "metadata": {},
   "outputs": [
    {
     "ename": "TypeError",
     "evalue": "Cannot interpret '2' as a data type",
     "output_type": "error",
     "traceback": [
      "\u001b[1;31m---------------------------------------------------------------------------\u001b[0m",
      "\u001b[1;31mTypeError\u001b[0m                                 Traceback (most recent call last)",
      "Input \u001b[1;32mIn [3]\u001b[0m, in \u001b[0;36m<cell line: 1>\u001b[1;34m()\u001b[0m\n\u001b[1;32m----> 1\u001b[0m \u001b[43mones\u001b[49m\u001b[43m(\u001b[49m\u001b[38;5;241;43m2\u001b[39;49m\u001b[43m)\u001b[49m\n",
      "Input \u001b[1;32mIn [1]\u001b[0m, in \u001b[0;36mones\u001b[1;34m(*args, **kwargs)\u001b[0m\n\u001b[0;32m     20\u001b[0m \u001b[38;5;28;01melse\u001b[39;00m:\n\u001b[0;32m     21\u001b[0m     \u001b[38;5;28;01mraise\u001b[39;00m \u001b[38;5;167;01mTypeError\u001b[39;00m(\u001b[38;5;124m'\u001b[39m\u001b[38;5;124mones expected at most 2 arguments, got \u001b[39m\u001b[38;5;132;01m%i\u001b[39;00m\u001b[38;5;124m'\u001b[39m \u001b[38;5;241m%\u001b[39m \u001b[38;5;28mlen\u001b[39m(args))\n\u001b[1;32m---> 22\u001b[0m A \u001b[38;5;241m=\u001b[39m np\u001b[38;5;241m.\u001b[39marray(m, n, \u001b[38;5;241m*\u001b[39m\u001b[38;5;241m*\u001b[39mkwargs)\n\u001b[0;32m     23\u001b[0m \u001b[38;5;28;01mfor\u001b[39;00m i \u001b[38;5;129;01min\u001b[39;00m xrange(m):\n\u001b[0;32m     24\u001b[0m     \u001b[38;5;28;01mfor\u001b[39;00m j \u001b[38;5;129;01min\u001b[39;00m xrange(n):\n",
      "\u001b[1;31mTypeError\u001b[0m: Cannot interpret '2' as a data type"
     ]
    }
   ],
   "source": [
    "ones(2)"
   ]
  },
  {
   "cell_type": "code",
   "execution_count": null,
   "id": "d8050dad",
   "metadata": {},
   "outputs": [],
   "source": []
  }
 ],
 "metadata": {
  "kernelspec": {
   "display_name": "Python 3 (ipykernel)",
   "language": "python",
   "name": "python3"
  },
  "language_info": {
   "codemirror_mode": {
    "name": "ipython",
    "version": 3
   },
   "file_extension": ".py",
   "mimetype": "text/x-python",
   "name": "python",
   "nbconvert_exporter": "python",
   "pygments_lexer": "ipython3",
   "version": "3.9.12"
  }
 },
 "nbformat": 4,
 "nbformat_minor": 5
}
