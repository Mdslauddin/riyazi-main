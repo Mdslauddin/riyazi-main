{
 "cells": [
  {
   "cell_type": "code",
   "execution_count": 1,
   "id": "38640165",
   "metadata": {},
   "outputs": [],
   "source": [
    "def diag(ctx, diagonal, **kwargs):\n",
    "        \"\"\"\n",
    "        Create square diagonal matrix using given list.\n",
    "\n",
    "        Example:\n",
    "        >>> from mpmath import diag, mp\n",
    "        >>> mp.pretty = False\n",
    "        >>> diag([1, 2, 3])\n",
    "        matrix(\n",
    "        [['1.0', '0.0', '0.0'],\n",
    "         ['0.0', '2.0', '0.0'],\n",
    "         ['0.0', '0.0', '3.0']])\n",
    "        \"\"\"\n",
    "        A = ctx.matrix(len(diagonal), **kwargs)\n",
    "        for i in xrange(len(diagonal)):\n",
    "            A[i,i] = diagonal[i]\n",
    "        return A"
   ]
  },
  {
   "cell_type": "code",
   "execution_count": null,
   "id": "d27334fc",
   "metadata": {},
   "outputs": [],
   "source": []
  }
 ],
 "metadata": {
  "kernelspec": {
   "display_name": "Python 3 (ipykernel)",
   "language": "python",
   "name": "python3"
  },
  "language_info": {
   "codemirror_mode": {
    "name": "ipython",
    "version": 3
   },
   "file_extension": ".py",
   "mimetype": "text/x-python",
   "name": "python",
   "nbconvert_exporter": "python",
   "pygments_lexer": "ipython3",
   "version": "3.9.12"
  }
 },
 "nbformat": 4,
 "nbformat_minor": 5
}
