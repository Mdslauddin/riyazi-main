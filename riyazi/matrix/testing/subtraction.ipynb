{
 "cells": [
  {
   "cell_type": "code",
   "execution_count": 1,
   "id": "0e06fc88",
   "metadata": {},
   "outputs": [],
   "source": [
    "def matrix_subtraction(A, B):\n",
    "    \"\"\"\n",
    "    Subtracts matrix B from matrix A and returns difference\n",
    "        :param A: The first matrix\n",
    "        :param B: The second matrix\n",
    " \n",
    "        :return: Matrix difference\n",
    "    \"\"\"\n",
    "    # Section 1: Ensure dimensions are valid for matrix subtraction\n",
    "    rowsA = len(A)\n",
    "    colsA = len(A[0])\n",
    "    rowsB = len(B)\n",
    "    colsB = len(B[0])\n",
    "    if rowsA != rowsB or colsA != colsB:\n",
    "        raise ArithmeticError('Matrices are NOT the same size.')\n",
    " \n",
    "    # Section 2: Create a new matrix for the matrix difference\n",
    "    C = zeros_matrix(rowsA, colsB)\n",
    " \n",
    "    # Section 3: Perform element by element subtraction\n",
    "    for i in range(rowsA):\n",
    "        for j in range(colsB):\n",
    "            C[i][j] = A[i][j] - B[i][j]\n",
    " \n",
    "    return C"
   ]
  },
  {
   "cell_type": "code",
   "execution_count": null,
   "id": "c2d1c90c",
   "metadata": {},
   "outputs": [],
   "source": []
  }
 ],
 "metadata": {
  "kernelspec": {
   "display_name": "Python 3 (ipykernel)",
   "language": "python",
   "name": "python3"
  },
  "language_info": {
   "codemirror_mode": {
    "name": "ipython",
    "version": 3
   },
   "file_extension": ".py",
   "mimetype": "text/x-python",
   "name": "python",
   "nbconvert_exporter": "python",
   "pygments_lexer": "ipython3",
   "version": "3.9.12"
  }
 },
 "nbformat": 4,
 "nbformat_minor": 5
}
