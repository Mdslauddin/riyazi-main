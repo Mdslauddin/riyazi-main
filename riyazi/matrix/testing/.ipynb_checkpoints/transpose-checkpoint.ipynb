{
 "cells": [
  {
   "cell_type": "code",
   "execution_count": 1,
   "id": "9e266223",
   "metadata": {},
   "outputs": [],
   "source": [
    "import numpy as np "
   ]
  },
  {
   "cell_type": "code",
   "execution_count": 2,
   "id": "f3bf570d",
   "metadata": {},
   "outputs": [
    {
     "data": {
      "text/plain": [
       "array([[1, 2, 3],\n",
       "       [4, 5, 6],\n",
       "       [7, 8, 9]])"
      ]
     },
     "execution_count": 2,
     "metadata": {},
     "output_type": "execute_result"
    }
   ],
   "source": [
    "arr = np.array([[1,2,3],[4,5,6],[7,8,9]])\n",
    "arr"
   ]
  },
  {
   "cell_type": "code",
   "execution_count": null,
   "id": "6568472a",
   "metadata": {},
   "outputs": [],
   "source": [
    "arr.T"
   ]
  },
  {
   "cell_type": "code",
   "execution_count": null,
   "id": "01de6754",
   "metadata": {},
   "outputs": [],
   "source": [
    "arr.transpose()"
   ]
  },
  {
   "cell_type": "markdown",
   "id": "a6939e63",
   "metadata": {},
   "source": [
    "**Matrix A , we define its transpose**\n",
    "\n",
    "**A^T , by swapping rows with cols**"
   ]
  },
  {
   "cell_type": "code",
   "execution_count": null,
   "id": "52c5f017",
   "metadata": {},
   "outputs": [],
   "source": [
    "# Python3 Program to find\n",
    "# transpose of a matrix\n",
    "\n",
    "N = 4\n",
    "\n",
    "# Finds transpose of A[][] in-place\n",
    "def transpose(A):\n",
    "\n",
    "for i in range(N):\n",
    "for j in range(i+1, N):\n",
    "A[i][j], A[j][i] = A[j][i], A[i][j]\n",
    "\n",
    "# driver code\n",
    "A = [ [1, 1, 1, 1],\n",
    "[2, 2, 2, 2],\n",
    "[3, 3, 3, 3],\n",
    "[4, 4, 4, 4]]\n",
    "\n",
    "transpose(A)\n",
    "\n",
    "print(\"Modified matrix is\")\n",
    "for i in range(N):\n",
    "for j in range(N):\n",
    "print(A[i][j], \" \", end='')\n",
    "print()\n",
    "\n",
    "# This code is contributed by Anant Agarwal.\n"
   ]
  },
  {
   "cell_type": "code",
   "execution_count": null,
   "id": "c60a97e8",
   "metadata": {},
   "outputs": [],
   "source": [
    "# Python3 Program to find\n",
    "# transpose of a matrix\n",
    "\n",
    "N = 4\n",
    "\n",
    "# This function stores\n",
    "# transpose of A[][] in B[][]\n",
    "\n",
    "def transpose(A,B):\n",
    "\n",
    "for i in range(N):\n",
    "for j in range(N):\n",
    "B[i][j] = A[j][i]\n",
    "\n",
    "# driver code\n",
    "A = [ [1, 1, 1, 1],\n",
    "[2, 2, 2, 2],\n",
    "[3, 3, 3, 3],\n",
    "[4, 4, 4, 4]]\n",
    "\n",
    "\n",
    "B = A[:][:] # To store result\n",
    "\n",
    "transpose(A, B)\n",
    "\n",
    "print(\"Result matrix is\")\n",
    "for i in range(N):\n",
    "for j in range(N):\n",
    "print(B[i][j], \" \", end='')\n",
    "print()\n",
    "\n",
    "# This code is contributed by Anant Agarwal.\n"
   ]
  },
  {
   "cell_type": "code",
   "execution_count": null,
   "id": "7bfdcf3e",
   "metadata": {},
   "outputs": [],
   "source": [
    "arr"
   ]
  },
  {
   "cell_type": "markdown",
   "id": "2f5ecafd",
   "metadata": {},
   "source": [
    "\n",
    "'I am new on Python i am working on Transpose of matrix but i found it lengthy code any short procedure please!'"
   ]
  },
  {
   "cell_type": "code",
   "execution_count": null,
   "id": "f159e282",
   "metadata": {},
   "outputs": [],
   "source": [
    "def transpose(*args):\n",
    "    for myrow in args: \n",
    "        print(myrow) \n",
    "        print(\"\\n\") \n",
    "        t_matrix = zip(*args) \n",
    "    for myrow in t_matrix: \n",
    "        print(myrow)"
   ]
  },
  {
   "cell_type": "code",
   "execution_count": null,
   "id": "2da8a695",
   "metadata": {},
   "outputs": [],
   "source": [
    "transpose(arr)"
   ]
  },
  {
   "cell_type": "code",
   "execution_count": null,
   "id": "53888db3",
   "metadata": {},
   "outputs": [],
   "source": [
    "mymatrix=[(1,2,3),(4,5,6),(7,8,9),(10,11,12)] \n",
    "myTransposedMatrix = list(zip(*arr))\n",
    "myTransposedMatrix"
   ]
  },
  {
   "cell_type": "code",
   "execution_count": null,
   "id": "18c0a6a0",
   "metadata": {},
   "outputs": [],
   "source": [
    "# given matrix A\n",
    "A = [[2, 3, 1],\n",
    "     [1, 2, 3]]\n",
    "rows = len(A)\n",
    "columns = len(A[0])\n",
    "# Initialize the transpose of matrices elements to 0\n",
    "# with rows as columns and columns as rows as dimensions\n",
    "matrixTrans = [[0, 0],\n",
    "               [0, 0],\n",
    "               [0, 0]]\n",
    "# iterate through rows\n",
    "for i in range(rows):\n",
    "    # iterate through columns\n",
    "    for j in range(columns):\n",
    "        matrixTrans[j][i] = A[i][j]\n",
    "# printing the transpose of matrices\n",
    "print(\"Printing the transpose of matrices : \")\n",
    "for rows in matrixTrans:\n",
    "    print(*rows)"
   ]
  },
  {
   "cell_type": "code",
   "execution_count": null,
   "id": "690a2b97",
   "metadata": {},
   "outputs": [],
   "source": [
    "zip(*arr)"
   ]
  },
  {
   "cell_type": "code",
   "execution_count": null,
   "id": "41ed22f8",
   "metadata": {
    "scrolled": true
   },
   "outputs": [],
   "source": [
    "arr"
   ]
  },
  {
   "cell_type": "code",
   "execution_count": null,
   "id": "90edb99f",
   "metadata": {},
   "outputs": [],
   "source": [
    "np.array([list(x) for x in zip(*arr)])"
   ]
  },
  {
   "cell_type": "code",
   "execution_count": null,
   "id": "40c845ef",
   "metadata": {},
   "outputs": [],
   "source": [
    "map(list, zip(*arr))"
   ]
  },
  {
   "cell_type": "code",
   "execution_count": null,
   "id": "3428a0d6",
   "metadata": {},
   "outputs": [],
   "source": [
    "def matrixTranspose(anArray):\n",
    "    transposed = [None]*len(anArray[0])\n",
    "    for t in range(len(anArray)):\n",
    "        for tt in range(len(anArray[t])):\n",
    "            transposed[t] = [None]*len(anArray)\n",
    "            transposed[t][tt] = anArray[tt][t]\n",
    "    print (transposed)"
   ]
  },
  {
   "cell_type": "code",
   "execution_count": null,
   "id": "b6ab9de4",
   "metadata": {},
   "outputs": [],
   "source": [
    "matrixTranspose(arr)"
   ]
  },
  {
   "cell_type": "code",
   "execution_count": null,
   "id": "2a5ba81b",
   "metadata": {},
   "outputs": [],
   "source": [
    "theArray = [['a','b','c'],['d','e','f'],['g','h','i']]\n",
    "zip(*theArray)"
   ]
  },
  {
   "cell_type": "code",
   "execution_count": null,
   "id": "cc24c098",
   "metadata": {},
   "outputs": [],
   "source": [
    "np.array( [*zip(*theArray)])"
   ]
  },
  {
   "cell_type": "code",
   "execution_count": null,
   "id": "7e2462cc",
   "metadata": {},
   "outputs": [],
   "source": [
    "theArray.T"
   ]
  },
  {
   "cell_type": "code",
   "execution_count": null,
   "id": "5d36d372",
   "metadata": {},
   "outputs": [],
   "source": [
    "#https://stackoverflow.com/questions/4937491/matrix-transpose-in-python"
   ]
  },
  {
   "cell_type": "code",
   "execution_count": 3,
   "id": "878e4329",
   "metadata": {},
   "outputs": [],
   "source": [
    "def matrixTranspose( matrix ):\n",
    "    if not matrix: return []\n",
    "    return [ [ row[ i ] for row in matrix ] for i in range( len( matrix[ 0 ] ) ) ]"
   ]
  },
  {
   "cell_type": "code",
   "execution_count": 4,
   "id": "06bae8e2",
   "metadata": {},
   "outputs": [
    {
     "ename": "ValueError",
     "evalue": "The truth value of an array with more than one element is ambiguous. Use a.any() or a.all()",
     "output_type": "error",
     "traceback": [
      "\u001b[1;31m---------------------------------------------------------------------------\u001b[0m",
      "\u001b[1;31mValueError\u001b[0m                                Traceback (most recent call last)",
      "Input \u001b[1;32mIn [4]\u001b[0m, in \u001b[0;36m<cell line: 1>\u001b[1;34m()\u001b[0m\n\u001b[1;32m----> 1\u001b[0m \u001b[43mmatrixTranspose\u001b[49m\u001b[43m(\u001b[49m\u001b[43marr\u001b[49m\u001b[43m)\u001b[49m\n",
      "Input \u001b[1;32mIn [3]\u001b[0m, in \u001b[0;36mmatrixTranspose\u001b[1;34m(matrix)\u001b[0m\n\u001b[0;32m      1\u001b[0m \u001b[38;5;28;01mdef\u001b[39;00m \u001b[38;5;21mmatrixTranspose\u001b[39m( matrix ):\n\u001b[1;32m----> 2\u001b[0m     \u001b[38;5;28;01mif\u001b[39;00m \u001b[38;5;129;01mnot\u001b[39;00m matrix: \u001b[38;5;28;01mreturn\u001b[39;00m []\n\u001b[0;32m      3\u001b[0m     \u001b[38;5;28;01mreturn\u001b[39;00m [ [ row[ i ] \u001b[38;5;28;01mfor\u001b[39;00m row \u001b[38;5;129;01min\u001b[39;00m matrix ] \u001b[38;5;28;01mfor\u001b[39;00m i \u001b[38;5;129;01min\u001b[39;00m \u001b[38;5;28mrange\u001b[39m( \u001b[38;5;28mlen\u001b[39m( matrix[ \u001b[38;5;241m0\u001b[39m ] ) ) ]\n",
      "\u001b[1;31mValueError\u001b[0m: The truth value of an array with more than one element is ambiguous. Use a.any() or a.all()"
     ]
    }
   ],
   "source": [
    "matrixTranspose(arr)"
   ]
  },
  {
   "cell_type": "code",
   "execution_count": 5,
   "id": "76a38901",
   "metadata": {},
   "outputs": [],
   "source": [
    "import itertools\n",
    "def transpose(list_of_lists):\n",
    "    return list(itertools.izip_longest(*list_of_lists,fillvalue=' '))"
   ]
  },
  {
   "cell_type": "code",
   "execution_count": 6,
   "id": "9280cc1e",
   "metadata": {},
   "outputs": [
    {
     "ename": "AttributeError",
     "evalue": "module 'itertools' has no attribute 'izip_longest'",
     "output_type": "error",
     "traceback": [
      "\u001b[1;31m---------------------------------------------------------------------------\u001b[0m",
      "\u001b[1;31mAttributeError\u001b[0m                            Traceback (most recent call last)",
      "Input \u001b[1;32mIn [6]\u001b[0m, in \u001b[0;36m<cell line: 1>\u001b[1;34m()\u001b[0m\n\u001b[1;32m----> 1\u001b[0m \u001b[43mtranspose\u001b[49m\u001b[43m(\u001b[49m\u001b[43marr\u001b[49m\u001b[43m)\u001b[49m\n",
      "Input \u001b[1;32mIn [5]\u001b[0m, in \u001b[0;36mtranspose\u001b[1;34m(list_of_lists)\u001b[0m\n\u001b[0;32m      2\u001b[0m \u001b[38;5;28;01mdef\u001b[39;00m \u001b[38;5;21mtranspose\u001b[39m(list_of_lists):\n\u001b[1;32m----> 3\u001b[0m     \u001b[38;5;28;01mreturn\u001b[39;00m \u001b[38;5;28mlist\u001b[39m(\u001b[43mitertools\u001b[49m\u001b[38;5;241;43m.\u001b[39;49m\u001b[43mizip_longest\u001b[49m(\u001b[38;5;241m*\u001b[39mlist_of_lists,fillvalue\u001b[38;5;241m=\u001b[39m\u001b[38;5;124m'\u001b[39m\u001b[38;5;124m \u001b[39m\u001b[38;5;124m'\u001b[39m))\n",
      "\u001b[1;31mAttributeError\u001b[0m: module 'itertools' has no attribute 'izip_longest'"
     ]
    }
   ],
   "source": [
    "transpose(arr)"
   ]
  },
  {
   "cell_type": "code",
   "execution_count": 7,
   "id": "cbdbd1c3",
   "metadata": {},
   "outputs": [],
   "source": [
    "def transpose(matrix):\n",
    "    x=0\n",
    "    trans=[]\n",
    "    b=len(matrix[0])\n",
    "    while b!=0:\n",
    "        trans.append([])\n",
    "        b-=1\n",
    "    for list in matrix:\n",
    "        for element in list:\n",
    "            trans[x].append(element)\n",
    "            x+=1\n",
    "        x=0\n",
    "    return trans"
   ]
  },
  {
   "cell_type": "code",
   "execution_count": 9,
   "id": "5d70e660",
   "metadata": {},
   "outputs": [
    {
     "data": {
      "text/plain": [
       "array([[1, 4, 7],\n",
       "       [2, 5, 8],\n",
       "       [3, 6, 9]])"
      ]
     },
     "execution_count": 9,
     "metadata": {},
     "output_type": "execute_result"
    }
   ],
   "source": [
    "np.array(transpose(arr))"
   ]
  },
  {
   "cell_type": "code",
   "execution_count": 10,
   "id": "ec384c49",
   "metadata": {},
   "outputs": [],
   "source": [
    "def transpose(matrix):\n",
    "    listOfLists = []\n",
    "    for row in range(len(matrix[0])):\n",
    "        colList = []\n",
    "        for col in range(len(matrix)):\n",
    "            colList.append(matrix[col][row])\n",
    "    listOfLists.append(colList)\n",
    "\n",
    "    return listOfLists"
   ]
  },
  {
   "cell_type": "code",
   "execution_count": 11,
   "id": "0836d916",
   "metadata": {},
   "outputs": [
    {
     "data": {
      "text/plain": [
       "[[3, 6, 9]]"
      ]
     },
     "execution_count": 11,
     "metadata": {},
     "output_type": "execute_result"
    }
   ],
   "source": [
    "transpose(arr)"
   ]
  },
  {
   "cell_type": "code",
   "execution_count": 12,
   "id": "e48110f5",
   "metadata": {},
   "outputs": [],
   "source": [
    "def transpose(m):\n",
    "    return(list(map(list,list(zip(*m)))))"
   ]
  },
  {
   "cell_type": "code",
   "execution_count": 13,
   "id": "9662d20e",
   "metadata": {},
   "outputs": [
    {
     "data": {
      "text/plain": [
       "[[1, 4, 7], [2, 5, 8], [3, 6, 9]]"
      ]
     },
     "execution_count": 13,
     "metadata": {},
     "output_type": "execute_result"
    }
   ],
   "source": [
    "transpose(arr)"
   ]
  },
  {
   "cell_type": "code",
   "execution_count": 15,
   "id": "b6b9e4f9",
   "metadata": {},
   "outputs": [],
   "source": [
    "# https://stackoverflow.com/questions/4937491/matrix-transpose-in-python"
   ]
  },
  {
   "cell_type": "markdown",
   "id": "dfbe120d",
   "metadata": {},
   "source": [
    "# List to array convert"
   ]
  },
  {
   "cell_type": "code",
   "execution_count": 16,
   "id": "23befedc",
   "metadata": {},
   "outputs": [
    {
     "name": "stdout",
     "output_type": "stream",
     "text": [
      "2\n",
      "1\n",
      "2\n"
     ]
    },
    {
     "ename": "ValueError",
     "evalue": "not enough values to unpack (expected 3, got 1)",
     "output_type": "error",
     "traceback": [
      "\u001b[1;31m---------------------------------------------------------------------------\u001b[0m",
      "\u001b[1;31mValueError\u001b[0m                                Traceback (most recent call last)",
      "Input \u001b[1;32mIn [16]\u001b[0m, in \u001b[0;36m<cell line: 18>\u001b[1;34m()\u001b[0m\n\u001b[0;32m     17\u001b[0m arr\u001b[38;5;241m.\u001b[39mshape \u001b[38;5;241m=\u001b[39m N,N\n\u001b[0;32m     18\u001b[0m \u001b[38;5;28;01mfor\u001b[39;00m i \u001b[38;5;129;01min\u001b[39;00m \u001b[38;5;28mrange\u001b[39m(S):\n\u001b[1;32m---> 19\u001b[0m     a,b,c \u001b[38;5;241m=\u001b[39m [\u001b[38;5;28mint\u001b[39m(x) \u001b[38;5;28;01mfor\u001b[39;00m x \u001b[38;5;129;01min\u001b[39;00m \u001b[38;5;28minput\u001b[39m()\u001b[38;5;241m.\u001b[39msplit()]\n\u001b[0;32m     20\u001b[0m     arr[a \u001b[38;5;241m-\u001b[39m \u001b[38;5;241m1\u001b[39m:a \u001b[38;5;241m+\u001b[39m c, b \u001b[38;5;241m-\u001b[39m \u001b[38;5;241m1\u001b[39m:b \u001b[38;5;241m+\u001b[39m c] \u001b[38;5;241m=\u001b[39m rotate_clockwise(arr[a \u001b[38;5;241m-\u001b[39m \u001b[38;5;241m1\u001b[39m:a \u001b[38;5;241m+\u001b[39m c, b \u001b[38;5;241m-\u001b[39m \u001b[38;5;241m1\u001b[39m:b \u001b[38;5;241m+\u001b[39m c])\n\u001b[0;32m     23\u001b[0m M \u001b[38;5;241m=\u001b[39m \u001b[38;5;28mint\u001b[39m(\u001b[38;5;28minput\u001b[39m())\n",
      "\u001b[1;31mValueError\u001b[0m: not enough values to unpack (expected 3, got 1)"
     ]
    }
   ],
   "source": [
    "import numpy as np\n",
    "\n",
    "def rotate_clockwise(x):\n",
    "    return x[::-1].T\n",
    "\n",
    "\n",
    "def find(element, matrix):\n",
    "    for i in range(len(matrix)):\n",
    "        for j in range(len(matrix[i])):\n",
    "            if matrix[i][j] == element:\n",
    "                return (i+1, j+1)\n",
    "N = int(input())\n",
    "S = int(input())\n",
    "\n",
    "arr = np.array(range(0,N*N))\n",
    "\n",
    "arr.shape = N,N\n",
    "for i in range(S):\n",
    "    a,b,c = [int(x) for x in input().split()]\n",
    "    arr[a - 1:a + c, b - 1:b + c] = rotate_clockwise(arr[a - 1:a + c, b - 1:b + c])\n",
    "\n",
    "\n",
    "M = int(input())\n",
    "items = np.array(range(0,M))\n",
    "for i in range(M):\n",
    "    danscisayisi=int(input())\n",
    "    items[i]=(danscisayisi)\n",
    "\n",
    "for i in range(0, len(items)):\n",
    "    items[i] = int(items[i])\n",
    "noktalar = np.array(range(0,M))\n",
    "for i in range(M):\n",
    "    coord=(find(items[i],arr))\n",
    "    result = \" \".join(str(x) for x in coord)\n",
    "    print(result)"
   ]
  },
  {
   "cell_type": "code",
   "execution_count": 21,
   "id": "68489470",
   "metadata": {},
   "outputs": [
    {
     "data": {
      "text/plain": [
       "array([[0, 1],\n",
       "       [2, 3]])"
      ]
     },
     "execution_count": 21,
     "metadata": {},
     "output_type": "execute_result"
    }
   ],
   "source": [
    "arr"
   ]
  },
  {
   "cell_type": "code",
   "execution_count": 20,
   "id": "6360494f",
   "metadata": {},
   "outputs": [
    {
     "data": {
      "text/plain": [
       "[[0, 2], [1, 3]]"
      ]
     },
     "execution_count": 20,
     "metadata": {},
     "output_type": "execute_result"
    }
   ],
   "source": [
    "arr_conv= transpose(arr)\n",
    "arr_conv"
   ]
  },
  {
   "cell_type": "code",
   "execution_count": 19,
   "id": "fe5136b7",
   "metadata": {},
   "outputs": [
    {
     "name": "stdout",
     "output_type": "stream",
     "text": [
      "[[0 2]\n",
      " [1 3]]\n"
     ]
    }
   ],
   "source": [
    "def print_array(a):\n",
    "    \"\"\" Take a nested list a and print it like a NumPy array. \"\"\"\n",
    "    for i, row in enumerate(a):\n",
    "        if i == 0:\n",
    "            first_char = '['\n",
    "        else: \n",
    "            first_char = ' '\n",
    "        if i == len(a) - 1:\n",
    "            last_char = ']'\n",
    "        else: \n",
    "            last_char = ''    \n",
    "        print(first_char + '[' + \n",
    "              ' '.join(str(i) for i in row) + ']' + last_char)\n",
    "        \n",
    "print_array(arr_conv)"
   ]
  },
  {
   "cell_type": "code",
   "execution_count": 22,
   "id": "2b4daf24",
   "metadata": {},
   "outputs": [],
   "source": []
  },
  {
   "cell_type": "code",
   "execution_count": 23,
   "id": "35bd1312",
   "metadata": {},
   "outputs": [
    {
     "data": {
      "text/plain": [
       "[[0.0, 0.0, 0.0, 0.0], [0.0, 0.0, 0.0, 0.0], [0.0, 0.0, 0.0, 0.0]]"
      ]
     },
     "execution_count": 23,
     "metadata": {},
     "output_type": "execute_result"
    }
   ],
   "source": [
    "zeros_matrix(3,4)"
   ]
  },
  {
   "cell_type": "code",
   "execution_count": 25,
   "id": "af9b6bd3",
   "metadata": {},
   "outputs": [],
   "source": []
  },
  {
   "cell_type": "code",
   "execution_count": 26,
   "id": "41643307",
   "metadata": {},
   "outputs": [],
   "source": []
  },
  {
   "cell_type": "code",
   "execution_count": 27,
   "id": "72c8505e",
   "metadata": {},
   "outputs": [],
   "source": [
    "def print_matrix(M, decimals=3):\n",
    "    \"\"\"\n",
    "    Print a matrix one row at a time\n",
    "        :param M: The matrix to be printed\n",
    "    \"\"\"\n",
    "    for row in M:\n",
    "        print([round(x,decimals)+0 for x in row])"
   ]
  },
  {
   "cell_type": "code",
   "execution_count": 28,
   "id": "cee402b4",
   "metadata": {},
   "outputs": [],
   "source": [
    "def transpose(M):\n",
    "    \"\"\"\n",
    "    Returns a transpose of a matrix.\n",
    "        :param M: The matrix to be transposed\n",
    " \n",
    "        :return: The transpose of the given matrix\n",
    "    \"\"\"\n",
    "    # Section 1: if a 1D array, convert to a 2D array = matrix\n",
    "    if not isinstance(M[0],list):\n",
    "        M = [M]\n",
    " \n",
    "    # Section 2: Get dimensions\n",
    "    rows = len(M)\n",
    "    cols = len(M[0])\n",
    " \n",
    "    # Section 3: MT is zeros matrix with transposed dimensions\n",
    "    MT = zeros_matrix(cols, rows)\n",
    " \n",
    "    # Section 4: Copy values from M to it's transpose MT\n",
    "    for i in range(rows):\n",
    "        for j in range(cols):\n",
    "            MT[j][i] = M[i][j]\n",
    " \n",
    "    return MT"
   ]
  },
  {
   "cell_type": "code",
   "execution_count": 29,
   "id": "d789f190",
   "metadata": {},
   "outputs": [],
   "source": [
    "\n"
   ]
  },
  {
   "cell_type": "code",
   "execution_count": 30,
   "id": "0a090d3b",
   "metadata": {},
   "outputs": [],
   "source": []
  },
  {
   "cell_type": "code",
   "execution_count": 31,
   "id": "d317172d",
   "metadata": {},
   "outputs": [],
   "source": []
  },
  {
   "cell_type": "code",
   "execution_count": 32,
   "id": "c142a3e4",
   "metadata": {},
   "outputs": [],
   "source": [
    "def check_matrix_equality(A, B, tol=None):\n",
    "    \"\"\"\n",
    "    Checks the equality of two matrices.\n",
    "        :param A: The first matrix\n",
    "        :param B: The second matrix\n",
    "        :param tol: The decimal place tolerance of the check\n",
    " \n",
    "        :return: The boolean result of the equality check\n",
    "    \"\"\"\n",
    "    # Section 1: First ensure matrices have same dimensions\n",
    "    if len(A) != len(B) or len(A[0]) != len(B[0]):\n",
    "        return False\n",
    " \n",
    "    # Section 2: Check element by element equality\n",
    "    #            use tolerance if given\n",
    "    for i in range(len(A)):\n",
    "        for j in range(len(A[0])):\n",
    "            if tol == None:\n",
    "                if A[i][j] != B[i][j]:\n",
    "                    return False\n",
    "            else:\n",
    "                if round(A[i][j],tol) != round(B[i][j],tol):\n",
    "                    return False\n",
    " \n",
    "    return True"
   ]
  },
  {
   "cell_type": "code",
   "execution_count": 33,
   "id": "7fbb3388",
   "metadata": {},
   "outputs": [],
   "source": [
    "def unitize_vector(vector):\n",
    "    \"\"\"\n",
    "    Find the unit vector for a vector\n",
    "        :param vector: The vector to find a unit vector for\n",
    " \n",
    "        :return: A unit-vector of vector\n",
    "    \"\"\"\n",
    "    # Section 1: Ensure that a vector was given\n",
    "    if len(vector) > 1 and len(vector[0]) > 1:\n",
    "        raise ArithmeticError(\n",
    "            'Vector must be a row or column vector.')\n",
    " \n",
    "    # Section 2: Determine vector magnitude\n",
    "    rows = len(vector); cols = len(vector[0])\n",
    "    mag = 0\n",
    "    for row in vector:\n",
    "        for value in row:\n",
    "            mag += value ** 2\n",
    "    mag = mag ** 0.5\n",
    " \n",
    "    # Section 3: Make a copy of vector\n",
    "    new = copy_matrix(vector)\n",
    " \n",
    "    # Section 4: Unitize the copied vector\n",
    "    for i in range(rows):\n",
    "        for j in range(cols):\n",
    "            new[i][j] = new[i][j] / mag\n",
    " \n",
    "    return new"
   ]
  },
  {
   "cell_type": "code",
   "execution_count": 34,
   "id": "2573b563",
   "metadata": {},
   "outputs": [],
   "source": [
    "# https://integratedmlai.com/basic-linear-algebra-tools-in-pure-python-without-numpy-or-scipy/"
   ]
  },
  {
   "cell_type": "code",
   "execution_count": 36,
   "id": "29850ca6",
   "metadata": {},
   "outputs": [
    {
     "name": "stdout",
     "output_type": "stream",
     "text": [
      "[1, 2, 3]\n",
      "[7, 1, 5]\n",
      "[0, 9, 3]\n"
     ]
    }
   ],
   "source": [
    "m = ([1, 2, 3], [7, 1, 5], [0, 9, 3])\n",
    "for i in m:\n",
    "     print(\"\". join(str(i)))"
   ]
  },
  {
   "cell_type": "code",
   "execution_count": null,
   "id": "fba83b6b",
   "metadata": {},
   "outputs": [],
   "source": []
  }
 ],
 "metadata": {
  "kernelspec": {
   "display_name": "Python 3 (ipykernel)",
   "language": "python",
   "name": "python3"
  },
  "language_info": {
   "codemirror_mode": {
    "name": "ipython",
    "version": 3
   },
   "file_extension": ".py",
   "mimetype": "text/x-python",
   "name": "python",
   "nbconvert_exporter": "python",
   "pygments_lexer": "ipython3",
   "version": "3.9.12"
  }
 },
 "nbformat": 4,
 "nbformat_minor": 5
}
