{
 "cells": [
  {
   "cell_type": "code",
   "execution_count": 1,
   "id": "a0ad3605",
   "metadata": {},
   "outputs": [],
   "source": [
    "def zeros_matrix(rows, cols):\n",
    "    \"\"\"\n",
    "    Creates a matrix filled with zeros.\n",
    "        :param rows: the number of rows the matrix should have\n",
    "        :param cols: the number of columns the matrix should have\n",
    " \n",
    "        :return: list of lists that form the matrix\n",
    "    \"\"\"\n",
    "    M = []\n",
    "    while len(M) < rows:\n",
    "        M.append([])\n",
    "        while len(M[-1]) < cols:\n",
    "            M[-1].append(0.0)\n",
    " \n",
    "    return M"
   ]
  },
  {
   "cell_type": "code",
   "execution_count": 2,
   "id": "6f77801d",
   "metadata": {},
   "outputs": [],
   "source": [
    "def matrix_multiply(A, B):\n",
    "    \"\"\"\n",
    "    Returns the product of the matrix A * B\n",
    "        :param A: The first matrix - ORDER MATTERS!\n",
    "        :param B: The second matrix\n",
    " \n",
    "        :return: The product of the two matrices\n",
    "    \"\"\"\n",
    "    # Section 1: Ensure A & B dimensions are correct for multiplication\n",
    "    rowsA = len(A)\n",
    "    colsA = len(A[0])\n",
    "    rowsB = len(B)\n",
    "    colsB = len(B[0])\n",
    "    if colsA != rowsB:\n",
    "        raise ArithmeticError(\n",
    "            'Number of A columns must equal number of B rows.')\n",
    " \n",
    "    # Section 2: Store matrix multiplication in a new matrix\n",
    "    C = zeros_matrix(rowsA, colsB)\n",
    "    for i in range(rowsA):\n",
    "        for j in range(colsB):\n",
    "            total = 0\n",
    "            for ii in range(colsA):\n",
    "                total += A[i][ii] * B[ii][j]\n",
    "            C[i][j] = total\n",
    " \n",
    "    return C"
   ]
  },
  {
   "cell_type": "code",
   "execution_count": 3,
   "id": "aefc58be",
   "metadata": {},
   "outputs": [],
   "source": [
    "def multiply_matrices(list):\n",
    "    \"\"\"\n",
    "    Find the product of a list of matrices from first to last\n",
    "        :param list: The list of matrices IN ORDER\n",
    " \n",
    "        :return: The product of the matrices\n",
    "    \"\"\"\n",
    "    # Section 1: Start matrix product using 1st matrix in list\n",
    "    matrix_product = list[0]\n",
    " \n",
    "    # Section 2: Loop thru list to create product\n",
    "    for matrix in list[1:]:\n",
    "        matrix_product = matrix_multiply(matrix_product, matrix)\n",
    " \n",
    "    return matrix_product"
   ]
  },
  {
   "cell_type": "code",
   "execution_count": 4,
   "id": "01e544f0",
   "metadata": {},
   "outputs": [
    {
     "data": {
      "text/plain": [
       "(array([[ 2,  1,  0],\n",
       "        [ 1,  1,  1],\n",
       "        [-1,  4,  3]]),\n",
       " array([[ 1,  1],\n",
       "        [ 0,  1],\n",
       "        [-1,  3]]))"
      ]
     },
     "execution_count": 4,
     "metadata": {},
     "output_type": "execute_result"
    }
   ],
   "source": [
    "import numpy as np \n",
    "A = np.array([[2,1,0],[1,1,1],[-1,4,3]])\n",
    "B = np.array([[1,1],[0,1],[-1,3]])\n",
    "A,B"
   ]
  },
  {
   "cell_type": "code",
   "execution_count": 5,
   "id": "33146978",
   "metadata": {},
   "outputs": [
    {
     "data": {
      "text/plain": [
       "array([[ 2,  3],\n",
       "       [ 0,  5],\n",
       "       [-4, 12]])"
      ]
     },
     "execution_count": 5,
     "metadata": {},
     "output_type": "execute_result"
    }
   ],
   "source": [
    "np.matmul(A,B)"
   ]
  },
  {
   "cell_type": "code",
   "execution_count": 6,
   "id": "7aa6be59",
   "metadata": {},
   "outputs": [
    {
     "data": {
      "text/plain": [
       "[[2, 3], [0, 5], [-4, 12]]"
      ]
     },
     "execution_count": 6,
     "metadata": {},
     "output_type": "execute_result"
    }
   ],
   "source": [
    "matrix_multiply(A,B)"
   ]
  },
  {
   "cell_type": "code",
   "execution_count": null,
   "id": "c38fb85c",
   "metadata": {},
   "outputs": [],
   "source": []
  }
 ],
 "metadata": {
  "kernelspec": {
   "display_name": "Python 3 (ipykernel)",
   "language": "python",
   "name": "python3"
  },
  "language_info": {
   "codemirror_mode": {
    "name": "ipython",
    "version": 3
   },
   "file_extension": ".py",
   "mimetype": "text/x-python",
   "name": "python",
   "nbconvert_exporter": "python",
   "pygments_lexer": "ipython3",
   "version": "3.9.12"
  }
 },
 "nbformat": 4,
 "nbformat_minor": 5
}
