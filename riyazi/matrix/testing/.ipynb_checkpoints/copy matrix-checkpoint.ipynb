{
 "cells": [
  {
   "cell_type": "code",
   "execution_count": 1,
   "id": "9af742b5",
   "metadata": {},
   "outputs": [],
   "source": [
    "def copy_matrix(M):\n",
    "    \"\"\"\n",
    "    Creates and returns a copy of a matrix.\n",
    "        :param M: The matrix to be copied\n",
    " \n",
    "        :return: A copy of the given matrix\n",
    "    \"\"\"\n",
    "    # Section 1: Get matrix dimensions\n",
    "    rows = len(M)\n",
    "    cols = len(M[0])\n",
    " \n",
    "    # Section 2: Create a new matrix of zeros\n",
    "    MC = zeros_matrix(rows, cols)\n",
    " \n",
    "    # Section 3: Copy values of M into the copy\n",
    "    for i in range(rows):\n",
    "        for j in range(cols):\n",
    "            MC[i][j] = M[i][j]\n",
    " \n",
    "    return MC"
   ]
  },
  {
   "cell_type": "code",
   "execution_count": null,
   "id": "3f5c606e",
   "metadata": {},
   "outputs": [],
   "source": []
  }
 ],
 "metadata": {
  "kernelspec": {
   "display_name": "Python 3 (ipykernel)",
   "language": "python",
   "name": "python3"
  },
  "language_info": {
   "codemirror_mode": {
    "name": "ipython",
    "version": 3
   },
   "file_extension": ".py",
   "mimetype": "text/x-python",
   "name": "python",
   "nbconvert_exporter": "python",
   "pygments_lexer": "ipython3",
   "version": "3.9.12"
  }
 },
 "nbformat": 4,
 "nbformat_minor": 5
}
