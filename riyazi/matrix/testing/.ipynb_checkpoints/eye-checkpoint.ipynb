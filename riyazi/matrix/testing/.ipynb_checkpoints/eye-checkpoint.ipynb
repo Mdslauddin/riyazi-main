{
 "cells": [
  {
   "cell_type": "code",
   "execution_count": 1,
   "id": "a17f22db",
   "metadata": {},
   "outputs": [],
   "source": [
    "def eye(ctx, n, **kwargs):\n",
    "        \"\"\"\n",
    "        Create square identity matrix n x n.\n",
    "        \"\"\"\n",
    "        A = ctx.matrix(n, **kwargs)\n",
    "        for i in xrange(n):\n",
    "            A[i,i] = 1\n",
    "        return A"
   ]
  },
  {
   "cell_type": "code",
   "execution_count": null,
   "id": "30e0581e",
   "metadata": {},
   "outputs": [],
   "source": []
  }
 ],
 "metadata": {
  "kernelspec": {
   "display_name": "Python 3 (ipykernel)",
   "language": "python",
   "name": "python3"
  },
  "language_info": {
   "codemirror_mode": {
    "name": "ipython",
    "version": 3
   },
   "file_extension": ".py",
   "mimetype": "text/x-python",
   "name": "python",
   "nbconvert_exporter": "python",
   "pygments_lexer": "ipython3",
   "version": "3.9.12"
  }
 },
 "nbformat": 4,
 "nbformat_minor": 5
}
