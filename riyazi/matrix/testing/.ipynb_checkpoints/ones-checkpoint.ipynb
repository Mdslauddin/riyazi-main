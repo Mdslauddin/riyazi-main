{
 "cells": [
  {
   "cell_type": "code",
   "execution_count": 1,
   "id": "95171c8c",
   "metadata": {},
   "outputs": [],
   "source": [
    "def ones(ctx, *args, **kwargs):\n",
    "        \"\"\"\n",
    "        Create matrix m x n filled with ones.\n",
    "        One given dimension will create square matrix n x n.\n",
    "\n",
    "        Example:\n",
    "        >>> from mpmath import ones, mp\n",
    "        >>> mp.pretty = False\n",
    "        >>> ones(2)\n",
    "        matrix(\n",
    "        [['1.0', '1.0'],\n",
    "         ['1.0', '1.0']])\n",
    "        \"\"\"\n",
    "        if len(args) == 1:\n",
    "            m = n = args[0]\n",
    "        elif len(args) == 2:\n",
    "            m = args[0]\n",
    "            n = args[1]\n",
    "        else:\n",
    "            raise TypeError('ones expected at most 2 arguments, got %i' % len(args))\n",
    "        A = ctx.matrix(m, n, **kwargs)\n",
    "        for i in xrange(m):\n",
    "            for j in xrange(n):\n",
    "                A[i,j] = 1\n",
    "        return A"
   ]
  },
  {
   "cell_type": "code",
   "execution_count": null,
   "id": "343c989e",
   "metadata": {},
   "outputs": [],
   "source": []
  }
 ],
 "metadata": {
  "kernelspec": {
   "display_name": "Python 3 (ipykernel)",
   "language": "python",
   "name": "python3"
  },
  "language_info": {
   "codemirror_mode": {
    "name": "ipython",
    "version": 3
   },
   "file_extension": ".py",
   "mimetype": "text/x-python",
   "name": "python",
   "nbconvert_exporter": "python",
   "pygments_lexer": "ipython3",
   "version": "3.9.12"
  }
 },
 "nbformat": 4,
 "nbformat_minor": 5
}
