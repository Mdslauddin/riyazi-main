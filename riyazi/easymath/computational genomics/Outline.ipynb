{
 "cells": [
  {
   "cell_type": "markdown",
   "id": "ac6b0436",
   "metadata": {},
   "source": [
    "https://en.wikipedia.org/wiki/Computational_genomics#:~:text=Computational%20genomics%20refers%20to%20the%20use%20of%20computational,the%20genome%20sequence%2C%20such%20as%20genomic%20DNA%20microarrays%29."
   ]
  },
  {
   "cell_type": "markdown",
   "id": "fea0deba",
   "metadata": {},
   "source": [
    "https://en.wikipedia.org/wiki/Computational_genomics"
   ]
  },
  {
   "cell_type": "markdown",
   "id": "674ce02c",
   "metadata": {},
   "source": [
    "https://tselab.stanford.edu/research/computational-genomics/"
   ]
  },
  {
   "cell_type": "markdown",
   "id": "a74df40f",
   "metadata": {},
   "source": [
    "https://web.stanford.edu/class/cs262/cgi-bin/index.php"
   ]
  },
  {
   "cell_type": "markdown",
   "id": "0a89395c",
   "metadata": {},
   "source": [
    "http://compgenomr.github.io/book/genes-dna-and-central-dogma.html"
   ]
  },
  {
   "cell_type": "markdown",
   "id": "af57c92e",
   "metadata": {},
   "source": [
    "https://www.slideshare.net/IlgnKavakloullar/computational-genomics-bioinformatics-ik"
   ]
  },
  {
   "cell_type": "markdown",
   "id": "d0ed2adc",
   "metadata": {},
   "source": [
    "https://researcher.watson.ibm.com/researcher/view_group.php?id=1179"
   ]
  },
  {
   "cell_type": "markdown",
   "id": "44c405f4",
   "metadata": {},
   "source": [
    "https://www.coursera.org/courses?query=computational%20biology"
   ]
  },
  {
   "cell_type": "markdown",
   "id": "5f8ba4ca",
   "metadata": {},
   "source": [
    "https://annajguzman20.wixsite.com/computationalgenomic"
   ]
  },
  {
   "cell_type": "markdown",
   "id": "1af6fcd5",
   "metadata": {},
   "source": [
    "https://www.mccormick.northwestern.edu/biomedical/academics/courses/descriptions/311.html"
   ]
  },
  {
   "cell_type": "markdown",
   "id": "522e615c",
   "metadata": {},
   "source": [
    "https://cse.iitk.ac.in/pages/CS690.html"
   ]
  },
  {
   "cell_type": "markdown",
   "id": "4df73cd8",
   "metadata": {},
   "source": [
    "https://en.wikipedia.org/wiki/Computational_biology"
   ]
  },
  {
   "cell_type": "markdown",
   "id": "a0e79847",
   "metadata": {},
   "source": [
    "https://www.nationwidechildrens.org/specialties/institute-for-genomic-medicine/computational-genomics"
   ]
  },
  {
   "cell_type": "markdown",
   "id": "ec8a0b41",
   "metadata": {},
   "source": [
    "https://ocw.mit.edu/courses/7-90j-computational-functional-genomics-spring-2005/"
   ]
  },
  {
   "cell_type": "markdown",
   "id": "0b6896f7",
   "metadata": {},
   "source": [
    "https://www.cs.cmu.edu/~02710/"
   ]
  },
  {
   "cell_type": "markdown",
   "id": "6c0d7a7c",
   "metadata": {},
   "source": [
    "https://compgen.mdc-berlin.de/"
   ]
  },
  {
   "cell_type": "markdown",
   "id": "173c96bf",
   "metadata": {},
   "source": [
    "https://medium.com/computational-biology/bioinformatics-and-computational-biology-what-why-how-176e5ae4108b"
   ]
  },
  {
   "cell_type": "markdown",
   "id": "d8c1b00a",
   "metadata": {},
   "source": [
    "https://www.themuse.com/jobs/gsk/director-computational-biology-genomic-sciences"
   ]
  },
  {
   "cell_type": "markdown",
   "id": "581b303c",
   "metadata": {},
   "source": [
    "https://icahn.mssm.edu/research/neurogenomics/computational-neuroepigenomics"
   ]
  },
  {
   "cell_type": "markdown",
   "id": "7dc994ff",
   "metadata": {},
   "source": [
    "https://insidehpc.com/2022/12/catalyzing-the-advancements-in-genomics-to-lower-barriers-to-sustainable-innovation/"
   ]
  },
  {
   "cell_type": "markdown",
   "id": "a946b124",
   "metadata": {},
   "source": [
    "https://news.med.virginia.edu/research/chongzhi-zang-phd-and-team-develop-powerful-analytical-tool-to-advance-genomics-and-disease-research/"
   ]
  },
  {
   "cell_type": "markdown",
   "id": "ce6f0e38",
   "metadata": {},
   "source": [
    "https://genomics-at-edinburgh.ed.ac.uk/teaching-and-training/postgraduate-study/genetics-and-molecular-medicine-mrc-human-genetics"
   ]
  },
  {
   "cell_type": "code",
   "execution_count": null,
   "id": "8f35e13b",
   "metadata": {},
   "outputs": [],
   "source": []
  }
 ],
 "metadata": {
  "kernelspec": {
   "display_name": "Python 3 (ipykernel)",
   "language": "python",
   "name": "python3"
  },
  "language_info": {
   "codemirror_mode": {
    "name": "ipython",
    "version": 3
   },
   "file_extension": ".py",
   "mimetype": "text/x-python",
   "name": "python",
   "nbconvert_exporter": "python",
   "pygments_lexer": "ipython3",
   "version": "3.9.12"
  }
 },
 "nbformat": 4,
 "nbformat_minor": 5
}
