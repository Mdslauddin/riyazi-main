{
 "cells": [
  {
   "cell_type": "markdown",
   "id": "fd0adc56",
   "metadata": {},
   "source": [
    "https://www.bing.com/search?q=computer+complexity+theory&cvid=f8884db7d14f43cf995e15ba4e0c5d5a&aqs=edge..69i57j0l8.13221j0j1&pglt=297&FORM=ANNTA1&PC=HCTS"
   ]
  },
  {
   "cell_type": "markdown",
   "id": "8f671377",
   "metadata": {},
   "source": [
    "https://en.wikipedia.org/wiki/Computational_complexity_theory"
   ]
  },
  {
   "cell_type": "markdown",
   "id": "c65dd402",
   "metadata": {},
   "source": [
    "https://plato.stanford.edu/entries/computational-complexity/"
   ]
  },
  {
   "cell_type": "markdown",
   "id": "d782e62d",
   "metadata": {},
   "source": [
    "https://en.wikipedia.org/wiki/Complexity_theory"
   ]
  },
  {
   "cell_type": "markdown",
   "id": "5776127f",
   "metadata": {},
   "source": [
    "https://medium.com/@junp01/an-introduction-to-complexity-theory-3c20695725f8"
   ]
  },
  {
   "cell_type": "markdown",
   "id": "169f964b",
   "metadata": {},
   "source": [
    "https://www.geeksforgeeks.org/introduction-to-computation-complex-theory/"
   ]
  },
  {
   "cell_type": "markdown",
   "id": "78651e0e",
   "metadata": {},
   "source": [
    "https://www.cl.cam.ac.uk/teaching/2021/Complexity/"
   ]
  },
  {
   "cell_type": "markdown",
   "id": "b222f42b",
   "metadata": {},
   "source": [
    "https://www.quora.com/What-is-the-base-of-log-in-computer-complexity-theory"
   ]
  },
  {
   "cell_type": "markdown",
   "id": "d0aa4b11",
   "metadata": {},
   "source": [
    "https://www.cse.iitb.ac.in/~theory/"
   ]
  },
  {
   "cell_type": "markdown",
   "id": "3b8db9e7",
   "metadata": {},
   "source": [
    "https://www.seh.ox.ac.uk/blog/an-introduction-to-research-in-computational-complexity-theory"
   ]
  },
  {
   "cell_type": "markdown",
   "id": "644ff054",
   "metadata": {},
   "source": [
    "https://www.section.io/engineering-education/introduction-to-theory-of-computation/"
   ]
  },
  {
   "cell_type": "markdown",
   "id": "8aedb6c2",
   "metadata": {},
   "source": [
    "https://mathworld.wolfram.com/ComplexityTheory.html"
   ]
  },
  {
   "cell_type": "markdown",
   "id": "2ce1ca97",
   "metadata": {},
   "source": [
    "https://onlinecourses.nptel.ac.in/noc21_cs90/preview"
   ]
  },
  {
   "cell_type": "markdown",
   "id": "a943a24c",
   "metadata": {},
   "source": [
    "https://courses.cs.ut.ee/all/MTAT.07.004/2016_fall/uploads/"
   ]
  },
  {
   "cell_type": "markdown",
   "id": "d0e2e340",
   "metadata": {},
   "source": [
    "https://medium.com/the-ultimate-engineer/what-is-computational-complexity-66722cd5f8dd"
   ]
  },
  {
   "cell_type": "markdown",
   "id": "da7ad402",
   "metadata": {},
   "source": [
    "https://www.britannica.com/topic/computational-complexity"
   ]
  },
  {
   "cell_type": "markdown",
   "id": "4fc21b59",
   "metadata": {},
   "source": [
    "https://www.cs.rochester.edu/research/theory/index.html"
   ]
  },
  {
   "cell_type": "code",
   "execution_count": null,
   "id": "2cce19e0",
   "metadata": {},
   "outputs": [],
   "source": []
  }
 ],
 "metadata": {
  "kernelspec": {
   "display_name": "Python 3 (ipykernel)",
   "language": "python",
   "name": "python3"
  },
  "language_info": {
   "codemirror_mode": {
    "name": "ipython",
    "version": 3
   },
   "file_extension": ".py",
   "mimetype": "text/x-python",
   "name": "python",
   "nbconvert_exporter": "python",
   "pygments_lexer": "ipython3",
   "version": "3.9.12"
  }
 },
 "nbformat": 4,
 "nbformat_minor": 5
}
