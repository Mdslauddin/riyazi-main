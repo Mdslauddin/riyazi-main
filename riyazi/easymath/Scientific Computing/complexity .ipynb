{
 "cells": [
  {
   "cell_type": "markdown",
   "id": "ffffd64a",
   "metadata": {},
   "source": [
    "# Outline \n",
    "\n",
    "### `Factors`\n",
    "### `Factorial` **ex. (100,000)**\n",
    "### `Exponential` **e* *1e100**\n",
    "### `Large number multiplication`"
   ]
  },
  {
   "cell_type": "markdown",
   "id": "72279420",
   "metadata": {},
   "source": [
    "### `prime factorization`"
   ]
  },
  {
   "cell_type": "markdown",
   "id": "68290561",
   "metadata": {},
   "source": [
    "# Questions \n",
    "\n",
    "**Q1. factorial of it's number 1e100!, 1e1000!** factorial \n",
    "\n",
    "\n",
    "**Q2.  (100,* *10000000)** exponential\n",
    "\n",
    "**Q3. e* *100000**  exponential \n",
    "\n",
    "**Q4. 1e1000c* 1e100** multiplication\n",
    "\n",
    "**Q5. factors(1000000000)**  10-digits, CPU times: total: 49.8 s, Wall time: 50.6 s\n",
    "\n",
    "**Q6. factorial of it's number 2* *1e1000**"
   ]
  },
  {
   "cell_type": "markdown",
   "id": "a1e1da44",
   "metadata": {},
   "source": [
    "# Questions \n",
    "**e* *(100!)**\n",
    "\n",
    "**exp(100!)**\n",
    "\n",
    "**100!* *1000**\n",
    "\n",
    "**pi* *e* *10* *2**\n",
    "\n",
    "**sqrt(2 * *100000000)**\n",
    "\n",
    "**sqrt(2* * 3* *10)**\n",
    "\n",
    "\n"
   ]
  },
  {
   "cell_type": "markdown",
   "id": "576e9691",
   "metadata": {},
   "source": [
    "### 2**3**10 == pow(2,pow(3,10))"
   ]
  },
  {
   "cell_type": "markdown",
   "id": "4a43c6f5",
   "metadata": {},
   "source": [
    "https://en.wikipedia.org/wiki/GitHub_Copilot"
   ]
  },
  {
   "cell_type": "code",
   "execution_count": null,
   "id": "01793f33",
   "metadata": {},
   "outputs": [],
   "source": [
    "import math"
   ]
  },
  {
   "cell_type": "code",
   "execution_count": null,
   "id": "df7819c0",
   "metadata": {},
   "outputs": [],
   "source": [
    "math.sqrt(pow(2,pow(3,10)))"
   ]
  },
  {
   "cell_type": "code",
   "execution_count": null,
   "id": "650aa248",
   "metadata": {},
   "outputs": [],
   "source": [
    "2**3**10 == pow(2,pow(3,10))"
   ]
  },
  {
   "cell_type": "code",
   "execution_count": null,
   "id": "951c6f73",
   "metadata": {},
   "outputs": [],
   "source": [
    "1e10"
   ]
  },
  {
   "cell_type": "code",
   "execution_count": null,
   "id": "10a1eb9c",
   "metadata": {},
   "outputs": [],
   "source": [
    "1e100"
   ]
  },
  {
   "cell_type": "code",
   "execution_count": null,
   "id": "a9594cd0",
   "metadata": {},
   "outputs": [],
   "source": [
    "1*2*3*4*5*6*7*8*9*10*11*12*13*14*15"
   ]
  },
  {
   "cell_type": "code",
   "execution_count": null,
   "id": "42bc2a7a",
   "metadata": {},
   "outputs": [],
   "source": [
    "import math "
   ]
  },
  {
   "cell_type": "code",
   "execution_count": null,
   "id": "d03ee321",
   "metadata": {
    "scrolled": false
   },
   "outputs": [],
   "source": [
    "%%time\n",
    "math.factorial(1000000000)"
   ]
  },
  {
   "cell_type": "code",
   "execution_count": null,
   "id": "1087de6c",
   "metadata": {},
   "outputs": [],
   "source": [
    "1e15-\n"
   ]
  },
  {
   "cell_type": "code",
   "execution_count": null,
   "id": "8bfc7301",
   "metadata": {},
   "outputs": [],
   "source": [
    "1e1"
   ]
  },
  {
   "cell_type": "code",
   "execution_count": null,
   "id": "5d5cb625",
   "metadata": {},
   "outputs": [],
   "source": [
    "1e1000"
   ]
  },
  {
   "cell_type": "code",
   "execution_count": null,
   "id": "27ca3a03",
   "metadata": {},
   "outputs": [],
   "source": [
    "import math "
   ]
  },
  {
   "cell_type": "code",
   "execution_count": null,
   "id": "bc557b4d",
   "metadata": {},
   "outputs": [],
   "source": [
    "%%time\n",
    "math.factorial(math.inf)"
   ]
  },
  {
   "cell_type": "code",
   "execution_count": null,
   "id": "bcafd36a",
   "metadata": {},
   "outputs": [],
   "source": [
    "%%time\n",
    "math.factorial(10) # (1000000)"
   ]
  },
  {
   "cell_type": "code",
   "execution_count": null,
   "id": "0a7ba4f3",
   "metadata": {},
   "outputs": [],
   "source": [
    "range(1,10)"
   ]
  },
  {
   "cell_type": "code",
   "execution_count": null,
   "id": "df785bdf",
   "metadata": {},
   "outputs": [],
   "source": [
    "def factorials(x):\n",
    "    \n",
    "    for i in range(1,x): \n",
    "        if (x != i):\n",
    "            \n",
    "            fact = x-1\n",
    "            res = x*fact\n",
    "        return res\n",
    "        "
   ]
  },
  {
   "cell_type": "code",
   "execution_count": null,
   "id": "7684d4a1",
   "metadata": {},
   "outputs": [],
   "source": [
    "factorials(5)"
   ]
  },
  {
   "cell_type": "code",
   "execution_count": null,
   "id": "d1f06596",
   "metadata": {},
   "outputs": [],
   "source": [
    "def calculate_factorial_recursive(number):\n",
    "    '''\n",
    "    This function takes one agruments and\n",
    "    returns the factorials of that number\n",
    "    This is naive recursive approach\n",
    "    '''\n",
    "    #base case\n",
    "    if number == 1 or number == 0:\n",
    "        return 1\n",
    "    return number * calculate_factorial_recursive(number - 1)"
   ]
  },
  {
   "cell_type": "code",
   "execution_count": null,
   "id": "7500c2d4",
   "metadata": {},
   "outputs": [],
   "source": [
    "calculate_factorial_recursive(10000)"
   ]
  },
  {
   "cell_type": "code",
   "execution_count": null,
   "id": "bc56cf66",
   "metadata": {},
   "outputs": [],
   "source": [
    "def calculate_factorial_multi(number):\n",
    "\n",
    "    if number == 1 or number == 0:\n",
    "        return 1\n",
    "\n",
    "    result = 1 # variable to hold the result\n",
    "\n",
    "    for x in range(1, number + 1, 1):\n",
    "        result *= x\n",
    "    return result"
   ]
  },
  {
   "cell_type": "code",
   "execution_count": null,
   "id": "5bc7d3e8",
   "metadata": {},
   "outputs": [],
   "source": [
    "%%time\n",
    "calculate_factorial_multi(10000)"
   ]
  },
  {
   "cell_type": "code",
   "execution_count": null,
   "id": "098f240c",
   "metadata": {},
   "outputs": [],
   "source": [
    "import math "
   ]
  },
  {
   "cell_type": "code",
   "execution_count": null,
   "id": "0b6a562c",
   "metadata": {},
   "outputs": [],
   "source": [
    "%%time\n",
    "math.factorial(100000)"
   ]
  },
  {
   "cell_type": "code",
   "execution_count": null,
   "id": "ce5574ca",
   "metadata": {},
   "outputs": [],
   "source": [
    "def fact(n):\n",
    "    if n==1 or n==0:\n",
    "        return 1\n",
    "    else:\n",
    "        return n*fact(n-1)"
   ]
  },
  {
   "cell_type": "code",
   "execution_count": null,
   "id": "178c8c74",
   "metadata": {},
   "outputs": [],
   "source": [
    "%%time\n",
    "fact(100000)"
   ]
  },
  {
   "cell_type": "code",
   "execution_count": null,
   "id": "22e00a14",
   "metadata": {},
   "outputs": [],
   "source": [
    "def factorial(n):\n",
    "    f = 1\n",
    "    for i in range (n,0,-1):\n",
    "        f = f * i\n",
    "    return f"
   ]
  },
  {
   "cell_type": "code",
   "execution_count": null,
   "id": "b1aed8cd",
   "metadata": {},
   "outputs": [],
   "source": [
    "%%time\n",
    "factorial(100000)"
   ]
  },
  {
   "cell_type": "code",
   "execution_count": null,
   "id": "3fadc389",
   "metadata": {},
   "outputs": [],
   "source": [
    "import math "
   ]
  },
  {
   "cell_type": "code",
   "execution_count": null,
   "id": "c380f7e5",
   "metadata": {},
   "outputs": [],
   "source": [
    "%%time\n",
    "math.factorial(100000)"
   ]
  },
  {
   "cell_type": "code",
   "execution_count": null,
   "id": "75eec6db",
   "metadata": {},
   "outputs": [],
   "source": []
  },
  {
   "cell_type": "code",
   "execution_count": null,
   "id": "b4975004",
   "metadata": {},
   "outputs": [],
   "source": [
    "2**1000000"
   ]
  },
  {
   "cell_type": "code",
   "execution_count": null,
   "id": "7049bf34",
   "metadata": {},
   "outputs": [],
   "source": [
    "import math"
   ]
  },
  {
   "cell_type": "code",
   "execution_count": null,
   "id": "da5bb71e",
   "metadata": {},
   "outputs": [],
   "source": [
    "math.factorial(2**30)"
   ]
  },
  {
   "cell_type": "code",
   "execution_count": null,
   "id": "9e8f5e71",
   "metadata": {},
   "outputs": [],
   "source": [
    "2**1000"
   ]
  },
  {
   "cell_type": "code",
   "execution_count": null,
   "id": "c97dfebb",
   "metadata": {},
   "outputs": [],
   "source": []
  },
  {
   "cell_type": "code",
   "execution_count": null,
   "id": "8a58b30b",
   "metadata": {},
   "outputs": [],
   "source": []
  },
  {
   "cell_type": "code",
   "execution_count": null,
   "id": "9053589c",
   "metadata": {},
   "outputs": [],
   "source": []
  },
  {
   "cell_type": "code",
   "execution_count": null,
   "id": "de586fb3",
   "metadata": {},
   "outputs": [],
   "source": []
  },
  {
   "cell_type": "code",
   "execution_count": null,
   "id": "7037678a",
   "metadata": {},
   "outputs": [],
   "source": []
  },
  {
   "cell_type": "code",
   "execution_count": null,
   "id": "911a38a1",
   "metadata": {},
   "outputs": [],
   "source": []
  },
  {
   "cell_type": "code",
   "execution_count": null,
   "id": "40507e4a",
   "metadata": {},
   "outputs": [],
   "source": [
    "1e1"
   ]
  },
  {
   "cell_type": "code",
   "execution_count": null,
   "id": "b7ab49d7",
   "metadata": {},
   "outputs": [],
   "source": [
    "1e9"
   ]
  },
  {
   "cell_type": "code",
   "execution_count": null,
   "id": "1c54d6bd",
   "metadata": {
    "scrolled": true
   },
   "outputs": [],
   "source": [
    "1e1000== math.inf"
   ]
  },
  {
   "cell_type": "code",
   "execution_count": null,
   "id": "76103a62",
   "metadata": {},
   "outputs": [],
   "source": [
    "from math import e \n",
    "\n",
    "e**1000  #e**1000"
   ]
  },
  {
   "cell_type": "code",
   "execution_count": null,
   "id": "369ebf85",
   "metadata": {},
   "outputs": [],
   "source": [
    "10**1000000"
   ]
  },
  {
   "cell_type": "code",
   "execution_count": null,
   "id": "978be870",
   "metadata": {},
   "outputs": [],
   "source": [
    "1e1000* 1e100"
   ]
  },
  {
   "cell_type": "code",
   "execution_count": null,
   "id": "9a9d429c",
   "metadata": {
    "scrolled": true
   },
   "outputs": [],
   "source": [
    "1e100* 1e99 * 1e98"
   ]
  },
  {
   "cell_type": "code",
   "execution_count": null,
   "id": "279cb3fb",
   "metadata": {},
   "outputs": [],
   "source": [
    "import math \n"
   ]
  },
  {
   "cell_type": "code",
   "execution_count": null,
   "id": "13c6aead",
   "metadata": {},
   "outputs": [],
   "source": [
    "%%time\n",
    "math.exp(3628800)"
   ]
  },
  {
   "cell_type": "code",
   "execution_count": null,
   "id": "ca592717",
   "metadata": {},
   "outputs": [],
   "source": [
    "math.factorial(10)"
   ]
  },
  {
   "cell_type": "code",
   "execution_count": null,
   "id": "08c86af6",
   "metadata": {},
   "outputs": [],
   "source": []
  }
 ],
 "metadata": {
  "kernelspec": {
   "display_name": "Python 3 (ipykernel)",
   "language": "python",
   "name": "python3"
  },
  "language_info": {
   "codemirror_mode": {
    "name": "ipython",
    "version": 3
   },
   "file_extension": ".py",
   "mimetype": "text/x-python",
   "name": "python",
   "nbconvert_exporter": "python",
   "pygments_lexer": "ipython3",
   "version": "3.9.12"
  }
 },
 "nbformat": 4,
 "nbformat_minor": 5
}
