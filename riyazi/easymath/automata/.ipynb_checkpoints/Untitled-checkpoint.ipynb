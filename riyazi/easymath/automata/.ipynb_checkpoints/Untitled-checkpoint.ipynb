{
 "cells": [
  {
   "cell_type": "code",
   "execution_count": 1,
   "id": "2d109443",
   "metadata": {},
   "outputs": [],
   "source": [
    "import dfa"
   ]
  },
  {
   "cell_type": "code",
   "execution_count": 4,
   "id": "9490576b",
   "metadata": {},
   "outputs": [
    {
     "data": {
      "text/plain": [
       "<function dfa.DFA(transitions, start, final, string)>"
      ]
     },
     "execution_count": 4,
     "metadata": {},
     "output_type": "execute_result"
    }
   ],
   "source": [
    "dfa.DFA"
   ]
  },
  {
   "cell_type": "code",
   "execution_count": null,
   "id": "e0a215e7",
   "metadata": {},
   "outputs": [],
   "source": []
  }
 ],
 "metadata": {
  "kernelspec": {
   "display_name": "Python 3 (ipykernel)",
   "language": "python",
   "name": "python3"
  },
  "language_info": {
   "codemirror_mode": {
    "name": "ipython",
    "version": 3
   },
   "file_extension": ".py",
   "mimetype": "text/x-python",
   "name": "python",
   "nbconvert_exporter": "python",
   "pygments_lexer": "ipython3",
   "version": "3.9.12"
  }
 },
 "nbformat": 4,
 "nbformat_minor": 5
}
