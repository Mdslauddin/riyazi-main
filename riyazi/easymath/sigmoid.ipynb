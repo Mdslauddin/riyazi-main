{
 "cells": [
  {
   "cell_type": "code",
   "execution_count": 1,
   "id": "970c5f0a",
   "metadata": {},
   "outputs": [
    {
     "ename": "NameError",
     "evalue": "name 'curve_fit' is not defined",
     "output_type": "error",
     "traceback": [
      "\u001b[1;31m---------------------------------------------------------------------------\u001b[0m",
      "\u001b[1;31mNameError\u001b[0m                                 Traceback (most recent call last)",
      "Input \u001b[1;32mIn [1]\u001b[0m, in \u001b[0;36m<cell line: 3>\u001b[1;34m()\u001b[0m\n\u001b[0;32m      1\u001b[0m \u001b[38;5;28;01mdef\u001b[39;00m \u001b[38;5;21mfsigmoid\u001b[39m(x, a, b):\n\u001b[0;32m      2\u001b[0m     \u001b[38;5;28;01mreturn\u001b[39;00m \u001b[38;5;241m1.0\u001b[39m \u001b[38;5;241m/\u001b[39m (\u001b[38;5;241m1.0\u001b[39m \u001b[38;5;241m+\u001b[39m np\u001b[38;5;241m.\u001b[39mexp(\u001b[38;5;241m-\u001b[39ma\u001b[38;5;241m*\u001b[39m(x\u001b[38;5;241m-\u001b[39mb)))\n\u001b[1;32m----> 3\u001b[0m popt, pcov \u001b[38;5;241m=\u001b[39m \u001b[43mcurve_fit\u001b[49m(fsigmoid, xdata, ydata, method\u001b[38;5;241m=\u001b[39m\u001b[38;5;124m'\u001b[39m\u001b[38;5;124mdogbox\u001b[39m\u001b[38;5;124m'\u001b[39m, bounds\u001b[38;5;241m=\u001b[39m([\u001b[38;5;241m0.\u001b[39m, \u001b[38;5;241m600.\u001b[39m],[\u001b[38;5;241m0.01\u001b[39m, \u001b[38;5;241m1200.\u001b[39m]))\n",
      "\u001b[1;31mNameError\u001b[0m: name 'curve_fit' is not defined"
     ]
    }
   ],
   "source": [
    "def fsigmoid(x, a, b):\n",
    "    return 1.0 / (1.0 + np.exp(-a*(x-b)))\n",
    "popt, pcov = curve_fit(fsigmoid, xdata, ydata, method='dogbox', bounds=([0., 600.],[0.01, 1200.]))"
   ]
  },
  {
   "cell_type": "code",
   "execution_count": 3,
   "id": "034ee931",
   "metadata": {},
   "outputs": [
    {
     "name": "stderr",
     "output_type": "stream",
     "text": [
      "D:\\Anaconda\\lib\\site-packages\\scipy\\optimize\\minpack.py:833: OptimizeWarning: Covariance of the parameters could not be estimated\n",
      "  warnings.warn('Covariance of the parameters could not be estimated',\n"
     ]
    },
    {
     "name": "stdout",
     "output_type": "stream",
     "text": [
      "[1. 1.]\n"
     ]
    },
    {
     "data": {
      "image/png": "[encoded data removed]",
      "text/plain": [
       "<Figure size 432x288 with 1 Axes>"
      ]
     },
     "metadata": {
      "needs_background": "light"
     },
     "output_type": "display_data"
    }
   ],
   "source": [
    "import numpy as np\n",
    "import pylab\n",
    "from scipy.optimize import curve_fit\n",
    "\n",
    "def sigmoid(x, a, b):\n",
    "    \n",
    "    y = 1 / (1 + np.exp(-b*(x-a)))\n",
    "    return y\n",
    "\n",
    "xdata = np.array([400, 600, 800, 1000, 1200, 1400, 1600])\n",
    "ydata = np.array([0, 0, 0.13, 0.35, 0.75, 0.89, 0.91])\n",
    "         \n",
    "popt, pcov = curve_fit(sigmoid, xdata, ydata)\n",
    "print(popt)\n",
    "\n",
    "x = np.linspace(-1, 2000, 50)\n",
    "y = sigmoid(x, *popt)\n",
    "\n",
    "pylab.plot(xdata, ydata, 'o', label='data')\n",
    "pylab.plot(x,y, label='fit')\n",
    "pylab.ylim(0, 1.05)\n",
    "pylab.legend(loc='best')\n",
    "pylab.show()"
   ]
  },
  {
   "cell_type": "code",
   "execution_count": 4,
   "id": "bd9e47b0",
   "metadata": {},
   "outputs": [],
   "source": [
    "def fsigmoid(x, a, b):\n",
    "    return 1.0 / (1.0 + np.exp(-a*(x-b)))\n",
    "\n",
    "popt, pcov = curve_fit(fsigmoid, xdata, ydata, method='dogbox', bounds=([0., 600.],[0.01, 1200.]))"
   ]
  },
  {
   "cell_type": "code",
   "execution_count": 5,
   "id": "04f1e351",
   "metadata": {},
   "outputs": [
    {
     "name": "stdout",
     "output_type": "stream",
     "text": [
      "f_s: [[0.05678618 0.99652957 0.97491304]]\n",
      "h_sample: [[0 1 1]]\n",
      "f_u: [[0.99310473 0.00139984 0.99604968 0.99712837]]\n",
      "v_sample: [[1 0 1 1]]\n",
      "[[1 0 1 1]]\n",
      "iter: 0  h: [[0 1 1]]  x: [[1 0 1 1]]  entropy:1.637\n",
      "f_s: [[4.90301318e-04 9.99973278e-01 9.99654440e-01]]\n",
      "h_sample: [[0 1 1]]\n",
      "f_u: [[0.99310473 0.00139984 0.99604968 0.99712837]]\n",
      "v_sample: [[1 0 1 1]]\n",
      "[[1 0 1 1]]\n",
      "iter: 1  h: [[0 1 1]]  x: [[1 0 1 1]]  entropy:1.637\n"
     ]
    }
   ],
   "source": [
    "import numpy as np\n",
    "\n",
    "np.random.seed(10)\n",
    "\n",
    "def sigmoid(u):\n",
    "    return 1/(1+np.exp(-u))\n",
    "\n",
    "def gibbs_vhv(W, hbias, vbias, x):\n",
    "    f_s = sigmoid(np.dot(x, W) + hbias)\n",
    "    h_sample = np.random.binomial(size=f_s.shape, n=1, p=f_s)\n",
    "\n",
    "    f_u = sigmoid(np.dot(h_sample, W.transpose())+vbias)\n",
    "    v_sample = np.random.binomial(size=f_u.shape, n=1, p=f_u)\n",
    "    return [f_s, h_sample, f_u, v_sample]\n",
    "\n",
    "def reconstruction_error(f_u, x):\n",
    "    cross_entropy = -np.mean(\n",
    "        np.sum(\n",
    "            x * np.log(sigmoid(f_u)) + (1 - x) * np.log(1 - sigmoid(f_u)),\n",
    "            axis=1))\n",
    "    return cross_entropy\n",
    "\n",
    "\n",
    "X = np.array([[1, 0, 0, 0]])\n",
    "\n",
    "#Weight to hidden\n",
    "W = np.array([[-3.85, 10.14, 1.16],\n",
    "              [6.69, 2.84, -7.73],\n",
    "              [1.37, 10.76, -3.98],\n",
    "              [-6.18, -5.89, 8.29]])\n",
    "\n",
    "hbias = np.array([1.04, -4.48, 2.50]) #<= 3 bias for 3 neuron in hidden\n",
    "vbias = np.array([-6.33, -1.68, -1.25, 3.45]) #<= 4 bias for 4 neuron in input\n",
    "\n",
    "\n",
    "k = 2\n",
    "v_sample = X\n",
    "for i in range(k):\n",
    "    [f_s, h_sample, f_u, v_sample] = gibbs_vhv(W, hbias, vbias, v_sample)\n",
    "    start = v_sample\n",
    "    if i < 2:\n",
    "        print('f_s:', f_s)\n",
    "        print('h_sample:', h_sample)\n",
    "        print('f_u:', f_u)\n",
    "        print('v_sample:', v_sample)\n",
    "    print(v_sample)\n",
    "    print('iter:', i, ' h:', h_sample, ' x:', v_sample, ' entropy:%.3f'%reconstruction_error(f_u, v_sample))"
   ]
  },
  {
   "cell_type": "code",
   "execution_count": null,
   "id": "18119d01",
   "metadata": {},
   "outputs": [],
   "source": []
  }
 ],
 "metadata": {
  "kernelspec": {
   "display_name": "Python 3 (ipykernel)",
   "language": "python",
   "name": "python3"
  },
  "language_info": {
   "codemirror_mode": {
    "name": "ipython",
    "version": 3
   },
   "file_extension": ".py",
   "mimetype": "text/x-python",
   "name": "python",
   "nbconvert_exporter": "python",
   "pygments_lexer": "ipython3",
   "version": "3.9.12"
  }
 },
 "nbformat": 4,
 "nbformat_minor": 5
}
