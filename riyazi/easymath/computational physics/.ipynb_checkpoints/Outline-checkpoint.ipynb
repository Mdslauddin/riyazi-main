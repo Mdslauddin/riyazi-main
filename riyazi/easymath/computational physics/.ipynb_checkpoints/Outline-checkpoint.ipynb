{
 "cells": [
  {
   "cell_type": "markdown",
   "id": "8f86abe9",
   "metadata": {},
   "source": [
    "https://freecoursesites.org/computational-physics-scientific-programming-with-python/"
   ]
  },
  {
   "cell_type": "markdown",
   "id": "a44f4cb0",
   "metadata": {},
   "source": [
    "https://docslib.org/doc/15895/journal-of-computational-physics"
   ]
  },
  {
   "cell_type": "markdown",
   "id": "0fc42c41",
   "metadata": {},
   "source": [
    "https://lesothoreview.com/solve-physics-computational-problems-using-python.html"
   ]
  },
  {
   "cell_type": "markdown",
   "id": "cf44fa49",
   "metadata": {},
   "source": [
    "https://awesomeopensource.com/projects/computational-physics/python?mode="
   ]
  },
  {
   "cell_type": "markdown",
   "id": "528d0fd0",
   "metadata": {},
   "source": [
    "https://en.wikipedia.org/wiki/Computational_physics"
   ]
  },
  {
   "cell_type": "markdown",
   "id": "fc1e0e10",
   "metadata": {},
   "source": [
    "https://www.cmu.edu/physics/research/comp-phys.html"
   ]
  },
  {
   "cell_type": "markdown",
   "id": "f040194d",
   "metadata": {},
   "source": [
    "https://www.physicsread.com/computational-physics/"
   ]
  },
  {
   "cell_type": "markdown",
   "id": "fb32470b",
   "metadata": {},
   "source": [
    "https://www.physics.purdue.edu/~hisao/book/"
   ]
  },
  {
   "cell_type": "markdown",
   "id": "1833887b",
   "metadata": {},
   "source": [
    "https://compphysics.readthedocs.io/"
   ]
  },
  {
   "cell_type": "markdown",
   "id": "7bc487bc",
   "metadata": {},
   "source": [
    "https://www.cambridge.org/core/books/abs/computational-physics/quantum-monte-carlo-methods/4D96A0D50E392D995BD78A5F8011BABA"
   ]
  },
  {
   "cell_type": "markdown",
   "id": "6c18a822",
   "metadata": {},
   "source": [
    "https://www.physics.rutgers.edu/grad/509/"
   ]
  },
  {
   "cell_type": "markdown",
   "id": "e4fadde1",
   "metadata": {},
   "source": [
    "https://www.frontiersin.org/journals/physics/sections/computational-physics"
   ]
  },
  {
   "cell_type": "markdown",
   "id": "8a366595",
   "metadata": {},
   "source": [
    "https://www.phdassistance.com/blog/the-advancement-and-challenges-in-computational-physics/"
   ]
  },
  {
   "cell_type": "markdown",
   "id": "198a7cc4",
   "metadata": {},
   "source": [
    "https://pweb.cfa.harvard.edu/research/science-field/computational-astrophysics"
   ]
  },
  {
   "cell_type": "markdown",
   "id": "43e082aa",
   "metadata": {},
   "source": [
    "https://www.quora.com/What-is-computational-physics-1"
   ]
  },
  {
   "cell_type": "markdown",
   "id": "cd70a366",
   "metadata": {},
   "source": [
    "https://ww2.odu.edu/~agodunov/teaching/phys420/projects.html"
   ]
  },
  {
   "cell_type": "markdown",
   "id": "78f2dd12",
   "metadata": {},
   "source": [
    "https://en.wikipedia.org/wiki/Outline_of_physics"
   ]
  },
  {
   "cell_type": "markdown",
   "id": "71695655",
   "metadata": {},
   "source": [
    "https://www.iisermohali.ac.in/files/webfolders/courses-of-study-2022/node310.html"
   ]
  },
  {
   "cell_type": "markdown",
   "id": "c4cd9763",
   "metadata": {},
   "source": [
    "https://computation.physics.utoronto.ca/"
   ]
  },
  {
   "cell_type": "markdown",
   "id": "468deb7c",
   "metadata": {},
   "source": [
    "https://www.udemy.com/course/computational-physics/"
   ]
  },
  {
   "cell_type": "markdown",
   "id": "5cfc68d3",
   "metadata": {},
   "source": [
    "http://compphysics.github.io/ComputationalPhysics/doc/pub/integrate/html/integrate.html"
   ]
  },
  {
   "cell_type": "markdown",
   "id": "b3732922",
   "metadata": {},
   "source": [
    "https://hplgit.github.io/edu/py_vs_m/._numerical_programming_guide001.html#:~:text=The%20Trapezoidal%20rule%20is%20implemented%20in%20a%20separate,formula%20is%20implemented%20in%20a%20separate%20Python%20function."
   ]
  },
  {
   "cell_type": "markdown",
   "id": "968464e4",
   "metadata": {},
   "source": [
    "https://www.physics.uoguelph.ca/chapter-6-delta-function"
   ]
  },
  {
   "cell_type": "code",
   "execution_count": null,
   "id": "2b6d2145",
   "metadata": {},
   "outputs": [],
   "source": []
  }
 ],
 "metadata": {
  "kernelspec": {
   "display_name": "Python 3 (ipykernel)",
   "language": "python",
   "name": "python3"
  },
  "language_info": {
   "codemirror_mode": {
    "name": "ipython",
    "version": 3
   },
   "file_extension": ".py",
   "mimetype": "text/x-python",
   "name": "python",
   "nbconvert_exporter": "python",
   "pygments_lexer": "ipython3",
   "version": "3.9.12"
  }
 },
 "nbformat": 4,
 "nbformat_minor": 5
}
