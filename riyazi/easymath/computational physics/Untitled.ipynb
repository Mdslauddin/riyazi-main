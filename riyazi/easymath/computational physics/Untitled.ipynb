{
 "cells": [
  {
   "cell_type": "markdown",
   "id": "7ee76934",
   "metadata": {},
   "source": [
    "https://physics.nyu.edu/pine/pymanual/html/chap9/chap9_scipy.html"
   ]
  },
  {
   "cell_type": "code",
   "execution_count": 2,
   "id": "a7e901fb",
   "metadata": {},
   "outputs": [
    {
     "name": "stdout",
     "output_type": "stream",
     "text": [
      "1.8128049473666044\n"
     ]
    }
   ],
   "source": [
    "def Trapezoidal(f, a, b, n):\n",
    "    h = (b-a)/float(n)\n",
    "    s = 0.5*(f(a) + f(b))\n",
    "    for i in range(1,n,1):\n",
    "        s = s + f(a + i*h)\n",
    "    return h*s\n",
    "\n",
    "from math import exp  # or from math import *\n",
    "def g(t):\n",
    "    return exp(-t**4)\n",
    "\n",
    "a = -2;  b = 2\n",
    "n = 1000\n",
    "result = Trapezoidal(g, a, b, n)\n",
    "print (result)"
   ]
  },
  {
   "cell_type": "markdown",
   "id": "fd4e40c6",
   "metadata": {},
   "source": [
    "https://en.wikipedia.org/wiki/Trapezoidal_rule"
   ]
  },
  {
   "cell_type": "markdown",
   "id": "374f3330",
   "metadata": {},
   "source": [
    "https://en.wikipedia.org/wiki/File:Composite_trapezoidal_rule_illustration.png"
   ]
  },
  {
   "cell_type": "code",
   "execution_count": null,
   "id": "0a9738d0",
   "metadata": {},
   "outputs": [],
   "source": []
  }
 ],
 "metadata": {
  "kernelspec": {
   "display_name": "Python 3 (ipykernel)",
   "language": "python",
   "name": "python3"
  },
  "language_info": {
   "codemirror_mode": {
    "name": "ipython",
    "version": 3
   },
   "file_extension": ".py",
   "mimetype": "text/x-python",
   "name": "python",
   "nbconvert_exporter": "python",
   "pygments_lexer": "ipython3",
   "version": "3.9.12"
  }
 },
 "nbformat": 4,
 "nbformat_minor": 5
}
