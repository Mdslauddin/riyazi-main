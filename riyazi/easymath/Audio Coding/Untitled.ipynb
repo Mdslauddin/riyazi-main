{
 "cells": [
  {
   "cell_type": "code",
   "execution_count": null,
   "id": "f401d19a",
   "metadata": {},
   "outputs": [],
   "source": [
    "import time\n",
    "import numpy as np \n",
    "from pyaudio import PyAudio, paFloat32, paContinue, paInt16,paComplete\n",
    "from ipywidgets import ToggleButton, Checkbox\n",
    "import threading\n",
    "\n",
    "samplin_on =False\n",
    "\n",
    "button_sttop  = ToggleButton(description=\"Stop\")\n",
    "box_sampling = Checkbox(False,description=\"Modulation\")\n",
    "\n",
    "def on_button_stop(change):\n",
    "    if change['new'] ==True:\n",
    "        stream"
   ]
  }
 ],
 "metadata": {
  "kernelspec": {
   "display_name": "Python 3 (ipykernel)",
   "language": "python",
   "name": "python3"
  },
  "language_info": {
   "codemirror_mode": {
    "name": "ipython",
    "version": 3
   },
   "file_extension": ".py",
   "mimetype": "text/x-python",
   "name": "python",
   "nbconvert_exporter": "python",
   "pygments_lexer": "ipython3",
   "version": "3.9.12"
  }
 },
 "nbformat": 4,
 "nbformat_minor": 5
}
