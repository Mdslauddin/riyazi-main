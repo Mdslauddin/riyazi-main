{
 "cells": [
  {
   "cell_type": "code",
   "execution_count": 1,
   "id": "3d6147bf",
   "metadata": {},
   "outputs": [],
   "source": [
    "def neville_interpolate(x_points: list, y_points: list, x0: int) -> list:\n",
    "    \"\"\"\n",
    "       Interpolate and evaluate a polynomial using Neville's method.\n",
    "       Arguments:\n",
    "           x_points, y_points: Iterables of x and corresponding y points through\n",
    "            which the polynomial passes.\n",
    "           x0: The value of x to evaluate the polynomial for.\n",
    "       Return Value: A list of the approximated value and the Neville iterations\n",
    "           table respectively.\n",
    "    >>> import pprint\n",
    "    >>> neville_interpolate((1,2,3,4,6), (6,7,8,9,11), 5)[0]\n",
    "    10.0\n",
    "    >>> pprint.pprint(neville_interpolate((1,2,3,4,6), (6,7,8,9,11), 99)[1])\n",
    "    [[0, 6, 0, 0, 0],\n",
    "     [0, 7, 0, 0, 0],\n",
    "     [0, 8, 104.0, 0, 0],\n",
    "     [0, 9, 104.0, 104.0, 0],\n",
    "     [0, 11, 104.0, 104.0, 104.0]]\n",
    "    >>> neville_interpolate((1,2,3,4,6), (6,7,8,9,11), 99)[0]\n",
    "    104.0\n",
    "    >>> neville_interpolate((1,2,3,4,6), (6,7,8,9,11), '')\n",
    "    Traceback (most recent call last):\n",
    "      File \"<stdin>\", line 1, in <module>\n",
    "      ...\n",
    "    TypeError: unsupported operand type(s) for -: 'str' and 'int'\n",
    "    \"\"\"\n",
    "    n = len(x_points)\n",
    "    q = [[0] * n for i in range(n)]\n",
    "    for i in range(n):\n",
    "        q[i][1] = y_points[i]\n",
    "\n",
    "    for i in range(2, n):\n",
    "        for j in range(i, n):\n",
    "            q[j][i] = (\n",
    "                (x0 - x_points[j - i + 1]) * q[j][i - 1]\n",
    "                - (x0 - x_points[j]) * q[j - 1][i - 1]\n",
    "            ) / (x_points[j] - x_points[j - i + 1])\n",
    "\n",
    "    return [q[n - 1][n - 1], q]"
   ]
  },
  {
   "cell_type": "code",
   "execution_count": null,
   "id": "a43b0279",
   "metadata": {},
   "outputs": [],
   "source": []
  }
 ],
 "metadata": {
  "kernelspec": {
   "display_name": "Python 3 (ipykernel)",
   "language": "python",
   "name": "python3"
  },
  "language_info": {
   "codemirror_mode": {
    "name": "ipython",
    "version": 3
   },
   "file_extension": ".py",
   "mimetype": "text/x-python",
   "name": "python",
   "nbconvert_exporter": "python",
   "pygments_lexer": "ipython3",
   "version": "3.9.12"
  }
 },
 "nbformat": 4,
 "nbformat_minor": 5
}
