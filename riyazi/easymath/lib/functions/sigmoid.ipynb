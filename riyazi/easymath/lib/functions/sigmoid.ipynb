{
 "cells": [
  {
   "cell_type": "markdown",
   "id": "b7407932",
   "metadata": {},
   "source": [
    "https://en.wikipedia.org/wiki/Sigmoid_function\n",
    "\n",
    "https://mathworld.wolfram.com/SigmoidFunction.html\n",
    "\n",
    "https://medium.com/analytics-vidhya/activation-function-sigmoid-7673dc0efcbe\n",
    "\n",
    "https://towardsdatascience.com/multi-layer-neural-networks-with-sigmoid-function-deep-learning-for-rookies-2-bf464f09eb7f"
   ]
  },
  {
   "cell_type": "code",
   "execution_count": 1,
   "id": "f9e5ae16",
   "metadata": {},
   "outputs": [],
   "source": [
    "from cmath import exp\n",
    "def sigmoid(value):\n",
    "    return 1 / (1 + exp(-value)).real"
   ]
  },
  {
   "cell_type": "code",
   "execution_count": 2,
   "id": "eae9474f",
   "metadata": {},
   "outputs": [
    {
     "data": {
      "text/plain": [
       "0.9996646498695336"
      ]
     },
     "execution_count": 2,
     "metadata": {},
     "output_type": "execute_result"
    }
   ],
   "source": [
    "sigmoid(8)"
   ]
  },
  {
   "cell_type": "code",
   "execution_count": null,
   "id": "84f01b26",
   "metadata": {},
   "outputs": [],
   "source": []
  }
 ],
 "metadata": {
  "kernelspec": {
   "display_name": "Python 3 (ipykernel)",
   "language": "python",
   "name": "python3"
  },
  "language_info": {
   "codemirror_mode": {
    "name": "ipython",
    "version": 3
   },
   "file_extension": ".py",
   "mimetype": "text/x-python",
   "name": "python",
   "nbconvert_exporter": "python",
   "pygments_lexer": "ipython3",
   "version": "3.9.12"
  }
 },
 "nbformat": 4,
 "nbformat_minor": 5
}
