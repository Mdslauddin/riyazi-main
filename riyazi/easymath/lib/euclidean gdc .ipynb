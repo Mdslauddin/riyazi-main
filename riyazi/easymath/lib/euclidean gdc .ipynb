{
 "cells": [
  {
   "cell_type": "code",
   "execution_count": 4,
   "id": "71074eae",
   "metadata": {},
   "outputs": [],
   "source": [
    "def euclidean_gcd(a: int, b: int) -> int:\n",
    "    \"\"\"\n",
    "    Examples:\n",
    "    >>> euclidean_gcd(3, 5)\n",
    "    1\n",
    "\n",
    "    >>> euclidean_gcd(6, 3)\n",
    "    3\n",
    "    \"\"\"\n",
    "    while b:\n",
    "        a, b = b, a % b\n",
    "    return a\n"
   ]
  },
  {
   "cell_type": "code",
   "execution_count": 6,
   "id": "cff15bd2",
   "metadata": {},
   "outputs": [
    {
     "data": {
      "text/plain": [
       "1"
      ]
     },
     "execution_count": 6,
     "metadata": {},
     "output_type": "execute_result"
    }
   ],
   "source": [
    "euclidean_gcd(4,5)"
   ]
  },
  {
   "cell_type": "code",
   "execution_count": null,
   "id": "7ac7a738",
   "metadata": {},
   "outputs": [],
   "source": []
  }
 ],
 "metadata": {
  "kernelspec": {
   "display_name": "Python 3 (ipykernel)",
   "language": "python",
   "name": "python3"
  },
  "language_info": {
   "codemirror_mode": {
    "name": "ipython",
    "version": 3
   },
   "file_extension": ".py",
   "mimetype": "text/x-python",
   "name": "python",
   "nbconvert_exporter": "python",
   "pygments_lexer": "ipython3",
   "version": "3.9.12"
  }
 },
 "nbformat": 4,
 "nbformat_minor": 5
}
