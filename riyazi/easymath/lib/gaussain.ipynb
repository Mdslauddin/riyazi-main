{
 "cells": [
  {
   "cell_type": "code",
   "execution_count": 1,
   "id": "8a820d55",
   "metadata": {},
   "outputs": [],
   "source": [
    "import numpy as np\n",
    "\n",
    "def gaussain(x, mu, sigma):\n",
    "    return 1/(np.sqrt(2*np.pi)*sigma)*np.exp(-np.power((x - mu)/sigma, 2) / 2)\n",
    "\n"
   ]
  },
  {
   "cell_type": "code",
   "execution_count": 2,
   "id": "d663dc5c",
   "metadata": {},
   "outputs": [
    {
     "data": {
      "text/plain": [
       "0.12579440923099774"
      ]
     },
     "execution_count": 2,
     "metadata": {},
     "output_type": "execute_result"
    }
   ],
   "source": [
    "gaussain(1,2,3)"
   ]
  },
  {
   "cell_type": "code",
   "execution_count": 1,
   "id": "209682db",
   "metadata": {},
   "outputs": [],
   "source": [
    "def gaussian(x, mu: float = 0.0, sigma: float = 1.0) -> int:\n",
    "    \"\"\"\n",
    "    >>> gaussian(1)\n",
    "    0.24197072451914337\n",
    "\n",
    "    >>> gaussian(24)\n",
    "    3.342714441794458e-126\n",
    "\n",
    "    >>> gaussian(1, 4, 2)\n",
    "    0.06475879783294587\n",
    "\n",
    "    >>> gaussian(1, 5, 3)\n",
    "    0.05467002489199788\n",
    "\n",
    "    Supports NumPy Arrays\n",
    "    Use numpy.meshgrid with this to generate gaussian blur on images.\n",
    "    >>> import numpy as np\n",
    "    >>> x = np.arange(15)\n",
    "    >>> gaussian(x)\n",
    "    array([3.98942280e-01, 2.41970725e-01, 5.39909665e-02, 4.43184841e-03,\n",
    "           1.33830226e-04, 1.48671951e-06, 6.07588285e-09, 9.13472041e-12,\n",
    "           5.05227108e-15, 1.02797736e-18, 7.69459863e-23, 2.11881925e-27,\n",
    "           2.14638374e-32, 7.99882776e-38, 1.09660656e-43])\n",
    "\n",
    "    >>> gaussian(15)\n",
    "    5.530709549844416e-50\n",
    "\n",
    "    >>> gaussian([1,2, 'string'])\n",
    "    Traceback (most recent call last):\n",
    "        ...\n",
    "    TypeError: unsupported operand type(s) for -: 'list' and 'float'\n",
    "\n",
    "    >>> gaussian('hello world')\n",
    "    Traceback (most recent call last):\n",
    "        ...\n",
    "    TypeError: unsupported operand type(s) for -: 'str' and 'float'\n",
    "\n",
    "    >>> gaussian(10**234) # doctest: +IGNORE_EXCEPTION_DETAIL\n",
    "    Traceback (most recent call last):\n",
    "        ...\n",
    "    OverflowError: (34, 'Result too large')\n",
    "\n",
    "    >>> gaussian(10**-326)\n",
    "    0.3989422804014327\n",
    "\n",
    "    >>> gaussian(2523, mu=234234, sigma=3425)\n",
    "    0.0\n",
    "    \"\"\"\n",
    "    return 1 / sqrt(2 * pi * sigma**2) * exp(-((x - mu) ** 2) / (2 * sigma**2))"
   ]
  },
  {
   "cell_type": "code",
   "execution_count": null,
   "id": "01bdd62a",
   "metadata": {},
   "outputs": [],
   "source": []
  }
 ],
 "metadata": {
  "kernelspec": {
   "display_name": "Python 3 (ipykernel)",
   "language": "python",
   "name": "python3"
  },
  "language_info": {
   "codemirror_mode": {
    "name": "ipython",
    "version": 3
   },
   "file_extension": ".py",
   "mimetype": "text/x-python",
   "name": "python",
   "nbconvert_exporter": "python",
   "pygments_lexer": "ipython3",
   "version": "3.9.12"
  }
 },
 "nbformat": 4,
 "nbformat_minor": 5
}
