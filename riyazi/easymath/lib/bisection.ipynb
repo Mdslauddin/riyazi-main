{
 "cells": [
  {
   "cell_type": "code",
   "execution_count": 1,
   "id": "9a89d9a3",
   "metadata": {},
   "outputs": [],
   "source": [
    "def equation(x: float) -> float:\n",
    "    \"\"\"\n",
    "    >>> equation(5)\n",
    "    -15\n",
    "    >>> equation(0)\n",
    "    10\n",
    "    >>> equation(-5)\n",
    "    -15\n",
    "    >>> equation(0.1)\n",
    "    9.99\n",
    "    >>> equation(-0.1)\n",
    "    9.99\n",
    "    \"\"\"\n",
    "    return 10 - x * x"
   ]
  },
  {
   "cell_type": "code",
   "execution_count": 2,
   "id": "059bcd47",
   "metadata": {},
   "outputs": [
    {
     "data": {
      "text/plain": [
       "-15"
      ]
     },
     "execution_count": 2,
     "metadata": {},
     "output_type": "execute_result"
    }
   ],
   "source": [
    "equation(5)"
   ]
  },
  {
   "cell_type": "code",
   "execution_count": 3,
   "id": "267e120f",
   "metadata": {},
   "outputs": [
    {
     "data": {
      "text/plain": [
       "{'x': float, 'return': float}"
      ]
     },
     "execution_count": 3,
     "metadata": {},
     "output_type": "execute_result"
    }
   ],
   "source": [
    "equation.__annotations__"
   ]
  },
  {
   "cell_type": "code",
   "execution_count": 4,
   "id": "6465dfa7",
   "metadata": {},
   "outputs": [
    {
     "data": {
      "text/plain": [
       "<method-wrapper '__call__' of function object at 0x000002A512F034C0>"
      ]
     },
     "execution_count": 4,
     "metadata": {},
     "output_type": "execute_result"
    }
   ],
   "source": [
    "equation.__call__"
   ]
  },
  {
   "cell_type": "code",
   "execution_count": 5,
   "id": "c420c324",
   "metadata": {},
   "outputs": [
    {
     "data": {
      "text/plain": [
       "function"
      ]
     },
     "execution_count": 5,
     "metadata": {},
     "output_type": "execute_result"
    }
   ],
   "source": [
    "equation.__class__"
   ]
  },
  {
   "cell_type": "code",
   "execution_count": 6,
   "id": "75408b3e",
   "metadata": {},
   "outputs": [],
   "source": [
    "equation.__closure__"
   ]
  },
  {
   "cell_type": "code",
   "execution_count": 7,
   "id": "48c7444a",
   "metadata": {},
   "outputs": [
    {
     "data": {
      "text/plain": [
       "<code object equation at 0x000002A512EE05B0, file \"C:\\Users\\md slauddin\\AppData\\Local\\Temp\\ipykernel_12276\\3352273245.py\", line 1>"
      ]
     },
     "execution_count": 7,
     "metadata": {},
     "output_type": "execute_result"
    }
   ],
   "source": [
    "equation.__code__"
   ]
  },
  {
   "cell_type": "code",
   "execution_count": 8,
   "id": "9e440686",
   "metadata": {},
   "outputs": [],
   "source": [
    "equation.__defaults__"
   ]
  },
  {
   "cell_type": "code",
   "execution_count": 9,
   "id": "9bb620f7",
   "metadata": {},
   "outputs": [
    {
     "data": {
      "text/plain": [
       "<method-wrapper '__delattr__' of function object at 0x000002A512F034C0>"
      ]
     },
     "execution_count": 9,
     "metadata": {},
     "output_type": "execute_result"
    }
   ],
   "source": [
    "equation.__delattr__"
   ]
  },
  {
   "cell_type": "code",
   "execution_count": 10,
   "id": "6f46f560",
   "metadata": {},
   "outputs": [
    {
     "data": {
      "text/plain": [
       "{}"
      ]
     },
     "execution_count": 10,
     "metadata": {},
     "output_type": "execute_result"
    }
   ],
   "source": [
    "equation.__dict__"
   ]
  },
  {
   "cell_type": "code",
   "execution_count": 11,
   "id": "073d19f2",
   "metadata": {},
   "outputs": [
    {
     "data": {
      "text/plain": [
       "<function function.__dir__()>"
      ]
     },
     "execution_count": 11,
     "metadata": {},
     "output_type": "execute_result"
    }
   ],
   "source": [
    "equation.__dir__"
   ]
  },
  {
   "cell_type": "code",
   "execution_count": 12,
   "id": "ca5578fb",
   "metadata": {},
   "outputs": [
    {
     "data": {
      "text/plain": [
       "'\\n    >>> equation(5)\\n    -15\\n    >>> equation(0)\\n    10\\n    >>> equation(-5)\\n    -15\\n    >>> equation(0.1)\\n    9.99\\n    >>> equation(-0.1)\\n    9.99\\n    '"
      ]
     },
     "execution_count": 12,
     "metadata": {},
     "output_type": "execute_result"
    }
   ],
   "source": [
    "equation.__doc__"
   ]
  },
  {
   "cell_type": "code",
   "execution_count": 13,
   "id": "9d9ec406",
   "metadata": {},
   "outputs": [
    {
     "data": {
      "text/plain": [
       "<method-wrapper '__eq__' of function object at 0x000002A512F034C0>"
      ]
     },
     "execution_count": 13,
     "metadata": {},
     "output_type": "execute_result"
    }
   ],
   "source": [
    "equation.__eq__"
   ]
  },
  {
   "cell_type": "code",
   "execution_count": 14,
   "id": "eef1d490",
   "metadata": {},
   "outputs": [
    {
     "data": {
      "text/plain": [
       "<function function.__format__(format_spec, /)>"
      ]
     },
     "execution_count": 14,
     "metadata": {},
     "output_type": "execute_result"
    }
   ],
   "source": [
    "equation.__format__"
   ]
  },
  {
   "cell_type": "code",
   "execution_count": 15,
   "id": "a80160e3",
   "metadata": {},
   "outputs": [
    {
     "data": {
      "text/plain": [
       "<method-wrapper '__ge__' of function object at 0x000002A512F034C0>"
      ]
     },
     "execution_count": 15,
     "metadata": {},
     "output_type": "execute_result"
    }
   ],
   "source": [
    "equation.__ge__"
   ]
  },
  {
   "cell_type": "code",
   "execution_count": 16,
   "id": "1fd9da46",
   "metadata": {},
   "outputs": [
    {
     "data": {
      "text/plain": [
       "<method-wrapper '__get__' of function object at 0x000002A512F034C0>"
      ]
     },
     "execution_count": 16,
     "metadata": {},
     "output_type": "execute_result"
    }
   ],
   "source": [
    "equation.__get__"
   ]
  },
  {
   "cell_type": "code",
   "execution_count": 17,
   "id": "9cfcd7ad",
   "metadata": {},
   "outputs": [
    {
     "data": {
      "text/plain": [
       "<method-wrapper '__getattribute__' of function object at 0x000002A512F034C0>"
      ]
     },
     "execution_count": 17,
     "metadata": {},
     "output_type": "execute_result"
    }
   ],
   "source": [
    "equation.__getattribute__"
   ]
  },
  {
   "cell_type": "code",
   "execution_count": 18,
   "id": "192693ed",
   "metadata": {},
   "outputs": [
    {
     "data": {
      "text/plain": [
       "{'__name__': '__main__',\n",
       " '__doc__': 'Automatically created module for IPython interactive environment',\n",
       " '__package__': None,\n",
       " '__loader__': None,\n",
       " '__spec__': None,\n",
       " '__builtin__': <module 'builtins' (built-in)>,\n",
       " '__builtins__': <module 'builtins' (built-in)>,\n",
       " '_ih': ['',\n",
       "  'def equation(x: float) -> float:\\n    \"\"\"\\n    >>> equation(5)\\n    -15\\n    >>> equation(0)\\n    10\\n    >>> equation(-5)\\n    -15\\n    >>> equation(0.1)\\n    9.99\\n    >>> equation(-0.1)\\n    9.99\\n    \"\"\"\\n    return 10 - x * x',\n",
       "  'equation(5)',\n",
       "  'equation.__annotations__',\n",
       "  'equation.__call__',\n",
       "  'equation.__class__',\n",
       "  'equation.__closure__',\n",
       "  'equation.__code__',\n",
       "  'equation.__defaults__',\n",
       "  'equation.__delattr__',\n",
       "  'equation.__dict__',\n",
       "  'equation.__dir__',\n",
       "  'equation.__doc__',\n",
       "  'equation.__eq__',\n",
       "  'equation.__format__',\n",
       "  'equation.__ge__',\n",
       "  'equation.__get__',\n",
       "  'equation.__getattribute__',\n",
       "  'equation.__globals__'],\n",
       " '_oh': {2: -15,\n",
       "  3: {'x': float, 'return': float},\n",
       "  4: <method-wrapper '__call__' of function object at 0x000002A512F034C0>,\n",
       "  5: function,\n",
       "  7: <code object equation at 0x000002A512EE05B0, file \"C:\\Users\\md slauddin\\AppData\\Local\\Temp\\ipykernel_12276\\3352273245.py\", line 1>,\n",
       "  9: <method-wrapper '__delattr__' of function object at 0x000002A512F034C0>,\n",
       "  10: {},\n",
       "  11: <function function.__dir__()>,\n",
       "  12: '\\n    >>> equation(5)\\n    -15\\n    >>> equation(0)\\n    10\\n    >>> equation(-5)\\n    -15\\n    >>> equation(0.1)\\n    9.99\\n    >>> equation(-0.1)\\n    9.99\\n    ',\n",
       "  13: <method-wrapper '__eq__' of function object at 0x000002A512F034C0>,\n",
       "  14: <function function.__format__(format_spec, /)>,\n",
       "  15: <method-wrapper '__ge__' of function object at 0x000002A512F034C0>,\n",
       "  16: <method-wrapper '__get__' of function object at 0x000002A512F034C0>,\n",
       "  17: <method-wrapper '__getattribute__' of function object at 0x000002A512F034C0>},\n",
       " '_dh': [WindowsPath('H:/riyazi/easymath/lib')],\n",
       " 'In': ['',\n",
       "  'def equation(x: float) -> float:\\n    \"\"\"\\n    >>> equation(5)\\n    -15\\n    >>> equation(0)\\n    10\\n    >>> equation(-5)\\n    -15\\n    >>> equation(0.1)\\n    9.99\\n    >>> equation(-0.1)\\n    9.99\\n    \"\"\"\\n    return 10 - x * x',\n",
       "  'equation(5)',\n",
       "  'equation.__annotations__',\n",
       "  'equation.__call__',\n",
       "  'equation.__class__',\n",
       "  'equation.__closure__',\n",
       "  'equation.__code__',\n",
       "  'equation.__defaults__',\n",
       "  'equation.__delattr__',\n",
       "  'equation.__dict__',\n",
       "  'equation.__dir__',\n",
       "  'equation.__doc__',\n",
       "  'equation.__eq__',\n",
       "  'equation.__format__',\n",
       "  'equation.__ge__',\n",
       "  'equation.__get__',\n",
       "  'equation.__getattribute__',\n",
       "  'equation.__globals__'],\n",
       " 'Out': {2: -15,\n",
       "  3: {'x': float, 'return': float},\n",
       "  4: <method-wrapper '__call__' of function object at 0x000002A512F034C0>,\n",
       "  5: function,\n",
       "  7: <code object equation at 0x000002A512EE05B0, file \"C:\\Users\\md slauddin\\AppData\\Local\\Temp\\ipykernel_12276\\3352273245.py\", line 1>,\n",
       "  9: <method-wrapper '__delattr__' of function object at 0x000002A512F034C0>,\n",
       "  10: {},\n",
       "  11: <function function.__dir__()>,\n",
       "  12: '\\n    >>> equation(5)\\n    -15\\n    >>> equation(0)\\n    10\\n    >>> equation(-5)\\n    -15\\n    >>> equation(0.1)\\n    9.99\\n    >>> equation(-0.1)\\n    9.99\\n    ',\n",
       "  13: <method-wrapper '__eq__' of function object at 0x000002A512F034C0>,\n",
       "  14: <function function.__format__(format_spec, /)>,\n",
       "  15: <method-wrapper '__ge__' of function object at 0x000002A512F034C0>,\n",
       "  16: <method-wrapper '__get__' of function object at 0x000002A512F034C0>,\n",
       "  17: <method-wrapper '__getattribute__' of function object at 0x000002A512F034C0>},\n",
       " 'get_ipython': <bound method InteractiveShell.get_ipython of <ipykernel.zmqshell.ZMQInteractiveShell object at 0x000002A512E89A30>>,\n",
       " 'exit': <IPython.core.autocall.ZMQExitAutocall at 0x2a512eb70a0>,\n",
       " 'quit': <IPython.core.autocall.ZMQExitAutocall at 0x2a512eb70a0>,\n",
       " '_': <method-wrapper '__getattribute__' of function object at 0x000002A512F034C0>,\n",
       " '__': <method-wrapper '__get__' of function object at 0x000002A512F034C0>,\n",
       " '___': <method-wrapper '__ge__' of function object at 0x000002A512F034C0>,\n",
       " '_i': 'equation.__getattribute__',\n",
       " '_ii': 'equation.__get__',\n",
       " '_iii': 'equation.__ge__',\n",
       " '_i1': 'def equation(x: float) -> float:\\n    \"\"\"\\n    >>> equation(5)\\n    -15\\n    >>> equation(0)\\n    10\\n    >>> equation(-5)\\n    -15\\n    >>> equation(0.1)\\n    9.99\\n    >>> equation(-0.1)\\n    9.99\\n    \"\"\"\\n    return 10 - x * x',\n",
       " 'equation': <function __main__.equation(x: float) -> float>,\n",
       " '_i2': 'equation(5)',\n",
       " '_2': -15,\n",
       " '_i3': 'equation.__annotations__',\n",
       " '_3': {'x': float, 'return': float},\n",
       " '_i4': 'equation.__call__',\n",
       " '_4': <method-wrapper '__call__' of function object at 0x000002A512F034C0>,\n",
       " '_i5': 'equation.__class__',\n",
       " '_5': function,\n",
       " '_i6': 'equation.__closure__',\n",
       " '_i7': 'equation.__code__',\n",
       " '_7': <code object equation at 0x000002A512EE05B0, file \"C:\\Users\\md slauddin\\AppData\\Local\\Temp\\ipykernel_12276\\3352273245.py\", line 1>,\n",
       " '_i8': 'equation.__defaults__',\n",
       " '_i9': 'equation.__delattr__',\n",
       " '_9': <method-wrapper '__delattr__' of function object at 0x000002A512F034C0>,\n",
       " '_i10': 'equation.__dict__',\n",
       " '_10': {},\n",
       " '_i11': 'equation.__dir__',\n",
       " '_11': <function function.__dir__()>,\n",
       " '_i12': 'equation.__doc__',\n",
       " '_12': '\\n    >>> equation(5)\\n    -15\\n    >>> equation(0)\\n    10\\n    >>> equation(-5)\\n    -15\\n    >>> equation(0.1)\\n    9.99\\n    >>> equation(-0.1)\\n    9.99\\n    ',\n",
       " '_i13': 'equation.__eq__',\n",
       " '_13': <method-wrapper '__eq__' of function object at 0x000002A512F034C0>,\n",
       " '_i14': 'equation.__format__',\n",
       " '_14': <function function.__format__(format_spec, /)>,\n",
       " '_i15': 'equation.__ge__',\n",
       " '_15': <method-wrapper '__ge__' of function object at 0x000002A512F034C0>,\n",
       " '_i16': 'equation.__get__',\n",
       " '_16': <method-wrapper '__get__' of function object at 0x000002A512F034C0>,\n",
       " '_i17': 'equation.__getattribute__',\n",
       " '_17': <method-wrapper '__getattribute__' of function object at 0x000002A512F034C0>,\n",
       " '_i18': 'equation.__globals__'}"
      ]
     },
     "execution_count": 18,
     "metadata": {},
     "output_type": "execute_result"
    }
   ],
   "source": [
    "equation.__globals__"
   ]
  },
  {
   "cell_type": "code",
   "execution_count": 19,
   "id": "8927ea69",
   "metadata": {},
   "outputs": [
    {
     "data": {
      "text/plain": [
       "<method-wrapper '__gt__' of function object at 0x000002A512F034C0>"
      ]
     },
     "execution_count": 19,
     "metadata": {},
     "output_type": "execute_result"
    }
   ],
   "source": [
    "equation.__gt__"
   ]
  },
  {
   "cell_type": "code",
   "execution_count": 20,
   "id": "6d8fc7c9",
   "metadata": {},
   "outputs": [
    {
     "data": {
      "text/plain": [
       "<method-wrapper '__hash__' of function object at 0x000002A512F034C0>"
      ]
     },
     "execution_count": 20,
     "metadata": {},
     "output_type": "execute_result"
    }
   ],
   "source": [
    "equation.__hash__"
   ]
  },
  {
   "cell_type": "code",
   "execution_count": 21,
   "id": "c96abb7c",
   "metadata": {},
   "outputs": [
    {
     "data": {
      "text/plain": [
       "<method-wrapper '__init__' of function object at 0x000002A512F034C0>"
      ]
     },
     "execution_count": 21,
     "metadata": {},
     "output_type": "execute_result"
    }
   ],
   "source": [
    "equation.__init__"
   ]
  },
  {
   "cell_type": "code",
   "execution_count": 22,
   "id": "f1ff0ae6",
   "metadata": {},
   "outputs": [
    {
     "data": {
      "text/plain": [
       "<function function.__init_subclass__>"
      ]
     },
     "execution_count": 22,
     "metadata": {},
     "output_type": "execute_result"
    }
   ],
   "source": [
    "equation.__init_subclass__"
   ]
  },
  {
   "cell_type": "code",
   "execution_count": 23,
   "id": "b1e9568d",
   "metadata": {},
   "outputs": [],
   "source": [
    "equation.__kwdefaults__"
   ]
  },
  {
   "cell_type": "code",
   "execution_count": 24,
   "id": "f86fae3b",
   "metadata": {},
   "outputs": [
    {
     "data": {
      "text/plain": [
       "<method-wrapper '__le__' of function object at 0x000002A512F034C0>"
      ]
     },
     "execution_count": 24,
     "metadata": {},
     "output_type": "execute_result"
    }
   ],
   "source": [
    "equation.__le__"
   ]
  },
  {
   "cell_type": "code",
   "execution_count": 25,
   "id": "82f5674e",
   "metadata": {},
   "outputs": [
    {
     "data": {
      "text/plain": [
       "<method-wrapper '__lt__' of function object at 0x000002A512F034C0>"
      ]
     },
     "execution_count": 25,
     "metadata": {},
     "output_type": "execute_result"
    }
   ],
   "source": [
    "equation.__lt__"
   ]
  },
  {
   "cell_type": "code",
   "execution_count": 26,
   "id": "2dc63e87",
   "metadata": {},
   "outputs": [
    {
     "data": {
      "text/plain": [
       "'__main__'"
      ]
     },
     "execution_count": 26,
     "metadata": {},
     "output_type": "execute_result"
    }
   ],
   "source": [
    "equation.__module__"
   ]
  },
  {
   "cell_type": "code",
   "execution_count": 27,
   "id": "a8567386",
   "metadata": {},
   "outputs": [
    {
     "data": {
      "text/plain": [
       "'equation'"
      ]
     },
     "execution_count": 27,
     "metadata": {},
     "output_type": "execute_result"
    }
   ],
   "source": [
    "equation.__name__"
   ]
  },
  {
   "cell_type": "code",
   "execution_count": 28,
   "id": "174bd0eb",
   "metadata": {},
   "outputs": [
    {
     "data": {
      "text/plain": [
       "<method-wrapper '__ne__' of function object at 0x000002A512F034C0>"
      ]
     },
     "execution_count": 28,
     "metadata": {},
     "output_type": "execute_result"
    }
   ],
   "source": [
    "equation.__ne__"
   ]
  },
  {
   "cell_type": "code",
   "execution_count": 29,
   "id": "df69761d",
   "metadata": {},
   "outputs": [
    {
     "data": {
      "text/plain": [
       "<function function.__new__(*args, **kwargs)>"
      ]
     },
     "execution_count": 29,
     "metadata": {},
     "output_type": "execute_result"
    }
   ],
   "source": [
    "equation.__new__"
   ]
  },
  {
   "cell_type": "code",
   "execution_count": 30,
   "id": "22e2e6de",
   "metadata": {},
   "outputs": [
    {
     "data": {
      "text/plain": [
       "'equation'"
      ]
     },
     "execution_count": 30,
     "metadata": {},
     "output_type": "execute_result"
    }
   ],
   "source": [
    "equation.__qualname__"
   ]
  },
  {
   "cell_type": "code",
   "execution_count": 31,
   "id": "14789955",
   "metadata": {},
   "outputs": [
    {
     "data": {
      "text/plain": [
       "<function function.__reduce__()>"
      ]
     },
     "execution_count": 31,
     "metadata": {},
     "output_type": "execute_result"
    }
   ],
   "source": [
    "equation.__reduce__"
   ]
  },
  {
   "cell_type": "code",
   "execution_count": 32,
   "id": "ac2bab50",
   "metadata": {},
   "outputs": [
    {
     "data": {
      "text/plain": [
       "<function function.__reduce_ex__(protocol, /)>"
      ]
     },
     "execution_count": 32,
     "metadata": {},
     "output_type": "execute_result"
    }
   ],
   "source": [
    "equation.__reduce_ex__"
   ]
  },
  {
   "cell_type": "code",
   "execution_count": 33,
   "id": "9ce33f0a",
   "metadata": {},
   "outputs": [
    {
     "data": {
      "text/plain": [
       "<method-wrapper '__repr__' of function object at 0x000002A512F034C0>"
      ]
     },
     "execution_count": 33,
     "metadata": {},
     "output_type": "execute_result"
    }
   ],
   "source": [
    "equation.__repr__"
   ]
  },
  {
   "cell_type": "code",
   "execution_count": 34,
   "id": "68345358",
   "metadata": {},
   "outputs": [
    {
     "data": {
      "text/plain": [
       "<method-wrapper '__setattr__' of function object at 0x000002A512F034C0>"
      ]
     },
     "execution_count": 34,
     "metadata": {},
     "output_type": "execute_result"
    }
   ],
   "source": [
    "equation.__setattr__"
   ]
  },
  {
   "cell_type": "code",
   "execution_count": 35,
   "id": "833a6bf0",
   "metadata": {},
   "outputs": [
    {
     "data": {
      "text/plain": [
       "<function function.__sizeof__()>"
      ]
     },
     "execution_count": 35,
     "metadata": {},
     "output_type": "execute_result"
    }
   ],
   "source": [
    "equation.__sizeof__"
   ]
  },
  {
   "cell_type": "code",
   "execution_count": 36,
   "id": "025ef4b7",
   "metadata": {},
   "outputs": [
    {
     "data": {
      "text/plain": [
       "<method-wrapper '__str__' of function object at 0x000002A512F034C0>"
      ]
     },
     "execution_count": 36,
     "metadata": {},
     "output_type": "execute_result"
    }
   ],
   "source": [
    "equation.__str__"
   ]
  },
  {
   "cell_type": "code",
   "execution_count": 37,
   "id": "a6c2c66b",
   "metadata": {},
   "outputs": [
    {
     "data": {
      "text/plain": [
       "<function function.__subclasshook__>"
      ]
     },
     "execution_count": 37,
     "metadata": {},
     "output_type": "execute_result"
    }
   ],
   "source": [
    "equation.__subclasshook__"
   ]
  },
  {
   "cell_type": "code",
   "execution_count": 39,
   "id": "801ce552",
   "metadata": {},
   "outputs": [
    {
     "name": "stderr",
     "output_type": "stream",
     "text": [
      "UsageError: %%! is a cell magic, but the cell body is empty.\n"
     ]
    }
   ],
   "source": [
    "%%! \n",
    "%%HTML\n",
    "%%SVG\n",
    "%alias\n",
    "%alias_magic\n",
    "%autoawait\n",
    "%autocall\n",
    "%automagic\n",
    "%autosave\n",
    "%%bash\n",
    "%bookmark\n",
    "%%capture\n",
    "\n",
    "%cd\n",
    "%clear\n",
    "%cls\n",
    "%%cmd\n",
    "%colors\n",
    "%conda\n",
    "%config\n",
    "%connect_info\n",
    "%copy\n",
    "\n",
    "%ddir\n",
    "%debug\n",
    "%dhist\n",
    "%dirs\n",
    "%doctest_mode\n",
    "\n",
    "\n",
    "%echo\n",
    "%ed\n",
    "%edit\n",
    "%env\n",
    "\n",
    "%%file\n",
    "\n",
    "%gui\n",
    "%hist\n",
    "%history\n",
    "%%html\n",
    "\n",
    "%%javascript\n",
    "%%js\n",
    "\n",
    "\n",
    "%killbgscripts\n",
    "\n",
    "%%latex\n",
    "%ldir\n",
    "%less\n",
    "%load\n",
    "%load_ext\n",
    "%loadpy\n",
    "%logoff\n",
    "\n"
   ]
  },
  {
   "cell_type": "code",
   "execution_count": 40,
   "id": "f23472a0",
   "metadata": {},
   "outputs": [
    {
     "name": "stderr",
     "output_type": "stream",
     "text": [
      "UsageError: %%HTML is a cell magic, but the cell body is empty.\n"
     ]
    }
   ],
   "source": [
    " <h> hello </h>"
   ]
  },
  {
   "cell_type": "code",
   "execution_count": 41,
   "id": "a381ba3b",
   "metadata": {},
   "outputs": [],
   "source": [
    "def bisection(a: float, b: float) -> float:\n",
    "    \"\"\"\n",
    "    >>> bisection(-2, 5)\n",
    "    3.1611328125\n",
    "    >>> bisection(0, 6)\n",
    "    3.158203125\n",
    "    >>> bisection(2, 3)\n",
    "    Traceback (most recent call last):\n",
    "    ...\n",
    "    ValueError: Wrong space!\n",
    "    \"\"\"\n",
    "    # Bolzano theory in order to find if there is a root between a and b\n",
    "    if equation(a) * equation(b) >= 0:\n",
    "        raise ValueError(\"Wrong space!\")\n",
    "\n",
    "    c = a\n",
    "    while (b - a) >= 0.01:\n",
    "        # Find middle point\n",
    "        c = (a + b) / 2\n",
    "        # Check if middle point is root\n",
    "        if equation(c) == 0.0:\n",
    "            break\n",
    "        # Decide the side to repeat the steps\n",
    "        if equation(c) * equation(a) < 0:\n",
    "            b = c\n",
    "        else:\n",
    "            a = c\n",
    "    return c"
   ]
  },
  {
   "cell_type": "code",
   "execution_count": 44,
   "id": "13d868ad",
   "metadata": {},
   "outputs": [
    {
     "data": {
      "text/plain": [
       "3.1611328125"
      ]
     },
     "execution_count": 44,
     "metadata": {},
     "output_type": "execute_result"
    }
   ],
   "source": [
    "bisection(-2,5)"
   ]
  },
  {
   "cell_type": "code",
   "execution_count": null,
   "id": "2fcc0cb8",
   "metadata": {},
   "outputs": [],
   "source": []
  }
 ],
 "metadata": {
  "kernelspec": {
   "display_name": "Python 3 (ipykernel)",
   "language": "python",
   "name": "python3"
  },
  "language_info": {
   "codemirror_mode": {
    "name": "ipython",
    "version": 3
   },
   "file_extension": ".py",
   "mimetype": "text/x-python",
   "name": "python",
   "nbconvert_exporter": "python",
   "pygments_lexer": "ipython3",
   "version": "3.9.12"
  }
 },
 "nbformat": 4,
 "nbformat_minor": 5
}
