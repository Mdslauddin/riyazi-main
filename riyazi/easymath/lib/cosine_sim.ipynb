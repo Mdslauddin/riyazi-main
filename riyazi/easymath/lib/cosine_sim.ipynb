{
 "cells": [
  {
   "cell_type": "markdown",
   "id": "8dedb272",
   "metadata": {},
   "source": [
    "https://en.wikipedia.org/wiki/Cosine_similarity"
   ]
  },
  {
   "cell_type": "code",
   "execution_count": 1,
   "id": "63fcffe4",
   "metadata": {},
   "outputs": [],
   "source": [
    "import math\n",
    "\n",
    "def cosine_sim(vector1, vector2):\n",
    "    vector1 = list(vector1)\n",
    "    vector2 = list(vector2)\n",
    "    dot_prod = 0\n",
    "    for i, v in enumerate(vector1):\n",
    "        dot_prod += v * vector2[i]\n",
    "    mag_1 = math.sqrt(sum([x**2 for x in vector1]))\n",
    "    mag_2 = math.sqrt(sum([x**2 for x in vector2]))\n",
    "    return dot_prod / (mag_1 * mag_2)"
   ]
  },
  {
   "cell_type": "code",
   "execution_count": 10,
   "id": "b22ce1e6",
   "metadata": {},
   "outputs": [],
   "source": [
    "import numpy as np\n",
    "a = np.array([1,2,13])\n",
    "b = np.array([4,5,6])"
   ]
  },
  {
   "cell_type": "code",
   "execution_count": 11,
   "id": "57bf2f25",
   "metadata": {},
   "outputs": [
    {
     "data": {
      "text/plain": [
       "0.7948182685444152"
      ]
     },
     "execution_count": 11,
     "metadata": {},
     "output_type": "execute_result"
    }
   ],
   "source": [
    "cosine_sim(a,b)"
   ]
  },
  {
   "cell_type": "code",
   "execution_count": null,
   "id": "4fccf07c",
   "metadata": {},
   "outputs": [],
   "source": []
  }
 ],
 "metadata": {
  "kernelspec": {
   "display_name": "Python 3 (ipykernel)",
   "language": "python",
   "name": "python3"
  },
  "language_info": {
   "codemirror_mode": {
    "name": "ipython",
    "version": 3
   },
   "file_extension": ".py",
   "mimetype": "text/x-python",
   "name": "python",
   "nbconvert_exporter": "python",
   "pygments_lexer": "ipython3",
   "version": "3.9.12"
  }
 },
 "nbformat": 4,
 "nbformat_minor": 5
}
