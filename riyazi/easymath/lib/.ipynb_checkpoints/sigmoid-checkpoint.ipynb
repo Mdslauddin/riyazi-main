{
 "cells": [
  {
   "cell_type": "code",
   "execution_count": 1,
   "id": "c54bd1d7",
   "metadata": {},
   "outputs": [],
   "source": [
    "import numpy as np\n",
    "\n",
    "def sigmoid(value):\n",
    "    return 1 / (1 + np.exp(-value))"
   ]
  },
  {
   "cell_type": "code",
   "execution_count": 1,
   "id": "a1124d8a",
   "metadata": {},
   "outputs": [],
   "source": [
    "\"\"\"\n",
    "This script demonstrates the implementation of the Sigmoid function.\n",
    "\n",
    "The function takes a vector of K real numbers as input and then 1 / (1 + exp(-x)).\n",
    "After through Sigmoid, the element of the vector mostly 0 between 1. or 1 between -1.\n",
    "\n",
    "Script inspired from its corresponding Wikipedia article\n",
    "https://en.wikipedia.org/wiki/Sigmoid_function\n",
    "\"\"\"\n",
    "\n",
    "import numpy as np\n",
    "\n",
    "\n",
    "def sigmoid(vector: np.array) -> np.array:\n",
    "    \"\"\"\n",
    "    Implements the sigmoid function\n",
    "\n",
    "    Parameters:\n",
    "        vector (np.array): A  numpy array of shape (1,n)\n",
    "        consisting of real values\n",
    "\n",
    "    Returns:\n",
    "        sigmoid_vec (np.array): The input numpy array, after applying\n",
    "        sigmoid.\n",
    "\n",
    "    Examples:\n",
    "    >>> sigmoid(np.array([-1.0, 1.0, 2.0]))\n",
    "    array([0.26894142, 0.73105858, 0.88079708])\n",
    "\n",
    "    >>> sigmoid(np.array([0.0]))\n",
    "    array([0.5])\n",
    "    \"\"\"\n",
    "    return 1 / (1 + np.exp(-vector))"
   ]
  },
  {
   "cell_type": "code",
   "execution_count": null,
   "id": "71d6a97a",
   "metadata": {},
   "outputs": [],
   "source": []
  }
 ],
 "metadata": {
  "kernelspec": {
   "display_name": "Python 3 (ipykernel)",
   "language": "python",
   "name": "python3"
  },
  "language_info": {
   "codemirror_mode": {
    "name": "ipython",
    "version": 3
   },
   "file_extension": ".py",
   "mimetype": "text/x-python",
   "name": "python",
   "nbconvert_exporter": "python",
   "pygments_lexer": "ipython3",
   "version": "3.9.12"
  }
 },
 "nbformat": 4,
 "nbformat_minor": 5
}
