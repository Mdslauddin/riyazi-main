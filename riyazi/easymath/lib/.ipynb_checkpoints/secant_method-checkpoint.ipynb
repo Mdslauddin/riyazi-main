{
 "cells": [
  {
   "cell_type": "code",
   "execution_count": 3,
   "id": "525daf2c",
   "metadata": {},
   "outputs": [],
   "source": [
    "from math import exp\n",
    "\n",
    "def f(x: float) -> float:\n",
    "    \"\"\"\n",
    "    >>> f(5)\n",
    "    39.98652410600183\n",
    "    \"\"\"\n",
    "    print(type(x))\n",
    "    return 8 * x - 2 * exp(-x)"
   ]
  },
  {
   "cell_type": "code",
   "execution_count": 5,
   "id": "b4a25349",
   "metadata": {},
   "outputs": [
    {
     "name": "stdout",
     "output_type": "stream",
     "text": [
      "<class 'float'>\n"
     ]
    },
    {
     "data": {
      "text/plain": [
       "39.98652410600183"
      ]
     },
     "execution_count": 5,
     "metadata": {},
     "output_type": "execute_result"
    }
   ],
   "source": [
    "f(5.0)"
   ]
  },
  {
   "cell_type": "code",
   "execution_count": 6,
   "id": "0f59b8eb",
   "metadata": {},
   "outputs": [
    {
     "name": "stdout",
     "output_type": "stream",
     "text": [
      "<class 'int'>\n",
      "<class 'int'>\n",
      "<class 'int'>\n",
      "<class 'float'>\n",
      "<class 'float'>\n",
      "<class 'int'>\n",
      "Example: 0.2139409276214589\n"
     ]
    }
   ],
   "source": [
    "def secant_method(lower_bound: float, upper_bound: float, repeats: int) -> float:\n",
    "    \"\"\"\n",
    "    >>> secant_method(1, 3, 2)\n",
    "    0.2139409276214589\n",
    "    \"\"\"\n",
    "    x0 = lower_bound\n",
    "    x1 = upper_bound\n",
    "    for i in range(0, repeats):\n",
    "        x0, x1 = x1, x1 - (f(x1) * (x1 - x0)) / (f(x1) - f(x0))\n",
    "    return x1\n",
    "if __name__ == \"__main__\":\n",
    "    print(f\"Example: {secant_method(1, 3, 2)}\")"
   ]
  },
  {
   "cell_type": "code",
   "execution_count": 7,
   "id": "c1533bf5",
   "metadata": {},
   "outputs": [],
   "source": [
    "def ceil(x) -> int:\n",
    "    \"\"\"\n",
    "    Return the ceiling of x as an Integral.\n",
    "\n",
    "    :param x: the number\n",
    "    :return: the smallest integer >= x.\n",
    "\n",
    "    >>> import math\n",
    "    >>> all(ceil(n) == math.ceil(n) for n\n",
    "    ...     in (1, -1, 0, -0, 1.1, -1.1, 1.0, -1.0, 1_000_000_000))\n",
    "    True\n",
    "    \"\"\"\n",
    "    return int(x) if x - int(x) <= 0 else int(x) + 1"
   ]
  },
  {
   "cell_type": "code",
   "execution_count": 8,
   "id": "b9960b82",
   "metadata": {},
   "outputs": [],
   "source": [
    "import math "
   ]
  },
  {
   "cell_type": "code",
   "execution_count": 17,
   "id": "b7e8bdd9",
   "metadata": {},
   "outputs": [
    {
     "data": {
      "text/plain": [
       "5"
      ]
     },
     "execution_count": 17,
     "metadata": {},
     "output_type": "execute_result"
    }
   ],
   "source": [
    "math.ceil(5.)"
   ]
  },
  {
   "cell_type": "code",
   "execution_count": 20,
   "id": "9acdeb00",
   "metadata": {},
   "outputs": [
    {
     "data": {
      "text/plain": [
       "6"
      ]
     },
     "execution_count": 20,
     "metadata": {},
     "output_type": "execute_result"
    }
   ],
   "source": [
    "ceil(5.1)"
   ]
  },
  {
   "cell_type": "code",
   "execution_count": null,
   "id": "c432e21c",
   "metadata": {},
   "outputs": [],
   "source": []
  }
 ],
 "metadata": {
  "kernelspec": {
   "display_name": "Python 3 (ipykernel)",
   "language": "python",
   "name": "python3"
  },
  "language_info": {
   "codemirror_mode": {
    "name": "ipython",
    "version": 3
   },
   "file_extension": ".py",
   "mimetype": "text/x-python",
   "name": "python",
   "nbconvert_exporter": "python",
   "pygments_lexer": "ipython3",
   "version": "3.9.12"
  }
 },
 "nbformat": 4,
 "nbformat_minor": 5
}
