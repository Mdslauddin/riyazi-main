{
 "cells": [
  {
   "cell_type": "code",
   "execution_count": 2,
   "id": "843c830c",
   "metadata": {},
   "outputs": [],
   "source": [
    "def sqrt(num1):\n",
    "    assert num1 >= 0, \"Can't take the square root of negative numbers\"\n",
    "    def f(guess):\n",
    "        if(guess == num1/guess):\n",
    "            return guess\n",
    "        else:\n",
    "            return f((num1/guess + guess)/2)\n",
    "    return f(1)"
   ]
  },
  {
   "cell_type": "code",
   "execution_count": 3,
   "id": "91676d9b",
   "metadata": {},
   "outputs": [
    {
     "data": {
      "text/plain": [
       "4.0"
      ]
     },
     "execution_count": 3,
     "metadata": {},
     "output_type": "execute_result"
    }
   ],
   "source": [
    "sqrt(16)"
   ]
  },
  {
   "cell_type": "code",
   "execution_count": 4,
   "id": "eecef1ec",
   "metadata": {},
   "outputs": [],
   "source": [
    "def fac(num1):\n",
    "    num_list = []\n",
    "    y = 1\n",
    "    for i in range(1, int(num1) + 1):\n",
    "        num_list.append(i)\n",
    "    for x in num_list:\n",
    "        num1 = num1 * x\n",
    "    return num1"
   ]
  },
  {
   "cell_type": "code",
   "execution_count": 5,
   "id": "c5a767b8",
   "metadata": {},
   "outputs": [],
   "source": [
    "def pi():\n",
    "    total = 4.0\n",
    "    d = 3.0\n",
    "    toAdd = False\n",
    "    while 4/d > pow(10, -5):\n",
    "        if(toAdd):\n",
    "            total += 4 / d\n",
    "        else:\n",
    "            total -= 4 / d\n",
    "        toAdd = not toAdd\n",
    "        d += 2\n",
    "    return total"
   ]
  },
  {
   "cell_type": "code",
   "execution_count": 6,
   "id": "c8f6a2c5",
   "metadata": {},
   "outputs": [
    {
     "data": {
      "text/plain": [
       "3.1415876535897618"
      ]
     },
     "execution_count": 6,
     "metadata": {},
     "output_type": "execute_result"
    }
   ],
   "source": [
    "pi()"
   ]
  },
  {
   "cell_type": "code",
   "execution_count": 7,
   "id": "2275953c",
   "metadata": {},
   "outputs": [],
   "source": [
    "def fib(n):\n",
    "    \n",
    "    a, b = 0, 1\n",
    "    while a < n:\n",
    "        print(a, end=' ')\n",
    "        a, b = b, a+b\n",
    " "
   ]
  },
  {
   "cell_type": "code",
   "execution_count": null,
   "id": "31f4d76e",
   "metadata": {},
   "outputs": [],
   "source": []
  }
 ],
 "metadata": {
  "kernelspec": {
   "display_name": "Python 3 (ipykernel)",
   "language": "python",
   "name": "python3"
  },
  "language_info": {
   "codemirror_mode": {
    "name": "ipython",
    "version": 3
   },
   "file_extension": ".py",
   "mimetype": "text/x-python",
   "name": "python",
   "nbconvert_exporter": "python",
   "pygments_lexer": "ipython3",
   "version": "3.9.12"
  }
 },
 "nbformat": 4,
 "nbformat_minor": 5
}
