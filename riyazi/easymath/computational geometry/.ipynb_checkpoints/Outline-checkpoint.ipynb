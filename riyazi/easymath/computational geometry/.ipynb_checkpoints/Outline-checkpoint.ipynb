{
 "cells": [
  {
   "cell_type": "markdown",
   "id": "d31792c8",
   "metadata": {},
   "source": [
    "https://comptag.github.io/teaching-compGT/syllabus_list.html\n",
    "\n",
    "https://nitishpuri.github.io/posts/books/the-algorithms-design-manual-computational-geometry/#intersection-detection\n",
    "\n",
    "\n",
    "https://www.academia.edu/29934277/150_Geometry_Problems_With_Solutions_\n",
    "\n",
    "https://byjus.com/maths/geometric-shapes/#list\n",
    "\n",
    "https://en.wikipedia.org/wiki/Geometry\n",
    "\n",
    "https://www.universalclass.com/articles/math/geometry/how-to-solve-practical-geometry-problems.htm\n",
    "\n",
    "\n",
    "http://cut-the-knot.org/geometry.shtml\n",
    "\n",
    "\n",
    "https://towardsdatascience.com/using-genetic-algorithms-to-solve-geometrical-problems-3789cb70bf25\n",
    "\n",
    "https://www.desmos.com/geometry\n",
    "\n",
    "https://en.wikiversity.org/wiki/Computational_geometry#:~:text=In%20computer%20science%2C%20computational%20geometry%20is%20the%20study,also%20considered%20to%20be%20part%20of%20computational%20geometry.\n",
    "\n",
    "https://en.wikipedia.org/wiki/Computational_geometry\n",
    "\n",
    "https://codedocs.org/what-is/computational-geometry\n",
    "\n",
    "https://gogeometry.com/computational_geometry/combinatorial_computational_geometry_mind_map.html\n",
    "\n",
    "\n",
    "https://www.hackerearth.com/practice/notes/computational-geometry-i-1/\n",
    "\n",
    "https://dbpedia.org/page/Computational_geometry\n",
    "\n",
    "https://en.wikipedia.org/wiki/Theoretical_computer_science\n",
    "\n",
    "https://www.computersciencedegreehub.com/faq/what-is-computational-geometry/\n",
    "\n",
    "\n",
    "https://en.wikipedia.org/wiki/Computational_geometry#:~:text=Computational%20geometry%20is%20a%20branch%20of%20computer%20science,also%20considered%20to%20be%20part%20of%20computational%20geometry.\n",
    "\n",
    "\n",
    "https://www.bing.com/images/search?q=Riemann+Geometry&mmreqh=4xknuN7%2fgvibAS7pNfpnZmZ5pwt9nD2SwidvK5V0Yz0%3d&form=INLIRS&first=1&cw=1519&ch=792&tsc=ImageHoverTitle\n",
    "\n",
    "\n",
    "http://cs.nits.ac.in/computational-geometry/"
   ]
  },
  {
   "cell_type": "markdown",
   "id": "679c21ab",
   "metadata": {},
   "source": [
    "# Computational Geometry Book "
   ]
  },
  {
   "cell_type": "code",
   "execution_count": null,
   "id": "7aaf54d2",
   "metadata": {},
   "outputs": [],
   "source": []
  }
 ],
 "metadata": {
  "kernelspec": {
   "display_name": "Python 3 (ipykernel)",
   "language": "python",
   "name": "python3"
  },
  "language_info": {
   "codemirror_mode": {
    "name": "ipython",
    "version": 3
   },
   "file_extension": ".py",
   "mimetype": "text/x-python",
   "name": "python",
   "nbconvert_exporter": "python",
   "pygments_lexer": "ipython3",
   "version": "3.9.12"
  }
 },
 "nbformat": 4,
 "nbformat_minor": 5
}
