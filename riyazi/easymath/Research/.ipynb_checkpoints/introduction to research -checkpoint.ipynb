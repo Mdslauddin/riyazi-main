{
 "cells": [
  {
   "cell_type": "markdown",
   "id": "91fe6cfe",
   "metadata": {},
   "source": [
    "### HardWare\n",
    "### SoftWare\n",
    "### Application \n",
    "### Theory \n",
    "\n",
    "**Internet of Things**"
   ]
  },
  {
   "cell_type": "markdown",
   "id": "c547fb18",
   "metadata": {},
   "source": [
    "[links](https://www.youtube.com/watch?v=SbSGJfTj9zw)"
   ]
  },
  {
   "cell_type": "markdown",
   "id": "b5b226d2",
   "metadata": {},
   "source": [
    "https://www.youtube.com/watch?v=RgyrvV35EaY&list=PL-eeHd-KcdzwmbVOkLruL5uQQ16xX8ivT"
   ]
  },
  {
   "cell_type": "code",
   "execution_count": null,
   "id": "c0f46cb9",
   "metadata": {},
   "outputs": [],
   "source": []
  }
 ],
 "metadata": {
  "kernelspec": {
   "display_name": "Python 3 (ipykernel)",
   "language": "python",
   "name": "python3"
  },
  "language_info": {
   "codemirror_mode": {
    "name": "ipython",
    "version": 3
   },
   "file_extension": ".py",
   "mimetype": "text/x-python",
   "name": "python",
   "nbconvert_exporter": "python",
   "pygments_lexer": "ipython3",
   "version": "3.9.12"
  }
 },
 "nbformat": 4,
 "nbformat_minor": 5
}
