{
 "cells": [
  {
   "cell_type": "markdown",
   "id": "ce422d83",
   "metadata": {},
   "source": [
    "[links](https://www.youtube.com/watch?v=lX1rMdvsuEo)"
   ]
  },
  {
   "cell_type": "markdown",
   "id": "31f4d06f",
   "metadata": {},
   "source": [
    "###  Computer Science \n",
    "- **Semantic Web**\n",
    "- **Data Mining**\n",
    "- **Cloud Computing**\n",
    "-  **Software Fault Tolerance**\n",
    "- **Software formal Methods**\n",
    "- **Software Testing**\n",
    "- **Web Ontology**\n",
    "- **Artifical Intelligence**\n",
    "- **Network Security**\n",
    "- **Information System**\n",
    "- **Information Retrieval**\n",
    "- **Machine Learning**\n",
    "- **Computational Statistics**\n",
    "- **Computer Architecture**\n",
    "- **Computational Geometry**\n",
    "- **Dynamic Networks**\n",
    "- **Data Streaming**\n",
    "- **Data Structure**\n",
    "- **IoT Internet of Things**\n",
    "- **Probabilistic algorithms**\n",
    "- **Operating System**\n",
    "- **Computational Complexity**\n",
    "- **Network model**\n",
    "- **Communication protocal**\n",
    "- **Cryptography**\n",
    "- **NLP**\n",
    "- **Quantum computaion**\n",
    "- **Bioinformatics**\n",
    "- **Computer Vision**\n",
    "- **3D Modeling**\n",
    "- **Image - Based randring**\n",
    "- **Embedded System**\n",
    "- **Molecular computing**\n",
    "- **Algorithmic Game Theory**\n",
    "- **signal processig**\n",
    "- **stochastic Network**\n",
    "- **HCI Human-Computer interface**\n",
    "- **Wireless Systgem**\n",
    "- **Satellite Communication** "
   ]
  },
  {
   "cell_type": "code",
   "execution_count": null,
   "id": "1fa3d229",
   "metadata": {},
   "outputs": [],
   "source": []
  }
 ],
 "metadata": {
  "kernelspec": {
   "display_name": "Python 3 (ipykernel)",
   "language": "python",
   "name": "python3"
  },
  "language_info": {
   "codemirror_mode": {
    "name": "ipython",
    "version": 3
   },
   "file_extension": ".py",
   "mimetype": "text/x-python",
   "name": "python",
   "nbconvert_exporter": "python",
   "pygments_lexer": "ipython3",
   "version": "3.9.12"
  }
 },
 "nbformat": 4,
 "nbformat_minor": 5
}
