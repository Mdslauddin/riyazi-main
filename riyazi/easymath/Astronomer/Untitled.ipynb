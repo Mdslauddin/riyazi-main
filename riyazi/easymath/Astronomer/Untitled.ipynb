{
 "cells": [
  {
   "cell_type": "markdown",
   "id": "f0cf6bfc",
   "metadata": {},
   "source": [
    "https://prappleizer.github.io/"
   ]
  },
  {
   "cell_type": "markdown",
   "id": "3c934701",
   "metadata": {},
   "source": [
    "https://python4astronomers.github.io/"
   ]
  },
  {
   "cell_type": "markdown",
   "id": "7e7b94aa",
   "metadata": {},
   "source": [
    "https://www.astrowhit.com/astronomy-research-tutorial-repository"
   ]
  },
  {
   "cell_type": "markdown",
   "id": "3635515d",
   "metadata": {},
   "source": [
    "https://opensource.com/article/19/10/python-astronomy-open-data"
   ]
  },
  {
   "cell_type": "markdown",
   "id": "61f73500",
   "metadata": {},
   "source": [
    "https://www.astrobetter.com/blog/2011/05/25/python4astronomers/"
   ]
  },
  {
   "cell_type": "markdown",
   "id": "3a67f6b8",
   "metadata": {},
   "source": [
    "https://whitaker.physics.uconn.edu/astronomy-research-tutorials/"
   ]
  },
  {
   "cell_type": "code",
   "execution_count": null,
   "id": "cbf20b2f",
   "metadata": {},
   "outputs": [],
   "source": []
  }
 ],
 "metadata": {
  "kernelspec": {
   "display_name": "Python 3 (ipykernel)",
   "language": "python",
   "name": "python3"
  },
  "language_info": {
   "codemirror_mode": {
    "name": "ipython",
    "version": 3
   },
   "file_extension": ".py",
   "mimetype": "text/x-python",
   "name": "python",
   "nbconvert_exporter": "python",
   "pygments_lexer": "ipython3",
   "version": "3.9.12"
  }
 },
 "nbformat": 4,
 "nbformat_minor": 5
}
