{
 "cells": [
  {
   "cell_type": "code",
   "execution_count": 1,
   "id": "4fe05948",
   "metadata": {},
   "outputs": [],
   "source": [
    "import numpy as np \n",
    "\n",
    "\n",
    "def DFT(x):\n",
    "    \"\"\"\n",
    "    Function to calculate the \n",
    "    discrete Fourier Transform \n",
    "    of a 1D real-valued signal x\n",
    "    \"\"\"\n",
    "\n",
    "    N = len(x)\n",
    "    n = np.arange(N)\n",
    "    k = n.reshape((N, 1))\n",
    "    e = np.exp(-2j * np.pi * k * n / N)\n",
    "    \n",
    "    X = np.dot(e, x)\n",
    "    \n",
    "    return X"
   ]
  },
  {
   "cell_type": "code",
   "execution_count": 3,
   "id": "802cc04b",
   "metadata": {},
   "outputs": [
    {
     "data": {
      "text/plain": [
       "array([ 9.+0.000000e+00j, -2.+1.000000e+00j, -1.-6.123234e-16j,\n",
       "       -2.-1.000000e+00j])"
      ]
     },
     "execution_count": 3,
     "metadata": {},
     "output_type": "execute_result"
    }
   ],
   "source": [
    "\n",
    "DFT([1,2,3,3])"
   ]
  },
  {
   "cell_type": "markdown",
   "id": "d23f1d2b",
   "metadata": {},
   "source": [
    "https://medium.com/0xcode/fast-fourier-transform-fft-algorithm-implementation-in-python-b592099bdb27"
   ]
  },
  {
   "cell_type": "markdown",
   "id": "3fb0b714",
   "metadata": {},
   "source": [
    "https://www.geeksforgeeks.org/fast-fourier-transformation-poynomial-multiplication/"
   ]
  },
  {
   "cell_type": "markdown",
   "id": "6684d013",
   "metadata": {},
   "source": [
    "https://jakevdp.github.io/blog/2013/08/28/understanding-the-fft/"
   ]
  },
  {
   "cell_type": "markdown",
   "id": "e07522d1",
   "metadata": {},
   "source": [
    "https://www.datadriveninvestor.com/2020/10/23/fourier-transform-for-image-processing-in-python-from-scratch/"
   ]
  },
  {
   "cell_type": "markdown",
   "id": "63f5f46f",
   "metadata": {},
   "source": [
    "https://rafael-fuente.github.io/solving-the-diffraction-integral-with-the-fast-fourier-transform-fft-and-python.html"
   ]
  },
  {
   "cell_type": "markdown",
   "id": "8845e52f",
   "metadata": {},
   "source": [
    "https://medium.com/intuition/quantamental-approach-to-stock-trading-using-the-fourier-analysis-58f64792290"
   ]
  },
  {
   "cell_type": "markdown",
   "id": "671c11e7",
   "metadata": {},
   "source": [
    "https://awesomeopensource.com/projects/fourier-transform/python"
   ]
  },
  {
   "cell_type": "markdown",
   "id": "d845dbaa",
   "metadata": {},
   "source": [
    "https://stackoverflow.com/questions/5255474/fast-fourier-transform"
   ]
  },
  {
   "cell_type": "markdown",
   "id": "1624b7dd",
   "metadata": {},
   "source": [
    "https://en.wikipedia.org/wiki/Fast_Fourier_transform"
   ]
  },
  {
   "cell_type": "markdown",
   "id": "f4d9f506",
   "metadata": {},
   "source": [
    "https://en.wikibooks.org/wiki/Digital_Signal_Processing/Fast_Fourier_Transform_(FFT)_Algorithm"
   ]
  },
  {
   "cell_type": "markdown",
   "id": "7a35f781",
   "metadata": {},
   "source": [
    "https://aplwiki.com/wiki/Fast_Fourier_transform"
   ]
  },
  {
   "cell_type": "code",
   "execution_count": null,
   "id": "d7ea783a",
   "metadata": {},
   "outputs": [],
   "source": []
  }
 ],
 "metadata": {
  "kernelspec": {
   "display_name": "Python 3 (ipykernel)",
   "language": "python",
   "name": "python3"
  },
  "language_info": {
   "codemirror_mode": {
    "name": "ipython",
    "version": 3
   },
   "file_extension": ".py",
   "mimetype": "text/x-python",
   "name": "python",
   "nbconvert_exporter": "python",
   "pygments_lexer": "ipython3",
   "version": "3.9.12"
  }
 },
 "nbformat": 4,
 "nbformat_minor": 5
}
