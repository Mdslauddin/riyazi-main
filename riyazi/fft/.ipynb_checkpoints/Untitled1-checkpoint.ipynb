{
 "cells": [
  {
   "cell_type": "code",
   "execution_count": 1,
   "id": "c6817b15",
   "metadata": {},
   "outputs": [],
   "source": [
    "import numpy as np\n",
    "\n",
    "def dft(x):\n",
    "    \"\"\"Compute the 1-D discrete Fourier Transform of a signal or sequence.\n",
    "\n",
    "    Parameters:\n",
    "    x (ndarray): The input signal or sequence.\n",
    "\n",
    "    Returns:\n",
    "    ndarray: The complex-valued DFT of the input signal.\n",
    "    \"\"\"\n",
    "    N = len(x)\n",
    "    X = np.zeros(N, dtype=complex)\n",
    "    for k in range(N):\n",
    "        for n in range(N):\n",
    "            X[k] += x[n] * np.exp(-2j * np.pi * k * n / N)\n",
    "    return X\n"
   ]
  },
  {
   "cell_type": "code",
   "execution_count": 10,
   "id": "67ab25fe",
   "metadata": {
    "scrolled": true
   },
   "outputs": [
    {
     "data": {
      "text/plain": [
       "array([14.+0.0000000e+00j, -2.+2.0000000e+00j, -2.-1.2246468e-15j,\n",
       "       -2.-2.0000000e+00j])"
      ]
     },
     "execution_count": 10,
     "metadata": {},
     "output_type": "execute_result"
    }
   ],
   "source": [
    "dft(arr)"
   ]
  },
  {
   "cell_type": "code",
   "execution_count": 9,
   "id": "9152ec04",
   "metadata": {},
   "outputs": [
    {
     "data": {
      "text/plain": [
       "array([14.+0.j, -2.+2.j, -2.+0.j, -2.-2.j])"
      ]
     },
     "execution_count": 9,
     "metadata": {},
     "output_type": "execute_result"
    }
   ],
   "source": [
    "arr = np.array([2,3,4,5])\n",
    "np.fft.fft(arr)"
   ]
  },
  {
   "cell_type": "code",
   "execution_count": null,
   "id": "35c88705",
   "metadata": {},
   "outputs": [],
   "source": []
  }
 ],
 "metadata": {
  "kernelspec": {
   "display_name": "Python 3 (ipykernel)",
   "language": "python",
   "name": "python3"
  },
  "language_info": {
   "codemirror_mode": {
    "name": "ipython",
    "version": 3
   },
   "file_extension": ".py",
   "mimetype": "text/x-python",
   "name": "python",
   "nbconvert_exporter": "python",
   "pygments_lexer": "ipython3",
   "version": "3.9.12"
  }
 },
 "nbformat": 4,
 "nbformat_minor": 5
}
