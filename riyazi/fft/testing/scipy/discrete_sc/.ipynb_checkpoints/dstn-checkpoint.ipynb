{
 "cells": [
  {
   "cell_type": "markdown",
   "id": "7aaf2167",
   "metadata": {},
   "source": [
    "### Return multidimensional Discrete Sine Transform along the specified axes."
   ]
  },
  {
   "cell_type": "code",
   "execution_count": 1,
   "id": "92429ac0",
   "metadata": {},
   "outputs": [],
   "source": [
    "import numpy as np"
   ]
  },
  {
   "cell_type": "code",
   "execution_count": 2,
   "id": "40af82d7",
   "metadata": {},
   "outputs": [
    {
     "data": {
      "text/plain": [
       "True"
      ]
     },
     "execution_count": 2,
     "metadata": {},
     "output_type": "execute_result"
    }
   ],
   "source": [
    "from scipy.fft import dstn, idstn\n",
    "rng = np.random.default_rng()\n",
    "y = rng.standard_normal((16, 16))\n",
    "np.allclose(y, idstn(dstn(y)))"
   ]
  },
  {
   "cell_type": "code",
   "execution_count": 1,
   "id": "ec6d60ff",
   "metadata": {},
   "outputs": [],
   "source": [
    "def dst2(y):\n",
    "    M = y.shape[0]\n",
    "    N = y.shape[1]\n",
    "    a = empty([M,N],float)\n",
    "    b = empty([M,N],float)\n",
    "\n",
    "    for i in range(M):\n",
    "        a[i,:] = dst(y[i,:])\n",
    "    for j in range(N):\n",
    "        b[:,j] = dst(a[:,j])\n",
    "\n",
    "    return b"
   ]
  },
  {
   "cell_type": "code",
   "execution_count": null,
   "id": "b86c72cb",
   "metadata": {},
   "outputs": [],
   "source": []
  }
 ],
 "metadata": {
  "kernelspec": {
   "display_name": "Python 3 (ipykernel)",
   "language": "python",
   "name": "python3"
  },
  "language_info": {
   "codemirror_mode": {
    "name": "ipython",
    "version": 3
   },
   "file_extension": ".py",
   "mimetype": "text/x-python",
   "name": "python",
   "nbconvert_exporter": "python",
   "pygments_lexer": "ipython3",
   "version": "3.9.12"
  }
 },
 "nbformat": 4,
 "nbformat_minor": 5
}
