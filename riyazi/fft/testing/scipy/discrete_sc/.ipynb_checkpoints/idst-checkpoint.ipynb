{
 "cells": [
  {
   "cell_type": "markdown",
   "id": "47c1a103",
   "metadata": {},
   "source": [
    "### Return the Inverse Discrete Sine Transform of an arbitrary type sequence."
   ]
  },
  {
   "cell_type": "code",
   "execution_count": 1,
   "id": "bcd861a8",
   "metadata": {},
   "outputs": [],
   "source": [
    "import numpy as np"
   ]
  },
  {
   "cell_type": "code",
   "execution_count": 1,
   "id": "9095e43d",
   "metadata": {},
   "outputs": [],
   "source": [
    "def idst(a):\n",
    "    N = len(a)\n",
    "    c = empty(N+1,complex)\n",
    "    c[0] = c[N] = 0.0\n",
    "    c[1:N] = -1j*a[1:]\n",
    "    y = irfft(c)[:N]\n",
    "    y[0] = 0.0\n",
    "\n",
    "    return y\n"
   ]
  },
  {
   "cell_type": "code",
   "execution_count": null,
   "id": "600432c5",
   "metadata": {},
   "outputs": [],
   "source": []
  }
 ],
 "metadata": {
  "kernelspec": {
   "display_name": "Python 3 (ipykernel)",
   "language": "python",
   "name": "python3"
  },
  "language_info": {
   "codemirror_mode": {
    "name": "ipython",
    "version": 3
   },
   "file_extension": ".py",
   "mimetype": "text/x-python",
   "name": "python",
   "nbconvert_exporter": "python",
   "pygments_lexer": "ipython3",
   "version": "3.9.12"
  }
 },
 "nbformat": 4,
 "nbformat_minor": 5
}
