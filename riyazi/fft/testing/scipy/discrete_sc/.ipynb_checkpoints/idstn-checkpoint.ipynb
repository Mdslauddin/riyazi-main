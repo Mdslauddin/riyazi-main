{
 "cells": [
  {
   "cell_type": "markdown",
   "id": "7c701558",
   "metadata": {},
   "source": [
    "### Return multidimensional Inverse Discrete Sine Transform along the specified axes."
   ]
  },
  {
   "cell_type": "code",
   "execution_count": 1,
   "id": "95f2ddeb",
   "metadata": {},
   "outputs": [],
   "source": [
    "import numpy as np"
   ]
  },
  {
   "cell_type": "code",
   "execution_count": 2,
   "id": "66b5603e",
   "metadata": {},
   "outputs": [
    {
     "data": {
      "text/plain": [
       "True"
      ]
     },
     "execution_count": 2,
     "metadata": {},
     "output_type": "execute_result"
    }
   ],
   "source": [
    "from scipy.fft import dstn, idstn\n",
    "rng = np.random.default_rng()\n",
    "y = rng.standard_normal((16, 16))\n",
    "np.allclose(y, idstn(dstn(y)))"
   ]
  },
  {
   "cell_type": "code",
   "execution_count": 1,
   "id": "87475c64",
   "metadata": {},
   "outputs": [],
   "source": [
    "def idst2(b):\n",
    "    M = b.shape[0]\n",
    "    N = b.shape[1]\n",
    "    a = empty([M,N],float)\n",
    "    y = empty([M,N],float)\n",
    "\n",
    "    for i in range(M):\n",
    "        a[i,:] = idst(b[i,:])\n",
    "    for j in range(N):\n",
    "        y[:,j] = idst(a[:,j])\n",
    "\n",
    "    return y\n"
   ]
  },
  {
   "cell_type": "code",
   "execution_count": null,
   "id": "cc83d967",
   "metadata": {},
   "outputs": [],
   "source": []
  }
 ],
 "metadata": {
  "kernelspec": {
   "display_name": "Python 3 (ipykernel)",
   "language": "python",
   "name": "python3"
  },
  "language_info": {
   "codemirror_mode": {
    "name": "ipython",
    "version": 3
   },
   "file_extension": ".py",
   "mimetype": "text/x-python",
   "name": "python",
   "nbconvert_exporter": "python",
   "pygments_lexer": "ipython3",
   "version": "3.9.12"
  }
 },
 "nbformat": 4,
 "nbformat_minor": 5
}
