{
 "cells": [
  {
   "cell_type": "markdown",
   "id": "cc63659f",
   "metadata": {},
   "source": [
    "### Return the Discrete Sine Transform of arbitrary type sequence x."
   ]
  },
  {
   "cell_type": "code",
   "execution_count": 1,
   "id": "3ba944b1",
   "metadata": {},
   "outputs": [],
   "source": [
    "import scipy.fft as sf"
   ]
  },
  {
   "cell_type": "code",
   "execution_count": 8,
   "id": "a4d158d5",
   "metadata": {},
   "outputs": [],
   "source": [
    "import numpy as np \n",
    "a  = np.array([4,5,6])"
   ]
  },
  {
   "cell_type": "code",
   "execution_count": 12,
   "id": "19be27fd",
   "metadata": {},
   "outputs": [
    {
     "data": {
      "text/plain": [
       "array([18.66025404,  2.        ,  1.33974596])"
      ]
     },
     "execution_count": 12,
     "metadata": {},
     "output_type": "execute_result"
    }
   ],
   "source": [
    "sf.dst(a,)"
   ]
  },
  {
   "cell_type": "code",
   "execution_count": 4,
   "id": "64730494",
   "metadata": {},
   "outputs": [],
   "source": [
    "from numpy import empty,arange,exp,real,imag,pi\n",
    "from numpy.fft import rfft,irfft\n"
   ]
  },
  {
   "cell_type": "code",
   "execution_count": null,
   "id": "f1e30f7e",
   "metadata": {},
   "outputs": [],
   "source": []
  },
  {
   "cell_type": "code",
   "execution_count": 5,
   "id": "f5c5fbfa",
   "metadata": {},
   "outputs": [],
   "source": [
    "def dst(y):\n",
    "    N = len(y)\n",
    "    y2 = empty(2*N,float)\n",
    "    y2[0] = y2[N] = 0.0\n",
    "    y2[1:N] = y[1:]\n",
    "    y2[:N:-1] = -y[1:]\n",
    "    a = -imag(rfft(y2))[:N]\n",
    "    a[0] = 0.0\n",
    "\n",
    "    return a\n"
   ]
  },
  {
   "cell_type": "code",
   "execution_count": 6,
   "id": "aeabdca6",
   "metadata": {},
   "outputs": [
    {
     "data": {
      "text/plain": [
       "array([ 0.        , 19.05255888, -1.73205081])"
      ]
     },
     "execution_count": 6,
     "metadata": {},
     "output_type": "execute_result"
    }
   ],
   "source": [
    "\n",
    "dst(a)"
   ]
  },
  {
   "cell_type": "code",
   "execution_count": null,
   "id": "97f6d364",
   "metadata": {},
   "outputs": [],
   "source": []
  }
 ],
 "metadata": {
  "kernelspec": {
   "display_name": "Python 3 (ipykernel)",
   "language": "python",
   "name": "python3"
  },
  "language_info": {
   "codemirror_mode": {
    "name": "ipython",
    "version": 3
   },
   "file_extension": ".py",
   "mimetype": "text/x-python",
   "name": "python",
   "nbconvert_exporter": "python",
   "pygments_lexer": "ipython3",
   "version": "3.9.12"
  }
 },
 "nbformat": 4,
 "nbformat_minor": 5
}
