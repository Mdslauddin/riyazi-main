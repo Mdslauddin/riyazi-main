{
 "cells": [
  {
   "cell_type": "markdown",
   "id": "e83c396f",
   "metadata": {},
   "source": [
    "### Return the Inverse Discrete Cosine Transform of an arbitrary type sequence."
   ]
  },
  {
   "cell_type": "code",
   "execution_count": 1,
   "id": "9eab5bee",
   "metadata": {},
   "outputs": [],
   "source": [
    "import numpy as np "
   ]
  },
  {
   "cell_type": "code",
   "execution_count": 8,
   "id": "92f1d625",
   "metadata": {
    "scrolled": true
   },
   "outputs": [
    {
     "data": {
      "text/plain": [
       "array([ 4.,  3.,  5., 10.,  5.,  3.])"
      ]
     },
     "execution_count": 8,
     "metadata": {},
     "output_type": "execute_result"
    }
   ],
   "source": [
    "from scipy.fft import ifft, idct\n",
    "ifft(np.array([ 30.,  -8.,   6.,  -2.,   6.,  -8.])).real"
   ]
  },
  {
   "cell_type": "code",
   "execution_count": 11,
   "id": "5fb803bb",
   "metadata": {},
   "outputs": [
    {
     "data": {
      "text/plain": [
       "array([2.77155939, 2.38591273, 2.99276693, 6.84976095])"
      ]
     },
     "execution_count": 11,
     "metadata": {},
     "output_type": "execute_result"
    }
   ],
   "source": [
    "idct(np.array([ 30.,  -8.,   6.,  -2.]))"
   ]
  },
  {
   "cell_type": "code",
   "execution_count": 4,
   "id": "91407299",
   "metadata": {},
   "outputs": [],
   "source": [
    "from numpy import empty,arange,exp,real,imag,pi\n",
    "from numpy.fft import rfft,irfft"
   ]
  },
  {
   "cell_type": "code",
   "execution_count": null,
   "id": "b9916c0b",
   "metadata": {},
   "outputs": [],
   "source": []
  },
  {
   "cell_type": "code",
   "execution_count": 5,
   "id": "bfa1c9e9",
   "metadata": {},
   "outputs": [],
   "source": [
    "s\n"
   ]
  },
  {
   "cell_type": "code",
   "execution_count": 6,
   "id": "f0b247f7",
   "metadata": {},
   "outputs": [
    {
     "data": {
      "text/plain": [
       "array([2.77155939, 2.38591273, 2.99276693, 6.84976095])"
      ]
     },
     "execution_count": 6,
     "metadata": {},
     "output_type": "execute_result"
    }
   ],
   "source": [
    "idct([ 30.,  -8.,   6.,  -2.])"
   ]
  },
  {
   "cell_type": "code",
   "execution_count": null,
   "id": "33eadc68",
   "metadata": {},
   "outputs": [],
   "source": []
  }
 ],
 "metadata": {
  "kernelspec": {
   "display_name": "Python 3 (ipykernel)",
   "language": "python",
   "name": "python3"
  },
  "language_info": {
   "codemirror_mode": {
    "name": "ipython",
    "version": 3
   },
   "file_extension": ".py",
   "mimetype": "text/x-python",
   "name": "python",
   "nbconvert_exporter": "python",
   "pygments_lexer": "ipython3",
   "version": "3.9.12"
  }
 },
 "nbformat": 4,
 "nbformat_minor": 5
}
