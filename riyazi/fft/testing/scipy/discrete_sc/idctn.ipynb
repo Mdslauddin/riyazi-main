{
 "cells": [
  {
   "cell_type": "markdown",
   "id": "cab6402a",
   "metadata": {},
   "source": [
    "### Return multidimensional Inverse Discrete Cosine Transform along the specified axes."
   ]
  },
  {
   "cell_type": "code",
   "execution_count": 2,
   "id": "f284189a",
   "metadata": {},
   "outputs": [],
   "source": [
    "import numpy as np"
   ]
  },
  {
   "cell_type": "code",
   "execution_count": 6,
   "id": "bea019f9",
   "metadata": {},
   "outputs": [
    {
     "data": {
      "text/plain": [
       "True"
      ]
     },
     "execution_count": 6,
     "metadata": {},
     "output_type": "execute_result"
    }
   ],
   "source": [
    "from scipy.fft import dctn, idctn\n",
    "rng = np.random.default_rng()\n",
    "y = rng.standard_normal((16, 16))\n",
    "np.allclose(y, idctn(dctn(y)))"
   ]
  },
  {
   "cell_type": "code",
   "execution_count": 1,
   "id": "0c8d4fa5",
   "metadata": {},
   "outputs": [],
   "source": [
    "from numpy import empty,arange,exp,real,imag,pi\n",
    "from numpy.fft import rfft,irfft\n"
   ]
  },
  {
   "cell_type": "code",
   "execution_count": 2,
   "id": "6350e469",
   "metadata": {},
   "outputs": [],
   "source": [
    "def idct(a):\n",
    "    N = len(a)\n",
    "    c = empty(N+1,complex)\n",
    "\n",
    "    phi = exp(1j*pi*arange(N)/(2*N))\n",
    "    c[:N] = phi*a\n",
    "    c[N] = 0.0\n",
    "    return irfft(c)[:N]"
   ]
  },
  {
   "cell_type": "code",
   "execution_count": 3,
   "id": "e4a465b5",
   "metadata": {},
   "outputs": [],
   "source": [
    "def idct2(b):\n",
    "    M = b.shape[0]\n",
    "    N = b.shape[1]\n",
    "    a = empty([M,N],float)\n",
    "    y = empty([M,N],float)\n",
    "\n",
    "    for i in range(M):\n",
    "        a[i,:] = idct(b[i,:])\n",
    "    for j in range(N):\n",
    "        y[:,j] = idct(a[:,j])\n",
    "\n",
    "    return y\n"
   ]
  },
  {
   "cell_type": "code",
   "execution_count": 4,
   "id": "c95d3c90",
   "metadata": {},
   "outputs": [],
   "source": [
    "import numpy as np"
   ]
  },
  {
   "cell_type": "code",
   "execution_count": 10,
   "id": "1a734a08",
   "metadata": {},
   "outputs": [
    {
     "data": {
      "text/plain": [
       "array([[ 2.316903  , -0.92258898,  0.16634615],\n",
       "       [-0.76188183,  0.25592232, -0.05470065]])"
      ]
     },
     "execution_count": 10,
     "metadata": {},
     "output_type": "execute_result"
    }
   ],
   "source": [
    "idct2(np.array([[4,5,6],[6,7,8]]))"
   ]
  },
  {
   "cell_type": "code",
   "execution_count": 11,
   "id": "947a29fa",
   "metadata": {},
   "outputs": [
    {
     "data": {
      "text/plain": [
       "array([[[[ 0.57922575, -0.23064725,  0.04158654],\n",
       "         [-0.19047046,  0.06398058, -0.01367516]]]])"
      ]
     },
     "execution_count": 11,
     "metadata": {},
     "output_type": "execute_result"
    }
   ],
   "source": [
    "idctn(np.array([[[[4,5,6],[6,7,8]]]]))"
   ]
  },
  {
   "cell_type": "code",
   "execution_count": null,
   "id": "f7e78bee",
   "metadata": {},
   "outputs": [],
   "source": []
  }
 ],
 "metadata": {
  "kernelspec": {
   "display_name": "Python 3 (ipykernel)",
   "language": "python",
   "name": "python3"
  },
  "language_info": {
   "codemirror_mode": {
    "name": "ipython",
    "version": 3
   },
   "file_extension": ".py",
   "mimetype": "text/x-python",
   "name": "python",
   "nbconvert_exporter": "python",
   "pygments_lexer": "ipython3",
   "version": "3.9.12"
  }
 },
 "nbformat": 4,
 "nbformat_minor": 5
}
