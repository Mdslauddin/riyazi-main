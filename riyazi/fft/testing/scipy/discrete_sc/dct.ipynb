{
 "cells": [
  {
   "cell_type": "markdown",
   "id": "3a3bcdb4",
   "metadata": {},
   "source": [
    "### Return the Discrete Cosine Transform of arbitrary type sequence x."
   ]
  },
  {
   "cell_type": "code",
   "execution_count": null,
   "id": "0326cf4c",
   "metadata": {},
   "outputs": [],
   "source": [
    "import numpy as np"
   ]
  },
  {
   "cell_type": "code",
   "execution_count": 5,
   "id": "9fa25da4",
   "metadata": {},
   "outputs": [
    {
     "data": {
      "text/plain": [
       "array([30., -8.,  6., -2.,  6., -8.])"
      ]
     },
     "execution_count": 5,
     "metadata": {},
     "output_type": "execute_result"
    }
   ],
   "source": [
    "from scipy.fft import fft, dct\n",
    "fft(np.array([4., 3., 5., 10., 5., 3.])).real"
   ]
  },
  {
   "cell_type": "code",
   "execution_count": 6,
   "id": "21e3c412",
   "metadata": {},
   "outputs": [
    {
     "data": {
      "text/plain": [
       "array([ 44.        , -12.61728812,   8.48528137,  -0.89668306])"
      ]
     },
     "execution_count": 6,
     "metadata": {},
     "output_type": "execute_result"
    }
   ],
   "source": [
    "dct(np.array([4., 3., 5., 10.]), 2)"
   ]
  },
  {
   "cell_type": "code",
   "execution_count": null,
   "id": "86b42045",
   "metadata": {},
   "outputs": [],
   "source": [
    "# Python3 program to perform discrete cosine transform\n",
    "import math\n",
    "\n",
    "pi = 3.142857\n",
    "m = 8\n",
    "n = 8\n",
    "\n",
    "# Function to find discrete cosine transform and print it\n",
    "def dctTransform(matrix):\n",
    "\n",
    "\t# dct will store the discrete cosine transform\n",
    "\tdct = []\n",
    "\tfor i in range(m):\n",
    "\t\tdct.append([None for _ in range(n)])\n",
    "\n",
    "\tfor i in range(m):\n",
    "\t\tfor j in range(n):\n",
    "\n",
    "\t\t\t# ci and cj depends on frequency as well as\n",
    "\t\t\t# number of row and columns of specified matrix\n",
    "\t\t\tif (i == 0):\n",
    "\t\t\t\tci = 1 / (m ** 0.5)\n",
    "\t\t\telse:\n",
    "\t\t\t\tci = (2 / m) ** 0.5\n",
    "\t\t\tif (j == 0):\n",
    "\t\t\t\tcj = 1 / (n ** 0.5)\n",
    "\t\t\telse:\n",
    "\t\t\t\tcj = (2 / n) ** 0.5\n",
    "\n",
    "\t\t\t# sum will temporarily store the sum of\n",
    "\t\t\t# cosine signals\n",
    "\t\t\tsum = 0\n",
    "\t\t\tfor k in range(m):\n",
    "\t\t\t\tfor l in range(n):\n",
    "\n",
    "\t\t\t\t\tdct1 = matrix[k][l] * math.cos((2 * k + 1) * i * pi / (\n",
    "\t\t\t\t\t\t2 * m)) * math.cos((2 * l + 1) * j * pi / (2 * n))\n",
    "\t\t\t\t\tsum = sum + dct1\n",
    "\n",
    "\t\t\tdct[i][j] = ci * cj * sum\n",
    "\n",
    "\tfor i in range(m):\n",
    "\t\tfor j in range(n):\n",
    "\t\t\tprint(dct[i][j], end=\"\\t\")\n",
    "\t\tprint()\n",
    "\n",
    "# Driver code\n",
    "matrix = [[255, 255, 255, 255, 255, 255, 255, 255],\n",
    "\t\t[255, 255, 255, 255, 255, 255, 255, 255],\n",
    "\t\t[255, 255, 255, 255, 255, 255, 255, 255],\n",
    "\t\t[255, 255, 255, 255, 255, 255, 255, 255],\n",
    "\t\t[255, 255, 255, 255, 255, 255, 255, 255],\n",
    "\t\t[255, 255, 255, 255, 255, 255, 255, 255],\n",
    "\t\t[255, 255, 255, 255, 255, 255, 255, 255],\n",
    "\t\t[255, 255, 255, 255, 255, 255, 255, 255]]\n",
    "\n",
    "dctTransform(matrix)\n",
    "\n",
    "# This code is contributed by phasing17\n"
   ]
  },
  {
   "cell_type": "code",
   "execution_count": null,
   "id": "8923a172",
   "metadata": {
    "scrolled": true
   },
   "outputs": [],
   "source": [
    "dct(matrix,3)"
   ]
  },
  {
   "cell_type": "markdown",
   "id": "29c793bd",
   "metadata": {},
   "source": [
    "https://www.geeksforgeeks.org/discrete-cosine-transform-algorithm-program/"
   ]
  },
  {
   "cell_type": "code",
   "execution_count": 2,
   "id": "6ec61c05",
   "metadata": {},
   "outputs": [],
   "source": [
    "#from numpy import empty,exp,arange,real\n",
    "#from scipy.fft import rfft\n",
    "\n",
    "from numpy import empty,arange,exp,real,imag,pi\n",
    "from numpy.fft import rfft,irfft\n",
    "def dcts(y):\n",
    "    N = len(y)\n",
    "    y2 = empty(2*N,float)\n",
    "    y2[:N] = y[:]\n",
    "    y2[N:] = y[::-1]\n",
    "\n",
    "    c = rfft(y2)\n",
    "    phi = exp(-1j*pi*arange(N)/(2*N))\n",
    "    return real(phi*c[:N])"
   ]
  },
  {
   "cell_type": "code",
   "execution_count": 4,
   "id": "4bd10064",
   "metadata": {},
   "outputs": [
    {
     "data": {
      "text/plain": [
       "array([ 44.        , -12.61728812,   8.48528137,  -0.89668306])"
      ]
     },
     "execution_count": 4,
     "metadata": {},
     "output_type": "execute_result"
    }
   ],
   "source": [
    "import numpy as np \n",
    "dcts(np.array([4., 3., 5., 10.]))"
   ]
  },
  {
   "cell_type": "markdown",
   "id": "56b1e081",
   "metadata": {},
   "source": [
    "http://www-personal.umich.edu/~mejn/computational-physics/dcst.py"
   ]
  },
  {
   "cell_type": "markdown",
   "id": "34dc961f",
   "metadata": {},
   "source": [
    "https://en.wikipedia.org/wiki/Discrete_cosine_transform"
   ]
  },
  {
   "cell_type": "code",
   "execution_count": null,
   "id": "9c3c9446",
   "metadata": {},
   "outputs": [],
   "source": [
    "import numpy as np \n",
    "rng = np.random.default_rng()\n",
    "y = rng.standard_normal((16, 16))\n"
   ]
  },
  {
   "cell_type": "code",
   "execution_count": null,
   "id": "c0d5ff95",
   "metadata": {},
   "outputs": [],
   "source": [
    "dcts(y)"
   ]
  },
  {
   "cell_type": "code",
   "execution_count": null,
   "id": "1a28c2e1",
   "metadata": {},
   "outputs": [],
   "source": []
  },
  {
   "cell_type": "code",
   "execution_count": null,
   "id": "a8e4d1ab",
   "metadata": {},
   "outputs": [],
   "source": []
  },
  {
   "cell_type": "code",
   "execution_count": null,
   "id": "a2578560",
   "metadata": {},
   "outputs": [],
   "source": []
  },
  {
   "cell_type": "code",
   "execution_count": null,
   "id": "7185633b",
   "metadata": {},
   "outputs": [],
   "source": []
  },
  {
   "cell_type": "code",
   "execution_count": null,
   "id": "5c53b3e5",
   "metadata": {},
   "outputs": [],
   "source": []
  },
  {
   "cell_type": "code",
   "execution_count": null,
   "id": "5cc59080",
   "metadata": {},
   "outputs": [],
   "source": []
  }
 ],
 "metadata": {
  "kernelspec": {
   "display_name": "Python 3 (ipykernel)",
   "language": "python",
   "name": "python3"
  },
  "language_info": {
   "codemirror_mode": {
    "name": "ipython",
    "version": 3
   },
   "file_extension": ".py",
   "mimetype": "text/x-python",
   "name": "python",
   "nbconvert_exporter": "python",
   "pygments_lexer": "ipython3",
   "version": "3.9.12"
  }
 },
 "nbformat": 4,
 "nbformat_minor": 5
}
