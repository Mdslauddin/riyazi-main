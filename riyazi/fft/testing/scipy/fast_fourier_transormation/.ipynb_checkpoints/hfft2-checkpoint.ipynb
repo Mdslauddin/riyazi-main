{
 "cells": [
  {
   "cell_type": "markdown",
   "id": "9f33983f",
   "metadata": {},
   "source": [
    "### Compute the 2-D FFT of a Hermitian complex array."
   ]
  },
  {
   "cell_type": "code",
   "execution_count": null,
   "id": "304b0fa1",
   "metadata": {},
   "outputs": [],
   "source": []
  }
 ],
 "metadata": {
  "kernelspec": {
   "display_name": "Python 3 (ipykernel)",
   "language": "python",
   "name": "python3"
  },
  "language_info": {
   "codemirror_mode": {
    "name": "ipython",
    "version": 3
   },
   "file_extension": ".py",
   "mimetype": "text/x-python",
   "name": "python",
   "nbconvert_exporter": "python",
   "pygments_lexer": "ipython3",
   "version": "3.9.12"
  }
 },
 "nbformat": 4,
 "nbformat_minor": 5
}
