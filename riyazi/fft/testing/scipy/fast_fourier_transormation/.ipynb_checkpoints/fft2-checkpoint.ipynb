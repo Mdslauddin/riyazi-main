{
 "cells": [
  {
   "cell_type": "markdown",
   "id": "50df6327",
   "metadata": {},
   "source": [
    "### Compute the 2-D discrete Fourier Transform"
   ]
  },
  {
   "cell_type": "code",
   "execution_count": 2,
   "id": "7a3d1cbf",
   "metadata": {},
   "outputs": [
    {
     "data": {
      "text/plain": [
       "array([[ 50.  -0.j        ,   0.  +0.j        ,   0.  +0.j        ,\n",
       "          0.  -0.j        ,   0.  -0.j        ],\n",
       "       [-12.5+17.20477401j,   0.  +0.j        ,   0.  +0.j        ,\n",
       "          0.  -0.j        ,   0.  -0.j        ],\n",
       "       [-12.5 +4.0614962j ,   0.  +0.j        ,   0.  +0.j        ,\n",
       "          0.  -0.j        ,   0.  -0.j        ],\n",
       "       [-12.5 -4.0614962j ,   0.  +0.j        ,   0.  +0.j        ,\n",
       "          0.  -0.j        ,   0.  -0.j        ],\n",
       "       [-12.5-17.20477401j,   0.  +0.j        ,   0.  +0.j        ,\n",
       "          0.  -0.j        ,   0.  -0.j        ]])"
      ]
     },
     "execution_count": 2,
     "metadata": {},
     "output_type": "execute_result"
    }
   ],
   "source": [
    "import scipy.fft\n",
    "x = np.mgrid[:5, :5][0]\n",
    "scipy.fft.fft2(x)"
   ]
  },
  {
   "cell_type": "code",
   "execution_count": 7,
   "id": "489a7a68",
   "metadata": {},
   "outputs": [],
   "source": [
    "import cmath\n",
    "import numpy as np\n",
    "from math import log, ceil\n",
    "def pad2(x):\n",
    "    m, n = np.shape(x)\n",
    "    M, N = 2 ** int(ceil(log(m, 2))), 2 ** int(ceil(log(n, 2)))\n",
    "    F = np.zeros((M,N), dtype = x.dtype)\n",
    "    F[0:m, 0:n] = x\n",
    "    return F, m, n\n",
    "\n",
    "def fft2(f):\n",
    "    '''FFT of 2-d signals/images with padding\n",
    "    usage X, m, n = fft2(x), where m and n are dimensions of original signal'''\n",
    "\n",
    "    f, m, n = pad2(f)\n",
    "    return np.transpose(scipy.fft.fft(np.transpose(scipy.fft.fft(f)))), m, n\n"
   ]
  },
  {
   "cell_type": "code",
   "execution_count": 8,
   "id": "7fc0fd62",
   "metadata": {},
   "outputs": [
    {
     "data": {
      "text/plain": [
       "(array([[ 50.         -0.j        ,   0.        -24.14213562j,\n",
       "          10.         -0.j        ,   0.         -4.14213562j,\n",
       "          10.         -0.j        ,   0.         +4.14213562j,\n",
       "          10.         +0.j        ,   0.        +24.14213562j],\n",
       "        [-27.07106781-24.14213562j, -11.65685425+13.07106781j,\n",
       "          -5.41421356 -4.82842712j,  -2.         +2.24264069j,\n",
       "          -5.41421356 -4.82842712j,   2.         -2.24264069j,\n",
       "          -5.41421356 -4.82842712j,  11.65685425-13.07106781j],\n",
       "        [ 10.        +10.j        ,   4.82842712 -4.82842712j,\n",
       "           2.         +2.j        ,   0.82842712 -0.82842712j,\n",
       "           2.         +2.j        ,  -0.82842712 +0.82842712j,\n",
       "           2.         +2.j        ,  -4.82842712 +4.82842712j],\n",
       "        [-12.92893219 -4.14213562j,  -2.         +6.24264069j,\n",
       "          -2.58578644 -0.82842712j,  -0.34314575 +1.07106781j,\n",
       "          -2.58578644 -0.82842712j,   0.34314575 -1.07106781j,\n",
       "          -2.58578644 -0.82842712j,   2.         -6.24264069j],\n",
       "        [ 10.         +0.j        ,   0.         -4.82842712j,\n",
       "           2.         +0.j        ,   0.         -0.82842712j,\n",
       "           2.         +0.j        ,   0.         +0.82842712j,\n",
       "           2.         +0.j        ,   0.         +4.82842712j],\n",
       "        [-12.92893219 +4.14213562j,   2.         +6.24264069j,\n",
       "          -2.58578644 +0.82842712j,   0.34314575 +1.07106781j,\n",
       "          -2.58578644 +0.82842712j,  -0.34314575 -1.07106781j,\n",
       "          -2.58578644 +0.82842712j,  -2.         -6.24264069j],\n",
       "        [ 10.        -10.j        ,  -4.82842712 -4.82842712j,\n",
       "           2.         -2.j        ,  -0.82842712 -0.82842712j,\n",
       "           2.         -2.j        ,   0.82842712 +0.82842712j,\n",
       "           2.         -2.j        ,   4.82842712 +4.82842712j],\n",
       "        [-27.07106781+24.14213562j,  11.65685425+13.07106781j,\n",
       "          -5.41421356 +4.82842712j,   2.         +2.24264069j,\n",
       "          -5.41421356 +4.82842712j,  -2.         -2.24264069j,\n",
       "          -5.41421356 +4.82842712j, -11.65685425-13.07106781j]]),\n",
       " 5,\n",
       " 5)"
      ]
     },
     "execution_count": 8,
     "metadata": {},
     "output_type": "execute_result"
    }
   ],
   "source": [
    "fft2(x)"
   ]
  },
  {
   "cell_type": "code",
   "execution_count": null,
   "id": "7f65567d",
   "metadata": {},
   "outputs": [],
   "source": []
  }
 ],
 "metadata": {
  "kernelspec": {
   "display_name": "Python 3 (ipykernel)",
   "language": "python",
   "name": "python3"
  },
  "language_info": {
   "codemirror_mode": {
    "name": "ipython",
    "version": 3
   },
   "file_extension": ".py",
   "mimetype": "text/x-python",
   "name": "python",
   "nbconvert_exporter": "python",
   "pygments_lexer": "ipython3",
   "version": "3.9.12"
  }
 },
 "nbformat": 4,
 "nbformat_minor": 5
}
