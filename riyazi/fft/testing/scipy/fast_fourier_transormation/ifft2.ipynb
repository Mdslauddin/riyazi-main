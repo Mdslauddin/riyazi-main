{
 "cells": [
  {
   "cell_type": "markdown",
   "id": "d4d14dfb",
   "metadata": {},
   "source": [
    "### Compute the 2-D inverse discrete Fourier Transform."
   ]
  },
  {
   "cell_type": "code",
   "execution_count": 1,
   "id": "6e068cab",
   "metadata": {},
   "outputs": [],
   "source": [
    "import numpy as np"
   ]
  },
  {
   "cell_type": "code",
   "execution_count": 2,
   "id": "8a851a35",
   "metadata": {},
   "outputs": [
    {
     "data": {
      "text/plain": [
       "array([[1.-0.j, 0.+0.j, 0.-0.j, 0.-0.j],\n",
       "       [0.+0.j, 0.+0.j, 0.+0.j, 1.-0.j],\n",
       "       [0.-0.j, 0.-0.j, 1.-0.j, 0.+0.j],\n",
       "       [0.-0.j, 1.+0.j, 0.-0.j, 0.-0.j]])"
      ]
     },
     "execution_count": 2,
     "metadata": {},
     "output_type": "execute_result"
    }
   ],
   "source": [
    "import scipy.fft\n",
    "x = 4 * np.eye(4)\n",
    "scipy.fft.ifft2(x)"
   ]
  },
  {
   "cell_type": "code",
   "execution_count": 4,
   "id": "77b43afa",
   "metadata": {},
   "outputs": [],
   "source": [
    "def ifft2(F, m, n):\n",
    "    ''' IFFT of 2-d signals\n",
    "    usage x = ifft2(X, m, n) with unpaded, \n",
    "    where m and n are odimensions of original signal before padding'''\n",
    "\n",
    "    f, M, N =scipy.fft.fft2(np.conj(F)) ,2,1\n",
    "    f = np.matrix(np.real(np.conj(f)))/(M*N)\n",
    "    return f[0:m, 0:n]\n"
   ]
  },
  {
   "cell_type": "code",
   "execution_count": 5,
   "id": "311762bf",
   "metadata": {},
   "outputs": [
    {
     "data": {
      "text/plain": [
       "2"
      ]
     },
     "execution_count": 5,
     "metadata": {},
     "output_type": "execute_result"
    }
   ],
   "source": [
    "x.ndim"
   ]
  },
  {
   "cell_type": "code",
   "execution_count": 10,
   "id": "9fb82687",
   "metadata": {},
   "outputs": [
    {
     "ename": "ValueError",
     "evalue": "axes exceeds dimensionality of input",
     "output_type": "error",
     "traceback": [
      "\u001b[1;31m---------------------------------------------------------------------------\u001b[0m",
      "\u001b[1;31mValueError\u001b[0m                                Traceback (most recent call last)",
      "Input \u001b[1;32mIn [10]\u001b[0m, in \u001b[0;36m<cell line: 1>\u001b[1;34m()\u001b[0m\n\u001b[1;32m----> 1\u001b[0m \u001b[43mifft2\u001b[49m\u001b[43m(\u001b[49m\u001b[43m[\u001b[49m\u001b[38;5;241;43m1\u001b[39;49m\u001b[43m,\u001b[49m\u001b[38;5;241;43m7\u001b[39;49m\u001b[43m]\u001b[49m\u001b[43m,\u001b[49m\u001b[43m[\u001b[49m\u001b[38;5;241;43m2\u001b[39;49m\u001b[43m,\u001b[49m\u001b[38;5;241;43m3\u001b[39;49m\u001b[43m,\u001b[49m\u001b[38;5;241;43m4\u001b[39;49m\u001b[43m]\u001b[49m\u001b[43m,\u001b[49m\u001b[43m[\u001b[49m\u001b[38;5;241;43m5\u001b[39;49m\u001b[43m,\u001b[49m\u001b[38;5;241;43m6\u001b[39;49m\u001b[43m,\u001b[49m\u001b[38;5;241;43m7\u001b[39;49m\u001b[43m]\u001b[49m\u001b[43m)\u001b[49m\n",
      "Input \u001b[1;32mIn [4]\u001b[0m, in \u001b[0;36mifft2\u001b[1;34m(F, m, n)\u001b[0m\n\u001b[0;32m      1\u001b[0m \u001b[38;5;28;01mdef\u001b[39;00m \u001b[38;5;21mifft2\u001b[39m(F, m, n):\n\u001b[0;32m      2\u001b[0m     \u001b[38;5;124;03m''' IFFT of 2-d signals\u001b[39;00m\n\u001b[0;32m      3\u001b[0m \u001b[38;5;124;03m    usage x = ifft2(X, m, n) with unpaded, \u001b[39;00m\n\u001b[0;32m      4\u001b[0m \u001b[38;5;124;03m    where m and n are odimensions of original signal before padding'''\u001b[39;00m\n\u001b[1;32m----> 6\u001b[0m     f, M, N \u001b[38;5;241m=\u001b[39m\u001b[43mscipy\u001b[49m\u001b[38;5;241;43m.\u001b[39;49m\u001b[43mfft\u001b[49m\u001b[38;5;241;43m.\u001b[39;49m\u001b[43mfft2\u001b[49m\u001b[43m(\u001b[49m\u001b[43mnp\u001b[49m\u001b[38;5;241;43m.\u001b[39;49m\u001b[43mconj\u001b[49m\u001b[43m(\u001b[49m\u001b[43mF\u001b[49m\u001b[43m)\u001b[49m\u001b[43m)\u001b[49m ,\u001b[38;5;241m2\u001b[39m,\u001b[38;5;241m1\u001b[39m\n\u001b[0;32m      7\u001b[0m     f \u001b[38;5;241m=\u001b[39m np\u001b[38;5;241m.\u001b[39mmatrix(np\u001b[38;5;241m.\u001b[39mreal(np\u001b[38;5;241m.\u001b[39mconj(f)))\u001b[38;5;241m/\u001b[39m(M\u001b[38;5;241m*\u001b[39mN)\n\u001b[0;32m      8\u001b[0m     \u001b[38;5;28;01mreturn\u001b[39;00m f[\u001b[38;5;241m0\u001b[39m:m, \u001b[38;5;241m0\u001b[39m:n]\n",
      "File \u001b[1;32mD:\\Anaconda\\lib\\site-packages\\scipy\\fft\\_backend.py:23\u001b[0m, in \u001b[0;36m_ScipyBackend.__ua_function__\u001b[1;34m(method, args, kwargs)\u001b[0m\n\u001b[0;32m     21\u001b[0m \u001b[38;5;28;01mif\u001b[39;00m fn \u001b[38;5;129;01mis\u001b[39;00m \u001b[38;5;28;01mNone\u001b[39;00m:\n\u001b[0;32m     22\u001b[0m     \u001b[38;5;28;01mreturn\u001b[39;00m \u001b[38;5;28mNotImplemented\u001b[39m\n\u001b[1;32m---> 23\u001b[0m \u001b[38;5;28;01mreturn\u001b[39;00m fn(\u001b[38;5;241m*\u001b[39margs, \u001b[38;5;241m*\u001b[39m\u001b[38;5;241m*\u001b[39mkwargs)\n",
      "File \u001b[1;32mD:\\Anaconda\\lib\\site-packages\\scipy\\fft\\_pocketfft\\basic.py:114\u001b[0m, in \u001b[0;36mfft2\u001b[1;34m(x, s, axes, norm, overwrite_x, workers, plan)\u001b[0m\n\u001b[0;32m    111\u001b[0m \u001b[38;5;28;01mif\u001b[39;00m plan \u001b[38;5;129;01mis\u001b[39;00m \u001b[38;5;129;01mnot\u001b[39;00m \u001b[38;5;28;01mNone\u001b[39;00m:\n\u001b[0;32m    112\u001b[0m     \u001b[38;5;28;01mraise\u001b[39;00m \u001b[38;5;167;01mNotImplementedError\u001b[39;00m(\u001b[38;5;124m'\u001b[39m\u001b[38;5;124mPassing a precomputed plan is not yet \u001b[39m\u001b[38;5;124m'\u001b[39m\n\u001b[0;32m    113\u001b[0m                               \u001b[38;5;124m'\u001b[39m\u001b[38;5;124msupported by scipy.fft functions\u001b[39m\u001b[38;5;124m'\u001b[39m)\n\u001b[1;32m--> 114\u001b[0m \u001b[38;5;28;01mreturn\u001b[39;00m \u001b[43mfftn\u001b[49m\u001b[43m(\u001b[49m\u001b[43mx\u001b[49m\u001b[43m,\u001b[49m\u001b[43m \u001b[49m\u001b[43ms\u001b[49m\u001b[43m,\u001b[49m\u001b[43m \u001b[49m\u001b[43maxes\u001b[49m\u001b[43m,\u001b[49m\u001b[43m \u001b[49m\u001b[43mnorm\u001b[49m\u001b[43m,\u001b[49m\u001b[43m \u001b[49m\u001b[43moverwrite_x\u001b[49m\u001b[43m,\u001b[49m\u001b[43m \u001b[49m\u001b[43mworkers\u001b[49m\u001b[43m)\u001b[49m\n",
      "File \u001b[1;32mD:\\Anaconda\\lib\\site-packages\\scipy\\fft\\_pocketfft\\basic.py:182\u001b[0m, in \u001b[0;36mc2cn\u001b[1;34m(forward, x, s, axes, norm, overwrite_x, workers, plan)\u001b[0m\n\u001b[0;32m    178\u001b[0m     \u001b[38;5;28;01mraise\u001b[39;00m \u001b[38;5;167;01mNotImplementedError\u001b[39;00m(\u001b[38;5;124m'\u001b[39m\u001b[38;5;124mPassing a precomputed plan is not yet \u001b[39m\u001b[38;5;124m'\u001b[39m\n\u001b[0;32m    179\u001b[0m                               \u001b[38;5;124m'\u001b[39m\u001b[38;5;124msupported by scipy.fft functions\u001b[39m\u001b[38;5;124m'\u001b[39m)\n\u001b[0;32m    180\u001b[0m tmp \u001b[38;5;241m=\u001b[39m _asfarray(x)\n\u001b[1;32m--> 182\u001b[0m shape, axes \u001b[38;5;241m=\u001b[39m \u001b[43m_init_nd_shape_and_axes\u001b[49m\u001b[43m(\u001b[49m\u001b[43mtmp\u001b[49m\u001b[43m,\u001b[49m\u001b[43m \u001b[49m\u001b[43ms\u001b[49m\u001b[43m,\u001b[49m\u001b[43m \u001b[49m\u001b[43maxes\u001b[49m\u001b[43m)\u001b[49m\n\u001b[0;32m    183\u001b[0m overwrite_x \u001b[38;5;241m=\u001b[39m overwrite_x \u001b[38;5;129;01mor\u001b[39;00m _datacopied(tmp, x)\n\u001b[0;32m    184\u001b[0m workers \u001b[38;5;241m=\u001b[39m _workers(workers)\n",
      "File \u001b[1;32mD:\\Anaconda\\lib\\site-packages\\scipy\\fft\\_pocketfft\\helper.py:51\u001b[0m, in \u001b[0;36m_init_nd_shape_and_axes\u001b[1;34m(x, shape, axes)\u001b[0m\n\u001b[0;32m     48\u001b[0m axes \u001b[38;5;241m=\u001b[39m [a \u001b[38;5;241m+\u001b[39m x\u001b[38;5;241m.\u001b[39mndim \u001b[38;5;28;01mif\u001b[39;00m a \u001b[38;5;241m<\u001b[39m \u001b[38;5;241m0\u001b[39m \u001b[38;5;28;01melse\u001b[39;00m a \u001b[38;5;28;01mfor\u001b[39;00m a \u001b[38;5;129;01min\u001b[39;00m axes]\n\u001b[0;32m     50\u001b[0m \u001b[38;5;28;01mif\u001b[39;00m \u001b[38;5;28many\u001b[39m(a \u001b[38;5;241m>\u001b[39m\u001b[38;5;241m=\u001b[39m x\u001b[38;5;241m.\u001b[39mndim \u001b[38;5;129;01mor\u001b[39;00m a \u001b[38;5;241m<\u001b[39m \u001b[38;5;241m0\u001b[39m \u001b[38;5;28;01mfor\u001b[39;00m a \u001b[38;5;129;01min\u001b[39;00m axes):\n\u001b[1;32m---> 51\u001b[0m     \u001b[38;5;28;01mraise\u001b[39;00m \u001b[38;5;167;01mValueError\u001b[39;00m(\u001b[38;5;124m\"\u001b[39m\u001b[38;5;124maxes exceeds dimensionality of input\u001b[39m\u001b[38;5;124m\"\u001b[39m)\n\u001b[0;32m     52\u001b[0m \u001b[38;5;28;01mif\u001b[39;00m \u001b[38;5;28mlen\u001b[39m(\u001b[38;5;28mset\u001b[39m(axes)) \u001b[38;5;241m!=\u001b[39m \u001b[38;5;28mlen\u001b[39m(axes):\n\u001b[0;32m     53\u001b[0m     \u001b[38;5;28;01mraise\u001b[39;00m \u001b[38;5;167;01mValueError\u001b[39;00m(\u001b[38;5;124m\"\u001b[39m\u001b[38;5;124mall axes must be unique\u001b[39m\u001b[38;5;124m\"\u001b[39m)\n",
      "\u001b[1;31mValueError\u001b[0m: axes exceeds dimensionality of input"
     ]
    }
   ],
   "source": [
    "ifft2([1,7],[2,3,4],[5,6,7])"
   ]
  },
  {
   "cell_type": "code",
   "execution_count": null,
   "id": "8b5abe66",
   "metadata": {},
   "outputs": [],
   "source": []
  }
 ],
 "metadata": {
  "kernelspec": {
   "display_name": "Python 3 (ipykernel)",
   "language": "python",
   "name": "python3"
  },
  "language_info": {
   "codemirror_mode": {
    "name": "ipython",
    "version": 3
   },
   "file_extension": ".py",
   "mimetype": "text/x-python",
   "name": "python",
   "nbconvert_exporter": "python",
   "pygments_lexer": "ipython3",
   "version": "3.9.12"
  }
 },
 "nbformat": 4,
 "nbformat_minor": 5
}
