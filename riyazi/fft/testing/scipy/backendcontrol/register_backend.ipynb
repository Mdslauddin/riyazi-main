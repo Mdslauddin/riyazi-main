{
 "cells": [
  {
   "cell_type": "markdown",
   "id": "ca39058a",
   "metadata": {},
   "source": [
    "### Register a backend for permanent use."
   ]
  },
  {
   "cell_type": "code",
   "execution_count": 1,
   "id": "60a999f1",
   "metadata": {},
   "outputs": [
    {
     "data": {
      "text/plain": [
       "array([1.-0.j])"
      ]
     },
     "execution_count": 1,
     "metadata": {},
     "output_type": "execute_result"
    }
   ],
   "source": [
    "from scipy.fft import fft, register_backend, set_global_backend\n",
    "class NoopBackend:  # Define an invalid Backend\n",
    "    __ua_domain__ = \"numpy.scipy.fft\"\n",
    "    def __ua_function__(self, func, args, kwargs):\n",
    "         return NotImplemented\n",
    "set_global_backend(NoopBackend())  # Set the invalid backend as global\n",
    "register_backend(\"scipy\")  # Register a new backend\n",
    "fft([1])  # The registered backend is called because the global backend returns `NotImplemented`"
   ]
  },
  {
   "cell_type": "code",
   "execution_count": 2,
   "id": "420262fa",
   "metadata": {},
   "outputs": [],
   "source": [
    "set_global_backend(\"scipy\")  # Restore global backend to default"
   ]
  },
  {
   "cell_type": "code",
   "execution_count": null,
   "id": "f70bf752",
   "metadata": {},
   "outputs": [],
   "source": []
  }
 ],
 "metadata": {
  "kernelspec": {
   "display_name": "Python 3 (ipykernel)",
   "language": "python",
   "name": "python3"
  },
  "language_info": {
   "codemirror_mode": {
    "name": "ipython",
    "version": 3
   },
   "file_extension": ".py",
   "mimetype": "text/x-python",
   "name": "python",
   "nbconvert_exporter": "python",
   "pygments_lexer": "ipython3",
   "version": "3.9.12"
  }
 },
 "nbformat": 4,
 "nbformat_minor": 5
}
