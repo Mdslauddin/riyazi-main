{
 "cells": [
  {
   "cell_type": "markdown",
   "id": "668f5515",
   "metadata": {},
   "source": [
    "### Context manager to set the backend within a fixed scope."
   ]
  },
  {
   "cell_type": "code",
   "execution_count": 1,
   "id": "b0cbd79f",
   "metadata": {},
   "outputs": [],
   "source": [
    "import scipy.fft as fft\n",
    "with fft.set_backend('scipy', only=True):\n",
    "    fft.fft([1])  # Always calls the scipy implementation"
   ]
  },
  {
   "cell_type": "code",
   "execution_count": null,
   "id": "2bf10a1b",
   "metadata": {},
   "outputs": [],
   "source": []
  }
 ],
 "metadata": {
  "kernelspec": {
   "display_name": "Python 3 (ipykernel)",
   "language": "python",
   "name": "python3"
  },
  "language_info": {
   "codemirror_mode": {
    "name": "ipython",
    "version": 3
   },
   "file_extension": ".py",
   "mimetype": "text/x-python",
   "name": "python",
   "nbconvert_exporter": "python",
   "pygments_lexer": "ipython3",
   "version": "3.9.12"
  }
 },
 "nbformat": 4,
 "nbformat_minor": 5
}
