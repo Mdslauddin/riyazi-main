{
 "cells": [
  {
   "cell_type": "code",
   "execution_count": 1,
   "id": "34e3da11",
   "metadata": {},
   "outputs": [],
   "source": [
    "nan = float('nan')\n",
    "NaN = float('nan')"
   ]
  },
  {
   "cell_type": "code",
   "execution_count": 2,
   "id": "7ac44b1e",
   "metadata": {},
   "outputs": [],
   "source": [
    "def floor_divide(x,y):\n",
    "    return x//y"
   ]
  },
  {
   "cell_type": "code",
   "execution_count": null,
   "id": "36bf9cb5",
   "metadata": {},
   "outputs": [],
   "source": []
  }
 ],
 "metadata": {
  "kernelspec": {
   "display_name": "Python 3 (ipykernel)",
   "language": "python",
   "name": "python3"
  },
  "language_info": {
   "codemirror_mode": {
    "name": "ipython",
    "version": 3
   },
   "file_extension": ".py",
   "mimetype": "text/x-python",
   "name": "python",
   "nbconvert_exporter": "python",
   "pygments_lexer": "ipython3",
   "version": "3.9.12"
  }
 },
 "nbformat": 4,
 "nbformat_minor": 5
}
