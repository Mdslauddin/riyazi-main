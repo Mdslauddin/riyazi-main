{
 "cells": [
  {
   "cell_type": "code",
   "execution_count": 1,
   "id": "e4b95c27",
   "metadata": {},
   "outputs": [],
   "source": [
    "nan = float('nan')\n",
    "NaN = float('nan')"
   ]
  },
  {
   "cell_type": "code",
   "execution_count": 2,
   "id": "73e7743b",
   "metadata": {},
   "outputs": [
    {
     "data": {
      "text/plain": [
       "(nan, nan)"
      ]
     },
     "execution_count": 2,
     "metadata": {},
     "output_type": "execute_result"
    }
   ],
   "source": [
    "nan,NaN"
   ]
  },
  {
   "cell_type": "code",
   "execution_count": 3,
   "id": "2b2dc104",
   "metadata": {},
   "outputs": [
    {
     "data": {
      "text/plain": [
       "float"
      ]
     },
     "execution_count": 3,
     "metadata": {},
     "output_type": "execute_result"
    }
   ],
   "source": [
    "type(nan)"
   ]
  },
  {
   "cell_type": "code",
   "execution_count": 4,
   "id": "33ec39eb",
   "metadata": {},
   "outputs": [],
   "source": [
    "import numpy as np "
   ]
  },
  {
   "cell_type": "code",
   "execution_count": 5,
   "id": "dc520540",
   "metadata": {},
   "outputs": [
    {
     "data": {
      "text/plain": [
       "float"
      ]
     },
     "execution_count": 5,
     "metadata": {},
     "output_type": "execute_result"
    }
   ],
   "source": [
    "type(np.nan)"
   ]
  },
  {
   "cell_type": "code",
   "execution_count": 21,
   "id": "90f7964e",
   "metadata": {},
   "outputs": [
    {
     "data": {
      "text/plain": [
       "array([0, 2, 2], dtype=int32)"
      ]
     },
     "execution_count": 21,
     "metadata": {},
     "output_type": "execute_result"
    }
   ],
   "source": [
    "np.floor_divide([6,5,5],[8,2,2])"
   ]
  },
  {
   "cell_type": "code",
   "execution_count": 14,
   "id": "ae0676aa",
   "metadata": {},
   "outputs": [],
   "source": [
    "def floor_divide(x,y):\n",
    "    return x//y"
   ]
  },
  {
   "cell_type": "code",
   "execution_count": 16,
   "id": "6a59c4d7",
   "metadata": {},
   "outputs": [
    {
     "data": {
      "text/plain": [
       "1"
      ]
     },
     "execution_count": 16,
     "metadata": {},
     "output_type": "execute_result"
    }
   ],
   "source": [
    "floor_divide(6,5)"
   ]
  },
  {
   "cell_type": "code",
   "execution_count": 8,
   "id": "e643e068",
   "metadata": {
    "scrolled": true
   },
   "outputs": [
    {
     "data": {
      "text/plain": [
       "False"
      ]
     },
     "execution_count": 8,
     "metadata": {},
     "output_type": "execute_result"
    }
   ],
   "source": [
    "np.NaN == np.NaN"
   ]
  },
  {
   "cell_type": "code",
   "execution_count": null,
   "id": "47bd30bc",
   "metadata": {},
   "outputs": [],
   "source": [
    "type(np.NaN)"
   ]
  },
  {
   "cell_type": "code",
   "execution_count": null,
   "id": "1a32f981",
   "metadata": {},
   "outputs": [],
   "source": [
    "np.int0"
   ]
  },
  {
   "cell_type": "code",
   "execution_count": null,
   "id": "2d8c7996",
   "metadata": {},
   "outputs": [],
   "source": [
    "print(type(np.int0))"
   ]
  },
  {
   "cell_type": "code",
   "execution_count": null,
   "id": "a0e27567",
   "metadata": {},
   "outputs": [],
   "source": [
    "type(np.int8)"
   ]
  },
  {
   "cell_type": "code",
   "execution_count": null,
   "id": "e72a53ef",
   "metadata": {},
   "outputs": [],
   "source": []
  },
  {
   "cell_type": "code",
   "execution_count": null,
   "id": "09bb034b",
   "metadata": {},
   "outputs": [],
   "source": []
  },
  {
   "cell_type": "code",
   "execution_count": null,
   "id": "5b6c38f3",
   "metadata": {},
   "outputs": [],
   "source": [
    "class types:\n",
    "    def int0():\n",
    "        return float('int0')"
   ]
  },
  {
   "cell_type": "code",
   "execution_count": null,
   "id": "254f1dd0",
   "metadata": {},
   "outputs": [],
   "source": [
    "a = type()"
   ]
  },
  {
   "cell_type": "code",
   "execution_count": null,
   "id": "0ea952f4",
   "metadata": {},
   "outputs": [],
   "source": [
    "a"
   ]
  },
  {
   "cell_type": "code",
   "execution_count": null,
   "id": "8d382b6b",
   "metadata": {},
   "outputs": [],
   "source": []
  }
 ],
 "metadata": {
  "kernelspec": {
   "display_name": "Python 3 (ipykernel)",
   "language": "python",
   "name": "python3"
  },
  "language_info": {
   "codemirror_mode": {
    "name": "ipython",
    "version": 3
   },
   "file_extension": ".py",
   "mimetype": "text/x-python",
   "name": "python",
   "nbconvert_exporter": "python",
   "pygments_lexer": "ipython3",
   "version": "3.9.12"
  }
 },
 "nbformat": 4,
 "nbformat_minor": 5
}
