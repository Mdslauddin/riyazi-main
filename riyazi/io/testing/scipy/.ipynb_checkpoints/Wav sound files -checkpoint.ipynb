{
 "cells": [
  {
   "cell_type": "markdown",
   "id": "8088713d",
   "metadata": {},
   "source": [
    "## Open a WAV file."
   ]
  },
  {
   "cell_type": "markdown",
   "id": "70204ecc",
   "metadata": {},
   "source": [
    "scipy.io.wavfile.read(filename, mmap=False)"
   ]
  },
  {
   "cell_type": "code",
   "execution_count": null,
   "id": "694e6a9b",
   "metadata": {},
   "outputs": [],
   "source": [
    "import wave\n",
    "w = wave.open('/usr/share/sounds/ekiga/voicemail.wav', 'r')\n",
    "for i in range(w.getnframes()):\n",
    "    frame = w.readframes(i)\n",
    "    print frame"
   ]
  },
  {
   "cell_type": "code",
   "execution_count": null,
   "id": "a5e04946",
   "metadata": {},
   "outputs": [],
   "source": [
    "from scipy.io import wavfile\n",
    "samplerate, data = wavfile.read('./output/audio.wav')"
   ]
  },
  {
   "cell_type": "code",
   "execution_count": null,
   "id": "1cac4cb7",
   "metadata": {},
   "outputs": [],
   "source": [
    "import wave, struct\n",
    "\n",
    "wavefile = wave.open('sine.wav', 'r')\n",
    "\n",
    "length = wavefile.getnframes()\n",
    "for i in range(0, length):\n",
    "    wavedata = wavefile.readframes(1)\n",
    "    data = struct.unpack(\"<h\", wavedata)\n",
    "    print(int(data[0]))"
   ]
  },
  {
   "cell_type": "markdown",
   "id": "d0df861a",
   "metadata": {},
   "source": [
    "https://stackoverflow.com/questions/2060628/reading-wav-files-in-python"
   ]
  },
  {
   "cell_type": "markdown",
   "id": "c10a56b2",
   "metadata": {},
   "source": [
    "https://www.geeksforgeeks.org/working-with-wav-files-in-python-using-pydub/"
   ]
  },
  {
   "cell_type": "markdown",
   "id": "f09ecb3d",
   "metadata": {},
   "source": [
    "https://pysoundfile.readthedocs.io/en/latest/"
   ]
  },
  {
   "cell_type": "markdown",
   "id": "9ecd26af",
   "metadata": {},
   "source": [
    "https://linuxhint.com/play_sound_python/"
   ]
  },
  {
   "cell_type": "markdown",
   "id": "520605c9",
   "metadata": {},
   "source": [
    "https://learnpython.com/blog/plot-waveform-in-python/"
   ]
  },
  {
   "cell_type": "markdown",
   "id": "281abd37",
   "metadata": {},
   "source": [
    "https://publish.illinois.edu/augmentedlistening/tutorials/music-processing/tutorial-1-introduction-to-audio-processing-in-python/"
   ]
  },
  {
   "cell_type": "markdown",
   "id": "e0bdfe24",
   "metadata": {},
   "source": [
    "https://www.programcreek.com/python/?CodeExample=read+wav"
   ]
  },
  {
   "cell_type": "markdown",
   "id": "143168e1",
   "metadata": {},
   "source": [
    "https://www.kdnuggets.com/2020/02/audio-data-analysis-deep-learning-python-part-1.html"
   ]
  },
  {
   "cell_type": "markdown",
   "id": "3af06670",
   "metadata": {},
   "source": [
    "https://batchloaf.wordpress.com/2017/02/10/a-simple-way-to-read-and-write-audio-and-video-files-in-c-using-ffmpeg/"
   ]
  },
  {
   "cell_type": "markdown",
   "id": "a507c454",
   "metadata": {},
   "source": [
    "https://www.geeksforgeeks.org/audio-format/"
   ]
  },
  {
   "cell_type": "markdown",
   "id": "b7c0e9a8",
   "metadata": {},
   "source": [
    "https://en.wikipedia.org/wiki/Audio_signal"
   ]
  },
  {
   "cell_type": "markdown",
   "id": "71098e65",
   "metadata": {},
   "source": [
    "https://en.wikipedia.org/wiki/Audio_file_format"
   ]
  },
  {
   "cell_type": "markdown",
   "id": "f8f04aa0",
   "metadata": {},
   "source": [
    "https://fileinfo.com/filetypes/audio"
   ]
  },
  {
   "cell_type": "markdown",
   "id": "14953047",
   "metadata": {},
   "source": [
    "https://www.loc.gov/preservation/digital/formats/fdd/sound_fdd.shtml"
   ]
  },
  {
   "cell_type": "markdown",
   "id": "c7592aff",
   "metadata": {},
   "source": [
    "https://riverside.fm/blog/lossless-audio-formats"
   ]
  },
  {
   "cell_type": "markdown",
   "id": "28d85318",
   "metadata": {},
   "source": [
    "https://www.online-convert.com/file-type"
   ]
  },
  {
   "cell_type": "markdown",
   "id": "31576fde",
   "metadata": {},
   "source": [
    "https://www.quora.com/Whats-an-audio-format"
   ]
  },
  {
   "cell_type": "markdown",
   "id": "0189d365",
   "metadata": {},
   "source": [
    "https://www.masteringthemix.com/blogs/learn/audio-file-formats-explained"
   ]
  },
  {
   "cell_type": "markdown",
   "id": "f3f22e26",
   "metadata": {},
   "source": [
    "https://audext.com/audio-formats/"
   ]
  },
  {
   "cell_type": "code",
   "execution_count": null,
   "id": "8463385e",
   "metadata": {},
   "outputs": [],
   "source": []
  }
 ],
 "metadata": {
  "kernelspec": {
   "display_name": "Python 3 (ipykernel)",
   "language": "python",
   "name": "python3"
  },
  "language_info": {
   "codemirror_mode": {
    "name": "ipython",
    "version": 3
   },
   "file_extension": ".py",
   "mimetype": "text/x-python",
   "name": "python",
   "nbconvert_exporter": "python",
   "pygments_lexer": "ipython3",
   "version": "3.9.12"
  }
 },
 "nbformat": 4,
 "nbformat_minor": 5
}
