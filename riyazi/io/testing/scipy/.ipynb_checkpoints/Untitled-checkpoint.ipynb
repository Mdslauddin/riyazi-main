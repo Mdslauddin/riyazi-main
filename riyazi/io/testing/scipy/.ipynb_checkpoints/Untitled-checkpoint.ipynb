{
 "cells": [
  {
   "cell_type": "markdown",
   "id": "5b53ce4f",
   "metadata": {},
   "source": [
    "https://en.wikipedia.org/wiki/Digital_signal_processing"
   ]
  },
  {
   "cell_type": "markdown",
   "id": "da912f3f",
   "metadata": {},
   "source": [
    "https://static.hlt.bme.hu/semantics/external/pages/MNIST/en.wikipedia.org/wiki/Image_processing.html"
   ]
  },
  {
   "cell_type": "markdown",
   "id": "dc976e72",
   "metadata": {},
   "source": [
    "https://www.pinterest.com/pin/audio-signal-processing-wikipedia--758293655990375278/"
   ]
  },
  {
   "cell_type": "markdown",
   "id": "7c2c3c6b",
   "metadata": {},
   "source": [
    "https://brilliant.org/wiki/signals-and-systems/"
   ]
  },
  {
   "cell_type": "markdown",
   "id": "ae3e25fb",
   "metadata": {},
   "source": [
    "https://ethw.org/Category:Signal_processing"
   ]
  },
  {
   "cell_type": "markdown",
   "id": "fcad66c0",
   "metadata": {},
   "source": [
    "https://wiki.aapg.org/Seismic_processing_basics"
   ]
  },
  {
   "cell_type": "markdown",
   "id": "6ede0981",
   "metadata": {},
   "source": [
    "https://cio-wiki.org/wiki/Signal_Processing"
   ]
  },
  {
   "cell_type": "markdown",
   "id": "a9caab83",
   "metadata": {},
   "source": [
    "https://www.mygreatlearning.com/blog/scipy-tutorial/"
   ]
  },
  {
   "cell_type": "markdown",
   "id": "1c0e6e26",
   "metadata": {},
   "source": [
    "https://scipy-lectures.org/intro/scipy.html"
   ]
  },
  {
   "cell_type": "code",
   "execution_count": null,
   "id": "b52a24ff",
   "metadata": {},
   "outputs": [],
   "source": []
  }
 ],
 "metadata": {
  "kernelspec": {
   "display_name": "Python 3 (ipykernel)",
   "language": "python",
   "name": "python3"
  },
  "language_info": {
   "codemirror_mode": {
    "name": "ipython",
    "version": 3
   },
   "file_extension": ".py",
   "mimetype": "text/x-python",
   "name": "python",
   "nbconvert_exporter": "python",
   "pygments_lexer": "ipython3",
   "version": "3.9.12"
  }
 },
 "nbformat": 4,
 "nbformat_minor": 5
}
