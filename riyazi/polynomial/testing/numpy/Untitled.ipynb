{
 "cells": [
  {
   "cell_type": "code",
   "execution_count": 1,
   "id": "c3b09cf6",
   "metadata": {},
   "outputs": [],
   "source": [
    "import hermite_series as hm"
   ]
  },
  {
   "cell_type": "code",
   "execution_count": null,
   "id": "a994f36a",
   "metadata": {},
   "outputs": [],
   "source": [
    "hm."
   ]
  },
  {
   "cell_type": "code",
   "execution_count": null,
   "id": "4497ddee",
   "metadata": {},
   "outputs": [],
   "source": []
  },
  {
   "cell_type": "code",
   "execution_count": null,
   "id": "18c44186",
   "metadata": {},
   "outputs": [],
   "source": [
    "hm.hermadd([1,2,3,4],[1,2,3])"
   ]
  },
  {
   "cell_type": "code",
   "execution_count": null,
   "id": "dfc9cb5c",
   "metadata": {},
   "outputs": [],
   "source": [
    "hm.hermsub([1,2,3,4],[4,5,6])"
   ]
  },
  {
   "cell_type": "code",
   "execution_count": null,
   "id": "d1e4c4ca",
   "metadata": {},
   "outputs": [],
   "source": [
    "# attempted relative import with no known parent package\n"
   ]
  },
  {
   "cell_type": "code",
   "execution_count": null,
   "id": "276061d1",
   "metadata": {},
   "outputs": [],
   "source": []
  }
 ],
 "metadata": {
  "kernelspec": {
   "display_name": "Python 3 (ipykernel)",
   "language": "python",
   "name": "python3"
  },
  "language_info": {
   "codemirror_mode": {
    "name": "ipython",
    "version": 3
   },
   "file_extension": ".py",
   "mimetype": "text/x-python",
   "name": "python",
   "nbconvert_exporter": "python",
   "pygments_lexer": "ipython3",
   "version": "3.9.12"
  }
 },
 "nbformat": 4,
 "nbformat_minor": 5
}
