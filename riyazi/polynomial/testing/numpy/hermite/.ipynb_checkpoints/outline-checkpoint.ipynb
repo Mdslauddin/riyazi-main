{
 "cells": [
  {
   "cell_type": "markdown",
   "id": "73e3b4f7",
   "metadata": {},
   "source": [
    "\"\"\"\n",
    "Objects for dealing with Hermite_e series.\n",
    "This module provides a number of objects (mostly functions) useful for\n",
    "dealing with Hermite_e series, including a `HermiteE` class that\n",
    "encapsulates the usual arithmetic operations.  (General information\n",
    "on how this module represents and works with such polynomials is in the\n",
    "docstring for its \"parent\" sub-package, `numpy.polynomial`).\n",
    "Constants\n",
    "---------\n",
    "- `hermedomain` -- Hermite_e series default domain, [-1,1].\n",
    "- `hermezero` -- Hermite_e series that evaluates identically to 0.\n",
    "- `hermeone` -- Hermite_e series that evaluates identically to 1.\n",
    "- `hermex` -- Hermite_e series for the identity map, ``f(x) = x``.\n",
    "Arithmetic\n",
    "----------\n",
    "- `hermeadd` -- add two Hermite_e series.\n",
    "- `hermesub` -- subtract one Hermite_e series from another.\n",
    "- `hermemulx` -- multiply a Hermite_e series in ``P_i(x)`` by ``x``.\n",
    "- `hermemul` -- multiply two Hermite_e series.\n",
    "- `hermediv` -- divide one Hermite_e series by another.\n",
    "- `hermepow` -- raise a Hermite_e series to a positive integer power.\n",
    "- `hermeval` -- evaluate a Hermite_e series at given points.\n",
    "- `hermeval2d` -- evaluate a 2D Hermite_e series at given points.\n",
    "- `hermeval3d` -- evaluate a 3D Hermite_e series at given points.\n",
    "- `hermegrid2d` -- evaluate a 2D Hermite_e series on a Cartesian product.\n",
    "- `hermegrid3d` -- evaluate a 3D Hermite_e series on a Cartesian product.\n",
    "Calculus\n",
    "--------\n",
    "- `hermeder` -- differentiate a Hermite_e series.\n",
    "- `hermeint` -- integrate a Hermite_e series.\n",
    "Misc Functions\n",
    "--------------\n",
    "- `hermefromroots` -- create a Hermite_e series with specified roots.\n",
    "- `hermeroots` -- find the roots of a Hermite_e series.\n",
    "- `hermevander` -- Vandermonde-like matrix for Hermite_e polynomials.\n",
    "- `hermevander2d` -- Vandermonde-like matrix for 2D power series.\n",
    "- `hermevander3d` -- Vandermonde-like matrix for 3D power series.\n",
    "- `hermegauss` -- Gauss-Hermite_e quadrature, points and weights.\n",
    "- `hermeweight` -- Hermite_e weight function.\n",
    "- `hermecompanion` -- symmetrized companion matrix in Hermite_e form.\n",
    "- `hermefit` -- least-squares fit returning a Hermite_e series.\n",
    "- `hermetrim` -- trim leading coefficients from a Hermite_e series.\n",
    "- `hermeline` -- Hermite_e series of given straight line.\n",
    "- `herme2poly` -- convert a Hermite_e series to a polynomial.\n",
    "- `poly2herme` -- convert a polynomial to a Hermite_e series.\n",
    "Classes\n",
    "-------\n",
    "- `HermiteE` -- A Hermite_e series class.\n",
    "See also\n",
    "--------\n",
    "`numpy.polynomial`\n",
    "\"\"\""
   ]
  },
  {
   "cell_type": "code",
   "execution_count": null,
   "id": "f416058f",
   "metadata": {},
   "outputs": [],
   "source": []
  }
 ],
 "metadata": {
  "kernelspec": {
   "display_name": "Python 3 (ipykernel)",
   "language": "python",
   "name": "python3"
  },
  "language_info": {
   "codemirror_mode": {
    "name": "ipython",
    "version": 3
   },
   "file_extension": ".py",
   "mimetype": "text/x-python",
   "name": "python",
   "nbconvert_exporter": "python",
   "pygments_lexer": "ipython3",
   "version": "3.9.12"
  }
 },
 "nbformat": 4,
 "nbformat_minor": 5
}
