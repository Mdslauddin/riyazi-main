{
 "cells": [
  {
   "cell_type": "code",
   "execution_count": 1,
   "id": "e6cf6349",
   "metadata": {},
   "outputs": [
    {
     "data": {
      "text/plain": [
       "11.0"
      ]
     },
     "execution_count": 1,
     "metadata": {},
     "output_type": "execute_result"
    }
   ],
   "source": [
    "from numpy.polynomial.hermite import hermval\n",
    "coef = [1,2,3]\n",
    "hermval(1, coef)"
   ]
  },
  {
   "cell_type": "code",
   "execution_count": 2,
   "id": "f4c3c4f9",
   "metadata": {},
   "outputs": [
    {
     "data": {
      "text/plain": [
       "array([[ 11.,  51.],\n",
       "       [115., 203.]])"
      ]
     },
     "execution_count": 2,
     "metadata": {},
     "output_type": "execute_result"
    }
   ],
   "source": [
    "hermval([[1,2],[3,4]], coef)"
   ]
  },
  {
   "cell_type": "code",
   "execution_count": null,
   "id": "80803f9c",
   "metadata": {},
   "outputs": [],
   "source": []
  }
 ],
 "metadata": {
  "kernelspec": {
   "display_name": "Python 3 (ipykernel)",
   "language": "python",
   "name": "python3"
  },
  "language_info": {
   "codemirror_mode": {
    "name": "ipython",
    "version": 3
   },
   "file_extension": ".py",
   "mimetype": "text/x-python",
   "name": "python",
   "nbconvert_exporter": "python",
   "pygments_lexer": "ipython3",
   "version": "3.9.12"
  }
 },
 "nbformat": 4,
 "nbformat_minor": 5
}
