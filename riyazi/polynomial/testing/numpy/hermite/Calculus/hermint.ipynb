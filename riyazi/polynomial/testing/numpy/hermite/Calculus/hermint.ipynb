{
 "cells": [
  {
   "cell_type": "code",
   "execution_count": 1,
   "id": "2522d91e",
   "metadata": {},
   "outputs": [
    {
     "data": {
      "text/plain": [
       "array([1. , 0.5, 0.5, 0.5])"
      ]
     },
     "execution_count": 1,
     "metadata": {},
     "output_type": "execute_result"
    }
   ],
   "source": [
    "from numpy.polynomial.hermite import hermint\n",
    "hermint([1,2,3]) # integrate once, value 0 at 0."
   ]
  },
  {
   "cell_type": "code",
   "execution_count": 2,
   "id": "748c36ab",
   "metadata": {},
   "outputs": [
    {
     "data": {
      "text/plain": [
       "array([-0.5       ,  0.5       ,  0.125     ,  0.08333333,  0.0625    ])"
      ]
     },
     "execution_count": 2,
     "metadata": {},
     "output_type": "execute_result"
    }
   ],
   "source": [
    "hermint([1,2,3], m=2) # integrate twice, value & deriv 0 at 0"
   ]
  },
  {
   "cell_type": "code",
   "execution_count": 3,
   "id": "9a68c6b3",
   "metadata": {},
   "outputs": [
    {
     "data": {
      "text/plain": [
       "array([2. , 0.5, 0.5, 0.5])"
      ]
     },
     "execution_count": 3,
     "metadata": {},
     "output_type": "execute_result"
    }
   ],
   "source": [
    "hermint([1,2,3], k=1) # integrate once, value 1 at 0."
   ]
  },
  {
   "cell_type": "code",
   "execution_count": 4,
   "id": "562e3321",
   "metadata": {},
   "outputs": [
    {
     "data": {
      "text/plain": [
       "array([-2. ,  0.5,  0.5,  0.5])"
      ]
     },
     "execution_count": 4,
     "metadata": {},
     "output_type": "execute_result"
    }
   ],
   "source": [
    "hermint([1,2,3], lbnd=-1) # integrate once, value 0 at -1"
   ]
  },
  {
   "cell_type": "code",
   "execution_count": 5,
   "id": "619dfbf4",
   "metadata": {},
   "outputs": [
    {
     "data": {
      "text/plain": [
       "array([ 1.66666667, -0.5       ,  0.125     ,  0.08333333,  0.0625    ])"
      ]
     },
     "execution_count": 5,
     "metadata": {},
     "output_type": "execute_result"
    }
   ],
   "source": [
    "hermint([1,2,3], m=2, k=[1,2], lbnd=-1)"
   ]
  },
  {
   "cell_type": "code",
   "execution_count": null,
   "id": "c230df43",
   "metadata": {},
   "outputs": [],
   "source": []
  }
 ],
 "metadata": {
  "kernelspec": {
   "display_name": "Python 3 (ipykernel)",
   "language": "python",
   "name": "python3"
  },
  "language_info": {
   "codemirror_mode": {
    "name": "ipython",
    "version": 3
   },
   "file_extension": ".py",
   "mimetype": "text/x-python",
   "name": "python",
   "nbconvert_exporter": "python",
   "pygments_lexer": "ipython3",
   "version": "3.9.12"
  }
 },
 "nbformat": 4,
 "nbformat_minor": 5
}
