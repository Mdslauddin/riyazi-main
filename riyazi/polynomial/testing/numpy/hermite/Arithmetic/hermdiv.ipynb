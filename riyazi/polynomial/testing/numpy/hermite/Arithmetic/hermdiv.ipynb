{
 "cells": [
  {
   "cell_type": "code",
   "execution_count": 1,
   "id": "8c0351ce",
   "metadata": {},
   "outputs": [
    {
     "data": {
      "text/plain": [
       "(array([1., 2., 3.]), array([0.]))"
      ]
     },
     "execution_count": 1,
     "metadata": {},
     "output_type": "execute_result"
    }
   ],
   "source": [
    "from numpy.polynomial.hermite import hermdiv\n",
    "hermdiv([ 52.,  29.,  52.,   7.,   6.], [0, 1, 2])"
   ]
  },
  {
   "cell_type": "code",
   "execution_count": 2,
   "id": "a69f8110",
   "metadata": {},
   "outputs": [
    {
     "data": {
      "text/plain": [
       "(array([1., 2., 3.]), array([2., 2.]))"
      ]
     },
     "execution_count": 2,
     "metadata": {},
     "output_type": "execute_result"
    }
   ],
   "source": [
    "hermdiv([ 54.,  31.,  52.,   7.,   6.], [0, 1, 2])"
   ]
  },
  {
   "cell_type": "code",
   "execution_count": 4,
   "id": "af019ab2",
   "metadata": {},
   "outputs": [
    {
     "data": {
      "text/plain": [
       "(array([1., 2., 3.]), array([1., 1.]))"
      ]
     },
     "execution_count": 4,
     "metadata": {},
     "output_type": "execute_result"
    }
   ],
   "source": [
    "hermdiv([ 53.,  30.,  52.,   7.,   6.], [0, 1, 2])"
   ]
  },
  {
   "cell_type": "code",
   "execution_count": 1,
   "id": "cc89c0b4",
   "metadata": {},
   "outputs": [],
   "source": [
    "def hermdiv(c1, c2):\n",
    "    \"\"\"\n",
    "    Divide one Hermite series by another.\n",
    "    Returns the quotient-with-remainder of two Hermite series\n",
    "    `c1` / `c2`.  The arguments are sequences of coefficients from lowest\n",
    "    order \"term\" to highest, e.g., [1,2,3] represents the series\n",
    "    ``P_0 + 2*P_1 + 3*P_2``.\n",
    "    Parameters\n",
    "    ----------\n",
    "    c1, c2 : array_like\n",
    "        1-D arrays of Hermite series coefficients ordered from low to\n",
    "        high.\n",
    "    Returns\n",
    "    -------\n",
    "    [quo, rem] : ndarrays\n",
    "        Of Hermite series coefficients representing the quotient and\n",
    "        remainder.\n",
    "    See Also\n",
    "    --------\n",
    "    hermadd, hermsub, hermmulx, hermmul, hermpow\n",
    "    Notes\n",
    "    -----\n",
    "    In general, the (polynomial) division of one Hermite series by another\n",
    "    results in quotient and remainder terms that are not in the Hermite\n",
    "    polynomial basis set.  Thus, to express these results as a Hermite\n",
    "    series, it is necessary to \"reproject\" the results onto the Hermite\n",
    "    basis set, which may produce \"unintuitive\" (but correct) results; see\n",
    "    Examples section below.\n",
    "    Examples\n",
    "    --------\n",
    "    >>> from numpy.polynomial.hermite import hermdiv\n",
    "    >>> hermdiv([ 52.,  29.,  52.,   7.,   6.], [0, 1, 2])\n",
    "    (array([1., 2., 3.]), array([0.]))\n",
    "    >>> hermdiv([ 54.,  31.,  52.,   7.,   6.], [0, 1, 2])\n",
    "    (array([1., 2., 3.]), array([2., 2.]))\n",
    "    >>> hermdiv([ 53.,  30.,  52.,   7.,   6.], [0, 1, 2])\n",
    "    (array([1., 2., 3.]), array([1., 1.]))\n",
    "    \"\"\"\n",
    "    return pu._div(hermmul, c1, c2)"
   ]
  },
  {
   "cell_type": "code",
   "execution_count": null,
   "id": "d5f7217d",
   "metadata": {},
   "outputs": [],
   "source": []
  }
 ],
 "metadata": {
  "kernelspec": {
   "display_name": "Python 3 (ipykernel)",
   "language": "python",
   "name": "python3"
  },
  "language_info": {
   "codemirror_mode": {
    "name": "ipython",
    "version": 3
   },
   "file_extension": ".py",
   "mimetype": "text/x-python",
   "name": "python",
   "nbconvert_exporter": "python",
   "pygments_lexer": "ipython3",
   "version": "3.9.12"
  }
 },
 "nbformat": 4,
 "nbformat_minor": 5
}
