{
 "cells": [
  {
   "cell_type": "code",
   "execution_count": 1,
   "id": "194c5b39",
   "metadata": {},
   "outputs": [
    {
     "data": {
      "text/plain": [
       "array([52., 29., 52.,  7.,  6.])"
      ]
     },
     "execution_count": 1,
     "metadata": {},
     "output_type": "execute_result"
    }
   ],
   "source": [
    "from numpy.polynomial.hermite import hermmul\n",
    "hermmul([1, 2, 3], [0, 1, 2])"
   ]
  },
  {
   "cell_type": "code",
   "execution_count": 1,
   "id": "5f8de300",
   "metadata": {},
   "outputs": [],
   "source": [
    "def hermmul(c1, c2):\n",
    "    \"\"\"\n",
    "    Multiply one Hermite series by another.\n",
    "    Returns the product of two Hermite series `c1` * `c2`.  The arguments\n",
    "    are sequences of coefficients, from lowest order \"term\" to highest,\n",
    "    e.g., [1,2,3] represents the series ``P_0 + 2*P_1 + 3*P_2``.\n",
    "    Parameters\n",
    "    ----------\n",
    "    c1, c2 : array_like\n",
    "        1-D arrays of Hermite series coefficients ordered from low to\n",
    "        high.\n",
    "    Returns\n",
    "    -------\n",
    "    out : ndarray\n",
    "        Of Hermite series coefficients representing their product.\n",
    "    See Also\n",
    "    --------\n",
    "    hermadd, hermsub, hermmulx, hermdiv, hermpow\n",
    "    Notes\n",
    "    -----\n",
    "    In general, the (polynomial) product of two C-series results in terms\n",
    "    that are not in the Hermite polynomial basis set.  Thus, to express\n",
    "    the product as a Hermite series, it is necessary to \"reproject\" the\n",
    "    product onto said basis set, which may produce \"unintuitive\" (but\n",
    "    correct) results; see Examples section below.\n",
    "    Examples\n",
    "    --------\n",
    "    >>> from numpy.polynomial.hermite import hermmul\n",
    "    >>> hermmul([1, 2, 3], [0, 1, 2])\n",
    "    array([52.,  29.,  52.,   7.,   6.])\n",
    "    \"\"\"\n",
    "    # s1, s2 are trimmed copies\n",
    "    [c1, c2] = pu.as_series([c1, c2])\n",
    "\n",
    "    if len(c1) > len(c2):\n",
    "        c = c2\n",
    "        xs = c1\n",
    "    else:\n",
    "        c = c1\n",
    "        xs = c2\n",
    "\n",
    "    if len(c) == 1:\n",
    "        c0 = c[0]*xs\n",
    "        c1 = 0\n",
    "    elif len(c) == 2:\n",
    "        c0 = c[0]*xs\n",
    "        c1 = c[1]*xs\n",
    "    else:\n",
    "        nd = len(c)\n",
    "        c0 = c[-2]*xs\n",
    "        c1 = c[-1]*xs\n",
    "        for i in range(3, len(c) + 1):\n",
    "            tmp = c0\n",
    "            nd = nd - 1\n",
    "            c0 = hermsub(c[-i]*xs, c1*(2*(nd - 1)))\n",
    "            c1 = hermadd(tmp, hermmulx(c1)*2)\n",
    "    return hermadd(c0, hermmulx(c1)*2)"
   ]
  },
  {
   "cell_type": "code",
   "execution_count": null,
   "id": "f3ddde70",
   "metadata": {},
   "outputs": [],
   "source": []
  }
 ],
 "metadata": {
  "kernelspec": {
   "display_name": "Python 3 (ipykernel)",
   "language": "python",
   "name": "python3"
  },
  "language_info": {
   "codemirror_mode": {
    "name": "ipython",
    "version": 3
   },
   "file_extension": ".py",
   "mimetype": "text/x-python",
   "name": "python",
   "nbconvert_exporter": "python",
   "pygments_lexer": "ipython3",
   "version": "3.9.12"
  }
 },
 "nbformat": 4,
 "nbformat_minor": 5
}
