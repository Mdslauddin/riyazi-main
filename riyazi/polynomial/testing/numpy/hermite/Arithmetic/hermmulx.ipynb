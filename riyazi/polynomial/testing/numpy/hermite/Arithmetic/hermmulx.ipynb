{
 "cells": [
  {
   "cell_type": "markdown",
   "id": "54869983",
   "metadata": {},
   "source": [
    "https://en.wikipedia.org/wiki/Hermite_polynomials#:~:text=In%20mathematics%2C%20the%20Hermite%20polynomials%20are%20a%20classical,processing%20as%20Hermitian%20wavelets%20for%20wavelet%20transform%20analysis"
   ]
  },
  {
   "cell_type": "code",
   "execution_count": null,
   "id": "126df8bd",
   "metadata": {},
   "outputs": [],
   "source": []
  },
  {
   "cell_type": "code",
   "execution_count": 1,
   "id": "3e3e5269",
   "metadata": {},
   "outputs": [
    {
     "data": {
      "text/plain": [
       "array([2. , 6.5, 1. , 1.5])"
      ]
     },
     "execution_count": 1,
     "metadata": {},
     "output_type": "execute_result"
    }
   ],
   "source": [
    "from numpy.polynomial.hermite import hermmulx\n",
    "hermmulx([1, 2, 3])"
   ]
  },
  {
   "cell_type": "code",
   "execution_count": null,
   "id": "e0825a26",
   "metadata": {},
   "outputs": [],
   "source": [
    "def hermmulx(c):\n",
    "    \"\"\"Multiply a Hermite series by x.\n",
    "    Multiply the Hermite series `c` by x, where x is the independent\n",
    "    variable.\n",
    "    Parameters\n",
    "    ----------\n",
    "    c : array_like\n",
    "        1-D array of Hermite series coefficients ordered from low to\n",
    "        high.\n",
    "    Returns\n",
    "    -------\n",
    "    out : ndarray\n",
    "        Array representing the result of the multiplication.\n",
    "    See Also\n",
    "    --------\n",
    "    hermadd, hermsub, hermmul, hermdiv, hermpow\n",
    "    Notes\n",
    "    -----\n",
    "    The multiplication uses the recursion relationship for Hermite\n",
    "    polynomials in the form\n",
    "    .. math::\n",
    "        xP_i(x) = (P_{i + 1}(x)/2 + i*P_{i - 1}(x))\n",
    "    Examples\n",
    "    --------\n",
    "    >>> from numpy.polynomial.hermite import hermmulx\n",
    "    >>> hermmulx([1, 2, 3])\n",
    "    array([2. , 6.5, 1. , 1.5])\n",
    "    \"\"\"\n",
    "    # c is a trimmed copy\n",
    "    [c] = pu.as_series([c])\n",
    "    # The zero series needs special treatment\n",
    "    if len(c) == 1 and c[0] == 0:\n",
    "        return c\n",
    "\n",
    "    prd = np.empty(len(c) + 1, dtype=c.dtype)\n",
    "    prd[0] = c[0]*0\n",
    "    prd[1] = c[0]/2\n",
    "    for i in range(1, len(c)):\n",
    "        prd[i + 1] = c[i]/2\n",
    "        prd[i - 1] += c[i]*i\n",
    "    return prd"
   ]
  }
 ],
 "metadata": {
  "kernelspec": {
   "display_name": "Python 3 (ipykernel)",
   "language": "python",
   "name": "python3"
  },
  "language_info": {
   "codemirror_mode": {
    "name": "ipython",
    "version": 3
   },
   "file_extension": ".py",
   "mimetype": "text/x-python",
   "name": "python",
   "nbconvert_exporter": "python",
   "pygments_lexer": "ipython3",
   "version": "3.9.12"
  }
 },
 "nbformat": 4,
 "nbformat_minor": 5
}
