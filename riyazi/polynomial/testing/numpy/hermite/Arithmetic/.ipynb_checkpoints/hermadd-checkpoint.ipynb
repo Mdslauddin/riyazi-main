{
 "cells": [
  {
   "cell_type": "code",
   "execution_count": 1,
   "id": "07d5425d",
   "metadata": {},
   "outputs": [
    {
     "data": {
      "text/plain": [
       "array([2., 4., 6., 4.])"
      ]
     },
     "execution_count": 1,
     "metadata": {},
     "output_type": "execute_result"
    }
   ],
   "source": [
    "from numpy.polynomial.hermite import hermadd\n",
    "hermadd([1, 2, 3], [1, 2, 3, 4])"
   ]
  },
  {
   "cell_type": "code",
   "execution_count": null,
   "id": "bd5d5b90",
   "metadata": {},
   "outputs": [],
   "source": []
  },
  {
   "cell_type": "code",
   "execution_count": null,
   "id": "7a8dc0b2",
   "metadata": {},
   "outputs": [],
   "source": []
  },
  {
   "cell_type": "code",
   "execution_count": 2,
   "id": "34ae06e4",
   "metadata": {},
   "outputs": [],
   "source": [
    "import numpy as np"
   ]
  },
  {
   "cell_type": "code",
   "execution_count": 3,
   "id": "64500f76",
   "metadata": {},
   "outputs": [],
   "source": [
    "def trimseq(seq):\n",
    "    \"\"\"Remove small Poly series coefficients.\n",
    "    Parameters\n",
    "    ----------\n",
    "    seq : sequence\n",
    "        Sequence of Poly series coefficients. This routine fails for\n",
    "        empty sequences.\n",
    "    Returns\n",
    "    -------\n",
    "    series : sequence\n",
    "        Subsequence with trailing zeros removed. If the resulting sequence\n",
    "        would be empty, return the first element. The returned sequence may\n",
    "        or may not be a view.\n",
    "    Notes\n",
    "    -----\n",
    "    Do not lose the type info if the sequence contains unknown objects.\n",
    "    \"\"\"\n",
    "    if len(seq) == 0:\n",
    "        return seq\n",
    "    else:\n",
    "        for i in range(len(seq) - 1, -1, -1):\n",
    "            if seq[i] != 0:\n",
    "                break\n",
    "        return seq[:i+1]\n",
    "\n",
    "\n",
    "def as_series(alist, trim=True):\n",
    "    \"\"\"\n",
    "    Return argument as a list of 1-d arrays.\n",
    "    The returned list contains array(s) of dtype double, complex double, or\n",
    "    object.  A 1-d argument of shape ``(N,)`` is parsed into ``N`` arrays of\n",
    "    size one; a 2-d argument of shape ``(M,N)`` is parsed into ``M`` arrays\n",
    "    of size ``N`` (i.e., is \"parsed by row\"); and a higher dimensional array\n",
    "    raises a Value Error if it is not first reshaped into either a 1-d or 2-d\n",
    "    array.\n",
    "    Parameters\n",
    "    ----------\n",
    "    alist : array_like\n",
    "        A 1- or 2-d array_like\n",
    "    trim : boolean, optional\n",
    "        When True, trailing zeros are removed from the inputs.\n",
    "        When False, the inputs are passed through intact.\n",
    "    Returns\n",
    "    -------\n",
    "    [a1, a2,...] : list of 1-D arrays\n",
    "        A copy of the input data as a list of 1-d arrays.\n",
    "    Raises\n",
    "    ------\n",
    "    ValueError\n",
    "        Raised when `as_series` cannot convert its input to 1-d arrays, or at\n",
    "        least one of the resulting arrays is empty.\n",
    "    Examples\n",
    "    --------\n",
    "    >>> from numpy.polynomial import polyutils as pu\n",
    "    >>> a = np.arange(4)\n",
    "    >>> pu.as_series(a)\n",
    "    [array([0.]), array([1.]), array([2.]), array([3.])]\n",
    "    >>> b = np.arange(6).reshape((2,3))\n",
    "    >>> pu.as_series(b)\n",
    "    [array([0., 1., 2.]), array([3., 4., 5.])]\n",
    "    >>> pu.as_series((1, np.arange(3), np.arange(2, dtype=np.float16)))\n",
    "    [array([1.]), array([0., 1., 2.]), array([0., 1.])]\n",
    "    >>> pu.as_series([2, [1.1, 0.]])\n",
    "    [array([2.]), array([1.1])]\n",
    "    >>> pu.as_series([2, [1.1, 0.]], trim=False)\n",
    "    [array([2.]), array([1.1, 0. ])]\n",
    "    \"\"\"\n",
    "    arrays = [np.array(a, ndmin=1, copy=False) for a in alist]\n",
    "    if min([a.size for a in arrays]) == 0:\n",
    "        raise ValueError(\"Coefficient array is empty\")\n",
    "    if any(a.ndim != 1 for a in arrays):\n",
    "        raise ValueError(\"Coefficient array is not 1-d\")\n",
    "    if trim:\n",
    "        arrays = [trimseq(a) for a in arrays]\n",
    "\n",
    "    if any(a.dtype == np.dtype(object) for a in arrays):\n",
    "        ret = []\n",
    "        for a in arrays:\n",
    "            if a.dtype != np.dtype(object):\n",
    "                tmp = np.empty(len(a), dtype=np.dtype(object))\n",
    "                tmp[:] = a[:]\n",
    "                ret.append(tmp)\n",
    "            else:\n",
    "                ret.append(a.copy())\n",
    "    else:\n",
    "        try:\n",
    "            dtype = np.common_type(*arrays)\n",
    "        except Exception as e:\n",
    "            raise ValueError(\"Coefficient arrays have no common type\") from e\n",
    "        ret = [np.array(a, copy=True, dtype=dtype) for a in arrays]\n",
    "    return ret\n"
   ]
  },
  {
   "cell_type": "code",
   "execution_count": 4,
   "id": "a6e89c48",
   "metadata": {},
   "outputs": [],
   "source": [
    "def _add(c1, c2):\n",
    "    \"\"\" Helper function used to implement the ``<type>add`` functions. \"\"\"\n",
    "    # c1, c2 are trimmed copies\n",
    "    [c1, c2] = as_series([c1, c2])\n",
    "    if len(c1) > len(c2):\n",
    "        c1[:c2.size] += c2\n",
    "        ret = c1\n",
    "    else:\n",
    "        c2[:c1.size] += c1\n",
    "        ret = c2\n",
    "    return trimseq(ret)"
   ]
  },
  {
   "cell_type": "code",
   "execution_count": 5,
   "id": "a544ae1a",
   "metadata": {},
   "outputs": [],
   "source": [
    "def hermadd(c1, c2):\n",
    "    \"\"\"\n",
    "    Add one Hermite series to another.\n",
    "    Returns the sum of two Hermite series `c1` + `c2`.  The arguments\n",
    "    are sequences of coefficients ordered from lowest order term to\n",
    "    highest, i.e., [1,2,3] represents the series ``P_0 + 2*P_1 + 3*P_2``.\n",
    "    Parameters\n",
    "    ----------\n",
    "    c1, c2 : array_like\n",
    "        1-D arrays of Hermite series coefficients ordered from low to\n",
    "        high.\n",
    "    Returns\n",
    "    -------\n",
    "    out : ndarray\n",
    "        Array representing the Hermite series of their sum.\n",
    "    See Also\n",
    "    --------\n",
    "    hermsub, hermmulx, hermmul, hermdiv, hermpow\n",
    "    Notes\n",
    "    -----\n",
    "    Unlike multiplication, division, etc., the sum of two Hermite series\n",
    "    is a Hermite series (without having to \"reproject\" the result onto\n",
    "    the basis set) so addition, just like that of \"standard\" polynomials,\n",
    "    is simply \"component-wise.\"\n",
    "    Examples\n",
    "    --------\n",
    "    >>> from numpy.polynomial.hermite import hermadd\n",
    "    >>> hermadd([1, 2, 3], [1, 2, 3, 4])\n",
    "    array([2., 4., 6., 4.])\n",
    "    \"\"\"\n",
    "    return _add(c1, c2)\n"
   ]
  },
  {
   "cell_type": "code",
   "execution_count": 6,
   "id": "da30fba6",
   "metadata": {},
   "outputs": [
    {
     "data": {
      "text/plain": [
       "array([2., 4., 6., 4.])"
      ]
     },
     "execution_count": 6,
     "metadata": {},
     "output_type": "execute_result"
    }
   ],
   "source": [
    "hermadd([1, 2, 3], [1, 2, 3, 4])"
   ]
  },
  {
   "cell_type": "code",
   "execution_count": 11,
   "id": "b19384ba",
   "metadata": {},
   "outputs": [],
   "source": [
    "def hermsub(c1, c2):\n",
    "    \"\"\"\n",
    "    Subtract one Hermite series from another.\n",
    "    Returns the difference of two Hermite series `c1` - `c2`.  The\n",
    "    sequences of coefficients are from lowest order term to highest, i.e.,\n",
    "    [1,2,3] represents the series ``P_0 + 2*P_1 + 3*P_2``.\n",
    "    Parameters\n",
    "    ----------\n",
    "    c1, c2 : array_like\n",
    "        1-D arrays of Hermite series coefficients ordered from low to\n",
    "        high.\n",
    "    Returns\n",
    "    -------\n",
    "    out : ndarray\n",
    "        Of Hermite series coefficients representing their difference.\n",
    "    See Also\n",
    "    --------\n",
    "    hermadd, hermmulx, hermmul, hermdiv, hermpow\n",
    "    Notes\n",
    "    -----\n",
    "    Unlike multiplication, division, etc., the difference of two Hermite\n",
    "    series is a Hermite series (without having to \"reproject\" the result\n",
    "    onto the basis set) so subtraction, just like that of \"standard\"\n",
    "    polynomials, is simply \"component-wise.\"\n",
    "    Examples\n",
    "    --------\n",
    "    >>> from numpy.polynomial.hermite import hermsub\n",
    "    >>> hermsub([1, 2, 3, 4], [1, 2, 3])\n",
    "    array([0.,  0.,  0.,  4.])\n",
    "    \"\"\"\n",
    "    return _sub(c1, c2)"
   ]
  },
  {
   "cell_type": "code",
   "execution_count": 12,
   "id": "3529f379",
   "metadata": {},
   "outputs": [],
   "source": [
    "def _sub(c1, c2):\n",
    "    \"\"\" Helper function used to implement the ``<type>sub`` functions. \"\"\"\n",
    "    # c1, c2 are trimmed copies\n",
    "    [c1, c2] = as_series([c1, c2])\n",
    "    if len(c1) > len(c2):\n",
    "        c1[:c2.size] -= c2\n",
    "        ret = c1\n",
    "    else:\n",
    "        c2 = -c2\n",
    "        c2[:c1.size] += c1\n",
    "        ret = c2\n",
    "    return trimseq(ret)"
   ]
  },
  {
   "cell_type": "code",
   "execution_count": 13,
   "id": "a01c48f2",
   "metadata": {},
   "outputs": [
    {
     "data": {
      "text/plain": [
       "array([0., 0., 0., 4.])"
      ]
     },
     "execution_count": 13,
     "metadata": {},
     "output_type": "execute_result"
    }
   ],
   "source": [
    "hermsub([1, 2, 3, 4], [1, 2, 3])"
   ]
  },
  {
   "cell_type": "code",
   "execution_count": null,
   "id": "914284a5",
   "metadata": {},
   "outputs": [],
   "source": []
  }
 ],
 "metadata": {
  "kernelspec": {
   "display_name": "Python 3 (ipykernel)",
   "language": "python",
   "name": "python3"
  },
  "language_info": {
   "codemirror_mode": {
    "name": "ipython",
    "version": 3
   },
   "file_extension": ".py",
   "mimetype": "text/x-python",
   "name": "python",
   "nbconvert_exporter": "python",
   "pygments_lexer": "ipython3",
   "version": "3.9.12"
  }
 },
 "nbformat": 4,
 "nbformat_minor": 5
}
