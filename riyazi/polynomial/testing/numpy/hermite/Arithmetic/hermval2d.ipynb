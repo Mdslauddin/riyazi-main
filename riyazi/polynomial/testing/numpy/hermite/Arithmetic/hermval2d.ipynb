{
 "cells": [
  {
   "cell_type": "code",
   "execution_count": 1,
   "id": "0edc091c",
   "metadata": {},
   "outputs": [],
   "source": [
    "def hermval2d(x, y, c):\n",
    "    \"\"\"\n",
    "    Evaluate a 2-D Hermite series at points (x, y).\n",
    "    This function returns the values:\n",
    "    .. math:: p(x,y) = \\\\sum_{i,j} c_{i,j} * H_i(x) * H_j(y)\n",
    "    The parameters `x` and `y` are converted to arrays only if they are\n",
    "    tuples or a lists, otherwise they are treated as a scalars and they\n",
    "    must have the same shape after conversion. In either case, either `x`\n",
    "    and `y` or their elements must support multiplication and addition both\n",
    "    with themselves and with the elements of `c`.\n",
    "    If `c` is a 1-D array a one is implicitly appended to its shape to make\n",
    "    it 2-D. The shape of the result will be c.shape[2:] + x.shape.\n",
    "    Parameters\n",
    "    ----------\n",
    "    x, y : array_like, compatible objects\n",
    "        The two dimensional series is evaluated at the points `(x, y)`,\n",
    "        where `x` and `y` must have the same shape. If `x` or `y` is a list\n",
    "        or tuple, it is first converted to an ndarray, otherwise it is left\n",
    "        unchanged and if it isn't an ndarray it is treated as a scalar.\n",
    "    c : array_like\n",
    "        Array of coefficients ordered so that the coefficient of the term\n",
    "        of multi-degree i,j is contained in ``c[i,j]``. If `c` has\n",
    "        dimension greater than two the remaining indices enumerate multiple\n",
    "        sets of coefficients.\n",
    "    Returns\n",
    "    -------\n",
    "    values : ndarray, compatible object\n",
    "        The values of the two dimensional polynomial at points formed with\n",
    "        pairs of corresponding values from `x` and `y`.\n",
    "    See Also\n",
    "    --------\n",
    "    hermval, hermgrid2d, hermval3d, hermgrid3d\n",
    "    Notes\n",
    "    -----\n",
    "    .. versionadded:: 1.7.0\n",
    "    \"\"\"\n",
    "    return pu._valnd(hermval, c, x, y)"
   ]
  },
  {
   "cell_type": "code",
   "execution_count": null,
   "id": "8bf67e65",
   "metadata": {},
   "outputs": [],
   "source": []
  }
 ],
 "metadata": {
  "kernelspec": {
   "display_name": "Python 3 (ipykernel)",
   "language": "python",
   "name": "python3"
  },
  "language_info": {
   "codemirror_mode": {
    "name": "ipython",
    "version": 3
   },
   "file_extension": ".py",
   "mimetype": "text/x-python",
   "name": "python",
   "nbconvert_exporter": "python",
   "pygments_lexer": "ipython3",
   "version": "3.9.12"
  }
 },
 "nbformat": 4,
 "nbformat_minor": 5
}
