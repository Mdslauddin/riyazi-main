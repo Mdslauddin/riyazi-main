{
 "cells": [
  {
   "cell_type": "code",
   "execution_count": null,
   "id": "09805ab0",
   "metadata": {},
   "outputs": [],
   "source": [
    "import math \n",
    "\n",
    "def quadratic(a, b, c, decimal_places='%.2f'):\n",
    "    \"\"\"\n",
    "    Quadratic formula: (-b + or - sqrt(b^2 - 4ac)) / 2a\n",
    "    :a, b, c: coefficents\n",
    "    :decimal_places: Output is limited to 2 decimal places, but can be changed\n",
    "    \"\"\"\n",
    "    disc_root = math.sqrt(pow(b, 2) - 4 * a * c)\n",
    "    denom = (2 * a)\n",
    "    root_1 = (-b + disc_root) / denom\n",
    "    root_2 = (b - disc_root) / denom\n",
    "\n",
    "    return decimal_places % root_1, decimal_places % root_2"
   ]
  }
 ],
 "metadata": {
  "kernelspec": {
   "display_name": "Python 3 (ipykernel)",
   "language": "python",
   "name": "python3"
  },
  "language_info": {
   "codemirror_mode": {
    "name": "ipython",
    "version": 3
   },
   "file_extension": ".py",
   "mimetype": "text/x-python",
   "name": "python",
   "nbconvert_exporter": "python",
   "pygments_lexer": "ipython3",
   "version": "3.9.12"
  }
 },
 "nbformat": 4,
 "nbformat_minor": 5
}
