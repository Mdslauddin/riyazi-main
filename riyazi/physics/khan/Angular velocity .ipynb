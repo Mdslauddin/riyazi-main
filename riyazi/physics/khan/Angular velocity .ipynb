{
 "cells": [
  {
   "cell_type": "code",
   "execution_count": 19,
   "id": "45b50dc2",
   "metadata": {},
   "outputs": [],
   "source": [
    "pi = 3.14159\n",
    "def angular_velocity(w=None,o=None, t=None):\n",
    "    \"\"\"\n",
    "    w -> angular velocity \n",
    "    o -> thethe\n",
    "    t -> time \n",
    "    \n",
    "    formula\n",
    "    -------------\n",
    "    w = pi/30 second\n",
    "    w = 2pi/t\n",
    "    \n",
    "    \"\"\"\n",
    "    w = pi/ (30*t)\n",
    "    return w "
   ]
  },
  {
   "cell_type": "code",
   "execution_count": 20,
   "id": "3e04bcda",
   "metadata": {},
   "outputs": [
    {
     "data": {
      "text/plain": [
       "0.0017453277777777778"
      ]
     },
     "execution_count": 20,
     "metadata": {},
     "output_type": "execute_result"
    }
   ],
   "source": [
    "angular_velocity(t=60)"
   ]
  },
  {
   "cell_type": "code",
   "execution_count": 24,
   "id": "ad5dbc14",
   "metadata": {},
   "outputs": [],
   "source": [
    "def linear_velocity(v=None, r=None, w=None):\n",
    "    \"\"\"\n",
    "    v -> linear velocity \n",
    "    r -. radius\n",
    "    w -> angular velocity \n",
    "    \n",
    "    formula\n",
    "    ----------\n",
    "    v  = r*w \n",
    "    \"\"\"\n",
    "    v = r*(pi/30)\n",
    "    return v \n",
    "\n",
    "        "
   ]
  },
  {
   "cell_type": "code",
   "execution_count": 25,
   "id": "1b8b8e03",
   "metadata": {},
   "outputs": [
    {
     "data": {
      "text/plain": [
       "0.314159"
      ]
     },
     "execution_count": 25,
     "metadata": {},
     "output_type": "execute_result"
    }
   ],
   "source": [
    "linear_velocity(r=3)"
   ]
  },
  {
   "cell_type": "markdown",
   "id": "64fa52f4",
   "metadata": {},
   "source": [
    "`Tangential velocity`\n",
    "\n",
    "`Initial Velocity`\n",
    "\n",
    "`Relative Velocity`\n",
    "\n",
    "`Orbital veloctiy`\n",
    "\n",
    "`Wave velocity`\n",
    "\n",
    "`Critical velocity`\n",
    "\n",
    "`Terminal velocity`\n",
    "\n",
    "`Circular velocity`\n",
    "\n"
   ]
  },
  {
   "cell_type": "code",
   "execution_count": null,
   "id": "db9efa90",
   "metadata": {},
   "outputs": [],
   "source": []
  },
  {
   "cell_type": "code",
   "execution_count": null,
   "id": "c838ff7d",
   "metadata": {},
   "outputs": [],
   "source": []
  },
  {
   "cell_type": "code",
   "execution_count": null,
   "id": "7f085130",
   "metadata": {},
   "outputs": [],
   "source": []
  },
  {
   "cell_type": "code",
   "execution_count": null,
   "id": "4c6b073b",
   "metadata": {},
   "outputs": [],
   "source": []
  },
  {
   "cell_type": "code",
   "execution_count": null,
   "id": "b091e785",
   "metadata": {},
   "outputs": [],
   "source": []
  },
  {
   "cell_type": "code",
   "execution_count": null,
   "id": "14d29575",
   "metadata": {},
   "outputs": [],
   "source": []
  },
  {
   "cell_type": "code",
   "execution_count": null,
   "id": "160f3263",
   "metadata": {},
   "outputs": [],
   "source": []
  },
  {
   "cell_type": "code",
   "execution_count": null,
   "id": "36b1b3a8",
   "metadata": {},
   "outputs": [],
   "source": []
  },
  {
   "cell_type": "code",
   "execution_count": null,
   "id": "9b5eaf0c",
   "metadata": {},
   "outputs": [],
   "source": []
  },
  {
   "cell_type": "code",
   "execution_count": null,
   "id": "a5fd3df7",
   "metadata": {},
   "outputs": [],
   "source": []
  },
  {
   "cell_type": "code",
   "execution_count": 1,
   "id": "1589759b",
   "metadata": {},
   "outputs": [],
   "source": [
    "# speed\n",
    "\n",
    "def speed(d,t):\n",
    "    s = d/t\n",
    "    return s "
   ]
  },
  {
   "cell_type": "code",
   "execution_count": 2,
   "id": "df463b2b",
   "metadata": {},
   "outputs": [
    {
     "data": {
      "text/plain": [
       "15.0"
      ]
     },
     "execution_count": 2,
     "metadata": {},
     "output_type": "execute_result"
    }
   ],
   "source": [
    "speed(60,4)"
   ]
  },
  {
   "cell_type": "code",
   "execution_count": 14,
   "id": "c3c369e3",
   "metadata": {},
   "outputs": [],
   "source": [
    "pi = 3.14159\n",
    "def angular_velocity(t):\n",
    "    w = (2*pi) / t\n",
    "    return w "
   ]
  },
  {
   "cell_type": "code",
   "execution_count": 15,
   "id": "c9bca169",
   "metadata": {},
   "outputs": [
    {
     "data": {
      "text/plain": [
       "0.10471966666666667"
      ]
     },
     "execution_count": 15,
     "metadata": {},
     "output_type": "execute_result"
    }
   ],
   "source": [
    "angular_velocity(60)"
   ]
  },
  {
   "cell_type": "code",
   "execution_count": null,
   "id": "2b94fd25",
   "metadata": {},
   "outputs": [],
   "source": []
  },
  {
   "cell_type": "code",
   "execution_count": null,
   "id": "46dd0340",
   "metadata": {},
   "outputs": [],
   "source": []
  },
  {
   "cell_type": "code",
   "execution_count": 7,
   "id": "54e6585c",
   "metadata": {},
   "outputs": [],
   "source": [
    "def angular_velocity(theta,t):\n",
    "    w = theta/t\n",
    "    return w"
   ]
  },
  {
   "cell_type": "code",
   "execution_count": 8,
   "id": "9764f52a",
   "metadata": {},
   "outputs": [
    {
     "data": {
      "text/plain": [
       "6.0"
      ]
     },
     "execution_count": 8,
     "metadata": {},
     "output_type": "execute_result"
    }
   ],
   "source": [
    "angular_velocity(360,60)"
   ]
  },
  {
   "cell_type": "code",
   "execution_count": 9,
   "id": "f44fdb29",
   "metadata": {},
   "outputs": [],
   "source": [
    "def velocity(r,w):\n",
    "    v = r*w\n",
    "    return  v"
   ]
  },
  {
   "cell_type": "code",
   "execution_count": 10,
   "id": "d0cfaf6e",
   "metadata": {},
   "outputs": [
    {
     "data": {
      "text/plain": [
       "20"
      ]
     },
     "execution_count": 10,
     "metadata": {},
     "output_type": "execute_result"
    }
   ],
   "source": [
    "velocity(5,4)"
   ]
  },
  {
   "cell_type": "code",
   "execution_count": null,
   "id": "33c24dc2",
   "metadata": {},
   "outputs": [],
   "source": []
  }
 ],
 "metadata": {
  "kernelspec": {
   "display_name": "Python 3 (ipykernel)",
   "language": "python",
   "name": "python3"
  },
  "language_info": {
   "codemirror_mode": {
    "name": "ipython",
    "version": 3
   },
   "file_extension": ".py",
   "mimetype": "text/x-python",
   "name": "python",
   "nbconvert_exporter": "python",
   "pygments_lexer": "ipython3",
   "version": "3.9.12"
  }
 },
 "nbformat": 4,
 "nbformat_minor": 5
}
