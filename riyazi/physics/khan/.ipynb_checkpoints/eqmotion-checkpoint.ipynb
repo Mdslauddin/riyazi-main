{
 "cells": [
  {
   "cell_type": "code",
   "execution_count": null,
   "id": "283ca547",
   "metadata": {},
   "outputs": [],
   "source": [
    "def v(u,a,t):\n",
    "    v = u+a*t\n",
    "    return v "
   ]
  },
  {
   "cell_type": "code",
   "execution_count": null,
   "id": "351a3890",
   "metadata": {},
   "outputs": [],
   "source": [
    "v(0,20,10)"
   ]
  },
  {
   "cell_type": "code",
   "execution_count": null,
   "id": "4eb4f8ea",
   "metadata": {},
   "outputs": [],
   "source": [
    "def s(u,t,a):\n",
    "    s = (u*t) +(1/2*a*t**2)\n",
    "    return s"
   ]
  },
  {
   "cell_type": "code",
   "execution_count": null,
   "id": "a247e30f",
   "metadata": {
    "scrolled": true
   },
   "outputs": [],
   "source": [
    "s(0,10,20)"
   ]
  },
  {
   "cell_type": "code",
   "execution_count": null,
   "id": "47957f37",
   "metadata": {},
   "outputs": [],
   "source": [
    "def s2(u,a,v):\n",
    "    s2=\n",
    "    return v "
   ]
  },
  {
   "cell_type": "code",
   "execution_count": null,
   "id": "ae2ea6e6",
   "metadata": {},
   "outputs": [],
   "source": [
    "v2(0,20,2)"
   ]
  },
  {
   "cell_type": "code",
   "execution_count": null,
   "id": "2a3f49dd",
   "metadata": {},
   "outputs": [],
   "source": [
    "def s(s,a,t):\n",
    "    s = u+ (a/2* (2*t-1))\n",
    "    return s "
   ]
  },
  {
   "cell_type": "code",
   "execution_count": null,
   "id": "d8943e1b",
   "metadata": {},
   "outputs": [],
   "source": []
  },
  {
   "cell_type": "code",
   "execution_count": null,
   "id": "7f91d065",
   "metadata": {},
   "outputs": [],
   "source": [
    "def eq(u=None, a=None,t=None):\n",
    "    \n",
    "    if(u and a and t != None):\n",
    "        \n",
    "       \n",
    "        v = u+ a*t\n",
    "        \n",
    "        return v "
   ]
  },
  {
   "cell_type": "code",
   "execution_count": null,
   "id": "affc5ec7",
   "metadata": {},
   "outputs": [],
   "source": [
    "eq(u=0,a=20,t=10)"
   ]
  },
  {
   "cell_type": "code",
   "execution_count": null,
   "id": "c0dcfade",
   "metadata": {},
   "outputs": [],
   "source": []
  },
  {
   "cell_type": "code",
   "execution_count": null,
   "id": "b0140c90",
   "metadata": {},
   "outputs": [],
   "source": []
  },
  {
   "cell_type": "code",
   "execution_count": null,
   "id": "cbd0fee6",
   "metadata": {},
   "outputs": [],
   "source": [
    "eq(u=0,  a=20, t=10)"
   ]
  },
  {
   "cell_type": "code",
   "execution_count": null,
   "id": "e44f2ae8",
   "metadata": {},
   "outputs": [],
   "source": []
  },
  {
   "cell_type": "code",
   "execution_count": null,
   "id": "47320b7b",
   "metadata": {},
   "outputs": [],
   "source": [
    "add(a=4,c=5)"
   ]
  },
  {
   "cell_type": "code",
   "execution_count": 13,
   "id": "82e8d1a7",
   "metadata": {},
   "outputs": [],
   "source": [
    "def motion(u=None, v=None , a=None, t=None , s=None):\n",
    "    \"\"\"\n",
    "    only give the three arguments\n",
    "    \n",
    "    u -> initial velocity \n",
    "    v -> final velocit \n",
    "    a -> acceleration \n",
    "    t -> time\n",
    "    s -> distance \n",
    "    g -> gravity \n",
    "    \n",
    "    \n",
    "    \n",
    "    \"\"\"\n",
    "\n",
    "    if(u !=None and a !=None and t !=None):\n",
    "        v = u+a*t\n",
    "        s = u + (a/2) *(2*t-1)\n",
    "        \n",
    "        print(\"final velocity \", \"distance\")\n",
    "        return v ,s \n",
    "    \n",
    "    \n",
    "    elif(v !=None and a !=None and t !=None ):\n",
    "        u = v + a*t\n",
    "        print (\"Initial velocity \")\n",
    "        return u \n",
    "    \n",
    "    \n",
    "    elif(u !=None and v !=None and t !=None):\n",
    "        a = (v/t)- u\n",
    "        print(\"acceleration\")\n",
    "        return a \n",
    "    \n",
    "    \n",
    "    elif(u !=None and v !=None and a !=None):\n",
    "        t = (v/a) -u\n",
    "        s = (v**2 + u**2) / (2*a)\n",
    "        print(\"time\" ,\"distance\")\n",
    "        return t , s\n",
    "    \n",
    "    \n",
    "    \n",
    "    \n",
    "    else:\n",
    "        print(\"Error\")"
   ]
  },
  {
   "cell_type": "code",
   "execution_count": 14,
   "id": "3eee5449",
   "metadata": {
    "scrolled": true
   },
   "outputs": [
    {
     "name": "stdout",
     "output_type": "stream",
     "text": [
      "time distance\n"
     ]
    },
    {
     "data": {
      "text/plain": [
       "(0.0, 0.0)"
      ]
     },
     "execution_count": 14,
     "metadata": {},
     "output_type": "execute_result"
    }
   ],
   "source": [
    "motion(v=0, u=0, a=10)"
   ]
  },
  {
   "cell_type": "code",
   "execution_count": 15,
   "id": "e2c2dd09",
   "metadata": {
    "scrolled": true
   },
   "outputs": [
    {
     "name": "stdout",
     "output_type": "stream",
     "text": [
      "time distance\n"
     ]
    },
    {
     "data": {
      "text/plain": [
       "(0.0, 0.0)"
      ]
     },
     "execution_count": 15,
     "metadata": {},
     "output_type": "execute_result"
    }
   ],
   "source": [
    "motion(v=0, u=0, a = 10)"
   ]
  },
  {
   "cell_type": "code",
   "execution_count": 17,
   "id": "55fa4894",
   "metadata": {},
   "outputs": [
    {
     "name": "stdout",
     "output_type": "stream",
     "text": [
      "final velocity  distance\n"
     ]
    },
    {
     "data": {
      "text/plain": [
       "(12, 9.0)"
      ]
     },
     "execution_count": 17,
     "metadata": {},
     "output_type": "execute_result"
    }
   ],
   "source": [
    "motion(u=0, a=6, t=2)"
   ]
  },
  {
   "cell_type": "code",
   "execution_count": null,
   "id": "bb3ba9c1",
   "metadata": {},
   "outputs": [],
   "source": [
    "a = 2\n",
    "if(a != None):\n",
    "    print(a)"
   ]
  },
  {
   "cell_type": "code",
   "execution_count": null,
   "id": "fbcdca9f",
   "metadata": {},
   "outputs": [],
   "source": []
  }
 ],
 "metadata": {
  "kernelspec": {
   "display_name": "Python 3 (ipykernel)",
   "language": "python",
   "name": "python3"
  },
  "language_info": {
   "codemirror_mode": {
    "name": "ipython",
    "version": 3
   },
   "file_extension": ".py",
   "mimetype": "text/x-python",
   "name": "python",
   "nbconvert_exporter": "python",
   "pygments_lexer": "ipython3",
   "version": "3.9.12"
  }
 },
 "nbformat": 4,
 "nbformat_minor": 5
}
