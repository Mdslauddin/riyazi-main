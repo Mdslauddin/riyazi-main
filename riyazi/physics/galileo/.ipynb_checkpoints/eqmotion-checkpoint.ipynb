{
 "cells": [
  {
   "cell_type": "raw",
   "id": "b9760beb-f391-43d3-a47a-bf94c6663724",
   "metadata": {},
   "source": [
    "\"\"\"\n",
    "a -> acceleration \n",
    "u -> initial veloctiy\n",
    "v -> final velocity \n",
    "t -> time \n",
    "\n",
    "- we will find \"acceleration \" bu using formula \"a = (v-u)*t\"\n",
    "- we will find \"initial velocity\" by using the formula \"u = (v-a*t)\"\n",
    "- we will find \"final velocity\" by using the formula \"v = u+a*t\"\n",
    "- we will find \"Time\" by using the formula \"t = (v-u)/a\" \n",
    "\n",
    "\"\"\""
   ]
  },
  {
   "cell_type": "code",
   "execution_count": 71,
   "id": "3e2212c3-fac8-4d22-8356-808b46f7dd4e",
   "metadata": {},
   "outputs": [],
   "source": [
    "def eq(a=None,u=None,v=None,t=None):\n",
    "    \n",
    "    if( u and v and  t !=None):\n",
    "        a = (v-u)*t\n",
    "        print(\"acceleration\")\n",
    "        return  a\n",
    "    if(a and v and t  !=None):\n",
    "        u = (v-a*t)\n",
    "        return u\n",
    "    if(a and u and t !=None):\n",
    "        v = a+a*t\n",
    "        return v \n",
    "    if(a and u and v !=None):\n",
    "        t = (v-a)/a\n",
    "        return t \n",
    "    \n",
    "    else:\n",
    "        print(\"Error\")"
   ]
  },
  {
   "cell_type": "code",
   "execution_count": 72,
   "id": "034bb02b-ad0b-4e39-a040-14d8fc801209",
   "metadata": {},
   "outputs": [
    {
     "name": "stdout",
     "output_type": "stream",
     "text": [
      "acceleration\n"
     ]
    },
    {
     "data": {
      "text/plain": [
       "35.2"
      ]
     },
     "execution_count": 72,
     "metadata": {},
     "output_type": "execute_result"
    }
   ],
   "source": [
    "a = eq(u=1,v=9.8,t=4)\n",
    "a"
   ]
  },
  {
   "cell_type": "code",
   "execution_count": 73,
   "id": "7b74c8ae-f5ca-4f8e-a56a-6a81a24bd46d",
   "metadata": {},
   "outputs": [
    {
     "data": {
      "text/plain": [
       "float"
      ]
     },
     "execution_count": 73,
     "metadata": {},
     "output_type": "execute_result"
    }
   ],
   "source": [
    "type(a)"
   ]
  },
  {
   "cell_type": "code",
   "execution_count": null,
   "id": "b77b45c1-7e25-4800-824a-351ded0d96ec",
   "metadata": {},
   "outputs": [],
   "source": []
  }
 ],
 "metadata": {
  "kernelspec": {
   "display_name": "Python 3 (ipykernel)",
   "language": "python",
   "name": "python3"
  },
  "language_info": {
   "codemirror_mode": {
    "name": "ipython",
    "version": 3
   },
   "file_extension": ".py",
   "mimetype": "text/x-python",
   "name": "python",
   "nbconvert_exporter": "python",
   "pygments_lexer": "ipython3",
   "version": "3.9.12"
  }
 },
 "nbformat": 4,
 "nbformat_minor": 5
}
