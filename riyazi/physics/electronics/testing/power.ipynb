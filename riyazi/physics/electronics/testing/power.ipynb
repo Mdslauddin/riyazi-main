{
 "cells": [
  {
   "cell_type": "code",
   "execution_count": 1,
   "id": "d13658d9-1c01-46ce-a3ef-934dbcc5a451",
   "metadata": {},
   "outputs": [],
   "source": [
    "def power(wattage=0, voltage=0, current=0):\n",
    "    if wattage == 0 :\n",
    "        return voltage*current\n",
    "    elif voltage == 0 :\n",
    "        return wattage/current\n",
    "    elif current == 0:\n",
    "        return wattage/voltage \n",
    "    else:\n",
    "        print(\"Error\")\n",
    "        "
   ]
  },
  {
   "cell_type": "code",
   "execution_count": 2,
   "id": "f6a27c59-c8d7-4e68-9837-a1dd91f747b4",
   "metadata": {},
   "outputs": [
    {
     "name": "stdout",
     "output_type": "stream",
     "text": [
      "value of a  10\n"
     ]
    }
   ],
   "source": [
    "a = 10\n",
    "b= print(\"value of a \",a)"
   ]
  },
  {
   "cell_type": "code",
   "execution_count": 3,
   "id": "6cc6124b-662f-4ab2-9362-00304f7e306c",
   "metadata": {},
   "outputs": [
    {
     "data": {
      "text/plain": [
       "NoneType"
      ]
     },
     "execution_count": 3,
     "metadata": {},
     "output_type": "execute_result"
    }
   ],
   "source": []
  },
  {
   "cell_type": "code",
   "execution_count": 9,
   "id": "2e774696-4ad1-4927-a166-bb57355bbcac",
   "metadata": {},
   "outputs": [
    {
     "ename": "SyntaxError",
     "evalue": "invalid syntax (1805634237.py, line 1)",
     "output_type": "error",
     "traceback": [
      "\u001b[1;36m  Input \u001b[1;32mIn [9]\u001b[1;36m\u001b[0m\n\u001b[1;33m    print \"value of {)a \". format(power(3,2))\u001b[0m\n\u001b[1;37m          ^\u001b[0m\n\u001b[1;31mSyntaxError\u001b[0m\u001b[1;31m:\u001b[0m invalid syntax\n"
     ]
    }
   ],
   "source": []
  },
  {
   "cell_type": "code",
   "execution_count": 5,
   "id": "59147de4-c0c9-4364-9a0f-75cd49f3b226",
   "metadata": {},
   "outputs": [
    {
     "data": {
      "text/plain": [
       "NoneType"
      ]
     },
     "execution_count": 5,
     "metadata": {},
     "output_type": "execute_result"
    }
   ],
   "source": []
  },
  {
   "cell_type": "code",
   "execution_count": null,
   "id": "861c0cf1-5845-4099-be64-c89fe28c49d7",
   "metadata": {},
   "outputs": [],
   "source": []
  }
 ],
 "metadata": {
  "kernelspec": {
   "display_name": "Python 3 (ipykernel)",
   "language": "python",
   "name": "python3"
  },
  "language_info": {
   "codemirror_mode": {
    "name": "ipython",
    "version": 3
   },
   "file_extension": ".py",
   "mimetype": "text/x-python",
   "name": "python",
   "nbconvert_exporter": "python",
   "pygments_lexer": "ipython3",
   "version": "3.9.12"
  }
 },
 "nbformat": 4,
 "nbformat_minor": 5
}
