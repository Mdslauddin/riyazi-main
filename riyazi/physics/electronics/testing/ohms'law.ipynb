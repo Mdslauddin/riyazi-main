{
 "cells": [
  {
   "cell_type": "code",
   "execution_count": 1,
   "id": "bebb4c14-d8f3-4c8f-b706-6a8285884842",
   "metadata": {},
   "outputs": [],
   "source": [
    "\"\"\" ohm's law calculator\"\"\"\n",
    "\n",
    "def ohms_las(voltage=0 , current=0, resistance=0):\n",
    "    if voltage == 0: \n",
    "        return current*resistance\n",
    "    elif current ==0 :\n",
    "        return voltage/resistance\n",
    "    elif resistance == 0:\n",
    "        return voltage /current\n",
    "    else:\n",
    "        return 0"
   ]
  },
  {
   "cell_type": "code",
   "execution_count": null,
   "id": "c9bd093f-0328-43cf-b0bf-f3a2df23ca45",
   "metadata": {},
   "outputs": [],
   "source": []
  }
 ],
 "metadata": {
  "kernelspec": {
   "display_name": "Python 3 (ipykernel)",
   "language": "python",
   "name": "python3"
  },
  "language_info": {
   "codemirror_mode": {
    "name": "ipython",
    "version": 3
   },
   "file_extension": ".py",
   "mimetype": "text/x-python",
   "name": "python",
   "nbconvert_exporter": "python",
   "pygments_lexer": "ipython3",
   "version": "3.9.12"
  }
 },
 "nbformat": 4,
 "nbformat_minor": 5
}
