{
 "cells": [
  {
   "cell_type": "markdown",
   "id": "b8a95efa",
   "metadata": {},
   "source": [
    "# Special Methods"
   ]
  },
  {
   "cell_type": "raw",
   "id": "1b4d5e62",
   "metadata": {},
   "source": [
    "__repr__\n",
    "__str__\n",
    "__cmp__\n",
    "__len__\n",
    "__dell__\n",
    "__init__\n",
    "__add__\n",
    "__sub__\n",
    "__mul__\n",
    "__truediv__\n",
    "__floordiv__\n",
    "__mod__\n",
    "__lt__\n",
    "__gt__\n",
    "__le__\n",
    "__ge__\n",
    "__eq__\n",
    "__ne__"
   ]
  },
  {
   "cell_type": "raw",
   "id": "44236fa9",
   "metadata": {},
   "source": [
    "# Boolean Operrator \n",
    "** __pow__(self,other)\n",
    ">> __rshift__(self,other)\n",
    "<< __lshift__(self,other)\n",
    "& __and__(self,other)\n",
    "| __or__(self,other)\n",
    "^ __xor__(self,other)\n",
    "\n",
    "\n"
   ]
  },
  {
   "cell_type": "raw",
   "id": "7298c9a0",
   "metadata": {},
   "source": [
    "# Inplace Operator\n",
    "-= __ISUB__(SELF,OTHER)\n",
    "+= __IADD__(SELF,OTERH)\n",
    "*= __IMUL__(SELF,OTHER)\n",
    "/= __IDIV__(SELF,OTHER)\n",
    "//= __IFLOORDIV(SELF,OTHER)\n",
    "%= __IMOD__(SELF,OTHER)\n",
    "**= __IPOW__(SELF,OTHER)\n",
    ">>= __IRSHIFT__(SELF,OTHER)\n",
    "<<= __ILSHIFT__(SELF,OTEHR)\n",
    "&= __IAND__(SELF,OTEHR)\n",
    "|= __IOR__(SELF,OTHER)\n",
    "^= __IXOR__(SELF,OTHER)"
   ]
  },
  {
   "cell_type": "code",
   "execution_count": 1,
   "id": "3fbe98d1",
   "metadata": {},
   "outputs": [],
   "source": [
    "class add:\n",
    "    \n",
    "    def __init__(self,a,b):\n",
    "        self.a=a\n",
    "        self.b=b\n",
    "    def __add__(self,other):\n",
    "        return self.a+self.b"
   ]
  },
  {
   "cell_type": "code",
   "execution_count": 4,
   "id": "cc1b3b21",
   "metadata": {},
   "outputs": [
    {
     "name": "stdout",
     "output_type": "stream",
     "text": [
      "<__main__.add object at 0x000002317A046CD0>\n"
     ]
    }
   ],
   "source": [
    "obj1 =add(10,20)\n",
    "print(obj1+obj2)"
   ]
  },
  {
   "cell_type": "code",
   "execution_count": null,
   "id": "fa79bc47",
   "metadata": {},
   "outputs": [],
   "source": []
  },
  {
   "cell_type": "code",
   "execution_count": null,
   "id": "e29b13b7",
   "metadata": {},
   "outputs": [],
   "source": []
  },
  {
   "cell_type": "code",
   "execution_count": null,
   "id": "d2d9103d",
   "metadata": {},
   "outputs": [],
   "source": []
  },
  {
   "cell_type": "code",
   "execution_count": null,
   "id": "6b8eb385",
   "metadata": {},
   "outputs": [],
   "source": []
  },
  {
   "cell_type": "code",
   "execution_count": null,
   "id": "aeac86f7",
   "metadata": {},
   "outputs": [],
   "source": []
  }
 ],
 "metadata": {
  "kernelspec": {
   "display_name": "Python 3 (ipykernel)",
   "language": "python",
   "name": "python3"
  },
  "language_info": {
   "codemirror_mode": {
    "name": "ipython",
    "version": 3
   },
   "file_extension": ".py",
   "mimetype": "text/x-python",
   "name": "python",
   "nbconvert_exporter": "python",
   "pygments_lexer": "ipython3",
   "version": "3.9.12"
  }
 },
 "nbformat": 4,
 "nbformat_minor": 5
}
