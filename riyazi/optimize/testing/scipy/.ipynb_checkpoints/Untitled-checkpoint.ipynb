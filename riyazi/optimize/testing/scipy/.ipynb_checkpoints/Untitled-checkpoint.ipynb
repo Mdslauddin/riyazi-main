{
 "cells": [
  {
   "cell_type": "code",
   "execution_count": 2,
   "id": "45162f38",
   "metadata": {},
   "outputs": [],
   "source": [
    "from numpy import *\n",
    "def f(x):\n",
    "    # Takes a complex-valued vector of size 2 and outputs a complex-valued vector of size 2\n",
    "    return [x[0]-3*x[1]+1j+2, x[0]+x[1]]  # <-- for example\n",
    "\n",
    "def real_f(x1):\n",
    "    # converts a real-valued vector of size 4 to a complex-valued vector of size 2\n",
    "    # outputs a real-valued vector of size 4\n",
    "    x = [x1[0]+1j*x1[1],x1[2]+1j*x1[3]]\n",
    "    actual_f = f(x)\n",
    "    return [real(actual_f[0]),imag(actual_f[0]),real(actual_f[1]),imag(actual_f[1])]"
   ]
  },
  {
   "cell_type": "code",
   "execution_count": 5,
   "id": "78d8af34",
   "metadata": {},
   "outputs": [
    {
     "name": "stderr",
     "output_type": "stream",
     "text": [
      "C:\\Users\\md slauddin\\AppData\\Local\\Temp\\ipykernel_3296\\519768430.py:10: RuntimeWarning: invalid value encountered in sqrt\n",
      "  return ((T * musun ** 2 / (2 * np.pi)) ** (1 / 3) * np.sqrt(1 - x ** 2)\n",
      "C:\\Users\\md slauddin\\AppData\\Local\\Temp\\ipykernel_3296\\519768430.py:11: RuntimeWarning: invalid value encountered in sqrt\n",
      "  - np.sqrt(.5 * musun ** 2 / e * (1 - x ** 2)))\n"
     ]
    },
    {
     "data": {
      "text/plain": [
       "array([0.01])"
      ]
     },
     "execution_count": 5,
     "metadata": {},
     "output_type": "execute_result"
    }
   ],
   "source": [
    "import numpy as np\n",
    "from scipy.optimize import fsolve\n",
    "\n",
    "musun = 132712000000\n",
    "T = 365.25 * 86400 * 2 / 3\n",
    "e = 581.2392124070273\n",
    "\n",
    "\n",
    "def f(x):\n",
    "    return ((T * musun ** 2 / (2 * np.pi)) ** (1 / 3) * np.sqrt(1 - x ** 2)\n",
    "        - np.sqrt(.5 * musun ** 2 / e * (1 - x ** 2)))\n",
    "\n",
    "\n",
    "x = fsolve(f, 0.01)\n",
    "f(x)\n",
    "\n",
    "x"
   ]
  },
  {
   "cell_type": "markdown",
   "id": "d030f807",
   "metadata": {},
   "source": [
    "### Finding complex roots from set of non-linear equations in python"
   ]
  },
  {
   "cell_type": "code",
   "execution_count": 6,
   "id": "dd1cbd5d",
   "metadata": {},
   "outputs": [
    {
     "name": "stdout",
     "output_type": "stream",
     "text": [
      "[-1.02986653]\n"
     ]
    }
   ],
   "source": [
    "from math import cos\n",
    "import scipy.optimize\n",
    "def func(x):\n",
    "    y = x + 2*cos(x)\n",
    "    return y\n",
    "y = scipy.optimize.fsolve(func,0.2)\n",
    "print (y)"
   ]
  },
  {
   "cell_type": "code",
   "execution_count": 7,
   "id": "a51aa3bc",
   "metadata": {},
   "outputs": [
    {
     "name": "stdout",
     "output_type": "stream",
     "text": [
      "[6.49943036 1.09102209]\n"
     ]
    }
   ],
   "source": [
    "from math import cos\n",
    "import scipy.optimize\n",
    "def func(x):\n",
    "        y = [x[1]*x[0] - x[1] - 6, x[0]*cos(x[1]) - 3]\n",
    "        return y\n",
    "x0 = scipy.optimize.fsolve(func,[0, 2])\n",
    "print(x0)"
   ]
  },
  {
   "cell_type": "code",
   "execution_count": 8,
   "id": "03df5fdf",
   "metadata": {},
   "outputs": [
    {
     "name": "stdout",
     "output_type": "stream",
     "text": [
      "[1.57079633]\n"
     ]
    }
   ],
   "source": [
    "from math import sin\n",
    "import scipy.optimize\n",
    "def func(y):\n",
    "        x= 4*sin(y) - 4\n",
    "        return x\n",
    "x= scipy.optimize.fsolve(func,0.3)\n",
    "print (x)"
   ]
  },
  {
   "cell_type": "code",
   "execution_count": 1,
   "id": "0eee9623",
   "metadata": {},
   "outputs": [
    {
     "name": "stdout",
     "output_type": "stream",
     "text": [
      "The roots on the interval [-3.000000, 3.000000] are:\n",
      "-0.71239\n",
      "-0.0\n",
      "2.4292\n",
      "\n",
      "Done\n"
     ]
    }
   ],
   "source": [
    "import math\n",
    "\n",
    "def rootsearch(f,a,b,dx):\n",
    "    x1 = a; f1 = f(a)\n",
    "    x2 = a + dx; f2 = f(x2)\n",
    "    while f1*f2 > 0.0:\n",
    "        if x1 >= b:\n",
    "            return None,None\n",
    "        x1 = x2; f1 = f2\n",
    "        x2 = x1 + dx; f2 = f(x2)\n",
    "    return x1,x2\n",
    "\n",
    "def bisect(f,x1,x2,switch=0,epsilon=1.0e-9):\n",
    "    f1 = f(x1)\n",
    "    if f1 == 0.0:\n",
    "        return x1\n",
    "    f2 = f(x2)\n",
    "    if f2 == 0.0:\n",
    "        return x2\n",
    "    if f1*f2 > 0.0:\n",
    "        print('Root is not bracketed')\n",
    "        return None\n",
    "    n = int(math.ceil(math.log(abs(x2 - x1)/epsilon)/math.log(2.0)))\n",
    "    for i in range(n):\n",
    "        x3 = 0.5*(x1 + x2); f3 = f(x3)\n",
    "        if (switch == 1) and (abs(f3) >abs(f1)) and (abs(f3) > abs(f2)):\n",
    "            return None\n",
    "        if f3 == 0.0:\n",
    "            return x3\n",
    "        if f2*f3 < 0.0:\n",
    "            x1 = x3\n",
    "            f1 = f3\n",
    "        else:\n",
    "            x2 =x3\n",
    "            f2 = f3\n",
    "    return (x1 + x2)/2.0\n",
    "\n",
    "def roots(f, a, b, eps=1e-6):\n",
    "    print ('The roots on the interval [%f, %f] are:' % (a,b))\n",
    "    while 1:\n",
    "        x1,x2 = rootsearch(f,a,b,eps)\n",
    "        if x1 != None:\n",
    "            a = x2\n",
    "            root = bisect(f,x1,x2,1)\n",
    "            if root != None:\n",
    "                pass\n",
    "                print (round(root,-int(math.log(eps, 10))))\n",
    "        else:\n",
    "            print ('\\nDone')\n",
    "            break\n",
    "\n",
    "f=lambda x:x*math.cos(x-4)\n",
    "roots(f, -3, 3)"
   ]
  },
  {
   "cell_type": "code",
   "execution_count": null,
   "id": "0fedd1b4",
   "metadata": {},
   "outputs": [],
   "source": []
  }
 ],
 "metadata": {
  "kernelspec": {
   "display_name": "Python 3 (ipykernel)",
   "language": "python",
   "name": "python3"
  },
  "language_info": {
   "codemirror_mode": {
    "name": "ipython",
    "version": 3
   },
   "file_extension": ".py",
   "mimetype": "text/x-python",
   "name": "python",
   "nbconvert_exporter": "python",
   "pygments_lexer": "ipython3",
   "version": "3.9.12"
  }
 },
 "nbformat": 4,
 "nbformat_minor": 5
}
