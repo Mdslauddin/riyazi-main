{
 "cells": [
  {
   "cell_type": "markdown",
   "id": "a8bc0af8",
   "metadata": {},
   "source": [
    "# Optimization\n",
    "### Scalar functions optimization\n",
    "### Local (multivariate) optimization\n",
    "\n",
    "# Global optimization\n",
    "\n",
    "# Least-squares and curve fitting\n",
    "\n",
    "### Nonlinear least-squares\n",
    "### Linear least-squares\n",
    "### Curve fitting\n",
    "\n",
    "\n",
    "# Root finding\n",
    "\n",
    "### Scalar functions\n",
    "\n",
    "# Multidimensional\n",
    "\n",
    "\n",
    "# Linear programming / MILP\n",
    "\n",
    "\n",
    "# Assignment problems\n",
    "\n",
    "\n",
    "# Utilities\n",
    "\n",
    "### Finite-difference approximation\n",
    "### Line search\n",
    "### Hessian approximation\n",
    "### Benchmark problems\n",
    "# Legacy functions\n",
    "## Optimization\n",
    "### Least-squares\n",
    "### Root finding\n"
   ]
  },
  {
   "cell_type": "code",
   "execution_count": null,
   "id": "c4532ac6",
   "metadata": {},
   "outputs": [],
   "source": []
  }
 ],
 "metadata": {
  "kernelspec": {
   "display_name": "Python 3 (ipykernel)",
   "language": "python",
   "name": "python3"
  },
  "language_info": {
   "codemirror_mode": {
    "name": "ipython",
    "version": 3
   },
   "file_extension": ".py",
   "mimetype": "text/x-python",
   "name": "python",
   "nbconvert_exporter": "python",
   "pygments_lexer": "ipython3",
   "version": "3.9.12"
  }
 },
 "nbformat": 4,
 "nbformat_minor": 5
}
