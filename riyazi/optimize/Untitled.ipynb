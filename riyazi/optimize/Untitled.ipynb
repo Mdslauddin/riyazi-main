{
 "cells": [
  {
   "cell_type": "markdown",
   "id": "07bf4c48",
   "metadata": {},
   "source": [
    "https://en.wikipedia.org/wiki/Quine%E2%80%93McCluskey_algorithm"
   ]
  },
  {
   "cell_type": "code",
   "execution_count": 1,
   "id": "08f5df16",
   "metadata": {},
   "outputs": [],
   "source": [
    "import scipy.optimize as sop"
   ]
  },
  {
   "cell_type": "code",
   "execution_count": 3,
   "id": "abddb679",
   "metadata": {},
   "outputs": [
    {
     "ename": "TypeError",
     "evalue": "anderson() missing 2 required positional arguments: 'F' and 'xin'",
     "output_type": "error",
     "traceback": [
      "\u001b[1;31m---------------------------------------------------------------------------\u001b[0m",
      "\u001b[1;31mTypeError\u001b[0m                                 Traceback (most recent call last)",
      "Input \u001b[1;32mIn [3]\u001b[0m, in \u001b[0;36m<cell line: 1>\u001b[1;34m()\u001b[0m\n\u001b[1;32m----> 1\u001b[0m \u001b[43msop\u001b[49m\u001b[38;5;241;43m.\u001b[39;49m\u001b[43manderson\u001b[49m\u001b[43m(\u001b[49m\u001b[43m)\u001b[49m\n",
      "\u001b[1;31mTypeError\u001b[0m: anderson() missing 2 required positional arguments: 'F' and 'xin'"
     ]
    }
   ],
   "source": [
    "sop.anderson()"
   ]
  },
  {
   "cell_type": "code",
   "execution_count": null,
   "id": "62525156",
   "metadata": {},
   "outputs": [],
   "source": []
  }
 ],
 "metadata": {
  "kernelspec": {
   "display_name": "Python 3 (ipykernel)",
   "language": "python",
   "name": "python3"
  },
  "language_info": {
   "codemirror_mode": {
    "name": "ipython",
    "version": 3
   },
   "file_extension": ".py",
   "mimetype": "text/x-python",
   "name": "python",
   "nbconvert_exporter": "python",
   "pygments_lexer": "ipython3",
   "version": "3.9.12"
  }
 },
 "nbformat": 4,
 "nbformat_minor": 5
}
