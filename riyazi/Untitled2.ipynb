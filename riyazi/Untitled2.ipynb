{
 "cells": [
  {
   "cell_type": "code",
   "execution_count": null,
   "id": "ae1fbc98",
   "metadata": {},
   "outputs": [],
   "source": [
    "import Module as m"
   ]
  },
  {
   "cell_type": "code",
   "execution_count": null,
   "id": "92a7fb06",
   "metadata": {},
   "outputs": [],
   "source": [
    "m.add(2,3,4,5,6)"
   ]
  },
  {
   "cell_type": "code",
   "execution_count": null,
   "id": "9fbc9a1b",
   "metadata": {},
   "outputs": [],
   "source": [
    "m.add(2,3,4,5,6,6,7,8,9,0,6,5,4,3)"
   ]
  },
  {
   "cell_type": "code",
   "execution_count": null,
   "id": "5109c5d4",
   "metadata": {},
   "outputs": [],
   "source": []
  }
 ],
 "metadata": {
  "kernelspec": {
   "display_name": "Python 3 (ipykernel)",
   "language": "python",
   "name": "python3"
  },
  "language_info": {
   "codemirror_mode": {
    "name": "ipython",
    "version": 3
   },
   "file_extension": ".py",
   "mimetype": "text/x-python",
   "name": "python",
   "nbconvert_exporter": "python",
   "pygments_lexer": "ipython3",
   "version": "3.9.12"
  }
 },
 "nbformat": 4,
 "nbformat_minor": 5
}
